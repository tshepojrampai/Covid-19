{
 "cells": [
  {
   "cell_type": "code",
   "execution_count": 1,
   "metadata": {},
   "outputs": [
    {
     "data": {
      "text/html": [
       "        <script type=\"text/javascript\">\n",
       "        window.PlotlyConfig = {MathJaxConfig: 'local'};\n",
       "        if (window.MathJax) {MathJax.Hub.Config({SVG: {font: \"STIX-Web\"}});}\n",
       "        if (typeof require !== 'undefined') {\n",
       "        require.undef(\"plotly\");\n",
       "        requirejs.config({\n",
       "            paths: {\n",
       "                'plotly': ['https://cdn.plot.ly/plotly-latest.min']\n",
       "            }\n",
       "        });\n",
       "        require(['plotly'], function(Plotly) {\n",
       "            window._Plotly = Plotly;\n",
       "        });\n",
       "        }\n",
       "        </script>\n",
       "        "
      ]
     },
     "metadata": {},
     "output_type": "display_data"
    }
   ],
   "source": [
    "import requests\n",
    "from pandas.io.json import json_normalize\n",
    "import dash\n",
    "import dash_table\n",
    "import dash_core_components as dcc\n",
    "import dash_html_components as html\n",
    "import pandas as pd\n",
    "import numpy as np\n",
    "import seaborn as sns\n",
    "import matplotlib.pyplot as plt\n",
    "import plotly.graph_objects as go\n",
    "from dash.dependencies import Input, Output\n",
    "from plotly.subplots import make_subplots\n",
    "\n",
    "\n",
    "#Geo map of Cases per country globally\n",
    "from plotly.offline import download_plotlyjs, init_notebook_mode, plot, iplot\n",
    "import plotly as py\n",
    "import plotly.graph_objs as go\n",
    "init_notebook_mode(connected=True)\n"
   ]
  },
  {
   "cell_type": "code",
   "execution_count": 2,
   "metadata": {},
   "outputs": [
    {
     "name": "stderr",
     "output_type": "stream",
     "text": [
      "/home/tshepo/.local/lib/python3.6/site-packages/ipykernel_launcher.py:5: FutureWarning:\n",
      "\n",
      "pandas.io.json.json_normalize is deprecated, use pandas.json_normalize instead\n",
      "\n"
     ]
    },
    {
     "data": {
      "text/html": [
       "<div>\n",
       "<style scoped>\n",
       "    .dataframe tbody tr th:only-of-type {\n",
       "        vertical-align: middle;\n",
       "    }\n",
       "\n",
       "    .dataframe tbody tr th {\n",
       "        vertical-align: top;\n",
       "    }\n",
       "\n",
       "    .dataframe thead th {\n",
       "        text-align: right;\n",
       "    }\n",
       "</style>\n",
       "<table border=\"1\" class=\"dataframe\">\n",
       "  <thead>\n",
       "    <tr style=\"text-align: right;\">\n",
       "      <th></th>\n",
       "      <th>Country</th>\n",
       "      <th>CountryCode</th>\n",
       "      <th>NewConfirmed</th>\n",
       "      <th>TotalConfirmed</th>\n",
       "      <th>NewDeaths</th>\n",
       "      <th>TotalDeaths</th>\n",
       "      <th>NewRecovered</th>\n",
       "      <th>TotalRecovered</th>\n",
       "      <th>Date</th>\n",
       "    </tr>\n",
       "  </thead>\n",
       "  <tbody>\n",
       "    <tr>\n",
       "      <th>235</th>\n",
       "      <td>United States of America</td>\n",
       "      <td>US</td>\n",
       "      <td>33253</td>\n",
       "      <td>816963</td>\n",
       "      <td>2706</td>\n",
       "      <td>44781</td>\n",
       "      <td>2875</td>\n",
       "      <td>75204</td>\n",
       "      <td>2020-04-22T10:08:24Z</td>\n",
       "    </tr>\n",
       "    <tr>\n",
       "      <th>207</th>\n",
       "      <td>Spain</td>\n",
       "      <td>ES</td>\n",
       "      <td>3968</td>\n",
       "      <td>204178</td>\n",
       "      <td>430</td>\n",
       "      <td>21282</td>\n",
       "      <td>1927</td>\n",
       "      <td>82514</td>\n",
       "      <td>2020-04-22T10:08:24Z</td>\n",
       "    </tr>\n",
       "    <tr>\n",
       "      <th>108</th>\n",
       "      <td>Italy</td>\n",
       "      <td>IT</td>\n",
       "      <td>2729</td>\n",
       "      <td>183957</td>\n",
       "      <td>534</td>\n",
       "      <td>24648</td>\n",
       "      <td>2723</td>\n",
       "      <td>51600</td>\n",
       "      <td>2020-04-22T10:08:24Z</td>\n",
       "    </tr>\n",
       "    <tr>\n",
       "      <th>74</th>\n",
       "      <td>France</td>\n",
       "      <td>FR</td>\n",
       "      <td>2817</td>\n",
       "      <td>159297</td>\n",
       "      <td>537</td>\n",
       "      <td>20829</td>\n",
       "      <td>1783</td>\n",
       "      <td>39819</td>\n",
       "      <td>2020-04-22T10:08:24Z</td>\n",
       "    </tr>\n",
       "    <tr>\n",
       "      <th>81</th>\n",
       "      <td>Germany</td>\n",
       "      <td>DE</td>\n",
       "      <td>1226</td>\n",
       "      <td>148291</td>\n",
       "      <td>171</td>\n",
       "      <td>5033</td>\n",
       "      <td>3700</td>\n",
       "      <td>95200</td>\n",
       "      <td>2020-04-22T10:08:24Z</td>\n",
       "    </tr>\n",
       "  </tbody>\n",
       "</table>\n",
       "</div>"
      ],
      "text/plain": [
       "                      Country CountryCode  NewConfirmed  TotalConfirmed  \\\n",
       "235  United States of America          US         33253          816963   \n",
       "207                     Spain          ES          3968          204178   \n",
       "108                     Italy          IT          2729          183957   \n",
       "74                     France          FR          2817          159297   \n",
       "81                    Germany          DE          1226          148291   \n",
       "\n",
       "     NewDeaths  TotalDeaths  NewRecovered  TotalRecovered  \\\n",
       "235       2706        44781          2875           75204   \n",
       "207        430        21282          1927           82514   \n",
       "108        534        24648          2723           51600   \n",
       "74         537        20829          1783           39819   \n",
       "81         171         5033          3700           95200   \n",
       "\n",
       "                     Date  \n",
       "235  2020-04-22T10:08:24Z  \n",
       "207  2020-04-22T10:08:24Z  \n",
       "108  2020-04-22T10:08:24Z  \n",
       "74   2020-04-22T10:08:24Z  \n",
       "81   2020-04-22T10:08:24Z  "
      ]
     },
     "execution_count": 2,
     "metadata": {},
     "output_type": "execute_result"
    }
   ],
   "source": [
    "url = 'https://api.covid19api.com/summary'\n",
    "r = requests.get(url)\n",
    "dictr = r.json()\n",
    "header = dictr['Countries']\n",
    "df = json_normalize(header)\n",
    "df = df.drop(df.index[[0,224]])\n",
    "df = df.drop(columns = 'Slug')\n",
    "df = df.sort_values(by=['TotalConfirmed'], ascending=False)\n",
    "df.head()"
   ]
  },
  {
   "cell_type": "code",
   "execution_count": 3,
   "metadata": {},
   "outputs": [],
   "source": [
    "#Summing per column\n",
    "tot_cases = df.TotalConfirmed.sum()\n",
    "nw_cases = df.NewConfirmed.sum()\n",
    "tot_deaths = df.TotalDeaths.sum()\n",
    "new_deaths = df.NewDeaths.sum()\n",
    "tot_recover = df.TotalRecovered.sum()\n",
    "new_recover = df.NewRecovered.sum()\n",
    "diff = tot_cases - nw_cases\n",
    "diff2 = tot_recover - new_recover\n",
    "diff3 = tot_deaths - new_deaths \n",
    "\n",
    "#Separating columns\n",
    "\n",
    "#Corona  cases: Total and New\n",
    "df_tot_cases = df.loc[:,['Country','TotalConfirmed']].sort_values(by='TotalConfirmed', ascending=False)\n",
    "df_new_cases = df.loc[:,['Country','NewConfirmed']]\n",
    "\n",
    "#Death Cases: Total and New \n",
    "df_tot_death = df.loc[:,['Country','TotalDeaths']]\n",
    "df_new_death = df.loc[:,['Country','NewDeaths']]\n",
    "\n",
    "#Recovery cases: Total and new\n",
    "df_tot_recover = df.loc[:,['Country','TotalRecovered']]\n",
    "df_new_recover = df.loc[:,['Country','NewRecovered']]\n",
    "                      \n",
    "#Sorting cases by total                     \n",
    "df_cases = df_tot_cases.merge(df_new_cases, on='Country').sort_values(by=['TotalConfirmed'],\n",
    "                                                                      ascending=False)\n",
    "df_death = df_tot_death.merge(df_new_death, on='Country').sort_values(by=['TotalDeaths'],\n",
    "                                                                      ascending=False)\n",
    "df_recover = df_tot_recover.merge(df_new_recover, on='Country').sort_values(by=['TotalRecovered'], \n",
    "                                                                            ascending=False)\n"
   ]
  },
  {
   "cell_type": "code",
   "execution_count": 4,
   "metadata": {},
   "outputs": [],
   "source": [
    "# style_table = {\n",
    "#     'maxHeight': '100ex',\n",
    "#     'overflowY': 'scroll',\n",
    "#     'width': '30%',\n",
    "#     'minWidth': '30%',\n",
    "# }\n",
    "style_cell = {\n",
    "    'fontFamily': 'Open Sans',\n",
    "    'textAlign': 'center',\n",
    "    'height': '30px',\n",
    "    'padding': '10px 22px',\n",
    "    'whiteSpace': 'inherit',\n",
    "    'overflow': 'hidden',\n",
    "                'textOverflow': 'ellipsis',\n",
    "}\n",
    "style_cell_conditional = [\n",
    "    {\n",
    "        'if': {'column_id': 'State'},\n",
    "        'textAlign': 'left'\n",
    "    },\n",
    "]\n",
    "style_header = {\n",
    "    'fontWeight': 'bold',\n",
    "    'backgroundColor': \"#3D9970\",\n",
    "    'fontSize': '16px'\n",
    "}\n",
    "style_data_conditional = [\n",
    "    {\n",
    "        'if': {'row_index': 'odd'},\n",
    "        'backgroundColor': 'rgb(248, 248, 248)'\n",
    "    }]\n",
    "style_table = {\n",
    "    'maxHeight': '70ex',\n",
    "    'overflowY': 'scroll',\n",
    "    'width': '100%',\n",
    "    'minWidth': '100%',\n",
    "}"
   ]
  },
  {
   "cell_type": "code",
   "execution_count": 5,
   "metadata": {},
   "outputs": [],
   "source": [
    "a = df.TotalConfirmed.sum()-df.NewConfirmed.sum()"
   ]
  },
  {
   "cell_type": "code",
   "execution_count": null,
   "metadata": {},
   "outputs": [],
   "source": []
  },
  {
   "cell_type": "code",
   "execution_count": 6,
   "metadata": {},
   "outputs": [],
   "source": [
    "# # Style sheet\n",
    "# external_stylesheets = ['https://codepen.io/chriddyp/pen/bWLwgP.css']\n",
    "\n",
    "# # App\n",
    "# app = dash.Dash(__name__, external_stylesheets=external_stylesheets)\n",
    "\n",
    "# app.layout = html.Div(children=[\n",
    "#         #header\n",
    "    \n",
    "#     html.Div([\n",
    "#         html.Div([\n",
    "#             html.Img(src=\"https://dcassetcdn.com/design_img/3666062/781819/781819_21156990_3666062_e336b60a_image.png\",className='four columns')\n",
    "            \n",
    "#         ], className=\"four columns\"),\n",
    "        \n",
    "\n",
    "#         html.Div([\n",
    "#             html.H3('Latest Covid 19 Update', style={\n",
    "#                                 'fontFamily': 'Open Sans',\n",
    "#                                 'textAlign': 'center',\n",
    "#                             }),\n",
    "             \n",
    "#         ], className=\"four columns\"),\n",
    "        \n",
    "#         html.Div([\n",
    "#             html.H3('#StayAtHome', style={\n",
    "#                                 'fontFamily': 'Open Sans',\n",
    "#                                 'textAlign': 'right',\n",
    "#                             }),\n",
    "            \n",
    "#         ], className=\"four columns\")\n",
    "#     ], className=\"row\"),\n",
    "    \n",
    "#     dcc.Tabs(id='tabs-example', value='tab', children=[\n",
    "#         dcc.Tab(label='Global Map', value='tab-1'),\n",
    "#         dcc.Tab(label='South African cases', value='tab-2'),\n",
    "#         dcc.Tab(label='Analysis', value='tab-3'),\n",
    "#     ]),\n",
    "#     html.Div(id='tabs-example-content')\n",
    "# ])\n",
    "\n",
    "\n",
    "\n",
    "\n",
    "# def render_content(tab):\n",
    "#     '''Display the table and the graph sideby\n",
    "#     side when the respective tab is selected'''\n",
    "\n",
    "#     if tab == 'tab-1':\n",
    "#         return html.Div([\n",
    "#             html.Div([\n",
    "       \n",
    "#                 html.H3('band', style={\n",
    "#                                     'fontFamily': 'Open Sans',\n",
    "#                                     'textAlign': 'center',\n",
    "#                                 })\n",
    "\n",
    "#         ], className=\"row\"),\n",
    "\n",
    "#         #VISUALISATIONS\n",
    "#          html.Div([\n",
    "#             html.Div([\n",
    "#                 html.H3('visualisation'),\n",
    "#                 html.Div([\n",
    "#                     html.Div(\n",
    "#                         [\n",
    "#                             html.P(\"Total confirmed cases\"),\n",
    "#                             html.H6(\n",
    "#                                 id=\"well_text\",\n",
    "#                                 className=\"info_text\"\n",
    "#                             )\n",
    "#                         ],\n",
    "#                         id=\"wells\",\n",
    "#                         className=\"pretty_container\"\n",
    "#                     )\n",
    "#                 ], className=\"row\"),\n",
    "#                 html.Div([\n",
    "\n",
    "#                 html.H3('Cases by country'),\n",
    "#                     dash_table.DataTable(\n",
    "#                             id='table',\n",
    "#                             data=df_df_tot_cases.to_dict(\"rows\"),\n",
    "#                             columns=[{\"name\": i, \"id\": i}\n",
    "#                                      for i in df_tot_cases.columns],\n",
    "#                             style_table=style_table,\n",
    "#                             style_cell=style_cell,\n",
    "#                             style_data_conditional=style_data_conditional,\n",
    "#                             style_header=style_header,\n",
    "#                             style_cell_conditional=style_cell_conditional,\n",
    "#                         )\n",
    "\n",
    "#         ], className=\"row\"),\n",
    "\n",
    "#             ], className=\"two columns\"),\n",
    "#              html.Div([\n",
    "#                 html.H3('visualisation'),\n",
    "#                 html.Div([\n",
    "\n",
    "#                 html.H3('World Map')\n",
    "\n",
    "#         ], className=\"row\"),\n",
    "\n",
    "#             ], className=\"six columns\"),\n",
    "\n",
    "#             html.Div([\n",
    "#                 html.H3('visualisation'),\n",
    "\n",
    "\n",
    "#                 html.Div([\n",
    "#                     html.Div([\n",
    "#                         html.H3('Total Recoveries'),\n",
    "\n",
    "#                         ], className=\"six columns\"),\n",
    "\n",
    "#                     html.Div([\n",
    "#                         html.H3('Total Deaths'),\n",
    "\n",
    "#                         ], className=\"six columns\"),\n",
    "#         ], className=\"row\")\n",
    "\n",
    "#             ], className=\"four columns\"),\n",
    "#         ], className=\"row\"),\n",
    "\n",
    "#         #fOOTER\n",
    "#          html.Div([\n",
    "#             html.Div([\n",
    "#                 html.H3('Footer'),\n",
    "\n",
    "#             ], className=\"six columns\"),\n",
    "\n",
    "#             html.Div([\n",
    "#                 html.H3('Footer'),\n",
    "\n",
    "#             ], className=\"six columns\"),\n",
    "#         ], className=\"row\")\n",
    "#         ])\n",
    "        \n",
    " \n",
    "\n",
    "    \n",
    "    \n",
    "        \n",
    "    \n",
    "    \n",
    "    \n",
    "    \n",
    "    \n",
    "    \n",
    "    \n",
    "    \n",
    "    \n",
    "    \n",
    "    \n",
    "    \n",
    "    \n",
    "    \n",
    "    \n",
    "    \n",
    "    \n",
    "    \n",
    "#     html.Div([\n",
    "#             html.Div([\n",
    "#                 html.Div([\n",
    "#                     html.H1(\n",
    "#                         children='Table',\n",
    "#                         style={\n",
    "#                             'textAlign': 'center',\n",
    "#                             'color': 'green'\n",
    "#                         }), dash_table.DataTable(\n",
    "#                         id='table',\n",
    "#                         data=df_sum_state.to_dict(\"rows\"),\n",
    "#                         columns=[{\"name\": i, \"id\": i}\n",
    "#                                  for i in df_sum_state.columns],\n",
    "#                         style_table=style_table,\n",
    "#                         style_cell=style_cell,\n",
    "#                         style_data_conditional=style_data_conditional,\n",
    "#                         style_header=style_header,\n",
    "#                         style_cell_conditional=style_cell_conditional,\n",
    "#                     )\n",
    "#                 ], className=\"four columns\"),\n",
    "#                 html.Div([\n",
    "#                     html.H3('Fires per state in Brazil',\n",
    "#                             style={\n",
    "#                                 'textAlign': 'center',\n",
    "#                                 'color': 'green'}),\n",
    "#                     dcc.Graph(\n",
    "#                         id='Graph1',\n",
    "#                         figure={\n",
    "#                             'data': [\n",
    "#                                 {'x': df.state, 'y': df.number, 'type': 'bar', 'name': 'state', 'marker': {'color': [\n",
    "#                                     '#b50000', '#e63535', '#fa8989'], 'size': 9, 'line': {'width': 1, 'color': 'orange'}}},\n",
    "#                             ]\n",
    "#                         }\n",
    "#                     )\n",
    "#                 ], className=\"eight columns\"),\n",
    "#             ], className=\"row\")\n",
    "#         ])\n",
    "\n",
    "\n",
    "\n",
    "# if __name__ == '__main__':\n",
    "#     app.run_server()\n"
   ]
  },
  {
   "cell_type": "code",
   "execution_count": 7,
   "metadata": {},
   "outputs": [],
   "source": [
    "# # layout\n",
    "# app.layout = html.Div([\n",
    "#       #Band\n",
    "#      html.Div([\n",
    "       \n",
    "#             html.H3('band', style={\n",
    "#                                 'fontFamily': 'Open Sans',\n",
    "#                                 'textAlign': 'center',\n",
    "#                             })\n",
    "         \n",
    "#     ], className=\"row\"),\n",
    "    \n",
    "#     #VISUALISATIONS\n",
    "#      html.Div([\n",
    "#         html.Div([\n",
    "#             html.H3('visualisation'),\n",
    "#             html.Div([\n",
    "       \n",
    "#                 html.H3('Total confirmed cases')\n",
    "         \n",
    "#             ], className=\"row\"),\n",
    "#             html.Div([\n",
    "       \n",
    "#             html.H3('Cases by country')\n",
    "         \n",
    "#     ], className=\"row\"),\n",
    "            \n",
    "#         ], className=\"two columns\"),\n",
    "#          html.Div([\n",
    "#             html.H3('visualisation'),\n",
    "#             html.Div([\n",
    "       \n",
    "#             html.H3('World Map')\n",
    "         \n",
    "#     ], className=\"row\"),\n",
    "            \n",
    "#         ], className=\"six columns\"),\n",
    "\n",
    "#         html.Div([\n",
    "#             html.H3('visualisation'),\n",
    "            \n",
    "            \n",
    "#             html.Div([\n",
    "#                 html.Div([\n",
    "#                     html.H3('Total Recoveries'),\n",
    "                    \n",
    "#                     ], className=\"six columns\"),\n",
    "\n",
    "#                 html.Div([\n",
    "#                     html.H3('Total Deaths'),\n",
    "\n",
    "#                     ], className=\"six columns\"),\n",
    "#     ], className=\"row\")\n",
    "            \n",
    "#         ], className=\"four columns\"),\n",
    "#     ], className=\"row\"),\n",
    "    \n",
    "#     #fOOTER\n",
    "#      html.Div([\n",
    "#         html.Div([\n",
    "#             html.H3('Footer'),\n",
    "            \n",
    "#         ], className=\"six columns\"),\n",
    "\n",
    "#         html.Div([\n",
    "#             html.H3('Footer'),\n",
    "            \n",
    "#         ], className=\"six columns\"),\n",
    "#     ], className=\"row\"),\n",
    "    \n",
    "# ])\n",
    "\n",
    "\n",
    "\n",
    "\n"
   ]
  },
  {
   "cell_type": "code",
   "execution_count": 8,
   "metadata": {},
   "outputs": [],
   "source": [
    "# #header\n",
    "    \n",
    "#     html.Div([\n",
    "#         html.Div([\n",
    "#             html.H3('Header'),\n",
    "            \n",
    "#         ], className=\"four columns\"),\n",
    "        \n",
    "\n",
    "#         html.Div([\n",
    "#             html.H3('header'),\n",
    "             \n",
    "#         ], className=\"four columns\"),\n",
    "        \n",
    "#         html.Div([\n",
    "#             html.H3('header'),\n",
    "            \n",
    "#         ], className=\"four columns\")\n",
    "#     ], className=\"row\"),\n",
    "    \n",
    "        \n",
    "#     #NavBar\n",
    "       \n",
    "#      html.Div([\n",
    "#         html.Div([\n",
    "#             html.H3('nav-bar'),\n",
    "           \n",
    "#         ], className=\"four columns\"),\n",
    "#         html.Div([\n",
    "#             html.H3('nav-bar'),\n",
    "           \n",
    "#         ], className=\"four columns\"),\n",
    "\n",
    "#         html.Div([\n",
    "#             html.H3('nav-bar'),\n",
    "            \n",
    "#         ], className=\"four columns\"),\n",
    "#     ], className=\"row\"),\n",
    "    \n",
    "#       #Band\n",
    "#      html.Div([\n",
    "       \n",
    "#             html.H3('band')\n",
    "         \n",
    "#     ], className=\"row\"),\n",
    "    \n",
    "#     #VISUALISATIONS\n",
    "#      html.Div([\n",
    "#         html.Div([\n",
    "#             html.H3('visualisation'),\n",
    "#             html.Div([\n",
    "       \n",
    "#                 html.H3('Total confirmed cases')\n",
    "         \n",
    "#             ], className=\"row\"),\n",
    "#             html.Div([\n",
    "       \n",
    "#             html.H3('Cases by country')\n",
    "         \n",
    "#     ], className=\"row\"),\n",
    "            \n",
    "#         ], className=\"two columns\"),\n",
    "#          html.Div([\n",
    "#             html.H3('visualisation'),\n",
    "#             html.Div([\n",
    "       \n",
    "#             html.H3('World Map')\n",
    "         \n",
    "#     ], className=\"row\"),\n",
    "            \n",
    "#         ], className=\"six columns\"),\n",
    "\n",
    "#         html.Div([\n",
    "#             html.H3('visualisation'),\n",
    "            \n",
    "            \n",
    "#             html.Div([\n",
    "#                 html.Div([\n",
    "#                     html.H3('Total Recoveries'),\n",
    "                    \n",
    "#                     ], className=\"six columns\"),\n",
    "\n",
    "#                 html.Div([\n",
    "#                     html.H3('Total Deaths'),\n",
    "\n",
    "#                     ], className=\"six columns\"),\n",
    "#     ], className=\"row\")\n",
    "            \n",
    "#         ], className=\"four columns\"),\n",
    "#     ], className=\"row\"),\n",
    "    \n",
    "#     #fOOTER\n",
    "#      html.Div([\n",
    "#         html.Div([\n",
    "#             html.H3('Footer'),\n",
    "            \n",
    "#         ], className=\"six columns\"),\n",
    "\n",
    "#         html.Div([\n",
    "#             html.H3('Footer'),\n",
    "            \n",
    "#         ], className=\"six columns\"),\n",
    "#     ], className=\"row\"),\n"
   ]
  },
  {
   "cell_type": "markdown",
   "metadata": {},
   "source": [
    "### Dashboard pages template"
   ]
  },
  {
   "cell_type": "code",
   "execution_count": 9,
   "metadata": {},
   "outputs": [],
   "source": [
    "# # Style sheet\n",
    "# external_stylesheets = ['https://codepen.io/chriddyp/pen/bWLwgP.css']\n",
    "\n",
    "# # App\n",
    "# app = dash.Dash(__name__, external_stylesheets=external_stylesheets)\n",
    "\n",
    "# # layout\n",
    "# app.layout = html.Div([\n",
    "    \n",
    "#     #header\n",
    "    \n",
    "#     html.Div([\n",
    "#         html.Div([\n",
    "#             html.H3('Header'),\n",
    "            \n",
    "#         ], className=\"four columns\"),\n",
    "        \n",
    "\n",
    "#         html.Div([\n",
    "#             html.H3('header'),\n",
    "             \n",
    "#         ], className=\"four columns\"),\n",
    "        \n",
    "#         html.Div([\n",
    "#             html.H3('header'),\n",
    "            \n",
    "#         ], className=\"four columns\")\n",
    "#     ], className=\"row\"),\n",
    "    \n",
    "        \n",
    "#     #NavBar\n",
    "       \n",
    "#      html.Div([\n",
    "#         html.Div([\n",
    "#             html.H3('nav-bar'),\n",
    "           \n",
    "#         ], className=\"four columns\"),\n",
    "#         html.Div([\n",
    "#             html.H3('nav-bar'),\n",
    "           \n",
    "#         ], className=\"four columns\"),\n",
    "\n",
    "#         html.Div([\n",
    "#             html.H3('nav-bar'),\n",
    "            \n",
    "#         ], className=\"four columns\"),\n",
    "#     ], className=\"row\"),\n",
    "    \n",
    "#       #Band\n",
    "#      html.Div([\n",
    "       \n",
    "#             html.H3('band')\n",
    "         \n",
    "#     ], className=\"row\"),\n",
    "    \n",
    "#     #VISUALISATIONS\n",
    "#      html.Div([\n",
    "#         html.Div([\n",
    "#             html.H3('visualisation'),\n",
    "#             html.Div([\n",
    "       \n",
    "#                 html.H3('Total confirmed cases')\n",
    "         \n",
    "#             ], className=\"row\"),\n",
    "#             html.Div([\n",
    "       \n",
    "#             html.H3('Cases by country')\n",
    "         \n",
    "#     ], className=\"row\"),\n",
    "            \n",
    "#         ], className=\"two columns\"),\n",
    "#          html.Div([\n",
    "#             html.H3('visualisation'),\n",
    "#             html.Div([\n",
    "       \n",
    "#             html.H3('World Map')\n",
    "         \n",
    "#     ], className=\"row\"),\n",
    "            \n",
    "#         ], className=\"six columns\"),\n",
    "\n",
    "#         html.Div([\n",
    "#             html.H3('visualisation'),\n",
    "            \n",
    "            \n",
    "#             html.Div([\n",
    "#                 html.Div([\n",
    "#                     html.H3('Total Recoveries'),\n",
    "                    \n",
    "#                     ], className=\"six columns\"),\n",
    "\n",
    "#                 html.Div([\n",
    "#                     html.H3('Total Deaths'),\n",
    "\n",
    "#                     ], className=\"six columns\"),\n",
    "#     ], className=\"row\")\n",
    "            \n",
    "#         ], className=\"four columns\"),\n",
    "#     ], className=\"row\"),\n",
    "    \n",
    "#     #fOOTER\n",
    "#      html.Div([\n",
    "#         html.Div([\n",
    "#             html.H3('Footer'),\n",
    "            \n",
    "#         ], className=\"six columns\"),\n",
    "\n",
    "#         html.Div([\n",
    "#             html.H3('Footer'),\n",
    "            \n",
    "#         ], className=\"six columns\"),\n",
    "#     ], className=\"row\"),\n",
    "    \n",
    "# ])\n",
    "\n",
    "# if __name__ == '__main__':\n",
    "#     app.run_server()\n"
   ]
  },
  {
   "cell_type": "code",
   "execution_count": null,
   "metadata": {},
   "outputs": [],
   "source": []
  },
  {
   "cell_type": "code",
   "execution_count": 10,
   "metadata": {},
   "outputs": [
    {
     "data": {
      "application/vnd.plotly.v1+json": {
       "config": {
        "plotlyServerURL": "https://plot.ly"
       },
       "data": [
        {
         "delta": {
          "reference": 2437220
         },
         "domain": {
          "column": 0,
          "row": 0
         },
         "gauge": {
          "axis": {
           "visible": false
          }
         },
         "type": "indicator",
         "value": 2519068
        }
       ],
       "layout": {
        "template": {
         "data": {
          "bar": [
           {
            "error_x": {
             "color": "#2a3f5f"
            },
            "error_y": {
             "color": "#2a3f5f"
            },
            "marker": {
             "line": {
              "color": "#E5ECF6",
              "width": 0.5
             }
            },
            "type": "bar"
           }
          ],
          "barpolar": [
           {
            "marker": {
             "line": {
              "color": "#E5ECF6",
              "width": 0.5
             }
            },
            "type": "barpolar"
           }
          ],
          "carpet": [
           {
            "aaxis": {
             "endlinecolor": "#2a3f5f",
             "gridcolor": "white",
             "linecolor": "white",
             "minorgridcolor": "white",
             "startlinecolor": "#2a3f5f"
            },
            "baxis": {
             "endlinecolor": "#2a3f5f",
             "gridcolor": "white",
             "linecolor": "white",
             "minorgridcolor": "white",
             "startlinecolor": "#2a3f5f"
            },
            "type": "carpet"
           }
          ],
          "choropleth": [
           {
            "colorbar": {
             "outlinewidth": 0,
             "ticks": ""
            },
            "type": "choropleth"
           }
          ],
          "contour": [
           {
            "colorbar": {
             "outlinewidth": 0,
             "ticks": ""
            },
            "colorscale": [
             [
              0,
              "#0d0887"
             ],
             [
              0.1111111111111111,
              "#46039f"
             ],
             [
              0.2222222222222222,
              "#7201a8"
             ],
             [
              0.3333333333333333,
              "#9c179e"
             ],
             [
              0.4444444444444444,
              "#bd3786"
             ],
             [
              0.5555555555555556,
              "#d8576b"
             ],
             [
              0.6666666666666666,
              "#ed7953"
             ],
             [
              0.7777777777777778,
              "#fb9f3a"
             ],
             [
              0.8888888888888888,
              "#fdca26"
             ],
             [
              1,
              "#f0f921"
             ]
            ],
            "type": "contour"
           }
          ],
          "contourcarpet": [
           {
            "colorbar": {
             "outlinewidth": 0,
             "ticks": ""
            },
            "type": "contourcarpet"
           }
          ],
          "heatmap": [
           {
            "colorbar": {
             "outlinewidth": 0,
             "ticks": ""
            },
            "colorscale": [
             [
              0,
              "#0d0887"
             ],
             [
              0.1111111111111111,
              "#46039f"
             ],
             [
              0.2222222222222222,
              "#7201a8"
             ],
             [
              0.3333333333333333,
              "#9c179e"
             ],
             [
              0.4444444444444444,
              "#bd3786"
             ],
             [
              0.5555555555555556,
              "#d8576b"
             ],
             [
              0.6666666666666666,
              "#ed7953"
             ],
             [
              0.7777777777777778,
              "#fb9f3a"
             ],
             [
              0.8888888888888888,
              "#fdca26"
             ],
             [
              1,
              "#f0f921"
             ]
            ],
            "type": "heatmap"
           }
          ],
          "heatmapgl": [
           {
            "colorbar": {
             "outlinewidth": 0,
             "ticks": ""
            },
            "colorscale": [
             [
              0,
              "#0d0887"
             ],
             [
              0.1111111111111111,
              "#46039f"
             ],
             [
              0.2222222222222222,
              "#7201a8"
             ],
             [
              0.3333333333333333,
              "#9c179e"
             ],
             [
              0.4444444444444444,
              "#bd3786"
             ],
             [
              0.5555555555555556,
              "#d8576b"
             ],
             [
              0.6666666666666666,
              "#ed7953"
             ],
             [
              0.7777777777777778,
              "#fb9f3a"
             ],
             [
              0.8888888888888888,
              "#fdca26"
             ],
             [
              1,
              "#f0f921"
             ]
            ],
            "type": "heatmapgl"
           }
          ],
          "histogram": [
           {
            "marker": {
             "colorbar": {
              "outlinewidth": 0,
              "ticks": ""
             }
            },
            "type": "histogram"
           }
          ],
          "histogram2d": [
           {
            "colorbar": {
             "outlinewidth": 0,
             "ticks": ""
            },
            "colorscale": [
             [
              0,
              "#0d0887"
             ],
             [
              0.1111111111111111,
              "#46039f"
             ],
             [
              0.2222222222222222,
              "#7201a8"
             ],
             [
              0.3333333333333333,
              "#9c179e"
             ],
             [
              0.4444444444444444,
              "#bd3786"
             ],
             [
              0.5555555555555556,
              "#d8576b"
             ],
             [
              0.6666666666666666,
              "#ed7953"
             ],
             [
              0.7777777777777778,
              "#fb9f3a"
             ],
             [
              0.8888888888888888,
              "#fdca26"
             ],
             [
              1,
              "#f0f921"
             ]
            ],
            "type": "histogram2d"
           }
          ],
          "histogram2dcontour": [
           {
            "colorbar": {
             "outlinewidth": 0,
             "ticks": ""
            },
            "colorscale": [
             [
              0,
              "#0d0887"
             ],
             [
              0.1111111111111111,
              "#46039f"
             ],
             [
              0.2222222222222222,
              "#7201a8"
             ],
             [
              0.3333333333333333,
              "#9c179e"
             ],
             [
              0.4444444444444444,
              "#bd3786"
             ],
             [
              0.5555555555555556,
              "#d8576b"
             ],
             [
              0.6666666666666666,
              "#ed7953"
             ],
             [
              0.7777777777777778,
              "#fb9f3a"
             ],
             [
              0.8888888888888888,
              "#fdca26"
             ],
             [
              1,
              "#f0f921"
             ]
            ],
            "type": "histogram2dcontour"
           }
          ],
          "indicator": [
           {
            "mode": "number+delta+gauge",
            "title": {
             "text": "Total Cases"
            },
            "type": "indicator"
           }
          ],
          "mesh3d": [
           {
            "colorbar": {
             "outlinewidth": 0,
             "ticks": ""
            },
            "type": "mesh3d"
           }
          ],
          "parcoords": [
           {
            "line": {
             "colorbar": {
              "outlinewidth": 0,
              "ticks": ""
             }
            },
            "type": "parcoords"
           }
          ],
          "pie": [
           {
            "automargin": true,
            "type": "pie"
           }
          ],
          "scatter": [
           {
            "marker": {
             "colorbar": {
              "outlinewidth": 0,
              "ticks": ""
             }
            },
            "type": "scatter"
           }
          ],
          "scatter3d": [
           {
            "line": {
             "colorbar": {
              "outlinewidth": 0,
              "ticks": ""
             }
            },
            "marker": {
             "colorbar": {
              "outlinewidth": 0,
              "ticks": ""
             }
            },
            "type": "scatter3d"
           }
          ],
          "scattercarpet": [
           {
            "marker": {
             "colorbar": {
              "outlinewidth": 0,
              "ticks": ""
             }
            },
            "type": "scattercarpet"
           }
          ],
          "scattergeo": [
           {
            "marker": {
             "colorbar": {
              "outlinewidth": 0,
              "ticks": ""
             }
            },
            "type": "scattergeo"
           }
          ],
          "scattergl": [
           {
            "marker": {
             "colorbar": {
              "outlinewidth": 0,
              "ticks": ""
             }
            },
            "type": "scattergl"
           }
          ],
          "scattermapbox": [
           {
            "marker": {
             "colorbar": {
              "outlinewidth": 0,
              "ticks": ""
             }
            },
            "type": "scattermapbox"
           }
          ],
          "scatterpolar": [
           {
            "marker": {
             "colorbar": {
              "outlinewidth": 0,
              "ticks": ""
             }
            },
            "type": "scatterpolar"
           }
          ],
          "scatterpolargl": [
           {
            "marker": {
             "colorbar": {
              "outlinewidth": 0,
              "ticks": ""
             }
            },
            "type": "scatterpolargl"
           }
          ],
          "scatterternary": [
           {
            "marker": {
             "colorbar": {
              "outlinewidth": 0,
              "ticks": ""
             }
            },
            "type": "scatterternary"
           }
          ],
          "surface": [
           {
            "colorbar": {
             "outlinewidth": 0,
             "ticks": ""
            },
            "colorscale": [
             [
              0,
              "#0d0887"
             ],
             [
              0.1111111111111111,
              "#46039f"
             ],
             [
              0.2222222222222222,
              "#7201a8"
             ],
             [
              0.3333333333333333,
              "#9c179e"
             ],
             [
              0.4444444444444444,
              "#bd3786"
             ],
             [
              0.5555555555555556,
              "#d8576b"
             ],
             [
              0.6666666666666666,
              "#ed7953"
             ],
             [
              0.7777777777777778,
              "#fb9f3a"
             ],
             [
              0.8888888888888888,
              "#fdca26"
             ],
             [
              1,
              "#f0f921"
             ]
            ],
            "type": "surface"
           }
          ],
          "table": [
           {
            "cells": {
             "fill": {
              "color": "#EBF0F8"
             },
             "line": {
              "color": "white"
             }
            },
            "header": {
             "fill": {
              "color": "#C8D4E3"
             },
             "line": {
              "color": "white"
             }
            },
            "type": "table"
           }
          ]
         },
         "layout": {
          "annotationdefaults": {
           "arrowcolor": "#2a3f5f",
           "arrowhead": 0,
           "arrowwidth": 1
          },
          "coloraxis": {
           "colorbar": {
            "outlinewidth": 0,
            "ticks": ""
           }
          },
          "colorscale": {
           "diverging": [
            [
             0,
             "#8e0152"
            ],
            [
             0.1,
             "#c51b7d"
            ],
            [
             0.2,
             "#de77ae"
            ],
            [
             0.3,
             "#f1b6da"
            ],
            [
             0.4,
             "#fde0ef"
            ],
            [
             0.5,
             "#f7f7f7"
            ],
            [
             0.6,
             "#e6f5d0"
            ],
            [
             0.7,
             "#b8e186"
            ],
            [
             0.8,
             "#7fbc41"
            ],
            [
             0.9,
             "#4d9221"
            ],
            [
             1,
             "#276419"
            ]
           ],
           "sequential": [
            [
             0,
             "#0d0887"
            ],
            [
             0.1111111111111111,
             "#46039f"
            ],
            [
             0.2222222222222222,
             "#7201a8"
            ],
            [
             0.3333333333333333,
             "#9c179e"
            ],
            [
             0.4444444444444444,
             "#bd3786"
            ],
            [
             0.5555555555555556,
             "#d8576b"
            ],
            [
             0.6666666666666666,
             "#ed7953"
            ],
            [
             0.7777777777777778,
             "#fb9f3a"
            ],
            [
             0.8888888888888888,
             "#fdca26"
            ],
            [
             1,
             "#f0f921"
            ]
           ],
           "sequentialminus": [
            [
             0,
             "#0d0887"
            ],
            [
             0.1111111111111111,
             "#46039f"
            ],
            [
             0.2222222222222222,
             "#7201a8"
            ],
            [
             0.3333333333333333,
             "#9c179e"
            ],
            [
             0.4444444444444444,
             "#bd3786"
            ],
            [
             0.5555555555555556,
             "#d8576b"
            ],
            [
             0.6666666666666666,
             "#ed7953"
            ],
            [
             0.7777777777777778,
             "#fb9f3a"
            ],
            [
             0.8888888888888888,
             "#fdca26"
            ],
            [
             1,
             "#f0f921"
            ]
           ]
          },
          "colorway": [
           "#636efa",
           "#EF553B",
           "#00cc96",
           "#ab63fa",
           "#FFA15A",
           "#19d3f3",
           "#FF6692",
           "#B6E880",
           "#FF97FF",
           "#FECB52"
          ],
          "font": {
           "color": "#2a3f5f"
          },
          "geo": {
           "bgcolor": "white",
           "lakecolor": "white",
           "landcolor": "#E5ECF6",
           "showlakes": true,
           "showland": true,
           "subunitcolor": "white"
          },
          "hoverlabel": {
           "align": "left"
          },
          "hovermode": "closest",
          "mapbox": {
           "style": "light"
          },
          "paper_bgcolor": "white",
          "plot_bgcolor": "#E5ECF6",
          "polar": {
           "angularaxis": {
            "gridcolor": "white",
            "linecolor": "white",
            "ticks": ""
           },
           "bgcolor": "#E5ECF6",
           "radialaxis": {
            "gridcolor": "white",
            "linecolor": "white",
            "ticks": ""
           }
          },
          "scene": {
           "xaxis": {
            "backgroundcolor": "#E5ECF6",
            "gridcolor": "white",
            "gridwidth": 2,
            "linecolor": "white",
            "showbackground": true,
            "ticks": "",
            "zerolinecolor": "white"
           },
           "yaxis": {
            "backgroundcolor": "#E5ECF6",
            "gridcolor": "white",
            "gridwidth": 2,
            "linecolor": "white",
            "showbackground": true,
            "ticks": "",
            "zerolinecolor": "white"
           },
           "zaxis": {
            "backgroundcolor": "#E5ECF6",
            "gridcolor": "white",
            "gridwidth": 2,
            "linecolor": "white",
            "showbackground": true,
            "ticks": "",
            "zerolinecolor": "white"
           }
          },
          "shapedefaults": {
           "line": {
            "color": "#2a3f5f"
           }
          },
          "ternary": {
           "aaxis": {
            "gridcolor": "white",
            "linecolor": "white",
            "ticks": ""
           },
           "baxis": {
            "gridcolor": "white",
            "linecolor": "white",
            "ticks": ""
           },
           "bgcolor": "#E5ECF6",
           "caxis": {
            "gridcolor": "white",
            "linecolor": "white",
            "ticks": ""
           }
          },
          "title": {
           "x": 0.05
          },
          "xaxis": {
           "automargin": true,
           "gridcolor": "white",
           "linecolor": "white",
           "ticks": "",
           "title": {
            "standoff": 15
           },
           "zerolinecolor": "white",
           "zerolinewidth": 2
          },
          "yaxis": {
           "automargin": true,
           "gridcolor": "white",
           "linecolor": "white",
           "ticks": "",
           "title": {
            "standoff": 15
           },
           "zerolinecolor": "white",
           "zerolinewidth": 2
          }
         }
        }
       }
      },
      "text/html": [
       "<div>\n",
       "        \n",
       "        \n",
       "            <div id=\"3183c069-1792-40d1-a86b-f601f223d787\" class=\"plotly-graph-div\" style=\"height:525px; width:100%;\"></div>\n",
       "            <script type=\"text/javascript\">\n",
       "                require([\"plotly\"], function(Plotly) {\n",
       "                    window.PLOTLYENV=window.PLOTLYENV || {};\n",
       "                    \n",
       "                if (document.getElementById(\"3183c069-1792-40d1-a86b-f601f223d787\")) {\n",
       "                    Plotly.newPlot(\n",
       "                        '3183c069-1792-40d1-a86b-f601f223d787',\n",
       "                        [{\"delta\": {\"reference\": 2437220}, \"domain\": {\"column\": 0, \"row\": 0}, \"gauge\": {\"axis\": {\"visible\": false}}, \"type\": \"indicator\", \"value\": 2519068}],\n",
       "                        {\"template\": {\"data\": {\"bar\": [{\"error_x\": {\"color\": \"#2a3f5f\"}, \"error_y\": {\"color\": \"#2a3f5f\"}, \"marker\": {\"line\": {\"color\": \"#E5ECF6\", \"width\": 0.5}}, \"type\": \"bar\"}], \"barpolar\": [{\"marker\": {\"line\": {\"color\": \"#E5ECF6\", \"width\": 0.5}}, \"type\": \"barpolar\"}], \"carpet\": [{\"aaxis\": {\"endlinecolor\": \"#2a3f5f\", \"gridcolor\": \"white\", \"linecolor\": \"white\", \"minorgridcolor\": \"white\", \"startlinecolor\": \"#2a3f5f\"}, \"baxis\": {\"endlinecolor\": \"#2a3f5f\", \"gridcolor\": \"white\", \"linecolor\": \"white\", \"minorgridcolor\": \"white\", \"startlinecolor\": \"#2a3f5f\"}, \"type\": \"carpet\"}], \"choropleth\": [{\"colorbar\": {\"outlinewidth\": 0, \"ticks\": \"\"}, \"type\": \"choropleth\"}], \"contour\": [{\"colorbar\": {\"outlinewidth\": 0, \"ticks\": \"\"}, \"colorscale\": [[0.0, \"#0d0887\"], [0.1111111111111111, \"#46039f\"], [0.2222222222222222, \"#7201a8\"], [0.3333333333333333, \"#9c179e\"], [0.4444444444444444, \"#bd3786\"], [0.5555555555555556, \"#d8576b\"], [0.6666666666666666, \"#ed7953\"], [0.7777777777777778, \"#fb9f3a\"], [0.8888888888888888, \"#fdca26\"], [1.0, \"#f0f921\"]], \"type\": \"contour\"}], \"contourcarpet\": [{\"colorbar\": {\"outlinewidth\": 0, \"ticks\": \"\"}, \"type\": \"contourcarpet\"}], \"heatmap\": [{\"colorbar\": {\"outlinewidth\": 0, \"ticks\": \"\"}, \"colorscale\": [[0.0, \"#0d0887\"], [0.1111111111111111, \"#46039f\"], [0.2222222222222222, \"#7201a8\"], [0.3333333333333333, \"#9c179e\"], [0.4444444444444444, \"#bd3786\"], [0.5555555555555556, \"#d8576b\"], [0.6666666666666666, \"#ed7953\"], [0.7777777777777778, \"#fb9f3a\"], [0.8888888888888888, \"#fdca26\"], [1.0, \"#f0f921\"]], \"type\": \"heatmap\"}], \"heatmapgl\": [{\"colorbar\": {\"outlinewidth\": 0, \"ticks\": \"\"}, \"colorscale\": [[0.0, \"#0d0887\"], [0.1111111111111111, \"#46039f\"], [0.2222222222222222, \"#7201a8\"], [0.3333333333333333, \"#9c179e\"], [0.4444444444444444, \"#bd3786\"], [0.5555555555555556, \"#d8576b\"], [0.6666666666666666, \"#ed7953\"], [0.7777777777777778, \"#fb9f3a\"], [0.8888888888888888, \"#fdca26\"], [1.0, \"#f0f921\"]], \"type\": \"heatmapgl\"}], \"histogram\": [{\"marker\": {\"colorbar\": {\"outlinewidth\": 0, \"ticks\": \"\"}}, \"type\": \"histogram\"}], \"histogram2d\": [{\"colorbar\": {\"outlinewidth\": 0, \"ticks\": \"\"}, \"colorscale\": [[0.0, \"#0d0887\"], [0.1111111111111111, \"#46039f\"], [0.2222222222222222, \"#7201a8\"], [0.3333333333333333, \"#9c179e\"], [0.4444444444444444, \"#bd3786\"], [0.5555555555555556, \"#d8576b\"], [0.6666666666666666, \"#ed7953\"], [0.7777777777777778, \"#fb9f3a\"], [0.8888888888888888, \"#fdca26\"], [1.0, \"#f0f921\"]], \"type\": \"histogram2d\"}], \"histogram2dcontour\": [{\"colorbar\": {\"outlinewidth\": 0, \"ticks\": \"\"}, \"colorscale\": [[0.0, \"#0d0887\"], [0.1111111111111111, \"#46039f\"], [0.2222222222222222, \"#7201a8\"], [0.3333333333333333, \"#9c179e\"], [0.4444444444444444, \"#bd3786\"], [0.5555555555555556, \"#d8576b\"], [0.6666666666666666, \"#ed7953\"], [0.7777777777777778, \"#fb9f3a\"], [0.8888888888888888, \"#fdca26\"], [1.0, \"#f0f921\"]], \"type\": \"histogram2dcontour\"}], \"indicator\": [{\"mode\": \"number+delta+gauge\", \"title\": {\"text\": \"Total Cases\"}, \"type\": \"indicator\"}], \"mesh3d\": [{\"colorbar\": {\"outlinewidth\": 0, \"ticks\": \"\"}, \"type\": \"mesh3d\"}], \"parcoords\": [{\"line\": {\"colorbar\": {\"outlinewidth\": 0, \"ticks\": \"\"}}, \"type\": \"parcoords\"}], \"pie\": [{\"automargin\": true, \"type\": \"pie\"}], \"scatter\": [{\"marker\": {\"colorbar\": {\"outlinewidth\": 0, \"ticks\": \"\"}}, \"type\": \"scatter\"}], \"scatter3d\": [{\"line\": {\"colorbar\": {\"outlinewidth\": 0, \"ticks\": \"\"}}, \"marker\": {\"colorbar\": {\"outlinewidth\": 0, \"ticks\": \"\"}}, \"type\": \"scatter3d\"}], \"scattercarpet\": [{\"marker\": {\"colorbar\": {\"outlinewidth\": 0, \"ticks\": \"\"}}, \"type\": \"scattercarpet\"}], \"scattergeo\": [{\"marker\": {\"colorbar\": {\"outlinewidth\": 0, \"ticks\": \"\"}}, \"type\": \"scattergeo\"}], \"scattergl\": [{\"marker\": {\"colorbar\": {\"outlinewidth\": 0, \"ticks\": \"\"}}, \"type\": \"scattergl\"}], \"scattermapbox\": [{\"marker\": {\"colorbar\": {\"outlinewidth\": 0, \"ticks\": \"\"}}, \"type\": \"scattermapbox\"}], \"scatterpolar\": [{\"marker\": {\"colorbar\": {\"outlinewidth\": 0, \"ticks\": \"\"}}, \"type\": \"scatterpolar\"}], \"scatterpolargl\": [{\"marker\": {\"colorbar\": {\"outlinewidth\": 0, \"ticks\": \"\"}}, \"type\": \"scatterpolargl\"}], \"scatterternary\": [{\"marker\": {\"colorbar\": {\"outlinewidth\": 0, \"ticks\": \"\"}}, \"type\": \"scatterternary\"}], \"surface\": [{\"colorbar\": {\"outlinewidth\": 0, \"ticks\": \"\"}, \"colorscale\": [[0.0, \"#0d0887\"], [0.1111111111111111, \"#46039f\"], [0.2222222222222222, \"#7201a8\"], [0.3333333333333333, \"#9c179e\"], [0.4444444444444444, \"#bd3786\"], [0.5555555555555556, \"#d8576b\"], [0.6666666666666666, \"#ed7953\"], [0.7777777777777778, \"#fb9f3a\"], [0.8888888888888888, \"#fdca26\"], [1.0, \"#f0f921\"]], \"type\": \"surface\"}], \"table\": [{\"cells\": {\"fill\": {\"color\": \"#EBF0F8\"}, \"line\": {\"color\": \"white\"}}, \"header\": {\"fill\": {\"color\": \"#C8D4E3\"}, \"line\": {\"color\": \"white\"}}, \"type\": \"table\"}]}, \"layout\": {\"annotationdefaults\": {\"arrowcolor\": \"#2a3f5f\", \"arrowhead\": 0, \"arrowwidth\": 1}, \"coloraxis\": {\"colorbar\": {\"outlinewidth\": 0, \"ticks\": \"\"}}, \"colorscale\": {\"diverging\": [[0, \"#8e0152\"], [0.1, \"#c51b7d\"], [0.2, \"#de77ae\"], [0.3, \"#f1b6da\"], [0.4, \"#fde0ef\"], [0.5, \"#f7f7f7\"], [0.6, \"#e6f5d0\"], [0.7, \"#b8e186\"], [0.8, \"#7fbc41\"], [0.9, \"#4d9221\"], [1, \"#276419\"]], \"sequential\": [[0.0, \"#0d0887\"], [0.1111111111111111, \"#46039f\"], [0.2222222222222222, \"#7201a8\"], [0.3333333333333333, \"#9c179e\"], [0.4444444444444444, \"#bd3786\"], [0.5555555555555556, \"#d8576b\"], [0.6666666666666666, \"#ed7953\"], [0.7777777777777778, \"#fb9f3a\"], [0.8888888888888888, \"#fdca26\"], [1.0, \"#f0f921\"]], \"sequentialminus\": [[0.0, \"#0d0887\"], [0.1111111111111111, \"#46039f\"], [0.2222222222222222, \"#7201a8\"], [0.3333333333333333, \"#9c179e\"], [0.4444444444444444, \"#bd3786\"], [0.5555555555555556, \"#d8576b\"], [0.6666666666666666, \"#ed7953\"], [0.7777777777777778, \"#fb9f3a\"], [0.8888888888888888, \"#fdca26\"], [1.0, \"#f0f921\"]]}, \"colorway\": [\"#636efa\", \"#EF553B\", \"#00cc96\", \"#ab63fa\", \"#FFA15A\", \"#19d3f3\", \"#FF6692\", \"#B6E880\", \"#FF97FF\", \"#FECB52\"], \"font\": {\"color\": \"#2a3f5f\"}, \"geo\": {\"bgcolor\": \"white\", \"lakecolor\": \"white\", \"landcolor\": \"#E5ECF6\", \"showlakes\": true, \"showland\": true, \"subunitcolor\": \"white\"}, \"hoverlabel\": {\"align\": \"left\"}, \"hovermode\": \"closest\", \"mapbox\": {\"style\": \"light\"}, \"paper_bgcolor\": \"white\", \"plot_bgcolor\": \"#E5ECF6\", \"polar\": {\"angularaxis\": {\"gridcolor\": \"white\", \"linecolor\": \"white\", \"ticks\": \"\"}, \"bgcolor\": \"#E5ECF6\", \"radialaxis\": {\"gridcolor\": \"white\", \"linecolor\": \"white\", \"ticks\": \"\"}}, \"scene\": {\"xaxis\": {\"backgroundcolor\": \"#E5ECF6\", \"gridcolor\": \"white\", \"gridwidth\": 2, \"linecolor\": \"white\", \"showbackground\": true, \"ticks\": \"\", \"zerolinecolor\": \"white\"}, \"yaxis\": {\"backgroundcolor\": \"#E5ECF6\", \"gridcolor\": \"white\", \"gridwidth\": 2, \"linecolor\": \"white\", \"showbackground\": true, \"ticks\": \"\", \"zerolinecolor\": \"white\"}, \"zaxis\": {\"backgroundcolor\": \"#E5ECF6\", \"gridcolor\": \"white\", \"gridwidth\": 2, \"linecolor\": \"white\", \"showbackground\": true, \"ticks\": \"\", \"zerolinecolor\": \"white\"}}, \"shapedefaults\": {\"line\": {\"color\": \"#2a3f5f\"}}, \"ternary\": {\"aaxis\": {\"gridcolor\": \"white\", \"linecolor\": \"white\", \"ticks\": \"\"}, \"baxis\": {\"gridcolor\": \"white\", \"linecolor\": \"white\", \"ticks\": \"\"}, \"bgcolor\": \"#E5ECF6\", \"caxis\": {\"gridcolor\": \"white\", \"linecolor\": \"white\", \"ticks\": \"\"}}, \"title\": {\"x\": 0.05}, \"xaxis\": {\"automargin\": true, \"gridcolor\": \"white\", \"linecolor\": \"white\", \"ticks\": \"\", \"title\": {\"standoff\": 15}, \"zerolinecolor\": \"white\", \"zerolinewidth\": 2}, \"yaxis\": {\"automargin\": true, \"gridcolor\": \"white\", \"linecolor\": \"white\", \"ticks\": \"\", \"title\": {\"standoff\": 15}, \"zerolinecolor\": \"white\", \"zerolinewidth\": 2}}}},\n",
       "                        {\"responsive\": true}\n",
       "                    ).then(function(){\n",
       "                            \n",
       "var gd = document.getElementById('3183c069-1792-40d1-a86b-f601f223d787');\n",
       "var x = new MutationObserver(function (mutations, observer) {{\n",
       "        var display = window.getComputedStyle(gd).display;\n",
       "        if (!display || display === 'none') {{\n",
       "            console.log([gd, 'removed!']);\n",
       "            Plotly.purge(gd);\n",
       "            observer.disconnect();\n",
       "        }}\n",
       "}});\n",
       "\n",
       "// Listen for the removal of the full notebook cells\n",
       "var notebookContainer = gd.closest('#notebook-container');\n",
       "if (notebookContainer) {{\n",
       "    x.observe(notebookContainer, {childList: true});\n",
       "}}\n",
       "\n",
       "// Listen for the clearing of the current output cell\n",
       "var outputEl = gd.closest('.output');\n",
       "if (outputEl) {{\n",
       "    x.observe(outputEl, {childList: true});\n",
       "}}\n",
       "\n",
       "                        })\n",
       "                };\n",
       "                });\n",
       "            </script>\n",
       "        </div>"
      ]
     },
     "metadata": {},
     "output_type": "display_data"
    }
   ],
   "source": [
    "# total cases indicator\n",
    "fig1 = go.Figure(go.Indicator(\n",
    "    \n",
    "    value = tot_cases,\n",
    "    delta = {'reference': diff},\n",
    "    gauge = {\n",
    "        'axis': {'visible': False}},\n",
    "    domain = {'row': 0, 'column': 0}))\n",
    "\n",
    "fig1 = fig1.update_layout(\n",
    "    template = {'data' : {'indicator': [{\n",
    "        'title': {'text': \"Total Cases\"},\n",
    "        'mode' : \"number+delta+gauge\",\n",
    "        }]\n",
    "                         }})\n",
    "fig1.show()"
   ]
  },
  {
   "cell_type": "code",
   "execution_count": 11,
   "metadata": {},
   "outputs": [
    {
     "data": {
      "application/vnd.plotly.v1+json": {
       "config": {
        "plotlyServerURL": "https://plot.ly"
       },
       "data": [
        {
         "delta": {
          "reference": 644750
         },
         "domain": {
          "column": 1,
          "row": 0
         },
         "mode": "number+delta",
         "type": "indicator",
         "value": 679073
        }
       ],
       "layout": {
        "template": {
         "data": {
          "bar": [
           {
            "error_x": {
             "color": "#2a3f5f"
            },
            "error_y": {
             "color": "#2a3f5f"
            },
            "marker": {
             "line": {
              "color": "#E5ECF6",
              "width": 0.5
             }
            },
            "type": "bar"
           }
          ],
          "barpolar": [
           {
            "marker": {
             "line": {
              "color": "#E5ECF6",
              "width": 0.5
             }
            },
            "type": "barpolar"
           }
          ],
          "carpet": [
           {
            "aaxis": {
             "endlinecolor": "#2a3f5f",
             "gridcolor": "white",
             "linecolor": "white",
             "minorgridcolor": "white",
             "startlinecolor": "#2a3f5f"
            },
            "baxis": {
             "endlinecolor": "#2a3f5f",
             "gridcolor": "white",
             "linecolor": "white",
             "minorgridcolor": "white",
             "startlinecolor": "#2a3f5f"
            },
            "type": "carpet"
           }
          ],
          "choropleth": [
           {
            "colorbar": {
             "outlinewidth": 0,
             "ticks": ""
            },
            "type": "choropleth"
           }
          ],
          "contour": [
           {
            "colorbar": {
             "outlinewidth": 0,
             "ticks": ""
            },
            "colorscale": [
             [
              0,
              "#0d0887"
             ],
             [
              0.1111111111111111,
              "#46039f"
             ],
             [
              0.2222222222222222,
              "#7201a8"
             ],
             [
              0.3333333333333333,
              "#9c179e"
             ],
             [
              0.4444444444444444,
              "#bd3786"
             ],
             [
              0.5555555555555556,
              "#d8576b"
             ],
             [
              0.6666666666666666,
              "#ed7953"
             ],
             [
              0.7777777777777778,
              "#fb9f3a"
             ],
             [
              0.8888888888888888,
              "#fdca26"
             ],
             [
              1,
              "#f0f921"
             ]
            ],
            "type": "contour"
           }
          ],
          "contourcarpet": [
           {
            "colorbar": {
             "outlinewidth": 0,
             "ticks": ""
            },
            "type": "contourcarpet"
           }
          ],
          "heatmap": [
           {
            "colorbar": {
             "outlinewidth": 0,
             "ticks": ""
            },
            "colorscale": [
             [
              0,
              "#0d0887"
             ],
             [
              0.1111111111111111,
              "#46039f"
             ],
             [
              0.2222222222222222,
              "#7201a8"
             ],
             [
              0.3333333333333333,
              "#9c179e"
             ],
             [
              0.4444444444444444,
              "#bd3786"
             ],
             [
              0.5555555555555556,
              "#d8576b"
             ],
             [
              0.6666666666666666,
              "#ed7953"
             ],
             [
              0.7777777777777778,
              "#fb9f3a"
             ],
             [
              0.8888888888888888,
              "#fdca26"
             ],
             [
              1,
              "#f0f921"
             ]
            ],
            "type": "heatmap"
           }
          ],
          "heatmapgl": [
           {
            "colorbar": {
             "outlinewidth": 0,
             "ticks": ""
            },
            "colorscale": [
             [
              0,
              "#0d0887"
             ],
             [
              0.1111111111111111,
              "#46039f"
             ],
             [
              0.2222222222222222,
              "#7201a8"
             ],
             [
              0.3333333333333333,
              "#9c179e"
             ],
             [
              0.4444444444444444,
              "#bd3786"
             ],
             [
              0.5555555555555556,
              "#d8576b"
             ],
             [
              0.6666666666666666,
              "#ed7953"
             ],
             [
              0.7777777777777778,
              "#fb9f3a"
             ],
             [
              0.8888888888888888,
              "#fdca26"
             ],
             [
              1,
              "#f0f921"
             ]
            ],
            "type": "heatmapgl"
           }
          ],
          "histogram": [
           {
            "marker": {
             "colorbar": {
              "outlinewidth": 0,
              "ticks": ""
             }
            },
            "type": "histogram"
           }
          ],
          "histogram2d": [
           {
            "colorbar": {
             "outlinewidth": 0,
             "ticks": ""
            },
            "colorscale": [
             [
              0,
              "#0d0887"
             ],
             [
              0.1111111111111111,
              "#46039f"
             ],
             [
              0.2222222222222222,
              "#7201a8"
             ],
             [
              0.3333333333333333,
              "#9c179e"
             ],
             [
              0.4444444444444444,
              "#bd3786"
             ],
             [
              0.5555555555555556,
              "#d8576b"
             ],
             [
              0.6666666666666666,
              "#ed7953"
             ],
             [
              0.7777777777777778,
              "#fb9f3a"
             ],
             [
              0.8888888888888888,
              "#fdca26"
             ],
             [
              1,
              "#f0f921"
             ]
            ],
            "type": "histogram2d"
           }
          ],
          "histogram2dcontour": [
           {
            "colorbar": {
             "outlinewidth": 0,
             "ticks": ""
            },
            "colorscale": [
             [
              0,
              "#0d0887"
             ],
             [
              0.1111111111111111,
              "#46039f"
             ],
             [
              0.2222222222222222,
              "#7201a8"
             ],
             [
              0.3333333333333333,
              "#9c179e"
             ],
             [
              0.4444444444444444,
              "#bd3786"
             ],
             [
              0.5555555555555556,
              "#d8576b"
             ],
             [
              0.6666666666666666,
              "#ed7953"
             ],
             [
              0.7777777777777778,
              "#fb9f3a"
             ],
             [
              0.8888888888888888,
              "#fdca26"
             ],
             [
              1,
              "#f0f921"
             ]
            ],
            "type": "histogram2dcontour"
           }
          ],
          "indicator": [
           {
            "title": {
             "text": "Recoveries"
            },
            "type": "indicator"
           }
          ],
          "mesh3d": [
           {
            "colorbar": {
             "outlinewidth": 0,
             "ticks": ""
            },
            "type": "mesh3d"
           }
          ],
          "parcoords": [
           {
            "line": {
             "colorbar": {
              "outlinewidth": 0,
              "ticks": ""
             }
            },
            "type": "parcoords"
           }
          ],
          "pie": [
           {
            "automargin": true,
            "type": "pie"
           }
          ],
          "scatter": [
           {
            "marker": {
             "colorbar": {
              "outlinewidth": 0,
              "ticks": ""
             }
            },
            "type": "scatter"
           }
          ],
          "scatter3d": [
           {
            "line": {
             "colorbar": {
              "outlinewidth": 0,
              "ticks": ""
             }
            },
            "marker": {
             "colorbar": {
              "outlinewidth": 0,
              "ticks": ""
             }
            },
            "type": "scatter3d"
           }
          ],
          "scattercarpet": [
           {
            "marker": {
             "colorbar": {
              "outlinewidth": 0,
              "ticks": ""
             }
            },
            "type": "scattercarpet"
           }
          ],
          "scattergeo": [
           {
            "marker": {
             "colorbar": {
              "outlinewidth": 0,
              "ticks": ""
             }
            },
            "type": "scattergeo"
           }
          ],
          "scattergl": [
           {
            "marker": {
             "colorbar": {
              "outlinewidth": 0,
              "ticks": ""
             }
            },
            "type": "scattergl"
           }
          ],
          "scattermapbox": [
           {
            "marker": {
             "colorbar": {
              "outlinewidth": 0,
              "ticks": ""
             }
            },
            "type": "scattermapbox"
           }
          ],
          "scatterpolar": [
           {
            "marker": {
             "colorbar": {
              "outlinewidth": 0,
              "ticks": ""
             }
            },
            "type": "scatterpolar"
           }
          ],
          "scatterpolargl": [
           {
            "marker": {
             "colorbar": {
              "outlinewidth": 0,
              "ticks": ""
             }
            },
            "type": "scatterpolargl"
           }
          ],
          "scatterternary": [
           {
            "marker": {
             "colorbar": {
              "outlinewidth": 0,
              "ticks": ""
             }
            },
            "type": "scatterternary"
           }
          ],
          "surface": [
           {
            "colorbar": {
             "outlinewidth": 0,
             "ticks": ""
            },
            "colorscale": [
             [
              0,
              "#0d0887"
             ],
             [
              0.1111111111111111,
              "#46039f"
             ],
             [
              0.2222222222222222,
              "#7201a8"
             ],
             [
              0.3333333333333333,
              "#9c179e"
             ],
             [
              0.4444444444444444,
              "#bd3786"
             ],
             [
              0.5555555555555556,
              "#d8576b"
             ],
             [
              0.6666666666666666,
              "#ed7953"
             ],
             [
              0.7777777777777778,
              "#fb9f3a"
             ],
             [
              0.8888888888888888,
              "#fdca26"
             ],
             [
              1,
              "#f0f921"
             ]
            ],
            "type": "surface"
           }
          ],
          "table": [
           {
            "cells": {
             "fill": {
              "color": "#EBF0F8"
             },
             "line": {
              "color": "white"
             }
            },
            "header": {
             "fill": {
              "color": "#C8D4E3"
             },
             "line": {
              "color": "white"
             }
            },
            "type": "table"
           }
          ]
         },
         "layout": {
          "annotationdefaults": {
           "arrowcolor": "#2a3f5f",
           "arrowhead": 0,
           "arrowwidth": 1
          },
          "coloraxis": {
           "colorbar": {
            "outlinewidth": 0,
            "ticks": ""
           }
          },
          "colorscale": {
           "diverging": [
            [
             0,
             "#8e0152"
            ],
            [
             0.1,
             "#c51b7d"
            ],
            [
             0.2,
             "#de77ae"
            ],
            [
             0.3,
             "#f1b6da"
            ],
            [
             0.4,
             "#fde0ef"
            ],
            [
             0.5,
             "#f7f7f7"
            ],
            [
             0.6,
             "#e6f5d0"
            ],
            [
             0.7,
             "#b8e186"
            ],
            [
             0.8,
             "#7fbc41"
            ],
            [
             0.9,
             "#4d9221"
            ],
            [
             1,
             "#276419"
            ]
           ],
           "sequential": [
            [
             0,
             "#0d0887"
            ],
            [
             0.1111111111111111,
             "#46039f"
            ],
            [
             0.2222222222222222,
             "#7201a8"
            ],
            [
             0.3333333333333333,
             "#9c179e"
            ],
            [
             0.4444444444444444,
             "#bd3786"
            ],
            [
             0.5555555555555556,
             "#d8576b"
            ],
            [
             0.6666666666666666,
             "#ed7953"
            ],
            [
             0.7777777777777778,
             "#fb9f3a"
            ],
            [
             0.8888888888888888,
             "#fdca26"
            ],
            [
             1,
             "#f0f921"
            ]
           ],
           "sequentialminus": [
            [
             0,
             "#0d0887"
            ],
            [
             0.1111111111111111,
             "#46039f"
            ],
            [
             0.2222222222222222,
             "#7201a8"
            ],
            [
             0.3333333333333333,
             "#9c179e"
            ],
            [
             0.4444444444444444,
             "#bd3786"
            ],
            [
             0.5555555555555556,
             "#d8576b"
            ],
            [
             0.6666666666666666,
             "#ed7953"
            ],
            [
             0.7777777777777778,
             "#fb9f3a"
            ],
            [
             0.8888888888888888,
             "#fdca26"
            ],
            [
             1,
             "#f0f921"
            ]
           ]
          },
          "colorway": [
           "#636efa",
           "#EF553B",
           "#00cc96",
           "#ab63fa",
           "#FFA15A",
           "#19d3f3",
           "#FF6692",
           "#B6E880",
           "#FF97FF",
           "#FECB52"
          ],
          "font": {
           "color": "#2a3f5f"
          },
          "geo": {
           "bgcolor": "white",
           "lakecolor": "white",
           "landcolor": "#E5ECF6",
           "showlakes": true,
           "showland": true,
           "subunitcolor": "white"
          },
          "hoverlabel": {
           "align": "left"
          },
          "hovermode": "closest",
          "mapbox": {
           "style": "light"
          },
          "paper_bgcolor": "white",
          "plot_bgcolor": "#E5ECF6",
          "polar": {
           "angularaxis": {
            "gridcolor": "white",
            "linecolor": "white",
            "ticks": ""
           },
           "bgcolor": "#E5ECF6",
           "radialaxis": {
            "gridcolor": "white",
            "linecolor": "white",
            "ticks": ""
           }
          },
          "scene": {
           "xaxis": {
            "backgroundcolor": "#E5ECF6",
            "gridcolor": "white",
            "gridwidth": 2,
            "linecolor": "white",
            "showbackground": true,
            "ticks": "",
            "zerolinecolor": "white"
           },
           "yaxis": {
            "backgroundcolor": "#E5ECF6",
            "gridcolor": "white",
            "gridwidth": 2,
            "linecolor": "white",
            "showbackground": true,
            "ticks": "",
            "zerolinecolor": "white"
           },
           "zaxis": {
            "backgroundcolor": "#E5ECF6",
            "gridcolor": "white",
            "gridwidth": 2,
            "linecolor": "white",
            "showbackground": true,
            "ticks": "",
            "zerolinecolor": "white"
           }
          },
          "shapedefaults": {
           "line": {
            "color": "#2a3f5f"
           }
          },
          "ternary": {
           "aaxis": {
            "gridcolor": "white",
            "linecolor": "white",
            "ticks": ""
           },
           "baxis": {
            "gridcolor": "white",
            "linecolor": "white",
            "ticks": ""
           },
           "bgcolor": "#E5ECF6",
           "caxis": {
            "gridcolor": "white",
            "linecolor": "white",
            "ticks": ""
           }
          },
          "title": {
           "x": 0.05
          },
          "xaxis": {
           "automargin": true,
           "gridcolor": "white",
           "linecolor": "white",
           "ticks": "",
           "title": {
            "standoff": 15
           },
           "zerolinecolor": "white",
           "zerolinewidth": 2
          },
          "yaxis": {
           "automargin": true,
           "gridcolor": "white",
           "linecolor": "white",
           "ticks": "",
           "title": {
            "standoff": 15
           },
           "zerolinecolor": "white",
           "zerolinewidth": 2
          }
         }
        }
       }
      },
      "text/html": [
       "<div>\n",
       "        \n",
       "        \n",
       "            <div id=\"0f5ebe84-1d1d-4bf1-ab00-4611045e599b\" class=\"plotly-graph-div\" style=\"height:525px; width:100%;\"></div>\n",
       "            <script type=\"text/javascript\">\n",
       "                require([\"plotly\"], function(Plotly) {\n",
       "                    window.PLOTLYENV=window.PLOTLYENV || {};\n",
       "                    \n",
       "                if (document.getElementById(\"0f5ebe84-1d1d-4bf1-ab00-4611045e599b\")) {\n",
       "                    Plotly.newPlot(\n",
       "                        '0f5ebe84-1d1d-4bf1-ab00-4611045e599b',\n",
       "                        [{\"delta\": {\"reference\": 644750}, \"domain\": {\"column\": 1, \"row\": 0}, \"mode\": \"number+delta\", \"type\": \"indicator\", \"value\": 679073}],\n",
       "                        {\"template\": {\"data\": {\"bar\": [{\"error_x\": {\"color\": \"#2a3f5f\"}, \"error_y\": {\"color\": \"#2a3f5f\"}, \"marker\": {\"line\": {\"color\": \"#E5ECF6\", \"width\": 0.5}}, \"type\": \"bar\"}], \"barpolar\": [{\"marker\": {\"line\": {\"color\": \"#E5ECF6\", \"width\": 0.5}}, \"type\": \"barpolar\"}], \"carpet\": [{\"aaxis\": {\"endlinecolor\": \"#2a3f5f\", \"gridcolor\": \"white\", \"linecolor\": \"white\", \"minorgridcolor\": \"white\", \"startlinecolor\": \"#2a3f5f\"}, \"baxis\": {\"endlinecolor\": \"#2a3f5f\", \"gridcolor\": \"white\", \"linecolor\": \"white\", \"minorgridcolor\": \"white\", \"startlinecolor\": \"#2a3f5f\"}, \"type\": \"carpet\"}], \"choropleth\": [{\"colorbar\": {\"outlinewidth\": 0, \"ticks\": \"\"}, \"type\": \"choropleth\"}], \"contour\": [{\"colorbar\": {\"outlinewidth\": 0, \"ticks\": \"\"}, \"colorscale\": [[0.0, \"#0d0887\"], [0.1111111111111111, \"#46039f\"], [0.2222222222222222, \"#7201a8\"], [0.3333333333333333, \"#9c179e\"], [0.4444444444444444, \"#bd3786\"], [0.5555555555555556, \"#d8576b\"], [0.6666666666666666, \"#ed7953\"], [0.7777777777777778, \"#fb9f3a\"], [0.8888888888888888, \"#fdca26\"], [1.0, \"#f0f921\"]], \"type\": \"contour\"}], \"contourcarpet\": [{\"colorbar\": {\"outlinewidth\": 0, \"ticks\": \"\"}, \"type\": \"contourcarpet\"}], \"heatmap\": [{\"colorbar\": {\"outlinewidth\": 0, \"ticks\": \"\"}, \"colorscale\": [[0.0, \"#0d0887\"], [0.1111111111111111, \"#46039f\"], [0.2222222222222222, \"#7201a8\"], [0.3333333333333333, \"#9c179e\"], [0.4444444444444444, \"#bd3786\"], [0.5555555555555556, \"#d8576b\"], [0.6666666666666666, \"#ed7953\"], [0.7777777777777778, \"#fb9f3a\"], [0.8888888888888888, \"#fdca26\"], [1.0, \"#f0f921\"]], \"type\": \"heatmap\"}], \"heatmapgl\": [{\"colorbar\": {\"outlinewidth\": 0, \"ticks\": \"\"}, \"colorscale\": [[0.0, \"#0d0887\"], [0.1111111111111111, \"#46039f\"], [0.2222222222222222, \"#7201a8\"], [0.3333333333333333, \"#9c179e\"], [0.4444444444444444, \"#bd3786\"], [0.5555555555555556, \"#d8576b\"], [0.6666666666666666, \"#ed7953\"], [0.7777777777777778, \"#fb9f3a\"], [0.8888888888888888, \"#fdca26\"], [1.0, \"#f0f921\"]], \"type\": \"heatmapgl\"}], \"histogram\": [{\"marker\": {\"colorbar\": {\"outlinewidth\": 0, \"ticks\": \"\"}}, \"type\": \"histogram\"}], \"histogram2d\": [{\"colorbar\": {\"outlinewidth\": 0, \"ticks\": \"\"}, \"colorscale\": [[0.0, \"#0d0887\"], [0.1111111111111111, \"#46039f\"], [0.2222222222222222, \"#7201a8\"], [0.3333333333333333, \"#9c179e\"], [0.4444444444444444, \"#bd3786\"], [0.5555555555555556, \"#d8576b\"], [0.6666666666666666, \"#ed7953\"], [0.7777777777777778, \"#fb9f3a\"], [0.8888888888888888, \"#fdca26\"], [1.0, \"#f0f921\"]], \"type\": \"histogram2d\"}], \"histogram2dcontour\": [{\"colorbar\": {\"outlinewidth\": 0, \"ticks\": \"\"}, \"colorscale\": [[0.0, \"#0d0887\"], [0.1111111111111111, \"#46039f\"], [0.2222222222222222, \"#7201a8\"], [0.3333333333333333, \"#9c179e\"], [0.4444444444444444, \"#bd3786\"], [0.5555555555555556, \"#d8576b\"], [0.6666666666666666, \"#ed7953\"], [0.7777777777777778, \"#fb9f3a\"], [0.8888888888888888, \"#fdca26\"], [1.0, \"#f0f921\"]], \"type\": \"histogram2dcontour\"}], \"indicator\": [{\"title\": {\"text\": \"Recoveries\"}, \"type\": \"indicator\"}], \"mesh3d\": [{\"colorbar\": {\"outlinewidth\": 0, \"ticks\": \"\"}, \"type\": \"mesh3d\"}], \"parcoords\": [{\"line\": {\"colorbar\": {\"outlinewidth\": 0, \"ticks\": \"\"}}, \"type\": \"parcoords\"}], \"pie\": [{\"automargin\": true, \"type\": \"pie\"}], \"scatter\": [{\"marker\": {\"colorbar\": {\"outlinewidth\": 0, \"ticks\": \"\"}}, \"type\": \"scatter\"}], \"scatter3d\": [{\"line\": {\"colorbar\": {\"outlinewidth\": 0, \"ticks\": \"\"}}, \"marker\": {\"colorbar\": {\"outlinewidth\": 0, \"ticks\": \"\"}}, \"type\": \"scatter3d\"}], \"scattercarpet\": [{\"marker\": {\"colorbar\": {\"outlinewidth\": 0, \"ticks\": \"\"}}, \"type\": \"scattercarpet\"}], \"scattergeo\": [{\"marker\": {\"colorbar\": {\"outlinewidth\": 0, \"ticks\": \"\"}}, \"type\": \"scattergeo\"}], \"scattergl\": [{\"marker\": {\"colorbar\": {\"outlinewidth\": 0, \"ticks\": \"\"}}, \"type\": \"scattergl\"}], \"scattermapbox\": [{\"marker\": {\"colorbar\": {\"outlinewidth\": 0, \"ticks\": \"\"}}, \"type\": \"scattermapbox\"}], \"scatterpolar\": [{\"marker\": {\"colorbar\": {\"outlinewidth\": 0, \"ticks\": \"\"}}, \"type\": \"scatterpolar\"}], \"scatterpolargl\": [{\"marker\": {\"colorbar\": {\"outlinewidth\": 0, \"ticks\": \"\"}}, \"type\": \"scatterpolargl\"}], \"scatterternary\": [{\"marker\": {\"colorbar\": {\"outlinewidth\": 0, \"ticks\": \"\"}}, \"type\": \"scatterternary\"}], \"surface\": [{\"colorbar\": {\"outlinewidth\": 0, \"ticks\": \"\"}, \"colorscale\": [[0.0, \"#0d0887\"], [0.1111111111111111, \"#46039f\"], [0.2222222222222222, \"#7201a8\"], [0.3333333333333333, \"#9c179e\"], [0.4444444444444444, \"#bd3786\"], [0.5555555555555556, \"#d8576b\"], [0.6666666666666666, \"#ed7953\"], [0.7777777777777778, \"#fb9f3a\"], [0.8888888888888888, \"#fdca26\"], [1.0, \"#f0f921\"]], \"type\": \"surface\"}], \"table\": [{\"cells\": {\"fill\": {\"color\": \"#EBF0F8\"}, \"line\": {\"color\": \"white\"}}, \"header\": {\"fill\": {\"color\": \"#C8D4E3\"}, \"line\": {\"color\": \"white\"}}, \"type\": \"table\"}]}, \"layout\": {\"annotationdefaults\": {\"arrowcolor\": \"#2a3f5f\", \"arrowhead\": 0, \"arrowwidth\": 1}, \"coloraxis\": {\"colorbar\": {\"outlinewidth\": 0, \"ticks\": \"\"}}, \"colorscale\": {\"diverging\": [[0, \"#8e0152\"], [0.1, \"#c51b7d\"], [0.2, \"#de77ae\"], [0.3, \"#f1b6da\"], [0.4, \"#fde0ef\"], [0.5, \"#f7f7f7\"], [0.6, \"#e6f5d0\"], [0.7, \"#b8e186\"], [0.8, \"#7fbc41\"], [0.9, \"#4d9221\"], [1, \"#276419\"]], \"sequential\": [[0.0, \"#0d0887\"], [0.1111111111111111, \"#46039f\"], [0.2222222222222222, \"#7201a8\"], [0.3333333333333333, \"#9c179e\"], [0.4444444444444444, \"#bd3786\"], [0.5555555555555556, \"#d8576b\"], [0.6666666666666666, \"#ed7953\"], [0.7777777777777778, \"#fb9f3a\"], [0.8888888888888888, \"#fdca26\"], [1.0, \"#f0f921\"]], \"sequentialminus\": [[0.0, \"#0d0887\"], [0.1111111111111111, \"#46039f\"], [0.2222222222222222, \"#7201a8\"], [0.3333333333333333, \"#9c179e\"], [0.4444444444444444, \"#bd3786\"], [0.5555555555555556, \"#d8576b\"], [0.6666666666666666, \"#ed7953\"], [0.7777777777777778, \"#fb9f3a\"], [0.8888888888888888, \"#fdca26\"], [1.0, \"#f0f921\"]]}, \"colorway\": [\"#636efa\", \"#EF553B\", \"#00cc96\", \"#ab63fa\", \"#FFA15A\", \"#19d3f3\", \"#FF6692\", \"#B6E880\", \"#FF97FF\", \"#FECB52\"], \"font\": {\"color\": \"#2a3f5f\"}, \"geo\": {\"bgcolor\": \"white\", \"lakecolor\": \"white\", \"landcolor\": \"#E5ECF6\", \"showlakes\": true, \"showland\": true, \"subunitcolor\": \"white\"}, \"hoverlabel\": {\"align\": \"left\"}, \"hovermode\": \"closest\", \"mapbox\": {\"style\": \"light\"}, \"paper_bgcolor\": \"white\", \"plot_bgcolor\": \"#E5ECF6\", \"polar\": {\"angularaxis\": {\"gridcolor\": \"white\", \"linecolor\": \"white\", \"ticks\": \"\"}, \"bgcolor\": \"#E5ECF6\", \"radialaxis\": {\"gridcolor\": \"white\", \"linecolor\": \"white\", \"ticks\": \"\"}}, \"scene\": {\"xaxis\": {\"backgroundcolor\": \"#E5ECF6\", \"gridcolor\": \"white\", \"gridwidth\": 2, \"linecolor\": \"white\", \"showbackground\": true, \"ticks\": \"\", \"zerolinecolor\": \"white\"}, \"yaxis\": {\"backgroundcolor\": \"#E5ECF6\", \"gridcolor\": \"white\", \"gridwidth\": 2, \"linecolor\": \"white\", \"showbackground\": true, \"ticks\": \"\", \"zerolinecolor\": \"white\"}, \"zaxis\": {\"backgroundcolor\": \"#E5ECF6\", \"gridcolor\": \"white\", \"gridwidth\": 2, \"linecolor\": \"white\", \"showbackground\": true, \"ticks\": \"\", \"zerolinecolor\": \"white\"}}, \"shapedefaults\": {\"line\": {\"color\": \"#2a3f5f\"}}, \"ternary\": {\"aaxis\": {\"gridcolor\": \"white\", \"linecolor\": \"white\", \"ticks\": \"\"}, \"baxis\": {\"gridcolor\": \"white\", \"linecolor\": \"white\", \"ticks\": \"\"}, \"bgcolor\": \"#E5ECF6\", \"caxis\": {\"gridcolor\": \"white\", \"linecolor\": \"white\", \"ticks\": \"\"}}, \"title\": {\"x\": 0.05}, \"xaxis\": {\"automargin\": true, \"gridcolor\": \"white\", \"linecolor\": \"white\", \"ticks\": \"\", \"title\": {\"standoff\": 15}, \"zerolinecolor\": \"white\", \"zerolinewidth\": 2}, \"yaxis\": {\"automargin\": true, \"gridcolor\": \"white\", \"linecolor\": \"white\", \"ticks\": \"\", \"title\": {\"standoff\": 15}, \"zerolinecolor\": \"white\", \"zerolinewidth\": 2}}}},\n",
       "                        {\"responsive\": true}\n",
       "                    ).then(function(){\n",
       "                            \n",
       "var gd = document.getElementById('0f5ebe84-1d1d-4bf1-ab00-4611045e599b');\n",
       "var x = new MutationObserver(function (mutations, observer) {{\n",
       "        var display = window.getComputedStyle(gd).display;\n",
       "        if (!display || display === 'none') {{\n",
       "            console.log([gd, 'removed!']);\n",
       "            Plotly.purge(gd);\n",
       "            observer.disconnect();\n",
       "        }}\n",
       "}});\n",
       "\n",
       "// Listen for the removal of the full notebook cells\n",
       "var notebookContainer = gd.closest('#notebook-container');\n",
       "if (notebookContainer) {{\n",
       "    x.observe(notebookContainer, {childList: true});\n",
       "}}\n",
       "\n",
       "// Listen for the clearing of the current output cell\n",
       "var outputEl = gd.closest('.output');\n",
       "if (outputEl) {{\n",
       "    x.observe(outputEl, {childList: true});\n",
       "}}\n",
       "\n",
       "                        })\n",
       "                };\n",
       "                });\n",
       "            </script>\n",
       "        </div>"
      ]
     },
     "metadata": {},
     "output_type": "display_data"
    }
   ],
   "source": [
    "#Summing per column\n",
    "tot_cases = df.TotalConfirmed.sum()\n",
    "nw_cases = df.NewConfirmed.sum()\n",
    "tot_deaths = df.TotalDeaths.sum()\n",
    "new_deaths = df.NewDeaths.sum()\n",
    "tot_recover = df.TotalRecovered.sum()\n",
    "new_recover = df.NewRecovered.sum()\n",
    "diff = tot_cases - nw_cases\n",
    "\n",
    "#Recoveries indicator\n",
    "fig2 = go.Figure(go.Indicator(\n",
    "    mode = \"number+delta\",\n",
    "    value = tot_recover,\n",
    "    delta = {'reference': diff2},\n",
    "    domain = {'row': 0, 'column': 1}))\n",
    "fig2 = fig2.update_layout(\n",
    "    template = {'data' : {'indicator': [{\n",
    "        'title': {'text': \"Recoveries\"}\n",
    "        }]\n",
    "                         }})\n",
    "fig2.show()"
   ]
  },
  {
   "cell_type": "code",
   "execution_count": 12,
   "metadata": {},
   "outputs": [
    {
     "data": {
      "application/vnd.plotly.v1+json": {
       "config": {
        "plotlyServerURL": "https://plot.ly"
       },
       "data": [
        {
         "delta": {
          "reference": 166180
         },
         "domain": {
          "column": 0,
          "row": 0
         },
         "gauge": {
          "axis": {
           "visible": false
          }
         },
         "type": "indicator",
         "value": 172968
        }
       ],
       "layout": {
        "template": {
         "data": {
          "bar": [
           {
            "error_x": {
             "color": "#2a3f5f"
            },
            "error_y": {
             "color": "#2a3f5f"
            },
            "marker": {
             "line": {
              "color": "#E5ECF6",
              "width": 0.5
             }
            },
            "type": "bar"
           }
          ],
          "barpolar": [
           {
            "marker": {
             "line": {
              "color": "#E5ECF6",
              "width": 0.5
             }
            },
            "type": "barpolar"
           }
          ],
          "carpet": [
           {
            "aaxis": {
             "endlinecolor": "#2a3f5f",
             "gridcolor": "white",
             "linecolor": "white",
             "minorgridcolor": "white",
             "startlinecolor": "#2a3f5f"
            },
            "baxis": {
             "endlinecolor": "#2a3f5f",
             "gridcolor": "white",
             "linecolor": "white",
             "minorgridcolor": "white",
             "startlinecolor": "#2a3f5f"
            },
            "type": "carpet"
           }
          ],
          "choropleth": [
           {
            "colorbar": {
             "outlinewidth": 0,
             "ticks": ""
            },
            "type": "choropleth"
           }
          ],
          "contour": [
           {
            "colorbar": {
             "outlinewidth": 0,
             "ticks": ""
            },
            "colorscale": [
             [
              0,
              "#0d0887"
             ],
             [
              0.1111111111111111,
              "#46039f"
             ],
             [
              0.2222222222222222,
              "#7201a8"
             ],
             [
              0.3333333333333333,
              "#9c179e"
             ],
             [
              0.4444444444444444,
              "#bd3786"
             ],
             [
              0.5555555555555556,
              "#d8576b"
             ],
             [
              0.6666666666666666,
              "#ed7953"
             ],
             [
              0.7777777777777778,
              "#fb9f3a"
             ],
             [
              0.8888888888888888,
              "#fdca26"
             ],
             [
              1,
              "#f0f921"
             ]
            ],
            "type": "contour"
           }
          ],
          "contourcarpet": [
           {
            "colorbar": {
             "outlinewidth": 0,
             "ticks": ""
            },
            "type": "contourcarpet"
           }
          ],
          "heatmap": [
           {
            "colorbar": {
             "outlinewidth": 0,
             "ticks": ""
            },
            "colorscale": [
             [
              0,
              "#0d0887"
             ],
             [
              0.1111111111111111,
              "#46039f"
             ],
             [
              0.2222222222222222,
              "#7201a8"
             ],
             [
              0.3333333333333333,
              "#9c179e"
             ],
             [
              0.4444444444444444,
              "#bd3786"
             ],
             [
              0.5555555555555556,
              "#d8576b"
             ],
             [
              0.6666666666666666,
              "#ed7953"
             ],
             [
              0.7777777777777778,
              "#fb9f3a"
             ],
             [
              0.8888888888888888,
              "#fdca26"
             ],
             [
              1,
              "#f0f921"
             ]
            ],
            "type": "heatmap"
           }
          ],
          "heatmapgl": [
           {
            "colorbar": {
             "outlinewidth": 0,
             "ticks": ""
            },
            "colorscale": [
             [
              0,
              "#0d0887"
             ],
             [
              0.1111111111111111,
              "#46039f"
             ],
             [
              0.2222222222222222,
              "#7201a8"
             ],
             [
              0.3333333333333333,
              "#9c179e"
             ],
             [
              0.4444444444444444,
              "#bd3786"
             ],
             [
              0.5555555555555556,
              "#d8576b"
             ],
             [
              0.6666666666666666,
              "#ed7953"
             ],
             [
              0.7777777777777778,
              "#fb9f3a"
             ],
             [
              0.8888888888888888,
              "#fdca26"
             ],
             [
              1,
              "#f0f921"
             ]
            ],
            "type": "heatmapgl"
           }
          ],
          "histogram": [
           {
            "marker": {
             "colorbar": {
              "outlinewidth": 0,
              "ticks": ""
             }
            },
            "type": "histogram"
           }
          ],
          "histogram2d": [
           {
            "colorbar": {
             "outlinewidth": 0,
             "ticks": ""
            },
            "colorscale": [
             [
              0,
              "#0d0887"
             ],
             [
              0.1111111111111111,
              "#46039f"
             ],
             [
              0.2222222222222222,
              "#7201a8"
             ],
             [
              0.3333333333333333,
              "#9c179e"
             ],
             [
              0.4444444444444444,
              "#bd3786"
             ],
             [
              0.5555555555555556,
              "#d8576b"
             ],
             [
              0.6666666666666666,
              "#ed7953"
             ],
             [
              0.7777777777777778,
              "#fb9f3a"
             ],
             [
              0.8888888888888888,
              "#fdca26"
             ],
             [
              1,
              "#f0f921"
             ]
            ],
            "type": "histogram2d"
           }
          ],
          "histogram2dcontour": [
           {
            "colorbar": {
             "outlinewidth": 0,
             "ticks": ""
            },
            "colorscale": [
             [
              0,
              "#0d0887"
             ],
             [
              0.1111111111111111,
              "#46039f"
             ],
             [
              0.2222222222222222,
              "#7201a8"
             ],
             [
              0.3333333333333333,
              "#9c179e"
             ],
             [
              0.4444444444444444,
              "#bd3786"
             ],
             [
              0.5555555555555556,
              "#d8576b"
             ],
             [
              0.6666666666666666,
              "#ed7953"
             ],
             [
              0.7777777777777778,
              "#fb9f3a"
             ],
             [
              0.8888888888888888,
              "#fdca26"
             ],
             [
              1,
              "#f0f921"
             ]
            ],
            "type": "histogram2dcontour"
           }
          ],
          "indicator": [
           {
            "mode": "number+delta+gauge",
            "title": {
             "text": "Total Deaths"
            },
            "type": "indicator"
           }
          ],
          "mesh3d": [
           {
            "colorbar": {
             "outlinewidth": 0,
             "ticks": ""
            },
            "type": "mesh3d"
           }
          ],
          "parcoords": [
           {
            "line": {
             "colorbar": {
              "outlinewidth": 0,
              "ticks": ""
             }
            },
            "type": "parcoords"
           }
          ],
          "pie": [
           {
            "automargin": true,
            "type": "pie"
           }
          ],
          "scatter": [
           {
            "marker": {
             "colorbar": {
              "outlinewidth": 0,
              "ticks": ""
             }
            },
            "type": "scatter"
           }
          ],
          "scatter3d": [
           {
            "line": {
             "colorbar": {
              "outlinewidth": 0,
              "ticks": ""
             }
            },
            "marker": {
             "colorbar": {
              "outlinewidth": 0,
              "ticks": ""
             }
            },
            "type": "scatter3d"
           }
          ],
          "scattercarpet": [
           {
            "marker": {
             "colorbar": {
              "outlinewidth": 0,
              "ticks": ""
             }
            },
            "type": "scattercarpet"
           }
          ],
          "scattergeo": [
           {
            "marker": {
             "colorbar": {
              "outlinewidth": 0,
              "ticks": ""
             }
            },
            "type": "scattergeo"
           }
          ],
          "scattergl": [
           {
            "marker": {
             "colorbar": {
              "outlinewidth": 0,
              "ticks": ""
             }
            },
            "type": "scattergl"
           }
          ],
          "scattermapbox": [
           {
            "marker": {
             "colorbar": {
              "outlinewidth": 0,
              "ticks": ""
             }
            },
            "type": "scattermapbox"
           }
          ],
          "scatterpolar": [
           {
            "marker": {
             "colorbar": {
              "outlinewidth": 0,
              "ticks": ""
             }
            },
            "type": "scatterpolar"
           }
          ],
          "scatterpolargl": [
           {
            "marker": {
             "colorbar": {
              "outlinewidth": 0,
              "ticks": ""
             }
            },
            "type": "scatterpolargl"
           }
          ],
          "scatterternary": [
           {
            "marker": {
             "colorbar": {
              "outlinewidth": 0,
              "ticks": ""
             }
            },
            "type": "scatterternary"
           }
          ],
          "surface": [
           {
            "colorbar": {
             "outlinewidth": 0,
             "ticks": ""
            },
            "colorscale": [
             [
              0,
              "#0d0887"
             ],
             [
              0.1111111111111111,
              "#46039f"
             ],
             [
              0.2222222222222222,
              "#7201a8"
             ],
             [
              0.3333333333333333,
              "#9c179e"
             ],
             [
              0.4444444444444444,
              "#bd3786"
             ],
             [
              0.5555555555555556,
              "#d8576b"
             ],
             [
              0.6666666666666666,
              "#ed7953"
             ],
             [
              0.7777777777777778,
              "#fb9f3a"
             ],
             [
              0.8888888888888888,
              "#fdca26"
             ],
             [
              1,
              "#f0f921"
             ]
            ],
            "type": "surface"
           }
          ],
          "table": [
           {
            "cells": {
             "fill": {
              "color": "#EBF0F8"
             },
             "line": {
              "color": "white"
             }
            },
            "header": {
             "fill": {
              "color": "#C8D4E3"
             },
             "line": {
              "color": "white"
             }
            },
            "type": "table"
           }
          ]
         },
         "layout": {
          "annotationdefaults": {
           "arrowcolor": "#2a3f5f",
           "arrowhead": 0,
           "arrowwidth": 1
          },
          "coloraxis": {
           "colorbar": {
            "outlinewidth": 0,
            "ticks": ""
           }
          },
          "colorscale": {
           "diverging": [
            [
             0,
             "#8e0152"
            ],
            [
             0.1,
             "#c51b7d"
            ],
            [
             0.2,
             "#de77ae"
            ],
            [
             0.3,
             "#f1b6da"
            ],
            [
             0.4,
             "#fde0ef"
            ],
            [
             0.5,
             "#f7f7f7"
            ],
            [
             0.6,
             "#e6f5d0"
            ],
            [
             0.7,
             "#b8e186"
            ],
            [
             0.8,
             "#7fbc41"
            ],
            [
             0.9,
             "#4d9221"
            ],
            [
             1,
             "#276419"
            ]
           ],
           "sequential": [
            [
             0,
             "#0d0887"
            ],
            [
             0.1111111111111111,
             "#46039f"
            ],
            [
             0.2222222222222222,
             "#7201a8"
            ],
            [
             0.3333333333333333,
             "#9c179e"
            ],
            [
             0.4444444444444444,
             "#bd3786"
            ],
            [
             0.5555555555555556,
             "#d8576b"
            ],
            [
             0.6666666666666666,
             "#ed7953"
            ],
            [
             0.7777777777777778,
             "#fb9f3a"
            ],
            [
             0.8888888888888888,
             "#fdca26"
            ],
            [
             1,
             "#f0f921"
            ]
           ],
           "sequentialminus": [
            [
             0,
             "#0d0887"
            ],
            [
             0.1111111111111111,
             "#46039f"
            ],
            [
             0.2222222222222222,
             "#7201a8"
            ],
            [
             0.3333333333333333,
             "#9c179e"
            ],
            [
             0.4444444444444444,
             "#bd3786"
            ],
            [
             0.5555555555555556,
             "#d8576b"
            ],
            [
             0.6666666666666666,
             "#ed7953"
            ],
            [
             0.7777777777777778,
             "#fb9f3a"
            ],
            [
             0.8888888888888888,
             "#fdca26"
            ],
            [
             1,
             "#f0f921"
            ]
           ]
          },
          "colorway": [
           "#636efa",
           "#EF553B",
           "#00cc96",
           "#ab63fa",
           "#FFA15A",
           "#19d3f3",
           "#FF6692",
           "#B6E880",
           "#FF97FF",
           "#FECB52"
          ],
          "font": {
           "color": "#2a3f5f"
          },
          "geo": {
           "bgcolor": "white",
           "lakecolor": "white",
           "landcolor": "#E5ECF6",
           "showlakes": true,
           "showland": true,
           "subunitcolor": "white"
          },
          "hoverlabel": {
           "align": "left"
          },
          "hovermode": "closest",
          "mapbox": {
           "style": "light"
          },
          "paper_bgcolor": "white",
          "plot_bgcolor": "#E5ECF6",
          "polar": {
           "angularaxis": {
            "gridcolor": "white",
            "linecolor": "white",
            "ticks": ""
           },
           "bgcolor": "#E5ECF6",
           "radialaxis": {
            "gridcolor": "white",
            "linecolor": "white",
            "ticks": ""
           }
          },
          "scene": {
           "xaxis": {
            "backgroundcolor": "#E5ECF6",
            "gridcolor": "white",
            "gridwidth": 2,
            "linecolor": "white",
            "showbackground": true,
            "ticks": "",
            "zerolinecolor": "white"
           },
           "yaxis": {
            "backgroundcolor": "#E5ECF6",
            "gridcolor": "white",
            "gridwidth": 2,
            "linecolor": "white",
            "showbackground": true,
            "ticks": "",
            "zerolinecolor": "white"
           },
           "zaxis": {
            "backgroundcolor": "#E5ECF6",
            "gridcolor": "white",
            "gridwidth": 2,
            "linecolor": "white",
            "showbackground": true,
            "ticks": "",
            "zerolinecolor": "white"
           }
          },
          "shapedefaults": {
           "line": {
            "color": "#2a3f5f"
           }
          },
          "ternary": {
           "aaxis": {
            "gridcolor": "white",
            "linecolor": "white",
            "ticks": ""
           },
           "baxis": {
            "gridcolor": "white",
            "linecolor": "white",
            "ticks": ""
           },
           "bgcolor": "#E5ECF6",
           "caxis": {
            "gridcolor": "white",
            "linecolor": "white",
            "ticks": ""
           }
          },
          "title": {
           "x": 0.05
          },
          "xaxis": {
           "automargin": true,
           "gridcolor": "white",
           "linecolor": "white",
           "ticks": "",
           "title": {
            "standoff": 15
           },
           "zerolinecolor": "white",
           "zerolinewidth": 2
          },
          "yaxis": {
           "automargin": true,
           "gridcolor": "white",
           "linecolor": "white",
           "ticks": "",
           "title": {
            "standoff": 15
           },
           "zerolinecolor": "white",
           "zerolinewidth": 2
          }
         }
        }
       }
      },
      "text/html": [
       "<div>\n",
       "        \n",
       "        \n",
       "            <div id=\"86bfaae7-ce9e-4290-866f-4be32bcc19cb\" class=\"plotly-graph-div\" style=\"height:525px; width:100%;\"></div>\n",
       "            <script type=\"text/javascript\">\n",
       "                require([\"plotly\"], function(Plotly) {\n",
       "                    window.PLOTLYENV=window.PLOTLYENV || {};\n",
       "                    \n",
       "                if (document.getElementById(\"86bfaae7-ce9e-4290-866f-4be32bcc19cb\")) {\n",
       "                    Plotly.newPlot(\n",
       "                        '86bfaae7-ce9e-4290-866f-4be32bcc19cb',\n",
       "                        [{\"delta\": {\"reference\": 166180}, \"domain\": {\"column\": 0, \"row\": 0}, \"gauge\": {\"axis\": {\"visible\": false}}, \"type\": \"indicator\", \"value\": 172968}],\n",
       "                        {\"template\": {\"data\": {\"bar\": [{\"error_x\": {\"color\": \"#2a3f5f\"}, \"error_y\": {\"color\": \"#2a3f5f\"}, \"marker\": {\"line\": {\"color\": \"#E5ECF6\", \"width\": 0.5}}, \"type\": \"bar\"}], \"barpolar\": [{\"marker\": {\"line\": {\"color\": \"#E5ECF6\", \"width\": 0.5}}, \"type\": \"barpolar\"}], \"carpet\": [{\"aaxis\": {\"endlinecolor\": \"#2a3f5f\", \"gridcolor\": \"white\", \"linecolor\": \"white\", \"minorgridcolor\": \"white\", \"startlinecolor\": \"#2a3f5f\"}, \"baxis\": {\"endlinecolor\": \"#2a3f5f\", \"gridcolor\": \"white\", \"linecolor\": \"white\", \"minorgridcolor\": \"white\", \"startlinecolor\": \"#2a3f5f\"}, \"type\": \"carpet\"}], \"choropleth\": [{\"colorbar\": {\"outlinewidth\": 0, \"ticks\": \"\"}, \"type\": \"choropleth\"}], \"contour\": [{\"colorbar\": {\"outlinewidth\": 0, \"ticks\": \"\"}, \"colorscale\": [[0.0, \"#0d0887\"], [0.1111111111111111, \"#46039f\"], [0.2222222222222222, \"#7201a8\"], [0.3333333333333333, \"#9c179e\"], [0.4444444444444444, \"#bd3786\"], [0.5555555555555556, \"#d8576b\"], [0.6666666666666666, \"#ed7953\"], [0.7777777777777778, \"#fb9f3a\"], [0.8888888888888888, \"#fdca26\"], [1.0, \"#f0f921\"]], \"type\": \"contour\"}], \"contourcarpet\": [{\"colorbar\": {\"outlinewidth\": 0, \"ticks\": \"\"}, \"type\": \"contourcarpet\"}], \"heatmap\": [{\"colorbar\": {\"outlinewidth\": 0, \"ticks\": \"\"}, \"colorscale\": [[0.0, \"#0d0887\"], [0.1111111111111111, \"#46039f\"], [0.2222222222222222, \"#7201a8\"], [0.3333333333333333, \"#9c179e\"], [0.4444444444444444, \"#bd3786\"], [0.5555555555555556, \"#d8576b\"], [0.6666666666666666, \"#ed7953\"], [0.7777777777777778, \"#fb9f3a\"], [0.8888888888888888, \"#fdca26\"], [1.0, \"#f0f921\"]], \"type\": \"heatmap\"}], \"heatmapgl\": [{\"colorbar\": {\"outlinewidth\": 0, \"ticks\": \"\"}, \"colorscale\": [[0.0, \"#0d0887\"], [0.1111111111111111, \"#46039f\"], [0.2222222222222222, \"#7201a8\"], [0.3333333333333333, \"#9c179e\"], [0.4444444444444444, \"#bd3786\"], [0.5555555555555556, \"#d8576b\"], [0.6666666666666666, \"#ed7953\"], [0.7777777777777778, \"#fb9f3a\"], [0.8888888888888888, \"#fdca26\"], [1.0, \"#f0f921\"]], \"type\": \"heatmapgl\"}], \"histogram\": [{\"marker\": {\"colorbar\": {\"outlinewidth\": 0, \"ticks\": \"\"}}, \"type\": \"histogram\"}], \"histogram2d\": [{\"colorbar\": {\"outlinewidth\": 0, \"ticks\": \"\"}, \"colorscale\": [[0.0, \"#0d0887\"], [0.1111111111111111, \"#46039f\"], [0.2222222222222222, \"#7201a8\"], [0.3333333333333333, \"#9c179e\"], [0.4444444444444444, \"#bd3786\"], [0.5555555555555556, \"#d8576b\"], [0.6666666666666666, \"#ed7953\"], [0.7777777777777778, \"#fb9f3a\"], [0.8888888888888888, \"#fdca26\"], [1.0, \"#f0f921\"]], \"type\": \"histogram2d\"}], \"histogram2dcontour\": [{\"colorbar\": {\"outlinewidth\": 0, \"ticks\": \"\"}, \"colorscale\": [[0.0, \"#0d0887\"], [0.1111111111111111, \"#46039f\"], [0.2222222222222222, \"#7201a8\"], [0.3333333333333333, \"#9c179e\"], [0.4444444444444444, \"#bd3786\"], [0.5555555555555556, \"#d8576b\"], [0.6666666666666666, \"#ed7953\"], [0.7777777777777778, \"#fb9f3a\"], [0.8888888888888888, \"#fdca26\"], [1.0, \"#f0f921\"]], \"type\": \"histogram2dcontour\"}], \"indicator\": [{\"mode\": \"number+delta+gauge\", \"title\": {\"text\": \"Total Deaths\"}, \"type\": \"indicator\"}], \"mesh3d\": [{\"colorbar\": {\"outlinewidth\": 0, \"ticks\": \"\"}, \"type\": \"mesh3d\"}], \"parcoords\": [{\"line\": {\"colorbar\": {\"outlinewidth\": 0, \"ticks\": \"\"}}, \"type\": \"parcoords\"}], \"pie\": [{\"automargin\": true, \"type\": \"pie\"}], \"scatter\": [{\"marker\": {\"colorbar\": {\"outlinewidth\": 0, \"ticks\": \"\"}}, \"type\": \"scatter\"}], \"scatter3d\": [{\"line\": {\"colorbar\": {\"outlinewidth\": 0, \"ticks\": \"\"}}, \"marker\": {\"colorbar\": {\"outlinewidth\": 0, \"ticks\": \"\"}}, \"type\": \"scatter3d\"}], \"scattercarpet\": [{\"marker\": {\"colorbar\": {\"outlinewidth\": 0, \"ticks\": \"\"}}, \"type\": \"scattercarpet\"}], \"scattergeo\": [{\"marker\": {\"colorbar\": {\"outlinewidth\": 0, \"ticks\": \"\"}}, \"type\": \"scattergeo\"}], \"scattergl\": [{\"marker\": {\"colorbar\": {\"outlinewidth\": 0, \"ticks\": \"\"}}, \"type\": \"scattergl\"}], \"scattermapbox\": [{\"marker\": {\"colorbar\": {\"outlinewidth\": 0, \"ticks\": \"\"}}, \"type\": \"scattermapbox\"}], \"scatterpolar\": [{\"marker\": {\"colorbar\": {\"outlinewidth\": 0, \"ticks\": \"\"}}, \"type\": \"scatterpolar\"}], \"scatterpolargl\": [{\"marker\": {\"colorbar\": {\"outlinewidth\": 0, \"ticks\": \"\"}}, \"type\": \"scatterpolargl\"}], \"scatterternary\": [{\"marker\": {\"colorbar\": {\"outlinewidth\": 0, \"ticks\": \"\"}}, \"type\": \"scatterternary\"}], \"surface\": [{\"colorbar\": {\"outlinewidth\": 0, \"ticks\": \"\"}, \"colorscale\": [[0.0, \"#0d0887\"], [0.1111111111111111, \"#46039f\"], [0.2222222222222222, \"#7201a8\"], [0.3333333333333333, \"#9c179e\"], [0.4444444444444444, \"#bd3786\"], [0.5555555555555556, \"#d8576b\"], [0.6666666666666666, \"#ed7953\"], [0.7777777777777778, \"#fb9f3a\"], [0.8888888888888888, \"#fdca26\"], [1.0, \"#f0f921\"]], \"type\": \"surface\"}], \"table\": [{\"cells\": {\"fill\": {\"color\": \"#EBF0F8\"}, \"line\": {\"color\": \"white\"}}, \"header\": {\"fill\": {\"color\": \"#C8D4E3\"}, \"line\": {\"color\": \"white\"}}, \"type\": \"table\"}]}, \"layout\": {\"annotationdefaults\": {\"arrowcolor\": \"#2a3f5f\", \"arrowhead\": 0, \"arrowwidth\": 1}, \"coloraxis\": {\"colorbar\": {\"outlinewidth\": 0, \"ticks\": \"\"}}, \"colorscale\": {\"diverging\": [[0, \"#8e0152\"], [0.1, \"#c51b7d\"], [0.2, \"#de77ae\"], [0.3, \"#f1b6da\"], [0.4, \"#fde0ef\"], [0.5, \"#f7f7f7\"], [0.6, \"#e6f5d0\"], [0.7, \"#b8e186\"], [0.8, \"#7fbc41\"], [0.9, \"#4d9221\"], [1, \"#276419\"]], \"sequential\": [[0.0, \"#0d0887\"], [0.1111111111111111, \"#46039f\"], [0.2222222222222222, \"#7201a8\"], [0.3333333333333333, \"#9c179e\"], [0.4444444444444444, \"#bd3786\"], [0.5555555555555556, \"#d8576b\"], [0.6666666666666666, \"#ed7953\"], [0.7777777777777778, \"#fb9f3a\"], [0.8888888888888888, \"#fdca26\"], [1.0, \"#f0f921\"]], \"sequentialminus\": [[0.0, \"#0d0887\"], [0.1111111111111111, \"#46039f\"], [0.2222222222222222, \"#7201a8\"], [0.3333333333333333, \"#9c179e\"], [0.4444444444444444, \"#bd3786\"], [0.5555555555555556, \"#d8576b\"], [0.6666666666666666, \"#ed7953\"], [0.7777777777777778, \"#fb9f3a\"], [0.8888888888888888, \"#fdca26\"], [1.0, \"#f0f921\"]]}, \"colorway\": [\"#636efa\", \"#EF553B\", \"#00cc96\", \"#ab63fa\", \"#FFA15A\", \"#19d3f3\", \"#FF6692\", \"#B6E880\", \"#FF97FF\", \"#FECB52\"], \"font\": {\"color\": \"#2a3f5f\"}, \"geo\": {\"bgcolor\": \"white\", \"lakecolor\": \"white\", \"landcolor\": \"#E5ECF6\", \"showlakes\": true, \"showland\": true, \"subunitcolor\": \"white\"}, \"hoverlabel\": {\"align\": \"left\"}, \"hovermode\": \"closest\", \"mapbox\": {\"style\": \"light\"}, \"paper_bgcolor\": \"white\", \"plot_bgcolor\": \"#E5ECF6\", \"polar\": {\"angularaxis\": {\"gridcolor\": \"white\", \"linecolor\": \"white\", \"ticks\": \"\"}, \"bgcolor\": \"#E5ECF6\", \"radialaxis\": {\"gridcolor\": \"white\", \"linecolor\": \"white\", \"ticks\": \"\"}}, \"scene\": {\"xaxis\": {\"backgroundcolor\": \"#E5ECF6\", \"gridcolor\": \"white\", \"gridwidth\": 2, \"linecolor\": \"white\", \"showbackground\": true, \"ticks\": \"\", \"zerolinecolor\": \"white\"}, \"yaxis\": {\"backgroundcolor\": \"#E5ECF6\", \"gridcolor\": \"white\", \"gridwidth\": 2, \"linecolor\": \"white\", \"showbackground\": true, \"ticks\": \"\", \"zerolinecolor\": \"white\"}, \"zaxis\": {\"backgroundcolor\": \"#E5ECF6\", \"gridcolor\": \"white\", \"gridwidth\": 2, \"linecolor\": \"white\", \"showbackground\": true, \"ticks\": \"\", \"zerolinecolor\": \"white\"}}, \"shapedefaults\": {\"line\": {\"color\": \"#2a3f5f\"}}, \"ternary\": {\"aaxis\": {\"gridcolor\": \"white\", \"linecolor\": \"white\", \"ticks\": \"\"}, \"baxis\": {\"gridcolor\": \"white\", \"linecolor\": \"white\", \"ticks\": \"\"}, \"bgcolor\": \"#E5ECF6\", \"caxis\": {\"gridcolor\": \"white\", \"linecolor\": \"white\", \"ticks\": \"\"}}, \"title\": {\"x\": 0.05}, \"xaxis\": {\"automargin\": true, \"gridcolor\": \"white\", \"linecolor\": \"white\", \"ticks\": \"\", \"title\": {\"standoff\": 15}, \"zerolinecolor\": \"white\", \"zerolinewidth\": 2}, \"yaxis\": {\"automargin\": true, \"gridcolor\": \"white\", \"linecolor\": \"white\", \"ticks\": \"\", \"title\": {\"standoff\": 15}, \"zerolinecolor\": \"white\", \"zerolinewidth\": 2}}}},\n",
       "                        {\"responsive\": true}\n",
       "                    ).then(function(){\n",
       "                            \n",
       "var gd = document.getElementById('86bfaae7-ce9e-4290-866f-4be32bcc19cb');\n",
       "var x = new MutationObserver(function (mutations, observer) {{\n",
       "        var display = window.getComputedStyle(gd).display;\n",
       "        if (!display || display === 'none') {{\n",
       "            console.log([gd, 'removed!']);\n",
       "            Plotly.purge(gd);\n",
       "            observer.disconnect();\n",
       "        }}\n",
       "}});\n",
       "\n",
       "// Listen for the removal of the full notebook cells\n",
       "var notebookContainer = gd.closest('#notebook-container');\n",
       "if (notebookContainer) {{\n",
       "    x.observe(notebookContainer, {childList: true});\n",
       "}}\n",
       "\n",
       "// Listen for the clearing of the current output cell\n",
       "var outputEl = gd.closest('.output');\n",
       "if (outputEl) {{\n",
       "    x.observe(outputEl, {childList: true});\n",
       "}}\n",
       "\n",
       "                        })\n",
       "                };\n",
       "                });\n",
       "            </script>\n",
       "        </div>"
      ]
     },
     "metadata": {},
     "output_type": "display_data"
    }
   ],
   "source": [
    "# total cases indicator\n",
    "fig3 = go.Figure(go.Indicator(\n",
    "    \n",
    "    value = tot_deaths,\n",
    "    delta = {'reference': diff3},\n",
    "    gauge = {\n",
    "        'axis': {'visible': False}},\n",
    "    domain = {'row': 0, 'column': 0}))\n",
    "\n",
    "fig3 = fig3.update_layout(\n",
    "    template = {'data' : {'indicator': [{\n",
    "        'title': {'text': \"Total Deaths\"},\n",
    "        'mode' : \"number+delta+gauge\",\n",
    "        }]\n",
    "                         }})\n",
    "fig3.show()"
   ]
  },
  {
   "cell_type": "code",
   "execution_count": 13,
   "metadata": {},
   "outputs": [
    {
     "data": {
      "text/html": [
       "<div>\n",
       "<style scoped>\n",
       "    .dataframe tbody tr th:only-of-type {\n",
       "        vertical-align: middle;\n",
       "    }\n",
       "\n",
       "    .dataframe tbody tr th {\n",
       "        vertical-align: top;\n",
       "    }\n",
       "\n",
       "    .dataframe thead th {\n",
       "        text-align: right;\n",
       "    }\n",
       "</style>\n",
       "<table border=\"1\" class=\"dataframe\">\n",
       "  <thead>\n",
       "    <tr style=\"text-align: right;\">\n",
       "      <th></th>\n",
       "      <th>Country</th>\n",
       "      <th>CountryCode</th>\n",
       "      <th>NewConfirmed</th>\n",
       "      <th>TotalConfirmed</th>\n",
       "      <th>NewDeaths</th>\n",
       "      <th>TotalDeaths</th>\n",
       "      <th>NewRecovered</th>\n",
       "      <th>TotalRecovered</th>\n",
       "      <th>Date</th>\n",
       "      <th>Active Cases</th>\n",
       "      <th>Closed Cases</th>\n",
       "      <th>Recovery Rate</th>\n",
       "      <th>Case Fatality Rate</th>\n",
       "    </tr>\n",
       "  </thead>\n",
       "  <tbody>\n",
       "    <tr>\n",
       "      <th>235</th>\n",
       "      <td>United States of America</td>\n",
       "      <td>US</td>\n",
       "      <td>33253</td>\n",
       "      <td>816963</td>\n",
       "      <td>2706</td>\n",
       "      <td>44781</td>\n",
       "      <td>2875</td>\n",
       "      <td>75204</td>\n",
       "      <td>2020-04-22T10:08:24Z</td>\n",
       "      <td>696978</td>\n",
       "      <td>119985</td>\n",
       "      <td>9.205313</td>\n",
       "      <td>5.481399</td>\n",
       "    </tr>\n",
       "    <tr>\n",
       "      <th>207</th>\n",
       "      <td>Spain</td>\n",
       "      <td>ES</td>\n",
       "      <td>3968</td>\n",
       "      <td>204178</td>\n",
       "      <td>430</td>\n",
       "      <td>21282</td>\n",
       "      <td>1927</td>\n",
       "      <td>82514</td>\n",
       "      <td>2020-04-22T10:08:24Z</td>\n",
       "      <td>100382</td>\n",
       "      <td>103796</td>\n",
       "      <td>40.412777</td>\n",
       "      <td>10.423258</td>\n",
       "    </tr>\n",
       "    <tr>\n",
       "      <th>108</th>\n",
       "      <td>Italy</td>\n",
       "      <td>IT</td>\n",
       "      <td>2729</td>\n",
       "      <td>183957</td>\n",
       "      <td>534</td>\n",
       "      <td>24648</td>\n",
       "      <td>2723</td>\n",
       "      <td>51600</td>\n",
       "      <td>2020-04-22T10:08:24Z</td>\n",
       "      <td>107709</td>\n",
       "      <td>76248</td>\n",
       "      <td>28.050033</td>\n",
       "      <td>13.398783</td>\n",
       "    </tr>\n",
       "    <tr>\n",
       "      <th>74</th>\n",
       "      <td>France</td>\n",
       "      <td>FR</td>\n",
       "      <td>2817</td>\n",
       "      <td>159297</td>\n",
       "      <td>537</td>\n",
       "      <td>20829</td>\n",
       "      <td>1783</td>\n",
       "      <td>39819</td>\n",
       "      <td>2020-04-22T10:08:24Z</td>\n",
       "      <td>98649</td>\n",
       "      <td>60648</td>\n",
       "      <td>24.996704</td>\n",
       "      <td>13.075576</td>\n",
       "    </tr>\n",
       "    <tr>\n",
       "      <th>81</th>\n",
       "      <td>Germany</td>\n",
       "      <td>DE</td>\n",
       "      <td>1226</td>\n",
       "      <td>148291</td>\n",
       "      <td>171</td>\n",
       "      <td>5033</td>\n",
       "      <td>3700</td>\n",
       "      <td>95200</td>\n",
       "      <td>2020-04-22T10:08:24Z</td>\n",
       "      <td>48058</td>\n",
       "      <td>100233</td>\n",
       "      <td>64.198097</td>\n",
       "      <td>3.394002</td>\n",
       "    </tr>\n",
       "  </tbody>\n",
       "</table>\n",
       "</div>"
      ],
      "text/plain": [
       "                      Country CountryCode  NewConfirmed  TotalConfirmed  \\\n",
       "235  United States of America          US         33253          816963   \n",
       "207                     Spain          ES          3968          204178   \n",
       "108                     Italy          IT          2729          183957   \n",
       "74                     France          FR          2817          159297   \n",
       "81                    Germany          DE          1226          148291   \n",
       "\n",
       "     NewDeaths  TotalDeaths  NewRecovered  TotalRecovered  \\\n",
       "235       2706        44781          2875           75204   \n",
       "207        430        21282          1927           82514   \n",
       "108        534        24648          2723           51600   \n",
       "74         537        20829          1783           39819   \n",
       "81         171         5033          3700           95200   \n",
       "\n",
       "                     Date  Active Cases  Closed Cases  Recovery Rate  \\\n",
       "235  2020-04-22T10:08:24Z        696978        119985       9.205313   \n",
       "207  2020-04-22T10:08:24Z        100382        103796      40.412777   \n",
       "108  2020-04-22T10:08:24Z        107709         76248      28.050033   \n",
       "74   2020-04-22T10:08:24Z         98649         60648      24.996704   \n",
       "81   2020-04-22T10:08:24Z         48058        100233      64.198097   \n",
       "\n",
       "     Case Fatality Rate  \n",
       "235            5.481399  \n",
       "207           10.423258  \n",
       "108           13.398783  \n",
       "74            13.075576  \n",
       "81             3.394002  "
      ]
     },
     "execution_count": 13,
     "metadata": {},
     "output_type": "execute_result"
    }
   ],
   "source": [
    "df['Active Cases'] = df['TotalConfirmed'] - df['TotalRecovered'] - df['TotalDeaths']\n",
    "df['Closed Cases'] = df['TotalRecovered'] + df['TotalDeaths']\n",
    "df['Recovery Rate'] = (df['TotalRecovered'] / df['TotalConfirmed'])*100\n",
    "df['Case Fatality Rate'] = (df['TotalDeaths'] / df['TotalConfirmed']) * 100\n",
    "df.head()"
   ]
  },
  {
   "cell_type": "code",
   "execution_count": 14,
   "metadata": {},
   "outputs": [],
   "source": [
    "\n",
    "url1 = 'https://api.covid19api.com/live/country/south-africa/status/confirmed/date/2020-03-21T13:13:30Z'\n",
    "df1 = pd.read_json(url1, orient='columns')\n",
    "url2 = 'https://api.covid19api.com/country/south-africa/status/confirmed'\n",
    "df2 = pd.read_json(url2, orient='columns')\n",
    "url3 = 'https://api.covid19api.com/country/south-africa/status/confirmed/live'\n",
    "df3 = pd.read_json(url3, orient='columns')\n",
    "url4 = 'https://covid19.soficoop.com/country/za'\n"
   ]
  },
  {
   "cell_type": "code",
   "execution_count": 15,
   "metadata": {},
   "outputs": [
    {
     "data": {
      "text/html": [
       "<div>\n",
       "<style scoped>\n",
       "    .dataframe tbody tr th:only-of-type {\n",
       "        vertical-align: middle;\n",
       "    }\n",
       "\n",
       "    .dataframe tbody tr th {\n",
       "        vertical-align: top;\n",
       "    }\n",
       "\n",
       "    .dataframe thead th {\n",
       "        text-align: right;\n",
       "    }\n",
       "</style>\n",
       "<table border=\"1\" class=\"dataframe\">\n",
       "  <thead>\n",
       "    <tr style=\"text-align: right;\">\n",
       "      <th></th>\n",
       "      <th>dateRep</th>\n",
       "      <th>day</th>\n",
       "      <th>month</th>\n",
       "      <th>year</th>\n",
       "      <th>cases</th>\n",
       "      <th>deaths</th>\n",
       "      <th>countriesAndTerritories</th>\n",
       "      <th>geoId</th>\n",
       "      <th>countryterritoryCode</th>\n",
       "      <th>popData2018</th>\n",
       "    </tr>\n",
       "  </thead>\n",
       "  <tbody>\n",
       "    <tr>\n",
       "      <th>0</th>\n",
       "      <td>16/04/2020</td>\n",
       "      <td>16</td>\n",
       "      <td>4</td>\n",
       "      <td>2020</td>\n",
       "      <td>70</td>\n",
       "      <td>2</td>\n",
       "      <td>Afghanistan</td>\n",
       "      <td>AF</td>\n",
       "      <td>AFG</td>\n",
       "      <td>37172386.0</td>\n",
       "    </tr>\n",
       "    <tr>\n",
       "      <th>1</th>\n",
       "      <td>15/04/2020</td>\n",
       "      <td>15</td>\n",
       "      <td>4</td>\n",
       "      <td>2020</td>\n",
       "      <td>49</td>\n",
       "      <td>2</td>\n",
       "      <td>Afghanistan</td>\n",
       "      <td>AF</td>\n",
       "      <td>AFG</td>\n",
       "      <td>37172386.0</td>\n",
       "    </tr>\n",
       "    <tr>\n",
       "      <th>2</th>\n",
       "      <td>14/04/2020</td>\n",
       "      <td>14</td>\n",
       "      <td>4</td>\n",
       "      <td>2020</td>\n",
       "      <td>58</td>\n",
       "      <td>3</td>\n",
       "      <td>Afghanistan</td>\n",
       "      <td>AF</td>\n",
       "      <td>AFG</td>\n",
       "      <td>37172386.0</td>\n",
       "    </tr>\n",
       "    <tr>\n",
       "      <th>3</th>\n",
       "      <td>13/04/2020</td>\n",
       "      <td>13</td>\n",
       "      <td>4</td>\n",
       "      <td>2020</td>\n",
       "      <td>52</td>\n",
       "      <td>0</td>\n",
       "      <td>Afghanistan</td>\n",
       "      <td>AF</td>\n",
       "      <td>AFG</td>\n",
       "      <td>37172386.0</td>\n",
       "    </tr>\n",
       "    <tr>\n",
       "      <th>4</th>\n",
       "      <td>12/04/2020</td>\n",
       "      <td>12</td>\n",
       "      <td>4</td>\n",
       "      <td>2020</td>\n",
       "      <td>34</td>\n",
       "      <td>3</td>\n",
       "      <td>Afghanistan</td>\n",
       "      <td>AF</td>\n",
       "      <td>AFG</td>\n",
       "      <td>37172386.0</td>\n",
       "    </tr>\n",
       "    <tr>\n",
       "      <th>...</th>\n",
       "      <td>...</td>\n",
       "      <td>...</td>\n",
       "      <td>...</td>\n",
       "      <td>...</td>\n",
       "      <td>...</td>\n",
       "      <td>...</td>\n",
       "      <td>...</td>\n",
       "      <td>...</td>\n",
       "      <td>...</td>\n",
       "      <td>...</td>\n",
       "    </tr>\n",
       "    <tr>\n",
       "      <th>11147</th>\n",
       "      <td>25/03/2020</td>\n",
       "      <td>25</td>\n",
       "      <td>3</td>\n",
       "      <td>2020</td>\n",
       "      <td>0</td>\n",
       "      <td>0</td>\n",
       "      <td>Zimbabwe</td>\n",
       "      <td>ZW</td>\n",
       "      <td>ZWE</td>\n",
       "      <td>14439018.0</td>\n",
       "    </tr>\n",
       "    <tr>\n",
       "      <th>11148</th>\n",
       "      <td>24/03/2020</td>\n",
       "      <td>24</td>\n",
       "      <td>3</td>\n",
       "      <td>2020</td>\n",
       "      <td>0</td>\n",
       "      <td>1</td>\n",
       "      <td>Zimbabwe</td>\n",
       "      <td>ZW</td>\n",
       "      <td>ZWE</td>\n",
       "      <td>14439018.0</td>\n",
       "    </tr>\n",
       "    <tr>\n",
       "      <th>11149</th>\n",
       "      <td>23/03/2020</td>\n",
       "      <td>23</td>\n",
       "      <td>3</td>\n",
       "      <td>2020</td>\n",
       "      <td>0</td>\n",
       "      <td>0</td>\n",
       "      <td>Zimbabwe</td>\n",
       "      <td>ZW</td>\n",
       "      <td>ZWE</td>\n",
       "      <td>14439018.0</td>\n",
       "    </tr>\n",
       "    <tr>\n",
       "      <th>11150</th>\n",
       "      <td>22/03/2020</td>\n",
       "      <td>22</td>\n",
       "      <td>3</td>\n",
       "      <td>2020</td>\n",
       "      <td>1</td>\n",
       "      <td>0</td>\n",
       "      <td>Zimbabwe</td>\n",
       "      <td>ZW</td>\n",
       "      <td>ZWE</td>\n",
       "      <td>14439018.0</td>\n",
       "    </tr>\n",
       "    <tr>\n",
       "      <th>11151</th>\n",
       "      <td>21/03/2020</td>\n",
       "      <td>21</td>\n",
       "      <td>3</td>\n",
       "      <td>2020</td>\n",
       "      <td>1</td>\n",
       "      <td>0</td>\n",
       "      <td>Zimbabwe</td>\n",
       "      <td>ZW</td>\n",
       "      <td>ZWE</td>\n",
       "      <td>14439018.0</td>\n",
       "    </tr>\n",
       "  </tbody>\n",
       "</table>\n",
       "<p>11152 rows × 10 columns</p>\n",
       "</div>"
      ],
      "text/plain": [
       "          dateRep  day  month  year  cases  deaths countriesAndTerritories  \\\n",
       "0      16/04/2020   16      4  2020     70       2             Afghanistan   \n",
       "1      15/04/2020   15      4  2020     49       2             Afghanistan   \n",
       "2      14/04/2020   14      4  2020     58       3             Afghanistan   \n",
       "3      13/04/2020   13      4  2020     52       0             Afghanistan   \n",
       "4      12/04/2020   12      4  2020     34       3             Afghanistan   \n",
       "...           ...  ...    ...   ...    ...     ...                     ...   \n",
       "11147  25/03/2020   25      3  2020      0       0                Zimbabwe   \n",
       "11148  24/03/2020   24      3  2020      0       1                Zimbabwe   \n",
       "11149  23/03/2020   23      3  2020      0       0                Zimbabwe   \n",
       "11150  22/03/2020   22      3  2020      1       0                Zimbabwe   \n",
       "11151  21/03/2020   21      3  2020      1       0                Zimbabwe   \n",
       "\n",
       "      geoId countryterritoryCode  popData2018  \n",
       "0        AF                  AFG   37172386.0  \n",
       "1        AF                  AFG   37172386.0  \n",
       "2        AF                  AFG   37172386.0  \n",
       "3        AF                  AFG   37172386.0  \n",
       "4        AF                  AFG   37172386.0  \n",
       "...     ...                  ...          ...  \n",
       "11147    ZW                  ZWE   14439018.0  \n",
       "11148    ZW                  ZWE   14439018.0  \n",
       "11149    ZW                  ZWE   14439018.0  \n",
       "11150    ZW                  ZWE   14439018.0  \n",
       "11151    ZW                  ZWE   14439018.0  \n",
       "\n",
       "[11152 rows x 10 columns]"
      ]
     },
     "execution_count": 15,
     "metadata": {},
     "output_type": "execute_result"
    }
   ],
   "source": [
    "# url5 = 'https://api.covid19api.com/total/dayone/country/south-africa'\n",
    "# df5 = pd.read_json(url5, orient='columns')\n",
    "# url6 = 'https://api.covid19api.com/all?from=2020-04-01T00:00:00Z&to=2020-04-12T00:00:00Z'\n",
    "df6 = pd.read_csv('covid.csv',delimiter=',')\n",
    "df6\n"
   ]
  },
  {
   "cell_type": "code",
   "execution_count": 16,
   "metadata": {},
   "outputs": [],
   "source": [
    "\n",
    "df4 = requests.get(url4).json()\n",
    "df4= pd.json_normalize(df4,record_path ='snapshots')\n",
    "# df5 = pd.read_csv('https://raw.githubusercontent.com/dsfsi/covid19za/master/data/covid19za_provincial_cumulative_timeline_confirmed.csv')\n",
    "# df5 = df5.fillna(0)\n",
    "# df5 = df5.drop(['YYYYMMDD'],axis=1)\n"
   ]
  },
  {
   "cell_type": "code",
   "execution_count": 17,
   "metadata": {},
   "outputs": [
    {
     "data": {
      "text/html": [
       "<div>\n",
       "<style scoped>\n",
       "    .dataframe tbody tr th:only-of-type {\n",
       "        vertical-align: middle;\n",
       "    }\n",
       "\n",
       "    .dataframe tbody tr th {\n",
       "        vertical-align: top;\n",
       "    }\n",
       "\n",
       "    .dataframe thead th {\n",
       "        text-align: right;\n",
       "    }\n",
       "</style>\n",
       "<table border=\"1\" class=\"dataframe\">\n",
       "  <thead>\n",
       "    <tr style=\"text-align: right;\">\n",
       "      <th></th>\n",
       "      <th>cases</th>\n",
       "      <th>todayCases</th>\n",
       "      <th>deaths</th>\n",
       "      <th>todayDeaths</th>\n",
       "      <th>recovered</th>\n",
       "      <th>active</th>\n",
       "      <th>critical</th>\n",
       "      <th>timestamp</th>\n",
       "    </tr>\n",
       "  </thead>\n",
       "  <tbody>\n",
       "    <tr>\n",
       "      <th>0</th>\n",
       "      <td>62</td>\n",
       "      <td>0</td>\n",
       "      <td>0</td>\n",
       "      <td>0</td>\n",
       "      <td>0</td>\n",
       "      <td>62</td>\n",
       "      <td>0</td>\n",
       "      <td>2020-03-17T21:00:00.200Z</td>\n",
       "    </tr>\n",
       "    <tr>\n",
       "      <th>1</th>\n",
       "      <td>62</td>\n",
       "      <td>0</td>\n",
       "      <td>0</td>\n",
       "      <td>0</td>\n",
       "      <td>0</td>\n",
       "      <td>62</td>\n",
       "      <td>0</td>\n",
       "      <td>2020-03-17T22:00:00.182Z</td>\n",
       "    </tr>\n",
       "    <tr>\n",
       "      <th>2</th>\n",
       "      <td>85</td>\n",
       "      <td>21</td>\n",
       "      <td>0</td>\n",
       "      <td>0</td>\n",
       "      <td>0</td>\n",
       "      <td>85</td>\n",
       "      <td>0</td>\n",
       "      <td>2020-03-17T23:00:00.171Z</td>\n",
       "    </tr>\n",
       "    <tr>\n",
       "      <th>3</th>\n",
       "      <td>85</td>\n",
       "      <td>21</td>\n",
       "      <td>0</td>\n",
       "      <td>0</td>\n",
       "      <td>0</td>\n",
       "      <td>85</td>\n",
       "      <td>0</td>\n",
       "      <td>2020-03-18T00:00:00.193Z</td>\n",
       "    </tr>\n",
       "    <tr>\n",
       "      <th>4</th>\n",
       "      <td>85</td>\n",
       "      <td>21</td>\n",
       "      <td>0</td>\n",
       "      <td>0</td>\n",
       "      <td>0</td>\n",
       "      <td>85</td>\n",
       "      <td>0</td>\n",
       "      <td>2020-03-18T01:00:00.205Z</td>\n",
       "    </tr>\n",
       "    <tr>\n",
       "      <th>...</th>\n",
       "      <td>...</td>\n",
       "      <td>...</td>\n",
       "      <td>...</td>\n",
       "      <td>...</td>\n",
       "      <td>...</td>\n",
       "      <td>...</td>\n",
       "      <td>...</td>\n",
       "      <td>...</td>\n",
       "    </tr>\n",
       "    <tr>\n",
       "      <th>827</th>\n",
       "      <td>3465</td>\n",
       "      <td>0</td>\n",
       "      <td>58</td>\n",
       "      <td>0</td>\n",
       "      <td>1055</td>\n",
       "      <td>2352</td>\n",
       "      <td>36</td>\n",
       "      <td>2020-04-22T06:00:00.189Z</td>\n",
       "    </tr>\n",
       "    <tr>\n",
       "      <th>828</th>\n",
       "      <td>3465</td>\n",
       "      <td>0</td>\n",
       "      <td>58</td>\n",
       "      <td>0</td>\n",
       "      <td>1055</td>\n",
       "      <td>2352</td>\n",
       "      <td>36</td>\n",
       "      <td>2020-04-22T07:00:00.223Z</td>\n",
       "    </tr>\n",
       "    <tr>\n",
       "      <th>829</th>\n",
       "      <td>3465</td>\n",
       "      <td>0</td>\n",
       "      <td>58</td>\n",
       "      <td>0</td>\n",
       "      <td>1055</td>\n",
       "      <td>2352</td>\n",
       "      <td>36</td>\n",
       "      <td>2020-04-22T08:00:00.223Z</td>\n",
       "    </tr>\n",
       "    <tr>\n",
       "      <th>830</th>\n",
       "      <td>3465</td>\n",
       "      <td>0</td>\n",
       "      <td>58</td>\n",
       "      <td>0</td>\n",
       "      <td>1055</td>\n",
       "      <td>2352</td>\n",
       "      <td>36</td>\n",
       "      <td>2020-04-22T09:00:00.223Z</td>\n",
       "    </tr>\n",
       "    <tr>\n",
       "      <th>831</th>\n",
       "      <td>3465</td>\n",
       "      <td>0</td>\n",
       "      <td>58</td>\n",
       "      <td>0</td>\n",
       "      <td>1055</td>\n",
       "      <td>2352</td>\n",
       "      <td>36</td>\n",
       "      <td>2020-04-22T10:00:00.245Z</td>\n",
       "    </tr>\n",
       "  </tbody>\n",
       "</table>\n",
       "<p>832 rows × 8 columns</p>\n",
       "</div>"
      ],
      "text/plain": [
       "     cases  todayCases  deaths  todayDeaths  recovered  active  critical  \\\n",
       "0       62           0       0            0          0      62         0   \n",
       "1       62           0       0            0          0      62         0   \n",
       "2       85          21       0            0          0      85         0   \n",
       "3       85          21       0            0          0      85         0   \n",
       "4       85          21       0            0          0      85         0   \n",
       "..     ...         ...     ...          ...        ...     ...       ...   \n",
       "827   3465           0      58            0       1055    2352        36   \n",
       "828   3465           0      58            0       1055    2352        36   \n",
       "829   3465           0      58            0       1055    2352        36   \n",
       "830   3465           0      58            0       1055    2352        36   \n",
       "831   3465           0      58            0       1055    2352        36   \n",
       "\n",
       "                    timestamp  \n",
       "0    2020-03-17T21:00:00.200Z  \n",
       "1    2020-03-17T22:00:00.182Z  \n",
       "2    2020-03-17T23:00:00.171Z  \n",
       "3    2020-03-18T00:00:00.193Z  \n",
       "4    2020-03-18T01:00:00.205Z  \n",
       "..                        ...  \n",
       "827  2020-04-22T06:00:00.189Z  \n",
       "828  2020-04-22T07:00:00.223Z  \n",
       "829  2020-04-22T08:00:00.223Z  \n",
       "830  2020-04-22T09:00:00.223Z  \n",
       "831  2020-04-22T10:00:00.245Z  \n",
       "\n",
       "[832 rows x 8 columns]"
      ]
     },
     "execution_count": 17,
     "metadata": {},
     "output_type": "execute_result"
    }
   ],
   "source": [
    "df4"
   ]
  },
  {
   "cell_type": "code",
   "execution_count": null,
   "metadata": {},
   "outputs": [],
   "source": []
  },
  {
   "cell_type": "code",
   "execution_count": 18,
   "metadata": {},
   "outputs": [
    {
     "data": {
      "application/vnd.plotly.v1+json": {
       "config": {
        "plotlyServerURL": "https://plot.ly"
       },
       "data": [
        {
         "name": "Active Cases in SA",
         "type": "scatter",
         "x": [
          "2020-03-17T21:00:00.200Z",
          "2020-03-17T22:00:00.182Z",
          "2020-03-17T23:00:00.171Z",
          "2020-03-18T00:00:00.193Z",
          "2020-03-18T01:00:00.205Z",
          "2020-03-18T02:00:00.195Z",
          "2020-03-18T03:00:00.182Z",
          "2020-03-18T04:00:00.190Z",
          "2020-03-18T05:00:00.147Z",
          "2020-03-18T06:00:00.205Z",
          "2020-03-18T07:00:00.215Z",
          "2020-03-18T08:00:00.192Z",
          "2020-03-18T09:00:00.167Z",
          "2020-03-18T10:00:00.221Z",
          "2020-03-18T11:00:00.223Z",
          "2020-03-18T12:00:00.202Z",
          "2020-03-18T13:00:00.296Z",
          "2020-03-18T14:00:00.178Z",
          "2020-03-18T15:00:00.169Z",
          "2020-03-18T16:00:00.171Z",
          "2020-03-18T18:00:00.155Z",
          "2020-03-18T19:00:00.206Z",
          "2020-03-18T20:00:00.199Z",
          "2020-03-18T21:00:00.171Z",
          "2020-03-18T22:00:00.161Z",
          "2020-03-18T23:00:00.188Z",
          "2020-03-19T00:00:00.179Z",
          "2020-03-19T02:00:00.181Z",
          "2020-03-19T03:00:00.192Z",
          "2020-03-19T04:00:00.162Z",
          "2020-03-19T05:00:00.163Z",
          "2020-03-19T06:00:00.187Z",
          "2020-03-19T07:00:00.203Z",
          "2020-03-19T08:00:00.151Z",
          "2020-03-19T09:00:00.176Z",
          "2020-03-19T10:00:00.153Z",
          "2020-03-19T11:00:00.150Z",
          "2020-03-19T12:00:00.164Z",
          "2020-03-19T13:00:00.237Z",
          "2020-03-19T14:00:00.221Z",
          "2020-03-19T15:00:00.230Z",
          "2020-03-19T16:00:00.167Z",
          "2020-03-19T17:00:00.204Z",
          "2020-03-19T18:00:00.211Z",
          "2020-03-19T19:00:00.159Z",
          "2020-03-19T20:00:00.204Z",
          "2020-03-19T21:00:00.186Z",
          "2020-03-19T22:00:00.164Z",
          "2020-03-19T23:00:00.156Z",
          "2020-03-20T00:00:00.158Z",
          "2020-03-20T01:00:00.190Z",
          "2020-03-20T02:00:00.192Z",
          "2020-03-20T03:00:00.182Z",
          "2020-03-20T04:00:00.171Z",
          "2020-03-20T05:00:00.194Z",
          "2020-03-20T06:00:00.205Z",
          "2020-03-20T07:00:00.169Z",
          "2020-03-20T08:00:00.196Z",
          "2020-03-20T09:00:00.198Z",
          "2020-03-20T10:00:00.190Z",
          "2020-03-20T11:00:00.232Z",
          "2020-03-20T12:00:00.201Z",
          "2020-03-20T13:00:00.163Z",
          "2020-03-20T14:00:00.198Z",
          "2020-03-20T15:00:00.179Z",
          "2020-03-20T16:00:00.199Z",
          "2020-03-20T17:00:00.206Z",
          "2020-03-20T18:00:00.200Z",
          "2020-03-20T19:00:00.161Z",
          "2020-03-20T20:00:00.238Z",
          "2020-03-20T21:00:00.224Z",
          "2020-03-20T22:00:00.195Z",
          "2020-03-20T23:00:00.214Z",
          "2020-03-21T00:00:00.178Z",
          "2020-03-21T01:00:00.219Z",
          "2020-03-21T02:00:00.174Z",
          "2020-03-21T03:00:00.168Z",
          "2020-03-21T04:00:00.250Z",
          "2020-03-21T05:00:00.211Z",
          "2020-03-21T06:00:00.188Z",
          "2020-03-21T07:00:00.162Z",
          "2020-03-21T08:00:00.162Z",
          "2020-03-21T09:00:00.202Z",
          "2020-03-21T10:00:00.183Z",
          "2020-03-21T11:00:00.229Z",
          "2020-03-21T12:00:00.227Z",
          "2020-03-21T13:00:00.182Z",
          "2020-03-21T14:00:00.179Z",
          "2020-03-21T15:00:00.205Z",
          "2020-03-21T16:00:00.171Z",
          "2020-03-21T17:00:00.230Z",
          "2020-03-21T18:00:00.232Z",
          "2020-03-21T19:00:00.189Z",
          "2020-03-21T20:00:00.207Z",
          "2020-03-21T21:00:00.185Z",
          "2020-03-21T22:00:00.201Z",
          "2020-03-21T23:00:00.163Z",
          "2020-03-22T00:00:00.178Z",
          "2020-03-22T01:00:00.171Z",
          "2020-03-22T02:00:00.155Z",
          "2020-03-22T03:00:00.209Z",
          "2020-03-22T04:00:00.179Z",
          "2020-03-22T05:00:00.186Z",
          "2020-03-22T06:00:00.205Z",
          "2020-03-22T07:00:00.207Z",
          "2020-03-22T08:00:00.189Z",
          "2020-03-22T09:00:00.190Z",
          "2020-03-22T10:00:00.231Z",
          "2020-03-22T11:00:00.202Z",
          "2020-03-22T12:00:00.191Z",
          "2020-03-22T13:00:00.168Z",
          "2020-03-22T14:00:00.211Z",
          "2020-03-22T15:00:00.223Z",
          "2020-03-22T16:00:00.200Z",
          "2020-03-22T17:00:00.225Z",
          "2020-03-22T18:00:00.197Z",
          "2020-03-22T19:00:00.200Z",
          "2020-03-22T20:00:00.155Z",
          "2020-03-22T21:00:00.157Z",
          "2020-03-22T22:00:00.183Z",
          "2020-03-22T23:00:00.192Z",
          "2020-03-23T00:00:00.227Z",
          "2020-03-23T01:00:00.150Z",
          "2020-03-23T02:00:00.278Z",
          "2020-03-23T03:00:00.195Z",
          "2020-03-23T20:00:00.171Z",
          "2020-03-23T21:00:00.241Z",
          "2020-03-23T22:00:00.191Z",
          "2020-03-23T23:00:00.193Z",
          "2020-03-24T00:00:00.225Z",
          "2020-03-24T01:00:00.213Z",
          "2020-03-24T02:00:00.233Z",
          "2020-03-24T03:00:00.172Z",
          "2020-03-24T04:00:00.243Z",
          "2020-03-24T05:00:00.217Z",
          "2020-03-24T06:00:00.208Z",
          "2020-03-24T07:00:00.168Z",
          "2020-03-24T08:00:00.226Z",
          "2020-03-24T09:00:00.223Z",
          "2020-03-24T10:00:00.276Z",
          "2020-03-24T11:00:00.202Z",
          "2020-03-24T12:00:00.194Z",
          "2020-03-24T13:00:00.235Z",
          "2020-03-24T14:00:00.228Z",
          "2020-03-24T15:00:00.223Z",
          "2020-03-24T16:00:00.180Z",
          "2020-03-24T17:00:00.204Z",
          "2020-03-24T18:00:00.207Z",
          "2020-03-24T19:00:00.195Z",
          "2020-03-24T20:00:00.195Z",
          "2020-03-24T21:00:00.225Z",
          "2020-03-24T22:00:00.228Z",
          "2020-03-24T23:00:00.194Z",
          "2020-03-25T00:00:00.196Z",
          "2020-03-25T01:00:00.156Z",
          "2020-03-25T02:00:00.242Z",
          "2020-03-25T03:00:00.160Z",
          "2020-03-25T04:00:00.238Z",
          "2020-03-25T05:00:00.189Z",
          "2020-03-25T06:00:00.200Z",
          "2020-03-25T07:00:00.170Z",
          "2020-03-25T08:00:00.212Z",
          "2020-03-25T09:00:00.232Z",
          "2020-03-25T10:00:00.218Z",
          "2020-03-25T11:00:00.273Z",
          "2020-03-25T12:00:00.220Z",
          "2020-03-25T13:00:00.164Z",
          "2020-03-25T14:00:00.245Z",
          "2020-03-25T15:00:00.222Z",
          "2020-03-25T16:00:00.201Z",
          "2020-03-25T17:00:00.205Z",
          "2020-03-25T18:00:00.228Z",
          "2020-03-25T19:00:00.188Z",
          "2020-03-25T20:00:00.192Z",
          "2020-03-25T21:00:00.194Z",
          "2020-03-25T22:00:00.242Z",
          "2020-03-25T23:00:00.162Z",
          "2020-03-26T00:00:00.190Z",
          "2020-03-26T01:00:00.220Z",
          "2020-03-26T02:00:00.198Z",
          "2020-03-26T03:00:00.216Z",
          "2020-03-26T04:00:00.161Z",
          "2020-03-26T05:00:00.183Z",
          "2020-03-26T06:00:00.223Z",
          "2020-03-26T07:00:00.220Z",
          "2020-03-26T08:00:00.230Z",
          "2020-03-26T09:00:00.210Z",
          "2020-03-26T10:00:00.222Z",
          "2020-03-26T11:00:00.437Z",
          "2020-03-26T12:00:00.221Z",
          "2020-03-26T13:00:00.374Z",
          "2020-03-26T14:00:00.333Z",
          "2020-03-26T15:00:00.188Z",
          "2020-03-26T16:00:00.314Z",
          "2020-03-26T17:00:00.260Z",
          "2020-03-26T18:00:00.506Z",
          "2020-03-26T19:00:01.083Z",
          "2020-03-26T20:00:01.124Z",
          "2020-03-26T21:00:00.185Z",
          "2020-03-26T22:00:00.170Z",
          "2020-03-26T23:00:00.995Z",
          "2020-03-27T00:00:00.195Z",
          "2020-03-27T01:00:00.216Z",
          "2020-03-27T02:00:00.218Z",
          "2020-03-27T03:00:00.192Z",
          "2020-03-27T04:00:00.209Z",
          "2020-03-27T05:00:00.182Z",
          "2020-03-27T06:00:00.188Z",
          "2020-03-27T07:00:00.218Z",
          "2020-03-27T08:00:00.204Z",
          "2020-03-27T09:00:00.220Z",
          "2020-03-27T10:00:00.200Z",
          "2020-03-27T11:00:00.163Z",
          "2020-03-27T12:00:00.246Z",
          "2020-03-27T13:00:00.205Z",
          "2020-03-27T14:00:00.256Z",
          "2020-03-27T15:00:00.173Z",
          "2020-03-27T16:00:00.168Z",
          "2020-03-27T17:00:00.223Z",
          "2020-03-27T18:00:00.236Z",
          "2020-03-27T19:00:00.194Z",
          "2020-03-27T21:00:00.202Z",
          "2020-03-27T22:00:00.191Z",
          "2020-03-27T23:00:00.159Z",
          "2020-03-28T01:00:00.213Z",
          "2020-03-28T02:00:00.191Z",
          "2020-03-28T03:00:00.225Z",
          "2020-03-28T04:00:00.185Z",
          "2020-03-28T05:00:00.200Z",
          "2020-03-28T06:00:00.211Z",
          "2020-03-28T07:00:00.169Z",
          "2020-03-28T08:00:00.299Z",
          "2020-03-28T09:00:00.204Z",
          "2020-03-28T10:00:00.214Z",
          "2020-03-28T11:00:00.224Z",
          "2020-03-28T12:00:00.174Z",
          "2020-03-28T13:00:00.241Z",
          "2020-03-28T14:00:00.191Z",
          "2020-03-28T15:00:00.156Z",
          "2020-03-28T16:00:00.197Z",
          "2020-03-28T17:00:00.219Z",
          "2020-03-28T18:00:00.163Z",
          "2020-03-28T19:00:00.196Z",
          "2020-03-28T20:00:00.230Z",
          "2020-03-28T21:00:00.235Z",
          "2020-03-28T22:00:00.193Z",
          "2020-03-28T23:00:00.268Z",
          "2020-03-29T00:00:00.161Z",
          "2020-03-29T01:00:00.168Z",
          "2020-03-29T02:00:00.246Z",
          "2020-03-29T03:00:00.185Z",
          "2020-03-29T04:00:00.185Z",
          "2020-03-29T05:00:00.152Z",
          "2020-03-29T06:00:00.228Z",
          "2020-03-29T07:00:00.225Z",
          "2020-03-29T08:00:00.239Z",
          "2020-03-29T09:00:00.221Z",
          "2020-03-29T10:00:00.238Z",
          "2020-03-29T11:00:00.207Z",
          "2020-03-29T12:00:00.163Z",
          "2020-03-29T13:00:00.186Z",
          "2020-03-29T14:00:00.169Z",
          "2020-03-29T15:00:00.184Z",
          "2020-03-29T16:00:00.175Z",
          "2020-03-29T17:00:00.218Z",
          "2020-03-29T18:00:00.177Z",
          "2020-03-29T19:00:00.225Z",
          "2020-03-29T20:00:00.161Z",
          "2020-03-29T21:00:00.186Z",
          "2020-03-29T22:00:00.218Z",
          "2020-03-29T23:00:00.168Z",
          "2020-03-30T00:00:00.188Z",
          "2020-03-30T01:00:00.159Z",
          "2020-03-30T02:00:00.190Z",
          "2020-03-30T03:00:00.179Z",
          "2020-03-30T04:00:00.226Z",
          "2020-03-30T05:00:00.232Z",
          "2020-03-30T06:00:00.188Z",
          "2020-03-30T07:00:00.253Z",
          "2020-03-30T08:00:00.231Z",
          "2020-03-30T09:00:00.194Z",
          "2020-03-30T10:00:00.222Z",
          "2020-03-30T11:00:00.183Z",
          "2020-03-30T12:00:00.225Z",
          "2020-03-30T13:00:00.236Z",
          "2020-03-30T14:00:00.235Z",
          "2020-03-30T15:00:00.231Z",
          "2020-03-30T16:00:00.186Z",
          "2020-03-30T17:00:00.191Z",
          "2020-03-30T18:00:00.193Z",
          "2020-03-30T19:00:00.196Z",
          "2020-03-30T20:00:00.199Z",
          "2020-03-30T21:00:00.226Z",
          "2020-03-30T22:00:00.200Z",
          "2020-03-30T23:00:00.222Z",
          "2020-03-31T00:00:00.174Z",
          "2020-03-31T01:00:00.247Z",
          "2020-03-31T02:00:00.214Z",
          "2020-03-31T03:00:00.161Z",
          "2020-03-31T04:00:00.164Z",
          "2020-03-31T05:00:00.141Z",
          "2020-03-31T06:00:00.194Z",
          "2020-03-31T07:00:00.200Z",
          "2020-03-31T08:00:00.158Z",
          "2020-03-31T09:00:00.195Z",
          "2020-03-31T10:00:00.225Z",
          "2020-03-31T11:00:00.192Z",
          "2020-03-31T12:00:00.232Z",
          "2020-03-31T13:00:00.222Z",
          "2020-03-31T14:00:00.160Z",
          "2020-03-31T15:00:00.218Z",
          "2020-03-31T16:00:00.201Z",
          "2020-03-31T17:00:00.198Z",
          "2020-03-31T18:00:00.191Z",
          "2020-03-31T19:00:00.184Z",
          "2020-03-31T20:00:00.192Z",
          "2020-03-31T21:00:00.194Z",
          "2020-03-31T22:00:00.214Z",
          "2020-03-31T23:00:00.182Z",
          "2020-04-01T00:00:00.195Z",
          "2020-04-01T01:00:00.169Z",
          "2020-04-01T02:00:00.229Z",
          "2020-04-01T03:00:00.293Z",
          "2020-04-01T04:00:00.207Z",
          "2020-04-01T05:00:00.193Z",
          "2020-04-01T06:00:00.238Z",
          "2020-04-01T07:00:00.168Z",
          "2020-04-01T08:00:00.229Z",
          "2020-04-01T09:00:00.180Z",
          "2020-04-01T10:00:00.218Z",
          "2020-04-01T11:00:00.205Z",
          "2020-04-01T12:00:00.241Z",
          "2020-04-01T13:00:00.160Z",
          "2020-04-01T14:00:00.203Z",
          "2020-04-01T15:00:00.213Z",
          "2020-04-01T16:00:00.193Z",
          "2020-04-01T17:00:00.260Z",
          "2020-04-01T18:00:00.201Z",
          "2020-04-01T19:00:00.271Z",
          "2020-04-01T20:00:00.209Z",
          "2020-04-01T21:00:00.225Z",
          "2020-04-01T22:00:00.168Z",
          "2020-04-01T23:00:00.206Z",
          "2020-04-02T00:00:00.182Z",
          "2020-04-02T01:00:00.198Z",
          "2020-04-02T02:00:00.212Z",
          "2020-04-02T03:00:00.220Z",
          "2020-04-02T05:00:00.195Z",
          "2020-04-02T06:00:00.241Z",
          "2020-04-02T07:00:00.229Z",
          "2020-04-02T08:00:00.193Z",
          "2020-04-02T09:00:00.199Z",
          "2020-04-02T10:00:00.230Z",
          "2020-04-02T11:00:00.212Z",
          "2020-04-02T12:00:00.187Z",
          "2020-04-02T13:00:00.259Z",
          "2020-04-02T14:00:00.289Z",
          "2020-04-02T15:00:00.212Z",
          "2020-04-02T16:00:00.157Z",
          "2020-04-02T17:00:00.191Z",
          "2020-04-02T18:00:00.201Z",
          "2020-04-02T19:00:00.210Z",
          "2020-04-02T20:00:00.193Z",
          "2020-04-02T21:00:00.223Z",
          "2020-04-02T22:00:00.197Z",
          "2020-04-02T23:00:00.227Z",
          "2020-04-03T00:00:00.201Z",
          "2020-04-03T01:00:00.159Z",
          "2020-04-03T02:00:00.180Z",
          "2020-04-03T03:00:00.233Z",
          "2020-04-03T04:00:00.210Z",
          "2020-04-03T05:00:00.168Z",
          "2020-04-03T06:00:00.193Z",
          "2020-04-03T07:00:00.261Z",
          "2020-04-03T08:00:00.194Z",
          "2020-04-03T09:00:00.278Z",
          "2020-04-03T10:00:00.232Z",
          "2020-04-03T11:00:00.181Z",
          "2020-04-03T12:00:00.200Z",
          "2020-04-03T13:00:00.170Z",
          "2020-04-03T14:00:00.184Z",
          "2020-04-03T15:00:00.219Z",
          "2020-04-03T16:00:00.164Z",
          "2020-04-03T17:00:00.180Z",
          "2020-04-03T18:00:00.184Z",
          "2020-04-03T19:00:00.196Z",
          "2020-04-03T20:00:00.184Z",
          "2020-04-03T21:00:00.211Z",
          "2020-04-03T22:00:00.194Z",
          "2020-04-03T23:00:00.148Z",
          "2020-04-04T00:00:00.159Z",
          "2020-04-04T01:00:00.181Z",
          "2020-04-04T02:00:00.157Z",
          "2020-04-04T03:00:00.217Z",
          "2020-04-04T04:00:00.192Z",
          "2020-04-04T05:00:00.173Z",
          "2020-04-04T06:00:00.230Z",
          "2020-04-04T07:00:00.159Z",
          "2020-04-04T08:00:00.237Z",
          "2020-04-04T09:00:00.162Z",
          "2020-04-04T10:00:00.188Z",
          "2020-04-04T11:00:00.185Z",
          "2020-04-04T12:00:00.192Z",
          "2020-04-04T13:00:00.162Z",
          "2020-04-04T14:00:00.171Z",
          "2020-04-04T15:00:00.216Z",
          "2020-04-04T17:00:00.185Z",
          "2020-04-04T18:00:00.199Z",
          "2020-04-04T19:00:00.217Z",
          "2020-04-04T20:00:00.225Z",
          "2020-04-04T21:00:00.255Z",
          "2020-04-04T22:00:00.199Z",
          "2020-04-04T23:00:00.282Z",
          "2020-04-05T00:00:00.238Z",
          "2020-04-05T01:00:00.225Z",
          "2020-04-05T02:00:00.235Z",
          "2020-04-05T03:00:00.253Z",
          "2020-04-05T04:00:00.216Z",
          "2020-04-05T05:00:00.205Z",
          "2020-04-05T06:00:00.228Z",
          "2020-04-05T07:00:00.192Z",
          "2020-04-05T08:00:00.185Z",
          "2020-04-05T09:00:00.265Z",
          "2020-04-05T10:00:00.194Z",
          "2020-04-05T11:00:00.217Z",
          "2020-04-05T12:00:00.222Z",
          "2020-04-05T13:00:00.237Z",
          "2020-04-05T14:00:00.188Z",
          "2020-04-05T15:00:00.267Z",
          "2020-04-05T16:00:00.225Z",
          "2020-04-05T17:00:00.184Z",
          "2020-04-05T18:00:00.263Z",
          "2020-04-05T19:00:00.209Z",
          "2020-04-05T20:00:00.205Z",
          "2020-04-05T21:00:00.182Z",
          "2020-04-05T22:00:00.224Z",
          "2020-04-05T23:00:00.242Z",
          "2020-04-06T00:00:00.264Z",
          "2020-04-06T01:00:00.248Z",
          "2020-04-06T02:00:00.174Z",
          "2020-04-06T03:00:00.224Z",
          "2020-04-06T04:00:00.232Z",
          "2020-04-06T05:00:00.211Z",
          "2020-04-06T06:00:00.185Z",
          "2020-04-06T07:00:00.195Z",
          "2020-04-06T08:00:00.215Z",
          "2020-04-06T09:00:00.185Z",
          "2020-04-06T10:00:00.208Z",
          "2020-04-06T11:00:00.200Z",
          "2020-04-06T12:00:00.177Z",
          "2020-04-06T13:00:00.254Z",
          "2020-04-06T14:00:00.186Z",
          "2020-04-06T15:00:00.244Z",
          "2020-04-06T16:00:00.242Z",
          "2020-04-06T17:00:00.214Z",
          "2020-04-06T18:00:00.238Z",
          "2020-04-06T19:00:00.234Z",
          "2020-04-06T20:00:00.193Z",
          "2020-04-06T21:00:00.255Z",
          "2020-04-06T22:00:00.261Z",
          "2020-04-06T23:00:00.179Z",
          "2020-04-07T00:00:00.256Z",
          "2020-04-07T01:00:00.223Z",
          "2020-04-07T02:00:00.207Z",
          "2020-04-07T03:00:00.186Z",
          "2020-04-07T04:00:00.182Z",
          "2020-04-07T05:00:00.186Z",
          "2020-04-07T06:00:00.160Z",
          "2020-04-07T07:00:00.183Z",
          "2020-04-07T08:00:00.216Z",
          "2020-04-07T09:00:00.206Z",
          "2020-04-07T10:00:00.254Z",
          "2020-04-07T11:00:00.190Z",
          "2020-04-07T12:00:00.271Z",
          "2020-04-07T13:00:00.170Z",
          "2020-04-07T14:00:00.457Z",
          "2020-04-07T15:00:00.225Z",
          "2020-04-07T16:00:00.212Z",
          "2020-04-07T17:00:00.212Z",
          "2020-04-07T18:00:00.170Z",
          "2020-04-07T19:00:00.272Z",
          "2020-04-07T20:00:00.213Z",
          "2020-04-07T21:00:00.229Z",
          "2020-04-07T22:00:00.235Z",
          "2020-04-07T23:00:00.261Z",
          "2020-04-08T00:00:00.336Z",
          "2020-04-08T01:00:00.252Z",
          "2020-04-08T02:00:00.184Z",
          "2020-04-08T03:00:00.207Z",
          "2020-04-08T04:00:00.266Z",
          "2020-04-08T05:00:00.218Z",
          "2020-04-08T06:00:00.257Z",
          "2020-04-08T07:00:00.197Z",
          "2020-04-08T08:00:00.244Z",
          "2020-04-08T09:00:00.191Z",
          "2020-04-08T10:00:00.225Z",
          "2020-04-08T11:00:00.237Z",
          "2020-04-08T12:00:00.194Z",
          "2020-04-08T13:00:00.304Z",
          "2020-04-08T14:00:00.209Z",
          "2020-04-08T15:00:00.284Z",
          "2020-04-08T16:00:00.210Z",
          "2020-04-08T17:00:00.202Z",
          "2020-04-08T18:00:00.356Z",
          "2020-04-08T19:00:00.260Z",
          "2020-04-08T20:00:00.212Z",
          "2020-04-08T21:00:00.181Z",
          "2020-04-08T22:00:00.244Z",
          "2020-04-08T23:00:00.261Z",
          "2020-04-09T00:00:00.188Z",
          "2020-04-09T01:00:00.206Z",
          "2020-04-09T02:00:00.208Z",
          "2020-04-09T03:00:00.217Z",
          "2020-04-09T04:00:00.196Z",
          "2020-04-09T05:00:00.235Z",
          "2020-04-09T06:00:00.213Z",
          "2020-04-09T07:00:00.236Z",
          "2020-04-09T08:00:00.226Z",
          "2020-04-09T09:00:00.169Z",
          "2020-04-09T10:00:00.223Z",
          "2020-04-09T11:00:00.251Z",
          "2020-04-09T12:00:00.217Z",
          "2020-04-09T13:00:00.235Z",
          "2020-04-09T14:00:00.258Z",
          "2020-04-09T15:00:00.233Z",
          "2020-04-09T16:00:00.189Z",
          "2020-04-09T17:00:00.220Z",
          "2020-04-09T18:00:00.233Z",
          "2020-04-09T19:00:00.222Z",
          "2020-04-09T20:00:00.280Z",
          "2020-04-09T21:00:00.285Z",
          "2020-04-09T22:00:00.225Z",
          "2020-04-09T23:00:00.181Z",
          "2020-04-10T00:00:00.213Z",
          "2020-04-10T01:00:00.222Z",
          "2020-04-10T02:00:00.253Z",
          "2020-04-10T03:00:00.163Z",
          "2020-04-10T04:00:00.193Z",
          "2020-04-10T05:00:00.208Z",
          "2020-04-10T06:00:00.206Z",
          "2020-04-10T07:00:00.200Z",
          "2020-04-10T08:00:00.251Z",
          "2020-04-10T09:00:00.227Z",
          "2020-04-10T10:00:00.231Z",
          "2020-04-10T11:00:00.181Z",
          "2020-04-10T12:00:00.271Z",
          "2020-04-10T13:00:00.218Z",
          "2020-04-10T14:00:00.185Z",
          "2020-04-10T15:00:00.223Z",
          "2020-04-10T16:00:00.189Z",
          "2020-04-10T17:00:00.211Z",
          "2020-04-10T18:00:00.236Z",
          "2020-04-10T19:00:00.213Z",
          "2020-04-10T20:00:00.190Z",
          "2020-04-10T21:00:00.182Z",
          "2020-04-10T22:00:00.212Z",
          "2020-04-10T23:00:00.185Z",
          "2020-04-11T00:00:00.202Z",
          "2020-04-11T01:00:00.229Z",
          "2020-04-11T02:00:00.265Z",
          "2020-04-11T03:00:00.193Z",
          "2020-04-11T04:00:00.199Z",
          "2020-04-11T05:00:00.176Z",
          "2020-04-11T06:00:00.230Z",
          "2020-04-11T07:00:00.226Z",
          "2020-04-11T08:00:00.196Z",
          "2020-04-11T09:00:00.281Z",
          "2020-04-11T10:00:00.226Z",
          "2020-04-11T11:00:00.259Z",
          "2020-04-11T12:00:00.277Z",
          "2020-04-11T13:00:00.253Z",
          "2020-04-11T14:00:00.189Z",
          "2020-04-11T15:00:00.222Z",
          "2020-04-11T16:00:00.193Z",
          "2020-04-11T17:00:00.213Z",
          "2020-04-11T18:00:00.264Z",
          "2020-04-11T19:00:00.178Z",
          "2020-04-11T20:00:00.235Z",
          "2020-04-11T21:00:00.257Z",
          "2020-04-11T22:00:00.247Z",
          "2020-04-11T23:00:00.217Z",
          "2020-04-12T00:00:00.224Z",
          "2020-04-12T01:00:00.262Z",
          "2020-04-12T02:00:00.185Z",
          "2020-04-12T03:00:00.219Z",
          "2020-04-12T04:00:00.192Z",
          "2020-04-12T05:00:00.173Z",
          "2020-04-12T06:00:00.256Z",
          "2020-04-12T07:00:00.237Z",
          "2020-04-12T08:00:00.177Z",
          "2020-04-12T09:00:00.225Z",
          "2020-04-12T10:00:00.258Z",
          "2020-04-12T11:00:00.252Z",
          "2020-04-12T12:00:00.187Z",
          "2020-04-12T13:00:00.211Z",
          "2020-04-12T14:00:00.230Z",
          "2020-04-12T15:00:00.182Z",
          "2020-04-12T16:00:00.273Z",
          "2020-04-12T17:00:00.246Z",
          "2020-04-12T18:00:00.193Z",
          "2020-04-12T19:00:00.187Z",
          "2020-04-12T20:00:00.207Z",
          "2020-04-12T21:00:00.213Z",
          "2020-04-12T22:00:00.205Z",
          "2020-04-12T23:00:00.251Z",
          "2020-04-13T00:00:00.241Z",
          "2020-04-13T01:00:00.214Z",
          "2020-04-13T02:00:00.244Z",
          "2020-04-13T03:00:00.244Z",
          "2020-04-13T04:00:00.245Z",
          "2020-04-13T05:00:00.228Z",
          "2020-04-13T06:00:00.261Z",
          "2020-04-13T07:00:00.231Z",
          "2020-04-13T08:00:00.250Z",
          "2020-04-13T09:00:00.223Z",
          "2020-04-13T10:00:00.226Z",
          "2020-04-13T11:00:00.202Z",
          "2020-04-13T12:00:00.180Z",
          "2020-04-13T13:00:00.170Z",
          "2020-04-13T14:00:00.209Z",
          "2020-04-13T15:00:00.230Z",
          "2020-04-13T16:00:00.212Z",
          "2020-04-13T17:00:00.233Z",
          "2020-04-13T18:00:00.261Z",
          "2020-04-13T19:00:00.275Z",
          "2020-04-13T20:00:00.177Z",
          "2020-04-13T21:00:00.223Z",
          "2020-04-13T22:00:00.224Z",
          "2020-04-13T23:00:00.242Z",
          "2020-04-14T00:00:00.214Z",
          "2020-04-14T01:00:00.220Z",
          "2020-04-14T02:00:00.242Z",
          "2020-04-14T03:00:00.257Z",
          "2020-04-14T04:00:00.207Z",
          "2020-04-14T05:00:00.209Z",
          "2020-04-14T06:00:00.215Z",
          "2020-04-14T07:00:00.227Z",
          "2020-04-14T08:00:00.215Z",
          "2020-04-14T09:00:00.254Z",
          "2020-04-14T10:00:00.226Z",
          "2020-04-14T11:00:00.177Z",
          "2020-04-14T12:00:00.381Z",
          "2020-04-14T13:00:00.180Z",
          "2020-04-14T14:00:00.244Z",
          "2020-04-14T15:00:00.227Z",
          "2020-04-14T16:00:00.295Z",
          "2020-04-14T17:00:00.224Z",
          "2020-04-14T18:00:00.223Z",
          "2020-04-14T19:00:00.220Z",
          "2020-04-14T20:00:00.218Z",
          "2020-04-14T21:00:00.233Z",
          "2020-04-14T22:00:00.219Z",
          "2020-04-14T23:00:00.245Z",
          "2020-04-15T00:00:00.254Z",
          "2020-04-15T01:00:00.189Z",
          "2020-04-15T02:00:00.206Z",
          "2020-04-15T03:00:00.179Z",
          "2020-04-15T04:00:00.227Z",
          "2020-04-15T05:00:00.261Z",
          "2020-04-15T06:00:00.188Z",
          "2020-04-15T07:00:00.229Z",
          "2020-04-15T08:00:00.204Z",
          "2020-04-15T09:00:00.190Z",
          "2020-04-15T10:00:00.212Z",
          "2020-04-15T11:00:00.238Z",
          "2020-04-15T12:00:00.249Z",
          "2020-04-15T13:00:00.239Z",
          "2020-04-15T14:00:00.212Z",
          "2020-04-15T15:00:00.258Z",
          "2020-04-15T16:00:00.219Z",
          "2020-04-15T17:00:00.184Z",
          "2020-04-15T18:00:00.197Z",
          "2020-04-15T19:00:00.303Z",
          "2020-04-15T20:00:00.243Z",
          "2020-04-15T21:00:00.221Z",
          "2020-04-15T22:00:00.246Z",
          "2020-04-15T23:00:00.246Z",
          "2020-04-16T00:00:00.185Z",
          "2020-04-16T01:00:00.265Z",
          "2020-04-16T02:00:00.175Z",
          "2020-04-16T03:00:00.201Z",
          "2020-04-16T04:00:00.216Z",
          "2020-04-16T05:00:00.225Z",
          "2020-04-16T06:00:00.237Z",
          "2020-04-16T07:00:00.263Z",
          "2020-04-16T08:00:00.240Z",
          "2020-04-16T09:00:00.214Z",
          "2020-04-16T10:00:00.193Z",
          "2020-04-16T11:00:00.213Z",
          "2020-04-16T12:00:00.229Z",
          "2020-04-16T13:00:00.229Z",
          "2020-04-16T14:00:00.265Z",
          "2020-04-16T15:00:00.264Z",
          "2020-04-16T16:00:00.237Z",
          "2020-04-16T17:00:00.201Z",
          "2020-04-16T18:00:00.226Z",
          "2020-04-16T19:00:00.217Z",
          "2020-04-16T20:00:00.257Z",
          "2020-04-16T21:00:00.180Z",
          "2020-04-16T22:00:00.178Z",
          "2020-04-16T23:00:00.222Z",
          "2020-04-17T00:00:00.247Z",
          "2020-04-17T01:00:00.210Z",
          "2020-04-17T02:00:00.211Z",
          "2020-04-17T03:00:00.261Z",
          "2020-04-17T04:00:00.265Z",
          "2020-04-17T05:00:00.222Z",
          "2020-04-17T06:00:00.224Z",
          "2020-04-17T07:00:00.285Z",
          "2020-04-17T08:00:00.235Z",
          "2020-04-17T09:00:00.230Z",
          "2020-04-17T10:00:00.257Z",
          "2020-04-17T11:00:00.261Z",
          "2020-04-17T12:00:00.309Z",
          "2020-04-17T13:00:00.191Z",
          "2020-04-17T14:00:00.225Z",
          "2020-04-17T15:00:00.263Z",
          "2020-04-17T16:00:00.221Z",
          "2020-04-17T17:00:00.283Z",
          "2020-04-17T18:00:00.224Z",
          "2020-04-17T19:00:00.256Z",
          "2020-04-17T20:00:00.265Z",
          "2020-04-17T21:00:00.253Z",
          "2020-04-17T22:00:00.218Z",
          "2020-04-17T23:00:00.251Z",
          "2020-04-18T00:00:00.230Z",
          "2020-04-18T01:00:00.219Z",
          "2020-04-18T02:00:00.173Z",
          "2020-04-18T03:00:00.190Z",
          "2020-04-18T04:00:00.172Z",
          "2020-04-18T05:00:00.214Z",
          "2020-04-18T06:00:00.190Z",
          "2020-04-18T07:00:00.255Z",
          "2020-04-18T08:00:00.201Z",
          "2020-04-18T09:00:00.229Z",
          "2020-04-18T10:00:00.223Z",
          "2020-04-18T11:00:00.195Z",
          "2020-04-18T12:00:00.227Z",
          "2020-04-18T13:00:00.218Z",
          "2020-04-18T14:00:00.228Z",
          "2020-04-18T15:00:00.281Z",
          "2020-04-18T16:00:00.225Z",
          "2020-04-18T17:00:00.226Z",
          "2020-04-18T18:00:00.224Z",
          "2020-04-18T19:00:00.161Z",
          "2020-04-18T20:00:00.187Z",
          "2020-04-18T21:00:00.226Z",
          "2020-04-18T22:00:00.239Z",
          "2020-04-18T23:00:00.225Z",
          "2020-04-19T00:00:00.158Z",
          "2020-04-19T01:00:00.215Z",
          "2020-04-19T02:00:00.237Z",
          "2020-04-19T03:00:00.182Z",
          "2020-04-19T04:00:00.206Z",
          "2020-04-19T05:00:00.226Z",
          "2020-04-19T06:00:00.177Z",
          "2020-04-19T07:00:00.263Z",
          "2020-04-19T08:00:00.213Z",
          "2020-04-19T09:00:00.186Z",
          "2020-04-19T10:00:00.193Z",
          "2020-04-19T11:00:00.217Z",
          "2020-04-19T12:00:00.176Z",
          "2020-04-19T13:00:00.240Z",
          "2020-04-19T14:00:00.267Z",
          "2020-04-19T15:00:00.187Z",
          "2020-04-19T16:00:00.177Z",
          "2020-04-19T17:00:00.248Z",
          "2020-04-19T18:00:00.269Z",
          "2020-04-19T19:00:00.216Z",
          "2020-04-19T20:00:00.189Z",
          "2020-04-19T21:00:00.272Z",
          "2020-04-19T22:00:00.274Z",
          "2020-04-19T23:00:00.222Z",
          "2020-04-20T00:00:00.251Z",
          "2020-04-20T01:00:00.244Z",
          "2020-04-20T02:00:00.181Z",
          "2020-04-20T03:00:00.238Z",
          "2020-04-20T04:00:00.213Z",
          "2020-04-20T05:00:00.205Z",
          "2020-04-20T06:00:00.223Z",
          "2020-04-20T07:00:00.182Z",
          "2020-04-20T08:00:00.211Z",
          "2020-04-20T09:00:00.231Z",
          "2020-04-20T10:00:00.234Z",
          "2020-04-20T11:00:00.214Z",
          "2020-04-20T12:00:00.354Z",
          "2020-04-20T13:00:00.238Z",
          "2020-04-20T14:00:00.187Z",
          "2020-04-20T15:00:00.222Z",
          "2020-04-20T16:00:00.263Z",
          "2020-04-20T17:00:00.191Z",
          "2020-04-20T18:00:00.225Z",
          "2020-04-20T19:00:00.257Z",
          "2020-04-20T20:00:00.269Z",
          "2020-04-20T21:00:00.179Z",
          "2020-04-20T22:00:00.167Z",
          "2020-04-20T23:00:00.186Z",
          "2020-04-21T00:00:00.227Z",
          "2020-04-21T01:00:00.239Z",
          "2020-04-21T02:00:00.224Z",
          "2020-04-21T03:00:00.237Z",
          "2020-04-21T04:00:00.276Z",
          "2020-04-21T05:00:00.212Z",
          "2020-04-21T06:00:00.215Z",
          "2020-04-21T07:00:00.237Z",
          "2020-04-21T08:00:00.299Z",
          "2020-04-21T09:00:00.262Z",
          "2020-04-21T10:00:00.234Z",
          "2020-04-21T11:00:00.219Z",
          "2020-04-21T12:00:00.199Z",
          "2020-04-21T13:00:00.260Z",
          "2020-04-21T14:00:00.265Z",
          "2020-04-21T15:00:00.208Z",
          "2020-04-21T16:00:00.278Z",
          "2020-04-21T17:00:00.208Z",
          "2020-04-21T18:00:00.190Z",
          "2020-04-21T19:00:00.264Z",
          "2020-04-21T20:00:00.222Z",
          "2020-04-21T21:00:00.215Z",
          "2020-04-21T22:00:00.219Z",
          "2020-04-21T23:00:00.206Z",
          "2020-04-22T00:00:00.207Z",
          "2020-04-22T01:00:00.220Z",
          "2020-04-22T02:00:00.203Z",
          "2020-04-22T03:00:00.213Z",
          "2020-04-22T04:00:00.201Z",
          "2020-04-22T05:00:00.248Z",
          "2020-04-22T06:00:00.189Z",
          "2020-04-22T07:00:00.223Z",
          "2020-04-22T08:00:00.223Z",
          "2020-04-22T09:00:00.223Z",
          "2020-04-22T10:00:00.245Z"
         ],
         "y": [
          62,
          62,
          85,
          85,
          85,
          85,
          85,
          85,
          85,
          85,
          85,
          116,
          116,
          116,
          116,
          116,
          116,
          116,
          116,
          116,
          116,
          116,
          116,
          116,
          116,
          116,
          116,
          116,
          116,
          116,
          116,
          116,
          116,
          116,
          116,
          116,
          116,
          116,
          150,
          150,
          150,
          150,
          150,
          150,
          150,
          150,
          150,
          150,
          150,
          150,
          150,
          150,
          150,
          150,
          150,
          150,
          150,
          150,
          150,
          202,
          202,
          202,
          202,
          202,
          202,
          202,
          202,
          202,
          202,
          202,
          202,
          202,
          202,
          202,
          202,
          202,
          202,
          202,
          202,
          202,
          202,
          202,
          202,
          239,
          239,
          239,
          238,
          238,
          238,
          238,
          238,
          238,
          238,
          238,
          238,
          238,
          238,
          238,
          238,
          238,
          238,
          238,
          238,
          238,
          238,
          238,
          238,
          238,
          238,
          238,
          238,
          238,
          238,
          238,
          238,
          238,
          272,
          272,
          272,
          272,
          272,
          272,
          272,
          272,
          272,
          398,
          398,
          398,
          398,
          398,
          398,
          398,
          398,
          398,
          398,
          398,
          398,
          398,
          550,
          550,
          550,
          550,
          550,
          550,
          550,
          550,
          550,
          550,
          550,
          550,
          550,
          550,
          550,
          550,
          550,
          550,
          550,
          550,
          550,
          550,
          705,
          705,
          705,
          705,
          705,
          697,
          697,
          697,
          697,
          697,
          697,
          697,
          697,
          697,
          697,
          697,
          697,
          697,
          697,
          697,
          697,
          697,
          697,
          697,
          697,
          697,
          697,
          697,
          697,
          697,
          697,
          697,
          697,
          915,
          915,
          915,
          915,
          915,
          915,
          915,
          915,
          915,
          915,
          915,
          915,
          915,
          915,
          915,
          915,
          913,
          913,
          913,
          913,
          913,
          913,
          913,
          913,
          913,
          1156,
          1156,
          1156,
          1157,
          1138,
          1138,
          1138,
          1138,
          1138,
          1138,
          1138,
          1138,
          1138,
          1138,
          1138,
          1138,
          1138,
          1138,
          1138,
          1138,
          1138,
          1138,
          1138,
          1137,
          1154,
          1154,
          1154,
          1155,
          1155,
          1155,
          1155,
          1155,
          1155,
          1155,
          1155,
          1155,
          1155,
          1155,
          1155,
          1155,
          1155,
          1155,
          1155,
          1155,
          1155,
          1155,
          1155,
          1155,
          1155,
          1247,
          1247,
          1247,
          1247,
          1247,
          1247,
          1247,
          1247,
          1247,
          1247,
          1247,
          1247,
          1247,
          1247,
          1247,
          1247,
          1247,
          1247,
          1247,
          1247,
          1247,
          1247,
          1292,
          1292,
          1292,
          1292,
          1292,
          1292,
          1292,
          1292,
          1292,
          1292,
          1292,
          1292,
          1292,
          1292,
          1292,
          1292,
          1292,
          1292,
          1292,
          1292,
          1292,
          1292,
          1319,
          1319,
          1319,
          1319,
          1319,
          1317,
          1317,
          1317,
          1317,
          1317,
          1317,
          1317,
          1317,
          1317,
          1317,
          1317,
          1298,
          1298,
          1298,
          1298,
          1298,
          1298,
          1298,
          1298,
          1298,
          1325,
          1325,
          1325,
          1325,
          1325,
          1325,
          1325,
          1325,
          1325,
          1325,
          1325,
          1325,
          1325,
          1325,
          1325,
          1325,
          1325,
          1325,
          1325,
          1325,
          1325,
          1325,
          1325,
          1325,
          1407,
          1407,
          1407,
          1407,
          1407,
          1407,
          1407,
          1407,
          1407,
          1407,
          1407,
          1407,
          1362,
          1362,
          1362,
          1362,
          1362,
          1362,
          1362,
          1362,
          1362,
          1362,
          1403,
          1403,
          1401,
          1401,
          1401,
          1401,
          1401,
          1401,
          1401,
          1401,
          1401,
          1401,
          1401,
          1401,
          1401,
          1401,
          1401,
          1401,
          1401,
          1401,
          1401,
          1401,
          1401,
          1401,
          1401,
          1401,
          1401,
          1481,
          1481,
          1481,
          1481,
          1481,
          1481,
          1481,
          1481,
          1481,
          1481,
          1481,
          1481,
          1481,
          1481,
          1481,
          1481,
          1481,
          1481,
          1481,
          1481,
          1481,
          1481,
          1481,
          1481,
          1549,
          1549,
          1549,
          1549,
          1549,
          1549,
          1549,
          1549,
          1549,
          1549,
          1549,
          1549,
          1549,
          1549,
          1549,
          1549,
          1549,
          1549,
          1549,
          1549,
          1549,
          1549,
          1549,
          1549,
          1579,
          1579,
          1579,
          1579,
          1579,
          1579,
          1579,
          1579,
          1579,
          1579,
          1579,
          1579,
          1579,
          1579,
          1579,
          1579,
          1579,
          1579,
          1641,
          1641,
          1641,
          1641,
          1641,
          1641,
          1641,
          1641,
          1641,
          1641,
          1641,
          1641,
          1641,
          1641,
          1641,
          1641,
          1641,
          1641,
          1641,
          1641,
          1641,
          1641,
          1641,
          1641,
          1641,
          1641,
          1641,
          1641,
          1641,
          1732,
          1732,
          1732,
          1732,
          1732,
          1732,
          1732,
          1732,
          1732,
          1732,
          1732,
          1732,
          1732,
          1732,
          1732,
          1732,
          1732,
          1732,
          1732,
          1732,
          1732,
          1732,
          1732,
          1732,
          1821,
          1821,
          1821,
          1821,
          1821,
          1821,
          1821,
          1821,
          1821,
          1821,
          1821,
          1821,
          1821,
          1821,
          1821,
          1821,
          1821,
          1821,
          1569,
          1569,
          1569,
          1569,
          1569,
          1569,
          1569,
          1569,
          1569,
          1569,
          1569,
          1569,
          1569,
          1569,
          1569,
          1569,
          1569,
          1569,
          1569,
          1569,
          1569,
          1569,
          1569,
          1569,
          1569,
          1569,
          1569,
          1569,
          1569,
          1593,
          1593,
          1593,
          1593,
          1593,
          1593,
          1593,
          1593,
          1593,
          1593,
          1593,
          1593,
          1593,
          1593,
          1593,
          1593,
          1593,
          1593,
          1593,
          1593,
          1593,
          1593,
          1593,
          1593,
          1738,
          1738,
          1738,
          1738,
          1738,
          1738,
          1738,
          1738,
          1738,
          1738,
          1738,
          1738,
          1738,
          1738,
          1738,
          1738,
          1738,
          1738,
          1738,
          1738,
          1738,
          1738,
          1738,
          1738,
          1835,
          1835,
          1835,
          1835,
          1835,
          1835,
          1835,
          1835,
          1835,
          1835,
          1835,
          1835,
          1835,
          1835,
          1835,
          1835,
          1835,
          1835,
          1835,
          1835,
          1978,
          1978,
          1978,
          1978,
          1978,
          1978,
          1978,
          1978,
          1978,
          1978,
          1978,
          1978,
          1978,
          1978,
          1978,
          1978,
          1978,
          1978,
          1978,
          1978,
          1978,
          1978,
          1978,
          1978,
          1978,
          1978,
          1978,
          2062,
          2062,
          2062,
          2062,
          2062,
          2062,
          2062,
          2062,
          2062,
          2062,
          2062,
          2062,
          2062,
          2062,
          2062,
          2062,
          2062,
          2062,
          2062,
          2062,
          2062,
          2062,
          2062,
          2062,
          2062,
          2062,
          1654,
          1654,
          1654,
          1654,
          1654,
          1654,
          1654,
          1654,
          1654,
          1654,
          1654,
          1654,
          1654,
          1654,
          1654,
          1654,
          1654,
          1654,
          1654,
          1654,
          1654,
          1654,
          1654,
          1654,
          1830,
          1830,
          1830,
          1830,
          1830,
          1830,
          1830,
          1830,
          1830,
          1830,
          1830,
          1830,
          1830,
          1830,
          1830,
          1830,
          1830,
          1830,
          1830,
          1830,
          1830,
          1830,
          1830,
          1830,
          2081,
          2081,
          2079,
          2079,
          2079,
          2079,
          2079,
          2079,
          2079,
          2079,
          2079,
          2079,
          2079,
          2079,
          2079,
          2079,
          2079,
          2079,
          2079,
          2079,
          2079,
          2079,
          2079,
          2201,
          2201,
          2201,
          2201,
          2201,
          2201,
          2201,
          2201,
          2201,
          2201,
          2201,
          2201,
          2201,
          2201,
          2201,
          2201,
          2201,
          2201,
          2201,
          2201,
          2201,
          2201,
          2201,
          2201,
          2201,
          2201,
          2187,
          2187,
          2187,
          2187,
          2187,
          2187,
          2187,
          2187,
          2187,
          2187,
          2187,
          2187,
          2187,
          2187,
          2187,
          2187,
          2187,
          2187,
          2187,
          2187,
          2187,
          2352,
          2352,
          2352,
          2352,
          2352,
          2352,
          2352,
          2352,
          2352,
          2352,
          2352,
          2352,
          2352,
          2352,
          2352,
          2352,
          2352,
          2352
         ]
        }
       ],
       "layout": {
        "template": {
         "data": {
          "bar": [
           {
            "error_x": {
             "color": "#2a3f5f"
            },
            "error_y": {
             "color": "#2a3f5f"
            },
            "marker": {
             "line": {
              "color": "#E5ECF6",
              "width": 0.5
             }
            },
            "type": "bar"
           }
          ],
          "barpolar": [
           {
            "marker": {
             "line": {
              "color": "#E5ECF6",
              "width": 0.5
             }
            },
            "type": "barpolar"
           }
          ],
          "carpet": [
           {
            "aaxis": {
             "endlinecolor": "#2a3f5f",
             "gridcolor": "white",
             "linecolor": "white",
             "minorgridcolor": "white",
             "startlinecolor": "#2a3f5f"
            },
            "baxis": {
             "endlinecolor": "#2a3f5f",
             "gridcolor": "white",
             "linecolor": "white",
             "minorgridcolor": "white",
             "startlinecolor": "#2a3f5f"
            },
            "type": "carpet"
           }
          ],
          "choropleth": [
           {
            "colorbar": {
             "outlinewidth": 0,
             "ticks": ""
            },
            "type": "choropleth"
           }
          ],
          "contour": [
           {
            "colorbar": {
             "outlinewidth": 0,
             "ticks": ""
            },
            "colorscale": [
             [
              0,
              "#0d0887"
             ],
             [
              0.1111111111111111,
              "#46039f"
             ],
             [
              0.2222222222222222,
              "#7201a8"
             ],
             [
              0.3333333333333333,
              "#9c179e"
             ],
             [
              0.4444444444444444,
              "#bd3786"
             ],
             [
              0.5555555555555556,
              "#d8576b"
             ],
             [
              0.6666666666666666,
              "#ed7953"
             ],
             [
              0.7777777777777778,
              "#fb9f3a"
             ],
             [
              0.8888888888888888,
              "#fdca26"
             ],
             [
              1,
              "#f0f921"
             ]
            ],
            "type": "contour"
           }
          ],
          "contourcarpet": [
           {
            "colorbar": {
             "outlinewidth": 0,
             "ticks": ""
            },
            "type": "contourcarpet"
           }
          ],
          "heatmap": [
           {
            "colorbar": {
             "outlinewidth": 0,
             "ticks": ""
            },
            "colorscale": [
             [
              0,
              "#0d0887"
             ],
             [
              0.1111111111111111,
              "#46039f"
             ],
             [
              0.2222222222222222,
              "#7201a8"
             ],
             [
              0.3333333333333333,
              "#9c179e"
             ],
             [
              0.4444444444444444,
              "#bd3786"
             ],
             [
              0.5555555555555556,
              "#d8576b"
             ],
             [
              0.6666666666666666,
              "#ed7953"
             ],
             [
              0.7777777777777778,
              "#fb9f3a"
             ],
             [
              0.8888888888888888,
              "#fdca26"
             ],
             [
              1,
              "#f0f921"
             ]
            ],
            "type": "heatmap"
           }
          ],
          "heatmapgl": [
           {
            "colorbar": {
             "outlinewidth": 0,
             "ticks": ""
            },
            "colorscale": [
             [
              0,
              "#0d0887"
             ],
             [
              0.1111111111111111,
              "#46039f"
             ],
             [
              0.2222222222222222,
              "#7201a8"
             ],
             [
              0.3333333333333333,
              "#9c179e"
             ],
             [
              0.4444444444444444,
              "#bd3786"
             ],
             [
              0.5555555555555556,
              "#d8576b"
             ],
             [
              0.6666666666666666,
              "#ed7953"
             ],
             [
              0.7777777777777778,
              "#fb9f3a"
             ],
             [
              0.8888888888888888,
              "#fdca26"
             ],
             [
              1,
              "#f0f921"
             ]
            ],
            "type": "heatmapgl"
           }
          ],
          "histogram": [
           {
            "marker": {
             "colorbar": {
              "outlinewidth": 0,
              "ticks": ""
             }
            },
            "type": "histogram"
           }
          ],
          "histogram2d": [
           {
            "colorbar": {
             "outlinewidth": 0,
             "ticks": ""
            },
            "colorscale": [
             [
              0,
              "#0d0887"
             ],
             [
              0.1111111111111111,
              "#46039f"
             ],
             [
              0.2222222222222222,
              "#7201a8"
             ],
             [
              0.3333333333333333,
              "#9c179e"
             ],
             [
              0.4444444444444444,
              "#bd3786"
             ],
             [
              0.5555555555555556,
              "#d8576b"
             ],
             [
              0.6666666666666666,
              "#ed7953"
             ],
             [
              0.7777777777777778,
              "#fb9f3a"
             ],
             [
              0.8888888888888888,
              "#fdca26"
             ],
             [
              1,
              "#f0f921"
             ]
            ],
            "type": "histogram2d"
           }
          ],
          "histogram2dcontour": [
           {
            "colorbar": {
             "outlinewidth": 0,
             "ticks": ""
            },
            "colorscale": [
             [
              0,
              "#0d0887"
             ],
             [
              0.1111111111111111,
              "#46039f"
             ],
             [
              0.2222222222222222,
              "#7201a8"
             ],
             [
              0.3333333333333333,
              "#9c179e"
             ],
             [
              0.4444444444444444,
              "#bd3786"
             ],
             [
              0.5555555555555556,
              "#d8576b"
             ],
             [
              0.6666666666666666,
              "#ed7953"
             ],
             [
              0.7777777777777778,
              "#fb9f3a"
             ],
             [
              0.8888888888888888,
              "#fdca26"
             ],
             [
              1,
              "#f0f921"
             ]
            ],
            "type": "histogram2dcontour"
           }
          ],
          "mesh3d": [
           {
            "colorbar": {
             "outlinewidth": 0,
             "ticks": ""
            },
            "type": "mesh3d"
           }
          ],
          "parcoords": [
           {
            "line": {
             "colorbar": {
              "outlinewidth": 0,
              "ticks": ""
             }
            },
            "type": "parcoords"
           }
          ],
          "pie": [
           {
            "automargin": true,
            "type": "pie"
           }
          ],
          "scatter": [
           {
            "marker": {
             "colorbar": {
              "outlinewidth": 0,
              "ticks": ""
             }
            },
            "type": "scatter"
           }
          ],
          "scatter3d": [
           {
            "line": {
             "colorbar": {
              "outlinewidth": 0,
              "ticks": ""
             }
            },
            "marker": {
             "colorbar": {
              "outlinewidth": 0,
              "ticks": ""
             }
            },
            "type": "scatter3d"
           }
          ],
          "scattercarpet": [
           {
            "marker": {
             "colorbar": {
              "outlinewidth": 0,
              "ticks": ""
             }
            },
            "type": "scattercarpet"
           }
          ],
          "scattergeo": [
           {
            "marker": {
             "colorbar": {
              "outlinewidth": 0,
              "ticks": ""
             }
            },
            "type": "scattergeo"
           }
          ],
          "scattergl": [
           {
            "marker": {
             "colorbar": {
              "outlinewidth": 0,
              "ticks": ""
             }
            },
            "type": "scattergl"
           }
          ],
          "scattermapbox": [
           {
            "marker": {
             "colorbar": {
              "outlinewidth": 0,
              "ticks": ""
             }
            },
            "type": "scattermapbox"
           }
          ],
          "scatterpolar": [
           {
            "marker": {
             "colorbar": {
              "outlinewidth": 0,
              "ticks": ""
             }
            },
            "type": "scatterpolar"
           }
          ],
          "scatterpolargl": [
           {
            "marker": {
             "colorbar": {
              "outlinewidth": 0,
              "ticks": ""
             }
            },
            "type": "scatterpolargl"
           }
          ],
          "scatterternary": [
           {
            "marker": {
             "colorbar": {
              "outlinewidth": 0,
              "ticks": ""
             }
            },
            "type": "scatterternary"
           }
          ],
          "surface": [
           {
            "colorbar": {
             "outlinewidth": 0,
             "ticks": ""
            },
            "colorscale": [
             [
              0,
              "#0d0887"
             ],
             [
              0.1111111111111111,
              "#46039f"
             ],
             [
              0.2222222222222222,
              "#7201a8"
             ],
             [
              0.3333333333333333,
              "#9c179e"
             ],
             [
              0.4444444444444444,
              "#bd3786"
             ],
             [
              0.5555555555555556,
              "#d8576b"
             ],
             [
              0.6666666666666666,
              "#ed7953"
             ],
             [
              0.7777777777777778,
              "#fb9f3a"
             ],
             [
              0.8888888888888888,
              "#fdca26"
             ],
             [
              1,
              "#f0f921"
             ]
            ],
            "type": "surface"
           }
          ],
          "table": [
           {
            "cells": {
             "fill": {
              "color": "#EBF0F8"
             },
             "line": {
              "color": "white"
             }
            },
            "header": {
             "fill": {
              "color": "#C8D4E3"
             },
             "line": {
              "color": "white"
             }
            },
            "type": "table"
           }
          ]
         },
         "layout": {
          "annotationdefaults": {
           "arrowcolor": "#2a3f5f",
           "arrowhead": 0,
           "arrowwidth": 1
          },
          "coloraxis": {
           "colorbar": {
            "outlinewidth": 0,
            "ticks": ""
           }
          },
          "colorscale": {
           "diverging": [
            [
             0,
             "#8e0152"
            ],
            [
             0.1,
             "#c51b7d"
            ],
            [
             0.2,
             "#de77ae"
            ],
            [
             0.3,
             "#f1b6da"
            ],
            [
             0.4,
             "#fde0ef"
            ],
            [
             0.5,
             "#f7f7f7"
            ],
            [
             0.6,
             "#e6f5d0"
            ],
            [
             0.7,
             "#b8e186"
            ],
            [
             0.8,
             "#7fbc41"
            ],
            [
             0.9,
             "#4d9221"
            ],
            [
             1,
             "#276419"
            ]
           ],
           "sequential": [
            [
             0,
             "#0d0887"
            ],
            [
             0.1111111111111111,
             "#46039f"
            ],
            [
             0.2222222222222222,
             "#7201a8"
            ],
            [
             0.3333333333333333,
             "#9c179e"
            ],
            [
             0.4444444444444444,
             "#bd3786"
            ],
            [
             0.5555555555555556,
             "#d8576b"
            ],
            [
             0.6666666666666666,
             "#ed7953"
            ],
            [
             0.7777777777777778,
             "#fb9f3a"
            ],
            [
             0.8888888888888888,
             "#fdca26"
            ],
            [
             1,
             "#f0f921"
            ]
           ],
           "sequentialminus": [
            [
             0,
             "#0d0887"
            ],
            [
             0.1111111111111111,
             "#46039f"
            ],
            [
             0.2222222222222222,
             "#7201a8"
            ],
            [
             0.3333333333333333,
             "#9c179e"
            ],
            [
             0.4444444444444444,
             "#bd3786"
            ],
            [
             0.5555555555555556,
             "#d8576b"
            ],
            [
             0.6666666666666666,
             "#ed7953"
            ],
            [
             0.7777777777777778,
             "#fb9f3a"
            ],
            [
             0.8888888888888888,
             "#fdca26"
            ],
            [
             1,
             "#f0f921"
            ]
           ]
          },
          "colorway": [
           "#636efa",
           "#EF553B",
           "#00cc96",
           "#ab63fa",
           "#FFA15A",
           "#19d3f3",
           "#FF6692",
           "#B6E880",
           "#FF97FF",
           "#FECB52"
          ],
          "font": {
           "color": "#2a3f5f"
          },
          "geo": {
           "bgcolor": "white",
           "lakecolor": "white",
           "landcolor": "#E5ECF6",
           "showlakes": true,
           "showland": true,
           "subunitcolor": "white"
          },
          "hoverlabel": {
           "align": "left"
          },
          "hovermode": "closest",
          "mapbox": {
           "style": "light"
          },
          "paper_bgcolor": "white",
          "plot_bgcolor": "#E5ECF6",
          "polar": {
           "angularaxis": {
            "gridcolor": "white",
            "linecolor": "white",
            "ticks": ""
           },
           "bgcolor": "#E5ECF6",
           "radialaxis": {
            "gridcolor": "white",
            "linecolor": "white",
            "ticks": ""
           }
          },
          "scene": {
           "xaxis": {
            "backgroundcolor": "#E5ECF6",
            "gridcolor": "white",
            "gridwidth": 2,
            "linecolor": "white",
            "showbackground": true,
            "ticks": "",
            "zerolinecolor": "white"
           },
           "yaxis": {
            "backgroundcolor": "#E5ECF6",
            "gridcolor": "white",
            "gridwidth": 2,
            "linecolor": "white",
            "showbackground": true,
            "ticks": "",
            "zerolinecolor": "white"
           },
           "zaxis": {
            "backgroundcolor": "#E5ECF6",
            "gridcolor": "white",
            "gridwidth": 2,
            "linecolor": "white",
            "showbackground": true,
            "ticks": "",
            "zerolinecolor": "white"
           }
          },
          "shapedefaults": {
           "line": {
            "color": "#2a3f5f"
           }
          },
          "ternary": {
           "aaxis": {
            "gridcolor": "white",
            "linecolor": "white",
            "ticks": ""
           },
           "baxis": {
            "gridcolor": "white",
            "linecolor": "white",
            "ticks": ""
           },
           "bgcolor": "#E5ECF6",
           "caxis": {
            "gridcolor": "white",
            "linecolor": "white",
            "ticks": ""
           }
          },
          "title": {
           "x": 0.05
          },
          "xaxis": {
           "automargin": true,
           "gridcolor": "white",
           "linecolor": "white",
           "ticks": "",
           "title": {
            "standoff": 15
           },
           "zerolinecolor": "white",
           "zerolinewidth": 2
          },
          "yaxis": {
           "automargin": true,
           "gridcolor": "white",
           "linecolor": "white",
           "ticks": "",
           "title": {
            "standoff": 15
           },
           "zerolinecolor": "white",
           "zerolinewidth": 2
          }
         }
        }
       }
      },
      "text/html": [
       "<div>\n",
       "        \n",
       "        \n",
       "            <div id=\"d7f7d97a-76da-46b3-99e7-bdbb69dcdb41\" class=\"plotly-graph-div\" style=\"height:525px; width:100%;\"></div>\n",
       "            <script type=\"text/javascript\">\n",
       "                require([\"plotly\"], function(Plotly) {\n",
       "                    window.PLOTLYENV=window.PLOTLYENV || {};\n",
       "                    \n",
       "                if (document.getElementById(\"d7f7d97a-76da-46b3-99e7-bdbb69dcdb41\")) {\n",
       "                    Plotly.newPlot(\n",
       "                        'd7f7d97a-76da-46b3-99e7-bdbb69dcdb41',\n",
       "                        [{\"name\": \"Active Cases in SA\", \"type\": \"scatter\", \"x\": [\"2020-03-17T21:00:00.200Z\", \"2020-03-17T22:00:00.182Z\", \"2020-03-17T23:00:00.171Z\", \"2020-03-18T00:00:00.193Z\", \"2020-03-18T01:00:00.205Z\", \"2020-03-18T02:00:00.195Z\", \"2020-03-18T03:00:00.182Z\", \"2020-03-18T04:00:00.190Z\", \"2020-03-18T05:00:00.147Z\", \"2020-03-18T06:00:00.205Z\", \"2020-03-18T07:00:00.215Z\", \"2020-03-18T08:00:00.192Z\", \"2020-03-18T09:00:00.167Z\", \"2020-03-18T10:00:00.221Z\", \"2020-03-18T11:00:00.223Z\", \"2020-03-18T12:00:00.202Z\", \"2020-03-18T13:00:00.296Z\", \"2020-03-18T14:00:00.178Z\", \"2020-03-18T15:00:00.169Z\", \"2020-03-18T16:00:00.171Z\", \"2020-03-18T18:00:00.155Z\", \"2020-03-18T19:00:00.206Z\", \"2020-03-18T20:00:00.199Z\", \"2020-03-18T21:00:00.171Z\", \"2020-03-18T22:00:00.161Z\", \"2020-03-18T23:00:00.188Z\", \"2020-03-19T00:00:00.179Z\", \"2020-03-19T02:00:00.181Z\", \"2020-03-19T03:00:00.192Z\", \"2020-03-19T04:00:00.162Z\", \"2020-03-19T05:00:00.163Z\", \"2020-03-19T06:00:00.187Z\", \"2020-03-19T07:00:00.203Z\", \"2020-03-19T08:00:00.151Z\", \"2020-03-19T09:00:00.176Z\", \"2020-03-19T10:00:00.153Z\", \"2020-03-19T11:00:00.150Z\", \"2020-03-19T12:00:00.164Z\", \"2020-03-19T13:00:00.237Z\", \"2020-03-19T14:00:00.221Z\", \"2020-03-19T15:00:00.230Z\", \"2020-03-19T16:00:00.167Z\", \"2020-03-19T17:00:00.204Z\", \"2020-03-19T18:00:00.211Z\", \"2020-03-19T19:00:00.159Z\", \"2020-03-19T20:00:00.204Z\", \"2020-03-19T21:00:00.186Z\", \"2020-03-19T22:00:00.164Z\", \"2020-03-19T23:00:00.156Z\", \"2020-03-20T00:00:00.158Z\", \"2020-03-20T01:00:00.190Z\", \"2020-03-20T02:00:00.192Z\", \"2020-03-20T03:00:00.182Z\", \"2020-03-20T04:00:00.171Z\", \"2020-03-20T05:00:00.194Z\", \"2020-03-20T06:00:00.205Z\", \"2020-03-20T07:00:00.169Z\", \"2020-03-20T08:00:00.196Z\", \"2020-03-20T09:00:00.198Z\", \"2020-03-20T10:00:00.190Z\", \"2020-03-20T11:00:00.232Z\", \"2020-03-20T12:00:00.201Z\", \"2020-03-20T13:00:00.163Z\", \"2020-03-20T14:00:00.198Z\", \"2020-03-20T15:00:00.179Z\", \"2020-03-20T16:00:00.199Z\", \"2020-03-20T17:00:00.206Z\", \"2020-03-20T18:00:00.200Z\", \"2020-03-20T19:00:00.161Z\", \"2020-03-20T20:00:00.238Z\", \"2020-03-20T21:00:00.224Z\", \"2020-03-20T22:00:00.195Z\", \"2020-03-20T23:00:00.214Z\", \"2020-03-21T00:00:00.178Z\", \"2020-03-21T01:00:00.219Z\", \"2020-03-21T02:00:00.174Z\", \"2020-03-21T03:00:00.168Z\", \"2020-03-21T04:00:00.250Z\", \"2020-03-21T05:00:00.211Z\", \"2020-03-21T06:00:00.188Z\", \"2020-03-21T07:00:00.162Z\", \"2020-03-21T08:00:00.162Z\", \"2020-03-21T09:00:00.202Z\", \"2020-03-21T10:00:00.183Z\", \"2020-03-21T11:00:00.229Z\", \"2020-03-21T12:00:00.227Z\", \"2020-03-21T13:00:00.182Z\", \"2020-03-21T14:00:00.179Z\", \"2020-03-21T15:00:00.205Z\", \"2020-03-21T16:00:00.171Z\", \"2020-03-21T17:00:00.230Z\", \"2020-03-21T18:00:00.232Z\", \"2020-03-21T19:00:00.189Z\", \"2020-03-21T20:00:00.207Z\", \"2020-03-21T21:00:00.185Z\", \"2020-03-21T22:00:00.201Z\", \"2020-03-21T23:00:00.163Z\", \"2020-03-22T00:00:00.178Z\", \"2020-03-22T01:00:00.171Z\", \"2020-03-22T02:00:00.155Z\", \"2020-03-22T03:00:00.209Z\", \"2020-03-22T04:00:00.179Z\", \"2020-03-22T05:00:00.186Z\", \"2020-03-22T06:00:00.205Z\", \"2020-03-22T07:00:00.207Z\", \"2020-03-22T08:00:00.189Z\", \"2020-03-22T09:00:00.190Z\", \"2020-03-22T10:00:00.231Z\", \"2020-03-22T11:00:00.202Z\", \"2020-03-22T12:00:00.191Z\", \"2020-03-22T13:00:00.168Z\", \"2020-03-22T14:00:00.211Z\", \"2020-03-22T15:00:00.223Z\", \"2020-03-22T16:00:00.200Z\", \"2020-03-22T17:00:00.225Z\", \"2020-03-22T18:00:00.197Z\", \"2020-03-22T19:00:00.200Z\", \"2020-03-22T20:00:00.155Z\", \"2020-03-22T21:00:00.157Z\", \"2020-03-22T22:00:00.183Z\", \"2020-03-22T23:00:00.192Z\", \"2020-03-23T00:00:00.227Z\", \"2020-03-23T01:00:00.150Z\", \"2020-03-23T02:00:00.278Z\", \"2020-03-23T03:00:00.195Z\", \"2020-03-23T20:00:00.171Z\", \"2020-03-23T21:00:00.241Z\", \"2020-03-23T22:00:00.191Z\", \"2020-03-23T23:00:00.193Z\", \"2020-03-24T00:00:00.225Z\", \"2020-03-24T01:00:00.213Z\", \"2020-03-24T02:00:00.233Z\", \"2020-03-24T03:00:00.172Z\", \"2020-03-24T04:00:00.243Z\", \"2020-03-24T05:00:00.217Z\", \"2020-03-24T06:00:00.208Z\", \"2020-03-24T07:00:00.168Z\", \"2020-03-24T08:00:00.226Z\", \"2020-03-24T09:00:00.223Z\", \"2020-03-24T10:00:00.276Z\", \"2020-03-24T11:00:00.202Z\", \"2020-03-24T12:00:00.194Z\", \"2020-03-24T13:00:00.235Z\", \"2020-03-24T14:00:00.228Z\", \"2020-03-24T15:00:00.223Z\", \"2020-03-24T16:00:00.180Z\", \"2020-03-24T17:00:00.204Z\", \"2020-03-24T18:00:00.207Z\", \"2020-03-24T19:00:00.195Z\", \"2020-03-24T20:00:00.195Z\", \"2020-03-24T21:00:00.225Z\", \"2020-03-24T22:00:00.228Z\", \"2020-03-24T23:00:00.194Z\", \"2020-03-25T00:00:00.196Z\", \"2020-03-25T01:00:00.156Z\", \"2020-03-25T02:00:00.242Z\", \"2020-03-25T03:00:00.160Z\", \"2020-03-25T04:00:00.238Z\", \"2020-03-25T05:00:00.189Z\", \"2020-03-25T06:00:00.200Z\", \"2020-03-25T07:00:00.170Z\", \"2020-03-25T08:00:00.212Z\", \"2020-03-25T09:00:00.232Z\", \"2020-03-25T10:00:00.218Z\", \"2020-03-25T11:00:00.273Z\", \"2020-03-25T12:00:00.220Z\", \"2020-03-25T13:00:00.164Z\", \"2020-03-25T14:00:00.245Z\", \"2020-03-25T15:00:00.222Z\", \"2020-03-25T16:00:00.201Z\", \"2020-03-25T17:00:00.205Z\", \"2020-03-25T18:00:00.228Z\", \"2020-03-25T19:00:00.188Z\", \"2020-03-25T20:00:00.192Z\", \"2020-03-25T21:00:00.194Z\", \"2020-03-25T22:00:00.242Z\", \"2020-03-25T23:00:00.162Z\", \"2020-03-26T00:00:00.190Z\", \"2020-03-26T01:00:00.220Z\", \"2020-03-26T02:00:00.198Z\", \"2020-03-26T03:00:00.216Z\", \"2020-03-26T04:00:00.161Z\", \"2020-03-26T05:00:00.183Z\", \"2020-03-26T06:00:00.223Z\", \"2020-03-26T07:00:00.220Z\", \"2020-03-26T08:00:00.230Z\", \"2020-03-26T09:00:00.210Z\", \"2020-03-26T10:00:00.222Z\", \"2020-03-26T11:00:00.437Z\", \"2020-03-26T12:00:00.221Z\", \"2020-03-26T13:00:00.374Z\", \"2020-03-26T14:00:00.333Z\", \"2020-03-26T15:00:00.188Z\", \"2020-03-26T16:00:00.314Z\", \"2020-03-26T17:00:00.260Z\", \"2020-03-26T18:00:00.506Z\", \"2020-03-26T19:00:01.083Z\", \"2020-03-26T20:00:01.124Z\", \"2020-03-26T21:00:00.185Z\", \"2020-03-26T22:00:00.170Z\", \"2020-03-26T23:00:00.995Z\", \"2020-03-27T00:00:00.195Z\", \"2020-03-27T01:00:00.216Z\", \"2020-03-27T02:00:00.218Z\", \"2020-03-27T03:00:00.192Z\", \"2020-03-27T04:00:00.209Z\", \"2020-03-27T05:00:00.182Z\", \"2020-03-27T06:00:00.188Z\", \"2020-03-27T07:00:00.218Z\", \"2020-03-27T08:00:00.204Z\", \"2020-03-27T09:00:00.220Z\", \"2020-03-27T10:00:00.200Z\", \"2020-03-27T11:00:00.163Z\", \"2020-03-27T12:00:00.246Z\", \"2020-03-27T13:00:00.205Z\", \"2020-03-27T14:00:00.256Z\", \"2020-03-27T15:00:00.173Z\", \"2020-03-27T16:00:00.168Z\", \"2020-03-27T17:00:00.223Z\", \"2020-03-27T18:00:00.236Z\", \"2020-03-27T19:00:00.194Z\", \"2020-03-27T21:00:00.202Z\", \"2020-03-27T22:00:00.191Z\", \"2020-03-27T23:00:00.159Z\", \"2020-03-28T01:00:00.213Z\", \"2020-03-28T02:00:00.191Z\", \"2020-03-28T03:00:00.225Z\", \"2020-03-28T04:00:00.185Z\", \"2020-03-28T05:00:00.200Z\", \"2020-03-28T06:00:00.211Z\", \"2020-03-28T07:00:00.169Z\", \"2020-03-28T08:00:00.299Z\", \"2020-03-28T09:00:00.204Z\", \"2020-03-28T10:00:00.214Z\", \"2020-03-28T11:00:00.224Z\", \"2020-03-28T12:00:00.174Z\", \"2020-03-28T13:00:00.241Z\", \"2020-03-28T14:00:00.191Z\", \"2020-03-28T15:00:00.156Z\", \"2020-03-28T16:00:00.197Z\", \"2020-03-28T17:00:00.219Z\", \"2020-03-28T18:00:00.163Z\", \"2020-03-28T19:00:00.196Z\", \"2020-03-28T20:00:00.230Z\", \"2020-03-28T21:00:00.235Z\", \"2020-03-28T22:00:00.193Z\", \"2020-03-28T23:00:00.268Z\", \"2020-03-29T00:00:00.161Z\", \"2020-03-29T01:00:00.168Z\", \"2020-03-29T02:00:00.246Z\", \"2020-03-29T03:00:00.185Z\", \"2020-03-29T04:00:00.185Z\", \"2020-03-29T05:00:00.152Z\", \"2020-03-29T06:00:00.228Z\", \"2020-03-29T07:00:00.225Z\", \"2020-03-29T08:00:00.239Z\", \"2020-03-29T09:00:00.221Z\", \"2020-03-29T10:00:00.238Z\", \"2020-03-29T11:00:00.207Z\", \"2020-03-29T12:00:00.163Z\", \"2020-03-29T13:00:00.186Z\", \"2020-03-29T14:00:00.169Z\", \"2020-03-29T15:00:00.184Z\", \"2020-03-29T16:00:00.175Z\", \"2020-03-29T17:00:00.218Z\", \"2020-03-29T18:00:00.177Z\", \"2020-03-29T19:00:00.225Z\", \"2020-03-29T20:00:00.161Z\", \"2020-03-29T21:00:00.186Z\", \"2020-03-29T22:00:00.218Z\", \"2020-03-29T23:00:00.168Z\", \"2020-03-30T00:00:00.188Z\", \"2020-03-30T01:00:00.159Z\", \"2020-03-30T02:00:00.190Z\", \"2020-03-30T03:00:00.179Z\", \"2020-03-30T04:00:00.226Z\", \"2020-03-30T05:00:00.232Z\", \"2020-03-30T06:00:00.188Z\", \"2020-03-30T07:00:00.253Z\", \"2020-03-30T08:00:00.231Z\", \"2020-03-30T09:00:00.194Z\", \"2020-03-30T10:00:00.222Z\", \"2020-03-30T11:00:00.183Z\", \"2020-03-30T12:00:00.225Z\", \"2020-03-30T13:00:00.236Z\", \"2020-03-30T14:00:00.235Z\", \"2020-03-30T15:00:00.231Z\", \"2020-03-30T16:00:00.186Z\", \"2020-03-30T17:00:00.191Z\", \"2020-03-30T18:00:00.193Z\", \"2020-03-30T19:00:00.196Z\", \"2020-03-30T20:00:00.199Z\", \"2020-03-30T21:00:00.226Z\", \"2020-03-30T22:00:00.200Z\", \"2020-03-30T23:00:00.222Z\", \"2020-03-31T00:00:00.174Z\", \"2020-03-31T01:00:00.247Z\", \"2020-03-31T02:00:00.214Z\", \"2020-03-31T03:00:00.161Z\", \"2020-03-31T04:00:00.164Z\", \"2020-03-31T05:00:00.141Z\", \"2020-03-31T06:00:00.194Z\", \"2020-03-31T07:00:00.200Z\", \"2020-03-31T08:00:00.158Z\", \"2020-03-31T09:00:00.195Z\", \"2020-03-31T10:00:00.225Z\", \"2020-03-31T11:00:00.192Z\", \"2020-03-31T12:00:00.232Z\", \"2020-03-31T13:00:00.222Z\", \"2020-03-31T14:00:00.160Z\", \"2020-03-31T15:00:00.218Z\", \"2020-03-31T16:00:00.201Z\", \"2020-03-31T17:00:00.198Z\", \"2020-03-31T18:00:00.191Z\", \"2020-03-31T19:00:00.184Z\", \"2020-03-31T20:00:00.192Z\", \"2020-03-31T21:00:00.194Z\", \"2020-03-31T22:00:00.214Z\", \"2020-03-31T23:00:00.182Z\", \"2020-04-01T00:00:00.195Z\", \"2020-04-01T01:00:00.169Z\", \"2020-04-01T02:00:00.229Z\", \"2020-04-01T03:00:00.293Z\", \"2020-04-01T04:00:00.207Z\", \"2020-04-01T05:00:00.193Z\", \"2020-04-01T06:00:00.238Z\", \"2020-04-01T07:00:00.168Z\", \"2020-04-01T08:00:00.229Z\", \"2020-04-01T09:00:00.180Z\", \"2020-04-01T10:00:00.218Z\", \"2020-04-01T11:00:00.205Z\", \"2020-04-01T12:00:00.241Z\", \"2020-04-01T13:00:00.160Z\", \"2020-04-01T14:00:00.203Z\", \"2020-04-01T15:00:00.213Z\", \"2020-04-01T16:00:00.193Z\", \"2020-04-01T17:00:00.260Z\", \"2020-04-01T18:00:00.201Z\", \"2020-04-01T19:00:00.271Z\", \"2020-04-01T20:00:00.209Z\", \"2020-04-01T21:00:00.225Z\", \"2020-04-01T22:00:00.168Z\", \"2020-04-01T23:00:00.206Z\", \"2020-04-02T00:00:00.182Z\", \"2020-04-02T01:00:00.198Z\", \"2020-04-02T02:00:00.212Z\", \"2020-04-02T03:00:00.220Z\", \"2020-04-02T05:00:00.195Z\", \"2020-04-02T06:00:00.241Z\", \"2020-04-02T07:00:00.229Z\", \"2020-04-02T08:00:00.193Z\", \"2020-04-02T09:00:00.199Z\", \"2020-04-02T10:00:00.230Z\", \"2020-04-02T11:00:00.212Z\", \"2020-04-02T12:00:00.187Z\", \"2020-04-02T13:00:00.259Z\", \"2020-04-02T14:00:00.289Z\", \"2020-04-02T15:00:00.212Z\", \"2020-04-02T16:00:00.157Z\", \"2020-04-02T17:00:00.191Z\", \"2020-04-02T18:00:00.201Z\", \"2020-04-02T19:00:00.210Z\", \"2020-04-02T20:00:00.193Z\", \"2020-04-02T21:00:00.223Z\", \"2020-04-02T22:00:00.197Z\", \"2020-04-02T23:00:00.227Z\", \"2020-04-03T00:00:00.201Z\", \"2020-04-03T01:00:00.159Z\", \"2020-04-03T02:00:00.180Z\", \"2020-04-03T03:00:00.233Z\", \"2020-04-03T04:00:00.210Z\", \"2020-04-03T05:00:00.168Z\", \"2020-04-03T06:00:00.193Z\", \"2020-04-03T07:00:00.261Z\", \"2020-04-03T08:00:00.194Z\", \"2020-04-03T09:00:00.278Z\", \"2020-04-03T10:00:00.232Z\", \"2020-04-03T11:00:00.181Z\", \"2020-04-03T12:00:00.200Z\", \"2020-04-03T13:00:00.170Z\", \"2020-04-03T14:00:00.184Z\", \"2020-04-03T15:00:00.219Z\", \"2020-04-03T16:00:00.164Z\", \"2020-04-03T17:00:00.180Z\", \"2020-04-03T18:00:00.184Z\", \"2020-04-03T19:00:00.196Z\", \"2020-04-03T20:00:00.184Z\", \"2020-04-03T21:00:00.211Z\", \"2020-04-03T22:00:00.194Z\", \"2020-04-03T23:00:00.148Z\", \"2020-04-04T00:00:00.159Z\", \"2020-04-04T01:00:00.181Z\", \"2020-04-04T02:00:00.157Z\", \"2020-04-04T03:00:00.217Z\", \"2020-04-04T04:00:00.192Z\", \"2020-04-04T05:00:00.173Z\", \"2020-04-04T06:00:00.230Z\", \"2020-04-04T07:00:00.159Z\", \"2020-04-04T08:00:00.237Z\", \"2020-04-04T09:00:00.162Z\", \"2020-04-04T10:00:00.188Z\", \"2020-04-04T11:00:00.185Z\", \"2020-04-04T12:00:00.192Z\", \"2020-04-04T13:00:00.162Z\", \"2020-04-04T14:00:00.171Z\", \"2020-04-04T15:00:00.216Z\", \"2020-04-04T17:00:00.185Z\", \"2020-04-04T18:00:00.199Z\", \"2020-04-04T19:00:00.217Z\", \"2020-04-04T20:00:00.225Z\", \"2020-04-04T21:00:00.255Z\", \"2020-04-04T22:00:00.199Z\", \"2020-04-04T23:00:00.282Z\", \"2020-04-05T00:00:00.238Z\", \"2020-04-05T01:00:00.225Z\", \"2020-04-05T02:00:00.235Z\", \"2020-04-05T03:00:00.253Z\", \"2020-04-05T04:00:00.216Z\", \"2020-04-05T05:00:00.205Z\", \"2020-04-05T06:00:00.228Z\", \"2020-04-05T07:00:00.192Z\", \"2020-04-05T08:00:00.185Z\", \"2020-04-05T09:00:00.265Z\", \"2020-04-05T10:00:00.194Z\", \"2020-04-05T11:00:00.217Z\", \"2020-04-05T12:00:00.222Z\", \"2020-04-05T13:00:00.237Z\", \"2020-04-05T14:00:00.188Z\", \"2020-04-05T15:00:00.267Z\", \"2020-04-05T16:00:00.225Z\", \"2020-04-05T17:00:00.184Z\", \"2020-04-05T18:00:00.263Z\", \"2020-04-05T19:00:00.209Z\", \"2020-04-05T20:00:00.205Z\", \"2020-04-05T21:00:00.182Z\", \"2020-04-05T22:00:00.224Z\", \"2020-04-05T23:00:00.242Z\", \"2020-04-06T00:00:00.264Z\", \"2020-04-06T01:00:00.248Z\", \"2020-04-06T02:00:00.174Z\", \"2020-04-06T03:00:00.224Z\", \"2020-04-06T04:00:00.232Z\", \"2020-04-06T05:00:00.211Z\", \"2020-04-06T06:00:00.185Z\", \"2020-04-06T07:00:00.195Z\", \"2020-04-06T08:00:00.215Z\", \"2020-04-06T09:00:00.185Z\", \"2020-04-06T10:00:00.208Z\", \"2020-04-06T11:00:00.200Z\", \"2020-04-06T12:00:00.177Z\", \"2020-04-06T13:00:00.254Z\", \"2020-04-06T14:00:00.186Z\", \"2020-04-06T15:00:00.244Z\", \"2020-04-06T16:00:00.242Z\", \"2020-04-06T17:00:00.214Z\", \"2020-04-06T18:00:00.238Z\", \"2020-04-06T19:00:00.234Z\", \"2020-04-06T20:00:00.193Z\", \"2020-04-06T21:00:00.255Z\", \"2020-04-06T22:00:00.261Z\", \"2020-04-06T23:00:00.179Z\", \"2020-04-07T00:00:00.256Z\", \"2020-04-07T01:00:00.223Z\", \"2020-04-07T02:00:00.207Z\", \"2020-04-07T03:00:00.186Z\", \"2020-04-07T04:00:00.182Z\", \"2020-04-07T05:00:00.186Z\", \"2020-04-07T06:00:00.160Z\", \"2020-04-07T07:00:00.183Z\", \"2020-04-07T08:00:00.216Z\", \"2020-04-07T09:00:00.206Z\", \"2020-04-07T10:00:00.254Z\", \"2020-04-07T11:00:00.190Z\", \"2020-04-07T12:00:00.271Z\", \"2020-04-07T13:00:00.170Z\", \"2020-04-07T14:00:00.457Z\", \"2020-04-07T15:00:00.225Z\", \"2020-04-07T16:00:00.212Z\", \"2020-04-07T17:00:00.212Z\", \"2020-04-07T18:00:00.170Z\", \"2020-04-07T19:00:00.272Z\", \"2020-04-07T20:00:00.213Z\", \"2020-04-07T21:00:00.229Z\", \"2020-04-07T22:00:00.235Z\", \"2020-04-07T23:00:00.261Z\", \"2020-04-08T00:00:00.336Z\", \"2020-04-08T01:00:00.252Z\", \"2020-04-08T02:00:00.184Z\", \"2020-04-08T03:00:00.207Z\", \"2020-04-08T04:00:00.266Z\", \"2020-04-08T05:00:00.218Z\", \"2020-04-08T06:00:00.257Z\", \"2020-04-08T07:00:00.197Z\", \"2020-04-08T08:00:00.244Z\", \"2020-04-08T09:00:00.191Z\", \"2020-04-08T10:00:00.225Z\", \"2020-04-08T11:00:00.237Z\", \"2020-04-08T12:00:00.194Z\", \"2020-04-08T13:00:00.304Z\", \"2020-04-08T14:00:00.209Z\", \"2020-04-08T15:00:00.284Z\", \"2020-04-08T16:00:00.210Z\", \"2020-04-08T17:00:00.202Z\", \"2020-04-08T18:00:00.356Z\", \"2020-04-08T19:00:00.260Z\", \"2020-04-08T20:00:00.212Z\", \"2020-04-08T21:00:00.181Z\", \"2020-04-08T22:00:00.244Z\", \"2020-04-08T23:00:00.261Z\", \"2020-04-09T00:00:00.188Z\", \"2020-04-09T01:00:00.206Z\", \"2020-04-09T02:00:00.208Z\", \"2020-04-09T03:00:00.217Z\", \"2020-04-09T04:00:00.196Z\", \"2020-04-09T05:00:00.235Z\", \"2020-04-09T06:00:00.213Z\", \"2020-04-09T07:00:00.236Z\", \"2020-04-09T08:00:00.226Z\", \"2020-04-09T09:00:00.169Z\", \"2020-04-09T10:00:00.223Z\", \"2020-04-09T11:00:00.251Z\", \"2020-04-09T12:00:00.217Z\", \"2020-04-09T13:00:00.235Z\", \"2020-04-09T14:00:00.258Z\", \"2020-04-09T15:00:00.233Z\", \"2020-04-09T16:00:00.189Z\", \"2020-04-09T17:00:00.220Z\", \"2020-04-09T18:00:00.233Z\", \"2020-04-09T19:00:00.222Z\", \"2020-04-09T20:00:00.280Z\", \"2020-04-09T21:00:00.285Z\", \"2020-04-09T22:00:00.225Z\", \"2020-04-09T23:00:00.181Z\", \"2020-04-10T00:00:00.213Z\", \"2020-04-10T01:00:00.222Z\", \"2020-04-10T02:00:00.253Z\", \"2020-04-10T03:00:00.163Z\", \"2020-04-10T04:00:00.193Z\", \"2020-04-10T05:00:00.208Z\", \"2020-04-10T06:00:00.206Z\", \"2020-04-10T07:00:00.200Z\", \"2020-04-10T08:00:00.251Z\", \"2020-04-10T09:00:00.227Z\", \"2020-04-10T10:00:00.231Z\", \"2020-04-10T11:00:00.181Z\", \"2020-04-10T12:00:00.271Z\", \"2020-04-10T13:00:00.218Z\", \"2020-04-10T14:00:00.185Z\", \"2020-04-10T15:00:00.223Z\", \"2020-04-10T16:00:00.189Z\", \"2020-04-10T17:00:00.211Z\", \"2020-04-10T18:00:00.236Z\", \"2020-04-10T19:00:00.213Z\", \"2020-04-10T20:00:00.190Z\", \"2020-04-10T21:00:00.182Z\", \"2020-04-10T22:00:00.212Z\", \"2020-04-10T23:00:00.185Z\", \"2020-04-11T00:00:00.202Z\", \"2020-04-11T01:00:00.229Z\", \"2020-04-11T02:00:00.265Z\", \"2020-04-11T03:00:00.193Z\", \"2020-04-11T04:00:00.199Z\", \"2020-04-11T05:00:00.176Z\", \"2020-04-11T06:00:00.230Z\", \"2020-04-11T07:00:00.226Z\", \"2020-04-11T08:00:00.196Z\", \"2020-04-11T09:00:00.281Z\", \"2020-04-11T10:00:00.226Z\", \"2020-04-11T11:00:00.259Z\", \"2020-04-11T12:00:00.277Z\", \"2020-04-11T13:00:00.253Z\", \"2020-04-11T14:00:00.189Z\", \"2020-04-11T15:00:00.222Z\", \"2020-04-11T16:00:00.193Z\", \"2020-04-11T17:00:00.213Z\", \"2020-04-11T18:00:00.264Z\", \"2020-04-11T19:00:00.178Z\", \"2020-04-11T20:00:00.235Z\", \"2020-04-11T21:00:00.257Z\", \"2020-04-11T22:00:00.247Z\", \"2020-04-11T23:00:00.217Z\", \"2020-04-12T00:00:00.224Z\", \"2020-04-12T01:00:00.262Z\", \"2020-04-12T02:00:00.185Z\", \"2020-04-12T03:00:00.219Z\", \"2020-04-12T04:00:00.192Z\", \"2020-04-12T05:00:00.173Z\", \"2020-04-12T06:00:00.256Z\", \"2020-04-12T07:00:00.237Z\", \"2020-04-12T08:00:00.177Z\", \"2020-04-12T09:00:00.225Z\", \"2020-04-12T10:00:00.258Z\", \"2020-04-12T11:00:00.252Z\", \"2020-04-12T12:00:00.187Z\", \"2020-04-12T13:00:00.211Z\", \"2020-04-12T14:00:00.230Z\", \"2020-04-12T15:00:00.182Z\", \"2020-04-12T16:00:00.273Z\", \"2020-04-12T17:00:00.246Z\", \"2020-04-12T18:00:00.193Z\", \"2020-04-12T19:00:00.187Z\", \"2020-04-12T20:00:00.207Z\", \"2020-04-12T21:00:00.213Z\", \"2020-04-12T22:00:00.205Z\", \"2020-04-12T23:00:00.251Z\", \"2020-04-13T00:00:00.241Z\", \"2020-04-13T01:00:00.214Z\", \"2020-04-13T02:00:00.244Z\", \"2020-04-13T03:00:00.244Z\", \"2020-04-13T04:00:00.245Z\", \"2020-04-13T05:00:00.228Z\", \"2020-04-13T06:00:00.261Z\", \"2020-04-13T07:00:00.231Z\", \"2020-04-13T08:00:00.250Z\", \"2020-04-13T09:00:00.223Z\", \"2020-04-13T10:00:00.226Z\", \"2020-04-13T11:00:00.202Z\", \"2020-04-13T12:00:00.180Z\", \"2020-04-13T13:00:00.170Z\", \"2020-04-13T14:00:00.209Z\", \"2020-04-13T15:00:00.230Z\", \"2020-04-13T16:00:00.212Z\", \"2020-04-13T17:00:00.233Z\", \"2020-04-13T18:00:00.261Z\", \"2020-04-13T19:00:00.275Z\", \"2020-04-13T20:00:00.177Z\", \"2020-04-13T21:00:00.223Z\", \"2020-04-13T22:00:00.224Z\", \"2020-04-13T23:00:00.242Z\", \"2020-04-14T00:00:00.214Z\", \"2020-04-14T01:00:00.220Z\", \"2020-04-14T02:00:00.242Z\", \"2020-04-14T03:00:00.257Z\", \"2020-04-14T04:00:00.207Z\", \"2020-04-14T05:00:00.209Z\", \"2020-04-14T06:00:00.215Z\", \"2020-04-14T07:00:00.227Z\", \"2020-04-14T08:00:00.215Z\", \"2020-04-14T09:00:00.254Z\", \"2020-04-14T10:00:00.226Z\", \"2020-04-14T11:00:00.177Z\", \"2020-04-14T12:00:00.381Z\", \"2020-04-14T13:00:00.180Z\", \"2020-04-14T14:00:00.244Z\", \"2020-04-14T15:00:00.227Z\", \"2020-04-14T16:00:00.295Z\", \"2020-04-14T17:00:00.224Z\", \"2020-04-14T18:00:00.223Z\", \"2020-04-14T19:00:00.220Z\", \"2020-04-14T20:00:00.218Z\", \"2020-04-14T21:00:00.233Z\", \"2020-04-14T22:00:00.219Z\", \"2020-04-14T23:00:00.245Z\", \"2020-04-15T00:00:00.254Z\", \"2020-04-15T01:00:00.189Z\", \"2020-04-15T02:00:00.206Z\", \"2020-04-15T03:00:00.179Z\", \"2020-04-15T04:00:00.227Z\", \"2020-04-15T05:00:00.261Z\", \"2020-04-15T06:00:00.188Z\", \"2020-04-15T07:00:00.229Z\", \"2020-04-15T08:00:00.204Z\", \"2020-04-15T09:00:00.190Z\", \"2020-04-15T10:00:00.212Z\", \"2020-04-15T11:00:00.238Z\", \"2020-04-15T12:00:00.249Z\", \"2020-04-15T13:00:00.239Z\", \"2020-04-15T14:00:00.212Z\", \"2020-04-15T15:00:00.258Z\", \"2020-04-15T16:00:00.219Z\", \"2020-04-15T17:00:00.184Z\", \"2020-04-15T18:00:00.197Z\", \"2020-04-15T19:00:00.303Z\", \"2020-04-15T20:00:00.243Z\", \"2020-04-15T21:00:00.221Z\", \"2020-04-15T22:00:00.246Z\", \"2020-04-15T23:00:00.246Z\", \"2020-04-16T00:00:00.185Z\", \"2020-04-16T01:00:00.265Z\", \"2020-04-16T02:00:00.175Z\", \"2020-04-16T03:00:00.201Z\", \"2020-04-16T04:00:00.216Z\", \"2020-04-16T05:00:00.225Z\", \"2020-04-16T06:00:00.237Z\", \"2020-04-16T07:00:00.263Z\", \"2020-04-16T08:00:00.240Z\", \"2020-04-16T09:00:00.214Z\", \"2020-04-16T10:00:00.193Z\", \"2020-04-16T11:00:00.213Z\", \"2020-04-16T12:00:00.229Z\", \"2020-04-16T13:00:00.229Z\", \"2020-04-16T14:00:00.265Z\", \"2020-04-16T15:00:00.264Z\", \"2020-04-16T16:00:00.237Z\", \"2020-04-16T17:00:00.201Z\", \"2020-04-16T18:00:00.226Z\", \"2020-04-16T19:00:00.217Z\", \"2020-04-16T20:00:00.257Z\", \"2020-04-16T21:00:00.180Z\", \"2020-04-16T22:00:00.178Z\", \"2020-04-16T23:00:00.222Z\", \"2020-04-17T00:00:00.247Z\", \"2020-04-17T01:00:00.210Z\", \"2020-04-17T02:00:00.211Z\", \"2020-04-17T03:00:00.261Z\", \"2020-04-17T04:00:00.265Z\", \"2020-04-17T05:00:00.222Z\", \"2020-04-17T06:00:00.224Z\", \"2020-04-17T07:00:00.285Z\", \"2020-04-17T08:00:00.235Z\", \"2020-04-17T09:00:00.230Z\", \"2020-04-17T10:00:00.257Z\", \"2020-04-17T11:00:00.261Z\", \"2020-04-17T12:00:00.309Z\", \"2020-04-17T13:00:00.191Z\", \"2020-04-17T14:00:00.225Z\", \"2020-04-17T15:00:00.263Z\", \"2020-04-17T16:00:00.221Z\", \"2020-04-17T17:00:00.283Z\", \"2020-04-17T18:00:00.224Z\", \"2020-04-17T19:00:00.256Z\", \"2020-04-17T20:00:00.265Z\", \"2020-04-17T21:00:00.253Z\", \"2020-04-17T22:00:00.218Z\", \"2020-04-17T23:00:00.251Z\", \"2020-04-18T00:00:00.230Z\", \"2020-04-18T01:00:00.219Z\", \"2020-04-18T02:00:00.173Z\", \"2020-04-18T03:00:00.190Z\", \"2020-04-18T04:00:00.172Z\", \"2020-04-18T05:00:00.214Z\", \"2020-04-18T06:00:00.190Z\", \"2020-04-18T07:00:00.255Z\", \"2020-04-18T08:00:00.201Z\", \"2020-04-18T09:00:00.229Z\", \"2020-04-18T10:00:00.223Z\", \"2020-04-18T11:00:00.195Z\", \"2020-04-18T12:00:00.227Z\", \"2020-04-18T13:00:00.218Z\", \"2020-04-18T14:00:00.228Z\", \"2020-04-18T15:00:00.281Z\", \"2020-04-18T16:00:00.225Z\", \"2020-04-18T17:00:00.226Z\", \"2020-04-18T18:00:00.224Z\", \"2020-04-18T19:00:00.161Z\", \"2020-04-18T20:00:00.187Z\", \"2020-04-18T21:00:00.226Z\", \"2020-04-18T22:00:00.239Z\", \"2020-04-18T23:00:00.225Z\", \"2020-04-19T00:00:00.158Z\", \"2020-04-19T01:00:00.215Z\", \"2020-04-19T02:00:00.237Z\", \"2020-04-19T03:00:00.182Z\", \"2020-04-19T04:00:00.206Z\", \"2020-04-19T05:00:00.226Z\", \"2020-04-19T06:00:00.177Z\", \"2020-04-19T07:00:00.263Z\", \"2020-04-19T08:00:00.213Z\", \"2020-04-19T09:00:00.186Z\", \"2020-04-19T10:00:00.193Z\", \"2020-04-19T11:00:00.217Z\", \"2020-04-19T12:00:00.176Z\", \"2020-04-19T13:00:00.240Z\", \"2020-04-19T14:00:00.267Z\", \"2020-04-19T15:00:00.187Z\", \"2020-04-19T16:00:00.177Z\", \"2020-04-19T17:00:00.248Z\", \"2020-04-19T18:00:00.269Z\", \"2020-04-19T19:00:00.216Z\", \"2020-04-19T20:00:00.189Z\", \"2020-04-19T21:00:00.272Z\", \"2020-04-19T22:00:00.274Z\", \"2020-04-19T23:00:00.222Z\", \"2020-04-20T00:00:00.251Z\", \"2020-04-20T01:00:00.244Z\", \"2020-04-20T02:00:00.181Z\", \"2020-04-20T03:00:00.238Z\", \"2020-04-20T04:00:00.213Z\", \"2020-04-20T05:00:00.205Z\", \"2020-04-20T06:00:00.223Z\", \"2020-04-20T07:00:00.182Z\", \"2020-04-20T08:00:00.211Z\", \"2020-04-20T09:00:00.231Z\", \"2020-04-20T10:00:00.234Z\", \"2020-04-20T11:00:00.214Z\", \"2020-04-20T12:00:00.354Z\", \"2020-04-20T13:00:00.238Z\", \"2020-04-20T14:00:00.187Z\", \"2020-04-20T15:00:00.222Z\", \"2020-04-20T16:00:00.263Z\", \"2020-04-20T17:00:00.191Z\", \"2020-04-20T18:00:00.225Z\", \"2020-04-20T19:00:00.257Z\", \"2020-04-20T20:00:00.269Z\", \"2020-04-20T21:00:00.179Z\", \"2020-04-20T22:00:00.167Z\", \"2020-04-20T23:00:00.186Z\", \"2020-04-21T00:00:00.227Z\", \"2020-04-21T01:00:00.239Z\", \"2020-04-21T02:00:00.224Z\", \"2020-04-21T03:00:00.237Z\", \"2020-04-21T04:00:00.276Z\", \"2020-04-21T05:00:00.212Z\", \"2020-04-21T06:00:00.215Z\", \"2020-04-21T07:00:00.237Z\", \"2020-04-21T08:00:00.299Z\", \"2020-04-21T09:00:00.262Z\", \"2020-04-21T10:00:00.234Z\", \"2020-04-21T11:00:00.219Z\", \"2020-04-21T12:00:00.199Z\", \"2020-04-21T13:00:00.260Z\", \"2020-04-21T14:00:00.265Z\", \"2020-04-21T15:00:00.208Z\", \"2020-04-21T16:00:00.278Z\", \"2020-04-21T17:00:00.208Z\", \"2020-04-21T18:00:00.190Z\", \"2020-04-21T19:00:00.264Z\", \"2020-04-21T20:00:00.222Z\", \"2020-04-21T21:00:00.215Z\", \"2020-04-21T22:00:00.219Z\", \"2020-04-21T23:00:00.206Z\", \"2020-04-22T00:00:00.207Z\", \"2020-04-22T01:00:00.220Z\", \"2020-04-22T02:00:00.203Z\", \"2020-04-22T03:00:00.213Z\", \"2020-04-22T04:00:00.201Z\", \"2020-04-22T05:00:00.248Z\", \"2020-04-22T06:00:00.189Z\", \"2020-04-22T07:00:00.223Z\", \"2020-04-22T08:00:00.223Z\", \"2020-04-22T09:00:00.223Z\", \"2020-04-22T10:00:00.245Z\"], \"y\": [62, 62, 85, 85, 85, 85, 85, 85, 85, 85, 85, 116, 116, 116, 116, 116, 116, 116, 116, 116, 116, 116, 116, 116, 116, 116, 116, 116, 116, 116, 116, 116, 116, 116, 116, 116, 116, 116, 150, 150, 150, 150, 150, 150, 150, 150, 150, 150, 150, 150, 150, 150, 150, 150, 150, 150, 150, 150, 150, 202, 202, 202, 202, 202, 202, 202, 202, 202, 202, 202, 202, 202, 202, 202, 202, 202, 202, 202, 202, 202, 202, 202, 202, 239, 239, 239, 238, 238, 238, 238, 238, 238, 238, 238, 238, 238, 238, 238, 238, 238, 238, 238, 238, 238, 238, 238, 238, 238, 238, 238, 238, 238, 238, 238, 238, 238, 272, 272, 272, 272, 272, 272, 272, 272, 272, 398, 398, 398, 398, 398, 398, 398, 398, 398, 398, 398, 398, 398, 550, 550, 550, 550, 550, 550, 550, 550, 550, 550, 550, 550, 550, 550, 550, 550, 550, 550, 550, 550, 550, 550, 705, 705, 705, 705, 705, 697, 697, 697, 697, 697, 697, 697, 697, 697, 697, 697, 697, 697, 697, 697, 697, 697, 697, 697, 697, 697, 697, 697, 697, 697, 697, 697, 697, 915, 915, 915, 915, 915, 915, 915, 915, 915, 915, 915, 915, 915, 915, 915, 915, 913, 913, 913, 913, 913, 913, 913, 913, 913, 1156, 1156, 1156, 1157, 1138, 1138, 1138, 1138, 1138, 1138, 1138, 1138, 1138, 1138, 1138, 1138, 1138, 1138, 1138, 1138, 1138, 1138, 1138, 1137, 1154, 1154, 1154, 1155, 1155, 1155, 1155, 1155, 1155, 1155, 1155, 1155, 1155, 1155, 1155, 1155, 1155, 1155, 1155, 1155, 1155, 1155, 1155, 1155, 1155, 1247, 1247, 1247, 1247, 1247, 1247, 1247, 1247, 1247, 1247, 1247, 1247, 1247, 1247, 1247, 1247, 1247, 1247, 1247, 1247, 1247, 1247, 1292, 1292, 1292, 1292, 1292, 1292, 1292, 1292, 1292, 1292, 1292, 1292, 1292, 1292, 1292, 1292, 1292, 1292, 1292, 1292, 1292, 1292, 1319, 1319, 1319, 1319, 1319, 1317, 1317, 1317, 1317, 1317, 1317, 1317, 1317, 1317, 1317, 1317, 1298, 1298, 1298, 1298, 1298, 1298, 1298, 1298, 1298, 1325, 1325, 1325, 1325, 1325, 1325, 1325, 1325, 1325, 1325, 1325, 1325, 1325, 1325, 1325, 1325, 1325, 1325, 1325, 1325, 1325, 1325, 1325, 1325, 1407, 1407, 1407, 1407, 1407, 1407, 1407, 1407, 1407, 1407, 1407, 1407, 1362, 1362, 1362, 1362, 1362, 1362, 1362, 1362, 1362, 1362, 1403, 1403, 1401, 1401, 1401, 1401, 1401, 1401, 1401, 1401, 1401, 1401, 1401, 1401, 1401, 1401, 1401, 1401, 1401, 1401, 1401, 1401, 1401, 1401, 1401, 1401, 1401, 1481, 1481, 1481, 1481, 1481, 1481, 1481, 1481, 1481, 1481, 1481, 1481, 1481, 1481, 1481, 1481, 1481, 1481, 1481, 1481, 1481, 1481, 1481, 1481, 1549, 1549, 1549, 1549, 1549, 1549, 1549, 1549, 1549, 1549, 1549, 1549, 1549, 1549, 1549, 1549, 1549, 1549, 1549, 1549, 1549, 1549, 1549, 1549, 1579, 1579, 1579, 1579, 1579, 1579, 1579, 1579, 1579, 1579, 1579, 1579, 1579, 1579, 1579, 1579, 1579, 1579, 1641, 1641, 1641, 1641, 1641, 1641, 1641, 1641, 1641, 1641, 1641, 1641, 1641, 1641, 1641, 1641, 1641, 1641, 1641, 1641, 1641, 1641, 1641, 1641, 1641, 1641, 1641, 1641, 1641, 1732, 1732, 1732, 1732, 1732, 1732, 1732, 1732, 1732, 1732, 1732, 1732, 1732, 1732, 1732, 1732, 1732, 1732, 1732, 1732, 1732, 1732, 1732, 1732, 1821, 1821, 1821, 1821, 1821, 1821, 1821, 1821, 1821, 1821, 1821, 1821, 1821, 1821, 1821, 1821, 1821, 1821, 1569, 1569, 1569, 1569, 1569, 1569, 1569, 1569, 1569, 1569, 1569, 1569, 1569, 1569, 1569, 1569, 1569, 1569, 1569, 1569, 1569, 1569, 1569, 1569, 1569, 1569, 1569, 1569, 1569, 1593, 1593, 1593, 1593, 1593, 1593, 1593, 1593, 1593, 1593, 1593, 1593, 1593, 1593, 1593, 1593, 1593, 1593, 1593, 1593, 1593, 1593, 1593, 1593, 1738, 1738, 1738, 1738, 1738, 1738, 1738, 1738, 1738, 1738, 1738, 1738, 1738, 1738, 1738, 1738, 1738, 1738, 1738, 1738, 1738, 1738, 1738, 1738, 1835, 1835, 1835, 1835, 1835, 1835, 1835, 1835, 1835, 1835, 1835, 1835, 1835, 1835, 1835, 1835, 1835, 1835, 1835, 1835, 1978, 1978, 1978, 1978, 1978, 1978, 1978, 1978, 1978, 1978, 1978, 1978, 1978, 1978, 1978, 1978, 1978, 1978, 1978, 1978, 1978, 1978, 1978, 1978, 1978, 1978, 1978, 2062, 2062, 2062, 2062, 2062, 2062, 2062, 2062, 2062, 2062, 2062, 2062, 2062, 2062, 2062, 2062, 2062, 2062, 2062, 2062, 2062, 2062, 2062, 2062, 2062, 2062, 1654, 1654, 1654, 1654, 1654, 1654, 1654, 1654, 1654, 1654, 1654, 1654, 1654, 1654, 1654, 1654, 1654, 1654, 1654, 1654, 1654, 1654, 1654, 1654, 1830, 1830, 1830, 1830, 1830, 1830, 1830, 1830, 1830, 1830, 1830, 1830, 1830, 1830, 1830, 1830, 1830, 1830, 1830, 1830, 1830, 1830, 1830, 1830, 2081, 2081, 2079, 2079, 2079, 2079, 2079, 2079, 2079, 2079, 2079, 2079, 2079, 2079, 2079, 2079, 2079, 2079, 2079, 2079, 2079, 2079, 2079, 2201, 2201, 2201, 2201, 2201, 2201, 2201, 2201, 2201, 2201, 2201, 2201, 2201, 2201, 2201, 2201, 2201, 2201, 2201, 2201, 2201, 2201, 2201, 2201, 2201, 2201, 2187, 2187, 2187, 2187, 2187, 2187, 2187, 2187, 2187, 2187, 2187, 2187, 2187, 2187, 2187, 2187, 2187, 2187, 2187, 2187, 2187, 2352, 2352, 2352, 2352, 2352, 2352, 2352, 2352, 2352, 2352, 2352, 2352, 2352, 2352, 2352, 2352, 2352, 2352]}],\n",
       "                        {\"template\": {\"data\": {\"bar\": [{\"error_x\": {\"color\": \"#2a3f5f\"}, \"error_y\": {\"color\": \"#2a3f5f\"}, \"marker\": {\"line\": {\"color\": \"#E5ECF6\", \"width\": 0.5}}, \"type\": \"bar\"}], \"barpolar\": [{\"marker\": {\"line\": {\"color\": \"#E5ECF6\", \"width\": 0.5}}, \"type\": \"barpolar\"}], \"carpet\": [{\"aaxis\": {\"endlinecolor\": \"#2a3f5f\", \"gridcolor\": \"white\", \"linecolor\": \"white\", \"minorgridcolor\": \"white\", \"startlinecolor\": \"#2a3f5f\"}, \"baxis\": {\"endlinecolor\": \"#2a3f5f\", \"gridcolor\": \"white\", \"linecolor\": \"white\", \"minorgridcolor\": \"white\", \"startlinecolor\": \"#2a3f5f\"}, \"type\": \"carpet\"}], \"choropleth\": [{\"colorbar\": {\"outlinewidth\": 0, \"ticks\": \"\"}, \"type\": \"choropleth\"}], \"contour\": [{\"colorbar\": {\"outlinewidth\": 0, \"ticks\": \"\"}, \"colorscale\": [[0.0, \"#0d0887\"], [0.1111111111111111, \"#46039f\"], [0.2222222222222222, \"#7201a8\"], [0.3333333333333333, \"#9c179e\"], [0.4444444444444444, \"#bd3786\"], [0.5555555555555556, \"#d8576b\"], [0.6666666666666666, \"#ed7953\"], [0.7777777777777778, \"#fb9f3a\"], [0.8888888888888888, \"#fdca26\"], [1.0, \"#f0f921\"]], \"type\": \"contour\"}], \"contourcarpet\": [{\"colorbar\": {\"outlinewidth\": 0, \"ticks\": \"\"}, \"type\": \"contourcarpet\"}], \"heatmap\": [{\"colorbar\": {\"outlinewidth\": 0, \"ticks\": \"\"}, \"colorscale\": [[0.0, \"#0d0887\"], [0.1111111111111111, \"#46039f\"], [0.2222222222222222, \"#7201a8\"], [0.3333333333333333, \"#9c179e\"], [0.4444444444444444, \"#bd3786\"], [0.5555555555555556, \"#d8576b\"], [0.6666666666666666, \"#ed7953\"], [0.7777777777777778, \"#fb9f3a\"], [0.8888888888888888, \"#fdca26\"], [1.0, \"#f0f921\"]], \"type\": \"heatmap\"}], \"heatmapgl\": [{\"colorbar\": {\"outlinewidth\": 0, \"ticks\": \"\"}, \"colorscale\": [[0.0, \"#0d0887\"], [0.1111111111111111, \"#46039f\"], [0.2222222222222222, \"#7201a8\"], [0.3333333333333333, \"#9c179e\"], [0.4444444444444444, \"#bd3786\"], [0.5555555555555556, \"#d8576b\"], [0.6666666666666666, \"#ed7953\"], [0.7777777777777778, \"#fb9f3a\"], [0.8888888888888888, \"#fdca26\"], [1.0, \"#f0f921\"]], \"type\": \"heatmapgl\"}], \"histogram\": [{\"marker\": {\"colorbar\": {\"outlinewidth\": 0, \"ticks\": \"\"}}, \"type\": \"histogram\"}], \"histogram2d\": [{\"colorbar\": {\"outlinewidth\": 0, \"ticks\": \"\"}, \"colorscale\": [[0.0, \"#0d0887\"], [0.1111111111111111, \"#46039f\"], [0.2222222222222222, \"#7201a8\"], [0.3333333333333333, \"#9c179e\"], [0.4444444444444444, \"#bd3786\"], [0.5555555555555556, \"#d8576b\"], [0.6666666666666666, \"#ed7953\"], [0.7777777777777778, \"#fb9f3a\"], [0.8888888888888888, \"#fdca26\"], [1.0, \"#f0f921\"]], \"type\": \"histogram2d\"}], \"histogram2dcontour\": [{\"colorbar\": {\"outlinewidth\": 0, \"ticks\": \"\"}, \"colorscale\": [[0.0, \"#0d0887\"], [0.1111111111111111, \"#46039f\"], [0.2222222222222222, \"#7201a8\"], [0.3333333333333333, \"#9c179e\"], [0.4444444444444444, \"#bd3786\"], [0.5555555555555556, \"#d8576b\"], [0.6666666666666666, \"#ed7953\"], [0.7777777777777778, \"#fb9f3a\"], [0.8888888888888888, \"#fdca26\"], [1.0, \"#f0f921\"]], \"type\": \"histogram2dcontour\"}], \"mesh3d\": [{\"colorbar\": {\"outlinewidth\": 0, \"ticks\": \"\"}, \"type\": \"mesh3d\"}], \"parcoords\": [{\"line\": {\"colorbar\": {\"outlinewidth\": 0, \"ticks\": \"\"}}, \"type\": \"parcoords\"}], \"pie\": [{\"automargin\": true, \"type\": \"pie\"}], \"scatter\": [{\"marker\": {\"colorbar\": {\"outlinewidth\": 0, \"ticks\": \"\"}}, \"type\": \"scatter\"}], \"scatter3d\": [{\"line\": {\"colorbar\": {\"outlinewidth\": 0, \"ticks\": \"\"}}, \"marker\": {\"colorbar\": {\"outlinewidth\": 0, \"ticks\": \"\"}}, \"type\": \"scatter3d\"}], \"scattercarpet\": [{\"marker\": {\"colorbar\": {\"outlinewidth\": 0, \"ticks\": \"\"}}, \"type\": \"scattercarpet\"}], \"scattergeo\": [{\"marker\": {\"colorbar\": {\"outlinewidth\": 0, \"ticks\": \"\"}}, \"type\": \"scattergeo\"}], \"scattergl\": [{\"marker\": {\"colorbar\": {\"outlinewidth\": 0, \"ticks\": \"\"}}, \"type\": \"scattergl\"}], \"scattermapbox\": [{\"marker\": {\"colorbar\": {\"outlinewidth\": 0, \"ticks\": \"\"}}, \"type\": \"scattermapbox\"}], \"scatterpolar\": [{\"marker\": {\"colorbar\": {\"outlinewidth\": 0, \"ticks\": \"\"}}, \"type\": \"scatterpolar\"}], \"scatterpolargl\": [{\"marker\": {\"colorbar\": {\"outlinewidth\": 0, \"ticks\": \"\"}}, \"type\": \"scatterpolargl\"}], \"scatterternary\": [{\"marker\": {\"colorbar\": {\"outlinewidth\": 0, \"ticks\": \"\"}}, \"type\": \"scatterternary\"}], \"surface\": [{\"colorbar\": {\"outlinewidth\": 0, \"ticks\": \"\"}, \"colorscale\": [[0.0, \"#0d0887\"], [0.1111111111111111, \"#46039f\"], [0.2222222222222222, \"#7201a8\"], [0.3333333333333333, \"#9c179e\"], [0.4444444444444444, \"#bd3786\"], [0.5555555555555556, \"#d8576b\"], [0.6666666666666666, \"#ed7953\"], [0.7777777777777778, \"#fb9f3a\"], [0.8888888888888888, \"#fdca26\"], [1.0, \"#f0f921\"]], \"type\": \"surface\"}], \"table\": [{\"cells\": {\"fill\": {\"color\": \"#EBF0F8\"}, \"line\": {\"color\": \"white\"}}, \"header\": {\"fill\": {\"color\": \"#C8D4E3\"}, \"line\": {\"color\": \"white\"}}, \"type\": \"table\"}]}, \"layout\": {\"annotationdefaults\": {\"arrowcolor\": \"#2a3f5f\", \"arrowhead\": 0, \"arrowwidth\": 1}, \"coloraxis\": {\"colorbar\": {\"outlinewidth\": 0, \"ticks\": \"\"}}, \"colorscale\": {\"diverging\": [[0, \"#8e0152\"], [0.1, \"#c51b7d\"], [0.2, \"#de77ae\"], [0.3, \"#f1b6da\"], [0.4, \"#fde0ef\"], [0.5, \"#f7f7f7\"], [0.6, \"#e6f5d0\"], [0.7, \"#b8e186\"], [0.8, \"#7fbc41\"], [0.9, \"#4d9221\"], [1, \"#276419\"]], \"sequential\": [[0.0, \"#0d0887\"], [0.1111111111111111, \"#46039f\"], [0.2222222222222222, \"#7201a8\"], [0.3333333333333333, \"#9c179e\"], [0.4444444444444444, \"#bd3786\"], [0.5555555555555556, \"#d8576b\"], [0.6666666666666666, \"#ed7953\"], [0.7777777777777778, \"#fb9f3a\"], [0.8888888888888888, \"#fdca26\"], [1.0, \"#f0f921\"]], \"sequentialminus\": [[0.0, \"#0d0887\"], [0.1111111111111111, \"#46039f\"], [0.2222222222222222, \"#7201a8\"], [0.3333333333333333, \"#9c179e\"], [0.4444444444444444, \"#bd3786\"], [0.5555555555555556, \"#d8576b\"], [0.6666666666666666, \"#ed7953\"], [0.7777777777777778, \"#fb9f3a\"], [0.8888888888888888, \"#fdca26\"], [1.0, \"#f0f921\"]]}, \"colorway\": [\"#636efa\", \"#EF553B\", \"#00cc96\", \"#ab63fa\", \"#FFA15A\", \"#19d3f3\", \"#FF6692\", \"#B6E880\", \"#FF97FF\", \"#FECB52\"], \"font\": {\"color\": \"#2a3f5f\"}, \"geo\": {\"bgcolor\": \"white\", \"lakecolor\": \"white\", \"landcolor\": \"#E5ECF6\", \"showlakes\": true, \"showland\": true, \"subunitcolor\": \"white\"}, \"hoverlabel\": {\"align\": \"left\"}, \"hovermode\": \"closest\", \"mapbox\": {\"style\": \"light\"}, \"paper_bgcolor\": \"white\", \"plot_bgcolor\": \"#E5ECF6\", \"polar\": {\"angularaxis\": {\"gridcolor\": \"white\", \"linecolor\": \"white\", \"ticks\": \"\"}, \"bgcolor\": \"#E5ECF6\", \"radialaxis\": {\"gridcolor\": \"white\", \"linecolor\": \"white\", \"ticks\": \"\"}}, \"scene\": {\"xaxis\": {\"backgroundcolor\": \"#E5ECF6\", \"gridcolor\": \"white\", \"gridwidth\": 2, \"linecolor\": \"white\", \"showbackground\": true, \"ticks\": \"\", \"zerolinecolor\": \"white\"}, \"yaxis\": {\"backgroundcolor\": \"#E5ECF6\", \"gridcolor\": \"white\", \"gridwidth\": 2, \"linecolor\": \"white\", \"showbackground\": true, \"ticks\": \"\", \"zerolinecolor\": \"white\"}, \"zaxis\": {\"backgroundcolor\": \"#E5ECF6\", \"gridcolor\": \"white\", \"gridwidth\": 2, \"linecolor\": \"white\", \"showbackground\": true, \"ticks\": \"\", \"zerolinecolor\": \"white\"}}, \"shapedefaults\": {\"line\": {\"color\": \"#2a3f5f\"}}, \"ternary\": {\"aaxis\": {\"gridcolor\": \"white\", \"linecolor\": \"white\", \"ticks\": \"\"}, \"baxis\": {\"gridcolor\": \"white\", \"linecolor\": \"white\", \"ticks\": \"\"}, \"bgcolor\": \"#E5ECF6\", \"caxis\": {\"gridcolor\": \"white\", \"linecolor\": \"white\", \"ticks\": \"\"}}, \"title\": {\"x\": 0.05}, \"xaxis\": {\"automargin\": true, \"gridcolor\": \"white\", \"linecolor\": \"white\", \"ticks\": \"\", \"title\": {\"standoff\": 15}, \"zerolinecolor\": \"white\", \"zerolinewidth\": 2}, \"yaxis\": {\"automargin\": true, \"gridcolor\": \"white\", \"linecolor\": \"white\", \"ticks\": \"\", \"title\": {\"standoff\": 15}, \"zerolinecolor\": \"white\", \"zerolinewidth\": 2}}}},\n",
       "                        {\"responsive\": true}\n",
       "                    ).then(function(){\n",
       "                            \n",
       "var gd = document.getElementById('d7f7d97a-76da-46b3-99e7-bdbb69dcdb41');\n",
       "var x = new MutationObserver(function (mutations, observer) {{\n",
       "        var display = window.getComputedStyle(gd).display;\n",
       "        if (!display || display === 'none') {{\n",
       "            console.log([gd, 'removed!']);\n",
       "            Plotly.purge(gd);\n",
       "            observer.disconnect();\n",
       "        }}\n",
       "}});\n",
       "\n",
       "// Listen for the removal of the full notebook cells\n",
       "var notebookContainer = gd.closest('#notebook-container');\n",
       "if (notebookContainer) {{\n",
       "    x.observe(notebookContainer, {childList: true});\n",
       "}}\n",
       "\n",
       "// Listen for the clearing of the current output cell\n",
       "var outputEl = gd.closest('.output');\n",
       "if (outputEl) {{\n",
       "    x.observe(outputEl, {childList: true});\n",
       "}}\n",
       "\n",
       "                        })\n",
       "                };\n",
       "                });\n",
       "            </script>\n",
       "        </div>"
      ]
     },
     "metadata": {},
     "output_type": "display_data"
    }
   ],
   "source": [
    "df_rsa = df6[df6.countriesAndTerritories == 'South_Africa'].reset_index()\n",
    "\n",
    "#ACtive cases in South Africa\n",
    "fig_line = go.Figure()\n",
    "# fig_line.add_trace(go.Scatter(x=df_rsa.dateRep, y=df_rsa.cases, name='Total Cases in SA'))\n",
    "fig_line.add_trace(go.Scatter(x = df4.timestamp,y= df4.active, name = 'Active Cases in SA'))\n",
    "# fig_line.add_trace(go.Scatter(x = df4.timestamp,y= df4.recovered))\n",
    "# fig_line.add_trace(go.Scatter(x = df4.timestamp,y= df4.deaths))\n",
    "fig_line.show()"
   ]
  },
  {
   "cell_type": "code",
   "execution_count": 19,
   "metadata": {},
   "outputs": [
    {
     "data": {
      "text/html": [
       "<div>\n",
       "<style scoped>\n",
       "    .dataframe tbody tr th:only-of-type {\n",
       "        vertical-align: middle;\n",
       "    }\n",
       "\n",
       "    .dataframe tbody tr th {\n",
       "        vertical-align: top;\n",
       "    }\n",
       "\n",
       "    .dataframe thead th {\n",
       "        text-align: right;\n",
       "    }\n",
       "</style>\n",
       "<table border=\"1\" class=\"dataframe\">\n",
       "  <thead>\n",
       "    <tr style=\"text-align: right;\">\n",
       "      <th></th>\n",
       "      <th>index</th>\n",
       "      <th>dateRep</th>\n",
       "      <th>day</th>\n",
       "      <th>month</th>\n",
       "      <th>year</th>\n",
       "      <th>cases</th>\n",
       "      <th>deaths</th>\n",
       "      <th>countriesAndTerritories</th>\n",
       "      <th>geoId</th>\n",
       "      <th>countryterritoryCode</th>\n",
       "      <th>popData2018</th>\n",
       "    </tr>\n",
       "  </thead>\n",
       "  <tbody>\n",
       "    <tr>\n",
       "      <th>0</th>\n",
       "      <td>9388</td>\n",
       "      <td>16/04/2020</td>\n",
       "      <td>16</td>\n",
       "      <td>4</td>\n",
       "      <td>2020</td>\n",
       "      <td>91</td>\n",
       "      <td>7</td>\n",
       "      <td>South_Africa</td>\n",
       "      <td>ZA</td>\n",
       "      <td>ZAF</td>\n",
       "      <td>57779622.0</td>\n",
       "    </tr>\n",
       "    <tr>\n",
       "      <th>1</th>\n",
       "      <td>9389</td>\n",
       "      <td>15/04/2020</td>\n",
       "      <td>15</td>\n",
       "      <td>4</td>\n",
       "      <td>2020</td>\n",
       "      <td>143</td>\n",
       "      <td>0</td>\n",
       "      <td>South_Africa</td>\n",
       "      <td>ZA</td>\n",
       "      <td>ZAF</td>\n",
       "      <td>57779622.0</td>\n",
       "    </tr>\n",
       "    <tr>\n",
       "      <th>2</th>\n",
       "      <td>9390</td>\n",
       "      <td>14/04/2020</td>\n",
       "      <td>14</td>\n",
       "      <td>4</td>\n",
       "      <td>2020</td>\n",
       "      <td>99</td>\n",
       "      <td>2</td>\n",
       "      <td>South_Africa</td>\n",
       "      <td>ZA</td>\n",
       "      <td>ZAF</td>\n",
       "      <td>57779622.0</td>\n",
       "    </tr>\n",
       "    <tr>\n",
       "      <th>3</th>\n",
       "      <td>9391</td>\n",
       "      <td>13/04/2020</td>\n",
       "      <td>13</td>\n",
       "      <td>4</td>\n",
       "      <td>2020</td>\n",
       "      <td>145</td>\n",
       "      <td>0</td>\n",
       "      <td>South_Africa</td>\n",
       "      <td>ZA</td>\n",
       "      <td>ZAF</td>\n",
       "      <td>57779622.0</td>\n",
       "    </tr>\n",
       "    <tr>\n",
       "      <th>4</th>\n",
       "      <td>9392</td>\n",
       "      <td>12/04/2020</td>\n",
       "      <td>12</td>\n",
       "      <td>4</td>\n",
       "      <td>2020</td>\n",
       "      <td>25</td>\n",
       "      <td>1</td>\n",
       "      <td>South_Africa</td>\n",
       "      <td>ZA</td>\n",
       "      <td>ZAF</td>\n",
       "      <td>57779622.0</td>\n",
       "    </tr>\n",
       "    <tr>\n",
       "      <th>5</th>\n",
       "      <td>9393</td>\n",
       "      <td>11/04/2020</td>\n",
       "      <td>11</td>\n",
       "      <td>4</td>\n",
       "      <td>2020</td>\n",
       "      <td>69</td>\n",
       "      <td>6</td>\n",
       "      <td>South_Africa</td>\n",
       "      <td>ZA</td>\n",
       "      <td>ZAF</td>\n",
       "      <td>57779622.0</td>\n",
       "    </tr>\n",
       "    <tr>\n",
       "      <th>6</th>\n",
       "      <td>9394</td>\n",
       "      <td>10/04/2020</td>\n",
       "      <td>10</td>\n",
       "      <td>4</td>\n",
       "      <td>2020</td>\n",
       "      <td>89</td>\n",
       "      <td>0</td>\n",
       "      <td>South_Africa</td>\n",
       "      <td>ZA</td>\n",
       "      <td>ZAF</td>\n",
       "      <td>57779622.0</td>\n",
       "    </tr>\n",
       "    <tr>\n",
       "      <th>7</th>\n",
       "      <td>9395</td>\n",
       "      <td>09/04/2020</td>\n",
       "      <td>9</td>\n",
       "      <td>4</td>\n",
       "      <td>2020</td>\n",
       "      <td>96</td>\n",
       "      <td>5</td>\n",
       "      <td>South_Africa</td>\n",
       "      <td>ZA</td>\n",
       "      <td>ZAF</td>\n",
       "      <td>57779622.0</td>\n",
       "    </tr>\n",
       "    <tr>\n",
       "      <th>8</th>\n",
       "      <td>9396</td>\n",
       "      <td>08/04/2020</td>\n",
       "      <td>8</td>\n",
       "      <td>4</td>\n",
       "      <td>2020</td>\n",
       "      <td>63</td>\n",
       "      <td>1</td>\n",
       "      <td>South_Africa</td>\n",
       "      <td>ZA</td>\n",
       "      <td>ZAF</td>\n",
       "      <td>57779622.0</td>\n",
       "    </tr>\n",
       "    <tr>\n",
       "      <th>9</th>\n",
       "      <td>9397</td>\n",
       "      <td>07/04/2020</td>\n",
       "      <td>7</td>\n",
       "      <td>4</td>\n",
       "      <td>2020</td>\n",
       "      <td>31</td>\n",
       "      <td>1</td>\n",
       "      <td>South_Africa</td>\n",
       "      <td>ZA</td>\n",
       "      <td>ZAF</td>\n",
       "      <td>57779622.0</td>\n",
       "    </tr>\n",
       "    <tr>\n",
       "      <th>10</th>\n",
       "      <td>9398</td>\n",
       "      <td>06/04/2020</td>\n",
       "      <td>6</td>\n",
       "      <td>4</td>\n",
       "      <td>2020</td>\n",
       "      <td>70</td>\n",
       "      <td>2</td>\n",
       "      <td>South_Africa</td>\n",
       "      <td>ZA</td>\n",
       "      <td>ZAF</td>\n",
       "      <td>57779622.0</td>\n",
       "    </tr>\n",
       "    <tr>\n",
       "      <th>11</th>\n",
       "      <td>9399</td>\n",
       "      <td>05/04/2020</td>\n",
       "      <td>5</td>\n",
       "      <td>4</td>\n",
       "      <td>2020</td>\n",
       "      <td>80</td>\n",
       "      <td>2</td>\n",
       "      <td>South_Africa</td>\n",
       "      <td>ZA</td>\n",
       "      <td>ZAF</td>\n",
       "      <td>57779622.0</td>\n",
       "    </tr>\n",
       "    <tr>\n",
       "      <th>12</th>\n",
       "      <td>9400</td>\n",
       "      <td>04/04/2020</td>\n",
       "      <td>4</td>\n",
       "      <td>4</td>\n",
       "      <td>2020</td>\n",
       "      <td>43</td>\n",
       "      <td>2</td>\n",
       "      <td>South_Africa</td>\n",
       "      <td>ZA</td>\n",
       "      <td>ZAF</td>\n",
       "      <td>57779622.0</td>\n",
       "    </tr>\n",
       "    <tr>\n",
       "      <th>13</th>\n",
       "      <td>9401</td>\n",
       "      <td>03/04/2020</td>\n",
       "      <td>3</td>\n",
       "      <td>4</td>\n",
       "      <td>2020</td>\n",
       "      <td>82</td>\n",
       "      <td>0</td>\n",
       "      <td>South_Africa</td>\n",
       "      <td>ZA</td>\n",
       "      <td>ZAF</td>\n",
       "      <td>57779622.0</td>\n",
       "    </tr>\n",
       "    <tr>\n",
       "      <th>14</th>\n",
       "      <td>9402</td>\n",
       "      <td>02/04/2020</td>\n",
       "      <td>2</td>\n",
       "      <td>4</td>\n",
       "      <td>2020</td>\n",
       "      <td>27</td>\n",
       "      <td>0</td>\n",
       "      <td>South_Africa</td>\n",
       "      <td>ZA</td>\n",
       "      <td>ZAF</td>\n",
       "      <td>57779622.0</td>\n",
       "    </tr>\n",
       "    <tr>\n",
       "      <th>15</th>\n",
       "      <td>9403</td>\n",
       "      <td>01/04/2020</td>\n",
       "      <td>1</td>\n",
       "      <td>4</td>\n",
       "      <td>2020</td>\n",
       "      <td>27</td>\n",
       "      <td>2</td>\n",
       "      <td>South_Africa</td>\n",
       "      <td>ZA</td>\n",
       "      <td>ZAF</td>\n",
       "      <td>57779622.0</td>\n",
       "    </tr>\n",
       "    <tr>\n",
       "      <th>16</th>\n",
       "      <td>9404</td>\n",
       "      <td>31/03/2020</td>\n",
       "      <td>31</td>\n",
       "      <td>3</td>\n",
       "      <td>2020</td>\n",
       "      <td>46</td>\n",
       "      <td>1</td>\n",
       "      <td>South_Africa</td>\n",
       "      <td>ZA</td>\n",
       "      <td>ZAF</td>\n",
       "      <td>57779622.0</td>\n",
       "    </tr>\n",
       "    <tr>\n",
       "      <th>17</th>\n",
       "      <td>9405</td>\n",
       "      <td>30/03/2020</td>\n",
       "      <td>30</td>\n",
       "      <td>3</td>\n",
       "      <td>2020</td>\n",
       "      <td>93</td>\n",
       "      <td>0</td>\n",
       "      <td>South_Africa</td>\n",
       "      <td>ZA</td>\n",
       "      <td>ZAF</td>\n",
       "      <td>57779622.0</td>\n",
       "    </tr>\n",
       "    <tr>\n",
       "      <th>18</th>\n",
       "      <td>9406</td>\n",
       "      <td>29/03/2020</td>\n",
       "      <td>29</td>\n",
       "      <td>3</td>\n",
       "      <td>2020</td>\n",
       "      <td>17</td>\n",
       "      <td>0</td>\n",
       "      <td>South_Africa</td>\n",
       "      <td>ZA</td>\n",
       "      <td>ZAF</td>\n",
       "      <td>57779622.0</td>\n",
       "    </tr>\n",
       "    <tr>\n",
       "      <th>19</th>\n",
       "      <td>9407</td>\n",
       "      <td>28/03/2020</td>\n",
       "      <td>28</td>\n",
       "      <td>3</td>\n",
       "      <td>2020</td>\n",
       "      <td>243</td>\n",
       "      <td>0</td>\n",
       "      <td>South_Africa</td>\n",
       "      <td>ZA</td>\n",
       "      <td>ZAF</td>\n",
       "      <td>57779622.0</td>\n",
       "    </tr>\n",
       "    <tr>\n",
       "      <th>20</th>\n",
       "      <td>9408</td>\n",
       "      <td>27/03/2020</td>\n",
       "      <td>27</td>\n",
       "      <td>3</td>\n",
       "      <td>2020</td>\n",
       "      <td>218</td>\n",
       "      <td>2</td>\n",
       "      <td>South_Africa</td>\n",
       "      <td>ZA</td>\n",
       "      <td>ZAF</td>\n",
       "      <td>57779622.0</td>\n",
       "    </tr>\n",
       "    <tr>\n",
       "      <th>21</th>\n",
       "      <td>9409</td>\n",
       "      <td>26/03/2020</td>\n",
       "      <td>26</td>\n",
       "      <td>3</td>\n",
       "      <td>2020</td>\n",
       "      <td>152</td>\n",
       "      <td>0</td>\n",
       "      <td>South_Africa</td>\n",
       "      <td>ZA</td>\n",
       "      <td>ZAF</td>\n",
       "      <td>57779622.0</td>\n",
       "    </tr>\n",
       "    <tr>\n",
       "      <th>22</th>\n",
       "      <td>9410</td>\n",
       "      <td>25/03/2020</td>\n",
       "      <td>25</td>\n",
       "      <td>3</td>\n",
       "      <td>2020</td>\n",
       "      <td>155</td>\n",
       "      <td>0</td>\n",
       "      <td>South_Africa</td>\n",
       "      <td>ZA</td>\n",
       "      <td>ZAF</td>\n",
       "      <td>57779622.0</td>\n",
       "    </tr>\n",
       "    <tr>\n",
       "      <th>23</th>\n",
       "      <td>9411</td>\n",
       "      <td>24/03/2020</td>\n",
       "      <td>24</td>\n",
       "      <td>3</td>\n",
       "      <td>2020</td>\n",
       "      <td>128</td>\n",
       "      <td>0</td>\n",
       "      <td>South_Africa</td>\n",
       "      <td>ZA</td>\n",
       "      <td>ZAF</td>\n",
       "      <td>57779622.0</td>\n",
       "    </tr>\n",
       "    <tr>\n",
       "      <th>24</th>\n",
       "      <td>9412</td>\n",
       "      <td>23/03/2020</td>\n",
       "      <td>23</td>\n",
       "      <td>3</td>\n",
       "      <td>2020</td>\n",
       "      <td>34</td>\n",
       "      <td>0</td>\n",
       "      <td>South_Africa</td>\n",
       "      <td>ZA</td>\n",
       "      <td>ZAF</td>\n",
       "      <td>57779622.0</td>\n",
       "    </tr>\n",
       "    <tr>\n",
       "      <th>25</th>\n",
       "      <td>9413</td>\n",
       "      <td>22/03/2020</td>\n",
       "      <td>22</td>\n",
       "      <td>3</td>\n",
       "      <td>2020</td>\n",
       "      <td>35</td>\n",
       "      <td>0</td>\n",
       "      <td>South_Africa</td>\n",
       "      <td>ZA</td>\n",
       "      <td>ZAF</td>\n",
       "      <td>57779622.0</td>\n",
       "    </tr>\n",
       "    <tr>\n",
       "      <th>26</th>\n",
       "      <td>9414</td>\n",
       "      <td>21/03/2020</td>\n",
       "      <td>21</td>\n",
       "      <td>3</td>\n",
       "      <td>2020</td>\n",
       "      <td>55</td>\n",
       "      <td>0</td>\n",
       "      <td>South_Africa</td>\n",
       "      <td>ZA</td>\n",
       "      <td>ZAF</td>\n",
       "      <td>57779622.0</td>\n",
       "    </tr>\n",
       "    <tr>\n",
       "      <th>27</th>\n",
       "      <td>9415</td>\n",
       "      <td>20/03/2020</td>\n",
       "      <td>20</td>\n",
       "      <td>3</td>\n",
       "      <td>2020</td>\n",
       "      <td>34</td>\n",
       "      <td>0</td>\n",
       "      <td>South_Africa</td>\n",
       "      <td>ZA</td>\n",
       "      <td>ZAF</td>\n",
       "      <td>57779622.0</td>\n",
       "    </tr>\n",
       "    <tr>\n",
       "      <th>28</th>\n",
       "      <td>9416</td>\n",
       "      <td>19/03/2020</td>\n",
       "      <td>19</td>\n",
       "      <td>3</td>\n",
       "      <td>2020</td>\n",
       "      <td>31</td>\n",
       "      <td>0</td>\n",
       "      <td>South_Africa</td>\n",
       "      <td>ZA</td>\n",
       "      <td>ZAF</td>\n",
       "      <td>57779622.0</td>\n",
       "    </tr>\n",
       "    <tr>\n",
       "      <th>29</th>\n",
       "      <td>9417</td>\n",
       "      <td>18/03/2020</td>\n",
       "      <td>18</td>\n",
       "      <td>3</td>\n",
       "      <td>2020</td>\n",
       "      <td>23</td>\n",
       "      <td>0</td>\n",
       "      <td>South_Africa</td>\n",
       "      <td>ZA</td>\n",
       "      <td>ZAF</td>\n",
       "      <td>57779622.0</td>\n",
       "    </tr>\n",
       "    <tr>\n",
       "      <th>30</th>\n",
       "      <td>9418</td>\n",
       "      <td>17/03/2020</td>\n",
       "      <td>17</td>\n",
       "      <td>3</td>\n",
       "      <td>2020</td>\n",
       "      <td>11</td>\n",
       "      <td>0</td>\n",
       "      <td>South_Africa</td>\n",
       "      <td>ZA</td>\n",
       "      <td>ZAF</td>\n",
       "      <td>57779622.0</td>\n",
       "    </tr>\n",
       "    <tr>\n",
       "      <th>31</th>\n",
       "      <td>9419</td>\n",
       "      <td>16/03/2020</td>\n",
       "      <td>16</td>\n",
       "      <td>3</td>\n",
       "      <td>2020</td>\n",
       "      <td>27</td>\n",
       "      <td>0</td>\n",
       "      <td>South_Africa</td>\n",
       "      <td>ZA</td>\n",
       "      <td>ZAF</td>\n",
       "      <td>57779622.0</td>\n",
       "    </tr>\n",
       "    <tr>\n",
       "      <th>32</th>\n",
       "      <td>9420</td>\n",
       "      <td>15/03/2020</td>\n",
       "      <td>15</td>\n",
       "      <td>3</td>\n",
       "      <td>2020</td>\n",
       "      <td>0</td>\n",
       "      <td>0</td>\n",
       "      <td>South_Africa</td>\n",
       "      <td>ZA</td>\n",
       "      <td>ZAF</td>\n",
       "      <td>57779622.0</td>\n",
       "    </tr>\n",
       "    <tr>\n",
       "      <th>33</th>\n",
       "      <td>9421</td>\n",
       "      <td>14/03/2020</td>\n",
       "      <td>14</td>\n",
       "      <td>3</td>\n",
       "      <td>2020</td>\n",
       "      <td>7</td>\n",
       "      <td>0</td>\n",
       "      <td>South_Africa</td>\n",
       "      <td>ZA</td>\n",
       "      <td>ZAF</td>\n",
       "      <td>57779622.0</td>\n",
       "    </tr>\n",
       "    <tr>\n",
       "      <th>34</th>\n",
       "      <td>9422</td>\n",
       "      <td>13/03/2020</td>\n",
       "      <td>13</td>\n",
       "      <td>3</td>\n",
       "      <td>2020</td>\n",
       "      <td>4</td>\n",
       "      <td>0</td>\n",
       "      <td>South_Africa</td>\n",
       "      <td>ZA</td>\n",
       "      <td>ZAF</td>\n",
       "      <td>57779622.0</td>\n",
       "    </tr>\n",
       "    <tr>\n",
       "      <th>35</th>\n",
       "      <td>9423</td>\n",
       "      <td>12/03/2020</td>\n",
       "      <td>12</td>\n",
       "      <td>3</td>\n",
       "      <td>2020</td>\n",
       "      <td>6</td>\n",
       "      <td>0</td>\n",
       "      <td>South_Africa</td>\n",
       "      <td>ZA</td>\n",
       "      <td>ZAF</td>\n",
       "      <td>57779622.0</td>\n",
       "    </tr>\n",
       "    <tr>\n",
       "      <th>36</th>\n",
       "      <td>9424</td>\n",
       "      <td>10/03/2020</td>\n",
       "      <td>10</td>\n",
       "      <td>3</td>\n",
       "      <td>2020</td>\n",
       "      <td>4</td>\n",
       "      <td>0</td>\n",
       "      <td>South_Africa</td>\n",
       "      <td>ZA</td>\n",
       "      <td>ZAF</td>\n",
       "      <td>57779622.0</td>\n",
       "    </tr>\n",
       "    <tr>\n",
       "      <th>37</th>\n",
       "      <td>9425</td>\n",
       "      <td>09/03/2020</td>\n",
       "      <td>9</td>\n",
       "      <td>3</td>\n",
       "      <td>2020</td>\n",
       "      <td>1</td>\n",
       "      <td>0</td>\n",
       "      <td>South_Africa</td>\n",
       "      <td>ZA</td>\n",
       "      <td>ZAF</td>\n",
       "      <td>57779622.0</td>\n",
       "    </tr>\n",
       "    <tr>\n",
       "      <th>38</th>\n",
       "      <td>9426</td>\n",
       "      <td>08/03/2020</td>\n",
       "      <td>8</td>\n",
       "      <td>3</td>\n",
       "      <td>2020</td>\n",
       "      <td>1</td>\n",
       "      <td>0</td>\n",
       "      <td>South_Africa</td>\n",
       "      <td>ZA</td>\n",
       "      <td>ZAF</td>\n",
       "      <td>57779622.0</td>\n",
       "    </tr>\n",
       "    <tr>\n",
       "      <th>39</th>\n",
       "      <td>9427</td>\n",
       "      <td>06/03/2020</td>\n",
       "      <td>6</td>\n",
       "      <td>3</td>\n",
       "      <td>2020</td>\n",
       "      <td>1</td>\n",
       "      <td>0</td>\n",
       "      <td>South_Africa</td>\n",
       "      <td>ZA</td>\n",
       "      <td>ZAF</td>\n",
       "      <td>57779622.0</td>\n",
       "    </tr>\n",
       "  </tbody>\n",
       "</table>\n",
       "</div>"
      ],
      "text/plain": [
       "    index     dateRep  day  month  year  cases  deaths  \\\n",
       "0    9388  16/04/2020   16      4  2020     91       7   \n",
       "1    9389  15/04/2020   15      4  2020    143       0   \n",
       "2    9390  14/04/2020   14      4  2020     99       2   \n",
       "3    9391  13/04/2020   13      4  2020    145       0   \n",
       "4    9392  12/04/2020   12      4  2020     25       1   \n",
       "5    9393  11/04/2020   11      4  2020     69       6   \n",
       "6    9394  10/04/2020   10      4  2020     89       0   \n",
       "7    9395  09/04/2020    9      4  2020     96       5   \n",
       "8    9396  08/04/2020    8      4  2020     63       1   \n",
       "9    9397  07/04/2020    7      4  2020     31       1   \n",
       "10   9398  06/04/2020    6      4  2020     70       2   \n",
       "11   9399  05/04/2020    5      4  2020     80       2   \n",
       "12   9400  04/04/2020    4      4  2020     43       2   \n",
       "13   9401  03/04/2020    3      4  2020     82       0   \n",
       "14   9402  02/04/2020    2      4  2020     27       0   \n",
       "15   9403  01/04/2020    1      4  2020     27       2   \n",
       "16   9404  31/03/2020   31      3  2020     46       1   \n",
       "17   9405  30/03/2020   30      3  2020     93       0   \n",
       "18   9406  29/03/2020   29      3  2020     17       0   \n",
       "19   9407  28/03/2020   28      3  2020    243       0   \n",
       "20   9408  27/03/2020   27      3  2020    218       2   \n",
       "21   9409  26/03/2020   26      3  2020    152       0   \n",
       "22   9410  25/03/2020   25      3  2020    155       0   \n",
       "23   9411  24/03/2020   24      3  2020    128       0   \n",
       "24   9412  23/03/2020   23      3  2020     34       0   \n",
       "25   9413  22/03/2020   22      3  2020     35       0   \n",
       "26   9414  21/03/2020   21      3  2020     55       0   \n",
       "27   9415  20/03/2020   20      3  2020     34       0   \n",
       "28   9416  19/03/2020   19      3  2020     31       0   \n",
       "29   9417  18/03/2020   18      3  2020     23       0   \n",
       "30   9418  17/03/2020   17      3  2020     11       0   \n",
       "31   9419  16/03/2020   16      3  2020     27       0   \n",
       "32   9420  15/03/2020   15      3  2020      0       0   \n",
       "33   9421  14/03/2020   14      3  2020      7       0   \n",
       "34   9422  13/03/2020   13      3  2020      4       0   \n",
       "35   9423  12/03/2020   12      3  2020      6       0   \n",
       "36   9424  10/03/2020   10      3  2020      4       0   \n",
       "37   9425  09/03/2020    9      3  2020      1       0   \n",
       "38   9426  08/03/2020    8      3  2020      1       0   \n",
       "39   9427  06/03/2020    6      3  2020      1       0   \n",
       "\n",
       "   countriesAndTerritories geoId countryterritoryCode  popData2018  \n",
       "0             South_Africa    ZA                  ZAF   57779622.0  \n",
       "1             South_Africa    ZA                  ZAF   57779622.0  \n",
       "2             South_Africa    ZA                  ZAF   57779622.0  \n",
       "3             South_Africa    ZA                  ZAF   57779622.0  \n",
       "4             South_Africa    ZA                  ZAF   57779622.0  \n",
       "5             South_Africa    ZA                  ZAF   57779622.0  \n",
       "6             South_Africa    ZA                  ZAF   57779622.0  \n",
       "7             South_Africa    ZA                  ZAF   57779622.0  \n",
       "8             South_Africa    ZA                  ZAF   57779622.0  \n",
       "9             South_Africa    ZA                  ZAF   57779622.0  \n",
       "10            South_Africa    ZA                  ZAF   57779622.0  \n",
       "11            South_Africa    ZA                  ZAF   57779622.0  \n",
       "12            South_Africa    ZA                  ZAF   57779622.0  \n",
       "13            South_Africa    ZA                  ZAF   57779622.0  \n",
       "14            South_Africa    ZA                  ZAF   57779622.0  \n",
       "15            South_Africa    ZA                  ZAF   57779622.0  \n",
       "16            South_Africa    ZA                  ZAF   57779622.0  \n",
       "17            South_Africa    ZA                  ZAF   57779622.0  \n",
       "18            South_Africa    ZA                  ZAF   57779622.0  \n",
       "19            South_Africa    ZA                  ZAF   57779622.0  \n",
       "20            South_Africa    ZA                  ZAF   57779622.0  \n",
       "21            South_Africa    ZA                  ZAF   57779622.0  \n",
       "22            South_Africa    ZA                  ZAF   57779622.0  \n",
       "23            South_Africa    ZA                  ZAF   57779622.0  \n",
       "24            South_Africa    ZA                  ZAF   57779622.0  \n",
       "25            South_Africa    ZA                  ZAF   57779622.0  \n",
       "26            South_Africa    ZA                  ZAF   57779622.0  \n",
       "27            South_Africa    ZA                  ZAF   57779622.0  \n",
       "28            South_Africa    ZA                  ZAF   57779622.0  \n",
       "29            South_Africa    ZA                  ZAF   57779622.0  \n",
       "30            South_Africa    ZA                  ZAF   57779622.0  \n",
       "31            South_Africa    ZA                  ZAF   57779622.0  \n",
       "32            South_Africa    ZA                  ZAF   57779622.0  \n",
       "33            South_Africa    ZA                  ZAF   57779622.0  \n",
       "34            South_Africa    ZA                  ZAF   57779622.0  \n",
       "35            South_Africa    ZA                  ZAF   57779622.0  \n",
       "36            South_Africa    ZA                  ZAF   57779622.0  \n",
       "37            South_Africa    ZA                  ZAF   57779622.0  \n",
       "38            South_Africa    ZA                  ZAF   57779622.0  \n",
       "39            South_Africa    ZA                  ZAF   57779622.0  "
      ]
     },
     "execution_count": 19,
     "metadata": {},
     "output_type": "execute_result"
    }
   ],
   "source": [
    "df_rsa"
   ]
  },
  {
   "cell_type": "code",
   "execution_count": 20,
   "metadata": {},
   "outputs": [],
   "source": [
    "#Total confirmed world map\n",
    "data = [ dict(\n",
    " type='choropleth',\n",
    " locations = df['Country'],\n",
    " autocolorscale = True,\n",
    " z = df['TotalConfirmed'],\n",
    " locationmode = 'country names',\n",
    " marker = dict(\n",
    " line = dict (\n",
    " color = 'rgb(155,155,155)',\n",
    " width = 4,\n",
    " )  ),\n",
    " colorbar = dict(\n",
    " title = 'Number of cases'\n",
    " )\n",
    " ) ]\n",
    "layout = dict(\n",
    " autosize=True,\n",
    "margin={\"r\":0,\"t\":0,\"l\":0,\"b\":0}\n",
    "    \n",
    ")\n",
    "fig = go.Figure(data = data, layout = layout)\n",
    "\n",
    "# Active cases world map\n",
    "\n",
    "data1 = [ dict(\n",
    " type='choropleth',\n",
    " locations = df['Country'],\n",
    " autocolorscale = True,\n",
    " z = df['Active Cases'],\n",
    " locationmode = 'country names',\n",
    " marker = dict(\n",
    " line = dict (\n",
    " color = 'rgb(255,255,255)',\n",
    " width = 10,\n",
    " )  ),\n",
    " colorbar = dict(\n",
    " title = 'Active cases'\n",
    " )\n",
    " ) ]\n",
    "layout = dict(\n",
    " autosize=True,\n",
    " margin={\"r\":0,\"t\":0,\"l\":0,\"b\":0}   \n",
    ")\n",
    "\n",
    "\n",
    "\n",
    "\n",
    "fig1_ = go.Figure(data = data1, layout = layout)\n",
    "\n",
    "#Closed cases world map\n",
    "data2 = [ dict(\n",
    " type='choropleth',\n",
    " locations = df['Country'],\n",
    " autocolorscale = True,\n",
    " z =df['Closed Cases'],\n",
    " locationmode = 'country names',\n",
    " marker = dict(\n",
    " line = dict (\n",
    " color = 'rgb(245, 197, 66)',\n",
    " width = 10,\n",
    " )  ),\n",
    " colorbar = dict(\n",
    " title = 'Closed Cases'\n",
    " )\n",
    " ) ]\n",
    "layout = dict(\n",
    " autosize=True,\n",
    " margin={\"r\":0,\"t\":0,\"l\":0,\"b\":0}   \n",
    ")\n",
    "fig2_ = go.Figure(data = data2, layout = layout)\n",
    "\n",
    "#Recovery Rate World Map\n",
    "\n",
    "data3 = [ dict(\n",
    " type='choropleth',\n",
    " locations = df['Country'],\n",
    " autocolorscale = True,\n",
    " z =df['Recovery Rate'],\n",
    " locationmode = 'country names',\n",
    " marker = dict(\n",
    " line = dict (\n",
    " color = 'rgb(455,455,455)',\n",
    " width = 10,\n",
    " )  ),\n",
    " colorbar = dict(\n",
    " title = 'Recovery Rate (%)'\n",
    " )\n",
    " ) ]\n",
    "layout = dict(\n",
    " autosize=True,\n",
    " margin={\"r\":0,\"t\":0,\"l\":0,\"b\":0}   \n",
    ")\n",
    "fig3_ = go.Figure(data = data3, layout = layout)\n",
    "\n",
    "\n",
    "#Case fatality rate world map\n",
    "\n",
    "data4 = [ dict(\n",
    " type='choropleth',\n",
    " locations = df['Country'],\n",
    " autocolorscale = True,\n",
    " z =df['Case Fatality Rate'],\n",
    " locationmode = 'country names',\n",
    " marker = dict(\n",
    " line = dict (\n",
    " color = 'rgb(555,555,555)',\n",
    " width = 10,\n",
    " )  ),\n",
    " colorbar = dict(\n",
    " title = 'Case Fatality Rate (%)'\n",
    " )\n",
    " ) ]\n",
    "layout = dict(\n",
    "    autosize=True,\n",
    "    margin={\"r\":0,\"t\":0,\"l\":0,\"b\":0}\n",
    ")\n",
    "fig4_ = go.Figure(data = data4, layout = layout)\n"
   ]
  },
  {
   "cell_type": "code",
   "execution_count": 21,
   "metadata": {},
   "outputs": [],
   "source": [
    "#Style sheet\n",
    "external_stylesheets = ['https://codepen.io/chriddyp/pen/bWLwgP.css']\n",
    "\n",
    "# App\n",
    "app = dash.Dash(__name__, external_stylesheets=external_stylesheets)\n",
    "app.config['suppress_callback_exceptions'] = True\n",
    "app.layout = html.Div(children=[\n",
    "        #header\n",
    "    \n",
    "    html.Div([\n",
    "        html.Div([\n",
    "           \n",
    "        ], className=\"four columns\"),\n",
    "        \n",
    "\n",
    "        html.Div([\n",
    "            html.H3('Latest Covid 19 Update', style={\n",
    "                                'fontFamily': 'Open Sans',\n",
    "                                'textAlign': 'center',\n",
    "                            }),\n",
    "             \n",
    "        ], className=\"four columns\"),\n",
    "        \n",
    "        html.Div([\n",
    "            html.H3('#StayAtHome', style={\n",
    "                                'fontFamily': 'Open Sans',\n",
    "                                'textAlign': 'right',\n",
    "                            }),\n",
    "            \n",
    "            \n",
    "        ], className=\"four columns\")\n",
    "    ], className=\"row\"),\n",
    "    \n",
    "    dcc.Tabs(id='tabs-example', value='tab', children=[\n",
    "        dcc.Tab(label='Global Map', value='tab-1'),\n",
    "        dcc.Tab(label='South African cases', value='tab-2'),\n",
    "        dcc.Tab(label='Analysis', value='tab-3'),\n",
    "    ]),\n",
    "    html.Div(id='tabs-example-content')\n",
    "])"
   ]
  },
  {
   "cell_type": "code",
   "execution_count": 22,
   "metadata": {},
   "outputs": [],
   "source": [
    "@app.callback(Output('tabs-example-content', 'children'),\n",
    "              [Input('tabs-example', 'value')])\n",
    "def render_content(tab):\n",
    "\n",
    "    if tab == 'tab-1':\n",
    "        return html.Div([\n",
    "            html.Div([\n",
    "\n",
    "                # VISUALISATIONS\n",
    "\n",
    "                html.Div([\n",
    "                      dcc.Graph(\n",
    "                          id='figure',\n",
    "                            figure=go.Figure(fig1)\n",
    "                          \n",
    "                        ),\n",
    "                html.Div([\n",
    "                    dash_table.DataTable(\n",
    "                            id='table',\n",
    "                            data=df_tot_cases.to_dict(\"rows\"),\n",
    "                            columns=[{\"name\": i, \"id\": i}\n",
    "                                     for i in df_tot_cases.columns],\n",
    "                            style_table=style_table,\n",
    "                            style_cell=style_cell,\n",
    "                            style_data_conditional=style_data_conditional,\n",
    "                            style_header=style_header,\n",
    "                            style_cell_conditional=style_cell_conditional,\n",
    "                            filter_action=\"native\"\n",
    "                        )\n",
    "                ])\n",
    "                    \n",
    "            ], className=\"row\"),\n",
    "\n",
    "                ], className=\"three columns\"),\n",
    "            \n",
    "            html.Div([\n",
    "                    dcc.Graph(\n",
    "                          id='figure',\n",
    "                            figure=go.Figure(fig2)\n",
    "                        ),\n",
    "                    html.Div([\n",
    "                        dcc.Tabs(id='tabs-examples', value='tabs', children=[\n",
    "                            dcc.Tab(label='Total Cases', value='tab-1.'),\n",
    "                            dcc.Tab(label='Active Cases', value='tab-2.'),\n",
    "                            dcc.Tab(label='Solved Cases', value='tab-3.'),\n",
    "                            dcc.Tab(label='Recovery Rate', value='tab-4.'),\n",
    "                            dcc.Tab(label='Case Fatality Rate', value='tab-5.')\n",
    "                        ], colors={\n",
    "                                \"border\": \"white\",\n",
    "                                \"primary\": \"gold\",\n",
    "                                \"background\": \"cornsilk\"\n",
    "                            }),\n",
    "                     html.Div(id='tabs-example-contents'),\n",
    "            ], className=\"row\"),\n",
    "                ], className=\"six columns\"),\n",
    "\n",
    "                html.Div([\n",
    "                     dcc.Graph(\n",
    "                          id='figure',\n",
    "                            figure=go.Figure(fig3)\n",
    "                        ),\n",
    "\n",
    "\n",
    "                    html.Div([\n",
    "                        dcc.Graph(\n",
    "                          id='figure',\n",
    "                            figure=go.Figure(fig_line)\n",
    "                        ),\n",
    "                        \n",
    "                        \n",
    "                       \n",
    "            ], className=\"row\")\n",
    "\n",
    "                ], className=\"three columns\"),\n",
    "            ], className=\"row\")\n",
    "\n",
    "            # fOOTER\n",
    "        html.Div([\n",
    "                html.Div([\n",
    "                    html.H3('Footer'),\n",
    "\n",
    "                ], className=\"six columns\"),\n",
    "\n",
    "                html.Div([\n",
    "                    html.H3('Footer'),\n",
    "\n",
    "                ], className=\"six columns\"),\n",
    "            ], className=\"row\")\n",
    "  \n",
    "\n",
    "    elif tab == 'tab-2':\n",
    "        return html.P(\"You got it T\")\n",
    "    else:\n",
    "        return html.H1('O ntja saan!!!')\n",
    "\n",
    "@app.callback(Output('tabs-example-contents', 'children'),\n",
    "              [Input('tabs-examples', 'value')])\n",
    "def render_content(tabs):\n",
    "    \n",
    "    if tabs == 'tab-1.':\n",
    "        return dcc.Graph(\n",
    "\n",
    "            id='figure',\n",
    "            figure=\n",
    "              go.Figure(fig)\n",
    "            )\n",
    "    elif tabs == 'tab-2.':   \n",
    "        return dcc.Graph(\n",
    "\n",
    "            id='figure',\n",
    "            figure=\n",
    "              go.Figure(fig1_)\n",
    "            )\n",
    "           \n",
    "    elif tabs == 'tab-3.':   \n",
    "        return dcc.Graph(\n",
    "\n",
    "            id='figure',\n",
    "            figure=\n",
    "              go.Figure(fig2_)\n",
    "            )\n",
    "    elif tabs == 'tab-4.':\n",
    "         return dcc.Graph(\n",
    "\n",
    "                 id='figure',\n",
    "            figure=\n",
    "              go.Figure(fig3_)\n",
    "            )\n",
    "    else:\n",
    "        return dcc.Graph(\n",
    "\n",
    "            id='figure',\n",
    "            figure=\n",
    "              go.Figure(fig4_)\n",
    "            )\n",
    "\n",
    "\n",
    "\n",
    "# if __name__ == '__main__':\n",
    "#     app.run_server()\n"
   ]
  },
  {
   "cell_type": "code",
   "execution_count": null,
   "metadata": {},
   "outputs": [],
   "source": []
  },
  {
   "cell_type": "code",
   "execution_count": 23,
   "metadata": {},
   "outputs": [],
   "source": [
    "# # Style sheet\n",
    "# external_stylesheets = ['https://codepen.io/chriddyp/pen/bWLwgP.css']\n",
    "\n",
    "# # App\n",
    "# app = dash.Dash(__name__, external_stylesheets=external_stylesheets)\n",
    "\n",
    "# # layout\n",
    "# app.layout = html.Div([\n",
    "    \n",
    "#     #header\n",
    "    \n",
    "#     html.Div([\n",
    "#         html.Div([\n",
    "#             html.H3('Header'),\n",
    "            \n",
    "#         ], className=\"four columns\"),\n",
    "        \n",
    "\n",
    "#         html.Div([\n",
    "#             html.H3('header'),\n",
    "             \n",
    "#         ], className=\"four columns\"),\n",
    "        \n",
    "#         html.Div([\n",
    "#             html.H3('header'),\n",
    "            \n",
    "#         ], className=\"four columns\")\n",
    "#     ], className=\"row\"),\n",
    "    \n",
    "        \n",
    "#     #NavBar\n",
    "       \n",
    "#      html.Div([\n",
    "#         html.Div([\n",
    "#             html.H3('nav-bar'),\n",
    "           \n",
    "#         ], className=\"four columns\"),\n",
    "#         html.Div([\n",
    "#             html.H3('nav-bar'),\n",
    "           \n",
    "#         ], className=\"four columns\"),\n",
    "\n",
    "#         html.Div([\n",
    "#             html.H3('nav-bar'),\n",
    "            \n",
    "#         ], className=\"four columns\"),\n",
    "#     ], className=\"row\"),\n",
    "    \n",
    "#       #Band\n",
    "#      html.Div([\n",
    "       \n",
    "#             html.H3('band')\n",
    "         \n",
    "#     ], className=\"row\"),\n",
    "    \n",
    "#     #VISUALISATIONS\n",
    "#      html.Div([\n",
    "#         html.Div([\n",
    "#             dcc.Graph(                    \n",
    "#                 id='figure',\n",
    "#                 figure=\n",
    "#                   go.Figure(fig1)\n",
    "#             ),\n",
    "#             html.Div([\n",
    "       \n",
    "#                 html.H3('Total confirmed cases')\n",
    "         \n",
    "#             ], className=\"row\"),\n",
    "#             html.Div([\n",
    "       \n",
    "#             html.H3('Cases by country')\n",
    "         \n",
    "#     ], className=\"row\"),\n",
    "            \n",
    "#         ], className=\"two columns\"),\n",
    "#          html.Div([\n",
    "#             html.H3('visualisation'),\n",
    "#             html.Div([\n",
    "       \n",
    "#             html.H3('World Map')\n",
    "         \n",
    "#     ], className=\"row\"),\n",
    "            \n",
    "#         ], className=\"six columns\"),\n",
    "\n",
    "#         html.Div([\n",
    "#             html.H3('visualisation'),\n",
    "            \n",
    "            \n",
    "#             html.Div([\n",
    "#                 html.Div([\n",
    "#                     html.H3('Total Recoveries'),\n",
    "                    \n",
    "#                     ], className=\"six columns\"),\n",
    "\n",
    "#                 html.Div([\n",
    "#                     html.H3('Total Deaths'),\n",
    "\n",
    "#                     ], className=\"six columns\"),\n",
    "#     ], className=\"row\")\n",
    "            \n",
    "#         ], className=\"four columns\"),\n",
    "#     ], className=\"row\"),\n",
    "    \n",
    "#     #fOOTER\n",
    "#      html.Div([\n",
    "#         html.Div([\n",
    "#             html.H3('Footer'),\n",
    "            \n",
    "#         ], className=\"six columns\"),\n",
    "\n",
    "#         html.Div([\n",
    "#             html.H3('Footer'),\n",
    "            \n",
    "#         ], className=\"six columns\"),\n",
    "#     ], className=\"row\"),\n",
    "    \n",
    "# ])\n",
    "\n",
    "# if __name__ == '__main__':\n",
    "#     app.run_server()\n"
   ]
  },
  {
   "cell_type": "code",
   "execution_count": 25,
   "metadata": {},
   "outputs": [
    {
     "data": {
      "text/html": [
       "<div>\n",
       "<style scoped>\n",
       "    .dataframe tbody tr th:only-of-type {\n",
       "        vertical-align: middle;\n",
       "    }\n",
       "\n",
       "    .dataframe tbody tr th {\n",
       "        vertical-align: top;\n",
       "    }\n",
       "\n",
       "    .dataframe thead th {\n",
       "        text-align: right;\n",
       "    }\n",
       "</style>\n",
       "<table border=\"1\" class=\"dataframe\">\n",
       "  <thead>\n",
       "    <tr style=\"text-align: right;\">\n",
       "      <th></th>\n",
       "      <th>date</th>\n",
       "      <th>Most likely Rt</th>\n",
       "      <th>Possible low Rt</th>\n",
       "      <th>Possible High Rt</th>\n",
       "    </tr>\n",
       "  </thead>\n",
       "  <tbody>\n",
       "    <tr>\n",
       "      <th>0</th>\n",
       "      <td>2020-03-07</td>\n",
       "      <td>2.00</td>\n",
       "      <td>0.34</td>\n",
       "      <td>6.43</td>\n",
       "    </tr>\n",
       "    <tr>\n",
       "      <th>1</th>\n",
       "      <td>2020-03-08</td>\n",
       "      <td>1.88</td>\n",
       "      <td>0.38</td>\n",
       "      <td>5.01</td>\n",
       "    </tr>\n",
       "    <tr>\n",
       "      <th>2</th>\n",
       "      <td>2020-03-09</td>\n",
       "      <td>2.17</td>\n",
       "      <td>0.51</td>\n",
       "      <td>4.99</td>\n",
       "    </tr>\n",
       "    <tr>\n",
       "      <th>3</th>\n",
       "      <td>2020-03-10</td>\n",
       "      <td>2.28</td>\n",
       "      <td>0.61</td>\n",
       "      <td>4.59</td>\n",
       "    </tr>\n",
       "    <tr>\n",
       "      <th>4</th>\n",
       "      <td>2020-03-11</td>\n",
       "      <td>2.50</td>\n",
       "      <td>0.83</td>\n",
       "      <td>4.43</td>\n",
       "    </tr>\n",
       "  </tbody>\n",
       "</table>\n",
       "</div>"
      ],
      "text/plain": [
       "         date  Most likely Rt  Possible low Rt  Possible High Rt\n",
       "0  2020-03-07            2.00             0.34              6.43\n",
       "1  2020-03-08            1.88             0.38              5.01\n",
       "2  2020-03-09            2.17             0.51              4.99\n",
       "3  2020-03-10            2.28             0.61              4.59\n",
       "4  2020-03-11            2.50             0.83              4.43"
      ]
     },
     "execution_count": 25,
     "metadata": {},
     "output_type": "execute_result"
    }
   ],
   "source": [
    "df_rt = pd.read_csv('data-CiK32.csv')\n",
    "df_rt.head()\n",
    "                \n",
    "            "
   ]
  },
  {
   "cell_type": "code",
   "execution_count": 40,
   "metadata": {},
   "outputs": [
    {
     "data": {
      "application/vnd.plotly.v1+json": {
       "config": {
        "plotlyServerURL": "https://plot.ly"
       },
       "data": [
        {
         "name": "Possible low Rt",
         "type": "scatter",
         "x": [
          "2020-03-07",
          "2020-03-08",
          "2020-03-09",
          "2020-03-10",
          "2020-03-11",
          "2020-03-12",
          "2020-03-13",
          "2020-03-14",
          "2020-03-15",
          "2020-03-16",
          "2020-03-17",
          "2020-03-18",
          "2020-03-19",
          "2020-03-20",
          "2020-03-21",
          "2020-03-22",
          "2020-03-23",
          "2020-03-24",
          "2020-03-25",
          "2020-03-26",
          "2020-03-27",
          "2020-03-28",
          "2020-03-29",
          "2020-03-30",
          "2020-03-31",
          "2020-04-01",
          "2020-04-02",
          "2020-04-03",
          "2020-04-04",
          "2020-04-05",
          "2020-04-06",
          "2020-04-07",
          "2020-04-08",
          "2020-04-09",
          "2020-04-10",
          "2020-04-11",
          "2020-04-12",
          "2020-04-13",
          "2020-04-14",
          "2020-04-15",
          "2020-04-16",
          "2020-04-17",
          "2020-04-18",
          "2020-04-19",
          "2020-04-20"
         ],
         "y": [
          0.34,
          0.38,
          0.51,
          0.61,
          0.8300000000000001,
          0.96,
          0.94,
          0.6900000000000001,
          1.01,
          1.09,
          1.24,
          1.29,
          1.28,
          1.37,
          1.5,
          1.58,
          1.68,
          1.73,
          1.59,
          1.45,
          1.22,
          1,
          0.77,
          0.53,
          0.26,
          0.11,
          0.02,
          0.01,
          0.13,
          0.39,
          0.65,
          0.8300000000000001,
          0.8200000000000001,
          0.84,
          0.84,
          0.88,
          0.91,
          0.96,
          0.98,
          1.06,
          1.08,
          1.1,
          1.1,
          1.09,
          0.99
         ]
        },
        {
         "name": "Most likely Rt",
         "type": "scatter",
         "x": [
          "2020-03-07",
          "2020-03-08",
          "2020-03-09",
          "2020-03-10",
          "2020-03-11",
          "2020-03-12",
          "2020-03-13",
          "2020-03-14",
          "2020-03-15",
          "2020-03-16",
          "2020-03-17",
          "2020-03-18",
          "2020-03-19",
          "2020-03-20",
          "2020-03-21",
          "2020-03-22",
          "2020-03-23",
          "2020-03-24",
          "2020-03-25",
          "2020-03-26",
          "2020-03-27",
          "2020-03-28",
          "2020-03-29",
          "2020-03-30",
          "2020-03-31",
          "2020-04-01",
          "2020-04-02",
          "2020-04-03",
          "2020-04-04",
          "2020-04-05",
          "2020-04-06",
          "2020-04-07",
          "2020-04-08",
          "2020-04-09",
          "2020-04-10",
          "2020-04-11",
          "2020-04-12",
          "2020-04-13",
          "2020-04-14",
          "2020-04-15",
          "2020-04-16",
          "2020-04-17",
          "2020-04-18",
          "2020-04-19",
          "2020-04-20"
         ],
         "y": [
          2,
          1.88,
          2.17,
          2.28,
          2.5,
          2.45,
          2.2,
          2.04,
          2.18,
          2.11,
          2.12,
          2.06,
          1.96,
          1.96,
          2.03,
          2.03,
          2.08,
          2.07,
          1.9,
          1.73,
          1.5,
          1.25,
          1.03,
          0.79,
          0.54,
          0.41,
          0.29,
          0.32,
          0.5,
          0.78,
          1.03,
          1.22,
          1.19,
          1.2,
          1.2,
          1.23,
          1.24,
          1.28,
          1.29,
          1.37,
          1.36,
          1.38,
          1.35,
          1.33,
          1.25
         ]
        },
        {
         "name": "Possible High Rt",
         "type": "scatter",
         "x": [
          "2020-03-07",
          "2020-03-08",
          "2020-03-09",
          "2020-03-10",
          "2020-03-11",
          "2020-03-12",
          "2020-03-13",
          "2020-03-14",
          "2020-03-15",
          "2020-03-16",
          "2020-03-17",
          "2020-03-18",
          "2020-03-19",
          "2020-03-20",
          "2020-03-21",
          "2020-03-22",
          "2020-03-23",
          "2020-03-24",
          "2020-03-25",
          "2020-03-26",
          "2020-03-27",
          "2020-03-28",
          "2020-03-29",
          "2020-03-30",
          "2020-03-31",
          "2020-04-01",
          "2020-04-02",
          "2020-04-03",
          "2020-04-04",
          "2020-04-05",
          "2020-04-06",
          "2020-04-07",
          "2020-04-08",
          "2020-04-09",
          "2020-04-10",
          "2020-04-11",
          "2020-04-12",
          "2020-04-13",
          "2020-04-14",
          "2020-04-15",
          "2020-04-16",
          "2020-04-17",
          "2020-04-18",
          "2020-04-19",
          "2020-04-20"
         ],
         "y": [
          6.43,
          5.01,
          4.99,
          4.59,
          4.43,
          4.04,
          3.56,
          3.33,
          3.31,
          3.09,
          2.98,
          2.81,
          2.63,
          2.57,
          2.5500000000000003,
          2.51,
          2.49,
          2.44,
          2.22,
          2.03,
          1.76,
          1.53,
          1.3,
          1.07,
          0.8300000000000001,
          0.71,
          0.6,
          0.64,
          0.89,
          1.19,
          1.45,
          1.6,
          1.58,
          1.58,
          1.56,
          1.58,
          1.59,
          1.62,
          1.61,
          1.66,
          1.66,
          1.65,
          1.63,
          1.6,
          1.48
         ]
        }
       ],
       "layout": {
        "hovermode": "x",
        "template": {
         "data": {
          "bar": [
           {
            "error_x": {
             "color": "#2a3f5f"
            },
            "error_y": {
             "color": "#2a3f5f"
            },
            "marker": {
             "line": {
              "color": "#E5ECF6",
              "width": 0.5
             }
            },
            "type": "bar"
           }
          ],
          "barpolar": [
           {
            "marker": {
             "line": {
              "color": "#E5ECF6",
              "width": 0.5
             }
            },
            "type": "barpolar"
           }
          ],
          "carpet": [
           {
            "aaxis": {
             "endlinecolor": "#2a3f5f",
             "gridcolor": "white",
             "linecolor": "white",
             "minorgridcolor": "white",
             "startlinecolor": "#2a3f5f"
            },
            "baxis": {
             "endlinecolor": "#2a3f5f",
             "gridcolor": "white",
             "linecolor": "white",
             "minorgridcolor": "white",
             "startlinecolor": "#2a3f5f"
            },
            "type": "carpet"
           }
          ],
          "choropleth": [
           {
            "colorbar": {
             "outlinewidth": 0,
             "ticks": ""
            },
            "type": "choropleth"
           }
          ],
          "contour": [
           {
            "colorbar": {
             "outlinewidth": 0,
             "ticks": ""
            },
            "colorscale": [
             [
              0,
              "#0d0887"
             ],
             [
              0.1111111111111111,
              "#46039f"
             ],
             [
              0.2222222222222222,
              "#7201a8"
             ],
             [
              0.3333333333333333,
              "#9c179e"
             ],
             [
              0.4444444444444444,
              "#bd3786"
             ],
             [
              0.5555555555555556,
              "#d8576b"
             ],
             [
              0.6666666666666666,
              "#ed7953"
             ],
             [
              0.7777777777777778,
              "#fb9f3a"
             ],
             [
              0.8888888888888888,
              "#fdca26"
             ],
             [
              1,
              "#f0f921"
             ]
            ],
            "type": "contour"
           }
          ],
          "contourcarpet": [
           {
            "colorbar": {
             "outlinewidth": 0,
             "ticks": ""
            },
            "type": "contourcarpet"
           }
          ],
          "heatmap": [
           {
            "colorbar": {
             "outlinewidth": 0,
             "ticks": ""
            },
            "colorscale": [
             [
              0,
              "#0d0887"
             ],
             [
              0.1111111111111111,
              "#46039f"
             ],
             [
              0.2222222222222222,
              "#7201a8"
             ],
             [
              0.3333333333333333,
              "#9c179e"
             ],
             [
              0.4444444444444444,
              "#bd3786"
             ],
             [
              0.5555555555555556,
              "#d8576b"
             ],
             [
              0.6666666666666666,
              "#ed7953"
             ],
             [
              0.7777777777777778,
              "#fb9f3a"
             ],
             [
              0.8888888888888888,
              "#fdca26"
             ],
             [
              1,
              "#f0f921"
             ]
            ],
            "type": "heatmap"
           }
          ],
          "heatmapgl": [
           {
            "colorbar": {
             "outlinewidth": 0,
             "ticks": ""
            },
            "colorscale": [
             [
              0,
              "#0d0887"
             ],
             [
              0.1111111111111111,
              "#46039f"
             ],
             [
              0.2222222222222222,
              "#7201a8"
             ],
             [
              0.3333333333333333,
              "#9c179e"
             ],
             [
              0.4444444444444444,
              "#bd3786"
             ],
             [
              0.5555555555555556,
              "#d8576b"
             ],
             [
              0.6666666666666666,
              "#ed7953"
             ],
             [
              0.7777777777777778,
              "#fb9f3a"
             ],
             [
              0.8888888888888888,
              "#fdca26"
             ],
             [
              1,
              "#f0f921"
             ]
            ],
            "type": "heatmapgl"
           }
          ],
          "histogram": [
           {
            "marker": {
             "colorbar": {
              "outlinewidth": 0,
              "ticks": ""
             }
            },
            "type": "histogram"
           }
          ],
          "histogram2d": [
           {
            "colorbar": {
             "outlinewidth": 0,
             "ticks": ""
            },
            "colorscale": [
             [
              0,
              "#0d0887"
             ],
             [
              0.1111111111111111,
              "#46039f"
             ],
             [
              0.2222222222222222,
              "#7201a8"
             ],
             [
              0.3333333333333333,
              "#9c179e"
             ],
             [
              0.4444444444444444,
              "#bd3786"
             ],
             [
              0.5555555555555556,
              "#d8576b"
             ],
             [
              0.6666666666666666,
              "#ed7953"
             ],
             [
              0.7777777777777778,
              "#fb9f3a"
             ],
             [
              0.8888888888888888,
              "#fdca26"
             ],
             [
              1,
              "#f0f921"
             ]
            ],
            "type": "histogram2d"
           }
          ],
          "histogram2dcontour": [
           {
            "colorbar": {
             "outlinewidth": 0,
             "ticks": ""
            },
            "colorscale": [
             [
              0,
              "#0d0887"
             ],
             [
              0.1111111111111111,
              "#46039f"
             ],
             [
              0.2222222222222222,
              "#7201a8"
             ],
             [
              0.3333333333333333,
              "#9c179e"
             ],
             [
              0.4444444444444444,
              "#bd3786"
             ],
             [
              0.5555555555555556,
              "#d8576b"
             ],
             [
              0.6666666666666666,
              "#ed7953"
             ],
             [
              0.7777777777777778,
              "#fb9f3a"
             ],
             [
              0.8888888888888888,
              "#fdca26"
             ],
             [
              1,
              "#f0f921"
             ]
            ],
            "type": "histogram2dcontour"
           }
          ],
          "mesh3d": [
           {
            "colorbar": {
             "outlinewidth": 0,
             "ticks": ""
            },
            "type": "mesh3d"
           }
          ],
          "parcoords": [
           {
            "line": {
             "colorbar": {
              "outlinewidth": 0,
              "ticks": ""
             }
            },
            "type": "parcoords"
           }
          ],
          "pie": [
           {
            "automargin": true,
            "type": "pie"
           }
          ],
          "scatter": [
           {
            "marker": {
             "colorbar": {
              "outlinewidth": 0,
              "ticks": ""
             }
            },
            "type": "scatter"
           }
          ],
          "scatter3d": [
           {
            "line": {
             "colorbar": {
              "outlinewidth": 0,
              "ticks": ""
             }
            },
            "marker": {
             "colorbar": {
              "outlinewidth": 0,
              "ticks": ""
             }
            },
            "type": "scatter3d"
           }
          ],
          "scattercarpet": [
           {
            "marker": {
             "colorbar": {
              "outlinewidth": 0,
              "ticks": ""
             }
            },
            "type": "scattercarpet"
           }
          ],
          "scattergeo": [
           {
            "marker": {
             "colorbar": {
              "outlinewidth": 0,
              "ticks": ""
             }
            },
            "type": "scattergeo"
           }
          ],
          "scattergl": [
           {
            "marker": {
             "colorbar": {
              "outlinewidth": 0,
              "ticks": ""
             }
            },
            "type": "scattergl"
           }
          ],
          "scattermapbox": [
           {
            "marker": {
             "colorbar": {
              "outlinewidth": 0,
              "ticks": ""
             }
            },
            "type": "scattermapbox"
           }
          ],
          "scatterpolar": [
           {
            "marker": {
             "colorbar": {
              "outlinewidth": 0,
              "ticks": ""
             }
            },
            "type": "scatterpolar"
           }
          ],
          "scatterpolargl": [
           {
            "marker": {
             "colorbar": {
              "outlinewidth": 0,
              "ticks": ""
             }
            },
            "type": "scatterpolargl"
           }
          ],
          "scatterternary": [
           {
            "marker": {
             "colorbar": {
              "outlinewidth": 0,
              "ticks": ""
             }
            },
            "type": "scatterternary"
           }
          ],
          "surface": [
           {
            "colorbar": {
             "outlinewidth": 0,
             "ticks": ""
            },
            "colorscale": [
             [
              0,
              "#0d0887"
             ],
             [
              0.1111111111111111,
              "#46039f"
             ],
             [
              0.2222222222222222,
              "#7201a8"
             ],
             [
              0.3333333333333333,
              "#9c179e"
             ],
             [
              0.4444444444444444,
              "#bd3786"
             ],
             [
              0.5555555555555556,
              "#d8576b"
             ],
             [
              0.6666666666666666,
              "#ed7953"
             ],
             [
              0.7777777777777778,
              "#fb9f3a"
             ],
             [
              0.8888888888888888,
              "#fdca26"
             ],
             [
              1,
              "#f0f921"
             ]
            ],
            "type": "surface"
           }
          ],
          "table": [
           {
            "cells": {
             "fill": {
              "color": "#EBF0F8"
             },
             "line": {
              "color": "white"
             }
            },
            "header": {
             "fill": {
              "color": "#C8D4E3"
             },
             "line": {
              "color": "white"
             }
            },
            "type": "table"
           }
          ]
         },
         "layout": {
          "annotationdefaults": {
           "arrowcolor": "#2a3f5f",
           "arrowhead": 0,
           "arrowwidth": 1
          },
          "coloraxis": {
           "colorbar": {
            "outlinewidth": 0,
            "ticks": ""
           }
          },
          "colorscale": {
           "diverging": [
            [
             0,
             "#8e0152"
            ],
            [
             0.1,
             "#c51b7d"
            ],
            [
             0.2,
             "#de77ae"
            ],
            [
             0.3,
             "#f1b6da"
            ],
            [
             0.4,
             "#fde0ef"
            ],
            [
             0.5,
             "#f7f7f7"
            ],
            [
             0.6,
             "#e6f5d0"
            ],
            [
             0.7,
             "#b8e186"
            ],
            [
             0.8,
             "#7fbc41"
            ],
            [
             0.9,
             "#4d9221"
            ],
            [
             1,
             "#276419"
            ]
           ],
           "sequential": [
            [
             0,
             "#0d0887"
            ],
            [
             0.1111111111111111,
             "#46039f"
            ],
            [
             0.2222222222222222,
             "#7201a8"
            ],
            [
             0.3333333333333333,
             "#9c179e"
            ],
            [
             0.4444444444444444,
             "#bd3786"
            ],
            [
             0.5555555555555556,
             "#d8576b"
            ],
            [
             0.6666666666666666,
             "#ed7953"
            ],
            [
             0.7777777777777778,
             "#fb9f3a"
            ],
            [
             0.8888888888888888,
             "#fdca26"
            ],
            [
             1,
             "#f0f921"
            ]
           ],
           "sequentialminus": [
            [
             0,
             "#0d0887"
            ],
            [
             0.1111111111111111,
             "#46039f"
            ],
            [
             0.2222222222222222,
             "#7201a8"
            ],
            [
             0.3333333333333333,
             "#9c179e"
            ],
            [
             0.4444444444444444,
             "#bd3786"
            ],
            [
             0.5555555555555556,
             "#d8576b"
            ],
            [
             0.6666666666666666,
             "#ed7953"
            ],
            [
             0.7777777777777778,
             "#fb9f3a"
            ],
            [
             0.8888888888888888,
             "#fdca26"
            ],
            [
             1,
             "#f0f921"
            ]
           ]
          },
          "colorway": [
           "#636efa",
           "#EF553B",
           "#00cc96",
           "#ab63fa",
           "#FFA15A",
           "#19d3f3",
           "#FF6692",
           "#B6E880",
           "#FF97FF",
           "#FECB52"
          ],
          "font": {
           "color": "#2a3f5f"
          },
          "geo": {
           "bgcolor": "white",
           "lakecolor": "white",
           "landcolor": "#E5ECF6",
           "showlakes": true,
           "showland": true,
           "subunitcolor": "white"
          },
          "hoverlabel": {
           "align": "left"
          },
          "hovermode": "closest",
          "mapbox": {
           "style": "light"
          },
          "paper_bgcolor": "white",
          "plot_bgcolor": "#E5ECF6",
          "polar": {
           "angularaxis": {
            "gridcolor": "white",
            "linecolor": "white",
            "ticks": ""
           },
           "bgcolor": "#E5ECF6",
           "radialaxis": {
            "gridcolor": "white",
            "linecolor": "white",
            "ticks": ""
           }
          },
          "scene": {
           "xaxis": {
            "backgroundcolor": "#E5ECF6",
            "gridcolor": "white",
            "gridwidth": 2,
            "linecolor": "white",
            "showbackground": true,
            "ticks": "",
            "zerolinecolor": "white"
           },
           "yaxis": {
            "backgroundcolor": "#E5ECF6",
            "gridcolor": "white",
            "gridwidth": 2,
            "linecolor": "white",
            "showbackground": true,
            "ticks": "",
            "zerolinecolor": "white"
           },
           "zaxis": {
            "backgroundcolor": "#E5ECF6",
            "gridcolor": "white",
            "gridwidth": 2,
            "linecolor": "white",
            "showbackground": true,
            "ticks": "",
            "zerolinecolor": "white"
           }
          },
          "shapedefaults": {
           "line": {
            "color": "#2a3f5f"
           }
          },
          "ternary": {
           "aaxis": {
            "gridcolor": "white",
            "linecolor": "white",
            "ticks": ""
           },
           "baxis": {
            "gridcolor": "white",
            "linecolor": "white",
            "ticks": ""
           },
           "bgcolor": "#E5ECF6",
           "caxis": {
            "gridcolor": "white",
            "linecolor": "white",
            "ticks": ""
           }
          },
          "title": {
           "x": 0.05
          },
          "xaxis": {
           "automargin": true,
           "gridcolor": "white",
           "linecolor": "white",
           "ticks": "",
           "title": {
            "standoff": 15
           },
           "zerolinecolor": "white",
           "zerolinewidth": 2
          },
          "yaxis": {
           "automargin": true,
           "gridcolor": "white",
           "linecolor": "white",
           "ticks": "",
           "title": {
            "standoff": 15
           },
           "zerolinecolor": "white",
           "zerolinewidth": 2
          }
         }
        }
       }
      },
      "text/html": [
       "<div>\n",
       "        \n",
       "        \n",
       "            <div id=\"4fa427f3-114f-459c-b1ef-35744168fe28\" class=\"plotly-graph-div\" style=\"height:525px; width:100%;\"></div>\n",
       "            <script type=\"text/javascript\">\n",
       "                require([\"plotly\"], function(Plotly) {\n",
       "                    window.PLOTLYENV=window.PLOTLYENV || {};\n",
       "                    \n",
       "                if (document.getElementById(\"4fa427f3-114f-459c-b1ef-35744168fe28\")) {\n",
       "                    Plotly.newPlot(\n",
       "                        '4fa427f3-114f-459c-b1ef-35744168fe28',\n",
       "                        [{\"name\": \"Possible low Rt\", \"type\": \"scatter\", \"x\": [\"2020-03-07\", \"2020-03-08\", \"2020-03-09\", \"2020-03-10\", \"2020-03-11\", \"2020-03-12\", \"2020-03-13\", \"2020-03-14\", \"2020-03-15\", \"2020-03-16\", \"2020-03-17\", \"2020-03-18\", \"2020-03-19\", \"2020-03-20\", \"2020-03-21\", \"2020-03-22\", \"2020-03-23\", \"2020-03-24\", \"2020-03-25\", \"2020-03-26\", \"2020-03-27\", \"2020-03-28\", \"2020-03-29\", \"2020-03-30\", \"2020-03-31\", \"2020-04-01\", \"2020-04-02\", \"2020-04-03\", \"2020-04-04\", \"2020-04-05\", \"2020-04-06\", \"2020-04-07\", \"2020-04-08\", \"2020-04-09\", \"2020-04-10\", \"2020-04-11\", \"2020-04-12\", \"2020-04-13\", \"2020-04-14\", \"2020-04-15\", \"2020-04-16\", \"2020-04-17\", \"2020-04-18\", \"2020-04-19\", \"2020-04-20\"], \"y\": [0.34, 0.38, 0.51, 0.61, 0.8300000000000001, 0.96, 0.94, 0.6900000000000001, 1.01, 1.09, 1.24, 1.29, 1.28, 1.37, 1.5, 1.58, 1.68, 1.73, 1.59, 1.45, 1.22, 1.0, 0.77, 0.53, 0.26, 0.11, 0.02, 0.01, 0.13, 0.39, 0.65, 0.8300000000000001, 0.8200000000000001, 0.84, 0.84, 0.88, 0.91, 0.96, 0.98, 1.06, 1.08, 1.1, 1.1, 1.09, 0.99]}, {\"name\": \"Most likely Rt\", \"type\": \"scatter\", \"x\": [\"2020-03-07\", \"2020-03-08\", \"2020-03-09\", \"2020-03-10\", \"2020-03-11\", \"2020-03-12\", \"2020-03-13\", \"2020-03-14\", \"2020-03-15\", \"2020-03-16\", \"2020-03-17\", \"2020-03-18\", \"2020-03-19\", \"2020-03-20\", \"2020-03-21\", \"2020-03-22\", \"2020-03-23\", \"2020-03-24\", \"2020-03-25\", \"2020-03-26\", \"2020-03-27\", \"2020-03-28\", \"2020-03-29\", \"2020-03-30\", \"2020-03-31\", \"2020-04-01\", \"2020-04-02\", \"2020-04-03\", \"2020-04-04\", \"2020-04-05\", \"2020-04-06\", \"2020-04-07\", \"2020-04-08\", \"2020-04-09\", \"2020-04-10\", \"2020-04-11\", \"2020-04-12\", \"2020-04-13\", \"2020-04-14\", \"2020-04-15\", \"2020-04-16\", \"2020-04-17\", \"2020-04-18\", \"2020-04-19\", \"2020-04-20\"], \"y\": [2.0, 1.88, 2.17, 2.28, 2.5, 2.45, 2.2, 2.04, 2.18, 2.11, 2.12, 2.06, 1.96, 1.96, 2.03, 2.03, 2.08, 2.07, 1.9, 1.73, 1.5, 1.25, 1.03, 0.79, 0.54, 0.41, 0.29, 0.32, 0.5, 0.78, 1.03, 1.22, 1.19, 1.2, 1.2, 1.23, 1.24, 1.28, 1.29, 1.37, 1.36, 1.38, 1.35, 1.33, 1.25]}, {\"name\": \"Possible High Rt\", \"type\": \"scatter\", \"x\": [\"2020-03-07\", \"2020-03-08\", \"2020-03-09\", \"2020-03-10\", \"2020-03-11\", \"2020-03-12\", \"2020-03-13\", \"2020-03-14\", \"2020-03-15\", \"2020-03-16\", \"2020-03-17\", \"2020-03-18\", \"2020-03-19\", \"2020-03-20\", \"2020-03-21\", \"2020-03-22\", \"2020-03-23\", \"2020-03-24\", \"2020-03-25\", \"2020-03-26\", \"2020-03-27\", \"2020-03-28\", \"2020-03-29\", \"2020-03-30\", \"2020-03-31\", \"2020-04-01\", \"2020-04-02\", \"2020-04-03\", \"2020-04-04\", \"2020-04-05\", \"2020-04-06\", \"2020-04-07\", \"2020-04-08\", \"2020-04-09\", \"2020-04-10\", \"2020-04-11\", \"2020-04-12\", \"2020-04-13\", \"2020-04-14\", \"2020-04-15\", \"2020-04-16\", \"2020-04-17\", \"2020-04-18\", \"2020-04-19\", \"2020-04-20\"], \"y\": [6.43, 5.01, 4.99, 4.59, 4.43, 4.04, 3.56, 3.33, 3.31, 3.09, 2.98, 2.81, 2.63, 2.57, 2.5500000000000003, 2.51, 2.49, 2.44, 2.22, 2.03, 1.76, 1.53, 1.3, 1.07, 0.8300000000000001, 0.71, 0.6, 0.64, 0.89, 1.19, 1.45, 1.6, 1.58, 1.58, 1.56, 1.58, 1.59, 1.62, 1.61, 1.66, 1.66, 1.65, 1.63, 1.6, 1.48]}],\n",
       "                        {\"hovermode\": \"x\", \"template\": {\"data\": {\"bar\": [{\"error_x\": {\"color\": \"#2a3f5f\"}, \"error_y\": {\"color\": \"#2a3f5f\"}, \"marker\": {\"line\": {\"color\": \"#E5ECF6\", \"width\": 0.5}}, \"type\": \"bar\"}], \"barpolar\": [{\"marker\": {\"line\": {\"color\": \"#E5ECF6\", \"width\": 0.5}}, \"type\": \"barpolar\"}], \"carpet\": [{\"aaxis\": {\"endlinecolor\": \"#2a3f5f\", \"gridcolor\": \"white\", \"linecolor\": \"white\", \"minorgridcolor\": \"white\", \"startlinecolor\": \"#2a3f5f\"}, \"baxis\": {\"endlinecolor\": \"#2a3f5f\", \"gridcolor\": \"white\", \"linecolor\": \"white\", \"minorgridcolor\": \"white\", \"startlinecolor\": \"#2a3f5f\"}, \"type\": \"carpet\"}], \"choropleth\": [{\"colorbar\": {\"outlinewidth\": 0, \"ticks\": \"\"}, \"type\": \"choropleth\"}], \"contour\": [{\"colorbar\": {\"outlinewidth\": 0, \"ticks\": \"\"}, \"colorscale\": [[0.0, \"#0d0887\"], [0.1111111111111111, \"#46039f\"], [0.2222222222222222, \"#7201a8\"], [0.3333333333333333, \"#9c179e\"], [0.4444444444444444, \"#bd3786\"], [0.5555555555555556, \"#d8576b\"], [0.6666666666666666, \"#ed7953\"], [0.7777777777777778, \"#fb9f3a\"], [0.8888888888888888, \"#fdca26\"], [1.0, \"#f0f921\"]], \"type\": \"contour\"}], \"contourcarpet\": [{\"colorbar\": {\"outlinewidth\": 0, \"ticks\": \"\"}, \"type\": \"contourcarpet\"}], \"heatmap\": [{\"colorbar\": {\"outlinewidth\": 0, \"ticks\": \"\"}, \"colorscale\": [[0.0, \"#0d0887\"], [0.1111111111111111, \"#46039f\"], [0.2222222222222222, \"#7201a8\"], [0.3333333333333333, \"#9c179e\"], [0.4444444444444444, \"#bd3786\"], [0.5555555555555556, \"#d8576b\"], [0.6666666666666666, \"#ed7953\"], [0.7777777777777778, \"#fb9f3a\"], [0.8888888888888888, \"#fdca26\"], [1.0, \"#f0f921\"]], \"type\": \"heatmap\"}], \"heatmapgl\": [{\"colorbar\": {\"outlinewidth\": 0, \"ticks\": \"\"}, \"colorscale\": [[0.0, \"#0d0887\"], [0.1111111111111111, \"#46039f\"], [0.2222222222222222, \"#7201a8\"], [0.3333333333333333, \"#9c179e\"], [0.4444444444444444, \"#bd3786\"], [0.5555555555555556, \"#d8576b\"], [0.6666666666666666, \"#ed7953\"], [0.7777777777777778, \"#fb9f3a\"], [0.8888888888888888, \"#fdca26\"], [1.0, \"#f0f921\"]], \"type\": \"heatmapgl\"}], \"histogram\": [{\"marker\": {\"colorbar\": {\"outlinewidth\": 0, \"ticks\": \"\"}}, \"type\": \"histogram\"}], \"histogram2d\": [{\"colorbar\": {\"outlinewidth\": 0, \"ticks\": \"\"}, \"colorscale\": [[0.0, \"#0d0887\"], [0.1111111111111111, \"#46039f\"], [0.2222222222222222, \"#7201a8\"], [0.3333333333333333, \"#9c179e\"], [0.4444444444444444, \"#bd3786\"], [0.5555555555555556, \"#d8576b\"], [0.6666666666666666, \"#ed7953\"], [0.7777777777777778, \"#fb9f3a\"], [0.8888888888888888, \"#fdca26\"], [1.0, \"#f0f921\"]], \"type\": \"histogram2d\"}], \"histogram2dcontour\": [{\"colorbar\": {\"outlinewidth\": 0, \"ticks\": \"\"}, \"colorscale\": [[0.0, \"#0d0887\"], [0.1111111111111111, \"#46039f\"], [0.2222222222222222, \"#7201a8\"], [0.3333333333333333, \"#9c179e\"], [0.4444444444444444, \"#bd3786\"], [0.5555555555555556, \"#d8576b\"], [0.6666666666666666, \"#ed7953\"], [0.7777777777777778, \"#fb9f3a\"], [0.8888888888888888, \"#fdca26\"], [1.0, \"#f0f921\"]], \"type\": \"histogram2dcontour\"}], \"mesh3d\": [{\"colorbar\": {\"outlinewidth\": 0, \"ticks\": \"\"}, \"type\": \"mesh3d\"}], \"parcoords\": [{\"line\": {\"colorbar\": {\"outlinewidth\": 0, \"ticks\": \"\"}}, \"type\": \"parcoords\"}], \"pie\": [{\"automargin\": true, \"type\": \"pie\"}], \"scatter\": [{\"marker\": {\"colorbar\": {\"outlinewidth\": 0, \"ticks\": \"\"}}, \"type\": \"scatter\"}], \"scatter3d\": [{\"line\": {\"colorbar\": {\"outlinewidth\": 0, \"ticks\": \"\"}}, \"marker\": {\"colorbar\": {\"outlinewidth\": 0, \"ticks\": \"\"}}, \"type\": \"scatter3d\"}], \"scattercarpet\": [{\"marker\": {\"colorbar\": {\"outlinewidth\": 0, \"ticks\": \"\"}}, \"type\": \"scattercarpet\"}], \"scattergeo\": [{\"marker\": {\"colorbar\": {\"outlinewidth\": 0, \"ticks\": \"\"}}, \"type\": \"scattergeo\"}], \"scattergl\": [{\"marker\": {\"colorbar\": {\"outlinewidth\": 0, \"ticks\": \"\"}}, \"type\": \"scattergl\"}], \"scattermapbox\": [{\"marker\": {\"colorbar\": {\"outlinewidth\": 0, \"ticks\": \"\"}}, \"type\": \"scattermapbox\"}], \"scatterpolar\": [{\"marker\": {\"colorbar\": {\"outlinewidth\": 0, \"ticks\": \"\"}}, \"type\": \"scatterpolar\"}], \"scatterpolargl\": [{\"marker\": {\"colorbar\": {\"outlinewidth\": 0, \"ticks\": \"\"}}, \"type\": \"scatterpolargl\"}], \"scatterternary\": [{\"marker\": {\"colorbar\": {\"outlinewidth\": 0, \"ticks\": \"\"}}, \"type\": \"scatterternary\"}], \"surface\": [{\"colorbar\": {\"outlinewidth\": 0, \"ticks\": \"\"}, \"colorscale\": [[0.0, \"#0d0887\"], [0.1111111111111111, \"#46039f\"], [0.2222222222222222, \"#7201a8\"], [0.3333333333333333, \"#9c179e\"], [0.4444444444444444, \"#bd3786\"], [0.5555555555555556, \"#d8576b\"], [0.6666666666666666, \"#ed7953\"], [0.7777777777777778, \"#fb9f3a\"], [0.8888888888888888, \"#fdca26\"], [1.0, \"#f0f921\"]], \"type\": \"surface\"}], \"table\": [{\"cells\": {\"fill\": {\"color\": \"#EBF0F8\"}, \"line\": {\"color\": \"white\"}}, \"header\": {\"fill\": {\"color\": \"#C8D4E3\"}, \"line\": {\"color\": \"white\"}}, \"type\": \"table\"}]}, \"layout\": {\"annotationdefaults\": {\"arrowcolor\": \"#2a3f5f\", \"arrowhead\": 0, \"arrowwidth\": 1}, \"coloraxis\": {\"colorbar\": {\"outlinewidth\": 0, \"ticks\": \"\"}}, \"colorscale\": {\"diverging\": [[0, \"#8e0152\"], [0.1, \"#c51b7d\"], [0.2, \"#de77ae\"], [0.3, \"#f1b6da\"], [0.4, \"#fde0ef\"], [0.5, \"#f7f7f7\"], [0.6, \"#e6f5d0\"], [0.7, \"#b8e186\"], [0.8, \"#7fbc41\"], [0.9, \"#4d9221\"], [1, \"#276419\"]], \"sequential\": [[0.0, \"#0d0887\"], [0.1111111111111111, \"#46039f\"], [0.2222222222222222, \"#7201a8\"], [0.3333333333333333, \"#9c179e\"], [0.4444444444444444, \"#bd3786\"], [0.5555555555555556, \"#d8576b\"], [0.6666666666666666, \"#ed7953\"], [0.7777777777777778, \"#fb9f3a\"], [0.8888888888888888, \"#fdca26\"], [1.0, \"#f0f921\"]], \"sequentialminus\": [[0.0, \"#0d0887\"], [0.1111111111111111, \"#46039f\"], [0.2222222222222222, \"#7201a8\"], [0.3333333333333333, \"#9c179e\"], [0.4444444444444444, \"#bd3786\"], [0.5555555555555556, \"#d8576b\"], [0.6666666666666666, \"#ed7953\"], [0.7777777777777778, \"#fb9f3a\"], [0.8888888888888888, \"#fdca26\"], [1.0, \"#f0f921\"]]}, \"colorway\": [\"#636efa\", \"#EF553B\", \"#00cc96\", \"#ab63fa\", \"#FFA15A\", \"#19d3f3\", \"#FF6692\", \"#B6E880\", \"#FF97FF\", \"#FECB52\"], \"font\": {\"color\": \"#2a3f5f\"}, \"geo\": {\"bgcolor\": \"white\", \"lakecolor\": \"white\", \"landcolor\": \"#E5ECF6\", \"showlakes\": true, \"showland\": true, \"subunitcolor\": \"white\"}, \"hoverlabel\": {\"align\": \"left\"}, \"hovermode\": \"closest\", \"mapbox\": {\"style\": \"light\"}, \"paper_bgcolor\": \"white\", \"plot_bgcolor\": \"#E5ECF6\", \"polar\": {\"angularaxis\": {\"gridcolor\": \"white\", \"linecolor\": \"white\", \"ticks\": \"\"}, \"bgcolor\": \"#E5ECF6\", \"radialaxis\": {\"gridcolor\": \"white\", \"linecolor\": \"white\", \"ticks\": \"\"}}, \"scene\": {\"xaxis\": {\"backgroundcolor\": \"#E5ECF6\", \"gridcolor\": \"white\", \"gridwidth\": 2, \"linecolor\": \"white\", \"showbackground\": true, \"ticks\": \"\", \"zerolinecolor\": \"white\"}, \"yaxis\": {\"backgroundcolor\": \"#E5ECF6\", \"gridcolor\": \"white\", \"gridwidth\": 2, \"linecolor\": \"white\", \"showbackground\": true, \"ticks\": \"\", \"zerolinecolor\": \"white\"}, \"zaxis\": {\"backgroundcolor\": \"#E5ECF6\", \"gridcolor\": \"white\", \"gridwidth\": 2, \"linecolor\": \"white\", \"showbackground\": true, \"ticks\": \"\", \"zerolinecolor\": \"white\"}}, \"shapedefaults\": {\"line\": {\"color\": \"#2a3f5f\"}}, \"ternary\": {\"aaxis\": {\"gridcolor\": \"white\", \"linecolor\": \"white\", \"ticks\": \"\"}, \"baxis\": {\"gridcolor\": \"white\", \"linecolor\": \"white\", \"ticks\": \"\"}, \"bgcolor\": \"#E5ECF6\", \"caxis\": {\"gridcolor\": \"white\", \"linecolor\": \"white\", \"ticks\": \"\"}}, \"title\": {\"x\": 0.05}, \"xaxis\": {\"automargin\": true, \"gridcolor\": \"white\", \"linecolor\": \"white\", \"ticks\": \"\", \"title\": {\"standoff\": 15}, \"zerolinecolor\": \"white\", \"zerolinewidth\": 2}, \"yaxis\": {\"automargin\": true, \"gridcolor\": \"white\", \"linecolor\": \"white\", \"ticks\": \"\", \"title\": {\"standoff\": 15}, \"zerolinecolor\": \"white\", \"zerolinewidth\": 2}}}},\n",
       "                        {\"responsive\": true}\n",
       "                    ).then(function(){\n",
       "                            \n",
       "var gd = document.getElementById('4fa427f3-114f-459c-b1ef-35744168fe28');\n",
       "var x = new MutationObserver(function (mutations, observer) {{\n",
       "        var display = window.getComputedStyle(gd).display;\n",
       "        if (!display || display === 'none') {{\n",
       "            console.log([gd, 'removed!']);\n",
       "            Plotly.purge(gd);\n",
       "            observer.disconnect();\n",
       "        }}\n",
       "}});\n",
       "\n",
       "// Listen for the removal of the full notebook cells\n",
       "var notebookContainer = gd.closest('#notebook-container');\n",
       "if (notebookContainer) {{\n",
       "    x.observe(notebookContainer, {childList: true});\n",
       "}}\n",
       "\n",
       "// Listen for the clearing of the current output cell\n",
       "var outputEl = gd.closest('.output');\n",
       "if (outputEl) {{\n",
       "    x.observe(outputEl, {childList: true});\n",
       "}}\n",
       "\n",
       "                        })\n",
       "                };\n",
       "                });\n",
       "            </script>\n",
       "        </div>"
      ]
     },
     "metadata": {},
     "output_type": "display_data"
    }
   ],
   "source": [
    "#Reproductive number graphs\n",
    "\n",
    "import plotly.graph_objects as go\n",
    "\n",
    "\n",
    "fig_rt.add_trace(\n",
    "    go.Scatter(\n",
    "        y=df_rt['Possible low Rt'],\n",
    "        x=df_rt.date,\n",
    "        name= 'Possible low Rt'\n",
    "    ))\n",
    "fig_rt.add_trace(\n",
    "    go.Scatter(\n",
    "        y=df_rt['Most likely Rt'],\n",
    "        x=df_rt.date,\n",
    "       name= 'Most likely Rt'\n",
    "    ))\n",
    "fig_rt.add_trace(\n",
    "    go.Scatter(\n",
    "        y=df_rt['Possible High Rt'],\n",
    "        x=df_rt.date,\n",
    "        name= 'Possible High Rt'\n",
    "    ))\n",
    "fig_rt.update_layout(hovermode='x')\n",
    "\n",
    "fig_rt.show()\n"
   ]
  },
  {
   "cell_type": "code",
   "execution_count": 70,
   "metadata": {},
   "outputs": [],
   "source": [
    "df_day = pd.read_csv('https://raw.githubusercontent.com/dsfsi/covid19za/master/data/covid19za_provincial_cumulative_timeline_confirmed.csv')\n",
    "df_day = df_day.drop('source',axis = 1)\n",
    "df_day = df_day.dropna()\n"
   ]
  },
  {
   "cell_type": "code",
   "execution_count": 79,
   "metadata": {},
   "outputs": [
    {
     "data": {
      "text/html": [
       "<div>\n",
       "<style scoped>\n",
       "    .dataframe tbody tr th:only-of-type {\n",
       "        vertical-align: middle;\n",
       "    }\n",
       "\n",
       "    .dataframe tbody tr th {\n",
       "        vertical-align: top;\n",
       "    }\n",
       "\n",
       "    .dataframe thead th {\n",
       "        text-align: right;\n",
       "    }\n",
       "</style>\n",
       "<table border=\"1\" class=\"dataframe\">\n",
       "  <thead>\n",
       "    <tr style=\"text-align: right;\">\n",
       "      <th></th>\n",
       "      <th>date</th>\n",
       "      <th>YYYYMMDD</th>\n",
       "      <th>EC</th>\n",
       "      <th>FS</th>\n",
       "      <th>GP</th>\n",
       "      <th>KZN</th>\n",
       "      <th>LP</th>\n",
       "      <th>MP</th>\n",
       "      <th>NC</th>\n",
       "      <th>NW</th>\n",
       "      <th>WC</th>\n",
       "      <th>UNKNOWN</th>\n",
       "      <th>total</th>\n",
       "    </tr>\n",
       "  </thead>\n",
       "  <tbody>\n",
       "    <tr>\n",
       "      <th>0</th>\n",
       "      <td>05-03-2020</td>\n",
       "      <td>20200305</td>\n",
       "      <td>0.0</td>\n",
       "      <td>0.0</td>\n",
       "      <td>0.0</td>\n",
       "      <td>1.0</td>\n",
       "      <td>0.0</td>\n",
       "      <td>0.0</td>\n",
       "      <td>0.0</td>\n",
       "      <td>0.0</td>\n",
       "      <td>0.0</td>\n",
       "      <td>0.0</td>\n",
       "      <td>1</td>\n",
       "    </tr>\n",
       "    <tr>\n",
       "      <th>1</th>\n",
       "      <td>07-03-2020</td>\n",
       "      <td>20200307</td>\n",
       "      <td>0.0</td>\n",
       "      <td>0.0</td>\n",
       "      <td>1.0</td>\n",
       "      <td>1.0</td>\n",
       "      <td>0.0</td>\n",
       "      <td>0.0</td>\n",
       "      <td>0.0</td>\n",
       "      <td>0.0</td>\n",
       "      <td>0.0</td>\n",
       "      <td>0.0</td>\n",
       "      <td>2</td>\n",
       "    </tr>\n",
       "    <tr>\n",
       "      <th>2</th>\n",
       "      <td>08-03-2020</td>\n",
       "      <td>20200308</td>\n",
       "      <td>0.0</td>\n",
       "      <td>0.0</td>\n",
       "      <td>1.0</td>\n",
       "      <td>2.0</td>\n",
       "      <td>0.0</td>\n",
       "      <td>0.0</td>\n",
       "      <td>0.0</td>\n",
       "      <td>0.0</td>\n",
       "      <td>0.0</td>\n",
       "      <td>0.0</td>\n",
       "      <td>3</td>\n",
       "    </tr>\n",
       "    <tr>\n",
       "      <th>3</th>\n",
       "      <td>09-03-2020</td>\n",
       "      <td>20200309</td>\n",
       "      <td>0.0</td>\n",
       "      <td>0.0</td>\n",
       "      <td>1.0</td>\n",
       "      <td>6.0</td>\n",
       "      <td>0.0</td>\n",
       "      <td>0.0</td>\n",
       "      <td>0.0</td>\n",
       "      <td>0.0</td>\n",
       "      <td>0.0</td>\n",
       "      <td>0.0</td>\n",
       "      <td>7</td>\n",
       "    </tr>\n",
       "    <tr>\n",
       "      <th>4</th>\n",
       "      <td>11-03-2020</td>\n",
       "      <td>20200311</td>\n",
       "      <td>0.0</td>\n",
       "      <td>0.0</td>\n",
       "      <td>5.0</td>\n",
       "      <td>7.0</td>\n",
       "      <td>0.0</td>\n",
       "      <td>0.0</td>\n",
       "      <td>0.0</td>\n",
       "      <td>0.0</td>\n",
       "      <td>1.0</td>\n",
       "      <td>0.0</td>\n",
       "      <td>13</td>\n",
       "    </tr>\n",
       "  </tbody>\n",
       "</table>\n",
       "</div>"
      ],
      "text/plain": [
       "         date  YYYYMMDD   EC   FS   GP  KZN   LP   MP   NC   NW   WC  UNKNOWN  \\\n",
       "0  05-03-2020  20200305  0.0  0.0  0.0  1.0  0.0  0.0  0.0  0.0  0.0      0.0   \n",
       "1  07-03-2020  20200307  0.0  0.0  1.0  1.0  0.0  0.0  0.0  0.0  0.0      0.0   \n",
       "2  08-03-2020  20200308  0.0  0.0  1.0  2.0  0.0  0.0  0.0  0.0  0.0      0.0   \n",
       "3  09-03-2020  20200309  0.0  0.0  1.0  6.0  0.0  0.0  0.0  0.0  0.0      0.0   \n",
       "4  11-03-2020  20200311  0.0  0.0  5.0  7.0  0.0  0.0  0.0  0.0  1.0      0.0   \n",
       "\n",
       "   total  \n",
       "0      1  \n",
       "1      2  \n",
       "2      3  \n",
       "3      7  \n",
       "4     13  "
      ]
     },
     "execution_count": 79,
     "metadata": {},
     "output_type": "execute_result"
    }
   ],
   "source": [
    "df_day.head()"
   ]
  },
  {
   "cell_type": "code",
   "execution_count": 73,
   "metadata": {},
   "outputs": [
    {
     "data": {
      "application/vnd.plotly.v1+json": {
       "config": {
        "plotlyServerURL": "https://plot.ly"
       },
       "data": [
        {
         "name": "EC",
         "type": "scatter",
         "x": [
          "05-03-2020",
          "07-03-2020",
          "08-03-2020",
          "09-03-2020",
          "11-03-2020",
          "12-03-2020",
          "13-03-2020",
          "14-03-2020",
          "15-03-2020",
          "16-03-2020",
          "17-03-2020",
          "18-03-2020",
          "19-03-2020",
          "20-03-2020",
          "21-03-2020",
          "22-03-2020",
          "23-03-2020",
          "24-03-2020",
          "25-03-2020",
          "26-03-2020",
          "28-03-2020",
          "29-03-2020",
          "30-03-2020",
          "31-03-2020",
          "01-04-2020",
          "02-04-2020",
          "03-04-2020",
          "04-04-2020",
          "05-04-2020",
          "06-04-2020",
          "08-04-2020",
          "09-04-2020",
          "10-04-2020",
          "11-04-2020",
          "12-04-2020",
          "13-04-2020",
          "14-04-2020",
          "15-04-2020",
          "16-04-2020",
          "17-04-2020",
          "18-04-2020",
          "19-04-2020",
          "20-04-2020",
          "21-04-2020"
         ],
         "y": [
          0,
          0,
          0,
          0,
          0,
          0,
          0,
          0,
          0,
          0,
          0,
          0,
          0,
          0,
          1,
          2,
          2,
          2,
          2,
          5,
          10,
          12,
          12,
          12,
          15,
          17,
          21,
          25,
          31,
          32,
          45,
          61,
          68,
          69,
          88,
          104,
          174,
          199,
          220,
          246,
          270,
          293,
          310,
          345
         ]
        },
        {
         "name": "WC",
         "type": "scatter",
         "x": [
          "05-03-2020",
          "07-03-2020",
          "08-03-2020",
          "09-03-2020",
          "11-03-2020",
          "12-03-2020",
          "13-03-2020",
          "14-03-2020",
          "15-03-2020",
          "16-03-2020",
          "17-03-2020",
          "18-03-2020",
          "19-03-2020",
          "20-03-2020",
          "21-03-2020",
          "22-03-2020",
          "23-03-2020",
          "24-03-2020",
          "25-03-2020",
          "26-03-2020",
          "28-03-2020",
          "29-03-2020",
          "30-03-2020",
          "31-03-2020",
          "01-04-2020",
          "02-04-2020",
          "03-04-2020",
          "04-04-2020",
          "05-04-2020",
          "06-04-2020",
          "08-04-2020",
          "09-04-2020",
          "10-04-2020",
          "11-04-2020",
          "12-04-2020",
          "13-04-2020",
          "14-04-2020",
          "15-04-2020",
          "16-04-2020",
          "17-04-2020",
          "18-04-2020",
          "19-04-2020",
          "20-04-2020",
          "21-04-2020"
         ],
         "y": [
          0,
          0,
          0,
          0,
          1,
          1,
          3,
          9,
          14,
          16,
          21,
          31,
          46,
          57,
          75,
          89,
          100,
          113,
          183,
          229,
          271,
          310,
          324,
          325,
          326,
          353,
          374,
          433,
          454,
          462,
          495,
          515,
          541,
          546,
          587,
          617,
          643,
          657,
          675,
          717,
          836,
          868,
          940,
          1010
         ]
        },
        {
         "name": "FS",
         "type": "scatter",
         "x": [
          "05-03-2020",
          "07-03-2020",
          "08-03-2020",
          "09-03-2020",
          "11-03-2020",
          "12-03-2020",
          "13-03-2020",
          "14-03-2020",
          "15-03-2020",
          "16-03-2020",
          "17-03-2020",
          "18-03-2020",
          "19-03-2020",
          "20-03-2020",
          "21-03-2020",
          "22-03-2020",
          "23-03-2020",
          "24-03-2020",
          "25-03-2020",
          "26-03-2020",
          "28-03-2020",
          "29-03-2020",
          "30-03-2020",
          "31-03-2020",
          "01-04-2020",
          "02-04-2020",
          "03-04-2020",
          "04-04-2020",
          "05-04-2020",
          "06-04-2020",
          "08-04-2020",
          "09-04-2020",
          "10-04-2020",
          "11-04-2020",
          "12-04-2020",
          "13-04-2020",
          "14-04-2020",
          "15-04-2020",
          "16-04-2020",
          "17-04-2020",
          "18-04-2020",
          "19-04-2020",
          "20-04-2020",
          "21-04-2020"
         ],
         "y": [
          0,
          0,
          0,
          0,
          0,
          0,
          0,
          0,
          0,
          0,
          0,
          0,
          0,
          7,
          7,
          9,
          13,
          18,
          30,
          49,
          68,
          72,
          72,
          74,
          76,
          84,
          84,
          85,
          87,
          89,
          88,
          93,
          94,
          94,
          96,
          96,
          98,
          97,
          98,
          100,
          100,
          100,
          105,
          106
         ]
        },
        {
         "name": "GP",
         "type": "scatter",
         "x": [
          "05-03-2020",
          "07-03-2020",
          "08-03-2020",
          "09-03-2020",
          "11-03-2020",
          "12-03-2020",
          "13-03-2020",
          "14-03-2020",
          "15-03-2020",
          "16-03-2020",
          "17-03-2020",
          "18-03-2020",
          "19-03-2020",
          "20-03-2020",
          "21-03-2020",
          "22-03-2020",
          "23-03-2020",
          "24-03-2020",
          "25-03-2020",
          "26-03-2020",
          "28-03-2020",
          "29-03-2020",
          "30-03-2020",
          "31-03-2020",
          "01-04-2020",
          "02-04-2020",
          "03-04-2020",
          "04-04-2020",
          "05-04-2020",
          "06-04-2020",
          "08-04-2020",
          "09-04-2020",
          "10-04-2020",
          "11-04-2020",
          "12-04-2020",
          "13-04-2020",
          "14-04-2020",
          "15-04-2020",
          "16-04-2020",
          "17-04-2020",
          "18-04-2020",
          "19-04-2020",
          "20-04-2020",
          "21-04-2020"
         ],
         "y": [
          0,
          1,
          1,
          1,
          5,
          6,
          10,
          17,
          24,
          31,
          45,
          61,
          76,
          109,
          125,
          132,
          207,
          302,
          319,
          409,
          533,
          584,
          618,
          633,
          645,
          663,
          672,
          693,
          704,
          713,
          782,
          795,
          801,
          813,
          865,
          890,
          909,
          930,
          969,
          1018,
          1101,
          1148,
          1170,
          1199
         ]
        },
        {
         "name": "KZN",
         "type": "scatter",
         "x": [
          "05-03-2020",
          "07-03-2020",
          "08-03-2020",
          "09-03-2020",
          "11-03-2020",
          "12-03-2020",
          "13-03-2020",
          "14-03-2020",
          "15-03-2020",
          "16-03-2020",
          "17-03-2020",
          "18-03-2020",
          "19-03-2020",
          "20-03-2020",
          "21-03-2020",
          "22-03-2020",
          "23-03-2020",
          "24-03-2020",
          "25-03-2020",
          "26-03-2020",
          "28-03-2020",
          "29-03-2020",
          "30-03-2020",
          "31-03-2020",
          "01-04-2020",
          "02-04-2020",
          "03-04-2020",
          "04-04-2020",
          "05-04-2020",
          "06-04-2020",
          "08-04-2020",
          "09-04-2020",
          "10-04-2020",
          "11-04-2020",
          "12-04-2020",
          "13-04-2020",
          "14-04-2020",
          "15-04-2020",
          "16-04-2020",
          "17-04-2020",
          "18-04-2020",
          "19-04-2020",
          "20-04-2020",
          "21-04-2020"
         ],
         "y": [
          1,
          1,
          2,
          6,
          7,
          8,
          10,
          11,
          12,
          12,
          16,
          19,
          22,
          23,
          26,
          35,
          60,
          80,
          91,
          134,
          156,
          167,
          171,
          179,
          186,
          206,
          215,
          232,
          246,
          257,
          354,
          387,
          412,
          418,
          443,
          465,
          489,
          519,
          539,
          591,
          604,
          617,
          639,
          671
         ]
        },
        {
         "name": "NW",
         "type": "scatter",
         "x": [
          "05-03-2020",
          "07-03-2020",
          "08-03-2020",
          "09-03-2020",
          "11-03-2020",
          "12-03-2020",
          "13-03-2020",
          "14-03-2020",
          "15-03-2020",
          "16-03-2020",
          "17-03-2020",
          "18-03-2020",
          "19-03-2020",
          "20-03-2020",
          "21-03-2020",
          "22-03-2020",
          "23-03-2020",
          "24-03-2020",
          "25-03-2020",
          "26-03-2020",
          "28-03-2020",
          "29-03-2020",
          "30-03-2020",
          "31-03-2020",
          "01-04-2020",
          "02-04-2020",
          "03-04-2020",
          "04-04-2020",
          "05-04-2020",
          "06-04-2020",
          "08-04-2020",
          "09-04-2020",
          "10-04-2020",
          "11-04-2020",
          "12-04-2020",
          "13-04-2020",
          "14-04-2020",
          "15-04-2020",
          "16-04-2020",
          "17-04-2020",
          "18-04-2020",
          "19-04-2020",
          "20-04-2020",
          "21-04-2020"
         ],
         "y": [
          0,
          0,
          0,
          0,
          0,
          0,
          0,
          0,
          0,
          0,
          0,
          0,
          0,
          0,
          0,
          0,
          4,
          5,
          5,
          5,
          6,
          6,
          8,
          8,
          9,
          9,
          9,
          11,
          11,
          11,
          15,
          15,
          18,
          19,
          19,
          22,
          22,
          23,
          24,
          24,
          24,
          24,
          25,
          24
         ]
        },
        {
         "name": "LP",
         "type": "scatter",
         "x": [
          "05-03-2020",
          "07-03-2020",
          "08-03-2020",
          "09-03-2020",
          "11-03-2020",
          "12-03-2020",
          "13-03-2020",
          "14-03-2020",
          "15-03-2020",
          "16-03-2020",
          "17-03-2020",
          "18-03-2020",
          "19-03-2020",
          "20-03-2020",
          "21-03-2020",
          "22-03-2020",
          "23-03-2020",
          "24-03-2020",
          "25-03-2020",
          "26-03-2020",
          "28-03-2020",
          "29-03-2020",
          "30-03-2020",
          "31-03-2020",
          "01-04-2020",
          "02-04-2020",
          "03-04-2020",
          "04-04-2020",
          "05-04-2020",
          "06-04-2020",
          "08-04-2020",
          "09-04-2020",
          "10-04-2020",
          "11-04-2020",
          "12-04-2020",
          "13-04-2020",
          "14-04-2020",
          "15-04-2020",
          "16-04-2020",
          "17-04-2020",
          "18-04-2020",
          "19-04-2020",
          "20-04-2020",
          "21-04-2020"
         ],
         "y": [
          0,
          0,
          0,
          0,
          0,
          0,
          0,
          0,
          0,
          1,
          1,
          1,
          1,
          1,
          1,
          2,
          4,
          4,
          4,
          6,
          11,
          12,
          11,
          14,
          14,
          16,
          16,
          18,
          19,
          19,
          21,
          22,
          24,
          23,
          23,
          23,
          24,
          25,
          26,
          26,
          26,
          27,
          27,
          27
         ]
        },
        {
         "name": "MP",
         "type": "scatter",
         "x": [
          "05-03-2020",
          "07-03-2020",
          "08-03-2020",
          "09-03-2020",
          "11-03-2020",
          "12-03-2020",
          "13-03-2020",
          "14-03-2020",
          "15-03-2020",
          "16-03-2020",
          "17-03-2020",
          "18-03-2020",
          "19-03-2020",
          "20-03-2020",
          "21-03-2020",
          "22-03-2020",
          "23-03-2020",
          "24-03-2020",
          "25-03-2020",
          "26-03-2020",
          "28-03-2020",
          "29-03-2020",
          "30-03-2020",
          "31-03-2020",
          "01-04-2020",
          "02-04-2020",
          "03-04-2020",
          "04-04-2020",
          "05-04-2020",
          "06-04-2020",
          "08-04-2020",
          "09-04-2020",
          "10-04-2020",
          "11-04-2020",
          "12-04-2020",
          "13-04-2020",
          "14-04-2020",
          "15-04-2020",
          "16-04-2020",
          "17-04-2020",
          "18-04-2020",
          "19-04-2020",
          "20-04-2020",
          "21-04-2020"
         ],
         "y": [
          0,
          0,
          0,
          0,
          0,
          1,
          1,
          1,
          1,
          2,
          2,
          4,
          5,
          5,
          5,
          5,
          9,
          9,
          8,
          9,
          10,
          11,
          11,
          12,
          12,
          13,
          13,
          18,
          18,
          18,
          21,
          20,
          20,
          20,
          21,
          22,
          22,
          22,
          22,
          23,
          25,
          23,
          23,
          24
         ]
        },
        {
         "name": "NC",
         "type": "scatter",
         "x": [
          "05-03-2020",
          "07-03-2020",
          "08-03-2020",
          "09-03-2020",
          "11-03-2020",
          "12-03-2020",
          "13-03-2020",
          "14-03-2020",
          "15-03-2020",
          "16-03-2020",
          "17-03-2020",
          "18-03-2020",
          "19-03-2020",
          "20-03-2020",
          "21-03-2020",
          "22-03-2020",
          "23-03-2020",
          "24-03-2020",
          "25-03-2020",
          "26-03-2020",
          "28-03-2020",
          "29-03-2020",
          "30-03-2020",
          "31-03-2020",
          "01-04-2020",
          "02-04-2020",
          "03-04-2020",
          "04-04-2020",
          "05-04-2020",
          "06-04-2020",
          "08-04-2020",
          "09-04-2020",
          "10-04-2020",
          "11-04-2020",
          "12-04-2020",
          "13-04-2020",
          "14-04-2020",
          "15-04-2020",
          "16-04-2020",
          "17-04-2020",
          "18-04-2020",
          "19-04-2020",
          "20-04-2020",
          "21-04-2020"
         ],
         "y": [
          0,
          0,
          0,
          0,
          0,
          0,
          0,
          0,
          0,
          0,
          0,
          0,
          0,
          0,
          0,
          0,
          2,
          2,
          2,
          2,
          5,
          6,
          3,
          6,
          7,
          7,
          7,
          7,
          8,
          8,
          13,
          15,
          15,
          16,
          16,
          16,
          16,
          16,
          16,
          16,
          16,
          16,
          18,
          16
         ]
        },
        {
         "name": "Unlocated",
         "type": "scatter",
         "x": [
          "05-03-2020",
          "07-03-2020",
          "08-03-2020",
          "09-03-2020",
          "11-03-2020",
          "12-03-2020",
          "13-03-2020",
          "14-03-2020",
          "15-03-2020",
          "16-03-2020",
          "17-03-2020",
          "18-03-2020",
          "19-03-2020",
          "20-03-2020",
          "21-03-2020",
          "22-03-2020",
          "23-03-2020",
          "24-03-2020",
          "25-03-2020",
          "26-03-2020",
          "28-03-2020",
          "29-03-2020",
          "30-03-2020",
          "31-03-2020",
          "01-04-2020",
          "02-04-2020",
          "03-04-2020",
          "04-04-2020",
          "05-04-2020",
          "06-04-2020",
          "08-04-2020",
          "09-04-2020",
          "10-04-2020",
          "11-04-2020",
          "12-04-2020",
          "13-04-2020",
          "14-04-2020",
          "15-04-2020",
          "16-04-2020",
          "17-04-2020",
          "18-04-2020",
          "19-04-2020",
          "20-04-2020",
          "21-04-2020"
         ],
         "y": [
          0,
          0,
          0,
          0,
          0,
          0,
          0,
          0,
          0,
          0,
          0,
          0,
          0,
          0,
          0,
          0,
          1,
          19,
          65,
          79,
          117,
          100,
          96,
          90,
          90,
          94,
          94,
          63,
          77,
          77,
          11,
          11,
          10,
          10,
          15,
          17,
          18,
          18,
          16,
          22,
          32,
          42,
          43,
          43
         ]
        },
        {
         "name": "Total Confirmed in SA",
         "type": "scatter",
         "x": [
          "05-03-2020",
          "07-03-2020",
          "08-03-2020",
          "09-03-2020",
          "11-03-2020",
          "12-03-2020",
          "13-03-2020",
          "14-03-2020",
          "15-03-2020",
          "16-03-2020",
          "17-03-2020",
          "18-03-2020",
          "19-03-2020",
          "20-03-2020",
          "21-03-2020",
          "22-03-2020",
          "23-03-2020",
          "24-03-2020",
          "25-03-2020",
          "26-03-2020",
          "28-03-2020",
          "29-03-2020",
          "30-03-2020",
          "31-03-2020",
          "01-04-2020",
          "02-04-2020",
          "03-04-2020",
          "04-04-2020",
          "05-04-2020",
          "06-04-2020",
          "08-04-2020",
          "09-04-2020",
          "10-04-2020",
          "11-04-2020",
          "12-04-2020",
          "13-04-2020",
          "14-04-2020",
          "15-04-2020",
          "16-04-2020",
          "17-04-2020",
          "18-04-2020",
          "19-04-2020",
          "20-04-2020",
          "21-04-2020"
         ],
         "y": [
          1,
          2,
          3,
          7,
          13,
          16,
          24,
          38,
          51,
          62,
          85,
          116,
          150,
          202,
          240,
          274,
          402,
          554,
          709,
          927,
          1187,
          1280,
          1326,
          1353,
          1380,
          1462,
          1505,
          1585,
          1655,
          1686,
          1845,
          1934,
          2003,
          2028,
          2173,
          2272,
          2415,
          2506,
          2605,
          2783,
          3034,
          3158,
          3300,
          3465
         ]
        }
       ],
       "layout": {
        "hovermode": "x",
        "template": {
         "data": {
          "bar": [
           {
            "error_x": {
             "color": "#2a3f5f"
            },
            "error_y": {
             "color": "#2a3f5f"
            },
            "marker": {
             "line": {
              "color": "#E5ECF6",
              "width": 0.5
             }
            },
            "type": "bar"
           }
          ],
          "barpolar": [
           {
            "marker": {
             "line": {
              "color": "#E5ECF6",
              "width": 0.5
             }
            },
            "type": "barpolar"
           }
          ],
          "carpet": [
           {
            "aaxis": {
             "endlinecolor": "#2a3f5f",
             "gridcolor": "white",
             "linecolor": "white",
             "minorgridcolor": "white",
             "startlinecolor": "#2a3f5f"
            },
            "baxis": {
             "endlinecolor": "#2a3f5f",
             "gridcolor": "white",
             "linecolor": "white",
             "minorgridcolor": "white",
             "startlinecolor": "#2a3f5f"
            },
            "type": "carpet"
           }
          ],
          "choropleth": [
           {
            "colorbar": {
             "outlinewidth": 0,
             "ticks": ""
            },
            "type": "choropleth"
           }
          ],
          "contour": [
           {
            "colorbar": {
             "outlinewidth": 0,
             "ticks": ""
            },
            "colorscale": [
             [
              0,
              "#0d0887"
             ],
             [
              0.1111111111111111,
              "#46039f"
             ],
             [
              0.2222222222222222,
              "#7201a8"
             ],
             [
              0.3333333333333333,
              "#9c179e"
             ],
             [
              0.4444444444444444,
              "#bd3786"
             ],
             [
              0.5555555555555556,
              "#d8576b"
             ],
             [
              0.6666666666666666,
              "#ed7953"
             ],
             [
              0.7777777777777778,
              "#fb9f3a"
             ],
             [
              0.8888888888888888,
              "#fdca26"
             ],
             [
              1,
              "#f0f921"
             ]
            ],
            "type": "contour"
           }
          ],
          "contourcarpet": [
           {
            "colorbar": {
             "outlinewidth": 0,
             "ticks": ""
            },
            "type": "contourcarpet"
           }
          ],
          "heatmap": [
           {
            "colorbar": {
             "outlinewidth": 0,
             "ticks": ""
            },
            "colorscale": [
             [
              0,
              "#0d0887"
             ],
             [
              0.1111111111111111,
              "#46039f"
             ],
             [
              0.2222222222222222,
              "#7201a8"
             ],
             [
              0.3333333333333333,
              "#9c179e"
             ],
             [
              0.4444444444444444,
              "#bd3786"
             ],
             [
              0.5555555555555556,
              "#d8576b"
             ],
             [
              0.6666666666666666,
              "#ed7953"
             ],
             [
              0.7777777777777778,
              "#fb9f3a"
             ],
             [
              0.8888888888888888,
              "#fdca26"
             ],
             [
              1,
              "#f0f921"
             ]
            ],
            "type": "heatmap"
           }
          ],
          "heatmapgl": [
           {
            "colorbar": {
             "outlinewidth": 0,
             "ticks": ""
            },
            "colorscale": [
             [
              0,
              "#0d0887"
             ],
             [
              0.1111111111111111,
              "#46039f"
             ],
             [
              0.2222222222222222,
              "#7201a8"
             ],
             [
              0.3333333333333333,
              "#9c179e"
             ],
             [
              0.4444444444444444,
              "#bd3786"
             ],
             [
              0.5555555555555556,
              "#d8576b"
             ],
             [
              0.6666666666666666,
              "#ed7953"
             ],
             [
              0.7777777777777778,
              "#fb9f3a"
             ],
             [
              0.8888888888888888,
              "#fdca26"
             ],
             [
              1,
              "#f0f921"
             ]
            ],
            "type": "heatmapgl"
           }
          ],
          "histogram": [
           {
            "marker": {
             "colorbar": {
              "outlinewidth": 0,
              "ticks": ""
             }
            },
            "type": "histogram"
           }
          ],
          "histogram2d": [
           {
            "colorbar": {
             "outlinewidth": 0,
             "ticks": ""
            },
            "colorscale": [
             [
              0,
              "#0d0887"
             ],
             [
              0.1111111111111111,
              "#46039f"
             ],
             [
              0.2222222222222222,
              "#7201a8"
             ],
             [
              0.3333333333333333,
              "#9c179e"
             ],
             [
              0.4444444444444444,
              "#bd3786"
             ],
             [
              0.5555555555555556,
              "#d8576b"
             ],
             [
              0.6666666666666666,
              "#ed7953"
             ],
             [
              0.7777777777777778,
              "#fb9f3a"
             ],
             [
              0.8888888888888888,
              "#fdca26"
             ],
             [
              1,
              "#f0f921"
             ]
            ],
            "type": "histogram2d"
           }
          ],
          "histogram2dcontour": [
           {
            "colorbar": {
             "outlinewidth": 0,
             "ticks": ""
            },
            "colorscale": [
             [
              0,
              "#0d0887"
             ],
             [
              0.1111111111111111,
              "#46039f"
             ],
             [
              0.2222222222222222,
              "#7201a8"
             ],
             [
              0.3333333333333333,
              "#9c179e"
             ],
             [
              0.4444444444444444,
              "#bd3786"
             ],
             [
              0.5555555555555556,
              "#d8576b"
             ],
             [
              0.6666666666666666,
              "#ed7953"
             ],
             [
              0.7777777777777778,
              "#fb9f3a"
             ],
             [
              0.8888888888888888,
              "#fdca26"
             ],
             [
              1,
              "#f0f921"
             ]
            ],
            "type": "histogram2dcontour"
           }
          ],
          "mesh3d": [
           {
            "colorbar": {
             "outlinewidth": 0,
             "ticks": ""
            },
            "type": "mesh3d"
           }
          ],
          "parcoords": [
           {
            "line": {
             "colorbar": {
              "outlinewidth": 0,
              "ticks": ""
             }
            },
            "type": "parcoords"
           }
          ],
          "pie": [
           {
            "automargin": true,
            "type": "pie"
           }
          ],
          "scatter": [
           {
            "marker": {
             "colorbar": {
              "outlinewidth": 0,
              "ticks": ""
             }
            },
            "type": "scatter"
           }
          ],
          "scatter3d": [
           {
            "line": {
             "colorbar": {
              "outlinewidth": 0,
              "ticks": ""
             }
            },
            "marker": {
             "colorbar": {
              "outlinewidth": 0,
              "ticks": ""
             }
            },
            "type": "scatter3d"
           }
          ],
          "scattercarpet": [
           {
            "marker": {
             "colorbar": {
              "outlinewidth": 0,
              "ticks": ""
             }
            },
            "type": "scattercarpet"
           }
          ],
          "scattergeo": [
           {
            "marker": {
             "colorbar": {
              "outlinewidth": 0,
              "ticks": ""
             }
            },
            "type": "scattergeo"
           }
          ],
          "scattergl": [
           {
            "marker": {
             "colorbar": {
              "outlinewidth": 0,
              "ticks": ""
             }
            },
            "type": "scattergl"
           }
          ],
          "scattermapbox": [
           {
            "marker": {
             "colorbar": {
              "outlinewidth": 0,
              "ticks": ""
             }
            },
            "type": "scattermapbox"
           }
          ],
          "scatterpolar": [
           {
            "marker": {
             "colorbar": {
              "outlinewidth": 0,
              "ticks": ""
             }
            },
            "type": "scatterpolar"
           }
          ],
          "scatterpolargl": [
           {
            "marker": {
             "colorbar": {
              "outlinewidth": 0,
              "ticks": ""
             }
            },
            "type": "scatterpolargl"
           }
          ],
          "scatterternary": [
           {
            "marker": {
             "colorbar": {
              "outlinewidth": 0,
              "ticks": ""
             }
            },
            "type": "scatterternary"
           }
          ],
          "surface": [
           {
            "colorbar": {
             "outlinewidth": 0,
             "ticks": ""
            },
            "colorscale": [
             [
              0,
              "#0d0887"
             ],
             [
              0.1111111111111111,
              "#46039f"
             ],
             [
              0.2222222222222222,
              "#7201a8"
             ],
             [
              0.3333333333333333,
              "#9c179e"
             ],
             [
              0.4444444444444444,
              "#bd3786"
             ],
             [
              0.5555555555555556,
              "#d8576b"
             ],
             [
              0.6666666666666666,
              "#ed7953"
             ],
             [
              0.7777777777777778,
              "#fb9f3a"
             ],
             [
              0.8888888888888888,
              "#fdca26"
             ],
             [
              1,
              "#f0f921"
             ]
            ],
            "type": "surface"
           }
          ],
          "table": [
           {
            "cells": {
             "fill": {
              "color": "#EBF0F8"
             },
             "line": {
              "color": "white"
             }
            },
            "header": {
             "fill": {
              "color": "#C8D4E3"
             },
             "line": {
              "color": "white"
             }
            },
            "type": "table"
           }
          ]
         },
         "layout": {
          "annotationdefaults": {
           "arrowcolor": "#2a3f5f",
           "arrowhead": 0,
           "arrowwidth": 1
          },
          "coloraxis": {
           "colorbar": {
            "outlinewidth": 0,
            "ticks": ""
           }
          },
          "colorscale": {
           "diverging": [
            [
             0,
             "#8e0152"
            ],
            [
             0.1,
             "#c51b7d"
            ],
            [
             0.2,
             "#de77ae"
            ],
            [
             0.3,
             "#f1b6da"
            ],
            [
             0.4,
             "#fde0ef"
            ],
            [
             0.5,
             "#f7f7f7"
            ],
            [
             0.6,
             "#e6f5d0"
            ],
            [
             0.7,
             "#b8e186"
            ],
            [
             0.8,
             "#7fbc41"
            ],
            [
             0.9,
             "#4d9221"
            ],
            [
             1,
             "#276419"
            ]
           ],
           "sequential": [
            [
             0,
             "#0d0887"
            ],
            [
             0.1111111111111111,
             "#46039f"
            ],
            [
             0.2222222222222222,
             "#7201a8"
            ],
            [
             0.3333333333333333,
             "#9c179e"
            ],
            [
             0.4444444444444444,
             "#bd3786"
            ],
            [
             0.5555555555555556,
             "#d8576b"
            ],
            [
             0.6666666666666666,
             "#ed7953"
            ],
            [
             0.7777777777777778,
             "#fb9f3a"
            ],
            [
             0.8888888888888888,
             "#fdca26"
            ],
            [
             1,
             "#f0f921"
            ]
           ],
           "sequentialminus": [
            [
             0,
             "#0d0887"
            ],
            [
             0.1111111111111111,
             "#46039f"
            ],
            [
             0.2222222222222222,
             "#7201a8"
            ],
            [
             0.3333333333333333,
             "#9c179e"
            ],
            [
             0.4444444444444444,
             "#bd3786"
            ],
            [
             0.5555555555555556,
             "#d8576b"
            ],
            [
             0.6666666666666666,
             "#ed7953"
            ],
            [
             0.7777777777777778,
             "#fb9f3a"
            ],
            [
             0.8888888888888888,
             "#fdca26"
            ],
            [
             1,
             "#f0f921"
            ]
           ]
          },
          "colorway": [
           "#636efa",
           "#EF553B",
           "#00cc96",
           "#ab63fa",
           "#FFA15A",
           "#19d3f3",
           "#FF6692",
           "#B6E880",
           "#FF97FF",
           "#FECB52"
          ],
          "font": {
           "color": "#2a3f5f"
          },
          "geo": {
           "bgcolor": "white",
           "lakecolor": "white",
           "landcolor": "#E5ECF6",
           "showlakes": true,
           "showland": true,
           "subunitcolor": "white"
          },
          "hoverlabel": {
           "align": "left"
          },
          "hovermode": "closest",
          "mapbox": {
           "style": "light"
          },
          "paper_bgcolor": "white",
          "plot_bgcolor": "#E5ECF6",
          "polar": {
           "angularaxis": {
            "gridcolor": "white",
            "linecolor": "white",
            "ticks": ""
           },
           "bgcolor": "#E5ECF6",
           "radialaxis": {
            "gridcolor": "white",
            "linecolor": "white",
            "ticks": ""
           }
          },
          "scene": {
           "xaxis": {
            "backgroundcolor": "#E5ECF6",
            "gridcolor": "white",
            "gridwidth": 2,
            "linecolor": "white",
            "showbackground": true,
            "ticks": "",
            "zerolinecolor": "white"
           },
           "yaxis": {
            "backgroundcolor": "#E5ECF6",
            "gridcolor": "white",
            "gridwidth": 2,
            "linecolor": "white",
            "showbackground": true,
            "ticks": "",
            "zerolinecolor": "white"
           },
           "zaxis": {
            "backgroundcolor": "#E5ECF6",
            "gridcolor": "white",
            "gridwidth": 2,
            "linecolor": "white",
            "showbackground": true,
            "ticks": "",
            "zerolinecolor": "white"
           }
          },
          "shapedefaults": {
           "line": {
            "color": "#2a3f5f"
           }
          },
          "ternary": {
           "aaxis": {
            "gridcolor": "white",
            "linecolor": "white",
            "ticks": ""
           },
           "baxis": {
            "gridcolor": "white",
            "linecolor": "white",
            "ticks": ""
           },
           "bgcolor": "#E5ECF6",
           "caxis": {
            "gridcolor": "white",
            "linecolor": "white",
            "ticks": ""
           }
          },
          "title": {
           "x": 0.05
          },
          "xaxis": {
           "automargin": true,
           "gridcolor": "white",
           "linecolor": "white",
           "ticks": "",
           "title": {
            "standoff": 15
           },
           "zerolinecolor": "white",
           "zerolinewidth": 2
          },
          "yaxis": {
           "automargin": true,
           "gridcolor": "white",
           "linecolor": "white",
           "ticks": "",
           "title": {
            "standoff": 15
           },
           "zerolinecolor": "white",
           "zerolinewidth": 2
          }
         }
        }
       }
      },
      "text/html": [
       "<div>\n",
       "        \n",
       "        \n",
       "            <div id=\"c09ea45d-2b17-4f3f-9f14-45666e313580\" class=\"plotly-graph-div\" style=\"height:525px; width:100%;\"></div>\n",
       "            <script type=\"text/javascript\">\n",
       "                require([\"plotly\"], function(Plotly) {\n",
       "                    window.PLOTLYENV=window.PLOTLYENV || {};\n",
       "                    \n",
       "                if (document.getElementById(\"c09ea45d-2b17-4f3f-9f14-45666e313580\")) {\n",
       "                    Plotly.newPlot(\n",
       "                        'c09ea45d-2b17-4f3f-9f14-45666e313580',\n",
       "                        [{\"name\": \"EC\", \"type\": \"scatter\", \"x\": [\"05-03-2020\", \"07-03-2020\", \"08-03-2020\", \"09-03-2020\", \"11-03-2020\", \"12-03-2020\", \"13-03-2020\", \"14-03-2020\", \"15-03-2020\", \"16-03-2020\", \"17-03-2020\", \"18-03-2020\", \"19-03-2020\", \"20-03-2020\", \"21-03-2020\", \"22-03-2020\", \"23-03-2020\", \"24-03-2020\", \"25-03-2020\", \"26-03-2020\", \"28-03-2020\", \"29-03-2020\", \"30-03-2020\", \"31-03-2020\", \"01-04-2020\", \"02-04-2020\", \"03-04-2020\", \"04-04-2020\", \"05-04-2020\", \"06-04-2020\", \"08-04-2020\", \"09-04-2020\", \"10-04-2020\", \"11-04-2020\", \"12-04-2020\", \"13-04-2020\", \"14-04-2020\", \"15-04-2020\", \"16-04-2020\", \"17-04-2020\", \"18-04-2020\", \"19-04-2020\", \"20-04-2020\", \"21-04-2020\"], \"y\": [0.0, 0.0, 0.0, 0.0, 0.0, 0.0, 0.0, 0.0, 0.0, 0.0, 0.0, 0.0, 0.0, 0.0, 1.0, 2.0, 2.0, 2.0, 2.0, 5.0, 10.0, 12.0, 12.0, 12.0, 15.0, 17.0, 21.0, 25.0, 31.0, 32.0, 45.0, 61.0, 68.0, 69.0, 88.0, 104.0, 174.0, 199.0, 220.0, 246.0, 270.0, 293.0, 310.0, 345.0]}, {\"name\": \"WC\", \"type\": \"scatter\", \"x\": [\"05-03-2020\", \"07-03-2020\", \"08-03-2020\", \"09-03-2020\", \"11-03-2020\", \"12-03-2020\", \"13-03-2020\", \"14-03-2020\", \"15-03-2020\", \"16-03-2020\", \"17-03-2020\", \"18-03-2020\", \"19-03-2020\", \"20-03-2020\", \"21-03-2020\", \"22-03-2020\", \"23-03-2020\", \"24-03-2020\", \"25-03-2020\", \"26-03-2020\", \"28-03-2020\", \"29-03-2020\", \"30-03-2020\", \"31-03-2020\", \"01-04-2020\", \"02-04-2020\", \"03-04-2020\", \"04-04-2020\", \"05-04-2020\", \"06-04-2020\", \"08-04-2020\", \"09-04-2020\", \"10-04-2020\", \"11-04-2020\", \"12-04-2020\", \"13-04-2020\", \"14-04-2020\", \"15-04-2020\", \"16-04-2020\", \"17-04-2020\", \"18-04-2020\", \"19-04-2020\", \"20-04-2020\", \"21-04-2020\"], \"y\": [0.0, 0.0, 0.0, 0.0, 1.0, 1.0, 3.0, 9.0, 14.0, 16.0, 21.0, 31.0, 46.0, 57.0, 75.0, 89.0, 100.0, 113.0, 183.0, 229.0, 271.0, 310.0, 324.0, 325.0, 326.0, 353.0, 374.0, 433.0, 454.0, 462.0, 495.0, 515.0, 541.0, 546.0, 587.0, 617.0, 643.0, 657.0, 675.0, 717.0, 836.0, 868.0, 940.0, 1010.0]}, {\"name\": \"FS\", \"type\": \"scatter\", \"x\": [\"05-03-2020\", \"07-03-2020\", \"08-03-2020\", \"09-03-2020\", \"11-03-2020\", \"12-03-2020\", \"13-03-2020\", \"14-03-2020\", \"15-03-2020\", \"16-03-2020\", \"17-03-2020\", \"18-03-2020\", \"19-03-2020\", \"20-03-2020\", \"21-03-2020\", \"22-03-2020\", \"23-03-2020\", \"24-03-2020\", \"25-03-2020\", \"26-03-2020\", \"28-03-2020\", \"29-03-2020\", \"30-03-2020\", \"31-03-2020\", \"01-04-2020\", \"02-04-2020\", \"03-04-2020\", \"04-04-2020\", \"05-04-2020\", \"06-04-2020\", \"08-04-2020\", \"09-04-2020\", \"10-04-2020\", \"11-04-2020\", \"12-04-2020\", \"13-04-2020\", \"14-04-2020\", \"15-04-2020\", \"16-04-2020\", \"17-04-2020\", \"18-04-2020\", \"19-04-2020\", \"20-04-2020\", \"21-04-2020\"], \"y\": [0.0, 0.0, 0.0, 0.0, 0.0, 0.0, 0.0, 0.0, 0.0, 0.0, 0.0, 0.0, 0.0, 7.0, 7.0, 9.0, 13.0, 18.0, 30.0, 49.0, 68.0, 72.0, 72.0, 74.0, 76.0, 84.0, 84.0, 85.0, 87.0, 89.0, 88.0, 93.0, 94.0, 94.0, 96.0, 96.0, 98.0, 97.0, 98.0, 100.0, 100.0, 100.0, 105.0, 106.0]}, {\"name\": \"GP\", \"type\": \"scatter\", \"x\": [\"05-03-2020\", \"07-03-2020\", \"08-03-2020\", \"09-03-2020\", \"11-03-2020\", \"12-03-2020\", \"13-03-2020\", \"14-03-2020\", \"15-03-2020\", \"16-03-2020\", \"17-03-2020\", \"18-03-2020\", \"19-03-2020\", \"20-03-2020\", \"21-03-2020\", \"22-03-2020\", \"23-03-2020\", \"24-03-2020\", \"25-03-2020\", \"26-03-2020\", \"28-03-2020\", \"29-03-2020\", \"30-03-2020\", \"31-03-2020\", \"01-04-2020\", \"02-04-2020\", \"03-04-2020\", \"04-04-2020\", \"05-04-2020\", \"06-04-2020\", \"08-04-2020\", \"09-04-2020\", \"10-04-2020\", \"11-04-2020\", \"12-04-2020\", \"13-04-2020\", \"14-04-2020\", \"15-04-2020\", \"16-04-2020\", \"17-04-2020\", \"18-04-2020\", \"19-04-2020\", \"20-04-2020\", \"21-04-2020\"], \"y\": [0.0, 1.0, 1.0, 1.0, 5.0, 6.0, 10.0, 17.0, 24.0, 31.0, 45.0, 61.0, 76.0, 109.0, 125.0, 132.0, 207.0, 302.0, 319.0, 409.0, 533.0, 584.0, 618.0, 633.0, 645.0, 663.0, 672.0, 693.0, 704.0, 713.0, 782.0, 795.0, 801.0, 813.0, 865.0, 890.0, 909.0, 930.0, 969.0, 1018.0, 1101.0, 1148.0, 1170.0, 1199.0]}, {\"name\": \"KZN\", \"type\": \"scatter\", \"x\": [\"05-03-2020\", \"07-03-2020\", \"08-03-2020\", \"09-03-2020\", \"11-03-2020\", \"12-03-2020\", \"13-03-2020\", \"14-03-2020\", \"15-03-2020\", \"16-03-2020\", \"17-03-2020\", \"18-03-2020\", \"19-03-2020\", \"20-03-2020\", \"21-03-2020\", \"22-03-2020\", \"23-03-2020\", \"24-03-2020\", \"25-03-2020\", \"26-03-2020\", \"28-03-2020\", \"29-03-2020\", \"30-03-2020\", \"31-03-2020\", \"01-04-2020\", \"02-04-2020\", \"03-04-2020\", \"04-04-2020\", \"05-04-2020\", \"06-04-2020\", \"08-04-2020\", \"09-04-2020\", \"10-04-2020\", \"11-04-2020\", \"12-04-2020\", \"13-04-2020\", \"14-04-2020\", \"15-04-2020\", \"16-04-2020\", \"17-04-2020\", \"18-04-2020\", \"19-04-2020\", \"20-04-2020\", \"21-04-2020\"], \"y\": [1.0, 1.0, 2.0, 6.0, 7.0, 8.0, 10.0, 11.0, 12.0, 12.0, 16.0, 19.0, 22.0, 23.0, 26.0, 35.0, 60.0, 80.0, 91.0, 134.0, 156.0, 167.0, 171.0, 179.0, 186.0, 206.0, 215.0, 232.0, 246.0, 257.0, 354.0, 387.0, 412.0, 418.0, 443.0, 465.0, 489.0, 519.0, 539.0, 591.0, 604.0, 617.0, 639.0, 671.0]}, {\"name\": \"NW\", \"type\": \"scatter\", \"x\": [\"05-03-2020\", \"07-03-2020\", \"08-03-2020\", \"09-03-2020\", \"11-03-2020\", \"12-03-2020\", \"13-03-2020\", \"14-03-2020\", \"15-03-2020\", \"16-03-2020\", \"17-03-2020\", \"18-03-2020\", \"19-03-2020\", \"20-03-2020\", \"21-03-2020\", \"22-03-2020\", \"23-03-2020\", \"24-03-2020\", \"25-03-2020\", \"26-03-2020\", \"28-03-2020\", \"29-03-2020\", \"30-03-2020\", \"31-03-2020\", \"01-04-2020\", \"02-04-2020\", \"03-04-2020\", \"04-04-2020\", \"05-04-2020\", \"06-04-2020\", \"08-04-2020\", \"09-04-2020\", \"10-04-2020\", \"11-04-2020\", \"12-04-2020\", \"13-04-2020\", \"14-04-2020\", \"15-04-2020\", \"16-04-2020\", \"17-04-2020\", \"18-04-2020\", \"19-04-2020\", \"20-04-2020\", \"21-04-2020\"], \"y\": [0.0, 0.0, 0.0, 0.0, 0.0, 0.0, 0.0, 0.0, 0.0, 0.0, 0.0, 0.0, 0.0, 0.0, 0.0, 0.0, 4.0, 5.0, 5.0, 5.0, 6.0, 6.0, 8.0, 8.0, 9.0, 9.0, 9.0, 11.0, 11.0, 11.0, 15.0, 15.0, 18.0, 19.0, 19.0, 22.0, 22.0, 23.0, 24.0, 24.0, 24.0, 24.0, 25.0, 24.0]}, {\"name\": \"LP\", \"type\": \"scatter\", \"x\": [\"05-03-2020\", \"07-03-2020\", \"08-03-2020\", \"09-03-2020\", \"11-03-2020\", \"12-03-2020\", \"13-03-2020\", \"14-03-2020\", \"15-03-2020\", \"16-03-2020\", \"17-03-2020\", \"18-03-2020\", \"19-03-2020\", \"20-03-2020\", \"21-03-2020\", \"22-03-2020\", \"23-03-2020\", \"24-03-2020\", \"25-03-2020\", \"26-03-2020\", \"28-03-2020\", \"29-03-2020\", \"30-03-2020\", \"31-03-2020\", \"01-04-2020\", \"02-04-2020\", \"03-04-2020\", \"04-04-2020\", \"05-04-2020\", \"06-04-2020\", \"08-04-2020\", \"09-04-2020\", \"10-04-2020\", \"11-04-2020\", \"12-04-2020\", \"13-04-2020\", \"14-04-2020\", \"15-04-2020\", \"16-04-2020\", \"17-04-2020\", \"18-04-2020\", \"19-04-2020\", \"20-04-2020\", \"21-04-2020\"], \"y\": [0.0, 0.0, 0.0, 0.0, 0.0, 0.0, 0.0, 0.0, 0.0, 1.0, 1.0, 1.0, 1.0, 1.0, 1.0, 2.0, 4.0, 4.0, 4.0, 6.0, 11.0, 12.0, 11.0, 14.0, 14.0, 16.0, 16.0, 18.0, 19.0, 19.0, 21.0, 22.0, 24.0, 23.0, 23.0, 23.0, 24.0, 25.0, 26.0, 26.0, 26.0, 27.0, 27.0, 27.0]}, {\"name\": \"MP\", \"type\": \"scatter\", \"x\": [\"05-03-2020\", \"07-03-2020\", \"08-03-2020\", \"09-03-2020\", \"11-03-2020\", \"12-03-2020\", \"13-03-2020\", \"14-03-2020\", \"15-03-2020\", \"16-03-2020\", \"17-03-2020\", \"18-03-2020\", \"19-03-2020\", \"20-03-2020\", \"21-03-2020\", \"22-03-2020\", \"23-03-2020\", \"24-03-2020\", \"25-03-2020\", \"26-03-2020\", \"28-03-2020\", \"29-03-2020\", \"30-03-2020\", \"31-03-2020\", \"01-04-2020\", \"02-04-2020\", \"03-04-2020\", \"04-04-2020\", \"05-04-2020\", \"06-04-2020\", \"08-04-2020\", \"09-04-2020\", \"10-04-2020\", \"11-04-2020\", \"12-04-2020\", \"13-04-2020\", \"14-04-2020\", \"15-04-2020\", \"16-04-2020\", \"17-04-2020\", \"18-04-2020\", \"19-04-2020\", \"20-04-2020\", \"21-04-2020\"], \"y\": [0.0, 0.0, 0.0, 0.0, 0.0, 1.0, 1.0, 1.0, 1.0, 2.0, 2.0, 4.0, 5.0, 5.0, 5.0, 5.0, 9.0, 9.0, 8.0, 9.0, 10.0, 11.0, 11.0, 12.0, 12.0, 13.0, 13.0, 18.0, 18.0, 18.0, 21.0, 20.0, 20.0, 20.0, 21.0, 22.0, 22.0, 22.0, 22.0, 23.0, 25.0, 23.0, 23.0, 24.0]}, {\"name\": \"NC\", \"type\": \"scatter\", \"x\": [\"05-03-2020\", \"07-03-2020\", \"08-03-2020\", \"09-03-2020\", \"11-03-2020\", \"12-03-2020\", \"13-03-2020\", \"14-03-2020\", \"15-03-2020\", \"16-03-2020\", \"17-03-2020\", \"18-03-2020\", \"19-03-2020\", \"20-03-2020\", \"21-03-2020\", \"22-03-2020\", \"23-03-2020\", \"24-03-2020\", \"25-03-2020\", \"26-03-2020\", \"28-03-2020\", \"29-03-2020\", \"30-03-2020\", \"31-03-2020\", \"01-04-2020\", \"02-04-2020\", \"03-04-2020\", \"04-04-2020\", \"05-04-2020\", \"06-04-2020\", \"08-04-2020\", \"09-04-2020\", \"10-04-2020\", \"11-04-2020\", \"12-04-2020\", \"13-04-2020\", \"14-04-2020\", \"15-04-2020\", \"16-04-2020\", \"17-04-2020\", \"18-04-2020\", \"19-04-2020\", \"20-04-2020\", \"21-04-2020\"], \"y\": [0.0, 0.0, 0.0, 0.0, 0.0, 0.0, 0.0, 0.0, 0.0, 0.0, 0.0, 0.0, 0.0, 0.0, 0.0, 0.0, 2.0, 2.0, 2.0, 2.0, 5.0, 6.0, 3.0, 6.0, 7.0, 7.0, 7.0, 7.0, 8.0, 8.0, 13.0, 15.0, 15.0, 16.0, 16.0, 16.0, 16.0, 16.0, 16.0, 16.0, 16.0, 16.0, 18.0, 16.0]}, {\"name\": \"Unlocated\", \"type\": \"scatter\", \"x\": [\"05-03-2020\", \"07-03-2020\", \"08-03-2020\", \"09-03-2020\", \"11-03-2020\", \"12-03-2020\", \"13-03-2020\", \"14-03-2020\", \"15-03-2020\", \"16-03-2020\", \"17-03-2020\", \"18-03-2020\", \"19-03-2020\", \"20-03-2020\", \"21-03-2020\", \"22-03-2020\", \"23-03-2020\", \"24-03-2020\", \"25-03-2020\", \"26-03-2020\", \"28-03-2020\", \"29-03-2020\", \"30-03-2020\", \"31-03-2020\", \"01-04-2020\", \"02-04-2020\", \"03-04-2020\", \"04-04-2020\", \"05-04-2020\", \"06-04-2020\", \"08-04-2020\", \"09-04-2020\", \"10-04-2020\", \"11-04-2020\", \"12-04-2020\", \"13-04-2020\", \"14-04-2020\", \"15-04-2020\", \"16-04-2020\", \"17-04-2020\", \"18-04-2020\", \"19-04-2020\", \"20-04-2020\", \"21-04-2020\"], \"y\": [0.0, 0.0, 0.0, 0.0, 0.0, 0.0, 0.0, 0.0, 0.0, 0.0, 0.0, 0.0, 0.0, 0.0, 0.0, 0.0, 1.0, 19.0, 65.0, 79.0, 117.0, 100.0, 96.0, 90.0, 90.0, 94.0, 94.0, 63.0, 77.0, 77.0, 11.0, 11.0, 10.0, 10.0, 15.0, 17.0, 18.0, 18.0, 16.0, 22.0, 32.0, 42.0, 43.0, 43.0]}, {\"name\": \"Total Confirmed in SA\", \"type\": \"scatter\", \"x\": [\"05-03-2020\", \"07-03-2020\", \"08-03-2020\", \"09-03-2020\", \"11-03-2020\", \"12-03-2020\", \"13-03-2020\", \"14-03-2020\", \"15-03-2020\", \"16-03-2020\", \"17-03-2020\", \"18-03-2020\", \"19-03-2020\", \"20-03-2020\", \"21-03-2020\", \"22-03-2020\", \"23-03-2020\", \"24-03-2020\", \"25-03-2020\", \"26-03-2020\", \"28-03-2020\", \"29-03-2020\", \"30-03-2020\", \"31-03-2020\", \"01-04-2020\", \"02-04-2020\", \"03-04-2020\", \"04-04-2020\", \"05-04-2020\", \"06-04-2020\", \"08-04-2020\", \"09-04-2020\", \"10-04-2020\", \"11-04-2020\", \"12-04-2020\", \"13-04-2020\", \"14-04-2020\", \"15-04-2020\", \"16-04-2020\", \"17-04-2020\", \"18-04-2020\", \"19-04-2020\", \"20-04-2020\", \"21-04-2020\"], \"y\": [1, 2, 3, 7, 13, 16, 24, 38, 51, 62, 85, 116, 150, 202, 240, 274, 402, 554, 709, 927, 1187, 1280, 1326, 1353, 1380, 1462, 1505, 1585, 1655, 1686, 1845, 1934, 2003, 2028, 2173, 2272, 2415, 2506, 2605, 2783, 3034, 3158, 3300, 3465]}],\n",
       "                        {\"hovermode\": \"x\", \"template\": {\"data\": {\"bar\": [{\"error_x\": {\"color\": \"#2a3f5f\"}, \"error_y\": {\"color\": \"#2a3f5f\"}, \"marker\": {\"line\": {\"color\": \"#E5ECF6\", \"width\": 0.5}}, \"type\": \"bar\"}], \"barpolar\": [{\"marker\": {\"line\": {\"color\": \"#E5ECF6\", \"width\": 0.5}}, \"type\": \"barpolar\"}], \"carpet\": [{\"aaxis\": {\"endlinecolor\": \"#2a3f5f\", \"gridcolor\": \"white\", \"linecolor\": \"white\", \"minorgridcolor\": \"white\", \"startlinecolor\": \"#2a3f5f\"}, \"baxis\": {\"endlinecolor\": \"#2a3f5f\", \"gridcolor\": \"white\", \"linecolor\": \"white\", \"minorgridcolor\": \"white\", \"startlinecolor\": \"#2a3f5f\"}, \"type\": \"carpet\"}], \"choropleth\": [{\"colorbar\": {\"outlinewidth\": 0, \"ticks\": \"\"}, \"type\": \"choropleth\"}], \"contour\": [{\"colorbar\": {\"outlinewidth\": 0, \"ticks\": \"\"}, \"colorscale\": [[0.0, \"#0d0887\"], [0.1111111111111111, \"#46039f\"], [0.2222222222222222, \"#7201a8\"], [0.3333333333333333, \"#9c179e\"], [0.4444444444444444, \"#bd3786\"], [0.5555555555555556, \"#d8576b\"], [0.6666666666666666, \"#ed7953\"], [0.7777777777777778, \"#fb9f3a\"], [0.8888888888888888, \"#fdca26\"], [1.0, \"#f0f921\"]], \"type\": \"contour\"}], \"contourcarpet\": [{\"colorbar\": {\"outlinewidth\": 0, \"ticks\": \"\"}, \"type\": \"contourcarpet\"}], \"heatmap\": [{\"colorbar\": {\"outlinewidth\": 0, \"ticks\": \"\"}, \"colorscale\": [[0.0, \"#0d0887\"], [0.1111111111111111, \"#46039f\"], [0.2222222222222222, \"#7201a8\"], [0.3333333333333333, \"#9c179e\"], [0.4444444444444444, \"#bd3786\"], [0.5555555555555556, \"#d8576b\"], [0.6666666666666666, \"#ed7953\"], [0.7777777777777778, \"#fb9f3a\"], [0.8888888888888888, \"#fdca26\"], [1.0, \"#f0f921\"]], \"type\": \"heatmap\"}], \"heatmapgl\": [{\"colorbar\": {\"outlinewidth\": 0, \"ticks\": \"\"}, \"colorscale\": [[0.0, \"#0d0887\"], [0.1111111111111111, \"#46039f\"], [0.2222222222222222, \"#7201a8\"], [0.3333333333333333, \"#9c179e\"], [0.4444444444444444, \"#bd3786\"], [0.5555555555555556, \"#d8576b\"], [0.6666666666666666, \"#ed7953\"], [0.7777777777777778, \"#fb9f3a\"], [0.8888888888888888, \"#fdca26\"], [1.0, \"#f0f921\"]], \"type\": \"heatmapgl\"}], \"histogram\": [{\"marker\": {\"colorbar\": {\"outlinewidth\": 0, \"ticks\": \"\"}}, \"type\": \"histogram\"}], \"histogram2d\": [{\"colorbar\": {\"outlinewidth\": 0, \"ticks\": \"\"}, \"colorscale\": [[0.0, \"#0d0887\"], [0.1111111111111111, \"#46039f\"], [0.2222222222222222, \"#7201a8\"], [0.3333333333333333, \"#9c179e\"], [0.4444444444444444, \"#bd3786\"], [0.5555555555555556, \"#d8576b\"], [0.6666666666666666, \"#ed7953\"], [0.7777777777777778, \"#fb9f3a\"], [0.8888888888888888, \"#fdca26\"], [1.0, \"#f0f921\"]], \"type\": \"histogram2d\"}], \"histogram2dcontour\": [{\"colorbar\": {\"outlinewidth\": 0, \"ticks\": \"\"}, \"colorscale\": [[0.0, \"#0d0887\"], [0.1111111111111111, \"#46039f\"], [0.2222222222222222, \"#7201a8\"], [0.3333333333333333, \"#9c179e\"], [0.4444444444444444, \"#bd3786\"], [0.5555555555555556, \"#d8576b\"], [0.6666666666666666, \"#ed7953\"], [0.7777777777777778, \"#fb9f3a\"], [0.8888888888888888, \"#fdca26\"], [1.0, \"#f0f921\"]], \"type\": \"histogram2dcontour\"}], \"mesh3d\": [{\"colorbar\": {\"outlinewidth\": 0, \"ticks\": \"\"}, \"type\": \"mesh3d\"}], \"parcoords\": [{\"line\": {\"colorbar\": {\"outlinewidth\": 0, \"ticks\": \"\"}}, \"type\": \"parcoords\"}], \"pie\": [{\"automargin\": true, \"type\": \"pie\"}], \"scatter\": [{\"marker\": {\"colorbar\": {\"outlinewidth\": 0, \"ticks\": \"\"}}, \"type\": \"scatter\"}], \"scatter3d\": [{\"line\": {\"colorbar\": {\"outlinewidth\": 0, \"ticks\": \"\"}}, \"marker\": {\"colorbar\": {\"outlinewidth\": 0, \"ticks\": \"\"}}, \"type\": \"scatter3d\"}], \"scattercarpet\": [{\"marker\": {\"colorbar\": {\"outlinewidth\": 0, \"ticks\": \"\"}}, \"type\": \"scattercarpet\"}], \"scattergeo\": [{\"marker\": {\"colorbar\": {\"outlinewidth\": 0, \"ticks\": \"\"}}, \"type\": \"scattergeo\"}], \"scattergl\": [{\"marker\": {\"colorbar\": {\"outlinewidth\": 0, \"ticks\": \"\"}}, \"type\": \"scattergl\"}], \"scattermapbox\": [{\"marker\": {\"colorbar\": {\"outlinewidth\": 0, \"ticks\": \"\"}}, \"type\": \"scattermapbox\"}], \"scatterpolar\": [{\"marker\": {\"colorbar\": {\"outlinewidth\": 0, \"ticks\": \"\"}}, \"type\": \"scatterpolar\"}], \"scatterpolargl\": [{\"marker\": {\"colorbar\": {\"outlinewidth\": 0, \"ticks\": \"\"}}, \"type\": \"scatterpolargl\"}], \"scatterternary\": [{\"marker\": {\"colorbar\": {\"outlinewidth\": 0, \"ticks\": \"\"}}, \"type\": \"scatterternary\"}], \"surface\": [{\"colorbar\": {\"outlinewidth\": 0, \"ticks\": \"\"}, \"colorscale\": [[0.0, \"#0d0887\"], [0.1111111111111111, \"#46039f\"], [0.2222222222222222, \"#7201a8\"], [0.3333333333333333, \"#9c179e\"], [0.4444444444444444, \"#bd3786\"], [0.5555555555555556, \"#d8576b\"], [0.6666666666666666, \"#ed7953\"], [0.7777777777777778, \"#fb9f3a\"], [0.8888888888888888, \"#fdca26\"], [1.0, \"#f0f921\"]], \"type\": \"surface\"}], \"table\": [{\"cells\": {\"fill\": {\"color\": \"#EBF0F8\"}, \"line\": {\"color\": \"white\"}}, \"header\": {\"fill\": {\"color\": \"#C8D4E3\"}, \"line\": {\"color\": \"white\"}}, \"type\": \"table\"}]}, \"layout\": {\"annotationdefaults\": {\"arrowcolor\": \"#2a3f5f\", \"arrowhead\": 0, \"arrowwidth\": 1}, \"coloraxis\": {\"colorbar\": {\"outlinewidth\": 0, \"ticks\": \"\"}}, \"colorscale\": {\"diverging\": [[0, \"#8e0152\"], [0.1, \"#c51b7d\"], [0.2, \"#de77ae\"], [0.3, \"#f1b6da\"], [0.4, \"#fde0ef\"], [0.5, \"#f7f7f7\"], [0.6, \"#e6f5d0\"], [0.7, \"#b8e186\"], [0.8, \"#7fbc41\"], [0.9, \"#4d9221\"], [1, \"#276419\"]], \"sequential\": [[0.0, \"#0d0887\"], [0.1111111111111111, \"#46039f\"], [0.2222222222222222, \"#7201a8\"], [0.3333333333333333, \"#9c179e\"], [0.4444444444444444, \"#bd3786\"], [0.5555555555555556, \"#d8576b\"], [0.6666666666666666, \"#ed7953\"], [0.7777777777777778, \"#fb9f3a\"], [0.8888888888888888, \"#fdca26\"], [1.0, \"#f0f921\"]], \"sequentialminus\": [[0.0, \"#0d0887\"], [0.1111111111111111, \"#46039f\"], [0.2222222222222222, \"#7201a8\"], [0.3333333333333333, \"#9c179e\"], [0.4444444444444444, \"#bd3786\"], [0.5555555555555556, \"#d8576b\"], [0.6666666666666666, \"#ed7953\"], [0.7777777777777778, \"#fb9f3a\"], [0.8888888888888888, \"#fdca26\"], [1.0, \"#f0f921\"]]}, \"colorway\": [\"#636efa\", \"#EF553B\", \"#00cc96\", \"#ab63fa\", \"#FFA15A\", \"#19d3f3\", \"#FF6692\", \"#B6E880\", \"#FF97FF\", \"#FECB52\"], \"font\": {\"color\": \"#2a3f5f\"}, \"geo\": {\"bgcolor\": \"white\", \"lakecolor\": \"white\", \"landcolor\": \"#E5ECF6\", \"showlakes\": true, \"showland\": true, \"subunitcolor\": \"white\"}, \"hoverlabel\": {\"align\": \"left\"}, \"hovermode\": \"closest\", \"mapbox\": {\"style\": \"light\"}, \"paper_bgcolor\": \"white\", \"plot_bgcolor\": \"#E5ECF6\", \"polar\": {\"angularaxis\": {\"gridcolor\": \"white\", \"linecolor\": \"white\", \"ticks\": \"\"}, \"bgcolor\": \"#E5ECF6\", \"radialaxis\": {\"gridcolor\": \"white\", \"linecolor\": \"white\", \"ticks\": \"\"}}, \"scene\": {\"xaxis\": {\"backgroundcolor\": \"#E5ECF6\", \"gridcolor\": \"white\", \"gridwidth\": 2, \"linecolor\": \"white\", \"showbackground\": true, \"ticks\": \"\", \"zerolinecolor\": \"white\"}, \"yaxis\": {\"backgroundcolor\": \"#E5ECF6\", \"gridcolor\": \"white\", \"gridwidth\": 2, \"linecolor\": \"white\", \"showbackground\": true, \"ticks\": \"\", \"zerolinecolor\": \"white\"}, \"zaxis\": {\"backgroundcolor\": \"#E5ECF6\", \"gridcolor\": \"white\", \"gridwidth\": 2, \"linecolor\": \"white\", \"showbackground\": true, \"ticks\": \"\", \"zerolinecolor\": \"white\"}}, \"shapedefaults\": {\"line\": {\"color\": \"#2a3f5f\"}}, \"ternary\": {\"aaxis\": {\"gridcolor\": \"white\", \"linecolor\": \"white\", \"ticks\": \"\"}, \"baxis\": {\"gridcolor\": \"white\", \"linecolor\": \"white\", \"ticks\": \"\"}, \"bgcolor\": \"#E5ECF6\", \"caxis\": {\"gridcolor\": \"white\", \"linecolor\": \"white\", \"ticks\": \"\"}}, \"title\": {\"x\": 0.05}, \"xaxis\": {\"automargin\": true, \"gridcolor\": \"white\", \"linecolor\": \"white\", \"ticks\": \"\", \"title\": {\"standoff\": 15}, \"zerolinecolor\": \"white\", \"zerolinewidth\": 2}, \"yaxis\": {\"automargin\": true, \"gridcolor\": \"white\", \"linecolor\": \"white\", \"ticks\": \"\", \"title\": {\"standoff\": 15}, \"zerolinecolor\": \"white\", \"zerolinewidth\": 2}}}},\n",
       "                        {\"responsive\": true}\n",
       "                    ).then(function(){\n",
       "                            \n",
       "var gd = document.getElementById('c09ea45d-2b17-4f3f-9f14-45666e313580');\n",
       "var x = new MutationObserver(function (mutations, observer) {{\n",
       "        var display = window.getComputedStyle(gd).display;\n",
       "        if (!display || display === 'none') {{\n",
       "            console.log([gd, 'removed!']);\n",
       "            Plotly.purge(gd);\n",
       "            observer.disconnect();\n",
       "        }}\n",
       "}});\n",
       "\n",
       "// Listen for the removal of the full notebook cells\n",
       "var notebookContainer = gd.closest('#notebook-container');\n",
       "if (notebookContainer) {{\n",
       "    x.observe(notebookContainer, {childList: true});\n",
       "}}\n",
       "\n",
       "// Listen for the clearing of the current output cell\n",
       "var outputEl = gd.closest('.output');\n",
       "if (outputEl) {{\n",
       "    x.observe(outputEl, {childList: true});\n",
       "}}\n",
       "\n",
       "                        })\n",
       "                };\n",
       "                });\n",
       "            </script>\n",
       "        </div>"
      ]
     },
     "metadata": {},
     "output_type": "display_data"
    }
   ],
   "source": [
    "#Commulative cases by province\n",
    "\n",
    "\n",
    "fig_comm = go.Figure()\n",
    "fig_comm.add_trace(\n",
    "    go.Scatter(\n",
    "        y=df_day['EC'],\n",
    "        x=df_day.date,\n",
    "        name= 'EC'\n",
    "    ))\n",
    "fig_comm.add_trace(\n",
    "    go.Scatter(\n",
    "        y=df_day['WC'],\n",
    "        x=df_day.date,\n",
    "        name= 'WC'\n",
    "    ))\n",
    "fig_comm.add_trace(\n",
    "    go.Scatter(\n",
    "        y=df_day['FS'],\n",
    "        x=df_day.date,\n",
    "        name= 'FS'\n",
    "    ))\n",
    "fig_comm.add_trace(\n",
    "    go.Scatter(\n",
    "        y=df_day['GP'],\n",
    "        x=df_day.date,\n",
    "        name= 'GP'\n",
    "    ))\n",
    "fig_comm.add_trace(\n",
    "    go.Scatter(\n",
    "        y=df_day['KZN'],\n",
    "        x=df_day.date,\n",
    "        name= \"KZN\"\n",
    "    ))\n",
    "fig_comm.add_trace(\n",
    "    go.Scatter(\n",
    "        y=df_day['NW'],\n",
    "        x=df_day.date,\n",
    "        name= 'NW'\n",
    "    ))\n",
    "fig_comm.add_trace(\n",
    "    go.Scatter(\n",
    "        y=df_day['LP'],\n",
    "        x=df_day.date,\n",
    "        name= 'LP'\n",
    "    ))\n",
    "fig_comm.add_trace(\n",
    "    go.Scatter(\n",
    "        y=df_day['MP'],\n",
    "        x=df_day.date,\n",
    "        name= 'MP'\n",
    "    ))\n",
    "fig_comm.add_trace(\n",
    "    go.Scatter(\n",
    "        y=df_day['NC'],\n",
    "        x=df_day.date,\n",
    "        name= 'NC'\n",
    "    ))\n",
    "fig_comm.add_trace(\n",
    "    go.Scatter(\n",
    "        y=df_day['UNKNOWN'],\n",
    "        x=df_day.date,\n",
    "        name='Unlocated'\n",
    "    ))\n",
    "fig_comm.add_trace(\n",
    "    go.Scatter(\n",
    "        y=df_day['total'],\n",
    "        x=df_day.date,\n",
    "        name='Total Confirmed in SA'\n",
    "    ))\n",
    "\n",
    "fig_comm.update_layout(hovermode='x')\n",
    "\n",
    "fig_comm.show()\n"
   ]
  },
  {
   "cell_type": "code",
   "execution_count": 363,
   "metadata": {},
   "outputs": [],
   "source": [
    "df_sa_cases = pd.read_csv('https://raw.githubusercontent.com/dsfsi/covid19za/master/data/covid19za_timeline_confirmed.csv')\n"
   ]
  },
  {
   "cell_type": "code",
   "execution_count": 364,
   "metadata": {},
   "outputs": [
    {
     "data": {
      "text/html": [
       "<div>\n",
       "<style scoped>\n",
       "    .dataframe tbody tr th:only-of-type {\n",
       "        vertical-align: middle;\n",
       "    }\n",
       "\n",
       "    .dataframe tbody tr th {\n",
       "        vertical-align: top;\n",
       "    }\n",
       "\n",
       "    .dataframe thead th {\n",
       "        text-align: right;\n",
       "    }\n",
       "</style>\n",
       "<table border=\"1\" class=\"dataframe\">\n",
       "  <thead>\n",
       "    <tr style=\"text-align: right;\">\n",
       "      <th></th>\n",
       "      <th>case_id</th>\n",
       "      <th>date</th>\n",
       "      <th>YYYYMMDD</th>\n",
       "      <th>country</th>\n",
       "      <th>province</th>\n",
       "      <th>geo_subdivision</th>\n",
       "      <th>age</th>\n",
       "      <th>gender</th>\n",
       "      <th>transmission_type</th>\n",
       "      <th>type</th>\n",
       "    </tr>\n",
       "  </thead>\n",
       "  <tbody>\n",
       "    <tr>\n",
       "      <th>0</th>\n",
       "      <td>1</td>\n",
       "      <td>05-03-2020</td>\n",
       "      <td>20200305</td>\n",
       "      <td>South Africa</td>\n",
       "      <td>KZN</td>\n",
       "      <td>ZA-KZN</td>\n",
       "      <td>38.0</td>\n",
       "      <td>male</td>\n",
       "      <td>Travelled to Italy</td>\n",
       "      <td>travel</td>\n",
       "    </tr>\n",
       "    <tr>\n",
       "      <th>1</th>\n",
       "      <td>2</td>\n",
       "      <td>07-03-2020</td>\n",
       "      <td>20200307</td>\n",
       "      <td>South Africa</td>\n",
       "      <td>GP</td>\n",
       "      <td>ZA-GP</td>\n",
       "      <td>39.0</td>\n",
       "      <td>female</td>\n",
       "      <td>Travelled to Italy</td>\n",
       "      <td>travel</td>\n",
       "    </tr>\n",
       "    <tr>\n",
       "      <th>2</th>\n",
       "      <td>3</td>\n",
       "      <td>08-03-2020</td>\n",
       "      <td>20200308</td>\n",
       "      <td>South Africa</td>\n",
       "      <td>KZN</td>\n",
       "      <td>ZA-KZN</td>\n",
       "      <td>38.0</td>\n",
       "      <td>female</td>\n",
       "      <td>Travelled to Italy</td>\n",
       "      <td>travel</td>\n",
       "    </tr>\n",
       "    <tr>\n",
       "      <th>3</th>\n",
       "      <td>4</td>\n",
       "      <td>09-03-2020</td>\n",
       "      <td>20200309</td>\n",
       "      <td>South Africa</td>\n",
       "      <td>KZN</td>\n",
       "      <td>ZA-KZN</td>\n",
       "      <td>38.0</td>\n",
       "      <td>male</td>\n",
       "      <td>Travelled to Italy</td>\n",
       "      <td>travel</td>\n",
       "    </tr>\n",
       "    <tr>\n",
       "      <th>4</th>\n",
       "      <td>5</td>\n",
       "      <td>09-03-2020</td>\n",
       "      <td>20200309</td>\n",
       "      <td>South Africa</td>\n",
       "      <td>KZN</td>\n",
       "      <td>ZA-KZN</td>\n",
       "      <td>38.0</td>\n",
       "      <td>female</td>\n",
       "      <td>Travelled to Italy</td>\n",
       "      <td>travel</td>\n",
       "    </tr>\n",
       "    <tr>\n",
       "      <th>...</th>\n",
       "      <td>...</td>\n",
       "      <td>...</td>\n",
       "      <td>...</td>\n",
       "      <td>...</td>\n",
       "      <td>...</td>\n",
       "      <td>...</td>\n",
       "      <td>...</td>\n",
       "      <td>...</td>\n",
       "      <td>...</td>\n",
       "      <td>...</td>\n",
       "    </tr>\n",
       "    <tr>\n",
       "      <th>704</th>\n",
       "      <td>705</td>\n",
       "      <td>25-03-2020</td>\n",
       "      <td>20200325</td>\n",
       "      <td>South Africa</td>\n",
       "      <td>FS</td>\n",
       "      <td>ZA-FS</td>\n",
       "      <td>NaN</td>\n",
       "      <td>not specified</td>\n",
       "      <td>NaN</td>\n",
       "      <td>pending</td>\n",
       "    </tr>\n",
       "    <tr>\n",
       "      <th>705</th>\n",
       "      <td>706</td>\n",
       "      <td>25-03-2020</td>\n",
       "      <td>20200325</td>\n",
       "      <td>South Africa</td>\n",
       "      <td>FS</td>\n",
       "      <td>ZA-FS</td>\n",
       "      <td>NaN</td>\n",
       "      <td>not specified</td>\n",
       "      <td>NaN</td>\n",
       "      <td>pending</td>\n",
       "    </tr>\n",
       "    <tr>\n",
       "      <th>706</th>\n",
       "      <td>707</td>\n",
       "      <td>25-03-2020</td>\n",
       "      <td>20200325</td>\n",
       "      <td>South Africa</td>\n",
       "      <td>FS</td>\n",
       "      <td>ZA-FS</td>\n",
       "      <td>NaN</td>\n",
       "      <td>not specified</td>\n",
       "      <td>NaN</td>\n",
       "      <td>pending</td>\n",
       "    </tr>\n",
       "    <tr>\n",
       "      <th>707</th>\n",
       "      <td>708</td>\n",
       "      <td>25-03-2020</td>\n",
       "      <td>20200325</td>\n",
       "      <td>South Africa</td>\n",
       "      <td>FS</td>\n",
       "      <td>ZA-FS</td>\n",
       "      <td>NaN</td>\n",
       "      <td>not specified</td>\n",
       "      <td>NaN</td>\n",
       "      <td>pending</td>\n",
       "    </tr>\n",
       "    <tr>\n",
       "      <th>708</th>\n",
       "      <td>709</td>\n",
       "      <td>25-03-2020</td>\n",
       "      <td>20200325</td>\n",
       "      <td>South Africa</td>\n",
       "      <td>FS</td>\n",
       "      <td>ZA-FS</td>\n",
       "      <td>NaN</td>\n",
       "      <td>not specified</td>\n",
       "      <td>NaN</td>\n",
       "      <td>pending</td>\n",
       "    </tr>\n",
       "  </tbody>\n",
       "</table>\n",
       "<p>709 rows × 10 columns</p>\n",
       "</div>"
      ],
      "text/plain": [
       "     case_id        date  YYYYMMDD       country province geo_subdivision  \\\n",
       "0          1  05-03-2020  20200305  South Africa      KZN          ZA-KZN   \n",
       "1          2  07-03-2020  20200307  South Africa       GP           ZA-GP   \n",
       "2          3  08-03-2020  20200308  South Africa      KZN          ZA-KZN   \n",
       "3          4  09-03-2020  20200309  South Africa      KZN          ZA-KZN   \n",
       "4          5  09-03-2020  20200309  South Africa      KZN          ZA-KZN   \n",
       "..       ...         ...       ...           ...      ...             ...   \n",
       "704      705  25-03-2020  20200325  South Africa       FS           ZA-FS   \n",
       "705      706  25-03-2020  20200325  South Africa       FS           ZA-FS   \n",
       "706      707  25-03-2020  20200325  South Africa       FS           ZA-FS   \n",
       "707      708  25-03-2020  20200325  South Africa       FS           ZA-FS   \n",
       "708      709  25-03-2020  20200325  South Africa       FS           ZA-FS   \n",
       "\n",
       "      age         gender   transmission_type     type  \n",
       "0    38.0           male  Travelled to Italy   travel  \n",
       "1    39.0         female  Travelled to Italy   travel  \n",
       "2    38.0         female  Travelled to Italy   travel  \n",
       "3    38.0           male  Travelled to Italy   travel  \n",
       "4    38.0         female  Travelled to Italy   travel  \n",
       "..    ...            ...                 ...      ...  \n",
       "704   NaN  not specified                 NaN  pending  \n",
       "705   NaN  not specified                 NaN  pending  \n",
       "706   NaN  not specified                 NaN  pending  \n",
       "707   NaN  not specified                 NaN  pending  \n",
       "708   NaN  not specified                 NaN  pending  \n",
       "\n",
       "[709 rows x 10 columns]"
      ]
     },
     "execution_count": 364,
     "metadata": {},
     "output_type": "execute_result"
    }
   ],
   "source": [
    "df_sa_cases"
   ]
  },
  {
   "cell_type": "code",
   "execution_count": 379,
   "metadata": {},
   "outputs": [],
   "source": [
    "df_hos = pd.read_csv(\"https://raw.githubusercontent.com/dsfsi/covid19za/master/data/health_system_za_public_hospitals.csv\",delimiter=',')\n"
   ]
  },
  {
   "cell_type": "code",
   "execution_count": 386,
   "metadata": {},
   "outputs": [
    {
     "data": {
      "text/plain": [
       "0       Eastern Cape\n",
       "11           Gauteng\n",
       "157     KwaZuluNatal\n",
       "235          Limpopo\n",
       "277       Mpumalanga\n",
       "310       Free State\n",
       "327       North West\n",
       "345    Northern Cape\n",
       "351     Western Cape\n",
       "Name: Province, dtype: object"
      ]
     },
     "execution_count": 386,
     "metadata": {},
     "output_type": "execute_result"
    }
   ],
   "source": [
    "\n",
    "df_hos"
   ]
  },
  {
   "cell_type": "code",
   "execution_count": null,
   "metadata": {},
   "outputs": [],
   "source": []
  },
  {
   "cell_type": "code",
   "execution_count": 381,
   "metadata": {},
   "outputs": [
    {
     "data": {
      "text/html": [
       "<div>\n",
       "<style scoped>\n",
       "    .dataframe tbody tr th:only-of-type {\n",
       "        vertical-align: middle;\n",
       "    }\n",
       "\n",
       "    .dataframe tbody tr th {\n",
       "        vertical-align: top;\n",
       "    }\n",
       "\n",
       "    .dataframe thead th {\n",
       "        text-align: right;\n",
       "    }\n",
       "</style>\n",
       "<table border=\"1\" class=\"dataframe\">\n",
       "  <thead>\n",
       "    <tr style=\"text-align: right;\">\n",
       "      <th></th>\n",
       "      <th>ID</th>\n",
       "      <th>Name</th>\n",
       "      <th>Long</th>\n",
       "      <th>Lat</th>\n",
       "      <th>Category</th>\n",
       "      <th>Province</th>\n",
       "      <th>district</th>\n",
       "      <th>subdistrict</th>\n",
       "      <th>district_estimated_population</th>\n",
       "      <th>service_offered_by_hospital</th>\n",
       "      <th>size_hospital</th>\n",
       "      <th>number_of_beds</th>\n",
       "      <th>number_of_practitioners</th>\n",
       "      <th>webpage</th>\n",
       "    </tr>\n",
       "  </thead>\n",
       "  <tbody>\n",
       "    <tr>\n",
       "      <th>0</th>\n",
       "      <td>183</td>\n",
       "      <td>Fort England Hospital</td>\n",
       "      <td>26.54361</td>\n",
       "      <td>-33.3156</td>\n",
       "      <td>Public Hospital</td>\n",
       "      <td>Eastern Cape</td>\n",
       "      <td>Sarah Baartman District Municipality</td>\n",
       "      <td>Makana LM</td>\n",
       "      <td>479923.0</td>\n",
       "      <td>NaN</td>\n",
       "      <td>NaN</td>\n",
       "      <td>NaN</td>\n",
       "      <td>NaN</td>\n",
       "      <td>NaN</td>\n",
       "    </tr>\n",
       "    <tr>\n",
       "      <th>1</th>\n",
       "      <td>91</td>\n",
       "      <td>Fort Beaufort Hospital</td>\n",
       "      <td>26.633571</td>\n",
       "      <td>-32.7802</td>\n",
       "      <td>Public Hospital</td>\n",
       "      <td>Eastern Cape</td>\n",
       "      <td>Amathole District Municipality</td>\n",
       "      <td>Raymond Mhlaba LM</td>\n",
       "      <td>880790.0</td>\n",
       "      <td>NaN</td>\n",
       "      <td>NaN</td>\n",
       "      <td>NaN</td>\n",
       "      <td>NaN</td>\n",
       "      <td>NaN</td>\n",
       "    </tr>\n",
       "    <tr>\n",
       "      <th>2</th>\n",
       "      <td>95</td>\n",
       "      <td>Bhisho Hospital</td>\n",
       "      <td>27.45516</td>\n",
       "      <td>-32.8277</td>\n",
       "      <td>Public Hospital</td>\n",
       "      <td>Eastern Cape</td>\n",
       "      <td>Buffalo City Metropolitan Municipality</td>\n",
       "      <td>Buffalo City SD</td>\n",
       "      <td>834997.0</td>\n",
       "      <td>NaN</td>\n",
       "      <td>NaN</td>\n",
       "      <td>NaN</td>\n",
       "      <td>NaN</td>\n",
       "      <td>NaN</td>\n",
       "    </tr>\n",
       "    <tr>\n",
       "      <th>3</th>\n",
       "      <td>99</td>\n",
       "      <td>Grey Hospital</td>\n",
       "      <td>27.39579</td>\n",
       "      <td>-32.8793</td>\n",
       "      <td>Public Hospital</td>\n",
       "      <td>Eastern Cape</td>\n",
       "      <td>Buffalo City Metropolitan Municipality</td>\n",
       "      <td>Buffalo City SD</td>\n",
       "      <td>834997.0</td>\n",
       "      <td>NaN</td>\n",
       "      <td>NaN</td>\n",
       "      <td>NaN</td>\n",
       "      <td>NaN</td>\n",
       "      <td>NaN</td>\n",
       "    </tr>\n",
       "    <tr>\n",
       "      <th>4</th>\n",
       "      <td>138</td>\n",
       "      <td>St Francis Hospital</td>\n",
       "      <td>26.69921</td>\n",
       "      <td>-30.6887</td>\n",
       "      <td>Public Hospital</td>\n",
       "      <td>Eastern Cape</td>\n",
       "      <td>Zululand District Municipality</td>\n",
       "      <td>Ulundi LM</td>\n",
       "      <td>892310.0</td>\n",
       "      <td>NaN</td>\n",
       "      <td>NaN</td>\n",
       "      <td>NaN</td>\n",
       "      <td>NaN</td>\n",
       "      <td>NaN</td>\n",
       "    </tr>\n",
       "    <tr>\n",
       "      <th>...</th>\n",
       "      <td>...</td>\n",
       "      <td>...</td>\n",
       "      <td>...</td>\n",
       "      <td>...</td>\n",
       "      <td>...</td>\n",
       "      <td>...</td>\n",
       "      <td>...</td>\n",
       "      <td>...</td>\n",
       "      <td>...</td>\n",
       "      <td>...</td>\n",
       "      <td>...</td>\n",
       "      <td>...</td>\n",
       "      <td>...</td>\n",
       "      <td>...</td>\n",
       "    </tr>\n",
       "    <tr>\n",
       "      <th>851</th>\n",
       "      <td>883</td>\n",
       "      <td>Vredenburg Hospital</td>\n",
       "      <td>17.99083</td>\n",
       "      <td>-32.9136</td>\n",
       "      <td>District Hospital</td>\n",
       "      <td>Western Cape</td>\n",
       "      <td>NaN</td>\n",
       "      <td>NaN</td>\n",
       "      <td>NaN</td>\n",
       "      <td>NaN</td>\n",
       "      <td>NaN</td>\n",
       "      <td>NaN</td>\n",
       "      <td>NaN</td>\n",
       "      <td>NaN</td>\n",
       "    </tr>\n",
       "    <tr>\n",
       "      <th>852</th>\n",
       "      <td>884</td>\n",
       "      <td>Die Wieg Hospital</td>\n",
       "      <td>0</td>\n",
       "      <td>0</td>\n",
       "      <td>Specialised Psychiatric Hospital</td>\n",
       "      <td>Western Cape</td>\n",
       "      <td>NaN</td>\n",
       "      <td>NaN</td>\n",
       "      <td>NaN</td>\n",
       "      <td>NaN</td>\n",
       "      <td>NaN</td>\n",
       "      <td>NaN</td>\n",
       "      <td>NaN</td>\n",
       "      <td>NaN</td>\n",
       "    </tr>\n",
       "    <tr>\n",
       "      <th>853</th>\n",
       "      <td>885</td>\n",
       "      <td>Malmesbury Inf Hospital</td>\n",
       "      <td>18.7175</td>\n",
       "      <td>-33.4672</td>\n",
       "      <td>Specialised TB Hospital</td>\n",
       "      <td>Western Cape</td>\n",
       "      <td>NaN</td>\n",
       "      <td>NaN</td>\n",
       "      <td>NaN</td>\n",
       "      <td>NaN</td>\n",
       "      <td>NaN</td>\n",
       "      <td>NaN</td>\n",
       "      <td>NaN</td>\n",
       "      <td>NaN</td>\n",
       "    </tr>\n",
       "    <tr>\n",
       "      <th>854</th>\n",
       "      <td>886</td>\n",
       "      <td>Sonstraal TB Hospital</td>\n",
       "      <td>18.98694</td>\n",
       "      <td>-33.7119</td>\n",
       "      <td>Specialised TB Hospital</td>\n",
       "      <td>Western Cape</td>\n",
       "      <td>NaN</td>\n",
       "      <td>NaN</td>\n",
       "      <td>NaN</td>\n",
       "      <td>NaN</td>\n",
       "      <td>NaN</td>\n",
       "      <td>NaN</td>\n",
       "      <td>NaN</td>\n",
       "      <td>NaN</td>\n",
       "    </tr>\n",
       "    <tr>\n",
       "      <th>855</th>\n",
       "      <td>702</td>\n",
       "      <td>RM Sobukwe Hospital</td>\n",
       "      <td>24.77263</td>\n",
       "      <td>-28.746</td>\n",
       "      <td>Public Hospital</td>\n",
       "      <td>Northern Cape</td>\n",
       "      <td>Frances Baard District Municipality</td>\n",
       "      <td>Sol Plaatje LM</td>\n",
       "      <td>387741.0</td>\n",
       "      <td>NaN</td>\n",
       "      <td>NaN</td>\n",
       "      <td>NaN</td>\n",
       "      <td>NaN</td>\n",
       "      <td>NaN</td>\n",
       "    </tr>\n",
       "  </tbody>\n",
       "</table>\n",
       "<p>856 rows × 14 columns</p>\n",
       "</div>"
      ],
      "text/plain": [
       "      ID                     Name       Long       Lat  \\\n",
       "0    183    Fort England Hospital   26.54361  -33.3156   \n",
       "1     91   Fort Beaufort Hospital  26.633571  -32.7802   \n",
       "2     95          Bhisho Hospital   27.45516  -32.8277   \n",
       "3     99            Grey Hospital   27.39579  -32.8793   \n",
       "4    138      St Francis Hospital   26.69921  -30.6887   \n",
       "..   ...                      ...        ...       ...   \n",
       "851  883      Vredenburg Hospital   17.99083  -32.9136   \n",
       "852  884        Die Wieg Hospital          0         0   \n",
       "853  885  Malmesbury Inf Hospital    18.7175  -33.4672   \n",
       "854  886    Sonstraal TB Hospital   18.98694  -33.7119   \n",
       "855  702      RM Sobukwe Hospital   24.77263   -28.746   \n",
       "\n",
       "                             Category       Province  \\\n",
       "0                     Public Hospital   Eastern Cape   \n",
       "1                     Public Hospital   Eastern Cape   \n",
       "2                     Public Hospital   Eastern Cape   \n",
       "3                     Public Hospital   Eastern Cape   \n",
       "4                     Public Hospital   Eastern Cape   \n",
       "..                                ...            ...   \n",
       "851                 District Hospital   Western Cape   \n",
       "852  Specialised Psychiatric Hospital   Western Cape   \n",
       "853           Specialised TB Hospital   Western Cape   \n",
       "854           Specialised TB Hospital   Western Cape   \n",
       "855                   Public Hospital  Northern Cape   \n",
       "\n",
       "                                   district        subdistrict  \\\n",
       "0      Sarah Baartman District Municipality          Makana LM   \n",
       "1            Amathole District Municipality  Raymond Mhlaba LM   \n",
       "2    Buffalo City Metropolitan Municipality    Buffalo City SD   \n",
       "3    Buffalo City Metropolitan Municipality    Buffalo City SD   \n",
       "4            Zululand District Municipality          Ulundi LM   \n",
       "..                                      ...                ...   \n",
       "851                                     NaN                NaN   \n",
       "852                                     NaN                NaN   \n",
       "853                                     NaN                NaN   \n",
       "854                                     NaN                NaN   \n",
       "855     Frances Baard District Municipality     Sol Plaatje LM   \n",
       "\n",
       "     district_estimated_population   service_offered_by_hospital  \\\n",
       "0                         479923.0                           NaN   \n",
       "1                         880790.0                           NaN   \n",
       "2                         834997.0                           NaN   \n",
       "3                         834997.0                           NaN   \n",
       "4                         892310.0                           NaN   \n",
       "..                             ...                           ...   \n",
       "851                            NaN                           NaN   \n",
       "852                            NaN                           NaN   \n",
       "853                            NaN                           NaN   \n",
       "854                            NaN                           NaN   \n",
       "855                       387741.0                           NaN   \n",
       "\n",
       "     size_hospital  number_of_beds  number_of_practitioners  webpage  \n",
       "0              NaN             NaN                      NaN      NaN  \n",
       "1              NaN             NaN                      NaN      NaN  \n",
       "2              NaN             NaN                      NaN      NaN  \n",
       "3              NaN             NaN                      NaN      NaN  \n",
       "4              NaN             NaN                      NaN      NaN  \n",
       "..             ...             ...                      ...      ...  \n",
       "851            NaN             NaN                      NaN      NaN  \n",
       "852            NaN             NaN                      NaN      NaN  \n",
       "853            NaN             NaN                      NaN      NaN  \n",
       "854            NaN             NaN                      NaN      NaN  \n",
       "855            NaN             NaN                      NaN      NaN  \n",
       "\n",
       "[856 rows x 14 columns]"
      ]
     },
     "execution_count": 381,
     "metadata": {},
     "output_type": "execute_result"
    }
   ],
   "source": [
    "df_hos.Province.fillna('Western Cape', inplace=True)\n",
    "df_hos"
   ]
  },
  {
   "cell_type": "code",
   "execution_count": null,
   "metadata": {},
   "outputs": [],
   "source": []
  },
  {
   "cell_type": "code",
   "execution_count": 375,
   "metadata": {},
   "outputs": [],
   "source": [
    "\n",
    "# import pandas as  pd\n",
    "# import seaborn as sns\n",
    "# import matplotlib.pyplot as plt\n",
    "# import numpy as np\n",
    "# import plotly.graph_objects as go\n",
    "# fig = go.Figure()\n",
    "# fig.add_trace(go.Scattergeo(\n",
    "#         lon = df_hos['Long'],\n",
    "#         lat = df_hos['Lat'],\n",
    "#         mode = 'markers',\n",
    "#         marker_color = 'green',\n",
    "#         name = 'Salaries and Wages'\n",
    "#         ))\n",
    "\n",
    "# fig.update_layout(\n",
    "#         title = 'Map to visually explore geographic distribution of mobile services coverage with respect to type of income',\n",
    "#         geo_scope='africa',\n",
    "#         geo = dict(\n",
    "#             scope='africa',\n",
    "#             showland = True,\n",
    "#             landcolor = \"rgb(250, 250, 250)\",\n",
    "#             subunitcolor = \"rgb(217, 217, 217)\",\n",
    "#             countrycolor = \"rgb(217, 217, 217)\",\n",
    "#             countrywidth = 0.5,\n",
    "#             subunitwidth = 0.5\n",
    "#         ))\n",
    "        \n",
    "     \n",
    "\n",
    "# # autosize=False,\n",
    "# #         width=1000,\n",
    "# #         height=1000,\n",
    "# #         hovermode = 'closest'\n",
    "# fig.show()"
   ]
  },
  {
   "cell_type": "code",
   "execution_count": 376,
   "metadata": {
    "scrolled": true
   },
   "outputs": [
    {
     "data": {
      "text/html": [
       "<div>\n",
       "<style scoped>\n",
       "    .dataframe tbody tr th:only-of-type {\n",
       "        vertical-align: middle;\n",
       "    }\n",
       "\n",
       "    .dataframe tbody tr th {\n",
       "        vertical-align: top;\n",
       "    }\n",
       "\n",
       "    .dataframe thead th {\n",
       "        text-align: right;\n",
       "    }\n",
       "</style>\n",
       "<table border=\"1\" class=\"dataframe\">\n",
       "  <thead>\n",
       "    <tr style=\"text-align: right;\">\n",
       "      <th></th>\n",
       "      <th>Province</th>\n",
       "      <th>Long</th>\n",
       "      <th>Lat</th>\n",
       "    </tr>\n",
       "  </thead>\n",
       "  <tbody>\n",
       "    <tr>\n",
       "      <th>0</th>\n",
       "      <td>EC</td>\n",
       "      <td>26.54361</td>\n",
       "      <td>-33.3156</td>\n",
       "    </tr>\n",
       "    <tr>\n",
       "      <th>1</th>\n",
       "      <td>EC</td>\n",
       "      <td>26.633571</td>\n",
       "      <td>-32.7802</td>\n",
       "    </tr>\n",
       "    <tr>\n",
       "      <th>2</th>\n",
       "      <td>EC</td>\n",
       "      <td>27.45516</td>\n",
       "      <td>-32.8277</td>\n",
       "    </tr>\n",
       "    <tr>\n",
       "      <th>3</th>\n",
       "      <td>EC</td>\n",
       "      <td>27.39579</td>\n",
       "      <td>-32.8793</td>\n",
       "    </tr>\n",
       "    <tr>\n",
       "      <th>4</th>\n",
       "      <td>EC</td>\n",
       "      <td>26.69921</td>\n",
       "      <td>-30.6887</td>\n",
       "    </tr>\n",
       "    <tr>\n",
       "      <th>...</th>\n",
       "      <td>...</td>\n",
       "      <td>...</td>\n",
       "      <td>...</td>\n",
       "    </tr>\n",
       "    <tr>\n",
       "      <th>851</th>\n",
       "      <td>WC</td>\n",
       "      <td>17.99083</td>\n",
       "      <td>-32.9136</td>\n",
       "    </tr>\n",
       "    <tr>\n",
       "      <th>852</th>\n",
       "      <td>WC</td>\n",
       "      <td>0</td>\n",
       "      <td>0</td>\n",
       "    </tr>\n",
       "    <tr>\n",
       "      <th>853</th>\n",
       "      <td>WC</td>\n",
       "      <td>18.7175</td>\n",
       "      <td>-33.4672</td>\n",
       "    </tr>\n",
       "    <tr>\n",
       "      <th>854</th>\n",
       "      <td>WC</td>\n",
       "      <td>18.98694</td>\n",
       "      <td>-33.7119</td>\n",
       "    </tr>\n",
       "    <tr>\n",
       "      <th>855</th>\n",
       "      <td>NC</td>\n",
       "      <td>24.77263</td>\n",
       "      <td>-28.746</td>\n",
       "    </tr>\n",
       "  </tbody>\n",
       "</table>\n",
       "<p>856 rows × 3 columns</p>\n",
       "</div>"
      ],
      "text/plain": [
       "    Province       Long       Lat\n",
       "0         EC   26.54361  -33.3156\n",
       "1         EC  26.633571  -32.7802\n",
       "2         EC   27.45516  -32.8277\n",
       "3         EC   27.39579  -32.8793\n",
       "4         EC   26.69921  -30.6887\n",
       "..       ...        ...       ...\n",
       "851       WC   17.99083  -32.9136\n",
       "852       WC          0         0\n",
       "853       WC    18.7175  -33.4672\n",
       "854       WC   18.98694  -33.7119\n",
       "855       NC   24.77263   -28.746\n",
       "\n",
       "[856 rows x 3 columns]"
      ]
     },
     "execution_count": 376,
     "metadata": {},
     "output_type": "execute_result"
    }
   ],
   "source": [
    "\n",
    "provinces = {\n",
    "    'Eastern Cape':'EC','Northern Cape': 'NC','Free State':'FS',\n",
    "    'Limpopo':'LP','North West ':'NW',\n",
    "    'KwaZuluNatal':'KZN','Gauteng':'GP','Mpumalanga':'MP' \n",
    "}\n",
    "df_hos.Province = df_hos['Province'].map(provinces)\n",
    "df_hos = df_hos.fillna('WC')\n",
    "df_hos = df_hos.loc[:,['Province','Long','Lat']]\n",
    "df_hos"
   ]
  },
  {
   "cell_type": "code",
   "execution_count": 370,
   "metadata": {},
   "outputs": [
    {
     "ename": "AttributeError",
     "evalue": "'NoneType' object has no attribute 'Province'",
     "output_type": "error",
     "traceback": [
      "\u001b[0;31m---------------------------------------------------------------------------\u001b[0m",
      "\u001b[0;31mAttributeError\u001b[0m                            Traceback (most recent call last)",
      "\u001b[0;32m<ipython-input-370-1fe745eae0fd>\u001b[0m in \u001b[0;36m<module>\u001b[0;34m\u001b[0m\n\u001b[0;32m----> 1\u001b[0;31m \u001b[0mdf_hos\u001b[0m\u001b[0;34m.\u001b[0m\u001b[0mProvince\u001b[0m\u001b[0;34m.\u001b[0m\u001b[0mvalue_counts\u001b[0m\u001b[0;34m(\u001b[0m\u001b[0;34m)\u001b[0m\u001b[0;34m\u001b[0m\u001b[0;34m\u001b[0m\u001b[0m\n\u001b[0m",
      "\u001b[0;31mAttributeError\u001b[0m: 'NoneType' object has no attribute 'Province'"
     ]
    }
   ],
   "source": [
    "df_hos.Province.value_counts()"
   ]
  },
  {
   "cell_type": "code",
   "execution_count": 385,
   "metadata": {},
   "outputs": [
    {
     "ename": "AttributeError",
     "evalue": "'Series' object has no attribute 'Province'",
     "output_type": "error",
     "traceback": [
      "\u001b[0;31m---------------------------------------------------------------------------\u001b[0m",
      "\u001b[0;31mAttributeError\u001b[0m                            Traceback (most recent call last)",
      "\u001b[0;32m<ipython-input-385-5bb6170c5af9>\u001b[0m in \u001b[0;36m<module>\u001b[0;34m\u001b[0m\n\u001b[0;32m----> 1\u001b[0;31m \u001b[0mdf_hos\u001b[0m \u001b[0;34m=\u001b[0m \u001b[0mdf_hos\u001b[0m\u001b[0;34m.\u001b[0m\u001b[0mProvince\u001b[0m\u001b[0;34m.\u001b[0m\u001b[0mdrop_duplicates\u001b[0m\u001b[0;34m(\u001b[0m\u001b[0mkeep\u001b[0m\u001b[0;34m=\u001b[0m\u001b[0;34m'first'\u001b[0m\u001b[0;34m,\u001b[0m\u001b[0minplace\u001b[0m\u001b[0;34m=\u001b[0m\u001b[0;32mFalse\u001b[0m\u001b[0;34m)\u001b[0m\u001b[0;34m\u001b[0m\u001b[0;34m\u001b[0m\u001b[0m\n\u001b[0m\u001b[1;32m      2\u001b[0m \u001b[0mdf_hos\u001b[0m\u001b[0;34m\u001b[0m\u001b[0;34m\u001b[0m\u001b[0m\n",
      "\u001b[0;32m~/.local/lib/python3.6/site-packages/pandas/core/generic.py\u001b[0m in \u001b[0;36m__getattr__\u001b[0;34m(self, name)\u001b[0m\n\u001b[1;32m   5272\u001b[0m             \u001b[0;32mif\u001b[0m \u001b[0mself\u001b[0m\u001b[0;34m.\u001b[0m\u001b[0m_info_axis\u001b[0m\u001b[0;34m.\u001b[0m\u001b[0m_can_hold_identifiers_and_holds_name\u001b[0m\u001b[0;34m(\u001b[0m\u001b[0mname\u001b[0m\u001b[0;34m)\u001b[0m\u001b[0;34m:\u001b[0m\u001b[0;34m\u001b[0m\u001b[0;34m\u001b[0m\u001b[0m\n\u001b[1;32m   5273\u001b[0m                 \u001b[0;32mreturn\u001b[0m \u001b[0mself\u001b[0m\u001b[0;34m[\u001b[0m\u001b[0mname\u001b[0m\u001b[0;34m]\u001b[0m\u001b[0;34m\u001b[0m\u001b[0;34m\u001b[0m\u001b[0m\n\u001b[0;32m-> 5274\u001b[0;31m             \u001b[0;32mreturn\u001b[0m \u001b[0mobject\u001b[0m\u001b[0;34m.\u001b[0m\u001b[0m__getattribute__\u001b[0m\u001b[0;34m(\u001b[0m\u001b[0mself\u001b[0m\u001b[0;34m,\u001b[0m \u001b[0mname\u001b[0m\u001b[0;34m)\u001b[0m\u001b[0;34m\u001b[0m\u001b[0;34m\u001b[0m\u001b[0m\n\u001b[0m\u001b[1;32m   5275\u001b[0m \u001b[0;34m\u001b[0m\u001b[0m\n\u001b[1;32m   5276\u001b[0m     \u001b[0;32mdef\u001b[0m \u001b[0m__setattr__\u001b[0m\u001b[0;34m(\u001b[0m\u001b[0mself\u001b[0m\u001b[0;34m,\u001b[0m \u001b[0mname\u001b[0m\u001b[0;34m:\u001b[0m \u001b[0mstr\u001b[0m\u001b[0;34m,\u001b[0m \u001b[0mvalue\u001b[0m\u001b[0;34m)\u001b[0m \u001b[0;34m->\u001b[0m \u001b[0;32mNone\u001b[0m\u001b[0;34m:\u001b[0m\u001b[0;34m\u001b[0m\u001b[0;34m\u001b[0m\u001b[0m\n",
      "\u001b[0;31mAttributeError\u001b[0m: 'Series' object has no attribute 'Province'"
     ]
    }
   ],
   "source": [
    "df_hos = df_hos.Province.drop_duplicates(keep='first',inplace=False)\n",
    "df_hos "
   ]
  },
  {
   "cell_type": "code",
   "execution_count": 349,
   "metadata": {},
   "outputs": [],
   "source": [
    "df_hos = df_hos.drop([' service_offered_by_hospital','size_hospital','number_of_beds',\n",
    "       'number_of_practitioners', 'webpage'],axis = 1)"
   ]
  },
  {
   "cell_type": "code",
   "execution_count": 146,
   "metadata": {},
   "outputs": [],
   "source": []
  },
  {
   "cell_type": "code",
   "execution_count": 152,
   "metadata": {},
   "outputs": [
    {
     "ename": "KeyError",
     "evalue": "'Province'",
     "output_type": "error",
     "traceback": [
      "\u001b[0;31m---------------------------------------------------------------------------\u001b[0m",
      "\u001b[0;31mKeyError\u001b[0m                                  Traceback (most recent call last)",
      "\u001b[0;32m~/.local/lib/python3.6/site-packages/pandas/core/indexes/base.py\u001b[0m in \u001b[0;36mget_loc\u001b[0;34m(self, key, method, tolerance)\u001b[0m\n\u001b[1;32m   2645\u001b[0m             \u001b[0;32mtry\u001b[0m\u001b[0;34m:\u001b[0m\u001b[0;34m\u001b[0m\u001b[0;34m\u001b[0m\u001b[0m\n\u001b[0;32m-> 2646\u001b[0;31m                 \u001b[0;32mreturn\u001b[0m \u001b[0mself\u001b[0m\u001b[0;34m.\u001b[0m\u001b[0m_engine\u001b[0m\u001b[0;34m.\u001b[0m\u001b[0mget_loc\u001b[0m\u001b[0;34m(\u001b[0m\u001b[0mkey\u001b[0m\u001b[0;34m)\u001b[0m\u001b[0;34m\u001b[0m\u001b[0;34m\u001b[0m\u001b[0m\n\u001b[0m\u001b[1;32m   2647\u001b[0m             \u001b[0;32mexcept\u001b[0m \u001b[0mKeyError\u001b[0m\u001b[0;34m:\u001b[0m\u001b[0;34m\u001b[0m\u001b[0;34m\u001b[0m\u001b[0m\n",
      "\u001b[0;32mpandas/_libs/index.pyx\u001b[0m in \u001b[0;36mpandas._libs.index.IndexEngine.get_loc\u001b[0;34m()\u001b[0m\n",
      "\u001b[0;32mpandas/_libs/index.pyx\u001b[0m in \u001b[0;36mpandas._libs.index.IndexEngine.get_loc\u001b[0;34m()\u001b[0m\n",
      "\u001b[0;32mpandas/_libs/hashtable_class_helper.pxi\u001b[0m in \u001b[0;36mpandas._libs.hashtable.PyObjectHashTable.get_item\u001b[0;34m()\u001b[0m\n",
      "\u001b[0;32mpandas/_libs/hashtable_class_helper.pxi\u001b[0m in \u001b[0;36mpandas._libs.hashtable.PyObjectHashTable.get_item\u001b[0;34m()\u001b[0m\n",
      "\u001b[0;31mKeyError\u001b[0m: 'Province'",
      "\nDuring handling of the above exception, another exception occurred:\n",
      "\u001b[0;31mKeyError\u001b[0m                                  Traceback (most recent call last)",
      "\u001b[0;32m<ipython-input-152-c2f648d97648>\u001b[0m in \u001b[0;36m<module>\u001b[0;34m\u001b[0m\n\u001b[1;32m      4\u001b[0m     \u001b[0;34m'KwaZuluNatal'\u001b[0m\u001b[0;34m:\u001b[0m\u001b[0;34m'KZN'\u001b[0m\u001b[0;34m,\u001b[0m\u001b[0;34m'Gauteng'\u001b[0m\u001b[0;34m:\u001b[0m\u001b[0;34m'GP'\u001b[0m\u001b[0;34m,\u001b[0m\u001b[0;34m'Mpumalanga'\u001b[0m\u001b[0;34m:\u001b[0m\u001b[0;34m'MP'\u001b[0m\u001b[0;34m\u001b[0m\u001b[0;34m\u001b[0m\u001b[0m\n\u001b[1;32m      5\u001b[0m }\n\u001b[0;32m----> 6\u001b[0;31m \u001b[0mdf_hos\u001b[0m\u001b[0;34m[\u001b[0m\u001b[0;34m'Province'\u001b[0m\u001b[0;34m]\u001b[0m \u001b[0;34m=\u001b[0m \u001b[0mdf\u001b[0m\u001b[0;34m[\u001b[0m\u001b[0;34m'Province'\u001b[0m\u001b[0;34m]\u001b[0m\u001b[0;34m.\u001b[0m\u001b[0mmap\u001b[0m\u001b[0;34m(\u001b[0m\u001b[0mprovinces\u001b[0m\u001b[0;34m)\u001b[0m\u001b[0;34m\u001b[0m\u001b[0;34m\u001b[0m\u001b[0m\n\u001b[0m\u001b[1;32m      7\u001b[0m \u001b[0mdf_hos\u001b[0m \u001b[0;34m=\u001b[0m \u001b[0mdf_hos\u001b[0m\u001b[0;34m.\u001b[0m\u001b[0miloc\u001b[0m\u001b[0;34m[\u001b[0m\u001b[0;34m:\u001b[0m\u001b[0;34m,\u001b[0m\u001b[0;34m[\u001b[0m\u001b[0;34m'Province'\u001b[0m\u001b[0;34m,\u001b[0m\u001b[0;34m'Long'\u001b[0m\u001b[0;34m,\u001b[0m\u001b[0;34m'Lat'\u001b[0m\u001b[0;34m]\u001b[0m\u001b[0;34m]\u001b[0m\u001b[0;34m\u001b[0m\u001b[0;34m\u001b[0m\u001b[0m\n\u001b[1;32m      8\u001b[0m \u001b[0mdf_hos\u001b[0m\u001b[0;34m\u001b[0m\u001b[0;34m\u001b[0m\u001b[0m\n",
      "\u001b[0;32m~/.local/lib/python3.6/site-packages/pandas/core/frame.py\u001b[0m in \u001b[0;36m__getitem__\u001b[0;34m(self, key)\u001b[0m\n\u001b[1;32m   2798\u001b[0m             \u001b[0;32mif\u001b[0m \u001b[0mself\u001b[0m\u001b[0;34m.\u001b[0m\u001b[0mcolumns\u001b[0m\u001b[0;34m.\u001b[0m\u001b[0mnlevels\u001b[0m \u001b[0;34m>\u001b[0m \u001b[0;36m1\u001b[0m\u001b[0;34m:\u001b[0m\u001b[0;34m\u001b[0m\u001b[0;34m\u001b[0m\u001b[0m\n\u001b[1;32m   2799\u001b[0m                 \u001b[0;32mreturn\u001b[0m \u001b[0mself\u001b[0m\u001b[0;34m.\u001b[0m\u001b[0m_getitem_multilevel\u001b[0m\u001b[0;34m(\u001b[0m\u001b[0mkey\u001b[0m\u001b[0;34m)\u001b[0m\u001b[0;34m\u001b[0m\u001b[0;34m\u001b[0m\u001b[0m\n\u001b[0;32m-> 2800\u001b[0;31m             \u001b[0mindexer\u001b[0m \u001b[0;34m=\u001b[0m \u001b[0mself\u001b[0m\u001b[0;34m.\u001b[0m\u001b[0mcolumns\u001b[0m\u001b[0;34m.\u001b[0m\u001b[0mget_loc\u001b[0m\u001b[0;34m(\u001b[0m\u001b[0mkey\u001b[0m\u001b[0;34m)\u001b[0m\u001b[0;34m\u001b[0m\u001b[0;34m\u001b[0m\u001b[0m\n\u001b[0m\u001b[1;32m   2801\u001b[0m             \u001b[0;32mif\u001b[0m \u001b[0mis_integer\u001b[0m\u001b[0;34m(\u001b[0m\u001b[0mindexer\u001b[0m\u001b[0;34m)\u001b[0m\u001b[0;34m:\u001b[0m\u001b[0;34m\u001b[0m\u001b[0;34m\u001b[0m\u001b[0m\n\u001b[1;32m   2802\u001b[0m                 \u001b[0mindexer\u001b[0m \u001b[0;34m=\u001b[0m \u001b[0;34m[\u001b[0m\u001b[0mindexer\u001b[0m\u001b[0;34m]\u001b[0m\u001b[0;34m\u001b[0m\u001b[0;34m\u001b[0m\u001b[0m\n",
      "\u001b[0;32m~/.local/lib/python3.6/site-packages/pandas/core/indexes/base.py\u001b[0m in \u001b[0;36mget_loc\u001b[0;34m(self, key, method, tolerance)\u001b[0m\n\u001b[1;32m   2646\u001b[0m                 \u001b[0;32mreturn\u001b[0m \u001b[0mself\u001b[0m\u001b[0;34m.\u001b[0m\u001b[0m_engine\u001b[0m\u001b[0;34m.\u001b[0m\u001b[0mget_loc\u001b[0m\u001b[0;34m(\u001b[0m\u001b[0mkey\u001b[0m\u001b[0;34m)\u001b[0m\u001b[0;34m\u001b[0m\u001b[0;34m\u001b[0m\u001b[0m\n\u001b[1;32m   2647\u001b[0m             \u001b[0;32mexcept\u001b[0m \u001b[0mKeyError\u001b[0m\u001b[0;34m:\u001b[0m\u001b[0;34m\u001b[0m\u001b[0;34m\u001b[0m\u001b[0m\n\u001b[0;32m-> 2648\u001b[0;31m                 \u001b[0;32mreturn\u001b[0m \u001b[0mself\u001b[0m\u001b[0;34m.\u001b[0m\u001b[0m_engine\u001b[0m\u001b[0;34m.\u001b[0m\u001b[0mget_loc\u001b[0m\u001b[0;34m(\u001b[0m\u001b[0mself\u001b[0m\u001b[0;34m.\u001b[0m\u001b[0m_maybe_cast_indexer\u001b[0m\u001b[0;34m(\u001b[0m\u001b[0mkey\u001b[0m\u001b[0;34m)\u001b[0m\u001b[0;34m)\u001b[0m\u001b[0;34m\u001b[0m\u001b[0;34m\u001b[0m\u001b[0m\n\u001b[0m\u001b[1;32m   2649\u001b[0m         \u001b[0mindexer\u001b[0m \u001b[0;34m=\u001b[0m \u001b[0mself\u001b[0m\u001b[0;34m.\u001b[0m\u001b[0mget_indexer\u001b[0m\u001b[0;34m(\u001b[0m\u001b[0;34m[\u001b[0m\u001b[0mkey\u001b[0m\u001b[0;34m]\u001b[0m\u001b[0;34m,\u001b[0m \u001b[0mmethod\u001b[0m\u001b[0;34m=\u001b[0m\u001b[0mmethod\u001b[0m\u001b[0;34m,\u001b[0m \u001b[0mtolerance\u001b[0m\u001b[0;34m=\u001b[0m\u001b[0mtolerance\u001b[0m\u001b[0;34m)\u001b[0m\u001b[0;34m\u001b[0m\u001b[0;34m\u001b[0m\u001b[0m\n\u001b[1;32m   2650\u001b[0m         \u001b[0;32mif\u001b[0m \u001b[0mindexer\u001b[0m\u001b[0;34m.\u001b[0m\u001b[0mndim\u001b[0m \u001b[0;34m>\u001b[0m \u001b[0;36m1\u001b[0m \u001b[0;32mor\u001b[0m \u001b[0mindexer\u001b[0m\u001b[0;34m.\u001b[0m\u001b[0msize\u001b[0m \u001b[0;34m>\u001b[0m \u001b[0;36m1\u001b[0m\u001b[0;34m:\u001b[0m\u001b[0;34m\u001b[0m\u001b[0;34m\u001b[0m\u001b[0m\n",
      "\u001b[0;32mpandas/_libs/index.pyx\u001b[0m in \u001b[0;36mpandas._libs.index.IndexEngine.get_loc\u001b[0;34m()\u001b[0m\n",
      "\u001b[0;32mpandas/_libs/index.pyx\u001b[0m in \u001b[0;36mpandas._libs.index.IndexEngine.get_loc\u001b[0;34m()\u001b[0m\n",
      "\u001b[0;32mpandas/_libs/hashtable_class_helper.pxi\u001b[0m in \u001b[0;36mpandas._libs.hashtable.PyObjectHashTable.get_item\u001b[0;34m()\u001b[0m\n",
      "\u001b[0;32mpandas/_libs/hashtable_class_helper.pxi\u001b[0m in \u001b[0;36mpandas._libs.hashtable.PyObjectHashTable.get_item\u001b[0;34m()\u001b[0m\n",
      "\u001b[0;31mKeyError\u001b[0m: 'Province'"
     ]
    }
   ],
   "source": [
    "provinces = {\n",
    "    'Eastern Cape':'EC','Northern Cape': 'NC','Free State':'FS',\n",
    "    'Limpopo':'LP','North West ':'NW','Western Cape ':'WC',\n",
    "    'KwaZuluNatal':'KZN','Gauteng':'GP','Mpumalanga':'MP' \n",
    "}\n",
    "df_hos['Province'] = df['Province'].map(provinces)\n",
    "df_hos = df_hos.iloc[:,['Province','Long','Lat']]\n",
    "df_hos"
   ]
  },
  {
   "cell_type": "code",
   "execution_count": null,
   "metadata": {},
   "outputs": [],
   "source": []
  }
 ],
 "metadata": {
  "kernelspec": {
   "display_name": "Python 3",
   "language": "python",
   "name": "python3"
  },
  "language_info": {
   "codemirror_mode": {
    "name": "ipython",
    "version": 3
   },
   "file_extension": ".py",
   "mimetype": "text/x-python",
   "name": "python",
   "nbconvert_exporter": "python",
   "pygments_lexer": "ipython3",
   "version": "3.6.9"
  }
 },
 "nbformat": 4,
 "nbformat_minor": 4
}
