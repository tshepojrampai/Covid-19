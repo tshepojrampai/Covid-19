{
 "cells": [
  {
   "cell_type": "code",
   "execution_count": 1,
   "metadata": {},
   "outputs": [
    {
     "data": {
      "text/html": [
       "        <script type=\"text/javascript\">\n",
       "        window.PlotlyConfig = {MathJaxConfig: 'local'};\n",
       "        if (window.MathJax) {MathJax.Hub.Config({SVG: {font: \"STIX-Web\"}});}\n",
       "        if (typeof require !== 'undefined') {\n",
       "        require.undef(\"plotly\");\n",
       "        requirejs.config({\n",
       "            paths: {\n",
       "                'plotly': ['https://cdn.plot.ly/plotly-latest.min']\n",
       "            }\n",
       "        });\n",
       "        require(['plotly'], function(Plotly) {\n",
       "            window._Plotly = Plotly;\n",
       "        });\n",
       "        }\n",
       "        </script>\n",
       "        "
      ]
     },
     "metadata": {},
     "output_type": "display_data"
    }
   ],
   "source": [
    "import requests\n",
    "from pandas.io.json import json_normalize\n",
    "import dash\n",
    "import dash_table\n",
    "import dash_core_components as dcc\n",
    "import dash_html_components as html\n",
    "import pandas as pd\n",
    "import numpy as np\n",
    "import seaborn as sns\n",
    "import matplotlib.pyplot as plt\n",
    "import plotly.graph_objects as go\n",
    "from dash.dependencies import Input, Output\n",
    "from plotly.subplots import make_subplots\n",
    "\n",
    "\n",
    "#Geo map of Cases per country globally\n",
    "from plotly.offline import download_plotlyjs, init_notebook_mode, plot, iplot\n",
    "import plotly as py\n",
    "import plotly.graph_objs as go\n",
    "init_notebook_mode(connected=True)\n"
   ]
  },
  {
   "cell_type": "code",
   "execution_count": 2,
   "metadata": {},
   "outputs": [
    {
     "name": "stderr",
     "output_type": "stream",
     "text": [
      "/home/tshepo/.local/lib/python3.6/site-packages/ipykernel_launcher.py:5: FutureWarning:\n",
      "\n",
      "pandas.io.json.json_normalize is deprecated, use pandas.json_normalize instead\n",
      "\n"
     ]
    },
    {
     "data": {
      "text/html": [
       "<div>\n",
       "<style scoped>\n",
       "    .dataframe tbody tr th:only-of-type {\n",
       "        vertical-align: middle;\n",
       "    }\n",
       "\n",
       "    .dataframe tbody tr th {\n",
       "        vertical-align: top;\n",
       "    }\n",
       "\n",
       "    .dataframe thead th {\n",
       "        text-align: right;\n",
       "    }\n",
       "</style>\n",
       "<table border=\"1\" class=\"dataframe\">\n",
       "  <thead>\n",
       "    <tr style=\"text-align: right;\">\n",
       "      <th></th>\n",
       "      <th>Country</th>\n",
       "      <th>CountryCode</th>\n",
       "      <th>NewConfirmed</th>\n",
       "      <th>TotalConfirmed</th>\n",
       "      <th>NewDeaths</th>\n",
       "      <th>TotalDeaths</th>\n",
       "      <th>NewRecovered</th>\n",
       "      <th>TotalRecovered</th>\n",
       "      <th>Date</th>\n",
       "    </tr>\n",
       "  </thead>\n",
       "  <tbody>\n",
       "    <tr>\n",
       "      <th>235</th>\n",
       "      <td>United States of America</td>\n",
       "      <td>US</td>\n",
       "      <td>33253</td>\n",
       "      <td>816963</td>\n",
       "      <td>2706</td>\n",
       "      <td>44781</td>\n",
       "      <td>2875</td>\n",
       "      <td>75204</td>\n",
       "      <td>2020-04-22T10:08:24Z</td>\n",
       "    </tr>\n",
       "    <tr>\n",
       "      <th>207</th>\n",
       "      <td>Spain</td>\n",
       "      <td>ES</td>\n",
       "      <td>3968</td>\n",
       "      <td>204178</td>\n",
       "      <td>430</td>\n",
       "      <td>21282</td>\n",
       "      <td>1927</td>\n",
       "      <td>82514</td>\n",
       "      <td>2020-04-22T10:08:24Z</td>\n",
       "    </tr>\n",
       "    <tr>\n",
       "      <th>108</th>\n",
       "      <td>Italy</td>\n",
       "      <td>IT</td>\n",
       "      <td>2729</td>\n",
       "      <td>183957</td>\n",
       "      <td>534</td>\n",
       "      <td>24648</td>\n",
       "      <td>2723</td>\n",
       "      <td>51600</td>\n",
       "      <td>2020-04-22T10:08:24Z</td>\n",
       "    </tr>\n",
       "    <tr>\n",
       "      <th>74</th>\n",
       "      <td>France</td>\n",
       "      <td>FR</td>\n",
       "      <td>2817</td>\n",
       "      <td>159297</td>\n",
       "      <td>537</td>\n",
       "      <td>20829</td>\n",
       "      <td>1783</td>\n",
       "      <td>39819</td>\n",
       "      <td>2020-04-22T10:08:24Z</td>\n",
       "    </tr>\n",
       "    <tr>\n",
       "      <th>81</th>\n",
       "      <td>Germany</td>\n",
       "      <td>DE</td>\n",
       "      <td>1226</td>\n",
       "      <td>148291</td>\n",
       "      <td>171</td>\n",
       "      <td>5033</td>\n",
       "      <td>3700</td>\n",
       "      <td>95200</td>\n",
       "      <td>2020-04-22T10:08:24Z</td>\n",
       "    </tr>\n",
       "  </tbody>\n",
       "</table>\n",
       "</div>"
      ],
      "text/plain": [
       "                      Country CountryCode  NewConfirmed  TotalConfirmed  \\\n",
       "235  United States of America          US         33253          816963   \n",
       "207                     Spain          ES          3968          204178   \n",
       "108                     Italy          IT          2729          183957   \n",
       "74                     France          FR          2817          159297   \n",
       "81                    Germany          DE          1226          148291   \n",
       "\n",
       "     NewDeaths  TotalDeaths  NewRecovered  TotalRecovered  \\\n",
       "235       2706        44781          2875           75204   \n",
       "207        430        21282          1927           82514   \n",
       "108        534        24648          2723           51600   \n",
       "74         537        20829          1783           39819   \n",
       "81         171         5033          3700           95200   \n",
       "\n",
       "                     Date  \n",
       "235  2020-04-22T10:08:24Z  \n",
       "207  2020-04-22T10:08:24Z  \n",
       "108  2020-04-22T10:08:24Z  \n",
       "74   2020-04-22T10:08:24Z  \n",
       "81   2020-04-22T10:08:24Z  "
      ]
     },
     "execution_count": 2,
     "metadata": {},
     "output_type": "execute_result"
    }
   ],
   "source": [
    "url = 'https://api.covid19api.com/summary'\n",
    "r = requests.get(url)\n",
    "dictr = r.json()\n",
    "header = dictr['Countries']\n",
    "df = json_normalize(header)\n",
    "df = df.drop(df.index[[0,224]])\n",
    "df = df.drop(columns = 'Slug')\n",
    "df = df.sort_values(by=['TotalConfirmed'], ascending=False)\n",
    "df.head()"
   ]
  },
  {
   "cell_type": "code",
   "execution_count": 3,
   "metadata": {},
   "outputs": [],
   "source": [
    "#Summing per column\n",
    "tot_cases = df.TotalConfirmed.sum()\n",
    "nw_cases = df.NewConfirmed.sum()\n",
    "tot_deaths = df.TotalDeaths.sum()\n",
    "new_deaths = df.NewDeaths.sum()\n",
    "tot_recover = df.TotalRecovered.sum()\n",
    "new_recover = df.NewRecovered.sum()\n",
    "diff = tot_cases - nw_cases\n",
    "diff2 = tot_recover - new_recover\n",
    "diff3 = tot_deaths - new_deaths \n",
    "\n",
    "#Separating columns\n",
    "\n",
    "#Corona  cases: Total and New\n",
    "df_tot_cases = df.loc[:,['Country','TotalConfirmed']].sort_values(by='TotalConfirmed', ascending=False)\n",
    "df_new_cases = df.loc[:,['Country','NewConfirmed']]\n",
    "\n",
    "#Death Cases: Total and New \n",
    "df_tot_death = df.loc[:,['Country','TotalDeaths']]\n",
    "df_new_death = df.loc[:,['Country','NewDeaths']]\n",
    "\n",
    "#Recovery cases: Total and new\n",
    "df_tot_recover = df.loc[:,['Country','TotalRecovered']]\n",
    "df_new_recover = df.loc[:,['Country','NewRecovered']]\n",
    "                      \n",
    "#Sorting cases by total                     \n",
    "df_cases = df_tot_cases.merge(df_new_cases, on='Country').sort_values(by=['TotalConfirmed'],\n",
    "                                                                      ascending=False)\n",
    "df_death = df_tot_death.merge(df_new_death, on='Country').sort_values(by=['TotalDeaths'],\n",
    "                                                                      ascending=False)\n",
    "df_recover = df_tot_recover.merge(df_new_recover, on='Country').sort_values(by=['TotalRecovered'], \n",
    "                                                                            ascending=False)\n"
   ]
  },
  {
   "cell_type": "code",
   "execution_count": 4,
   "metadata": {},
   "outputs": [],
   "source": [
    "# style_table = {\n",
    "#     'maxHeight': '100ex',\n",
    "#     'overflowY': 'scroll',\n",
    "#     'width': '30%',\n",
    "#     'minWidth': '30%',\n",
    "# }\n",
    "style_cell = {\n",
    "    'fontFamily': 'Open Sans',\n",
    "    'textAlign': 'center',\n",
    "    'height': '30px',\n",
    "    'padding': '10px 22px',\n",
    "    'whiteSpace': 'inherit',\n",
    "    'overflow': 'hidden',\n",
    "                'textOverflow': 'ellipsis',\n",
    "}\n",
    "style_cell_conditional = [\n",
    "    {\n",
    "        'if': {'column_id': 'State'},\n",
    "        'textAlign': 'left'\n",
    "    },\n",
    "]\n",
    "style_header = {\n",
    "    'fontWeight': 'bold',\n",
    "    'backgroundColor': \"#3D9970\",\n",
    "    'fontSize': '16px'\n",
    "}\n",
    "style_data_conditional = [\n",
    "    {\n",
    "        'if': {'row_index': 'odd'},\n",
    "        'backgroundColor': 'rgb(248, 248, 248)'\n",
    "    }]\n",
    "style_table = {\n",
    "    'maxHeight': '70ex',\n",
    "    'overflowY': 'scroll',\n",
    "    'width': '100%',\n",
    "    'minWidth': '100%',\n",
    "}"
   ]
  },
  {
   "cell_type": "code",
   "execution_count": 5,
   "metadata": {},
   "outputs": [],
   "source": [
    "a = df.TotalConfirmed.sum()-df.NewConfirmed.sum()"
   ]
  },
  {
   "cell_type": "code",
   "execution_count": null,
   "metadata": {},
   "outputs": [],
   "source": []
  },
  {
   "cell_type": "code",
   "execution_count": 6,
   "metadata": {},
   "outputs": [],
   "source": [
    "# # Style sheet\n",
    "# external_stylesheets = ['https://codepen.io/chriddyp/pen/bWLwgP.css']\n",
    "\n",
    "# # App\n",
    "# app = dash.Dash(__name__, external_stylesheets=external_stylesheets)\n",
    "\n",
    "# app.layout = html.Div(children=[\n",
    "#         #header\n",
    "    \n",
    "#     html.Div([\n",
    "#         html.Div([\n",
    "#             html.Img(src=\"https://dcassetcdn.com/design_img/3666062/781819/781819_21156990_3666062_e336b60a_image.png\",className='four columns')\n",
    "            \n",
    "#         ], className=\"four columns\"),\n",
    "        \n",
    "\n",
    "#         html.Div([\n",
    "#             html.H3('Latest Covid 19 Update', style={\n",
    "#                                 'fontFamily': 'Open Sans',\n",
    "#                                 'textAlign': 'center',\n",
    "#                             }),\n",
    "             \n",
    "#         ], className=\"four columns\"),\n",
    "        \n",
    "#         html.Div([\n",
    "#             html.H3('#StayAtHome', style={\n",
    "#                                 'fontFamily': 'Open Sans',\n",
    "#                                 'textAlign': 'right',\n",
    "#                             }),\n",
    "            \n",
    "#         ], className=\"four columns\")\n",
    "#     ], className=\"row\"),\n",
    "    \n",
    "#     dcc.Tabs(id='tabs-example', value='tab', children=[\n",
    "#         dcc.Tab(label='Global Map', value='tab-1'),\n",
    "#         dcc.Tab(label='South African cases', value='tab-2'),\n",
    "#         dcc.Tab(label='Analysis', value='tab-3'),\n",
    "#     ]),\n",
    "#     html.Div(id='tabs-example-content')\n",
    "# ])\n",
    "\n",
    "\n",
    "\n",
    "\n",
    "# def render_content(tab):\n",
    "#     '''Display the table and the graph sideby\n",
    "#     side when the respective tab is selected'''\n",
    "\n",
    "#     if tab == 'tab-1':\n",
    "#         return html.Div([\n",
    "#             html.Div([\n",
    "       \n",
    "#                 html.H3('band', style={\n",
    "#                                     'fontFamily': 'Open Sans',\n",
    "#                                     'textAlign': 'center',\n",
    "#                                 })\n",
    "\n",
    "#         ], className=\"row\"),\n",
    "\n",
    "#         #VISUALISATIONS\n",
    "#          html.Div([\n",
    "#             html.Div([\n",
    "#                 html.H3('visualisation'),\n",
    "#                 html.Div([\n",
    "#                     html.Div(\n",
    "#                         [\n",
    "#                             html.P(\"Total confirmed cases\"),\n",
    "#                             html.H6(\n",
    "#                                 id=\"well_text\",\n",
    "#                                 className=\"info_text\"\n",
    "#                             )\n",
    "#                         ],\n",
    "#                         id=\"wells\",\n",
    "#                         className=\"pretty_container\"\n",
    "#                     )\n",
    "#                 ], className=\"row\"),\n",
    "#                 html.Div([\n",
    "\n",
    "#                 html.H3('Cases by country'),\n",
    "#                     dash_table.DataTable(\n",
    "#                             id='table',\n",
    "#                             data=df_df_tot_cases.to_dict(\"rows\"),\n",
    "#                             columns=[{\"name\": i, \"id\": i}\n",
    "#                                      for i in df_tot_cases.columns],\n",
    "#                             style_table=style_table,\n",
    "#                             style_cell=style_cell,\n",
    "#                             style_data_conditional=style_data_conditional,\n",
    "#                             style_header=style_header,\n",
    "#                             style_cell_conditional=style_cell_conditional,\n",
    "#                         )\n",
    "\n",
    "#         ], className=\"row\"),\n",
    "\n",
    "#             ], className=\"two columns\"),\n",
    "#              html.Div([\n",
    "#                 html.H3('visualisation'),\n",
    "#                 html.Div([\n",
    "\n",
    "#                 html.H3('World Map')\n",
    "\n",
    "#         ], className=\"row\"),\n",
    "\n",
    "#             ], className=\"six columns\"),\n",
    "\n",
    "#             html.Div([\n",
    "#                 html.H3('visualisation'),\n",
    "\n",
    "\n",
    "#                 html.Div([\n",
    "#                     html.Div([\n",
    "#                         html.H3('Total Recoveries'),\n",
    "\n",
    "#                         ], className=\"six columns\"),\n",
    "\n",
    "#                     html.Div([\n",
    "#                         html.H3('Total Deaths'),\n",
    "\n",
    "#                         ], className=\"six columns\"),\n",
    "#         ], className=\"row\")\n",
    "\n",
    "#             ], className=\"four columns\"),\n",
    "#         ], className=\"row\"),\n",
    "\n",
    "#         #fOOTER\n",
    "#          html.Div([\n",
    "#             html.Div([\n",
    "#                 html.H3('Footer'),\n",
    "\n",
    "#             ], className=\"six columns\"),\n",
    "\n",
    "#             html.Div([\n",
    "#                 html.H3('Footer'),\n",
    "\n",
    "#             ], className=\"six columns\"),\n",
    "#         ], className=\"row\")\n",
    "#         ])\n",
    "        \n",
    " \n",
    "\n",
    "    \n",
    "    \n",
    "        \n",
    "    \n",
    "    \n",
    "    \n",
    "    \n",
    "    \n",
    "    \n",
    "    \n",
    "    \n",
    "    \n",
    "    \n",
    "    \n",
    "    \n",
    "    \n",
    "    \n",
    "    \n",
    "    \n",
    "    \n",
    "    \n",
    "#     html.Div([\n",
    "#             html.Div([\n",
    "#                 html.Div([\n",
    "#                     html.H1(\n",
    "#                         children='Table',\n",
    "#                         style={\n",
    "#                             'textAlign': 'center',\n",
    "#                             'color': 'green'\n",
    "#                         }), dash_table.DataTable(\n",
    "#                         id='table',\n",
    "#                         data=df_sum_state.to_dict(\"rows\"),\n",
    "#                         columns=[{\"name\": i, \"id\": i}\n",
    "#                                  for i in df_sum_state.columns],\n",
    "#                         style_table=style_table,\n",
    "#                         style_cell=style_cell,\n",
    "#                         style_data_conditional=style_data_conditional,\n",
    "#                         style_header=style_header,\n",
    "#                         style_cell_conditional=style_cell_conditional,\n",
    "#                     )\n",
    "#                 ], className=\"four columns\"),\n",
    "#                 html.Div([\n",
    "#                     html.H3('Fires per state in Brazil',\n",
    "#                             style={\n",
    "#                                 'textAlign': 'center',\n",
    "#                                 'color': 'green'}),\n",
    "#                     dcc.Graph(\n",
    "#                         id='Graph1',\n",
    "#                         figure={\n",
    "#                             'data': [\n",
    "#                                 {'x': df.state, 'y': df.number, 'type': 'bar', 'name': 'state', 'marker': {'color': [\n",
    "#                                     '#b50000', '#e63535', '#fa8989'], 'size': 9, 'line': {'width': 1, 'color': 'orange'}}},\n",
    "#                             ]\n",
    "#                         }\n",
    "#                     )\n",
    "#                 ], className=\"eight columns\"),\n",
    "#             ], className=\"row\")\n",
    "#         ])\n",
    "\n",
    "\n",
    "\n",
    "# if __name__ == '__main__':\n",
    "#     app.run_server()\n"
   ]
  },
  {
   "cell_type": "code",
   "execution_count": 7,
   "metadata": {},
   "outputs": [],
   "source": [
    "# # layout\n",
    "# app.layout = html.Div([\n",
    "#       #Band\n",
    "#      html.Div([\n",
    "       \n",
    "#             html.H3('band', style={\n",
    "#                                 'fontFamily': 'Open Sans',\n",
    "#                                 'textAlign': 'center',\n",
    "#                             })\n",
    "         \n",
    "#     ], className=\"row\"),\n",
    "    \n",
    "#     #VISUALISATIONS\n",
    "#      html.Div([\n",
    "#         html.Div([\n",
    "#             html.H3('visualisation'),\n",
    "#             html.Div([\n",
    "       \n",
    "#                 html.H3('Total confirmed cases')\n",
    "         \n",
    "#             ], className=\"row\"),\n",
    "#             html.Div([\n",
    "       \n",
    "#             html.H3('Cases by country')\n",
    "         \n",
    "#     ], className=\"row\"),\n",
    "            \n",
    "#         ], className=\"two columns\"),\n",
    "#          html.Div([\n",
    "#             html.H3('visualisation'),\n",
    "#             html.Div([\n",
    "       \n",
    "#             html.H3('World Map')\n",
    "         \n",
    "#     ], className=\"row\"),\n",
    "            \n",
    "#         ], className=\"six columns\"),\n",
    "\n",
    "#         html.Div([\n",
    "#             html.H3('visualisation'),\n",
    "            \n",
    "            \n",
    "#             html.Div([\n",
    "#                 html.Div([\n",
    "#                     html.H3('Total Recoveries'),\n",
    "                    \n",
    "#                     ], className=\"six columns\"),\n",
    "\n",
    "#                 html.Div([\n",
    "#                     html.H3('Total Deaths'),\n",
    "\n",
    "#                     ], className=\"six columns\"),\n",
    "#     ], className=\"row\")\n",
    "            \n",
    "#         ], className=\"four columns\"),\n",
    "#     ], className=\"row\"),\n",
    "    \n",
    "#     #fOOTER\n",
    "#      html.Div([\n",
    "#         html.Div([\n",
    "#             html.H3('Footer'),\n",
    "            \n",
    "#         ], className=\"six columns\"),\n",
    "\n",
    "#         html.Div([\n",
    "#             html.H3('Footer'),\n",
    "            \n",
    "#         ], className=\"six columns\"),\n",
    "#     ], className=\"row\"),\n",
    "    \n",
    "# ])\n",
    "\n",
    "\n",
    "\n",
    "\n"
   ]
  },
  {
   "cell_type": "code",
   "execution_count": 8,
   "metadata": {},
   "outputs": [],
   "source": [
    "# #header\n",
    "    \n",
    "#     html.Div([\n",
    "#         html.Div([\n",
    "#             html.H3('Header'),\n",
    "            \n",
    "#         ], className=\"four columns\"),\n",
    "        \n",
    "\n",
    "#         html.Div([\n",
    "#             html.H3('header'),\n",
    "             \n",
    "#         ], className=\"four columns\"),\n",
    "        \n",
    "#         html.Div([\n",
    "#             html.H3('header'),\n",
    "            \n",
    "#         ], className=\"four columns\")\n",
    "#     ], className=\"row\"),\n",
    "    \n",
    "        \n",
    "#     #NavBar\n",
    "       \n",
    "#      html.Div([\n",
    "#         html.Div([\n",
    "#             html.H3('nav-bar'),\n",
    "           \n",
    "#         ], className=\"four columns\"),\n",
    "#         html.Div([\n",
    "#             html.H3('nav-bar'),\n",
    "           \n",
    "#         ], className=\"four columns\"),\n",
    "\n",
    "#         html.Div([\n",
    "#             html.H3('nav-bar'),\n",
    "            \n",
    "#         ], className=\"four columns\"),\n",
    "#     ], className=\"row\"),\n",
    "    \n",
    "#       #Band\n",
    "#      html.Div([\n",
    "       \n",
    "#             html.H3('band')\n",
    "         \n",
    "#     ], className=\"row\"),\n",
    "    \n",
    "#     #VISUALISATIONS\n",
    "#      html.Div([\n",
    "#         html.Div([\n",
    "#             html.H3('visualisation'),\n",
    "#             html.Div([\n",
    "       \n",
    "#                 html.H3('Total confirmed cases')\n",
    "         \n",
    "#             ], className=\"row\"),\n",
    "#             html.Div([\n",
    "       \n",
    "#             html.H3('Cases by country')\n",
    "         \n",
    "#     ], className=\"row\"),\n",
    "            \n",
    "#         ], className=\"two columns\"),\n",
    "#          html.Div([\n",
    "#             html.H3('visualisation'),\n",
    "#             html.Div([\n",
    "       \n",
    "#             html.H3('World Map')\n",
    "         \n",
    "#     ], className=\"row\"),\n",
    "            \n",
    "#         ], className=\"six columns\"),\n",
    "\n",
    "#         html.Div([\n",
    "#             html.H3('visualisation'),\n",
    "            \n",
    "            \n",
    "#             html.Div([\n",
    "#                 html.Div([\n",
    "#                     html.H3('Total Recoveries'),\n",
    "                    \n",
    "#                     ], className=\"six columns\"),\n",
    "\n",
    "#                 html.Div([\n",
    "#                     html.H3('Total Deaths'),\n",
    "\n",
    "#                     ], className=\"six columns\"),\n",
    "#     ], className=\"row\")\n",
    "            \n",
    "#         ], className=\"four columns\"),\n",
    "#     ], className=\"row\"),\n",
    "    \n",
    "#     #fOOTER\n",
    "#      html.Div([\n",
    "#         html.Div([\n",
    "#             html.H3('Footer'),\n",
    "            \n",
    "#         ], className=\"six columns\"),\n",
    "\n",
    "#         html.Div([\n",
    "#             html.H3('Footer'),\n",
    "            \n",
    "#         ], className=\"six columns\"),\n",
    "#     ], className=\"row\"),\n"
   ]
  },
  {
   "cell_type": "markdown",
   "metadata": {},
   "source": [
    "### Dashboard pages template"
   ]
  },
  {
   "cell_type": "code",
   "execution_count": 9,
   "metadata": {},
   "outputs": [],
   "source": [
    "# # Style sheet\n",
    "# external_stylesheets = ['https://codepen.io/chriddyp/pen/bWLwgP.css']\n",
    "\n",
    "# # App\n",
    "# app = dash.Dash(__name__, external_stylesheets=external_stylesheets)\n",
    "\n",
    "# # layout\n",
    "# app.layout = html.Div([\n",
    "    \n",
    "#     #header\n",
    "    \n",
    "#     html.Div([\n",
    "#         html.Div([\n",
    "#             html.H3('Header'),\n",
    "            \n",
    "#         ], className=\"four columns\"),\n",
    "        \n",
    "\n",
    "#         html.Div([\n",
    "#             html.H3('header'),\n",
    "             \n",
    "#         ], className=\"four columns\"),\n",
    "        \n",
    "#         html.Div([\n",
    "#             html.H3('header'),\n",
    "            \n",
    "#         ], className=\"four columns\")\n",
    "#     ], className=\"row\"),\n",
    "    \n",
    "        \n",
    "#     #NavBar\n",
    "       \n",
    "#      html.Div([\n",
    "#         html.Div([\n",
    "#             html.H3('nav-bar'),\n",
    "           \n",
    "#         ], className=\"four columns\"),\n",
    "#         html.Div([\n",
    "#             html.H3('nav-bar'),\n",
    "           \n",
    "#         ], className=\"four columns\"),\n",
    "\n",
    "#         html.Div([\n",
    "#             html.H3('nav-bar'),\n",
    "            \n",
    "#         ], className=\"four columns\"),\n",
    "#     ], className=\"row\"),\n",
    "    \n",
    "#       #Band\n",
    "#      html.Div([\n",
    "       \n",
    "#             html.H3('band')\n",
    "         \n",
    "#     ], className=\"row\"),\n",
    "    \n",
    "#     #VISUALISATIONS\n",
    "#      html.Div([\n",
    "#         html.Div([\n",
    "#             html.H3('visualisation'),\n",
    "#             html.Div([\n",
    "       \n",
    "#                 html.H3('Total confirmed cases')\n",
    "         \n",
    "#             ], className=\"row\"),\n",
    "#             html.Div([\n",
    "       \n",
    "#             html.H3('Cases by country')\n",
    "         \n",
    "#     ], className=\"row\"),\n",
    "            \n",
    "#         ], className=\"two columns\"),\n",
    "#          html.Div([\n",
    "#             html.H3('visualisation'),\n",
    "#             html.Div([\n",
    "       \n",
    "#             html.H3('World Map')\n",
    "         \n",
    "#     ], className=\"row\"),\n",
    "            \n",
    "#         ], className=\"six columns\"),\n",
    "\n",
    "#         html.Div([\n",
    "#             html.H3('visualisation'),\n",
    "            \n",
    "            \n",
    "#             html.Div([\n",
    "#                 html.Div([\n",
    "#                     html.H3('Total Recoveries'),\n",
    "                    \n",
    "#                     ], className=\"six columns\"),\n",
    "\n",
    "#                 html.Div([\n",
    "#                     html.H3('Total Deaths'),\n",
    "\n",
    "#                     ], className=\"six columns\"),\n",
    "#     ], className=\"row\")\n",
    "            \n",
    "#         ], className=\"four columns\"),\n",
    "#     ], className=\"row\"),\n",
    "    \n",
    "#     #fOOTER\n",
    "#      html.Div([\n",
    "#         html.Div([\n",
    "#             html.H3('Footer'),\n",
    "            \n",
    "#         ], className=\"six columns\"),\n",
    "\n",
    "#         html.Div([\n",
    "#             html.H3('Footer'),\n",
    "            \n",
    "#         ], className=\"six columns\"),\n",
    "#     ], className=\"row\"),\n",
    "    \n",
    "# ])\n",
    "\n",
    "# if __name__ == '__main__':\n",
    "#     app.run_server()\n"
   ]
  },
  {
   "cell_type": "code",
   "execution_count": null,
   "metadata": {},
   "outputs": [],
   "source": []
  },
  {
   "cell_type": "code",
   "execution_count": 10,
   "metadata": {},
   "outputs": [
    {
     "data": {
      "application/vnd.plotly.v1+json": {
       "config": {
        "plotlyServerURL": "https://plot.ly"
       },
       "data": [
        {
         "delta": {
          "reference": 2437220
         },
         "domain": {
          "column": 0,
          "row": 0
         },
         "gauge": {
          "axis": {
           "visible": false
          }
         },
         "type": "indicator",
         "value": 2519068
        }
       ],
       "layout": {
        "template": {
         "data": {
          "bar": [
           {
            "error_x": {
             "color": "#2a3f5f"
            },
            "error_y": {
             "color": "#2a3f5f"
            },
            "marker": {
             "line": {
              "color": "#E5ECF6",
              "width": 0.5
             }
            },
            "type": "bar"
           }
          ],
          "barpolar": [
           {
            "marker": {
             "line": {
              "color": "#E5ECF6",
              "width": 0.5
             }
            },
            "type": "barpolar"
           }
          ],
          "carpet": [
           {
            "aaxis": {
             "endlinecolor": "#2a3f5f",
             "gridcolor": "white",
             "linecolor": "white",
             "minorgridcolor": "white",
             "startlinecolor": "#2a3f5f"
            },
            "baxis": {
             "endlinecolor": "#2a3f5f",
             "gridcolor": "white",
             "linecolor": "white",
             "minorgridcolor": "white",
             "startlinecolor": "#2a3f5f"
            },
            "type": "carpet"
           }
          ],
          "choropleth": [
           {
            "colorbar": {
             "outlinewidth": 0,
             "ticks": ""
            },
            "type": "choropleth"
           }
          ],
          "contour": [
           {
            "colorbar": {
             "outlinewidth": 0,
             "ticks": ""
            },
            "colorscale": [
             [
              0,
              "#0d0887"
             ],
             [
              0.1111111111111111,
              "#46039f"
             ],
             [
              0.2222222222222222,
              "#7201a8"
             ],
             [
              0.3333333333333333,
              "#9c179e"
             ],
             [
              0.4444444444444444,
              "#bd3786"
             ],
             [
              0.5555555555555556,
              "#d8576b"
             ],
             [
              0.6666666666666666,
              "#ed7953"
             ],
             [
              0.7777777777777778,
              "#fb9f3a"
             ],
             [
              0.8888888888888888,
              "#fdca26"
             ],
             [
              1,
              "#f0f921"
             ]
            ],
            "type": "contour"
           }
          ],
          "contourcarpet": [
           {
            "colorbar": {
             "outlinewidth": 0,
             "ticks": ""
            },
            "type": "contourcarpet"
           }
          ],
          "heatmap": [
           {
            "colorbar": {
             "outlinewidth": 0,
             "ticks": ""
            },
            "colorscale": [
             [
              0,
              "#0d0887"
             ],
             [
              0.1111111111111111,
              "#46039f"
             ],
             [
              0.2222222222222222,
              "#7201a8"
             ],
             [
              0.3333333333333333,
              "#9c179e"
             ],
             [
              0.4444444444444444,
              "#bd3786"
             ],
             [
              0.5555555555555556,
              "#d8576b"
             ],
             [
              0.6666666666666666,
              "#ed7953"
             ],
             [
              0.7777777777777778,
              "#fb9f3a"
             ],
             [
              0.8888888888888888,
              "#fdca26"
             ],
             [
              1,
              "#f0f921"
             ]
            ],
            "type": "heatmap"
           }
          ],
          "heatmapgl": [
           {
            "colorbar": {
             "outlinewidth": 0,
             "ticks": ""
            },
            "colorscale": [
             [
              0,
              "#0d0887"
             ],
             [
              0.1111111111111111,
              "#46039f"
             ],
             [
              0.2222222222222222,
              "#7201a8"
             ],
             [
              0.3333333333333333,
              "#9c179e"
             ],
             [
              0.4444444444444444,
              "#bd3786"
             ],
             [
              0.5555555555555556,
              "#d8576b"
             ],
             [
              0.6666666666666666,
              "#ed7953"
             ],
             [
              0.7777777777777778,
              "#fb9f3a"
             ],
             [
              0.8888888888888888,
              "#fdca26"
             ],
             [
              1,
              "#f0f921"
             ]
            ],
            "type": "heatmapgl"
           }
          ],
          "histogram": [
           {
            "marker": {
             "colorbar": {
              "outlinewidth": 0,
              "ticks": ""
             }
            },
            "type": "histogram"
           }
          ],
          "histogram2d": [
           {
            "colorbar": {
             "outlinewidth": 0,
             "ticks": ""
            },
            "colorscale": [
             [
              0,
              "#0d0887"
             ],
             [
              0.1111111111111111,
              "#46039f"
             ],
             [
              0.2222222222222222,
              "#7201a8"
             ],
             [
              0.3333333333333333,
              "#9c179e"
             ],
             [
              0.4444444444444444,
              "#bd3786"
             ],
             [
              0.5555555555555556,
              "#d8576b"
             ],
             [
              0.6666666666666666,
              "#ed7953"
             ],
             [
              0.7777777777777778,
              "#fb9f3a"
             ],
             [
              0.8888888888888888,
              "#fdca26"
             ],
             [
              1,
              "#f0f921"
             ]
            ],
            "type": "histogram2d"
           }
          ],
          "histogram2dcontour": [
           {
            "colorbar": {
             "outlinewidth": 0,
             "ticks": ""
            },
            "colorscale": [
             [
              0,
              "#0d0887"
             ],
             [
              0.1111111111111111,
              "#46039f"
             ],
             [
              0.2222222222222222,
              "#7201a8"
             ],
             [
              0.3333333333333333,
              "#9c179e"
             ],
             [
              0.4444444444444444,
              "#bd3786"
             ],
             [
              0.5555555555555556,
              "#d8576b"
             ],
             [
              0.6666666666666666,
              "#ed7953"
             ],
             [
              0.7777777777777778,
              "#fb9f3a"
             ],
             [
              0.8888888888888888,
              "#fdca26"
             ],
             [
              1,
              "#f0f921"
             ]
            ],
            "type": "histogram2dcontour"
           }
          ],
          "indicator": [
           {
            "mode": "number+delta+gauge",
            "title": {
             "text": "Total Cases"
            },
            "type": "indicator"
           }
          ],
          "mesh3d": [
           {
            "colorbar": {
             "outlinewidth": 0,
             "ticks": ""
            },
            "type": "mesh3d"
           }
          ],
          "parcoords": [
           {
            "line": {
             "colorbar": {
              "outlinewidth": 0,
              "ticks": ""
             }
            },
            "type": "parcoords"
           }
          ],
          "pie": [
           {
            "automargin": true,
            "type": "pie"
           }
          ],
          "scatter": [
           {
            "marker": {
             "colorbar": {
              "outlinewidth": 0,
              "ticks": ""
             }
            },
            "type": "scatter"
           }
          ],
          "scatter3d": [
           {
            "line": {
             "colorbar": {
              "outlinewidth": 0,
              "ticks": ""
             }
            },
            "marker": {
             "colorbar": {
              "outlinewidth": 0,
              "ticks": ""
             }
            },
            "type": "scatter3d"
           }
          ],
          "scattercarpet": [
           {
            "marker": {
             "colorbar": {
              "outlinewidth": 0,
              "ticks": ""
             }
            },
            "type": "scattercarpet"
           }
          ],
          "scattergeo": [
           {
            "marker": {
             "colorbar": {
              "outlinewidth": 0,
              "ticks": ""
             }
            },
            "type": "scattergeo"
           }
          ],
          "scattergl": [
           {
            "marker": {
             "colorbar": {
              "outlinewidth": 0,
              "ticks": ""
             }
            },
            "type": "scattergl"
           }
          ],
          "scattermapbox": [
           {
            "marker": {
             "colorbar": {
              "outlinewidth": 0,
              "ticks": ""
             }
            },
            "type": "scattermapbox"
           }
          ],
          "scatterpolar": [
           {
            "marker": {
             "colorbar": {
              "outlinewidth": 0,
              "ticks": ""
             }
            },
            "type": "scatterpolar"
           }
          ],
          "scatterpolargl": [
           {
            "marker": {
             "colorbar": {
              "outlinewidth": 0,
              "ticks": ""
             }
            },
            "type": "scatterpolargl"
           }
          ],
          "scatterternary": [
           {
            "marker": {
             "colorbar": {
              "outlinewidth": 0,
              "ticks": ""
             }
            },
            "type": "scatterternary"
           }
          ],
          "surface": [
           {
            "colorbar": {
             "outlinewidth": 0,
             "ticks": ""
            },
            "colorscale": [
             [
              0,
              "#0d0887"
             ],
             [
              0.1111111111111111,
              "#46039f"
             ],
             [
              0.2222222222222222,
              "#7201a8"
             ],
             [
              0.3333333333333333,
              "#9c179e"
             ],
             [
              0.4444444444444444,
              "#bd3786"
             ],
             [
              0.5555555555555556,
              "#d8576b"
             ],
             [
              0.6666666666666666,
              "#ed7953"
             ],
             [
              0.7777777777777778,
              "#fb9f3a"
             ],
             [
              0.8888888888888888,
              "#fdca26"
             ],
             [
              1,
              "#f0f921"
             ]
            ],
            "type": "surface"
           }
          ],
          "table": [
           {
            "cells": {
             "fill": {
              "color": "#EBF0F8"
             },
             "line": {
              "color": "white"
             }
            },
            "header": {
             "fill": {
              "color": "#C8D4E3"
             },
             "line": {
              "color": "white"
             }
            },
            "type": "table"
           }
          ]
         },
         "layout": {
          "annotationdefaults": {
           "arrowcolor": "#2a3f5f",
           "arrowhead": 0,
           "arrowwidth": 1
          },
          "coloraxis": {
           "colorbar": {
            "outlinewidth": 0,
            "ticks": ""
           }
          },
          "colorscale": {
           "diverging": [
            [
             0,
             "#8e0152"
            ],
            [
             0.1,
             "#c51b7d"
            ],
            [
             0.2,
             "#de77ae"
            ],
            [
             0.3,
             "#f1b6da"
            ],
            [
             0.4,
             "#fde0ef"
            ],
            [
             0.5,
             "#f7f7f7"
            ],
            [
             0.6,
             "#e6f5d0"
            ],
            [
             0.7,
             "#b8e186"
            ],
            [
             0.8,
             "#7fbc41"
            ],
            [
             0.9,
             "#4d9221"
            ],
            [
             1,
             "#276419"
            ]
           ],
           "sequential": [
            [
             0,
             "#0d0887"
            ],
            [
             0.1111111111111111,
             "#46039f"
            ],
            [
             0.2222222222222222,
             "#7201a8"
            ],
            [
             0.3333333333333333,
             "#9c179e"
            ],
            [
             0.4444444444444444,
             "#bd3786"
            ],
            [
             0.5555555555555556,
             "#d8576b"
            ],
            [
             0.6666666666666666,
             "#ed7953"
            ],
            [
             0.7777777777777778,
             "#fb9f3a"
            ],
            [
             0.8888888888888888,
             "#fdca26"
            ],
            [
             1,
             "#f0f921"
            ]
           ],
           "sequentialminus": [
            [
             0,
             "#0d0887"
            ],
            [
             0.1111111111111111,
             "#46039f"
            ],
            [
             0.2222222222222222,
             "#7201a8"
            ],
            [
             0.3333333333333333,
             "#9c179e"
            ],
            [
             0.4444444444444444,
             "#bd3786"
            ],
            [
             0.5555555555555556,
             "#d8576b"
            ],
            [
             0.6666666666666666,
             "#ed7953"
            ],
            [
             0.7777777777777778,
             "#fb9f3a"
            ],
            [
             0.8888888888888888,
             "#fdca26"
            ],
            [
             1,
             "#f0f921"
            ]
           ]
          },
          "colorway": [
           "#636efa",
           "#EF553B",
           "#00cc96",
           "#ab63fa",
           "#FFA15A",
           "#19d3f3",
           "#FF6692",
           "#B6E880",
           "#FF97FF",
           "#FECB52"
          ],
          "font": {
           "color": "#2a3f5f"
          },
          "geo": {
           "bgcolor": "white",
           "lakecolor": "white",
           "landcolor": "#E5ECF6",
           "showlakes": true,
           "showland": true,
           "subunitcolor": "white"
          },
          "hoverlabel": {
           "align": "left"
          },
          "hovermode": "closest",
          "mapbox": {
           "style": "light"
          },
          "paper_bgcolor": "white",
          "plot_bgcolor": "#E5ECF6",
          "polar": {
           "angularaxis": {
            "gridcolor": "white",
            "linecolor": "white",
            "ticks": ""
           },
           "bgcolor": "#E5ECF6",
           "radialaxis": {
            "gridcolor": "white",
            "linecolor": "white",
            "ticks": ""
           }
          },
          "scene": {
           "xaxis": {
            "backgroundcolor": "#E5ECF6",
            "gridcolor": "white",
            "gridwidth": 2,
            "linecolor": "white",
            "showbackground": true,
            "ticks": "",
            "zerolinecolor": "white"
           },
           "yaxis": {
            "backgroundcolor": "#E5ECF6",
            "gridcolor": "white",
            "gridwidth": 2,
            "linecolor": "white",
            "showbackground": true,
            "ticks": "",
            "zerolinecolor": "white"
           },
           "zaxis": {
            "backgroundcolor": "#E5ECF6",
            "gridcolor": "white",
            "gridwidth": 2,
            "linecolor": "white",
            "showbackground": true,
            "ticks": "",
            "zerolinecolor": "white"
           }
          },
          "shapedefaults": {
           "line": {
            "color": "#2a3f5f"
           }
          },
          "ternary": {
           "aaxis": {
            "gridcolor": "white",
            "linecolor": "white",
            "ticks": ""
           },
           "baxis": {
            "gridcolor": "white",
            "linecolor": "white",
            "ticks": ""
           },
           "bgcolor": "#E5ECF6",
           "caxis": {
            "gridcolor": "white",
            "linecolor": "white",
            "ticks": ""
           }
          },
          "title": {
           "x": 0.05
          },
          "xaxis": {
           "automargin": true,
           "gridcolor": "white",
           "linecolor": "white",
           "ticks": "",
           "title": {
            "standoff": 15
           },
           "zerolinecolor": "white",
           "zerolinewidth": 2
          },
          "yaxis": {
           "automargin": true,
           "gridcolor": "white",
           "linecolor": "white",
           "ticks": "",
           "title": {
            "standoff": 15
           },
           "zerolinecolor": "white",
           "zerolinewidth": 2
          }
         }
        }
       }
      },
      "text/html": [
       "<div>\n",
       "        \n",
       "        \n",
       "            <div id=\"3183c069-1792-40d1-a86b-f601f223d787\" class=\"plotly-graph-div\" style=\"height:525px; width:100%;\"></div>\n",
       "            <script type=\"text/javascript\">\n",
       "                require([\"plotly\"], function(Plotly) {\n",
       "                    window.PLOTLYENV=window.PLOTLYENV || {};\n",
       "                    \n",
       "                if (document.getElementById(\"3183c069-1792-40d1-a86b-f601f223d787\")) {\n",
       "                    Plotly.newPlot(\n",
       "                        '3183c069-1792-40d1-a86b-f601f223d787',\n",
       "                        [{\"delta\": {\"reference\": 2437220}, \"domain\": {\"column\": 0, \"row\": 0}, \"gauge\": {\"axis\": {\"visible\": false}}, \"type\": \"indicator\", \"value\": 2519068}],\n",
       "                        {\"template\": {\"data\": {\"bar\": [{\"error_x\": {\"color\": \"#2a3f5f\"}, \"error_y\": {\"color\": \"#2a3f5f\"}, \"marker\": {\"line\": {\"color\": \"#E5ECF6\", \"width\": 0.5}}, \"type\": \"bar\"}], \"barpolar\": [{\"marker\": {\"line\": {\"color\": \"#E5ECF6\", \"width\": 0.5}}, \"type\": \"barpolar\"}], \"carpet\": [{\"aaxis\": {\"endlinecolor\": \"#2a3f5f\", \"gridcolor\": \"white\", \"linecolor\": \"white\", \"minorgridcolor\": \"white\", \"startlinecolor\": \"#2a3f5f\"}, \"baxis\": {\"endlinecolor\": \"#2a3f5f\", \"gridcolor\": \"white\", \"linecolor\": \"white\", \"minorgridcolor\": \"white\", \"startlinecolor\": \"#2a3f5f\"}, \"type\": \"carpet\"}], \"choropleth\": [{\"colorbar\": {\"outlinewidth\": 0, \"ticks\": \"\"}, \"type\": \"choropleth\"}], \"contour\": [{\"colorbar\": {\"outlinewidth\": 0, \"ticks\": \"\"}, \"colorscale\": [[0.0, \"#0d0887\"], [0.1111111111111111, \"#46039f\"], [0.2222222222222222, \"#7201a8\"], [0.3333333333333333, \"#9c179e\"], [0.4444444444444444, \"#bd3786\"], [0.5555555555555556, \"#d8576b\"], [0.6666666666666666, \"#ed7953\"], [0.7777777777777778, \"#fb9f3a\"], [0.8888888888888888, \"#fdca26\"], [1.0, \"#f0f921\"]], \"type\": \"contour\"}], \"contourcarpet\": [{\"colorbar\": {\"outlinewidth\": 0, \"ticks\": \"\"}, \"type\": \"contourcarpet\"}], \"heatmap\": [{\"colorbar\": {\"outlinewidth\": 0, \"ticks\": \"\"}, \"colorscale\": [[0.0, \"#0d0887\"], [0.1111111111111111, \"#46039f\"], [0.2222222222222222, \"#7201a8\"], [0.3333333333333333, \"#9c179e\"], [0.4444444444444444, \"#bd3786\"], [0.5555555555555556, \"#d8576b\"], [0.6666666666666666, \"#ed7953\"], [0.7777777777777778, \"#fb9f3a\"], [0.8888888888888888, \"#fdca26\"], [1.0, \"#f0f921\"]], \"type\": \"heatmap\"}], \"heatmapgl\": [{\"colorbar\": {\"outlinewidth\": 0, \"ticks\": \"\"}, \"colorscale\": [[0.0, \"#0d0887\"], [0.1111111111111111, \"#46039f\"], [0.2222222222222222, \"#7201a8\"], [0.3333333333333333, \"#9c179e\"], [0.4444444444444444, \"#bd3786\"], [0.5555555555555556, \"#d8576b\"], [0.6666666666666666, \"#ed7953\"], [0.7777777777777778, \"#fb9f3a\"], [0.8888888888888888, \"#fdca26\"], [1.0, \"#f0f921\"]], \"type\": \"heatmapgl\"}], \"histogram\": [{\"marker\": {\"colorbar\": {\"outlinewidth\": 0, \"ticks\": \"\"}}, \"type\": \"histogram\"}], \"histogram2d\": [{\"colorbar\": {\"outlinewidth\": 0, \"ticks\": \"\"}, \"colorscale\": [[0.0, \"#0d0887\"], [0.1111111111111111, \"#46039f\"], [0.2222222222222222, \"#7201a8\"], [0.3333333333333333, \"#9c179e\"], [0.4444444444444444, \"#bd3786\"], [0.5555555555555556, \"#d8576b\"], [0.6666666666666666, \"#ed7953\"], [0.7777777777777778, \"#fb9f3a\"], [0.8888888888888888, \"#fdca26\"], [1.0, \"#f0f921\"]], \"type\": \"histogram2d\"}], \"histogram2dcontour\": [{\"colorbar\": {\"outlinewidth\": 0, \"ticks\": \"\"}, \"colorscale\": [[0.0, \"#0d0887\"], [0.1111111111111111, \"#46039f\"], [0.2222222222222222, \"#7201a8\"], [0.3333333333333333, \"#9c179e\"], [0.4444444444444444, \"#bd3786\"], [0.5555555555555556, \"#d8576b\"], [0.6666666666666666, \"#ed7953\"], [0.7777777777777778, \"#fb9f3a\"], [0.8888888888888888, \"#fdca26\"], [1.0, \"#f0f921\"]], \"type\": \"histogram2dcontour\"}], \"indicator\": [{\"mode\": \"number+delta+gauge\", \"title\": {\"text\": \"Total Cases\"}, \"type\": \"indicator\"}], \"mesh3d\": [{\"colorbar\": {\"outlinewidth\": 0, \"ticks\": \"\"}, \"type\": \"mesh3d\"}], \"parcoords\": [{\"line\": {\"colorbar\": {\"outlinewidth\": 0, \"ticks\": \"\"}}, \"type\": \"parcoords\"}], \"pie\": [{\"automargin\": true, \"type\": \"pie\"}], \"scatter\": [{\"marker\": {\"colorbar\": {\"outlinewidth\": 0, \"ticks\": \"\"}}, \"type\": \"scatter\"}], \"scatter3d\": [{\"line\": {\"colorbar\": {\"outlinewidth\": 0, \"ticks\": \"\"}}, \"marker\": {\"colorbar\": {\"outlinewidth\": 0, \"ticks\": \"\"}}, \"type\": \"scatter3d\"}], \"scattercarpet\": [{\"marker\": {\"colorbar\": {\"outlinewidth\": 0, \"ticks\": \"\"}}, \"type\": \"scattercarpet\"}], \"scattergeo\": [{\"marker\": {\"colorbar\": {\"outlinewidth\": 0, \"ticks\": \"\"}}, \"type\": \"scattergeo\"}], \"scattergl\": [{\"marker\": {\"colorbar\": {\"outlinewidth\": 0, \"ticks\": \"\"}}, \"type\": \"scattergl\"}], \"scattermapbox\": [{\"marker\": {\"colorbar\": {\"outlinewidth\": 0, \"ticks\": \"\"}}, \"type\": \"scattermapbox\"}], \"scatterpolar\": [{\"marker\": {\"colorbar\": {\"outlinewidth\": 0, \"ticks\": \"\"}}, \"type\": \"scatterpolar\"}], \"scatterpolargl\": [{\"marker\": {\"colorbar\": {\"outlinewidth\": 0, \"ticks\": \"\"}}, \"type\": \"scatterpolargl\"}], \"scatterternary\": [{\"marker\": {\"colorbar\": {\"outlinewidth\": 0, \"ticks\": \"\"}}, \"type\": \"scatterternary\"}], \"surface\": [{\"colorbar\": {\"outlinewidth\": 0, \"ticks\": \"\"}, \"colorscale\": [[0.0, \"#0d0887\"], [0.1111111111111111, \"#46039f\"], [0.2222222222222222, \"#7201a8\"], [0.3333333333333333, \"#9c179e\"], [0.4444444444444444, \"#bd3786\"], [0.5555555555555556, \"#d8576b\"], [0.6666666666666666, \"#ed7953\"], [0.7777777777777778, \"#fb9f3a\"], [0.8888888888888888, \"#fdca26\"], [1.0, \"#f0f921\"]], \"type\": \"surface\"}], \"table\": [{\"cells\": {\"fill\": {\"color\": \"#EBF0F8\"}, \"line\": {\"color\": \"white\"}}, \"header\": {\"fill\": {\"color\": \"#C8D4E3\"}, \"line\": {\"color\": \"white\"}}, \"type\": \"table\"}]}, \"layout\": {\"annotationdefaults\": {\"arrowcolor\": \"#2a3f5f\", \"arrowhead\": 0, \"arrowwidth\": 1}, \"coloraxis\": {\"colorbar\": {\"outlinewidth\": 0, \"ticks\": \"\"}}, \"colorscale\": {\"diverging\": [[0, \"#8e0152\"], [0.1, \"#c51b7d\"], [0.2, \"#de77ae\"], [0.3, \"#f1b6da\"], [0.4, \"#fde0ef\"], [0.5, \"#f7f7f7\"], [0.6, \"#e6f5d0\"], [0.7, \"#b8e186\"], [0.8, \"#7fbc41\"], [0.9, \"#4d9221\"], [1, \"#276419\"]], \"sequential\": [[0.0, \"#0d0887\"], [0.1111111111111111, \"#46039f\"], [0.2222222222222222, \"#7201a8\"], [0.3333333333333333, \"#9c179e\"], [0.4444444444444444, \"#bd3786\"], [0.5555555555555556, \"#d8576b\"], [0.6666666666666666, \"#ed7953\"], [0.7777777777777778, \"#fb9f3a\"], [0.8888888888888888, \"#fdca26\"], [1.0, \"#f0f921\"]], \"sequentialminus\": [[0.0, \"#0d0887\"], [0.1111111111111111, \"#46039f\"], [0.2222222222222222, \"#7201a8\"], [0.3333333333333333, \"#9c179e\"], [0.4444444444444444, \"#bd3786\"], [0.5555555555555556, \"#d8576b\"], [0.6666666666666666, \"#ed7953\"], [0.7777777777777778, \"#fb9f3a\"], [0.8888888888888888, \"#fdca26\"], [1.0, \"#f0f921\"]]}, \"colorway\": [\"#636efa\", \"#EF553B\", \"#00cc96\", \"#ab63fa\", \"#FFA15A\", \"#19d3f3\", \"#FF6692\", \"#B6E880\", \"#FF97FF\", \"#FECB52\"], \"font\": {\"color\": \"#2a3f5f\"}, \"geo\": {\"bgcolor\": \"white\", \"lakecolor\": \"white\", \"landcolor\": \"#E5ECF6\", \"showlakes\": true, \"showland\": true, \"subunitcolor\": \"white\"}, \"hoverlabel\": {\"align\": \"left\"}, \"hovermode\": \"closest\", \"mapbox\": {\"style\": \"light\"}, \"paper_bgcolor\": \"white\", \"plot_bgcolor\": \"#E5ECF6\", \"polar\": {\"angularaxis\": {\"gridcolor\": \"white\", \"linecolor\": \"white\", \"ticks\": \"\"}, \"bgcolor\": \"#E5ECF6\", \"radialaxis\": {\"gridcolor\": \"white\", \"linecolor\": \"white\", \"ticks\": \"\"}}, \"scene\": {\"xaxis\": {\"backgroundcolor\": \"#E5ECF6\", \"gridcolor\": \"white\", \"gridwidth\": 2, \"linecolor\": \"white\", \"showbackground\": true, \"ticks\": \"\", \"zerolinecolor\": \"white\"}, \"yaxis\": {\"backgroundcolor\": \"#E5ECF6\", \"gridcolor\": \"white\", \"gridwidth\": 2, \"linecolor\": \"white\", \"showbackground\": true, \"ticks\": \"\", \"zerolinecolor\": \"white\"}, \"zaxis\": {\"backgroundcolor\": \"#E5ECF6\", \"gridcolor\": \"white\", \"gridwidth\": 2, \"linecolor\": \"white\", \"showbackground\": true, \"ticks\": \"\", \"zerolinecolor\": \"white\"}}, \"shapedefaults\": {\"line\": {\"color\": \"#2a3f5f\"}}, \"ternary\": {\"aaxis\": {\"gridcolor\": \"white\", \"linecolor\": \"white\", \"ticks\": \"\"}, \"baxis\": {\"gridcolor\": \"white\", \"linecolor\": \"white\", \"ticks\": \"\"}, \"bgcolor\": \"#E5ECF6\", \"caxis\": {\"gridcolor\": \"white\", \"linecolor\": \"white\", \"ticks\": \"\"}}, \"title\": {\"x\": 0.05}, \"xaxis\": {\"automargin\": true, \"gridcolor\": \"white\", \"linecolor\": \"white\", \"ticks\": \"\", \"title\": {\"standoff\": 15}, \"zerolinecolor\": \"white\", \"zerolinewidth\": 2}, \"yaxis\": {\"automargin\": true, \"gridcolor\": \"white\", \"linecolor\": \"white\", \"ticks\": \"\", \"title\": {\"standoff\": 15}, \"zerolinecolor\": \"white\", \"zerolinewidth\": 2}}}},\n",
       "                        {\"responsive\": true}\n",
       "                    ).then(function(){\n",
       "                            \n",
       "var gd = document.getElementById('3183c069-1792-40d1-a86b-f601f223d787');\n",
       "var x = new MutationObserver(function (mutations, observer) {{\n",
       "        var display = window.getComputedStyle(gd).display;\n",
       "        if (!display || display === 'none') {{\n",
       "            console.log([gd, 'removed!']);\n",
       "            Plotly.purge(gd);\n",
       "            observer.disconnect();\n",
       "        }}\n",
       "}});\n",
       "\n",
       "// Listen for the removal of the full notebook cells\n",
       "var notebookContainer = gd.closest('#notebook-container');\n",
       "if (notebookContainer) {{\n",
       "    x.observe(notebookContainer, {childList: true});\n",
       "}}\n",
       "\n",
       "// Listen for the clearing of the current output cell\n",
       "var outputEl = gd.closest('.output');\n",
       "if (outputEl) {{\n",
       "    x.observe(outputEl, {childList: true});\n",
       "}}\n",
       "\n",
       "                        })\n",
       "                };\n",
       "                });\n",
       "            </script>\n",
       "        </div>"
      ]
     },
     "metadata": {},
     "output_type": "display_data"
    }
   ],
   "source": [
    "# total cases indicator\n",
    "fig1 = go.Figure(go.Indicator(\n",
    "    \n",
    "    value = tot_cases,\n",
    "    delta = {'reference': diff},\n",
    "    gauge = {\n",
    "        'axis': {'visible': False}},\n",
    "    domain = {'row': 0, 'column': 0}))\n",
    "\n",
    "fig1 = fig1.update_layout(\n",
    "    template = {'data' : {'indicator': [{\n",
    "        'title': {'text': \"Total Cases\"},\n",
    "        'mode' : \"number+delta+gauge\",\n",
    "        }]\n",
    "                         }})\n",
    "fig1.show()"
   ]
  },
  {
   "cell_type": "code",
   "execution_count": 11,
   "metadata": {},
   "outputs": [
    {
     "data": {
      "application/vnd.plotly.v1+json": {
       "config": {
        "plotlyServerURL": "https://plot.ly"
       },
       "data": [
        {
         "delta": {
          "reference": 644750
         },
         "domain": {
          "column": 1,
          "row": 0
         },
         "mode": "number+delta",
         "type": "indicator",
         "value": 679073
        }
       ],
       "layout": {
        "template": {
         "data": {
          "bar": [
           {
            "error_x": {
             "color": "#2a3f5f"
            },
            "error_y": {
             "color": "#2a3f5f"
            },
            "marker": {
             "line": {
              "color": "#E5ECF6",
              "width": 0.5
             }
            },
            "type": "bar"
           }
          ],
          "barpolar": [
           {
            "marker": {
             "line": {
              "color": "#E5ECF6",
              "width": 0.5
             }
            },
            "type": "barpolar"
           }
          ],
          "carpet": [
           {
            "aaxis": {
             "endlinecolor": "#2a3f5f",
             "gridcolor": "white",
             "linecolor": "white",
             "minorgridcolor": "white",
             "startlinecolor": "#2a3f5f"
            },
            "baxis": {
             "endlinecolor": "#2a3f5f",
             "gridcolor": "white",
             "linecolor": "white",
             "minorgridcolor": "white",
             "startlinecolor": "#2a3f5f"
            },
            "type": "carpet"
           }
          ],
          "choropleth": [
           {
            "colorbar": {
             "outlinewidth": 0,
             "ticks": ""
            },
            "type": "choropleth"
           }
          ],
          "contour": [
           {
            "colorbar": {
             "outlinewidth": 0,
             "ticks": ""
            },
            "colorscale": [
             [
              0,
              "#0d0887"
             ],
             [
              0.1111111111111111,
              "#46039f"
             ],
             [
              0.2222222222222222,
              "#7201a8"
             ],
             [
              0.3333333333333333,
              "#9c179e"
             ],
             [
              0.4444444444444444,
              "#bd3786"
             ],
             [
              0.5555555555555556,
              "#d8576b"
             ],
             [
              0.6666666666666666,
              "#ed7953"
             ],
             [
              0.7777777777777778,
              "#fb9f3a"
             ],
             [
              0.8888888888888888,
              "#fdca26"
             ],
             [
              1,
              "#f0f921"
             ]
            ],
            "type": "contour"
           }
          ],
          "contourcarpet": [
           {
            "colorbar": {
             "outlinewidth": 0,
             "ticks": ""
            },
            "type": "contourcarpet"
           }
          ],
          "heatmap": [
           {
            "colorbar": {
             "outlinewidth": 0,
             "ticks": ""
            },
            "colorscale": [
             [
              0,
              "#0d0887"
             ],
             [
              0.1111111111111111,
              "#46039f"
             ],
             [
              0.2222222222222222,
              "#7201a8"
             ],
             [
              0.3333333333333333,
              "#9c179e"
             ],
             [
              0.4444444444444444,
              "#bd3786"
             ],
             [
              0.5555555555555556,
              "#d8576b"
             ],
             [
              0.6666666666666666,
              "#ed7953"
             ],
             [
              0.7777777777777778,
              "#fb9f3a"
             ],
             [
              0.8888888888888888,
              "#fdca26"
             ],
             [
              1,
              "#f0f921"
             ]
            ],
            "type": "heatmap"
           }
          ],
          "heatmapgl": [
           {
            "colorbar": {
             "outlinewidth": 0,
             "ticks": ""
            },
            "colorscale": [
             [
              0,
              "#0d0887"
             ],
             [
              0.1111111111111111,
              "#46039f"
             ],
             [
              0.2222222222222222,
              "#7201a8"
             ],
             [
              0.3333333333333333,
              "#9c179e"
             ],
             [
              0.4444444444444444,
              "#bd3786"
             ],
             [
              0.5555555555555556,
              "#d8576b"
             ],
             [
              0.6666666666666666,
              "#ed7953"
             ],
             [
              0.7777777777777778,
              "#fb9f3a"
             ],
             [
              0.8888888888888888,
              "#fdca26"
             ],
             [
              1,
              "#f0f921"
             ]
            ],
            "type": "heatmapgl"
           }
          ],
          "histogram": [
           {
            "marker": {
             "colorbar": {
              "outlinewidth": 0,
              "ticks": ""
             }
            },
            "type": "histogram"
           }
          ],
          "histogram2d": [
           {
            "colorbar": {
             "outlinewidth": 0,
             "ticks": ""
            },
            "colorscale": [
             [
              0,
              "#0d0887"
             ],
             [
              0.1111111111111111,
              "#46039f"
             ],
             [
              0.2222222222222222,
              "#7201a8"
             ],
             [
              0.3333333333333333,
              "#9c179e"
             ],
             [
              0.4444444444444444,
              "#bd3786"
             ],
             [
              0.5555555555555556,
              "#d8576b"
             ],
             [
              0.6666666666666666,
              "#ed7953"
             ],
             [
              0.7777777777777778,
              "#fb9f3a"
             ],
             [
              0.8888888888888888,
              "#fdca26"
             ],
             [
              1,
              "#f0f921"
             ]
            ],
            "type": "histogram2d"
           }
          ],
          "histogram2dcontour": [
           {
            "colorbar": {
             "outlinewidth": 0,
             "ticks": ""
            },
            "colorscale": [
             [
              0,
              "#0d0887"
             ],
             [
              0.1111111111111111,
              "#46039f"
             ],
             [
              0.2222222222222222,
              "#7201a8"
             ],
             [
              0.3333333333333333,
              "#9c179e"
             ],
             [
              0.4444444444444444,
              "#bd3786"
             ],
             [
              0.5555555555555556,
              "#d8576b"
             ],
             [
              0.6666666666666666,
              "#ed7953"
             ],
             [
              0.7777777777777778,
              "#fb9f3a"
             ],
             [
              0.8888888888888888,
              "#fdca26"
             ],
             [
              1,
              "#f0f921"
             ]
            ],
            "type": "histogram2dcontour"
           }
          ],
          "indicator": [
           {
            "title": {
             "text": "Recoveries"
            },
            "type": "indicator"
           }
          ],
          "mesh3d": [
           {
            "colorbar": {
             "outlinewidth": 0,
             "ticks": ""
            },
            "type": "mesh3d"
           }
          ],
          "parcoords": [
           {
            "line": {
             "colorbar": {
              "outlinewidth": 0,
              "ticks": ""
             }
            },
            "type": "parcoords"
           }
          ],
          "pie": [
           {
            "automargin": true,
            "type": "pie"
           }
          ],
          "scatter": [
           {
            "marker": {
             "colorbar": {
              "outlinewidth": 0,
              "ticks": ""
             }
            },
            "type": "scatter"
           }
          ],
          "scatter3d": [
           {
            "line": {
             "colorbar": {
              "outlinewidth": 0,
              "ticks": ""
             }
            },
            "marker": {
             "colorbar": {
              "outlinewidth": 0,
              "ticks": ""
             }
            },
            "type": "scatter3d"
           }
          ],
          "scattercarpet": [
           {
            "marker": {
             "colorbar": {
              "outlinewidth": 0,
              "ticks": ""
             }
            },
            "type": "scattercarpet"
           }
          ],
          "scattergeo": [
           {
            "marker": {
             "colorbar": {
              "outlinewidth": 0,
              "ticks": ""
             }
            },
            "type": "scattergeo"
           }
          ],
          "scattergl": [
           {
            "marker": {
             "colorbar": {
              "outlinewidth": 0,
              "ticks": ""
             }
            },
            "type": "scattergl"
           }
          ],
          "scattermapbox": [
           {
            "marker": {
             "colorbar": {
              "outlinewidth": 0,
              "ticks": ""
             }
            },
            "type": "scattermapbox"
           }
          ],
          "scatterpolar": [
           {
            "marker": {
             "colorbar": {
              "outlinewidth": 0,
              "ticks": ""
             }
            },
            "type": "scatterpolar"
           }
          ],
          "scatterpolargl": [
           {
            "marker": {
             "colorbar": {
              "outlinewidth": 0,
              "ticks": ""
             }
            },
            "type": "scatterpolargl"
           }
          ],
          "scatterternary": [
           {
            "marker": {
             "colorbar": {
              "outlinewidth": 0,
              "ticks": ""
             }
            },
            "type": "scatterternary"
           }
          ],
          "surface": [
           {
            "colorbar": {
             "outlinewidth": 0,
             "ticks": ""
            },
            "colorscale": [
             [
              0,
              "#0d0887"
             ],
             [
              0.1111111111111111,
              "#46039f"
             ],
             [
              0.2222222222222222,
              "#7201a8"
             ],
             [
              0.3333333333333333,
              "#9c179e"
             ],
             [
              0.4444444444444444,
              "#bd3786"
             ],
             [
              0.5555555555555556,
              "#d8576b"
             ],
             [
              0.6666666666666666,
              "#ed7953"
             ],
             [
              0.7777777777777778,
              "#fb9f3a"
             ],
             [
              0.8888888888888888,
              "#fdca26"
             ],
             [
              1,
              "#f0f921"
             ]
            ],
            "type": "surface"
           }
          ],
          "table": [
           {
            "cells": {
             "fill": {
              "color": "#EBF0F8"
             },
             "line": {
              "color": "white"
             }
            },
            "header": {
             "fill": {
              "color": "#C8D4E3"
             },
             "line": {
              "color": "white"
             }
            },
            "type": "table"
           }
          ]
         },
         "layout": {
          "annotationdefaults": {
           "arrowcolor": "#2a3f5f",
           "arrowhead": 0,
           "arrowwidth": 1
          },
          "coloraxis": {
           "colorbar": {
            "outlinewidth": 0,
            "ticks": ""
           }
          },
          "colorscale": {
           "diverging": [
            [
             0,
             "#8e0152"
            ],
            [
             0.1,
             "#c51b7d"
            ],
            [
             0.2,
             "#de77ae"
            ],
            [
             0.3,
             "#f1b6da"
            ],
            [
             0.4,
             "#fde0ef"
            ],
            [
             0.5,
             "#f7f7f7"
            ],
            [
             0.6,
             "#e6f5d0"
            ],
            [
             0.7,
             "#b8e186"
            ],
            [
             0.8,
             "#7fbc41"
            ],
            [
             0.9,
             "#4d9221"
            ],
            [
             1,
             "#276419"
            ]
           ],
           "sequential": [
            [
             0,
             "#0d0887"
            ],
            [
             0.1111111111111111,
             "#46039f"
            ],
            [
             0.2222222222222222,
             "#7201a8"
            ],
            [
             0.3333333333333333,
             "#9c179e"
            ],
            [
             0.4444444444444444,
             "#bd3786"
            ],
            [
             0.5555555555555556,
             "#d8576b"
            ],
            [
             0.6666666666666666,
             "#ed7953"
            ],
            [
             0.7777777777777778,
             "#fb9f3a"
            ],
            [
             0.8888888888888888,
             "#fdca26"
            ],
            [
             1,
             "#f0f921"
            ]
           ],
           "sequentialminus": [
            [
             0,
             "#0d0887"
            ],
            [
             0.1111111111111111,
             "#46039f"
            ],
            [
             0.2222222222222222,
             "#7201a8"
            ],
            [
             0.3333333333333333,
             "#9c179e"
            ],
            [
             0.4444444444444444,
             "#bd3786"
            ],
            [
             0.5555555555555556,
             "#d8576b"
            ],
            [
             0.6666666666666666,
             "#ed7953"
            ],
            [
             0.7777777777777778,
             "#fb9f3a"
            ],
            [
             0.8888888888888888,
             "#fdca26"
            ],
            [
             1,
             "#f0f921"
            ]
           ]
          },
          "colorway": [
           "#636efa",
           "#EF553B",
           "#00cc96",
           "#ab63fa",
           "#FFA15A",
           "#19d3f3",
           "#FF6692",
           "#B6E880",
           "#FF97FF",
           "#FECB52"
          ],
          "font": {
           "color": "#2a3f5f"
          },
          "geo": {
           "bgcolor": "white",
           "lakecolor": "white",
           "landcolor": "#E5ECF6",
           "showlakes": true,
           "showland": true,
           "subunitcolor": "white"
          },
          "hoverlabel": {
           "align": "left"
          },
          "hovermode": "closest",
          "mapbox": {
           "style": "light"
          },
          "paper_bgcolor": "white",
          "plot_bgcolor": "#E5ECF6",
          "polar": {
           "angularaxis": {
            "gridcolor": "white",
            "linecolor": "white",
            "ticks": ""
           },
           "bgcolor": "#E5ECF6",
           "radialaxis": {
            "gridcolor": "white",
            "linecolor": "white",
            "ticks": ""
           }
          },
          "scene": {
           "xaxis": {
            "backgroundcolor": "#E5ECF6",
            "gridcolor": "white",
            "gridwidth": 2,
            "linecolor": "white",
            "showbackground": true,
            "ticks": "",
            "zerolinecolor": "white"
           },
           "yaxis": {
            "backgroundcolor": "#E5ECF6",
            "gridcolor": "white",
            "gridwidth": 2,
            "linecolor": "white",
            "showbackground": true,
            "ticks": "",
            "zerolinecolor": "white"
           },
           "zaxis": {
            "backgroundcolor": "#E5ECF6",
            "gridcolor": "white",
            "gridwidth": 2,
            "linecolor": "white",
            "showbackground": true,
            "ticks": "",
            "zerolinecolor": "white"
           }
          },
          "shapedefaults": {
           "line": {
            "color": "#2a3f5f"
           }
          },
          "ternary": {
           "aaxis": {
            "gridcolor": "white",
            "linecolor": "white",
            "ticks": ""
           },
           "baxis": {
            "gridcolor": "white",
            "linecolor": "white",
            "ticks": ""
           },
           "bgcolor": "#E5ECF6",
           "caxis": {
            "gridcolor": "white",
            "linecolor": "white",
            "ticks": ""
           }
          },
          "title": {
           "x": 0.05
          },
          "xaxis": {
           "automargin": true,
           "gridcolor": "white",
           "linecolor": "white",
           "ticks": "",
           "title": {
            "standoff": 15
           },
           "zerolinecolor": "white",
           "zerolinewidth": 2
          },
          "yaxis": {
           "automargin": true,
           "gridcolor": "white",
           "linecolor": "white",
           "ticks": "",
           "title": {
            "standoff": 15
           },
           "zerolinecolor": "white",
           "zerolinewidth": 2
          }
         }
        }
       }
      },
      "text/html": [
       "<div>\n",
       "        \n",
       "        \n",
       "            <div id=\"0f5ebe84-1d1d-4bf1-ab00-4611045e599b\" class=\"plotly-graph-div\" style=\"height:525px; width:100%;\"></div>\n",
       "            <script type=\"text/javascript\">\n",
       "                require([\"plotly\"], function(Plotly) {\n",
       "                    window.PLOTLYENV=window.PLOTLYENV || {};\n",
       "                    \n",
       "                if (document.getElementById(\"0f5ebe84-1d1d-4bf1-ab00-4611045e599b\")) {\n",
       "                    Plotly.newPlot(\n",
       "                        '0f5ebe84-1d1d-4bf1-ab00-4611045e599b',\n",
       "                        [{\"delta\": {\"reference\": 644750}, \"domain\": {\"column\": 1, \"row\": 0}, \"mode\": \"number+delta\", \"type\": \"indicator\", \"value\": 679073}],\n",
       "                        {\"template\": {\"data\": {\"bar\": [{\"error_x\": {\"color\": \"#2a3f5f\"}, \"error_y\": {\"color\": \"#2a3f5f\"}, \"marker\": {\"line\": {\"color\": \"#E5ECF6\", \"width\": 0.5}}, \"type\": \"bar\"}], \"barpolar\": [{\"marker\": {\"line\": {\"color\": \"#E5ECF6\", \"width\": 0.5}}, \"type\": \"barpolar\"}], \"carpet\": [{\"aaxis\": {\"endlinecolor\": \"#2a3f5f\", \"gridcolor\": \"white\", \"linecolor\": \"white\", \"minorgridcolor\": \"white\", \"startlinecolor\": \"#2a3f5f\"}, \"baxis\": {\"endlinecolor\": \"#2a3f5f\", \"gridcolor\": \"white\", \"linecolor\": \"white\", \"minorgridcolor\": \"white\", \"startlinecolor\": \"#2a3f5f\"}, \"type\": \"carpet\"}], \"choropleth\": [{\"colorbar\": {\"outlinewidth\": 0, \"ticks\": \"\"}, \"type\": \"choropleth\"}], \"contour\": [{\"colorbar\": {\"outlinewidth\": 0, \"ticks\": \"\"}, \"colorscale\": [[0.0, \"#0d0887\"], [0.1111111111111111, \"#46039f\"], [0.2222222222222222, \"#7201a8\"], [0.3333333333333333, \"#9c179e\"], [0.4444444444444444, \"#bd3786\"], [0.5555555555555556, \"#d8576b\"], [0.6666666666666666, \"#ed7953\"], [0.7777777777777778, \"#fb9f3a\"], [0.8888888888888888, \"#fdca26\"], [1.0, \"#f0f921\"]], \"type\": \"contour\"}], \"contourcarpet\": [{\"colorbar\": {\"outlinewidth\": 0, \"ticks\": \"\"}, \"type\": \"contourcarpet\"}], \"heatmap\": [{\"colorbar\": {\"outlinewidth\": 0, \"ticks\": \"\"}, \"colorscale\": [[0.0, \"#0d0887\"], [0.1111111111111111, \"#46039f\"], [0.2222222222222222, \"#7201a8\"], [0.3333333333333333, \"#9c179e\"], [0.4444444444444444, \"#bd3786\"], [0.5555555555555556, \"#d8576b\"], [0.6666666666666666, \"#ed7953\"], [0.7777777777777778, \"#fb9f3a\"], [0.8888888888888888, \"#fdca26\"], [1.0, \"#f0f921\"]], \"type\": \"heatmap\"}], \"heatmapgl\": [{\"colorbar\": {\"outlinewidth\": 0, \"ticks\": \"\"}, \"colorscale\": [[0.0, \"#0d0887\"], [0.1111111111111111, \"#46039f\"], [0.2222222222222222, \"#7201a8\"], [0.3333333333333333, \"#9c179e\"], [0.4444444444444444, \"#bd3786\"], [0.5555555555555556, \"#d8576b\"], [0.6666666666666666, \"#ed7953\"], [0.7777777777777778, \"#fb9f3a\"], [0.8888888888888888, \"#fdca26\"], [1.0, \"#f0f921\"]], \"type\": \"heatmapgl\"}], \"histogram\": [{\"marker\": {\"colorbar\": {\"outlinewidth\": 0, \"ticks\": \"\"}}, \"type\": \"histogram\"}], \"histogram2d\": [{\"colorbar\": {\"outlinewidth\": 0, \"ticks\": \"\"}, \"colorscale\": [[0.0, \"#0d0887\"], [0.1111111111111111, \"#46039f\"], [0.2222222222222222, \"#7201a8\"], [0.3333333333333333, \"#9c179e\"], [0.4444444444444444, \"#bd3786\"], [0.5555555555555556, \"#d8576b\"], [0.6666666666666666, \"#ed7953\"], [0.7777777777777778, \"#fb9f3a\"], [0.8888888888888888, \"#fdca26\"], [1.0, \"#f0f921\"]], \"type\": \"histogram2d\"}], \"histogram2dcontour\": [{\"colorbar\": {\"outlinewidth\": 0, \"ticks\": \"\"}, \"colorscale\": [[0.0, \"#0d0887\"], [0.1111111111111111, \"#46039f\"], [0.2222222222222222, \"#7201a8\"], [0.3333333333333333, \"#9c179e\"], [0.4444444444444444, \"#bd3786\"], [0.5555555555555556, \"#d8576b\"], [0.6666666666666666, \"#ed7953\"], [0.7777777777777778, \"#fb9f3a\"], [0.8888888888888888, \"#fdca26\"], [1.0, \"#f0f921\"]], \"type\": \"histogram2dcontour\"}], \"indicator\": [{\"title\": {\"text\": \"Recoveries\"}, \"type\": \"indicator\"}], \"mesh3d\": [{\"colorbar\": {\"outlinewidth\": 0, \"ticks\": \"\"}, \"type\": \"mesh3d\"}], \"parcoords\": [{\"line\": {\"colorbar\": {\"outlinewidth\": 0, \"ticks\": \"\"}}, \"type\": \"parcoords\"}], \"pie\": [{\"automargin\": true, \"type\": \"pie\"}], \"scatter\": [{\"marker\": {\"colorbar\": {\"outlinewidth\": 0, \"ticks\": \"\"}}, \"type\": \"scatter\"}], \"scatter3d\": [{\"line\": {\"colorbar\": {\"outlinewidth\": 0, \"ticks\": \"\"}}, \"marker\": {\"colorbar\": {\"outlinewidth\": 0, \"ticks\": \"\"}}, \"type\": \"scatter3d\"}], \"scattercarpet\": [{\"marker\": {\"colorbar\": {\"outlinewidth\": 0, \"ticks\": \"\"}}, \"type\": \"scattercarpet\"}], \"scattergeo\": [{\"marker\": {\"colorbar\": {\"outlinewidth\": 0, \"ticks\": \"\"}}, \"type\": \"scattergeo\"}], \"scattergl\": [{\"marker\": {\"colorbar\": {\"outlinewidth\": 0, \"ticks\": \"\"}}, \"type\": \"scattergl\"}], \"scattermapbox\": [{\"marker\": {\"colorbar\": {\"outlinewidth\": 0, \"ticks\": \"\"}}, \"type\": \"scattermapbox\"}], \"scatterpolar\": [{\"marker\": {\"colorbar\": {\"outlinewidth\": 0, \"ticks\": \"\"}}, \"type\": \"scatterpolar\"}], \"scatterpolargl\": [{\"marker\": {\"colorbar\": {\"outlinewidth\": 0, \"ticks\": \"\"}}, \"type\": \"scatterpolargl\"}], \"scatterternary\": [{\"marker\": {\"colorbar\": {\"outlinewidth\": 0, \"ticks\": \"\"}}, \"type\": \"scatterternary\"}], \"surface\": [{\"colorbar\": {\"outlinewidth\": 0, \"ticks\": \"\"}, \"colorscale\": [[0.0, \"#0d0887\"], [0.1111111111111111, \"#46039f\"], [0.2222222222222222, \"#7201a8\"], [0.3333333333333333, \"#9c179e\"], [0.4444444444444444, \"#bd3786\"], [0.5555555555555556, \"#d8576b\"], [0.6666666666666666, \"#ed7953\"], [0.7777777777777778, \"#fb9f3a\"], [0.8888888888888888, \"#fdca26\"], [1.0, \"#f0f921\"]], \"type\": \"surface\"}], \"table\": [{\"cells\": {\"fill\": {\"color\": \"#EBF0F8\"}, \"line\": {\"color\": \"white\"}}, \"header\": {\"fill\": {\"color\": \"#C8D4E3\"}, \"line\": {\"color\": \"white\"}}, \"type\": \"table\"}]}, \"layout\": {\"annotationdefaults\": {\"arrowcolor\": \"#2a3f5f\", \"arrowhead\": 0, \"arrowwidth\": 1}, \"coloraxis\": {\"colorbar\": {\"outlinewidth\": 0, \"ticks\": \"\"}}, \"colorscale\": {\"diverging\": [[0, \"#8e0152\"], [0.1, \"#c51b7d\"], [0.2, \"#de77ae\"], [0.3, \"#f1b6da\"], [0.4, \"#fde0ef\"], [0.5, \"#f7f7f7\"], [0.6, \"#e6f5d0\"], [0.7, \"#b8e186\"], [0.8, \"#7fbc41\"], [0.9, \"#4d9221\"], [1, \"#276419\"]], \"sequential\": [[0.0, \"#0d0887\"], [0.1111111111111111, \"#46039f\"], [0.2222222222222222, \"#7201a8\"], [0.3333333333333333, \"#9c179e\"], [0.4444444444444444, \"#bd3786\"], [0.5555555555555556, \"#d8576b\"], [0.6666666666666666, \"#ed7953\"], [0.7777777777777778, \"#fb9f3a\"], [0.8888888888888888, \"#fdca26\"], [1.0, \"#f0f921\"]], \"sequentialminus\": [[0.0, \"#0d0887\"], [0.1111111111111111, \"#46039f\"], [0.2222222222222222, \"#7201a8\"], [0.3333333333333333, \"#9c179e\"], [0.4444444444444444, \"#bd3786\"], [0.5555555555555556, \"#d8576b\"], [0.6666666666666666, \"#ed7953\"], [0.7777777777777778, \"#fb9f3a\"], [0.8888888888888888, \"#fdca26\"], [1.0, \"#f0f921\"]]}, \"colorway\": [\"#636efa\", \"#EF553B\", \"#00cc96\", \"#ab63fa\", \"#FFA15A\", \"#19d3f3\", \"#FF6692\", \"#B6E880\", \"#FF97FF\", \"#FECB52\"], \"font\": {\"color\": \"#2a3f5f\"}, \"geo\": {\"bgcolor\": \"white\", \"lakecolor\": \"white\", \"landcolor\": \"#E5ECF6\", \"showlakes\": true, \"showland\": true, \"subunitcolor\": \"white\"}, \"hoverlabel\": {\"align\": \"left\"}, \"hovermode\": \"closest\", \"mapbox\": {\"style\": \"light\"}, \"paper_bgcolor\": \"white\", \"plot_bgcolor\": \"#E5ECF6\", \"polar\": {\"angularaxis\": {\"gridcolor\": \"white\", \"linecolor\": \"white\", \"ticks\": \"\"}, \"bgcolor\": \"#E5ECF6\", \"radialaxis\": {\"gridcolor\": \"white\", \"linecolor\": \"white\", \"ticks\": \"\"}}, \"scene\": {\"xaxis\": {\"backgroundcolor\": \"#E5ECF6\", \"gridcolor\": \"white\", \"gridwidth\": 2, \"linecolor\": \"white\", \"showbackground\": true, \"ticks\": \"\", \"zerolinecolor\": \"white\"}, \"yaxis\": {\"backgroundcolor\": \"#E5ECF6\", \"gridcolor\": \"white\", \"gridwidth\": 2, \"linecolor\": \"white\", \"showbackground\": true, \"ticks\": \"\", \"zerolinecolor\": \"white\"}, \"zaxis\": {\"backgroundcolor\": \"#E5ECF6\", \"gridcolor\": \"white\", \"gridwidth\": 2, \"linecolor\": \"white\", \"showbackground\": true, \"ticks\": \"\", \"zerolinecolor\": \"white\"}}, \"shapedefaults\": {\"line\": {\"color\": \"#2a3f5f\"}}, \"ternary\": {\"aaxis\": {\"gridcolor\": \"white\", \"linecolor\": \"white\", \"ticks\": \"\"}, \"baxis\": {\"gridcolor\": \"white\", \"linecolor\": \"white\", \"ticks\": \"\"}, \"bgcolor\": \"#E5ECF6\", \"caxis\": {\"gridcolor\": \"white\", \"linecolor\": \"white\", \"ticks\": \"\"}}, \"title\": {\"x\": 0.05}, \"xaxis\": {\"automargin\": true, \"gridcolor\": \"white\", \"linecolor\": \"white\", \"ticks\": \"\", \"title\": {\"standoff\": 15}, \"zerolinecolor\": \"white\", \"zerolinewidth\": 2}, \"yaxis\": {\"automargin\": true, \"gridcolor\": \"white\", \"linecolor\": \"white\", \"ticks\": \"\", \"title\": {\"standoff\": 15}, \"zerolinecolor\": \"white\", \"zerolinewidth\": 2}}}},\n",
       "                        {\"responsive\": true}\n",
       "                    ).then(function(){\n",
       "                            \n",
       "var gd = document.getElementById('0f5ebe84-1d1d-4bf1-ab00-4611045e599b');\n",
       "var x = new MutationObserver(function (mutations, observer) {{\n",
       "        var display = window.getComputedStyle(gd).display;\n",
       "        if (!display || display === 'none') {{\n",
       "            console.log([gd, 'removed!']);\n",
       "            Plotly.purge(gd);\n",
       "            observer.disconnect();\n",
       "        }}\n",
       "}});\n",
       "\n",
       "// Listen for the removal of the full notebook cells\n",
       "var notebookContainer = gd.closest('#notebook-container');\n",
       "if (notebookContainer) {{\n",
       "    x.observe(notebookContainer, {childList: true});\n",
       "}}\n",
       "\n",
       "// Listen for the clearing of the current output cell\n",
       "var outputEl = gd.closest('.output');\n",
       "if (outputEl) {{\n",
       "    x.observe(outputEl, {childList: true});\n",
       "}}\n",
       "\n",
       "                        })\n",
       "                };\n",
       "                });\n",
       "            </script>\n",
       "        </div>"
      ]
     },
     "metadata": {},
     "output_type": "display_data"
    }
   ],
   "source": [
    "#Summing per column\n",
    "tot_cases = df.TotalConfirmed.sum()\n",
    "nw_cases = df.NewConfirmed.sum()\n",
    "tot_deaths = df.TotalDeaths.sum()\n",
    "new_deaths = df.NewDeaths.sum()\n",
    "tot_recover = df.TotalRecovered.sum()\n",
    "new_recover = df.NewRecovered.sum()\n",
    "diff = tot_cases - nw_cases\n",
    "\n",
    "#Recoveries indicator\n",
    "fig2 = go.Figure(go.Indicator(\n",
    "    mode = \"number+delta\",\n",
    "    value = tot_recover,\n",
    "    delta = {'reference': diff2},\n",
    "    domain = {'row': 0, 'column': 1}))\n",
    "fig2 = fig2.update_layout(\n",
    "    template = {'data' : {'indicator': [{\n",
    "        'title': {'text': \"Recoveries\"}\n",
    "        }]\n",
    "                         }})\n",
    "fig2.show()"
   ]
  },
  {
   "cell_type": "code",
   "execution_count": 12,
   "metadata": {},
   "outputs": [
    {
     "data": {
      "application/vnd.plotly.v1+json": {
       "config": {
        "plotlyServerURL": "https://plot.ly"
       },
       "data": [
        {
         "delta": {
          "reference": 166180
         },
         "domain": {
          "column": 0,
          "row": 0
         },
         "gauge": {
          "axis": {
           "visible": false
          }
         },
         "type": "indicator",
         "value": 172968
        }
       ],
       "layout": {
        "template": {
         "data": {
          "bar": [
           {
            "error_x": {
             "color": "#2a3f5f"
            },
            "error_y": {
             "color": "#2a3f5f"
            },
            "marker": {
             "line": {
              "color": "#E5ECF6",
              "width": 0.5
             }
            },
            "type": "bar"
           }
          ],
          "barpolar": [
           {
            "marker": {
             "line": {
              "color": "#E5ECF6",
              "width": 0.5
             }
            },
            "type": "barpolar"
           }
          ],
          "carpet": [
           {
            "aaxis": {
             "endlinecolor": "#2a3f5f",
             "gridcolor": "white",
             "linecolor": "white",
             "minorgridcolor": "white",
             "startlinecolor": "#2a3f5f"
            },
            "baxis": {
             "endlinecolor": "#2a3f5f",
             "gridcolor": "white",
             "linecolor": "white",
             "minorgridcolor": "white",
             "startlinecolor": "#2a3f5f"
            },
            "type": "carpet"
           }
          ],
          "choropleth": [
           {
            "colorbar": {
             "outlinewidth": 0,
             "ticks": ""
            },
            "type": "choropleth"
           }
          ],
          "contour": [
           {
            "colorbar": {
             "outlinewidth": 0,
             "ticks": ""
            },
            "colorscale": [
             [
              0,
              "#0d0887"
             ],
             [
              0.1111111111111111,
              "#46039f"
             ],
             [
              0.2222222222222222,
              "#7201a8"
             ],
             [
              0.3333333333333333,
              "#9c179e"
             ],
             [
              0.4444444444444444,
              "#bd3786"
             ],
             [
              0.5555555555555556,
              "#d8576b"
             ],
             [
              0.6666666666666666,
              "#ed7953"
             ],
             [
              0.7777777777777778,
              "#fb9f3a"
             ],
             [
              0.8888888888888888,
              "#fdca26"
             ],
             [
              1,
              "#f0f921"
             ]
            ],
            "type": "contour"
           }
          ],
          "contourcarpet": [
           {
            "colorbar": {
             "outlinewidth": 0,
             "ticks": ""
            },
            "type": "contourcarpet"
           }
          ],
          "heatmap": [
           {
            "colorbar": {
             "outlinewidth": 0,
             "ticks": ""
            },
            "colorscale": [
             [
              0,
              "#0d0887"
             ],
             [
              0.1111111111111111,
              "#46039f"
             ],
             [
              0.2222222222222222,
              "#7201a8"
             ],
             [
              0.3333333333333333,
              "#9c179e"
             ],
             [
              0.4444444444444444,
              "#bd3786"
             ],
             [
              0.5555555555555556,
              "#d8576b"
             ],
             [
              0.6666666666666666,
              "#ed7953"
             ],
             [
              0.7777777777777778,
              "#fb9f3a"
             ],
             [
              0.8888888888888888,
              "#fdca26"
             ],
             [
              1,
              "#f0f921"
             ]
            ],
            "type": "heatmap"
           }
          ],
          "heatmapgl": [
           {
            "colorbar": {
             "outlinewidth": 0,
             "ticks": ""
            },
            "colorscale": [
             [
              0,
              "#0d0887"
             ],
             [
              0.1111111111111111,
              "#46039f"
             ],
             [
              0.2222222222222222,
              "#7201a8"
             ],
             [
              0.3333333333333333,
              "#9c179e"
             ],
             [
              0.4444444444444444,
              "#bd3786"
             ],
             [
              0.5555555555555556,
              "#d8576b"
             ],
             [
              0.6666666666666666,
              "#ed7953"
             ],
             [
              0.7777777777777778,
              "#fb9f3a"
             ],
             [
              0.8888888888888888,
              "#fdca26"
             ],
             [
              1,
              "#f0f921"
             ]
            ],
            "type": "heatmapgl"
           }
          ],
          "histogram": [
           {
            "marker": {
             "colorbar": {
              "outlinewidth": 0,
              "ticks": ""
             }
            },
            "type": "histogram"
           }
          ],
          "histogram2d": [
           {
            "colorbar": {
             "outlinewidth": 0,
             "ticks": ""
            },
            "colorscale": [
             [
              0,
              "#0d0887"
             ],
             [
              0.1111111111111111,
              "#46039f"
             ],
             [
              0.2222222222222222,
              "#7201a8"
             ],
             [
              0.3333333333333333,
              "#9c179e"
             ],
             [
              0.4444444444444444,
              "#bd3786"
             ],
             [
              0.5555555555555556,
              "#d8576b"
             ],
             [
              0.6666666666666666,
              "#ed7953"
             ],
             [
              0.7777777777777778,
              "#fb9f3a"
             ],
             [
              0.8888888888888888,
              "#fdca26"
             ],
             [
              1,
              "#f0f921"
             ]
            ],
            "type": "histogram2d"
           }
          ],
          "histogram2dcontour": [
           {
            "colorbar": {
             "outlinewidth": 0,
             "ticks": ""
            },
            "colorscale": [
             [
              0,
              "#0d0887"
             ],
             [
              0.1111111111111111,
              "#46039f"
             ],
             [
              0.2222222222222222,
              "#7201a8"
             ],
             [
              0.3333333333333333,
              "#9c179e"
             ],
             [
              0.4444444444444444,
              "#bd3786"
             ],
             [
              0.5555555555555556,
              "#d8576b"
             ],
             [
              0.6666666666666666,
              "#ed7953"
             ],
             [
              0.7777777777777778,
              "#fb9f3a"
             ],
             [
              0.8888888888888888,
              "#fdca26"
             ],
             [
              1,
              "#f0f921"
             ]
            ],
            "type": "histogram2dcontour"
           }
          ],
          "indicator": [
           {
            "mode": "number+delta+gauge",
            "title": {
             "text": "Total Deaths"
            },
            "type": "indicator"
           }
          ],
          "mesh3d": [
           {
            "colorbar": {
             "outlinewidth": 0,
             "ticks": ""
            },
            "type": "mesh3d"
           }
          ],
          "parcoords": [
           {
            "line": {
             "colorbar": {
              "outlinewidth": 0,
              "ticks": ""
             }
            },
            "type": "parcoords"
           }
          ],
          "pie": [
           {
            "automargin": true,
            "type": "pie"
           }
          ],
          "scatter": [
           {
            "marker": {
             "colorbar": {
              "outlinewidth": 0,
              "ticks": ""
             }
            },
            "type": "scatter"
           }
          ],
          "scatter3d": [
           {
            "line": {
             "colorbar": {
              "outlinewidth": 0,
              "ticks": ""
             }
            },
            "marker": {
             "colorbar": {
              "outlinewidth": 0,
              "ticks": ""
             }
            },
            "type": "scatter3d"
           }
          ],
          "scattercarpet": [
           {
            "marker": {
             "colorbar": {
              "outlinewidth": 0,
              "ticks": ""
             }
            },
            "type": "scattercarpet"
           }
          ],
          "scattergeo": [
           {
            "marker": {
             "colorbar": {
              "outlinewidth": 0,
              "ticks": ""
             }
            },
            "type": "scattergeo"
           }
          ],
          "scattergl": [
           {
            "marker": {
             "colorbar": {
              "outlinewidth": 0,
              "ticks": ""
             }
            },
            "type": "scattergl"
           }
          ],
          "scattermapbox": [
           {
            "marker": {
             "colorbar": {
              "outlinewidth": 0,
              "ticks": ""
             }
            },
            "type": "scattermapbox"
           }
          ],
          "scatterpolar": [
           {
            "marker": {
             "colorbar": {
              "outlinewidth": 0,
              "ticks": ""
             }
            },
            "type": "scatterpolar"
           }
          ],
          "scatterpolargl": [
           {
            "marker": {
             "colorbar": {
              "outlinewidth": 0,
              "ticks": ""
             }
            },
            "type": "scatterpolargl"
           }
          ],
          "scatterternary": [
           {
            "marker": {
             "colorbar": {
              "outlinewidth": 0,
              "ticks": ""
             }
            },
            "type": "scatterternary"
           }
          ],
          "surface": [
           {
            "colorbar": {
             "outlinewidth": 0,
             "ticks": ""
            },
            "colorscale": [
             [
              0,
              "#0d0887"
             ],
             [
              0.1111111111111111,
              "#46039f"
             ],
             [
              0.2222222222222222,
              "#7201a8"
             ],
             [
              0.3333333333333333,
              "#9c179e"
             ],
             [
              0.4444444444444444,
              "#bd3786"
             ],
             [
              0.5555555555555556,
              "#d8576b"
             ],
             [
              0.6666666666666666,
              "#ed7953"
             ],
             [
              0.7777777777777778,
              "#fb9f3a"
             ],
             [
              0.8888888888888888,
              "#fdca26"
             ],
             [
              1,
              "#f0f921"
             ]
            ],
            "type": "surface"
           }
          ],
          "table": [
           {
            "cells": {
             "fill": {
              "color": "#EBF0F8"
             },
             "line": {
              "color": "white"
             }
            },
            "header": {
             "fill": {
              "color": "#C8D4E3"
             },
             "line": {
              "color": "white"
             }
            },
            "type": "table"
           }
          ]
         },
         "layout": {
          "annotationdefaults": {
           "arrowcolor": "#2a3f5f",
           "arrowhead": 0,
           "arrowwidth": 1
          },
          "coloraxis": {
           "colorbar": {
            "outlinewidth": 0,
            "ticks": ""
           }
          },
          "colorscale": {
           "diverging": [
            [
             0,
             "#8e0152"
            ],
            [
             0.1,
             "#c51b7d"
            ],
            [
             0.2,
             "#de77ae"
            ],
            [
             0.3,
             "#f1b6da"
            ],
            [
             0.4,
             "#fde0ef"
            ],
            [
             0.5,
             "#f7f7f7"
            ],
            [
             0.6,
             "#e6f5d0"
            ],
            [
             0.7,
             "#b8e186"
            ],
            [
             0.8,
             "#7fbc41"
            ],
            [
             0.9,
             "#4d9221"
            ],
            [
             1,
             "#276419"
            ]
           ],
           "sequential": [
            [
             0,
             "#0d0887"
            ],
            [
             0.1111111111111111,
             "#46039f"
            ],
            [
             0.2222222222222222,
             "#7201a8"
            ],
            [
             0.3333333333333333,
             "#9c179e"
            ],
            [
             0.4444444444444444,
             "#bd3786"
            ],
            [
             0.5555555555555556,
             "#d8576b"
            ],
            [
             0.6666666666666666,
             "#ed7953"
            ],
            [
             0.7777777777777778,
             "#fb9f3a"
            ],
            [
             0.8888888888888888,
             "#fdca26"
            ],
            [
             1,
             "#f0f921"
            ]
           ],
           "sequentialminus": [
            [
             0,
             "#0d0887"
            ],
            [
             0.1111111111111111,
             "#46039f"
            ],
            [
             0.2222222222222222,
             "#7201a8"
            ],
            [
             0.3333333333333333,
             "#9c179e"
            ],
            [
             0.4444444444444444,
             "#bd3786"
            ],
            [
             0.5555555555555556,
             "#d8576b"
            ],
            [
             0.6666666666666666,
             "#ed7953"
            ],
            [
             0.7777777777777778,
             "#fb9f3a"
            ],
            [
             0.8888888888888888,
             "#fdca26"
            ],
            [
             1,
             "#f0f921"
            ]
           ]
          },
          "colorway": [
           "#636efa",
           "#EF553B",
           "#00cc96",
           "#ab63fa",
           "#FFA15A",
           "#19d3f3",
           "#FF6692",
           "#B6E880",
           "#FF97FF",
           "#FECB52"
          ],
          "font": {
           "color": "#2a3f5f"
          },
          "geo": {
           "bgcolor": "white",
           "lakecolor": "white",
           "landcolor": "#E5ECF6",
           "showlakes": true,
           "showland": true,
           "subunitcolor": "white"
          },
          "hoverlabel": {
           "align": "left"
          },
          "hovermode": "closest",
          "mapbox": {
           "style": "light"
          },
          "paper_bgcolor": "white",
          "plot_bgcolor": "#E5ECF6",
          "polar": {
           "angularaxis": {
            "gridcolor": "white",
            "linecolor": "white",
            "ticks": ""
           },
           "bgcolor": "#E5ECF6",
           "radialaxis": {
            "gridcolor": "white",
            "linecolor": "white",
            "ticks": ""
           }
          },
          "scene": {
           "xaxis": {
            "backgroundcolor": "#E5ECF6",
            "gridcolor": "white",
            "gridwidth": 2,
            "linecolor": "white",
            "showbackground": true,
            "ticks": "",
            "zerolinecolor": "white"
           },
           "yaxis": {
            "backgroundcolor": "#E5ECF6",
            "gridcolor": "white",
            "gridwidth": 2,
            "linecolor": "white",
            "showbackground": true,
            "ticks": "",
            "zerolinecolor": "white"
           },
           "zaxis": {
            "backgroundcolor": "#E5ECF6",
            "gridcolor": "white",
            "gridwidth": 2,
            "linecolor": "white",
            "showbackground": true,
            "ticks": "",
            "zerolinecolor": "white"
           }
          },
          "shapedefaults": {
           "line": {
            "color": "#2a3f5f"
           }
          },
          "ternary": {
           "aaxis": {
            "gridcolor": "white",
            "linecolor": "white",
            "ticks": ""
           },
           "baxis": {
            "gridcolor": "white",
            "linecolor": "white",
            "ticks": ""
           },
           "bgcolor": "#E5ECF6",
           "caxis": {
            "gridcolor": "white",
            "linecolor": "white",
            "ticks": ""
           }
          },
          "title": {
           "x": 0.05
          },
          "xaxis": {
           "automargin": true,
           "gridcolor": "white",
           "linecolor": "white",
           "ticks": "",
           "title": {
            "standoff": 15
           },
           "zerolinecolor": "white",
           "zerolinewidth": 2
          },
          "yaxis": {
           "automargin": true,
           "gridcolor": "white",
           "linecolor": "white",
           "ticks": "",
           "title": {
            "standoff": 15
           },
           "zerolinecolor": "white",
           "zerolinewidth": 2
          }
         }
        }
       }
      },
      "text/html": [
       "<div>\n",
       "        \n",
       "        \n",
       "            <div id=\"86bfaae7-ce9e-4290-866f-4be32bcc19cb\" class=\"plotly-graph-div\" style=\"height:525px; width:100%;\"></div>\n",
       "            <script type=\"text/javascript\">\n",
       "                require([\"plotly\"], function(Plotly) {\n",
       "                    window.PLOTLYENV=window.PLOTLYENV || {};\n",
       "                    \n",
       "                if (document.getElementById(\"86bfaae7-ce9e-4290-866f-4be32bcc19cb\")) {\n",
       "                    Plotly.newPlot(\n",
       "                        '86bfaae7-ce9e-4290-866f-4be32bcc19cb',\n",
       "                        [{\"delta\": {\"reference\": 166180}, \"domain\": {\"column\": 0, \"row\": 0}, \"gauge\": {\"axis\": {\"visible\": false}}, \"type\": \"indicator\", \"value\": 172968}],\n",
       "                        {\"template\": {\"data\": {\"bar\": [{\"error_x\": {\"color\": \"#2a3f5f\"}, \"error_y\": {\"color\": \"#2a3f5f\"}, \"marker\": {\"line\": {\"color\": \"#E5ECF6\", \"width\": 0.5}}, \"type\": \"bar\"}], \"barpolar\": [{\"marker\": {\"line\": {\"color\": \"#E5ECF6\", \"width\": 0.5}}, \"type\": \"barpolar\"}], \"carpet\": [{\"aaxis\": {\"endlinecolor\": \"#2a3f5f\", \"gridcolor\": \"white\", \"linecolor\": \"white\", \"minorgridcolor\": \"white\", \"startlinecolor\": \"#2a3f5f\"}, \"baxis\": {\"endlinecolor\": \"#2a3f5f\", \"gridcolor\": \"white\", \"linecolor\": \"white\", \"minorgridcolor\": \"white\", \"startlinecolor\": \"#2a3f5f\"}, \"type\": \"carpet\"}], \"choropleth\": [{\"colorbar\": {\"outlinewidth\": 0, \"ticks\": \"\"}, \"type\": \"choropleth\"}], \"contour\": [{\"colorbar\": {\"outlinewidth\": 0, \"ticks\": \"\"}, \"colorscale\": [[0.0, \"#0d0887\"], [0.1111111111111111, \"#46039f\"], [0.2222222222222222, \"#7201a8\"], [0.3333333333333333, \"#9c179e\"], [0.4444444444444444, \"#bd3786\"], [0.5555555555555556, \"#d8576b\"], [0.6666666666666666, \"#ed7953\"], [0.7777777777777778, \"#fb9f3a\"], [0.8888888888888888, \"#fdca26\"], [1.0, \"#f0f921\"]], \"type\": \"contour\"}], \"contourcarpet\": [{\"colorbar\": {\"outlinewidth\": 0, \"ticks\": \"\"}, \"type\": \"contourcarpet\"}], \"heatmap\": [{\"colorbar\": {\"outlinewidth\": 0, \"ticks\": \"\"}, \"colorscale\": [[0.0, \"#0d0887\"], [0.1111111111111111, \"#46039f\"], [0.2222222222222222, \"#7201a8\"], [0.3333333333333333, \"#9c179e\"], [0.4444444444444444, \"#bd3786\"], [0.5555555555555556, \"#d8576b\"], [0.6666666666666666, \"#ed7953\"], [0.7777777777777778, \"#fb9f3a\"], [0.8888888888888888, \"#fdca26\"], [1.0, \"#f0f921\"]], \"type\": \"heatmap\"}], \"heatmapgl\": [{\"colorbar\": {\"outlinewidth\": 0, \"ticks\": \"\"}, \"colorscale\": [[0.0, \"#0d0887\"], [0.1111111111111111, \"#46039f\"], [0.2222222222222222, \"#7201a8\"], [0.3333333333333333, \"#9c179e\"], [0.4444444444444444, \"#bd3786\"], [0.5555555555555556, \"#d8576b\"], [0.6666666666666666, \"#ed7953\"], [0.7777777777777778, \"#fb9f3a\"], [0.8888888888888888, \"#fdca26\"], [1.0, \"#f0f921\"]], \"type\": \"heatmapgl\"}], \"histogram\": [{\"marker\": {\"colorbar\": {\"outlinewidth\": 0, \"ticks\": \"\"}}, \"type\": \"histogram\"}], \"histogram2d\": [{\"colorbar\": {\"outlinewidth\": 0, \"ticks\": \"\"}, \"colorscale\": [[0.0, \"#0d0887\"], [0.1111111111111111, \"#46039f\"], [0.2222222222222222, \"#7201a8\"], [0.3333333333333333, \"#9c179e\"], [0.4444444444444444, \"#bd3786\"], [0.5555555555555556, \"#d8576b\"], [0.6666666666666666, \"#ed7953\"], [0.7777777777777778, \"#fb9f3a\"], [0.8888888888888888, \"#fdca26\"], [1.0, \"#f0f921\"]], \"type\": \"histogram2d\"}], \"histogram2dcontour\": [{\"colorbar\": {\"outlinewidth\": 0, \"ticks\": \"\"}, \"colorscale\": [[0.0, \"#0d0887\"], [0.1111111111111111, \"#46039f\"], [0.2222222222222222, \"#7201a8\"], [0.3333333333333333, \"#9c179e\"], [0.4444444444444444, \"#bd3786\"], [0.5555555555555556, \"#d8576b\"], [0.6666666666666666, \"#ed7953\"], [0.7777777777777778, \"#fb9f3a\"], [0.8888888888888888, \"#fdca26\"], [1.0, \"#f0f921\"]], \"type\": \"histogram2dcontour\"}], \"indicator\": [{\"mode\": \"number+delta+gauge\", \"title\": {\"text\": \"Total Deaths\"}, \"type\": \"indicator\"}], \"mesh3d\": [{\"colorbar\": {\"outlinewidth\": 0, \"ticks\": \"\"}, \"type\": \"mesh3d\"}], \"parcoords\": [{\"line\": {\"colorbar\": {\"outlinewidth\": 0, \"ticks\": \"\"}}, \"type\": \"parcoords\"}], \"pie\": [{\"automargin\": true, \"type\": \"pie\"}], \"scatter\": [{\"marker\": {\"colorbar\": {\"outlinewidth\": 0, \"ticks\": \"\"}}, \"type\": \"scatter\"}], \"scatter3d\": [{\"line\": {\"colorbar\": {\"outlinewidth\": 0, \"ticks\": \"\"}}, \"marker\": {\"colorbar\": {\"outlinewidth\": 0, \"ticks\": \"\"}}, \"type\": \"scatter3d\"}], \"scattercarpet\": [{\"marker\": {\"colorbar\": {\"outlinewidth\": 0, \"ticks\": \"\"}}, \"type\": \"scattercarpet\"}], \"scattergeo\": [{\"marker\": {\"colorbar\": {\"outlinewidth\": 0, \"ticks\": \"\"}}, \"type\": \"scattergeo\"}], \"scattergl\": [{\"marker\": {\"colorbar\": {\"outlinewidth\": 0, \"ticks\": \"\"}}, \"type\": \"scattergl\"}], \"scattermapbox\": [{\"marker\": {\"colorbar\": {\"outlinewidth\": 0, \"ticks\": \"\"}}, \"type\": \"scattermapbox\"}], \"scatterpolar\": [{\"marker\": {\"colorbar\": {\"outlinewidth\": 0, \"ticks\": \"\"}}, \"type\": \"scatterpolar\"}], \"scatterpolargl\": [{\"marker\": {\"colorbar\": {\"outlinewidth\": 0, \"ticks\": \"\"}}, \"type\": \"scatterpolargl\"}], \"scatterternary\": [{\"marker\": {\"colorbar\": {\"outlinewidth\": 0, \"ticks\": \"\"}}, \"type\": \"scatterternary\"}], \"surface\": [{\"colorbar\": {\"outlinewidth\": 0, \"ticks\": \"\"}, \"colorscale\": [[0.0, \"#0d0887\"], [0.1111111111111111, \"#46039f\"], [0.2222222222222222, \"#7201a8\"], [0.3333333333333333, \"#9c179e\"], [0.4444444444444444, \"#bd3786\"], [0.5555555555555556, \"#d8576b\"], [0.6666666666666666, \"#ed7953\"], [0.7777777777777778, \"#fb9f3a\"], [0.8888888888888888, \"#fdca26\"], [1.0, \"#f0f921\"]], \"type\": \"surface\"}], \"table\": [{\"cells\": {\"fill\": {\"color\": \"#EBF0F8\"}, \"line\": {\"color\": \"white\"}}, \"header\": {\"fill\": {\"color\": \"#C8D4E3\"}, \"line\": {\"color\": \"white\"}}, \"type\": \"table\"}]}, \"layout\": {\"annotationdefaults\": {\"arrowcolor\": \"#2a3f5f\", \"arrowhead\": 0, \"arrowwidth\": 1}, \"coloraxis\": {\"colorbar\": {\"outlinewidth\": 0, \"ticks\": \"\"}}, \"colorscale\": {\"diverging\": [[0, \"#8e0152\"], [0.1, \"#c51b7d\"], [0.2, \"#de77ae\"], [0.3, \"#f1b6da\"], [0.4, \"#fde0ef\"], [0.5, \"#f7f7f7\"], [0.6, \"#e6f5d0\"], [0.7, \"#b8e186\"], [0.8, \"#7fbc41\"], [0.9, \"#4d9221\"], [1, \"#276419\"]], \"sequential\": [[0.0, \"#0d0887\"], [0.1111111111111111, \"#46039f\"], [0.2222222222222222, \"#7201a8\"], [0.3333333333333333, \"#9c179e\"], [0.4444444444444444, \"#bd3786\"], [0.5555555555555556, \"#d8576b\"], [0.6666666666666666, \"#ed7953\"], [0.7777777777777778, \"#fb9f3a\"], [0.8888888888888888, \"#fdca26\"], [1.0, \"#f0f921\"]], \"sequentialminus\": [[0.0, \"#0d0887\"], [0.1111111111111111, \"#46039f\"], [0.2222222222222222, \"#7201a8\"], [0.3333333333333333, \"#9c179e\"], [0.4444444444444444, \"#bd3786\"], [0.5555555555555556, \"#d8576b\"], [0.6666666666666666, \"#ed7953\"], [0.7777777777777778, \"#fb9f3a\"], [0.8888888888888888, \"#fdca26\"], [1.0, \"#f0f921\"]]}, \"colorway\": [\"#636efa\", \"#EF553B\", \"#00cc96\", \"#ab63fa\", \"#FFA15A\", \"#19d3f3\", \"#FF6692\", \"#B6E880\", \"#FF97FF\", \"#FECB52\"], \"font\": {\"color\": \"#2a3f5f\"}, \"geo\": {\"bgcolor\": \"white\", \"lakecolor\": \"white\", \"landcolor\": \"#E5ECF6\", \"showlakes\": true, \"showland\": true, \"subunitcolor\": \"white\"}, \"hoverlabel\": {\"align\": \"left\"}, \"hovermode\": \"closest\", \"mapbox\": {\"style\": \"light\"}, \"paper_bgcolor\": \"white\", \"plot_bgcolor\": \"#E5ECF6\", \"polar\": {\"angularaxis\": {\"gridcolor\": \"white\", \"linecolor\": \"white\", \"ticks\": \"\"}, \"bgcolor\": \"#E5ECF6\", \"radialaxis\": {\"gridcolor\": \"white\", \"linecolor\": \"white\", \"ticks\": \"\"}}, \"scene\": {\"xaxis\": {\"backgroundcolor\": \"#E5ECF6\", \"gridcolor\": \"white\", \"gridwidth\": 2, \"linecolor\": \"white\", \"showbackground\": true, \"ticks\": \"\", \"zerolinecolor\": \"white\"}, \"yaxis\": {\"backgroundcolor\": \"#E5ECF6\", \"gridcolor\": \"white\", \"gridwidth\": 2, \"linecolor\": \"white\", \"showbackground\": true, \"ticks\": \"\", \"zerolinecolor\": \"white\"}, \"zaxis\": {\"backgroundcolor\": \"#E5ECF6\", \"gridcolor\": \"white\", \"gridwidth\": 2, \"linecolor\": \"white\", \"showbackground\": true, \"ticks\": \"\", \"zerolinecolor\": \"white\"}}, \"shapedefaults\": {\"line\": {\"color\": \"#2a3f5f\"}}, \"ternary\": {\"aaxis\": {\"gridcolor\": \"white\", \"linecolor\": \"white\", \"ticks\": \"\"}, \"baxis\": {\"gridcolor\": \"white\", \"linecolor\": \"white\", \"ticks\": \"\"}, \"bgcolor\": \"#E5ECF6\", \"caxis\": {\"gridcolor\": \"white\", \"linecolor\": \"white\", \"ticks\": \"\"}}, \"title\": {\"x\": 0.05}, \"xaxis\": {\"automargin\": true, \"gridcolor\": \"white\", \"linecolor\": \"white\", \"ticks\": \"\", \"title\": {\"standoff\": 15}, \"zerolinecolor\": \"white\", \"zerolinewidth\": 2}, \"yaxis\": {\"automargin\": true, \"gridcolor\": \"white\", \"linecolor\": \"white\", \"ticks\": \"\", \"title\": {\"standoff\": 15}, \"zerolinecolor\": \"white\", \"zerolinewidth\": 2}}}},\n",
       "                        {\"responsive\": true}\n",
       "                    ).then(function(){\n",
       "                            \n",
       "var gd = document.getElementById('86bfaae7-ce9e-4290-866f-4be32bcc19cb');\n",
       "var x = new MutationObserver(function (mutations, observer) {{\n",
       "        var display = window.getComputedStyle(gd).display;\n",
       "        if (!display || display === 'none') {{\n",
       "            console.log([gd, 'removed!']);\n",
       "            Plotly.purge(gd);\n",
       "            observer.disconnect();\n",
       "        }}\n",
       "}});\n",
       "\n",
       "// Listen for the removal of the full notebook cells\n",
       "var notebookContainer = gd.closest('#notebook-container');\n",
       "if (notebookContainer) {{\n",
       "    x.observe(notebookContainer, {childList: true});\n",
       "}}\n",
       "\n",
       "// Listen for the clearing of the current output cell\n",
       "var outputEl = gd.closest('.output');\n",
       "if (outputEl) {{\n",
       "    x.observe(outputEl, {childList: true});\n",
       "}}\n",
       "\n",
       "                        })\n",
       "                };\n",
       "                });\n",
       "            </script>\n",
       "        </div>"
      ]
     },
     "metadata": {},
     "output_type": "display_data"
    }
   ],
   "source": [
    "# total cases indicator\n",
    "fig3 = go.Figure(go.Indicator(\n",
    "    \n",
    "    value = tot_deaths,\n",
    "    delta = {'reference': diff3},\n",
    "    gauge = {\n",
    "        'axis': {'visible': False}},\n",
    "    domain = {'row': 0, 'column': 0}))\n",
    "\n",
    "fig3 = fig3.update_layout(\n",
    "    template = {'data' : {'indicator': [{\n",
    "        'title': {'text': \"Total Deaths\"},\n",
    "        'mode' : \"number+delta+gauge\",\n",
    "        }]\n",
    "                         }})\n",
    "fig3.show()"
   ]
  },
  {
   "cell_type": "code",
   "execution_count": 13,
   "metadata": {},
   "outputs": [
    {
     "data": {
      "text/html": [
       "<div>\n",
       "<style scoped>\n",
       "    .dataframe tbody tr th:only-of-type {\n",
       "        vertical-align: middle;\n",
       "    }\n",
       "\n",
       "    .dataframe tbody tr th {\n",
       "        vertical-align: top;\n",
       "    }\n",
       "\n",
       "    .dataframe thead th {\n",
       "        text-align: right;\n",
       "    }\n",
       "</style>\n",
       "<table border=\"1\" class=\"dataframe\">\n",
       "  <thead>\n",
       "    <tr style=\"text-align: right;\">\n",
       "      <th></th>\n",
       "      <th>Country</th>\n",
       "      <th>CountryCode</th>\n",
       "      <th>NewConfirmed</th>\n",
       "      <th>TotalConfirmed</th>\n",
       "      <th>NewDeaths</th>\n",
       "      <th>TotalDeaths</th>\n",
       "      <th>NewRecovered</th>\n",
       "      <th>TotalRecovered</th>\n",
       "      <th>Date</th>\n",
       "      <th>Active Cases</th>\n",
       "      <th>Closed Cases</th>\n",
       "      <th>Recovery Rate</th>\n",
       "      <th>Case Fatality Rate</th>\n",
       "    </tr>\n",
       "  </thead>\n",
       "  <tbody>\n",
       "    <tr>\n",
       "      <th>235</th>\n",
       "      <td>United States of America</td>\n",
       "      <td>US</td>\n",
       "      <td>33253</td>\n",
       "      <td>816963</td>\n",
       "      <td>2706</td>\n",
       "      <td>44781</td>\n",
       "      <td>2875</td>\n",
       "      <td>75204</td>\n",
       "      <td>2020-04-22T10:08:24Z</td>\n",
       "      <td>696978</td>\n",
       "      <td>119985</td>\n",
       "      <td>9.205313</td>\n",
       "      <td>5.481399</td>\n",
       "    </tr>\n",
       "    <tr>\n",
       "      <th>207</th>\n",
       "      <td>Spain</td>\n",
       "      <td>ES</td>\n",
       "      <td>3968</td>\n",
       "      <td>204178</td>\n",
       "      <td>430</td>\n",
       "      <td>21282</td>\n",
       "      <td>1927</td>\n",
       "      <td>82514</td>\n",
       "      <td>2020-04-22T10:08:24Z</td>\n",
       "      <td>100382</td>\n",
       "      <td>103796</td>\n",
       "      <td>40.412777</td>\n",
       "      <td>10.423258</td>\n",
       "    </tr>\n",
       "    <tr>\n",
       "      <th>108</th>\n",
       "      <td>Italy</td>\n",
       "      <td>IT</td>\n",
       "      <td>2729</td>\n",
       "      <td>183957</td>\n",
       "      <td>534</td>\n",
       "      <td>24648</td>\n",
       "      <td>2723</td>\n",
       "      <td>51600</td>\n",
       "      <td>2020-04-22T10:08:24Z</td>\n",
       "      <td>107709</td>\n",
       "      <td>76248</td>\n",
       "      <td>28.050033</td>\n",
       "      <td>13.398783</td>\n",
       "    </tr>\n",
       "    <tr>\n",
       "      <th>74</th>\n",
       "      <td>France</td>\n",
       "      <td>FR</td>\n",
       "      <td>2817</td>\n",
       "      <td>159297</td>\n",
       "      <td>537</td>\n",
       "      <td>20829</td>\n",
       "      <td>1783</td>\n",
       "      <td>39819</td>\n",
       "      <td>2020-04-22T10:08:24Z</td>\n",
       "      <td>98649</td>\n",
       "      <td>60648</td>\n",
       "      <td>24.996704</td>\n",
       "      <td>13.075576</td>\n",
       "    </tr>\n",
       "    <tr>\n",
       "      <th>81</th>\n",
       "      <td>Germany</td>\n",
       "      <td>DE</td>\n",
       "      <td>1226</td>\n",
       "      <td>148291</td>\n",
       "      <td>171</td>\n",
       "      <td>5033</td>\n",
       "      <td>3700</td>\n",
       "      <td>95200</td>\n",
       "      <td>2020-04-22T10:08:24Z</td>\n",
       "      <td>48058</td>\n",
       "      <td>100233</td>\n",
       "      <td>64.198097</td>\n",
       "      <td>3.394002</td>\n",
       "    </tr>\n",
       "  </tbody>\n",
       "</table>\n",
       "</div>"
      ],
      "text/plain": [
       "                      Country CountryCode  NewConfirmed  TotalConfirmed  \\\n",
       "235  United States of America          US         33253          816963   \n",
       "207                     Spain          ES          3968          204178   \n",
       "108                     Italy          IT          2729          183957   \n",
       "74                     France          FR          2817          159297   \n",
       "81                    Germany          DE          1226          148291   \n",
       "\n",
       "     NewDeaths  TotalDeaths  NewRecovered  TotalRecovered  \\\n",
       "235       2706        44781          2875           75204   \n",
       "207        430        21282          1927           82514   \n",
       "108        534        24648          2723           51600   \n",
       "74         537        20829          1783           39819   \n",
       "81         171         5033          3700           95200   \n",
       "\n",
       "                     Date  Active Cases  Closed Cases  Recovery Rate  \\\n",
       "235  2020-04-22T10:08:24Z        696978        119985       9.205313   \n",
       "207  2020-04-22T10:08:24Z        100382        103796      40.412777   \n",
       "108  2020-04-22T10:08:24Z        107709         76248      28.050033   \n",
       "74   2020-04-22T10:08:24Z         98649         60648      24.996704   \n",
       "81   2020-04-22T10:08:24Z         48058        100233      64.198097   \n",
       "\n",
       "     Case Fatality Rate  \n",
       "235            5.481399  \n",
       "207           10.423258  \n",
       "108           13.398783  \n",
       "74            13.075576  \n",
       "81             3.394002  "
      ]
     },
     "execution_count": 13,
     "metadata": {},
     "output_type": "execute_result"
    }
   ],
   "source": [
    "df['Active Cases'] = df['TotalConfirmed'] - df['TotalRecovered'] - df['TotalDeaths']\n",
    "df['Closed Cases'] = df['TotalRecovered'] + df['TotalDeaths']\n",
    "df['Recovery Rate'] = (df['TotalRecovered'] / df['TotalConfirmed'])*100\n",
    "df['Case Fatality Rate'] = (df['TotalDeaths'] / df['TotalConfirmed']) * 100\n",
    "df.head()"
   ]
  },
  {
   "cell_type": "code",
   "execution_count": 14,
   "metadata": {},
   "outputs": [],
   "source": [
    "\n",
    "url1 = 'https://api.covid19api.com/live/country/south-africa/status/confirmed/date/2020-03-21T13:13:30Z'\n",
    "df1 = pd.read_json(url1, orient='columns')\n",
    "url2 = 'https://api.covid19api.com/country/south-africa/status/confirmed'\n",
    "df2 = pd.read_json(url2, orient='columns')\n",
    "url3 = 'https://api.covid19api.com/country/south-africa/status/confirmed/live'\n",
    "df3 = pd.read_json(url3, orient='columns')\n",
    "url4 = 'https://covid19.soficoop.com/country/za'\n"
   ]
  },
  {
   "cell_type": "code",
   "execution_count": 15,
   "metadata": {},
   "outputs": [
    {
     "data": {
      "text/html": [
       "<div>\n",
       "<style scoped>\n",
       "    .dataframe tbody tr th:only-of-type {\n",
       "        vertical-align: middle;\n",
       "    }\n",
       "\n",
       "    .dataframe tbody tr th {\n",
       "        vertical-align: top;\n",
       "    }\n",
       "\n",
       "    .dataframe thead th {\n",
       "        text-align: right;\n",
       "    }\n",
       "</style>\n",
       "<table border=\"1\" class=\"dataframe\">\n",
       "  <thead>\n",
       "    <tr style=\"text-align: right;\">\n",
       "      <th></th>\n",
       "      <th>dateRep</th>\n",
       "      <th>day</th>\n",
       "      <th>month</th>\n",
       "      <th>year</th>\n",
       "      <th>cases</th>\n",
       "      <th>deaths</th>\n",
       "      <th>countriesAndTerritories</th>\n",
       "      <th>geoId</th>\n",
       "      <th>countryterritoryCode</th>\n",
       "      <th>popData2018</th>\n",
       "    </tr>\n",
       "  </thead>\n",
       "  <tbody>\n",
       "    <tr>\n",
       "      <th>0</th>\n",
       "      <td>16/04/2020</td>\n",
       "      <td>16</td>\n",
       "      <td>4</td>\n",
       "      <td>2020</td>\n",
       "      <td>70</td>\n",
       "      <td>2</td>\n",
       "      <td>Afghanistan</td>\n",
       "      <td>AF</td>\n",
       "      <td>AFG</td>\n",
       "      <td>37172386.0</td>\n",
       "    </tr>\n",
       "    <tr>\n",
       "      <th>1</th>\n",
       "      <td>15/04/2020</td>\n",
       "      <td>15</td>\n",
       "      <td>4</td>\n",
       "      <td>2020</td>\n",
       "      <td>49</td>\n",
       "      <td>2</td>\n",
       "      <td>Afghanistan</td>\n",
       "      <td>AF</td>\n",
       "      <td>AFG</td>\n",
       "      <td>37172386.0</td>\n",
       "    </tr>\n",
       "    <tr>\n",
       "      <th>2</th>\n",
       "      <td>14/04/2020</td>\n",
       "      <td>14</td>\n",
       "      <td>4</td>\n",
       "      <td>2020</td>\n",
       "      <td>58</td>\n",
       "      <td>3</td>\n",
       "      <td>Afghanistan</td>\n",
       "      <td>AF</td>\n",
       "      <td>AFG</td>\n",
       "      <td>37172386.0</td>\n",
       "    </tr>\n",
       "    <tr>\n",
       "      <th>3</th>\n",
       "      <td>13/04/2020</td>\n",
       "      <td>13</td>\n",
       "      <td>4</td>\n",
       "      <td>2020</td>\n",
       "      <td>52</td>\n",
       "      <td>0</td>\n",
       "      <td>Afghanistan</td>\n",
       "      <td>AF</td>\n",
       "      <td>AFG</td>\n",
       "      <td>37172386.0</td>\n",
       "    </tr>\n",
       "    <tr>\n",
       "      <th>4</th>\n",
       "      <td>12/04/2020</td>\n",
       "      <td>12</td>\n",
       "      <td>4</td>\n",
       "      <td>2020</td>\n",
       "      <td>34</td>\n",
       "      <td>3</td>\n",
       "      <td>Afghanistan</td>\n",
       "      <td>AF</td>\n",
       "      <td>AFG</td>\n",
       "      <td>37172386.0</td>\n",
       "    </tr>\n",
       "    <tr>\n",
       "      <th>...</th>\n",
       "      <td>...</td>\n",
       "      <td>...</td>\n",
       "      <td>...</td>\n",
       "      <td>...</td>\n",
       "      <td>...</td>\n",
       "      <td>...</td>\n",
       "      <td>...</td>\n",
       "      <td>...</td>\n",
       "      <td>...</td>\n",
       "      <td>...</td>\n",
       "    </tr>\n",
       "    <tr>\n",
       "      <th>11147</th>\n",
       "      <td>25/03/2020</td>\n",
       "      <td>25</td>\n",
       "      <td>3</td>\n",
       "      <td>2020</td>\n",
       "      <td>0</td>\n",
       "      <td>0</td>\n",
       "      <td>Zimbabwe</td>\n",
       "      <td>ZW</td>\n",
       "      <td>ZWE</td>\n",
       "      <td>14439018.0</td>\n",
       "    </tr>\n",
       "    <tr>\n",
       "      <th>11148</th>\n",
       "      <td>24/03/2020</td>\n",
       "      <td>24</td>\n",
       "      <td>3</td>\n",
       "      <td>2020</td>\n",
       "      <td>0</td>\n",
       "      <td>1</td>\n",
       "      <td>Zimbabwe</td>\n",
       "      <td>ZW</td>\n",
       "      <td>ZWE</td>\n",
       "      <td>14439018.0</td>\n",
       "    </tr>\n",
       "    <tr>\n",
       "      <th>11149</th>\n",
       "      <td>23/03/2020</td>\n",
       "      <td>23</td>\n",
       "      <td>3</td>\n",
       "      <td>2020</td>\n",
       "      <td>0</td>\n",
       "      <td>0</td>\n",
       "      <td>Zimbabwe</td>\n",
       "      <td>ZW</td>\n",
       "      <td>ZWE</td>\n",
       "      <td>14439018.0</td>\n",
       "    </tr>\n",
       "    <tr>\n",
       "      <th>11150</th>\n",
       "      <td>22/03/2020</td>\n",
       "      <td>22</td>\n",
       "      <td>3</td>\n",
       "      <td>2020</td>\n",
       "      <td>1</td>\n",
       "      <td>0</td>\n",
       "      <td>Zimbabwe</td>\n",
       "      <td>ZW</td>\n",
       "      <td>ZWE</td>\n",
       "      <td>14439018.0</td>\n",
       "    </tr>\n",
       "    <tr>\n",
       "      <th>11151</th>\n",
       "      <td>21/03/2020</td>\n",
       "      <td>21</td>\n",
       "      <td>3</td>\n",
       "      <td>2020</td>\n",
       "      <td>1</td>\n",
       "      <td>0</td>\n",
       "      <td>Zimbabwe</td>\n",
       "      <td>ZW</td>\n",
       "      <td>ZWE</td>\n",
       "      <td>14439018.0</td>\n",
       "    </tr>\n",
       "  </tbody>\n",
       "</table>\n",
       "<p>11152 rows × 10 columns</p>\n",
       "</div>"
      ],
      "text/plain": [
       "          dateRep  day  month  year  cases  deaths countriesAndTerritories  \\\n",
       "0      16/04/2020   16      4  2020     70       2             Afghanistan   \n",
       "1      15/04/2020   15      4  2020     49       2             Afghanistan   \n",
       "2      14/04/2020   14      4  2020     58       3             Afghanistan   \n",
       "3      13/04/2020   13      4  2020     52       0             Afghanistan   \n",
       "4      12/04/2020   12      4  2020     34       3             Afghanistan   \n",
       "...           ...  ...    ...   ...    ...     ...                     ...   \n",
       "11147  25/03/2020   25      3  2020      0       0                Zimbabwe   \n",
       "11148  24/03/2020   24      3  2020      0       1                Zimbabwe   \n",
       "11149  23/03/2020   23      3  2020      0       0                Zimbabwe   \n",
       "11150  22/03/2020   22      3  2020      1       0                Zimbabwe   \n",
       "11151  21/03/2020   21      3  2020      1       0                Zimbabwe   \n",
       "\n",
       "      geoId countryterritoryCode  popData2018  \n",
       "0        AF                  AFG   37172386.0  \n",
       "1        AF                  AFG   37172386.0  \n",
       "2        AF                  AFG   37172386.0  \n",
       "3        AF                  AFG   37172386.0  \n",
       "4        AF                  AFG   37172386.0  \n",
       "...     ...                  ...          ...  \n",
       "11147    ZW                  ZWE   14439018.0  \n",
       "11148    ZW                  ZWE   14439018.0  \n",
       "11149    ZW                  ZWE   14439018.0  \n",
       "11150    ZW                  ZWE   14439018.0  \n",
       "11151    ZW                  ZWE   14439018.0  \n",
       "\n",
       "[11152 rows x 10 columns]"
      ]
     },
     "execution_count": 15,
     "metadata": {},
     "output_type": "execute_result"
    }
   ],
   "source": [
    "# url5 = 'https://api.covid19api.com/total/dayone/country/south-africa'\n",
    "# df5 = pd.read_json(url5, orient='columns')\n",
    "# url6 = 'https://api.covid19api.com/all?from=2020-04-01T00:00:00Z&to=2020-04-12T00:00:00Z'\n",
    "df6 = pd.read_csv('covid.csv',delimiter=',')\n",
    "df6\n"
   ]
  },
  {
   "cell_type": "code",
   "execution_count": 16,
   "metadata": {},
   "outputs": [],
   "source": [
    "\n",
    "df4 = requests.get(url4).json()\n",
    "df4= pd.json_normalize(df4,record_path ='snapshots')\n",
    "# df5 = pd.read_csv('https://raw.githubusercontent.com/dsfsi/covid19za/master/data/covid19za_provincial_cumulative_timeline_confirmed.csv')\n",
    "# df5 = df5.fillna(0)\n",
    "# df5 = df5.drop(['YYYYMMDD'],axis=1)\n"
   ]
  },
  {
   "cell_type": "code",
   "execution_count": 17,
   "metadata": {},
   "outputs": [
    {
     "data": {
      "text/html": [
       "<div>\n",
       "<style scoped>\n",
       "    .dataframe tbody tr th:only-of-type {\n",
       "        vertical-align: middle;\n",
       "    }\n",
       "\n",
       "    .dataframe tbody tr th {\n",
       "        vertical-align: top;\n",
       "    }\n",
       "\n",
       "    .dataframe thead th {\n",
       "        text-align: right;\n",
       "    }\n",
       "</style>\n",
       "<table border=\"1\" class=\"dataframe\">\n",
       "  <thead>\n",
       "    <tr style=\"text-align: right;\">\n",
       "      <th></th>\n",
       "      <th>cases</th>\n",
       "      <th>todayCases</th>\n",
       "      <th>deaths</th>\n",
       "      <th>todayDeaths</th>\n",
       "      <th>recovered</th>\n",
       "      <th>active</th>\n",
       "      <th>critical</th>\n",
       "      <th>timestamp</th>\n",
       "    </tr>\n",
       "  </thead>\n",
       "  <tbody>\n",
       "    <tr>\n",
       "      <th>0</th>\n",
       "      <td>62</td>\n",
       "      <td>0</td>\n",
       "      <td>0</td>\n",
       "      <td>0</td>\n",
       "      <td>0</td>\n",
       "      <td>62</td>\n",
       "      <td>0</td>\n",
       "      <td>2020-03-17T21:00:00.200Z</td>\n",
       "    </tr>\n",
       "    <tr>\n",
       "      <th>1</th>\n",
       "      <td>62</td>\n",
       "      <td>0</td>\n",
       "      <td>0</td>\n",
       "      <td>0</td>\n",
       "      <td>0</td>\n",
       "      <td>62</td>\n",
       "      <td>0</td>\n",
       "      <td>2020-03-17T22:00:00.182Z</td>\n",
       "    </tr>\n",
       "    <tr>\n",
       "      <th>2</th>\n",
       "      <td>85</td>\n",
       "      <td>21</td>\n",
       "      <td>0</td>\n",
       "      <td>0</td>\n",
       "      <td>0</td>\n",
       "      <td>85</td>\n",
       "      <td>0</td>\n",
       "      <td>2020-03-17T23:00:00.171Z</td>\n",
       "    </tr>\n",
       "    <tr>\n",
       "      <th>3</th>\n",
       "      <td>85</td>\n",
       "      <td>21</td>\n",
       "      <td>0</td>\n",
       "      <td>0</td>\n",
       "      <td>0</td>\n",
       "      <td>85</td>\n",
       "      <td>0</td>\n",
       "      <td>2020-03-18T00:00:00.193Z</td>\n",
       "    </tr>\n",
       "    <tr>\n",
       "      <th>4</th>\n",
       "      <td>85</td>\n",
       "      <td>21</td>\n",
       "      <td>0</td>\n",
       "      <td>0</td>\n",
       "      <td>0</td>\n",
       "      <td>85</td>\n",
       "      <td>0</td>\n",
       "      <td>2020-03-18T01:00:00.205Z</td>\n",
       "    </tr>\n",
       "    <tr>\n",
       "      <th>...</th>\n",
       "      <td>...</td>\n",
       "      <td>...</td>\n",
       "      <td>...</td>\n",
       "      <td>...</td>\n",
       "      <td>...</td>\n",
       "      <td>...</td>\n",
       "      <td>...</td>\n",
       "      <td>...</td>\n",
       "    </tr>\n",
       "    <tr>\n",
       "      <th>827</th>\n",
       "      <td>3465</td>\n",
       "      <td>0</td>\n",
       "      <td>58</td>\n",
       "      <td>0</td>\n",
       "      <td>1055</td>\n",
       "      <td>2352</td>\n",
       "      <td>36</td>\n",
       "      <td>2020-04-22T06:00:00.189Z</td>\n",
       "    </tr>\n",
       "    <tr>\n",
       "      <th>828</th>\n",
       "      <td>3465</td>\n",
       "      <td>0</td>\n",
       "      <td>58</td>\n",
       "      <td>0</td>\n",
       "      <td>1055</td>\n",
       "      <td>2352</td>\n",
       "      <td>36</td>\n",
       "      <td>2020-04-22T07:00:00.223Z</td>\n",
       "    </tr>\n",
       "    <tr>\n",
       "      <th>829</th>\n",
       "      <td>3465</td>\n",
       "      <td>0</td>\n",
       "      <td>58</td>\n",
       "      <td>0</td>\n",
       "      <td>1055</td>\n",
       "      <td>2352</td>\n",
       "      <td>36</td>\n",
       "      <td>2020-04-22T08:00:00.223Z</td>\n",
       "    </tr>\n",
       "    <tr>\n",
       "      <th>830</th>\n",
       "      <td>3465</td>\n",
       "      <td>0</td>\n",
       "      <td>58</td>\n",
       "      <td>0</td>\n",
       "      <td>1055</td>\n",
       "      <td>2352</td>\n",
       "      <td>36</td>\n",
       "      <td>2020-04-22T09:00:00.223Z</td>\n",
       "    </tr>\n",
       "    <tr>\n",
       "      <th>831</th>\n",
       "      <td>3465</td>\n",
       "      <td>0</td>\n",
       "      <td>58</td>\n",
       "      <td>0</td>\n",
       "      <td>1055</td>\n",
       "      <td>2352</td>\n",
       "      <td>36</td>\n",
       "      <td>2020-04-22T10:00:00.245Z</td>\n",
       "    </tr>\n",
       "  </tbody>\n",
       "</table>\n",
       "<p>832 rows × 8 columns</p>\n",
       "</div>"
      ],
      "text/plain": [
       "     cases  todayCases  deaths  todayDeaths  recovered  active  critical  \\\n",
       "0       62           0       0            0          0      62         0   \n",
       "1       62           0       0            0          0      62         0   \n",
       "2       85          21       0            0          0      85         0   \n",
       "3       85          21       0            0          0      85         0   \n",
       "4       85          21       0            0          0      85         0   \n",
       "..     ...         ...     ...          ...        ...     ...       ...   \n",
       "827   3465           0      58            0       1055    2352        36   \n",
       "828   3465           0      58            0       1055    2352        36   \n",
       "829   3465           0      58            0       1055    2352        36   \n",
       "830   3465           0      58            0       1055    2352        36   \n",
       "831   3465           0      58            0       1055    2352        36   \n",
       "\n",
       "                    timestamp  \n",
       "0    2020-03-17T21:00:00.200Z  \n",
       "1    2020-03-17T22:00:00.182Z  \n",
       "2    2020-03-17T23:00:00.171Z  \n",
       "3    2020-03-18T00:00:00.193Z  \n",
       "4    2020-03-18T01:00:00.205Z  \n",
       "..                        ...  \n",
       "827  2020-04-22T06:00:00.189Z  \n",
       "828  2020-04-22T07:00:00.223Z  \n",
       "829  2020-04-22T08:00:00.223Z  \n",
       "830  2020-04-22T09:00:00.223Z  \n",
       "831  2020-04-22T10:00:00.245Z  \n",
       "\n",
       "[832 rows x 8 columns]"
      ]
     },
     "execution_count": 17,
     "metadata": {},
     "output_type": "execute_result"
    }
   ],
   "source": [
    "df4"
   ]
  },
  {
   "cell_type": "code",
   "execution_count": null,
   "metadata": {},
   "outputs": [],
   "source": []
  },
  {
   "cell_type": "code",
   "execution_count": 18,
   "metadata": {},
   "outputs": [
    {
     "data": {
      "application/vnd.plotly.v1+json": {
       "config": {
        "plotlyServerURL": "https://plot.ly"
       },
       "data": [
        {
         "name": "Active Cases in SA",
         "type": "scatter",
         "x": [
          "2020-03-17T21:00:00.200Z",
          "2020-03-17T22:00:00.182Z",
          "2020-03-17T23:00:00.171Z",
          "2020-03-18T00:00:00.193Z",
          "2020-03-18T01:00:00.205Z",
          "2020-03-18T02:00:00.195Z",
          "2020-03-18T03:00:00.182Z",
          "2020-03-18T04:00:00.190Z",
          "2020-03-18T05:00:00.147Z",
          "2020-03-18T06:00:00.205Z",
          "2020-03-18T07:00:00.215Z",
          "2020-03-18T08:00:00.192Z",
          "2020-03-18T09:00:00.167Z",
          "2020-03-18T10:00:00.221Z",
          "2020-03-18T11:00:00.223Z",
          "2020-03-18T12:00:00.202Z",
          "2020-03-18T13:00:00.296Z",
          "2020-03-18T14:00:00.178Z",
          "2020-03-18T15:00:00.169Z",
          "2020-03-18T16:00:00.171Z",
          "2020-03-18T18:00:00.155Z",
          "2020-03-18T19:00:00.206Z",
          "2020-03-18T20:00:00.199Z",
          "2020-03-18T21:00:00.171Z",
          "2020-03-18T22:00:00.161Z",
          "2020-03-18T23:00:00.188Z",
          "2020-03-19T00:00:00.179Z",
          "2020-03-19T02:00:00.181Z",
          "2020-03-19T03:00:00.192Z",
          "2020-03-19T04:00:00.162Z",
          "2020-03-19T05:00:00.163Z",
          "2020-03-19T06:00:00.187Z",
          "2020-03-19T07:00:00.203Z",
          "2020-03-19T08:00:00.151Z",
          "2020-03-19T09:00:00.176Z",
          "2020-03-19T10:00:00.153Z",
          "2020-03-19T11:00:00.150Z",
          "2020-03-19T12:00:00.164Z",
          "2020-03-19T13:00:00.237Z",
          "2020-03-19T14:00:00.221Z",
          "2020-03-19T15:00:00.230Z",
          "2020-03-19T16:00:00.167Z",
          "2020-03-19T17:00:00.204Z",
          "2020-03-19T18:00:00.211Z",
          "2020-03-19T19:00:00.159Z",
          "2020-03-19T20:00:00.204Z",
          "2020-03-19T21:00:00.186Z",
          "2020-03-19T22:00:00.164Z",
          "2020-03-19T23:00:00.156Z",
          "2020-03-20T00:00:00.158Z",
          "2020-03-20T01:00:00.190Z",
          "2020-03-20T02:00:00.192Z",
          "2020-03-20T03:00:00.182Z",
          "2020-03-20T04:00:00.171Z",
          "2020-03-20T05:00:00.194Z",
          "2020-03-20T06:00:00.205Z",
          "2020-03-20T07:00:00.169Z",
          "2020-03-20T08:00:00.196Z",
          "2020-03-20T09:00:00.198Z",
          "2020-03-20T10:00:00.190Z",
          "2020-03-20T11:00:00.232Z",
          "2020-03-20T12:00:00.201Z",
          "2020-03-20T13:00:00.163Z",
          "2020-03-20T14:00:00.198Z",
          "2020-03-20T15:00:00.179Z",
          "2020-03-20T16:00:00.199Z",
          "2020-03-20T17:00:00.206Z",
          "2020-03-20T18:00:00.200Z",
          "2020-03-20T19:00:00.161Z",
          "2020-03-20T20:00:00.238Z",
          "2020-03-20T21:00:00.224Z",
          "2020-03-20T22:00:00.195Z",
          "2020-03-20T23:00:00.214Z",
          "2020-03-21T00:00:00.178Z",
          "2020-03-21T01:00:00.219Z",
          "2020-03-21T02:00:00.174Z",
          "2020-03-21T03:00:00.168Z",
          "2020-03-21T04:00:00.250Z",
          "2020-03-21T05:00:00.211Z",
          "2020-03-21T06:00:00.188Z",
          "2020-03-21T07:00:00.162Z",
          "2020-03-21T08:00:00.162Z",
          "2020-03-21T09:00:00.202Z",
          "2020-03-21T10:00:00.183Z",
          "2020-03-21T11:00:00.229Z",
          "2020-03-21T12:00:00.227Z",
          "2020-03-21T13:00:00.182Z",
          "2020-03-21T14:00:00.179Z",
          "2020-03-21T15:00:00.205Z",
          "2020-03-21T16:00:00.171Z",
          "2020-03-21T17:00:00.230Z",
          "2020-03-21T18:00:00.232Z",
          "2020-03-21T19:00:00.189Z",
          "2020-03-21T20:00:00.207Z",
          "2020-03-21T21:00:00.185Z",
          "2020-03-21T22:00:00.201Z",
          "2020-03-21T23:00:00.163Z",
          "2020-03-22T00:00:00.178Z",
          "2020-03-22T01:00:00.171Z",
          "2020-03-22T02:00:00.155Z",
          "2020-03-22T03:00:00.209Z",
          "2020-03-22T04:00:00.179Z",
          "2020-03-22T05:00:00.186Z",
          "2020-03-22T06:00:00.205Z",
          "2020-03-22T07:00:00.207Z",
          "2020-03-22T08:00:00.189Z",
          "2020-03-22T09:00:00.190Z",
          "2020-03-22T10:00:00.231Z",
          "2020-03-22T11:00:00.202Z",
          "2020-03-22T12:00:00.191Z",
          "2020-03-22T13:00:00.168Z",
          "2020-03-22T14:00:00.211Z",
          "2020-03-22T15:00:00.223Z",
          "2020-03-22T16:00:00.200Z",
          "2020-03-22T17:00:00.225Z",
          "2020-03-22T18:00:00.197Z",
          "2020-03-22T19:00:00.200Z",
          "2020-03-22T20:00:00.155Z",
          "2020-03-22T21:00:00.157Z",
          "2020-03-22T22:00:00.183Z",
          "2020-03-22T23:00:00.192Z",
          "2020-03-23T00:00:00.227Z",
          "2020-03-23T01:00:00.150Z",
          "2020-03-23T02:00:00.278Z",
          "2020-03-23T03:00:00.195Z",
          "2020-03-23T20:00:00.171Z",
          "2020-03-23T21:00:00.241Z",
          "2020-03-23T22:00:00.191Z",
          "2020-03-23T23:00:00.193Z",
          "2020-03-24T00:00:00.225Z",
          "2020-03-24T01:00:00.213Z",
          "2020-03-24T02:00:00.233Z",
          "2020-03-24T03:00:00.172Z",
          "2020-03-24T04:00:00.243Z",
          "2020-03-24T05:00:00.217Z",
          "2020-03-24T06:00:00.208Z",
          "2020-03-24T07:00:00.168Z",
          "2020-03-24T08:00:00.226Z",
          "2020-03-24T09:00:00.223Z",
          "2020-03-24T10:00:00.276Z",
          "2020-03-24T11:00:00.202Z",
          "2020-03-24T12:00:00.194Z",
          "2020-03-24T13:00:00.235Z",
          "2020-03-24T14:00:00.228Z",
          "2020-03-24T15:00:00.223Z",
          "2020-03-24T16:00:00.180Z",
          "2020-03-24T17:00:00.204Z",
          "2020-03-24T18:00:00.207Z",
          "2020-03-24T19:00:00.195Z",
          "2020-03-24T20:00:00.195Z",
          "2020-03-24T21:00:00.225Z",
          "2020-03-24T22:00:00.228Z",
          "2020-03-24T23:00:00.194Z",
          "2020-03-25T00:00:00.196Z",
          "2020-03-25T01:00:00.156Z",
          "2020-03-25T02:00:00.242Z",
          "2020-03-25T03:00:00.160Z",
          "2020-03-25T04:00:00.238Z",
          "2020-03-25T05:00:00.189Z",
          "2020-03-25T06:00:00.200Z",
          "2020-03-25T07:00:00.170Z",
          "2020-03-25T08:00:00.212Z",
          "2020-03-25T09:00:00.232Z",
          "2020-03-25T10:00:00.218Z",
          "2020-03-25T11:00:00.273Z",
          "2020-03-25T12:00:00.220Z",
          "2020-03-25T13:00:00.164Z",
          "2020-03-25T14:00:00.245Z",
          "2020-03-25T15:00:00.222Z",
          "2020-03-25T16:00:00.201Z",
          "2020-03-25T17:00:00.205Z",
          "2020-03-25T18:00:00.228Z",
          "2020-03-25T19:00:00.188Z",
          "2020-03-25T20:00:00.192Z",
          "2020-03-25T21:00:00.194Z",
          "2020-03-25T22:00:00.242Z",
          "2020-03-25T23:00:00.162Z",
          "2020-03-26T00:00:00.190Z",
          "2020-03-26T01:00:00.220Z",
          "2020-03-26T02:00:00.198Z",
          "2020-03-26T03:00:00.216Z",
          "2020-03-26T04:00:00.161Z",
          "2020-03-26T05:00:00.183Z",
          "2020-03-26T06:00:00.223Z",
          "2020-03-26T07:00:00.220Z",
          "2020-03-26T08:00:00.230Z",
          "2020-03-26T09:00:00.210Z",
          "2020-03-26T10:00:00.222Z",
          "2020-03-26T11:00:00.437Z",
          "2020-03-26T12:00:00.221Z",
          "2020-03-26T13:00:00.374Z",
          "2020-03-26T14:00:00.333Z",
          "2020-03-26T15:00:00.188Z",
          "2020-03-26T16:00:00.314Z",
          "2020-03-26T17:00:00.260Z",
          "2020-03-26T18:00:00.506Z",
          "2020-03-26T19:00:01.083Z",
          "2020-03-26T20:00:01.124Z",
          "2020-03-26T21:00:00.185Z",
          "2020-03-26T22:00:00.170Z",
          "2020-03-26T23:00:00.995Z",
          "2020-03-27T00:00:00.195Z",
          "2020-03-27T01:00:00.216Z",
          "2020-03-27T02:00:00.218Z",
          "2020-03-27T03:00:00.192Z",
          "2020-03-27T04:00:00.209Z",
          "2020-03-27T05:00:00.182Z",
          "2020-03-27T06:00:00.188Z",
          "2020-03-27T07:00:00.218Z",
          "2020-03-27T08:00:00.204Z",
          "2020-03-27T09:00:00.220Z",
          "2020-03-27T10:00:00.200Z",
          "2020-03-27T11:00:00.163Z",
          "2020-03-27T12:00:00.246Z",
          "2020-03-27T13:00:00.205Z",
          "2020-03-27T14:00:00.256Z",
          "2020-03-27T15:00:00.173Z",
          "2020-03-27T16:00:00.168Z",
          "2020-03-27T17:00:00.223Z",
          "2020-03-27T18:00:00.236Z",
          "2020-03-27T19:00:00.194Z",
          "2020-03-27T21:00:00.202Z",
          "2020-03-27T22:00:00.191Z",
          "2020-03-27T23:00:00.159Z",
          "2020-03-28T01:00:00.213Z",
          "2020-03-28T02:00:00.191Z",
          "2020-03-28T03:00:00.225Z",
          "2020-03-28T04:00:00.185Z",
          "2020-03-28T05:00:00.200Z",
          "2020-03-28T06:00:00.211Z",
          "2020-03-28T07:00:00.169Z",
          "2020-03-28T08:00:00.299Z",
          "2020-03-28T09:00:00.204Z",
          "2020-03-28T10:00:00.214Z",
          "2020-03-28T11:00:00.224Z",
          "2020-03-28T12:00:00.174Z",
          "2020-03-28T13:00:00.241Z",
          "2020-03-28T14:00:00.191Z",
          "2020-03-28T15:00:00.156Z",
          "2020-03-28T16:00:00.197Z",
          "2020-03-28T17:00:00.219Z",
          "2020-03-28T18:00:00.163Z",
          "2020-03-28T19:00:00.196Z",
          "2020-03-28T20:00:00.230Z",
          "2020-03-28T21:00:00.235Z",
          "2020-03-28T22:00:00.193Z",
          "2020-03-28T23:00:00.268Z",
          "2020-03-29T00:00:00.161Z",
          "2020-03-29T01:00:00.168Z",
          "2020-03-29T02:00:00.246Z",
          "2020-03-29T03:00:00.185Z",
          "2020-03-29T04:00:00.185Z",
          "2020-03-29T05:00:00.152Z",
          "2020-03-29T06:00:00.228Z",
          "2020-03-29T07:00:00.225Z",
          "2020-03-29T08:00:00.239Z",
          "2020-03-29T09:00:00.221Z",
          "2020-03-29T10:00:00.238Z",
          "2020-03-29T11:00:00.207Z",
          "2020-03-29T12:00:00.163Z",
          "2020-03-29T13:00:00.186Z",
          "2020-03-29T14:00:00.169Z",
          "2020-03-29T15:00:00.184Z",
          "2020-03-29T16:00:00.175Z",
          "2020-03-29T17:00:00.218Z",
          "2020-03-29T18:00:00.177Z",
          "2020-03-29T19:00:00.225Z",
          "2020-03-29T20:00:00.161Z",
          "2020-03-29T21:00:00.186Z",
          "2020-03-29T22:00:00.218Z",
          "2020-03-29T23:00:00.168Z",
          "2020-03-30T00:00:00.188Z",
          "2020-03-30T01:00:00.159Z",
          "2020-03-30T02:00:00.190Z",
          "2020-03-30T03:00:00.179Z",
          "2020-03-30T04:00:00.226Z",
          "2020-03-30T05:00:00.232Z",
          "2020-03-30T06:00:00.188Z",
          "2020-03-30T07:00:00.253Z",
          "2020-03-30T08:00:00.231Z",
          "2020-03-30T09:00:00.194Z",
          "2020-03-30T10:00:00.222Z",
          "2020-03-30T11:00:00.183Z",
          "2020-03-30T12:00:00.225Z",
          "2020-03-30T13:00:00.236Z",
          "2020-03-30T14:00:00.235Z",
          "2020-03-30T15:00:00.231Z",
          "2020-03-30T16:00:00.186Z",
          "2020-03-30T17:00:00.191Z",
          "2020-03-30T18:00:00.193Z",
          "2020-03-30T19:00:00.196Z",
          "2020-03-30T20:00:00.199Z",
          "2020-03-30T21:00:00.226Z",
          "2020-03-30T22:00:00.200Z",
          "2020-03-30T23:00:00.222Z",
          "2020-03-31T00:00:00.174Z",
          "2020-03-31T01:00:00.247Z",
          "2020-03-31T02:00:00.214Z",
          "2020-03-31T03:00:00.161Z",
          "2020-03-31T04:00:00.164Z",
          "2020-03-31T05:00:00.141Z",
          "2020-03-31T06:00:00.194Z",
          "2020-03-31T07:00:00.200Z",
          "2020-03-31T08:00:00.158Z",
          "2020-03-31T09:00:00.195Z",
          "2020-03-31T10:00:00.225Z",
          "2020-03-31T11:00:00.192Z",
          "2020-03-31T12:00:00.232Z",
          "2020-03-31T13:00:00.222Z",
          "2020-03-31T14:00:00.160Z",
          "2020-03-31T15:00:00.218Z",
          "2020-03-31T16:00:00.201Z",
          "2020-03-31T17:00:00.198Z",
          "2020-03-31T18:00:00.191Z",
          "2020-03-31T19:00:00.184Z",
          "2020-03-31T20:00:00.192Z",
          "2020-03-31T21:00:00.194Z",
          "2020-03-31T22:00:00.214Z",
          "2020-03-31T23:00:00.182Z",
          "2020-04-01T00:00:00.195Z",
          "2020-04-01T01:00:00.169Z",
          "2020-04-01T02:00:00.229Z",
          "2020-04-01T03:00:00.293Z",
          "2020-04-01T04:00:00.207Z",
          "2020-04-01T05:00:00.193Z",
          "2020-04-01T06:00:00.238Z",
          "2020-04-01T07:00:00.168Z",
          "2020-04-01T08:00:00.229Z",
          "2020-04-01T09:00:00.180Z",
          "2020-04-01T10:00:00.218Z",
          "2020-04-01T11:00:00.205Z",
          "2020-04-01T12:00:00.241Z",
          "2020-04-01T13:00:00.160Z",
          "2020-04-01T14:00:00.203Z",
          "2020-04-01T15:00:00.213Z",
          "2020-04-01T16:00:00.193Z",
          "2020-04-01T17:00:00.260Z",
          "2020-04-01T18:00:00.201Z",
          "2020-04-01T19:00:00.271Z",
          "2020-04-01T20:00:00.209Z",
          "2020-04-01T21:00:00.225Z",
          "2020-04-01T22:00:00.168Z",
          "2020-04-01T23:00:00.206Z",
          "2020-04-02T00:00:00.182Z",
          "2020-04-02T01:00:00.198Z",
          "2020-04-02T02:00:00.212Z",
          "2020-04-02T03:00:00.220Z",
          "2020-04-02T05:00:00.195Z",
          "2020-04-02T06:00:00.241Z",
          "2020-04-02T07:00:00.229Z",
          "2020-04-02T08:00:00.193Z",
          "2020-04-02T09:00:00.199Z",
          "2020-04-02T10:00:00.230Z",
          "2020-04-02T11:00:00.212Z",
          "2020-04-02T12:00:00.187Z",
          "2020-04-02T13:00:00.259Z",
          "2020-04-02T14:00:00.289Z",
          "2020-04-02T15:00:00.212Z",
          "2020-04-02T16:00:00.157Z",
          "2020-04-02T17:00:00.191Z",
          "2020-04-02T18:00:00.201Z",
          "2020-04-02T19:00:00.210Z",
          "2020-04-02T20:00:00.193Z",
          "2020-04-02T21:00:00.223Z",
          "2020-04-02T22:00:00.197Z",
          "2020-04-02T23:00:00.227Z",
          "2020-04-03T00:00:00.201Z",
          "2020-04-03T01:00:00.159Z",
          "2020-04-03T02:00:00.180Z",
          "2020-04-03T03:00:00.233Z",
          "2020-04-03T04:00:00.210Z",
          "2020-04-03T05:00:00.168Z",
          "2020-04-03T06:00:00.193Z",
          "2020-04-03T07:00:00.261Z",
          "2020-04-03T08:00:00.194Z",
          "2020-04-03T09:00:00.278Z",
          "2020-04-03T10:00:00.232Z",
          "2020-04-03T11:00:00.181Z",
          "2020-04-03T12:00:00.200Z",
          "2020-04-03T13:00:00.170Z",
          "2020-04-03T14:00:00.184Z",
          "2020-04-03T15:00:00.219Z",
          "2020-04-03T16:00:00.164Z",
          "2020-04-03T17:00:00.180Z",
          "2020-04-03T18:00:00.184Z",
          "2020-04-03T19:00:00.196Z",
          "2020-04-03T20:00:00.184Z",
          "2020-04-03T21:00:00.211Z",
          "2020-04-03T22:00:00.194Z",
          "2020-04-03T23:00:00.148Z",
          "2020-04-04T00:00:00.159Z",
          "2020-04-04T01:00:00.181Z",
          "2020-04-04T02:00:00.157Z",
          "2020-04-04T03:00:00.217Z",
          "2020-04-04T04:00:00.192Z",
          "2020-04-04T05:00:00.173Z",
          "2020-04-04T06:00:00.230Z",
          "2020-04-04T07:00:00.159Z",
          "2020-04-04T08:00:00.237Z",
          "2020-04-04T09:00:00.162Z",
          "2020-04-04T10:00:00.188Z",
          "2020-04-04T11:00:00.185Z",
          "2020-04-04T12:00:00.192Z",
          "2020-04-04T13:00:00.162Z",
          "2020-04-04T14:00:00.171Z",
          "2020-04-04T15:00:00.216Z",
          "2020-04-04T17:00:00.185Z",
          "2020-04-04T18:00:00.199Z",
          "2020-04-04T19:00:00.217Z",
          "2020-04-04T20:00:00.225Z",
          "2020-04-04T21:00:00.255Z",
          "2020-04-04T22:00:00.199Z",
          "2020-04-04T23:00:00.282Z",
          "2020-04-05T00:00:00.238Z",
          "2020-04-05T01:00:00.225Z",
          "2020-04-05T02:00:00.235Z",
          "2020-04-05T03:00:00.253Z",
          "2020-04-05T04:00:00.216Z",
          "2020-04-05T05:00:00.205Z",
          "2020-04-05T06:00:00.228Z",
          "2020-04-05T07:00:00.192Z",
          "2020-04-05T08:00:00.185Z",
          "2020-04-05T09:00:00.265Z",
          "2020-04-05T10:00:00.194Z",
          "2020-04-05T11:00:00.217Z",
          "2020-04-05T12:00:00.222Z",
          "2020-04-05T13:00:00.237Z",
          "2020-04-05T14:00:00.188Z",
          "2020-04-05T15:00:00.267Z",
          "2020-04-05T16:00:00.225Z",
          "2020-04-05T17:00:00.184Z",
          "2020-04-05T18:00:00.263Z",
          "2020-04-05T19:00:00.209Z",
          "2020-04-05T20:00:00.205Z",
          "2020-04-05T21:00:00.182Z",
          "2020-04-05T22:00:00.224Z",
          "2020-04-05T23:00:00.242Z",
          "2020-04-06T00:00:00.264Z",
          "2020-04-06T01:00:00.248Z",
          "2020-04-06T02:00:00.174Z",
          "2020-04-06T03:00:00.224Z",
          "2020-04-06T04:00:00.232Z",
          "2020-04-06T05:00:00.211Z",
          "2020-04-06T06:00:00.185Z",
          "2020-04-06T07:00:00.195Z",
          "2020-04-06T08:00:00.215Z",
          "2020-04-06T09:00:00.185Z",
          "2020-04-06T10:00:00.208Z",
          "2020-04-06T11:00:00.200Z",
          "2020-04-06T12:00:00.177Z",
          "2020-04-06T13:00:00.254Z",
          "2020-04-06T14:00:00.186Z",
          "2020-04-06T15:00:00.244Z",
          "2020-04-06T16:00:00.242Z",
          "2020-04-06T17:00:00.214Z",
          "2020-04-06T18:00:00.238Z",
          "2020-04-06T19:00:00.234Z",
          "2020-04-06T20:00:00.193Z",
          "2020-04-06T21:00:00.255Z",
          "2020-04-06T22:00:00.261Z",
          "2020-04-06T23:00:00.179Z",
          "2020-04-07T00:00:00.256Z",
          "2020-04-07T01:00:00.223Z",
          "2020-04-07T02:00:00.207Z",
          "2020-04-07T03:00:00.186Z",
          "2020-04-07T04:00:00.182Z",
          "2020-04-07T05:00:00.186Z",
          "2020-04-07T06:00:00.160Z",
          "2020-04-07T07:00:00.183Z",
          "2020-04-07T08:00:00.216Z",
          "2020-04-07T09:00:00.206Z",
          "2020-04-07T10:00:00.254Z",
          "2020-04-07T11:00:00.190Z",
          "2020-04-07T12:00:00.271Z",
          "2020-04-07T13:00:00.170Z",
          "2020-04-07T14:00:00.457Z",
          "2020-04-07T15:00:00.225Z",
          "2020-04-07T16:00:00.212Z",
          "2020-04-07T17:00:00.212Z",
          "2020-04-07T18:00:00.170Z",
          "2020-04-07T19:00:00.272Z",
          "2020-04-07T20:00:00.213Z",
          "2020-04-07T21:00:00.229Z",
          "2020-04-07T22:00:00.235Z",
          "2020-04-07T23:00:00.261Z",
          "2020-04-08T00:00:00.336Z",
          "2020-04-08T01:00:00.252Z",
          "2020-04-08T02:00:00.184Z",
          "2020-04-08T03:00:00.207Z",
          "2020-04-08T04:00:00.266Z",
          "2020-04-08T05:00:00.218Z",
          "2020-04-08T06:00:00.257Z",
          "2020-04-08T07:00:00.197Z",
          "2020-04-08T08:00:00.244Z",
          "2020-04-08T09:00:00.191Z",
          "2020-04-08T10:00:00.225Z",
          "2020-04-08T11:00:00.237Z",
          "2020-04-08T12:00:00.194Z",
          "2020-04-08T13:00:00.304Z",
          "2020-04-08T14:00:00.209Z",
          "2020-04-08T15:00:00.284Z",
          "2020-04-08T16:00:00.210Z",
          "2020-04-08T17:00:00.202Z",
          "2020-04-08T18:00:00.356Z",
          "2020-04-08T19:00:00.260Z",
          "2020-04-08T20:00:00.212Z",
          "2020-04-08T21:00:00.181Z",
          "2020-04-08T22:00:00.244Z",
          "2020-04-08T23:00:00.261Z",
          "2020-04-09T00:00:00.188Z",
          "2020-04-09T01:00:00.206Z",
          "2020-04-09T02:00:00.208Z",
          "2020-04-09T03:00:00.217Z",
          "2020-04-09T04:00:00.196Z",
          "2020-04-09T05:00:00.235Z",
          "2020-04-09T06:00:00.213Z",
          "2020-04-09T07:00:00.236Z",
          "2020-04-09T08:00:00.226Z",
          "2020-04-09T09:00:00.169Z",
          "2020-04-09T10:00:00.223Z",
          "2020-04-09T11:00:00.251Z",
          "2020-04-09T12:00:00.217Z",
          "2020-04-09T13:00:00.235Z",
          "2020-04-09T14:00:00.258Z",
          "2020-04-09T15:00:00.233Z",
          "2020-04-09T16:00:00.189Z",
          "2020-04-09T17:00:00.220Z",
          "2020-04-09T18:00:00.233Z",
          "2020-04-09T19:00:00.222Z",
          "2020-04-09T20:00:00.280Z",
          "2020-04-09T21:00:00.285Z",
          "2020-04-09T22:00:00.225Z",
          "2020-04-09T23:00:00.181Z",
          "2020-04-10T00:00:00.213Z",
          "2020-04-10T01:00:00.222Z",
          "2020-04-10T02:00:00.253Z",
          "2020-04-10T03:00:00.163Z",
          "2020-04-10T04:00:00.193Z",
          "2020-04-10T05:00:00.208Z",
          "2020-04-10T06:00:00.206Z",
          "2020-04-10T07:00:00.200Z",
          "2020-04-10T08:00:00.251Z",
          "2020-04-10T09:00:00.227Z",
          "2020-04-10T10:00:00.231Z",
          "2020-04-10T11:00:00.181Z",
          "2020-04-10T12:00:00.271Z",
          "2020-04-10T13:00:00.218Z",
          "2020-04-10T14:00:00.185Z",
          "2020-04-10T15:00:00.223Z",
          "2020-04-10T16:00:00.189Z",
          "2020-04-10T17:00:00.211Z",
          "2020-04-10T18:00:00.236Z",
          "2020-04-10T19:00:00.213Z",
          "2020-04-10T20:00:00.190Z",
          "2020-04-10T21:00:00.182Z",
          "2020-04-10T22:00:00.212Z",
          "2020-04-10T23:00:00.185Z",
          "2020-04-11T00:00:00.202Z",
          "2020-04-11T01:00:00.229Z",
          "2020-04-11T02:00:00.265Z",
          "2020-04-11T03:00:00.193Z",
          "2020-04-11T04:00:00.199Z",
          "2020-04-11T05:00:00.176Z",
          "2020-04-11T06:00:00.230Z",
          "2020-04-11T07:00:00.226Z",
          "2020-04-11T08:00:00.196Z",
          "2020-04-11T09:00:00.281Z",
          "2020-04-11T10:00:00.226Z",
          "2020-04-11T11:00:00.259Z",
          "2020-04-11T12:00:00.277Z",
          "2020-04-11T13:00:00.253Z",
          "2020-04-11T14:00:00.189Z",
          "2020-04-11T15:00:00.222Z",
          "2020-04-11T16:00:00.193Z",
          "2020-04-11T17:00:00.213Z",
          "2020-04-11T18:00:00.264Z",
          "2020-04-11T19:00:00.178Z",
          "2020-04-11T20:00:00.235Z",
          "2020-04-11T21:00:00.257Z",
          "2020-04-11T22:00:00.247Z",
          "2020-04-11T23:00:00.217Z",
          "2020-04-12T00:00:00.224Z",
          "2020-04-12T01:00:00.262Z",
          "2020-04-12T02:00:00.185Z",
          "2020-04-12T03:00:00.219Z",
          "2020-04-12T04:00:00.192Z",
          "2020-04-12T05:00:00.173Z",
          "2020-04-12T06:00:00.256Z",
          "2020-04-12T07:00:00.237Z",
          "2020-04-12T08:00:00.177Z",
          "2020-04-12T09:00:00.225Z",
          "2020-04-12T10:00:00.258Z",
          "2020-04-12T11:00:00.252Z",
          "2020-04-12T12:00:00.187Z",
          "2020-04-12T13:00:00.211Z",
          "2020-04-12T14:00:00.230Z",
          "2020-04-12T15:00:00.182Z",
          "2020-04-12T16:00:00.273Z",
          "2020-04-12T17:00:00.246Z",
          "2020-04-12T18:00:00.193Z",
          "2020-04-12T19:00:00.187Z",
          "2020-04-12T20:00:00.207Z",
          "2020-04-12T21:00:00.213Z",
          "2020-04-12T22:00:00.205Z",
          "2020-04-12T23:00:00.251Z",
          "2020-04-13T00:00:00.241Z",
          "2020-04-13T01:00:00.214Z",
          "2020-04-13T02:00:00.244Z",
          "2020-04-13T03:00:00.244Z",
          "2020-04-13T04:00:00.245Z",
          "2020-04-13T05:00:00.228Z",
          "2020-04-13T06:00:00.261Z",
          "2020-04-13T07:00:00.231Z",
          "2020-04-13T08:00:00.250Z",
          "2020-04-13T09:00:00.223Z",
          "2020-04-13T10:00:00.226Z",
          "2020-04-13T11:00:00.202Z",
          "2020-04-13T12:00:00.180Z",
          "2020-04-13T13:00:00.170Z",
          "2020-04-13T14:00:00.209Z",
          "2020-04-13T15:00:00.230Z",
          "2020-04-13T16:00:00.212Z",
          "2020-04-13T17:00:00.233Z",
          "2020-04-13T18:00:00.261Z",
          "2020-04-13T19:00:00.275Z",
          "2020-04-13T20:00:00.177Z",
          "2020-04-13T21:00:00.223Z",
          "2020-04-13T22:00:00.224Z",
          "2020-04-13T23:00:00.242Z",
          "2020-04-14T00:00:00.214Z",
          "2020-04-14T01:00:00.220Z",
          "2020-04-14T02:00:00.242Z",
          "2020-04-14T03:00:00.257Z",
          "2020-04-14T04:00:00.207Z",
          "2020-04-14T05:00:00.209Z",
          "2020-04-14T06:00:00.215Z",
          "2020-04-14T07:00:00.227Z",
          "2020-04-14T08:00:00.215Z",
          "2020-04-14T09:00:00.254Z",
          "2020-04-14T10:00:00.226Z",
          "2020-04-14T11:00:00.177Z",
          "2020-04-14T12:00:00.381Z",
          "2020-04-14T13:00:00.180Z",
          "2020-04-14T14:00:00.244Z",
          "2020-04-14T15:00:00.227Z",
          "2020-04-14T16:00:00.295Z",
          "2020-04-14T17:00:00.224Z",
          "2020-04-14T18:00:00.223Z",
          "2020-04-14T19:00:00.220Z",
          "2020-04-14T20:00:00.218Z",
          "2020-04-14T21:00:00.233Z",
          "2020-04-14T22:00:00.219Z",
          "2020-04-14T23:00:00.245Z",
          "2020-04-15T00:00:00.254Z",
          "2020-04-15T01:00:00.189Z",
          "2020-04-15T02:00:00.206Z",
          "2020-04-15T03:00:00.179Z",
          "2020-04-15T04:00:00.227Z",
          "2020-04-15T05:00:00.261Z",
          "2020-04-15T06:00:00.188Z",
          "2020-04-15T07:00:00.229Z",
          "2020-04-15T08:00:00.204Z",
          "2020-04-15T09:00:00.190Z",
          "2020-04-15T10:00:00.212Z",
          "2020-04-15T11:00:00.238Z",
          "2020-04-15T12:00:00.249Z",
          "2020-04-15T13:00:00.239Z",
          "2020-04-15T14:00:00.212Z",
          "2020-04-15T15:00:00.258Z",
          "2020-04-15T16:00:00.219Z",
          "2020-04-15T17:00:00.184Z",
          "2020-04-15T18:00:00.197Z",
          "2020-04-15T19:00:00.303Z",
          "2020-04-15T20:00:00.243Z",
          "2020-04-15T21:00:00.221Z",
          "2020-04-15T22:00:00.246Z",
          "2020-04-15T23:00:00.246Z",
          "2020-04-16T00:00:00.185Z",
          "2020-04-16T01:00:00.265Z",
          "2020-04-16T02:00:00.175Z",
          "2020-04-16T03:00:00.201Z",
          "2020-04-16T04:00:00.216Z",
          "2020-04-16T05:00:00.225Z",
          "2020-04-16T06:00:00.237Z",
          "2020-04-16T07:00:00.263Z",
          "2020-04-16T08:00:00.240Z",
          "2020-04-16T09:00:00.214Z",
          "2020-04-16T10:00:00.193Z",
          "2020-04-16T11:00:00.213Z",
          "2020-04-16T12:00:00.229Z",
          "2020-04-16T13:00:00.229Z",
          "2020-04-16T14:00:00.265Z",
          "2020-04-16T15:00:00.264Z",
          "2020-04-16T16:00:00.237Z",
          "2020-04-16T17:00:00.201Z",
          "2020-04-16T18:00:00.226Z",
          "2020-04-16T19:00:00.217Z",
          "2020-04-16T20:00:00.257Z",
          "2020-04-16T21:00:00.180Z",
          "2020-04-16T22:00:00.178Z",
          "2020-04-16T23:00:00.222Z",
          "2020-04-17T00:00:00.247Z",
          "2020-04-17T01:00:00.210Z",
          "2020-04-17T02:00:00.211Z",
          "2020-04-17T03:00:00.261Z",
          "2020-04-17T04:00:00.265Z",
          "2020-04-17T05:00:00.222Z",
          "2020-04-17T06:00:00.224Z",
          "2020-04-17T07:00:00.285Z",
          "2020-04-17T08:00:00.235Z",
          "2020-04-17T09:00:00.230Z",
          "2020-04-17T10:00:00.257Z",
          "2020-04-17T11:00:00.261Z",
          "2020-04-17T12:00:00.309Z",
          "2020-04-17T13:00:00.191Z",
          "2020-04-17T14:00:00.225Z",
          "2020-04-17T15:00:00.263Z",
          "2020-04-17T16:00:00.221Z",
          "2020-04-17T17:00:00.283Z",
          "2020-04-17T18:00:00.224Z",
          "2020-04-17T19:00:00.256Z",
          "2020-04-17T20:00:00.265Z",
          "2020-04-17T21:00:00.253Z",
          "2020-04-17T22:00:00.218Z",
          "2020-04-17T23:00:00.251Z",
          "2020-04-18T00:00:00.230Z",
          "2020-04-18T01:00:00.219Z",
          "2020-04-18T02:00:00.173Z",
          "2020-04-18T03:00:00.190Z",
          "2020-04-18T04:00:00.172Z",
          "2020-04-18T05:00:00.214Z",
          "2020-04-18T06:00:00.190Z",
          "2020-04-18T07:00:00.255Z",
          "2020-04-18T08:00:00.201Z",
          "2020-04-18T09:00:00.229Z",
          "2020-04-18T10:00:00.223Z",
          "2020-04-18T11:00:00.195Z",
          "2020-04-18T12:00:00.227Z",
          "2020-04-18T13:00:00.218Z",
          "2020-04-18T14:00:00.228Z",
          "2020-04-18T15:00:00.281Z",
          "2020-04-18T16:00:00.225Z",
          "2020-04-18T17:00:00.226Z",
          "2020-04-18T18:00:00.224Z",
          "2020-04-18T19:00:00.161Z",
          "2020-04-18T20:00:00.187Z",
          "2020-04-18T21:00:00.226Z",
          "2020-04-18T22:00:00.239Z",
          "2020-04-18T23:00:00.225Z",
          "2020-04-19T00:00:00.158Z",
          "2020-04-19T01:00:00.215Z",
          "2020-04-19T02:00:00.237Z",
          "2020-04-19T03:00:00.182Z",
          "2020-04-19T04:00:00.206Z",
          "2020-04-19T05:00:00.226Z",
          "2020-04-19T06:00:00.177Z",
          "2020-04-19T07:00:00.263Z",
          "2020-04-19T08:00:00.213Z",
          "2020-04-19T09:00:00.186Z",
          "2020-04-19T10:00:00.193Z",
          "2020-04-19T11:00:00.217Z",
          "2020-04-19T12:00:00.176Z",
          "2020-04-19T13:00:00.240Z",
          "2020-04-19T14:00:00.267Z",
          "2020-04-19T15:00:00.187Z",
          "2020-04-19T16:00:00.177Z",
          "2020-04-19T17:00:00.248Z",
          "2020-04-19T18:00:00.269Z",
          "2020-04-19T19:00:00.216Z",
          "2020-04-19T20:00:00.189Z",
          "2020-04-19T21:00:00.272Z",
          "2020-04-19T22:00:00.274Z",
          "2020-04-19T23:00:00.222Z",
          "2020-04-20T00:00:00.251Z",
          "2020-04-20T01:00:00.244Z",
          "2020-04-20T02:00:00.181Z",
          "2020-04-20T03:00:00.238Z",
          "2020-04-20T04:00:00.213Z",
          "2020-04-20T05:00:00.205Z",
          "2020-04-20T06:00:00.223Z",
          "2020-04-20T07:00:00.182Z",
          "2020-04-20T08:00:00.211Z",
          "2020-04-20T09:00:00.231Z",
          "2020-04-20T10:00:00.234Z",
          "2020-04-20T11:00:00.214Z",
          "2020-04-20T12:00:00.354Z",
          "2020-04-20T13:00:00.238Z",
          "2020-04-20T14:00:00.187Z",
          "2020-04-20T15:00:00.222Z",
          "2020-04-20T16:00:00.263Z",
          "2020-04-20T17:00:00.191Z",
          "2020-04-20T18:00:00.225Z",
          "2020-04-20T19:00:00.257Z",
          "2020-04-20T20:00:00.269Z",
          "2020-04-20T21:00:00.179Z",
          "2020-04-20T22:00:00.167Z",
          "2020-04-20T23:00:00.186Z",
          "2020-04-21T00:00:00.227Z",
          "2020-04-21T01:00:00.239Z",
          "2020-04-21T02:00:00.224Z",
          "2020-04-21T03:00:00.237Z",
          "2020-04-21T04:00:00.276Z",
          "2020-04-21T05:00:00.212Z",
          "2020-04-21T06:00:00.215Z",
          "2020-04-21T07:00:00.237Z",
          "2020-04-21T08:00:00.299Z",
          "2020-04-21T09:00:00.262Z",
          "2020-04-21T10:00:00.234Z",
          "2020-04-21T11:00:00.219Z",
          "2020-04-21T12:00:00.199Z",
          "2020-04-21T13:00:00.260Z",
          "2020-04-21T14:00:00.265Z",
          "2020-04-21T15:00:00.208Z",
          "2020-04-21T16:00:00.278Z",
          "2020-04-21T17:00:00.208Z",
          "2020-04-21T18:00:00.190Z",
          "2020-04-21T19:00:00.264Z",
          "2020-04-21T20:00:00.222Z",
          "2020-04-21T21:00:00.215Z",
          "2020-04-21T22:00:00.219Z",
          "2020-04-21T23:00:00.206Z",
          "2020-04-22T00:00:00.207Z",
          "2020-04-22T01:00:00.220Z",
          "2020-04-22T02:00:00.203Z",
          "2020-04-22T03:00:00.213Z",
          "2020-04-22T04:00:00.201Z",
          "2020-04-22T05:00:00.248Z",
          "2020-04-22T06:00:00.189Z",
          "2020-04-22T07:00:00.223Z",
          "2020-04-22T08:00:00.223Z",
          "2020-04-22T09:00:00.223Z",
          "2020-04-22T10:00:00.245Z"
         ],
         "y": [
          62,
          62,
          85,
          85,
          85,
          85,
          85,
          85,
          85,
          85,
          85,
          116,
          116,
          116,
          116,
          116,
          116,
          116,
          116,
          116,
          116,
          116,
          116,
          116,
          116,
          116,
          116,
          116,
          116,
          116,
          116,
          116,
          116,
          116,
          116,
          116,
          116,
          116,
          150,
          150,
          150,
          150,
          150,
          150,
          150,
          150,
          150,
          150,
          150,
          150,
          150,
          150,
          150,
          150,
          150,
          150,
          150,
          150,
          150,
          202,
          202,
          202,
          202,
          202,
          202,
          202,
          202,
          202,
          202,
          202,
          202,
          202,
          202,
          202,
          202,
          202,
          202,
          202,
          202,
          202,
          202,
          202,
          202,
          239,
          239,
          239,
          238,
          238,
          238,
          238,
          238,
          238,
          238,
          238,
          238,
          238,
          238,
          238,
          238,
          238,
          238,
          238,
          238,
          238,
          238,
          238,
          238,
          238,
          238,
          238,
          238,
          238,
          238,
          238,
          238,
          238,
          272,
          272,
          272,
          272,
          272,
          272,
          272,
          272,
          272,
          398,
          398,
          398,
          398,
          398,
          398,
          398,
          398,
          398,
          398,
          398,
          398,
          398,
          550,
          550,
          550,
          550,
          550,
          550,
          550,
          550,
          550,
          550,
          550,
          550,
          550,
          550,
          550,
          550,
          550,
          550,
          550,
          550,
          550,
          550,
          705,
          705,
          705,
          705,
          705,
          697,
          697,
          697,
          697,
          697,
          697,
          697,
          697,
          697,
          697,
          697,
          697,
          697,
          697,
          697,
          697,
          697,
          697,
          697,
          697,
          697,
          697,
          697,
          697,
          697,
          697,
          697,
          697,
          915,
          915,
          915,
          915,
          915,
          915,
          915,
          915,
          915,
          915,
          915,
          915,
          915,
          915,
          915,
          915,
          913,
          913,
          913,
          913,
          913,
          913,
          913,
          913,
          913,
          1156,
          1156,
          1156,
          1157,
          1138,
          1138,
          1138,
          1138,
          1138,
          1138,
          1138,
          1138,
          1138,
          1138,
          1138,
          1138,
          1138,
          1138,
          1138,
          1138,
          1138,
          1138,
          1138,
          1137,
          1154,
          1154,
          1154,
          1155,
          1155,
          1155,
          1155,
          1155,
          1155,
          1155,
          1155,
          1155,
          1155,
          1155,
          1155,
          1155,
          1155,
          1155,
          1155,
          1155,
          1155,
          1155,
          1155,
          1155,
          1155,
          1247,
          1247,
          1247,
          1247,
          1247,
          1247,
          1247,
          1247,
          1247,
          1247,
          1247,
          1247,
          1247,
          1247,
          1247,
          1247,
          1247,
          1247,
          1247,
          1247,
          1247,
          1247,
          1292,
          1292,
          1292,
          1292,
          1292,
          1292,
          1292,
          1292,
          1292,
          1292,
          1292,
          1292,
          1292,
          1292,
          1292,
          1292,
          1292,
          1292,
          1292,
          1292,
          1292,
          1292,
          1319,
          1319,
          1319,
          1319,
          1319,
          1317,
          1317,
          1317,
          1317,
          1317,
          1317,
          1317,
          1317,
          1317,
          1317,
          1317,
          1298,
          1298,
          1298,
          1298,
          1298,
          1298,
          1298,
          1298,
          1298,
          1325,
          1325,
          1325,
          1325,
          1325,
          1325,
          1325,
          1325,
          1325,
          1325,
          1325,
          1325,
          1325,
          1325,
          1325,
          1325,
          1325,
          1325,
          1325,
          1325,
          1325,
          1325,
          1325,
          1325,
          1407,
          1407,
          1407,
          1407,
          1407,
          1407,
          1407,
          1407,
          1407,
          1407,
          1407,
          1407,
          1362,
          1362,
          1362,
          1362,
          1362,
          1362,
          1362,
          1362,
          1362,
          1362,
          1403,
          1403,
          1401,
          1401,
          1401,
          1401,
          1401,
          1401,
          1401,
          1401,
          1401,
          1401,
          1401,
          1401,
          1401,
          1401,
          1401,
          1401,
          1401,
          1401,
          1401,
          1401,
          1401,
          1401,
          1401,
          1401,
          1401,
          1481,
          1481,
          1481,
          1481,
          1481,
          1481,
          1481,
          1481,
          1481,
          1481,
          1481,
          1481,
          1481,
          1481,
          1481,
          1481,
          1481,
          1481,
          1481,
          1481,
          1481,
          1481,
          1481,
          1481,
          1549,
          1549,
          1549,
          1549,
          1549,
          1549,
          1549,
          1549,
          1549,
          1549,
          1549,
          1549,
          1549,
          1549,
          1549,
          1549,
          1549,
          1549,
          1549,
          1549,
          1549,
          1549,
          1549,
          1549,
          1579,
          1579,
          1579,
          1579,
          1579,
          1579,
          1579,
          1579,
          1579,
          1579,
          1579,
          1579,
          1579,
          1579,
          1579,
          1579,
          1579,
          1579,
          1641,
          1641,
          1641,
          1641,
          1641,
          1641,
          1641,
          1641,
          1641,
          1641,
          1641,
          1641,
          1641,
          1641,
          1641,
          1641,
          1641,
          1641,
          1641,
          1641,
          1641,
          1641,
          1641,
          1641,
          1641,
          1641,
          1641,
          1641,
          1641,
          1732,
          1732,
          1732,
          1732,
          1732,
          1732,
          1732,
          1732,
          1732,
          1732,
          1732,
          1732,
          1732,
          1732,
          1732,
          1732,
          1732,
          1732,
          1732,
          1732,
          1732,
          1732,
          1732,
          1732,
          1821,
          1821,
          1821,
          1821,
          1821,
          1821,
          1821,
          1821,
          1821,
          1821,
          1821,
          1821,
          1821,
          1821,
          1821,
          1821,
          1821,
          1821,
          1569,
          1569,
          1569,
          1569,
          1569,
          1569,
          1569,
          1569,
          1569,
          1569,
          1569,
          1569,
          1569,
          1569,
          1569,
          1569,
          1569,
          1569,
          1569,
          1569,
          1569,
          1569,
          1569,
          1569,
          1569,
          1569,
          1569,
          1569,
          1569,
          1593,
          1593,
          1593,
          1593,
          1593,
          1593,
          1593,
          1593,
          1593,
          1593,
          1593,
          1593,
          1593,
          1593,
          1593,
          1593,
          1593,
          1593,
          1593,
          1593,
          1593,
          1593,
          1593,
          1593,
          1738,
          1738,
          1738,
          1738,
          1738,
          1738,
          1738,
          1738,
          1738,
          1738,
          1738,
          1738,
          1738,
          1738,
          1738,
          1738,
          1738,
          1738,
          1738,
          1738,
          1738,
          1738,
          1738,
          1738,
          1835,
          1835,
          1835,
          1835,
          1835,
          1835,
          1835,
          1835,
          1835,
          1835,
          1835,
          1835,
          1835,
          1835,
          1835,
          1835,
          1835,
          1835,
          1835,
          1835,
          1978,
          1978,
          1978,
          1978,
          1978,
          1978,
          1978,
          1978,
          1978,
          1978,
          1978,
          1978,
          1978,
          1978,
          1978,
          1978,
          1978,
          1978,
          1978,
          1978,
          1978,
          1978,
          1978,
          1978,
          1978,
          1978,
          1978,
          2062,
          2062,
          2062,
          2062,
          2062,
          2062,
          2062,
          2062,
          2062,
          2062,
          2062,
          2062,
          2062,
          2062,
          2062,
          2062,
          2062,
          2062,
          2062,
          2062,
          2062,
          2062,
          2062,
          2062,
          2062,
          2062,
          1654,
          1654,
          1654,
          1654,
          1654,
          1654,
          1654,
          1654,
          1654,
          1654,
          1654,
          1654,
          1654,
          1654,
          1654,
          1654,
          1654,
          1654,
          1654,
          1654,
          1654,
          1654,
          1654,
          1654,
          1830,
          1830,
          1830,
          1830,
          1830,
          1830,
          1830,
          1830,
          1830,
          1830,
          1830,
          1830,
          1830,
          1830,
          1830,
          1830,
          1830,
          1830,
          1830,
          1830,
          1830,
          1830,
          1830,
          1830,
          2081,
          2081,
          2079,
          2079,
          2079,
          2079,
          2079,
          2079,
          2079,
          2079,
          2079,
          2079,
          2079,
          2079,
          2079,
          2079,
          2079,
          2079,
          2079,
          2079,
          2079,
          2079,
          2079,
          2201,
          2201,
          2201,
          2201,
          2201,
          2201,
          2201,
          2201,
          2201,
          2201,
          2201,
          2201,
          2201,
          2201,
          2201,
          2201,
          2201,
          2201,
          2201,
          2201,
          2201,
          2201,
          2201,
          2201,
          2201,
          2201,
          2187,
          2187,
          2187,
          2187,
          2187,
          2187,
          2187,
          2187,
          2187,
          2187,
          2187,
          2187,
          2187,
          2187,
          2187,
          2187,
          2187,
          2187,
          2187,
          2187,
          2187,
          2352,
          2352,
          2352,
          2352,
          2352,
          2352,
          2352,
          2352,
          2352,
          2352,
          2352,
          2352,
          2352,
          2352,
          2352,
          2352,
          2352,
          2352
         ]
        }
       ],
       "layout": {
        "template": {
         "data": {
          "bar": [
           {
            "error_x": {
             "color": "#2a3f5f"
            },
            "error_y": {
             "color": "#2a3f5f"
            },
            "marker": {
             "line": {
              "color": "#E5ECF6",
              "width": 0.5
             }
            },
            "type": "bar"
           }
          ],
          "barpolar": [
           {
            "marker": {
             "line": {
              "color": "#E5ECF6",
              "width": 0.5
             }
            },
            "type": "barpolar"
           }
          ],
          "carpet": [
           {
            "aaxis": {
             "endlinecolor": "#2a3f5f",
             "gridcolor": "white",
             "linecolor": "white",
             "minorgridcolor": "white",
             "startlinecolor": "#2a3f5f"
            },
            "baxis": {
             "endlinecolor": "#2a3f5f",
             "gridcolor": "white",
             "linecolor": "white",
             "minorgridcolor": "white",
             "startlinecolor": "#2a3f5f"
            },
            "type": "carpet"
           }
          ],
          "choropleth": [
           {
            "colorbar": {
             "outlinewidth": 0,
             "ticks": ""
            },
            "type": "choropleth"
           }
          ],
          "contour": [
           {
            "colorbar": {
             "outlinewidth": 0,
             "ticks": ""
            },
            "colorscale": [
             [
              0,
              "#0d0887"
             ],
             [
              0.1111111111111111,
              "#46039f"
             ],
             [
              0.2222222222222222,
              "#7201a8"
             ],
             [
              0.3333333333333333,
              "#9c179e"
             ],
             [
              0.4444444444444444,
              "#bd3786"
             ],
             [
              0.5555555555555556,
              "#d8576b"
             ],
             [
              0.6666666666666666,
              "#ed7953"
             ],
             [
              0.7777777777777778,
              "#fb9f3a"
             ],
             [
              0.8888888888888888,
              "#fdca26"
             ],
             [
              1,
              "#f0f921"
             ]
            ],
            "type": "contour"
           }
          ],
          "contourcarpet": [
           {
            "colorbar": {
             "outlinewidth": 0,
             "ticks": ""
            },
            "type": "contourcarpet"
           }
          ],
          "heatmap": [
           {
            "colorbar": {
             "outlinewidth": 0,
             "ticks": ""
            },
            "colorscale": [
             [
              0,
              "#0d0887"
             ],
             [
              0.1111111111111111,
              "#46039f"
             ],
             [
              0.2222222222222222,
              "#7201a8"
             ],
             [
              0.3333333333333333,
              "#9c179e"
             ],
             [
              0.4444444444444444,
              "#bd3786"
             ],
             [
              0.5555555555555556,
              "#d8576b"
             ],
             [
              0.6666666666666666,
              "#ed7953"
             ],
             [
              0.7777777777777778,
              "#fb9f3a"
             ],
             [
              0.8888888888888888,
              "#fdca26"
             ],
             [
              1,
              "#f0f921"
             ]
            ],
            "type": "heatmap"
           }
          ],
          "heatmapgl": [
           {
            "colorbar": {
             "outlinewidth": 0,
             "ticks": ""
            },
            "colorscale": [
             [
              0,
              "#0d0887"
             ],
             [
              0.1111111111111111,
              "#46039f"
             ],
             [
              0.2222222222222222,
              "#7201a8"
             ],
             [
              0.3333333333333333,
              "#9c179e"
             ],
             [
              0.4444444444444444,
              "#bd3786"
             ],
             [
              0.5555555555555556,
              "#d8576b"
             ],
             [
              0.6666666666666666,
              "#ed7953"
             ],
             [
              0.7777777777777778,
              "#fb9f3a"
             ],
             [
              0.8888888888888888,
              "#fdca26"
             ],
             [
              1,
              "#f0f921"
             ]
            ],
            "type": "heatmapgl"
           }
          ],
          "histogram": [
           {
            "marker": {
             "colorbar": {
              "outlinewidth": 0,
              "ticks": ""
             }
            },
            "type": "histogram"
           }
          ],
          "histogram2d": [
           {
            "colorbar": {
             "outlinewidth": 0,
             "ticks": ""
            },
            "colorscale": [
             [
              0,
              "#0d0887"
             ],
             [
              0.1111111111111111,
              "#46039f"
             ],
             [
              0.2222222222222222,
              "#7201a8"
             ],
             [
              0.3333333333333333,
              "#9c179e"
             ],
             [
              0.4444444444444444,
              "#bd3786"
             ],
             [
              0.5555555555555556,
              "#d8576b"
             ],
             [
              0.6666666666666666,
              "#ed7953"
             ],
             [
              0.7777777777777778,
              "#fb9f3a"
             ],
             [
              0.8888888888888888,
              "#fdca26"
             ],
             [
              1,
              "#f0f921"
             ]
            ],
            "type": "histogram2d"
           }
          ],
          "histogram2dcontour": [
           {
            "colorbar": {
             "outlinewidth": 0,
             "ticks": ""
            },
            "colorscale": [
             [
              0,
              "#0d0887"
             ],
             [
              0.1111111111111111,
              "#46039f"
             ],
             [
              0.2222222222222222,
              "#7201a8"
             ],
             [
              0.3333333333333333,
              "#9c179e"
             ],
             [
              0.4444444444444444,
              "#bd3786"
             ],
             [
              0.5555555555555556,
              "#d8576b"
             ],
             [
              0.6666666666666666,
              "#ed7953"
             ],
             [
              0.7777777777777778,
              "#fb9f3a"
             ],
             [
              0.8888888888888888,
              "#fdca26"
             ],
             [
              1,
              "#f0f921"
             ]
            ],
            "type": "histogram2dcontour"
           }
          ],
          "mesh3d": [
           {
            "colorbar": {
             "outlinewidth": 0,
             "ticks": ""
            },
            "type": "mesh3d"
           }
          ],
          "parcoords": [
           {
            "line": {
             "colorbar": {
              "outlinewidth": 0,
              "ticks": ""
             }
            },
            "type": "parcoords"
           }
          ],
          "pie": [
           {
            "automargin": true,
            "type": "pie"
           }
          ],
          "scatter": [
           {
            "marker": {
             "colorbar": {
              "outlinewidth": 0,
              "ticks": ""
             }
            },
            "type": "scatter"
           }
          ],
          "scatter3d": [
           {
            "line": {
             "colorbar": {
              "outlinewidth": 0,
              "ticks": ""
             }
            },
            "marker": {
             "colorbar": {
              "outlinewidth": 0,
              "ticks": ""
             }
            },
            "type": "scatter3d"
           }
          ],
          "scattercarpet": [
           {
            "marker": {
             "colorbar": {
              "outlinewidth": 0,
              "ticks": ""
             }
            },
            "type": "scattercarpet"
           }
          ],
          "scattergeo": [
           {
            "marker": {
             "colorbar": {
              "outlinewidth": 0,
              "ticks": ""
             }
            },
            "type": "scattergeo"
           }
          ],
          "scattergl": [
           {
            "marker": {
             "colorbar": {
              "outlinewidth": 0,
              "ticks": ""
             }
            },
            "type": "scattergl"
           }
          ],
          "scattermapbox": [
           {
            "marker": {
             "colorbar": {
              "outlinewidth": 0,
              "ticks": ""
             }
            },
            "type": "scattermapbox"
           }
          ],
          "scatterpolar": [
           {
            "marker": {
             "colorbar": {
              "outlinewidth": 0,
              "ticks": ""
             }
            },
            "type": "scatterpolar"
           }
          ],
          "scatterpolargl": [
           {
            "marker": {
             "colorbar": {
              "outlinewidth": 0,
              "ticks": ""
             }
            },
            "type": "scatterpolargl"
           }
          ],
          "scatterternary": [
           {
            "marker": {
             "colorbar": {
              "outlinewidth": 0,
              "ticks": ""
             }
            },
            "type": "scatterternary"
           }
          ],
          "surface": [
           {
            "colorbar": {
             "outlinewidth": 0,
             "ticks": ""
            },
            "colorscale": [
             [
              0,
              "#0d0887"
             ],
             [
              0.1111111111111111,
              "#46039f"
             ],
             [
              0.2222222222222222,
              "#7201a8"
             ],
             [
              0.3333333333333333,
              "#9c179e"
             ],
             [
              0.4444444444444444,
              "#bd3786"
             ],
             [
              0.5555555555555556,
              "#d8576b"
             ],
             [
              0.6666666666666666,
              "#ed7953"
             ],
             [
              0.7777777777777778,
              "#fb9f3a"
             ],
             [
              0.8888888888888888,
              "#fdca26"
             ],
             [
              1,
              "#f0f921"
             ]
            ],
            "type": "surface"
           }
          ],
          "table": [
           {
            "cells": {
             "fill": {
              "color": "#EBF0F8"
             },
             "line": {
              "color": "white"
             }
            },
            "header": {
             "fill": {
              "color": "#C8D4E3"
             },
             "line": {
              "color": "white"
             }
            },
            "type": "table"
           }
          ]
         },
         "layout": {
          "annotationdefaults": {
           "arrowcolor": "#2a3f5f",
           "arrowhead": 0,
           "arrowwidth": 1
          },
          "coloraxis": {
           "colorbar": {
            "outlinewidth": 0,
            "ticks": ""
           }
          },
          "colorscale": {
           "diverging": [
            [
             0,
             "#8e0152"
            ],
            [
             0.1,
             "#c51b7d"
            ],
            [
             0.2,
             "#de77ae"
            ],
            [
             0.3,
             "#f1b6da"
            ],
            [
             0.4,
             "#fde0ef"
            ],
            [
             0.5,
             "#f7f7f7"
            ],
            [
             0.6,
             "#e6f5d0"
            ],
            [
             0.7,
             "#b8e186"
            ],
            [
             0.8,
             "#7fbc41"
            ],
            [
             0.9,
             "#4d9221"
            ],
            [
             1,
             "#276419"
            ]
           ],
           "sequential": [
            [
             0,
             "#0d0887"
            ],
            [
             0.1111111111111111,
             "#46039f"
            ],
            [
             0.2222222222222222,
             "#7201a8"
            ],
            [
             0.3333333333333333,
             "#9c179e"
            ],
            [
             0.4444444444444444,
             "#bd3786"
            ],
            [
             0.5555555555555556,
             "#d8576b"
            ],
            [
             0.6666666666666666,
             "#ed7953"
            ],
            [
             0.7777777777777778,
             "#fb9f3a"
            ],
            [
             0.8888888888888888,
             "#fdca26"
            ],
            [
             1,
             "#f0f921"
            ]
           ],
           "sequentialminus": [
            [
             0,
             "#0d0887"
            ],
            [
             0.1111111111111111,
             "#46039f"
            ],
            [
             0.2222222222222222,
             "#7201a8"
            ],
            [
             0.3333333333333333,
             "#9c179e"
            ],
            [
             0.4444444444444444,
             "#bd3786"
            ],
            [
             0.5555555555555556,
             "#d8576b"
            ],
            [
             0.6666666666666666,
             "#ed7953"
            ],
            [
             0.7777777777777778,
             "#fb9f3a"
            ],
            [
             0.8888888888888888,
             "#fdca26"
            ],
            [
             1,
             "#f0f921"
            ]
           ]
          },
          "colorway": [
           "#636efa",
           "#EF553B",
           "#00cc96",
           "#ab63fa",
           "#FFA15A",
           "#19d3f3",
           "#FF6692",
           "#B6E880",
           "#FF97FF",
           "#FECB52"
          ],
          "font": {
           "color": "#2a3f5f"
          },
          "geo": {
           "bgcolor": "white",
           "lakecolor": "white",
           "landcolor": "#E5ECF6",
           "showlakes": true,
           "showland": true,
           "subunitcolor": "white"
          },
          "hoverlabel": {
           "align": "left"
          },
          "hovermode": "closest",
          "mapbox": {
           "style": "light"
          },
          "paper_bgcolor": "white",
          "plot_bgcolor": "#E5ECF6",
          "polar": {
           "angularaxis": {
            "gridcolor": "white",
            "linecolor": "white",
            "ticks": ""
           },
           "bgcolor": "#E5ECF6",
           "radialaxis": {
            "gridcolor": "white",
            "linecolor": "white",
            "ticks": ""
           }
          },
          "scene": {
           "xaxis": {
            "backgroundcolor": "#E5ECF6",
            "gridcolor": "white",
            "gridwidth": 2,
            "linecolor": "white",
            "showbackground": true,
            "ticks": "",
            "zerolinecolor": "white"
           },
           "yaxis": {
            "backgroundcolor": "#E5ECF6",
            "gridcolor": "white",
            "gridwidth": 2,
            "linecolor": "white",
            "showbackground": true,
            "ticks": "",
            "zerolinecolor": "white"
           },
           "zaxis": {
            "backgroundcolor": "#E5ECF6",
            "gridcolor": "white",
            "gridwidth": 2,
            "linecolor": "white",
            "showbackground": true,
            "ticks": "",
            "zerolinecolor": "white"
           }
          },
          "shapedefaults": {
           "line": {
            "color": "#2a3f5f"
           }
          },
          "ternary": {
           "aaxis": {
            "gridcolor": "white",
            "linecolor": "white",
            "ticks": ""
           },
           "baxis": {
            "gridcolor": "white",
            "linecolor": "white",
            "ticks": ""
           },
           "bgcolor": "#E5ECF6",
           "caxis": {
            "gridcolor": "white",
            "linecolor": "white",
            "ticks": ""
           }
          },
          "title": {
           "x": 0.05
          },
          "xaxis": {
           "automargin": true,
           "gridcolor": "white",
           "linecolor": "white",
           "ticks": "",
           "title": {
            "standoff": 15
           },
           "zerolinecolor": "white",
           "zerolinewidth": 2
          },
          "yaxis": {
           "automargin": true,
           "gridcolor": "white",
           "linecolor": "white",
           "ticks": "",
           "title": {
            "standoff": 15
           },
           "zerolinecolor": "white",
           "zerolinewidth": 2
          }
         }
        }
       }
      },
      "text/html": [
       "<div>\n",
       "        \n",
       "        \n",
       "            <div id=\"d7f7d97a-76da-46b3-99e7-bdbb69dcdb41\" class=\"plotly-graph-div\" style=\"height:525px; width:100%;\"></div>\n",
       "            <script type=\"text/javascript\">\n",
       "                require([\"plotly\"], function(Plotly) {\n",
       "                    window.PLOTLYENV=window.PLOTLYENV || {};\n",
       "                    \n",
       "                if (document.getElementById(\"d7f7d97a-76da-46b3-99e7-bdbb69dcdb41\")) {\n",
       "                    Plotly.newPlot(\n",
       "                        'd7f7d97a-76da-46b3-99e7-bdbb69dcdb41',\n",
       "                        [{\"name\": \"Active Cases in SA\", \"type\": \"scatter\", \"x\": [\"2020-03-17T21:00:00.200Z\", \"2020-03-17T22:00:00.182Z\", \"2020-03-17T23:00:00.171Z\", \"2020-03-18T00:00:00.193Z\", \"2020-03-18T01:00:00.205Z\", \"2020-03-18T02:00:00.195Z\", \"2020-03-18T03:00:00.182Z\", \"2020-03-18T04:00:00.190Z\", \"2020-03-18T05:00:00.147Z\", \"2020-03-18T06:00:00.205Z\", \"2020-03-18T07:00:00.215Z\", \"2020-03-18T08:00:00.192Z\", \"2020-03-18T09:00:00.167Z\", \"2020-03-18T10:00:00.221Z\", \"2020-03-18T11:00:00.223Z\", \"2020-03-18T12:00:00.202Z\", \"2020-03-18T13:00:00.296Z\", \"2020-03-18T14:00:00.178Z\", \"2020-03-18T15:00:00.169Z\", \"2020-03-18T16:00:00.171Z\", \"2020-03-18T18:00:00.155Z\", \"2020-03-18T19:00:00.206Z\", \"2020-03-18T20:00:00.199Z\", \"2020-03-18T21:00:00.171Z\", \"2020-03-18T22:00:00.161Z\", \"2020-03-18T23:00:00.188Z\", \"2020-03-19T00:00:00.179Z\", \"2020-03-19T02:00:00.181Z\", \"2020-03-19T03:00:00.192Z\", \"2020-03-19T04:00:00.162Z\", \"2020-03-19T05:00:00.163Z\", \"2020-03-19T06:00:00.187Z\", \"2020-03-19T07:00:00.203Z\", \"2020-03-19T08:00:00.151Z\", \"2020-03-19T09:00:00.176Z\", \"2020-03-19T10:00:00.153Z\", \"2020-03-19T11:00:00.150Z\", \"2020-03-19T12:00:00.164Z\", \"2020-03-19T13:00:00.237Z\", \"2020-03-19T14:00:00.221Z\", \"2020-03-19T15:00:00.230Z\", \"2020-03-19T16:00:00.167Z\", \"2020-03-19T17:00:00.204Z\", \"2020-03-19T18:00:00.211Z\", \"2020-03-19T19:00:00.159Z\", \"2020-03-19T20:00:00.204Z\", \"2020-03-19T21:00:00.186Z\", \"2020-03-19T22:00:00.164Z\", \"2020-03-19T23:00:00.156Z\", \"2020-03-20T00:00:00.158Z\", \"2020-03-20T01:00:00.190Z\", \"2020-03-20T02:00:00.192Z\", \"2020-03-20T03:00:00.182Z\", \"2020-03-20T04:00:00.171Z\", \"2020-03-20T05:00:00.194Z\", \"2020-03-20T06:00:00.205Z\", \"2020-03-20T07:00:00.169Z\", \"2020-03-20T08:00:00.196Z\", \"2020-03-20T09:00:00.198Z\", \"2020-03-20T10:00:00.190Z\", \"2020-03-20T11:00:00.232Z\", \"2020-03-20T12:00:00.201Z\", \"2020-03-20T13:00:00.163Z\", \"2020-03-20T14:00:00.198Z\", \"2020-03-20T15:00:00.179Z\", \"2020-03-20T16:00:00.199Z\", \"2020-03-20T17:00:00.206Z\", \"2020-03-20T18:00:00.200Z\", \"2020-03-20T19:00:00.161Z\", \"2020-03-20T20:00:00.238Z\", \"2020-03-20T21:00:00.224Z\", \"2020-03-20T22:00:00.195Z\", \"2020-03-20T23:00:00.214Z\", \"2020-03-21T00:00:00.178Z\", \"2020-03-21T01:00:00.219Z\", \"2020-03-21T02:00:00.174Z\", \"2020-03-21T03:00:00.168Z\", \"2020-03-21T04:00:00.250Z\", \"2020-03-21T05:00:00.211Z\", \"2020-03-21T06:00:00.188Z\", \"2020-03-21T07:00:00.162Z\", \"2020-03-21T08:00:00.162Z\", \"2020-03-21T09:00:00.202Z\", \"2020-03-21T10:00:00.183Z\", \"2020-03-21T11:00:00.229Z\", \"2020-03-21T12:00:00.227Z\", \"2020-03-21T13:00:00.182Z\", \"2020-03-21T14:00:00.179Z\", \"2020-03-21T15:00:00.205Z\", \"2020-03-21T16:00:00.171Z\", \"2020-03-21T17:00:00.230Z\", \"2020-03-21T18:00:00.232Z\", \"2020-03-21T19:00:00.189Z\", \"2020-03-21T20:00:00.207Z\", \"2020-03-21T21:00:00.185Z\", \"2020-03-21T22:00:00.201Z\", \"2020-03-21T23:00:00.163Z\", \"2020-03-22T00:00:00.178Z\", \"2020-03-22T01:00:00.171Z\", \"2020-03-22T02:00:00.155Z\", \"2020-03-22T03:00:00.209Z\", \"2020-03-22T04:00:00.179Z\", \"2020-03-22T05:00:00.186Z\", \"2020-03-22T06:00:00.205Z\", \"2020-03-22T07:00:00.207Z\", \"2020-03-22T08:00:00.189Z\", \"2020-03-22T09:00:00.190Z\", \"2020-03-22T10:00:00.231Z\", \"2020-03-22T11:00:00.202Z\", \"2020-03-22T12:00:00.191Z\", \"2020-03-22T13:00:00.168Z\", \"2020-03-22T14:00:00.211Z\", \"2020-03-22T15:00:00.223Z\", \"2020-03-22T16:00:00.200Z\", \"2020-03-22T17:00:00.225Z\", \"2020-03-22T18:00:00.197Z\", \"2020-03-22T19:00:00.200Z\", \"2020-03-22T20:00:00.155Z\", \"2020-03-22T21:00:00.157Z\", \"2020-03-22T22:00:00.183Z\", \"2020-03-22T23:00:00.192Z\", \"2020-03-23T00:00:00.227Z\", \"2020-03-23T01:00:00.150Z\", \"2020-03-23T02:00:00.278Z\", \"2020-03-23T03:00:00.195Z\", \"2020-03-23T20:00:00.171Z\", \"2020-03-23T21:00:00.241Z\", \"2020-03-23T22:00:00.191Z\", \"2020-03-23T23:00:00.193Z\", \"2020-03-24T00:00:00.225Z\", \"2020-03-24T01:00:00.213Z\", \"2020-03-24T02:00:00.233Z\", \"2020-03-24T03:00:00.172Z\", \"2020-03-24T04:00:00.243Z\", \"2020-03-24T05:00:00.217Z\", \"2020-03-24T06:00:00.208Z\", \"2020-03-24T07:00:00.168Z\", \"2020-03-24T08:00:00.226Z\", \"2020-03-24T09:00:00.223Z\", \"2020-03-24T10:00:00.276Z\", \"2020-03-24T11:00:00.202Z\", \"2020-03-24T12:00:00.194Z\", \"2020-03-24T13:00:00.235Z\", \"2020-03-24T14:00:00.228Z\", \"2020-03-24T15:00:00.223Z\", \"2020-03-24T16:00:00.180Z\", \"2020-03-24T17:00:00.204Z\", \"2020-03-24T18:00:00.207Z\", \"2020-03-24T19:00:00.195Z\", \"2020-03-24T20:00:00.195Z\", \"2020-03-24T21:00:00.225Z\", \"2020-03-24T22:00:00.228Z\", \"2020-03-24T23:00:00.194Z\", \"2020-03-25T00:00:00.196Z\", \"2020-03-25T01:00:00.156Z\", \"2020-03-25T02:00:00.242Z\", \"2020-03-25T03:00:00.160Z\", \"2020-03-25T04:00:00.238Z\", \"2020-03-25T05:00:00.189Z\", \"2020-03-25T06:00:00.200Z\", \"2020-03-25T07:00:00.170Z\", \"2020-03-25T08:00:00.212Z\", \"2020-03-25T09:00:00.232Z\", \"2020-03-25T10:00:00.218Z\", \"2020-03-25T11:00:00.273Z\", \"2020-03-25T12:00:00.220Z\", \"2020-03-25T13:00:00.164Z\", \"2020-03-25T14:00:00.245Z\", \"2020-03-25T15:00:00.222Z\", \"2020-03-25T16:00:00.201Z\", \"2020-03-25T17:00:00.205Z\", \"2020-03-25T18:00:00.228Z\", \"2020-03-25T19:00:00.188Z\", \"2020-03-25T20:00:00.192Z\", \"2020-03-25T21:00:00.194Z\", \"2020-03-25T22:00:00.242Z\", \"2020-03-25T23:00:00.162Z\", \"2020-03-26T00:00:00.190Z\", \"2020-03-26T01:00:00.220Z\", \"2020-03-26T02:00:00.198Z\", \"2020-03-26T03:00:00.216Z\", \"2020-03-26T04:00:00.161Z\", \"2020-03-26T05:00:00.183Z\", \"2020-03-26T06:00:00.223Z\", \"2020-03-26T07:00:00.220Z\", \"2020-03-26T08:00:00.230Z\", \"2020-03-26T09:00:00.210Z\", \"2020-03-26T10:00:00.222Z\", \"2020-03-26T11:00:00.437Z\", \"2020-03-26T12:00:00.221Z\", \"2020-03-26T13:00:00.374Z\", \"2020-03-26T14:00:00.333Z\", \"2020-03-26T15:00:00.188Z\", \"2020-03-26T16:00:00.314Z\", \"2020-03-26T17:00:00.260Z\", \"2020-03-26T18:00:00.506Z\", \"2020-03-26T19:00:01.083Z\", \"2020-03-26T20:00:01.124Z\", \"2020-03-26T21:00:00.185Z\", \"2020-03-26T22:00:00.170Z\", \"2020-03-26T23:00:00.995Z\", \"2020-03-27T00:00:00.195Z\", \"2020-03-27T01:00:00.216Z\", \"2020-03-27T02:00:00.218Z\", \"2020-03-27T03:00:00.192Z\", \"2020-03-27T04:00:00.209Z\", \"2020-03-27T05:00:00.182Z\", \"2020-03-27T06:00:00.188Z\", \"2020-03-27T07:00:00.218Z\", \"2020-03-27T08:00:00.204Z\", \"2020-03-27T09:00:00.220Z\", \"2020-03-27T10:00:00.200Z\", \"2020-03-27T11:00:00.163Z\", \"2020-03-27T12:00:00.246Z\", \"2020-03-27T13:00:00.205Z\", \"2020-03-27T14:00:00.256Z\", \"2020-03-27T15:00:00.173Z\", \"2020-03-27T16:00:00.168Z\", \"2020-03-27T17:00:00.223Z\", \"2020-03-27T18:00:00.236Z\", \"2020-03-27T19:00:00.194Z\", \"2020-03-27T21:00:00.202Z\", \"2020-03-27T22:00:00.191Z\", \"2020-03-27T23:00:00.159Z\", \"2020-03-28T01:00:00.213Z\", \"2020-03-28T02:00:00.191Z\", \"2020-03-28T03:00:00.225Z\", \"2020-03-28T04:00:00.185Z\", \"2020-03-28T05:00:00.200Z\", \"2020-03-28T06:00:00.211Z\", \"2020-03-28T07:00:00.169Z\", \"2020-03-28T08:00:00.299Z\", \"2020-03-28T09:00:00.204Z\", \"2020-03-28T10:00:00.214Z\", \"2020-03-28T11:00:00.224Z\", \"2020-03-28T12:00:00.174Z\", \"2020-03-28T13:00:00.241Z\", \"2020-03-28T14:00:00.191Z\", \"2020-03-28T15:00:00.156Z\", \"2020-03-28T16:00:00.197Z\", \"2020-03-28T17:00:00.219Z\", \"2020-03-28T18:00:00.163Z\", \"2020-03-28T19:00:00.196Z\", \"2020-03-28T20:00:00.230Z\", \"2020-03-28T21:00:00.235Z\", \"2020-03-28T22:00:00.193Z\", \"2020-03-28T23:00:00.268Z\", \"2020-03-29T00:00:00.161Z\", \"2020-03-29T01:00:00.168Z\", \"2020-03-29T02:00:00.246Z\", \"2020-03-29T03:00:00.185Z\", \"2020-03-29T04:00:00.185Z\", \"2020-03-29T05:00:00.152Z\", \"2020-03-29T06:00:00.228Z\", \"2020-03-29T07:00:00.225Z\", \"2020-03-29T08:00:00.239Z\", \"2020-03-29T09:00:00.221Z\", \"2020-03-29T10:00:00.238Z\", \"2020-03-29T11:00:00.207Z\", \"2020-03-29T12:00:00.163Z\", \"2020-03-29T13:00:00.186Z\", \"2020-03-29T14:00:00.169Z\", \"2020-03-29T15:00:00.184Z\", \"2020-03-29T16:00:00.175Z\", \"2020-03-29T17:00:00.218Z\", \"2020-03-29T18:00:00.177Z\", \"2020-03-29T19:00:00.225Z\", \"2020-03-29T20:00:00.161Z\", \"2020-03-29T21:00:00.186Z\", \"2020-03-29T22:00:00.218Z\", \"2020-03-29T23:00:00.168Z\", \"2020-03-30T00:00:00.188Z\", \"2020-03-30T01:00:00.159Z\", \"2020-03-30T02:00:00.190Z\", \"2020-03-30T03:00:00.179Z\", \"2020-03-30T04:00:00.226Z\", \"2020-03-30T05:00:00.232Z\", \"2020-03-30T06:00:00.188Z\", \"2020-03-30T07:00:00.253Z\", \"2020-03-30T08:00:00.231Z\", \"2020-03-30T09:00:00.194Z\", \"2020-03-30T10:00:00.222Z\", \"2020-03-30T11:00:00.183Z\", \"2020-03-30T12:00:00.225Z\", \"2020-03-30T13:00:00.236Z\", \"2020-03-30T14:00:00.235Z\", \"2020-03-30T15:00:00.231Z\", \"2020-03-30T16:00:00.186Z\", \"2020-03-30T17:00:00.191Z\", \"2020-03-30T18:00:00.193Z\", \"2020-03-30T19:00:00.196Z\", \"2020-03-30T20:00:00.199Z\", \"2020-03-30T21:00:00.226Z\", \"2020-03-30T22:00:00.200Z\", \"2020-03-30T23:00:00.222Z\", \"2020-03-31T00:00:00.174Z\", \"2020-03-31T01:00:00.247Z\", \"2020-03-31T02:00:00.214Z\", \"2020-03-31T03:00:00.161Z\", \"2020-03-31T04:00:00.164Z\", \"2020-03-31T05:00:00.141Z\", \"2020-03-31T06:00:00.194Z\", \"2020-03-31T07:00:00.200Z\", \"2020-03-31T08:00:00.158Z\", \"2020-03-31T09:00:00.195Z\", \"2020-03-31T10:00:00.225Z\", \"2020-03-31T11:00:00.192Z\", \"2020-03-31T12:00:00.232Z\", \"2020-03-31T13:00:00.222Z\", \"2020-03-31T14:00:00.160Z\", \"2020-03-31T15:00:00.218Z\", \"2020-03-31T16:00:00.201Z\", \"2020-03-31T17:00:00.198Z\", \"2020-03-31T18:00:00.191Z\", \"2020-03-31T19:00:00.184Z\", \"2020-03-31T20:00:00.192Z\", \"2020-03-31T21:00:00.194Z\", \"2020-03-31T22:00:00.214Z\", \"2020-03-31T23:00:00.182Z\", \"2020-04-01T00:00:00.195Z\", \"2020-04-01T01:00:00.169Z\", \"2020-04-01T02:00:00.229Z\", \"2020-04-01T03:00:00.293Z\", \"2020-04-01T04:00:00.207Z\", \"2020-04-01T05:00:00.193Z\", \"2020-04-01T06:00:00.238Z\", \"2020-04-01T07:00:00.168Z\", \"2020-04-01T08:00:00.229Z\", \"2020-04-01T09:00:00.180Z\", \"2020-04-01T10:00:00.218Z\", \"2020-04-01T11:00:00.205Z\", \"2020-04-01T12:00:00.241Z\", \"2020-04-01T13:00:00.160Z\", \"2020-04-01T14:00:00.203Z\", \"2020-04-01T15:00:00.213Z\", \"2020-04-01T16:00:00.193Z\", \"2020-04-01T17:00:00.260Z\", \"2020-04-01T18:00:00.201Z\", \"2020-04-01T19:00:00.271Z\", \"2020-04-01T20:00:00.209Z\", \"2020-04-01T21:00:00.225Z\", \"2020-04-01T22:00:00.168Z\", \"2020-04-01T23:00:00.206Z\", \"2020-04-02T00:00:00.182Z\", \"2020-04-02T01:00:00.198Z\", \"2020-04-02T02:00:00.212Z\", \"2020-04-02T03:00:00.220Z\", \"2020-04-02T05:00:00.195Z\", \"2020-04-02T06:00:00.241Z\", \"2020-04-02T07:00:00.229Z\", \"2020-04-02T08:00:00.193Z\", \"2020-04-02T09:00:00.199Z\", \"2020-04-02T10:00:00.230Z\", \"2020-04-02T11:00:00.212Z\", \"2020-04-02T12:00:00.187Z\", \"2020-04-02T13:00:00.259Z\", \"2020-04-02T14:00:00.289Z\", \"2020-04-02T15:00:00.212Z\", \"2020-04-02T16:00:00.157Z\", \"2020-04-02T17:00:00.191Z\", \"2020-04-02T18:00:00.201Z\", \"2020-04-02T19:00:00.210Z\", \"2020-04-02T20:00:00.193Z\", \"2020-04-02T21:00:00.223Z\", \"2020-04-02T22:00:00.197Z\", \"2020-04-02T23:00:00.227Z\", \"2020-04-03T00:00:00.201Z\", \"2020-04-03T01:00:00.159Z\", \"2020-04-03T02:00:00.180Z\", \"2020-04-03T03:00:00.233Z\", \"2020-04-03T04:00:00.210Z\", \"2020-04-03T05:00:00.168Z\", \"2020-04-03T06:00:00.193Z\", \"2020-04-03T07:00:00.261Z\", \"2020-04-03T08:00:00.194Z\", \"2020-04-03T09:00:00.278Z\", \"2020-04-03T10:00:00.232Z\", \"2020-04-03T11:00:00.181Z\", \"2020-04-03T12:00:00.200Z\", \"2020-04-03T13:00:00.170Z\", \"2020-04-03T14:00:00.184Z\", \"2020-04-03T15:00:00.219Z\", \"2020-04-03T16:00:00.164Z\", \"2020-04-03T17:00:00.180Z\", \"2020-04-03T18:00:00.184Z\", \"2020-04-03T19:00:00.196Z\", \"2020-04-03T20:00:00.184Z\", \"2020-04-03T21:00:00.211Z\", \"2020-04-03T22:00:00.194Z\", \"2020-04-03T23:00:00.148Z\", \"2020-04-04T00:00:00.159Z\", \"2020-04-04T01:00:00.181Z\", \"2020-04-04T02:00:00.157Z\", \"2020-04-04T03:00:00.217Z\", \"2020-04-04T04:00:00.192Z\", \"2020-04-04T05:00:00.173Z\", \"2020-04-04T06:00:00.230Z\", \"2020-04-04T07:00:00.159Z\", \"2020-04-04T08:00:00.237Z\", \"2020-04-04T09:00:00.162Z\", \"2020-04-04T10:00:00.188Z\", \"2020-04-04T11:00:00.185Z\", \"2020-04-04T12:00:00.192Z\", \"2020-04-04T13:00:00.162Z\", \"2020-04-04T14:00:00.171Z\", \"2020-04-04T15:00:00.216Z\", \"2020-04-04T17:00:00.185Z\", \"2020-04-04T18:00:00.199Z\", \"2020-04-04T19:00:00.217Z\", \"2020-04-04T20:00:00.225Z\", \"2020-04-04T21:00:00.255Z\", \"2020-04-04T22:00:00.199Z\", \"2020-04-04T23:00:00.282Z\", \"2020-04-05T00:00:00.238Z\", \"2020-04-05T01:00:00.225Z\", \"2020-04-05T02:00:00.235Z\", \"2020-04-05T03:00:00.253Z\", \"2020-04-05T04:00:00.216Z\", \"2020-04-05T05:00:00.205Z\", \"2020-04-05T06:00:00.228Z\", \"2020-04-05T07:00:00.192Z\", \"2020-04-05T08:00:00.185Z\", \"2020-04-05T09:00:00.265Z\", \"2020-04-05T10:00:00.194Z\", \"2020-04-05T11:00:00.217Z\", \"2020-04-05T12:00:00.222Z\", \"2020-04-05T13:00:00.237Z\", \"2020-04-05T14:00:00.188Z\", \"2020-04-05T15:00:00.267Z\", \"2020-04-05T16:00:00.225Z\", \"2020-04-05T17:00:00.184Z\", \"2020-04-05T18:00:00.263Z\", \"2020-04-05T19:00:00.209Z\", \"2020-04-05T20:00:00.205Z\", \"2020-04-05T21:00:00.182Z\", \"2020-04-05T22:00:00.224Z\", \"2020-04-05T23:00:00.242Z\", \"2020-04-06T00:00:00.264Z\", \"2020-04-06T01:00:00.248Z\", \"2020-04-06T02:00:00.174Z\", \"2020-04-06T03:00:00.224Z\", \"2020-04-06T04:00:00.232Z\", \"2020-04-06T05:00:00.211Z\", \"2020-04-06T06:00:00.185Z\", \"2020-04-06T07:00:00.195Z\", \"2020-04-06T08:00:00.215Z\", \"2020-04-06T09:00:00.185Z\", \"2020-04-06T10:00:00.208Z\", \"2020-04-06T11:00:00.200Z\", \"2020-04-06T12:00:00.177Z\", \"2020-04-06T13:00:00.254Z\", \"2020-04-06T14:00:00.186Z\", \"2020-04-06T15:00:00.244Z\", \"2020-04-06T16:00:00.242Z\", \"2020-04-06T17:00:00.214Z\", \"2020-04-06T18:00:00.238Z\", \"2020-04-06T19:00:00.234Z\", \"2020-04-06T20:00:00.193Z\", \"2020-04-06T21:00:00.255Z\", \"2020-04-06T22:00:00.261Z\", \"2020-04-06T23:00:00.179Z\", \"2020-04-07T00:00:00.256Z\", \"2020-04-07T01:00:00.223Z\", \"2020-04-07T02:00:00.207Z\", \"2020-04-07T03:00:00.186Z\", \"2020-04-07T04:00:00.182Z\", \"2020-04-07T05:00:00.186Z\", \"2020-04-07T06:00:00.160Z\", \"2020-04-07T07:00:00.183Z\", \"2020-04-07T08:00:00.216Z\", \"2020-04-07T09:00:00.206Z\", \"2020-04-07T10:00:00.254Z\", \"2020-04-07T11:00:00.190Z\", \"2020-04-07T12:00:00.271Z\", \"2020-04-07T13:00:00.170Z\", \"2020-04-07T14:00:00.457Z\", \"2020-04-07T15:00:00.225Z\", \"2020-04-07T16:00:00.212Z\", \"2020-04-07T17:00:00.212Z\", \"2020-04-07T18:00:00.170Z\", \"2020-04-07T19:00:00.272Z\", \"2020-04-07T20:00:00.213Z\", \"2020-04-07T21:00:00.229Z\", \"2020-04-07T22:00:00.235Z\", \"2020-04-07T23:00:00.261Z\", \"2020-04-08T00:00:00.336Z\", \"2020-04-08T01:00:00.252Z\", \"2020-04-08T02:00:00.184Z\", \"2020-04-08T03:00:00.207Z\", \"2020-04-08T04:00:00.266Z\", \"2020-04-08T05:00:00.218Z\", \"2020-04-08T06:00:00.257Z\", \"2020-04-08T07:00:00.197Z\", \"2020-04-08T08:00:00.244Z\", \"2020-04-08T09:00:00.191Z\", \"2020-04-08T10:00:00.225Z\", \"2020-04-08T11:00:00.237Z\", \"2020-04-08T12:00:00.194Z\", \"2020-04-08T13:00:00.304Z\", \"2020-04-08T14:00:00.209Z\", \"2020-04-08T15:00:00.284Z\", \"2020-04-08T16:00:00.210Z\", \"2020-04-08T17:00:00.202Z\", \"2020-04-08T18:00:00.356Z\", \"2020-04-08T19:00:00.260Z\", \"2020-04-08T20:00:00.212Z\", \"2020-04-08T21:00:00.181Z\", \"2020-04-08T22:00:00.244Z\", \"2020-04-08T23:00:00.261Z\", \"2020-04-09T00:00:00.188Z\", \"2020-04-09T01:00:00.206Z\", \"2020-04-09T02:00:00.208Z\", \"2020-04-09T03:00:00.217Z\", \"2020-04-09T04:00:00.196Z\", \"2020-04-09T05:00:00.235Z\", \"2020-04-09T06:00:00.213Z\", \"2020-04-09T07:00:00.236Z\", \"2020-04-09T08:00:00.226Z\", \"2020-04-09T09:00:00.169Z\", \"2020-04-09T10:00:00.223Z\", \"2020-04-09T11:00:00.251Z\", \"2020-04-09T12:00:00.217Z\", \"2020-04-09T13:00:00.235Z\", \"2020-04-09T14:00:00.258Z\", \"2020-04-09T15:00:00.233Z\", \"2020-04-09T16:00:00.189Z\", \"2020-04-09T17:00:00.220Z\", \"2020-04-09T18:00:00.233Z\", \"2020-04-09T19:00:00.222Z\", \"2020-04-09T20:00:00.280Z\", \"2020-04-09T21:00:00.285Z\", \"2020-04-09T22:00:00.225Z\", \"2020-04-09T23:00:00.181Z\", \"2020-04-10T00:00:00.213Z\", \"2020-04-10T01:00:00.222Z\", \"2020-04-10T02:00:00.253Z\", \"2020-04-10T03:00:00.163Z\", \"2020-04-10T04:00:00.193Z\", \"2020-04-10T05:00:00.208Z\", \"2020-04-10T06:00:00.206Z\", \"2020-04-10T07:00:00.200Z\", \"2020-04-10T08:00:00.251Z\", \"2020-04-10T09:00:00.227Z\", \"2020-04-10T10:00:00.231Z\", \"2020-04-10T11:00:00.181Z\", \"2020-04-10T12:00:00.271Z\", \"2020-04-10T13:00:00.218Z\", \"2020-04-10T14:00:00.185Z\", \"2020-04-10T15:00:00.223Z\", \"2020-04-10T16:00:00.189Z\", \"2020-04-10T17:00:00.211Z\", \"2020-04-10T18:00:00.236Z\", \"2020-04-10T19:00:00.213Z\", \"2020-04-10T20:00:00.190Z\", \"2020-04-10T21:00:00.182Z\", \"2020-04-10T22:00:00.212Z\", \"2020-04-10T23:00:00.185Z\", \"2020-04-11T00:00:00.202Z\", \"2020-04-11T01:00:00.229Z\", \"2020-04-11T02:00:00.265Z\", \"2020-04-11T03:00:00.193Z\", \"2020-04-11T04:00:00.199Z\", \"2020-04-11T05:00:00.176Z\", \"2020-04-11T06:00:00.230Z\", \"2020-04-11T07:00:00.226Z\", \"2020-04-11T08:00:00.196Z\", \"2020-04-11T09:00:00.281Z\", \"2020-04-11T10:00:00.226Z\", \"2020-04-11T11:00:00.259Z\", \"2020-04-11T12:00:00.277Z\", \"2020-04-11T13:00:00.253Z\", \"2020-04-11T14:00:00.189Z\", \"2020-04-11T15:00:00.222Z\", \"2020-04-11T16:00:00.193Z\", \"2020-04-11T17:00:00.213Z\", \"2020-04-11T18:00:00.264Z\", \"2020-04-11T19:00:00.178Z\", \"2020-04-11T20:00:00.235Z\", \"2020-04-11T21:00:00.257Z\", \"2020-04-11T22:00:00.247Z\", \"2020-04-11T23:00:00.217Z\", \"2020-04-12T00:00:00.224Z\", \"2020-04-12T01:00:00.262Z\", \"2020-04-12T02:00:00.185Z\", \"2020-04-12T03:00:00.219Z\", \"2020-04-12T04:00:00.192Z\", \"2020-04-12T05:00:00.173Z\", \"2020-04-12T06:00:00.256Z\", \"2020-04-12T07:00:00.237Z\", \"2020-04-12T08:00:00.177Z\", \"2020-04-12T09:00:00.225Z\", \"2020-04-12T10:00:00.258Z\", \"2020-04-12T11:00:00.252Z\", \"2020-04-12T12:00:00.187Z\", \"2020-04-12T13:00:00.211Z\", \"2020-04-12T14:00:00.230Z\", \"2020-04-12T15:00:00.182Z\", \"2020-04-12T16:00:00.273Z\", \"2020-04-12T17:00:00.246Z\", \"2020-04-12T18:00:00.193Z\", \"2020-04-12T19:00:00.187Z\", \"2020-04-12T20:00:00.207Z\", \"2020-04-12T21:00:00.213Z\", \"2020-04-12T22:00:00.205Z\", \"2020-04-12T23:00:00.251Z\", \"2020-04-13T00:00:00.241Z\", \"2020-04-13T01:00:00.214Z\", \"2020-04-13T02:00:00.244Z\", \"2020-04-13T03:00:00.244Z\", \"2020-04-13T04:00:00.245Z\", \"2020-04-13T05:00:00.228Z\", \"2020-04-13T06:00:00.261Z\", \"2020-04-13T07:00:00.231Z\", \"2020-04-13T08:00:00.250Z\", \"2020-04-13T09:00:00.223Z\", \"2020-04-13T10:00:00.226Z\", \"2020-04-13T11:00:00.202Z\", \"2020-04-13T12:00:00.180Z\", \"2020-04-13T13:00:00.170Z\", \"2020-04-13T14:00:00.209Z\", \"2020-04-13T15:00:00.230Z\", \"2020-04-13T16:00:00.212Z\", \"2020-04-13T17:00:00.233Z\", \"2020-04-13T18:00:00.261Z\", \"2020-04-13T19:00:00.275Z\", \"2020-04-13T20:00:00.177Z\", \"2020-04-13T21:00:00.223Z\", \"2020-04-13T22:00:00.224Z\", \"2020-04-13T23:00:00.242Z\", \"2020-04-14T00:00:00.214Z\", \"2020-04-14T01:00:00.220Z\", \"2020-04-14T02:00:00.242Z\", \"2020-04-14T03:00:00.257Z\", \"2020-04-14T04:00:00.207Z\", \"2020-04-14T05:00:00.209Z\", \"2020-04-14T06:00:00.215Z\", \"2020-04-14T07:00:00.227Z\", \"2020-04-14T08:00:00.215Z\", \"2020-04-14T09:00:00.254Z\", \"2020-04-14T10:00:00.226Z\", \"2020-04-14T11:00:00.177Z\", \"2020-04-14T12:00:00.381Z\", \"2020-04-14T13:00:00.180Z\", \"2020-04-14T14:00:00.244Z\", \"2020-04-14T15:00:00.227Z\", \"2020-04-14T16:00:00.295Z\", \"2020-04-14T17:00:00.224Z\", \"2020-04-14T18:00:00.223Z\", \"2020-04-14T19:00:00.220Z\", \"2020-04-14T20:00:00.218Z\", \"2020-04-14T21:00:00.233Z\", \"2020-04-14T22:00:00.219Z\", \"2020-04-14T23:00:00.245Z\", \"2020-04-15T00:00:00.254Z\", \"2020-04-15T01:00:00.189Z\", \"2020-04-15T02:00:00.206Z\", \"2020-04-15T03:00:00.179Z\", \"2020-04-15T04:00:00.227Z\", \"2020-04-15T05:00:00.261Z\", \"2020-04-15T06:00:00.188Z\", \"2020-04-15T07:00:00.229Z\", \"2020-04-15T08:00:00.204Z\", \"2020-04-15T09:00:00.190Z\", \"2020-04-15T10:00:00.212Z\", \"2020-04-15T11:00:00.238Z\", \"2020-04-15T12:00:00.249Z\", \"2020-04-15T13:00:00.239Z\", \"2020-04-15T14:00:00.212Z\", \"2020-04-15T15:00:00.258Z\", \"2020-04-15T16:00:00.219Z\", \"2020-04-15T17:00:00.184Z\", \"2020-04-15T18:00:00.197Z\", \"2020-04-15T19:00:00.303Z\", \"2020-04-15T20:00:00.243Z\", \"2020-04-15T21:00:00.221Z\", \"2020-04-15T22:00:00.246Z\", \"2020-04-15T23:00:00.246Z\", \"2020-04-16T00:00:00.185Z\", \"2020-04-16T01:00:00.265Z\", \"2020-04-16T02:00:00.175Z\", \"2020-04-16T03:00:00.201Z\", \"2020-04-16T04:00:00.216Z\", \"2020-04-16T05:00:00.225Z\", \"2020-04-16T06:00:00.237Z\", \"2020-04-16T07:00:00.263Z\", \"2020-04-16T08:00:00.240Z\", \"2020-04-16T09:00:00.214Z\", \"2020-04-16T10:00:00.193Z\", \"2020-04-16T11:00:00.213Z\", \"2020-04-16T12:00:00.229Z\", \"2020-04-16T13:00:00.229Z\", \"2020-04-16T14:00:00.265Z\", \"2020-04-16T15:00:00.264Z\", \"2020-04-16T16:00:00.237Z\", \"2020-04-16T17:00:00.201Z\", \"2020-04-16T18:00:00.226Z\", \"2020-04-16T19:00:00.217Z\", \"2020-04-16T20:00:00.257Z\", \"2020-04-16T21:00:00.180Z\", \"2020-04-16T22:00:00.178Z\", \"2020-04-16T23:00:00.222Z\", \"2020-04-17T00:00:00.247Z\", \"2020-04-17T01:00:00.210Z\", \"2020-04-17T02:00:00.211Z\", \"2020-04-17T03:00:00.261Z\", \"2020-04-17T04:00:00.265Z\", \"2020-04-17T05:00:00.222Z\", \"2020-04-17T06:00:00.224Z\", \"2020-04-17T07:00:00.285Z\", \"2020-04-17T08:00:00.235Z\", \"2020-04-17T09:00:00.230Z\", \"2020-04-17T10:00:00.257Z\", \"2020-04-17T11:00:00.261Z\", \"2020-04-17T12:00:00.309Z\", \"2020-04-17T13:00:00.191Z\", \"2020-04-17T14:00:00.225Z\", \"2020-04-17T15:00:00.263Z\", \"2020-04-17T16:00:00.221Z\", \"2020-04-17T17:00:00.283Z\", \"2020-04-17T18:00:00.224Z\", \"2020-04-17T19:00:00.256Z\", \"2020-04-17T20:00:00.265Z\", \"2020-04-17T21:00:00.253Z\", \"2020-04-17T22:00:00.218Z\", \"2020-04-17T23:00:00.251Z\", \"2020-04-18T00:00:00.230Z\", \"2020-04-18T01:00:00.219Z\", \"2020-04-18T02:00:00.173Z\", \"2020-04-18T03:00:00.190Z\", \"2020-04-18T04:00:00.172Z\", \"2020-04-18T05:00:00.214Z\", \"2020-04-18T06:00:00.190Z\", \"2020-04-18T07:00:00.255Z\", \"2020-04-18T08:00:00.201Z\", \"2020-04-18T09:00:00.229Z\", \"2020-04-18T10:00:00.223Z\", \"2020-04-18T11:00:00.195Z\", \"2020-04-18T12:00:00.227Z\", \"2020-04-18T13:00:00.218Z\", \"2020-04-18T14:00:00.228Z\", \"2020-04-18T15:00:00.281Z\", \"2020-04-18T16:00:00.225Z\", \"2020-04-18T17:00:00.226Z\", \"2020-04-18T18:00:00.224Z\", \"2020-04-18T19:00:00.161Z\", \"2020-04-18T20:00:00.187Z\", \"2020-04-18T21:00:00.226Z\", \"2020-04-18T22:00:00.239Z\", \"2020-04-18T23:00:00.225Z\", \"2020-04-19T00:00:00.158Z\", \"2020-04-19T01:00:00.215Z\", \"2020-04-19T02:00:00.237Z\", \"2020-04-19T03:00:00.182Z\", \"2020-04-19T04:00:00.206Z\", \"2020-04-19T05:00:00.226Z\", \"2020-04-19T06:00:00.177Z\", \"2020-04-19T07:00:00.263Z\", \"2020-04-19T08:00:00.213Z\", \"2020-04-19T09:00:00.186Z\", \"2020-04-19T10:00:00.193Z\", \"2020-04-19T11:00:00.217Z\", \"2020-04-19T12:00:00.176Z\", \"2020-04-19T13:00:00.240Z\", \"2020-04-19T14:00:00.267Z\", \"2020-04-19T15:00:00.187Z\", \"2020-04-19T16:00:00.177Z\", \"2020-04-19T17:00:00.248Z\", \"2020-04-19T18:00:00.269Z\", \"2020-04-19T19:00:00.216Z\", \"2020-04-19T20:00:00.189Z\", \"2020-04-19T21:00:00.272Z\", \"2020-04-19T22:00:00.274Z\", \"2020-04-19T23:00:00.222Z\", \"2020-04-20T00:00:00.251Z\", \"2020-04-20T01:00:00.244Z\", \"2020-04-20T02:00:00.181Z\", \"2020-04-20T03:00:00.238Z\", \"2020-04-20T04:00:00.213Z\", \"2020-04-20T05:00:00.205Z\", \"2020-04-20T06:00:00.223Z\", \"2020-04-20T07:00:00.182Z\", \"2020-04-20T08:00:00.211Z\", \"2020-04-20T09:00:00.231Z\", \"2020-04-20T10:00:00.234Z\", \"2020-04-20T11:00:00.214Z\", \"2020-04-20T12:00:00.354Z\", \"2020-04-20T13:00:00.238Z\", \"2020-04-20T14:00:00.187Z\", \"2020-04-20T15:00:00.222Z\", \"2020-04-20T16:00:00.263Z\", \"2020-04-20T17:00:00.191Z\", \"2020-04-20T18:00:00.225Z\", \"2020-04-20T19:00:00.257Z\", \"2020-04-20T20:00:00.269Z\", \"2020-04-20T21:00:00.179Z\", \"2020-04-20T22:00:00.167Z\", \"2020-04-20T23:00:00.186Z\", \"2020-04-21T00:00:00.227Z\", \"2020-04-21T01:00:00.239Z\", \"2020-04-21T02:00:00.224Z\", \"2020-04-21T03:00:00.237Z\", \"2020-04-21T04:00:00.276Z\", \"2020-04-21T05:00:00.212Z\", \"2020-04-21T06:00:00.215Z\", \"2020-04-21T07:00:00.237Z\", \"2020-04-21T08:00:00.299Z\", \"2020-04-21T09:00:00.262Z\", \"2020-04-21T10:00:00.234Z\", \"2020-04-21T11:00:00.219Z\", \"2020-04-21T12:00:00.199Z\", \"2020-04-21T13:00:00.260Z\", \"2020-04-21T14:00:00.265Z\", \"2020-04-21T15:00:00.208Z\", \"2020-04-21T16:00:00.278Z\", \"2020-04-21T17:00:00.208Z\", \"2020-04-21T18:00:00.190Z\", \"2020-04-21T19:00:00.264Z\", \"2020-04-21T20:00:00.222Z\", \"2020-04-21T21:00:00.215Z\", \"2020-04-21T22:00:00.219Z\", \"2020-04-21T23:00:00.206Z\", \"2020-04-22T00:00:00.207Z\", \"2020-04-22T01:00:00.220Z\", \"2020-04-22T02:00:00.203Z\", \"2020-04-22T03:00:00.213Z\", \"2020-04-22T04:00:00.201Z\", \"2020-04-22T05:00:00.248Z\", \"2020-04-22T06:00:00.189Z\", \"2020-04-22T07:00:00.223Z\", \"2020-04-22T08:00:00.223Z\", \"2020-04-22T09:00:00.223Z\", \"2020-04-22T10:00:00.245Z\"], \"y\": [62, 62, 85, 85, 85, 85, 85, 85, 85, 85, 85, 116, 116, 116, 116, 116, 116, 116, 116, 116, 116, 116, 116, 116, 116, 116, 116, 116, 116, 116, 116, 116, 116, 116, 116, 116, 116, 116, 150, 150, 150, 150, 150, 150, 150, 150, 150, 150, 150, 150, 150, 150, 150, 150, 150, 150, 150, 150, 150, 202, 202, 202, 202, 202, 202, 202, 202, 202, 202, 202, 202, 202, 202, 202, 202, 202, 202, 202, 202, 202, 202, 202, 202, 239, 239, 239, 238, 238, 238, 238, 238, 238, 238, 238, 238, 238, 238, 238, 238, 238, 238, 238, 238, 238, 238, 238, 238, 238, 238, 238, 238, 238, 238, 238, 238, 238, 272, 272, 272, 272, 272, 272, 272, 272, 272, 398, 398, 398, 398, 398, 398, 398, 398, 398, 398, 398, 398, 398, 550, 550, 550, 550, 550, 550, 550, 550, 550, 550, 550, 550, 550, 550, 550, 550, 550, 550, 550, 550, 550, 550, 705, 705, 705, 705, 705, 697, 697, 697, 697, 697, 697, 697, 697, 697, 697, 697, 697, 697, 697, 697, 697, 697, 697, 697, 697, 697, 697, 697, 697, 697, 697, 697, 697, 915, 915, 915, 915, 915, 915, 915, 915, 915, 915, 915, 915, 915, 915, 915, 915, 913, 913, 913, 913, 913, 913, 913, 913, 913, 1156, 1156, 1156, 1157, 1138, 1138, 1138, 1138, 1138, 1138, 1138, 1138, 1138, 1138, 1138, 1138, 1138, 1138, 1138, 1138, 1138, 1138, 1138, 1137, 1154, 1154, 1154, 1155, 1155, 1155, 1155, 1155, 1155, 1155, 1155, 1155, 1155, 1155, 1155, 1155, 1155, 1155, 1155, 1155, 1155, 1155, 1155, 1155, 1155, 1247, 1247, 1247, 1247, 1247, 1247, 1247, 1247, 1247, 1247, 1247, 1247, 1247, 1247, 1247, 1247, 1247, 1247, 1247, 1247, 1247, 1247, 1292, 1292, 1292, 1292, 1292, 1292, 1292, 1292, 1292, 1292, 1292, 1292, 1292, 1292, 1292, 1292, 1292, 1292, 1292, 1292, 1292, 1292, 1319, 1319, 1319, 1319, 1319, 1317, 1317, 1317, 1317, 1317, 1317, 1317, 1317, 1317, 1317, 1317, 1298, 1298, 1298, 1298, 1298, 1298, 1298, 1298, 1298, 1325, 1325, 1325, 1325, 1325, 1325, 1325, 1325, 1325, 1325, 1325, 1325, 1325, 1325, 1325, 1325, 1325, 1325, 1325, 1325, 1325, 1325, 1325, 1325, 1407, 1407, 1407, 1407, 1407, 1407, 1407, 1407, 1407, 1407, 1407, 1407, 1362, 1362, 1362, 1362, 1362, 1362, 1362, 1362, 1362, 1362, 1403, 1403, 1401, 1401, 1401, 1401, 1401, 1401, 1401, 1401, 1401, 1401, 1401, 1401, 1401, 1401, 1401, 1401, 1401, 1401, 1401, 1401, 1401, 1401, 1401, 1401, 1401, 1481, 1481, 1481, 1481, 1481, 1481, 1481, 1481, 1481, 1481, 1481, 1481, 1481, 1481, 1481, 1481, 1481, 1481, 1481, 1481, 1481, 1481, 1481, 1481, 1549, 1549, 1549, 1549, 1549, 1549, 1549, 1549, 1549, 1549, 1549, 1549, 1549, 1549, 1549, 1549, 1549, 1549, 1549, 1549, 1549, 1549, 1549, 1549, 1579, 1579, 1579, 1579, 1579, 1579, 1579, 1579, 1579, 1579, 1579, 1579, 1579, 1579, 1579, 1579, 1579, 1579, 1641, 1641, 1641, 1641, 1641, 1641, 1641, 1641, 1641, 1641, 1641, 1641, 1641, 1641, 1641, 1641, 1641, 1641, 1641, 1641, 1641, 1641, 1641, 1641, 1641, 1641, 1641, 1641, 1641, 1732, 1732, 1732, 1732, 1732, 1732, 1732, 1732, 1732, 1732, 1732, 1732, 1732, 1732, 1732, 1732, 1732, 1732, 1732, 1732, 1732, 1732, 1732, 1732, 1821, 1821, 1821, 1821, 1821, 1821, 1821, 1821, 1821, 1821, 1821, 1821, 1821, 1821, 1821, 1821, 1821, 1821, 1569, 1569, 1569, 1569, 1569, 1569, 1569, 1569, 1569, 1569, 1569, 1569, 1569, 1569, 1569, 1569, 1569, 1569, 1569, 1569, 1569, 1569, 1569, 1569, 1569, 1569, 1569, 1569, 1569, 1593, 1593, 1593, 1593, 1593, 1593, 1593, 1593, 1593, 1593, 1593, 1593, 1593, 1593, 1593, 1593, 1593, 1593, 1593, 1593, 1593, 1593, 1593, 1593, 1738, 1738, 1738, 1738, 1738, 1738, 1738, 1738, 1738, 1738, 1738, 1738, 1738, 1738, 1738, 1738, 1738, 1738, 1738, 1738, 1738, 1738, 1738, 1738, 1835, 1835, 1835, 1835, 1835, 1835, 1835, 1835, 1835, 1835, 1835, 1835, 1835, 1835, 1835, 1835, 1835, 1835, 1835, 1835, 1978, 1978, 1978, 1978, 1978, 1978, 1978, 1978, 1978, 1978, 1978, 1978, 1978, 1978, 1978, 1978, 1978, 1978, 1978, 1978, 1978, 1978, 1978, 1978, 1978, 1978, 1978, 2062, 2062, 2062, 2062, 2062, 2062, 2062, 2062, 2062, 2062, 2062, 2062, 2062, 2062, 2062, 2062, 2062, 2062, 2062, 2062, 2062, 2062, 2062, 2062, 2062, 2062, 1654, 1654, 1654, 1654, 1654, 1654, 1654, 1654, 1654, 1654, 1654, 1654, 1654, 1654, 1654, 1654, 1654, 1654, 1654, 1654, 1654, 1654, 1654, 1654, 1830, 1830, 1830, 1830, 1830, 1830, 1830, 1830, 1830, 1830, 1830, 1830, 1830, 1830, 1830, 1830, 1830, 1830, 1830, 1830, 1830, 1830, 1830, 1830, 2081, 2081, 2079, 2079, 2079, 2079, 2079, 2079, 2079, 2079, 2079, 2079, 2079, 2079, 2079, 2079, 2079, 2079, 2079, 2079, 2079, 2079, 2079, 2201, 2201, 2201, 2201, 2201, 2201, 2201, 2201, 2201, 2201, 2201, 2201, 2201, 2201, 2201, 2201, 2201, 2201, 2201, 2201, 2201, 2201, 2201, 2201, 2201, 2201, 2187, 2187, 2187, 2187, 2187, 2187, 2187, 2187, 2187, 2187, 2187, 2187, 2187, 2187, 2187, 2187, 2187, 2187, 2187, 2187, 2187, 2352, 2352, 2352, 2352, 2352, 2352, 2352, 2352, 2352, 2352, 2352, 2352, 2352, 2352, 2352, 2352, 2352, 2352]}],\n",
       "                        {\"template\": {\"data\": {\"bar\": [{\"error_x\": {\"color\": \"#2a3f5f\"}, \"error_y\": {\"color\": \"#2a3f5f\"}, \"marker\": {\"line\": {\"color\": \"#E5ECF6\", \"width\": 0.5}}, \"type\": \"bar\"}], \"barpolar\": [{\"marker\": {\"line\": {\"color\": \"#E5ECF6\", \"width\": 0.5}}, \"type\": \"barpolar\"}], \"carpet\": [{\"aaxis\": {\"endlinecolor\": \"#2a3f5f\", \"gridcolor\": \"white\", \"linecolor\": \"white\", \"minorgridcolor\": \"white\", \"startlinecolor\": \"#2a3f5f\"}, \"baxis\": {\"endlinecolor\": \"#2a3f5f\", \"gridcolor\": \"white\", \"linecolor\": \"white\", \"minorgridcolor\": \"white\", \"startlinecolor\": \"#2a3f5f\"}, \"type\": \"carpet\"}], \"choropleth\": [{\"colorbar\": {\"outlinewidth\": 0, \"ticks\": \"\"}, \"type\": \"choropleth\"}], \"contour\": [{\"colorbar\": {\"outlinewidth\": 0, \"ticks\": \"\"}, \"colorscale\": [[0.0, \"#0d0887\"], [0.1111111111111111, \"#46039f\"], [0.2222222222222222, \"#7201a8\"], [0.3333333333333333, \"#9c179e\"], [0.4444444444444444, \"#bd3786\"], [0.5555555555555556, \"#d8576b\"], [0.6666666666666666, \"#ed7953\"], [0.7777777777777778, \"#fb9f3a\"], [0.8888888888888888, \"#fdca26\"], [1.0, \"#f0f921\"]], \"type\": \"contour\"}], \"contourcarpet\": [{\"colorbar\": {\"outlinewidth\": 0, \"ticks\": \"\"}, \"type\": \"contourcarpet\"}], \"heatmap\": [{\"colorbar\": {\"outlinewidth\": 0, \"ticks\": \"\"}, \"colorscale\": [[0.0, \"#0d0887\"], [0.1111111111111111, \"#46039f\"], [0.2222222222222222, \"#7201a8\"], [0.3333333333333333, \"#9c179e\"], [0.4444444444444444, \"#bd3786\"], [0.5555555555555556, \"#d8576b\"], [0.6666666666666666, \"#ed7953\"], [0.7777777777777778, \"#fb9f3a\"], [0.8888888888888888, \"#fdca26\"], [1.0, \"#f0f921\"]], \"type\": \"heatmap\"}], \"heatmapgl\": [{\"colorbar\": {\"outlinewidth\": 0, \"ticks\": \"\"}, \"colorscale\": [[0.0, \"#0d0887\"], [0.1111111111111111, \"#46039f\"], [0.2222222222222222, \"#7201a8\"], [0.3333333333333333, \"#9c179e\"], [0.4444444444444444, \"#bd3786\"], [0.5555555555555556, \"#d8576b\"], [0.6666666666666666, \"#ed7953\"], [0.7777777777777778, \"#fb9f3a\"], [0.8888888888888888, \"#fdca26\"], [1.0, \"#f0f921\"]], \"type\": \"heatmapgl\"}], \"histogram\": [{\"marker\": {\"colorbar\": {\"outlinewidth\": 0, \"ticks\": \"\"}}, \"type\": \"histogram\"}], \"histogram2d\": [{\"colorbar\": {\"outlinewidth\": 0, \"ticks\": \"\"}, \"colorscale\": [[0.0, \"#0d0887\"], [0.1111111111111111, \"#46039f\"], [0.2222222222222222, \"#7201a8\"], [0.3333333333333333, \"#9c179e\"], [0.4444444444444444, \"#bd3786\"], [0.5555555555555556, \"#d8576b\"], [0.6666666666666666, \"#ed7953\"], [0.7777777777777778, \"#fb9f3a\"], [0.8888888888888888, \"#fdca26\"], [1.0, \"#f0f921\"]], \"type\": \"histogram2d\"}], \"histogram2dcontour\": [{\"colorbar\": {\"outlinewidth\": 0, \"ticks\": \"\"}, \"colorscale\": [[0.0, \"#0d0887\"], [0.1111111111111111, \"#46039f\"], [0.2222222222222222, \"#7201a8\"], [0.3333333333333333, \"#9c179e\"], [0.4444444444444444, \"#bd3786\"], [0.5555555555555556, \"#d8576b\"], [0.6666666666666666, \"#ed7953\"], [0.7777777777777778, \"#fb9f3a\"], [0.8888888888888888, \"#fdca26\"], [1.0, \"#f0f921\"]], \"type\": \"histogram2dcontour\"}], \"mesh3d\": [{\"colorbar\": {\"outlinewidth\": 0, \"ticks\": \"\"}, \"type\": \"mesh3d\"}], \"parcoords\": [{\"line\": {\"colorbar\": {\"outlinewidth\": 0, \"ticks\": \"\"}}, \"type\": \"parcoords\"}], \"pie\": [{\"automargin\": true, \"type\": \"pie\"}], \"scatter\": [{\"marker\": {\"colorbar\": {\"outlinewidth\": 0, \"ticks\": \"\"}}, \"type\": \"scatter\"}], \"scatter3d\": [{\"line\": {\"colorbar\": {\"outlinewidth\": 0, \"ticks\": \"\"}}, \"marker\": {\"colorbar\": {\"outlinewidth\": 0, \"ticks\": \"\"}}, \"type\": \"scatter3d\"}], \"scattercarpet\": [{\"marker\": {\"colorbar\": {\"outlinewidth\": 0, \"ticks\": \"\"}}, \"type\": \"scattercarpet\"}], \"scattergeo\": [{\"marker\": {\"colorbar\": {\"outlinewidth\": 0, \"ticks\": \"\"}}, \"type\": \"scattergeo\"}], \"scattergl\": [{\"marker\": {\"colorbar\": {\"outlinewidth\": 0, \"ticks\": \"\"}}, \"type\": \"scattergl\"}], \"scattermapbox\": [{\"marker\": {\"colorbar\": {\"outlinewidth\": 0, \"ticks\": \"\"}}, \"type\": \"scattermapbox\"}], \"scatterpolar\": [{\"marker\": {\"colorbar\": {\"outlinewidth\": 0, \"ticks\": \"\"}}, \"type\": \"scatterpolar\"}], \"scatterpolargl\": [{\"marker\": {\"colorbar\": {\"outlinewidth\": 0, \"ticks\": \"\"}}, \"type\": \"scatterpolargl\"}], \"scatterternary\": [{\"marker\": {\"colorbar\": {\"outlinewidth\": 0, \"ticks\": \"\"}}, \"type\": \"scatterternary\"}], \"surface\": [{\"colorbar\": {\"outlinewidth\": 0, \"ticks\": \"\"}, \"colorscale\": [[0.0, \"#0d0887\"], [0.1111111111111111, \"#46039f\"], [0.2222222222222222, \"#7201a8\"], [0.3333333333333333, \"#9c179e\"], [0.4444444444444444, \"#bd3786\"], [0.5555555555555556, \"#d8576b\"], [0.6666666666666666, \"#ed7953\"], [0.7777777777777778, \"#fb9f3a\"], [0.8888888888888888, \"#fdca26\"], [1.0, \"#f0f921\"]], \"type\": \"surface\"}], \"table\": [{\"cells\": {\"fill\": {\"color\": \"#EBF0F8\"}, \"line\": {\"color\": \"white\"}}, \"header\": {\"fill\": {\"color\": \"#C8D4E3\"}, \"line\": {\"color\": \"white\"}}, \"type\": \"table\"}]}, \"layout\": {\"annotationdefaults\": {\"arrowcolor\": \"#2a3f5f\", \"arrowhead\": 0, \"arrowwidth\": 1}, \"coloraxis\": {\"colorbar\": {\"outlinewidth\": 0, \"ticks\": \"\"}}, \"colorscale\": {\"diverging\": [[0, \"#8e0152\"], [0.1, \"#c51b7d\"], [0.2, \"#de77ae\"], [0.3, \"#f1b6da\"], [0.4, \"#fde0ef\"], [0.5, \"#f7f7f7\"], [0.6, \"#e6f5d0\"], [0.7, \"#b8e186\"], [0.8, \"#7fbc41\"], [0.9, \"#4d9221\"], [1, \"#276419\"]], \"sequential\": [[0.0, \"#0d0887\"], [0.1111111111111111, \"#46039f\"], [0.2222222222222222, \"#7201a8\"], [0.3333333333333333, \"#9c179e\"], [0.4444444444444444, \"#bd3786\"], [0.5555555555555556, \"#d8576b\"], [0.6666666666666666, \"#ed7953\"], [0.7777777777777778, \"#fb9f3a\"], [0.8888888888888888, \"#fdca26\"], [1.0, \"#f0f921\"]], \"sequentialminus\": [[0.0, \"#0d0887\"], [0.1111111111111111, \"#46039f\"], [0.2222222222222222, \"#7201a8\"], [0.3333333333333333, \"#9c179e\"], [0.4444444444444444, \"#bd3786\"], [0.5555555555555556, \"#d8576b\"], [0.6666666666666666, \"#ed7953\"], [0.7777777777777778, \"#fb9f3a\"], [0.8888888888888888, \"#fdca26\"], [1.0, \"#f0f921\"]]}, \"colorway\": [\"#636efa\", \"#EF553B\", \"#00cc96\", \"#ab63fa\", \"#FFA15A\", \"#19d3f3\", \"#FF6692\", \"#B6E880\", \"#FF97FF\", \"#FECB52\"], \"font\": {\"color\": \"#2a3f5f\"}, \"geo\": {\"bgcolor\": \"white\", \"lakecolor\": \"white\", \"landcolor\": \"#E5ECF6\", \"showlakes\": true, \"showland\": true, \"subunitcolor\": \"white\"}, \"hoverlabel\": {\"align\": \"left\"}, \"hovermode\": \"closest\", \"mapbox\": {\"style\": \"light\"}, \"paper_bgcolor\": \"white\", \"plot_bgcolor\": \"#E5ECF6\", \"polar\": {\"angularaxis\": {\"gridcolor\": \"white\", \"linecolor\": \"white\", \"ticks\": \"\"}, \"bgcolor\": \"#E5ECF6\", \"radialaxis\": {\"gridcolor\": \"white\", \"linecolor\": \"white\", \"ticks\": \"\"}}, \"scene\": {\"xaxis\": {\"backgroundcolor\": \"#E5ECF6\", \"gridcolor\": \"white\", \"gridwidth\": 2, \"linecolor\": \"white\", \"showbackground\": true, \"ticks\": \"\", \"zerolinecolor\": \"white\"}, \"yaxis\": {\"backgroundcolor\": \"#E5ECF6\", \"gridcolor\": \"white\", \"gridwidth\": 2, \"linecolor\": \"white\", \"showbackground\": true, \"ticks\": \"\", \"zerolinecolor\": \"white\"}, \"zaxis\": {\"backgroundcolor\": \"#E5ECF6\", \"gridcolor\": \"white\", \"gridwidth\": 2, \"linecolor\": \"white\", \"showbackground\": true, \"ticks\": \"\", \"zerolinecolor\": \"white\"}}, \"shapedefaults\": {\"line\": {\"color\": \"#2a3f5f\"}}, \"ternary\": {\"aaxis\": {\"gridcolor\": \"white\", \"linecolor\": \"white\", \"ticks\": \"\"}, \"baxis\": {\"gridcolor\": \"white\", \"linecolor\": \"white\", \"ticks\": \"\"}, \"bgcolor\": \"#E5ECF6\", \"caxis\": {\"gridcolor\": \"white\", \"linecolor\": \"white\", \"ticks\": \"\"}}, \"title\": {\"x\": 0.05}, \"xaxis\": {\"automargin\": true, \"gridcolor\": \"white\", \"linecolor\": \"white\", \"ticks\": \"\", \"title\": {\"standoff\": 15}, \"zerolinecolor\": \"white\", \"zerolinewidth\": 2}, \"yaxis\": {\"automargin\": true, \"gridcolor\": \"white\", \"linecolor\": \"white\", \"ticks\": \"\", \"title\": {\"standoff\": 15}, \"zerolinecolor\": \"white\", \"zerolinewidth\": 2}}}},\n",
       "                        {\"responsive\": true}\n",
       "                    ).then(function(){\n",
       "                            \n",
       "var gd = document.getElementById('d7f7d97a-76da-46b3-99e7-bdbb69dcdb41');\n",
       "var x = new MutationObserver(function (mutations, observer) {{\n",
       "        var display = window.getComputedStyle(gd).display;\n",
       "        if (!display || display === 'none') {{\n",
       "            console.log([gd, 'removed!']);\n",
       "            Plotly.purge(gd);\n",
       "            observer.disconnect();\n",
       "        }}\n",
       "}});\n",
       "\n",
       "// Listen for the removal of the full notebook cells\n",
       "var notebookContainer = gd.closest('#notebook-container');\n",
       "if (notebookContainer) {{\n",
       "    x.observe(notebookContainer, {childList: true});\n",
       "}}\n",
       "\n",
       "// Listen for the clearing of the current output cell\n",
       "var outputEl = gd.closest('.output');\n",
       "if (outputEl) {{\n",
       "    x.observe(outputEl, {childList: true});\n",
       "}}\n",
       "\n",
       "                        })\n",
       "                };\n",
       "                });\n",
       "            </script>\n",
       "        </div>"
      ]
     },
     "metadata": {},
     "output_type": "display_data"
    }
   ],
   "source": [
    "df_rsa = df6[df6.countriesAndTerritories == 'South_Africa'].reset_index()\n",
    "\n",
    "#ACtive cases in South Africa\n",
    "fig_line = go.Figure()\n",
    "# fig_line.add_trace(go.Scatter(x=df_rsa.dateRep, y=df_rsa.cases, name='Total Cases in SA'))\n",
    "fig_line.add_trace(go.Scatter(x = df4.timestamp,y= df4.active, name = 'Active Cases in SA'))\n",
    "# fig_line.add_trace(go.Scatter(x = df4.timestamp,y= df4.recovered))\n",
    "# fig_line.add_trace(go.Scatter(x = df4.timestamp,y= df4.deaths))\n",
    "fig_line.show()"
   ]
  },
  {
   "cell_type": "code",
   "execution_count": 19,
   "metadata": {},
   "outputs": [
    {
     "data": {
      "text/html": [
       "<div>\n",
       "<style scoped>\n",
       "    .dataframe tbody tr th:only-of-type {\n",
       "        vertical-align: middle;\n",
       "    }\n",
       "\n",
       "    .dataframe tbody tr th {\n",
       "        vertical-align: top;\n",
       "    }\n",
       "\n",
       "    .dataframe thead th {\n",
       "        text-align: right;\n",
       "    }\n",
       "</style>\n",
       "<table border=\"1\" class=\"dataframe\">\n",
       "  <thead>\n",
       "    <tr style=\"text-align: right;\">\n",
       "      <th></th>\n",
       "      <th>index</th>\n",
       "      <th>dateRep</th>\n",
       "      <th>day</th>\n",
       "      <th>month</th>\n",
       "      <th>year</th>\n",
       "      <th>cases</th>\n",
       "      <th>deaths</th>\n",
       "      <th>countriesAndTerritories</th>\n",
       "      <th>geoId</th>\n",
       "      <th>countryterritoryCode</th>\n",
       "      <th>popData2018</th>\n",
       "    </tr>\n",
       "  </thead>\n",
       "  <tbody>\n",
       "    <tr>\n",
       "      <th>0</th>\n",
       "      <td>9388</td>\n",
       "      <td>16/04/2020</td>\n",
       "      <td>16</td>\n",
       "      <td>4</td>\n",
       "      <td>2020</td>\n",
       "      <td>91</td>\n",
       "      <td>7</td>\n",
       "      <td>South_Africa</td>\n",
       "      <td>ZA</td>\n",
       "      <td>ZAF</td>\n",
       "      <td>57779622.0</td>\n",
       "    </tr>\n",
       "    <tr>\n",
       "      <th>1</th>\n",
       "      <td>9389</td>\n",
       "      <td>15/04/2020</td>\n",
       "      <td>15</td>\n",
       "      <td>4</td>\n",
       "      <td>2020</td>\n",
       "      <td>143</td>\n",
       "      <td>0</td>\n",
       "      <td>South_Africa</td>\n",
       "      <td>ZA</td>\n",
       "      <td>ZAF</td>\n",
       "      <td>57779622.0</td>\n",
       "    </tr>\n",
       "    <tr>\n",
       "      <th>2</th>\n",
       "      <td>9390</td>\n",
       "      <td>14/04/2020</td>\n",
       "      <td>14</td>\n",
       "      <td>4</td>\n",
       "      <td>2020</td>\n",
       "      <td>99</td>\n",
       "      <td>2</td>\n",
       "      <td>South_Africa</td>\n",
       "      <td>ZA</td>\n",
       "      <td>ZAF</td>\n",
       "      <td>57779622.0</td>\n",
       "    </tr>\n",
       "    <tr>\n",
       "      <th>3</th>\n",
       "      <td>9391</td>\n",
       "      <td>13/04/2020</td>\n",
       "      <td>13</td>\n",
       "      <td>4</td>\n",
       "      <td>2020</td>\n",
       "      <td>145</td>\n",
       "      <td>0</td>\n",
       "      <td>South_Africa</td>\n",
       "      <td>ZA</td>\n",
       "      <td>ZAF</td>\n",
       "      <td>57779622.0</td>\n",
       "    </tr>\n",
       "    <tr>\n",
       "      <th>4</th>\n",
       "      <td>9392</td>\n",
       "      <td>12/04/2020</td>\n",
       "      <td>12</td>\n",
       "      <td>4</td>\n",
       "      <td>2020</td>\n",
       "      <td>25</td>\n",
       "      <td>1</td>\n",
       "      <td>South_Africa</td>\n",
       "      <td>ZA</td>\n",
       "      <td>ZAF</td>\n",
       "      <td>57779622.0</td>\n",
       "    </tr>\n",
       "    <tr>\n",
       "      <th>5</th>\n",
       "      <td>9393</td>\n",
       "      <td>11/04/2020</td>\n",
       "      <td>11</td>\n",
       "      <td>4</td>\n",
       "      <td>2020</td>\n",
       "      <td>69</td>\n",
       "      <td>6</td>\n",
       "      <td>South_Africa</td>\n",
       "      <td>ZA</td>\n",
       "      <td>ZAF</td>\n",
       "      <td>57779622.0</td>\n",
       "    </tr>\n",
       "    <tr>\n",
       "      <th>6</th>\n",
       "      <td>9394</td>\n",
       "      <td>10/04/2020</td>\n",
       "      <td>10</td>\n",
       "      <td>4</td>\n",
       "      <td>2020</td>\n",
       "      <td>89</td>\n",
       "      <td>0</td>\n",
       "      <td>South_Africa</td>\n",
       "      <td>ZA</td>\n",
       "      <td>ZAF</td>\n",
       "      <td>57779622.0</td>\n",
       "    </tr>\n",
       "    <tr>\n",
       "      <th>7</th>\n",
       "      <td>9395</td>\n",
       "      <td>09/04/2020</td>\n",
       "      <td>9</td>\n",
       "      <td>4</td>\n",
       "      <td>2020</td>\n",
       "      <td>96</td>\n",
       "      <td>5</td>\n",
       "      <td>South_Africa</td>\n",
       "      <td>ZA</td>\n",
       "      <td>ZAF</td>\n",
       "      <td>57779622.0</td>\n",
       "    </tr>\n",
       "    <tr>\n",
       "      <th>8</th>\n",
       "      <td>9396</td>\n",
       "      <td>08/04/2020</td>\n",
       "      <td>8</td>\n",
       "      <td>4</td>\n",
       "      <td>2020</td>\n",
       "      <td>63</td>\n",
       "      <td>1</td>\n",
       "      <td>South_Africa</td>\n",
       "      <td>ZA</td>\n",
       "      <td>ZAF</td>\n",
       "      <td>57779622.0</td>\n",
       "    </tr>\n",
       "    <tr>\n",
       "      <th>9</th>\n",
       "      <td>9397</td>\n",
       "      <td>07/04/2020</td>\n",
       "      <td>7</td>\n",
       "      <td>4</td>\n",
       "      <td>2020</td>\n",
       "      <td>31</td>\n",
       "      <td>1</td>\n",
       "      <td>South_Africa</td>\n",
       "      <td>ZA</td>\n",
       "      <td>ZAF</td>\n",
       "      <td>57779622.0</td>\n",
       "    </tr>\n",
       "    <tr>\n",
       "      <th>10</th>\n",
       "      <td>9398</td>\n",
       "      <td>06/04/2020</td>\n",
       "      <td>6</td>\n",
       "      <td>4</td>\n",
       "      <td>2020</td>\n",
       "      <td>70</td>\n",
       "      <td>2</td>\n",
       "      <td>South_Africa</td>\n",
       "      <td>ZA</td>\n",
       "      <td>ZAF</td>\n",
       "      <td>57779622.0</td>\n",
       "    </tr>\n",
       "    <tr>\n",
       "      <th>11</th>\n",
       "      <td>9399</td>\n",
       "      <td>05/04/2020</td>\n",
       "      <td>5</td>\n",
       "      <td>4</td>\n",
       "      <td>2020</td>\n",
       "      <td>80</td>\n",
       "      <td>2</td>\n",
       "      <td>South_Africa</td>\n",
       "      <td>ZA</td>\n",
       "      <td>ZAF</td>\n",
       "      <td>57779622.0</td>\n",
       "    </tr>\n",
       "    <tr>\n",
       "      <th>12</th>\n",
       "      <td>9400</td>\n",
       "      <td>04/04/2020</td>\n",
       "      <td>4</td>\n",
       "      <td>4</td>\n",
       "      <td>2020</td>\n",
       "      <td>43</td>\n",
       "      <td>2</td>\n",
       "      <td>South_Africa</td>\n",
       "      <td>ZA</td>\n",
       "      <td>ZAF</td>\n",
       "      <td>57779622.0</td>\n",
       "    </tr>\n",
       "    <tr>\n",
       "      <th>13</th>\n",
       "      <td>9401</td>\n",
       "      <td>03/04/2020</td>\n",
       "      <td>3</td>\n",
       "      <td>4</td>\n",
       "      <td>2020</td>\n",
       "      <td>82</td>\n",
       "      <td>0</td>\n",
       "      <td>South_Africa</td>\n",
       "      <td>ZA</td>\n",
       "      <td>ZAF</td>\n",
       "      <td>57779622.0</td>\n",
       "    </tr>\n",
       "    <tr>\n",
       "      <th>14</th>\n",
       "      <td>9402</td>\n",
       "      <td>02/04/2020</td>\n",
       "      <td>2</td>\n",
       "      <td>4</td>\n",
       "      <td>2020</td>\n",
       "      <td>27</td>\n",
       "      <td>0</td>\n",
       "      <td>South_Africa</td>\n",
       "      <td>ZA</td>\n",
       "      <td>ZAF</td>\n",
       "      <td>57779622.0</td>\n",
       "    </tr>\n",
       "    <tr>\n",
       "      <th>15</th>\n",
       "      <td>9403</td>\n",
       "      <td>01/04/2020</td>\n",
       "      <td>1</td>\n",
       "      <td>4</td>\n",
       "      <td>2020</td>\n",
       "      <td>27</td>\n",
       "      <td>2</td>\n",
       "      <td>South_Africa</td>\n",
       "      <td>ZA</td>\n",
       "      <td>ZAF</td>\n",
       "      <td>57779622.0</td>\n",
       "    </tr>\n",
       "    <tr>\n",
       "      <th>16</th>\n",
       "      <td>9404</td>\n",
       "      <td>31/03/2020</td>\n",
       "      <td>31</td>\n",
       "      <td>3</td>\n",
       "      <td>2020</td>\n",
       "      <td>46</td>\n",
       "      <td>1</td>\n",
       "      <td>South_Africa</td>\n",
       "      <td>ZA</td>\n",
       "      <td>ZAF</td>\n",
       "      <td>57779622.0</td>\n",
       "    </tr>\n",
       "    <tr>\n",
       "      <th>17</th>\n",
       "      <td>9405</td>\n",
       "      <td>30/03/2020</td>\n",
       "      <td>30</td>\n",
       "      <td>3</td>\n",
       "      <td>2020</td>\n",
       "      <td>93</td>\n",
       "      <td>0</td>\n",
       "      <td>South_Africa</td>\n",
       "      <td>ZA</td>\n",
       "      <td>ZAF</td>\n",
       "      <td>57779622.0</td>\n",
       "    </tr>\n",
       "    <tr>\n",
       "      <th>18</th>\n",
       "      <td>9406</td>\n",
       "      <td>29/03/2020</td>\n",
       "      <td>29</td>\n",
       "      <td>3</td>\n",
       "      <td>2020</td>\n",
       "      <td>17</td>\n",
       "      <td>0</td>\n",
       "      <td>South_Africa</td>\n",
       "      <td>ZA</td>\n",
       "      <td>ZAF</td>\n",
       "      <td>57779622.0</td>\n",
       "    </tr>\n",
       "    <tr>\n",
       "      <th>19</th>\n",
       "      <td>9407</td>\n",
       "      <td>28/03/2020</td>\n",
       "      <td>28</td>\n",
       "      <td>3</td>\n",
       "      <td>2020</td>\n",
       "      <td>243</td>\n",
       "      <td>0</td>\n",
       "      <td>South_Africa</td>\n",
       "      <td>ZA</td>\n",
       "      <td>ZAF</td>\n",
       "      <td>57779622.0</td>\n",
       "    </tr>\n",
       "    <tr>\n",
       "      <th>20</th>\n",
       "      <td>9408</td>\n",
       "      <td>27/03/2020</td>\n",
       "      <td>27</td>\n",
       "      <td>3</td>\n",
       "      <td>2020</td>\n",
       "      <td>218</td>\n",
       "      <td>2</td>\n",
       "      <td>South_Africa</td>\n",
       "      <td>ZA</td>\n",
       "      <td>ZAF</td>\n",
       "      <td>57779622.0</td>\n",
       "    </tr>\n",
       "    <tr>\n",
       "      <th>21</th>\n",
       "      <td>9409</td>\n",
       "      <td>26/03/2020</td>\n",
       "      <td>26</td>\n",
       "      <td>3</td>\n",
       "      <td>2020</td>\n",
       "      <td>152</td>\n",
       "      <td>0</td>\n",
       "      <td>South_Africa</td>\n",
       "      <td>ZA</td>\n",
       "      <td>ZAF</td>\n",
       "      <td>57779622.0</td>\n",
       "    </tr>\n",
       "    <tr>\n",
       "      <th>22</th>\n",
       "      <td>9410</td>\n",
       "      <td>25/03/2020</td>\n",
       "      <td>25</td>\n",
       "      <td>3</td>\n",
       "      <td>2020</td>\n",
       "      <td>155</td>\n",
       "      <td>0</td>\n",
       "      <td>South_Africa</td>\n",
       "      <td>ZA</td>\n",
       "      <td>ZAF</td>\n",
       "      <td>57779622.0</td>\n",
       "    </tr>\n",
       "    <tr>\n",
       "      <th>23</th>\n",
       "      <td>9411</td>\n",
       "      <td>24/03/2020</td>\n",
       "      <td>24</td>\n",
       "      <td>3</td>\n",
       "      <td>2020</td>\n",
       "      <td>128</td>\n",
       "      <td>0</td>\n",
       "      <td>South_Africa</td>\n",
       "      <td>ZA</td>\n",
       "      <td>ZAF</td>\n",
       "      <td>57779622.0</td>\n",
       "    </tr>\n",
       "    <tr>\n",
       "      <th>24</th>\n",
       "      <td>9412</td>\n",
       "      <td>23/03/2020</td>\n",
       "      <td>23</td>\n",
       "      <td>3</td>\n",
       "      <td>2020</td>\n",
       "      <td>34</td>\n",
       "      <td>0</td>\n",
       "      <td>South_Africa</td>\n",
       "      <td>ZA</td>\n",
       "      <td>ZAF</td>\n",
       "      <td>57779622.0</td>\n",
       "    </tr>\n",
       "    <tr>\n",
       "      <th>25</th>\n",
       "      <td>9413</td>\n",
       "      <td>22/03/2020</td>\n",
       "      <td>22</td>\n",
       "      <td>3</td>\n",
       "      <td>2020</td>\n",
       "      <td>35</td>\n",
       "      <td>0</td>\n",
       "      <td>South_Africa</td>\n",
       "      <td>ZA</td>\n",
       "      <td>ZAF</td>\n",
       "      <td>57779622.0</td>\n",
       "    </tr>\n",
       "    <tr>\n",
       "      <th>26</th>\n",
       "      <td>9414</td>\n",
       "      <td>21/03/2020</td>\n",
       "      <td>21</td>\n",
       "      <td>3</td>\n",
       "      <td>2020</td>\n",
       "      <td>55</td>\n",
       "      <td>0</td>\n",
       "      <td>South_Africa</td>\n",
       "      <td>ZA</td>\n",
       "      <td>ZAF</td>\n",
       "      <td>57779622.0</td>\n",
       "    </tr>\n",
       "    <tr>\n",
       "      <th>27</th>\n",
       "      <td>9415</td>\n",
       "      <td>20/03/2020</td>\n",
       "      <td>20</td>\n",
       "      <td>3</td>\n",
       "      <td>2020</td>\n",
       "      <td>34</td>\n",
       "      <td>0</td>\n",
       "      <td>South_Africa</td>\n",
       "      <td>ZA</td>\n",
       "      <td>ZAF</td>\n",
       "      <td>57779622.0</td>\n",
       "    </tr>\n",
       "    <tr>\n",
       "      <th>28</th>\n",
       "      <td>9416</td>\n",
       "      <td>19/03/2020</td>\n",
       "      <td>19</td>\n",
       "      <td>3</td>\n",
       "      <td>2020</td>\n",
       "      <td>31</td>\n",
       "      <td>0</td>\n",
       "      <td>South_Africa</td>\n",
       "      <td>ZA</td>\n",
       "      <td>ZAF</td>\n",
       "      <td>57779622.0</td>\n",
       "    </tr>\n",
       "    <tr>\n",
       "      <th>29</th>\n",
       "      <td>9417</td>\n",
       "      <td>18/03/2020</td>\n",
       "      <td>18</td>\n",
       "      <td>3</td>\n",
       "      <td>2020</td>\n",
       "      <td>23</td>\n",
       "      <td>0</td>\n",
       "      <td>South_Africa</td>\n",
       "      <td>ZA</td>\n",
       "      <td>ZAF</td>\n",
       "      <td>57779622.0</td>\n",
       "    </tr>\n",
       "    <tr>\n",
       "      <th>30</th>\n",
       "      <td>9418</td>\n",
       "      <td>17/03/2020</td>\n",
       "      <td>17</td>\n",
       "      <td>3</td>\n",
       "      <td>2020</td>\n",
       "      <td>11</td>\n",
       "      <td>0</td>\n",
       "      <td>South_Africa</td>\n",
       "      <td>ZA</td>\n",
       "      <td>ZAF</td>\n",
       "      <td>57779622.0</td>\n",
       "    </tr>\n",
       "    <tr>\n",
       "      <th>31</th>\n",
       "      <td>9419</td>\n",
       "      <td>16/03/2020</td>\n",
       "      <td>16</td>\n",
       "      <td>3</td>\n",
       "      <td>2020</td>\n",
       "      <td>27</td>\n",
       "      <td>0</td>\n",
       "      <td>South_Africa</td>\n",
       "      <td>ZA</td>\n",
       "      <td>ZAF</td>\n",
       "      <td>57779622.0</td>\n",
       "    </tr>\n",
       "    <tr>\n",
       "      <th>32</th>\n",
       "      <td>9420</td>\n",
       "      <td>15/03/2020</td>\n",
       "      <td>15</td>\n",
       "      <td>3</td>\n",
       "      <td>2020</td>\n",
       "      <td>0</td>\n",
       "      <td>0</td>\n",
       "      <td>South_Africa</td>\n",
       "      <td>ZA</td>\n",
       "      <td>ZAF</td>\n",
       "      <td>57779622.0</td>\n",
       "    </tr>\n",
       "    <tr>\n",
       "      <th>33</th>\n",
       "      <td>9421</td>\n",
       "      <td>14/03/2020</td>\n",
       "      <td>14</td>\n",
       "      <td>3</td>\n",
       "      <td>2020</td>\n",
       "      <td>7</td>\n",
       "      <td>0</td>\n",
       "      <td>South_Africa</td>\n",
       "      <td>ZA</td>\n",
       "      <td>ZAF</td>\n",
       "      <td>57779622.0</td>\n",
       "    </tr>\n",
       "    <tr>\n",
       "      <th>34</th>\n",
       "      <td>9422</td>\n",
       "      <td>13/03/2020</td>\n",
       "      <td>13</td>\n",
       "      <td>3</td>\n",
       "      <td>2020</td>\n",
       "      <td>4</td>\n",
       "      <td>0</td>\n",
       "      <td>South_Africa</td>\n",
       "      <td>ZA</td>\n",
       "      <td>ZAF</td>\n",
       "      <td>57779622.0</td>\n",
       "    </tr>\n",
       "    <tr>\n",
       "      <th>35</th>\n",
       "      <td>9423</td>\n",
       "      <td>12/03/2020</td>\n",
       "      <td>12</td>\n",
       "      <td>3</td>\n",
       "      <td>2020</td>\n",
       "      <td>6</td>\n",
       "      <td>0</td>\n",
       "      <td>South_Africa</td>\n",
       "      <td>ZA</td>\n",
       "      <td>ZAF</td>\n",
       "      <td>57779622.0</td>\n",
       "    </tr>\n",
       "    <tr>\n",
       "      <th>36</th>\n",
       "      <td>9424</td>\n",
       "      <td>10/03/2020</td>\n",
       "      <td>10</td>\n",
       "      <td>3</td>\n",
       "      <td>2020</td>\n",
       "      <td>4</td>\n",
       "      <td>0</td>\n",
       "      <td>South_Africa</td>\n",
       "      <td>ZA</td>\n",
       "      <td>ZAF</td>\n",
       "      <td>57779622.0</td>\n",
       "    </tr>\n",
       "    <tr>\n",
       "      <th>37</th>\n",
       "      <td>9425</td>\n",
       "      <td>09/03/2020</td>\n",
       "      <td>9</td>\n",
       "      <td>3</td>\n",
       "      <td>2020</td>\n",
       "      <td>1</td>\n",
       "      <td>0</td>\n",
       "      <td>South_Africa</td>\n",
       "      <td>ZA</td>\n",
       "      <td>ZAF</td>\n",
       "      <td>57779622.0</td>\n",
       "    </tr>\n",
       "    <tr>\n",
       "      <th>38</th>\n",
       "      <td>9426</td>\n",
       "      <td>08/03/2020</td>\n",
       "      <td>8</td>\n",
       "      <td>3</td>\n",
       "      <td>2020</td>\n",
       "      <td>1</td>\n",
       "      <td>0</td>\n",
       "      <td>South_Africa</td>\n",
       "      <td>ZA</td>\n",
       "      <td>ZAF</td>\n",
       "      <td>57779622.0</td>\n",
       "    </tr>\n",
       "    <tr>\n",
       "      <th>39</th>\n",
       "      <td>9427</td>\n",
       "      <td>06/03/2020</td>\n",
       "      <td>6</td>\n",
       "      <td>3</td>\n",
       "      <td>2020</td>\n",
       "      <td>1</td>\n",
       "      <td>0</td>\n",
       "      <td>South_Africa</td>\n",
       "      <td>ZA</td>\n",
       "      <td>ZAF</td>\n",
       "      <td>57779622.0</td>\n",
       "    </tr>\n",
       "  </tbody>\n",
       "</table>\n",
       "</div>"
      ],
      "text/plain": [
       "    index     dateRep  day  month  year  cases  deaths  \\\n",
       "0    9388  16/04/2020   16      4  2020     91       7   \n",
       "1    9389  15/04/2020   15      4  2020    143       0   \n",
       "2    9390  14/04/2020   14      4  2020     99       2   \n",
       "3    9391  13/04/2020   13      4  2020    145       0   \n",
       "4    9392  12/04/2020   12      4  2020     25       1   \n",
       "5    9393  11/04/2020   11      4  2020     69       6   \n",
       "6    9394  10/04/2020   10      4  2020     89       0   \n",
       "7    9395  09/04/2020    9      4  2020     96       5   \n",
       "8    9396  08/04/2020    8      4  2020     63       1   \n",
       "9    9397  07/04/2020    7      4  2020     31       1   \n",
       "10   9398  06/04/2020    6      4  2020     70       2   \n",
       "11   9399  05/04/2020    5      4  2020     80       2   \n",
       "12   9400  04/04/2020    4      4  2020     43       2   \n",
       "13   9401  03/04/2020    3      4  2020     82       0   \n",
       "14   9402  02/04/2020    2      4  2020     27       0   \n",
       "15   9403  01/04/2020    1      4  2020     27       2   \n",
       "16   9404  31/03/2020   31      3  2020     46       1   \n",
       "17   9405  30/03/2020   30      3  2020     93       0   \n",
       "18   9406  29/03/2020   29      3  2020     17       0   \n",
       "19   9407  28/03/2020   28      3  2020    243       0   \n",
       "20   9408  27/03/2020   27      3  2020    218       2   \n",
       "21   9409  26/03/2020   26      3  2020    152       0   \n",
       "22   9410  25/03/2020   25      3  2020    155       0   \n",
       "23   9411  24/03/2020   24      3  2020    128       0   \n",
       "24   9412  23/03/2020   23      3  2020     34       0   \n",
       "25   9413  22/03/2020   22      3  2020     35       0   \n",
       "26   9414  21/03/2020   21      3  2020     55       0   \n",
       "27   9415  20/03/2020   20      3  2020     34       0   \n",
       "28   9416  19/03/2020   19      3  2020     31       0   \n",
       "29   9417  18/03/2020   18      3  2020     23       0   \n",
       "30   9418  17/03/2020   17      3  2020     11       0   \n",
       "31   9419  16/03/2020   16      3  2020     27       0   \n",
       "32   9420  15/03/2020   15      3  2020      0       0   \n",
       "33   9421  14/03/2020   14      3  2020      7       0   \n",
       "34   9422  13/03/2020   13      3  2020      4       0   \n",
       "35   9423  12/03/2020   12      3  2020      6       0   \n",
       "36   9424  10/03/2020   10      3  2020      4       0   \n",
       "37   9425  09/03/2020    9      3  2020      1       0   \n",
       "38   9426  08/03/2020    8      3  2020      1       0   \n",
       "39   9427  06/03/2020    6      3  2020      1       0   \n",
       "\n",
       "   countriesAndTerritories geoId countryterritoryCode  popData2018  \n",
       "0             South_Africa    ZA                  ZAF   57779622.0  \n",
       "1             South_Africa    ZA                  ZAF   57779622.0  \n",
       "2             South_Africa    ZA                  ZAF   57779622.0  \n",
       "3             South_Africa    ZA                  ZAF   57779622.0  \n",
       "4             South_Africa    ZA                  ZAF   57779622.0  \n",
       "5             South_Africa    ZA                  ZAF   57779622.0  \n",
       "6             South_Africa    ZA                  ZAF   57779622.0  \n",
       "7             South_Africa    ZA                  ZAF   57779622.0  \n",
       "8             South_Africa    ZA                  ZAF   57779622.0  \n",
       "9             South_Africa    ZA                  ZAF   57779622.0  \n",
       "10            South_Africa    ZA                  ZAF   57779622.0  \n",
       "11            South_Africa    ZA                  ZAF   57779622.0  \n",
       "12            South_Africa    ZA                  ZAF   57779622.0  \n",
       "13            South_Africa    ZA                  ZAF   57779622.0  \n",
       "14            South_Africa    ZA                  ZAF   57779622.0  \n",
       "15            South_Africa    ZA                  ZAF   57779622.0  \n",
       "16            South_Africa    ZA                  ZAF   57779622.0  \n",
       "17            South_Africa    ZA                  ZAF   57779622.0  \n",
       "18            South_Africa    ZA                  ZAF   57779622.0  \n",
       "19            South_Africa    ZA                  ZAF   57779622.0  \n",
       "20            South_Africa    ZA                  ZAF   57779622.0  \n",
       "21            South_Africa    ZA                  ZAF   57779622.0  \n",
       "22            South_Africa    ZA                  ZAF   57779622.0  \n",
       "23            South_Africa    ZA                  ZAF   57779622.0  \n",
       "24            South_Africa    ZA                  ZAF   57779622.0  \n",
       "25            South_Africa    ZA                  ZAF   57779622.0  \n",
       "26            South_Africa    ZA                  ZAF   57779622.0  \n",
       "27            South_Africa    ZA                  ZAF   57779622.0  \n",
       "28            South_Africa    ZA                  ZAF   57779622.0  \n",
       "29            South_Africa    ZA                  ZAF   57779622.0  \n",
       "30            South_Africa    ZA                  ZAF   57779622.0  \n",
       "31            South_Africa    ZA                  ZAF   57779622.0  \n",
       "32            South_Africa    ZA                  ZAF   57779622.0  \n",
       "33            South_Africa    ZA                  ZAF   57779622.0  \n",
       "34            South_Africa    ZA                  ZAF   57779622.0  \n",
       "35            South_Africa    ZA                  ZAF   57779622.0  \n",
       "36            South_Africa    ZA                  ZAF   57779622.0  \n",
       "37            South_Africa    ZA                  ZAF   57779622.0  \n",
       "38            South_Africa    ZA                  ZAF   57779622.0  \n",
       "39            South_Africa    ZA                  ZAF   57779622.0  "
      ]
     },
     "execution_count": 19,
     "metadata": {},
     "output_type": "execute_result"
    }
   ],
   "source": [
    "df_rsa"
   ]
  },
  {
   "cell_type": "code",
   "execution_count": 438,
   "metadata": {},
   "outputs": [
    {
     "data": {
      "application/vnd.plotly.v1+json": {
       "config": {
        "plotlyServerURL": "https://plot.ly"
       },
       "data": [
        {
         "autocolorscale": true,
         "colorbar": {
          "title": {
           "text": "Case Fatality Rate (%)"
          }
         },
         "locationmode": "country names",
         "locations": [
          "United States of America",
          "Spain",
          "Italy",
          "France",
          "Germany",
          "United Kingdom",
          "Turkey",
          "Iran, Islamic Republic of",
          "China",
          "Russian Federation",
          "Brazil",
          "Belgium",
          "Canada",
          "Switzerland",
          "Portugal",
          "India",
          "Peru",
          "Ireland",
          "Sweden",
          "Austria",
          "Israel",
          "Saudi Arabia",
          "Japan",
          "Chile",
          "Korea (South)",
          "Ecuador",
          "Poland",
          "Pakistan",
          "Romania",
          "Singapore",
          "Mexico",
          "Denmark",
          "United Arab Emirates",
          "Norway",
          "Indonesia",
          "Czech Republic",
          "Belarus",
          "Serbia",
          "Philippines",
          "Australia",
          "Qatar",
          "Ukraine",
          "Malaysia",
          "Dominican Republic",
          "Panama",
          "Colombia",
          "Finland",
          "Luxembourg",
          "Egypt",
          "South Africa",
          "Bangladesh",
          "Morocco",
          "Argentina",
          "Algeria",
          "Thailand",
          "Moldova",
          "Greece",
          "Hungary",
          "Kuwait",
          "Kazakhstan",
          "Bahrain",
          "Croatia",
          "Iceland",
          "Uzbekistan",
          "Iraq",
          "Estonia",
          "Oman",
          "Azerbaijan",
          "New Zealand",
          "Armenia",
          "Lithuania",
          "Slovenia",
          "Bosnia and Herzegovina",
          "Macedonia, Republic of",
          "Slovakia",
          "Cameroon",
          "Cuba",
          "Afghanistan",
          "Ghana",
          "Bulgaria",
          "Djibouti",
          "Côte d'Ivoire",
          "Tunisia",
          "Cyprus",
          "Latvia",
          "Andorra",
          "Guinea",
          "Lebanon",
          "Costa Rica",
          "Nigeria",
          "Niger",
          "Albania",
          "Burkina Faso",
          "Bolivia",
          "Kyrgyzstan",
          "Uruguay",
          "Republic of Kosovo",
          "Honduras",
          "San Marino",
          "Palestinian Territory",
          "Malta",
          "Jordan",
          "Taiwan, Republic of China",
          "Senegal",
          "Georgia",
          "Congo (Kinshasa)",
          "Mauritius",
          "Montenegro",
          "Sri Lanka",
          "Kenya",
          "Guatemala",
          "Somalia",
          "Venezuela (Bolivarian Republic)",
          "Viet Nam",
          "Mali",
          "Tanzania, United Republic of",
          "El Salvador",
          "Jamaica",
          "Paraguay",
          "Congo (Brazzaville)",
          "Gabon",
          "Rwanda",
          "Brunei Darussalam",
          "Cambodia",
          "Madagascar",
          "Myanmar",
          "Ethiopia",
          "Sudan",
          "Liberia",
          "Monaco",
          "Togo",
          "Equatorial Guinea",
          "Maldives",
          "Liechtenstein",
          "Barbados",
          "Zambia",
          "Cape Verde",
          "Guyana",
          "Bahamas",
          "Uganda",
          "Haiti",
          "Benin",
          "Libya",
          "Guinea-Bissau",
          "Sierra Leone",
          "Nepal",
          "Syrian Arab Republic (Syria)",
          "Eritrea",
          "Mozambique",
          "Mongolia",
          "Chad",
          "Swaziland",
          "Zimbabwe",
          "Angola",
          "Antigua and Barbuda",
          "Timor-Leste",
          "Botswana",
          "Lao PDR",
          "Fiji",
          "Belize",
          "Malawi",
          "Dominica",
          "Namibia",
          "Saint Lucia",
          "Saint Kitts and Nevis",
          "Grenada",
          "Central African Republic",
          "Saint Vincent and Grenadines",
          "Seychelles",
          "Gambia",
          "Suriname",
          "Nicaragua",
          "Holy See (Vatican City State)",
          "Mauritania",
          "Papua New Guinea",
          "Western Sahara",
          "Bhutan",
          "Burundi",
          "Sao Tome and Principe",
          "South Sudan",
          "Yemen",
          "Cayman Islands",
          "Comoros",
          "Tajikistan",
          "Christmas Island",
          "Svalbard and Jan Mayen Islands",
          "Cook Islands",
          "Cocos (Keeling) Islands",
          "Nauru",
          "British Virgin Islands",
          "Tokelau",
          "American Samoa",
          "Wallis and Futuna Islands",
          "Virgin Islands, US",
          "Anguilla",
          "Vanuatu",
          "Antarctica",
          "Aruba",
          "Bermuda",
          "US Minor Outlying Islands",
          "Tuvalu",
          "Turks and Caicos Islands",
          "Falkland Islands (Malvinas)",
          "Bouvet Island",
          "British Indian Ocean Territory",
          "Tonga",
          "Turkmenistan",
          "French Southern Territories",
          "Faroe Islands",
          "Isle of Man",
          "Jersey",
          "Kiribati",
          "Pitcairn",
          "Korea (North)",
          "Macao, SAR China",
          "Marshall Islands",
          "Palau",
          "Martinique",
          "Mayotte",
          "Northern Mariana Islands",
          "Norfolk Island",
          "Niue",
          "Micronesia, Federated States of",
          "Montserrat",
          "New Caledonia",
          "Puerto Rico",
          "Hong Kong, SAR China",
          "South Georgia and the South Sandwich Islands",
          "Heard and Mcdonald Islands",
          "French Guiana",
          "Solomon Islands",
          "French Polynesia",
          "Netherlands Antilles",
          "Gibraltar",
          "Greenland",
          "Guadeloupe",
          "Guam",
          "Samoa",
          "Saint-Martin (French part)",
          "Saint-Barthélemy",
          "Saint Pierre and Miquelon",
          "Saint Helena",
          "Réunion",
          "Guernsey",
          "Lesotho"
         ],
         "marker": {
          "line": {
           "color": "rgb(555,555,555)",
           "width": 10
          }
         },
         "type": "choropleth",
         "z": [
          5.481398790398096,
          10.423258137507469,
          13.398783411340695,
          13.07557581122055,
          3.394002333250164,
          13.350029192145776,
          2.363193187643188,
          6.246314945402231,
          5.528722884094785,
          0.8642419877565718,
          6.362728939854685,
          14.644984861802909,
          4.84493172935384,
          5.2667213056337525,
          3.5642452874315915,
          3.212151394422311,
          2.7134607837640856,
          4.551122194513716,
          11.519383892442239,
          3.3012842062798358,
          1.3197532635202984,
          0.9371507179090361,
          2.3619218679838347,
          1.3570901033973413,
          2.218477955630441,
          5.0009617234083485,
          4.068587662337662,
          2.101411395713539,
          5.388444059727332,
          0.12054794520547946,
          8.116735066119471,
          4.688886072741098,
          0.5931656995486783,
          2.530941454596023,
          8.633496846531184,
          2.857955353334281,
          0.8180871634686896,
          1.885369532428356,
          6.62221548719503,
          1.0233694822055903,
          0.13776213072095514,
          2.6285714285714286,
          1.6782196278730388,
          4.85725614591594,
          2.9197080291970803,
          4.724029886719691,
          3.5127055306427506,
          2.155887230514096,
          7.564469914040115,
          1.673881673881674,
          3.252513305736251,
          4.518541601745092,
          4.849884526558892,
          13.945215225898258,
          1.7075773745997866,
          2.754399387911247,
          5.0395668471470225,
          10.15252621544328,
          0.5288461538461539,
          0.9523809523809524,
          0.3547896604156108,
          2.515723270440252,
          0.562429696287964,
          0.3575685339690107,
          5.181023720349563,
          2.770618556701031,
          0.5305039787798408,
          1.3513513513513513,
          0.8996539792387545,
          1.7130620985010707,
          2.814814814814815,
          5.729166666666666,
          3.8002980625931446,
          4.467912266450041,
          1.1676396997497915,
          3.697334479793637,
          3.342128408091469,
          3.296703296703297,
          0.8637236084452975,
          4.615384615384616,
          0.21164021164021166,
          1.4192139737991267,
          4.298642533936651,
          1.530612244897959,
          1.2032085561497325,
          5.160390516039052,
          0.872093023255814,
          3.10192023633678,
          0.8968609865470852,
          3.308270676691729,
          3.0441400304414,
          4.269293924466338,
          6.333333333333334,
          5.68561872909699,
          1.1864406779661016,
          2.0560747663551404,
          2.3529411764705883,
          9.31174089068826,
          8.403361344537815,
          0.8583690987124464,
          0.6772009029345373,
          1.6355140186915886,
          1.411764705882353,
          1.2135922330097086,
          0.9803921568627451,
          7.142857142857142,
          2.7439024390243905,
          1.5974440894568689,
          2.258064516129032,
          4.72972972972973,
          2.380952380952381,
          2.797202797202797,
          3.508771929824561,
          0,
          5.426356589147287,
          3.937007874015748,
          3.111111111111111,
          2.690582959641256,
          3.8461538461538463,
          3.6363636363636362,
          0.641025641025641,
          0,
          0.7246376811594203,
          0,
          0,
          4.132231404958678,
          2.631578947368421,
          11.214953271028037,
          7.920792079207921,
          3.1914893617021276,
          6.976744186046512,
          0,
          0,
          1.2345679012345678,
          6.666666666666667,
          4.285714285714286,
          1.4705882352941175,
          10.606060606060606,
          13.846153846153847,
          0,
          5.263157894736842,
          1.8518518518518516,
          1.9607843137254901,
          0,
          0,
          0,
          7.142857142857142,
          0,
          0,
          0,
          0,
          3.225806451612903,
          10.714285714285714,
          8.333333333333332,
          13.043478260869565,
          0,
          5,
          0,
          0,
          11.11111111111111,
          11.11111111111111,
          0,
          0,
          0,
          0,
          0,
          0,
          0,
          0,
          10,
          10,
          20,
          0,
          14.285714285714285,
          0,
          0,
          0,
          20,
          0,
          0,
          0,
          null,
          null,
          null,
          null,
          null,
          null,
          null,
          null,
          null,
          null,
          null,
          null,
          null,
          null,
          null,
          null,
          null,
          null,
          null,
          null,
          null,
          null,
          null,
          null,
          null,
          null,
          null,
          null,
          null,
          null,
          null,
          null,
          null,
          null,
          null,
          null,
          null,
          null,
          null,
          null,
          null,
          null,
          null,
          null,
          null,
          null,
          null,
          null,
          null,
          null,
          null,
          null,
          null,
          null,
          null,
          null,
          null,
          null,
          null,
          null,
          null,
          null,
          null,
          null
         ]
        }
       ],
       "layout": {
        "autosize": true,
        "margin": {
         "b": 0,
         "l": 0,
         "r": 0,
         "t": 0
        },
        "template": {
         "data": {
          "bar": [
           {
            "error_x": {
             "color": "#2a3f5f"
            },
            "error_y": {
             "color": "#2a3f5f"
            },
            "marker": {
             "line": {
              "color": "#E5ECF6",
              "width": 0.5
             }
            },
            "type": "bar"
           }
          ],
          "barpolar": [
           {
            "marker": {
             "line": {
              "color": "#E5ECF6",
              "width": 0.5
             }
            },
            "type": "barpolar"
           }
          ],
          "carpet": [
           {
            "aaxis": {
             "endlinecolor": "#2a3f5f",
             "gridcolor": "white",
             "linecolor": "white",
             "minorgridcolor": "white",
             "startlinecolor": "#2a3f5f"
            },
            "baxis": {
             "endlinecolor": "#2a3f5f",
             "gridcolor": "white",
             "linecolor": "white",
             "minorgridcolor": "white",
             "startlinecolor": "#2a3f5f"
            },
            "type": "carpet"
           }
          ],
          "choropleth": [
           {
            "colorbar": {
             "outlinewidth": 0,
             "ticks": ""
            },
            "type": "choropleth"
           }
          ],
          "contour": [
           {
            "colorbar": {
             "outlinewidth": 0,
             "ticks": ""
            },
            "colorscale": [
             [
              0,
              "#0d0887"
             ],
             [
              0.1111111111111111,
              "#46039f"
             ],
             [
              0.2222222222222222,
              "#7201a8"
             ],
             [
              0.3333333333333333,
              "#9c179e"
             ],
             [
              0.4444444444444444,
              "#bd3786"
             ],
             [
              0.5555555555555556,
              "#d8576b"
             ],
             [
              0.6666666666666666,
              "#ed7953"
             ],
             [
              0.7777777777777778,
              "#fb9f3a"
             ],
             [
              0.8888888888888888,
              "#fdca26"
             ],
             [
              1,
              "#f0f921"
             ]
            ],
            "type": "contour"
           }
          ],
          "contourcarpet": [
           {
            "colorbar": {
             "outlinewidth": 0,
             "ticks": ""
            },
            "type": "contourcarpet"
           }
          ],
          "heatmap": [
           {
            "colorbar": {
             "outlinewidth": 0,
             "ticks": ""
            },
            "colorscale": [
             [
              0,
              "#0d0887"
             ],
             [
              0.1111111111111111,
              "#46039f"
             ],
             [
              0.2222222222222222,
              "#7201a8"
             ],
             [
              0.3333333333333333,
              "#9c179e"
             ],
             [
              0.4444444444444444,
              "#bd3786"
             ],
             [
              0.5555555555555556,
              "#d8576b"
             ],
             [
              0.6666666666666666,
              "#ed7953"
             ],
             [
              0.7777777777777778,
              "#fb9f3a"
             ],
             [
              0.8888888888888888,
              "#fdca26"
             ],
             [
              1,
              "#f0f921"
             ]
            ],
            "type": "heatmap"
           }
          ],
          "heatmapgl": [
           {
            "colorbar": {
             "outlinewidth": 0,
             "ticks": ""
            },
            "colorscale": [
             [
              0,
              "#0d0887"
             ],
             [
              0.1111111111111111,
              "#46039f"
             ],
             [
              0.2222222222222222,
              "#7201a8"
             ],
             [
              0.3333333333333333,
              "#9c179e"
             ],
             [
              0.4444444444444444,
              "#bd3786"
             ],
             [
              0.5555555555555556,
              "#d8576b"
             ],
             [
              0.6666666666666666,
              "#ed7953"
             ],
             [
              0.7777777777777778,
              "#fb9f3a"
             ],
             [
              0.8888888888888888,
              "#fdca26"
             ],
             [
              1,
              "#f0f921"
             ]
            ],
            "type": "heatmapgl"
           }
          ],
          "histogram": [
           {
            "marker": {
             "colorbar": {
              "outlinewidth": 0,
              "ticks": ""
             }
            },
            "type": "histogram"
           }
          ],
          "histogram2d": [
           {
            "colorbar": {
             "outlinewidth": 0,
             "ticks": ""
            },
            "colorscale": [
             [
              0,
              "#0d0887"
             ],
             [
              0.1111111111111111,
              "#46039f"
             ],
             [
              0.2222222222222222,
              "#7201a8"
             ],
             [
              0.3333333333333333,
              "#9c179e"
             ],
             [
              0.4444444444444444,
              "#bd3786"
             ],
             [
              0.5555555555555556,
              "#d8576b"
             ],
             [
              0.6666666666666666,
              "#ed7953"
             ],
             [
              0.7777777777777778,
              "#fb9f3a"
             ],
             [
              0.8888888888888888,
              "#fdca26"
             ],
             [
              1,
              "#f0f921"
             ]
            ],
            "type": "histogram2d"
           }
          ],
          "histogram2dcontour": [
           {
            "colorbar": {
             "outlinewidth": 0,
             "ticks": ""
            },
            "colorscale": [
             [
              0,
              "#0d0887"
             ],
             [
              0.1111111111111111,
              "#46039f"
             ],
             [
              0.2222222222222222,
              "#7201a8"
             ],
             [
              0.3333333333333333,
              "#9c179e"
             ],
             [
              0.4444444444444444,
              "#bd3786"
             ],
             [
              0.5555555555555556,
              "#d8576b"
             ],
             [
              0.6666666666666666,
              "#ed7953"
             ],
             [
              0.7777777777777778,
              "#fb9f3a"
             ],
             [
              0.8888888888888888,
              "#fdca26"
             ],
             [
              1,
              "#f0f921"
             ]
            ],
            "type": "histogram2dcontour"
           }
          ],
          "mesh3d": [
           {
            "colorbar": {
             "outlinewidth": 0,
             "ticks": ""
            },
            "type": "mesh3d"
           }
          ],
          "parcoords": [
           {
            "line": {
             "colorbar": {
              "outlinewidth": 0,
              "ticks": ""
             }
            },
            "type": "parcoords"
           }
          ],
          "pie": [
           {
            "automargin": true,
            "type": "pie"
           }
          ],
          "scatter": [
           {
            "marker": {
             "colorbar": {
              "outlinewidth": 0,
              "ticks": ""
             }
            },
            "type": "scatter"
           }
          ],
          "scatter3d": [
           {
            "line": {
             "colorbar": {
              "outlinewidth": 0,
              "ticks": ""
             }
            },
            "marker": {
             "colorbar": {
              "outlinewidth": 0,
              "ticks": ""
             }
            },
            "type": "scatter3d"
           }
          ],
          "scattercarpet": [
           {
            "marker": {
             "colorbar": {
              "outlinewidth": 0,
              "ticks": ""
             }
            },
            "type": "scattercarpet"
           }
          ],
          "scattergeo": [
           {
            "marker": {
             "colorbar": {
              "outlinewidth": 0,
              "ticks": ""
             }
            },
            "type": "scattergeo"
           }
          ],
          "scattergl": [
           {
            "marker": {
             "colorbar": {
              "outlinewidth": 0,
              "ticks": ""
             }
            },
            "type": "scattergl"
           }
          ],
          "scattermapbox": [
           {
            "marker": {
             "colorbar": {
              "outlinewidth": 0,
              "ticks": ""
             }
            },
            "type": "scattermapbox"
           }
          ],
          "scatterpolar": [
           {
            "marker": {
             "colorbar": {
              "outlinewidth": 0,
              "ticks": ""
             }
            },
            "type": "scatterpolar"
           }
          ],
          "scatterpolargl": [
           {
            "marker": {
             "colorbar": {
              "outlinewidth": 0,
              "ticks": ""
             }
            },
            "type": "scatterpolargl"
           }
          ],
          "scatterternary": [
           {
            "marker": {
             "colorbar": {
              "outlinewidth": 0,
              "ticks": ""
             }
            },
            "type": "scatterternary"
           }
          ],
          "surface": [
           {
            "colorbar": {
             "outlinewidth": 0,
             "ticks": ""
            },
            "colorscale": [
             [
              0,
              "#0d0887"
             ],
             [
              0.1111111111111111,
              "#46039f"
             ],
             [
              0.2222222222222222,
              "#7201a8"
             ],
             [
              0.3333333333333333,
              "#9c179e"
             ],
             [
              0.4444444444444444,
              "#bd3786"
             ],
             [
              0.5555555555555556,
              "#d8576b"
             ],
             [
              0.6666666666666666,
              "#ed7953"
             ],
             [
              0.7777777777777778,
              "#fb9f3a"
             ],
             [
              0.8888888888888888,
              "#fdca26"
             ],
             [
              1,
              "#f0f921"
             ]
            ],
            "type": "surface"
           }
          ],
          "table": [
           {
            "cells": {
             "fill": {
              "color": "#EBF0F8"
             },
             "line": {
              "color": "white"
             }
            },
            "header": {
             "fill": {
              "color": "#C8D4E3"
             },
             "line": {
              "color": "white"
             }
            },
            "type": "table"
           }
          ]
         },
         "layout": {
          "annotationdefaults": {
           "arrowcolor": "#2a3f5f",
           "arrowhead": 0,
           "arrowwidth": 1
          },
          "coloraxis": {
           "colorbar": {
            "outlinewidth": 0,
            "ticks": ""
           }
          },
          "colorscale": {
           "diverging": [
            [
             0,
             "#8e0152"
            ],
            [
             0.1,
             "#c51b7d"
            ],
            [
             0.2,
             "#de77ae"
            ],
            [
             0.3,
             "#f1b6da"
            ],
            [
             0.4,
             "#fde0ef"
            ],
            [
             0.5,
             "#f7f7f7"
            ],
            [
             0.6,
             "#e6f5d0"
            ],
            [
             0.7,
             "#b8e186"
            ],
            [
             0.8,
             "#7fbc41"
            ],
            [
             0.9,
             "#4d9221"
            ],
            [
             1,
             "#276419"
            ]
           ],
           "sequential": [
            [
             0,
             "#0d0887"
            ],
            [
             0.1111111111111111,
             "#46039f"
            ],
            [
             0.2222222222222222,
             "#7201a8"
            ],
            [
             0.3333333333333333,
             "#9c179e"
            ],
            [
             0.4444444444444444,
             "#bd3786"
            ],
            [
             0.5555555555555556,
             "#d8576b"
            ],
            [
             0.6666666666666666,
             "#ed7953"
            ],
            [
             0.7777777777777778,
             "#fb9f3a"
            ],
            [
             0.8888888888888888,
             "#fdca26"
            ],
            [
             1,
             "#f0f921"
            ]
           ],
           "sequentialminus": [
            [
             0,
             "#0d0887"
            ],
            [
             0.1111111111111111,
             "#46039f"
            ],
            [
             0.2222222222222222,
             "#7201a8"
            ],
            [
             0.3333333333333333,
             "#9c179e"
            ],
            [
             0.4444444444444444,
             "#bd3786"
            ],
            [
             0.5555555555555556,
             "#d8576b"
            ],
            [
             0.6666666666666666,
             "#ed7953"
            ],
            [
             0.7777777777777778,
             "#fb9f3a"
            ],
            [
             0.8888888888888888,
             "#fdca26"
            ],
            [
             1,
             "#f0f921"
            ]
           ]
          },
          "colorway": [
           "#636efa",
           "#EF553B",
           "#00cc96",
           "#ab63fa",
           "#FFA15A",
           "#19d3f3",
           "#FF6692",
           "#B6E880",
           "#FF97FF",
           "#FECB52"
          ],
          "font": {
           "color": "#2a3f5f"
          },
          "geo": {
           "bgcolor": "white",
           "lakecolor": "white",
           "landcolor": "#E5ECF6",
           "showlakes": true,
           "showland": true,
           "subunitcolor": "white"
          },
          "hoverlabel": {
           "align": "left"
          },
          "hovermode": "closest",
          "mapbox": {
           "style": "light"
          },
          "paper_bgcolor": "white",
          "plot_bgcolor": "#E5ECF6",
          "polar": {
           "angularaxis": {
            "gridcolor": "white",
            "linecolor": "white",
            "ticks": ""
           },
           "bgcolor": "#E5ECF6",
           "radialaxis": {
            "gridcolor": "white",
            "linecolor": "white",
            "ticks": ""
           }
          },
          "scene": {
           "xaxis": {
            "backgroundcolor": "#E5ECF6",
            "gridcolor": "white",
            "gridwidth": 2,
            "linecolor": "white",
            "showbackground": true,
            "ticks": "",
            "zerolinecolor": "white"
           },
           "yaxis": {
            "backgroundcolor": "#E5ECF6",
            "gridcolor": "white",
            "gridwidth": 2,
            "linecolor": "white",
            "showbackground": true,
            "ticks": "",
            "zerolinecolor": "white"
           },
           "zaxis": {
            "backgroundcolor": "#E5ECF6",
            "gridcolor": "white",
            "gridwidth": 2,
            "linecolor": "white",
            "showbackground": true,
            "ticks": "",
            "zerolinecolor": "white"
           }
          },
          "shapedefaults": {
           "line": {
            "color": "#2a3f5f"
           }
          },
          "ternary": {
           "aaxis": {
            "gridcolor": "white",
            "linecolor": "white",
            "ticks": ""
           },
           "baxis": {
            "gridcolor": "white",
            "linecolor": "white",
            "ticks": ""
           },
           "bgcolor": "#E5ECF6",
           "caxis": {
            "gridcolor": "white",
            "linecolor": "white",
            "ticks": ""
           }
          },
          "title": {
           "x": 0.05
          },
          "xaxis": {
           "automargin": true,
           "gridcolor": "white",
           "linecolor": "white",
           "ticks": "",
           "title": {
            "standoff": 15
           },
           "zerolinecolor": "white",
           "zerolinewidth": 2
          },
          "yaxis": {
           "automargin": true,
           "gridcolor": "white",
           "linecolor": "white",
           "ticks": "",
           "title": {
            "standoff": 15
           },
           "zerolinecolor": "white",
           "zerolinewidth": 2
          }
         }
        }
       }
      },
      "text/html": [
       "<div>\n",
       "        \n",
       "        \n",
       "            <div id=\"50c38a77-ef72-4bc1-9943-a6a97a75bb67\" class=\"plotly-graph-div\" style=\"height:525px; width:100%;\"></div>\n",
       "            <script type=\"text/javascript\">\n",
       "                require([\"plotly\"], function(Plotly) {\n",
       "                    window.PLOTLYENV=window.PLOTLYENV || {};\n",
       "                    \n",
       "                if (document.getElementById(\"50c38a77-ef72-4bc1-9943-a6a97a75bb67\")) {\n",
       "                    Plotly.newPlot(\n",
       "                        '50c38a77-ef72-4bc1-9943-a6a97a75bb67',\n",
       "                        [{\"autocolorscale\": true, \"colorbar\": {\"title\": {\"text\": \"Case Fatality Rate (%)\"}}, \"locationmode\": \"country names\", \"locations\": [\"United States of America\", \"Spain\", \"Italy\", \"France\", \"Germany\", \"United Kingdom\", \"Turkey\", \"Iran, Islamic Republic of\", \"China\", \"Russian Federation\", \"Brazil\", \"Belgium\", \"Canada\", \"Switzerland\", \"Portugal\", \"India\", \"Peru\", \"Ireland\", \"Sweden\", \"Austria\", \"Israel\", \"Saudi Arabia\", \"Japan\", \"Chile\", \"Korea (South)\", \"Ecuador\", \"Poland\", \"Pakistan\", \"Romania\", \"Singapore\", \"Mexico\", \"Denmark\", \"United Arab Emirates\", \"Norway\", \"Indonesia\", \"Czech Republic\", \"Belarus\", \"Serbia\", \"Philippines\", \"Australia\", \"Qatar\", \"Ukraine\", \"Malaysia\", \"Dominican Republic\", \"Panama\", \"Colombia\", \"Finland\", \"Luxembourg\", \"Egypt\", \"South Africa\", \"Bangladesh\", \"Morocco\", \"Argentina\", \"Algeria\", \"Thailand\", \"Moldova\", \"Greece\", \"Hungary\", \"Kuwait\", \"Kazakhstan\", \"Bahrain\", \"Croatia\", \"Iceland\", \"Uzbekistan\", \"Iraq\", \"Estonia\", \"Oman\", \"Azerbaijan\", \"New Zealand\", \"Armenia\", \"Lithuania\", \"Slovenia\", \"Bosnia and Herzegovina\", \"Macedonia, Republic of\", \"Slovakia\", \"Cameroon\", \"Cuba\", \"Afghanistan\", \"Ghana\", \"Bulgaria\", \"Djibouti\", \"C\\u00f4te d'Ivoire\", \"Tunisia\", \"Cyprus\", \"Latvia\", \"Andorra\", \"Guinea\", \"Lebanon\", \"Costa Rica\", \"Nigeria\", \"Niger\", \"Albania\", \"Burkina Faso\", \"Bolivia\", \"Kyrgyzstan\", \"Uruguay\", \"Republic of Kosovo\", \"Honduras\", \"San Marino\", \"Palestinian Territory\", \"Malta\", \"Jordan\", \"Taiwan, Republic of China\", \"Senegal\", \"Georgia\", \"Congo (Kinshasa)\", \"Mauritius\", \"Montenegro\", \"Sri Lanka\", \"Kenya\", \"Guatemala\", \"Somalia\", \"Venezuela (Bolivarian Republic)\", \"Viet Nam\", \"Mali\", \"Tanzania, United Republic of\", \"El Salvador\", \"Jamaica\", \"Paraguay\", \"Congo (Brazzaville)\", \"Gabon\", \"Rwanda\", \"Brunei Darussalam\", \"Cambodia\", \"Madagascar\", \"Myanmar\", \"Ethiopia\", \"Sudan\", \"Liberia\", \"Monaco\", \"Togo\", \"Equatorial Guinea\", \"Maldives\", \"Liechtenstein\", \"Barbados\", \"Zambia\", \"Cape Verde\", \"Guyana\", \"Bahamas\", \"Uganda\", \"Haiti\", \"Benin\", \"Libya\", \"Guinea-Bissau\", \"Sierra Leone\", \"Nepal\", \"Syrian Arab Republic (Syria)\", \"Eritrea\", \"Mozambique\", \"Mongolia\", \"Chad\", \"Swaziland\", \"Zimbabwe\", \"Angola\", \"Antigua and Barbuda\", \"Timor-Leste\", \"Botswana\", \"Lao PDR\", \"Fiji\", \"Belize\", \"Malawi\", \"Dominica\", \"Namibia\", \"Saint Lucia\", \"Saint Kitts and Nevis\", \"Grenada\", \"Central African Republic\", \"Saint Vincent and Grenadines\", \"Seychelles\", \"Gambia\", \"Suriname\", \"Nicaragua\", \"Holy See (Vatican City State)\", \"Mauritania\", \"Papua New Guinea\", \"Western Sahara\", \"Bhutan\", \"Burundi\", \"Sao Tome and Principe\", \"South Sudan\", \"Yemen\", \"Cayman Islands\", \"Comoros\", \"Tajikistan\", \"Christmas Island\", \"Svalbard and Jan Mayen Islands\", \"Cook Islands\", \"Cocos (Keeling) Islands\", \"Nauru\", \"British Virgin Islands\", \"Tokelau\", \"American Samoa\", \"Wallis and Futuna Islands\", \"Virgin Islands, US\", \"Anguilla\", \"Vanuatu\", \"Antarctica\", \"Aruba\", \"Bermuda\", \"US Minor Outlying Islands\", \"Tuvalu\", \"Turks and Caicos Islands\", \"Falkland Islands (Malvinas)\", \"Bouvet Island\", \"British Indian Ocean Territory\", \"Tonga\", \"Turkmenistan\", \"French Southern Territories\", \"Faroe Islands\", \"Isle of Man\", \"Jersey\", \"Kiribati\", \"Pitcairn\", \"Korea (North)\", \"Macao, SAR China\", \"Marshall Islands\", \"Palau\", \"Martinique\", \"Mayotte\", \"Northern Mariana Islands\", \"Norfolk Island\", \"Niue\", \"Micronesia, Federated States of\", \"Montserrat\", \"New Caledonia\", \"Puerto Rico\", \"Hong Kong, SAR China\", \"South Georgia and the South Sandwich Islands\", \"Heard and Mcdonald Islands\", \"French Guiana\", \"Solomon Islands\", \"French Polynesia\", \"Netherlands Antilles\", \"Gibraltar\", \"Greenland\", \"Guadeloupe\", \"Guam\", \"Samoa\", \"Saint-Martin (French part)\", \"Saint-Barth\\u00e9lemy\", \"Saint Pierre and Miquelon\", \"Saint Helena\", \"R\\u00e9union\", \"Guernsey\", \"Lesotho\"], \"marker\": {\"line\": {\"color\": \"rgb(555,555,555)\", \"width\": 10}}, \"type\": \"choropleth\", \"z\": [5.481398790398096, 10.423258137507469, 13.398783411340695, 13.07557581122055, 3.394002333250164, 13.350029192145776, 2.363193187643188, 6.246314945402231, 5.528722884094785, 0.8642419877565718, 6.362728939854685, 14.644984861802909, 4.84493172935384, 5.2667213056337525, 3.5642452874315915, 3.212151394422311, 2.7134607837640856, 4.551122194513716, 11.519383892442239, 3.3012842062798358, 1.3197532635202984, 0.9371507179090361, 2.3619218679838347, 1.3570901033973413, 2.218477955630441, 5.0009617234083485, 4.068587662337662, 2.101411395713539, 5.388444059727332, 0.12054794520547946, 8.116735066119471, 4.688886072741098, 0.5931656995486783, 2.530941454596023, 8.633496846531184, 2.857955353334281, 0.8180871634686896, 1.885369532428356, 6.62221548719503, 1.0233694822055903, 0.13776213072095514, 2.6285714285714286, 1.6782196278730388, 4.85725614591594, 2.9197080291970803, 4.724029886719691, 3.5127055306427506, 2.155887230514096, 7.564469914040115, 1.673881673881674, 3.252513305736251, 4.518541601745092, 4.849884526558892, 13.945215225898258, 1.7075773745997866, 2.754399387911247, 5.0395668471470225, 10.15252621544328, 0.5288461538461539, 0.9523809523809524, 0.3547896604156108, 2.515723270440252, 0.562429696287964, 0.3575685339690107, 5.181023720349563, 2.770618556701031, 0.5305039787798408, 1.3513513513513513, 0.8996539792387545, 1.7130620985010707, 2.814814814814815, 5.729166666666666, 3.8002980625931446, 4.467912266450041, 1.1676396997497915, 3.697334479793637, 3.342128408091469, 3.296703296703297, 0.8637236084452975, 4.615384615384616, 0.21164021164021166, 1.4192139737991267, 4.298642533936651, 1.530612244897959, 1.2032085561497325, 5.160390516039052, 0.872093023255814, 3.10192023633678, 0.8968609865470852, 3.308270676691729, 3.0441400304414, 4.269293924466338, 6.333333333333334, 5.68561872909699, 1.1864406779661016, 2.0560747663551404, 2.3529411764705883, 9.31174089068826, 8.403361344537815, 0.8583690987124464, 0.6772009029345373, 1.6355140186915886, 1.411764705882353, 1.2135922330097086, 0.9803921568627451, 7.142857142857142, 2.7439024390243905, 1.5974440894568689, 2.258064516129032, 4.72972972972973, 2.380952380952381, 2.797202797202797, 3.508771929824561, 0.0, 5.426356589147287, 3.937007874015748, 3.111111111111111, 2.690582959641256, 3.8461538461538463, 3.6363636363636362, 0.641025641025641, 0.0, 0.7246376811594203, 0.0, 0.0, 4.132231404958678, 2.631578947368421, 11.214953271028037, 7.920792079207921, 3.1914893617021276, 6.976744186046512, 0.0, 0.0, 1.2345679012345678, 6.666666666666667, 4.285714285714286, 1.4705882352941175, 10.606060606060606, 13.846153846153847, 0.0, 5.263157894736842, 1.8518518518518516, 1.9607843137254901, 0.0, 0.0, 0.0, 7.142857142857142, 0.0, 0.0, 0.0, 0.0, 3.225806451612903, 10.714285714285714, 8.333333333333332, 13.043478260869565, 0.0, 5.0, 0.0, 0.0, 11.11111111111111, 11.11111111111111, 0.0, 0.0, 0.0, 0.0, 0.0, 0.0, 0.0, 0.0, 10.0, 10.0, 20.0, 0.0, 14.285714285714285, 0.0, 0.0, 0.0, 20.0, 0.0, 0.0, 0.0, null, null, null, null, null, null, null, null, null, null, null, null, null, null, null, null, null, null, null, null, null, null, null, null, null, null, null, null, null, null, null, null, null, null, null, null, null, null, null, null, null, null, null, null, null, null, null, null, null, null, null, null, null, null, null, null, null, null, null, null, null, null, null, null]}],\n",
       "                        {\"autosize\": true, \"margin\": {\"b\": 0, \"l\": 0, \"r\": 0, \"t\": 0}, \"template\": {\"data\": {\"bar\": [{\"error_x\": {\"color\": \"#2a3f5f\"}, \"error_y\": {\"color\": \"#2a3f5f\"}, \"marker\": {\"line\": {\"color\": \"#E5ECF6\", \"width\": 0.5}}, \"type\": \"bar\"}], \"barpolar\": [{\"marker\": {\"line\": {\"color\": \"#E5ECF6\", \"width\": 0.5}}, \"type\": \"barpolar\"}], \"carpet\": [{\"aaxis\": {\"endlinecolor\": \"#2a3f5f\", \"gridcolor\": \"white\", \"linecolor\": \"white\", \"minorgridcolor\": \"white\", \"startlinecolor\": \"#2a3f5f\"}, \"baxis\": {\"endlinecolor\": \"#2a3f5f\", \"gridcolor\": \"white\", \"linecolor\": \"white\", \"minorgridcolor\": \"white\", \"startlinecolor\": \"#2a3f5f\"}, \"type\": \"carpet\"}], \"choropleth\": [{\"colorbar\": {\"outlinewidth\": 0, \"ticks\": \"\"}, \"type\": \"choropleth\"}], \"contour\": [{\"colorbar\": {\"outlinewidth\": 0, \"ticks\": \"\"}, \"colorscale\": [[0.0, \"#0d0887\"], [0.1111111111111111, \"#46039f\"], [0.2222222222222222, \"#7201a8\"], [0.3333333333333333, \"#9c179e\"], [0.4444444444444444, \"#bd3786\"], [0.5555555555555556, \"#d8576b\"], [0.6666666666666666, \"#ed7953\"], [0.7777777777777778, \"#fb9f3a\"], [0.8888888888888888, \"#fdca26\"], [1.0, \"#f0f921\"]], \"type\": \"contour\"}], \"contourcarpet\": [{\"colorbar\": {\"outlinewidth\": 0, \"ticks\": \"\"}, \"type\": \"contourcarpet\"}], \"heatmap\": [{\"colorbar\": {\"outlinewidth\": 0, \"ticks\": \"\"}, \"colorscale\": [[0.0, \"#0d0887\"], [0.1111111111111111, \"#46039f\"], [0.2222222222222222, \"#7201a8\"], [0.3333333333333333, \"#9c179e\"], [0.4444444444444444, \"#bd3786\"], [0.5555555555555556, \"#d8576b\"], [0.6666666666666666, \"#ed7953\"], [0.7777777777777778, \"#fb9f3a\"], [0.8888888888888888, \"#fdca26\"], [1.0, \"#f0f921\"]], \"type\": \"heatmap\"}], \"heatmapgl\": [{\"colorbar\": {\"outlinewidth\": 0, \"ticks\": \"\"}, \"colorscale\": [[0.0, \"#0d0887\"], [0.1111111111111111, \"#46039f\"], [0.2222222222222222, \"#7201a8\"], [0.3333333333333333, \"#9c179e\"], [0.4444444444444444, \"#bd3786\"], [0.5555555555555556, \"#d8576b\"], [0.6666666666666666, \"#ed7953\"], [0.7777777777777778, \"#fb9f3a\"], [0.8888888888888888, \"#fdca26\"], [1.0, \"#f0f921\"]], \"type\": \"heatmapgl\"}], \"histogram\": [{\"marker\": {\"colorbar\": {\"outlinewidth\": 0, \"ticks\": \"\"}}, \"type\": \"histogram\"}], \"histogram2d\": [{\"colorbar\": {\"outlinewidth\": 0, \"ticks\": \"\"}, \"colorscale\": [[0.0, \"#0d0887\"], [0.1111111111111111, \"#46039f\"], [0.2222222222222222, \"#7201a8\"], [0.3333333333333333, \"#9c179e\"], [0.4444444444444444, \"#bd3786\"], [0.5555555555555556, \"#d8576b\"], [0.6666666666666666, \"#ed7953\"], [0.7777777777777778, \"#fb9f3a\"], [0.8888888888888888, \"#fdca26\"], [1.0, \"#f0f921\"]], \"type\": \"histogram2d\"}], \"histogram2dcontour\": [{\"colorbar\": {\"outlinewidth\": 0, \"ticks\": \"\"}, \"colorscale\": [[0.0, \"#0d0887\"], [0.1111111111111111, \"#46039f\"], [0.2222222222222222, \"#7201a8\"], [0.3333333333333333, \"#9c179e\"], [0.4444444444444444, \"#bd3786\"], [0.5555555555555556, \"#d8576b\"], [0.6666666666666666, \"#ed7953\"], [0.7777777777777778, \"#fb9f3a\"], [0.8888888888888888, \"#fdca26\"], [1.0, \"#f0f921\"]], \"type\": \"histogram2dcontour\"}], \"mesh3d\": [{\"colorbar\": {\"outlinewidth\": 0, \"ticks\": \"\"}, \"type\": \"mesh3d\"}], \"parcoords\": [{\"line\": {\"colorbar\": {\"outlinewidth\": 0, \"ticks\": \"\"}}, \"type\": \"parcoords\"}], \"pie\": [{\"automargin\": true, \"type\": \"pie\"}], \"scatter\": [{\"marker\": {\"colorbar\": {\"outlinewidth\": 0, \"ticks\": \"\"}}, \"type\": \"scatter\"}], \"scatter3d\": [{\"line\": {\"colorbar\": {\"outlinewidth\": 0, \"ticks\": \"\"}}, \"marker\": {\"colorbar\": {\"outlinewidth\": 0, \"ticks\": \"\"}}, \"type\": \"scatter3d\"}], \"scattercarpet\": [{\"marker\": {\"colorbar\": {\"outlinewidth\": 0, \"ticks\": \"\"}}, \"type\": \"scattercarpet\"}], \"scattergeo\": [{\"marker\": {\"colorbar\": {\"outlinewidth\": 0, \"ticks\": \"\"}}, \"type\": \"scattergeo\"}], \"scattergl\": [{\"marker\": {\"colorbar\": {\"outlinewidth\": 0, \"ticks\": \"\"}}, \"type\": \"scattergl\"}], \"scattermapbox\": [{\"marker\": {\"colorbar\": {\"outlinewidth\": 0, \"ticks\": \"\"}}, \"type\": \"scattermapbox\"}], \"scatterpolar\": [{\"marker\": {\"colorbar\": {\"outlinewidth\": 0, \"ticks\": \"\"}}, \"type\": \"scatterpolar\"}], \"scatterpolargl\": [{\"marker\": {\"colorbar\": {\"outlinewidth\": 0, \"ticks\": \"\"}}, \"type\": \"scatterpolargl\"}], \"scatterternary\": [{\"marker\": {\"colorbar\": {\"outlinewidth\": 0, \"ticks\": \"\"}}, \"type\": \"scatterternary\"}], \"surface\": [{\"colorbar\": {\"outlinewidth\": 0, \"ticks\": \"\"}, \"colorscale\": [[0.0, \"#0d0887\"], [0.1111111111111111, \"#46039f\"], [0.2222222222222222, \"#7201a8\"], [0.3333333333333333, \"#9c179e\"], [0.4444444444444444, \"#bd3786\"], [0.5555555555555556, \"#d8576b\"], [0.6666666666666666, \"#ed7953\"], [0.7777777777777778, \"#fb9f3a\"], [0.8888888888888888, \"#fdca26\"], [1.0, \"#f0f921\"]], \"type\": \"surface\"}], \"table\": [{\"cells\": {\"fill\": {\"color\": \"#EBF0F8\"}, \"line\": {\"color\": \"white\"}}, \"header\": {\"fill\": {\"color\": \"#C8D4E3\"}, \"line\": {\"color\": \"white\"}}, \"type\": \"table\"}]}, \"layout\": {\"annotationdefaults\": {\"arrowcolor\": \"#2a3f5f\", \"arrowhead\": 0, \"arrowwidth\": 1}, \"coloraxis\": {\"colorbar\": {\"outlinewidth\": 0, \"ticks\": \"\"}}, \"colorscale\": {\"diverging\": [[0, \"#8e0152\"], [0.1, \"#c51b7d\"], [0.2, \"#de77ae\"], [0.3, \"#f1b6da\"], [0.4, \"#fde0ef\"], [0.5, \"#f7f7f7\"], [0.6, \"#e6f5d0\"], [0.7, \"#b8e186\"], [0.8, \"#7fbc41\"], [0.9, \"#4d9221\"], [1, \"#276419\"]], \"sequential\": [[0.0, \"#0d0887\"], [0.1111111111111111, \"#46039f\"], [0.2222222222222222, \"#7201a8\"], [0.3333333333333333, \"#9c179e\"], [0.4444444444444444, \"#bd3786\"], [0.5555555555555556, \"#d8576b\"], [0.6666666666666666, \"#ed7953\"], [0.7777777777777778, \"#fb9f3a\"], [0.8888888888888888, \"#fdca26\"], [1.0, \"#f0f921\"]], \"sequentialminus\": [[0.0, \"#0d0887\"], [0.1111111111111111, \"#46039f\"], [0.2222222222222222, \"#7201a8\"], [0.3333333333333333, \"#9c179e\"], [0.4444444444444444, \"#bd3786\"], [0.5555555555555556, \"#d8576b\"], [0.6666666666666666, \"#ed7953\"], [0.7777777777777778, \"#fb9f3a\"], [0.8888888888888888, \"#fdca26\"], [1.0, \"#f0f921\"]]}, \"colorway\": [\"#636efa\", \"#EF553B\", \"#00cc96\", \"#ab63fa\", \"#FFA15A\", \"#19d3f3\", \"#FF6692\", \"#B6E880\", \"#FF97FF\", \"#FECB52\"], \"font\": {\"color\": \"#2a3f5f\"}, \"geo\": {\"bgcolor\": \"white\", \"lakecolor\": \"white\", \"landcolor\": \"#E5ECF6\", \"showlakes\": true, \"showland\": true, \"subunitcolor\": \"white\"}, \"hoverlabel\": {\"align\": \"left\"}, \"hovermode\": \"closest\", \"mapbox\": {\"style\": \"light\"}, \"paper_bgcolor\": \"white\", \"plot_bgcolor\": \"#E5ECF6\", \"polar\": {\"angularaxis\": {\"gridcolor\": \"white\", \"linecolor\": \"white\", \"ticks\": \"\"}, \"bgcolor\": \"#E5ECF6\", \"radialaxis\": {\"gridcolor\": \"white\", \"linecolor\": \"white\", \"ticks\": \"\"}}, \"scene\": {\"xaxis\": {\"backgroundcolor\": \"#E5ECF6\", \"gridcolor\": \"white\", \"gridwidth\": 2, \"linecolor\": \"white\", \"showbackground\": true, \"ticks\": \"\", \"zerolinecolor\": \"white\"}, \"yaxis\": {\"backgroundcolor\": \"#E5ECF6\", \"gridcolor\": \"white\", \"gridwidth\": 2, \"linecolor\": \"white\", \"showbackground\": true, \"ticks\": \"\", \"zerolinecolor\": \"white\"}, \"zaxis\": {\"backgroundcolor\": \"#E5ECF6\", \"gridcolor\": \"white\", \"gridwidth\": 2, \"linecolor\": \"white\", \"showbackground\": true, \"ticks\": \"\", \"zerolinecolor\": \"white\"}}, \"shapedefaults\": {\"line\": {\"color\": \"#2a3f5f\"}}, \"ternary\": {\"aaxis\": {\"gridcolor\": \"white\", \"linecolor\": \"white\", \"ticks\": \"\"}, \"baxis\": {\"gridcolor\": \"white\", \"linecolor\": \"white\", \"ticks\": \"\"}, \"bgcolor\": \"#E5ECF6\", \"caxis\": {\"gridcolor\": \"white\", \"linecolor\": \"white\", \"ticks\": \"\"}}, \"title\": {\"x\": 0.05}, \"xaxis\": {\"automargin\": true, \"gridcolor\": \"white\", \"linecolor\": \"white\", \"ticks\": \"\", \"title\": {\"standoff\": 15}, \"zerolinecolor\": \"white\", \"zerolinewidth\": 2}, \"yaxis\": {\"automargin\": true, \"gridcolor\": \"white\", \"linecolor\": \"white\", \"ticks\": \"\", \"title\": {\"standoff\": 15}, \"zerolinecolor\": \"white\", \"zerolinewidth\": 2}}}},\n",
       "                        {\"responsive\": true}\n",
       "                    ).then(function(){\n",
       "                            \n",
       "var gd = document.getElementById('50c38a77-ef72-4bc1-9943-a6a97a75bb67');\n",
       "var x = new MutationObserver(function (mutations, observer) {{\n",
       "        var display = window.getComputedStyle(gd).display;\n",
       "        if (!display || display === 'none') {{\n",
       "            console.log([gd, 'removed!']);\n",
       "            Plotly.purge(gd);\n",
       "            observer.disconnect();\n",
       "        }}\n",
       "}});\n",
       "\n",
       "// Listen for the removal of the full notebook cells\n",
       "var notebookContainer = gd.closest('#notebook-container');\n",
       "if (notebookContainer) {{\n",
       "    x.observe(notebookContainer, {childList: true});\n",
       "}}\n",
       "\n",
       "// Listen for the clearing of the current output cell\n",
       "var outputEl = gd.closest('.output');\n",
       "if (outputEl) {{\n",
       "    x.observe(outputEl, {childList: true});\n",
       "}}\n",
       "\n",
       "                        })\n",
       "                };\n",
       "                });\n",
       "            </script>\n",
       "        </div>"
      ]
     },
     "metadata": {},
     "output_type": "display_data"
    }
   ],
   "source": [
    "#Total confirmed world map\n",
    "data = [ dict(\n",
    " type='choropleth',\n",
    " locations = df['Country'],\n",
    " autocolorscale = True,\n",
    " z = df['TotalConfirmed'],\n",
    " locationmode = 'country names',\n",
    " marker = dict(\n",
    " line = dict (\n",
    " color = 'rgb(155,155,155)',\n",
    " width = 4,\n",
    " )  ),\n",
    " colorbar = dict(\n",
    " title = 'Number of cases'\n",
    " )\n",
    " ) ]\n",
    "layout = dict(\n",
    " autosize=True,\n",
    "margin={\"r\":0,\"t\":0,\"l\":0,\"b\":0}\n",
    "    \n",
    ")\n",
    "fig = go.Figure(data = data, layout = layout)\n",
    "\n",
    "# Active cases world map\n",
    "\n",
    "data1 = [ dict(\n",
    " type='choropleth',\n",
    " locations = df['Country'],\n",
    " autocolorscale = True,\n",
    " z = df['Active Cases'],\n",
    " locationmode = 'country names',\n",
    " marker = dict(\n",
    " line = dict (\n",
    " color = 'rgb(255,255,255)',\n",
    " width = 10,\n",
    " )  ),\n",
    " colorbar = dict(\n",
    " title = 'Active cases'\n",
    " )\n",
    " ) ]\n",
    "layout = dict(\n",
    " autosize=True,\n",
    " margin={\"r\":0,\"t\":0,\"l\":0,\"b\":0}   \n",
    ")\n",
    "\n",
    "\n",
    "\n",
    "\n",
    "fig1_ = go.Figure(data = data1, layout = layout)\n",
    "\n",
    "#Closed cases world map\n",
    "data2 = [ dict(\n",
    " type='choropleth',\n",
    " locations = df['Country'],\n",
    " autocolorscale = True,\n",
    " z =df['Closed Cases'],\n",
    " locationmode = 'country names',\n",
    " marker = dict(\n",
    " line = dict (\n",
    " color = 'rgb(245, 197, 66)',\n",
    " width = 10,\n",
    " )  ),\n",
    " colorbar = dict(\n",
    " title = 'Closed Cases'\n",
    " )\n",
    " ) ]\n",
    "layout = dict(\n",
    " autosize=True,\n",
    " margin={\"r\":0,\"t\":0,\"l\":0,\"b\":0}   \n",
    ")\n",
    "fig2_ = go.Figure(data = data2, layout = layout)\n",
    "\n",
    "#Recovery Rate World Map\n",
    "\n",
    "data3 = [ dict(\n",
    " type='choropleth',\n",
    " locations = df['Country'],\n",
    " autocolorscale = True,\n",
    " z =df['Recovery Rate'],\n",
    " locationmode = 'country names',\n",
    " marker = dict(\n",
    " line = dict (\n",
    " color = 'rgb(455,455,455)',\n",
    " width = 10,\n",
    " )  ),\n",
    " colorbar = dict(\n",
    " title = 'Recovery Rate (%)'\n",
    " )\n",
    " ) ]\n",
    "layout = dict(\n",
    " autosize=True,\n",
    " margin={\"r\":0,\"t\":0,\"l\":0,\"b\":0}   \n",
    ")\n",
    "fig3_ = go.Figure(data = data3, layout = layout)\n",
    "\n",
    "\n",
    "#Case fatality rate world map\n",
    "\n",
    "data4 = [ dict(\n",
    " type='choropleth',\n",
    " locations = df['Country'],\n",
    " autocolorscale = True,\n",
    " z =df['Case Fatality Rate'],\n",
    " locationmode = 'country names',\n",
    " marker = dict(\n",
    " line = dict (\n",
    " color = 'rgb(555,555,555)',\n",
    " width = 10,\n",
    " )  ),\n",
    " colorbar = dict(\n",
    " title = 'Case Fatality Rate (%)'\n",
    " )\n",
    " ) ]\n",
    "layout = dict(\n",
    "    autosize=True,\n",
    "    margin={\"r\":0,\"t\":0,\"l\":0,\"b\":0}\n",
    ")\n",
    "fig4_ = go.Figure(data = data4, layout = layout)\n",
    "fig4_.show()\n"
   ]
  },
  {
   "cell_type": "code",
   "execution_count": 21,
   "metadata": {},
   "outputs": [],
   "source": [
    "#Style sheet\n",
    "external_stylesheets = ['https://codepen.io/chriddyp/pen/bWLwgP.css']\n",
    "\n",
    "# App\n",
    "app = dash.Dash(__name__, external_stylesheets=external_stylesheets)\n",
    "app.config['suppress_callback_exceptions'] = True\n",
    "app.layout = html.Div(children=[\n",
    "        #header\n",
    "    \n",
    "    html.Div([\n",
    "        html.Div([\n",
    "           \n",
    "        ], className=\"four columns\"),\n",
    "        \n",
    "\n",
    "        html.Div([\n",
    "            html.H3('Latest Covid 19 Update', style={\n",
    "                                'fontFamily': 'Open Sans',\n",
    "                                'textAlign': 'center',\n",
    "                            }),\n",
    "             \n",
    "        ], className=\"four columns\"),\n",
    "        \n",
    "        html.Div([\n",
    "            html.H3('#StayAtHome', style={\n",
    "                                'fontFamily': 'Open Sans',\n",
    "                                'textAlign': 'right',\n",
    "                            }),\n",
    "            \n",
    "            \n",
    "        ], className=\"four columns\")\n",
    "    ], className=\"row\"),\n",
    "    \n",
    "    dcc.Tabs(id='tabs-example', value='tab', children=[\n",
    "        dcc.Tab(label='Global Map', value='tab-1'),\n",
    "        dcc.Tab(label='South African cases', value='tab-2'),\n",
    "        dcc.Tab(label='Analysis', value='tab-3'),\n",
    "    ]),\n",
    "    html.Div(id='tabs-example-content')\n",
    "])"
   ]
  },
  {
   "cell_type": "code",
   "execution_count": 22,
   "metadata": {},
   "outputs": [],
   "source": [
    "@app.callback(Output('tabs-example-content', 'children'),\n",
    "              [Input('tabs-example', 'value')])\n",
    "def render_content(tab):\n",
    "\n",
    "    if tab == 'tab-1':\n",
    "        return html.Div([\n",
    "            html.Div([\n",
    "\n",
    "                # VISUALISATIONS\n",
    "\n",
    "                html.Div([\n",
    "                      dcc.Graph(\n",
    "                          id='figure',\n",
    "                            figure=go.Figure(fig1)\n",
    "                          \n",
    "                        ),\n",
    "                html.Div([\n",
    "                    dash_table.DataTable(\n",
    "                            id='table',\n",
    "                            data=df_tot_cases.to_dict(\"rows\"),\n",
    "                            columns=[{\"name\": i, \"id\": i}\n",
    "                                     for i in df_tot_cases.columns],\n",
    "                            style_table=style_table,\n",
    "                            style_cell=style_cell,\n",
    "                            style_data_conditional=style_data_conditional,\n",
    "                            style_header=style_header,\n",
    "                            style_cell_conditional=style_cell_conditional,\n",
    "                            filter_action=\"native\"\n",
    "                        )\n",
    "                ])\n",
    "                    \n",
    "            ], className=\"row\"),\n",
    "\n",
    "                ], className=\"three columns\"),\n",
    "            \n",
    "            html.Div([\n",
    "                    dcc.Graph(\n",
    "                          id='figure',\n",
    "                            figure=go.Figure(fig2)\n",
    "                        ),\n",
    "                    html.Div([\n",
    "                        dcc.Tabs(id='tabs-examples', value='tabs', children=[\n",
    "                            dcc.Tab(label='Total Cases', value='tab-1.'),\n",
    "                            dcc.Tab(label='Active Cases', value='tab-2.'),\n",
    "                            dcc.Tab(label='Solved Cases', value='tab-3.'),\n",
    "                            dcc.Tab(label='Recovery Rate', value='tab-4.'),\n",
    "                            dcc.Tab(label='Case Fatality Rate', value='tab-5.')\n",
    "                        ], colors={\n",
    "                                \"border\": \"white\",\n",
    "                                \"primary\": \"gold\",\n",
    "                                \"background\": \"cornsilk\"\n",
    "                            }),\n",
    "                     html.Div(id='tabs-example-contents'),\n",
    "            ], className=\"row\"),\n",
    "                ], className=\"six columns\"),\n",
    "\n",
    "                html.Div([\n",
    "                     dcc.Graph(\n",
    "                          id='figure',\n",
    "                            figure=go.Figure(fig3)\n",
    "                        ),\n",
    "\n",
    "\n",
    "                    html.Div([\n",
    "                        dcc.Graph(\n",
    "                          id='figure',\n",
    "                            figure=go.Figure(fig_line)\n",
    "                        ),\n",
    "                        \n",
    "                        \n",
    "                       \n",
    "            ], className=\"row\")\n",
    "\n",
    "                ], className=\"three columns\"),\n",
    "            ], className=\"row\")\n",
    "\n",
    "            # fOOTER\n",
    "        html.Div([\n",
    "                html.Div([\n",
    "                    html.H3('Footer'),\n",
    "\n",
    "                ], className=\"six columns\"),\n",
    "\n",
    "                html.Div([\n",
    "                    html.H3('Footer'),\n",
    "\n",
    "                ], className=\"six columns\"),\n",
    "            ], className=\"row\")\n",
    "  \n",
    "\n",
    "    elif tab == 'tab-2':\n",
    "        return html.P(\"You got it T\")\n",
    "    else:\n",
    "        return html.H1('O ntja saan!!!')\n",
    "\n",
    "@app.callback(Output('tabs-example-contents', 'children'),\n",
    "              [Input('tabs-examples', 'value')])\n",
    "def render_content(tabs):\n",
    "    \n",
    "    if tabs == 'tab-1.':\n",
    "        return dcc.Graph(\n",
    "\n",
    "            id='figure',\n",
    "            figure=\n",
    "              go.Figure(fig)\n",
    "            )\n",
    "    elif tabs == 'tab-2.':   \n",
    "        return dcc.Graph(\n",
    "\n",
    "            id='figure',\n",
    "            figure=\n",
    "              go.Figure(fig1_)\n",
    "            )\n",
    "           \n",
    "    elif tabs == 'tab-3.':   \n",
    "        return dcc.Graph(\n",
    "\n",
    "            id='figure',\n",
    "            figure=\n",
    "              go.Figure(fig2_)\n",
    "            )\n",
    "    elif tabs == 'tab-4.':\n",
    "         return dcc.Graph(\n",
    "\n",
    "                 id='figure',\n",
    "            figure=\n",
    "              go.Figure(fig3_)\n",
    "            )\n",
    "    else:\n",
    "        return dcc.Graph(\n",
    "\n",
    "            id='figure',\n",
    "            figure=\n",
    "              go.Figure(fig4_)\n",
    "            )\n",
    "\n",
    "\n",
    "\n",
    "# if __name__ == '__main__':\n",
    "#     app.run_server()\n"
   ]
  },
  {
   "cell_type": "code",
   "execution_count": null,
   "metadata": {},
   "outputs": [],
   "source": []
  },
  {
   "cell_type": "code",
   "execution_count": 23,
   "metadata": {},
   "outputs": [],
   "source": [
    "# # Style sheet\n",
    "# external_stylesheets = ['https://codepen.io/chriddyp/pen/bWLwgP.css']\n",
    "\n",
    "# # App\n",
    "# app = dash.Dash(__name__, external_stylesheets=external_stylesheets)\n",
    "\n",
    "# # layout\n",
    "# app.layout = html.Div([\n",
    "    \n",
    "#     #header\n",
    "    \n",
    "#     html.Div([\n",
    "#         html.Div([\n",
    "#             html.H3('Header'),\n",
    "            \n",
    "#         ], className=\"four columns\"),\n",
    "        \n",
    "\n",
    "#         html.Div([\n",
    "#             html.H3('header'),\n",
    "             \n",
    "#         ], className=\"four columns\"),\n",
    "        \n",
    "#         html.Div([\n",
    "#             html.H3('header'),\n",
    "            \n",
    "#         ], className=\"four columns\")\n",
    "#     ], className=\"row\"),\n",
    "    \n",
    "        \n",
    "#     #NavBar\n",
    "       \n",
    "#      html.Div([\n",
    "#         html.Div([\n",
    "#             html.H3('nav-bar'),\n",
    "           \n",
    "#         ], className=\"four columns\"),\n",
    "#         html.Div([\n",
    "#             html.H3('nav-bar'),\n",
    "           \n",
    "#         ], className=\"four columns\"),\n",
    "\n",
    "#         html.Div([\n",
    "#             html.H3('nav-bar'),\n",
    "            \n",
    "#         ], className=\"four columns\"),\n",
    "#     ], className=\"row\"),\n",
    "    \n",
    "#       #Band\n",
    "#      html.Div([\n",
    "       \n",
    "#             html.H3('band')\n",
    "         \n",
    "#     ], className=\"row\"),\n",
    "    \n",
    "#     #VISUALISATIONS\n",
    "#      html.Div([\n",
    "#         html.Div([\n",
    "#             dcc.Graph(                    \n",
    "#                 id='figure',\n",
    "#                 figure=\n",
    "#                   go.Figure(fig1)\n",
    "#             ),\n",
    "#             html.Div([\n",
    "       \n",
    "#                 html.H3('Total confirmed cases')\n",
    "         \n",
    "#             ], className=\"row\"),\n",
    "#             html.Div([\n",
    "       \n",
    "#             html.H3('Cases by country')\n",
    "         \n",
    "#     ], className=\"row\"),\n",
    "            \n",
    "#         ], className=\"two columns\"),\n",
    "#          html.Div([\n",
    "#             html.H3('visualisation'),\n",
    "#             html.Div([\n",
    "       \n",
    "#             html.H3('World Map')\n",
    "         \n",
    "#     ], className=\"row\"),\n",
    "            \n",
    "#         ], className=\"six columns\"),\n",
    "\n",
    "#         html.Div([\n",
    "#             html.H3('visualisation'),\n",
    "            \n",
    "            \n",
    "#             html.Div([\n",
    "#                 html.Div([\n",
    "#                     html.H3('Total Recoveries'),\n",
    "                    \n",
    "#                     ], className=\"six columns\"),\n",
    "\n",
    "#                 html.Div([\n",
    "#                     html.H3('Total Deaths'),\n",
    "\n",
    "#                     ], className=\"six columns\"),\n",
    "#     ], className=\"row\")\n",
    "            \n",
    "#         ], className=\"four columns\"),\n",
    "#     ], className=\"row\"),\n",
    "    \n",
    "#     #fOOTER\n",
    "#      html.Div([\n",
    "#         html.Div([\n",
    "#             html.H3('Footer'),\n",
    "            \n",
    "#         ], className=\"six columns\"),\n",
    "\n",
    "#         html.Div([\n",
    "#             html.H3('Footer'),\n",
    "            \n",
    "#         ], className=\"six columns\"),\n",
    "#     ], className=\"row\"),\n",
    "    \n",
    "# ])\n",
    "\n",
    "# if __name__ == '__main__':\n",
    "#     app.run_server()\n"
   ]
  },
  {
   "cell_type": "code",
   "execution_count": 453,
   "metadata": {},
   "outputs": [
    {
     "data": {
      "text/html": [
       "<div>\n",
       "<style scoped>\n",
       "    .dataframe tbody tr th:only-of-type {\n",
       "        vertical-align: middle;\n",
       "    }\n",
       "\n",
       "    .dataframe tbody tr th {\n",
       "        vertical-align: top;\n",
       "    }\n",
       "\n",
       "    .dataframe thead th {\n",
       "        text-align: right;\n",
       "    }\n",
       "</style>\n",
       "<table border=\"1\" class=\"dataframe\">\n",
       "  <thead>\n",
       "    <tr style=\"text-align: right;\">\n",
       "      <th></th>\n",
       "      <th>date</th>\n",
       "      <th>Most likely Rt</th>\n",
       "      <th>Possible low Rt</th>\n",
       "      <th>Possible High Rt</th>\n",
       "    </tr>\n",
       "  </thead>\n",
       "  <tbody>\n",
       "    <tr>\n",
       "      <th>0</th>\n",
       "      <td>2020-03-07</td>\n",
       "      <td>2.00</td>\n",
       "      <td>0.34</td>\n",
       "      <td>6.43</td>\n",
       "    </tr>\n",
       "    <tr>\n",
       "      <th>1</th>\n",
       "      <td>2020-03-08</td>\n",
       "      <td>1.88</td>\n",
       "      <td>0.38</td>\n",
       "      <td>5.01</td>\n",
       "    </tr>\n",
       "    <tr>\n",
       "      <th>2</th>\n",
       "      <td>2020-03-09</td>\n",
       "      <td>2.17</td>\n",
       "      <td>0.51</td>\n",
       "      <td>4.99</td>\n",
       "    </tr>\n",
       "    <tr>\n",
       "      <th>3</th>\n",
       "      <td>2020-03-10</td>\n",
       "      <td>2.28</td>\n",
       "      <td>0.61</td>\n",
       "      <td>4.59</td>\n",
       "    </tr>\n",
       "    <tr>\n",
       "      <th>4</th>\n",
       "      <td>2020-03-11</td>\n",
       "      <td>2.50</td>\n",
       "      <td>0.83</td>\n",
       "      <td>4.43</td>\n",
       "    </tr>\n",
       "  </tbody>\n",
       "</table>\n",
       "</div>"
      ],
      "text/plain": [
       "         date  Most likely Rt  Possible low Rt  Possible High Rt\n",
       "0  2020-03-07            2.00             0.34              6.43\n",
       "1  2020-03-08            1.88             0.38              5.01\n",
       "2  2020-03-09            2.17             0.51              4.99\n",
       "3  2020-03-10            2.28             0.61              4.59\n",
       "4  2020-03-11            2.50             0.83              4.43"
      ]
     },
     "execution_count": 453,
     "metadata": {},
     "output_type": "execute_result"
    }
   ],
   "source": [
    "df_rt = pd.read_csv('data-CiK32.csv')\n",
    "df_rt.head()\n",
    "                \n",
    "            "
   ]
  },
  {
   "cell_type": "code",
   "execution_count": 466,
   "metadata": {},
   "outputs": [
    {
     "data": {
      "application/vnd.plotly.v1+json": {
       "config": {
        "plotlyServerURL": "https://plot.ly"
       },
       "data": [
        {
         "name": "Possible low Rt",
         "type": "scatter",
         "x": [
          "2020-03-07",
          "2020-03-08",
          "2020-03-09",
          "2020-03-10",
          "2020-03-11",
          "2020-03-12",
          "2020-03-13",
          "2020-03-14",
          "2020-03-15",
          "2020-03-16",
          "2020-03-17",
          "2020-03-18",
          "2020-03-19",
          "2020-03-20",
          "2020-03-21",
          "2020-03-22",
          "2020-03-23",
          "2020-03-24",
          "2020-03-25",
          "2020-03-26",
          "2020-03-27",
          "2020-03-28",
          "2020-03-29",
          "2020-03-30",
          "2020-03-31",
          "2020-04-01",
          "2020-04-02",
          "2020-04-03",
          "2020-04-04",
          "2020-04-05",
          "2020-04-06",
          "2020-04-07",
          "2020-04-08",
          "2020-04-09",
          "2020-04-10",
          "2020-04-11",
          "2020-04-12",
          "2020-04-13",
          "2020-04-14",
          "2020-04-15",
          "2020-04-16",
          "2020-04-17",
          "2020-04-18",
          "2020-04-19",
          "2020-04-20"
         ],
         "y": [
          0.34,
          0.38,
          0.51,
          0.61,
          0.8300000000000001,
          0.96,
          0.94,
          0.6900000000000001,
          1.01,
          1.09,
          1.24,
          1.29,
          1.28,
          1.37,
          1.5,
          1.58,
          1.68,
          1.73,
          1.59,
          1.45,
          1.22,
          1,
          0.77,
          0.53,
          0.26,
          0.11,
          0.02,
          0.01,
          0.13,
          0.39,
          0.65,
          0.8300000000000001,
          0.8200000000000001,
          0.84,
          0.84,
          0.88,
          0.91,
          0.96,
          0.98,
          1.06,
          1.08,
          1.1,
          1.1,
          1.09,
          0.99
         ]
        },
        {
         "name": "Most likely Rt",
         "type": "scatter",
         "x": [
          "2020-03-07",
          "2020-03-08",
          "2020-03-09",
          "2020-03-10",
          "2020-03-11",
          "2020-03-12",
          "2020-03-13",
          "2020-03-14",
          "2020-03-15",
          "2020-03-16",
          "2020-03-17",
          "2020-03-18",
          "2020-03-19",
          "2020-03-20",
          "2020-03-21",
          "2020-03-22",
          "2020-03-23",
          "2020-03-24",
          "2020-03-25",
          "2020-03-26",
          "2020-03-27",
          "2020-03-28",
          "2020-03-29",
          "2020-03-30",
          "2020-03-31",
          "2020-04-01",
          "2020-04-02",
          "2020-04-03",
          "2020-04-04",
          "2020-04-05",
          "2020-04-06",
          "2020-04-07",
          "2020-04-08",
          "2020-04-09",
          "2020-04-10",
          "2020-04-11",
          "2020-04-12",
          "2020-04-13",
          "2020-04-14",
          "2020-04-15",
          "2020-04-16",
          "2020-04-17",
          "2020-04-18",
          "2020-04-19",
          "2020-04-20"
         ],
         "y": [
          2,
          1.88,
          2.17,
          2.28,
          2.5,
          2.45,
          2.2,
          2.04,
          2.18,
          2.11,
          2.12,
          2.06,
          1.96,
          1.96,
          2.03,
          2.03,
          2.08,
          2.07,
          1.9,
          1.73,
          1.5,
          1.25,
          1.03,
          0.79,
          0.54,
          0.41,
          0.29,
          0.32,
          0.5,
          0.78,
          1.03,
          1.22,
          1.19,
          1.2,
          1.2,
          1.23,
          1.24,
          1.28,
          1.29,
          1.37,
          1.36,
          1.38,
          1.35,
          1.33,
          1.25
         ]
        },
        {
         "name": "Possible High Rt",
         "type": "scatter",
         "x": [
          "2020-03-07",
          "2020-03-08",
          "2020-03-09",
          "2020-03-10",
          "2020-03-11",
          "2020-03-12",
          "2020-03-13",
          "2020-03-14",
          "2020-03-15",
          "2020-03-16",
          "2020-03-17",
          "2020-03-18",
          "2020-03-19",
          "2020-03-20",
          "2020-03-21",
          "2020-03-22",
          "2020-03-23",
          "2020-03-24",
          "2020-03-25",
          "2020-03-26",
          "2020-03-27",
          "2020-03-28",
          "2020-03-29",
          "2020-03-30",
          "2020-03-31",
          "2020-04-01",
          "2020-04-02",
          "2020-04-03",
          "2020-04-04",
          "2020-04-05",
          "2020-04-06",
          "2020-04-07",
          "2020-04-08",
          "2020-04-09",
          "2020-04-10",
          "2020-04-11",
          "2020-04-12",
          "2020-04-13",
          "2020-04-14",
          "2020-04-15",
          "2020-04-16",
          "2020-04-17",
          "2020-04-18",
          "2020-04-19",
          "2020-04-20"
         ],
         "y": [
          6.43,
          5.01,
          4.99,
          4.59,
          4.43,
          4.04,
          3.56,
          3.33,
          3.31,
          3.09,
          2.98,
          2.81,
          2.63,
          2.57,
          2.5500000000000003,
          2.51,
          2.49,
          2.44,
          2.22,
          2.03,
          1.76,
          1.53,
          1.3,
          1.07,
          0.8300000000000001,
          0.71,
          0.6,
          0.64,
          0.89,
          1.19,
          1.45,
          1.6,
          1.58,
          1.58,
          1.56,
          1.58,
          1.59,
          1.62,
          1.61,
          1.66,
          1.66,
          1.65,
          1.63,
          1.6,
          1.48
         ]
        }
       ],
       "layout": {
        "hovermode": "x",
        "template": {
         "data": {
          "bar": [
           {
            "error_x": {
             "color": "#2a3f5f"
            },
            "error_y": {
             "color": "#2a3f5f"
            },
            "marker": {
             "line": {
              "color": "#E5ECF6",
              "width": 0.5
             }
            },
            "type": "bar"
           }
          ],
          "barpolar": [
           {
            "marker": {
             "line": {
              "color": "#E5ECF6",
              "width": 0.5
             }
            },
            "type": "barpolar"
           }
          ],
          "carpet": [
           {
            "aaxis": {
             "endlinecolor": "#2a3f5f",
             "gridcolor": "white",
             "linecolor": "white",
             "minorgridcolor": "white",
             "startlinecolor": "#2a3f5f"
            },
            "baxis": {
             "endlinecolor": "#2a3f5f",
             "gridcolor": "white",
             "linecolor": "white",
             "minorgridcolor": "white",
             "startlinecolor": "#2a3f5f"
            },
            "type": "carpet"
           }
          ],
          "choropleth": [
           {
            "colorbar": {
             "outlinewidth": 0,
             "ticks": ""
            },
            "type": "choropleth"
           }
          ],
          "contour": [
           {
            "colorbar": {
             "outlinewidth": 0,
             "ticks": ""
            },
            "colorscale": [
             [
              0,
              "#0d0887"
             ],
             [
              0.1111111111111111,
              "#46039f"
             ],
             [
              0.2222222222222222,
              "#7201a8"
             ],
             [
              0.3333333333333333,
              "#9c179e"
             ],
             [
              0.4444444444444444,
              "#bd3786"
             ],
             [
              0.5555555555555556,
              "#d8576b"
             ],
             [
              0.6666666666666666,
              "#ed7953"
             ],
             [
              0.7777777777777778,
              "#fb9f3a"
             ],
             [
              0.8888888888888888,
              "#fdca26"
             ],
             [
              1,
              "#f0f921"
             ]
            ],
            "type": "contour"
           }
          ],
          "contourcarpet": [
           {
            "colorbar": {
             "outlinewidth": 0,
             "ticks": ""
            },
            "type": "contourcarpet"
           }
          ],
          "heatmap": [
           {
            "colorbar": {
             "outlinewidth": 0,
             "ticks": ""
            },
            "colorscale": [
             [
              0,
              "#0d0887"
             ],
             [
              0.1111111111111111,
              "#46039f"
             ],
             [
              0.2222222222222222,
              "#7201a8"
             ],
             [
              0.3333333333333333,
              "#9c179e"
             ],
             [
              0.4444444444444444,
              "#bd3786"
             ],
             [
              0.5555555555555556,
              "#d8576b"
             ],
             [
              0.6666666666666666,
              "#ed7953"
             ],
             [
              0.7777777777777778,
              "#fb9f3a"
             ],
             [
              0.8888888888888888,
              "#fdca26"
             ],
             [
              1,
              "#f0f921"
             ]
            ],
            "type": "heatmap"
           }
          ],
          "heatmapgl": [
           {
            "colorbar": {
             "outlinewidth": 0,
             "ticks": ""
            },
            "colorscale": [
             [
              0,
              "#0d0887"
             ],
             [
              0.1111111111111111,
              "#46039f"
             ],
             [
              0.2222222222222222,
              "#7201a8"
             ],
             [
              0.3333333333333333,
              "#9c179e"
             ],
             [
              0.4444444444444444,
              "#bd3786"
             ],
             [
              0.5555555555555556,
              "#d8576b"
             ],
             [
              0.6666666666666666,
              "#ed7953"
             ],
             [
              0.7777777777777778,
              "#fb9f3a"
             ],
             [
              0.8888888888888888,
              "#fdca26"
             ],
             [
              1,
              "#f0f921"
             ]
            ],
            "type": "heatmapgl"
           }
          ],
          "histogram": [
           {
            "marker": {
             "colorbar": {
              "outlinewidth": 0,
              "ticks": ""
             }
            },
            "type": "histogram"
           }
          ],
          "histogram2d": [
           {
            "colorbar": {
             "outlinewidth": 0,
             "ticks": ""
            },
            "colorscale": [
             [
              0,
              "#0d0887"
             ],
             [
              0.1111111111111111,
              "#46039f"
             ],
             [
              0.2222222222222222,
              "#7201a8"
             ],
             [
              0.3333333333333333,
              "#9c179e"
             ],
             [
              0.4444444444444444,
              "#bd3786"
             ],
             [
              0.5555555555555556,
              "#d8576b"
             ],
             [
              0.6666666666666666,
              "#ed7953"
             ],
             [
              0.7777777777777778,
              "#fb9f3a"
             ],
             [
              0.8888888888888888,
              "#fdca26"
             ],
             [
              1,
              "#f0f921"
             ]
            ],
            "type": "histogram2d"
           }
          ],
          "histogram2dcontour": [
           {
            "colorbar": {
             "outlinewidth": 0,
             "ticks": ""
            },
            "colorscale": [
             [
              0,
              "#0d0887"
             ],
             [
              0.1111111111111111,
              "#46039f"
             ],
             [
              0.2222222222222222,
              "#7201a8"
             ],
             [
              0.3333333333333333,
              "#9c179e"
             ],
             [
              0.4444444444444444,
              "#bd3786"
             ],
             [
              0.5555555555555556,
              "#d8576b"
             ],
             [
              0.6666666666666666,
              "#ed7953"
             ],
             [
              0.7777777777777778,
              "#fb9f3a"
             ],
             [
              0.8888888888888888,
              "#fdca26"
             ],
             [
              1,
              "#f0f921"
             ]
            ],
            "type": "histogram2dcontour"
           }
          ],
          "mesh3d": [
           {
            "colorbar": {
             "outlinewidth": 0,
             "ticks": ""
            },
            "type": "mesh3d"
           }
          ],
          "parcoords": [
           {
            "line": {
             "colorbar": {
              "outlinewidth": 0,
              "ticks": ""
             }
            },
            "type": "parcoords"
           }
          ],
          "pie": [
           {
            "automargin": true,
            "type": "pie"
           }
          ],
          "scatter": [
           {
            "marker": {
             "colorbar": {
              "outlinewidth": 0,
              "ticks": ""
             }
            },
            "type": "scatter"
           }
          ],
          "scatter3d": [
           {
            "line": {
             "colorbar": {
              "outlinewidth": 0,
              "ticks": ""
             }
            },
            "marker": {
             "colorbar": {
              "outlinewidth": 0,
              "ticks": ""
             }
            },
            "type": "scatter3d"
           }
          ],
          "scattercarpet": [
           {
            "marker": {
             "colorbar": {
              "outlinewidth": 0,
              "ticks": ""
             }
            },
            "type": "scattercarpet"
           }
          ],
          "scattergeo": [
           {
            "marker": {
             "colorbar": {
              "outlinewidth": 0,
              "ticks": ""
             }
            },
            "type": "scattergeo"
           }
          ],
          "scattergl": [
           {
            "marker": {
             "colorbar": {
              "outlinewidth": 0,
              "ticks": ""
             }
            },
            "type": "scattergl"
           }
          ],
          "scattermapbox": [
           {
            "marker": {
             "colorbar": {
              "outlinewidth": 0,
              "ticks": ""
             }
            },
            "type": "scattermapbox"
           }
          ],
          "scatterpolar": [
           {
            "marker": {
             "colorbar": {
              "outlinewidth": 0,
              "ticks": ""
             }
            },
            "type": "scatterpolar"
           }
          ],
          "scatterpolargl": [
           {
            "marker": {
             "colorbar": {
              "outlinewidth": 0,
              "ticks": ""
             }
            },
            "type": "scatterpolargl"
           }
          ],
          "scatterternary": [
           {
            "marker": {
             "colorbar": {
              "outlinewidth": 0,
              "ticks": ""
             }
            },
            "type": "scatterternary"
           }
          ],
          "surface": [
           {
            "colorbar": {
             "outlinewidth": 0,
             "ticks": ""
            },
            "colorscale": [
             [
              0,
              "#0d0887"
             ],
             [
              0.1111111111111111,
              "#46039f"
             ],
             [
              0.2222222222222222,
              "#7201a8"
             ],
             [
              0.3333333333333333,
              "#9c179e"
             ],
             [
              0.4444444444444444,
              "#bd3786"
             ],
             [
              0.5555555555555556,
              "#d8576b"
             ],
             [
              0.6666666666666666,
              "#ed7953"
             ],
             [
              0.7777777777777778,
              "#fb9f3a"
             ],
             [
              0.8888888888888888,
              "#fdca26"
             ],
             [
              1,
              "#f0f921"
             ]
            ],
            "type": "surface"
           }
          ],
          "table": [
           {
            "cells": {
             "fill": {
              "color": "#EBF0F8"
             },
             "line": {
              "color": "white"
             }
            },
            "header": {
             "fill": {
              "color": "#C8D4E3"
             },
             "line": {
              "color": "white"
             }
            },
            "type": "table"
           }
          ]
         },
         "layout": {
          "annotationdefaults": {
           "arrowcolor": "#2a3f5f",
           "arrowhead": 0,
           "arrowwidth": 1
          },
          "coloraxis": {
           "colorbar": {
            "outlinewidth": 0,
            "ticks": ""
           }
          },
          "colorscale": {
           "diverging": [
            [
             0,
             "#8e0152"
            ],
            [
             0.1,
             "#c51b7d"
            ],
            [
             0.2,
             "#de77ae"
            ],
            [
             0.3,
             "#f1b6da"
            ],
            [
             0.4,
             "#fde0ef"
            ],
            [
             0.5,
             "#f7f7f7"
            ],
            [
             0.6,
             "#e6f5d0"
            ],
            [
             0.7,
             "#b8e186"
            ],
            [
             0.8,
             "#7fbc41"
            ],
            [
             0.9,
             "#4d9221"
            ],
            [
             1,
             "#276419"
            ]
           ],
           "sequential": [
            [
             0,
             "#0d0887"
            ],
            [
             0.1111111111111111,
             "#46039f"
            ],
            [
             0.2222222222222222,
             "#7201a8"
            ],
            [
             0.3333333333333333,
             "#9c179e"
            ],
            [
             0.4444444444444444,
             "#bd3786"
            ],
            [
             0.5555555555555556,
             "#d8576b"
            ],
            [
             0.6666666666666666,
             "#ed7953"
            ],
            [
             0.7777777777777778,
             "#fb9f3a"
            ],
            [
             0.8888888888888888,
             "#fdca26"
            ],
            [
             1,
             "#f0f921"
            ]
           ],
           "sequentialminus": [
            [
             0,
             "#0d0887"
            ],
            [
             0.1111111111111111,
             "#46039f"
            ],
            [
             0.2222222222222222,
             "#7201a8"
            ],
            [
             0.3333333333333333,
             "#9c179e"
            ],
            [
             0.4444444444444444,
             "#bd3786"
            ],
            [
             0.5555555555555556,
             "#d8576b"
            ],
            [
             0.6666666666666666,
             "#ed7953"
            ],
            [
             0.7777777777777778,
             "#fb9f3a"
            ],
            [
             0.8888888888888888,
             "#fdca26"
            ],
            [
             1,
             "#f0f921"
            ]
           ]
          },
          "colorway": [
           "#636efa",
           "#EF553B",
           "#00cc96",
           "#ab63fa",
           "#FFA15A",
           "#19d3f3",
           "#FF6692",
           "#B6E880",
           "#FF97FF",
           "#FECB52"
          ],
          "font": {
           "color": "#2a3f5f"
          },
          "geo": {
           "bgcolor": "white",
           "lakecolor": "white",
           "landcolor": "#E5ECF6",
           "showlakes": true,
           "showland": true,
           "subunitcolor": "white"
          },
          "hoverlabel": {
           "align": "left"
          },
          "hovermode": "closest",
          "mapbox": {
           "style": "light"
          },
          "paper_bgcolor": "white",
          "plot_bgcolor": "#E5ECF6",
          "polar": {
           "angularaxis": {
            "gridcolor": "white",
            "linecolor": "white",
            "ticks": ""
           },
           "bgcolor": "#E5ECF6",
           "radialaxis": {
            "gridcolor": "white",
            "linecolor": "white",
            "ticks": ""
           }
          },
          "scene": {
           "xaxis": {
            "backgroundcolor": "#E5ECF6",
            "gridcolor": "white",
            "gridwidth": 2,
            "linecolor": "white",
            "showbackground": true,
            "ticks": "",
            "zerolinecolor": "white"
           },
           "yaxis": {
            "backgroundcolor": "#E5ECF6",
            "gridcolor": "white",
            "gridwidth": 2,
            "linecolor": "white",
            "showbackground": true,
            "ticks": "",
            "zerolinecolor": "white"
           },
           "zaxis": {
            "backgroundcolor": "#E5ECF6",
            "gridcolor": "white",
            "gridwidth": 2,
            "linecolor": "white",
            "showbackground": true,
            "ticks": "",
            "zerolinecolor": "white"
           }
          },
          "shapedefaults": {
           "line": {
            "color": "#2a3f5f"
           }
          },
          "ternary": {
           "aaxis": {
            "gridcolor": "white",
            "linecolor": "white",
            "ticks": ""
           },
           "baxis": {
            "gridcolor": "white",
            "linecolor": "white",
            "ticks": ""
           },
           "bgcolor": "#E5ECF6",
           "caxis": {
            "gridcolor": "white",
            "linecolor": "white",
            "ticks": ""
           }
          },
          "title": {
           "x": 0.05
          },
          "xaxis": {
           "automargin": true,
           "gridcolor": "white",
           "linecolor": "white",
           "ticks": "",
           "title": {
            "standoff": 15
           },
           "zerolinecolor": "white",
           "zerolinewidth": 2
          },
          "yaxis": {
           "automargin": true,
           "gridcolor": "white",
           "linecolor": "white",
           "ticks": "",
           "title": {
            "standoff": 15
           },
           "zerolinecolor": "white",
           "zerolinewidth": 2
          }
         }
        },
        "xaxis": {
         "rangeslider": {
          "visible": true
         },
         "type": "date"
        }
       }
      },
      "text/html": [
       "<div>\n",
       "        \n",
       "        \n",
       "            <div id=\"af00b37f-d183-472c-9224-92f6ea19994c\" class=\"plotly-graph-div\" style=\"height:525px; width:100%;\"></div>\n",
       "            <script type=\"text/javascript\">\n",
       "                require([\"plotly\"], function(Plotly) {\n",
       "                    window.PLOTLYENV=window.PLOTLYENV || {};\n",
       "                    \n",
       "                if (document.getElementById(\"af00b37f-d183-472c-9224-92f6ea19994c\")) {\n",
       "                    Plotly.newPlot(\n",
       "                        'af00b37f-d183-472c-9224-92f6ea19994c',\n",
       "                        [{\"name\": \"Possible low Rt\", \"type\": \"scatter\", \"x\": [\"2020-03-07\", \"2020-03-08\", \"2020-03-09\", \"2020-03-10\", \"2020-03-11\", \"2020-03-12\", \"2020-03-13\", \"2020-03-14\", \"2020-03-15\", \"2020-03-16\", \"2020-03-17\", \"2020-03-18\", \"2020-03-19\", \"2020-03-20\", \"2020-03-21\", \"2020-03-22\", \"2020-03-23\", \"2020-03-24\", \"2020-03-25\", \"2020-03-26\", \"2020-03-27\", \"2020-03-28\", \"2020-03-29\", \"2020-03-30\", \"2020-03-31\", \"2020-04-01\", \"2020-04-02\", \"2020-04-03\", \"2020-04-04\", \"2020-04-05\", \"2020-04-06\", \"2020-04-07\", \"2020-04-08\", \"2020-04-09\", \"2020-04-10\", \"2020-04-11\", \"2020-04-12\", \"2020-04-13\", \"2020-04-14\", \"2020-04-15\", \"2020-04-16\", \"2020-04-17\", \"2020-04-18\", \"2020-04-19\", \"2020-04-20\"], \"y\": [0.34, 0.38, 0.51, 0.61, 0.8300000000000001, 0.96, 0.94, 0.6900000000000001, 1.01, 1.09, 1.24, 1.29, 1.28, 1.37, 1.5, 1.58, 1.68, 1.73, 1.59, 1.45, 1.22, 1.0, 0.77, 0.53, 0.26, 0.11, 0.02, 0.01, 0.13, 0.39, 0.65, 0.8300000000000001, 0.8200000000000001, 0.84, 0.84, 0.88, 0.91, 0.96, 0.98, 1.06, 1.08, 1.1, 1.1, 1.09, 0.99]}, {\"name\": \"Most likely Rt\", \"type\": \"scatter\", \"x\": [\"2020-03-07\", \"2020-03-08\", \"2020-03-09\", \"2020-03-10\", \"2020-03-11\", \"2020-03-12\", \"2020-03-13\", \"2020-03-14\", \"2020-03-15\", \"2020-03-16\", \"2020-03-17\", \"2020-03-18\", \"2020-03-19\", \"2020-03-20\", \"2020-03-21\", \"2020-03-22\", \"2020-03-23\", \"2020-03-24\", \"2020-03-25\", \"2020-03-26\", \"2020-03-27\", \"2020-03-28\", \"2020-03-29\", \"2020-03-30\", \"2020-03-31\", \"2020-04-01\", \"2020-04-02\", \"2020-04-03\", \"2020-04-04\", \"2020-04-05\", \"2020-04-06\", \"2020-04-07\", \"2020-04-08\", \"2020-04-09\", \"2020-04-10\", \"2020-04-11\", \"2020-04-12\", \"2020-04-13\", \"2020-04-14\", \"2020-04-15\", \"2020-04-16\", \"2020-04-17\", \"2020-04-18\", \"2020-04-19\", \"2020-04-20\"], \"y\": [2.0, 1.88, 2.17, 2.28, 2.5, 2.45, 2.2, 2.04, 2.18, 2.11, 2.12, 2.06, 1.96, 1.96, 2.03, 2.03, 2.08, 2.07, 1.9, 1.73, 1.5, 1.25, 1.03, 0.79, 0.54, 0.41, 0.29, 0.32, 0.5, 0.78, 1.03, 1.22, 1.19, 1.2, 1.2, 1.23, 1.24, 1.28, 1.29, 1.37, 1.36, 1.38, 1.35, 1.33, 1.25]}, {\"name\": \"Possible High Rt\", \"type\": \"scatter\", \"x\": [\"2020-03-07\", \"2020-03-08\", \"2020-03-09\", \"2020-03-10\", \"2020-03-11\", \"2020-03-12\", \"2020-03-13\", \"2020-03-14\", \"2020-03-15\", \"2020-03-16\", \"2020-03-17\", \"2020-03-18\", \"2020-03-19\", \"2020-03-20\", \"2020-03-21\", \"2020-03-22\", \"2020-03-23\", \"2020-03-24\", \"2020-03-25\", \"2020-03-26\", \"2020-03-27\", \"2020-03-28\", \"2020-03-29\", \"2020-03-30\", \"2020-03-31\", \"2020-04-01\", \"2020-04-02\", \"2020-04-03\", \"2020-04-04\", \"2020-04-05\", \"2020-04-06\", \"2020-04-07\", \"2020-04-08\", \"2020-04-09\", \"2020-04-10\", \"2020-04-11\", \"2020-04-12\", \"2020-04-13\", \"2020-04-14\", \"2020-04-15\", \"2020-04-16\", \"2020-04-17\", \"2020-04-18\", \"2020-04-19\", \"2020-04-20\"], \"y\": [6.43, 5.01, 4.99, 4.59, 4.43, 4.04, 3.56, 3.33, 3.31, 3.09, 2.98, 2.81, 2.63, 2.57, 2.5500000000000003, 2.51, 2.49, 2.44, 2.22, 2.03, 1.76, 1.53, 1.3, 1.07, 0.8300000000000001, 0.71, 0.6, 0.64, 0.89, 1.19, 1.45, 1.6, 1.58, 1.58, 1.56, 1.58, 1.59, 1.62, 1.61, 1.66, 1.66, 1.65, 1.63, 1.6, 1.48]}],\n",
       "                        {\"hovermode\": \"x\", \"template\": {\"data\": {\"bar\": [{\"error_x\": {\"color\": \"#2a3f5f\"}, \"error_y\": {\"color\": \"#2a3f5f\"}, \"marker\": {\"line\": {\"color\": \"#E5ECF6\", \"width\": 0.5}}, \"type\": \"bar\"}], \"barpolar\": [{\"marker\": {\"line\": {\"color\": \"#E5ECF6\", \"width\": 0.5}}, \"type\": \"barpolar\"}], \"carpet\": [{\"aaxis\": {\"endlinecolor\": \"#2a3f5f\", \"gridcolor\": \"white\", \"linecolor\": \"white\", \"minorgridcolor\": \"white\", \"startlinecolor\": \"#2a3f5f\"}, \"baxis\": {\"endlinecolor\": \"#2a3f5f\", \"gridcolor\": \"white\", \"linecolor\": \"white\", \"minorgridcolor\": \"white\", \"startlinecolor\": \"#2a3f5f\"}, \"type\": \"carpet\"}], \"choropleth\": [{\"colorbar\": {\"outlinewidth\": 0, \"ticks\": \"\"}, \"type\": \"choropleth\"}], \"contour\": [{\"colorbar\": {\"outlinewidth\": 0, \"ticks\": \"\"}, \"colorscale\": [[0.0, \"#0d0887\"], [0.1111111111111111, \"#46039f\"], [0.2222222222222222, \"#7201a8\"], [0.3333333333333333, \"#9c179e\"], [0.4444444444444444, \"#bd3786\"], [0.5555555555555556, \"#d8576b\"], [0.6666666666666666, \"#ed7953\"], [0.7777777777777778, \"#fb9f3a\"], [0.8888888888888888, \"#fdca26\"], [1.0, \"#f0f921\"]], \"type\": \"contour\"}], \"contourcarpet\": [{\"colorbar\": {\"outlinewidth\": 0, \"ticks\": \"\"}, \"type\": \"contourcarpet\"}], \"heatmap\": [{\"colorbar\": {\"outlinewidth\": 0, \"ticks\": \"\"}, \"colorscale\": [[0.0, \"#0d0887\"], [0.1111111111111111, \"#46039f\"], [0.2222222222222222, \"#7201a8\"], [0.3333333333333333, \"#9c179e\"], [0.4444444444444444, \"#bd3786\"], [0.5555555555555556, \"#d8576b\"], [0.6666666666666666, \"#ed7953\"], [0.7777777777777778, \"#fb9f3a\"], [0.8888888888888888, \"#fdca26\"], [1.0, \"#f0f921\"]], \"type\": \"heatmap\"}], \"heatmapgl\": [{\"colorbar\": {\"outlinewidth\": 0, \"ticks\": \"\"}, \"colorscale\": [[0.0, \"#0d0887\"], [0.1111111111111111, \"#46039f\"], [0.2222222222222222, \"#7201a8\"], [0.3333333333333333, \"#9c179e\"], [0.4444444444444444, \"#bd3786\"], [0.5555555555555556, \"#d8576b\"], [0.6666666666666666, \"#ed7953\"], [0.7777777777777778, \"#fb9f3a\"], [0.8888888888888888, \"#fdca26\"], [1.0, \"#f0f921\"]], \"type\": \"heatmapgl\"}], \"histogram\": [{\"marker\": {\"colorbar\": {\"outlinewidth\": 0, \"ticks\": \"\"}}, \"type\": \"histogram\"}], \"histogram2d\": [{\"colorbar\": {\"outlinewidth\": 0, \"ticks\": \"\"}, \"colorscale\": [[0.0, \"#0d0887\"], [0.1111111111111111, \"#46039f\"], [0.2222222222222222, \"#7201a8\"], [0.3333333333333333, \"#9c179e\"], [0.4444444444444444, \"#bd3786\"], [0.5555555555555556, \"#d8576b\"], [0.6666666666666666, \"#ed7953\"], [0.7777777777777778, \"#fb9f3a\"], [0.8888888888888888, \"#fdca26\"], [1.0, \"#f0f921\"]], \"type\": \"histogram2d\"}], \"histogram2dcontour\": [{\"colorbar\": {\"outlinewidth\": 0, \"ticks\": \"\"}, \"colorscale\": [[0.0, \"#0d0887\"], [0.1111111111111111, \"#46039f\"], [0.2222222222222222, \"#7201a8\"], [0.3333333333333333, \"#9c179e\"], [0.4444444444444444, \"#bd3786\"], [0.5555555555555556, \"#d8576b\"], [0.6666666666666666, \"#ed7953\"], [0.7777777777777778, \"#fb9f3a\"], [0.8888888888888888, \"#fdca26\"], [1.0, \"#f0f921\"]], \"type\": \"histogram2dcontour\"}], \"mesh3d\": [{\"colorbar\": {\"outlinewidth\": 0, \"ticks\": \"\"}, \"type\": \"mesh3d\"}], \"parcoords\": [{\"line\": {\"colorbar\": {\"outlinewidth\": 0, \"ticks\": \"\"}}, \"type\": \"parcoords\"}], \"pie\": [{\"automargin\": true, \"type\": \"pie\"}], \"scatter\": [{\"marker\": {\"colorbar\": {\"outlinewidth\": 0, \"ticks\": \"\"}}, \"type\": \"scatter\"}], \"scatter3d\": [{\"line\": {\"colorbar\": {\"outlinewidth\": 0, \"ticks\": \"\"}}, \"marker\": {\"colorbar\": {\"outlinewidth\": 0, \"ticks\": \"\"}}, \"type\": \"scatter3d\"}], \"scattercarpet\": [{\"marker\": {\"colorbar\": {\"outlinewidth\": 0, \"ticks\": \"\"}}, \"type\": \"scattercarpet\"}], \"scattergeo\": [{\"marker\": {\"colorbar\": {\"outlinewidth\": 0, \"ticks\": \"\"}}, \"type\": \"scattergeo\"}], \"scattergl\": [{\"marker\": {\"colorbar\": {\"outlinewidth\": 0, \"ticks\": \"\"}}, \"type\": \"scattergl\"}], \"scattermapbox\": [{\"marker\": {\"colorbar\": {\"outlinewidth\": 0, \"ticks\": \"\"}}, \"type\": \"scattermapbox\"}], \"scatterpolar\": [{\"marker\": {\"colorbar\": {\"outlinewidth\": 0, \"ticks\": \"\"}}, \"type\": \"scatterpolar\"}], \"scatterpolargl\": [{\"marker\": {\"colorbar\": {\"outlinewidth\": 0, \"ticks\": \"\"}}, \"type\": \"scatterpolargl\"}], \"scatterternary\": [{\"marker\": {\"colorbar\": {\"outlinewidth\": 0, \"ticks\": \"\"}}, \"type\": \"scatterternary\"}], \"surface\": [{\"colorbar\": {\"outlinewidth\": 0, \"ticks\": \"\"}, \"colorscale\": [[0.0, \"#0d0887\"], [0.1111111111111111, \"#46039f\"], [0.2222222222222222, \"#7201a8\"], [0.3333333333333333, \"#9c179e\"], [0.4444444444444444, \"#bd3786\"], [0.5555555555555556, \"#d8576b\"], [0.6666666666666666, \"#ed7953\"], [0.7777777777777778, \"#fb9f3a\"], [0.8888888888888888, \"#fdca26\"], [1.0, \"#f0f921\"]], \"type\": \"surface\"}], \"table\": [{\"cells\": {\"fill\": {\"color\": \"#EBF0F8\"}, \"line\": {\"color\": \"white\"}}, \"header\": {\"fill\": {\"color\": \"#C8D4E3\"}, \"line\": {\"color\": \"white\"}}, \"type\": \"table\"}]}, \"layout\": {\"annotationdefaults\": {\"arrowcolor\": \"#2a3f5f\", \"arrowhead\": 0, \"arrowwidth\": 1}, \"coloraxis\": {\"colorbar\": {\"outlinewidth\": 0, \"ticks\": \"\"}}, \"colorscale\": {\"diverging\": [[0, \"#8e0152\"], [0.1, \"#c51b7d\"], [0.2, \"#de77ae\"], [0.3, \"#f1b6da\"], [0.4, \"#fde0ef\"], [0.5, \"#f7f7f7\"], [0.6, \"#e6f5d0\"], [0.7, \"#b8e186\"], [0.8, \"#7fbc41\"], [0.9, \"#4d9221\"], [1, \"#276419\"]], \"sequential\": [[0.0, \"#0d0887\"], [0.1111111111111111, \"#46039f\"], [0.2222222222222222, \"#7201a8\"], [0.3333333333333333, \"#9c179e\"], [0.4444444444444444, \"#bd3786\"], [0.5555555555555556, \"#d8576b\"], [0.6666666666666666, \"#ed7953\"], [0.7777777777777778, \"#fb9f3a\"], [0.8888888888888888, \"#fdca26\"], [1.0, \"#f0f921\"]], \"sequentialminus\": [[0.0, \"#0d0887\"], [0.1111111111111111, \"#46039f\"], [0.2222222222222222, \"#7201a8\"], [0.3333333333333333, \"#9c179e\"], [0.4444444444444444, \"#bd3786\"], [0.5555555555555556, \"#d8576b\"], [0.6666666666666666, \"#ed7953\"], [0.7777777777777778, \"#fb9f3a\"], [0.8888888888888888, \"#fdca26\"], [1.0, \"#f0f921\"]]}, \"colorway\": [\"#636efa\", \"#EF553B\", \"#00cc96\", \"#ab63fa\", \"#FFA15A\", \"#19d3f3\", \"#FF6692\", \"#B6E880\", \"#FF97FF\", \"#FECB52\"], \"font\": {\"color\": \"#2a3f5f\"}, \"geo\": {\"bgcolor\": \"white\", \"lakecolor\": \"white\", \"landcolor\": \"#E5ECF6\", \"showlakes\": true, \"showland\": true, \"subunitcolor\": \"white\"}, \"hoverlabel\": {\"align\": \"left\"}, \"hovermode\": \"closest\", \"mapbox\": {\"style\": \"light\"}, \"paper_bgcolor\": \"white\", \"plot_bgcolor\": \"#E5ECF6\", \"polar\": {\"angularaxis\": {\"gridcolor\": \"white\", \"linecolor\": \"white\", \"ticks\": \"\"}, \"bgcolor\": \"#E5ECF6\", \"radialaxis\": {\"gridcolor\": \"white\", \"linecolor\": \"white\", \"ticks\": \"\"}}, \"scene\": {\"xaxis\": {\"backgroundcolor\": \"#E5ECF6\", \"gridcolor\": \"white\", \"gridwidth\": 2, \"linecolor\": \"white\", \"showbackground\": true, \"ticks\": \"\", \"zerolinecolor\": \"white\"}, \"yaxis\": {\"backgroundcolor\": \"#E5ECF6\", \"gridcolor\": \"white\", \"gridwidth\": 2, \"linecolor\": \"white\", \"showbackground\": true, \"ticks\": \"\", \"zerolinecolor\": \"white\"}, \"zaxis\": {\"backgroundcolor\": \"#E5ECF6\", \"gridcolor\": \"white\", \"gridwidth\": 2, \"linecolor\": \"white\", \"showbackground\": true, \"ticks\": \"\", \"zerolinecolor\": \"white\"}}, \"shapedefaults\": {\"line\": {\"color\": \"#2a3f5f\"}}, \"ternary\": {\"aaxis\": {\"gridcolor\": \"white\", \"linecolor\": \"white\", \"ticks\": \"\"}, \"baxis\": {\"gridcolor\": \"white\", \"linecolor\": \"white\", \"ticks\": \"\"}, \"bgcolor\": \"#E5ECF6\", \"caxis\": {\"gridcolor\": \"white\", \"linecolor\": \"white\", \"ticks\": \"\"}}, \"title\": {\"x\": 0.05}, \"xaxis\": {\"automargin\": true, \"gridcolor\": \"white\", \"linecolor\": \"white\", \"ticks\": \"\", \"title\": {\"standoff\": 15}, \"zerolinecolor\": \"white\", \"zerolinewidth\": 2}, \"yaxis\": {\"automargin\": true, \"gridcolor\": \"white\", \"linecolor\": \"white\", \"ticks\": \"\", \"title\": {\"standoff\": 15}, \"zerolinecolor\": \"white\", \"zerolinewidth\": 2}}}, \"xaxis\": {\"rangeslider\": {\"visible\": true}, \"type\": \"date\"}},\n",
       "                        {\"responsive\": true}\n",
       "                    ).then(function(){\n",
       "                            \n",
       "var gd = document.getElementById('af00b37f-d183-472c-9224-92f6ea19994c');\n",
       "var x = new MutationObserver(function (mutations, observer) {{\n",
       "        var display = window.getComputedStyle(gd).display;\n",
       "        if (!display || display === 'none') {{\n",
       "            console.log([gd, 'removed!']);\n",
       "            Plotly.purge(gd);\n",
       "            observer.disconnect();\n",
       "        }}\n",
       "}});\n",
       "\n",
       "// Listen for the removal of the full notebook cells\n",
       "var notebookContainer = gd.closest('#notebook-container');\n",
       "if (notebookContainer) {{\n",
       "    x.observe(notebookContainer, {childList: true});\n",
       "}}\n",
       "\n",
       "// Listen for the clearing of the current output cell\n",
       "var outputEl = gd.closest('.output');\n",
       "if (outputEl) {{\n",
       "    x.observe(outputEl, {childList: true});\n",
       "}}\n",
       "\n",
       "                        })\n",
       "                };\n",
       "                });\n",
       "            </script>\n",
       "        </div>"
      ]
     },
     "metadata": {},
     "output_type": "display_data"
    }
   ],
   "source": [
    "#Reproductive number graphs\n",
    "\n",
    "import plotly.graph_objects as go\n",
    "\n",
    "fig_rt = go.Figure()\n",
    "fig_rt.add_trace(\n",
    "    go.Scatter(\n",
    "        y=df_rt['Possible low Rt'],\n",
    "        x=df_rt.date,\n",
    "        name= 'Possible low Rt'\n",
    "    ))\n",
    "fig_rt.add_trace(\n",
    "    go.Scatter(\n",
    "        y=df_rt['Most likely Rt'],\n",
    "        x=df_rt.date,\n",
    "       name= 'Most likely Rt'\n",
    "    ))\n",
    "fig_rt.add_trace(\n",
    "    go.Scatter(\n",
    "        y=df_rt['Possible High Rt'],\n",
    "        x=df_rt.date,\n",
    "        name= 'Possible High Rt'\n",
    "    ))\n",
    "\n",
    "fig_rt.update_layout(hovermode='x',\n",
    "                     xaxis=dict(\n",
    "                         rangeslider=dict(\n",
    "                             visible = True),\n",
    "        type='date'\n",
    "    ))\n",
    "\n",
    "fig_rt.show()\n"
   ]
  },
  {
   "cell_type": "code",
   "execution_count": 457,
   "metadata": {},
   "outputs": [],
   "source": [
    "df_day = pd.read_csv('https://raw.githubusercontent.com/dsfsi/covid19za/master/data/covid19za_provincial_cumulative_timeline_confirmed.csv')\n",
    "df_day = df_day.drop('source',axis = 1)\n",
    "df_day = df_day.dropna()\n"
   ]
  },
  {
   "cell_type": "code",
   "execution_count": 458,
   "metadata": {},
   "outputs": [
    {
     "data": {
      "text/html": [
       "<div>\n",
       "<style scoped>\n",
       "    .dataframe tbody tr th:only-of-type {\n",
       "        vertical-align: middle;\n",
       "    }\n",
       "\n",
       "    .dataframe tbody tr th {\n",
       "        vertical-align: top;\n",
       "    }\n",
       "\n",
       "    .dataframe thead th {\n",
       "        text-align: right;\n",
       "    }\n",
       "</style>\n",
       "<table border=\"1\" class=\"dataframe\">\n",
       "  <thead>\n",
       "    <tr style=\"text-align: right;\">\n",
       "      <th></th>\n",
       "      <th>date</th>\n",
       "      <th>YYYYMMDD</th>\n",
       "      <th>EC</th>\n",
       "      <th>FS</th>\n",
       "      <th>GP</th>\n",
       "      <th>KZN</th>\n",
       "      <th>LP</th>\n",
       "      <th>MP</th>\n",
       "      <th>NC</th>\n",
       "      <th>NW</th>\n",
       "      <th>WC</th>\n",
       "      <th>UNKNOWN</th>\n",
       "      <th>total</th>\n",
       "    </tr>\n",
       "  </thead>\n",
       "  <tbody>\n",
       "    <tr>\n",
       "      <th>0</th>\n",
       "      <td>05-03-2020</td>\n",
       "      <td>20200305</td>\n",
       "      <td>0.0</td>\n",
       "      <td>0.0</td>\n",
       "      <td>0.0</td>\n",
       "      <td>1.0</td>\n",
       "      <td>0.0</td>\n",
       "      <td>0.0</td>\n",
       "      <td>0.0</td>\n",
       "      <td>0.0</td>\n",
       "      <td>0.0</td>\n",
       "      <td>0.0</td>\n",
       "      <td>1</td>\n",
       "    </tr>\n",
       "    <tr>\n",
       "      <th>1</th>\n",
       "      <td>07-03-2020</td>\n",
       "      <td>20200307</td>\n",
       "      <td>0.0</td>\n",
       "      <td>0.0</td>\n",
       "      <td>1.0</td>\n",
       "      <td>1.0</td>\n",
       "      <td>0.0</td>\n",
       "      <td>0.0</td>\n",
       "      <td>0.0</td>\n",
       "      <td>0.0</td>\n",
       "      <td>0.0</td>\n",
       "      <td>0.0</td>\n",
       "      <td>2</td>\n",
       "    </tr>\n",
       "    <tr>\n",
       "      <th>2</th>\n",
       "      <td>08-03-2020</td>\n",
       "      <td>20200308</td>\n",
       "      <td>0.0</td>\n",
       "      <td>0.0</td>\n",
       "      <td>1.0</td>\n",
       "      <td>2.0</td>\n",
       "      <td>0.0</td>\n",
       "      <td>0.0</td>\n",
       "      <td>0.0</td>\n",
       "      <td>0.0</td>\n",
       "      <td>0.0</td>\n",
       "      <td>0.0</td>\n",
       "      <td>3</td>\n",
       "    </tr>\n",
       "    <tr>\n",
       "      <th>3</th>\n",
       "      <td>09-03-2020</td>\n",
       "      <td>20200309</td>\n",
       "      <td>0.0</td>\n",
       "      <td>0.0</td>\n",
       "      <td>1.0</td>\n",
       "      <td>6.0</td>\n",
       "      <td>0.0</td>\n",
       "      <td>0.0</td>\n",
       "      <td>0.0</td>\n",
       "      <td>0.0</td>\n",
       "      <td>0.0</td>\n",
       "      <td>0.0</td>\n",
       "      <td>7</td>\n",
       "    </tr>\n",
       "    <tr>\n",
       "      <th>4</th>\n",
       "      <td>11-03-2020</td>\n",
       "      <td>20200311</td>\n",
       "      <td>0.0</td>\n",
       "      <td>0.0</td>\n",
       "      <td>5.0</td>\n",
       "      <td>7.0</td>\n",
       "      <td>0.0</td>\n",
       "      <td>0.0</td>\n",
       "      <td>0.0</td>\n",
       "      <td>0.0</td>\n",
       "      <td>1.0</td>\n",
       "      <td>0.0</td>\n",
       "      <td>13</td>\n",
       "    </tr>\n",
       "  </tbody>\n",
       "</table>\n",
       "</div>"
      ],
      "text/plain": [
       "         date  YYYYMMDD   EC   FS   GP  KZN   LP   MP   NC   NW   WC  UNKNOWN  \\\n",
       "0  05-03-2020  20200305  0.0  0.0  0.0  1.0  0.0  0.0  0.0  0.0  0.0      0.0   \n",
       "1  07-03-2020  20200307  0.0  0.0  1.0  1.0  0.0  0.0  0.0  0.0  0.0      0.0   \n",
       "2  08-03-2020  20200308  0.0  0.0  1.0  2.0  0.0  0.0  0.0  0.0  0.0      0.0   \n",
       "3  09-03-2020  20200309  0.0  0.0  1.0  6.0  0.0  0.0  0.0  0.0  0.0      0.0   \n",
       "4  11-03-2020  20200311  0.0  0.0  5.0  7.0  0.0  0.0  0.0  0.0  1.0      0.0   \n",
       "\n",
       "   total  \n",
       "0      1  \n",
       "1      2  \n",
       "2      3  \n",
       "3      7  \n",
       "4     13  "
      ]
     },
     "execution_count": 458,
     "metadata": {},
     "output_type": "execute_result"
    }
   ],
   "source": [
    "df_day.head()"
   ]
  },
  {
   "cell_type": "code",
   "execution_count": 463,
   "metadata": {},
   "outputs": [
    {
     "data": {
      "application/vnd.plotly.v1+json": {
       "config": {
        "plotlyServerURL": "https://plot.ly"
       },
       "data": [
        {
         "name": "EC",
         "type": "scatter",
         "x": [
          "05-03-2020",
          "07-03-2020",
          "08-03-2020",
          "09-03-2020",
          "11-03-2020",
          "12-03-2020",
          "13-03-2020",
          "14-03-2020",
          "15-03-2020",
          "16-03-2020",
          "17-03-2020",
          "18-03-2020",
          "19-03-2020",
          "20-03-2020",
          "21-03-2020",
          "22-03-2020",
          "23-03-2020",
          "24-03-2020",
          "25-03-2020",
          "26-03-2020",
          "28-03-2020",
          "29-03-2020",
          "30-03-2020",
          "31-03-2020",
          "01-04-2020",
          "02-04-2020",
          "03-04-2020",
          "04-04-2020",
          "05-04-2020",
          "06-04-2020",
          "08-04-2020",
          "09-04-2020",
          "10-04-2020",
          "11-04-2020",
          "12-04-2020",
          "13-04-2020",
          "14-04-2020",
          "15-04-2020",
          "16-04-2020",
          "17-04-2020",
          "18-04-2020",
          "19-04-2020",
          "20-04-2020",
          "21-04-2020",
          "21-04-2020"
         ],
         "y": [
          0,
          0,
          0,
          0,
          0,
          0,
          0,
          0,
          0,
          0,
          0,
          0,
          0,
          0,
          1,
          2,
          2,
          2,
          2,
          5,
          10,
          12,
          12,
          12,
          15,
          17,
          21,
          25,
          31,
          32,
          45,
          61,
          68,
          69,
          88,
          104,
          174,
          199,
          220,
          246,
          270,
          293,
          310,
          345,
          377
         ]
        },
        {
         "name": "WC",
         "type": "scatter",
         "x": [
          "05-03-2020",
          "07-03-2020",
          "08-03-2020",
          "09-03-2020",
          "11-03-2020",
          "12-03-2020",
          "13-03-2020",
          "14-03-2020",
          "15-03-2020",
          "16-03-2020",
          "17-03-2020",
          "18-03-2020",
          "19-03-2020",
          "20-03-2020",
          "21-03-2020",
          "22-03-2020",
          "23-03-2020",
          "24-03-2020",
          "25-03-2020",
          "26-03-2020",
          "28-03-2020",
          "29-03-2020",
          "30-03-2020",
          "31-03-2020",
          "01-04-2020",
          "02-04-2020",
          "03-04-2020",
          "04-04-2020",
          "05-04-2020",
          "06-04-2020",
          "08-04-2020",
          "09-04-2020",
          "10-04-2020",
          "11-04-2020",
          "12-04-2020",
          "13-04-2020",
          "14-04-2020",
          "15-04-2020",
          "16-04-2020",
          "17-04-2020",
          "18-04-2020",
          "19-04-2020",
          "20-04-2020",
          "21-04-2020",
          "21-04-2020"
         ],
         "y": [
          0,
          0,
          0,
          0,
          1,
          1,
          3,
          9,
          14,
          16,
          21,
          31,
          46,
          57,
          75,
          89,
          100,
          113,
          183,
          229,
          271,
          310,
          324,
          325,
          326,
          353,
          374,
          433,
          454,
          462,
          495,
          515,
          541,
          546,
          587,
          617,
          643,
          657,
          675,
          717,
          836,
          868,
          940,
          1010,
          1079
         ]
        },
        {
         "name": "FS",
         "type": "scatter",
         "x": [
          "05-03-2020",
          "07-03-2020",
          "08-03-2020",
          "09-03-2020",
          "11-03-2020",
          "12-03-2020",
          "13-03-2020",
          "14-03-2020",
          "15-03-2020",
          "16-03-2020",
          "17-03-2020",
          "18-03-2020",
          "19-03-2020",
          "20-03-2020",
          "21-03-2020",
          "22-03-2020",
          "23-03-2020",
          "24-03-2020",
          "25-03-2020",
          "26-03-2020",
          "28-03-2020",
          "29-03-2020",
          "30-03-2020",
          "31-03-2020",
          "01-04-2020",
          "02-04-2020",
          "03-04-2020",
          "04-04-2020",
          "05-04-2020",
          "06-04-2020",
          "08-04-2020",
          "09-04-2020",
          "10-04-2020",
          "11-04-2020",
          "12-04-2020",
          "13-04-2020",
          "14-04-2020",
          "15-04-2020",
          "16-04-2020",
          "17-04-2020",
          "18-04-2020",
          "19-04-2020",
          "20-04-2020",
          "21-04-2020",
          "21-04-2020"
         ],
         "y": [
          0,
          0,
          0,
          0,
          0,
          0,
          0,
          0,
          0,
          0,
          0,
          0,
          0,
          7,
          7,
          9,
          13,
          18,
          30,
          49,
          68,
          72,
          72,
          74,
          76,
          84,
          84,
          85,
          87,
          89,
          88,
          93,
          94,
          94,
          96,
          96,
          98,
          97,
          98,
          100,
          100,
          100,
          105,
          106,
          106
         ]
        },
        {
         "name": "GP",
         "type": "scatter",
         "x": [
          "05-03-2020",
          "07-03-2020",
          "08-03-2020",
          "09-03-2020",
          "11-03-2020",
          "12-03-2020",
          "13-03-2020",
          "14-03-2020",
          "15-03-2020",
          "16-03-2020",
          "17-03-2020",
          "18-03-2020",
          "19-03-2020",
          "20-03-2020",
          "21-03-2020",
          "22-03-2020",
          "23-03-2020",
          "24-03-2020",
          "25-03-2020",
          "26-03-2020",
          "28-03-2020",
          "29-03-2020",
          "30-03-2020",
          "31-03-2020",
          "01-04-2020",
          "02-04-2020",
          "03-04-2020",
          "04-04-2020",
          "05-04-2020",
          "06-04-2020",
          "08-04-2020",
          "09-04-2020",
          "10-04-2020",
          "11-04-2020",
          "12-04-2020",
          "13-04-2020",
          "14-04-2020",
          "15-04-2020",
          "16-04-2020",
          "17-04-2020",
          "18-04-2020",
          "19-04-2020",
          "20-04-2020",
          "21-04-2020",
          "21-04-2020"
         ],
         "y": [
          0,
          1,
          1,
          1,
          5,
          6,
          10,
          17,
          24,
          31,
          45,
          61,
          76,
          109,
          125,
          132,
          207,
          302,
          319,
          409,
          533,
          584,
          618,
          633,
          645,
          663,
          672,
          693,
          704,
          713,
          782,
          795,
          801,
          813,
          865,
          890,
          909,
          930,
          969,
          1018,
          1101,
          1148,
          1170,
          1199,
          1224
         ]
        },
        {
         "name": "KZN",
         "type": "scatter",
         "x": [
          "05-03-2020",
          "07-03-2020",
          "08-03-2020",
          "09-03-2020",
          "11-03-2020",
          "12-03-2020",
          "13-03-2020",
          "14-03-2020",
          "15-03-2020",
          "16-03-2020",
          "17-03-2020",
          "18-03-2020",
          "19-03-2020",
          "20-03-2020",
          "21-03-2020",
          "22-03-2020",
          "23-03-2020",
          "24-03-2020",
          "25-03-2020",
          "26-03-2020",
          "28-03-2020",
          "29-03-2020",
          "30-03-2020",
          "31-03-2020",
          "01-04-2020",
          "02-04-2020",
          "03-04-2020",
          "04-04-2020",
          "05-04-2020",
          "06-04-2020",
          "08-04-2020",
          "09-04-2020",
          "10-04-2020",
          "11-04-2020",
          "12-04-2020",
          "13-04-2020",
          "14-04-2020",
          "15-04-2020",
          "16-04-2020",
          "17-04-2020",
          "18-04-2020",
          "19-04-2020",
          "20-04-2020",
          "21-04-2020",
          "21-04-2020"
         ],
         "y": [
          1,
          1,
          2,
          6,
          7,
          8,
          10,
          11,
          12,
          12,
          16,
          19,
          22,
          23,
          26,
          35,
          60,
          80,
          91,
          134,
          156,
          167,
          171,
          179,
          186,
          206,
          215,
          232,
          246,
          257,
          354,
          387,
          412,
          418,
          443,
          465,
          489,
          519,
          539,
          591,
          604,
          617,
          639,
          671,
          758
         ]
        },
        {
         "name": "NW",
         "type": "scatter",
         "x": [
          "05-03-2020",
          "07-03-2020",
          "08-03-2020",
          "09-03-2020",
          "11-03-2020",
          "12-03-2020",
          "13-03-2020",
          "14-03-2020",
          "15-03-2020",
          "16-03-2020",
          "17-03-2020",
          "18-03-2020",
          "19-03-2020",
          "20-03-2020",
          "21-03-2020",
          "22-03-2020",
          "23-03-2020",
          "24-03-2020",
          "25-03-2020",
          "26-03-2020",
          "28-03-2020",
          "29-03-2020",
          "30-03-2020",
          "31-03-2020",
          "01-04-2020",
          "02-04-2020",
          "03-04-2020",
          "04-04-2020",
          "05-04-2020",
          "06-04-2020",
          "08-04-2020",
          "09-04-2020",
          "10-04-2020",
          "11-04-2020",
          "12-04-2020",
          "13-04-2020",
          "14-04-2020",
          "15-04-2020",
          "16-04-2020",
          "17-04-2020",
          "18-04-2020",
          "19-04-2020",
          "20-04-2020",
          "21-04-2020",
          "21-04-2020"
         ],
         "y": [
          0,
          0,
          0,
          0,
          0,
          0,
          0,
          0,
          0,
          0,
          0,
          0,
          0,
          0,
          0,
          0,
          4,
          5,
          5,
          5,
          6,
          6,
          8,
          8,
          9,
          9,
          9,
          11,
          11,
          11,
          15,
          15,
          18,
          19,
          19,
          22,
          22,
          23,
          24,
          24,
          24,
          24,
          25,
          24,
          24
         ]
        },
        {
         "name": "LP",
         "type": "scatter",
         "x": [
          "05-03-2020",
          "07-03-2020",
          "08-03-2020",
          "09-03-2020",
          "11-03-2020",
          "12-03-2020",
          "13-03-2020",
          "14-03-2020",
          "15-03-2020",
          "16-03-2020",
          "17-03-2020",
          "18-03-2020",
          "19-03-2020",
          "20-03-2020",
          "21-03-2020",
          "22-03-2020",
          "23-03-2020",
          "24-03-2020",
          "25-03-2020",
          "26-03-2020",
          "28-03-2020",
          "29-03-2020",
          "30-03-2020",
          "31-03-2020",
          "01-04-2020",
          "02-04-2020",
          "03-04-2020",
          "04-04-2020",
          "05-04-2020",
          "06-04-2020",
          "08-04-2020",
          "09-04-2020",
          "10-04-2020",
          "11-04-2020",
          "12-04-2020",
          "13-04-2020",
          "14-04-2020",
          "15-04-2020",
          "16-04-2020",
          "17-04-2020",
          "18-04-2020",
          "19-04-2020",
          "20-04-2020",
          "21-04-2020",
          "21-04-2020"
         ],
         "y": [
          0,
          0,
          0,
          0,
          0,
          0,
          0,
          0,
          0,
          1,
          1,
          1,
          1,
          1,
          1,
          2,
          4,
          4,
          4,
          6,
          11,
          12,
          11,
          14,
          14,
          16,
          16,
          18,
          19,
          19,
          21,
          22,
          24,
          23,
          23,
          23,
          24,
          25,
          26,
          26,
          26,
          27,
          27,
          27,
          27
         ]
        },
        {
         "name": "MP",
         "type": "scatter",
         "x": [
          "05-03-2020",
          "07-03-2020",
          "08-03-2020",
          "09-03-2020",
          "11-03-2020",
          "12-03-2020",
          "13-03-2020",
          "14-03-2020",
          "15-03-2020",
          "16-03-2020",
          "17-03-2020",
          "18-03-2020",
          "19-03-2020",
          "20-03-2020",
          "21-03-2020",
          "22-03-2020",
          "23-03-2020",
          "24-03-2020",
          "25-03-2020",
          "26-03-2020",
          "28-03-2020",
          "29-03-2020",
          "30-03-2020",
          "31-03-2020",
          "01-04-2020",
          "02-04-2020",
          "03-04-2020",
          "04-04-2020",
          "05-04-2020",
          "06-04-2020",
          "08-04-2020",
          "09-04-2020",
          "10-04-2020",
          "11-04-2020",
          "12-04-2020",
          "13-04-2020",
          "14-04-2020",
          "15-04-2020",
          "16-04-2020",
          "17-04-2020",
          "18-04-2020",
          "19-04-2020",
          "20-04-2020",
          "21-04-2020",
          "21-04-2020"
         ],
         "y": [
          0,
          0,
          0,
          0,
          0,
          1,
          1,
          1,
          1,
          2,
          2,
          4,
          5,
          5,
          5,
          5,
          9,
          9,
          8,
          9,
          10,
          11,
          11,
          12,
          12,
          13,
          13,
          18,
          18,
          18,
          21,
          20,
          20,
          20,
          21,
          22,
          22,
          22,
          22,
          23,
          25,
          23,
          23,
          24,
          23
         ]
        },
        {
         "name": "NC",
         "type": "scatter",
         "x": [
          "05-03-2020",
          "07-03-2020",
          "08-03-2020",
          "09-03-2020",
          "11-03-2020",
          "12-03-2020",
          "13-03-2020",
          "14-03-2020",
          "15-03-2020",
          "16-03-2020",
          "17-03-2020",
          "18-03-2020",
          "19-03-2020",
          "20-03-2020",
          "21-03-2020",
          "22-03-2020",
          "23-03-2020",
          "24-03-2020",
          "25-03-2020",
          "26-03-2020",
          "28-03-2020",
          "29-03-2020",
          "30-03-2020",
          "31-03-2020",
          "01-04-2020",
          "02-04-2020",
          "03-04-2020",
          "04-04-2020",
          "05-04-2020",
          "06-04-2020",
          "08-04-2020",
          "09-04-2020",
          "10-04-2020",
          "11-04-2020",
          "12-04-2020",
          "13-04-2020",
          "14-04-2020",
          "15-04-2020",
          "16-04-2020",
          "17-04-2020",
          "18-04-2020",
          "19-04-2020",
          "20-04-2020",
          "21-04-2020",
          "21-04-2020"
         ],
         "y": [
          0,
          0,
          0,
          0,
          0,
          0,
          0,
          0,
          0,
          0,
          0,
          0,
          0,
          0,
          0,
          0,
          2,
          2,
          2,
          2,
          5,
          6,
          3,
          6,
          7,
          7,
          7,
          7,
          8,
          8,
          13,
          15,
          15,
          16,
          16,
          16,
          16,
          16,
          16,
          16,
          16,
          16,
          18,
          16,
          16
         ]
        },
        {
         "name": "Unlocated",
         "type": "scatter",
         "x": [
          "05-03-2020",
          "07-03-2020",
          "08-03-2020",
          "09-03-2020",
          "11-03-2020",
          "12-03-2020",
          "13-03-2020",
          "14-03-2020",
          "15-03-2020",
          "16-03-2020",
          "17-03-2020",
          "18-03-2020",
          "19-03-2020",
          "20-03-2020",
          "21-03-2020",
          "22-03-2020",
          "23-03-2020",
          "24-03-2020",
          "25-03-2020",
          "26-03-2020",
          "28-03-2020",
          "29-03-2020",
          "30-03-2020",
          "31-03-2020",
          "01-04-2020",
          "02-04-2020",
          "03-04-2020",
          "04-04-2020",
          "05-04-2020",
          "06-04-2020",
          "08-04-2020",
          "09-04-2020",
          "10-04-2020",
          "11-04-2020",
          "12-04-2020",
          "13-04-2020",
          "14-04-2020",
          "15-04-2020",
          "16-04-2020",
          "17-04-2020",
          "18-04-2020",
          "19-04-2020",
          "20-04-2020",
          "21-04-2020",
          "21-04-2020"
         ],
         "y": [
          0,
          0,
          0,
          0,
          0,
          0,
          0,
          0,
          0,
          0,
          0,
          0,
          0,
          0,
          0,
          0,
          1,
          19,
          65,
          79,
          117,
          100,
          96,
          90,
          90,
          94,
          94,
          63,
          77,
          77,
          11,
          11,
          10,
          10,
          15,
          17,
          18,
          18,
          16,
          22,
          32,
          42,
          43,
          43,
          1
         ]
        }
       ],
       "layout": {
        "hovermode": "x",
        "template": {
         "data": {
          "bar": [
           {
            "error_x": {
             "color": "#2a3f5f"
            },
            "error_y": {
             "color": "#2a3f5f"
            },
            "marker": {
             "line": {
              "color": "#E5ECF6",
              "width": 0.5
             }
            },
            "type": "bar"
           }
          ],
          "barpolar": [
           {
            "marker": {
             "line": {
              "color": "#E5ECF6",
              "width": 0.5
             }
            },
            "type": "barpolar"
           }
          ],
          "carpet": [
           {
            "aaxis": {
             "endlinecolor": "#2a3f5f",
             "gridcolor": "white",
             "linecolor": "white",
             "minorgridcolor": "white",
             "startlinecolor": "#2a3f5f"
            },
            "baxis": {
             "endlinecolor": "#2a3f5f",
             "gridcolor": "white",
             "linecolor": "white",
             "minorgridcolor": "white",
             "startlinecolor": "#2a3f5f"
            },
            "type": "carpet"
           }
          ],
          "choropleth": [
           {
            "colorbar": {
             "outlinewidth": 0,
             "ticks": ""
            },
            "type": "choropleth"
           }
          ],
          "contour": [
           {
            "colorbar": {
             "outlinewidth": 0,
             "ticks": ""
            },
            "colorscale": [
             [
              0,
              "#0d0887"
             ],
             [
              0.1111111111111111,
              "#46039f"
             ],
             [
              0.2222222222222222,
              "#7201a8"
             ],
             [
              0.3333333333333333,
              "#9c179e"
             ],
             [
              0.4444444444444444,
              "#bd3786"
             ],
             [
              0.5555555555555556,
              "#d8576b"
             ],
             [
              0.6666666666666666,
              "#ed7953"
             ],
             [
              0.7777777777777778,
              "#fb9f3a"
             ],
             [
              0.8888888888888888,
              "#fdca26"
             ],
             [
              1,
              "#f0f921"
             ]
            ],
            "type": "contour"
           }
          ],
          "contourcarpet": [
           {
            "colorbar": {
             "outlinewidth": 0,
             "ticks": ""
            },
            "type": "contourcarpet"
           }
          ],
          "heatmap": [
           {
            "colorbar": {
             "outlinewidth": 0,
             "ticks": ""
            },
            "colorscale": [
             [
              0,
              "#0d0887"
             ],
             [
              0.1111111111111111,
              "#46039f"
             ],
             [
              0.2222222222222222,
              "#7201a8"
             ],
             [
              0.3333333333333333,
              "#9c179e"
             ],
             [
              0.4444444444444444,
              "#bd3786"
             ],
             [
              0.5555555555555556,
              "#d8576b"
             ],
             [
              0.6666666666666666,
              "#ed7953"
             ],
             [
              0.7777777777777778,
              "#fb9f3a"
             ],
             [
              0.8888888888888888,
              "#fdca26"
             ],
             [
              1,
              "#f0f921"
             ]
            ],
            "type": "heatmap"
           }
          ],
          "heatmapgl": [
           {
            "colorbar": {
             "outlinewidth": 0,
             "ticks": ""
            },
            "colorscale": [
             [
              0,
              "#0d0887"
             ],
             [
              0.1111111111111111,
              "#46039f"
             ],
             [
              0.2222222222222222,
              "#7201a8"
             ],
             [
              0.3333333333333333,
              "#9c179e"
             ],
             [
              0.4444444444444444,
              "#bd3786"
             ],
             [
              0.5555555555555556,
              "#d8576b"
             ],
             [
              0.6666666666666666,
              "#ed7953"
             ],
             [
              0.7777777777777778,
              "#fb9f3a"
             ],
             [
              0.8888888888888888,
              "#fdca26"
             ],
             [
              1,
              "#f0f921"
             ]
            ],
            "type": "heatmapgl"
           }
          ],
          "histogram": [
           {
            "marker": {
             "colorbar": {
              "outlinewidth": 0,
              "ticks": ""
             }
            },
            "type": "histogram"
           }
          ],
          "histogram2d": [
           {
            "colorbar": {
             "outlinewidth": 0,
             "ticks": ""
            },
            "colorscale": [
             [
              0,
              "#0d0887"
             ],
             [
              0.1111111111111111,
              "#46039f"
             ],
             [
              0.2222222222222222,
              "#7201a8"
             ],
             [
              0.3333333333333333,
              "#9c179e"
             ],
             [
              0.4444444444444444,
              "#bd3786"
             ],
             [
              0.5555555555555556,
              "#d8576b"
             ],
             [
              0.6666666666666666,
              "#ed7953"
             ],
             [
              0.7777777777777778,
              "#fb9f3a"
             ],
             [
              0.8888888888888888,
              "#fdca26"
             ],
             [
              1,
              "#f0f921"
             ]
            ],
            "type": "histogram2d"
           }
          ],
          "histogram2dcontour": [
           {
            "colorbar": {
             "outlinewidth": 0,
             "ticks": ""
            },
            "colorscale": [
             [
              0,
              "#0d0887"
             ],
             [
              0.1111111111111111,
              "#46039f"
             ],
             [
              0.2222222222222222,
              "#7201a8"
             ],
             [
              0.3333333333333333,
              "#9c179e"
             ],
             [
              0.4444444444444444,
              "#bd3786"
             ],
             [
              0.5555555555555556,
              "#d8576b"
             ],
             [
              0.6666666666666666,
              "#ed7953"
             ],
             [
              0.7777777777777778,
              "#fb9f3a"
             ],
             [
              0.8888888888888888,
              "#fdca26"
             ],
             [
              1,
              "#f0f921"
             ]
            ],
            "type": "histogram2dcontour"
           }
          ],
          "mesh3d": [
           {
            "colorbar": {
             "outlinewidth": 0,
             "ticks": ""
            },
            "type": "mesh3d"
           }
          ],
          "parcoords": [
           {
            "line": {
             "colorbar": {
              "outlinewidth": 0,
              "ticks": ""
             }
            },
            "type": "parcoords"
           }
          ],
          "pie": [
           {
            "automargin": true,
            "type": "pie"
           }
          ],
          "scatter": [
           {
            "marker": {
             "colorbar": {
              "outlinewidth": 0,
              "ticks": ""
             }
            },
            "type": "scatter"
           }
          ],
          "scatter3d": [
           {
            "line": {
             "colorbar": {
              "outlinewidth": 0,
              "ticks": ""
             }
            },
            "marker": {
             "colorbar": {
              "outlinewidth": 0,
              "ticks": ""
             }
            },
            "type": "scatter3d"
           }
          ],
          "scattercarpet": [
           {
            "marker": {
             "colorbar": {
              "outlinewidth": 0,
              "ticks": ""
             }
            },
            "type": "scattercarpet"
           }
          ],
          "scattergeo": [
           {
            "marker": {
             "colorbar": {
              "outlinewidth": 0,
              "ticks": ""
             }
            },
            "type": "scattergeo"
           }
          ],
          "scattergl": [
           {
            "marker": {
             "colorbar": {
              "outlinewidth": 0,
              "ticks": ""
             }
            },
            "type": "scattergl"
           }
          ],
          "scattermapbox": [
           {
            "marker": {
             "colorbar": {
              "outlinewidth": 0,
              "ticks": ""
             }
            },
            "type": "scattermapbox"
           }
          ],
          "scatterpolar": [
           {
            "marker": {
             "colorbar": {
              "outlinewidth": 0,
              "ticks": ""
             }
            },
            "type": "scatterpolar"
           }
          ],
          "scatterpolargl": [
           {
            "marker": {
             "colorbar": {
              "outlinewidth": 0,
              "ticks": ""
             }
            },
            "type": "scatterpolargl"
           }
          ],
          "scatterternary": [
           {
            "marker": {
             "colorbar": {
              "outlinewidth": 0,
              "ticks": ""
             }
            },
            "type": "scatterternary"
           }
          ],
          "surface": [
           {
            "colorbar": {
             "outlinewidth": 0,
             "ticks": ""
            },
            "colorscale": [
             [
              0,
              "#0d0887"
             ],
             [
              0.1111111111111111,
              "#46039f"
             ],
             [
              0.2222222222222222,
              "#7201a8"
             ],
             [
              0.3333333333333333,
              "#9c179e"
             ],
             [
              0.4444444444444444,
              "#bd3786"
             ],
             [
              0.5555555555555556,
              "#d8576b"
             ],
             [
              0.6666666666666666,
              "#ed7953"
             ],
             [
              0.7777777777777778,
              "#fb9f3a"
             ],
             [
              0.8888888888888888,
              "#fdca26"
             ],
             [
              1,
              "#f0f921"
             ]
            ],
            "type": "surface"
           }
          ],
          "table": [
           {
            "cells": {
             "fill": {
              "color": "#EBF0F8"
             },
             "line": {
              "color": "white"
             }
            },
            "header": {
             "fill": {
              "color": "#C8D4E3"
             },
             "line": {
              "color": "white"
             }
            },
            "type": "table"
           }
          ]
         },
         "layout": {
          "annotationdefaults": {
           "arrowcolor": "#2a3f5f",
           "arrowhead": 0,
           "arrowwidth": 1
          },
          "coloraxis": {
           "colorbar": {
            "outlinewidth": 0,
            "ticks": ""
           }
          },
          "colorscale": {
           "diverging": [
            [
             0,
             "#8e0152"
            ],
            [
             0.1,
             "#c51b7d"
            ],
            [
             0.2,
             "#de77ae"
            ],
            [
             0.3,
             "#f1b6da"
            ],
            [
             0.4,
             "#fde0ef"
            ],
            [
             0.5,
             "#f7f7f7"
            ],
            [
             0.6,
             "#e6f5d0"
            ],
            [
             0.7,
             "#b8e186"
            ],
            [
             0.8,
             "#7fbc41"
            ],
            [
             0.9,
             "#4d9221"
            ],
            [
             1,
             "#276419"
            ]
           ],
           "sequential": [
            [
             0,
             "#0d0887"
            ],
            [
             0.1111111111111111,
             "#46039f"
            ],
            [
             0.2222222222222222,
             "#7201a8"
            ],
            [
             0.3333333333333333,
             "#9c179e"
            ],
            [
             0.4444444444444444,
             "#bd3786"
            ],
            [
             0.5555555555555556,
             "#d8576b"
            ],
            [
             0.6666666666666666,
             "#ed7953"
            ],
            [
             0.7777777777777778,
             "#fb9f3a"
            ],
            [
             0.8888888888888888,
             "#fdca26"
            ],
            [
             1,
             "#f0f921"
            ]
           ],
           "sequentialminus": [
            [
             0,
             "#0d0887"
            ],
            [
             0.1111111111111111,
             "#46039f"
            ],
            [
             0.2222222222222222,
             "#7201a8"
            ],
            [
             0.3333333333333333,
             "#9c179e"
            ],
            [
             0.4444444444444444,
             "#bd3786"
            ],
            [
             0.5555555555555556,
             "#d8576b"
            ],
            [
             0.6666666666666666,
             "#ed7953"
            ],
            [
             0.7777777777777778,
             "#fb9f3a"
            ],
            [
             0.8888888888888888,
             "#fdca26"
            ],
            [
             1,
             "#f0f921"
            ]
           ]
          },
          "colorway": [
           "#636efa",
           "#EF553B",
           "#00cc96",
           "#ab63fa",
           "#FFA15A",
           "#19d3f3",
           "#FF6692",
           "#B6E880",
           "#FF97FF",
           "#FECB52"
          ],
          "font": {
           "color": "#2a3f5f"
          },
          "geo": {
           "bgcolor": "white",
           "lakecolor": "white",
           "landcolor": "#E5ECF6",
           "showlakes": true,
           "showland": true,
           "subunitcolor": "white"
          },
          "hoverlabel": {
           "align": "left"
          },
          "hovermode": "closest",
          "mapbox": {
           "style": "light"
          },
          "paper_bgcolor": "white",
          "plot_bgcolor": "#E5ECF6",
          "polar": {
           "angularaxis": {
            "gridcolor": "white",
            "linecolor": "white",
            "ticks": ""
           },
           "bgcolor": "#E5ECF6",
           "radialaxis": {
            "gridcolor": "white",
            "linecolor": "white",
            "ticks": ""
           }
          },
          "scene": {
           "xaxis": {
            "backgroundcolor": "#E5ECF6",
            "gridcolor": "white",
            "gridwidth": 2,
            "linecolor": "white",
            "showbackground": true,
            "ticks": "",
            "zerolinecolor": "white"
           },
           "yaxis": {
            "backgroundcolor": "#E5ECF6",
            "gridcolor": "white",
            "gridwidth": 2,
            "linecolor": "white",
            "showbackground": true,
            "ticks": "",
            "zerolinecolor": "white"
           },
           "zaxis": {
            "backgroundcolor": "#E5ECF6",
            "gridcolor": "white",
            "gridwidth": 2,
            "linecolor": "white",
            "showbackground": true,
            "ticks": "",
            "zerolinecolor": "white"
           }
          },
          "shapedefaults": {
           "line": {
            "color": "#2a3f5f"
           }
          },
          "ternary": {
           "aaxis": {
            "gridcolor": "white",
            "linecolor": "white",
            "ticks": ""
           },
           "baxis": {
            "gridcolor": "white",
            "linecolor": "white",
            "ticks": ""
           },
           "bgcolor": "#E5ECF6",
           "caxis": {
            "gridcolor": "white",
            "linecolor": "white",
            "ticks": ""
           }
          },
          "title": {
           "x": 0.05
          },
          "xaxis": {
           "automargin": true,
           "gridcolor": "white",
           "linecolor": "white",
           "ticks": "",
           "title": {
            "standoff": 15
           },
           "zerolinecolor": "white",
           "zerolinewidth": 2
          },
          "yaxis": {
           "automargin": true,
           "gridcolor": "white",
           "linecolor": "white",
           "ticks": "",
           "title": {
            "standoff": 15
           },
           "zerolinecolor": "white",
           "zerolinewidth": 2
          }
         }
        },
        "xaxis": {
         "rangeslider": {
          "visible": true
         }
        }
       }
      },
      "text/html": [
       "<div>\n",
       "        \n",
       "        \n",
       "            <div id=\"8dff9260-fcfb-4271-af0d-c31f3e2060c3\" class=\"plotly-graph-div\" style=\"height:525px; width:100%;\"></div>\n",
       "            <script type=\"text/javascript\">\n",
       "                require([\"plotly\"], function(Plotly) {\n",
       "                    window.PLOTLYENV=window.PLOTLYENV || {};\n",
       "                    \n",
       "                if (document.getElementById(\"8dff9260-fcfb-4271-af0d-c31f3e2060c3\")) {\n",
       "                    Plotly.newPlot(\n",
       "                        '8dff9260-fcfb-4271-af0d-c31f3e2060c3',\n",
       "                        [{\"name\": \"EC\", \"type\": \"scatter\", \"x\": [\"05-03-2020\", \"07-03-2020\", \"08-03-2020\", \"09-03-2020\", \"11-03-2020\", \"12-03-2020\", \"13-03-2020\", \"14-03-2020\", \"15-03-2020\", \"16-03-2020\", \"17-03-2020\", \"18-03-2020\", \"19-03-2020\", \"20-03-2020\", \"21-03-2020\", \"22-03-2020\", \"23-03-2020\", \"24-03-2020\", \"25-03-2020\", \"26-03-2020\", \"28-03-2020\", \"29-03-2020\", \"30-03-2020\", \"31-03-2020\", \"01-04-2020\", \"02-04-2020\", \"03-04-2020\", \"04-04-2020\", \"05-04-2020\", \"06-04-2020\", \"08-04-2020\", \"09-04-2020\", \"10-04-2020\", \"11-04-2020\", \"12-04-2020\", \"13-04-2020\", \"14-04-2020\", \"15-04-2020\", \"16-04-2020\", \"17-04-2020\", \"18-04-2020\", \"19-04-2020\", \"20-04-2020\", \"21-04-2020\", \"21-04-2020\"], \"y\": [0.0, 0.0, 0.0, 0.0, 0.0, 0.0, 0.0, 0.0, 0.0, 0.0, 0.0, 0.0, 0.0, 0.0, 1.0, 2.0, 2.0, 2.0, 2.0, 5.0, 10.0, 12.0, 12.0, 12.0, 15.0, 17.0, 21.0, 25.0, 31.0, 32.0, 45.0, 61.0, 68.0, 69.0, 88.0, 104.0, 174.0, 199.0, 220.0, 246.0, 270.0, 293.0, 310.0, 345.0, 377.0]}, {\"name\": \"WC\", \"type\": \"scatter\", \"x\": [\"05-03-2020\", \"07-03-2020\", \"08-03-2020\", \"09-03-2020\", \"11-03-2020\", \"12-03-2020\", \"13-03-2020\", \"14-03-2020\", \"15-03-2020\", \"16-03-2020\", \"17-03-2020\", \"18-03-2020\", \"19-03-2020\", \"20-03-2020\", \"21-03-2020\", \"22-03-2020\", \"23-03-2020\", \"24-03-2020\", \"25-03-2020\", \"26-03-2020\", \"28-03-2020\", \"29-03-2020\", \"30-03-2020\", \"31-03-2020\", \"01-04-2020\", \"02-04-2020\", \"03-04-2020\", \"04-04-2020\", \"05-04-2020\", \"06-04-2020\", \"08-04-2020\", \"09-04-2020\", \"10-04-2020\", \"11-04-2020\", \"12-04-2020\", \"13-04-2020\", \"14-04-2020\", \"15-04-2020\", \"16-04-2020\", \"17-04-2020\", \"18-04-2020\", \"19-04-2020\", \"20-04-2020\", \"21-04-2020\", \"21-04-2020\"], \"y\": [0.0, 0.0, 0.0, 0.0, 1.0, 1.0, 3.0, 9.0, 14.0, 16.0, 21.0, 31.0, 46.0, 57.0, 75.0, 89.0, 100.0, 113.0, 183.0, 229.0, 271.0, 310.0, 324.0, 325.0, 326.0, 353.0, 374.0, 433.0, 454.0, 462.0, 495.0, 515.0, 541.0, 546.0, 587.0, 617.0, 643.0, 657.0, 675.0, 717.0, 836.0, 868.0, 940.0, 1010.0, 1079.0]}, {\"name\": \"FS\", \"type\": \"scatter\", \"x\": [\"05-03-2020\", \"07-03-2020\", \"08-03-2020\", \"09-03-2020\", \"11-03-2020\", \"12-03-2020\", \"13-03-2020\", \"14-03-2020\", \"15-03-2020\", \"16-03-2020\", \"17-03-2020\", \"18-03-2020\", \"19-03-2020\", \"20-03-2020\", \"21-03-2020\", \"22-03-2020\", \"23-03-2020\", \"24-03-2020\", \"25-03-2020\", \"26-03-2020\", \"28-03-2020\", \"29-03-2020\", \"30-03-2020\", \"31-03-2020\", \"01-04-2020\", \"02-04-2020\", \"03-04-2020\", \"04-04-2020\", \"05-04-2020\", \"06-04-2020\", \"08-04-2020\", \"09-04-2020\", \"10-04-2020\", \"11-04-2020\", \"12-04-2020\", \"13-04-2020\", \"14-04-2020\", \"15-04-2020\", \"16-04-2020\", \"17-04-2020\", \"18-04-2020\", \"19-04-2020\", \"20-04-2020\", \"21-04-2020\", \"21-04-2020\"], \"y\": [0.0, 0.0, 0.0, 0.0, 0.0, 0.0, 0.0, 0.0, 0.0, 0.0, 0.0, 0.0, 0.0, 7.0, 7.0, 9.0, 13.0, 18.0, 30.0, 49.0, 68.0, 72.0, 72.0, 74.0, 76.0, 84.0, 84.0, 85.0, 87.0, 89.0, 88.0, 93.0, 94.0, 94.0, 96.0, 96.0, 98.0, 97.0, 98.0, 100.0, 100.0, 100.0, 105.0, 106.0, 106.0]}, {\"name\": \"GP\", \"type\": \"scatter\", \"x\": [\"05-03-2020\", \"07-03-2020\", \"08-03-2020\", \"09-03-2020\", \"11-03-2020\", \"12-03-2020\", \"13-03-2020\", \"14-03-2020\", \"15-03-2020\", \"16-03-2020\", \"17-03-2020\", \"18-03-2020\", \"19-03-2020\", \"20-03-2020\", \"21-03-2020\", \"22-03-2020\", \"23-03-2020\", \"24-03-2020\", \"25-03-2020\", \"26-03-2020\", \"28-03-2020\", \"29-03-2020\", \"30-03-2020\", \"31-03-2020\", \"01-04-2020\", \"02-04-2020\", \"03-04-2020\", \"04-04-2020\", \"05-04-2020\", \"06-04-2020\", \"08-04-2020\", \"09-04-2020\", \"10-04-2020\", \"11-04-2020\", \"12-04-2020\", \"13-04-2020\", \"14-04-2020\", \"15-04-2020\", \"16-04-2020\", \"17-04-2020\", \"18-04-2020\", \"19-04-2020\", \"20-04-2020\", \"21-04-2020\", \"21-04-2020\"], \"y\": [0.0, 1.0, 1.0, 1.0, 5.0, 6.0, 10.0, 17.0, 24.0, 31.0, 45.0, 61.0, 76.0, 109.0, 125.0, 132.0, 207.0, 302.0, 319.0, 409.0, 533.0, 584.0, 618.0, 633.0, 645.0, 663.0, 672.0, 693.0, 704.0, 713.0, 782.0, 795.0, 801.0, 813.0, 865.0, 890.0, 909.0, 930.0, 969.0, 1018.0, 1101.0, 1148.0, 1170.0, 1199.0, 1224.0]}, {\"name\": \"KZN\", \"type\": \"scatter\", \"x\": [\"05-03-2020\", \"07-03-2020\", \"08-03-2020\", \"09-03-2020\", \"11-03-2020\", \"12-03-2020\", \"13-03-2020\", \"14-03-2020\", \"15-03-2020\", \"16-03-2020\", \"17-03-2020\", \"18-03-2020\", \"19-03-2020\", \"20-03-2020\", \"21-03-2020\", \"22-03-2020\", \"23-03-2020\", \"24-03-2020\", \"25-03-2020\", \"26-03-2020\", \"28-03-2020\", \"29-03-2020\", \"30-03-2020\", \"31-03-2020\", \"01-04-2020\", \"02-04-2020\", \"03-04-2020\", \"04-04-2020\", \"05-04-2020\", \"06-04-2020\", \"08-04-2020\", \"09-04-2020\", \"10-04-2020\", \"11-04-2020\", \"12-04-2020\", \"13-04-2020\", \"14-04-2020\", \"15-04-2020\", \"16-04-2020\", \"17-04-2020\", \"18-04-2020\", \"19-04-2020\", \"20-04-2020\", \"21-04-2020\", \"21-04-2020\"], \"y\": [1.0, 1.0, 2.0, 6.0, 7.0, 8.0, 10.0, 11.0, 12.0, 12.0, 16.0, 19.0, 22.0, 23.0, 26.0, 35.0, 60.0, 80.0, 91.0, 134.0, 156.0, 167.0, 171.0, 179.0, 186.0, 206.0, 215.0, 232.0, 246.0, 257.0, 354.0, 387.0, 412.0, 418.0, 443.0, 465.0, 489.0, 519.0, 539.0, 591.0, 604.0, 617.0, 639.0, 671.0, 758.0]}, {\"name\": \"NW\", \"type\": \"scatter\", \"x\": [\"05-03-2020\", \"07-03-2020\", \"08-03-2020\", \"09-03-2020\", \"11-03-2020\", \"12-03-2020\", \"13-03-2020\", \"14-03-2020\", \"15-03-2020\", \"16-03-2020\", \"17-03-2020\", \"18-03-2020\", \"19-03-2020\", \"20-03-2020\", \"21-03-2020\", \"22-03-2020\", \"23-03-2020\", \"24-03-2020\", \"25-03-2020\", \"26-03-2020\", \"28-03-2020\", \"29-03-2020\", \"30-03-2020\", \"31-03-2020\", \"01-04-2020\", \"02-04-2020\", \"03-04-2020\", \"04-04-2020\", \"05-04-2020\", \"06-04-2020\", \"08-04-2020\", \"09-04-2020\", \"10-04-2020\", \"11-04-2020\", \"12-04-2020\", \"13-04-2020\", \"14-04-2020\", \"15-04-2020\", \"16-04-2020\", \"17-04-2020\", \"18-04-2020\", \"19-04-2020\", \"20-04-2020\", \"21-04-2020\", \"21-04-2020\"], \"y\": [0.0, 0.0, 0.0, 0.0, 0.0, 0.0, 0.0, 0.0, 0.0, 0.0, 0.0, 0.0, 0.0, 0.0, 0.0, 0.0, 4.0, 5.0, 5.0, 5.0, 6.0, 6.0, 8.0, 8.0, 9.0, 9.0, 9.0, 11.0, 11.0, 11.0, 15.0, 15.0, 18.0, 19.0, 19.0, 22.0, 22.0, 23.0, 24.0, 24.0, 24.0, 24.0, 25.0, 24.0, 24.0]}, {\"name\": \"LP\", \"type\": \"scatter\", \"x\": [\"05-03-2020\", \"07-03-2020\", \"08-03-2020\", \"09-03-2020\", \"11-03-2020\", \"12-03-2020\", \"13-03-2020\", \"14-03-2020\", \"15-03-2020\", \"16-03-2020\", \"17-03-2020\", \"18-03-2020\", \"19-03-2020\", \"20-03-2020\", \"21-03-2020\", \"22-03-2020\", \"23-03-2020\", \"24-03-2020\", \"25-03-2020\", \"26-03-2020\", \"28-03-2020\", \"29-03-2020\", \"30-03-2020\", \"31-03-2020\", \"01-04-2020\", \"02-04-2020\", \"03-04-2020\", \"04-04-2020\", \"05-04-2020\", \"06-04-2020\", \"08-04-2020\", \"09-04-2020\", \"10-04-2020\", \"11-04-2020\", \"12-04-2020\", \"13-04-2020\", \"14-04-2020\", \"15-04-2020\", \"16-04-2020\", \"17-04-2020\", \"18-04-2020\", \"19-04-2020\", \"20-04-2020\", \"21-04-2020\", \"21-04-2020\"], \"y\": [0.0, 0.0, 0.0, 0.0, 0.0, 0.0, 0.0, 0.0, 0.0, 1.0, 1.0, 1.0, 1.0, 1.0, 1.0, 2.0, 4.0, 4.0, 4.0, 6.0, 11.0, 12.0, 11.0, 14.0, 14.0, 16.0, 16.0, 18.0, 19.0, 19.0, 21.0, 22.0, 24.0, 23.0, 23.0, 23.0, 24.0, 25.0, 26.0, 26.0, 26.0, 27.0, 27.0, 27.0, 27.0]}, {\"name\": \"MP\", \"type\": \"scatter\", \"x\": [\"05-03-2020\", \"07-03-2020\", \"08-03-2020\", \"09-03-2020\", \"11-03-2020\", \"12-03-2020\", \"13-03-2020\", \"14-03-2020\", \"15-03-2020\", \"16-03-2020\", \"17-03-2020\", \"18-03-2020\", \"19-03-2020\", \"20-03-2020\", \"21-03-2020\", \"22-03-2020\", \"23-03-2020\", \"24-03-2020\", \"25-03-2020\", \"26-03-2020\", \"28-03-2020\", \"29-03-2020\", \"30-03-2020\", \"31-03-2020\", \"01-04-2020\", \"02-04-2020\", \"03-04-2020\", \"04-04-2020\", \"05-04-2020\", \"06-04-2020\", \"08-04-2020\", \"09-04-2020\", \"10-04-2020\", \"11-04-2020\", \"12-04-2020\", \"13-04-2020\", \"14-04-2020\", \"15-04-2020\", \"16-04-2020\", \"17-04-2020\", \"18-04-2020\", \"19-04-2020\", \"20-04-2020\", \"21-04-2020\", \"21-04-2020\"], \"y\": [0.0, 0.0, 0.0, 0.0, 0.0, 1.0, 1.0, 1.0, 1.0, 2.0, 2.0, 4.0, 5.0, 5.0, 5.0, 5.0, 9.0, 9.0, 8.0, 9.0, 10.0, 11.0, 11.0, 12.0, 12.0, 13.0, 13.0, 18.0, 18.0, 18.0, 21.0, 20.0, 20.0, 20.0, 21.0, 22.0, 22.0, 22.0, 22.0, 23.0, 25.0, 23.0, 23.0, 24.0, 23.0]}, {\"name\": \"NC\", \"type\": \"scatter\", \"x\": [\"05-03-2020\", \"07-03-2020\", \"08-03-2020\", \"09-03-2020\", \"11-03-2020\", \"12-03-2020\", \"13-03-2020\", \"14-03-2020\", \"15-03-2020\", \"16-03-2020\", \"17-03-2020\", \"18-03-2020\", \"19-03-2020\", \"20-03-2020\", \"21-03-2020\", \"22-03-2020\", \"23-03-2020\", \"24-03-2020\", \"25-03-2020\", \"26-03-2020\", \"28-03-2020\", \"29-03-2020\", \"30-03-2020\", \"31-03-2020\", \"01-04-2020\", \"02-04-2020\", \"03-04-2020\", \"04-04-2020\", \"05-04-2020\", \"06-04-2020\", \"08-04-2020\", \"09-04-2020\", \"10-04-2020\", \"11-04-2020\", \"12-04-2020\", \"13-04-2020\", \"14-04-2020\", \"15-04-2020\", \"16-04-2020\", \"17-04-2020\", \"18-04-2020\", \"19-04-2020\", \"20-04-2020\", \"21-04-2020\", \"21-04-2020\"], \"y\": [0.0, 0.0, 0.0, 0.0, 0.0, 0.0, 0.0, 0.0, 0.0, 0.0, 0.0, 0.0, 0.0, 0.0, 0.0, 0.0, 2.0, 2.0, 2.0, 2.0, 5.0, 6.0, 3.0, 6.0, 7.0, 7.0, 7.0, 7.0, 8.0, 8.0, 13.0, 15.0, 15.0, 16.0, 16.0, 16.0, 16.0, 16.0, 16.0, 16.0, 16.0, 16.0, 18.0, 16.0, 16.0]}, {\"name\": \"Unlocated\", \"type\": \"scatter\", \"x\": [\"05-03-2020\", \"07-03-2020\", \"08-03-2020\", \"09-03-2020\", \"11-03-2020\", \"12-03-2020\", \"13-03-2020\", \"14-03-2020\", \"15-03-2020\", \"16-03-2020\", \"17-03-2020\", \"18-03-2020\", \"19-03-2020\", \"20-03-2020\", \"21-03-2020\", \"22-03-2020\", \"23-03-2020\", \"24-03-2020\", \"25-03-2020\", \"26-03-2020\", \"28-03-2020\", \"29-03-2020\", \"30-03-2020\", \"31-03-2020\", \"01-04-2020\", \"02-04-2020\", \"03-04-2020\", \"04-04-2020\", \"05-04-2020\", \"06-04-2020\", \"08-04-2020\", \"09-04-2020\", \"10-04-2020\", \"11-04-2020\", \"12-04-2020\", \"13-04-2020\", \"14-04-2020\", \"15-04-2020\", \"16-04-2020\", \"17-04-2020\", \"18-04-2020\", \"19-04-2020\", \"20-04-2020\", \"21-04-2020\", \"21-04-2020\"], \"y\": [0.0, 0.0, 0.0, 0.0, 0.0, 0.0, 0.0, 0.0, 0.0, 0.0, 0.0, 0.0, 0.0, 0.0, 0.0, 0.0, 1.0, 19.0, 65.0, 79.0, 117.0, 100.0, 96.0, 90.0, 90.0, 94.0, 94.0, 63.0, 77.0, 77.0, 11.0, 11.0, 10.0, 10.0, 15.0, 17.0, 18.0, 18.0, 16.0, 22.0, 32.0, 42.0, 43.0, 43.0, 1.0]}],\n",
       "                        {\"hovermode\": \"x\", \"template\": {\"data\": {\"bar\": [{\"error_x\": {\"color\": \"#2a3f5f\"}, \"error_y\": {\"color\": \"#2a3f5f\"}, \"marker\": {\"line\": {\"color\": \"#E5ECF6\", \"width\": 0.5}}, \"type\": \"bar\"}], \"barpolar\": [{\"marker\": {\"line\": {\"color\": \"#E5ECF6\", \"width\": 0.5}}, \"type\": \"barpolar\"}], \"carpet\": [{\"aaxis\": {\"endlinecolor\": \"#2a3f5f\", \"gridcolor\": \"white\", \"linecolor\": \"white\", \"minorgridcolor\": \"white\", \"startlinecolor\": \"#2a3f5f\"}, \"baxis\": {\"endlinecolor\": \"#2a3f5f\", \"gridcolor\": \"white\", \"linecolor\": \"white\", \"minorgridcolor\": \"white\", \"startlinecolor\": \"#2a3f5f\"}, \"type\": \"carpet\"}], \"choropleth\": [{\"colorbar\": {\"outlinewidth\": 0, \"ticks\": \"\"}, \"type\": \"choropleth\"}], \"contour\": [{\"colorbar\": {\"outlinewidth\": 0, \"ticks\": \"\"}, \"colorscale\": [[0.0, \"#0d0887\"], [0.1111111111111111, \"#46039f\"], [0.2222222222222222, \"#7201a8\"], [0.3333333333333333, \"#9c179e\"], [0.4444444444444444, \"#bd3786\"], [0.5555555555555556, \"#d8576b\"], [0.6666666666666666, \"#ed7953\"], [0.7777777777777778, \"#fb9f3a\"], [0.8888888888888888, \"#fdca26\"], [1.0, \"#f0f921\"]], \"type\": \"contour\"}], \"contourcarpet\": [{\"colorbar\": {\"outlinewidth\": 0, \"ticks\": \"\"}, \"type\": \"contourcarpet\"}], \"heatmap\": [{\"colorbar\": {\"outlinewidth\": 0, \"ticks\": \"\"}, \"colorscale\": [[0.0, \"#0d0887\"], [0.1111111111111111, \"#46039f\"], [0.2222222222222222, \"#7201a8\"], [0.3333333333333333, \"#9c179e\"], [0.4444444444444444, \"#bd3786\"], [0.5555555555555556, \"#d8576b\"], [0.6666666666666666, \"#ed7953\"], [0.7777777777777778, \"#fb9f3a\"], [0.8888888888888888, \"#fdca26\"], [1.0, \"#f0f921\"]], \"type\": \"heatmap\"}], \"heatmapgl\": [{\"colorbar\": {\"outlinewidth\": 0, \"ticks\": \"\"}, \"colorscale\": [[0.0, \"#0d0887\"], [0.1111111111111111, \"#46039f\"], [0.2222222222222222, \"#7201a8\"], [0.3333333333333333, \"#9c179e\"], [0.4444444444444444, \"#bd3786\"], [0.5555555555555556, \"#d8576b\"], [0.6666666666666666, \"#ed7953\"], [0.7777777777777778, \"#fb9f3a\"], [0.8888888888888888, \"#fdca26\"], [1.0, \"#f0f921\"]], \"type\": \"heatmapgl\"}], \"histogram\": [{\"marker\": {\"colorbar\": {\"outlinewidth\": 0, \"ticks\": \"\"}}, \"type\": \"histogram\"}], \"histogram2d\": [{\"colorbar\": {\"outlinewidth\": 0, \"ticks\": \"\"}, \"colorscale\": [[0.0, \"#0d0887\"], [0.1111111111111111, \"#46039f\"], [0.2222222222222222, \"#7201a8\"], [0.3333333333333333, \"#9c179e\"], [0.4444444444444444, \"#bd3786\"], [0.5555555555555556, \"#d8576b\"], [0.6666666666666666, \"#ed7953\"], [0.7777777777777778, \"#fb9f3a\"], [0.8888888888888888, \"#fdca26\"], [1.0, \"#f0f921\"]], \"type\": \"histogram2d\"}], \"histogram2dcontour\": [{\"colorbar\": {\"outlinewidth\": 0, \"ticks\": \"\"}, \"colorscale\": [[0.0, \"#0d0887\"], [0.1111111111111111, \"#46039f\"], [0.2222222222222222, \"#7201a8\"], [0.3333333333333333, \"#9c179e\"], [0.4444444444444444, \"#bd3786\"], [0.5555555555555556, \"#d8576b\"], [0.6666666666666666, \"#ed7953\"], [0.7777777777777778, \"#fb9f3a\"], [0.8888888888888888, \"#fdca26\"], [1.0, \"#f0f921\"]], \"type\": \"histogram2dcontour\"}], \"mesh3d\": [{\"colorbar\": {\"outlinewidth\": 0, \"ticks\": \"\"}, \"type\": \"mesh3d\"}], \"parcoords\": [{\"line\": {\"colorbar\": {\"outlinewidth\": 0, \"ticks\": \"\"}}, \"type\": \"parcoords\"}], \"pie\": [{\"automargin\": true, \"type\": \"pie\"}], \"scatter\": [{\"marker\": {\"colorbar\": {\"outlinewidth\": 0, \"ticks\": \"\"}}, \"type\": \"scatter\"}], \"scatter3d\": [{\"line\": {\"colorbar\": {\"outlinewidth\": 0, \"ticks\": \"\"}}, \"marker\": {\"colorbar\": {\"outlinewidth\": 0, \"ticks\": \"\"}}, \"type\": \"scatter3d\"}], \"scattercarpet\": [{\"marker\": {\"colorbar\": {\"outlinewidth\": 0, \"ticks\": \"\"}}, \"type\": \"scattercarpet\"}], \"scattergeo\": [{\"marker\": {\"colorbar\": {\"outlinewidth\": 0, \"ticks\": \"\"}}, \"type\": \"scattergeo\"}], \"scattergl\": [{\"marker\": {\"colorbar\": {\"outlinewidth\": 0, \"ticks\": \"\"}}, \"type\": \"scattergl\"}], \"scattermapbox\": [{\"marker\": {\"colorbar\": {\"outlinewidth\": 0, \"ticks\": \"\"}}, \"type\": \"scattermapbox\"}], \"scatterpolar\": [{\"marker\": {\"colorbar\": {\"outlinewidth\": 0, \"ticks\": \"\"}}, \"type\": \"scatterpolar\"}], \"scatterpolargl\": [{\"marker\": {\"colorbar\": {\"outlinewidth\": 0, \"ticks\": \"\"}}, \"type\": \"scatterpolargl\"}], \"scatterternary\": [{\"marker\": {\"colorbar\": {\"outlinewidth\": 0, \"ticks\": \"\"}}, \"type\": \"scatterternary\"}], \"surface\": [{\"colorbar\": {\"outlinewidth\": 0, \"ticks\": \"\"}, \"colorscale\": [[0.0, \"#0d0887\"], [0.1111111111111111, \"#46039f\"], [0.2222222222222222, \"#7201a8\"], [0.3333333333333333, \"#9c179e\"], [0.4444444444444444, \"#bd3786\"], [0.5555555555555556, \"#d8576b\"], [0.6666666666666666, \"#ed7953\"], [0.7777777777777778, \"#fb9f3a\"], [0.8888888888888888, \"#fdca26\"], [1.0, \"#f0f921\"]], \"type\": \"surface\"}], \"table\": [{\"cells\": {\"fill\": {\"color\": \"#EBF0F8\"}, \"line\": {\"color\": \"white\"}}, \"header\": {\"fill\": {\"color\": \"#C8D4E3\"}, \"line\": {\"color\": \"white\"}}, \"type\": \"table\"}]}, \"layout\": {\"annotationdefaults\": {\"arrowcolor\": \"#2a3f5f\", \"arrowhead\": 0, \"arrowwidth\": 1}, \"coloraxis\": {\"colorbar\": {\"outlinewidth\": 0, \"ticks\": \"\"}}, \"colorscale\": {\"diverging\": [[0, \"#8e0152\"], [0.1, \"#c51b7d\"], [0.2, \"#de77ae\"], [0.3, \"#f1b6da\"], [0.4, \"#fde0ef\"], [0.5, \"#f7f7f7\"], [0.6, \"#e6f5d0\"], [0.7, \"#b8e186\"], [0.8, \"#7fbc41\"], [0.9, \"#4d9221\"], [1, \"#276419\"]], \"sequential\": [[0.0, \"#0d0887\"], [0.1111111111111111, \"#46039f\"], [0.2222222222222222, \"#7201a8\"], [0.3333333333333333, \"#9c179e\"], [0.4444444444444444, \"#bd3786\"], [0.5555555555555556, \"#d8576b\"], [0.6666666666666666, \"#ed7953\"], [0.7777777777777778, \"#fb9f3a\"], [0.8888888888888888, \"#fdca26\"], [1.0, \"#f0f921\"]], \"sequentialminus\": [[0.0, \"#0d0887\"], [0.1111111111111111, \"#46039f\"], [0.2222222222222222, \"#7201a8\"], [0.3333333333333333, \"#9c179e\"], [0.4444444444444444, \"#bd3786\"], [0.5555555555555556, \"#d8576b\"], [0.6666666666666666, \"#ed7953\"], [0.7777777777777778, \"#fb9f3a\"], [0.8888888888888888, \"#fdca26\"], [1.0, \"#f0f921\"]]}, \"colorway\": [\"#636efa\", \"#EF553B\", \"#00cc96\", \"#ab63fa\", \"#FFA15A\", \"#19d3f3\", \"#FF6692\", \"#B6E880\", \"#FF97FF\", \"#FECB52\"], \"font\": {\"color\": \"#2a3f5f\"}, \"geo\": {\"bgcolor\": \"white\", \"lakecolor\": \"white\", \"landcolor\": \"#E5ECF6\", \"showlakes\": true, \"showland\": true, \"subunitcolor\": \"white\"}, \"hoverlabel\": {\"align\": \"left\"}, \"hovermode\": \"closest\", \"mapbox\": {\"style\": \"light\"}, \"paper_bgcolor\": \"white\", \"plot_bgcolor\": \"#E5ECF6\", \"polar\": {\"angularaxis\": {\"gridcolor\": \"white\", \"linecolor\": \"white\", \"ticks\": \"\"}, \"bgcolor\": \"#E5ECF6\", \"radialaxis\": {\"gridcolor\": \"white\", \"linecolor\": \"white\", \"ticks\": \"\"}}, \"scene\": {\"xaxis\": {\"backgroundcolor\": \"#E5ECF6\", \"gridcolor\": \"white\", \"gridwidth\": 2, \"linecolor\": \"white\", \"showbackground\": true, \"ticks\": \"\", \"zerolinecolor\": \"white\"}, \"yaxis\": {\"backgroundcolor\": \"#E5ECF6\", \"gridcolor\": \"white\", \"gridwidth\": 2, \"linecolor\": \"white\", \"showbackground\": true, \"ticks\": \"\", \"zerolinecolor\": \"white\"}, \"zaxis\": {\"backgroundcolor\": \"#E5ECF6\", \"gridcolor\": \"white\", \"gridwidth\": 2, \"linecolor\": \"white\", \"showbackground\": true, \"ticks\": \"\", \"zerolinecolor\": \"white\"}}, \"shapedefaults\": {\"line\": {\"color\": \"#2a3f5f\"}}, \"ternary\": {\"aaxis\": {\"gridcolor\": \"white\", \"linecolor\": \"white\", \"ticks\": \"\"}, \"baxis\": {\"gridcolor\": \"white\", \"linecolor\": \"white\", \"ticks\": \"\"}, \"bgcolor\": \"#E5ECF6\", \"caxis\": {\"gridcolor\": \"white\", \"linecolor\": \"white\", \"ticks\": \"\"}}, \"title\": {\"x\": 0.05}, \"xaxis\": {\"automargin\": true, \"gridcolor\": \"white\", \"linecolor\": \"white\", \"ticks\": \"\", \"title\": {\"standoff\": 15}, \"zerolinecolor\": \"white\", \"zerolinewidth\": 2}, \"yaxis\": {\"automargin\": true, \"gridcolor\": \"white\", \"linecolor\": \"white\", \"ticks\": \"\", \"title\": {\"standoff\": 15}, \"zerolinecolor\": \"white\", \"zerolinewidth\": 2}}}, \"xaxis\": {\"rangeslider\": {\"visible\": true}}},\n",
       "                        {\"responsive\": true}\n",
       "                    ).then(function(){\n",
       "                            \n",
       "var gd = document.getElementById('8dff9260-fcfb-4271-af0d-c31f3e2060c3');\n",
       "var x = new MutationObserver(function (mutations, observer) {{\n",
       "        var display = window.getComputedStyle(gd).display;\n",
       "        if (!display || display === 'none') {{\n",
       "            console.log([gd, 'removed!']);\n",
       "            Plotly.purge(gd);\n",
       "            observer.disconnect();\n",
       "        }}\n",
       "}});\n",
       "\n",
       "// Listen for the removal of the full notebook cells\n",
       "var notebookContainer = gd.closest('#notebook-container');\n",
       "if (notebookContainer) {{\n",
       "    x.observe(notebookContainer, {childList: true});\n",
       "}}\n",
       "\n",
       "// Listen for the clearing of the current output cell\n",
       "var outputEl = gd.closest('.output');\n",
       "if (outputEl) {{\n",
       "    x.observe(outputEl, {childList: true});\n",
       "}}\n",
       "\n",
       "                        })\n",
       "                };\n",
       "                });\n",
       "            </script>\n",
       "        </div>"
      ]
     },
     "metadata": {},
     "output_type": "display_data"
    }
   ],
   "source": [
    "#Commulative cases by province\n",
    "\n",
    "\n",
    "fig_comm = go.Figure()\n",
    "fig_comm.add_trace(\n",
    "    go.Scatter(\n",
    "        y=df_day['EC'],\n",
    "        x=df_day.date,\n",
    "        name= 'EC'\n",
    "    ))\n",
    "fig_comm.add_trace(\n",
    "    go.Scatter(\n",
    "        y=df_day['WC'],\n",
    "        x=df_day.date,\n",
    "        name= 'WC'\n",
    "    ))\n",
    "fig_comm.add_trace(\n",
    "    go.Scatter(\n",
    "        y=df_day['FS'],\n",
    "        x=df_day.date,\n",
    "        name= 'FS'\n",
    "    ))\n",
    "fig_comm.add_trace(\n",
    "    go.Scatter(\n",
    "        y=df_day['GP'],\n",
    "        x=df_day.date,\n",
    "        name= 'GP'\n",
    "    ))\n",
    "fig_comm.add_trace(\n",
    "    go.Scatter(\n",
    "        y=df_day['KZN'],\n",
    "        x=df_day.date,\n",
    "        name= \"KZN\"\n",
    "    ))\n",
    "fig_comm.add_trace(\n",
    "    go.Scatter(\n",
    "        y=df_day['NW'],\n",
    "        x=df_day.date,\n",
    "        name= 'NW'\n",
    "    ))\n",
    "fig_comm.add_trace(\n",
    "    go.Scatter(\n",
    "        y=df_day['LP'],\n",
    "        x=df_day.date,\n",
    "        name= 'LP'\n",
    "    ))\n",
    "fig_comm.add_trace(\n",
    "    go.Scatter(\n",
    "        y=df_day['MP'],\n",
    "        x=df_day.date,\n",
    "        name= 'MP'\n",
    "    ))\n",
    "fig_comm.add_trace(\n",
    "    go.Scatter(\n",
    "        y=df_day['NC'],\n",
    "        x=df_day.date,\n",
    "        name= 'NC'\n",
    "    ))\n",
    "fig_comm.add_trace(\n",
    "    go.Scatter(\n",
    "        y=df_day['UNKNOWN'],\n",
    "        x=df_day.date,\n",
    "        name='Unlocated'\n",
    "    ))\n",
    "# fig_comm.add_trace(\n",
    "#     go.Scatter(\n",
    "#         y=df_day['total'],\n",
    "#         x=df_day.date,\n",
    "#         name='Total Confirmed in SA'\n",
    "#     ))\n",
    "\n",
    "fig_comm.update_layout(hovermode='x',\n",
    "                       xaxis=dict(\n",
    "                         rangeslider=dict(\n",
    "                             visible = True),\n",
    "       \n",
    "                       \n",
    "    ))\n",
    "\n",
    "fig_comm.show()\n"
   ]
  },
  {
   "cell_type": "code",
   "execution_count": 412,
   "metadata": {},
   "outputs": [],
   "source": [
    "df_sa_cases = pd.read_csv('https://raw.githubusercontent.com/dsfsi/covid19za/master/data/covid19za_timeline_confirmed.csv')\n"
   ]
  },
  {
   "cell_type": "code",
   "execution_count": 413,
   "metadata": {},
   "outputs": [
    {
     "data": {
      "text/html": [
       "<div>\n",
       "<style scoped>\n",
       "    .dataframe tbody tr th:only-of-type {\n",
       "        vertical-align: middle;\n",
       "    }\n",
       "\n",
       "    .dataframe tbody tr th {\n",
       "        vertical-align: top;\n",
       "    }\n",
       "\n",
       "    .dataframe thead th {\n",
       "        text-align: right;\n",
       "    }\n",
       "</style>\n",
       "<table border=\"1\" class=\"dataframe\">\n",
       "  <thead>\n",
       "    <tr style=\"text-align: right;\">\n",
       "      <th></th>\n",
       "      <th>case_id</th>\n",
       "      <th>date</th>\n",
       "      <th>YYYYMMDD</th>\n",
       "      <th>country</th>\n",
       "      <th>province</th>\n",
       "      <th>geo_subdivision</th>\n",
       "      <th>age</th>\n",
       "      <th>gender</th>\n",
       "      <th>transmission_type</th>\n",
       "      <th>type</th>\n",
       "    </tr>\n",
       "  </thead>\n",
       "  <tbody>\n",
       "    <tr>\n",
       "      <th>0</th>\n",
       "      <td>1</td>\n",
       "      <td>05-03-2020</td>\n",
       "      <td>20200305</td>\n",
       "      <td>South Africa</td>\n",
       "      <td>KZN</td>\n",
       "      <td>ZA-KZN</td>\n",
       "      <td>38.0</td>\n",
       "      <td>male</td>\n",
       "      <td>Travelled to Italy</td>\n",
       "      <td>travel</td>\n",
       "    </tr>\n",
       "    <tr>\n",
       "      <th>1</th>\n",
       "      <td>2</td>\n",
       "      <td>07-03-2020</td>\n",
       "      <td>20200307</td>\n",
       "      <td>South Africa</td>\n",
       "      <td>GP</td>\n",
       "      <td>ZA-GP</td>\n",
       "      <td>39.0</td>\n",
       "      <td>female</td>\n",
       "      <td>Travelled to Italy</td>\n",
       "      <td>travel</td>\n",
       "    </tr>\n",
       "    <tr>\n",
       "      <th>2</th>\n",
       "      <td>3</td>\n",
       "      <td>08-03-2020</td>\n",
       "      <td>20200308</td>\n",
       "      <td>South Africa</td>\n",
       "      <td>KZN</td>\n",
       "      <td>ZA-KZN</td>\n",
       "      <td>38.0</td>\n",
       "      <td>female</td>\n",
       "      <td>Travelled to Italy</td>\n",
       "      <td>travel</td>\n",
       "    </tr>\n",
       "    <tr>\n",
       "      <th>3</th>\n",
       "      <td>4</td>\n",
       "      <td>09-03-2020</td>\n",
       "      <td>20200309</td>\n",
       "      <td>South Africa</td>\n",
       "      <td>KZN</td>\n",
       "      <td>ZA-KZN</td>\n",
       "      <td>38.0</td>\n",
       "      <td>male</td>\n",
       "      <td>Travelled to Italy</td>\n",
       "      <td>travel</td>\n",
       "    </tr>\n",
       "    <tr>\n",
       "      <th>4</th>\n",
       "      <td>5</td>\n",
       "      <td>09-03-2020</td>\n",
       "      <td>20200309</td>\n",
       "      <td>South Africa</td>\n",
       "      <td>KZN</td>\n",
       "      <td>ZA-KZN</td>\n",
       "      <td>38.0</td>\n",
       "      <td>female</td>\n",
       "      <td>Travelled to Italy</td>\n",
       "      <td>travel</td>\n",
       "    </tr>\n",
       "    <tr>\n",
       "      <th>...</th>\n",
       "      <td>...</td>\n",
       "      <td>...</td>\n",
       "      <td>...</td>\n",
       "      <td>...</td>\n",
       "      <td>...</td>\n",
       "      <td>...</td>\n",
       "      <td>...</td>\n",
       "      <td>...</td>\n",
       "      <td>...</td>\n",
       "      <td>...</td>\n",
       "    </tr>\n",
       "    <tr>\n",
       "      <th>704</th>\n",
       "      <td>705</td>\n",
       "      <td>25-03-2020</td>\n",
       "      <td>20200325</td>\n",
       "      <td>South Africa</td>\n",
       "      <td>FS</td>\n",
       "      <td>ZA-FS</td>\n",
       "      <td>NaN</td>\n",
       "      <td>not specified</td>\n",
       "      <td>NaN</td>\n",
       "      <td>pending</td>\n",
       "    </tr>\n",
       "    <tr>\n",
       "      <th>705</th>\n",
       "      <td>706</td>\n",
       "      <td>25-03-2020</td>\n",
       "      <td>20200325</td>\n",
       "      <td>South Africa</td>\n",
       "      <td>FS</td>\n",
       "      <td>ZA-FS</td>\n",
       "      <td>NaN</td>\n",
       "      <td>not specified</td>\n",
       "      <td>NaN</td>\n",
       "      <td>pending</td>\n",
       "    </tr>\n",
       "    <tr>\n",
       "      <th>706</th>\n",
       "      <td>707</td>\n",
       "      <td>25-03-2020</td>\n",
       "      <td>20200325</td>\n",
       "      <td>South Africa</td>\n",
       "      <td>FS</td>\n",
       "      <td>ZA-FS</td>\n",
       "      <td>NaN</td>\n",
       "      <td>not specified</td>\n",
       "      <td>NaN</td>\n",
       "      <td>pending</td>\n",
       "    </tr>\n",
       "    <tr>\n",
       "      <th>707</th>\n",
       "      <td>708</td>\n",
       "      <td>25-03-2020</td>\n",
       "      <td>20200325</td>\n",
       "      <td>South Africa</td>\n",
       "      <td>FS</td>\n",
       "      <td>ZA-FS</td>\n",
       "      <td>NaN</td>\n",
       "      <td>not specified</td>\n",
       "      <td>NaN</td>\n",
       "      <td>pending</td>\n",
       "    </tr>\n",
       "    <tr>\n",
       "      <th>708</th>\n",
       "      <td>709</td>\n",
       "      <td>25-03-2020</td>\n",
       "      <td>20200325</td>\n",
       "      <td>South Africa</td>\n",
       "      <td>FS</td>\n",
       "      <td>ZA-FS</td>\n",
       "      <td>NaN</td>\n",
       "      <td>not specified</td>\n",
       "      <td>NaN</td>\n",
       "      <td>pending</td>\n",
       "    </tr>\n",
       "  </tbody>\n",
       "</table>\n",
       "<p>709 rows × 10 columns</p>\n",
       "</div>"
      ],
      "text/plain": [
       "     case_id        date  YYYYMMDD       country province geo_subdivision  \\\n",
       "0          1  05-03-2020  20200305  South Africa      KZN          ZA-KZN   \n",
       "1          2  07-03-2020  20200307  South Africa       GP           ZA-GP   \n",
       "2          3  08-03-2020  20200308  South Africa      KZN          ZA-KZN   \n",
       "3          4  09-03-2020  20200309  South Africa      KZN          ZA-KZN   \n",
       "4          5  09-03-2020  20200309  South Africa      KZN          ZA-KZN   \n",
       "..       ...         ...       ...           ...      ...             ...   \n",
       "704      705  25-03-2020  20200325  South Africa       FS           ZA-FS   \n",
       "705      706  25-03-2020  20200325  South Africa       FS           ZA-FS   \n",
       "706      707  25-03-2020  20200325  South Africa       FS           ZA-FS   \n",
       "707      708  25-03-2020  20200325  South Africa       FS           ZA-FS   \n",
       "708      709  25-03-2020  20200325  South Africa       FS           ZA-FS   \n",
       "\n",
       "      age         gender   transmission_type     type  \n",
       "0    38.0           male  Travelled to Italy   travel  \n",
       "1    39.0         female  Travelled to Italy   travel  \n",
       "2    38.0         female  Travelled to Italy   travel  \n",
       "3    38.0           male  Travelled to Italy   travel  \n",
       "4    38.0         female  Travelled to Italy   travel  \n",
       "..    ...            ...                 ...      ...  \n",
       "704   NaN  not specified                 NaN  pending  \n",
       "705   NaN  not specified                 NaN  pending  \n",
       "706   NaN  not specified                 NaN  pending  \n",
       "707   NaN  not specified                 NaN  pending  \n",
       "708   NaN  not specified                 NaN  pending  \n",
       "\n",
       "[709 rows x 10 columns]"
      ]
     },
     "execution_count": 413,
     "metadata": {},
     "output_type": "execute_result"
    }
   ],
   "source": [
    "df_sa_cases"
   ]
  },
  {
   "cell_type": "code",
   "execution_count": 420,
   "metadata": {},
   "outputs": [],
   "source": [
    "df_hos = pd.read_csv(\"https://raw.githubusercontent.com/dsfsi/covid19za/master/data/health_system_za_public_hospitals.csv\",delimiter=',')\n"
   ]
  },
  {
   "cell_type": "code",
   "execution_count": 421,
   "metadata": {},
   "outputs": [
    {
     "data": {
      "text/html": [
       "<div>\n",
       "<style scoped>\n",
       "    .dataframe tbody tr th:only-of-type {\n",
       "        vertical-align: middle;\n",
       "    }\n",
       "\n",
       "    .dataframe tbody tr th {\n",
       "        vertical-align: top;\n",
       "    }\n",
       "\n",
       "    .dataframe thead th {\n",
       "        text-align: right;\n",
       "    }\n",
       "</style>\n",
       "<table border=\"1\" class=\"dataframe\">\n",
       "  <thead>\n",
       "    <tr style=\"text-align: right;\">\n",
       "      <th></th>\n",
       "      <th>ID</th>\n",
       "      <th>Name</th>\n",
       "      <th>Long</th>\n",
       "      <th>Lat</th>\n",
       "      <th>Category</th>\n",
       "      <th>Province</th>\n",
       "      <th>district</th>\n",
       "      <th>subdistrict</th>\n",
       "      <th>district_estimated_population</th>\n",
       "      <th>service_offered_by_hospital</th>\n",
       "      <th>size_hospital</th>\n",
       "      <th>number_of_beds</th>\n",
       "      <th>number_of_practitioners</th>\n",
       "      <th>webpage</th>\n",
       "    </tr>\n",
       "  </thead>\n",
       "  <tbody>\n",
       "    <tr>\n",
       "      <th>0</th>\n",
       "      <td>183</td>\n",
       "      <td>Fort England Hospital</td>\n",
       "      <td>26.54361</td>\n",
       "      <td>-33.3156</td>\n",
       "      <td>Public Hospital</td>\n",
       "      <td>Eastern Cape</td>\n",
       "      <td>Sarah Baartman District Municipality</td>\n",
       "      <td>Makana LM</td>\n",
       "      <td>479923.0</td>\n",
       "      <td>NaN</td>\n",
       "      <td>NaN</td>\n",
       "      <td>NaN</td>\n",
       "      <td>NaN</td>\n",
       "      <td>NaN</td>\n",
       "    </tr>\n",
       "    <tr>\n",
       "      <th>1</th>\n",
       "      <td>91</td>\n",
       "      <td>Fort Beaufort Hospital</td>\n",
       "      <td>26.633571</td>\n",
       "      <td>-32.7802</td>\n",
       "      <td>Public Hospital</td>\n",
       "      <td>Eastern Cape</td>\n",
       "      <td>Amathole District Municipality</td>\n",
       "      <td>Raymond Mhlaba LM</td>\n",
       "      <td>880790.0</td>\n",
       "      <td>NaN</td>\n",
       "      <td>NaN</td>\n",
       "      <td>NaN</td>\n",
       "      <td>NaN</td>\n",
       "      <td>NaN</td>\n",
       "    </tr>\n",
       "    <tr>\n",
       "      <th>2</th>\n",
       "      <td>95</td>\n",
       "      <td>Bhisho Hospital</td>\n",
       "      <td>27.45516</td>\n",
       "      <td>-32.8277</td>\n",
       "      <td>Public Hospital</td>\n",
       "      <td>Eastern Cape</td>\n",
       "      <td>Buffalo City Metropolitan Municipality</td>\n",
       "      <td>Buffalo City SD</td>\n",
       "      <td>834997.0</td>\n",
       "      <td>NaN</td>\n",
       "      <td>NaN</td>\n",
       "      <td>NaN</td>\n",
       "      <td>NaN</td>\n",
       "      <td>NaN</td>\n",
       "    </tr>\n",
       "    <tr>\n",
       "      <th>3</th>\n",
       "      <td>99</td>\n",
       "      <td>Grey Hospital</td>\n",
       "      <td>27.39579</td>\n",
       "      <td>-32.8793</td>\n",
       "      <td>Public Hospital</td>\n",
       "      <td>Eastern Cape</td>\n",
       "      <td>Buffalo City Metropolitan Municipality</td>\n",
       "      <td>Buffalo City SD</td>\n",
       "      <td>834997.0</td>\n",
       "      <td>NaN</td>\n",
       "      <td>NaN</td>\n",
       "      <td>NaN</td>\n",
       "      <td>NaN</td>\n",
       "      <td>NaN</td>\n",
       "    </tr>\n",
       "    <tr>\n",
       "      <th>4</th>\n",
       "      <td>138</td>\n",
       "      <td>St Francis Hospital</td>\n",
       "      <td>26.69921</td>\n",
       "      <td>-30.6887</td>\n",
       "      <td>Public Hospital</td>\n",
       "      <td>Eastern Cape</td>\n",
       "      <td>Zululand District Municipality</td>\n",
       "      <td>Ulundi LM</td>\n",
       "      <td>892310.0</td>\n",
       "      <td>NaN</td>\n",
       "      <td>NaN</td>\n",
       "      <td>NaN</td>\n",
       "      <td>NaN</td>\n",
       "      <td>NaN</td>\n",
       "    </tr>\n",
       "    <tr>\n",
       "      <th>...</th>\n",
       "      <td>...</td>\n",
       "      <td>...</td>\n",
       "      <td>...</td>\n",
       "      <td>...</td>\n",
       "      <td>...</td>\n",
       "      <td>...</td>\n",
       "      <td>...</td>\n",
       "      <td>...</td>\n",
       "      <td>...</td>\n",
       "      <td>...</td>\n",
       "      <td>...</td>\n",
       "      <td>...</td>\n",
       "      <td>...</td>\n",
       "      <td>...</td>\n",
       "    </tr>\n",
       "    <tr>\n",
       "      <th>851</th>\n",
       "      <td>883</td>\n",
       "      <td>Vredenburg Hospital</td>\n",
       "      <td>17.99083</td>\n",
       "      <td>-32.9136</td>\n",
       "      <td>District Hospital</td>\n",
       "      <td>NaN</td>\n",
       "      <td>NaN</td>\n",
       "      <td>NaN</td>\n",
       "      <td>NaN</td>\n",
       "      <td>NaN</td>\n",
       "      <td>NaN</td>\n",
       "      <td>NaN</td>\n",
       "      <td>NaN</td>\n",
       "      <td>NaN</td>\n",
       "    </tr>\n",
       "    <tr>\n",
       "      <th>852</th>\n",
       "      <td>884</td>\n",
       "      <td>Die Wieg Hospital</td>\n",
       "      <td>0</td>\n",
       "      <td>0</td>\n",
       "      <td>Specialised Psychiatric Hospital</td>\n",
       "      <td>NaN</td>\n",
       "      <td>NaN</td>\n",
       "      <td>NaN</td>\n",
       "      <td>NaN</td>\n",
       "      <td>NaN</td>\n",
       "      <td>NaN</td>\n",
       "      <td>NaN</td>\n",
       "      <td>NaN</td>\n",
       "      <td>NaN</td>\n",
       "    </tr>\n",
       "    <tr>\n",
       "      <th>853</th>\n",
       "      <td>885</td>\n",
       "      <td>Malmesbury Inf Hospital</td>\n",
       "      <td>18.7175</td>\n",
       "      <td>-33.4672</td>\n",
       "      <td>Specialised TB Hospital</td>\n",
       "      <td>NaN</td>\n",
       "      <td>NaN</td>\n",
       "      <td>NaN</td>\n",
       "      <td>NaN</td>\n",
       "      <td>NaN</td>\n",
       "      <td>NaN</td>\n",
       "      <td>NaN</td>\n",
       "      <td>NaN</td>\n",
       "      <td>NaN</td>\n",
       "    </tr>\n",
       "    <tr>\n",
       "      <th>854</th>\n",
       "      <td>886</td>\n",
       "      <td>Sonstraal TB Hospital</td>\n",
       "      <td>18.98694</td>\n",
       "      <td>-33.7119</td>\n",
       "      <td>Specialised TB Hospital</td>\n",
       "      <td>NaN</td>\n",
       "      <td>NaN</td>\n",
       "      <td>NaN</td>\n",
       "      <td>NaN</td>\n",
       "      <td>NaN</td>\n",
       "      <td>NaN</td>\n",
       "      <td>NaN</td>\n",
       "      <td>NaN</td>\n",
       "      <td>NaN</td>\n",
       "    </tr>\n",
       "    <tr>\n",
       "      <th>855</th>\n",
       "      <td>702</td>\n",
       "      <td>RM Sobukwe Hospital</td>\n",
       "      <td>24.77263</td>\n",
       "      <td>-28.746</td>\n",
       "      <td>Public Hospital</td>\n",
       "      <td>Northern Cape</td>\n",
       "      <td>Frances Baard District Municipality</td>\n",
       "      <td>Sol Plaatje LM</td>\n",
       "      <td>387741.0</td>\n",
       "      <td>NaN</td>\n",
       "      <td>NaN</td>\n",
       "      <td>NaN</td>\n",
       "      <td>NaN</td>\n",
       "      <td>NaN</td>\n",
       "    </tr>\n",
       "  </tbody>\n",
       "</table>\n",
       "<p>856 rows × 14 columns</p>\n",
       "</div>"
      ],
      "text/plain": [
       "      ID                     Name       Long       Lat  \\\n",
       "0    183    Fort England Hospital   26.54361  -33.3156   \n",
       "1     91   Fort Beaufort Hospital  26.633571  -32.7802   \n",
       "2     95          Bhisho Hospital   27.45516  -32.8277   \n",
       "3     99            Grey Hospital   27.39579  -32.8793   \n",
       "4    138      St Francis Hospital   26.69921  -30.6887   \n",
       "..   ...                      ...        ...       ...   \n",
       "851  883      Vredenburg Hospital   17.99083  -32.9136   \n",
       "852  884        Die Wieg Hospital          0         0   \n",
       "853  885  Malmesbury Inf Hospital    18.7175  -33.4672   \n",
       "854  886    Sonstraal TB Hospital   18.98694  -33.7119   \n",
       "855  702      RM Sobukwe Hospital   24.77263   -28.746   \n",
       "\n",
       "                             Category       Province  \\\n",
       "0                     Public Hospital   Eastern Cape   \n",
       "1                     Public Hospital   Eastern Cape   \n",
       "2                     Public Hospital   Eastern Cape   \n",
       "3                     Public Hospital   Eastern Cape   \n",
       "4                     Public Hospital   Eastern Cape   \n",
       "..                                ...            ...   \n",
       "851                 District Hospital            NaN   \n",
       "852  Specialised Psychiatric Hospital            NaN   \n",
       "853           Specialised TB Hospital            NaN   \n",
       "854           Specialised TB Hospital            NaN   \n",
       "855                   Public Hospital  Northern Cape   \n",
       "\n",
       "                                   district        subdistrict  \\\n",
       "0      Sarah Baartman District Municipality          Makana LM   \n",
       "1            Amathole District Municipality  Raymond Mhlaba LM   \n",
       "2    Buffalo City Metropolitan Municipality    Buffalo City SD   \n",
       "3    Buffalo City Metropolitan Municipality    Buffalo City SD   \n",
       "4            Zululand District Municipality          Ulundi LM   \n",
       "..                                      ...                ...   \n",
       "851                                     NaN                NaN   \n",
       "852                                     NaN                NaN   \n",
       "853                                     NaN                NaN   \n",
       "854                                     NaN                NaN   \n",
       "855     Frances Baard District Municipality     Sol Plaatje LM   \n",
       "\n",
       "     district_estimated_population   service_offered_by_hospital  \\\n",
       "0                         479923.0                           NaN   \n",
       "1                         880790.0                           NaN   \n",
       "2                         834997.0                           NaN   \n",
       "3                         834997.0                           NaN   \n",
       "4                         892310.0                           NaN   \n",
       "..                             ...                           ...   \n",
       "851                            NaN                           NaN   \n",
       "852                            NaN                           NaN   \n",
       "853                            NaN                           NaN   \n",
       "854                            NaN                           NaN   \n",
       "855                       387741.0                           NaN   \n",
       "\n",
       "     size_hospital  number_of_beds  number_of_practitioners  webpage  \n",
       "0              NaN             NaN                      NaN      NaN  \n",
       "1              NaN             NaN                      NaN      NaN  \n",
       "2              NaN             NaN                      NaN      NaN  \n",
       "3              NaN             NaN                      NaN      NaN  \n",
       "4              NaN             NaN                      NaN      NaN  \n",
       "..             ...             ...                      ...      ...  \n",
       "851            NaN             NaN                      NaN      NaN  \n",
       "852            NaN             NaN                      NaN      NaN  \n",
       "853            NaN             NaN                      NaN      NaN  \n",
       "854            NaN             NaN                      NaN      NaN  \n",
       "855            NaN             NaN                      NaN      NaN  \n",
       "\n",
       "[856 rows x 14 columns]"
      ]
     },
     "execution_count": 421,
     "metadata": {},
     "output_type": "execute_result"
    }
   ],
   "source": [
    "\n",
    "df_hos"
   ]
  },
  {
   "cell_type": "code",
   "execution_count": null,
   "metadata": {},
   "outputs": [],
   "source": []
  },
  {
   "cell_type": "code",
   "execution_count": 403,
   "metadata": {},
   "outputs": [
    {
     "data": {
      "text/html": [
       "<div>\n",
       "<style scoped>\n",
       "    .dataframe tbody tr th:only-of-type {\n",
       "        vertical-align: middle;\n",
       "    }\n",
       "\n",
       "    .dataframe tbody tr th {\n",
       "        vertical-align: top;\n",
       "    }\n",
       "\n",
       "    .dataframe thead th {\n",
       "        text-align: right;\n",
       "    }\n",
       "</style>\n",
       "<table border=\"1\" class=\"dataframe\">\n",
       "  <thead>\n",
       "    <tr style=\"text-align: right;\">\n",
       "      <th></th>\n",
       "      <th>ID</th>\n",
       "      <th>Name</th>\n",
       "      <th>Long</th>\n",
       "      <th>Lat</th>\n",
       "      <th>Category</th>\n",
       "      <th>Province</th>\n",
       "      <th>district</th>\n",
       "      <th>subdistrict</th>\n",
       "      <th>district_estimated_population</th>\n",
       "      <th>service_offered_by_hospital</th>\n",
       "      <th>size_hospital</th>\n",
       "      <th>number_of_beds</th>\n",
       "      <th>number_of_practitioners</th>\n",
       "      <th>webpage</th>\n",
       "    </tr>\n",
       "  </thead>\n",
       "  <tbody>\n",
       "    <tr>\n",
       "      <th>310</th>\n",
       "      <td>198</td>\n",
       "      <td>Tokollo Hospital</td>\n",
       "      <td>27.96168</td>\n",
       "      <td>-27.2891</td>\n",
       "      <td>Public Hospital</td>\n",
       "      <td>Free State</td>\n",
       "      <td>Fezile Dabi District Municipality</td>\n",
       "      <td>Ngwathe LM</td>\n",
       "      <td>494777.0</td>\n",
       "      <td>NaN</td>\n",
       "      <td>NaN</td>\n",
       "      <td>NaN</td>\n",
       "      <td>NaN</td>\n",
       "      <td>NaN</td>\n",
       "    </tr>\n",
       "    <tr>\n",
       "      <th>311</th>\n",
       "      <td>210</td>\n",
       "      <td>Nala Hospital</td>\n",
       "      <td>26.61783</td>\n",
       "      <td>-27.3946</td>\n",
       "      <td>Public Hospital</td>\n",
       "      <td>Free State</td>\n",
       "      <td>Lejweleputswa District Municipality</td>\n",
       "      <td>Nala LM</td>\n",
       "      <td>646920.0</td>\n",
       "      <td>NaN</td>\n",
       "      <td>NaN</td>\n",
       "      <td>NaN</td>\n",
       "      <td>NaN</td>\n",
       "      <td>NaN</td>\n",
       "    </tr>\n",
       "    <tr>\n",
       "      <th>312</th>\n",
       "      <td>221</td>\n",
       "      <td>National Dis Hospital</td>\n",
       "      <td>26.2064</td>\n",
       "      <td>-29.127</td>\n",
       "      <td>Public Hospital</td>\n",
       "      <td>Free State</td>\n",
       "      <td>Mangaung Metropolitan Municipality</td>\n",
       "      <td>Bloemfontein SD</td>\n",
       "      <td>787803.0</td>\n",
       "      <td>NaN</td>\n",
       "      <td>NaN</td>\n",
       "      <td>NaN</td>\n",
       "      <td>NaN</td>\n",
       "      <td>NaN</td>\n",
       "    </tr>\n",
       "    <tr>\n",
       "      <th>313</th>\n",
       "      <td>233</td>\n",
       "      <td>Botshabelo Hospital</td>\n",
       "      <td>26.71572</td>\n",
       "      <td>-29.2325</td>\n",
       "      <td>Public Hospital</td>\n",
       "      <td>Free State</td>\n",
       "      <td>Mangaung Metropolitan Municipality</td>\n",
       "      <td>Botshabelo SD</td>\n",
       "      <td>787803.0</td>\n",
       "      <td>NaN</td>\n",
       "      <td>NaN</td>\n",
       "      <td>NaN</td>\n",
       "      <td>NaN</td>\n",
       "      <td>NaN</td>\n",
       "    </tr>\n",
       "    <tr>\n",
       "      <th>314</th>\n",
       "      <td>234</td>\n",
       "      <td>Dr JS Moroka Hospital</td>\n",
       "      <td>26.83468</td>\n",
       "      <td>-29.2045</td>\n",
       "      <td>Public Hospital</td>\n",
       "      <td>Free State</td>\n",
       "      <td>Mangaung Metropolitan Municipality</td>\n",
       "      <td>Thaba N'chu SD</td>\n",
       "      <td>787803.0</td>\n",
       "      <td>NaN</td>\n",
       "      <td>NaN</td>\n",
       "      <td>NaN</td>\n",
       "      <td>NaN</td>\n",
       "      <td>NaN</td>\n",
       "    </tr>\n",
       "    <tr>\n",
       "      <th>315</th>\n",
       "      <td>239</td>\n",
       "      <td>Phekolong Hospital</td>\n",
       "      <td>28.32645</td>\n",
       "      <td>-28.2176</td>\n",
       "      <td>Public Hospital</td>\n",
       "      <td>Free State</td>\n",
       "      <td>Thabo Mofutsanyana District Municipality</td>\n",
       "      <td>Dihlabeng LM</td>\n",
       "      <td>779330.0</td>\n",
       "      <td>NaN</td>\n",
       "      <td>NaN</td>\n",
       "      <td>NaN</td>\n",
       "      <td>NaN</td>\n",
       "      <td>NaN</td>\n",
       "    </tr>\n",
       "    <tr>\n",
       "      <th>316</th>\n",
       "      <td>241</td>\n",
       "      <td>Elizabeth Ross Hospital</td>\n",
       "      <td>28.81755</td>\n",
       "      <td>-28.589</td>\n",
       "      <td>Public Hospital</td>\n",
       "      <td>Free State</td>\n",
       "      <td>Thabo Mofutsanyana District Municipality</td>\n",
       "      <td>Maluti-a-Phofung LM</td>\n",
       "      <td>779330.0</td>\n",
       "      <td>NaN</td>\n",
       "      <td>NaN</td>\n",
       "      <td>NaN</td>\n",
       "      <td>NaN</td>\n",
       "      <td>NaN</td>\n",
       "    </tr>\n",
       "    <tr>\n",
       "      <th>317</th>\n",
       "      <td>245</td>\n",
       "      <td>Nketoana Hospital</td>\n",
       "      <td>28.41893</td>\n",
       "      <td>-27.8028</td>\n",
       "      <td>Public Hospital</td>\n",
       "      <td>Free State</td>\n",
       "      <td>Thabo Mofutsanyana District Municipality</td>\n",
       "      <td>Nketoana LM</td>\n",
       "      <td>779330.0</td>\n",
       "      <td>NaN</td>\n",
       "      <td>NaN</td>\n",
       "      <td>NaN</td>\n",
       "      <td>NaN</td>\n",
       "      <td>NaN</td>\n",
       "    </tr>\n",
       "    <tr>\n",
       "      <th>318</th>\n",
       "      <td>248</td>\n",
       "      <td>JD Newberry Hospital</td>\n",
       "      <td>27.57423</td>\n",
       "      <td>-28.91</td>\n",
       "      <td>Public Hospital</td>\n",
       "      <td>Free State</td>\n",
       "      <td>Thabo Mofutsanyana District Municipality</td>\n",
       "      <td>Setsoto LM</td>\n",
       "      <td>779330.0</td>\n",
       "      <td>NaN</td>\n",
       "      <td>NaN</td>\n",
       "      <td>NaN</td>\n",
       "      <td>NaN</td>\n",
       "      <td>NaN</td>\n",
       "    </tr>\n",
       "    <tr>\n",
       "      <th>319</th>\n",
       "      <td>249</td>\n",
       "      <td>Phuthuloha Hospital</td>\n",
       "      <td>27.87202</td>\n",
       "      <td>-28.8813</td>\n",
       "      <td>Public Hospital</td>\n",
       "      <td>Free State</td>\n",
       "      <td>Thabo Mofutsanyana District Municipality</td>\n",
       "      <td>Setsoto LM</td>\n",
       "      <td>779330.0</td>\n",
       "      <td>NaN</td>\n",
       "      <td>NaN</td>\n",
       "      <td>NaN</td>\n",
       "      <td>NaN</td>\n",
       "      <td>NaN</td>\n",
       "    </tr>\n",
       "    <tr>\n",
       "      <th>320</th>\n",
       "      <td>250</td>\n",
       "      <td>Albert Nzula Dist Hospital</td>\n",
       "      <td>25.789656</td>\n",
       "      <td>-30.0348</td>\n",
       "      <td>Public Hospital</td>\n",
       "      <td>Free State</td>\n",
       "      <td>Xhariep District Municipality</td>\n",
       "      <td>Kopanong LM</td>\n",
       "      <td>125884.0</td>\n",
       "      <td>NaN</td>\n",
       "      <td>NaN</td>\n",
       "      <td>NaN</td>\n",
       "      <td>NaN</td>\n",
       "      <td>NaN</td>\n",
       "    </tr>\n",
       "    <tr>\n",
       "      <th>321</th>\n",
       "      <td>232</td>\n",
       "      <td>Universitas (C) Hospital</td>\n",
       "      <td>26.18432</td>\n",
       "      <td>-29.118</td>\n",
       "      <td>Public Hospital</td>\n",
       "      <td>Free State</td>\n",
       "      <td>Mangaung Metropolitan Municipality</td>\n",
       "      <td>Bloemfontein SD</td>\n",
       "      <td>787803.0</td>\n",
       "      <td>NaN</td>\n",
       "      <td>NaN</td>\n",
       "      <td>NaN</td>\n",
       "      <td>NaN</td>\n",
       "      <td>NaN</td>\n",
       "    </tr>\n",
       "    <tr>\n",
       "      <th>322</th>\n",
       "      <td>230</td>\n",
       "      <td>Pelonomi Hospital</td>\n",
       "      <td>26.24572</td>\n",
       "      <td>-29.1413</td>\n",
       "      <td>Public Hospital</td>\n",
       "      <td>Free State</td>\n",
       "      <td>Mangaung Metropolitan Municipality</td>\n",
       "      <td>Bloemfontein SD</td>\n",
       "      <td>787803.0</td>\n",
       "      <td>NaN</td>\n",
       "      <td>NaN</td>\n",
       "      <td>NaN</td>\n",
       "      <td>NaN</td>\n",
       "      <td>NaN</td>\n",
       "    </tr>\n",
       "    <tr>\n",
       "      <th>323</th>\n",
       "      <td>195</td>\n",
       "      <td>Boitumelo Hospital</td>\n",
       "      <td>27.213172</td>\n",
       "      <td>-27.644</td>\n",
       "      <td>Public Hospital</td>\n",
       "      <td>Free State</td>\n",
       "      <td>Fezile Dabi District Municipality</td>\n",
       "      <td>Moqhaka LM</td>\n",
       "      <td>494777.0</td>\n",
       "      <td>NaN</td>\n",
       "      <td>NaN</td>\n",
       "      <td>NaN</td>\n",
       "      <td>NaN</td>\n",
       "      <td>NaN</td>\n",
       "    </tr>\n",
       "    <tr>\n",
       "      <th>324</th>\n",
       "      <td>200</td>\n",
       "      <td>Bongani Hospital</td>\n",
       "      <td>26.7862</td>\n",
       "      <td>-27.9531</td>\n",
       "      <td>Public Hospital</td>\n",
       "      <td>Free State</td>\n",
       "      <td>Lejweleputswa District Municipality</td>\n",
       "      <td>Matjhabeng LM</td>\n",
       "      <td>646920.0</td>\n",
       "      <td>NaN</td>\n",
       "      <td>NaN</td>\n",
       "      <td>NaN</td>\n",
       "      <td>NaN</td>\n",
       "      <td>NaN</td>\n",
       "    </tr>\n",
       "    <tr>\n",
       "      <th>325</th>\n",
       "      <td>242</td>\n",
       "      <td>MM Mopeli Hospital</td>\n",
       "      <td>28.80507</td>\n",
       "      <td>-28.537</td>\n",
       "      <td>Public Hospital</td>\n",
       "      <td>Free State</td>\n",
       "      <td>Thabo Mofutsanyana District Municipality</td>\n",
       "      <td>Maluti-a-Phofung LM</td>\n",
       "      <td>779330.0</td>\n",
       "      <td>NaN</td>\n",
       "      <td>NaN</td>\n",
       "      <td>NaN</td>\n",
       "      <td>NaN</td>\n",
       "      <td>NaN</td>\n",
       "    </tr>\n",
       "    <tr>\n",
       "      <th>326</th>\n",
       "      <td>214</td>\n",
       "      <td>Busamed BFIA Hospital</td>\n",
       "      <td>?</td>\n",
       "      <td>?</td>\n",
       "      <td>Private Hospital</td>\n",
       "      <td>Free State</td>\n",
       "      <td>Mangaung Metropolitan Municipality</td>\n",
       "      <td>Bloemfontein SD</td>\n",
       "      <td>787803.0</td>\n",
       "      <td>NaN</td>\n",
       "      <td>NaN</td>\n",
       "      <td>NaN</td>\n",
       "      <td>NaN</td>\n",
       "      <td>NaN</td>\n",
       "    </tr>\n",
       "  </tbody>\n",
       "</table>\n",
       "</div>"
      ],
      "text/plain": [
       "      ID                        Name       Long       Lat          Category  \\\n",
       "310  198            Tokollo Hospital   27.96168  -27.2891   Public Hospital   \n",
       "311  210               Nala Hospital   26.61783  -27.3946   Public Hospital   \n",
       "312  221       National Dis Hospital    26.2064   -29.127   Public Hospital   \n",
       "313  233         Botshabelo Hospital   26.71572  -29.2325   Public Hospital   \n",
       "314  234       Dr JS Moroka Hospital   26.83468  -29.2045   Public Hospital   \n",
       "315  239          Phekolong Hospital   28.32645  -28.2176   Public Hospital   \n",
       "316  241     Elizabeth Ross Hospital   28.81755   -28.589   Public Hospital   \n",
       "317  245           Nketoana Hospital   28.41893  -27.8028   Public Hospital   \n",
       "318  248        JD Newberry Hospital   27.57423    -28.91   Public Hospital   \n",
       "319  249         Phuthuloha Hospital   27.87202  -28.8813   Public Hospital   \n",
       "320  250  Albert Nzula Dist Hospital  25.789656  -30.0348   Public Hospital   \n",
       "321  232    Universitas (C) Hospital   26.18432   -29.118   Public Hospital   \n",
       "322  230           Pelonomi Hospital   26.24572  -29.1413   Public Hospital   \n",
       "323  195          Boitumelo Hospital  27.213172   -27.644   Public Hospital   \n",
       "324  200            Bongani Hospital    26.7862  -27.9531   Public Hospital   \n",
       "325  242          MM Mopeli Hospital   28.80507   -28.537   Public Hospital   \n",
       "326  214       Busamed BFIA Hospital          ?         ?  Private Hospital   \n",
       "\n",
       "       Province                                  district  \\\n",
       "310  Free State         Fezile Dabi District Municipality   \n",
       "311  Free State       Lejweleputswa District Municipality   \n",
       "312  Free State        Mangaung Metropolitan Municipality   \n",
       "313  Free State        Mangaung Metropolitan Municipality   \n",
       "314  Free State        Mangaung Metropolitan Municipality   \n",
       "315  Free State  Thabo Mofutsanyana District Municipality   \n",
       "316  Free State  Thabo Mofutsanyana District Municipality   \n",
       "317  Free State  Thabo Mofutsanyana District Municipality   \n",
       "318  Free State  Thabo Mofutsanyana District Municipality   \n",
       "319  Free State  Thabo Mofutsanyana District Municipality   \n",
       "320  Free State             Xhariep District Municipality   \n",
       "321  Free State        Mangaung Metropolitan Municipality   \n",
       "322  Free State        Mangaung Metropolitan Municipality   \n",
       "323  Free State         Fezile Dabi District Municipality   \n",
       "324  Free State       Lejweleputswa District Municipality   \n",
       "325  Free State  Thabo Mofutsanyana District Municipality   \n",
       "326  Free State        Mangaung Metropolitan Municipality   \n",
       "\n",
       "             subdistrict  district_estimated_population  \\\n",
       "310           Ngwathe LM                       494777.0   \n",
       "311              Nala LM                       646920.0   \n",
       "312      Bloemfontein SD                       787803.0   \n",
       "313        Botshabelo SD                       787803.0   \n",
       "314       Thaba N'chu SD                       787803.0   \n",
       "315         Dihlabeng LM                       779330.0   \n",
       "316  Maluti-a-Phofung LM                       779330.0   \n",
       "317          Nketoana LM                       779330.0   \n",
       "318           Setsoto LM                       779330.0   \n",
       "319           Setsoto LM                       779330.0   \n",
       "320          Kopanong LM                       125884.0   \n",
       "321      Bloemfontein SD                       787803.0   \n",
       "322      Bloemfontein SD                       787803.0   \n",
       "323           Moqhaka LM                       494777.0   \n",
       "324        Matjhabeng LM                       646920.0   \n",
       "325  Maluti-a-Phofung LM                       779330.0   \n",
       "326      Bloemfontein SD                       787803.0   \n",
       "\n",
       "      service_offered_by_hospital  size_hospital  number_of_beds  \\\n",
       "310                           NaN            NaN             NaN   \n",
       "311                           NaN            NaN             NaN   \n",
       "312                           NaN            NaN             NaN   \n",
       "313                           NaN            NaN             NaN   \n",
       "314                           NaN            NaN             NaN   \n",
       "315                           NaN            NaN             NaN   \n",
       "316                           NaN            NaN             NaN   \n",
       "317                           NaN            NaN             NaN   \n",
       "318                           NaN            NaN             NaN   \n",
       "319                           NaN            NaN             NaN   \n",
       "320                           NaN            NaN             NaN   \n",
       "321                           NaN            NaN             NaN   \n",
       "322                           NaN            NaN             NaN   \n",
       "323                           NaN            NaN             NaN   \n",
       "324                           NaN            NaN             NaN   \n",
       "325                           NaN            NaN             NaN   \n",
       "326                           NaN            NaN             NaN   \n",
       "\n",
       "     number_of_practitioners  webpage  \n",
       "310                      NaN      NaN  \n",
       "311                      NaN      NaN  \n",
       "312                      NaN      NaN  \n",
       "313                      NaN      NaN  \n",
       "314                      NaN      NaN  \n",
       "315                      NaN      NaN  \n",
       "316                      NaN      NaN  \n",
       "317                      NaN      NaN  \n",
       "318                      NaN      NaN  \n",
       "319                      NaN      NaN  \n",
       "320                      NaN      NaN  \n",
       "321                      NaN      NaN  \n",
       "322                      NaN      NaN  \n",
       "323                      NaN      NaN  \n",
       "324                      NaN      NaN  \n",
       "325                      NaN      NaN  \n",
       "326                      NaN      NaN  "
      ]
     },
     "execution_count": 403,
     "metadata": {},
     "output_type": "execute_result"
    }
   ],
   "source": [
    "df_hos[df_hos.Province == 'Free State']"
   ]
  },
  {
   "cell_type": "code",
   "execution_count": 381,
   "metadata": {},
   "outputs": [
    {
     "data": {
      "text/html": [
       "<div>\n",
       "<style scoped>\n",
       "    .dataframe tbody tr th:only-of-type {\n",
       "        vertical-align: middle;\n",
       "    }\n",
       "\n",
       "    .dataframe tbody tr th {\n",
       "        vertical-align: top;\n",
       "    }\n",
       "\n",
       "    .dataframe thead th {\n",
       "        text-align: right;\n",
       "    }\n",
       "</style>\n",
       "<table border=\"1\" class=\"dataframe\">\n",
       "  <thead>\n",
       "    <tr style=\"text-align: right;\">\n",
       "      <th></th>\n",
       "      <th>ID</th>\n",
       "      <th>Name</th>\n",
       "      <th>Long</th>\n",
       "      <th>Lat</th>\n",
       "      <th>Category</th>\n",
       "      <th>Province</th>\n",
       "      <th>district</th>\n",
       "      <th>subdistrict</th>\n",
       "      <th>district_estimated_population</th>\n",
       "      <th>service_offered_by_hospital</th>\n",
       "      <th>size_hospital</th>\n",
       "      <th>number_of_beds</th>\n",
       "      <th>number_of_practitioners</th>\n",
       "      <th>webpage</th>\n",
       "    </tr>\n",
       "  </thead>\n",
       "  <tbody>\n",
       "    <tr>\n",
       "      <th>0</th>\n",
       "      <td>183</td>\n",
       "      <td>Fort England Hospital</td>\n",
       "      <td>26.54361</td>\n",
       "      <td>-33.3156</td>\n",
       "      <td>Public Hospital</td>\n",
       "      <td>Eastern Cape</td>\n",
       "      <td>Sarah Baartman District Municipality</td>\n",
       "      <td>Makana LM</td>\n",
       "      <td>479923.0</td>\n",
       "      <td>NaN</td>\n",
       "      <td>NaN</td>\n",
       "      <td>NaN</td>\n",
       "      <td>NaN</td>\n",
       "      <td>NaN</td>\n",
       "    </tr>\n",
       "    <tr>\n",
       "      <th>1</th>\n",
       "      <td>91</td>\n",
       "      <td>Fort Beaufort Hospital</td>\n",
       "      <td>26.633571</td>\n",
       "      <td>-32.7802</td>\n",
       "      <td>Public Hospital</td>\n",
       "      <td>Eastern Cape</td>\n",
       "      <td>Amathole District Municipality</td>\n",
       "      <td>Raymond Mhlaba LM</td>\n",
       "      <td>880790.0</td>\n",
       "      <td>NaN</td>\n",
       "      <td>NaN</td>\n",
       "      <td>NaN</td>\n",
       "      <td>NaN</td>\n",
       "      <td>NaN</td>\n",
       "    </tr>\n",
       "    <tr>\n",
       "      <th>2</th>\n",
       "      <td>95</td>\n",
       "      <td>Bhisho Hospital</td>\n",
       "      <td>27.45516</td>\n",
       "      <td>-32.8277</td>\n",
       "      <td>Public Hospital</td>\n",
       "      <td>Eastern Cape</td>\n",
       "      <td>Buffalo City Metropolitan Municipality</td>\n",
       "      <td>Buffalo City SD</td>\n",
       "      <td>834997.0</td>\n",
       "      <td>NaN</td>\n",
       "      <td>NaN</td>\n",
       "      <td>NaN</td>\n",
       "      <td>NaN</td>\n",
       "      <td>NaN</td>\n",
       "    </tr>\n",
       "    <tr>\n",
       "      <th>3</th>\n",
       "      <td>99</td>\n",
       "      <td>Grey Hospital</td>\n",
       "      <td>27.39579</td>\n",
       "      <td>-32.8793</td>\n",
       "      <td>Public Hospital</td>\n",
       "      <td>Eastern Cape</td>\n",
       "      <td>Buffalo City Metropolitan Municipality</td>\n",
       "      <td>Buffalo City SD</td>\n",
       "      <td>834997.0</td>\n",
       "      <td>NaN</td>\n",
       "      <td>NaN</td>\n",
       "      <td>NaN</td>\n",
       "      <td>NaN</td>\n",
       "      <td>NaN</td>\n",
       "    </tr>\n",
       "    <tr>\n",
       "      <th>4</th>\n",
       "      <td>138</td>\n",
       "      <td>St Francis Hospital</td>\n",
       "      <td>26.69921</td>\n",
       "      <td>-30.6887</td>\n",
       "      <td>Public Hospital</td>\n",
       "      <td>Eastern Cape</td>\n",
       "      <td>Zululand District Municipality</td>\n",
       "      <td>Ulundi LM</td>\n",
       "      <td>892310.0</td>\n",
       "      <td>NaN</td>\n",
       "      <td>NaN</td>\n",
       "      <td>NaN</td>\n",
       "      <td>NaN</td>\n",
       "      <td>NaN</td>\n",
       "    </tr>\n",
       "    <tr>\n",
       "      <th>...</th>\n",
       "      <td>...</td>\n",
       "      <td>...</td>\n",
       "      <td>...</td>\n",
       "      <td>...</td>\n",
       "      <td>...</td>\n",
       "      <td>...</td>\n",
       "      <td>...</td>\n",
       "      <td>...</td>\n",
       "      <td>...</td>\n",
       "      <td>...</td>\n",
       "      <td>...</td>\n",
       "      <td>...</td>\n",
       "      <td>...</td>\n",
       "      <td>...</td>\n",
       "    </tr>\n",
       "    <tr>\n",
       "      <th>851</th>\n",
       "      <td>883</td>\n",
       "      <td>Vredenburg Hospital</td>\n",
       "      <td>17.99083</td>\n",
       "      <td>-32.9136</td>\n",
       "      <td>District Hospital</td>\n",
       "      <td>Western Cape</td>\n",
       "      <td>NaN</td>\n",
       "      <td>NaN</td>\n",
       "      <td>NaN</td>\n",
       "      <td>NaN</td>\n",
       "      <td>NaN</td>\n",
       "      <td>NaN</td>\n",
       "      <td>NaN</td>\n",
       "      <td>NaN</td>\n",
       "    </tr>\n",
       "    <tr>\n",
       "      <th>852</th>\n",
       "      <td>884</td>\n",
       "      <td>Die Wieg Hospital</td>\n",
       "      <td>0</td>\n",
       "      <td>0</td>\n",
       "      <td>Specialised Psychiatric Hospital</td>\n",
       "      <td>Western Cape</td>\n",
       "      <td>NaN</td>\n",
       "      <td>NaN</td>\n",
       "      <td>NaN</td>\n",
       "      <td>NaN</td>\n",
       "      <td>NaN</td>\n",
       "      <td>NaN</td>\n",
       "      <td>NaN</td>\n",
       "      <td>NaN</td>\n",
       "    </tr>\n",
       "    <tr>\n",
       "      <th>853</th>\n",
       "      <td>885</td>\n",
       "      <td>Malmesbury Inf Hospital</td>\n",
       "      <td>18.7175</td>\n",
       "      <td>-33.4672</td>\n",
       "      <td>Specialised TB Hospital</td>\n",
       "      <td>Western Cape</td>\n",
       "      <td>NaN</td>\n",
       "      <td>NaN</td>\n",
       "      <td>NaN</td>\n",
       "      <td>NaN</td>\n",
       "      <td>NaN</td>\n",
       "      <td>NaN</td>\n",
       "      <td>NaN</td>\n",
       "      <td>NaN</td>\n",
       "    </tr>\n",
       "    <tr>\n",
       "      <th>854</th>\n",
       "      <td>886</td>\n",
       "      <td>Sonstraal TB Hospital</td>\n",
       "      <td>18.98694</td>\n",
       "      <td>-33.7119</td>\n",
       "      <td>Specialised TB Hospital</td>\n",
       "      <td>Western Cape</td>\n",
       "      <td>NaN</td>\n",
       "      <td>NaN</td>\n",
       "      <td>NaN</td>\n",
       "      <td>NaN</td>\n",
       "      <td>NaN</td>\n",
       "      <td>NaN</td>\n",
       "      <td>NaN</td>\n",
       "      <td>NaN</td>\n",
       "    </tr>\n",
       "    <tr>\n",
       "      <th>855</th>\n",
       "      <td>702</td>\n",
       "      <td>RM Sobukwe Hospital</td>\n",
       "      <td>24.77263</td>\n",
       "      <td>-28.746</td>\n",
       "      <td>Public Hospital</td>\n",
       "      <td>Northern Cape</td>\n",
       "      <td>Frances Baard District Municipality</td>\n",
       "      <td>Sol Plaatje LM</td>\n",
       "      <td>387741.0</td>\n",
       "      <td>NaN</td>\n",
       "      <td>NaN</td>\n",
       "      <td>NaN</td>\n",
       "      <td>NaN</td>\n",
       "      <td>NaN</td>\n",
       "    </tr>\n",
       "  </tbody>\n",
       "</table>\n",
       "<p>856 rows × 14 columns</p>\n",
       "</div>"
      ],
      "text/plain": [
       "      ID                     Name       Long       Lat  \\\n",
       "0    183    Fort England Hospital   26.54361  -33.3156   \n",
       "1     91   Fort Beaufort Hospital  26.633571  -32.7802   \n",
       "2     95          Bhisho Hospital   27.45516  -32.8277   \n",
       "3     99            Grey Hospital   27.39579  -32.8793   \n",
       "4    138      St Francis Hospital   26.69921  -30.6887   \n",
       "..   ...                      ...        ...       ...   \n",
       "851  883      Vredenburg Hospital   17.99083  -32.9136   \n",
       "852  884        Die Wieg Hospital          0         0   \n",
       "853  885  Malmesbury Inf Hospital    18.7175  -33.4672   \n",
       "854  886    Sonstraal TB Hospital   18.98694  -33.7119   \n",
       "855  702      RM Sobukwe Hospital   24.77263   -28.746   \n",
       "\n",
       "                             Category       Province  \\\n",
       "0                     Public Hospital   Eastern Cape   \n",
       "1                     Public Hospital   Eastern Cape   \n",
       "2                     Public Hospital   Eastern Cape   \n",
       "3                     Public Hospital   Eastern Cape   \n",
       "4                     Public Hospital   Eastern Cape   \n",
       "..                                ...            ...   \n",
       "851                 District Hospital   Western Cape   \n",
       "852  Specialised Psychiatric Hospital   Western Cape   \n",
       "853           Specialised TB Hospital   Western Cape   \n",
       "854           Specialised TB Hospital   Western Cape   \n",
       "855                   Public Hospital  Northern Cape   \n",
       "\n",
       "                                   district        subdistrict  \\\n",
       "0      Sarah Baartman District Municipality          Makana LM   \n",
       "1            Amathole District Municipality  Raymond Mhlaba LM   \n",
       "2    Buffalo City Metropolitan Municipality    Buffalo City SD   \n",
       "3    Buffalo City Metropolitan Municipality    Buffalo City SD   \n",
       "4            Zululand District Municipality          Ulundi LM   \n",
       "..                                      ...                ...   \n",
       "851                                     NaN                NaN   \n",
       "852                                     NaN                NaN   \n",
       "853                                     NaN                NaN   \n",
       "854                                     NaN                NaN   \n",
       "855     Frances Baard District Municipality     Sol Plaatje LM   \n",
       "\n",
       "     district_estimated_population   service_offered_by_hospital  \\\n",
       "0                         479923.0                           NaN   \n",
       "1                         880790.0                           NaN   \n",
       "2                         834997.0                           NaN   \n",
       "3                         834997.0                           NaN   \n",
       "4                         892310.0                           NaN   \n",
       "..                             ...                           ...   \n",
       "851                            NaN                           NaN   \n",
       "852                            NaN                           NaN   \n",
       "853                            NaN                           NaN   \n",
       "854                            NaN                           NaN   \n",
       "855                       387741.0                           NaN   \n",
       "\n",
       "     size_hospital  number_of_beds  number_of_practitioners  webpage  \n",
       "0              NaN             NaN                      NaN      NaN  \n",
       "1              NaN             NaN                      NaN      NaN  \n",
       "2              NaN             NaN                      NaN      NaN  \n",
       "3              NaN             NaN                      NaN      NaN  \n",
       "4              NaN             NaN                      NaN      NaN  \n",
       "..             ...             ...                      ...      ...  \n",
       "851            NaN             NaN                      NaN      NaN  \n",
       "852            NaN             NaN                      NaN      NaN  \n",
       "853            NaN             NaN                      NaN      NaN  \n",
       "854            NaN             NaN                      NaN      NaN  \n",
       "855            NaN             NaN                      NaN      NaN  \n",
       "\n",
       "[856 rows x 14 columns]"
      ]
     },
     "execution_count": 381,
     "metadata": {},
     "output_type": "execute_result"
    }
   ],
   "source": [
    "df_hos.Province.fillna('Western Cape', inplace=True)\n",
    "df_hos"
   ]
  },
  {
   "cell_type": "code",
   "execution_count": 411,
   "metadata": {},
   "outputs": [
    {
     "data": {
      "text/html": [
       "<div>\n",
       "<style scoped>\n",
       "    .dataframe tbody tr th:only-of-type {\n",
       "        vertical-align: middle;\n",
       "    }\n",
       "\n",
       "    .dataframe tbody tr th {\n",
       "        vertical-align: top;\n",
       "    }\n",
       "\n",
       "    .dataframe thead th {\n",
       "        text-align: right;\n",
       "    }\n",
       "</style>\n",
       "<table border=\"1\" class=\"dataframe\">\n",
       "  <thead>\n",
       "    <tr style=\"text-align: right;\">\n",
       "      <th></th>\n",
       "      <th>case_id</th>\n",
       "      <th>date</th>\n",
       "      <th>YYYYMMDD</th>\n",
       "      <th>country</th>\n",
       "      <th>province</th>\n",
       "      <th>geo_subdivision</th>\n",
       "      <th>age</th>\n",
       "      <th>gender</th>\n",
       "      <th>transmission_type</th>\n",
       "      <th>type</th>\n",
       "      <th>Long</th>\n",
       "    </tr>\n",
       "  </thead>\n",
       "  <tbody>\n",
       "    <tr>\n",
       "      <th>0</th>\n",
       "      <td>1</td>\n",
       "      <td>05-03-2020</td>\n",
       "      <td>20200305</td>\n",
       "      <td>South Africa</td>\n",
       "      <td>KZN</td>\n",
       "      <td>ZA-KZN</td>\n",
       "      <td>38.0</td>\n",
       "      <td>male</td>\n",
       "      <td>Travelled to Italy</td>\n",
       "      <td>travel</td>\n",
       "      <td>30.450878</td>\n",
       "    </tr>\n",
       "    <tr>\n",
       "      <th>1</th>\n",
       "      <td>2</td>\n",
       "      <td>07-03-2020</td>\n",
       "      <td>20200307</td>\n",
       "      <td>South Africa</td>\n",
       "      <td>GP</td>\n",
       "      <td>ZA-GP</td>\n",
       "      <td>39.0</td>\n",
       "      <td>female</td>\n",
       "      <td>Travelled to Italy</td>\n",
       "      <td>travel</td>\n",
       "      <td>28.089480</td>\n",
       "    </tr>\n",
       "    <tr>\n",
       "      <th>2</th>\n",
       "      <td>3</td>\n",
       "      <td>08-03-2020</td>\n",
       "      <td>20200308</td>\n",
       "      <td>South Africa</td>\n",
       "      <td>KZN</td>\n",
       "      <td>ZA-KZN</td>\n",
       "      <td>38.0</td>\n",
       "      <td>female</td>\n",
       "      <td>Travelled to Italy</td>\n",
       "      <td>travel</td>\n",
       "      <td>30.450878</td>\n",
       "    </tr>\n",
       "    <tr>\n",
       "      <th>3</th>\n",
       "      <td>4</td>\n",
       "      <td>09-03-2020</td>\n",
       "      <td>20200309</td>\n",
       "      <td>South Africa</td>\n",
       "      <td>KZN</td>\n",
       "      <td>ZA-KZN</td>\n",
       "      <td>38.0</td>\n",
       "      <td>male</td>\n",
       "      <td>Travelled to Italy</td>\n",
       "      <td>travel</td>\n",
       "      <td>30.450878</td>\n",
       "    </tr>\n",
       "    <tr>\n",
       "      <th>4</th>\n",
       "      <td>5</td>\n",
       "      <td>09-03-2020</td>\n",
       "      <td>20200309</td>\n",
       "      <td>South Africa</td>\n",
       "      <td>KZN</td>\n",
       "      <td>ZA-KZN</td>\n",
       "      <td>38.0</td>\n",
       "      <td>female</td>\n",
       "      <td>Travelled to Italy</td>\n",
       "      <td>travel</td>\n",
       "      <td>30.450878</td>\n",
       "    </tr>\n",
       "    <tr>\n",
       "      <th>...</th>\n",
       "      <td>...</td>\n",
       "      <td>...</td>\n",
       "      <td>...</td>\n",
       "      <td>...</td>\n",
       "      <td>...</td>\n",
       "      <td>...</td>\n",
       "      <td>...</td>\n",
       "      <td>...</td>\n",
       "      <td>...</td>\n",
       "      <td>...</td>\n",
       "      <td>...</td>\n",
       "    </tr>\n",
       "    <tr>\n",
       "      <th>704</th>\n",
       "      <td>705</td>\n",
       "      <td>25-03-2020</td>\n",
       "      <td>20200325</td>\n",
       "      <td>South Africa</td>\n",
       "      <td>FS</td>\n",
       "      <td>ZA-FS</td>\n",
       "      <td>NaN</td>\n",
       "      <td>not specified</td>\n",
       "      <td>NaN</td>\n",
       "      <td>pending</td>\n",
       "      <td>26.834680</td>\n",
       "    </tr>\n",
       "    <tr>\n",
       "      <th>705</th>\n",
       "      <td>706</td>\n",
       "      <td>25-03-2020</td>\n",
       "      <td>20200325</td>\n",
       "      <td>South Africa</td>\n",
       "      <td>FS</td>\n",
       "      <td>ZA-FS</td>\n",
       "      <td>NaN</td>\n",
       "      <td>not specified</td>\n",
       "      <td>NaN</td>\n",
       "      <td>pending</td>\n",
       "      <td>26.834680</td>\n",
       "    </tr>\n",
       "    <tr>\n",
       "      <th>706</th>\n",
       "      <td>707</td>\n",
       "      <td>25-03-2020</td>\n",
       "      <td>20200325</td>\n",
       "      <td>South Africa</td>\n",
       "      <td>FS</td>\n",
       "      <td>ZA-FS</td>\n",
       "      <td>NaN</td>\n",
       "      <td>not specified</td>\n",
       "      <td>NaN</td>\n",
       "      <td>pending</td>\n",
       "      <td>26.834680</td>\n",
       "    </tr>\n",
       "    <tr>\n",
       "      <th>707</th>\n",
       "      <td>708</td>\n",
       "      <td>25-03-2020</td>\n",
       "      <td>20200325</td>\n",
       "      <td>South Africa</td>\n",
       "      <td>FS</td>\n",
       "      <td>ZA-FS</td>\n",
       "      <td>NaN</td>\n",
       "      <td>not specified</td>\n",
       "      <td>NaN</td>\n",
       "      <td>pending</td>\n",
       "      <td>26.834680</td>\n",
       "    </tr>\n",
       "    <tr>\n",
       "      <th>708</th>\n",
       "      <td>709</td>\n",
       "      <td>25-03-2020</td>\n",
       "      <td>20200325</td>\n",
       "      <td>South Africa</td>\n",
       "      <td>FS</td>\n",
       "      <td>ZA-FS</td>\n",
       "      <td>NaN</td>\n",
       "      <td>not specified</td>\n",
       "      <td>NaN</td>\n",
       "      <td>pending</td>\n",
       "      <td>26.834680</td>\n",
       "    </tr>\n",
       "  </tbody>\n",
       "</table>\n",
       "<p>709 rows × 11 columns</p>\n",
       "</div>"
      ],
      "text/plain": [
       "     case_id        date  YYYYMMDD       country province geo_subdivision  \\\n",
       "0          1  05-03-2020  20200305  South Africa      KZN          ZA-KZN   \n",
       "1          2  07-03-2020  20200307  South Africa       GP           ZA-GP   \n",
       "2          3  08-03-2020  20200308  South Africa      KZN          ZA-KZN   \n",
       "3          4  09-03-2020  20200309  South Africa      KZN          ZA-KZN   \n",
       "4          5  09-03-2020  20200309  South Africa      KZN          ZA-KZN   \n",
       "..       ...         ...       ...           ...      ...             ...   \n",
       "704      705  25-03-2020  20200325  South Africa       FS           ZA-FS   \n",
       "705      706  25-03-2020  20200325  South Africa       FS           ZA-FS   \n",
       "706      707  25-03-2020  20200325  South Africa       FS           ZA-FS   \n",
       "707      708  25-03-2020  20200325  South Africa       FS           ZA-FS   \n",
       "708      709  25-03-2020  20200325  South Africa       FS           ZA-FS   \n",
       "\n",
       "      age         gender   transmission_type     type       Long  \n",
       "0    38.0           male  Travelled to Italy   travel  30.450878  \n",
       "1    39.0         female  Travelled to Italy   travel  28.089480  \n",
       "2    38.0         female  Travelled to Italy   travel  30.450878  \n",
       "3    38.0           male  Travelled to Italy   travel  30.450878  \n",
       "4    38.0         female  Travelled to Italy   travel  30.450878  \n",
       "..    ...            ...                 ...      ...        ...  \n",
       "704   NaN  not specified                 NaN  pending  26.834680  \n",
       "705   NaN  not specified                 NaN  pending  26.834680  \n",
       "706   NaN  not specified                 NaN  pending  26.834680  \n",
       "707   NaN  not specified                 NaN  pending  26.834680  \n",
       "708   NaN  not specified                 NaN  pending  26.834680  \n",
       "\n",
       "[709 rows x 11 columns]"
      ]
     },
     "execution_count": 411,
     "metadata": {},
     "output_type": "execute_result"
    }
   ],
   "source": [
    "df_sa_cases['Long'] = [29.396878 if i == 'LI' else 25.65794 if i == 'NW'else 30.450878 if i == 'KZN' else 29.16725 if  i == 'MP' else 24.77263 if i == 'NC' else 28.08948 if i == 'GP' else 27.39579 if i == 'Eastern Cape' else 26.83468 if i == \"Free State\" else 18.7175 for i in df_sa_cases.province ]\n",
    "df_sa_cases"
   ]
  },
  {
   "cell_type": "code",
   "execution_count": 439,
   "metadata": {},
   "outputs": [
    {
     "data": {
      "application/vnd.plotly.v1+json": {
       "config": {
        "plotlyServerURL": "https://plot.ly"
       },
       "data": [
        {
         "lat": [
          "-33.3156",
          "-32.7802",
          "-32.8277",
          "-32.8793",
          "-30.6887",
          "-32.2608",
          "-34.0302",
          "-32.9959",
          "-33.3156",
          "-32.9278",
          "-31.8892",
          "-26.01",
          "-25.9205",
          "-25.9929",
          "-26.0384",
          "-25.9984",
          "-25.9293",
          "-25.9451",
          "-26.0772",
          "-26.1797",
          "-26.1885",
          "-26.1462",
          "-26.1461",
          "-26.0881",
          "-26.2055",
          "-26.2059",
          "-26.1516",
          "-26.2011",
          "-26.0995",
          "-26.1504",
          "-26.1476",
          "-26.0548",
          "-26.138",
          "-26.2581",
          "-26.0897",
          "-26.0309",
          "-26.0956",
          "-25.9958",
          "-26.1594",
          "-26.1513",
          "-26.1929",
          "-26.2208",
          "-26.2099",
          "-26.1842",
          "-26.1973",
          "-26.298",
          "-26.1821",
          "-26.1852",
          "-26.3278",
          "-26.3818",
          "-25.5251",
          "-25.6742",
          "-25.6115",
          "-25.6752",
          "-25.7475",
          "-25.7551",
          "-25.71",
          "-25.7715",
          "-25.7485",
          "-25.7562",
          "-25.7491",
          "-25.7468",
          "-25.7469",
          "-25.7152",
          "-25.7401",
          "-25.7595",
          "-25.7137",
          "-25.7474",
          "-25.744",
          "-25.7303",
          "-25.762",
          "-25.8114",
          "-25.8323",
          "-25.8851",
          "-25.8439",
          "-25.6659",
          "-25.8025",
          "-25.8111",
          "-25.7835",
          "-25.7678",
          "-25.7141",
          "-25.8129",
          "-25.8209",
          "-25.7139",
          "-25.7372",
          "-26.2451",
          "-26.2657",
          "-26.2587",
          "-26.2713",
          "-26.1847",
          "-26.1065",
          "-25.9829",
          "-26.1454",
          "-26.1898",
          "-26.1928",
          "-26.1954",
          "-26.1454",
          "-26.2605",
          "-26.2115",
          "-26.3455",
          "-26.1789",
          "-26.2732",
          "-26.2698",
          "-26.5814",
          "-26.7022",
          "-26.590498",
          "-26.1844",
          "-26.7038",
          "-26.6678",
          "-26.6617",
          "-26.5005",
          "-26.2011",
          "-26.4812",
          "-26.3674",
          "-26.3733",
          "-26.1047",
          "-26.1606",
          "-26.1679",
          "-26.1675",
          "-26.2478",
          "-26.2529",
          "-25.5184",
          "-25.403",
          "-25.7365",
          "-25.7327",
          "-25.8033",
          "-26.2197",
          "-26.614048",
          "-26.5036",
          "-26.347",
          "-26.0996",
          "-26.26",
          "-26.174",
          "-25.619",
          "-25.7295",
          "-26.2611",
          "-25.7638",
          "-26.188",
          "-26.1933",
          "-26.1374",
          "-25.734",
          "-25.691",
          "-26.1882",
          "-26.1283",
          "-25.7186",
          "-26.3398",
          "-26.2354",
          "-26.2184",
          "-26.3569",
          "-26.6061",
          "-26.1713",
          "-26.1839",
          "-25.7627",
          "-25.9828",
          "-26.1087",
          "-25.7638",
          "-26.0581",
          "-30.7415",
          "-28.5554",
          "-27.3771",
          "-27.6519",
          "-29.8382",
          "-29.6082",
          "-29.8469",
          "-29.9329",
          "-30.0165",
          "-30.5458",
          "-30.1627",
          "-30.4878",
          "-29.1425",
          "-28.942",
          "-29.4394",
          "-28.6293",
          "-28.6413",
          "-28.6245",
          "-28.9976",
          "-28.891",
          "-28.9354",
          "-30.728",
          "-30.2882",
          "-30.5755",
          "-29.5756",
          "-29.3898",
          "-28.1455",
          "-27.5741",
          "-27.1383",
          "-26.984",
          "-27.3256",
          "-28.1729",
          "-28.7476",
          "-28.2119",
          "-29.0657",
          "-29.0205",
          "-28.8524",
          "-27.7583",
          "-27.891",
          "-27.996",
          "-28.2266",
          "-27.2774",
          "-29.8739",
          "-29.8822",
          "-28.7795",
          "-29.5796",
          "-30.017",
          "-29.7382",
          "-29.7859",
          "-30.2692",
          "-30.5357",
          "-29.6488",
          "-29.8645",
          "-29.0657",
          "-27.7813",
          "-27.7402",
          "-27.9526",
          "-30.0071",
          "-30.2553",
          "-29.6138",
          "-29.5874",
          "-29.5008",
          "-28.2246",
          "-29.9357",
          "-29.7894",
          "-27.7635",
          "-27.7631",
          "-29.8616",
          "-29.8235",
          "-29.7183",
          "-29.9548",
          "-29.9151",
          "-29.8507",
          null,
          "-28.7395",
          "-30.7435",
          "-29.6473",
          "-28.5567",
          "-23.2838",
          "-24.3125",
          "-24.2956",
          "-24.4818",
          "-23.4923",
          "-23.8548",
          "-23.634",
          "-23.9253",
          "-23.3125",
          "-23.6477",
          "-24.0265",
          "-23.8345",
          "-24.2515",
          "-25.1762",
          "-24.8321",
          "-24.6141",
          "-24.3853",
          "-24.7638",
          "-22.9969",
          "-23.154",
          "-23.0291",
          "-22.8994",
          "-22.3416",
          "-22.8886",
          "-24.8859",
          "-23.678",
          "-23.3344",
          "-23.8753",
          "-24.1962",
          "-24.7014",
          "-24.5987",
          "-24.7077",
          "-24.3032",
          "-23.3222",
          "-22.9409",
          "-23.8741",
          "-25.2581",
          "-24.8446",
          "-22.9947",
          "-24.1553",
          "-23.8808",
          "-23.8958",
          "-24.9876",
          "-24.5918",
          "-25.7814",
          "-25.6851",
          "-25.6947",
          "-25.1085",
          "-24.5884",
          "-25.0926",
          "-26.0758",
          "-26.0481",
          "-27.3525",
          "-27.0107",
          "-26.4646",
          "-26.4673",
          "-26.94",
          "-27.0188",
          "-25.1046",
          "-25.6964",
          "-25.6479",
          "-25.8727",
          "-25.7741",
          "-25.418",
          "-26.1521",
          "-25.4755",
          "-25.8756",
          "-24.8497",
          "-25.3452",
          "-26.5231",
          "-25.7801",
          "-25.089",
          "-26.9389",
          "-26.5202",
          "-25.8667",
          "-27.2891",
          "-27.3946",
          "-29.127",
          "-29.2325",
          "-29.2045",
          "-28.2176",
          "-28.589",
          "-27.8028",
          "-28.91",
          "-28.8813",
          "-30.0348",
          "-29.118",
          "-29.1413",
          "-27.644",
          "-27.9531",
          "-28.537",
          "?",
          "-25.8563",
          "-25.6314",
          "-25.3809",
          "-27.1893",
          "-27.5377",
          "-26.5449",
          "-27.9081",
          "-27.1818",
          "-26.1475",
          "-26.0546",
          "-26.199",
          "-25.4767",
          "-25.5428",
          "-26.7139",
          "-25.8837",
          "-26.7286",
          "-26.9572",
          "-25.8842",
          "-28.54",
          "-27.4602",
          "-31.4618",
          "-29.6605",
          "-30.6596",
          "-28.746",
          "-30.3481",
          "-30.3522",
          "-30.3327",
          "-30.9316",
          "-30.8654",
          "-31.0917",
          "-30.9009",
          "-30.8052",
          "-32.2902",
          "-32.6745",
          "-32.5713",
          "-32.576",
          "-32.0958",
          "-32.3323",
          "-32.4102",
          "-33.2092",
          "-32.7009",
          "-32.6762",
          "-32.7702",
          "-32.7752",
          "-32.7793",
          "-33.022",
          "-32.9489",
          "-33.0125",
          "-32.8787",
          "-32.9983",
          "-33.0009",
          "-32.9977",
          "-32.9828",
          "-33.0019",
          "-32.9362",
          "-32.9328",
          "-31.3913",
          "-31.7199",
          "-31.4683",
          "-31.6619",
          "-31.836",
          "-32.1727",
          "-31.9171",
          "-31.8979",
          "-32.0089",
          "-31.3916",
          "-31.8947",
          "-31.5531",
          "-32.0119",
          "-32.1673",
          "-31.4917",
          "-31.5223",
          "-31.3371",
          "-31.0759",
          "-30.6894",
          "-30.9676",
          "-30.5332",
          "-30.7128",
          "-30.5604",
          "-30.6969",
          "-30.9935",
          "-31.1236",
          "-31.2932",
          "-33.8825",
          "-33.8919",
          "-33.765",
          "-33.7474",
          "-33.7415",
          "-33.9797",
          "-33.9086",
          "-33.9683",
          "-33.9306",
          "-33.9678",
          "-33.9251",
          "-33.9517",
          "-33.969",
          "-33.9913",
          "-33.963",
          "-33.9584",
          "-33.9478",
          "-31.0812",
          "-31.3598",
          "-31.576",
          "-31.5909",
          "-31.5911",
          "-31.5903",
          "-31.5881",
          "-31.5938",
          "-31.5913",
          "-32.0505",
          "-31.3165",
          "-31.0091",
          "-31.3007",
          "-31.8088",
          "-31.5642",
          "-31.4501",
          "-31.7342",
          "-32.7218",
          "-32.4862",
          "-32.2678",
          "-32.9422",
          "-33.3004",
          "-34.0299",
          "-34.0225",
          "-33.9515",
          "-33.3024",
          "-33.3069",
          "-33.5624",
          "-33.5966",
          "-33.5953",
          "-33.3947",
          "-27.2788",
          "-27.2798",
          "-26.8014",
          "-26.7732",
          "-26.826",
          "-27.6537",
          "-26.8959",
          "-28.5098",
          "-28.1105",
          "-27.9811",
          "-27.9879",
          "-27.9667",
          "-28.0019",
          "-27.9874",
          "-27.9874",
          "0",
          "-27.8773",
          "-27.8323",
          "-29.0864",
          "-29.1346",
          "-29.118",
          "-29.1338",
          "-29.1344",
          "-29.1538",
          "0",
          "-29.1094",
          "-29.1385",
          "-29.1164",
          "-29.1223",
          "-29.0633",
          "-29.0499",
          "-29.1346",
          "-29.0774",
          "-29.0828",
          "-29.0944",
          "-28.2325",
          "-28.2331",
          "-28.229",
          "-28.2297",
          "-28.2618",
          "-28.2722",
          "-29.2029",
          "-27.4335",
          "-28.3274",
          "-29.7603",
          "-30.2921",
          "-30.2177",
          "-25.9795",
          "-26.0112",
          "-26.0146",
          "-26.0159",
          "-26.0382",
          "-26.1316",
          "-26.1008",
          "-26.1796",
          "-26.1395",
          "-26.1398",
          "-26.0993",
          "-26.1467",
          "-26.0866",
          "-26.1132",
          "-26.2762",
          "-26.0755",
          "-26.0171",
          "-26.1595",
          "-26.0971",
          "-26.0397",
          "-26.0797",
          "-26.1824",
          "-26.2793",
          "-25.485",
          "-25.6837",
          "-25.7698",
          "-25.7442",
          "-25.745",
          "-25.7768",
          "-25.8566",
          "-25.8693",
          "-25.8944",
          "-25.831",
          "-25.8851",
          "-25.8851",
          "-25.8853",
          "-25.6775",
          "-25.7655",
          "-25.7824",
          "-25.7824",
          "-25.7848",
          "-25.8193",
          "-26.1785",
          "-26.1365",
          "-25.9224",
          "-26.0832",
          "-26.106",
          "-26.2878",
          "-26.1817",
          "-26.1784",
          "-26.1405",
          "-26.1843",
          "-26.2472",
          "-26.2279",
          "-26.2656",
          "-26.2141",
          "-26.3457",
          "-26.6684",
          "-26.0815",
          "-26.0972",
          "-26.0621",
          "-26.1597",
          "-26.3215",
          "-27.7672",
          "-27.7685",
          "-29.844",
          "-29.7129",
          "-29.7547",
          "-29.9086",
          "-29.8602",
          "-29.7226",
          "-29.7899",
          "-29.8517",
          "0",
          "-29.8512",
          "-29.836",
          "-29.8515",
          "-30.0964",
          "0",
          "0",
          "-29.9943",
          "-29.8485",
          "-29.8513",
          "-29.8605",
          "-29.9863",
          "-29.8666",
          "-30.0184",
          "-29.9095",
          "-29.8555",
          "-29.7157",
          "-29.8112",
          "-29.8509",
          "-29.8814",
          "-29.5733",
          "-30.0243",
          "-30.0328",
          "-29.834",
          "-29.8564",
          "-29.7275",
          "-29.8517",
          "-29.7391",
          "-30.0186",
          "-29.7774",
          "-29.8308",
          "-29.7276",
          "-29.8261",
          "-30.2011",
          "0",
          "-29.7946",
          "-30.5521",
          "-29.3468",
          "-29.5304",
          "-29.125",
          "0",
          "-28.7363",
          "-28.7698",
          "-28.7495",
          "0",
          "-30.7416",
          "-30.8617",
          "-30.8017",
          "0",
          "0",
          "-29.6046",
          "0",
          "-29.6086",
          "0",
          "-29.6017",
          "-29.5626",
          "0",
          "0",
          "0",
          "0",
          "0",
          "-29.5395",
          "-29.477",
          "-29.4784",
          "0",
          "0",
          "-29.0607",
          "-28.557",
          "0",
          "-27.7717",
          "-27.4872",
          "-27.9298",
          "-24.3026",
          "-23.9082",
          "-23.9016",
          "-23.893",
          "-24.0428",
          "-23.8242",
          "-23.0447",
          "-23.0408",
          "-24.8811",
          "-23.6864",
          "0",
          "-24.599",
          "-25.7602",
          "-24.7957",
          "-24.5827",
          "-25.9405",
          "-24.9393",
          "-25.4761",
          "-25.7622",
          "-25.4935",
          "-25.4035",
          "-25.4846",
          "-26.4918",
          "-26.5073",
          "0",
          "-27.0202",
          "-26.5229",
          "-26.5428",
          "-25.9167",
          "-25.9586",
          "-25.8841",
          "-25.8748",
          "-25.8754",
          "-25.8721",
          "0",
          "-25.9467",
          "-25.8296",
          "-25.7628",
          "0",
          "0",
          "-27.7576",
          "-28.7449",
          "-28.7564",
          "-28.7376",
          "-28.8067",
          "-27.6945",
          "-27.3067",
          "-29.2413",
          "0",
          "-29.6681",
          "0",
          "-30.73",
          "-28.446",
          "-28.4399",
          "-28.446",
          "-28.446",
          "-28.7805",
          "-28.3694",
          "-28.3276",
          "-25.6328",
          "-25.6639",
          "-25.5335",
          "-25.6774",
          "-25.6721",
          "-25.6737",
          "-25.6478",
          "-25.6852",
          "0",
          "-26.8622",
          "-26.8789",
          "-26.8411",
          "-26.8726",
          "-26.8468",
          "-26.8309",
          "-26.9623",
          "-26.689",
          "-26.7273",
          "-26.9468",
          "-25.86",
          "-33.6211",
          "-33.6442",
          "-33.6403",
          "-33.643",
          "0",
          "-33.6444",
          "-33.7188",
          "-33.7187",
          "0",
          "0",
          "-33.7263",
          "-33.7977",
          "-33.8016",
          "-33.9443",
          "-33.9305",
          "-33.363",
          "-33.3607",
          "-32.3527",
          "-31.9625",
          "-33.1944",
          "-33.2166",
          "0",
          "-33.9972",
          "0",
          "-34.0768",
          "-34.1137",
          "-34.0914",
          "-33.9187",
          "-34.1127",
          "-34.1128",
          "-33.8494",
          "-33.826",
          "-33.8753",
          "-33.8775",
          "-33.8722",
          "-33.8926",
          "-34.0619",
          "-34.1319",
          "-33.9948",
          "-33.9865",
          "-33.9861",
          "-33.9713",
          "-34.0265",
          "-34.0266",
          "0",
          "-33.949",
          "-34.0047",
          "-33.9769",
          "-33.9712",
          "-33.9427",
          "-33.9531",
          "-33.9531",
          "-34.0045",
          "-32.7752",
          "-33.93",
          "-33.8999",
          "-33.9237",
          "-33.9408",
          "-33.9408",
          "-33.9442",
          "-33.9432",
          "-33.9357",
          "-33.8654",
          "-33.8033",
          "-33.9217",
          "-33.942",
          "-33.9044",
          "-33.8876",
          "-33.9157",
          "-33.9238",
          "-33.9373",
          "-33.5649",
          "-33.5643",
          "-34.0499",
          "-33.9709",
          "-33.9846",
          "-33.9704",
          "-34.0248",
          "-34.0494",
          "-34.0266",
          "-34.0082",
          "-34.0262",
          "-33.9435",
          "-33.9025",
          "-33.8996",
          "-33.8926",
          "-33.9121",
          "-33.901",
          "-33.9018",
          "-33.8936",
          "0",
          "-33.8908",
          "-33.9147",
          "-33.9147",
          "-34.0529",
          "-33.9519",
          "-33.9802",
          "-33.9563",
          "-33.9573",
          "-33.6594",
          "-34.0936",
          "-33.4872",
          "-34.0369",
          "-34.0521",
          "-34.02",
          "-34.1813",
          "-34.1858",
          "-33.5906",
          "-33.5859",
          "-33.591",
          "-33.5888",
          "-34.5372",
          "-34.4226",
          "-34.4229",
          "-34.0234",
          "-34.2244",
          "-33.018",
          "-32.9063",
          "-32.5988",
          "-32.1836",
          "-31.6694",
          "-32.9118",
          "-32.9136",
          "0",
          "-33.4672",
          "-33.7119",
          "-28.746"
         ],
         "lon": [
          "26.54361",
          "26.633571",
          "27.45516",
          "27.39579",
          "26.69921",
          "24.53619",
          "24.78144",
          "27.89156",
          "26.54361",
          "27.74422",
          "26.871347",
          "28.19",
          "28.01873",
          "28.013146",
          "28.06941",
          "28.240658",
          "28.011625",
          "27.962992",
          "28.01204",
          "28.01725",
          "28.01224",
          "28.03924",
          "28.03962",
          "27.958773",
          "27.87435",
          "27.873921",
          "27.920641",
          "27.93667",
          "27.92435",
          "27.92086",
          "27.900218",
          "27.972147",
          "27.867123",
          "27.935847",
          "27.851671",
          "28.139385",
          "28.05595",
          "28.129635",
          "28.0954",
          "28.0866",
          "28.0434",
          "28.04278",
          "28.02157",
          "28.0466",
          "28.006889",
          "28.05302",
          "28.04638",
          "28.04998",
          "27.86371",
          "27.841045",
          "28.03835",
          "28.10867",
          "27.97686",
          "28.24418",
          "28.209688",
          "28.203429",
          "28.193922",
          "28.2164",
          "28.19666",
          "28.20565",
          "28.20677",
          "28.199664",
          "28.20768",
          "28.1535",
          "28.20037",
          "28.21182",
          "28.21779",
          "28.21113",
          "28.23775",
          "28.200165",
          "28.20571",
          "28.09319",
          "28.1959",
          "28.205361",
          "28.19321",
          "28.515781",
          "28.29974",
          "28.262855",
          "28.291695",
          "28.318918",
          "28.375033",
          "28.2631",
          "28.30496",
          "28.378808",
          "28.329661",
          "28.354391",
          "28.43466",
          "28.43471",
          "28.42802",
          "28.13315",
          "28.22923",
          "28.238093",
          "28.330783",
          "28.12093",
          "28.307291",
          "28.308109",
          "28.330783",
          "28.256035",
          "28.302914",
          "28.216395",
          "28.169563",
          "28.12019",
          "28.119647",
          "27.842933",
          "27.832318",
          "27.846783",
          "28.312829",
          "27.838504",
          "27.9283",
          "27.96935",
          "28.354079",
          "27.43667",
          "27.49689",
          "27.382881",
          "27.41607",
          "27.77518",
          "27.70915",
          "27.718959",
          "27.71868",
          "27.856929",
          "28.06211",
          "28.02248",
          "28.26582",
          "28.13962",
          "28.202561",
          "28.716892",
          "28.16305",
          "27.93328",
          "28.35131",
          "27.39446",
          "27.78386",
          "27.93799",
          "28.04691",
          "28.01216",
          "28.202561",
          "27.94666",
          "28.09372",
          "28.41141",
          "28.19389",
          "28.124964",
          "28.200872",
          "28.53852",
          "27.97329",
          "28.129419",
          "28.36788",
          "28.37705",
          "28.40367",
          "28.24449",
          "28.224311",
          "27.84622",
          "27.80774",
          "27.9901",
          "28.08948",
          "28.23756",
          "28.036464",
          "28.16057",
          "27.747403",
          "30.451701",
          "29.779646",
          "31.619102",
          "30.0712",
          "30.996943",
          "30.983202",
          "30.826015",
          "30.989162",
          "29.72575",
          "29.415438",
          "30.077931",
          "29.82481",
          "31.04259",
          "30.94846",
          "30.807162",
          "31.34105",
          "30.893212",
          "31.086834",
          "31.474714",
          "31.466456",
          "31.195414",
          "30.344023",
          "30.74487",
          "29.889283",
          "30.402653",
          "30.842696",
          "31.880697",
          "32.082098",
          "32.004746",
          "32.756375",
          "32.556644",
          "30.22974",
          "30.450917",
          "30.672921",
          "30.600049",
          "29.893932",
          "29.381335",
          "30.797088",
          "31.639325",
          "31.377188",
          "31.41477",
          "31.347971",
          "30.958756",
          "30.989507",
          "31.864116",
          "30.363784",
          "30.885394",
          "30.739534",
          "30.968573",
          "29.93276",
          "30.512498",
          "30.336538",
          "30.275817",
          "30.600049",
          "31.425381",
          "31.510095",
          "31.367857",
          "30.902844",
          "29.92602",
          "30.368942",
          "30.366437",
          "30.232779",
          "31.476734",
          "30.956778",
          "30.761508",
          "30.0508",
          "29.935643",
          "31.042291",
          "30.987036",
          "31.028852",
          "30.936625",
          "30.886237",
          "31.011035",
          null,
          "31.897211",
          "30.450878",
          "30.332756",
          "29.766058",
          "29.11313",
          "29.335",
          "29.5285",
          "29.40445",
          "29.74272",
          "29.396878",
          "29.12057",
          "31.03717",
          "30.69215",
          "30.21861",
          "30.28098",
          "30.16427",
          "30.44767",
          "29.40387",
          "29.50233",
          "30.17051",
          "30.072501",
          "29.86767",
          "30.69669",
          "30.05617",
          "29.90614",
          "30.19422",
          "30.04285",
          "30.479815",
          "28.28873",
          "27.70333",
          "28.01118",
          "28.692892",
          "29.01405",
          "28.42212",
          "27.4069",
          "28.39456",
          "29.54406",
          "30.72358",
          "30.48536",
          "30.26933",
          "29.144713",
          "29.80403",
          "30.41415",
          "28.989183",
          "29.725885",
          "29.456908",
          "31.23628",
          "31.05983",
          "31.04189",
          "31.490584",
          "31.7881",
          "30.4514",
          "30.7696",
          "30.782",
          "30.11237",
          "30.814586",
          "29.89128",
          "29.86146",
          "29.46735",
          "29.118658",
          "29.244242",
          "30.80625",
          "28.55872",
          "30.04431",
          "30.33855",
          "29.25281",
          "29.45133",
          "28.70415",
          "28.66699",
          "30.97111",
          "29.226596",
          "31.06531",
          "31.1228",
          "29.97522",
          "31.02869",
          "31.12695",
          "29.24255",
          "29.97775",
          "29.16725",
          "27.96168",
          "26.61783",
          "26.2064",
          "26.71572",
          "26.83468",
          "28.32645",
          "28.81755",
          "28.41893",
          "27.57423",
          "27.87202",
          "25.789656",
          "26.18432",
          "26.24572",
          "27.213172",
          "26.7862",
          "28.80507",
          "?",
          "26.894543",
          "27.78452",
          "27.058001",
          "25.982959",
          "24.79175",
          "24.13858",
          "25.174237",
          "25.32879",
          "26.15132",
          "25.948932",
          "25.598981",
          "25.981507",
          "26.06647",
          "27.09142",
          "25.65407",
          "27.08418",
          "24.71612",
          "25.65794",
          "24.51488",
          "23.443659",
          "19.77654",
          "17.88323",
          "24.00825",
          "24.77263",
          "28.82118",
          "28.808675",
          "28.80195",
          "30.108882",
          "29.85162",
          "29.18731",
          "28.99562",
          "29.3596",
          "27.13691",
          "27.1435",
          "27.419427",
          "27.89576",
          "28.87875",
          "28.13877",
          "28.51829",
          "27.13244",
          "26.29427",
          "26.083139",
          "26.63678",
          "26.84678",
          "26.656323",
          "27.82122",
          "27.939663",
          "27.900134",
          "27.397414",
          "27.90313",
          "27.901072",
          "27.901159",
          "27.90592",
          "27.897928",
          "27.993444",
          "27.74088",
          "27.045615",
          "27.19939",
          "27.34042",
          "28.05041",
          "28.1038",
          "26.80522",
          "26.907204",
          "26.880087",
          "26.25884",
          "26.3555",
          "26.858113",
          "26.55338",
          "27.58348",
          "25.62243",
          "24.99351",
          "27.68274",
          "27.83797",
          "28.34775",
          "28.50961",
          "27.58507",
          "27.35337",
          "27.21188",
          "27.47457",
          "26.70719",
          "26.31398",
          "26.8074",
          "25.813211",
          "25.563114",
          "25.46905",
          "25.391914",
          "25.38002",
          "25.40679",
          "25.62671",
          "25.58545",
          "25.60982",
          "25.575102",
          "25.605816",
          "25.57074",
          "25.579902",
          "25.560195",
          "25.555528",
          "25.613479",
          "25.59982",
          "25.558915",
          "29.49531",
          "29.56532",
          "28.70717",
          "28.785432",
          "28.76497",
          "28.76593",
          "28.764234",
          "28.761941",
          "28.785204",
          "29.09162",
          "28.778056",
          "28.68223",
          "28.62983",
          "29.06588",
          "29.11617",
          "29.45397",
          "29.35888",
          "25.59525",
          "24.06093",
          "24.55619",
          "24.66203",
          "23.46757",
          "24.780218",
          "24.75869",
          "24.29786",
          "26.51464",
          "26.54657",
          "26.88126",
          "26.876792",
          "26.88312",
          "25.44001",
          "28.50023",
          "28.495123",
          "27.82757",
          "27.840244",
          "27.849385",
          "27.230333",
          "27.47207",
          "27.00802",
          "26.85798",
          "26.709676",
          "26.730057",
          "26.774142",
          "26.710868",
          "26.727098",
          "26.727098",
          "0",
          "26.65922",
          "25.91538",
          "26.156533",
          "26.194441",
          "26.184516",
          "26.209264",
          "26.194991",
          "26.176303",
          "0",
          "26.203516",
          "26.243918",
          "26.186748",
          "26.205302",
          "26.170889",
          "26.178331",
          "26.193667",
          "26.215478",
          "26.161423",
          "26.193444",
          "28.319261",
          "28.3197",
          "28.322255",
          "28.321089",
          "29.115483",
          "29.13805",
          "27.44807",
          "29.15583",
          "27.60552",
          "25.42315",
          "27.07542",
          "26.52442",
          "28.116646",
          "27.993825",
          "28.10258",
          "28.006778",
          "28.080208",
          "27.974217",
          "27.941652",
          "28.034502",
          "27.977595",
          "27.977811",
          "28.046116",
          "28.03845",
          "27.958324",
          "27.894028",
          "27.96094",
          "28.130116",
          "28.034859",
          "28.09689",
          "28.05654",
          "27.957387",
          "28.06304",
          "28.044005",
          "27.890179",
          "28.127308",
          "28.1905",
          "28.235836",
          "28.237729",
          "28.191279",
          "28.16072",
          "28.187175",
          "28.136995",
          "28.142686",
          "28.194997",
          "28.205361",
          "28.205361",
          "28.105073",
          "28.241145",
          "28.280361",
          "28.360911",
          "28.360911",
          "28.353222",
          "28.304361",
          "28.28709",
          "28.2021",
          "28.190883",
          "28.249774",
          "28.231123",
          "28.063542",
          "28.248137",
          "28.288496",
          "28.347066",
          "28.312829",
          "28.277538",
          "28.254504",
          "28.120691",
          "28.163673",
          "28.21607",
          "27.930458",
          "27.803764",
          "27.804736",
          "27.830418",
          "27.692793",
          "27.652711",
          "29.931891",
          "29.931392",
          "30.978631",
          "31.068422",
          "31.021882",
          "31.020005",
          "31.018172",
          "31.072501",
          "30.74085",
          "30.98583",
          "0",
          "31.014692",
          "30.997621",
          "30.985862",
          "30.857739",
          "0",
          "0",
          "30.90004",
          "31.018237",
          "31.014662",
          "31.017216",
          "30.926839",
          "31.042836",
          "30.90682",
          "30.906225",
          "30.987428",
          "31.035649",
          "30.865212",
          "30.932113",
          "30.920624",
          "31.118208",
          "30.913635",
          "30.903978",
          "30.998478",
          "30.990445",
          "31.068697",
          "30.985775",
          "30.663681",
          "30.914036",
          "30.995682",
          "30.984954",
          "31.069036",
          "30.98431",
          "30.79335",
          "0",
          "29.497375",
          "29.424315",
          "31.275556",
          "31.201856",
          "31.56957",
          "0",
          "31.893714",
          "31.932124",
          "32.052822",
          "0",
          "30.451536",
          "30.358177",
          "30.404661",
          "0",
          "0",
          "30.410599",
          "0",
          "30.388683",
          "0",
          "30.384357",
          "30.407526",
          "0",
          "0",
          "0",
          "0",
          "0",
          "30.299325",
          "30.218672",
          "30.217638",
          "0",
          "0",
          "30.60663",
          "29.768812",
          "0",
          "30.775736",
          "30.60844",
          "31.648265",
          "29.475437",
          "29.46334",
          "29.493351",
          "29.453",
          "30.27413",
          "30.154319",
          "29.913072",
          "29.897218",
          "28.28067",
          "27.698139",
          "0",
          "27.407217",
          "27.387811",
          "27.405936",
          "27.402773",
          "27.153089",
          "27.15166",
          "30.977583",
          "31.051946",
          "30.961882",
          "30.983566",
          "30.952268",
          "29.23186",
          "29.182497",
          "0",
          "30.804255",
          "29.97482",
          "29.987844",
          "29.199753",
          "29.178193",
          "29.232742",
          "29.215849",
          "29.214917",
          "29.240453",
          "0",
          "29.8034",
          "29.187401",
          "29.457539",
          "0",
          "0",
          "24.81333",
          "24.771611",
          "24.762109",
          "24.72386",
          "24.77374",
          "23.054137",
          "23.34494",
          "18.842602",
          "0",
          "22.73732",
          "0",
          "25.08956",
          "21.26603",
          "21.266934",
          "21.26603",
          "21.26603",
          "20.62249",
          "23.57222",
          "23.06008",
          "27.782926",
          "27.23578",
          "27.20101",
          "27.244388",
          "27.238413",
          "27.242302",
          "27.214149",
          "27.226595",
          "0",
          "26.80489",
          "26.662715",
          "26.668083",
          "26.660808",
          "26.669377",
          "26.678519",
          "26.67205",
          "27.08141",
          "27.083957",
          "24.721533",
          "25.64145",
          "19.45694",
          "19.450696",
          "19.44804",
          "19.445",
          "0",
          "19.458072",
          "18.96904",
          "18.969075",
          "0",
          "0",
          "18.97028",
          "20.12333",
          "19.89133",
          "18.850752",
          "18.87028",
          "19.30083",
          "19.3094",
          "22.6075",
          "23.76917",
          "20.85028",
          "22.02583",
          "0",
          "18.71907",
          "0",
          "18.856761",
          "18.838289",
          "18.858151",
          "18.674902",
          "18.838131",
          "18.838046",
          "18.697091",
          "18.655261",
          "18.577052",
          "18.55638",
          "18.637139",
          "18.564195",
          "18.46033",
          "18.416805",
          "18.47313",
          "18.466387",
          "18.468447",
          "18.467425",
          "18.460908",
          "18.46095",
          "0",
          "18.47489",
          "18.46923",
          "18.466055",
          "18.467383",
          "18.459306",
          "18.48707",
          "18.48707",
          "18.453257",
          "26.84678",
          "18.48448",
          "18.4853",
          "18.5212",
          "18.465164",
          "18.465164",
          "18.489836",
          "18.490442",
          "18.410452",
          "18.506922",
          "18.483991",
          "18.41816",
          "18.462548",
          "18.41683",
          "18.512787",
          "18.44249",
          "18.41134",
          "18.48024",
          "18.49505",
          "18.49541",
          "18.673936",
          "18.53346",
          "18.557927",
          "18.532997",
          "18.61771",
          "18.621214",
          "18.61584",
          "18.59641",
          "18.6157",
          "18.49029",
          "18.62955",
          "18.60901",
          "18.610085",
          "18.5418",
          "18.612936",
          "18.623831",
          "18.559056",
          "0",
          "18.65498",
          "18.611569",
          "18.611569",
          "23.364999",
          "22.45028",
          "22.4725",
          "22.452171",
          "22.456439",
          "23.12556",
          "21.25472",
          "21.26889",
          "23.05806",
          "23.078486",
          "23.02",
          "22.130775",
          "22.1275",
          "22.202562",
          "22.185728",
          "22.201612",
          "22.18889",
          "20.035636",
          "19.22833",
          "19.226345",
          "20.4488",
          "19.434458",
          "18.99444",
          "18.76222",
          "19.0175",
          "18.89083",
          "18.50472",
          "17.990553",
          "17.99083",
          "0",
          "18.7175",
          "18.98694",
          "24.77263"
         ],
         "marker": {
          "color": "green"
         },
         "mode": "markers",
         "name": "Salaries and Wages",
         "type": "scattergeo"
        }
       ],
       "layout": {
        "geo": {
         "countrycolor": "rgb(217, 217, 217)",
         "countrywidth": 0.5,
         "landcolor": "rgb(250, 250, 250)",
         "scope": "africa",
         "showland": true,
         "subunitcolor": "rgb(217, 217, 217)",
         "subunitwidth": 0.5
        },
        "template": {
         "data": {
          "bar": [
           {
            "error_x": {
             "color": "#2a3f5f"
            },
            "error_y": {
             "color": "#2a3f5f"
            },
            "marker": {
             "line": {
              "color": "#E5ECF6",
              "width": 0.5
             }
            },
            "type": "bar"
           }
          ],
          "barpolar": [
           {
            "marker": {
             "line": {
              "color": "#E5ECF6",
              "width": 0.5
             }
            },
            "type": "barpolar"
           }
          ],
          "carpet": [
           {
            "aaxis": {
             "endlinecolor": "#2a3f5f",
             "gridcolor": "white",
             "linecolor": "white",
             "minorgridcolor": "white",
             "startlinecolor": "#2a3f5f"
            },
            "baxis": {
             "endlinecolor": "#2a3f5f",
             "gridcolor": "white",
             "linecolor": "white",
             "minorgridcolor": "white",
             "startlinecolor": "#2a3f5f"
            },
            "type": "carpet"
           }
          ],
          "choropleth": [
           {
            "colorbar": {
             "outlinewidth": 0,
             "ticks": ""
            },
            "type": "choropleth"
           }
          ],
          "contour": [
           {
            "colorbar": {
             "outlinewidth": 0,
             "ticks": ""
            },
            "colorscale": [
             [
              0,
              "#0d0887"
             ],
             [
              0.1111111111111111,
              "#46039f"
             ],
             [
              0.2222222222222222,
              "#7201a8"
             ],
             [
              0.3333333333333333,
              "#9c179e"
             ],
             [
              0.4444444444444444,
              "#bd3786"
             ],
             [
              0.5555555555555556,
              "#d8576b"
             ],
             [
              0.6666666666666666,
              "#ed7953"
             ],
             [
              0.7777777777777778,
              "#fb9f3a"
             ],
             [
              0.8888888888888888,
              "#fdca26"
             ],
             [
              1,
              "#f0f921"
             ]
            ],
            "type": "contour"
           }
          ],
          "contourcarpet": [
           {
            "colorbar": {
             "outlinewidth": 0,
             "ticks": ""
            },
            "type": "contourcarpet"
           }
          ],
          "heatmap": [
           {
            "colorbar": {
             "outlinewidth": 0,
             "ticks": ""
            },
            "colorscale": [
             [
              0,
              "#0d0887"
             ],
             [
              0.1111111111111111,
              "#46039f"
             ],
             [
              0.2222222222222222,
              "#7201a8"
             ],
             [
              0.3333333333333333,
              "#9c179e"
             ],
             [
              0.4444444444444444,
              "#bd3786"
             ],
             [
              0.5555555555555556,
              "#d8576b"
             ],
             [
              0.6666666666666666,
              "#ed7953"
             ],
             [
              0.7777777777777778,
              "#fb9f3a"
             ],
             [
              0.8888888888888888,
              "#fdca26"
             ],
             [
              1,
              "#f0f921"
             ]
            ],
            "type": "heatmap"
           }
          ],
          "heatmapgl": [
           {
            "colorbar": {
             "outlinewidth": 0,
             "ticks": ""
            },
            "colorscale": [
             [
              0,
              "#0d0887"
             ],
             [
              0.1111111111111111,
              "#46039f"
             ],
             [
              0.2222222222222222,
              "#7201a8"
             ],
             [
              0.3333333333333333,
              "#9c179e"
             ],
             [
              0.4444444444444444,
              "#bd3786"
             ],
             [
              0.5555555555555556,
              "#d8576b"
             ],
             [
              0.6666666666666666,
              "#ed7953"
             ],
             [
              0.7777777777777778,
              "#fb9f3a"
             ],
             [
              0.8888888888888888,
              "#fdca26"
             ],
             [
              1,
              "#f0f921"
             ]
            ],
            "type": "heatmapgl"
           }
          ],
          "histogram": [
           {
            "marker": {
             "colorbar": {
              "outlinewidth": 0,
              "ticks": ""
             }
            },
            "type": "histogram"
           }
          ],
          "histogram2d": [
           {
            "colorbar": {
             "outlinewidth": 0,
             "ticks": ""
            },
            "colorscale": [
             [
              0,
              "#0d0887"
             ],
             [
              0.1111111111111111,
              "#46039f"
             ],
             [
              0.2222222222222222,
              "#7201a8"
             ],
             [
              0.3333333333333333,
              "#9c179e"
             ],
             [
              0.4444444444444444,
              "#bd3786"
             ],
             [
              0.5555555555555556,
              "#d8576b"
             ],
             [
              0.6666666666666666,
              "#ed7953"
             ],
             [
              0.7777777777777778,
              "#fb9f3a"
             ],
             [
              0.8888888888888888,
              "#fdca26"
             ],
             [
              1,
              "#f0f921"
             ]
            ],
            "type": "histogram2d"
           }
          ],
          "histogram2dcontour": [
           {
            "colorbar": {
             "outlinewidth": 0,
             "ticks": ""
            },
            "colorscale": [
             [
              0,
              "#0d0887"
             ],
             [
              0.1111111111111111,
              "#46039f"
             ],
             [
              0.2222222222222222,
              "#7201a8"
             ],
             [
              0.3333333333333333,
              "#9c179e"
             ],
             [
              0.4444444444444444,
              "#bd3786"
             ],
             [
              0.5555555555555556,
              "#d8576b"
             ],
             [
              0.6666666666666666,
              "#ed7953"
             ],
             [
              0.7777777777777778,
              "#fb9f3a"
             ],
             [
              0.8888888888888888,
              "#fdca26"
             ],
             [
              1,
              "#f0f921"
             ]
            ],
            "type": "histogram2dcontour"
           }
          ],
          "mesh3d": [
           {
            "colorbar": {
             "outlinewidth": 0,
             "ticks": ""
            },
            "type": "mesh3d"
           }
          ],
          "parcoords": [
           {
            "line": {
             "colorbar": {
              "outlinewidth": 0,
              "ticks": ""
             }
            },
            "type": "parcoords"
           }
          ],
          "pie": [
           {
            "automargin": true,
            "type": "pie"
           }
          ],
          "scatter": [
           {
            "marker": {
             "colorbar": {
              "outlinewidth": 0,
              "ticks": ""
             }
            },
            "type": "scatter"
           }
          ],
          "scatter3d": [
           {
            "line": {
             "colorbar": {
              "outlinewidth": 0,
              "ticks": ""
             }
            },
            "marker": {
             "colorbar": {
              "outlinewidth": 0,
              "ticks": ""
             }
            },
            "type": "scatter3d"
           }
          ],
          "scattercarpet": [
           {
            "marker": {
             "colorbar": {
              "outlinewidth": 0,
              "ticks": ""
             }
            },
            "type": "scattercarpet"
           }
          ],
          "scattergeo": [
           {
            "marker": {
             "colorbar": {
              "outlinewidth": 0,
              "ticks": ""
             }
            },
            "type": "scattergeo"
           }
          ],
          "scattergl": [
           {
            "marker": {
             "colorbar": {
              "outlinewidth": 0,
              "ticks": ""
             }
            },
            "type": "scattergl"
           }
          ],
          "scattermapbox": [
           {
            "marker": {
             "colorbar": {
              "outlinewidth": 0,
              "ticks": ""
             }
            },
            "type": "scattermapbox"
           }
          ],
          "scatterpolar": [
           {
            "marker": {
             "colorbar": {
              "outlinewidth": 0,
              "ticks": ""
             }
            },
            "type": "scatterpolar"
           }
          ],
          "scatterpolargl": [
           {
            "marker": {
             "colorbar": {
              "outlinewidth": 0,
              "ticks": ""
             }
            },
            "type": "scatterpolargl"
           }
          ],
          "scatterternary": [
           {
            "marker": {
             "colorbar": {
              "outlinewidth": 0,
              "ticks": ""
             }
            },
            "type": "scatterternary"
           }
          ],
          "surface": [
           {
            "colorbar": {
             "outlinewidth": 0,
             "ticks": ""
            },
            "colorscale": [
             [
              0,
              "#0d0887"
             ],
             [
              0.1111111111111111,
              "#46039f"
             ],
             [
              0.2222222222222222,
              "#7201a8"
             ],
             [
              0.3333333333333333,
              "#9c179e"
             ],
             [
              0.4444444444444444,
              "#bd3786"
             ],
             [
              0.5555555555555556,
              "#d8576b"
             ],
             [
              0.6666666666666666,
              "#ed7953"
             ],
             [
              0.7777777777777778,
              "#fb9f3a"
             ],
             [
              0.8888888888888888,
              "#fdca26"
             ],
             [
              1,
              "#f0f921"
             ]
            ],
            "type": "surface"
           }
          ],
          "table": [
           {
            "cells": {
             "fill": {
              "color": "#EBF0F8"
             },
             "line": {
              "color": "white"
             }
            },
            "header": {
             "fill": {
              "color": "#C8D4E3"
             },
             "line": {
              "color": "white"
             }
            },
            "type": "table"
           }
          ]
         },
         "layout": {
          "annotationdefaults": {
           "arrowcolor": "#2a3f5f",
           "arrowhead": 0,
           "arrowwidth": 1
          },
          "coloraxis": {
           "colorbar": {
            "outlinewidth": 0,
            "ticks": ""
           }
          },
          "colorscale": {
           "diverging": [
            [
             0,
             "#8e0152"
            ],
            [
             0.1,
             "#c51b7d"
            ],
            [
             0.2,
             "#de77ae"
            ],
            [
             0.3,
             "#f1b6da"
            ],
            [
             0.4,
             "#fde0ef"
            ],
            [
             0.5,
             "#f7f7f7"
            ],
            [
             0.6,
             "#e6f5d0"
            ],
            [
             0.7,
             "#b8e186"
            ],
            [
             0.8,
             "#7fbc41"
            ],
            [
             0.9,
             "#4d9221"
            ],
            [
             1,
             "#276419"
            ]
           ],
           "sequential": [
            [
             0,
             "#0d0887"
            ],
            [
             0.1111111111111111,
             "#46039f"
            ],
            [
             0.2222222222222222,
             "#7201a8"
            ],
            [
             0.3333333333333333,
             "#9c179e"
            ],
            [
             0.4444444444444444,
             "#bd3786"
            ],
            [
             0.5555555555555556,
             "#d8576b"
            ],
            [
             0.6666666666666666,
             "#ed7953"
            ],
            [
             0.7777777777777778,
             "#fb9f3a"
            ],
            [
             0.8888888888888888,
             "#fdca26"
            ],
            [
             1,
             "#f0f921"
            ]
           ],
           "sequentialminus": [
            [
             0,
             "#0d0887"
            ],
            [
             0.1111111111111111,
             "#46039f"
            ],
            [
             0.2222222222222222,
             "#7201a8"
            ],
            [
             0.3333333333333333,
             "#9c179e"
            ],
            [
             0.4444444444444444,
             "#bd3786"
            ],
            [
             0.5555555555555556,
             "#d8576b"
            ],
            [
             0.6666666666666666,
             "#ed7953"
            ],
            [
             0.7777777777777778,
             "#fb9f3a"
            ],
            [
             0.8888888888888888,
             "#fdca26"
            ],
            [
             1,
             "#f0f921"
            ]
           ]
          },
          "colorway": [
           "#636efa",
           "#EF553B",
           "#00cc96",
           "#ab63fa",
           "#FFA15A",
           "#19d3f3",
           "#FF6692",
           "#B6E880",
           "#FF97FF",
           "#FECB52"
          ],
          "font": {
           "color": "#2a3f5f"
          },
          "geo": {
           "bgcolor": "white",
           "lakecolor": "white",
           "landcolor": "#E5ECF6",
           "showlakes": true,
           "showland": true,
           "subunitcolor": "white"
          },
          "hoverlabel": {
           "align": "left"
          },
          "hovermode": "closest",
          "mapbox": {
           "style": "light"
          },
          "paper_bgcolor": "white",
          "plot_bgcolor": "#E5ECF6",
          "polar": {
           "angularaxis": {
            "gridcolor": "white",
            "linecolor": "white",
            "ticks": ""
           },
           "bgcolor": "#E5ECF6",
           "radialaxis": {
            "gridcolor": "white",
            "linecolor": "white",
            "ticks": ""
           }
          },
          "scene": {
           "xaxis": {
            "backgroundcolor": "#E5ECF6",
            "gridcolor": "white",
            "gridwidth": 2,
            "linecolor": "white",
            "showbackground": true,
            "ticks": "",
            "zerolinecolor": "white"
           },
           "yaxis": {
            "backgroundcolor": "#E5ECF6",
            "gridcolor": "white",
            "gridwidth": 2,
            "linecolor": "white",
            "showbackground": true,
            "ticks": "",
            "zerolinecolor": "white"
           },
           "zaxis": {
            "backgroundcolor": "#E5ECF6",
            "gridcolor": "white",
            "gridwidth": 2,
            "linecolor": "white",
            "showbackground": true,
            "ticks": "",
            "zerolinecolor": "white"
           }
          },
          "shapedefaults": {
           "line": {
            "color": "#2a3f5f"
           }
          },
          "ternary": {
           "aaxis": {
            "gridcolor": "white",
            "linecolor": "white",
            "ticks": ""
           },
           "baxis": {
            "gridcolor": "white",
            "linecolor": "white",
            "ticks": ""
           },
           "bgcolor": "#E5ECF6",
           "caxis": {
            "gridcolor": "white",
            "linecolor": "white",
            "ticks": ""
           }
          },
          "title": {
           "x": 0.05
          },
          "xaxis": {
           "automargin": true,
           "gridcolor": "white",
           "linecolor": "white",
           "ticks": "",
           "title": {
            "standoff": 15
           },
           "zerolinecolor": "white",
           "zerolinewidth": 2
          },
          "yaxis": {
           "automargin": true,
           "gridcolor": "white",
           "linecolor": "white",
           "ticks": "",
           "title": {
            "standoff": 15
           },
           "zerolinecolor": "white",
           "zerolinewidth": 2
          }
         }
        },
        "title": {
         "text": "Map to visually explore geographic distribution of mobile services coverage with respect to type of income"
        }
       }
      },
      "text/html": [
       "<div>\n",
       "        \n",
       "        \n",
       "            <div id=\"d1a9ee99-a240-4146-9a98-8321f5a84377\" class=\"plotly-graph-div\" style=\"height:525px; width:100%;\"></div>\n",
       "            <script type=\"text/javascript\">\n",
       "                require([\"plotly\"], function(Plotly) {\n",
       "                    window.PLOTLYENV=window.PLOTLYENV || {};\n",
       "                    \n",
       "                if (document.getElementById(\"d1a9ee99-a240-4146-9a98-8321f5a84377\")) {\n",
       "                    Plotly.newPlot(\n",
       "                        'd1a9ee99-a240-4146-9a98-8321f5a84377',\n",
       "                        [{\"lat\": [\"-33.3156\", \"-32.7802\", \"-32.8277\", \"-32.8793\", \"-30.6887\", \"-32.2608\", \"-34.0302\", \"-32.9959\", \"-33.3156\", \"-32.9278\", \"-31.8892\", \"-26.01\", \"-25.9205\", \"-25.9929\", \"-26.0384\", \"-25.9984\", \"-25.9293\", \"-25.9451\", \"-26.0772\", \"-26.1797\", \"-26.1885\", \"-26.1462\", \"-26.1461\", \"-26.0881\", \"-26.2055\", \"-26.2059\", \"-26.1516\", \"-26.2011\", \"-26.0995\", \"-26.1504\", \"-26.1476\", \"-26.0548\", \"-26.138\", \"-26.2581\", \"-26.0897\", \"-26.0309\", \"-26.0956\", \"-25.9958\", \"-26.1594\", \"-26.1513\", \"-26.1929\", \"-26.2208\", \"-26.2099\", \"-26.1842\", \"-26.1973\", \"-26.298\", \"-26.1821\", \"-26.1852\", \"-26.3278\", \"-26.3818\", \"-25.5251\", \"-25.6742\", \"-25.6115\", \"-25.6752\", \"-25.7475\", \"-25.7551\", \"-25.71\", \"-25.7715\", \"-25.7485\", \"-25.7562\", \"-25.7491\", \"-25.7468\", \"-25.7469\", \"-25.7152\", \"-25.7401\", \"-25.7595\", \"-25.7137\", \"-25.7474\", \"-25.744\", \"-25.7303\", \"-25.762\", \"-25.8114\", \"-25.8323\", \"-25.8851\", \"-25.8439\", \"-25.6659\", \"-25.8025\", \"-25.8111\", \"-25.7835\", \"-25.7678\", \"-25.7141\", \"-25.8129\", \"-25.8209\", \"-25.7139\", \"-25.7372\", \"-26.2451\", \"-26.2657\", \"-26.2587\", \"-26.2713\", \"-26.1847\", \"-26.1065\", \"-25.9829\", \"-26.1454\", \"-26.1898\", \"-26.1928\", \"-26.1954\", \"-26.1454\", \"-26.2605\", \"-26.2115\", \"-26.3455\", \"-26.1789\", \"-26.2732\", \"-26.2698\", \"-26.5814\", \"-26.7022\", \"-26.590498\", \"-26.1844\", \"-26.7038\", \"-26.6678\", \"-26.6617\", \"-26.5005\", \"-26.2011\", \"-26.4812\", \"-26.3674\", \"-26.3733\", \"-26.1047\", \"-26.1606\", \"-26.1679\", \"-26.1675\", \"-26.2478\", \"-26.2529\", \"-25.5184\", \"-25.403\", \"-25.7365\", \"-25.7327\", \"-25.8033\", \"-26.2197\", \"-26.614048\", \"-26.5036\", \"-26.347\", \"-26.0996\", \"-26.26\", \"-26.174\", \"-25.619\", \"-25.7295\", \"-26.2611\", \"-25.7638\", \"-26.188\", \"-26.1933\", \"-26.1374\", \"-25.734\", \"-25.691\", \"-26.1882\", \"-26.1283\", \"-25.7186\", \"-26.3398\", \"-26.2354\", \"-26.2184\", \"-26.3569\", \"-26.6061\", \"-26.1713\", \"-26.1839\", \"-25.7627\", \"-25.9828\", \"-26.1087\", \"-25.7638\", \"-26.0581\", \"-30.7415\", \"-28.5554\", \"-27.3771\", \"-27.6519\", \"-29.8382\", \"-29.6082\", \"-29.8469\", \"-29.9329\", \"-30.0165\", \"-30.5458\", \"-30.1627\", \"-30.4878\", \"-29.1425\", \"-28.942\", \"-29.4394\", \"-28.6293\", \"-28.6413\", \"-28.6245\", \"-28.9976\", \"-28.891\", \"-28.9354\", \"-30.728\", \"-30.2882\", \"-30.5755\", \"-29.5756\", \"-29.3898\", \"-28.1455\", \"-27.5741\", \"-27.1383\", \"-26.984\", \"-27.3256\", \"-28.1729\", \"-28.7476\", \"-28.2119\", \"-29.0657\", \"-29.0205\", \"-28.8524\", \"-27.7583\", \"-27.891\", \"-27.996\", \"-28.2266\", \"-27.2774\", \"-29.8739\", \"-29.8822\", \"-28.7795\", \"-29.5796\", \"-30.017\", \"-29.7382\", \"-29.7859\", \"-30.2692\", \"-30.5357\", \"-29.6488\", \"-29.8645\", \"-29.0657\", \"-27.7813\", \"-27.7402\", \"-27.9526\", \"-30.0071\", \"-30.2553\", \"-29.6138\", \"-29.5874\", \"-29.5008\", \"-28.2246\", \"-29.9357\", \"-29.7894\", \"-27.7635\", \"-27.7631\", \"-29.8616\", \"-29.8235\", \"-29.7183\", \"-29.9548\", \"-29.9151\", \"-29.8507\", null, \"-28.7395\", \"-30.7435\", \"-29.6473\", \"-28.5567\", \"-23.2838\", \"-24.3125\", \"-24.2956\", \"-24.4818\", \"-23.4923\", \"-23.8548\", \"-23.634\", \"-23.9253\", \"-23.3125\", \"-23.6477\", \"-24.0265\", \"-23.8345\", \"-24.2515\", \"-25.1762\", \"-24.8321\", \"-24.6141\", \"-24.3853\", \"-24.7638\", \"-22.9969\", \"-23.154\", \"-23.0291\", \"-22.8994\", \"-22.3416\", \"-22.8886\", \"-24.8859\", \"-23.678\", \"-23.3344\", \"-23.8753\", \"-24.1962\", \"-24.7014\", \"-24.5987\", \"-24.7077\", \"-24.3032\", \"-23.3222\", \"-22.9409\", \"-23.8741\", \"-25.2581\", \"-24.8446\", \"-22.9947\", \"-24.1553\", \"-23.8808\", \"-23.8958\", \"-24.9876\", \"-24.5918\", \"-25.7814\", \"-25.6851\", \"-25.6947\", \"-25.1085\", \"-24.5884\", \"-25.0926\", \"-26.0758\", \"-26.0481\", \"-27.3525\", \"-27.0107\", \"-26.4646\", \"-26.4673\", \"-26.94\", \"-27.0188\", \"-25.1046\", \"-25.6964\", \"-25.6479\", \"-25.8727\", \"-25.7741\", \"-25.418\", \"-26.1521\", \"-25.4755\", \"-25.8756\", \"-24.8497\", \"-25.3452\", \"-26.5231\", \"-25.7801\", \"-25.089\", \"-26.9389\", \"-26.5202\", \"-25.8667\", \"-27.2891\", \"-27.3946\", \"-29.127\", \"-29.2325\", \"-29.2045\", \"-28.2176\", \"-28.589\", \"-27.8028\", \"-28.91\", \"-28.8813\", \"-30.0348\", \"-29.118\", \"-29.1413\", \"-27.644\", \"-27.9531\", \"-28.537\", \"?\", \"-25.8563\", \"-25.6314\", \"-25.3809\", \"-27.1893\", \"-27.5377\", \"-26.5449\", \"-27.9081\", \"-27.1818\", \"-26.1475\", \"-26.0546\", \"-26.199\", \"-25.4767\", \"-25.5428\", \"-26.7139\", \"-25.8837\", \"-26.7286\", \"-26.9572\", \"-25.8842\", \"-28.54\", \"-27.4602\", \"-31.4618\", \"-29.6605\", \"-30.6596\", \"-28.746\", \"-30.3481\", \"-30.3522\", \"-30.3327\", \"-30.9316\", \"-30.8654\", \"-31.0917\", \"-30.9009\", \"-30.8052\", \"-32.2902\", \"-32.6745\", \"-32.5713\", \"-32.576\", \"-32.0958\", \"-32.3323\", \"-32.4102\", \"-33.2092\", \"-32.7009\", \"-32.6762\", \"-32.7702\", \"-32.7752\", \"-32.7793\", \"-33.022\", \"-32.9489\", \"-33.0125\", \"-32.8787\", \"-32.9983\", \"-33.0009\", \"-32.9977\", \"-32.9828\", \"-33.0019\", \"-32.9362\", \"-32.9328\", \"-31.3913\", \"-31.7199\", \"-31.4683\", \"-31.6619\", \"-31.836\", \"-32.1727\", \"-31.9171\", \"-31.8979\", \"-32.0089\", \"-31.3916\", \"-31.8947\", \"-31.5531\", \"-32.0119\", \"-32.1673\", \"-31.4917\", \"-31.5223\", \"-31.3371\", \"-31.0759\", \"-30.6894\", \"-30.9676\", \"-30.5332\", \"-30.7128\", \"-30.5604\", \"-30.6969\", \"-30.9935\", \"-31.1236\", \"-31.2932\", \"-33.8825\", \"-33.8919\", \"-33.765\", \"-33.7474\", \"-33.7415\", \"-33.9797\", \"-33.9086\", \"-33.9683\", \"-33.9306\", \"-33.9678\", \"-33.9251\", \"-33.9517\", \"-33.969\", \"-33.9913\", \"-33.963\", \"-33.9584\", \"-33.9478\", \"-31.0812\", \"-31.3598\", \"-31.576\", \"-31.5909\", \"-31.5911\", \"-31.5903\", \"-31.5881\", \"-31.5938\", \"-31.5913\", \"-32.0505\", \"-31.3165\", \"-31.0091\", \"-31.3007\", \"-31.8088\", \"-31.5642\", \"-31.4501\", \"-31.7342\", \"-32.7218\", \"-32.4862\", \"-32.2678\", \"-32.9422\", \"-33.3004\", \"-34.0299\", \"-34.0225\", \"-33.9515\", \"-33.3024\", \"-33.3069\", \"-33.5624\", \"-33.5966\", \"-33.5953\", \"-33.3947\", \"-27.2788\", \"-27.2798\", \"-26.8014\", \"-26.7732\", \"-26.826\", \"-27.6537\", \"-26.8959\", \"-28.5098\", \"-28.1105\", \"-27.9811\", \"-27.9879\", \"-27.9667\", \"-28.0019\", \"-27.9874\", \"-27.9874\", \"0\", \"-27.8773\", \"-27.8323\", \"-29.0864\", \"-29.1346\", \"-29.118\", \"-29.1338\", \"-29.1344\", \"-29.1538\", \"0\", \"-29.1094\", \"-29.1385\", \"-29.1164\", \"-29.1223\", \"-29.0633\", \"-29.0499\", \"-29.1346\", \"-29.0774\", \"-29.0828\", \"-29.0944\", \"-28.2325\", \"-28.2331\", \"-28.229\", \"-28.2297\", \"-28.2618\", \"-28.2722\", \"-29.2029\", \"-27.4335\", \"-28.3274\", \"-29.7603\", \"-30.2921\", \"-30.2177\", \"-25.9795\", \"-26.0112\", \"-26.0146\", \"-26.0159\", \"-26.0382\", \"-26.1316\", \"-26.1008\", \"-26.1796\", \"-26.1395\", \"-26.1398\", \"-26.0993\", \"-26.1467\", \"-26.0866\", \"-26.1132\", \"-26.2762\", \"-26.0755\", \"-26.0171\", \"-26.1595\", \"-26.0971\", \"-26.0397\", \"-26.0797\", \"-26.1824\", \"-26.2793\", \"-25.485\", \"-25.6837\", \"-25.7698\", \"-25.7442\", \"-25.745\", \"-25.7768\", \"-25.8566\", \"-25.8693\", \"-25.8944\", \"-25.831\", \"-25.8851\", \"-25.8851\", \"-25.8853\", \"-25.6775\", \"-25.7655\", \"-25.7824\", \"-25.7824\", \"-25.7848\", \"-25.8193\", \"-26.1785\", \"-26.1365\", \"-25.9224\", \"-26.0832\", \"-26.106\", \"-26.2878\", \"-26.1817\", \"-26.1784\", \"-26.1405\", \"-26.1843\", \"-26.2472\", \"-26.2279\", \"-26.2656\", \"-26.2141\", \"-26.3457\", \"-26.6684\", \"-26.0815\", \"-26.0972\", \"-26.0621\", \"-26.1597\", \"-26.3215\", \"-27.7672\", \"-27.7685\", \"-29.844\", \"-29.7129\", \"-29.7547\", \"-29.9086\", \"-29.8602\", \"-29.7226\", \"-29.7899\", \"-29.8517\", \"0\", \"-29.8512\", \"-29.836\", \"-29.8515\", \"-30.0964\", \"0\", \"0\", \"-29.9943\", \"-29.8485\", \"-29.8513\", \"-29.8605\", \"-29.9863\", \"-29.8666\", \"-30.0184\", \"-29.9095\", \"-29.8555\", \"-29.7157\", \"-29.8112\", \"-29.8509\", \"-29.8814\", \"-29.5733\", \"-30.0243\", \"-30.0328\", \"-29.834\", \"-29.8564\", \"-29.7275\", \"-29.8517\", \"-29.7391\", \"-30.0186\", \"-29.7774\", \"-29.8308\", \"-29.7276\", \"-29.8261\", \"-30.2011\", \"0\", \"-29.7946\", \"-30.5521\", \"-29.3468\", \"-29.5304\", \"-29.125\", \"0\", \"-28.7363\", \"-28.7698\", \"-28.7495\", \"0\", \"-30.7416\", \"-30.8617\", \"-30.8017\", \"0\", \"0\", \"-29.6046\", \"0\", \"-29.6086\", \"0\", \"-29.6017\", \"-29.5626\", \"0\", \"0\", \"0\", \"0\", \"0\", \"-29.5395\", \"-29.477\", \"-29.4784\", \"0\", \"0\", \"-29.0607\", \"-28.557\", \"0\", \"-27.7717\", \"-27.4872\", \"-27.9298\", \"-24.3026\", \"-23.9082\", \"-23.9016\", \"-23.893\", \"-24.0428\", \"-23.8242\", \"-23.0447\", \"-23.0408\", \"-24.8811\", \"-23.6864\", \"0\", \"-24.599\", \"-25.7602\", \"-24.7957\", \"-24.5827\", \"-25.9405\", \"-24.9393\", \"-25.4761\", \"-25.7622\", \"-25.4935\", \"-25.4035\", \"-25.4846\", \"-26.4918\", \"-26.5073\", \"0\", \"-27.0202\", \"-26.5229\", \"-26.5428\", \"-25.9167\", \"-25.9586\", \"-25.8841\", \"-25.8748\", \"-25.8754\", \"-25.8721\", \"0\", \"-25.9467\", \"-25.8296\", \"-25.7628\", \"0\", \"0\", \"-27.7576\", \"-28.7449\", \"-28.7564\", \"-28.7376\", \"-28.8067\", \"-27.6945\", \"-27.3067\", \"-29.2413\", \"0\", \"-29.6681\", \"0\", \"-30.73\", \"-28.446\", \"-28.4399\", \"-28.446\", \"-28.446\", \"-28.7805\", \"-28.3694\", \"-28.3276\", \"-25.6328\", \"-25.6639\", \"-25.5335\", \"-25.6774\", \"-25.6721\", \"-25.6737\", \"-25.6478\", \"-25.6852\", \"0\", \"-26.8622\", \"-26.8789\", \"-26.8411\", \"-26.8726\", \"-26.8468\", \"-26.8309\", \"-26.9623\", \"-26.689\", \"-26.7273\", \"-26.9468\", \"-25.86\", \"-33.6211\", \"-33.6442\", \"-33.6403\", \"-33.643\", \"0\", \"-33.6444\", \"-33.7188\", \"-33.7187\", \"0\", \"0\", \"-33.7263\", \"-33.7977\", \"-33.8016\", \"-33.9443\", \"-33.9305\", \"-33.363\", \"-33.3607\", \"-32.3527\", \"-31.9625\", \"-33.1944\", \"-33.2166\", \"0\", \"-33.9972\", \"0\", \"-34.0768\", \"-34.1137\", \"-34.0914\", \"-33.9187\", \"-34.1127\", \"-34.1128\", \"-33.8494\", \"-33.826\", \"-33.8753\", \"-33.8775\", \"-33.8722\", \"-33.8926\", \"-34.0619\", \"-34.1319\", \"-33.9948\", \"-33.9865\", \"-33.9861\", \"-33.9713\", \"-34.0265\", \"-34.0266\", \"0\", \"-33.949\", \"-34.0047\", \"-33.9769\", \"-33.9712\", \"-33.9427\", \"-33.9531\", \"-33.9531\", \"-34.0045\", \"-32.7752\", \"-33.93\", \"-33.8999\", \"-33.9237\", \"-33.9408\", \"-33.9408\", \"-33.9442\", \"-33.9432\", \"-33.9357\", \"-33.8654\", \"-33.8033\", \"-33.9217\", \"-33.942\", \"-33.9044\", \"-33.8876\", \"-33.9157\", \"-33.9238\", \"-33.9373\", \"-33.5649\", \"-33.5643\", \"-34.0499\", \"-33.9709\", \"-33.9846\", \"-33.9704\", \"-34.0248\", \"-34.0494\", \"-34.0266\", \"-34.0082\", \"-34.0262\", \"-33.9435\", \"-33.9025\", \"-33.8996\", \"-33.8926\", \"-33.9121\", \"-33.901\", \"-33.9018\", \"-33.8936\", \"0\", \"-33.8908\", \"-33.9147\", \"-33.9147\", \"-34.0529\", \"-33.9519\", \"-33.9802\", \"-33.9563\", \"-33.9573\", \"-33.6594\", \"-34.0936\", \"-33.4872\", \"-34.0369\", \"-34.0521\", \"-34.02\", \"-34.1813\", \"-34.1858\", \"-33.5906\", \"-33.5859\", \"-33.591\", \"-33.5888\", \"-34.5372\", \"-34.4226\", \"-34.4229\", \"-34.0234\", \"-34.2244\", \"-33.018\", \"-32.9063\", \"-32.5988\", \"-32.1836\", \"-31.6694\", \"-32.9118\", \"-32.9136\", \"0\", \"-33.4672\", \"-33.7119\", \"-28.746\"], \"lon\": [\"26.54361\", \"26.633571\", \"27.45516\", \"27.39579\", \"26.69921\", \"24.53619\", \"24.78144\", \"27.89156\", \"26.54361\", \"27.74422\", \"26.871347\", \"28.19\", \"28.01873\", \"28.013146\", \"28.06941\", \"28.240658\", \"28.011625\", \"27.962992\", \"28.01204\", \"28.01725\", \"28.01224\", \"28.03924\", \"28.03962\", \"27.958773\", \"27.87435\", \"27.873921\", \"27.920641\", \"27.93667\", \"27.92435\", \"27.92086\", \"27.900218\", \"27.972147\", \"27.867123\", \"27.935847\", \"27.851671\", \"28.139385\", \"28.05595\", \"28.129635\", \"28.0954\", \"28.0866\", \"28.0434\", \"28.04278\", \"28.02157\", \"28.0466\", \"28.006889\", \"28.05302\", \"28.04638\", \"28.04998\", \"27.86371\", \"27.841045\", \"28.03835\", \"28.10867\", \"27.97686\", \"28.24418\", \"28.209688\", \"28.203429\", \"28.193922\", \"28.2164\", \"28.19666\", \"28.20565\", \"28.20677\", \"28.199664\", \"28.20768\", \"28.1535\", \"28.20037\", \"28.21182\", \"28.21779\", \"28.21113\", \"28.23775\", \"28.200165\", \"28.20571\", \"28.09319\", \"28.1959\", \"28.205361\", \"28.19321\", \"28.515781\", \"28.29974\", \"28.262855\", \"28.291695\", \"28.318918\", \"28.375033\", \"28.2631\", \"28.30496\", \"28.378808\", \"28.329661\", \"28.354391\", \"28.43466\", \"28.43471\", \"28.42802\", \"28.13315\", \"28.22923\", \"28.238093\", \"28.330783\", \"28.12093\", \"28.307291\", \"28.308109\", \"28.330783\", \"28.256035\", \"28.302914\", \"28.216395\", \"28.169563\", \"28.12019\", \"28.119647\", \"27.842933\", \"27.832318\", \"27.846783\", \"28.312829\", \"27.838504\", \"27.9283\", \"27.96935\", \"28.354079\", \"27.43667\", \"27.49689\", \"27.382881\", \"27.41607\", \"27.77518\", \"27.70915\", \"27.718959\", \"27.71868\", \"27.856929\", \"28.06211\", \"28.02248\", \"28.26582\", \"28.13962\", \"28.202561\", \"28.716892\", \"28.16305\", \"27.93328\", \"28.35131\", \"27.39446\", \"27.78386\", \"27.93799\", \"28.04691\", \"28.01216\", \"28.202561\", \"27.94666\", \"28.09372\", \"28.41141\", \"28.19389\", \"28.124964\", \"28.200872\", \"28.53852\", \"27.97329\", \"28.129419\", \"28.36788\", \"28.37705\", \"28.40367\", \"28.24449\", \"28.224311\", \"27.84622\", \"27.80774\", \"27.9901\", \"28.08948\", \"28.23756\", \"28.036464\", \"28.16057\", \"27.747403\", \"30.451701\", \"29.779646\", \"31.619102\", \"30.0712\", \"30.996943\", \"30.983202\", \"30.826015\", \"30.989162\", \"29.72575\", \"29.415438\", \"30.077931\", \"29.82481\", \"31.04259\", \"30.94846\", \"30.807162\", \"31.34105\", \"30.893212\", \"31.086834\", \"31.474714\", \"31.466456\", \"31.195414\", \"30.344023\", \"30.74487\", \"29.889283\", \"30.402653\", \"30.842696\", \"31.880697\", \"32.082098\", \"32.004746\", \"32.756375\", \"32.556644\", \"30.22974\", \"30.450917\", \"30.672921\", \"30.600049\", \"29.893932\", \"29.381335\", \"30.797088\", \"31.639325\", \"31.377188\", \"31.41477\", \"31.347971\", \"30.958756\", \"30.989507\", \"31.864116\", \"30.363784\", \"30.885394\", \"30.739534\", \"30.968573\", \"29.93276\", \"30.512498\", \"30.336538\", \"30.275817\", \"30.600049\", \"31.425381\", \"31.510095\", \"31.367857\", \"30.902844\", \"29.92602\", \"30.368942\", \"30.366437\", \"30.232779\", \"31.476734\", \"30.956778\", \"30.761508\", \"30.0508\", \"29.935643\", \"31.042291\", \"30.987036\", \"31.028852\", \"30.936625\", \"30.886237\", \"31.011035\", null, \"31.897211\", \"30.450878\", \"30.332756\", \"29.766058\", \"29.11313\", \"29.335\", \"29.5285\", \"29.40445\", \"29.74272\", \"29.396878\", \"29.12057\", \"31.03717\", \"30.69215\", \"30.21861\", \"30.28098\", \"30.16427\", \"30.44767\", \"29.40387\", \"29.50233\", \"30.17051\", \"30.072501\", \"29.86767\", \"30.69669\", \"30.05617\", \"29.90614\", \"30.19422\", \"30.04285\", \"30.479815\", \"28.28873\", \"27.70333\", \"28.01118\", \"28.692892\", \"29.01405\", \"28.42212\", \"27.4069\", \"28.39456\", \"29.54406\", \"30.72358\", \"30.48536\", \"30.26933\", \"29.144713\", \"29.80403\", \"30.41415\", \"28.989183\", \"29.725885\", \"29.456908\", \"31.23628\", \"31.05983\", \"31.04189\", \"31.490584\", \"31.7881\", \"30.4514\", \"30.7696\", \"30.782\", \"30.11237\", \"30.814586\", \"29.89128\", \"29.86146\", \"29.46735\", \"29.118658\", \"29.244242\", \"30.80625\", \"28.55872\", \"30.04431\", \"30.33855\", \"29.25281\", \"29.45133\", \"28.70415\", \"28.66699\", \"30.97111\", \"29.226596\", \"31.06531\", \"31.1228\", \"29.97522\", \"31.02869\", \"31.12695\", \"29.24255\", \"29.97775\", \"29.16725\", \"27.96168\", \"26.61783\", \"26.2064\", \"26.71572\", \"26.83468\", \"28.32645\", \"28.81755\", \"28.41893\", \"27.57423\", \"27.87202\", \"25.789656\", \"26.18432\", \"26.24572\", \"27.213172\", \"26.7862\", \"28.80507\", \"?\", \"26.894543\", \"27.78452\", \"27.058001\", \"25.982959\", \"24.79175\", \"24.13858\", \"25.174237\", \"25.32879\", \"26.15132\", \"25.948932\", \"25.598981\", \"25.981507\", \"26.06647\", \"27.09142\", \"25.65407\", \"27.08418\", \"24.71612\", \"25.65794\", \"24.51488\", \"23.443659\", \"19.77654\", \"17.88323\", \"24.00825\", \"24.77263\", \"28.82118\", \"28.808675\", \"28.80195\", \"30.108882\", \"29.85162\", \"29.18731\", \"28.99562\", \"29.3596\", \"27.13691\", \"27.1435\", \"27.419427\", \"27.89576\", \"28.87875\", \"28.13877\", \"28.51829\", \"27.13244\", \"26.29427\", \"26.083139\", \"26.63678\", \"26.84678\", \"26.656323\", \"27.82122\", \"27.939663\", \"27.900134\", \"27.397414\", \"27.90313\", \"27.901072\", \"27.901159\", \"27.90592\", \"27.897928\", \"27.993444\", \"27.74088\", \"27.045615\", \"27.19939\", \"27.34042\", \"28.05041\", \"28.1038\", \"26.80522\", \"26.907204\", \"26.880087\", \"26.25884\", \"26.3555\", \"26.858113\", \"26.55338\", \"27.58348\", \"25.62243\", \"24.99351\", \"27.68274\", \"27.83797\", \"28.34775\", \"28.50961\", \"27.58507\", \"27.35337\", \"27.21188\", \"27.47457\", \"26.70719\", \"26.31398\", \"26.8074\", \"25.813211\", \"25.563114\", \"25.46905\", \"25.391914\", \"25.38002\", \"25.40679\", \"25.62671\", \"25.58545\", \"25.60982\", \"25.575102\", \"25.605816\", \"25.57074\", \"25.579902\", \"25.560195\", \"25.555528\", \"25.613479\", \"25.59982\", \"25.558915\", \"29.49531\", \"29.56532\", \"28.70717\", \"28.785432\", \"28.76497\", \"28.76593\", \"28.764234\", \"28.761941\", \"28.785204\", \"29.09162\", \"28.778056\", \"28.68223\", \"28.62983\", \"29.06588\", \"29.11617\", \"29.45397\", \"29.35888\", \"25.59525\", \"24.06093\", \"24.55619\", \"24.66203\", \"23.46757\", \"24.780218\", \"24.75869\", \"24.29786\", \"26.51464\", \"26.54657\", \"26.88126\", \"26.876792\", \"26.88312\", \"25.44001\", \"28.50023\", \"28.495123\", \"27.82757\", \"27.840244\", \"27.849385\", \"27.230333\", \"27.47207\", \"27.00802\", \"26.85798\", \"26.709676\", \"26.730057\", \"26.774142\", \"26.710868\", \"26.727098\", \"26.727098\", \"0\", \"26.65922\", \"25.91538\", \"26.156533\", \"26.194441\", \"26.184516\", \"26.209264\", \"26.194991\", \"26.176303\", \"0\", \"26.203516\", \"26.243918\", \"26.186748\", \"26.205302\", \"26.170889\", \"26.178331\", \"26.193667\", \"26.215478\", \"26.161423\", \"26.193444\", \"28.319261\", \"28.3197\", \"28.322255\", \"28.321089\", \"29.115483\", \"29.13805\", \"27.44807\", \"29.15583\", \"27.60552\", \"25.42315\", \"27.07542\", \"26.52442\", \"28.116646\", \"27.993825\", \"28.10258\", \"28.006778\", \"28.080208\", \"27.974217\", \"27.941652\", \"28.034502\", \"27.977595\", \"27.977811\", \"28.046116\", \"28.03845\", \"27.958324\", \"27.894028\", \"27.96094\", \"28.130116\", \"28.034859\", \"28.09689\", \"28.05654\", \"27.957387\", \"28.06304\", \"28.044005\", \"27.890179\", \"28.127308\", \"28.1905\", \"28.235836\", \"28.237729\", \"28.191279\", \"28.16072\", \"28.187175\", \"28.136995\", \"28.142686\", \"28.194997\", \"28.205361\", \"28.205361\", \"28.105073\", \"28.241145\", \"28.280361\", \"28.360911\", \"28.360911\", \"28.353222\", \"28.304361\", \"28.28709\", \"28.2021\", \"28.190883\", \"28.249774\", \"28.231123\", \"28.063542\", \"28.248137\", \"28.288496\", \"28.347066\", \"28.312829\", \"28.277538\", \"28.254504\", \"28.120691\", \"28.163673\", \"28.21607\", \"27.930458\", \"27.803764\", \"27.804736\", \"27.830418\", \"27.692793\", \"27.652711\", \"29.931891\", \"29.931392\", \"30.978631\", \"31.068422\", \"31.021882\", \"31.020005\", \"31.018172\", \"31.072501\", \"30.74085\", \"30.98583\", \"0\", \"31.014692\", \"30.997621\", \"30.985862\", \"30.857739\", \"0\", \"0\", \"30.90004\", \"31.018237\", \"31.014662\", \"31.017216\", \"30.926839\", \"31.042836\", \"30.90682\", \"30.906225\", \"30.987428\", \"31.035649\", \"30.865212\", \"30.932113\", \"30.920624\", \"31.118208\", \"30.913635\", \"30.903978\", \"30.998478\", \"30.990445\", \"31.068697\", \"30.985775\", \"30.663681\", \"30.914036\", \"30.995682\", \"30.984954\", \"31.069036\", \"30.98431\", \"30.79335\", \"0\", \"29.497375\", \"29.424315\", \"31.275556\", \"31.201856\", \"31.56957\", \"0\", \"31.893714\", \"31.932124\", \"32.052822\", \"0\", \"30.451536\", \"30.358177\", \"30.404661\", \"0\", \"0\", \"30.410599\", \"0\", \"30.388683\", \"0\", \"30.384357\", \"30.407526\", \"0\", \"0\", \"0\", \"0\", \"0\", \"30.299325\", \"30.218672\", \"30.217638\", \"0\", \"0\", \"30.60663\", \"29.768812\", \"0\", \"30.775736\", \"30.60844\", \"31.648265\", \"29.475437\", \"29.46334\", \"29.493351\", \"29.453\", \"30.27413\", \"30.154319\", \"29.913072\", \"29.897218\", \"28.28067\", \"27.698139\", \"0\", \"27.407217\", \"27.387811\", \"27.405936\", \"27.402773\", \"27.153089\", \"27.15166\", \"30.977583\", \"31.051946\", \"30.961882\", \"30.983566\", \"30.952268\", \"29.23186\", \"29.182497\", \"0\", \"30.804255\", \"29.97482\", \"29.987844\", \"29.199753\", \"29.178193\", \"29.232742\", \"29.215849\", \"29.214917\", \"29.240453\", \"0\", \"29.8034\", \"29.187401\", \"29.457539\", \"0\", \"0\", \"24.81333\", \"24.771611\", \"24.762109\", \"24.72386\", \"24.77374\", \"23.054137\", \"23.34494\", \"18.842602\", \"0\", \"22.73732\", \"0\", \"25.08956\", \"21.26603\", \"21.266934\", \"21.26603\", \"21.26603\", \"20.62249\", \"23.57222\", \"23.06008\", \"27.782926\", \"27.23578\", \"27.20101\", \"27.244388\", \"27.238413\", \"27.242302\", \"27.214149\", \"27.226595\", \"0\", \"26.80489\", \"26.662715\", \"26.668083\", \"26.660808\", \"26.669377\", \"26.678519\", \"26.67205\", \"27.08141\", \"27.083957\", \"24.721533\", \"25.64145\", \"19.45694\", \"19.450696\", \"19.44804\", \"19.445\", \"0\", \"19.458072\", \"18.96904\", \"18.969075\", \"0\", \"0\", \"18.97028\", \"20.12333\", \"19.89133\", \"18.850752\", \"18.87028\", \"19.30083\", \"19.3094\", \"22.6075\", \"23.76917\", \"20.85028\", \"22.02583\", \"0\", \"18.71907\", \"0\", \"18.856761\", \"18.838289\", \"18.858151\", \"18.674902\", \"18.838131\", \"18.838046\", \"18.697091\", \"18.655261\", \"18.577052\", \"18.55638\", \"18.637139\", \"18.564195\", \"18.46033\", \"18.416805\", \"18.47313\", \"18.466387\", \"18.468447\", \"18.467425\", \"18.460908\", \"18.46095\", \"0\", \"18.47489\", \"18.46923\", \"18.466055\", \"18.467383\", \"18.459306\", \"18.48707\", \"18.48707\", \"18.453257\", \"26.84678\", \"18.48448\", \"18.4853\", \"18.5212\", \"18.465164\", \"18.465164\", \"18.489836\", \"18.490442\", \"18.410452\", \"18.506922\", \"18.483991\", \"18.41816\", \"18.462548\", \"18.41683\", \"18.512787\", \"18.44249\", \"18.41134\", \"18.48024\", \"18.49505\", \"18.49541\", \"18.673936\", \"18.53346\", \"18.557927\", \"18.532997\", \"18.61771\", \"18.621214\", \"18.61584\", \"18.59641\", \"18.6157\", \"18.49029\", \"18.62955\", \"18.60901\", \"18.610085\", \"18.5418\", \"18.612936\", \"18.623831\", \"18.559056\", \"0\", \"18.65498\", \"18.611569\", \"18.611569\", \"23.364999\", \"22.45028\", \"22.4725\", \"22.452171\", \"22.456439\", \"23.12556\", \"21.25472\", \"21.26889\", \"23.05806\", \"23.078486\", \"23.02\", \"22.130775\", \"22.1275\", \"22.202562\", \"22.185728\", \"22.201612\", \"22.18889\", \"20.035636\", \"19.22833\", \"19.226345\", \"20.4488\", \"19.434458\", \"18.99444\", \"18.76222\", \"19.0175\", \"18.89083\", \"18.50472\", \"17.990553\", \"17.99083\", \"0\", \"18.7175\", \"18.98694\", \"24.77263\"], \"marker\": {\"color\": \"green\"}, \"mode\": \"markers\", \"name\": \"Salaries and Wages\", \"type\": \"scattergeo\"}],\n",
       "                        {\"geo\": {\"countrycolor\": \"rgb(217, 217, 217)\", \"countrywidth\": 0.5, \"landcolor\": \"rgb(250, 250, 250)\", \"scope\": \"africa\", \"showland\": true, \"subunitcolor\": \"rgb(217, 217, 217)\", \"subunitwidth\": 0.5}, \"template\": {\"data\": {\"bar\": [{\"error_x\": {\"color\": \"#2a3f5f\"}, \"error_y\": {\"color\": \"#2a3f5f\"}, \"marker\": {\"line\": {\"color\": \"#E5ECF6\", \"width\": 0.5}}, \"type\": \"bar\"}], \"barpolar\": [{\"marker\": {\"line\": {\"color\": \"#E5ECF6\", \"width\": 0.5}}, \"type\": \"barpolar\"}], \"carpet\": [{\"aaxis\": {\"endlinecolor\": \"#2a3f5f\", \"gridcolor\": \"white\", \"linecolor\": \"white\", \"minorgridcolor\": \"white\", \"startlinecolor\": \"#2a3f5f\"}, \"baxis\": {\"endlinecolor\": \"#2a3f5f\", \"gridcolor\": \"white\", \"linecolor\": \"white\", \"minorgridcolor\": \"white\", \"startlinecolor\": \"#2a3f5f\"}, \"type\": \"carpet\"}], \"choropleth\": [{\"colorbar\": {\"outlinewidth\": 0, \"ticks\": \"\"}, \"type\": \"choropleth\"}], \"contour\": [{\"colorbar\": {\"outlinewidth\": 0, \"ticks\": \"\"}, \"colorscale\": [[0.0, \"#0d0887\"], [0.1111111111111111, \"#46039f\"], [0.2222222222222222, \"#7201a8\"], [0.3333333333333333, \"#9c179e\"], [0.4444444444444444, \"#bd3786\"], [0.5555555555555556, \"#d8576b\"], [0.6666666666666666, \"#ed7953\"], [0.7777777777777778, \"#fb9f3a\"], [0.8888888888888888, \"#fdca26\"], [1.0, \"#f0f921\"]], \"type\": \"contour\"}], \"contourcarpet\": [{\"colorbar\": {\"outlinewidth\": 0, \"ticks\": \"\"}, \"type\": \"contourcarpet\"}], \"heatmap\": [{\"colorbar\": {\"outlinewidth\": 0, \"ticks\": \"\"}, \"colorscale\": [[0.0, \"#0d0887\"], [0.1111111111111111, \"#46039f\"], [0.2222222222222222, \"#7201a8\"], [0.3333333333333333, \"#9c179e\"], [0.4444444444444444, \"#bd3786\"], [0.5555555555555556, \"#d8576b\"], [0.6666666666666666, \"#ed7953\"], [0.7777777777777778, \"#fb9f3a\"], [0.8888888888888888, \"#fdca26\"], [1.0, \"#f0f921\"]], \"type\": \"heatmap\"}], \"heatmapgl\": [{\"colorbar\": {\"outlinewidth\": 0, \"ticks\": \"\"}, \"colorscale\": [[0.0, \"#0d0887\"], [0.1111111111111111, \"#46039f\"], [0.2222222222222222, \"#7201a8\"], [0.3333333333333333, \"#9c179e\"], [0.4444444444444444, \"#bd3786\"], [0.5555555555555556, \"#d8576b\"], [0.6666666666666666, \"#ed7953\"], [0.7777777777777778, \"#fb9f3a\"], [0.8888888888888888, \"#fdca26\"], [1.0, \"#f0f921\"]], \"type\": \"heatmapgl\"}], \"histogram\": [{\"marker\": {\"colorbar\": {\"outlinewidth\": 0, \"ticks\": \"\"}}, \"type\": \"histogram\"}], \"histogram2d\": [{\"colorbar\": {\"outlinewidth\": 0, \"ticks\": \"\"}, \"colorscale\": [[0.0, \"#0d0887\"], [0.1111111111111111, \"#46039f\"], [0.2222222222222222, \"#7201a8\"], [0.3333333333333333, \"#9c179e\"], [0.4444444444444444, \"#bd3786\"], [0.5555555555555556, \"#d8576b\"], [0.6666666666666666, \"#ed7953\"], [0.7777777777777778, \"#fb9f3a\"], [0.8888888888888888, \"#fdca26\"], [1.0, \"#f0f921\"]], \"type\": \"histogram2d\"}], \"histogram2dcontour\": [{\"colorbar\": {\"outlinewidth\": 0, \"ticks\": \"\"}, \"colorscale\": [[0.0, \"#0d0887\"], [0.1111111111111111, \"#46039f\"], [0.2222222222222222, \"#7201a8\"], [0.3333333333333333, \"#9c179e\"], [0.4444444444444444, \"#bd3786\"], [0.5555555555555556, \"#d8576b\"], [0.6666666666666666, \"#ed7953\"], [0.7777777777777778, \"#fb9f3a\"], [0.8888888888888888, \"#fdca26\"], [1.0, \"#f0f921\"]], \"type\": \"histogram2dcontour\"}], \"mesh3d\": [{\"colorbar\": {\"outlinewidth\": 0, \"ticks\": \"\"}, \"type\": \"mesh3d\"}], \"parcoords\": [{\"line\": {\"colorbar\": {\"outlinewidth\": 0, \"ticks\": \"\"}}, \"type\": \"parcoords\"}], \"pie\": [{\"automargin\": true, \"type\": \"pie\"}], \"scatter\": [{\"marker\": {\"colorbar\": {\"outlinewidth\": 0, \"ticks\": \"\"}}, \"type\": \"scatter\"}], \"scatter3d\": [{\"line\": {\"colorbar\": {\"outlinewidth\": 0, \"ticks\": \"\"}}, \"marker\": {\"colorbar\": {\"outlinewidth\": 0, \"ticks\": \"\"}}, \"type\": \"scatter3d\"}], \"scattercarpet\": [{\"marker\": {\"colorbar\": {\"outlinewidth\": 0, \"ticks\": \"\"}}, \"type\": \"scattercarpet\"}], \"scattergeo\": [{\"marker\": {\"colorbar\": {\"outlinewidth\": 0, \"ticks\": \"\"}}, \"type\": \"scattergeo\"}], \"scattergl\": [{\"marker\": {\"colorbar\": {\"outlinewidth\": 0, \"ticks\": \"\"}}, \"type\": \"scattergl\"}], \"scattermapbox\": [{\"marker\": {\"colorbar\": {\"outlinewidth\": 0, \"ticks\": \"\"}}, \"type\": \"scattermapbox\"}], \"scatterpolar\": [{\"marker\": {\"colorbar\": {\"outlinewidth\": 0, \"ticks\": \"\"}}, \"type\": \"scatterpolar\"}], \"scatterpolargl\": [{\"marker\": {\"colorbar\": {\"outlinewidth\": 0, \"ticks\": \"\"}}, \"type\": \"scatterpolargl\"}], \"scatterternary\": [{\"marker\": {\"colorbar\": {\"outlinewidth\": 0, \"ticks\": \"\"}}, \"type\": \"scatterternary\"}], \"surface\": [{\"colorbar\": {\"outlinewidth\": 0, \"ticks\": \"\"}, \"colorscale\": [[0.0, \"#0d0887\"], [0.1111111111111111, \"#46039f\"], [0.2222222222222222, \"#7201a8\"], [0.3333333333333333, \"#9c179e\"], [0.4444444444444444, \"#bd3786\"], [0.5555555555555556, \"#d8576b\"], [0.6666666666666666, \"#ed7953\"], [0.7777777777777778, \"#fb9f3a\"], [0.8888888888888888, \"#fdca26\"], [1.0, \"#f0f921\"]], \"type\": \"surface\"}], \"table\": [{\"cells\": {\"fill\": {\"color\": \"#EBF0F8\"}, \"line\": {\"color\": \"white\"}}, \"header\": {\"fill\": {\"color\": \"#C8D4E3\"}, \"line\": {\"color\": \"white\"}}, \"type\": \"table\"}]}, \"layout\": {\"annotationdefaults\": {\"arrowcolor\": \"#2a3f5f\", \"arrowhead\": 0, \"arrowwidth\": 1}, \"coloraxis\": {\"colorbar\": {\"outlinewidth\": 0, \"ticks\": \"\"}}, \"colorscale\": {\"diverging\": [[0, \"#8e0152\"], [0.1, \"#c51b7d\"], [0.2, \"#de77ae\"], [0.3, \"#f1b6da\"], [0.4, \"#fde0ef\"], [0.5, \"#f7f7f7\"], [0.6, \"#e6f5d0\"], [0.7, \"#b8e186\"], [0.8, \"#7fbc41\"], [0.9, \"#4d9221\"], [1, \"#276419\"]], \"sequential\": [[0.0, \"#0d0887\"], [0.1111111111111111, \"#46039f\"], [0.2222222222222222, \"#7201a8\"], [0.3333333333333333, \"#9c179e\"], [0.4444444444444444, \"#bd3786\"], [0.5555555555555556, \"#d8576b\"], [0.6666666666666666, \"#ed7953\"], [0.7777777777777778, \"#fb9f3a\"], [0.8888888888888888, \"#fdca26\"], [1.0, \"#f0f921\"]], \"sequentialminus\": [[0.0, \"#0d0887\"], [0.1111111111111111, \"#46039f\"], [0.2222222222222222, \"#7201a8\"], [0.3333333333333333, \"#9c179e\"], [0.4444444444444444, \"#bd3786\"], [0.5555555555555556, \"#d8576b\"], [0.6666666666666666, \"#ed7953\"], [0.7777777777777778, \"#fb9f3a\"], [0.8888888888888888, \"#fdca26\"], [1.0, \"#f0f921\"]]}, \"colorway\": [\"#636efa\", \"#EF553B\", \"#00cc96\", \"#ab63fa\", \"#FFA15A\", \"#19d3f3\", \"#FF6692\", \"#B6E880\", \"#FF97FF\", \"#FECB52\"], \"font\": {\"color\": \"#2a3f5f\"}, \"geo\": {\"bgcolor\": \"white\", \"lakecolor\": \"white\", \"landcolor\": \"#E5ECF6\", \"showlakes\": true, \"showland\": true, \"subunitcolor\": \"white\"}, \"hoverlabel\": {\"align\": \"left\"}, \"hovermode\": \"closest\", \"mapbox\": {\"style\": \"light\"}, \"paper_bgcolor\": \"white\", \"plot_bgcolor\": \"#E5ECF6\", \"polar\": {\"angularaxis\": {\"gridcolor\": \"white\", \"linecolor\": \"white\", \"ticks\": \"\"}, \"bgcolor\": \"#E5ECF6\", \"radialaxis\": {\"gridcolor\": \"white\", \"linecolor\": \"white\", \"ticks\": \"\"}}, \"scene\": {\"xaxis\": {\"backgroundcolor\": \"#E5ECF6\", \"gridcolor\": \"white\", \"gridwidth\": 2, \"linecolor\": \"white\", \"showbackground\": true, \"ticks\": \"\", \"zerolinecolor\": \"white\"}, \"yaxis\": {\"backgroundcolor\": \"#E5ECF6\", \"gridcolor\": \"white\", \"gridwidth\": 2, \"linecolor\": \"white\", \"showbackground\": true, \"ticks\": \"\", \"zerolinecolor\": \"white\"}, \"zaxis\": {\"backgroundcolor\": \"#E5ECF6\", \"gridcolor\": \"white\", \"gridwidth\": 2, \"linecolor\": \"white\", \"showbackground\": true, \"ticks\": \"\", \"zerolinecolor\": \"white\"}}, \"shapedefaults\": {\"line\": {\"color\": \"#2a3f5f\"}}, \"ternary\": {\"aaxis\": {\"gridcolor\": \"white\", \"linecolor\": \"white\", \"ticks\": \"\"}, \"baxis\": {\"gridcolor\": \"white\", \"linecolor\": \"white\", \"ticks\": \"\"}, \"bgcolor\": \"#E5ECF6\", \"caxis\": {\"gridcolor\": \"white\", \"linecolor\": \"white\", \"ticks\": \"\"}}, \"title\": {\"x\": 0.05}, \"xaxis\": {\"automargin\": true, \"gridcolor\": \"white\", \"linecolor\": \"white\", \"ticks\": \"\", \"title\": {\"standoff\": 15}, \"zerolinecolor\": \"white\", \"zerolinewidth\": 2}, \"yaxis\": {\"automargin\": true, \"gridcolor\": \"white\", \"linecolor\": \"white\", \"ticks\": \"\", \"title\": {\"standoff\": 15}, \"zerolinecolor\": \"white\", \"zerolinewidth\": 2}}}, \"title\": {\"text\": \"Map to visually explore geographic distribution of mobile services coverage with respect to type of income\"}},\n",
       "                        {\"responsive\": true}\n",
       "                    ).then(function(){\n",
       "                            \n",
       "var gd = document.getElementById('d1a9ee99-a240-4146-9a98-8321f5a84377');\n",
       "var x = new MutationObserver(function (mutations, observer) {{\n",
       "        var display = window.getComputedStyle(gd).display;\n",
       "        if (!display || display === 'none') {{\n",
       "            console.log([gd, 'removed!']);\n",
       "            Plotly.purge(gd);\n",
       "            observer.disconnect();\n",
       "        }}\n",
       "}});\n",
       "\n",
       "// Listen for the removal of the full notebook cells\n",
       "var notebookContainer = gd.closest('#notebook-container');\n",
       "if (notebookContainer) {{\n",
       "    x.observe(notebookContainer, {childList: true});\n",
       "}}\n",
       "\n",
       "// Listen for the clearing of the current output cell\n",
       "var outputEl = gd.closest('.output');\n",
       "if (outputEl) {{\n",
       "    x.observe(outputEl, {childList: true});\n",
       "}}\n",
       "\n",
       "                        })\n",
       "                };\n",
       "                });\n",
       "            </script>\n",
       "        </div>"
      ]
     },
     "metadata": {},
     "output_type": "display_data"
    }
   ],
   "source": [
    "\n",
    "import pandas as  pd\n",
    "import seaborn as sns\n",
    "import matplotlib.pyplot as plt\n",
    "import numpy as np\n",
    "import plotly.graph_objects as go\n",
    "fig = go.Figure()\n",
    "fig.add_trace(go.Scattergeo(\n",
    "        lon = df_hos['Long'],\n",
    "        lat = df_hos['Lat'],\n",
    "        mode = 'markers',\n",
    "        marker_color = 'green',\n",
    "        name = 'Salaries and Wages'\n",
    "        ))\n",
    "\n",
    "fig.update_layout(\n",
    "        title = 'Map to visually explore geographic distribution of mobile services coverage with respect to type of income',\n",
    "        geo_scope='africa',\n",
    "        geo = dict(\n",
    "            scope='africa',\n",
    "            showland = True,\n",
    "            landcolor = \"rgb(250, 250, 250)\",\n",
    "            subunitcolor = \"rgb(217, 217, 217)\",\n",
    "            countrycolor = \"rgb(217, 217, 217)\",\n",
    "            countrywidth = 0.5,\n",
    "            subunitwidth = 0.5\n",
    "        ))\n",
    "        \n",
    "     \n",
    "\n",
    "# autosize=False,\n",
    "#         width=1000,\n",
    "#         height=1000,\n",
    "#         hovermode = 'closest'\n",
    "fig.show()"
   ]
  },
  {
   "cell_type": "code",
   "execution_count": 414,
   "metadata": {
    "scrolled": true
   },
   "outputs": [
    {
     "data": {
      "text/html": [
       "<div>\n",
       "<style scoped>\n",
       "    .dataframe tbody tr th:only-of-type {\n",
       "        vertical-align: middle;\n",
       "    }\n",
       "\n",
       "    .dataframe tbody tr th {\n",
       "        vertical-align: top;\n",
       "    }\n",
       "\n",
       "    .dataframe thead th {\n",
       "        text-align: right;\n",
       "    }\n",
       "</style>\n",
       "<table border=\"1\" class=\"dataframe\">\n",
       "  <thead>\n",
       "    <tr style=\"text-align: right;\">\n",
       "      <th></th>\n",
       "      <th>Province</th>\n",
       "      <th>Long</th>\n",
       "      <th>Lat</th>\n",
       "    </tr>\n",
       "  </thead>\n",
       "  <tbody>\n",
       "    <tr>\n",
       "      <th>0</th>\n",
       "      <td>EC</td>\n",
       "      <td>26.54361</td>\n",
       "      <td>-33.3156</td>\n",
       "    </tr>\n",
       "    <tr>\n",
       "      <th>1</th>\n",
       "      <td>EC</td>\n",
       "      <td>26.633571</td>\n",
       "      <td>-32.7802</td>\n",
       "    </tr>\n",
       "    <tr>\n",
       "      <th>2</th>\n",
       "      <td>EC</td>\n",
       "      <td>27.45516</td>\n",
       "      <td>-32.8277</td>\n",
       "    </tr>\n",
       "    <tr>\n",
       "      <th>3</th>\n",
       "      <td>EC</td>\n",
       "      <td>27.39579</td>\n",
       "      <td>-32.8793</td>\n",
       "    </tr>\n",
       "    <tr>\n",
       "      <th>4</th>\n",
       "      <td>EC</td>\n",
       "      <td>26.69921</td>\n",
       "      <td>-30.6887</td>\n",
       "    </tr>\n",
       "    <tr>\n",
       "      <th>...</th>\n",
       "      <td>...</td>\n",
       "      <td>...</td>\n",
       "      <td>...</td>\n",
       "    </tr>\n",
       "    <tr>\n",
       "      <th>851</th>\n",
       "      <td>WC</td>\n",
       "      <td>17.99083</td>\n",
       "      <td>-32.9136</td>\n",
       "    </tr>\n",
       "    <tr>\n",
       "      <th>852</th>\n",
       "      <td>WC</td>\n",
       "      <td>0</td>\n",
       "      <td>0</td>\n",
       "    </tr>\n",
       "    <tr>\n",
       "      <th>853</th>\n",
       "      <td>WC</td>\n",
       "      <td>18.7175</td>\n",
       "      <td>-33.4672</td>\n",
       "    </tr>\n",
       "    <tr>\n",
       "      <th>854</th>\n",
       "      <td>WC</td>\n",
       "      <td>18.98694</td>\n",
       "      <td>-33.7119</td>\n",
       "    </tr>\n",
       "    <tr>\n",
       "      <th>855</th>\n",
       "      <td>NC</td>\n",
       "      <td>24.77263</td>\n",
       "      <td>-28.746</td>\n",
       "    </tr>\n",
       "  </tbody>\n",
       "</table>\n",
       "<p>856 rows × 3 columns</p>\n",
       "</div>"
      ],
      "text/plain": [
       "    Province       Long       Lat\n",
       "0         EC   26.54361  -33.3156\n",
       "1         EC  26.633571  -32.7802\n",
       "2         EC   27.45516  -32.8277\n",
       "3         EC   27.39579  -32.8793\n",
       "4         EC   26.69921  -30.6887\n",
       "..       ...        ...       ...\n",
       "851       WC   17.99083  -32.9136\n",
       "852       WC          0         0\n",
       "853       WC    18.7175  -33.4672\n",
       "854       WC   18.98694  -33.7119\n",
       "855       NC   24.77263   -28.746\n",
       "\n",
       "[856 rows x 3 columns]"
      ]
     },
     "execution_count": 414,
     "metadata": {},
     "output_type": "execute_result"
    }
   ],
   "source": [
    "\n",
    "provinces = {\n",
    "    'Eastern Cape':'EC','Northern Cape': 'NC','Free State':'FS',\n",
    "    'Limpopo':'LP','North West ':'NW',\n",
    "    'KwaZuluNatal':'KZN','Gauteng':'GP','Mpumalanga':'MP' \n",
    "}\n",
    "df_hos.Province = df_hos['Province'].map(provinces)\n",
    "df_hos = df_hos.fillna('WC')\n",
    "df_hos = df_hos.loc[:,['Province','Long','Lat']]\n",
    "df_hos"
   ]
  },
  {
   "cell_type": "code",
   "execution_count": 450,
   "metadata": {},
   "outputs": [
    {
     "data": {
      "text/html": [
       "<div>\n",
       "<style scoped>\n",
       "    .dataframe tbody tr th:only-of-type {\n",
       "        vertical-align: middle;\n",
       "    }\n",
       "\n",
       "    .dataframe tbody tr th {\n",
       "        vertical-align: top;\n",
       "    }\n",
       "\n",
       "    .dataframe thead th {\n",
       "        text-align: right;\n",
       "    }\n",
       "</style>\n",
       "<table border=\"1\" class=\"dataframe\">\n",
       "  <thead>\n",
       "    <tr style=\"text-align: right;\">\n",
       "      <th></th>\n",
       "      <th>case_id</th>\n",
       "      <th>date</th>\n",
       "      <th>YYYYMMDD</th>\n",
       "      <th>country</th>\n",
       "      <th>province</th>\n",
       "      <th>geo_subdivision</th>\n",
       "      <th>age</th>\n",
       "      <th>gender</th>\n",
       "      <th>transmission_type</th>\n",
       "      <th>type</th>\n",
       "      <th>Long</th>\n",
       "      <th>Lat</th>\n",
       "    </tr>\n",
       "  </thead>\n",
       "  <tbody>\n",
       "    <tr>\n",
       "      <th>0</th>\n",
       "      <td>1</td>\n",
       "      <td>05-03-2020</td>\n",
       "      <td>20200305</td>\n",
       "      <td>South Africa</td>\n",
       "      <td>KZN</td>\n",
       "      <td>ZA-KZN</td>\n",
       "      <td>38.0</td>\n",
       "      <td>male</td>\n",
       "      <td>Travelled to Italy</td>\n",
       "      <td>travel</td>\n",
       "      <td>30.450878</td>\n",
       "      <td>-30.7435</td>\n",
       "    </tr>\n",
       "    <tr>\n",
       "      <th>1</th>\n",
       "      <td>2</td>\n",
       "      <td>07-03-2020</td>\n",
       "      <td>20200307</td>\n",
       "      <td>South Africa</td>\n",
       "      <td>GP</td>\n",
       "      <td>ZA-GP</td>\n",
       "      <td>39.0</td>\n",
       "      <td>female</td>\n",
       "      <td>Travelled to Italy</td>\n",
       "      <td>travel</td>\n",
       "      <td>28.089480</td>\n",
       "      <td>-25.7627</td>\n",
       "    </tr>\n",
       "    <tr>\n",
       "      <th>2</th>\n",
       "      <td>3</td>\n",
       "      <td>08-03-2020</td>\n",
       "      <td>20200308</td>\n",
       "      <td>South Africa</td>\n",
       "      <td>KZN</td>\n",
       "      <td>ZA-KZN</td>\n",
       "      <td>38.0</td>\n",
       "      <td>female</td>\n",
       "      <td>Travelled to Italy</td>\n",
       "      <td>travel</td>\n",
       "      <td>30.450878</td>\n",
       "      <td>-30.7435</td>\n",
       "    </tr>\n",
       "    <tr>\n",
       "      <th>3</th>\n",
       "      <td>4</td>\n",
       "      <td>09-03-2020</td>\n",
       "      <td>20200309</td>\n",
       "      <td>South Africa</td>\n",
       "      <td>KZN</td>\n",
       "      <td>ZA-KZN</td>\n",
       "      <td>38.0</td>\n",
       "      <td>male</td>\n",
       "      <td>Travelled to Italy</td>\n",
       "      <td>travel</td>\n",
       "      <td>30.450878</td>\n",
       "      <td>-30.7435</td>\n",
       "    </tr>\n",
       "    <tr>\n",
       "      <th>4</th>\n",
       "      <td>5</td>\n",
       "      <td>09-03-2020</td>\n",
       "      <td>20200309</td>\n",
       "      <td>South Africa</td>\n",
       "      <td>KZN</td>\n",
       "      <td>ZA-KZN</td>\n",
       "      <td>38.0</td>\n",
       "      <td>female</td>\n",
       "      <td>Travelled to Italy</td>\n",
       "      <td>travel</td>\n",
       "      <td>30.450878</td>\n",
       "      <td>-30.7435</td>\n",
       "    </tr>\n",
       "    <tr>\n",
       "      <th>...</th>\n",
       "      <td>...</td>\n",
       "      <td>...</td>\n",
       "      <td>...</td>\n",
       "      <td>...</td>\n",
       "      <td>...</td>\n",
       "      <td>...</td>\n",
       "      <td>...</td>\n",
       "      <td>...</td>\n",
       "      <td>...</td>\n",
       "      <td>...</td>\n",
       "      <td>...</td>\n",
       "      <td>...</td>\n",
       "    </tr>\n",
       "    <tr>\n",
       "      <th>704</th>\n",
       "      <td>705</td>\n",
       "      <td>25-03-2020</td>\n",
       "      <td>20200325</td>\n",
       "      <td>South Africa</td>\n",
       "      <td>FS</td>\n",
       "      <td>ZA-FS</td>\n",
       "      <td>NaN</td>\n",
       "      <td>not specified</td>\n",
       "      <td>NaN</td>\n",
       "      <td>pending</td>\n",
       "      <td>26.834680</td>\n",
       "      <td>-29.2045</td>\n",
       "    </tr>\n",
       "    <tr>\n",
       "      <th>705</th>\n",
       "      <td>706</td>\n",
       "      <td>25-03-2020</td>\n",
       "      <td>20200325</td>\n",
       "      <td>South Africa</td>\n",
       "      <td>FS</td>\n",
       "      <td>ZA-FS</td>\n",
       "      <td>NaN</td>\n",
       "      <td>not specified</td>\n",
       "      <td>NaN</td>\n",
       "      <td>pending</td>\n",
       "      <td>26.834680</td>\n",
       "      <td>-29.2045</td>\n",
       "    </tr>\n",
       "    <tr>\n",
       "      <th>706</th>\n",
       "      <td>707</td>\n",
       "      <td>25-03-2020</td>\n",
       "      <td>20200325</td>\n",
       "      <td>South Africa</td>\n",
       "      <td>FS</td>\n",
       "      <td>ZA-FS</td>\n",
       "      <td>NaN</td>\n",
       "      <td>not specified</td>\n",
       "      <td>NaN</td>\n",
       "      <td>pending</td>\n",
       "      <td>26.834680</td>\n",
       "      <td>-29.2045</td>\n",
       "    </tr>\n",
       "    <tr>\n",
       "      <th>707</th>\n",
       "      <td>708</td>\n",
       "      <td>25-03-2020</td>\n",
       "      <td>20200325</td>\n",
       "      <td>South Africa</td>\n",
       "      <td>FS</td>\n",
       "      <td>ZA-FS</td>\n",
       "      <td>NaN</td>\n",
       "      <td>not specified</td>\n",
       "      <td>NaN</td>\n",
       "      <td>pending</td>\n",
       "      <td>26.834680</td>\n",
       "      <td>-29.2045</td>\n",
       "    </tr>\n",
       "    <tr>\n",
       "      <th>708</th>\n",
       "      <td>709</td>\n",
       "      <td>25-03-2020</td>\n",
       "      <td>20200325</td>\n",
       "      <td>South Africa</td>\n",
       "      <td>FS</td>\n",
       "      <td>ZA-FS</td>\n",
       "      <td>NaN</td>\n",
       "      <td>not specified</td>\n",
       "      <td>NaN</td>\n",
       "      <td>pending</td>\n",
       "      <td>26.834680</td>\n",
       "      <td>-29.2045</td>\n",
       "    </tr>\n",
       "  </tbody>\n",
       "</table>\n",
       "<p>709 rows × 12 columns</p>\n",
       "</div>"
      ],
      "text/plain": [
       "     case_id        date  YYYYMMDD       country province geo_subdivision  \\\n",
       "0          1  05-03-2020  20200305  South Africa      KZN          ZA-KZN   \n",
       "1          2  07-03-2020  20200307  South Africa       GP           ZA-GP   \n",
       "2          3  08-03-2020  20200308  South Africa      KZN          ZA-KZN   \n",
       "3          4  09-03-2020  20200309  South Africa      KZN          ZA-KZN   \n",
       "4          5  09-03-2020  20200309  South Africa      KZN          ZA-KZN   \n",
       "..       ...         ...       ...           ...      ...             ...   \n",
       "704      705  25-03-2020  20200325  South Africa       FS           ZA-FS   \n",
       "705      706  25-03-2020  20200325  South Africa       FS           ZA-FS   \n",
       "706      707  25-03-2020  20200325  South Africa       FS           ZA-FS   \n",
       "707      708  25-03-2020  20200325  South Africa       FS           ZA-FS   \n",
       "708      709  25-03-2020  20200325  South Africa       FS           ZA-FS   \n",
       "\n",
       "      age         gender   transmission_type     type       Long      Lat  \n",
       "0    38.0           male  Travelled to Italy   travel  30.450878 -30.7435  \n",
       "1    39.0         female  Travelled to Italy   travel  28.089480 -25.7627  \n",
       "2    38.0         female  Travelled to Italy   travel  30.450878 -30.7435  \n",
       "3    38.0           male  Travelled to Italy   travel  30.450878 -30.7435  \n",
       "4    38.0         female  Travelled to Italy   travel  30.450878 -30.7435  \n",
       "..    ...            ...                 ...      ...        ...      ...  \n",
       "704   NaN  not specified                 NaN  pending  26.834680 -29.2045  \n",
       "705   NaN  not specified                 NaN  pending  26.834680 -29.2045  \n",
       "706   NaN  not specified                 NaN  pending  26.834680 -29.2045  \n",
       "707   NaN  not specified                 NaN  pending  26.834680 -29.2045  \n",
       "708   NaN  not specified                 NaN  pending  26.834680 -29.2045  \n",
       "\n",
       "[709 rows x 12 columns]"
      ]
     },
     "execution_count": 450,
     "metadata": {},
     "output_type": "execute_result"
    }
   ],
   "source": [
    "df_sa_cases['Long'] = [30.04285 if i == 'LI' else 25.65794 if i == 'NW'else 30.450878 if i == 'KZN' else 29.16725 if  i == 'MP' else 24.77263 if i == 'NC' else 28.08948 if i == 'GP' else 27.39579 if i == 'EC' else 26.83468 if i == \"FS\" else 18.98694 for i in df_sa_cases.province ]\n",
    "df_sa_cases['Lat'] = [-22.3416 if i == 'LI' else -25.8842 if i == 'NW'else -30.7435 if i == 'KZN' else -25.8667 if  i == 'MP' else -28.746 if i == 'NC' else -25.7627 if i == 'GP' else -32.8793 if i == 'EC' else -29.2045 if i == \"FS\" else -33.7119 for i in df_sa_cases.province ]\n",
    "df_sa_cases"
   ]
  },
  {
   "cell_type": "code",
   "execution_count": 451,
   "metadata": {},
   "outputs": [
    {
     "data": {
      "application/vnd.plotly.v1+json": {
       "config": {
        "plotlyServerURL": "https://plot.ly"
       },
       "data": [
        {
         "lat": [
          -30.7435,
          -25.7627,
          -30.7435,
          -30.7435,
          -30.7435,
          -30.7435,
          -30.7435,
          -25.7627,
          -25.7627,
          -25.7627,
          -25.7627,
          -30.7435,
          -33.7119,
          -30.7435,
          -25.8667,
          -25.7627,
          -25.7627,
          -25.7627,
          -25.7627,
          -25.7627,
          -30.7435,
          -30.7435,
          -33.7119,
          -33.7119,
          -25.7627,
          -25.7627,
          -25.7627,
          -25.7627,
          -25.7627,
          -25.7627,
          -25.7627,
          -33.7119,
          -33.7119,
          -33.7119,
          -33.7119,
          -33.7119,
          -33.7119,
          -30.7435,
          -25.7627,
          -25.7627,
          -25.7627,
          -25.7627,
          -25.7627,
          -25.7627,
          -25.7627,
          -33.7119,
          -33.7119,
          -33.7119,
          -33.7119,
          -33.7119,
          -30.7435,
          -33.7119,
          -33.7119,
          -33.7119,
          -25.7627,
          -25.7627,
          -25.7627,
          -25.7627,
          -25.7627,
          -25.7627,
          -25.7627,
          -25.8667,
          -25.7627,
          -25.7627,
          -25.7627,
          -25.7627,
          -25.7627,
          -25.7627,
          -25.7627,
          -25.7627,
          -25.7627,
          -25.7627,
          -25.7627,
          -25.7627,
          -25.7627,
          -25.7627,
          -30.7435,
          -30.7435,
          -30.7435,
          -30.7435,
          -33.7119,
          -33.7119,
          -33.7119,
          -33.7119,
          -33.7119,
          -25.7627,
          -25.7627,
          -25.7627,
          -25.7627,
          -25.7627,
          -25.7627,
          -25.7627,
          -25.7627,
          -25.7627,
          -25.7627,
          -25.7627,
          -25.7627,
          -25.7627,
          -25.7627,
          -25.7627,
          -25.7627,
          -30.7435,
          -30.7435,
          -30.7435,
          -25.8667,
          -25.8667,
          -33.7119,
          -33.7119,
          -33.7119,
          -33.7119,
          -33.7119,
          -33.7119,
          -33.7119,
          -33.7119,
          -33.7119,
          -33.7119,
          -25.7627,
          -25.7627,
          -25.7627,
          -25.7627,
          -25.7627,
          -25.7627,
          -25.7627,
          -25.7627,
          -25.7627,
          -25.7627,
          -25.7627,
          -25.7627,
          -25.7627,
          -25.7627,
          -25.7627,
          -30.7435,
          -30.7435,
          -30.7435,
          -25.8667,
          -33.7119,
          -33.7119,
          -33.7119,
          -33.7119,
          -33.7119,
          -33.7119,
          -33.7119,
          -33.7119,
          -33.7119,
          -33.7119,
          -33.7119,
          -33.7119,
          -33.7119,
          -33.7119,
          -33.7119,
          -25.7627,
          -25.7627,
          -25.7627,
          -25.7627,
          -25.7627,
          -25.7627,
          -25.7627,
          -25.7627,
          -25.7627,
          -25.7627,
          -25.7627,
          -25.7627,
          -25.7627,
          -25.7627,
          -25.7627,
          -25.7627,
          -25.7627,
          -25.7627,
          -25.7627,
          -25.7627,
          -25.7627,
          -25.7627,
          -25.7627,
          -25.7627,
          -25.7627,
          -25.7627,
          -25.7627,
          -25.7627,
          -25.7627,
          -25.7627,
          -25.7627,
          -25.7627,
          -25.7627,
          -29.2045,
          -29.2045,
          -29.2045,
          -29.2045,
          -29.2045,
          -29.2045,
          -29.2045,
          -33.7119,
          -33.7119,
          -33.7119,
          -33.7119,
          -33.7119,
          -33.7119,
          -33.7119,
          -33.7119,
          -33.7119,
          -33.7119,
          -33.7119,
          -30.7435,
          -32.8793,
          -25.7627,
          -25.7627,
          -25.7627,
          -25.7627,
          -25.7627,
          -25.7627,
          -25.7627,
          -25.7627,
          -25.7627,
          -25.7627,
          -25.7627,
          -25.7627,
          -25.7627,
          -25.7627,
          -25.7627,
          -25.7627,
          -30.7435,
          -30.7435,
          -30.7435,
          -33.7119,
          -33.7119,
          -33.7119,
          -33.7119,
          -33.7119,
          -33.7119,
          -33.7119,
          -33.7119,
          -33.7119,
          -33.7119,
          -33.7119,
          -33.7119,
          -33.7119,
          -33.7119,
          -33.7119,
          -33.7119,
          -33.7119,
          -33.7119,
          -32.8793,
          -29.2045,
          -29.2045,
          -25.7627,
          -25.7627,
          -25.7627,
          -25.7627,
          -25.7627,
          -25.7627,
          -25.7627,
          -30.7435,
          -30.7435,
          -30.7435,
          -30.7435,
          -30.7435,
          -30.7435,
          -30.7435,
          -30.7435,
          -30.7435,
          -33.7119,
          -33.7119,
          -33.7119,
          -33.7119,
          -33.7119,
          -33.7119,
          -33.7119,
          -33.7119,
          -33.7119,
          -33.7119,
          -33.7119,
          -33.7119,
          -33.7119,
          -33.7119,
          -33.7119,
          -28.746,
          -28.746,
          -25.8842,
          -25.8842,
          -25.8842,
          -25.8842,
          -25.7627,
          -25.7627,
          -25.7627,
          -25.7627,
          -25.7627,
          -25.7627,
          -25.7627,
          -25.7627,
          -25.7627,
          -25.7627,
          -25.7627,
          -25.7627,
          -25.7627,
          -25.7627,
          -25.7627,
          -25.7627,
          -25.7627,
          -25.7627,
          -25.7627,
          -25.7627,
          -25.7627,
          -25.7627,
          -25.7627,
          -25.7627,
          -25.7627,
          -25.7627,
          -25.7627,
          -25.7627,
          -25.7627,
          -25.7627,
          -25.7627,
          -25.7627,
          -25.7627,
          -25.7627,
          -25.7627,
          -25.7627,
          -25.7627,
          -25.7627,
          -25.7627,
          -25.7627,
          -25.7627,
          -25.7627,
          -25.7627,
          -25.7627,
          -25.7627,
          -25.7627,
          -25.7627,
          -25.7627,
          -25.7627,
          -25.7627,
          -25.7627,
          -25.7627,
          -25.7627,
          -25.7627,
          -25.7627,
          -25.7627,
          -25.7627,
          -25.7627,
          -25.7627,
          -25.7627,
          -25.7627,
          -25.7627,
          -25.7627,
          -25.7627,
          -25.7627,
          -25.7627,
          -25.7627,
          -25.7627,
          -25.7627,
          -25.7627,
          -25.7627,
          -25.7627,
          -25.7627,
          -25.7627,
          -25.7627,
          -33.7119,
          -33.7119,
          -25.8667,
          -25.8667,
          -25.8667,
          -25.8667,
          -29.2045,
          -29.2045,
          -29.2045,
          -29.2045,
          -33.7119,
          -30.7435,
          -30.7435,
          -30.7435,
          -30.7435,
          -30.7435,
          -30.7435,
          -30.7435,
          -30.7435,
          -30.7435,
          -30.7435,
          -30.7435,
          -30.7435,
          -30.7435,
          -30.7435,
          -30.7435,
          -30.7435,
          -30.7435,
          -30.7435,
          -30.7435,
          -30.7435,
          -30.7435,
          -30.7435,
          -30.7435,
          -30.7435,
          -33.7119,
          -33.7119,
          -33.7119,
          -33.7119,
          -33.7119,
          -33.7119,
          -33.7119,
          -33.7119,
          -33.7119,
          -33.7119,
          -33.7119,
          -33.7119,
          -25.7627,
          -25.7627,
          -25.7627,
          -25.7627,
          -25.7627,
          -25.7627,
          -25.7627,
          -25.7627,
          -25.7627,
          -25.7627,
          -25.7627,
          -25.7627,
          -25.7627,
          -25.7627,
          -25.7627,
          -25.7627,
          -25.7627,
          -25.7627,
          -25.7627,
          -25.7627,
          -25.7627,
          -25.7627,
          -25.7627,
          -25.7627,
          -25.7627,
          -25.7627,
          -25.7627,
          -25.7627,
          -25.7627,
          -25.7627,
          -25.7627,
          -25.7627,
          -25.7627,
          -25.7627,
          -25.7627,
          -25.7627,
          -25.7627,
          -25.7627,
          -25.7627,
          -25.7627,
          -25.7627,
          -25.7627,
          -25.7627,
          -25.7627,
          -25.7627,
          -25.7627,
          -25.7627,
          -25.7627,
          -25.7627,
          -25.7627,
          -25.7627,
          -25.7627,
          -25.7627,
          -25.7627,
          -25.7627,
          -25.7627,
          -25.7627,
          -25.7627,
          -25.7627,
          -25.7627,
          -25.7627,
          -25.7627,
          -25.7627,
          -25.7627,
          -25.7627,
          -25.7627,
          -25.7627,
          -25.7627,
          -25.7627,
          -25.7627,
          -25.7627,
          -25.7627,
          -25.7627,
          -25.7627,
          -25.7627,
          -25.7627,
          -25.7627,
          -25.7627,
          -25.7627,
          -25.7627,
          -25.7627,
          -25.7627,
          -25.7627,
          -25.7627,
          -25.7627,
          -25.7627,
          -25.7627,
          -25.7627,
          -25.7627,
          -25.7627,
          -25.7627,
          -25.7627,
          -25.7627,
          -25.7627,
          -25.7627,
          -25.8842,
          -29.2045,
          -29.2045,
          -29.2045,
          -29.2045,
          -29.2045,
          -30.7435,
          -30.7435,
          -30.7435,
          -30.7435,
          -30.7435,
          -30.7435,
          -30.7435,
          -30.7435,
          -30.7435,
          -30.7435,
          -30.7435,
          -30.7435,
          -30.7435,
          -30.7435,
          -30.7435,
          -30.7435,
          -30.7435,
          -30.7435,
          -30.7435,
          -30.7435,
          -30.7435,
          -33.7119,
          -33.7119,
          -33.7119,
          -33.7119,
          -33.7119,
          -33.7119,
          -33.7119,
          -33.7119,
          -33.7119,
          -33.7119,
          -33.7119,
          -33.7119,
          -33.7119,
          -33.7119,
          -33.7119,
          -33.7119,
          -33.7119,
          -33.7119,
          -33.7119,
          -33.7119,
          -33.7119,
          -33.7119,
          -33.7119,
          -33.7119,
          -33.7119,
          -33.7119,
          -33.7119,
          -33.7119,
          -33.7119,
          -33.7119,
          -33.7119,
          -33.7119,
          -33.7119,
          -33.7119,
          -33.7119,
          -33.7119,
          -33.7119,
          -33.7119,
          -33.7119,
          -33.7119,
          -33.7119,
          -33.7119,
          -33.7119,
          -33.7119,
          -33.7119,
          -33.7119,
          -33.7119,
          -33.7119,
          -33.7119,
          -33.7119,
          -33.7119,
          -33.7119,
          -33.7119,
          -33.7119,
          -33.7119,
          -33.7119,
          -33.7119,
          -33.7119,
          -33.7119,
          -33.7119,
          -33.7119,
          -33.7119,
          -33.7119,
          -33.7119,
          -33.7119,
          -33.7119,
          -33.7119,
          -33.7119,
          -33.7119,
          -33.7119,
          -33.7119,
          -33.7119,
          -33.7119,
          -33.7119,
          -33.7119,
          -33.7119,
          -33.7119,
          -33.7119,
          -33.7119,
          -33.7119,
          -33.7119,
          -33.7119,
          -33.7119,
          -33.7119,
          -33.7119,
          -33.7119,
          -33.7119,
          -33.7119,
          -33.7119,
          -33.7119,
          -33.7119,
          -33.7119,
          -33.7119,
          -33.7119,
          -33.7119,
          -25.7627,
          -25.7627,
          -25.7627,
          -25.7627,
          -25.7627,
          -25.7627,
          -25.7627,
          -25.7627,
          -25.7627,
          -25.7627,
          -25.7627,
          -25.7627,
          -25.7627,
          -25.7627,
          -25.7627,
          -25.7627,
          -25.7627,
          -25.7627,
          -25.7627,
          -25.7627,
          -25.7627,
          -25.7627,
          -25.7627,
          -25.7627,
          -25.7627,
          -25.7627,
          -25.7627,
          -25.7627,
          -25.7627,
          -25.7627,
          -25.7627,
          -25.7627,
          -25.7627,
          -25.7627,
          -25.7627,
          -25.7627,
          -25.7627,
          -25.7627,
          -25.7627,
          -25.7627,
          -25.7627,
          -25.7627,
          -25.7627,
          -25.7627,
          -25.7627,
          -25.7627,
          -25.7627,
          -25.7627,
          -25.7627,
          -25.7627,
          -25.7627,
          -25.7627,
          -25.7627,
          -25.7627,
          -25.7627,
          -25.7627,
          -25.7627,
          -25.7627,
          -25.7627,
          -25.7627,
          -25.7627,
          -25.7627,
          -25.7627,
          -25.7627,
          -30.7435,
          -30.7435,
          -30.7435,
          -30.7435,
          -30.7435,
          -30.7435,
          -30.7435,
          -30.7435,
          -30.7435,
          -30.7435,
          -30.7435,
          -29.2045,
          -29.2045,
          -29.2045,
          -29.2045,
          -29.2045,
          -29.2045,
          -29.2045,
          -29.2045,
          -29.2045,
          -29.2045,
          -29.2045,
          -29.2045,
          -29.2045,
          -29.2045,
          -29.2045
         ],
         "lon": [
          30.450878,
          28.08948,
          30.450878,
          30.450878,
          30.450878,
          30.450878,
          30.450878,
          28.08948,
          28.08948,
          28.08948,
          28.08948,
          30.450878,
          18.98694,
          30.450878,
          29.16725,
          28.08948,
          28.08948,
          28.08948,
          28.08948,
          28.08948,
          30.450878,
          30.450878,
          18.98694,
          18.98694,
          28.08948,
          28.08948,
          28.08948,
          28.08948,
          28.08948,
          28.08948,
          28.08948,
          18.98694,
          18.98694,
          18.98694,
          18.98694,
          18.98694,
          18.98694,
          30.450878,
          28.08948,
          28.08948,
          28.08948,
          28.08948,
          28.08948,
          28.08948,
          28.08948,
          18.98694,
          18.98694,
          18.98694,
          18.98694,
          18.98694,
          30.450878,
          18.98694,
          18.98694,
          18.98694,
          28.08948,
          28.08948,
          28.08948,
          28.08948,
          28.08948,
          28.08948,
          28.08948,
          29.16725,
          28.08948,
          28.08948,
          28.08948,
          28.08948,
          28.08948,
          28.08948,
          28.08948,
          28.08948,
          28.08948,
          28.08948,
          28.08948,
          28.08948,
          28.08948,
          28.08948,
          30.450878,
          30.450878,
          30.450878,
          30.450878,
          18.98694,
          18.98694,
          18.98694,
          18.98694,
          18.98694,
          28.08948,
          28.08948,
          28.08948,
          28.08948,
          28.08948,
          28.08948,
          28.08948,
          28.08948,
          28.08948,
          28.08948,
          28.08948,
          28.08948,
          28.08948,
          28.08948,
          28.08948,
          28.08948,
          30.450878,
          30.450878,
          30.450878,
          29.16725,
          29.16725,
          18.98694,
          18.98694,
          18.98694,
          18.98694,
          18.98694,
          18.98694,
          18.98694,
          18.98694,
          18.98694,
          18.98694,
          28.08948,
          28.08948,
          28.08948,
          28.08948,
          28.08948,
          28.08948,
          28.08948,
          28.08948,
          28.08948,
          28.08948,
          28.08948,
          28.08948,
          28.08948,
          28.08948,
          28.08948,
          30.450878,
          30.450878,
          30.450878,
          29.16725,
          18.98694,
          18.98694,
          18.98694,
          18.98694,
          18.98694,
          18.98694,
          18.98694,
          18.98694,
          18.98694,
          18.98694,
          18.98694,
          18.98694,
          18.98694,
          18.98694,
          18.98694,
          28.08948,
          28.08948,
          28.08948,
          28.08948,
          28.08948,
          28.08948,
          28.08948,
          28.08948,
          28.08948,
          28.08948,
          28.08948,
          28.08948,
          28.08948,
          28.08948,
          28.08948,
          28.08948,
          28.08948,
          28.08948,
          28.08948,
          28.08948,
          28.08948,
          28.08948,
          28.08948,
          28.08948,
          28.08948,
          28.08948,
          28.08948,
          28.08948,
          28.08948,
          28.08948,
          28.08948,
          28.08948,
          28.08948,
          26.83468,
          26.83468,
          26.83468,
          26.83468,
          26.83468,
          26.83468,
          26.83468,
          18.98694,
          18.98694,
          18.98694,
          18.98694,
          18.98694,
          18.98694,
          18.98694,
          18.98694,
          18.98694,
          18.98694,
          18.98694,
          30.450878,
          27.39579,
          28.08948,
          28.08948,
          28.08948,
          28.08948,
          28.08948,
          28.08948,
          28.08948,
          28.08948,
          28.08948,
          28.08948,
          28.08948,
          28.08948,
          28.08948,
          28.08948,
          28.08948,
          28.08948,
          30.450878,
          30.450878,
          30.450878,
          18.98694,
          18.98694,
          18.98694,
          18.98694,
          18.98694,
          18.98694,
          18.98694,
          18.98694,
          18.98694,
          18.98694,
          18.98694,
          18.98694,
          18.98694,
          18.98694,
          18.98694,
          18.98694,
          18.98694,
          18.98694,
          27.39579,
          26.83468,
          26.83468,
          28.08948,
          28.08948,
          28.08948,
          28.08948,
          28.08948,
          28.08948,
          28.08948,
          30.450878,
          30.450878,
          30.450878,
          30.450878,
          30.450878,
          30.450878,
          30.450878,
          30.450878,
          30.450878,
          18.98694,
          18.98694,
          18.98694,
          18.98694,
          18.98694,
          18.98694,
          18.98694,
          18.98694,
          18.98694,
          18.98694,
          18.98694,
          18.98694,
          18.98694,
          18.98694,
          18.98694,
          24.77263,
          24.77263,
          25.65794,
          25.65794,
          25.65794,
          25.65794,
          28.08948,
          28.08948,
          28.08948,
          28.08948,
          28.08948,
          28.08948,
          28.08948,
          28.08948,
          28.08948,
          28.08948,
          28.08948,
          28.08948,
          28.08948,
          28.08948,
          28.08948,
          28.08948,
          28.08948,
          28.08948,
          28.08948,
          28.08948,
          28.08948,
          28.08948,
          28.08948,
          28.08948,
          28.08948,
          28.08948,
          28.08948,
          28.08948,
          28.08948,
          28.08948,
          28.08948,
          28.08948,
          28.08948,
          28.08948,
          28.08948,
          28.08948,
          28.08948,
          28.08948,
          28.08948,
          28.08948,
          28.08948,
          28.08948,
          28.08948,
          28.08948,
          28.08948,
          28.08948,
          28.08948,
          28.08948,
          28.08948,
          28.08948,
          28.08948,
          28.08948,
          28.08948,
          28.08948,
          28.08948,
          28.08948,
          28.08948,
          28.08948,
          28.08948,
          28.08948,
          28.08948,
          28.08948,
          28.08948,
          28.08948,
          28.08948,
          28.08948,
          28.08948,
          28.08948,
          28.08948,
          28.08948,
          28.08948,
          28.08948,
          28.08948,
          28.08948,
          28.08948,
          18.98694,
          18.98694,
          29.16725,
          29.16725,
          29.16725,
          29.16725,
          26.83468,
          26.83468,
          26.83468,
          26.83468,
          18.98694,
          30.450878,
          30.450878,
          30.450878,
          30.450878,
          30.450878,
          30.450878,
          30.450878,
          30.450878,
          30.450878,
          30.450878,
          30.450878,
          30.450878,
          30.450878,
          30.450878,
          30.450878,
          30.450878,
          30.450878,
          30.450878,
          30.450878,
          30.450878,
          30.450878,
          30.450878,
          30.450878,
          30.450878,
          18.98694,
          18.98694,
          18.98694,
          18.98694,
          18.98694,
          18.98694,
          18.98694,
          18.98694,
          18.98694,
          18.98694,
          18.98694,
          18.98694,
          28.08948,
          28.08948,
          28.08948,
          28.08948,
          28.08948,
          28.08948,
          28.08948,
          28.08948,
          28.08948,
          28.08948,
          28.08948,
          28.08948,
          28.08948,
          28.08948,
          28.08948,
          28.08948,
          28.08948,
          28.08948,
          28.08948,
          28.08948,
          28.08948,
          28.08948,
          28.08948,
          28.08948,
          28.08948,
          28.08948,
          28.08948,
          28.08948,
          28.08948,
          28.08948,
          28.08948,
          28.08948,
          28.08948,
          28.08948,
          28.08948,
          28.08948,
          28.08948,
          28.08948,
          28.08948,
          28.08948,
          28.08948,
          28.08948,
          28.08948,
          28.08948,
          28.08948,
          28.08948,
          28.08948,
          28.08948,
          28.08948,
          28.08948,
          28.08948,
          28.08948,
          28.08948,
          28.08948,
          28.08948,
          28.08948,
          28.08948,
          28.08948,
          28.08948,
          28.08948,
          28.08948,
          28.08948,
          28.08948,
          28.08948,
          28.08948,
          28.08948,
          28.08948,
          28.08948,
          28.08948,
          28.08948,
          28.08948,
          28.08948,
          28.08948,
          28.08948,
          28.08948,
          28.08948,
          28.08948,
          28.08948,
          28.08948,
          28.08948,
          28.08948,
          28.08948,
          28.08948,
          28.08948,
          28.08948,
          28.08948,
          28.08948,
          28.08948,
          28.08948,
          28.08948,
          28.08948,
          28.08948,
          28.08948,
          28.08948,
          28.08948,
          25.65794,
          26.83468,
          26.83468,
          26.83468,
          26.83468,
          26.83468,
          30.450878,
          30.450878,
          30.450878,
          30.450878,
          30.450878,
          30.450878,
          30.450878,
          30.450878,
          30.450878,
          30.450878,
          30.450878,
          30.450878,
          30.450878,
          30.450878,
          30.450878,
          30.450878,
          30.450878,
          30.450878,
          30.450878,
          30.450878,
          30.450878,
          18.98694,
          18.98694,
          18.98694,
          18.98694,
          18.98694,
          18.98694,
          18.98694,
          18.98694,
          18.98694,
          18.98694,
          18.98694,
          18.98694,
          18.98694,
          18.98694,
          18.98694,
          18.98694,
          18.98694,
          18.98694,
          18.98694,
          18.98694,
          18.98694,
          18.98694,
          18.98694,
          18.98694,
          18.98694,
          18.98694,
          18.98694,
          18.98694,
          18.98694,
          18.98694,
          18.98694,
          18.98694,
          18.98694,
          18.98694,
          18.98694,
          18.98694,
          18.98694,
          18.98694,
          18.98694,
          18.98694,
          18.98694,
          18.98694,
          18.98694,
          18.98694,
          18.98694,
          18.98694,
          18.98694,
          18.98694,
          18.98694,
          18.98694,
          18.98694,
          18.98694,
          18.98694,
          18.98694,
          18.98694,
          18.98694,
          18.98694,
          18.98694,
          18.98694,
          18.98694,
          18.98694,
          18.98694,
          18.98694,
          18.98694,
          18.98694,
          18.98694,
          18.98694,
          18.98694,
          18.98694,
          18.98694,
          18.98694,
          18.98694,
          18.98694,
          18.98694,
          18.98694,
          18.98694,
          18.98694,
          18.98694,
          18.98694,
          18.98694,
          18.98694,
          18.98694,
          18.98694,
          18.98694,
          18.98694,
          18.98694,
          18.98694,
          18.98694,
          18.98694,
          18.98694,
          18.98694,
          18.98694,
          18.98694,
          18.98694,
          18.98694,
          28.08948,
          28.08948,
          28.08948,
          28.08948,
          28.08948,
          28.08948,
          28.08948,
          28.08948,
          28.08948,
          28.08948,
          28.08948,
          28.08948,
          28.08948,
          28.08948,
          28.08948,
          28.08948,
          28.08948,
          28.08948,
          28.08948,
          28.08948,
          28.08948,
          28.08948,
          28.08948,
          28.08948,
          28.08948,
          28.08948,
          28.08948,
          28.08948,
          28.08948,
          28.08948,
          28.08948,
          28.08948,
          28.08948,
          28.08948,
          28.08948,
          28.08948,
          28.08948,
          28.08948,
          28.08948,
          28.08948,
          28.08948,
          28.08948,
          28.08948,
          28.08948,
          28.08948,
          28.08948,
          28.08948,
          28.08948,
          28.08948,
          28.08948,
          28.08948,
          28.08948,
          28.08948,
          28.08948,
          28.08948,
          28.08948,
          28.08948,
          28.08948,
          28.08948,
          28.08948,
          28.08948,
          28.08948,
          28.08948,
          28.08948,
          30.450878,
          30.450878,
          30.450878,
          30.450878,
          30.450878,
          30.450878,
          30.450878,
          30.450878,
          30.450878,
          30.450878,
          30.450878,
          26.83468,
          26.83468,
          26.83468,
          26.83468,
          26.83468,
          26.83468,
          26.83468,
          26.83468,
          26.83468,
          26.83468,
          26.83468,
          26.83468,
          26.83468,
          26.83468,
          26.83468
         ],
         "mode": "markers",
         "type": "scattergeo"
        }
       ],
       "layout": {
        "geo": {
         "scope": "africa"
        },
        "template": {
         "data": {
          "bar": [
           {
            "error_x": {
             "color": "#2a3f5f"
            },
            "error_y": {
             "color": "#2a3f5f"
            },
            "marker": {
             "line": {
              "color": "#E5ECF6",
              "width": 0.5
             }
            },
            "type": "bar"
           }
          ],
          "barpolar": [
           {
            "marker": {
             "line": {
              "color": "#E5ECF6",
              "width": 0.5
             }
            },
            "type": "barpolar"
           }
          ],
          "carpet": [
           {
            "aaxis": {
             "endlinecolor": "#2a3f5f",
             "gridcolor": "white",
             "linecolor": "white",
             "minorgridcolor": "white",
             "startlinecolor": "#2a3f5f"
            },
            "baxis": {
             "endlinecolor": "#2a3f5f",
             "gridcolor": "white",
             "linecolor": "white",
             "minorgridcolor": "white",
             "startlinecolor": "#2a3f5f"
            },
            "type": "carpet"
           }
          ],
          "choropleth": [
           {
            "colorbar": {
             "outlinewidth": 0,
             "ticks": ""
            },
            "type": "choropleth"
           }
          ],
          "contour": [
           {
            "colorbar": {
             "outlinewidth": 0,
             "ticks": ""
            },
            "colorscale": [
             [
              0,
              "#0d0887"
             ],
             [
              0.1111111111111111,
              "#46039f"
             ],
             [
              0.2222222222222222,
              "#7201a8"
             ],
             [
              0.3333333333333333,
              "#9c179e"
             ],
             [
              0.4444444444444444,
              "#bd3786"
             ],
             [
              0.5555555555555556,
              "#d8576b"
             ],
             [
              0.6666666666666666,
              "#ed7953"
             ],
             [
              0.7777777777777778,
              "#fb9f3a"
             ],
             [
              0.8888888888888888,
              "#fdca26"
             ],
             [
              1,
              "#f0f921"
             ]
            ],
            "type": "contour"
           }
          ],
          "contourcarpet": [
           {
            "colorbar": {
             "outlinewidth": 0,
             "ticks": ""
            },
            "type": "contourcarpet"
           }
          ],
          "heatmap": [
           {
            "colorbar": {
             "outlinewidth": 0,
             "ticks": ""
            },
            "colorscale": [
             [
              0,
              "#0d0887"
             ],
             [
              0.1111111111111111,
              "#46039f"
             ],
             [
              0.2222222222222222,
              "#7201a8"
             ],
             [
              0.3333333333333333,
              "#9c179e"
             ],
             [
              0.4444444444444444,
              "#bd3786"
             ],
             [
              0.5555555555555556,
              "#d8576b"
             ],
             [
              0.6666666666666666,
              "#ed7953"
             ],
             [
              0.7777777777777778,
              "#fb9f3a"
             ],
             [
              0.8888888888888888,
              "#fdca26"
             ],
             [
              1,
              "#f0f921"
             ]
            ],
            "type": "heatmap"
           }
          ],
          "heatmapgl": [
           {
            "colorbar": {
             "outlinewidth": 0,
             "ticks": ""
            },
            "colorscale": [
             [
              0,
              "#0d0887"
             ],
             [
              0.1111111111111111,
              "#46039f"
             ],
             [
              0.2222222222222222,
              "#7201a8"
             ],
             [
              0.3333333333333333,
              "#9c179e"
             ],
             [
              0.4444444444444444,
              "#bd3786"
             ],
             [
              0.5555555555555556,
              "#d8576b"
             ],
             [
              0.6666666666666666,
              "#ed7953"
             ],
             [
              0.7777777777777778,
              "#fb9f3a"
             ],
             [
              0.8888888888888888,
              "#fdca26"
             ],
             [
              1,
              "#f0f921"
             ]
            ],
            "type": "heatmapgl"
           }
          ],
          "histogram": [
           {
            "marker": {
             "colorbar": {
              "outlinewidth": 0,
              "ticks": ""
             }
            },
            "type": "histogram"
           }
          ],
          "histogram2d": [
           {
            "colorbar": {
             "outlinewidth": 0,
             "ticks": ""
            },
            "colorscale": [
             [
              0,
              "#0d0887"
             ],
             [
              0.1111111111111111,
              "#46039f"
             ],
             [
              0.2222222222222222,
              "#7201a8"
             ],
             [
              0.3333333333333333,
              "#9c179e"
             ],
             [
              0.4444444444444444,
              "#bd3786"
             ],
             [
              0.5555555555555556,
              "#d8576b"
             ],
             [
              0.6666666666666666,
              "#ed7953"
             ],
             [
              0.7777777777777778,
              "#fb9f3a"
             ],
             [
              0.8888888888888888,
              "#fdca26"
             ],
             [
              1,
              "#f0f921"
             ]
            ],
            "type": "histogram2d"
           }
          ],
          "histogram2dcontour": [
           {
            "colorbar": {
             "outlinewidth": 0,
             "ticks": ""
            },
            "colorscale": [
             [
              0,
              "#0d0887"
             ],
             [
              0.1111111111111111,
              "#46039f"
             ],
             [
              0.2222222222222222,
              "#7201a8"
             ],
             [
              0.3333333333333333,
              "#9c179e"
             ],
             [
              0.4444444444444444,
              "#bd3786"
             ],
             [
              0.5555555555555556,
              "#d8576b"
             ],
             [
              0.6666666666666666,
              "#ed7953"
             ],
             [
              0.7777777777777778,
              "#fb9f3a"
             ],
             [
              0.8888888888888888,
              "#fdca26"
             ],
             [
              1,
              "#f0f921"
             ]
            ],
            "type": "histogram2dcontour"
           }
          ],
          "mesh3d": [
           {
            "colorbar": {
             "outlinewidth": 0,
             "ticks": ""
            },
            "type": "mesh3d"
           }
          ],
          "parcoords": [
           {
            "line": {
             "colorbar": {
              "outlinewidth": 0,
              "ticks": ""
             }
            },
            "type": "parcoords"
           }
          ],
          "pie": [
           {
            "automargin": true,
            "type": "pie"
           }
          ],
          "scatter": [
           {
            "marker": {
             "colorbar": {
              "outlinewidth": 0,
              "ticks": ""
             }
            },
            "type": "scatter"
           }
          ],
          "scatter3d": [
           {
            "line": {
             "colorbar": {
              "outlinewidth": 0,
              "ticks": ""
             }
            },
            "marker": {
             "colorbar": {
              "outlinewidth": 0,
              "ticks": ""
             }
            },
            "type": "scatter3d"
           }
          ],
          "scattercarpet": [
           {
            "marker": {
             "colorbar": {
              "outlinewidth": 0,
              "ticks": ""
             }
            },
            "type": "scattercarpet"
           }
          ],
          "scattergeo": [
           {
            "marker": {
             "colorbar": {
              "outlinewidth": 0,
              "ticks": ""
             }
            },
            "type": "scattergeo"
           }
          ],
          "scattergl": [
           {
            "marker": {
             "colorbar": {
              "outlinewidth": 0,
              "ticks": ""
             }
            },
            "type": "scattergl"
           }
          ],
          "scattermapbox": [
           {
            "marker": {
             "colorbar": {
              "outlinewidth": 0,
              "ticks": ""
             }
            },
            "type": "scattermapbox"
           }
          ],
          "scatterpolar": [
           {
            "marker": {
             "colorbar": {
              "outlinewidth": 0,
              "ticks": ""
             }
            },
            "type": "scatterpolar"
           }
          ],
          "scatterpolargl": [
           {
            "marker": {
             "colorbar": {
              "outlinewidth": 0,
              "ticks": ""
             }
            },
            "type": "scatterpolargl"
           }
          ],
          "scatterternary": [
           {
            "marker": {
             "colorbar": {
              "outlinewidth": 0,
              "ticks": ""
             }
            },
            "type": "scatterternary"
           }
          ],
          "surface": [
           {
            "colorbar": {
             "outlinewidth": 0,
             "ticks": ""
            },
            "colorscale": [
             [
              0,
              "#0d0887"
             ],
             [
              0.1111111111111111,
              "#46039f"
             ],
             [
              0.2222222222222222,
              "#7201a8"
             ],
             [
              0.3333333333333333,
              "#9c179e"
             ],
             [
              0.4444444444444444,
              "#bd3786"
             ],
             [
              0.5555555555555556,
              "#d8576b"
             ],
             [
              0.6666666666666666,
              "#ed7953"
             ],
             [
              0.7777777777777778,
              "#fb9f3a"
             ],
             [
              0.8888888888888888,
              "#fdca26"
             ],
             [
              1,
              "#f0f921"
             ]
            ],
            "type": "surface"
           }
          ],
          "table": [
           {
            "cells": {
             "fill": {
              "color": "#EBF0F8"
             },
             "line": {
              "color": "white"
             }
            },
            "header": {
             "fill": {
              "color": "#C8D4E3"
             },
             "line": {
              "color": "white"
             }
            },
            "type": "table"
           }
          ]
         },
         "layout": {
          "annotationdefaults": {
           "arrowcolor": "#2a3f5f",
           "arrowhead": 0,
           "arrowwidth": 1
          },
          "coloraxis": {
           "colorbar": {
            "outlinewidth": 0,
            "ticks": ""
           }
          },
          "colorscale": {
           "diverging": [
            [
             0,
             "#8e0152"
            ],
            [
             0.1,
             "#c51b7d"
            ],
            [
             0.2,
             "#de77ae"
            ],
            [
             0.3,
             "#f1b6da"
            ],
            [
             0.4,
             "#fde0ef"
            ],
            [
             0.5,
             "#f7f7f7"
            ],
            [
             0.6,
             "#e6f5d0"
            ],
            [
             0.7,
             "#b8e186"
            ],
            [
             0.8,
             "#7fbc41"
            ],
            [
             0.9,
             "#4d9221"
            ],
            [
             1,
             "#276419"
            ]
           ],
           "sequential": [
            [
             0,
             "#0d0887"
            ],
            [
             0.1111111111111111,
             "#46039f"
            ],
            [
             0.2222222222222222,
             "#7201a8"
            ],
            [
             0.3333333333333333,
             "#9c179e"
            ],
            [
             0.4444444444444444,
             "#bd3786"
            ],
            [
             0.5555555555555556,
             "#d8576b"
            ],
            [
             0.6666666666666666,
             "#ed7953"
            ],
            [
             0.7777777777777778,
             "#fb9f3a"
            ],
            [
             0.8888888888888888,
             "#fdca26"
            ],
            [
             1,
             "#f0f921"
            ]
           ],
           "sequentialminus": [
            [
             0,
             "#0d0887"
            ],
            [
             0.1111111111111111,
             "#46039f"
            ],
            [
             0.2222222222222222,
             "#7201a8"
            ],
            [
             0.3333333333333333,
             "#9c179e"
            ],
            [
             0.4444444444444444,
             "#bd3786"
            ],
            [
             0.5555555555555556,
             "#d8576b"
            ],
            [
             0.6666666666666666,
             "#ed7953"
            ],
            [
             0.7777777777777778,
             "#fb9f3a"
            ],
            [
             0.8888888888888888,
             "#fdca26"
            ],
            [
             1,
             "#f0f921"
            ]
           ]
          },
          "colorway": [
           "#636efa",
           "#EF553B",
           "#00cc96",
           "#ab63fa",
           "#FFA15A",
           "#19d3f3",
           "#FF6692",
           "#B6E880",
           "#FF97FF",
           "#FECB52"
          ],
          "font": {
           "color": "#2a3f5f"
          },
          "geo": {
           "bgcolor": "white",
           "lakecolor": "white",
           "landcolor": "#E5ECF6",
           "showlakes": true,
           "showland": true,
           "subunitcolor": "white"
          },
          "hoverlabel": {
           "align": "left"
          },
          "hovermode": "closest",
          "mapbox": {
           "style": "light"
          },
          "paper_bgcolor": "white",
          "plot_bgcolor": "#E5ECF6",
          "polar": {
           "angularaxis": {
            "gridcolor": "white",
            "linecolor": "white",
            "ticks": ""
           },
           "bgcolor": "#E5ECF6",
           "radialaxis": {
            "gridcolor": "white",
            "linecolor": "white",
            "ticks": ""
           }
          },
          "scene": {
           "xaxis": {
            "backgroundcolor": "#E5ECF6",
            "gridcolor": "white",
            "gridwidth": 2,
            "linecolor": "white",
            "showbackground": true,
            "ticks": "",
            "zerolinecolor": "white"
           },
           "yaxis": {
            "backgroundcolor": "#E5ECF6",
            "gridcolor": "white",
            "gridwidth": 2,
            "linecolor": "white",
            "showbackground": true,
            "ticks": "",
            "zerolinecolor": "white"
           },
           "zaxis": {
            "backgroundcolor": "#E5ECF6",
            "gridcolor": "white",
            "gridwidth": 2,
            "linecolor": "white",
            "showbackground": true,
            "ticks": "",
            "zerolinecolor": "white"
           }
          },
          "shapedefaults": {
           "line": {
            "color": "#2a3f5f"
           }
          },
          "ternary": {
           "aaxis": {
            "gridcolor": "white",
            "linecolor": "white",
            "ticks": ""
           },
           "baxis": {
            "gridcolor": "white",
            "linecolor": "white",
            "ticks": ""
           },
           "bgcolor": "#E5ECF6",
           "caxis": {
            "gridcolor": "white",
            "linecolor": "white",
            "ticks": ""
           }
          },
          "title": {
           "x": 0.05
          },
          "xaxis": {
           "automargin": true,
           "gridcolor": "white",
           "linecolor": "white",
           "ticks": "",
           "title": {
            "standoff": 15
           },
           "zerolinecolor": "white",
           "zerolinewidth": 2
          },
          "yaxis": {
           "automargin": true,
           "gridcolor": "white",
           "linecolor": "white",
           "ticks": "",
           "title": {
            "standoff": 15
           },
           "zerolinecolor": "white",
           "zerolinewidth": 2
          }
         }
        },
        "title": {
         "text": "Most trafficked US airports<br>(Hover for airport names)"
        }
       }
      },
      "text/html": [
       "<div>\n",
       "        \n",
       "        \n",
       "            <div id=\"1e758534-f512-4209-8e84-6d11a488c93d\" class=\"plotly-graph-div\" style=\"height:525px; width:100%;\"></div>\n",
       "            <script type=\"text/javascript\">\n",
       "                require([\"plotly\"], function(Plotly) {\n",
       "                    window.PLOTLYENV=window.PLOTLYENV || {};\n",
       "                    \n",
       "                if (document.getElementById(\"1e758534-f512-4209-8e84-6d11a488c93d\")) {\n",
       "                    Plotly.newPlot(\n",
       "                        '1e758534-f512-4209-8e84-6d11a488c93d',\n",
       "                        [{\"lat\": [-30.7435, -25.7627, -30.7435, -30.7435, -30.7435, -30.7435, -30.7435, -25.7627, -25.7627, -25.7627, -25.7627, -30.7435, -33.7119, -30.7435, -25.8667, -25.7627, -25.7627, -25.7627, -25.7627, -25.7627, -30.7435, -30.7435, -33.7119, -33.7119, -25.7627, -25.7627, -25.7627, -25.7627, -25.7627, -25.7627, -25.7627, -33.7119, -33.7119, -33.7119, -33.7119, -33.7119, -33.7119, -30.7435, -25.7627, -25.7627, -25.7627, -25.7627, -25.7627, -25.7627, -25.7627, -33.7119, -33.7119, -33.7119, -33.7119, -33.7119, -30.7435, -33.7119, -33.7119, -33.7119, -25.7627, -25.7627, -25.7627, -25.7627, -25.7627, -25.7627, -25.7627, -25.8667, -25.7627, -25.7627, -25.7627, -25.7627, -25.7627, -25.7627, -25.7627, -25.7627, -25.7627, -25.7627, -25.7627, -25.7627, -25.7627, -25.7627, -30.7435, -30.7435, -30.7435, -30.7435, -33.7119, -33.7119, -33.7119, -33.7119, -33.7119, -25.7627, -25.7627, -25.7627, -25.7627, -25.7627, -25.7627, -25.7627, -25.7627, -25.7627, -25.7627, -25.7627, -25.7627, -25.7627, -25.7627, -25.7627, -25.7627, -30.7435, -30.7435, -30.7435, -25.8667, -25.8667, -33.7119, -33.7119, -33.7119, -33.7119, -33.7119, -33.7119, -33.7119, -33.7119, -33.7119, -33.7119, -25.7627, -25.7627, -25.7627, -25.7627, -25.7627, -25.7627, -25.7627, -25.7627, -25.7627, -25.7627, -25.7627, -25.7627, -25.7627, -25.7627, -25.7627, -30.7435, -30.7435, -30.7435, -25.8667, -33.7119, -33.7119, -33.7119, -33.7119, -33.7119, -33.7119, -33.7119, -33.7119, -33.7119, -33.7119, -33.7119, -33.7119, -33.7119, -33.7119, -33.7119, -25.7627, -25.7627, -25.7627, -25.7627, -25.7627, -25.7627, -25.7627, -25.7627, -25.7627, -25.7627, -25.7627, -25.7627, -25.7627, -25.7627, -25.7627, -25.7627, -25.7627, -25.7627, -25.7627, -25.7627, -25.7627, -25.7627, -25.7627, -25.7627, -25.7627, -25.7627, -25.7627, -25.7627, -25.7627, -25.7627, -25.7627, -25.7627, -25.7627, -29.2045, -29.2045, -29.2045, -29.2045, -29.2045, -29.2045, -29.2045, -33.7119, -33.7119, -33.7119, -33.7119, -33.7119, -33.7119, -33.7119, -33.7119, -33.7119, -33.7119, -33.7119, -30.7435, -32.8793, -25.7627, -25.7627, -25.7627, -25.7627, -25.7627, -25.7627, -25.7627, -25.7627, -25.7627, -25.7627, -25.7627, -25.7627, -25.7627, -25.7627, -25.7627, -25.7627, -30.7435, -30.7435, -30.7435, -33.7119, -33.7119, -33.7119, -33.7119, -33.7119, -33.7119, -33.7119, -33.7119, -33.7119, -33.7119, -33.7119, -33.7119, -33.7119, -33.7119, -33.7119, -33.7119, -33.7119, -33.7119, -32.8793, -29.2045, -29.2045, -25.7627, -25.7627, -25.7627, -25.7627, -25.7627, -25.7627, -25.7627, -30.7435, -30.7435, -30.7435, -30.7435, -30.7435, -30.7435, -30.7435, -30.7435, -30.7435, -33.7119, -33.7119, -33.7119, -33.7119, -33.7119, -33.7119, -33.7119, -33.7119, -33.7119, -33.7119, -33.7119, -33.7119, -33.7119, -33.7119, -33.7119, -28.746, -28.746, -25.8842, -25.8842, -25.8842, -25.8842, -25.7627, -25.7627, -25.7627, -25.7627, -25.7627, -25.7627, -25.7627, -25.7627, -25.7627, -25.7627, -25.7627, -25.7627, -25.7627, -25.7627, -25.7627, -25.7627, -25.7627, -25.7627, -25.7627, -25.7627, -25.7627, -25.7627, -25.7627, -25.7627, -25.7627, -25.7627, -25.7627, -25.7627, -25.7627, -25.7627, -25.7627, -25.7627, -25.7627, -25.7627, -25.7627, -25.7627, -25.7627, -25.7627, -25.7627, -25.7627, -25.7627, -25.7627, -25.7627, -25.7627, -25.7627, -25.7627, -25.7627, -25.7627, -25.7627, -25.7627, -25.7627, -25.7627, -25.7627, -25.7627, -25.7627, -25.7627, -25.7627, -25.7627, -25.7627, -25.7627, -25.7627, -25.7627, -25.7627, -25.7627, -25.7627, -25.7627, -25.7627, -25.7627, -25.7627, -25.7627, -25.7627, -25.7627, -25.7627, -25.7627, -25.7627, -33.7119, -33.7119, -25.8667, -25.8667, -25.8667, -25.8667, -29.2045, -29.2045, -29.2045, -29.2045, -33.7119, -30.7435, -30.7435, -30.7435, -30.7435, -30.7435, -30.7435, -30.7435, -30.7435, -30.7435, -30.7435, -30.7435, -30.7435, -30.7435, -30.7435, -30.7435, -30.7435, -30.7435, -30.7435, -30.7435, -30.7435, -30.7435, -30.7435, -30.7435, -30.7435, -33.7119, -33.7119, -33.7119, -33.7119, -33.7119, -33.7119, -33.7119, -33.7119, -33.7119, -33.7119, -33.7119, -33.7119, -25.7627, -25.7627, -25.7627, -25.7627, -25.7627, -25.7627, -25.7627, -25.7627, -25.7627, -25.7627, -25.7627, -25.7627, -25.7627, -25.7627, -25.7627, -25.7627, -25.7627, -25.7627, -25.7627, -25.7627, -25.7627, -25.7627, -25.7627, -25.7627, -25.7627, -25.7627, -25.7627, -25.7627, -25.7627, -25.7627, -25.7627, -25.7627, -25.7627, -25.7627, -25.7627, -25.7627, -25.7627, -25.7627, -25.7627, -25.7627, -25.7627, -25.7627, -25.7627, -25.7627, -25.7627, -25.7627, -25.7627, -25.7627, -25.7627, -25.7627, -25.7627, -25.7627, -25.7627, -25.7627, -25.7627, -25.7627, -25.7627, -25.7627, -25.7627, -25.7627, -25.7627, -25.7627, -25.7627, -25.7627, -25.7627, -25.7627, -25.7627, -25.7627, -25.7627, -25.7627, -25.7627, -25.7627, -25.7627, -25.7627, -25.7627, -25.7627, -25.7627, -25.7627, -25.7627, -25.7627, -25.7627, -25.7627, -25.7627, -25.7627, -25.7627, -25.7627, -25.7627, -25.7627, -25.7627, -25.7627, -25.7627, -25.7627, -25.7627, -25.7627, -25.7627, -25.8842, -29.2045, -29.2045, -29.2045, -29.2045, -29.2045, -30.7435, -30.7435, -30.7435, -30.7435, -30.7435, -30.7435, -30.7435, -30.7435, -30.7435, -30.7435, -30.7435, -30.7435, -30.7435, -30.7435, -30.7435, -30.7435, -30.7435, -30.7435, -30.7435, -30.7435, -30.7435, -33.7119, -33.7119, -33.7119, -33.7119, -33.7119, -33.7119, -33.7119, -33.7119, -33.7119, -33.7119, -33.7119, -33.7119, -33.7119, -33.7119, -33.7119, -33.7119, -33.7119, -33.7119, -33.7119, -33.7119, -33.7119, -33.7119, -33.7119, -33.7119, -33.7119, -33.7119, -33.7119, -33.7119, -33.7119, -33.7119, -33.7119, -33.7119, -33.7119, -33.7119, -33.7119, -33.7119, -33.7119, -33.7119, -33.7119, -33.7119, -33.7119, -33.7119, -33.7119, -33.7119, -33.7119, -33.7119, -33.7119, -33.7119, -33.7119, -33.7119, -33.7119, -33.7119, -33.7119, -33.7119, -33.7119, -33.7119, -33.7119, -33.7119, -33.7119, -33.7119, -33.7119, -33.7119, -33.7119, -33.7119, -33.7119, -33.7119, -33.7119, -33.7119, -33.7119, -33.7119, -33.7119, -33.7119, -33.7119, -33.7119, -33.7119, -33.7119, -33.7119, -33.7119, -33.7119, -33.7119, -33.7119, -33.7119, -33.7119, -33.7119, -33.7119, -33.7119, -33.7119, -33.7119, -33.7119, -33.7119, -33.7119, -33.7119, -33.7119, -33.7119, -33.7119, -25.7627, -25.7627, -25.7627, -25.7627, -25.7627, -25.7627, -25.7627, -25.7627, -25.7627, -25.7627, -25.7627, -25.7627, -25.7627, -25.7627, -25.7627, -25.7627, -25.7627, -25.7627, -25.7627, -25.7627, -25.7627, -25.7627, -25.7627, -25.7627, -25.7627, -25.7627, -25.7627, -25.7627, -25.7627, -25.7627, -25.7627, -25.7627, -25.7627, -25.7627, -25.7627, -25.7627, -25.7627, -25.7627, -25.7627, -25.7627, -25.7627, -25.7627, -25.7627, -25.7627, -25.7627, -25.7627, -25.7627, -25.7627, -25.7627, -25.7627, -25.7627, -25.7627, -25.7627, -25.7627, -25.7627, -25.7627, -25.7627, -25.7627, -25.7627, -25.7627, -25.7627, -25.7627, -25.7627, -25.7627, -30.7435, -30.7435, -30.7435, -30.7435, -30.7435, -30.7435, -30.7435, -30.7435, -30.7435, -30.7435, -30.7435, -29.2045, -29.2045, -29.2045, -29.2045, -29.2045, -29.2045, -29.2045, -29.2045, -29.2045, -29.2045, -29.2045, -29.2045, -29.2045, -29.2045, -29.2045], \"lon\": [30.450878, 28.08948, 30.450878, 30.450878, 30.450878, 30.450878, 30.450878, 28.08948, 28.08948, 28.08948, 28.08948, 30.450878, 18.98694, 30.450878, 29.16725, 28.08948, 28.08948, 28.08948, 28.08948, 28.08948, 30.450878, 30.450878, 18.98694, 18.98694, 28.08948, 28.08948, 28.08948, 28.08948, 28.08948, 28.08948, 28.08948, 18.98694, 18.98694, 18.98694, 18.98694, 18.98694, 18.98694, 30.450878, 28.08948, 28.08948, 28.08948, 28.08948, 28.08948, 28.08948, 28.08948, 18.98694, 18.98694, 18.98694, 18.98694, 18.98694, 30.450878, 18.98694, 18.98694, 18.98694, 28.08948, 28.08948, 28.08948, 28.08948, 28.08948, 28.08948, 28.08948, 29.16725, 28.08948, 28.08948, 28.08948, 28.08948, 28.08948, 28.08948, 28.08948, 28.08948, 28.08948, 28.08948, 28.08948, 28.08948, 28.08948, 28.08948, 30.450878, 30.450878, 30.450878, 30.450878, 18.98694, 18.98694, 18.98694, 18.98694, 18.98694, 28.08948, 28.08948, 28.08948, 28.08948, 28.08948, 28.08948, 28.08948, 28.08948, 28.08948, 28.08948, 28.08948, 28.08948, 28.08948, 28.08948, 28.08948, 28.08948, 30.450878, 30.450878, 30.450878, 29.16725, 29.16725, 18.98694, 18.98694, 18.98694, 18.98694, 18.98694, 18.98694, 18.98694, 18.98694, 18.98694, 18.98694, 28.08948, 28.08948, 28.08948, 28.08948, 28.08948, 28.08948, 28.08948, 28.08948, 28.08948, 28.08948, 28.08948, 28.08948, 28.08948, 28.08948, 28.08948, 30.450878, 30.450878, 30.450878, 29.16725, 18.98694, 18.98694, 18.98694, 18.98694, 18.98694, 18.98694, 18.98694, 18.98694, 18.98694, 18.98694, 18.98694, 18.98694, 18.98694, 18.98694, 18.98694, 28.08948, 28.08948, 28.08948, 28.08948, 28.08948, 28.08948, 28.08948, 28.08948, 28.08948, 28.08948, 28.08948, 28.08948, 28.08948, 28.08948, 28.08948, 28.08948, 28.08948, 28.08948, 28.08948, 28.08948, 28.08948, 28.08948, 28.08948, 28.08948, 28.08948, 28.08948, 28.08948, 28.08948, 28.08948, 28.08948, 28.08948, 28.08948, 28.08948, 26.83468, 26.83468, 26.83468, 26.83468, 26.83468, 26.83468, 26.83468, 18.98694, 18.98694, 18.98694, 18.98694, 18.98694, 18.98694, 18.98694, 18.98694, 18.98694, 18.98694, 18.98694, 30.450878, 27.39579, 28.08948, 28.08948, 28.08948, 28.08948, 28.08948, 28.08948, 28.08948, 28.08948, 28.08948, 28.08948, 28.08948, 28.08948, 28.08948, 28.08948, 28.08948, 28.08948, 30.450878, 30.450878, 30.450878, 18.98694, 18.98694, 18.98694, 18.98694, 18.98694, 18.98694, 18.98694, 18.98694, 18.98694, 18.98694, 18.98694, 18.98694, 18.98694, 18.98694, 18.98694, 18.98694, 18.98694, 18.98694, 27.39579, 26.83468, 26.83468, 28.08948, 28.08948, 28.08948, 28.08948, 28.08948, 28.08948, 28.08948, 30.450878, 30.450878, 30.450878, 30.450878, 30.450878, 30.450878, 30.450878, 30.450878, 30.450878, 18.98694, 18.98694, 18.98694, 18.98694, 18.98694, 18.98694, 18.98694, 18.98694, 18.98694, 18.98694, 18.98694, 18.98694, 18.98694, 18.98694, 18.98694, 24.77263, 24.77263, 25.65794, 25.65794, 25.65794, 25.65794, 28.08948, 28.08948, 28.08948, 28.08948, 28.08948, 28.08948, 28.08948, 28.08948, 28.08948, 28.08948, 28.08948, 28.08948, 28.08948, 28.08948, 28.08948, 28.08948, 28.08948, 28.08948, 28.08948, 28.08948, 28.08948, 28.08948, 28.08948, 28.08948, 28.08948, 28.08948, 28.08948, 28.08948, 28.08948, 28.08948, 28.08948, 28.08948, 28.08948, 28.08948, 28.08948, 28.08948, 28.08948, 28.08948, 28.08948, 28.08948, 28.08948, 28.08948, 28.08948, 28.08948, 28.08948, 28.08948, 28.08948, 28.08948, 28.08948, 28.08948, 28.08948, 28.08948, 28.08948, 28.08948, 28.08948, 28.08948, 28.08948, 28.08948, 28.08948, 28.08948, 28.08948, 28.08948, 28.08948, 28.08948, 28.08948, 28.08948, 28.08948, 28.08948, 28.08948, 28.08948, 28.08948, 28.08948, 28.08948, 28.08948, 28.08948, 18.98694, 18.98694, 29.16725, 29.16725, 29.16725, 29.16725, 26.83468, 26.83468, 26.83468, 26.83468, 18.98694, 30.450878, 30.450878, 30.450878, 30.450878, 30.450878, 30.450878, 30.450878, 30.450878, 30.450878, 30.450878, 30.450878, 30.450878, 30.450878, 30.450878, 30.450878, 30.450878, 30.450878, 30.450878, 30.450878, 30.450878, 30.450878, 30.450878, 30.450878, 30.450878, 18.98694, 18.98694, 18.98694, 18.98694, 18.98694, 18.98694, 18.98694, 18.98694, 18.98694, 18.98694, 18.98694, 18.98694, 28.08948, 28.08948, 28.08948, 28.08948, 28.08948, 28.08948, 28.08948, 28.08948, 28.08948, 28.08948, 28.08948, 28.08948, 28.08948, 28.08948, 28.08948, 28.08948, 28.08948, 28.08948, 28.08948, 28.08948, 28.08948, 28.08948, 28.08948, 28.08948, 28.08948, 28.08948, 28.08948, 28.08948, 28.08948, 28.08948, 28.08948, 28.08948, 28.08948, 28.08948, 28.08948, 28.08948, 28.08948, 28.08948, 28.08948, 28.08948, 28.08948, 28.08948, 28.08948, 28.08948, 28.08948, 28.08948, 28.08948, 28.08948, 28.08948, 28.08948, 28.08948, 28.08948, 28.08948, 28.08948, 28.08948, 28.08948, 28.08948, 28.08948, 28.08948, 28.08948, 28.08948, 28.08948, 28.08948, 28.08948, 28.08948, 28.08948, 28.08948, 28.08948, 28.08948, 28.08948, 28.08948, 28.08948, 28.08948, 28.08948, 28.08948, 28.08948, 28.08948, 28.08948, 28.08948, 28.08948, 28.08948, 28.08948, 28.08948, 28.08948, 28.08948, 28.08948, 28.08948, 28.08948, 28.08948, 28.08948, 28.08948, 28.08948, 28.08948, 28.08948, 28.08948, 25.65794, 26.83468, 26.83468, 26.83468, 26.83468, 26.83468, 30.450878, 30.450878, 30.450878, 30.450878, 30.450878, 30.450878, 30.450878, 30.450878, 30.450878, 30.450878, 30.450878, 30.450878, 30.450878, 30.450878, 30.450878, 30.450878, 30.450878, 30.450878, 30.450878, 30.450878, 30.450878, 18.98694, 18.98694, 18.98694, 18.98694, 18.98694, 18.98694, 18.98694, 18.98694, 18.98694, 18.98694, 18.98694, 18.98694, 18.98694, 18.98694, 18.98694, 18.98694, 18.98694, 18.98694, 18.98694, 18.98694, 18.98694, 18.98694, 18.98694, 18.98694, 18.98694, 18.98694, 18.98694, 18.98694, 18.98694, 18.98694, 18.98694, 18.98694, 18.98694, 18.98694, 18.98694, 18.98694, 18.98694, 18.98694, 18.98694, 18.98694, 18.98694, 18.98694, 18.98694, 18.98694, 18.98694, 18.98694, 18.98694, 18.98694, 18.98694, 18.98694, 18.98694, 18.98694, 18.98694, 18.98694, 18.98694, 18.98694, 18.98694, 18.98694, 18.98694, 18.98694, 18.98694, 18.98694, 18.98694, 18.98694, 18.98694, 18.98694, 18.98694, 18.98694, 18.98694, 18.98694, 18.98694, 18.98694, 18.98694, 18.98694, 18.98694, 18.98694, 18.98694, 18.98694, 18.98694, 18.98694, 18.98694, 18.98694, 18.98694, 18.98694, 18.98694, 18.98694, 18.98694, 18.98694, 18.98694, 18.98694, 18.98694, 18.98694, 18.98694, 18.98694, 18.98694, 28.08948, 28.08948, 28.08948, 28.08948, 28.08948, 28.08948, 28.08948, 28.08948, 28.08948, 28.08948, 28.08948, 28.08948, 28.08948, 28.08948, 28.08948, 28.08948, 28.08948, 28.08948, 28.08948, 28.08948, 28.08948, 28.08948, 28.08948, 28.08948, 28.08948, 28.08948, 28.08948, 28.08948, 28.08948, 28.08948, 28.08948, 28.08948, 28.08948, 28.08948, 28.08948, 28.08948, 28.08948, 28.08948, 28.08948, 28.08948, 28.08948, 28.08948, 28.08948, 28.08948, 28.08948, 28.08948, 28.08948, 28.08948, 28.08948, 28.08948, 28.08948, 28.08948, 28.08948, 28.08948, 28.08948, 28.08948, 28.08948, 28.08948, 28.08948, 28.08948, 28.08948, 28.08948, 28.08948, 28.08948, 30.450878, 30.450878, 30.450878, 30.450878, 30.450878, 30.450878, 30.450878, 30.450878, 30.450878, 30.450878, 30.450878, 26.83468, 26.83468, 26.83468, 26.83468, 26.83468, 26.83468, 26.83468, 26.83468, 26.83468, 26.83468, 26.83468, 26.83468, 26.83468, 26.83468, 26.83468], \"mode\": \"markers\", \"type\": \"scattergeo\"}],\n",
       "                        {\"geo\": {\"scope\": \"africa\"}, \"template\": {\"data\": {\"bar\": [{\"error_x\": {\"color\": \"#2a3f5f\"}, \"error_y\": {\"color\": \"#2a3f5f\"}, \"marker\": {\"line\": {\"color\": \"#E5ECF6\", \"width\": 0.5}}, \"type\": \"bar\"}], \"barpolar\": [{\"marker\": {\"line\": {\"color\": \"#E5ECF6\", \"width\": 0.5}}, \"type\": \"barpolar\"}], \"carpet\": [{\"aaxis\": {\"endlinecolor\": \"#2a3f5f\", \"gridcolor\": \"white\", \"linecolor\": \"white\", \"minorgridcolor\": \"white\", \"startlinecolor\": \"#2a3f5f\"}, \"baxis\": {\"endlinecolor\": \"#2a3f5f\", \"gridcolor\": \"white\", \"linecolor\": \"white\", \"minorgridcolor\": \"white\", \"startlinecolor\": \"#2a3f5f\"}, \"type\": \"carpet\"}], \"choropleth\": [{\"colorbar\": {\"outlinewidth\": 0, \"ticks\": \"\"}, \"type\": \"choropleth\"}], \"contour\": [{\"colorbar\": {\"outlinewidth\": 0, \"ticks\": \"\"}, \"colorscale\": [[0.0, \"#0d0887\"], [0.1111111111111111, \"#46039f\"], [0.2222222222222222, \"#7201a8\"], [0.3333333333333333, \"#9c179e\"], [0.4444444444444444, \"#bd3786\"], [0.5555555555555556, \"#d8576b\"], [0.6666666666666666, \"#ed7953\"], [0.7777777777777778, \"#fb9f3a\"], [0.8888888888888888, \"#fdca26\"], [1.0, \"#f0f921\"]], \"type\": \"contour\"}], \"contourcarpet\": [{\"colorbar\": {\"outlinewidth\": 0, \"ticks\": \"\"}, \"type\": \"contourcarpet\"}], \"heatmap\": [{\"colorbar\": {\"outlinewidth\": 0, \"ticks\": \"\"}, \"colorscale\": [[0.0, \"#0d0887\"], [0.1111111111111111, \"#46039f\"], [0.2222222222222222, \"#7201a8\"], [0.3333333333333333, \"#9c179e\"], [0.4444444444444444, \"#bd3786\"], [0.5555555555555556, \"#d8576b\"], [0.6666666666666666, \"#ed7953\"], [0.7777777777777778, \"#fb9f3a\"], [0.8888888888888888, \"#fdca26\"], [1.0, \"#f0f921\"]], \"type\": \"heatmap\"}], \"heatmapgl\": [{\"colorbar\": {\"outlinewidth\": 0, \"ticks\": \"\"}, \"colorscale\": [[0.0, \"#0d0887\"], [0.1111111111111111, \"#46039f\"], [0.2222222222222222, \"#7201a8\"], [0.3333333333333333, \"#9c179e\"], [0.4444444444444444, \"#bd3786\"], [0.5555555555555556, \"#d8576b\"], [0.6666666666666666, \"#ed7953\"], [0.7777777777777778, \"#fb9f3a\"], [0.8888888888888888, \"#fdca26\"], [1.0, \"#f0f921\"]], \"type\": \"heatmapgl\"}], \"histogram\": [{\"marker\": {\"colorbar\": {\"outlinewidth\": 0, \"ticks\": \"\"}}, \"type\": \"histogram\"}], \"histogram2d\": [{\"colorbar\": {\"outlinewidth\": 0, \"ticks\": \"\"}, \"colorscale\": [[0.0, \"#0d0887\"], [0.1111111111111111, \"#46039f\"], [0.2222222222222222, \"#7201a8\"], [0.3333333333333333, \"#9c179e\"], [0.4444444444444444, \"#bd3786\"], [0.5555555555555556, \"#d8576b\"], [0.6666666666666666, \"#ed7953\"], [0.7777777777777778, \"#fb9f3a\"], [0.8888888888888888, \"#fdca26\"], [1.0, \"#f0f921\"]], \"type\": \"histogram2d\"}], \"histogram2dcontour\": [{\"colorbar\": {\"outlinewidth\": 0, \"ticks\": \"\"}, \"colorscale\": [[0.0, \"#0d0887\"], [0.1111111111111111, \"#46039f\"], [0.2222222222222222, \"#7201a8\"], [0.3333333333333333, \"#9c179e\"], [0.4444444444444444, \"#bd3786\"], [0.5555555555555556, \"#d8576b\"], [0.6666666666666666, \"#ed7953\"], [0.7777777777777778, \"#fb9f3a\"], [0.8888888888888888, \"#fdca26\"], [1.0, \"#f0f921\"]], \"type\": \"histogram2dcontour\"}], \"mesh3d\": [{\"colorbar\": {\"outlinewidth\": 0, \"ticks\": \"\"}, \"type\": \"mesh3d\"}], \"parcoords\": [{\"line\": {\"colorbar\": {\"outlinewidth\": 0, \"ticks\": \"\"}}, \"type\": \"parcoords\"}], \"pie\": [{\"automargin\": true, \"type\": \"pie\"}], \"scatter\": [{\"marker\": {\"colorbar\": {\"outlinewidth\": 0, \"ticks\": \"\"}}, \"type\": \"scatter\"}], \"scatter3d\": [{\"line\": {\"colorbar\": {\"outlinewidth\": 0, \"ticks\": \"\"}}, \"marker\": {\"colorbar\": {\"outlinewidth\": 0, \"ticks\": \"\"}}, \"type\": \"scatter3d\"}], \"scattercarpet\": [{\"marker\": {\"colorbar\": {\"outlinewidth\": 0, \"ticks\": \"\"}}, \"type\": \"scattercarpet\"}], \"scattergeo\": [{\"marker\": {\"colorbar\": {\"outlinewidth\": 0, \"ticks\": \"\"}}, \"type\": \"scattergeo\"}], \"scattergl\": [{\"marker\": {\"colorbar\": {\"outlinewidth\": 0, \"ticks\": \"\"}}, \"type\": \"scattergl\"}], \"scattermapbox\": [{\"marker\": {\"colorbar\": {\"outlinewidth\": 0, \"ticks\": \"\"}}, \"type\": \"scattermapbox\"}], \"scatterpolar\": [{\"marker\": {\"colorbar\": {\"outlinewidth\": 0, \"ticks\": \"\"}}, \"type\": \"scatterpolar\"}], \"scatterpolargl\": [{\"marker\": {\"colorbar\": {\"outlinewidth\": 0, \"ticks\": \"\"}}, \"type\": \"scatterpolargl\"}], \"scatterternary\": [{\"marker\": {\"colorbar\": {\"outlinewidth\": 0, \"ticks\": \"\"}}, \"type\": \"scatterternary\"}], \"surface\": [{\"colorbar\": {\"outlinewidth\": 0, \"ticks\": \"\"}, \"colorscale\": [[0.0, \"#0d0887\"], [0.1111111111111111, \"#46039f\"], [0.2222222222222222, \"#7201a8\"], [0.3333333333333333, \"#9c179e\"], [0.4444444444444444, \"#bd3786\"], [0.5555555555555556, \"#d8576b\"], [0.6666666666666666, \"#ed7953\"], [0.7777777777777778, \"#fb9f3a\"], [0.8888888888888888, \"#fdca26\"], [1.0, \"#f0f921\"]], \"type\": \"surface\"}], \"table\": [{\"cells\": {\"fill\": {\"color\": \"#EBF0F8\"}, \"line\": {\"color\": \"white\"}}, \"header\": {\"fill\": {\"color\": \"#C8D4E3\"}, \"line\": {\"color\": \"white\"}}, \"type\": \"table\"}]}, \"layout\": {\"annotationdefaults\": {\"arrowcolor\": \"#2a3f5f\", \"arrowhead\": 0, \"arrowwidth\": 1}, \"coloraxis\": {\"colorbar\": {\"outlinewidth\": 0, \"ticks\": \"\"}}, \"colorscale\": {\"diverging\": [[0, \"#8e0152\"], [0.1, \"#c51b7d\"], [0.2, \"#de77ae\"], [0.3, \"#f1b6da\"], [0.4, \"#fde0ef\"], [0.5, \"#f7f7f7\"], [0.6, \"#e6f5d0\"], [0.7, \"#b8e186\"], [0.8, \"#7fbc41\"], [0.9, \"#4d9221\"], [1, \"#276419\"]], \"sequential\": [[0.0, \"#0d0887\"], [0.1111111111111111, \"#46039f\"], [0.2222222222222222, \"#7201a8\"], [0.3333333333333333, \"#9c179e\"], [0.4444444444444444, \"#bd3786\"], [0.5555555555555556, \"#d8576b\"], [0.6666666666666666, \"#ed7953\"], [0.7777777777777778, \"#fb9f3a\"], [0.8888888888888888, \"#fdca26\"], [1.0, \"#f0f921\"]], \"sequentialminus\": [[0.0, \"#0d0887\"], [0.1111111111111111, \"#46039f\"], [0.2222222222222222, \"#7201a8\"], [0.3333333333333333, \"#9c179e\"], [0.4444444444444444, \"#bd3786\"], [0.5555555555555556, \"#d8576b\"], [0.6666666666666666, \"#ed7953\"], [0.7777777777777778, \"#fb9f3a\"], [0.8888888888888888, \"#fdca26\"], [1.0, \"#f0f921\"]]}, \"colorway\": [\"#636efa\", \"#EF553B\", \"#00cc96\", \"#ab63fa\", \"#FFA15A\", \"#19d3f3\", \"#FF6692\", \"#B6E880\", \"#FF97FF\", \"#FECB52\"], \"font\": {\"color\": \"#2a3f5f\"}, \"geo\": {\"bgcolor\": \"white\", \"lakecolor\": \"white\", \"landcolor\": \"#E5ECF6\", \"showlakes\": true, \"showland\": true, \"subunitcolor\": \"white\"}, \"hoverlabel\": {\"align\": \"left\"}, \"hovermode\": \"closest\", \"mapbox\": {\"style\": \"light\"}, \"paper_bgcolor\": \"white\", \"plot_bgcolor\": \"#E5ECF6\", \"polar\": {\"angularaxis\": {\"gridcolor\": \"white\", \"linecolor\": \"white\", \"ticks\": \"\"}, \"bgcolor\": \"#E5ECF6\", \"radialaxis\": {\"gridcolor\": \"white\", \"linecolor\": \"white\", \"ticks\": \"\"}}, \"scene\": {\"xaxis\": {\"backgroundcolor\": \"#E5ECF6\", \"gridcolor\": \"white\", \"gridwidth\": 2, \"linecolor\": \"white\", \"showbackground\": true, \"ticks\": \"\", \"zerolinecolor\": \"white\"}, \"yaxis\": {\"backgroundcolor\": \"#E5ECF6\", \"gridcolor\": \"white\", \"gridwidth\": 2, \"linecolor\": \"white\", \"showbackground\": true, \"ticks\": \"\", \"zerolinecolor\": \"white\"}, \"zaxis\": {\"backgroundcolor\": \"#E5ECF6\", \"gridcolor\": \"white\", \"gridwidth\": 2, \"linecolor\": \"white\", \"showbackground\": true, \"ticks\": \"\", \"zerolinecolor\": \"white\"}}, \"shapedefaults\": {\"line\": {\"color\": \"#2a3f5f\"}}, \"ternary\": {\"aaxis\": {\"gridcolor\": \"white\", \"linecolor\": \"white\", \"ticks\": \"\"}, \"baxis\": {\"gridcolor\": \"white\", \"linecolor\": \"white\", \"ticks\": \"\"}, \"bgcolor\": \"#E5ECF6\", \"caxis\": {\"gridcolor\": \"white\", \"linecolor\": \"white\", \"ticks\": \"\"}}, \"title\": {\"x\": 0.05}, \"xaxis\": {\"automargin\": true, \"gridcolor\": \"white\", \"linecolor\": \"white\", \"ticks\": \"\", \"title\": {\"standoff\": 15}, \"zerolinecolor\": \"white\", \"zerolinewidth\": 2}, \"yaxis\": {\"automargin\": true, \"gridcolor\": \"white\", \"linecolor\": \"white\", \"ticks\": \"\", \"title\": {\"standoff\": 15}, \"zerolinecolor\": \"white\", \"zerolinewidth\": 2}}}, \"title\": {\"text\": \"Most trafficked US airports<br>(Hover for airport names)\"}},\n",
       "                        {\"responsive\": true}\n",
       "                    ).then(function(){\n",
       "                            \n",
       "var gd = document.getElementById('1e758534-f512-4209-8e84-6d11a488c93d');\n",
       "var x = new MutationObserver(function (mutations, observer) {{\n",
       "        var display = window.getComputedStyle(gd).display;\n",
       "        if (!display || display === 'none') {{\n",
       "            console.log([gd, 'removed!']);\n",
       "            Plotly.purge(gd);\n",
       "            observer.disconnect();\n",
       "        }}\n",
       "}});\n",
       "\n",
       "// Listen for the removal of the full notebook cells\n",
       "var notebookContainer = gd.closest('#notebook-container');\n",
       "if (notebookContainer) {{\n",
       "    x.observe(notebookContainer, {childList: true});\n",
       "}}\n",
       "\n",
       "// Listen for the clearing of the current output cell\n",
       "var outputEl = gd.closest('.output');\n",
       "if (outputEl) {{\n",
       "    x.observe(outputEl, {childList: true});\n",
       "}}\n",
       "\n",
       "                        })\n",
       "                };\n",
       "                });\n",
       "            </script>\n",
       "        </div>"
      ]
     },
     "metadata": {},
     "output_type": "display_data"
    }
   ],
   "source": [
    "fig = go.Figure(data=go.Scattergeo(\n",
    "        lon = df_sa_cases['Long'],\n",
    "        lat = df_sa_cases['Lat'],\n",
    "        mode = 'markers',\n",
    "        ))\n",
    "\n",
    "fig.update_layout(\n",
    "        title = 'Most trafficked US airports<br>(Hover for airport names)',\n",
    "        geo_scope='africa',\n",
    "    )\n",
    "fig.show()"
   ]
  },
  {
   "cell_type": "code",
   "execution_count": 447,
   "metadata": {},
   "outputs": [
    {
     "data": {
      "text/html": [
       "<div>\n",
       "<style scoped>\n",
       "    .dataframe tbody tr th:only-of-type {\n",
       "        vertical-align: middle;\n",
       "    }\n",
       "\n",
       "    .dataframe tbody tr th {\n",
       "        vertical-align: top;\n",
       "    }\n",
       "\n",
       "    .dataframe thead th {\n",
       "        text-align: right;\n",
       "    }\n",
       "</style>\n",
       "<table border=\"1\" class=\"dataframe\">\n",
       "  <thead>\n",
       "    <tr style=\"text-align: right;\">\n",
       "      <th></th>\n",
       "      <th>ID</th>\n",
       "      <th>Name</th>\n",
       "      <th>Long</th>\n",
       "      <th>Lat</th>\n",
       "      <th>Category</th>\n",
       "      <th>Province</th>\n",
       "      <th>district</th>\n",
       "      <th>subdistrict</th>\n",
       "      <th>district_estimated_population</th>\n",
       "      <th>service_offered_by_hospital</th>\n",
       "      <th>size_hospital</th>\n",
       "      <th>number_of_beds</th>\n",
       "      <th>number_of_practitioners</th>\n",
       "      <th>webpage</th>\n",
       "    </tr>\n",
       "  </thead>\n",
       "  <tbody>\n",
       "    <tr>\n",
       "      <th>235</th>\n",
       "      <td>583</td>\n",
       "      <td>Helene Franz Hospital</td>\n",
       "      <td>29.11313</td>\n",
       "      <td>-23.2838</td>\n",
       "      <td>Public Hospital</td>\n",
       "      <td>Limpopo</td>\n",
       "      <td>Capricorn District Municipality</td>\n",
       "      <td>Blouberg LM</td>\n",
       "      <td>1330436.0</td>\n",
       "      <td>NaN</td>\n",
       "      <td>NaN</td>\n",
       "      <td>NaN</td>\n",
       "      <td>NaN</td>\n",
       "      <td>NaN</td>\n",
       "    </tr>\n",
       "    <tr>\n",
       "      <th>236</th>\n",
       "      <td>584</td>\n",
       "      <td>Dr Machupe Mem Hospital</td>\n",
       "      <td>29.335</td>\n",
       "      <td>-24.3125</td>\n",
       "      <td>Public Hospital</td>\n",
       "      <td>Limpopo</td>\n",
       "      <td>Capricorn District Municipality</td>\n",
       "      <td>Lepelle-Nkumpi LM</td>\n",
       "      <td>1330436.0</td>\n",
       "      <td>NaN</td>\n",
       "      <td>NaN</td>\n",
       "      <td>NaN</td>\n",
       "      <td>NaN</td>\n",
       "      <td>NaN</td>\n",
       "    </tr>\n",
       "    <tr>\n",
       "      <th>237</th>\n",
       "      <td>585</td>\n",
       "      <td>Lebowakgomo Hospital</td>\n",
       "      <td>29.5285</td>\n",
       "      <td>-24.2956</td>\n",
       "      <td>Public Hospital</td>\n",
       "      <td>Limpopo</td>\n",
       "      <td>Capricorn District Municipality</td>\n",
       "      <td>Lepelle-Nkumpi LM</td>\n",
       "      <td>1330436.0</td>\n",
       "      <td>NaN</td>\n",
       "      <td>NaN</td>\n",
       "      <td>NaN</td>\n",
       "      <td>NaN</td>\n",
       "      <td>NaN</td>\n",
       "    </tr>\n",
       "    <tr>\n",
       "      <th>238</th>\n",
       "      <td>588</td>\n",
       "      <td>Zebediela Hospital</td>\n",
       "      <td>29.40445</td>\n",
       "      <td>-24.4818</td>\n",
       "      <td>Public Hospital</td>\n",
       "      <td>Limpopo</td>\n",
       "      <td>Capricorn District Municipality</td>\n",
       "      <td>Lepelle-Nkumpi LM</td>\n",
       "      <td>1330436.0</td>\n",
       "      <td>NaN</td>\n",
       "      <td>NaN</td>\n",
       "      <td>NaN</td>\n",
       "      <td>NaN</td>\n",
       "      <td>NaN</td>\n",
       "    </tr>\n",
       "    <tr>\n",
       "      <th>239</th>\n",
       "      <td>589</td>\n",
       "      <td>Botlokwa Hospital</td>\n",
       "      <td>29.74272</td>\n",
       "      <td>-23.4923</td>\n",
       "      <td>Public Hospital</td>\n",
       "      <td>Limpopo</td>\n",
       "      <td>Capricorn District Municipality</td>\n",
       "      <td>Molemole LM</td>\n",
       "      <td>1330436.0</td>\n",
       "      <td>NaN</td>\n",
       "      <td>NaN</td>\n",
       "      <td>NaN</td>\n",
       "      <td>NaN</td>\n",
       "      <td>NaN</td>\n",
       "    </tr>\n",
       "    <tr>\n",
       "      <th>240</th>\n",
       "      <td>594</td>\n",
       "      <td>Seshego Hospital</td>\n",
       "      <td>29.396878</td>\n",
       "      <td>-23.8548</td>\n",
       "      <td>Public Hospital</td>\n",
       "      <td>Limpopo</td>\n",
       "      <td>Capricorn District Municipality</td>\n",
       "      <td>Polokwane LM</td>\n",
       "      <td>1330436.0</td>\n",
       "      <td>NaN</td>\n",
       "      <td>NaN</td>\n",
       "      <td>NaN</td>\n",
       "      <td>NaN</td>\n",
       "      <td>NaN</td>\n",
       "    </tr>\n",
       "    <tr>\n",
       "      <th>241</th>\n",
       "      <td>596</td>\n",
       "      <td>WF Knobel Hospital</td>\n",
       "      <td>29.12057</td>\n",
       "      <td>-23.634</td>\n",
       "      <td>Public Hospital</td>\n",
       "      <td>Limpopo</td>\n",
       "      <td>Capricorn District Municipality</td>\n",
       "      <td>Polokwane LM</td>\n",
       "      <td>1330436.0</td>\n",
       "      <td>NaN</td>\n",
       "      <td>NaN</td>\n",
       "      <td>NaN</td>\n",
       "      <td>NaN</td>\n",
       "      <td>NaN</td>\n",
       "    </tr>\n",
       "    <tr>\n",
       "      <th>242</th>\n",
       "      <td>597</td>\n",
       "      <td>ML Malatjie Hospital</td>\n",
       "      <td>31.03717</td>\n",
       "      <td>-23.9253</td>\n",
       "      <td>Public Hospital</td>\n",
       "      <td>Limpopo</td>\n",
       "      <td>Mopani District Municipality</td>\n",
       "      <td>Ba-Phalaborwa LM</td>\n",
       "      <td>1159185.0</td>\n",
       "      <td>NaN</td>\n",
       "      <td>NaN</td>\n",
       "      <td>NaN</td>\n",
       "      <td>NaN</td>\n",
       "      <td>NaN</td>\n",
       "    </tr>\n",
       "    <tr>\n",
       "      <th>243</th>\n",
       "      <td>599</td>\n",
       "      <td>Nkhensani Hospital</td>\n",
       "      <td>30.69215</td>\n",
       "      <td>-23.3125</td>\n",
       "      <td>Public Hospital</td>\n",
       "      <td>Limpopo</td>\n",
       "      <td>Mopani District Municipality</td>\n",
       "      <td>Greater Giyani LM</td>\n",
       "      <td>1159185.0</td>\n",
       "      <td>NaN</td>\n",
       "      <td>NaN</td>\n",
       "      <td>NaN</td>\n",
       "      <td>NaN</td>\n",
       "      <td>NaN</td>\n",
       "    </tr>\n",
       "    <tr>\n",
       "      <th>244</th>\n",
       "      <td>600</td>\n",
       "      <td>Kgapane Hospital</td>\n",
       "      <td>30.21861</td>\n",
       "      <td>-23.6477</td>\n",
       "      <td>Public Hospital</td>\n",
       "      <td>Limpopo</td>\n",
       "      <td>Mopani District Municipality</td>\n",
       "      <td>Greater Letaba LM</td>\n",
       "      <td>1159185.0</td>\n",
       "      <td>NaN</td>\n",
       "      <td>NaN</td>\n",
       "      <td>NaN</td>\n",
       "      <td>NaN</td>\n",
       "      <td>NaN</td>\n",
       "    </tr>\n",
       "    <tr>\n",
       "      <th>245</th>\n",
       "      <td>601</td>\n",
       "      <td>Dr CN Phatudi Hospital</td>\n",
       "      <td>30.28098</td>\n",
       "      <td>-24.0265</td>\n",
       "      <td>Public Hospital</td>\n",
       "      <td>Limpopo</td>\n",
       "      <td>Mopani District Municipality</td>\n",
       "      <td>Greater Tzaneen LM</td>\n",
       "      <td>1159185.0</td>\n",
       "      <td>NaN</td>\n",
       "      <td>NaN</td>\n",
       "      <td>NaN</td>\n",
       "      <td>NaN</td>\n",
       "      <td>NaN</td>\n",
       "    </tr>\n",
       "    <tr>\n",
       "      <th>246</th>\n",
       "      <td>605</td>\n",
       "      <td>Van Velden Mem Hospital</td>\n",
       "      <td>30.16427</td>\n",
       "      <td>-23.8345</td>\n",
       "      <td>Public Hospital</td>\n",
       "      <td>Limpopo</td>\n",
       "      <td>Mopani District Municipality</td>\n",
       "      <td>Greater Tzaneen LM</td>\n",
       "      <td>1159185.0</td>\n",
       "      <td>NaN</td>\n",
       "      <td>NaN</td>\n",
       "      <td>NaN</td>\n",
       "      <td>NaN</td>\n",
       "      <td>NaN</td>\n",
       "    </tr>\n",
       "    <tr>\n",
       "      <th>247</th>\n",
       "      <td>606</td>\n",
       "      <td>Sekororo Hospital</td>\n",
       "      <td>30.44767</td>\n",
       "      <td>-24.2515</td>\n",
       "      <td>Public Hospital</td>\n",
       "      <td>Limpopo</td>\n",
       "      <td>Mopani District Municipality</td>\n",
       "      <td>Maruleng LM</td>\n",
       "      <td>1159185.0</td>\n",
       "      <td>NaN</td>\n",
       "      <td>NaN</td>\n",
       "      <td>NaN</td>\n",
       "      <td>NaN</td>\n",
       "      <td>NaN</td>\n",
       "    </tr>\n",
       "    <tr>\n",
       "      <th>248</th>\n",
       "      <td>607</td>\n",
       "      <td>Groblersdal Hospital</td>\n",
       "      <td>29.40387</td>\n",
       "      <td>-25.1762</td>\n",
       "      <td>Public Hospital</td>\n",
       "      <td>Limpopo</td>\n",
       "      <td>Sekhukhune District Municipality</td>\n",
       "      <td>E Motsoaledi LM</td>\n",
       "      <td>1169762.0</td>\n",
       "      <td>NaN</td>\n",
       "      <td>NaN</td>\n",
       "      <td>NaN</td>\n",
       "      <td>NaN</td>\n",
       "      <td>NaN</td>\n",
       "    </tr>\n",
       "    <tr>\n",
       "      <th>249</th>\n",
       "      <td>609</td>\n",
       "      <td>Matlala Hospital</td>\n",
       "      <td>29.50233</td>\n",
       "      <td>-24.8321</td>\n",
       "      <td>Public Hospital</td>\n",
       "      <td>Limpopo</td>\n",
       "      <td>Sekhukhune District Municipality</td>\n",
       "      <td>Ephraim Mogale LM</td>\n",
       "      <td>1169762.0</td>\n",
       "      <td>NaN</td>\n",
       "      <td>NaN</td>\n",
       "      <td>NaN</td>\n",
       "      <td>NaN</td>\n",
       "      <td>NaN</td>\n",
       "    </tr>\n",
       "    <tr>\n",
       "      <th>250</th>\n",
       "      <td>610</td>\n",
       "      <td>Dilokong Hospital</td>\n",
       "      <td>30.17051</td>\n",
       "      <td>-24.6141</td>\n",
       "      <td>Public Hospital</td>\n",
       "      <td>Limpopo</td>\n",
       "      <td>Sekhukhune District Municipality</td>\n",
       "      <td>Fetakgomo Tubatse LM</td>\n",
       "      <td>1169762.0</td>\n",
       "      <td>NaN</td>\n",
       "      <td>NaN</td>\n",
       "      <td>NaN</td>\n",
       "      <td>NaN</td>\n",
       "      <td>NaN</td>\n",
       "    </tr>\n",
       "    <tr>\n",
       "      <th>251</th>\n",
       "      <td>611</td>\n",
       "      <td>Mecklenburg Hospital</td>\n",
       "      <td>30.072501</td>\n",
       "      <td>-24.3853</td>\n",
       "      <td>Public Hospital</td>\n",
       "      <td>Limpopo</td>\n",
       "      <td>Sekhukhune District Municipality</td>\n",
       "      <td>Fetakgomo Tubatse LM</td>\n",
       "      <td>1169762.0</td>\n",
       "      <td>NaN</td>\n",
       "      <td>NaN</td>\n",
       "      <td>NaN</td>\n",
       "      <td>NaN</td>\n",
       "      <td>NaN</td>\n",
       "    </tr>\n",
       "    <tr>\n",
       "      <th>252</th>\n",
       "      <td>612</td>\n",
       "      <td>Jane Furse Hospital</td>\n",
       "      <td>29.86767</td>\n",
       "      <td>-24.7638</td>\n",
       "      <td>Public Hospital</td>\n",
       "      <td>Limpopo</td>\n",
       "      <td>Sekhukhune District Municipality</td>\n",
       "      <td>Makhuduthamaga LM</td>\n",
       "      <td>1169762.0</td>\n",
       "      <td>NaN</td>\n",
       "      <td>NaN</td>\n",
       "      <td>NaN</td>\n",
       "      <td>NaN</td>\n",
       "      <td>NaN</td>\n",
       "    </tr>\n",
       "    <tr>\n",
       "      <th>253</th>\n",
       "      <td>614</td>\n",
       "      <td>Malamulele Hospital</td>\n",
       "      <td>30.69669</td>\n",
       "      <td>-22.9969</td>\n",
       "      <td>Public Hospital</td>\n",
       "      <td>Limpopo</td>\n",
       "      <td>Vhembe District Municipality</td>\n",
       "      <td>Collins Chabane LM</td>\n",
       "      <td>1393949.0</td>\n",
       "      <td>NaN</td>\n",
       "      <td>NaN</td>\n",
       "      <td>NaN</td>\n",
       "      <td>NaN</td>\n",
       "      <td>NaN</td>\n",
       "    </tr>\n",
       "    <tr>\n",
       "      <th>254</th>\n",
       "      <td>615</td>\n",
       "      <td>Elim Hospital</td>\n",
       "      <td>30.05617</td>\n",
       "      <td>-23.154</td>\n",
       "      <td>Public Hospital</td>\n",
       "      <td>Limpopo</td>\n",
       "      <td>Vhembe District Municipality</td>\n",
       "      <td>Makhado LM</td>\n",
       "      <td>1393949.0</td>\n",
       "      <td>NaN</td>\n",
       "      <td>NaN</td>\n",
       "      <td>NaN</td>\n",
       "      <td>NaN</td>\n",
       "      <td>NaN</td>\n",
       "    </tr>\n",
       "    <tr>\n",
       "      <th>255</th>\n",
       "      <td>616</td>\n",
       "      <td>L Trichardt Hospital</td>\n",
       "      <td>29.90614</td>\n",
       "      <td>-23.0291</td>\n",
       "      <td>Public Hospital</td>\n",
       "      <td>Limpopo</td>\n",
       "      <td>Vhembe District Municipality</td>\n",
       "      <td>Makhado LM</td>\n",
       "      <td>1393949.0</td>\n",
       "      <td>NaN</td>\n",
       "      <td>NaN</td>\n",
       "      <td>NaN</td>\n",
       "      <td>NaN</td>\n",
       "      <td>NaN</td>\n",
       "    </tr>\n",
       "    <tr>\n",
       "      <th>256</th>\n",
       "      <td>619</td>\n",
       "      <td>Siloam Hospital</td>\n",
       "      <td>30.19422</td>\n",
       "      <td>-22.8994</td>\n",
       "      <td>Public Hospital</td>\n",
       "      <td>Limpopo</td>\n",
       "      <td>Vhembe District Municipality</td>\n",
       "      <td>Makhado LM</td>\n",
       "      <td>1393949.0</td>\n",
       "      <td>NaN</td>\n",
       "      <td>NaN</td>\n",
       "      <td>NaN</td>\n",
       "      <td>NaN</td>\n",
       "      <td>NaN</td>\n",
       "    </tr>\n",
       "    <tr>\n",
       "      <th>257</th>\n",
       "      <td>620</td>\n",
       "      <td>Messina Hospital</td>\n",
       "      <td>30.04285</td>\n",
       "      <td>-22.3416</td>\n",
       "      <td>Public Hospital</td>\n",
       "      <td>Limpopo</td>\n",
       "      <td>Vhembe District Municipality</td>\n",
       "      <td>Musina LM</td>\n",
       "      <td>1393949.0</td>\n",
       "      <td>NaN</td>\n",
       "      <td>NaN</td>\n",
       "      <td>NaN</td>\n",
       "      <td>NaN</td>\n",
       "      <td>NaN</td>\n",
       "    </tr>\n",
       "    <tr>\n",
       "      <th>258</th>\n",
       "      <td>621</td>\n",
       "      <td>D Fraser Hospital</td>\n",
       "      <td>30.479815</td>\n",
       "      <td>-22.8886</td>\n",
       "      <td>Public Hospital</td>\n",
       "      <td>Limpopo</td>\n",
       "      <td>Vhembe District Municipality</td>\n",
       "      <td>Thulamela LM</td>\n",
       "      <td>1393949.0</td>\n",
       "      <td>NaN</td>\n",
       "      <td>NaN</td>\n",
       "      <td>NaN</td>\n",
       "      <td>NaN</td>\n",
       "      <td>NaN</td>\n",
       "    </tr>\n",
       "    <tr>\n",
       "      <th>259</th>\n",
       "      <td>625</td>\n",
       "      <td>Warmbaths Hospital</td>\n",
       "      <td>28.28873</td>\n",
       "      <td>-24.8859</td>\n",
       "      <td>Public Hospital</td>\n",
       "      <td>Limpopo</td>\n",
       "      <td>Waterberg District Municipality</td>\n",
       "      <td>Bela-Bela LM</td>\n",
       "      <td>745758.0</td>\n",
       "      <td>NaN</td>\n",
       "      <td>NaN</td>\n",
       "      <td>NaN</td>\n",
       "      <td>NaN</td>\n",
       "      <td>NaN</td>\n",
       "    </tr>\n",
       "    <tr>\n",
       "      <th>260</th>\n",
       "      <td>626</td>\n",
       "      <td>Ellisras Hospital</td>\n",
       "      <td>27.70333</td>\n",
       "      <td>-23.678</td>\n",
       "      <td>Public Hospital</td>\n",
       "      <td>Limpopo</td>\n",
       "      <td>Waterberg District Municipality</td>\n",
       "      <td>Lephalale LM</td>\n",
       "      <td>745758.0</td>\n",
       "      <td>NaN</td>\n",
       "      <td>NaN</td>\n",
       "      <td>NaN</td>\n",
       "      <td>NaN</td>\n",
       "      <td>NaN</td>\n",
       "    </tr>\n",
       "    <tr>\n",
       "      <th>261</th>\n",
       "      <td>628</td>\n",
       "      <td>Witpoort Hospital</td>\n",
       "      <td>28.01118</td>\n",
       "      <td>-23.3344</td>\n",
       "      <td>Public Hospital</td>\n",
       "      <td>Limpopo</td>\n",
       "      <td>Waterberg District Municipality</td>\n",
       "      <td>Lephalale LM</td>\n",
       "      <td>745758.0</td>\n",
       "      <td>NaN</td>\n",
       "      <td>NaN</td>\n",
       "      <td>NaN</td>\n",
       "      <td>NaN</td>\n",
       "      <td>NaN</td>\n",
       "    </tr>\n",
       "    <tr>\n",
       "      <th>262</th>\n",
       "      <td>630</td>\n",
       "      <td>G Masebe Hospital</td>\n",
       "      <td>28.692892</td>\n",
       "      <td>-23.8753</td>\n",
       "      <td>Public Hospital</td>\n",
       "      <td>Limpopo</td>\n",
       "      <td>Waterberg District Municipality</td>\n",
       "      <td>Mogalakwena LM</td>\n",
       "      <td>745758.0</td>\n",
       "      <td>NaN</td>\n",
       "      <td>NaN</td>\n",
       "      <td>NaN</td>\n",
       "      <td>NaN</td>\n",
       "      <td>NaN</td>\n",
       "    </tr>\n",
       "    <tr>\n",
       "      <th>263</th>\n",
       "      <td>632</td>\n",
       "      <td>Voortrekker Hospital</td>\n",
       "      <td>29.01405</td>\n",
       "      <td>-24.1962</td>\n",
       "      <td>Public Hospital</td>\n",
       "      <td>Limpopo</td>\n",
       "      <td>Waterberg District Municipality</td>\n",
       "      <td>Mogalakwena LM</td>\n",
       "      <td>745758.0</td>\n",
       "      <td>NaN</td>\n",
       "      <td>NaN</td>\n",
       "      <td>NaN</td>\n",
       "      <td>NaN</td>\n",
       "      <td>NaN</td>\n",
       "    </tr>\n",
       "    <tr>\n",
       "      <th>264</th>\n",
       "      <td>634</td>\n",
       "      <td>FH Odendaal Hospital</td>\n",
       "      <td>28.42212</td>\n",
       "      <td>-24.7014</td>\n",
       "      <td>Public Hospital</td>\n",
       "      <td>Limpopo</td>\n",
       "      <td>Waterberg District Municipality</td>\n",
       "      <td>Mookgophong/Modimolle LM</td>\n",
       "      <td>745758.0</td>\n",
       "      <td>NaN</td>\n",
       "      <td>NaN</td>\n",
       "      <td>NaN</td>\n",
       "      <td>NaN</td>\n",
       "      <td>NaN</td>\n",
       "    </tr>\n",
       "    <tr>\n",
       "      <th>265</th>\n",
       "      <td>641</td>\n",
       "      <td>Thabazimbi Hospital</td>\n",
       "      <td>27.4069</td>\n",
       "      <td>-24.5987</td>\n",
       "      <td>Public Hospital</td>\n",
       "      <td>Limpopo</td>\n",
       "      <td>Waterberg District Municipality</td>\n",
       "      <td>Thabazimbi LM</td>\n",
       "      <td>745758.0</td>\n",
       "      <td>NaN</td>\n",
       "      <td>NaN</td>\n",
       "      <td>NaN</td>\n",
       "      <td>NaN</td>\n",
       "      <td>NaN</td>\n",
       "    </tr>\n",
       "    <tr>\n",
       "      <th>266</th>\n",
       "      <td>633</td>\n",
       "      <td>FH O MDR Hospital</td>\n",
       "      <td>28.39456</td>\n",
       "      <td>-24.7077</td>\n",
       "      <td>Public Hospital</td>\n",
       "      <td>Limpopo</td>\n",
       "      <td>Waterberg District Municipality</td>\n",
       "      <td>Mookgophong/Modimolle LM</td>\n",
       "      <td>745758.0</td>\n",
       "      <td>NaN</td>\n",
       "      <td>NaN</td>\n",
       "      <td>NaN</td>\n",
       "      <td>NaN</td>\n",
       "      <td>NaN</td>\n",
       "    </tr>\n",
       "    <tr>\n",
       "      <th>267</th>\n",
       "      <td>587</td>\n",
       "      <td>Thabamoopo Hospital</td>\n",
       "      <td>29.54406</td>\n",
       "      <td>-24.3032</td>\n",
       "      <td>Public Hospital</td>\n",
       "      <td>Limpopo</td>\n",
       "      <td>Capricorn District Municipality</td>\n",
       "      <td>Lepelle-Nkumpi LM</td>\n",
       "      <td>1330436.0</td>\n",
       "      <td>NaN</td>\n",
       "      <td>NaN</td>\n",
       "      <td>NaN</td>\n",
       "      <td>NaN</td>\n",
       "      <td>NaN</td>\n",
       "    </tr>\n",
       "    <tr>\n",
       "      <th>268</th>\n",
       "      <td>598</td>\n",
       "      <td>Evuxakeni Hospital</td>\n",
       "      <td>30.72358</td>\n",
       "      <td>-23.3222</td>\n",
       "      <td>Public Hospital</td>\n",
       "      <td>Limpopo</td>\n",
       "      <td>Mopani District Municipality</td>\n",
       "      <td>Greater Giyani LM</td>\n",
       "      <td>1159185.0</td>\n",
       "      <td>NaN</td>\n",
       "      <td>NaN</td>\n",
       "      <td>NaN</td>\n",
       "      <td>NaN</td>\n",
       "      <td>NaN</td>\n",
       "    </tr>\n",
       "    <tr>\n",
       "      <th>269</th>\n",
       "      <td>622</td>\n",
       "      <td>Hayani Hospital</td>\n",
       "      <td>30.48536</td>\n",
       "      <td>-22.9409</td>\n",
       "      <td>Public Hospital</td>\n",
       "      <td>Limpopo</td>\n",
       "      <td>Vhembe District Municipality</td>\n",
       "      <td>Thulamela LM</td>\n",
       "      <td>1393949.0</td>\n",
       "      <td>NaN</td>\n",
       "      <td>NaN</td>\n",
       "      <td>NaN</td>\n",
       "      <td>NaN</td>\n",
       "      <td>NaN</td>\n",
       "    </tr>\n",
       "    <tr>\n",
       "      <th>270</th>\n",
       "      <td>602</td>\n",
       "      <td>Letaba Hospital</td>\n",
       "      <td>30.26933</td>\n",
       "      <td>-23.8741</td>\n",
       "      <td>Public Hospital</td>\n",
       "      <td>Limpopo</td>\n",
       "      <td>Mopani District Municipality</td>\n",
       "      <td>Greater Tzaneen LM</td>\n",
       "      <td>1159185.0</td>\n",
       "      <td>NaN</td>\n",
       "      <td>NaN</td>\n",
       "      <td>NaN</td>\n",
       "      <td>NaN</td>\n",
       "      <td>NaN</td>\n",
       "    </tr>\n",
       "    <tr>\n",
       "      <th>271</th>\n",
       "      <td>608</td>\n",
       "      <td>Philadelphia Hospital</td>\n",
       "      <td>29.144713</td>\n",
       "      <td>-25.2581</td>\n",
       "      <td>Public Hospital</td>\n",
       "      <td>Limpopo</td>\n",
       "      <td>Sekhukhune District Municipality</td>\n",
       "      <td>E Motsoaledi LM</td>\n",
       "      <td>1169762.0</td>\n",
       "      <td>NaN</td>\n",
       "      <td>NaN</td>\n",
       "      <td>NaN</td>\n",
       "      <td>NaN</td>\n",
       "      <td>NaN</td>\n",
       "    </tr>\n",
       "    <tr>\n",
       "      <th>272</th>\n",
       "      <td>613</td>\n",
       "      <td>St Rita's Hospital</td>\n",
       "      <td>29.80403</td>\n",
       "      <td>-24.8446</td>\n",
       "      <td>Public Hospital</td>\n",
       "      <td>Limpopo</td>\n",
       "      <td>Sekhukhune District Municipality</td>\n",
       "      <td>Makhuduthamaga LM</td>\n",
       "      <td>1169762.0</td>\n",
       "      <td>NaN</td>\n",
       "      <td>NaN</td>\n",
       "      <td>NaN</td>\n",
       "      <td>NaN</td>\n",
       "      <td>NaN</td>\n",
       "    </tr>\n",
       "    <tr>\n",
       "      <th>273</th>\n",
       "      <td>623</td>\n",
       "      <td>Tshilidzini Hospital</td>\n",
       "      <td>30.41415</td>\n",
       "      <td>-22.9947</td>\n",
       "      <td>Public Hospital</td>\n",
       "      <td>Limpopo</td>\n",
       "      <td>Vhembe District Municipality</td>\n",
       "      <td>Thulamela LM</td>\n",
       "      <td>1393949.0</td>\n",
       "      <td>NaN</td>\n",
       "      <td>NaN</td>\n",
       "      <td>NaN</td>\n",
       "      <td>NaN</td>\n",
       "      <td>NaN</td>\n",
       "    </tr>\n",
       "    <tr>\n",
       "      <th>274</th>\n",
       "      <td>631</td>\n",
       "      <td>Mokopane Hospital</td>\n",
       "      <td>28.989183</td>\n",
       "      <td>-24.1553</td>\n",
       "      <td>Public Hospital</td>\n",
       "      <td>Limpopo</td>\n",
       "      <td>Waterberg District Municipality</td>\n",
       "      <td>Mogalakwena LM</td>\n",
       "      <td>745758.0</td>\n",
       "      <td>NaN</td>\n",
       "      <td>NaN</td>\n",
       "      <td>NaN</td>\n",
       "      <td>NaN</td>\n",
       "      <td>NaN</td>\n",
       "    </tr>\n",
       "    <tr>\n",
       "      <th>275</th>\n",
       "      <td>590</td>\n",
       "      <td>Mankweng Hospital</td>\n",
       "      <td>29.725885</td>\n",
       "      <td>-23.8808</td>\n",
       "      <td>Public Hospital</td>\n",
       "      <td>Limpopo</td>\n",
       "      <td>Capricorn District Municipality</td>\n",
       "      <td>Polokwane LM</td>\n",
       "      <td>1330436.0</td>\n",
       "      <td>NaN</td>\n",
       "      <td>NaN</td>\n",
       "      <td>NaN</td>\n",
       "      <td>NaN</td>\n",
       "      <td>NaN</td>\n",
       "    </tr>\n",
       "    <tr>\n",
       "      <th>276</th>\n",
       "      <td>593</td>\n",
       "      <td>Pietersburg Hospital</td>\n",
       "      <td>29.456908</td>\n",
       "      <td>-23.8958</td>\n",
       "      <td>Public Hospital</td>\n",
       "      <td>Limpopo</td>\n",
       "      <td>Capricorn District Municipality</td>\n",
       "      <td>Polokwane LM</td>\n",
       "      <td>1330436.0</td>\n",
       "      <td>NaN</td>\n",
       "      <td>NaN</td>\n",
       "      <td>NaN</td>\n",
       "      <td>NaN</td>\n",
       "      <td>NaN</td>\n",
       "    </tr>\n",
       "  </tbody>\n",
       "</table>\n",
       "</div>"
      ],
      "text/plain": [
       "      ID                     Name       Long       Lat         Category  \\\n",
       "235  583    Helene Franz Hospital   29.11313  -23.2838  Public Hospital   \n",
       "236  584  Dr Machupe Mem Hospital     29.335  -24.3125  Public Hospital   \n",
       "237  585     Lebowakgomo Hospital    29.5285  -24.2956  Public Hospital   \n",
       "238  588       Zebediela Hospital   29.40445  -24.4818  Public Hospital   \n",
       "239  589        Botlokwa Hospital   29.74272  -23.4923  Public Hospital   \n",
       "240  594         Seshego Hospital  29.396878  -23.8548  Public Hospital   \n",
       "241  596       WF Knobel Hospital   29.12057   -23.634  Public Hospital   \n",
       "242  597     ML Malatjie Hospital   31.03717  -23.9253  Public Hospital   \n",
       "243  599       Nkhensani Hospital   30.69215  -23.3125  Public Hospital   \n",
       "244  600         Kgapane Hospital   30.21861  -23.6477  Public Hospital   \n",
       "245  601   Dr CN Phatudi Hospital   30.28098  -24.0265  Public Hospital   \n",
       "246  605  Van Velden Mem Hospital   30.16427  -23.8345  Public Hospital   \n",
       "247  606        Sekororo Hospital   30.44767  -24.2515  Public Hospital   \n",
       "248  607     Groblersdal Hospital   29.40387  -25.1762  Public Hospital   \n",
       "249  609         Matlala Hospital   29.50233  -24.8321  Public Hospital   \n",
       "250  610        Dilokong Hospital   30.17051  -24.6141  Public Hospital   \n",
       "251  611     Mecklenburg Hospital  30.072501  -24.3853  Public Hospital   \n",
       "252  612      Jane Furse Hospital   29.86767  -24.7638  Public Hospital   \n",
       "253  614      Malamulele Hospital   30.69669  -22.9969  Public Hospital   \n",
       "254  615            Elim Hospital   30.05617   -23.154  Public Hospital   \n",
       "255  616     L Trichardt Hospital   29.90614  -23.0291  Public Hospital   \n",
       "256  619          Siloam Hospital   30.19422  -22.8994  Public Hospital   \n",
       "257  620         Messina Hospital   30.04285  -22.3416  Public Hospital   \n",
       "258  621        D Fraser Hospital  30.479815  -22.8886  Public Hospital   \n",
       "259  625       Warmbaths Hospital   28.28873  -24.8859  Public Hospital   \n",
       "260  626        Ellisras Hospital   27.70333   -23.678  Public Hospital   \n",
       "261  628        Witpoort Hospital   28.01118  -23.3344  Public Hospital   \n",
       "262  630        G Masebe Hospital  28.692892  -23.8753  Public Hospital   \n",
       "263  632     Voortrekker Hospital   29.01405  -24.1962  Public Hospital   \n",
       "264  634     FH Odendaal Hospital   28.42212  -24.7014  Public Hospital   \n",
       "265  641      Thabazimbi Hospital    27.4069  -24.5987  Public Hospital   \n",
       "266  633        FH O MDR Hospital   28.39456  -24.7077  Public Hospital   \n",
       "267  587      Thabamoopo Hospital   29.54406  -24.3032  Public Hospital   \n",
       "268  598       Evuxakeni Hospital   30.72358  -23.3222  Public Hospital   \n",
       "269  622          Hayani Hospital   30.48536  -22.9409  Public Hospital   \n",
       "270  602          Letaba Hospital   30.26933  -23.8741  Public Hospital   \n",
       "271  608    Philadelphia Hospital  29.144713  -25.2581  Public Hospital   \n",
       "272  613       St Rita's Hospital   29.80403  -24.8446  Public Hospital   \n",
       "273  623     Tshilidzini Hospital   30.41415  -22.9947  Public Hospital   \n",
       "274  631        Mokopane Hospital  28.989183  -24.1553  Public Hospital   \n",
       "275  590        Mankweng Hospital  29.725885  -23.8808  Public Hospital   \n",
       "276  593     Pietersburg Hospital  29.456908  -23.8958  Public Hospital   \n",
       "\n",
       "    Province                          district               subdistrict  \\\n",
       "235  Limpopo   Capricorn District Municipality               Blouberg LM   \n",
       "236  Limpopo   Capricorn District Municipality         Lepelle-Nkumpi LM   \n",
       "237  Limpopo   Capricorn District Municipality         Lepelle-Nkumpi LM   \n",
       "238  Limpopo   Capricorn District Municipality         Lepelle-Nkumpi LM   \n",
       "239  Limpopo   Capricorn District Municipality               Molemole LM   \n",
       "240  Limpopo   Capricorn District Municipality              Polokwane LM   \n",
       "241  Limpopo   Capricorn District Municipality              Polokwane LM   \n",
       "242  Limpopo      Mopani District Municipality          Ba-Phalaborwa LM   \n",
       "243  Limpopo      Mopani District Municipality         Greater Giyani LM   \n",
       "244  Limpopo      Mopani District Municipality         Greater Letaba LM   \n",
       "245  Limpopo      Mopani District Municipality        Greater Tzaneen LM   \n",
       "246  Limpopo      Mopani District Municipality        Greater Tzaneen LM   \n",
       "247  Limpopo      Mopani District Municipality               Maruleng LM   \n",
       "248  Limpopo  Sekhukhune District Municipality           E Motsoaledi LM   \n",
       "249  Limpopo  Sekhukhune District Municipality         Ephraim Mogale LM   \n",
       "250  Limpopo  Sekhukhune District Municipality      Fetakgomo Tubatse LM   \n",
       "251  Limpopo  Sekhukhune District Municipality      Fetakgomo Tubatse LM   \n",
       "252  Limpopo  Sekhukhune District Municipality         Makhuduthamaga LM   \n",
       "253  Limpopo      Vhembe District Municipality        Collins Chabane LM   \n",
       "254  Limpopo      Vhembe District Municipality                Makhado LM   \n",
       "255  Limpopo      Vhembe District Municipality                Makhado LM   \n",
       "256  Limpopo      Vhembe District Municipality                Makhado LM   \n",
       "257  Limpopo      Vhembe District Municipality                 Musina LM   \n",
       "258  Limpopo      Vhembe District Municipality              Thulamela LM   \n",
       "259  Limpopo   Waterberg District Municipality              Bela-Bela LM   \n",
       "260  Limpopo   Waterberg District Municipality              Lephalale LM   \n",
       "261  Limpopo   Waterberg District Municipality              Lephalale LM   \n",
       "262  Limpopo   Waterberg District Municipality            Mogalakwena LM   \n",
       "263  Limpopo   Waterberg District Municipality            Mogalakwena LM   \n",
       "264  Limpopo   Waterberg District Municipality  Mookgophong/Modimolle LM   \n",
       "265  Limpopo   Waterberg District Municipality             Thabazimbi LM   \n",
       "266  Limpopo   Waterberg District Municipality  Mookgophong/Modimolle LM   \n",
       "267  Limpopo   Capricorn District Municipality         Lepelle-Nkumpi LM   \n",
       "268  Limpopo      Mopani District Municipality         Greater Giyani LM   \n",
       "269  Limpopo      Vhembe District Municipality              Thulamela LM   \n",
       "270  Limpopo      Mopani District Municipality        Greater Tzaneen LM   \n",
       "271  Limpopo  Sekhukhune District Municipality           E Motsoaledi LM   \n",
       "272  Limpopo  Sekhukhune District Municipality         Makhuduthamaga LM   \n",
       "273  Limpopo      Vhembe District Municipality              Thulamela LM   \n",
       "274  Limpopo   Waterberg District Municipality            Mogalakwena LM   \n",
       "275  Limpopo   Capricorn District Municipality              Polokwane LM   \n",
       "276  Limpopo   Capricorn District Municipality              Polokwane LM   \n",
       "\n",
       "     district_estimated_population   service_offered_by_hospital  \\\n",
       "235                      1330436.0                           NaN   \n",
       "236                      1330436.0                           NaN   \n",
       "237                      1330436.0                           NaN   \n",
       "238                      1330436.0                           NaN   \n",
       "239                      1330436.0                           NaN   \n",
       "240                      1330436.0                           NaN   \n",
       "241                      1330436.0                           NaN   \n",
       "242                      1159185.0                           NaN   \n",
       "243                      1159185.0                           NaN   \n",
       "244                      1159185.0                           NaN   \n",
       "245                      1159185.0                           NaN   \n",
       "246                      1159185.0                           NaN   \n",
       "247                      1159185.0                           NaN   \n",
       "248                      1169762.0                           NaN   \n",
       "249                      1169762.0                           NaN   \n",
       "250                      1169762.0                           NaN   \n",
       "251                      1169762.0                           NaN   \n",
       "252                      1169762.0                           NaN   \n",
       "253                      1393949.0                           NaN   \n",
       "254                      1393949.0                           NaN   \n",
       "255                      1393949.0                           NaN   \n",
       "256                      1393949.0                           NaN   \n",
       "257                      1393949.0                           NaN   \n",
       "258                      1393949.0                           NaN   \n",
       "259                       745758.0                           NaN   \n",
       "260                       745758.0                           NaN   \n",
       "261                       745758.0                           NaN   \n",
       "262                       745758.0                           NaN   \n",
       "263                       745758.0                           NaN   \n",
       "264                       745758.0                           NaN   \n",
       "265                       745758.0                           NaN   \n",
       "266                       745758.0                           NaN   \n",
       "267                      1330436.0                           NaN   \n",
       "268                      1159185.0                           NaN   \n",
       "269                      1393949.0                           NaN   \n",
       "270                      1159185.0                           NaN   \n",
       "271                      1169762.0                           NaN   \n",
       "272                      1169762.0                           NaN   \n",
       "273                      1393949.0                           NaN   \n",
       "274                       745758.0                           NaN   \n",
       "275                      1330436.0                           NaN   \n",
       "276                      1330436.0                           NaN   \n",
       "\n",
       "     size_hospital  number_of_beds  number_of_practitioners  webpage  \n",
       "235            NaN             NaN                      NaN      NaN  \n",
       "236            NaN             NaN                      NaN      NaN  \n",
       "237            NaN             NaN                      NaN      NaN  \n",
       "238            NaN             NaN                      NaN      NaN  \n",
       "239            NaN             NaN                      NaN      NaN  \n",
       "240            NaN             NaN                      NaN      NaN  \n",
       "241            NaN             NaN                      NaN      NaN  \n",
       "242            NaN             NaN                      NaN      NaN  \n",
       "243            NaN             NaN                      NaN      NaN  \n",
       "244            NaN             NaN                      NaN      NaN  \n",
       "245            NaN             NaN                      NaN      NaN  \n",
       "246            NaN             NaN                      NaN      NaN  \n",
       "247            NaN             NaN                      NaN      NaN  \n",
       "248            NaN             NaN                      NaN      NaN  \n",
       "249            NaN             NaN                      NaN      NaN  \n",
       "250            NaN             NaN                      NaN      NaN  \n",
       "251            NaN             NaN                      NaN      NaN  \n",
       "252            NaN             NaN                      NaN      NaN  \n",
       "253            NaN             NaN                      NaN      NaN  \n",
       "254            NaN             NaN                      NaN      NaN  \n",
       "255            NaN             NaN                      NaN      NaN  \n",
       "256            NaN             NaN                      NaN      NaN  \n",
       "257            NaN             NaN                      NaN      NaN  \n",
       "258            NaN             NaN                      NaN      NaN  \n",
       "259            NaN             NaN                      NaN      NaN  \n",
       "260            NaN             NaN                      NaN      NaN  \n",
       "261            NaN             NaN                      NaN      NaN  \n",
       "262            NaN             NaN                      NaN      NaN  \n",
       "263            NaN             NaN                      NaN      NaN  \n",
       "264            NaN             NaN                      NaN      NaN  \n",
       "265            NaN             NaN                      NaN      NaN  \n",
       "266            NaN             NaN                      NaN      NaN  \n",
       "267            NaN             NaN                      NaN      NaN  \n",
       "268            NaN             NaN                      NaN      NaN  \n",
       "269            NaN             NaN                      NaN      NaN  \n",
       "270            NaN             NaN                      NaN      NaN  \n",
       "271            NaN             NaN                      NaN      NaN  \n",
       "272            NaN             NaN                      NaN      NaN  \n",
       "273            NaN             NaN                      NaN      NaN  \n",
       "274            NaN             NaN                      NaN      NaN  \n",
       "275            NaN             NaN                      NaN      NaN  \n",
       "276            NaN             NaN                      NaN      NaN  "
      ]
     },
     "execution_count": 447,
     "metadata": {},
     "output_type": "execute_result"
    }
   ],
   "source": [
    "df_hos[df_hos.Province == 'Limpopo']"
   ]
  },
  {
   "cell_type": "code",
   "execution_count": 349,
   "metadata": {},
   "outputs": [],
   "source": [
    "df_hos = df_hos.drop([' service_offered_by_hospital','size_hospital','number_of_beds',\n",
    "       'number_of_practitioners', 'webpage'],axis = 1)"
   ]
  },
  {
   "cell_type": "code",
   "execution_count": 146,
   "metadata": {},
   "outputs": [],
   "source": []
  },
  {
   "cell_type": "code",
   "execution_count": 152,
   "metadata": {},
   "outputs": [
    {
     "ename": "KeyError",
     "evalue": "'Province'",
     "output_type": "error",
     "traceback": [
      "\u001b[0;31m---------------------------------------------------------------------------\u001b[0m",
      "\u001b[0;31mKeyError\u001b[0m                                  Traceback (most recent call last)",
      "\u001b[0;32m~/.local/lib/python3.6/site-packages/pandas/core/indexes/base.py\u001b[0m in \u001b[0;36mget_loc\u001b[0;34m(self, key, method, tolerance)\u001b[0m\n\u001b[1;32m   2645\u001b[0m             \u001b[0;32mtry\u001b[0m\u001b[0;34m:\u001b[0m\u001b[0;34m\u001b[0m\u001b[0;34m\u001b[0m\u001b[0m\n\u001b[0;32m-> 2646\u001b[0;31m                 \u001b[0;32mreturn\u001b[0m \u001b[0mself\u001b[0m\u001b[0;34m.\u001b[0m\u001b[0m_engine\u001b[0m\u001b[0;34m.\u001b[0m\u001b[0mget_loc\u001b[0m\u001b[0;34m(\u001b[0m\u001b[0mkey\u001b[0m\u001b[0;34m)\u001b[0m\u001b[0;34m\u001b[0m\u001b[0;34m\u001b[0m\u001b[0m\n\u001b[0m\u001b[1;32m   2647\u001b[0m             \u001b[0;32mexcept\u001b[0m \u001b[0mKeyError\u001b[0m\u001b[0;34m:\u001b[0m\u001b[0;34m\u001b[0m\u001b[0;34m\u001b[0m\u001b[0m\n",
      "\u001b[0;32mpandas/_libs/index.pyx\u001b[0m in \u001b[0;36mpandas._libs.index.IndexEngine.get_loc\u001b[0;34m()\u001b[0m\n",
      "\u001b[0;32mpandas/_libs/index.pyx\u001b[0m in \u001b[0;36mpandas._libs.index.IndexEngine.get_loc\u001b[0;34m()\u001b[0m\n",
      "\u001b[0;32mpandas/_libs/hashtable_class_helper.pxi\u001b[0m in \u001b[0;36mpandas._libs.hashtable.PyObjectHashTable.get_item\u001b[0;34m()\u001b[0m\n",
      "\u001b[0;32mpandas/_libs/hashtable_class_helper.pxi\u001b[0m in \u001b[0;36mpandas._libs.hashtable.PyObjectHashTable.get_item\u001b[0;34m()\u001b[0m\n",
      "\u001b[0;31mKeyError\u001b[0m: 'Province'",
      "\nDuring handling of the above exception, another exception occurred:\n",
      "\u001b[0;31mKeyError\u001b[0m                                  Traceback (most recent call last)",
      "\u001b[0;32m<ipython-input-152-c2f648d97648>\u001b[0m in \u001b[0;36m<module>\u001b[0;34m\u001b[0m\n\u001b[1;32m      4\u001b[0m     \u001b[0;34m'KwaZuluNatal'\u001b[0m\u001b[0;34m:\u001b[0m\u001b[0;34m'KZN'\u001b[0m\u001b[0;34m,\u001b[0m\u001b[0;34m'Gauteng'\u001b[0m\u001b[0;34m:\u001b[0m\u001b[0;34m'GP'\u001b[0m\u001b[0;34m,\u001b[0m\u001b[0;34m'Mpumalanga'\u001b[0m\u001b[0;34m:\u001b[0m\u001b[0;34m'MP'\u001b[0m\u001b[0;34m\u001b[0m\u001b[0;34m\u001b[0m\u001b[0m\n\u001b[1;32m      5\u001b[0m }\n\u001b[0;32m----> 6\u001b[0;31m \u001b[0mdf_hos\u001b[0m\u001b[0;34m[\u001b[0m\u001b[0;34m'Province'\u001b[0m\u001b[0;34m]\u001b[0m \u001b[0;34m=\u001b[0m \u001b[0mdf\u001b[0m\u001b[0;34m[\u001b[0m\u001b[0;34m'Province'\u001b[0m\u001b[0;34m]\u001b[0m\u001b[0;34m.\u001b[0m\u001b[0mmap\u001b[0m\u001b[0;34m(\u001b[0m\u001b[0mprovinces\u001b[0m\u001b[0;34m)\u001b[0m\u001b[0;34m\u001b[0m\u001b[0;34m\u001b[0m\u001b[0m\n\u001b[0m\u001b[1;32m      7\u001b[0m \u001b[0mdf_hos\u001b[0m \u001b[0;34m=\u001b[0m \u001b[0mdf_hos\u001b[0m\u001b[0;34m.\u001b[0m\u001b[0miloc\u001b[0m\u001b[0;34m[\u001b[0m\u001b[0;34m:\u001b[0m\u001b[0;34m,\u001b[0m\u001b[0;34m[\u001b[0m\u001b[0;34m'Province'\u001b[0m\u001b[0;34m,\u001b[0m\u001b[0;34m'Long'\u001b[0m\u001b[0;34m,\u001b[0m\u001b[0;34m'Lat'\u001b[0m\u001b[0;34m]\u001b[0m\u001b[0;34m]\u001b[0m\u001b[0;34m\u001b[0m\u001b[0;34m\u001b[0m\u001b[0m\n\u001b[1;32m      8\u001b[0m \u001b[0mdf_hos\u001b[0m\u001b[0;34m\u001b[0m\u001b[0;34m\u001b[0m\u001b[0m\n",
      "\u001b[0;32m~/.local/lib/python3.6/site-packages/pandas/core/frame.py\u001b[0m in \u001b[0;36m__getitem__\u001b[0;34m(self, key)\u001b[0m\n\u001b[1;32m   2798\u001b[0m             \u001b[0;32mif\u001b[0m \u001b[0mself\u001b[0m\u001b[0;34m.\u001b[0m\u001b[0mcolumns\u001b[0m\u001b[0;34m.\u001b[0m\u001b[0mnlevels\u001b[0m \u001b[0;34m>\u001b[0m \u001b[0;36m1\u001b[0m\u001b[0;34m:\u001b[0m\u001b[0;34m\u001b[0m\u001b[0;34m\u001b[0m\u001b[0m\n\u001b[1;32m   2799\u001b[0m                 \u001b[0;32mreturn\u001b[0m \u001b[0mself\u001b[0m\u001b[0;34m.\u001b[0m\u001b[0m_getitem_multilevel\u001b[0m\u001b[0;34m(\u001b[0m\u001b[0mkey\u001b[0m\u001b[0;34m)\u001b[0m\u001b[0;34m\u001b[0m\u001b[0;34m\u001b[0m\u001b[0m\n\u001b[0;32m-> 2800\u001b[0;31m             \u001b[0mindexer\u001b[0m \u001b[0;34m=\u001b[0m \u001b[0mself\u001b[0m\u001b[0;34m.\u001b[0m\u001b[0mcolumns\u001b[0m\u001b[0;34m.\u001b[0m\u001b[0mget_loc\u001b[0m\u001b[0;34m(\u001b[0m\u001b[0mkey\u001b[0m\u001b[0;34m)\u001b[0m\u001b[0;34m\u001b[0m\u001b[0;34m\u001b[0m\u001b[0m\n\u001b[0m\u001b[1;32m   2801\u001b[0m             \u001b[0;32mif\u001b[0m \u001b[0mis_integer\u001b[0m\u001b[0;34m(\u001b[0m\u001b[0mindexer\u001b[0m\u001b[0;34m)\u001b[0m\u001b[0;34m:\u001b[0m\u001b[0;34m\u001b[0m\u001b[0;34m\u001b[0m\u001b[0m\n\u001b[1;32m   2802\u001b[0m                 \u001b[0mindexer\u001b[0m \u001b[0;34m=\u001b[0m \u001b[0;34m[\u001b[0m\u001b[0mindexer\u001b[0m\u001b[0;34m]\u001b[0m\u001b[0;34m\u001b[0m\u001b[0;34m\u001b[0m\u001b[0m\n",
      "\u001b[0;32m~/.local/lib/python3.6/site-packages/pandas/core/indexes/base.py\u001b[0m in \u001b[0;36mget_loc\u001b[0;34m(self, key, method, tolerance)\u001b[0m\n\u001b[1;32m   2646\u001b[0m                 \u001b[0;32mreturn\u001b[0m \u001b[0mself\u001b[0m\u001b[0;34m.\u001b[0m\u001b[0m_engine\u001b[0m\u001b[0;34m.\u001b[0m\u001b[0mget_loc\u001b[0m\u001b[0;34m(\u001b[0m\u001b[0mkey\u001b[0m\u001b[0;34m)\u001b[0m\u001b[0;34m\u001b[0m\u001b[0;34m\u001b[0m\u001b[0m\n\u001b[1;32m   2647\u001b[0m             \u001b[0;32mexcept\u001b[0m \u001b[0mKeyError\u001b[0m\u001b[0;34m:\u001b[0m\u001b[0;34m\u001b[0m\u001b[0;34m\u001b[0m\u001b[0m\n\u001b[0;32m-> 2648\u001b[0;31m                 \u001b[0;32mreturn\u001b[0m \u001b[0mself\u001b[0m\u001b[0;34m.\u001b[0m\u001b[0m_engine\u001b[0m\u001b[0;34m.\u001b[0m\u001b[0mget_loc\u001b[0m\u001b[0;34m(\u001b[0m\u001b[0mself\u001b[0m\u001b[0;34m.\u001b[0m\u001b[0m_maybe_cast_indexer\u001b[0m\u001b[0;34m(\u001b[0m\u001b[0mkey\u001b[0m\u001b[0;34m)\u001b[0m\u001b[0;34m)\u001b[0m\u001b[0;34m\u001b[0m\u001b[0;34m\u001b[0m\u001b[0m\n\u001b[0m\u001b[1;32m   2649\u001b[0m         \u001b[0mindexer\u001b[0m \u001b[0;34m=\u001b[0m \u001b[0mself\u001b[0m\u001b[0;34m.\u001b[0m\u001b[0mget_indexer\u001b[0m\u001b[0;34m(\u001b[0m\u001b[0;34m[\u001b[0m\u001b[0mkey\u001b[0m\u001b[0;34m]\u001b[0m\u001b[0;34m,\u001b[0m \u001b[0mmethod\u001b[0m\u001b[0;34m=\u001b[0m\u001b[0mmethod\u001b[0m\u001b[0;34m,\u001b[0m \u001b[0mtolerance\u001b[0m\u001b[0;34m=\u001b[0m\u001b[0mtolerance\u001b[0m\u001b[0;34m)\u001b[0m\u001b[0;34m\u001b[0m\u001b[0;34m\u001b[0m\u001b[0m\n\u001b[1;32m   2650\u001b[0m         \u001b[0;32mif\u001b[0m \u001b[0mindexer\u001b[0m\u001b[0;34m.\u001b[0m\u001b[0mndim\u001b[0m \u001b[0;34m>\u001b[0m \u001b[0;36m1\u001b[0m \u001b[0;32mor\u001b[0m \u001b[0mindexer\u001b[0m\u001b[0;34m.\u001b[0m\u001b[0msize\u001b[0m \u001b[0;34m>\u001b[0m \u001b[0;36m1\u001b[0m\u001b[0;34m:\u001b[0m\u001b[0;34m\u001b[0m\u001b[0;34m\u001b[0m\u001b[0m\n",
      "\u001b[0;32mpandas/_libs/index.pyx\u001b[0m in \u001b[0;36mpandas._libs.index.IndexEngine.get_loc\u001b[0;34m()\u001b[0m\n",
      "\u001b[0;32mpandas/_libs/index.pyx\u001b[0m in \u001b[0;36mpandas._libs.index.IndexEngine.get_loc\u001b[0;34m()\u001b[0m\n",
      "\u001b[0;32mpandas/_libs/hashtable_class_helper.pxi\u001b[0m in \u001b[0;36mpandas._libs.hashtable.PyObjectHashTable.get_item\u001b[0;34m()\u001b[0m\n",
      "\u001b[0;32mpandas/_libs/hashtable_class_helper.pxi\u001b[0m in \u001b[0;36mpandas._libs.hashtable.PyObjectHashTable.get_item\u001b[0;34m()\u001b[0m\n",
      "\u001b[0;31mKeyError\u001b[0m: 'Province'"
     ]
    }
   ],
   "source": [
    "provinces = {\n",
    "    'Eastern Cape':'EC','Northern Cape': 'NC','Free State':'FS',\n",
    "    'Limpopo':'LP','North West ':'NW','Western Cape ':'WC',\n",
    "    'KwaZuluNatal':'KZN','Gauteng':'GP','Mpumalanga':'MP' \n",
    "}\n",
    "df_hos['Province'] = df['Province'].map(provinces)\n",
    "df_hos = df_hos.iloc[:,['Province','Long','Lat']]\n",
    "df_hos"
   ]
  },
  {
   "cell_type": "code",
   "execution_count": null,
   "metadata": {},
   "outputs": [],
   "source": []
  }
 ],
 "metadata": {
  "kernelspec": {
   "display_name": "Python 3",
   "language": "python",
   "name": "python3"
  },
  "language_info": {
   "codemirror_mode": {
    "name": "ipython",
    "version": 3
   },
   "file_extension": ".py",
   "mimetype": "text/x-python",
   "name": "python",
   "nbconvert_exporter": "python",
   "pygments_lexer": "ipython3",
   "version": "3.6.9"
  }
 },
 "nbformat": 4,
 "nbformat_minor": 4
}
