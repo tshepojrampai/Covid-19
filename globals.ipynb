{
 "cells": [
  {
   "cell_type": "code",
   "execution_count": 1,
   "metadata": {},
   "outputs": [
    {
     "data": {
      "text/html": [
       "        <script type=\"text/javascript\">\n",
       "        window.PlotlyConfig = {MathJaxConfig: 'local'};\n",
       "        if (window.MathJax) {MathJax.Hub.Config({SVG: {font: \"STIX-Web\"}});}\n",
       "        if (typeof require !== 'undefined') {\n",
       "        require.undef(\"plotly\");\n",
       "        requirejs.config({\n",
       "            paths: {\n",
       "                'plotly': ['https://cdn.plot.ly/plotly-latest.min']\n",
       "            }\n",
       "        });\n",
       "        require(['plotly'], function(Plotly) {\n",
       "            window._Plotly = Plotly;\n",
       "        });\n",
       "        }\n",
       "        </script>\n",
       "        "
      ]
     },
     "metadata": {},
     "output_type": "display_data"
    }
   ],
   "source": [
    "import requests\n",
    "from pandas.io.json import json_normalize\n",
    "import dash\n",
    "import dash_table\n",
    "import dash_core_components as dcc\n",
    "import dash_html_components as html\n",
    "import pandas as pd\n",
    "import numpy as np\n",
    "import seaborn as sns\n",
    "import matplotlib.pyplot as plt\n",
    "import plotly.graph_objects as go\n",
    "from dash.dependencies import Input, Output\n",
    "from plotly.subplots import make_subplots\n",
    "from plotly.offline import download_plotlyjs, init_notebook_mode, plot, iplot\n",
    "import plotly as py\n",
    "import plotly.graph_objs as go\n",
    "init_notebook_mode(connected=True)"
   ]
  },
  {
   "cell_type": "code",
   "execution_count": 2,
   "metadata": {},
   "outputs": [],
   "source": [
    "#----------- Table styling ------------------\n",
    "style_cell = {\n",
    "    'fontFamily': 'Open Sans',\n",
    "    'textAlign': 'center',\n",
    "    'height': '30px',\n",
    "    'padding': '10px 22px',\n",
    "    'whiteSpace': 'inherit',\n",
    "    'overflow': 'hidden',\n",
    "                'textOverflow': 'ellipsis',\n",
    "}\n",
    "style_cell_conditional = [\n",
    "    {\n",
    "        'if': {'column_id': 'State'},\n",
    "        'textAlign': 'left'\n",
    "    },\n",
    "]\n",
    "style_header = {\n",
    "    'fontWeight': 'bold',\n",
    "    'backgroundColor': \"#3D9970\",\n",
    "    'fontSize': '16px'\n",
    "}\n",
    "style_data_conditional = [\n",
    "    {\n",
    "        'if': {'row_index': 'odd'},\n",
    "        'backgroundColor': 'rgb(248, 248, 248)'\n",
    "    }]\n",
    "style_table = {\n",
    "    'maxHeight': '70ex',\n",
    "    'overflowY': 'scroll',\n",
    "    'width': '100%',\n",
    "    'minWidth': '100%',\n",
    "}"
   ]
  },
  {
   "cell_type": "code",
   "execution_count": null,
   "metadata": {},
   "outputs": [],
   "source": []
  },
  {
   "cell_type": "code",
   "execution_count": 3,
   "metadata": {},
   "outputs": [
    {
     "name": "stderr",
     "output_type": "stream",
     "text": [
      "/home/tshepo/.local/lib/python3.6/site-packages/ipykernel_launcher.py:6: FutureWarning:\n",
      "\n",
      "pandas.io.json.json_normalize is deprecated, use pandas.json_normalize instead\n",
      "\n"
     ]
    },
    {
     "data": {
      "text/html": [
       "<div>\n",
       "<style scoped>\n",
       "    .dataframe tbody tr th:only-of-type {\n",
       "        vertical-align: middle;\n",
       "    }\n",
       "\n",
       "    .dataframe tbody tr th {\n",
       "        vertical-align: top;\n",
       "    }\n",
       "\n",
       "    .dataframe thead th {\n",
       "        text-align: right;\n",
       "    }\n",
       "</style>\n",
       "<table border=\"1\" class=\"dataframe\">\n",
       "  <thead>\n",
       "    <tr style=\"text-align: right;\">\n",
       "      <th></th>\n",
       "      <th>Country</th>\n",
       "      <th>CountryCode</th>\n",
       "      <th>NewConfirmed</th>\n",
       "      <th>TotalConfirmed</th>\n",
       "      <th>NewDeaths</th>\n",
       "      <th>TotalDeaths</th>\n",
       "      <th>NewRecovered</th>\n",
       "      <th>TotalRecovered</th>\n",
       "      <th>Date</th>\n",
       "    </tr>\n",
       "  </thead>\n",
       "  <tbody>\n",
       "    <tr>\n",
       "      <th>236</th>\n",
       "      <td>United States of America</td>\n",
       "      <td>US</td>\n",
       "      <td>0</td>\n",
       "      <td>1204351</td>\n",
       "      <td>0</td>\n",
       "      <td>71064</td>\n",
       "      <td>0</td>\n",
       "      <td>189791</td>\n",
       "      <td>2020-05-06T12:12:04Z</td>\n",
       "    </tr>\n",
       "    <tr>\n",
       "      <th>208</th>\n",
       "      <td>Spain</td>\n",
       "      <td>ES</td>\n",
       "      <td>0</td>\n",
       "      <td>219329</td>\n",
       "      <td>0</td>\n",
       "      <td>25613</td>\n",
       "      <td>0</td>\n",
       "      <td>123486</td>\n",
       "      <td>2020-05-06T12:12:04Z</td>\n",
       "    </tr>\n",
       "    <tr>\n",
       "      <th>108</th>\n",
       "      <td>Italy</td>\n",
       "      <td>IT</td>\n",
       "      <td>0</td>\n",
       "      <td>213013</td>\n",
       "      <td>0</td>\n",
       "      <td>29315</td>\n",
       "      <td>0</td>\n",
       "      <td>85231</td>\n",
       "      <td>2020-05-06T12:12:04Z</td>\n",
       "    </tr>\n",
       "    <tr>\n",
       "      <th>235</th>\n",
       "      <td>United Kingdom</td>\n",
       "      <td>GB</td>\n",
       "      <td>0</td>\n",
       "      <td>194990</td>\n",
       "      <td>0</td>\n",
       "      <td>29427</td>\n",
       "      <td>0</td>\n",
       "      <td>0</td>\n",
       "      <td>2020-05-06T12:12:04Z</td>\n",
       "    </tr>\n",
       "    <tr>\n",
       "      <th>74</th>\n",
       "      <td>France</td>\n",
       "      <td>FR</td>\n",
       "      <td>0</td>\n",
       "      <td>168935</td>\n",
       "      <td>0</td>\n",
       "      <td>25498</td>\n",
       "      <td>0</td>\n",
       "      <td>51803</td>\n",
       "      <td>2020-05-06T12:12:04Z</td>\n",
       "    </tr>\n",
       "  </tbody>\n",
       "</table>\n",
       "</div>"
      ],
      "text/plain": [
       "                      Country CountryCode  NewConfirmed  TotalConfirmed  \\\n",
       "236  United States of America          US             0         1204351   \n",
       "208                     Spain          ES             0          219329   \n",
       "108                     Italy          IT             0          213013   \n",
       "235            United Kingdom          GB             0          194990   \n",
       "74                     France          FR             0          168935   \n",
       "\n",
       "     NewDeaths  TotalDeaths  NewRecovered  TotalRecovered  \\\n",
       "236          0        71064             0          189791   \n",
       "208          0        25613             0          123486   \n",
       "108          0        29315             0           85231   \n",
       "235          0        29427             0               0   \n",
       "74           0        25498             0           51803   \n",
       "\n",
       "                     Date  \n",
       "236  2020-05-06T12:12:04Z  \n",
       "208  2020-05-06T12:12:04Z  \n",
       "108  2020-05-06T12:12:04Z  \n",
       "235  2020-05-06T12:12:04Z  \n",
       "74   2020-05-06T12:12:04Z  "
      ]
     },
     "execution_count": 3,
     "metadata": {},
     "output_type": "execute_result"
    }
   ],
   "source": [
    "#----- Global data set------\n",
    "url = 'https://api.covid19api.com/summary'\n",
    "r = requests.get(url)\n",
    "dictr = r.json()\n",
    "header = dictr['Countries']\n",
    "df = json_normalize(header)\n",
    "df = df.drop(df.index[[0,224]])\n",
    "df = df.drop(columns = 'Slug')\n",
    "df = df.sort_values(by=['TotalConfirmed'], ascending=False)\n",
    "df.head()"
   ]
  },
  {
   "cell_type": "code",
   "execution_count": 4,
   "metadata": {},
   "outputs": [],
   "source": [
    "#Summing per column\n",
    "tot_cases = df.TotalConfirmed.sum()\n",
    "nw_cases = df.NewConfirmed.sum()\n",
    "tot_deaths = df.TotalDeaths.sum()\n",
    "new_deaths = df.NewDeaths.sum()\n",
    "tot_recover = df.TotalRecovered.sum()\n",
    "new_recover = df.NewRecovered.sum()\n",
    "diff = tot_cases - nw_cases\n",
    "diff2 = tot_recover - new_recover\n",
    "diff3 = tot_deaths - new_deaths \n",
    "\n",
    "#Separating columns\n",
    "\n",
    "#Corona  cases: Total and New\n",
    "df_tot_cases = df.loc[:,['Country','TotalConfirmed']].sort_values(by='TotalConfirmed', ascending=False)\n",
    "df_new_cases = df.loc[:,['Country','NewConfirmed']]\n",
    "\n",
    "#Death Cases: Total and New \n",
    "df_tot_death = df.loc[:,['Country','TotalDeaths']]\n",
    "df_new_death = df.loc[:,['Country','NewDeaths']]\n",
    "\n",
    "#Recovery cases: Total and new\n",
    "df_tot_recover = df.loc[:,['Country','TotalRecovered']]\n",
    "df_new_recover = df.loc[:,['Country','NewRecovered']]\n",
    "                      \n",
    "#Sorting cases by total                     \n",
    "df_cases = df_tot_cases.merge(df_new_cases, on='Country').sort_values(by=['TotalConfirmed'],\n",
    "                                                                      ascending=False)\n",
    "df_death = df_tot_death.merge(df_new_death, on='Country').sort_values(by=['TotalDeaths'],\n",
    "                                                                      ascending=False)\n",
    "df_recover = df_tot_recover.merge(df_new_recover, on='Country').sort_values(by=['TotalRecovered'], \n",
    "                                                                            ascending=False)\n"
   ]
  },
  {
   "cell_type": "code",
   "execution_count": 5,
   "metadata": {},
   "outputs": [],
   "source": [
    "# a = df.TotalConfirmed.sum()-df.NewConfirmed.sum()"
   ]
  },
  {
   "cell_type": "code",
   "execution_count": 6,
   "metadata": {},
   "outputs": [],
   "source": [
    "# total cases indicator\n",
    "fig1 = go.Figure(go.Indicator(\n",
    "    \n",
    "    value = tot_cases,\n",
    "    delta = {'reference': diff},\n",
    "    gauge = {\n",
    "        'axis': {'visible': False}},\n",
    "    domain = {'row': 0, 'column': 0}))\n",
    "\n",
    "fig1 = fig1.update_layout(\n",
    "    template = {'data' : {'indicator': [{\n",
    "        'title': {'text': \"Total Cases\"},\n",
    "        'mode' : \"number+delta+gauge\",\n",
    "        }]\n",
    "                         }})\n",
    "# fig1.show()"
   ]
  },
  {
   "cell_type": "code",
   "execution_count": 7,
   "metadata": {},
   "outputs": [],
   "source": [
    "#Summing per column\n",
    "tot_cases = df.TotalConfirmed.sum()\n",
    "nw_cases = df.NewConfirmed.sum()\n",
    "tot_deaths = df.TotalDeaths.sum()\n",
    "new_deaths = df.NewDeaths.sum()\n",
    "tot_recover = df.TotalRecovered.sum()\n",
    "new_recover = df.NewRecovered.sum()\n",
    "diff = tot_cases - nw_cases\n",
    "\n",
    "#Recoveries indicator\n",
    "fig2 = go.Figure(go.Indicator(\n",
    "    mode = \"number+delta\",\n",
    "    value = tot_recover,\n",
    "    delta = {'reference': diff2},\n",
    "    domain = {'row': 0, 'column': 1}))\n",
    "fig2 = fig2.update_layout(\n",
    "    template = {'data' : {'indicator': [{\n",
    "        'title': {'text': \"Recoveries\"}\n",
    "        }]\n",
    "                         }})\n",
    "# fig2.show()"
   ]
  },
  {
   "cell_type": "code",
   "execution_count": 8,
   "metadata": {},
   "outputs": [],
   "source": [
    "# total cases indicator\n",
    "fig3 = go.Figure(go.Indicator(\n",
    "    \n",
    "    value = tot_deaths,\n",
    "    delta = {'reference': diff3},\n",
    "    gauge = {\n",
    "        'axis': {'visible': False}},\n",
    "    domain = {'row': 0, 'column': 0}))\n",
    "\n",
    "fig3 = fig3.update_layout(\n",
    "    template = {'data' : {'indicator': [{\n",
    "        'title': {'text': \"Total Deaths\"},\n",
    "        'mode' : \"number+delta+gauge\",\n",
    "        }]\n",
    "                         }})\n",
    "# fig3.show()"
   ]
  },
  {
   "cell_type": "code",
   "execution_count": 9,
   "metadata": {},
   "outputs": [
    {
     "data": {
      "text/html": [
       "<div>\n",
       "<style scoped>\n",
       "    .dataframe tbody tr th:only-of-type {\n",
       "        vertical-align: middle;\n",
       "    }\n",
       "\n",
       "    .dataframe tbody tr th {\n",
       "        vertical-align: top;\n",
       "    }\n",
       "\n",
       "    .dataframe thead th {\n",
       "        text-align: right;\n",
       "    }\n",
       "</style>\n",
       "<table border=\"1\" class=\"dataframe\">\n",
       "  <thead>\n",
       "    <tr style=\"text-align: right;\">\n",
       "      <th></th>\n",
       "      <th>Country</th>\n",
       "      <th>CountryCode</th>\n",
       "      <th>NewConfirmed</th>\n",
       "      <th>TotalConfirmed</th>\n",
       "      <th>NewDeaths</th>\n",
       "      <th>TotalDeaths</th>\n",
       "      <th>NewRecovered</th>\n",
       "      <th>TotalRecovered</th>\n",
       "      <th>Date</th>\n",
       "      <th>Active Cases</th>\n",
       "      <th>Closed Cases</th>\n",
       "      <th>Recovery Rate</th>\n",
       "      <th>Case Fatality Rate</th>\n",
       "    </tr>\n",
       "  </thead>\n",
       "  <tbody>\n",
       "    <tr>\n",
       "      <th>236</th>\n",
       "      <td>United States of America</td>\n",
       "      <td>US</td>\n",
       "      <td>0</td>\n",
       "      <td>1204351</td>\n",
       "      <td>0</td>\n",
       "      <td>71064</td>\n",
       "      <td>0</td>\n",
       "      <td>189791</td>\n",
       "      <td>2020-05-06T12:12:04Z</td>\n",
       "      <td>943496</td>\n",
       "      <td>260855</td>\n",
       "      <td>15.758778</td>\n",
       "      <td>5.900605</td>\n",
       "    </tr>\n",
       "    <tr>\n",
       "      <th>208</th>\n",
       "      <td>Spain</td>\n",
       "      <td>ES</td>\n",
       "      <td>0</td>\n",
       "      <td>219329</td>\n",
       "      <td>0</td>\n",
       "      <td>25613</td>\n",
       "      <td>0</td>\n",
       "      <td>123486</td>\n",
       "      <td>2020-05-06T12:12:04Z</td>\n",
       "      <td>70230</td>\n",
       "      <td>149099</td>\n",
       "      <td>56.301720</td>\n",
       "      <td>11.677890</td>\n",
       "    </tr>\n",
       "    <tr>\n",
       "      <th>108</th>\n",
       "      <td>Italy</td>\n",
       "      <td>IT</td>\n",
       "      <td>0</td>\n",
       "      <td>213013</td>\n",
       "      <td>0</td>\n",
       "      <td>29315</td>\n",
       "      <td>0</td>\n",
       "      <td>85231</td>\n",
       "      <td>2020-05-06T12:12:04Z</td>\n",
       "      <td>98467</td>\n",
       "      <td>114546</td>\n",
       "      <td>40.012112</td>\n",
       "      <td>13.762071</td>\n",
       "    </tr>\n",
       "    <tr>\n",
       "      <th>235</th>\n",
       "      <td>United Kingdom</td>\n",
       "      <td>GB</td>\n",
       "      <td>0</td>\n",
       "      <td>194990</td>\n",
       "      <td>0</td>\n",
       "      <td>29427</td>\n",
       "      <td>0</td>\n",
       "      <td>0</td>\n",
       "      <td>2020-05-06T12:12:04Z</td>\n",
       "      <td>165563</td>\n",
       "      <td>29427</td>\n",
       "      <td>0.000000</td>\n",
       "      <td>15.091543</td>\n",
       "    </tr>\n",
       "    <tr>\n",
       "      <th>74</th>\n",
       "      <td>France</td>\n",
       "      <td>FR</td>\n",
       "      <td>0</td>\n",
       "      <td>168935</td>\n",
       "      <td>0</td>\n",
       "      <td>25498</td>\n",
       "      <td>0</td>\n",
       "      <td>51803</td>\n",
       "      <td>2020-05-06T12:12:04Z</td>\n",
       "      <td>91634</td>\n",
       "      <td>77301</td>\n",
       "      <td>30.664457</td>\n",
       "      <td>15.093379</td>\n",
       "    </tr>\n",
       "  </tbody>\n",
       "</table>\n",
       "</div>"
      ],
      "text/plain": [
       "                      Country CountryCode  NewConfirmed  TotalConfirmed  \\\n",
       "236  United States of America          US             0         1204351   \n",
       "208                     Spain          ES             0          219329   \n",
       "108                     Italy          IT             0          213013   \n",
       "235            United Kingdom          GB             0          194990   \n",
       "74                     France          FR             0          168935   \n",
       "\n",
       "     NewDeaths  TotalDeaths  NewRecovered  TotalRecovered  \\\n",
       "236          0        71064             0          189791   \n",
       "208          0        25613             0          123486   \n",
       "108          0        29315             0           85231   \n",
       "235          0        29427             0               0   \n",
       "74           0        25498             0           51803   \n",
       "\n",
       "                     Date  Active Cases  Closed Cases  Recovery Rate  \\\n",
       "236  2020-05-06T12:12:04Z        943496        260855      15.758778   \n",
       "208  2020-05-06T12:12:04Z         70230        149099      56.301720   \n",
       "108  2020-05-06T12:12:04Z         98467        114546      40.012112   \n",
       "235  2020-05-06T12:12:04Z        165563         29427       0.000000   \n",
       "74   2020-05-06T12:12:04Z         91634         77301      30.664457   \n",
       "\n",
       "     Case Fatality Rate  \n",
       "236            5.900605  \n",
       "208           11.677890  \n",
       "108           13.762071  \n",
       "235           15.091543  \n",
       "74            15.093379  "
      ]
     },
     "execution_count": 9,
     "metadata": {},
     "output_type": "execute_result"
    }
   ],
   "source": [
    "df['Active Cases'] = df['TotalConfirmed'] - df['TotalRecovered'] - df['TotalDeaths']\n",
    "df['Closed Cases'] = df['TotalRecovered'] + df['TotalDeaths']\n",
    "df['Recovery Rate'] = (df['TotalRecovered'] / df['TotalConfirmed'])*100\n",
    "df['Case Fatality Rate'] = (df['TotalDeaths'] / df['TotalConfirmed']) * 100\n",
    "df.head()"
   ]
  },
  {
   "cell_type": "code",
   "execution_count": 10,
   "metadata": {},
   "outputs": [],
   "source": [
    "\n",
    "url1 = 'https://api.covid19api.com/live/country/south-africa/status/confirmed/date/2020-03-21T13:13:30Z'\n",
    "df1 = pd.read_json(url1, orient='columns')\n",
    "url2 = 'https://api.covid19api.com/country/south-africa/status/confirmed'\n",
    "df2 = pd.read_json(url2, orient='columns')\n",
    "url3 = 'https://api.covid19api.com/country/south-africa/status/confirmed/live'\n",
    "df3 = pd.read_json(url3, orient='columns')\n",
    "url4 = 'https://covid19.soficoop.com/country/za'\n"
   ]
  },
  {
   "cell_type": "code",
   "execution_count": 11,
   "metadata": {},
   "outputs": [
    {
     "data": {
      "text/html": [
       "<div>\n",
       "<style scoped>\n",
       "    .dataframe tbody tr th:only-of-type {\n",
       "        vertical-align: middle;\n",
       "    }\n",
       "\n",
       "    .dataframe tbody tr th {\n",
       "        vertical-align: top;\n",
       "    }\n",
       "\n",
       "    .dataframe thead th {\n",
       "        text-align: right;\n",
       "    }\n",
       "</style>\n",
       "<table border=\"1\" class=\"dataframe\">\n",
       "  <thead>\n",
       "    <tr style=\"text-align: right;\">\n",
       "      <th></th>\n",
       "      <th>dateRep</th>\n",
       "      <th>day</th>\n",
       "      <th>month</th>\n",
       "      <th>year</th>\n",
       "      <th>cases</th>\n",
       "      <th>deaths</th>\n",
       "      <th>countriesAndTerritories</th>\n",
       "      <th>geoId</th>\n",
       "      <th>countryterritoryCode</th>\n",
       "      <th>popData2018</th>\n",
       "    </tr>\n",
       "  </thead>\n",
       "  <tbody>\n",
       "    <tr>\n",
       "      <th>0</th>\n",
       "      <td>16/04/2020</td>\n",
       "      <td>16</td>\n",
       "      <td>4</td>\n",
       "      <td>2020</td>\n",
       "      <td>70</td>\n",
       "      <td>2</td>\n",
       "      <td>Afghanistan</td>\n",
       "      <td>AF</td>\n",
       "      <td>AFG</td>\n",
       "      <td>37172386.0</td>\n",
       "    </tr>\n",
       "    <tr>\n",
       "      <th>1</th>\n",
       "      <td>15/04/2020</td>\n",
       "      <td>15</td>\n",
       "      <td>4</td>\n",
       "      <td>2020</td>\n",
       "      <td>49</td>\n",
       "      <td>2</td>\n",
       "      <td>Afghanistan</td>\n",
       "      <td>AF</td>\n",
       "      <td>AFG</td>\n",
       "      <td>37172386.0</td>\n",
       "    </tr>\n",
       "    <tr>\n",
       "      <th>2</th>\n",
       "      <td>14/04/2020</td>\n",
       "      <td>14</td>\n",
       "      <td>4</td>\n",
       "      <td>2020</td>\n",
       "      <td>58</td>\n",
       "      <td>3</td>\n",
       "      <td>Afghanistan</td>\n",
       "      <td>AF</td>\n",
       "      <td>AFG</td>\n",
       "      <td>37172386.0</td>\n",
       "    </tr>\n",
       "    <tr>\n",
       "      <th>3</th>\n",
       "      <td>13/04/2020</td>\n",
       "      <td>13</td>\n",
       "      <td>4</td>\n",
       "      <td>2020</td>\n",
       "      <td>52</td>\n",
       "      <td>0</td>\n",
       "      <td>Afghanistan</td>\n",
       "      <td>AF</td>\n",
       "      <td>AFG</td>\n",
       "      <td>37172386.0</td>\n",
       "    </tr>\n",
       "    <tr>\n",
       "      <th>4</th>\n",
       "      <td>12/04/2020</td>\n",
       "      <td>12</td>\n",
       "      <td>4</td>\n",
       "      <td>2020</td>\n",
       "      <td>34</td>\n",
       "      <td>3</td>\n",
       "      <td>Afghanistan</td>\n",
       "      <td>AF</td>\n",
       "      <td>AFG</td>\n",
       "      <td>37172386.0</td>\n",
       "    </tr>\n",
       "  </tbody>\n",
       "</table>\n",
       "</div>"
      ],
      "text/plain": [
       "      dateRep  day  month  year  cases  deaths countriesAndTerritories geoId  \\\n",
       "0  16/04/2020   16      4  2020     70       2             Afghanistan    AF   \n",
       "1  15/04/2020   15      4  2020     49       2             Afghanistan    AF   \n",
       "2  14/04/2020   14      4  2020     58       3             Afghanistan    AF   \n",
       "3  13/04/2020   13      4  2020     52       0             Afghanistan    AF   \n",
       "4  12/04/2020   12      4  2020     34       3             Afghanistan    AF   \n",
       "\n",
       "  countryterritoryCode  popData2018  \n",
       "0                  AFG   37172386.0  \n",
       "1                  AFG   37172386.0  \n",
       "2                  AFG   37172386.0  \n",
       "3                  AFG   37172386.0  \n",
       "4                  AFG   37172386.0  "
      ]
     },
     "execution_count": 11,
     "metadata": {},
     "output_type": "execute_result"
    }
   ],
   "source": [
    "# url5 = 'https://api.covid19api.com/total/dayone/country/south-africa'\n",
    "# df5 = pd.read_json(url5, orient='columns')\n",
    "# url6 = 'https://api.covid19api.com/all?from=2020-04-01T00:00:00Z&to=2020-04-12T00:00:00Z'\n",
    "df6 = pd.read_csv('covid.csv',delimiter=',')\n",
    "df6.head()\n"
   ]
  },
  {
   "cell_type": "code",
   "execution_count": 12,
   "metadata": {},
   "outputs": [
    {
     "data": {
      "text/html": [
       "<div>\n",
       "<style scoped>\n",
       "    .dataframe tbody tr th:only-of-type {\n",
       "        vertical-align: middle;\n",
       "    }\n",
       "\n",
       "    .dataframe tbody tr th {\n",
       "        vertical-align: top;\n",
       "    }\n",
       "\n",
       "    .dataframe thead th {\n",
       "        text-align: right;\n",
       "    }\n",
       "</style>\n",
       "<table border=\"1\" class=\"dataframe\">\n",
       "  <thead>\n",
       "    <tr style=\"text-align: right;\">\n",
       "      <th></th>\n",
       "      <th>cases</th>\n",
       "      <th>todayCases</th>\n",
       "      <th>deaths</th>\n",
       "      <th>todayDeaths</th>\n",
       "      <th>recovered</th>\n",
       "      <th>active</th>\n",
       "      <th>critical</th>\n",
       "      <th>timestamp</th>\n",
       "    </tr>\n",
       "  </thead>\n",
       "  <tbody>\n",
       "    <tr>\n",
       "      <th>0</th>\n",
       "      <td>62</td>\n",
       "      <td>0</td>\n",
       "      <td>0</td>\n",
       "      <td>0</td>\n",
       "      <td>0</td>\n",
       "      <td>62</td>\n",
       "      <td>0</td>\n",
       "      <td>2020-03-17T21:00:00.200Z</td>\n",
       "    </tr>\n",
       "    <tr>\n",
       "      <th>1</th>\n",
       "      <td>62</td>\n",
       "      <td>0</td>\n",
       "      <td>0</td>\n",
       "      <td>0</td>\n",
       "      <td>0</td>\n",
       "      <td>62</td>\n",
       "      <td>0</td>\n",
       "      <td>2020-03-17T22:00:00.182Z</td>\n",
       "    </tr>\n",
       "    <tr>\n",
       "      <th>2</th>\n",
       "      <td>85</td>\n",
       "      <td>21</td>\n",
       "      <td>0</td>\n",
       "      <td>0</td>\n",
       "      <td>0</td>\n",
       "      <td>85</td>\n",
       "      <td>0</td>\n",
       "      <td>2020-03-17T23:00:00.171Z</td>\n",
       "    </tr>\n",
       "    <tr>\n",
       "      <th>3</th>\n",
       "      <td>85</td>\n",
       "      <td>21</td>\n",
       "      <td>0</td>\n",
       "      <td>0</td>\n",
       "      <td>0</td>\n",
       "      <td>85</td>\n",
       "      <td>0</td>\n",
       "      <td>2020-03-18T00:00:00.193Z</td>\n",
       "    </tr>\n",
       "    <tr>\n",
       "      <th>4</th>\n",
       "      <td>85</td>\n",
       "      <td>21</td>\n",
       "      <td>0</td>\n",
       "      <td>0</td>\n",
       "      <td>0</td>\n",
       "      <td>85</td>\n",
       "      <td>0</td>\n",
       "      <td>2020-03-18T01:00:00.205Z</td>\n",
       "    </tr>\n",
       "  </tbody>\n",
       "</table>\n",
       "</div>"
      ],
      "text/plain": [
       "   cases  todayCases  deaths  todayDeaths  recovered  active  critical  \\\n",
       "0     62           0       0            0          0      62         0   \n",
       "1     62           0       0            0          0      62         0   \n",
       "2     85          21       0            0          0      85         0   \n",
       "3     85          21       0            0          0      85         0   \n",
       "4     85          21       0            0          0      85         0   \n",
       "\n",
       "                  timestamp  \n",
       "0  2020-03-17T21:00:00.200Z  \n",
       "1  2020-03-17T22:00:00.182Z  \n",
       "2  2020-03-17T23:00:00.171Z  \n",
       "3  2020-03-18T00:00:00.193Z  \n",
       "4  2020-03-18T01:00:00.205Z  "
      ]
     },
     "execution_count": 12,
     "metadata": {},
     "output_type": "execute_result"
    }
   ],
   "source": [
    "#Daily Commulative dataframe \n",
    "df4 = requests.get(url4).json()\n",
    "df4= pd.json_normalize(df4,record_path ='snapshots')\n",
    "df4.head()"
   ]
  },
  {
   "cell_type": "code",
   "execution_count": 13,
   "metadata": {},
   "outputs": [
    {
     "data": {
      "application/vnd.plotly.v1+json": {
       "config": {
        "plotlyServerURL": "https://plot.ly"
       },
       "data": [
        {
         "name": "Active Cases in SA",
         "type": "scatter",
         "x": [
          "2020-03-17T21:00:00.200Z",
          "2020-03-17T22:00:00.182Z",
          "2020-03-17T23:00:00.171Z",
          "2020-03-18T00:00:00.193Z",
          "2020-03-18T01:00:00.205Z",
          "2020-03-18T02:00:00.195Z",
          "2020-03-18T03:00:00.182Z",
          "2020-03-18T04:00:00.190Z",
          "2020-03-18T05:00:00.147Z",
          "2020-03-18T06:00:00.205Z",
          "2020-03-18T07:00:00.215Z",
          "2020-03-18T08:00:00.192Z",
          "2020-03-18T09:00:00.167Z",
          "2020-03-18T10:00:00.221Z",
          "2020-03-18T11:00:00.223Z",
          "2020-03-18T12:00:00.202Z",
          "2020-03-18T13:00:00.296Z",
          "2020-03-18T14:00:00.178Z",
          "2020-03-18T15:00:00.169Z",
          "2020-03-18T16:00:00.171Z",
          "2020-03-18T18:00:00.155Z",
          "2020-03-18T19:00:00.206Z",
          "2020-03-18T20:00:00.199Z",
          "2020-03-18T21:00:00.171Z",
          "2020-03-18T22:00:00.161Z",
          "2020-03-18T23:00:00.188Z",
          "2020-03-19T00:00:00.179Z",
          "2020-03-19T02:00:00.181Z",
          "2020-03-19T03:00:00.192Z",
          "2020-03-19T04:00:00.162Z",
          "2020-03-19T05:00:00.163Z",
          "2020-03-19T06:00:00.187Z",
          "2020-03-19T07:00:00.203Z",
          "2020-03-19T08:00:00.151Z",
          "2020-03-19T09:00:00.176Z",
          "2020-03-19T10:00:00.153Z",
          "2020-03-19T11:00:00.150Z",
          "2020-03-19T12:00:00.164Z",
          "2020-03-19T13:00:00.237Z",
          "2020-03-19T14:00:00.221Z",
          "2020-03-19T15:00:00.230Z",
          "2020-03-19T16:00:00.167Z",
          "2020-03-19T17:00:00.204Z",
          "2020-03-19T18:00:00.211Z",
          "2020-03-19T19:00:00.159Z",
          "2020-03-19T20:00:00.204Z",
          "2020-03-19T21:00:00.186Z",
          "2020-03-19T22:00:00.164Z",
          "2020-03-19T23:00:00.156Z",
          "2020-03-20T00:00:00.158Z",
          "2020-03-20T01:00:00.190Z",
          "2020-03-20T02:00:00.192Z",
          "2020-03-20T03:00:00.182Z",
          "2020-03-20T04:00:00.171Z",
          "2020-03-20T05:00:00.194Z",
          "2020-03-20T06:00:00.205Z",
          "2020-03-20T07:00:00.169Z",
          "2020-03-20T08:00:00.196Z",
          "2020-03-20T09:00:00.198Z",
          "2020-03-20T10:00:00.190Z",
          "2020-03-20T11:00:00.232Z",
          "2020-03-20T12:00:00.201Z",
          "2020-03-20T13:00:00.163Z",
          "2020-03-20T14:00:00.198Z",
          "2020-03-20T15:00:00.179Z",
          "2020-03-20T16:00:00.199Z",
          "2020-03-20T17:00:00.206Z",
          "2020-03-20T18:00:00.200Z",
          "2020-03-20T19:00:00.161Z",
          "2020-03-20T20:00:00.238Z",
          "2020-03-20T21:00:00.224Z",
          "2020-03-20T22:00:00.195Z",
          "2020-03-20T23:00:00.214Z",
          "2020-03-21T00:00:00.178Z",
          "2020-03-21T01:00:00.219Z",
          "2020-03-21T02:00:00.174Z",
          "2020-03-21T03:00:00.168Z",
          "2020-03-21T04:00:00.250Z",
          "2020-03-21T05:00:00.211Z",
          "2020-03-21T06:00:00.188Z",
          "2020-03-21T07:00:00.162Z",
          "2020-03-21T08:00:00.162Z",
          "2020-03-21T09:00:00.202Z",
          "2020-03-21T10:00:00.183Z",
          "2020-03-21T11:00:00.229Z",
          "2020-03-21T12:00:00.227Z",
          "2020-03-21T13:00:00.182Z",
          "2020-03-21T14:00:00.179Z",
          "2020-03-21T15:00:00.205Z",
          "2020-03-21T16:00:00.171Z",
          "2020-03-21T17:00:00.230Z",
          "2020-03-21T18:00:00.232Z",
          "2020-03-21T19:00:00.189Z",
          "2020-03-21T20:00:00.207Z",
          "2020-03-21T21:00:00.185Z",
          "2020-03-21T22:00:00.201Z",
          "2020-03-21T23:00:00.163Z",
          "2020-03-22T00:00:00.178Z",
          "2020-03-22T01:00:00.171Z",
          "2020-03-22T02:00:00.155Z",
          "2020-03-22T03:00:00.209Z",
          "2020-03-22T04:00:00.179Z",
          "2020-03-22T05:00:00.186Z",
          "2020-03-22T06:00:00.205Z",
          "2020-03-22T07:00:00.207Z",
          "2020-03-22T08:00:00.189Z",
          "2020-03-22T09:00:00.190Z",
          "2020-03-22T10:00:00.231Z",
          "2020-03-22T11:00:00.202Z",
          "2020-03-22T12:00:00.191Z",
          "2020-03-22T13:00:00.168Z",
          "2020-03-22T14:00:00.211Z",
          "2020-03-22T15:00:00.223Z",
          "2020-03-22T16:00:00.200Z",
          "2020-03-22T17:00:00.225Z",
          "2020-03-22T18:00:00.197Z",
          "2020-03-22T19:00:00.200Z",
          "2020-03-22T20:00:00.155Z",
          "2020-03-22T21:00:00.157Z",
          "2020-03-22T22:00:00.183Z",
          "2020-03-22T23:00:00.192Z",
          "2020-03-23T00:00:00.227Z",
          "2020-03-23T01:00:00.150Z",
          "2020-03-23T02:00:00.278Z",
          "2020-03-23T03:00:00.195Z",
          "2020-03-23T20:00:00.171Z",
          "2020-03-23T21:00:00.241Z",
          "2020-03-23T22:00:00.191Z",
          "2020-03-23T23:00:00.193Z",
          "2020-03-24T00:00:00.225Z",
          "2020-03-24T01:00:00.213Z",
          "2020-03-24T02:00:00.233Z",
          "2020-03-24T03:00:00.172Z",
          "2020-03-24T04:00:00.243Z",
          "2020-03-24T05:00:00.217Z",
          "2020-03-24T06:00:00.208Z",
          "2020-03-24T07:00:00.168Z",
          "2020-03-24T08:00:00.226Z",
          "2020-03-24T09:00:00.223Z",
          "2020-03-24T10:00:00.276Z",
          "2020-03-24T11:00:00.202Z",
          "2020-03-24T12:00:00.194Z",
          "2020-03-24T13:00:00.235Z",
          "2020-03-24T14:00:00.228Z",
          "2020-03-24T15:00:00.223Z",
          "2020-03-24T16:00:00.180Z",
          "2020-03-24T17:00:00.204Z",
          "2020-03-24T18:00:00.207Z",
          "2020-03-24T19:00:00.195Z",
          "2020-03-24T20:00:00.195Z",
          "2020-03-24T21:00:00.225Z",
          "2020-03-24T22:00:00.228Z",
          "2020-03-24T23:00:00.194Z",
          "2020-03-25T00:00:00.196Z",
          "2020-03-25T01:00:00.156Z",
          "2020-03-25T02:00:00.242Z",
          "2020-03-25T03:00:00.160Z",
          "2020-03-25T04:00:00.238Z",
          "2020-03-25T05:00:00.189Z",
          "2020-03-25T06:00:00.200Z",
          "2020-03-25T07:00:00.170Z",
          "2020-03-25T08:00:00.212Z",
          "2020-03-25T09:00:00.232Z",
          "2020-03-25T10:00:00.218Z",
          "2020-03-25T11:00:00.273Z",
          "2020-03-25T12:00:00.220Z",
          "2020-03-25T13:00:00.164Z",
          "2020-03-25T14:00:00.245Z",
          "2020-03-25T15:00:00.222Z",
          "2020-03-25T16:00:00.201Z",
          "2020-03-25T17:00:00.205Z",
          "2020-03-25T18:00:00.228Z",
          "2020-03-25T19:00:00.188Z",
          "2020-03-25T20:00:00.192Z",
          "2020-03-25T21:00:00.194Z",
          "2020-03-25T22:00:00.242Z",
          "2020-03-25T23:00:00.162Z",
          "2020-03-26T00:00:00.190Z",
          "2020-03-26T01:00:00.220Z",
          "2020-03-26T02:00:00.198Z",
          "2020-03-26T03:00:00.216Z",
          "2020-03-26T04:00:00.161Z",
          "2020-03-26T05:00:00.183Z",
          "2020-03-26T06:00:00.223Z",
          "2020-03-26T07:00:00.220Z",
          "2020-03-26T08:00:00.230Z",
          "2020-03-26T09:00:00.210Z",
          "2020-03-26T10:00:00.222Z",
          "2020-03-26T11:00:00.437Z",
          "2020-03-26T12:00:00.221Z",
          "2020-03-26T13:00:00.374Z",
          "2020-03-26T14:00:00.333Z",
          "2020-03-26T15:00:00.188Z",
          "2020-03-26T16:00:00.314Z",
          "2020-03-26T17:00:00.260Z",
          "2020-03-26T18:00:00.506Z",
          "2020-03-26T19:00:01.083Z",
          "2020-03-26T20:00:01.124Z",
          "2020-03-26T21:00:00.185Z",
          "2020-03-26T22:00:00.170Z",
          "2020-03-26T23:00:00.995Z",
          "2020-03-27T00:00:00.195Z",
          "2020-03-27T01:00:00.216Z",
          "2020-03-27T02:00:00.218Z",
          "2020-03-27T03:00:00.192Z",
          "2020-03-27T04:00:00.209Z",
          "2020-03-27T05:00:00.182Z",
          "2020-03-27T06:00:00.188Z",
          "2020-03-27T07:00:00.218Z",
          "2020-03-27T08:00:00.204Z",
          "2020-03-27T09:00:00.220Z",
          "2020-03-27T10:00:00.200Z",
          "2020-03-27T11:00:00.163Z",
          "2020-03-27T12:00:00.246Z",
          "2020-03-27T13:00:00.205Z",
          "2020-03-27T14:00:00.256Z",
          "2020-03-27T15:00:00.173Z",
          "2020-03-27T16:00:00.168Z",
          "2020-03-27T17:00:00.223Z",
          "2020-03-27T18:00:00.236Z",
          "2020-03-27T19:00:00.194Z",
          "2020-03-27T21:00:00.202Z",
          "2020-03-27T22:00:00.191Z",
          "2020-03-27T23:00:00.159Z",
          "2020-03-28T01:00:00.213Z",
          "2020-03-28T02:00:00.191Z",
          "2020-03-28T03:00:00.225Z",
          "2020-03-28T04:00:00.185Z",
          "2020-03-28T05:00:00.200Z",
          "2020-03-28T06:00:00.211Z",
          "2020-03-28T07:00:00.169Z",
          "2020-03-28T08:00:00.299Z",
          "2020-03-28T09:00:00.204Z",
          "2020-03-28T10:00:00.214Z",
          "2020-03-28T11:00:00.224Z",
          "2020-03-28T12:00:00.174Z",
          "2020-03-28T13:00:00.241Z",
          "2020-03-28T14:00:00.191Z",
          "2020-03-28T15:00:00.156Z",
          "2020-03-28T16:00:00.197Z",
          "2020-03-28T17:00:00.219Z",
          "2020-03-28T18:00:00.163Z",
          "2020-03-28T19:00:00.196Z",
          "2020-03-28T20:00:00.230Z",
          "2020-03-28T21:00:00.235Z",
          "2020-03-28T22:00:00.193Z",
          "2020-03-28T23:00:00.268Z",
          "2020-03-29T00:00:00.161Z",
          "2020-03-29T01:00:00.168Z",
          "2020-03-29T02:00:00.246Z",
          "2020-03-29T03:00:00.185Z",
          "2020-03-29T04:00:00.185Z",
          "2020-03-29T05:00:00.152Z",
          "2020-03-29T06:00:00.228Z",
          "2020-03-29T07:00:00.225Z",
          "2020-03-29T08:00:00.239Z",
          "2020-03-29T09:00:00.221Z",
          "2020-03-29T10:00:00.238Z",
          "2020-03-29T11:00:00.207Z",
          "2020-03-29T12:00:00.163Z",
          "2020-03-29T13:00:00.186Z",
          "2020-03-29T14:00:00.169Z",
          "2020-03-29T15:00:00.184Z",
          "2020-03-29T16:00:00.175Z",
          "2020-03-29T17:00:00.218Z",
          "2020-03-29T18:00:00.177Z",
          "2020-03-29T19:00:00.225Z",
          "2020-03-29T20:00:00.161Z",
          "2020-03-29T21:00:00.186Z",
          "2020-03-29T22:00:00.218Z",
          "2020-03-29T23:00:00.168Z",
          "2020-03-30T00:00:00.188Z",
          "2020-03-30T01:00:00.159Z",
          "2020-03-30T02:00:00.190Z",
          "2020-03-30T03:00:00.179Z",
          "2020-03-30T04:00:00.226Z",
          "2020-03-30T05:00:00.232Z",
          "2020-03-30T06:00:00.188Z",
          "2020-03-30T07:00:00.253Z",
          "2020-03-30T08:00:00.231Z",
          "2020-03-30T09:00:00.194Z",
          "2020-03-30T10:00:00.222Z",
          "2020-03-30T11:00:00.183Z",
          "2020-03-30T12:00:00.225Z",
          "2020-03-30T13:00:00.236Z",
          "2020-03-30T14:00:00.235Z",
          "2020-03-30T15:00:00.231Z",
          "2020-03-30T16:00:00.186Z",
          "2020-03-30T17:00:00.191Z",
          "2020-03-30T18:00:00.193Z",
          "2020-03-30T19:00:00.196Z",
          "2020-03-30T20:00:00.199Z",
          "2020-03-30T21:00:00.226Z",
          "2020-03-30T22:00:00.200Z",
          "2020-03-30T23:00:00.222Z",
          "2020-03-31T00:00:00.174Z",
          "2020-03-31T01:00:00.247Z",
          "2020-03-31T02:00:00.214Z",
          "2020-03-31T03:00:00.161Z",
          "2020-03-31T04:00:00.164Z",
          "2020-03-31T05:00:00.141Z",
          "2020-03-31T06:00:00.194Z",
          "2020-03-31T07:00:00.200Z",
          "2020-03-31T08:00:00.158Z",
          "2020-03-31T09:00:00.195Z",
          "2020-03-31T10:00:00.225Z",
          "2020-03-31T11:00:00.192Z",
          "2020-03-31T12:00:00.232Z",
          "2020-03-31T13:00:00.222Z",
          "2020-03-31T14:00:00.160Z",
          "2020-03-31T15:00:00.218Z",
          "2020-03-31T16:00:00.201Z",
          "2020-03-31T17:00:00.198Z",
          "2020-03-31T18:00:00.191Z",
          "2020-03-31T19:00:00.184Z",
          "2020-03-31T20:00:00.192Z",
          "2020-03-31T21:00:00.194Z",
          "2020-03-31T22:00:00.214Z",
          "2020-03-31T23:00:00.182Z",
          "2020-04-01T00:00:00.195Z",
          "2020-04-01T01:00:00.169Z",
          "2020-04-01T02:00:00.229Z",
          "2020-04-01T03:00:00.293Z",
          "2020-04-01T04:00:00.207Z",
          "2020-04-01T05:00:00.193Z",
          "2020-04-01T06:00:00.238Z",
          "2020-04-01T07:00:00.168Z",
          "2020-04-01T08:00:00.229Z",
          "2020-04-01T09:00:00.180Z",
          "2020-04-01T10:00:00.218Z",
          "2020-04-01T11:00:00.205Z",
          "2020-04-01T12:00:00.241Z",
          "2020-04-01T13:00:00.160Z",
          "2020-04-01T14:00:00.203Z",
          "2020-04-01T15:00:00.213Z",
          "2020-04-01T16:00:00.193Z",
          "2020-04-01T17:00:00.260Z",
          "2020-04-01T18:00:00.201Z",
          "2020-04-01T19:00:00.271Z",
          "2020-04-01T20:00:00.209Z",
          "2020-04-01T21:00:00.225Z",
          "2020-04-01T22:00:00.168Z",
          "2020-04-01T23:00:00.206Z",
          "2020-04-02T00:00:00.182Z",
          "2020-04-02T01:00:00.198Z",
          "2020-04-02T02:00:00.212Z",
          "2020-04-02T03:00:00.220Z",
          "2020-04-02T05:00:00.195Z",
          "2020-04-02T06:00:00.241Z",
          "2020-04-02T07:00:00.229Z",
          "2020-04-02T08:00:00.193Z",
          "2020-04-02T09:00:00.199Z",
          "2020-04-02T10:00:00.230Z",
          "2020-04-02T11:00:00.212Z",
          "2020-04-02T12:00:00.187Z",
          "2020-04-02T13:00:00.259Z",
          "2020-04-02T14:00:00.289Z",
          "2020-04-02T15:00:00.212Z",
          "2020-04-02T16:00:00.157Z",
          "2020-04-02T17:00:00.191Z",
          "2020-04-02T18:00:00.201Z",
          "2020-04-02T19:00:00.210Z",
          "2020-04-02T20:00:00.193Z",
          "2020-04-02T21:00:00.223Z",
          "2020-04-02T22:00:00.197Z",
          "2020-04-02T23:00:00.227Z",
          "2020-04-03T00:00:00.201Z",
          "2020-04-03T01:00:00.159Z",
          "2020-04-03T02:00:00.180Z",
          "2020-04-03T03:00:00.233Z",
          "2020-04-03T04:00:00.210Z",
          "2020-04-03T05:00:00.168Z",
          "2020-04-03T06:00:00.193Z",
          "2020-04-03T07:00:00.261Z",
          "2020-04-03T08:00:00.194Z",
          "2020-04-03T09:00:00.278Z",
          "2020-04-03T10:00:00.232Z",
          "2020-04-03T11:00:00.181Z",
          "2020-04-03T12:00:00.200Z",
          "2020-04-03T13:00:00.170Z",
          "2020-04-03T14:00:00.184Z",
          "2020-04-03T15:00:00.219Z",
          "2020-04-03T16:00:00.164Z",
          "2020-04-03T17:00:00.180Z",
          "2020-04-03T18:00:00.184Z",
          "2020-04-03T19:00:00.196Z",
          "2020-04-03T20:00:00.184Z",
          "2020-04-03T21:00:00.211Z",
          "2020-04-03T22:00:00.194Z",
          "2020-04-03T23:00:00.148Z",
          "2020-04-04T00:00:00.159Z",
          "2020-04-04T01:00:00.181Z",
          "2020-04-04T02:00:00.157Z",
          "2020-04-04T03:00:00.217Z",
          "2020-04-04T04:00:00.192Z",
          "2020-04-04T05:00:00.173Z",
          "2020-04-04T06:00:00.230Z",
          "2020-04-04T07:00:00.159Z",
          "2020-04-04T08:00:00.237Z",
          "2020-04-04T09:00:00.162Z",
          "2020-04-04T10:00:00.188Z",
          "2020-04-04T11:00:00.185Z",
          "2020-04-04T12:00:00.192Z",
          "2020-04-04T13:00:00.162Z",
          "2020-04-04T14:00:00.171Z",
          "2020-04-04T15:00:00.216Z",
          "2020-04-04T17:00:00.185Z",
          "2020-04-04T18:00:00.199Z",
          "2020-04-04T19:00:00.217Z",
          "2020-04-04T20:00:00.225Z",
          "2020-04-04T21:00:00.255Z",
          "2020-04-04T22:00:00.199Z",
          "2020-04-04T23:00:00.282Z",
          "2020-04-05T00:00:00.238Z",
          "2020-04-05T01:00:00.225Z",
          "2020-04-05T02:00:00.235Z",
          "2020-04-05T03:00:00.253Z",
          "2020-04-05T04:00:00.216Z",
          "2020-04-05T05:00:00.205Z",
          "2020-04-05T06:00:00.228Z",
          "2020-04-05T07:00:00.192Z",
          "2020-04-05T08:00:00.185Z",
          "2020-04-05T09:00:00.265Z",
          "2020-04-05T10:00:00.194Z",
          "2020-04-05T11:00:00.217Z",
          "2020-04-05T12:00:00.222Z",
          "2020-04-05T13:00:00.237Z",
          "2020-04-05T14:00:00.188Z",
          "2020-04-05T15:00:00.267Z",
          "2020-04-05T16:00:00.225Z",
          "2020-04-05T17:00:00.184Z",
          "2020-04-05T18:00:00.263Z",
          "2020-04-05T19:00:00.209Z",
          "2020-04-05T20:00:00.205Z",
          "2020-04-05T21:00:00.182Z",
          "2020-04-05T22:00:00.224Z",
          "2020-04-05T23:00:00.242Z",
          "2020-04-06T00:00:00.264Z",
          "2020-04-06T01:00:00.248Z",
          "2020-04-06T02:00:00.174Z",
          "2020-04-06T03:00:00.224Z",
          "2020-04-06T04:00:00.232Z",
          "2020-04-06T05:00:00.211Z",
          "2020-04-06T06:00:00.185Z",
          "2020-04-06T07:00:00.195Z",
          "2020-04-06T08:00:00.215Z",
          "2020-04-06T09:00:00.185Z",
          "2020-04-06T10:00:00.208Z",
          "2020-04-06T11:00:00.200Z",
          "2020-04-06T12:00:00.177Z",
          "2020-04-06T13:00:00.254Z",
          "2020-04-06T14:00:00.186Z",
          "2020-04-06T15:00:00.244Z",
          "2020-04-06T16:00:00.242Z",
          "2020-04-06T17:00:00.214Z",
          "2020-04-06T18:00:00.238Z",
          "2020-04-06T19:00:00.234Z",
          "2020-04-06T20:00:00.193Z",
          "2020-04-06T21:00:00.255Z",
          "2020-04-06T22:00:00.261Z",
          "2020-04-06T23:00:00.179Z",
          "2020-04-07T00:00:00.256Z",
          "2020-04-07T01:00:00.223Z",
          "2020-04-07T02:00:00.207Z",
          "2020-04-07T03:00:00.186Z",
          "2020-04-07T04:00:00.182Z",
          "2020-04-07T05:00:00.186Z",
          "2020-04-07T06:00:00.160Z",
          "2020-04-07T07:00:00.183Z",
          "2020-04-07T08:00:00.216Z",
          "2020-04-07T09:00:00.206Z",
          "2020-04-07T10:00:00.254Z",
          "2020-04-07T11:00:00.190Z",
          "2020-04-07T12:00:00.271Z",
          "2020-04-07T13:00:00.170Z",
          "2020-04-07T14:00:00.457Z",
          "2020-04-07T15:00:00.225Z",
          "2020-04-07T16:00:00.212Z",
          "2020-04-07T17:00:00.212Z",
          "2020-04-07T18:00:00.170Z",
          "2020-04-07T19:00:00.272Z",
          "2020-04-07T20:00:00.213Z",
          "2020-04-07T21:00:00.229Z",
          "2020-04-07T22:00:00.235Z",
          "2020-04-07T23:00:00.261Z",
          "2020-04-08T00:00:00.336Z",
          "2020-04-08T01:00:00.252Z",
          "2020-04-08T02:00:00.184Z",
          "2020-04-08T03:00:00.207Z",
          "2020-04-08T04:00:00.266Z",
          "2020-04-08T05:00:00.218Z",
          "2020-04-08T06:00:00.257Z",
          "2020-04-08T07:00:00.197Z",
          "2020-04-08T08:00:00.244Z",
          "2020-04-08T09:00:00.191Z",
          "2020-04-08T10:00:00.225Z",
          "2020-04-08T11:00:00.237Z",
          "2020-04-08T12:00:00.194Z",
          "2020-04-08T13:00:00.304Z",
          "2020-04-08T14:00:00.209Z",
          "2020-04-08T15:00:00.284Z",
          "2020-04-08T16:00:00.210Z",
          "2020-04-08T17:00:00.202Z",
          "2020-04-08T18:00:00.356Z",
          "2020-04-08T19:00:00.260Z",
          "2020-04-08T20:00:00.212Z",
          "2020-04-08T21:00:00.181Z",
          "2020-04-08T22:00:00.244Z",
          "2020-04-08T23:00:00.261Z",
          "2020-04-09T00:00:00.188Z",
          "2020-04-09T01:00:00.206Z",
          "2020-04-09T02:00:00.208Z",
          "2020-04-09T03:00:00.217Z",
          "2020-04-09T04:00:00.196Z",
          "2020-04-09T05:00:00.235Z",
          "2020-04-09T06:00:00.213Z",
          "2020-04-09T07:00:00.236Z",
          "2020-04-09T08:00:00.226Z",
          "2020-04-09T09:00:00.169Z",
          "2020-04-09T10:00:00.223Z",
          "2020-04-09T11:00:00.251Z",
          "2020-04-09T12:00:00.217Z",
          "2020-04-09T13:00:00.235Z",
          "2020-04-09T14:00:00.258Z",
          "2020-04-09T15:00:00.233Z",
          "2020-04-09T16:00:00.189Z",
          "2020-04-09T17:00:00.220Z",
          "2020-04-09T18:00:00.233Z",
          "2020-04-09T19:00:00.222Z",
          "2020-04-09T20:00:00.280Z",
          "2020-04-09T21:00:00.285Z",
          "2020-04-09T22:00:00.225Z",
          "2020-04-09T23:00:00.181Z",
          "2020-04-10T00:00:00.213Z",
          "2020-04-10T01:00:00.222Z",
          "2020-04-10T02:00:00.253Z",
          "2020-04-10T03:00:00.163Z",
          "2020-04-10T04:00:00.193Z",
          "2020-04-10T05:00:00.208Z",
          "2020-04-10T06:00:00.206Z",
          "2020-04-10T07:00:00.200Z",
          "2020-04-10T08:00:00.251Z",
          "2020-04-10T09:00:00.227Z",
          "2020-04-10T10:00:00.231Z",
          "2020-04-10T11:00:00.181Z",
          "2020-04-10T12:00:00.271Z",
          "2020-04-10T13:00:00.218Z",
          "2020-04-10T14:00:00.185Z",
          "2020-04-10T15:00:00.223Z",
          "2020-04-10T16:00:00.189Z",
          "2020-04-10T17:00:00.211Z",
          "2020-04-10T18:00:00.236Z",
          "2020-04-10T19:00:00.213Z",
          "2020-04-10T20:00:00.190Z",
          "2020-04-10T21:00:00.182Z",
          "2020-04-10T22:00:00.212Z",
          "2020-04-10T23:00:00.185Z",
          "2020-04-11T00:00:00.202Z",
          "2020-04-11T01:00:00.229Z",
          "2020-04-11T02:00:00.265Z",
          "2020-04-11T03:00:00.193Z",
          "2020-04-11T04:00:00.199Z",
          "2020-04-11T05:00:00.176Z",
          "2020-04-11T06:00:00.230Z",
          "2020-04-11T07:00:00.226Z",
          "2020-04-11T08:00:00.196Z",
          "2020-04-11T09:00:00.281Z",
          "2020-04-11T10:00:00.226Z",
          "2020-04-11T11:00:00.259Z",
          "2020-04-11T12:00:00.277Z",
          "2020-04-11T13:00:00.253Z",
          "2020-04-11T14:00:00.189Z",
          "2020-04-11T15:00:00.222Z",
          "2020-04-11T16:00:00.193Z",
          "2020-04-11T17:00:00.213Z",
          "2020-04-11T18:00:00.264Z",
          "2020-04-11T19:00:00.178Z",
          "2020-04-11T20:00:00.235Z",
          "2020-04-11T21:00:00.257Z",
          "2020-04-11T22:00:00.247Z",
          "2020-04-11T23:00:00.217Z",
          "2020-04-12T00:00:00.224Z",
          "2020-04-12T01:00:00.262Z",
          "2020-04-12T02:00:00.185Z",
          "2020-04-12T03:00:00.219Z",
          "2020-04-12T04:00:00.192Z",
          "2020-04-12T05:00:00.173Z",
          "2020-04-12T06:00:00.256Z",
          "2020-04-12T07:00:00.237Z",
          "2020-04-12T08:00:00.177Z",
          "2020-04-12T09:00:00.225Z",
          "2020-04-12T10:00:00.258Z",
          "2020-04-12T11:00:00.252Z",
          "2020-04-12T12:00:00.187Z",
          "2020-04-12T13:00:00.211Z",
          "2020-04-12T14:00:00.230Z",
          "2020-04-12T15:00:00.182Z",
          "2020-04-12T16:00:00.273Z",
          "2020-04-12T17:00:00.246Z",
          "2020-04-12T18:00:00.193Z",
          "2020-04-12T19:00:00.187Z",
          "2020-04-12T20:00:00.207Z",
          "2020-04-12T21:00:00.213Z",
          "2020-04-12T22:00:00.205Z",
          "2020-04-12T23:00:00.251Z",
          "2020-04-13T00:00:00.241Z",
          "2020-04-13T01:00:00.214Z",
          "2020-04-13T02:00:00.244Z",
          "2020-04-13T03:00:00.244Z",
          "2020-04-13T04:00:00.245Z",
          "2020-04-13T05:00:00.228Z",
          "2020-04-13T06:00:00.261Z",
          "2020-04-13T07:00:00.231Z",
          "2020-04-13T08:00:00.250Z",
          "2020-04-13T09:00:00.223Z",
          "2020-04-13T10:00:00.226Z",
          "2020-04-13T11:00:00.202Z",
          "2020-04-13T12:00:00.180Z",
          "2020-04-13T13:00:00.170Z",
          "2020-04-13T14:00:00.209Z",
          "2020-04-13T15:00:00.230Z",
          "2020-04-13T16:00:00.212Z",
          "2020-04-13T17:00:00.233Z",
          "2020-04-13T18:00:00.261Z",
          "2020-04-13T19:00:00.275Z",
          "2020-04-13T20:00:00.177Z",
          "2020-04-13T21:00:00.223Z",
          "2020-04-13T22:00:00.224Z",
          "2020-04-13T23:00:00.242Z",
          "2020-04-14T00:00:00.214Z",
          "2020-04-14T01:00:00.220Z",
          "2020-04-14T02:00:00.242Z",
          "2020-04-14T03:00:00.257Z",
          "2020-04-14T04:00:00.207Z",
          "2020-04-14T05:00:00.209Z",
          "2020-04-14T06:00:00.215Z",
          "2020-04-14T07:00:00.227Z",
          "2020-04-14T08:00:00.215Z",
          "2020-04-14T09:00:00.254Z",
          "2020-04-14T10:00:00.226Z",
          "2020-04-14T11:00:00.177Z",
          "2020-04-14T12:00:00.381Z",
          "2020-04-14T13:00:00.180Z",
          "2020-04-14T14:00:00.244Z",
          "2020-04-14T15:00:00.227Z",
          "2020-04-14T16:00:00.295Z",
          "2020-04-14T17:00:00.224Z",
          "2020-04-14T18:00:00.223Z",
          "2020-04-14T19:00:00.220Z",
          "2020-04-14T20:00:00.218Z",
          "2020-04-14T21:00:00.233Z",
          "2020-04-14T22:00:00.219Z",
          "2020-04-14T23:00:00.245Z",
          "2020-04-15T00:00:00.254Z",
          "2020-04-15T01:00:00.189Z",
          "2020-04-15T02:00:00.206Z",
          "2020-04-15T03:00:00.179Z",
          "2020-04-15T04:00:00.227Z",
          "2020-04-15T05:00:00.261Z",
          "2020-04-15T06:00:00.188Z",
          "2020-04-15T07:00:00.229Z",
          "2020-04-15T08:00:00.204Z",
          "2020-04-15T09:00:00.190Z",
          "2020-04-15T10:00:00.212Z",
          "2020-04-15T11:00:00.238Z",
          "2020-04-15T12:00:00.249Z",
          "2020-04-15T13:00:00.239Z",
          "2020-04-15T14:00:00.212Z",
          "2020-04-15T15:00:00.258Z",
          "2020-04-15T16:00:00.219Z",
          "2020-04-15T17:00:00.184Z",
          "2020-04-15T18:00:00.197Z",
          "2020-04-15T19:00:00.303Z",
          "2020-04-15T20:00:00.243Z",
          "2020-04-15T21:00:00.221Z",
          "2020-04-15T22:00:00.246Z",
          "2020-04-15T23:00:00.246Z",
          "2020-04-16T00:00:00.185Z",
          "2020-04-16T01:00:00.265Z",
          "2020-04-16T02:00:00.175Z",
          "2020-04-16T03:00:00.201Z",
          "2020-04-16T04:00:00.216Z",
          "2020-04-16T05:00:00.225Z",
          "2020-04-16T06:00:00.237Z",
          "2020-04-16T07:00:00.263Z",
          "2020-04-16T08:00:00.240Z",
          "2020-04-16T09:00:00.214Z",
          "2020-04-16T10:00:00.193Z",
          "2020-04-16T11:00:00.213Z",
          "2020-04-16T12:00:00.229Z",
          "2020-04-16T13:00:00.229Z",
          "2020-04-16T14:00:00.265Z",
          "2020-04-16T15:00:00.264Z",
          "2020-04-16T16:00:00.237Z",
          "2020-04-16T17:00:00.201Z",
          "2020-04-16T18:00:00.226Z",
          "2020-04-16T19:00:00.217Z",
          "2020-04-16T20:00:00.257Z",
          "2020-04-16T21:00:00.180Z",
          "2020-04-16T22:00:00.178Z",
          "2020-04-16T23:00:00.222Z",
          "2020-04-17T00:00:00.247Z",
          "2020-04-17T01:00:00.210Z",
          "2020-04-17T02:00:00.211Z",
          "2020-04-17T03:00:00.261Z",
          "2020-04-17T04:00:00.265Z",
          "2020-04-17T05:00:00.222Z",
          "2020-04-17T06:00:00.224Z",
          "2020-04-17T07:00:00.285Z",
          "2020-04-17T08:00:00.235Z",
          "2020-04-17T09:00:00.230Z",
          "2020-04-17T10:00:00.257Z",
          "2020-04-17T11:00:00.261Z",
          "2020-04-17T12:00:00.309Z",
          "2020-04-17T13:00:00.191Z",
          "2020-04-17T14:00:00.225Z",
          "2020-04-17T15:00:00.263Z",
          "2020-04-17T16:00:00.221Z",
          "2020-04-17T17:00:00.283Z",
          "2020-04-17T18:00:00.224Z",
          "2020-04-17T19:00:00.256Z",
          "2020-04-17T20:00:00.265Z",
          "2020-04-17T21:00:00.253Z",
          "2020-04-17T22:00:00.218Z",
          "2020-04-17T23:00:00.251Z",
          "2020-04-18T00:00:00.230Z",
          "2020-04-18T01:00:00.219Z",
          "2020-04-18T02:00:00.173Z",
          "2020-04-18T03:00:00.190Z",
          "2020-04-18T04:00:00.172Z",
          "2020-04-18T05:00:00.214Z",
          "2020-04-18T06:00:00.190Z",
          "2020-04-18T07:00:00.255Z",
          "2020-04-18T08:00:00.201Z",
          "2020-04-18T09:00:00.229Z",
          "2020-04-18T10:00:00.223Z",
          "2020-04-18T11:00:00.195Z",
          "2020-04-18T12:00:00.227Z",
          "2020-04-18T13:00:00.218Z",
          "2020-04-18T14:00:00.228Z",
          "2020-04-18T15:00:00.281Z",
          "2020-04-18T16:00:00.225Z",
          "2020-04-18T17:00:00.226Z",
          "2020-04-18T18:00:00.224Z",
          "2020-04-18T19:00:00.161Z",
          "2020-04-18T20:00:00.187Z",
          "2020-04-18T21:00:00.226Z",
          "2020-04-18T22:00:00.239Z",
          "2020-04-18T23:00:00.225Z",
          "2020-04-19T00:00:00.158Z",
          "2020-04-19T01:00:00.215Z",
          "2020-04-19T02:00:00.237Z",
          "2020-04-19T03:00:00.182Z",
          "2020-04-19T04:00:00.206Z",
          "2020-04-19T05:00:00.226Z",
          "2020-04-19T06:00:00.177Z",
          "2020-04-19T07:00:00.263Z",
          "2020-04-19T08:00:00.213Z",
          "2020-04-19T09:00:00.186Z",
          "2020-04-19T10:00:00.193Z",
          "2020-04-19T11:00:00.217Z",
          "2020-04-19T12:00:00.176Z",
          "2020-04-19T13:00:00.240Z",
          "2020-04-19T14:00:00.267Z",
          "2020-04-19T15:00:00.187Z",
          "2020-04-19T16:00:00.177Z",
          "2020-04-19T17:00:00.248Z",
          "2020-04-19T18:00:00.269Z",
          "2020-04-19T19:00:00.216Z",
          "2020-04-19T20:00:00.189Z",
          "2020-04-19T21:00:00.272Z",
          "2020-04-19T22:00:00.274Z",
          "2020-04-19T23:00:00.222Z",
          "2020-04-20T00:00:00.251Z",
          "2020-04-20T01:00:00.244Z",
          "2020-04-20T02:00:00.181Z",
          "2020-04-20T03:00:00.238Z",
          "2020-04-20T04:00:00.213Z",
          "2020-04-20T05:00:00.205Z",
          "2020-04-20T06:00:00.223Z",
          "2020-04-20T07:00:00.182Z",
          "2020-04-20T08:00:00.211Z",
          "2020-04-20T09:00:00.231Z",
          "2020-04-20T10:00:00.234Z",
          "2020-04-20T11:00:00.214Z",
          "2020-04-20T12:00:00.354Z",
          "2020-04-20T13:00:00.238Z",
          "2020-04-20T14:00:00.187Z",
          "2020-04-20T15:00:00.222Z",
          "2020-04-20T16:00:00.263Z",
          "2020-04-20T17:00:00.191Z",
          "2020-04-20T18:00:00.225Z",
          "2020-04-20T19:00:00.257Z",
          "2020-04-20T20:00:00.269Z",
          "2020-04-20T21:00:00.179Z",
          "2020-04-20T22:00:00.167Z",
          "2020-04-20T23:00:00.186Z",
          "2020-04-21T00:00:00.227Z",
          "2020-04-21T01:00:00.239Z",
          "2020-04-21T02:00:00.224Z",
          "2020-04-21T03:00:00.237Z",
          "2020-04-21T04:00:00.276Z",
          "2020-04-21T05:00:00.212Z",
          "2020-04-21T06:00:00.215Z",
          "2020-04-21T07:00:00.237Z",
          "2020-04-21T08:00:00.299Z",
          "2020-04-21T09:00:00.262Z",
          "2020-04-21T10:00:00.234Z",
          "2020-04-21T11:00:00.219Z",
          "2020-04-21T12:00:00.199Z",
          "2020-04-21T13:00:00.260Z",
          "2020-04-21T14:00:00.265Z",
          "2020-04-21T15:00:00.208Z",
          "2020-04-21T16:00:00.278Z",
          "2020-04-21T17:00:00.208Z",
          "2020-04-21T18:00:00.190Z",
          "2020-04-21T19:00:00.264Z",
          "2020-04-21T20:00:00.222Z",
          "2020-04-21T21:00:00.215Z",
          "2020-04-21T22:00:00.219Z",
          "2020-04-21T23:00:00.206Z",
          "2020-04-22T00:00:00.207Z",
          "2020-04-22T01:00:00.220Z",
          "2020-04-22T02:00:00.203Z",
          "2020-04-22T03:00:00.213Z",
          "2020-04-22T04:00:00.201Z",
          "2020-04-22T05:00:00.248Z",
          "2020-04-22T06:00:00.189Z",
          "2020-04-22T07:00:00.223Z",
          "2020-04-22T08:00:00.223Z",
          "2020-04-22T09:00:00.223Z",
          "2020-04-22T10:00:00.245Z",
          "2020-04-22T11:00:00.284Z",
          "2020-04-22T12:00:00.259Z",
          "2020-04-22T13:00:00.263Z",
          "2020-04-22T14:00:00.214Z",
          "2020-04-22T15:00:00.256Z",
          "2020-04-22T16:00:00.214Z",
          "2020-04-22T17:00:00.178Z",
          "2020-04-22T18:00:00.225Z",
          "2020-04-22T19:00:00.246Z",
          "2020-04-22T20:00:00.195Z",
          "2020-04-22T21:00:00.215Z",
          "2020-04-22T22:00:00.243Z",
          "2020-04-22T23:00:00.257Z",
          "2020-04-23T00:00:00.163Z",
          "2020-04-23T01:00:00.201Z",
          "2020-04-23T02:00:00.254Z",
          "2020-04-23T03:00:00.238Z",
          "2020-04-23T04:00:00.218Z",
          "2020-04-23T05:00:00.261Z",
          "2020-04-23T06:00:00.254Z",
          "2020-04-23T07:00:00.227Z",
          "2020-04-23T08:00:00.193Z",
          "2020-04-23T09:00:00.181Z",
          "2020-04-23T10:00:00.190Z",
          "2020-04-23T11:00:00.222Z",
          "2020-04-23T12:00:00.266Z",
          "2020-04-23T13:00:00.307Z",
          "2020-04-23T14:00:00.268Z",
          "2020-04-23T15:00:00.251Z",
          "2020-04-23T16:00:00.268Z",
          "2020-04-23T17:00:00.272Z",
          "2020-04-23T18:00:00.264Z",
          "2020-04-23T19:00:00.259Z",
          "2020-04-23T20:00:00.251Z",
          "2020-04-23T21:00:00.248Z",
          "2020-04-23T22:00:00.248Z",
          "2020-04-23T23:00:00.281Z",
          "2020-04-24T00:00:00.256Z",
          "2020-04-24T01:00:00.254Z",
          "2020-04-24T02:00:00.246Z",
          "2020-04-24T03:00:00.248Z",
          "2020-04-24T04:00:00.257Z",
          "2020-04-24T05:00:00.168Z",
          "2020-04-24T06:00:00.215Z",
          "2020-04-24T07:00:00.248Z",
          "2020-04-24T08:00:00.204Z",
          "2020-04-24T09:00:00.243Z",
          "2020-04-24T10:00:00.269Z",
          "2020-04-24T11:00:00.237Z",
          "2020-04-24T12:00:00.225Z",
          "2020-04-24T13:00:00.218Z",
          "2020-04-24T14:00:00.218Z",
          "2020-04-24T15:00:00.394Z",
          "2020-04-24T16:00:00.186Z",
          "2020-04-24T17:00:00.219Z",
          "2020-04-24T18:00:00.173Z",
          "2020-04-24T19:00:00.233Z",
          "2020-04-24T20:00:00.198Z",
          "2020-04-24T21:00:00.174Z",
          "2020-04-24T22:00:00.184Z",
          "2020-04-24T23:00:00.224Z",
          "2020-04-25T00:00:00.270Z",
          "2020-04-25T01:00:00.212Z",
          "2020-04-25T02:00:00.224Z",
          "2020-04-25T03:00:00.177Z",
          "2020-04-25T04:00:00.223Z",
          "2020-04-25T05:00:00.215Z",
          "2020-04-25T06:00:00.259Z",
          "2020-04-25T07:00:00.189Z",
          "2020-04-25T08:00:00.179Z",
          "2020-04-25T09:00:00.227Z",
          "2020-04-25T10:00:00.195Z",
          "2020-04-25T11:00:00.185Z",
          "2020-04-25T12:00:00.251Z",
          "2020-04-25T13:00:00.257Z",
          "2020-04-25T14:00:01.516Z",
          "2020-04-25T15:00:00.185Z",
          "2020-04-25T16:00:00.190Z",
          "2020-04-25T17:00:00.243Z",
          "2020-04-25T18:00:00.254Z",
          "2020-04-25T19:00:00.229Z",
          "2020-04-25T20:00:00.224Z",
          "2020-04-25T21:00:00.359Z",
          "2020-04-25T22:00:00.175Z",
          "2020-04-25T23:00:00.230Z",
          "2020-04-26T00:00:00.255Z",
          "2020-04-26T01:00:00.252Z",
          "2020-04-26T02:00:00.184Z",
          "2020-04-26T03:00:00.206Z",
          "2020-04-26T04:00:00.168Z",
          "2020-04-26T05:00:00.210Z",
          "2020-04-26T06:00:00.204Z",
          "2020-04-26T07:00:00.259Z",
          "2020-04-26T08:00:00.247Z",
          "2020-04-26T09:00:00.205Z",
          "2020-04-26T10:00:00.220Z",
          "2020-04-26T11:00:00.176Z",
          "2020-04-26T12:00:00.267Z",
          "2020-04-26T13:00:00.268Z",
          "2020-04-26T14:00:00.207Z",
          "2020-04-26T15:00:00.220Z",
          "2020-04-26T16:00:00.268Z",
          "2020-04-26T17:00:00.224Z",
          "2020-04-26T18:00:00.247Z",
          "2020-04-26T19:00:00.207Z",
          "2020-04-26T20:00:00.235Z",
          "2020-04-26T21:00:00.207Z",
          "2020-04-26T22:00:00.263Z",
          "2020-04-26T23:00:00.243Z",
          "2020-04-27T00:00:00.208Z",
          "2020-04-27T01:00:00.171Z",
          "2020-04-27T02:00:00.213Z",
          "2020-04-27T03:00:00.222Z",
          "2020-04-27T04:00:00.202Z",
          "2020-04-27T05:00:00.197Z",
          "2020-04-27T06:00:00.216Z",
          "2020-04-27T07:00:00.273Z",
          "2020-04-27T08:00:01.783Z",
          "2020-04-27T09:00:00.217Z",
          "2020-04-27T10:00:00.222Z",
          "2020-04-27T11:00:00.228Z",
          "2020-04-27T12:00:00.234Z",
          "2020-04-27T13:00:00.184Z",
          "2020-04-27T14:00:00.184Z",
          "2020-04-27T15:00:00.205Z",
          "2020-04-27T16:00:00.270Z",
          "2020-04-27T17:00:00.232Z",
          "2020-04-27T18:00:00.195Z",
          "2020-04-27T19:00:00.267Z",
          "2020-04-27T20:00:00.237Z",
          "2020-04-27T21:00:00.215Z",
          "2020-04-27T22:00:00.214Z",
          "2020-04-27T23:00:00.211Z",
          "2020-04-28T00:00:00.209Z",
          "2020-04-28T01:00:00.213Z",
          "2020-04-28T02:00:00.210Z",
          "2020-04-28T03:00:00.184Z",
          "2020-04-28T04:00:00.216Z",
          "2020-04-28T05:00:00.263Z",
          "2020-04-28T06:00:00.240Z",
          "2020-04-28T07:00:00.236Z",
          "2020-04-28T08:00:00.188Z",
          "2020-04-28T09:00:00.176Z",
          "2020-04-28T10:00:00.234Z",
          "2020-04-28T11:00:00.192Z",
          "2020-04-28T12:00:00.187Z",
          "2020-04-28T13:00:00.226Z",
          "2020-04-28T14:00:00.254Z",
          "2020-04-28T15:00:00.236Z",
          "2020-04-28T16:00:00.194Z",
          "2020-04-28T17:00:00.249Z",
          "2020-04-28T18:00:00.230Z",
          "2020-04-28T19:00:00.252Z",
          "2020-04-28T20:00:00.176Z",
          "2020-04-28T21:00:00.214Z",
          "2020-04-28T22:00:00.202Z",
          "2020-04-28T23:00:00.206Z",
          "2020-04-29T00:00:00.209Z",
          "2020-04-29T01:00:00.214Z",
          "2020-04-29T02:00:00.206Z",
          "2020-04-29T03:00:00.212Z",
          "2020-04-29T04:00:00.213Z",
          "2020-04-29T05:00:00.256Z",
          "2020-04-29T06:00:00.268Z",
          "2020-04-29T07:00:00.209Z",
          "2020-04-29T08:00:00.217Z",
          "2020-04-29T09:00:00.247Z",
          "2020-04-29T10:00:00.253Z",
          "2020-04-29T11:00:00.279Z",
          "2020-04-29T12:00:00.246Z",
          "2020-04-29T13:00:00.214Z",
          "2020-04-29T14:00:00.192Z",
          "2020-04-29T15:00:00.199Z",
          "2020-04-29T17:00:00.182Z",
          "2020-04-29T18:00:00.173Z",
          "2020-04-29T19:00:00.223Z",
          "2020-04-29T20:00:00.237Z",
          "2020-04-29T21:00:00.244Z",
          "2020-04-29T22:00:00.215Z",
          "2020-04-29T23:00:00.245Z",
          "2020-04-30T00:00:00.215Z",
          "2020-04-30T01:00:05.257Z",
          "2020-04-30T02:00:00.214Z",
          "2020-04-30T03:00:00.217Z",
          "2020-04-30T04:00:00.206Z",
          "2020-04-30T05:00:00.260Z",
          "2020-04-30T06:00:00.210Z",
          "2020-04-30T07:00:00.277Z",
          "2020-04-30T08:00:00.262Z",
          "2020-04-30T09:00:00.225Z",
          "2020-04-30T10:00:00.234Z",
          "2020-04-30T11:00:00.192Z",
          "2020-04-30T12:00:00.193Z",
          "2020-04-30T13:00:00.227Z",
          "2020-04-30T14:00:00.229Z",
          "2020-04-30T15:00:00.256Z",
          "2020-04-30T16:00:00.219Z",
          "2020-04-30T17:00:00.221Z",
          "2020-04-30T18:00:00.230Z",
          "2020-04-30T19:00:00.214Z",
          "2020-04-30T20:00:00.220Z",
          "2020-04-30T21:00:00.184Z",
          "2020-04-30T22:00:00.218Z",
          "2020-04-30T23:00:00.202Z",
          "2020-05-01T00:00:00.207Z",
          "2020-05-01T01:00:00.176Z",
          "2020-05-01T02:00:00.213Z",
          "2020-05-01T03:00:00.216Z",
          "2020-05-01T04:00:00.244Z",
          "2020-05-01T05:00:00.207Z",
          "2020-05-01T06:00:00.245Z",
          "2020-05-01T07:00:00.254Z",
          "2020-05-01T08:00:00.221Z",
          "2020-05-01T09:00:00.186Z",
          "2020-05-01T10:00:00.206Z",
          "2020-05-01T11:00:00.197Z",
          "2020-05-01T12:00:00.194Z",
          "2020-05-01T13:00:00.256Z",
          "2020-05-01T14:00:00.250Z",
          "2020-05-01T15:00:00.227Z",
          "2020-05-01T16:00:00.260Z",
          "2020-05-01T17:00:00.194Z",
          "2020-05-01T18:00:00.250Z",
          "2020-05-01T19:00:00.250Z",
          "2020-05-01T20:00:00.220Z",
          "2020-05-01T21:00:00.185Z",
          "2020-05-01T22:00:00.220Z",
          "2020-05-01T23:00:00.175Z",
          "2020-05-02T00:00:00.205Z",
          "2020-05-02T01:00:00.219Z",
          "2020-05-02T02:00:00.247Z",
          "2020-05-02T03:00:00.178Z",
          "2020-05-02T04:00:00.191Z",
          "2020-05-02T05:00:00.249Z",
          "2020-05-02T06:00:00.224Z",
          "2020-05-02T07:00:00.244Z",
          "2020-05-02T08:00:00.222Z",
          "2020-05-02T09:00:00.225Z",
          "2020-05-02T10:00:00.223Z",
          "2020-05-02T11:00:00.213Z",
          "2020-05-02T12:00:00.200Z",
          "2020-05-02T13:00:00.224Z",
          "2020-05-02T14:00:00.195Z",
          "2020-05-02T15:00:00.225Z",
          "2020-05-02T16:00:00.231Z",
          "2020-05-02T17:00:00.190Z",
          "2020-05-02T18:00:00.176Z",
          "2020-05-02T19:00:00.252Z",
          "2020-05-02T20:00:00.184Z",
          "2020-05-02T21:00:00.215Z",
          "2020-05-02T22:00:00.211Z",
          "2020-05-02T23:00:00.165Z",
          "2020-05-03T00:00:00.208Z",
          "2020-05-03T01:00:00.260Z",
          "2020-05-03T02:00:00.197Z",
          "2020-05-03T03:00:00.225Z",
          "2020-05-03T04:00:01.076Z",
          "2020-05-03T05:00:00.215Z",
          "2020-05-03T06:00:00.191Z",
          "2020-05-03T07:00:00.222Z",
          "2020-05-03T08:00:00.188Z",
          "2020-05-03T09:00:00.246Z",
          "2020-05-03T10:00:00.178Z",
          "2020-05-03T11:00:00.218Z",
          "2020-05-03T12:00:00.252Z",
          "2020-05-03T13:00:00.211Z",
          "2020-05-03T14:00:00.213Z",
          "2020-05-03T15:00:00.207Z",
          "2020-05-03T16:00:00.253Z",
          "2020-05-03T17:00:00.217Z",
          "2020-05-03T18:00:00.180Z",
          "2020-05-03T19:00:00.253Z",
          "2020-05-03T20:00:00.173Z",
          "2020-05-03T21:00:00.225Z",
          "2020-05-03T22:00:00.194Z",
          "2020-05-03T23:00:00.232Z",
          "2020-05-04T00:00:00.236Z",
          "2020-05-04T01:00:00.173Z",
          "2020-05-04T02:00:00.200Z",
          "2020-05-04T03:00:01.669Z",
          "2020-05-04T04:00:00.176Z",
          "2020-05-04T05:00:00.191Z",
          "2020-05-04T06:00:00.183Z",
          "2020-05-04T07:00:00.202Z",
          "2020-05-04T08:00:00.231Z",
          "2020-05-04T09:00:00.221Z",
          "2020-05-04T10:00:00.245Z",
          "2020-05-04T11:00:00.191Z",
          "2020-05-04T12:00:00.267Z",
          "2020-05-04T13:00:00.218Z",
          "2020-05-04T14:00:00.172Z",
          "2020-05-04T15:00:00.210Z",
          "2020-05-04T16:00:00.205Z",
          "2020-05-04T17:00:00.258Z",
          "2020-05-04T18:00:00.246Z",
          "2020-05-04T19:00:00.187Z",
          "2020-05-04T20:00:00.211Z",
          "2020-05-04T21:00:00.226Z",
          "2020-05-04T22:00:00.173Z",
          "2020-05-04T23:00:00.198Z",
          "2020-05-05T00:00:00.178Z",
          "2020-05-05T01:00:00.233Z",
          "2020-05-05T02:00:00.179Z",
          "2020-05-05T03:00:00.183Z",
          "2020-05-05T04:00:00.203Z",
          "2020-05-05T05:00:00.208Z",
          "2020-05-05T06:00:00.218Z",
          "2020-05-05T07:00:00.178Z",
          "2020-05-05T08:00:00.244Z",
          "2020-05-05T09:00:00.197Z",
          "2020-05-05T10:00:00.215Z",
          "2020-05-05T11:00:00.205Z",
          "2020-05-05T12:00:00.258Z",
          "2020-05-05T13:00:00.218Z",
          "2020-05-05T14:00:00.234Z",
          "2020-05-05T15:00:00.177Z",
          "2020-05-05T16:00:00.177Z",
          "2020-05-05T17:00:00.227Z",
          "2020-05-05T18:00:00.222Z",
          "2020-05-05T19:00:00.209Z",
          "2020-05-05T20:00:00.359Z",
          "2020-05-05T21:00:00.185Z",
          "2020-05-05T22:00:00.234Z",
          "2020-05-05T23:00:00.218Z",
          "2020-05-06T00:00:00.208Z",
          "2020-05-06T01:00:00.179Z",
          "2020-05-06T02:00:00.211Z",
          "2020-05-06T03:00:00.251Z",
          "2020-05-06T04:00:00.266Z",
          "2020-05-06T05:00:00.213Z",
          "2020-05-06T06:00:00.189Z",
          "2020-05-06T07:00:00.224Z",
          "2020-05-06T08:00:00.216Z",
          "2020-05-06T09:00:00.233Z",
          "2020-05-06T09:00:00.666Z",
          "2020-05-06T10:00:00.235Z",
          "2020-05-06T10:00:09.342Z",
          "2020-05-06T11:00:00.190Z",
          "2020-05-06T11:00:01.632Z",
          "2020-05-06T12:00:00.255Z",
          "2020-05-06T12:00:00.772Z"
         ],
         "y": [
          62,
          62,
          85,
          85,
          85,
          85,
          85,
          85,
          85,
          85,
          85,
          116,
          116,
          116,
          116,
          116,
          116,
          116,
          116,
          116,
          116,
          116,
          116,
          116,
          116,
          116,
          116,
          116,
          116,
          116,
          116,
          116,
          116,
          116,
          116,
          116,
          116,
          116,
          150,
          150,
          150,
          150,
          150,
          150,
          150,
          150,
          150,
          150,
          150,
          150,
          150,
          150,
          150,
          150,
          150,
          150,
          150,
          150,
          150,
          202,
          202,
          202,
          202,
          202,
          202,
          202,
          202,
          202,
          202,
          202,
          202,
          202,
          202,
          202,
          202,
          202,
          202,
          202,
          202,
          202,
          202,
          202,
          202,
          239,
          239,
          239,
          238,
          238,
          238,
          238,
          238,
          238,
          238,
          238,
          238,
          238,
          238,
          238,
          238,
          238,
          238,
          238,
          238,
          238,
          238,
          238,
          238,
          238,
          238,
          238,
          238,
          238,
          238,
          238,
          238,
          238,
          272,
          272,
          272,
          272,
          272,
          272,
          272,
          272,
          272,
          398,
          398,
          398,
          398,
          398,
          398,
          398,
          398,
          398,
          398,
          398,
          398,
          398,
          550,
          550,
          550,
          550,
          550,
          550,
          550,
          550,
          550,
          550,
          550,
          550,
          550,
          550,
          550,
          550,
          550,
          550,
          550,
          550,
          550,
          550,
          705,
          705,
          705,
          705,
          705,
          697,
          697,
          697,
          697,
          697,
          697,
          697,
          697,
          697,
          697,
          697,
          697,
          697,
          697,
          697,
          697,
          697,
          697,
          697,
          697,
          697,
          697,
          697,
          697,
          697,
          697,
          697,
          697,
          915,
          915,
          915,
          915,
          915,
          915,
          915,
          915,
          915,
          915,
          915,
          915,
          915,
          915,
          915,
          915,
          913,
          913,
          913,
          913,
          913,
          913,
          913,
          913,
          913,
          1156,
          1156,
          1156,
          1157,
          1138,
          1138,
          1138,
          1138,
          1138,
          1138,
          1138,
          1138,
          1138,
          1138,
          1138,
          1138,
          1138,
          1138,
          1138,
          1138,
          1138,
          1138,
          1138,
          1137,
          1154,
          1154,
          1154,
          1155,
          1155,
          1155,
          1155,
          1155,
          1155,
          1155,
          1155,
          1155,
          1155,
          1155,
          1155,
          1155,
          1155,
          1155,
          1155,
          1155,
          1155,
          1155,
          1155,
          1155,
          1155,
          1247,
          1247,
          1247,
          1247,
          1247,
          1247,
          1247,
          1247,
          1247,
          1247,
          1247,
          1247,
          1247,
          1247,
          1247,
          1247,
          1247,
          1247,
          1247,
          1247,
          1247,
          1247,
          1292,
          1292,
          1292,
          1292,
          1292,
          1292,
          1292,
          1292,
          1292,
          1292,
          1292,
          1292,
          1292,
          1292,
          1292,
          1292,
          1292,
          1292,
          1292,
          1292,
          1292,
          1292,
          1319,
          1319,
          1319,
          1319,
          1319,
          1317,
          1317,
          1317,
          1317,
          1317,
          1317,
          1317,
          1317,
          1317,
          1317,
          1317,
          1298,
          1298,
          1298,
          1298,
          1298,
          1298,
          1298,
          1298,
          1298,
          1325,
          1325,
          1325,
          1325,
          1325,
          1325,
          1325,
          1325,
          1325,
          1325,
          1325,
          1325,
          1325,
          1325,
          1325,
          1325,
          1325,
          1325,
          1325,
          1325,
          1325,
          1325,
          1325,
          1325,
          1407,
          1407,
          1407,
          1407,
          1407,
          1407,
          1407,
          1407,
          1407,
          1407,
          1407,
          1407,
          1362,
          1362,
          1362,
          1362,
          1362,
          1362,
          1362,
          1362,
          1362,
          1362,
          1403,
          1403,
          1401,
          1401,
          1401,
          1401,
          1401,
          1401,
          1401,
          1401,
          1401,
          1401,
          1401,
          1401,
          1401,
          1401,
          1401,
          1401,
          1401,
          1401,
          1401,
          1401,
          1401,
          1401,
          1401,
          1401,
          1401,
          1481,
          1481,
          1481,
          1481,
          1481,
          1481,
          1481,
          1481,
          1481,
          1481,
          1481,
          1481,
          1481,
          1481,
          1481,
          1481,
          1481,
          1481,
          1481,
          1481,
          1481,
          1481,
          1481,
          1481,
          1549,
          1549,
          1549,
          1549,
          1549,
          1549,
          1549,
          1549,
          1549,
          1549,
          1549,
          1549,
          1549,
          1549,
          1549,
          1549,
          1549,
          1549,
          1549,
          1549,
          1549,
          1549,
          1549,
          1549,
          1579,
          1579,
          1579,
          1579,
          1579,
          1579,
          1579,
          1579,
          1579,
          1579,
          1579,
          1579,
          1579,
          1579,
          1579,
          1579,
          1579,
          1579,
          1641,
          1641,
          1641,
          1641,
          1641,
          1641,
          1641,
          1641,
          1641,
          1641,
          1641,
          1641,
          1641,
          1641,
          1641,
          1641,
          1641,
          1641,
          1641,
          1641,
          1641,
          1641,
          1641,
          1641,
          1641,
          1641,
          1641,
          1641,
          1641,
          1732,
          1732,
          1732,
          1732,
          1732,
          1732,
          1732,
          1732,
          1732,
          1732,
          1732,
          1732,
          1732,
          1732,
          1732,
          1732,
          1732,
          1732,
          1732,
          1732,
          1732,
          1732,
          1732,
          1732,
          1821,
          1821,
          1821,
          1821,
          1821,
          1821,
          1821,
          1821,
          1821,
          1821,
          1821,
          1821,
          1821,
          1821,
          1821,
          1821,
          1821,
          1821,
          1569,
          1569,
          1569,
          1569,
          1569,
          1569,
          1569,
          1569,
          1569,
          1569,
          1569,
          1569,
          1569,
          1569,
          1569,
          1569,
          1569,
          1569,
          1569,
          1569,
          1569,
          1569,
          1569,
          1569,
          1569,
          1569,
          1569,
          1569,
          1569,
          1593,
          1593,
          1593,
          1593,
          1593,
          1593,
          1593,
          1593,
          1593,
          1593,
          1593,
          1593,
          1593,
          1593,
          1593,
          1593,
          1593,
          1593,
          1593,
          1593,
          1593,
          1593,
          1593,
          1593,
          1738,
          1738,
          1738,
          1738,
          1738,
          1738,
          1738,
          1738,
          1738,
          1738,
          1738,
          1738,
          1738,
          1738,
          1738,
          1738,
          1738,
          1738,
          1738,
          1738,
          1738,
          1738,
          1738,
          1738,
          1835,
          1835,
          1835,
          1835,
          1835,
          1835,
          1835,
          1835,
          1835,
          1835,
          1835,
          1835,
          1835,
          1835,
          1835,
          1835,
          1835,
          1835,
          1835,
          1835,
          1978,
          1978,
          1978,
          1978,
          1978,
          1978,
          1978,
          1978,
          1978,
          1978,
          1978,
          1978,
          1978,
          1978,
          1978,
          1978,
          1978,
          1978,
          1978,
          1978,
          1978,
          1978,
          1978,
          1978,
          1978,
          1978,
          1978,
          2062,
          2062,
          2062,
          2062,
          2062,
          2062,
          2062,
          2062,
          2062,
          2062,
          2062,
          2062,
          2062,
          2062,
          2062,
          2062,
          2062,
          2062,
          2062,
          2062,
          2062,
          2062,
          2062,
          2062,
          2062,
          2062,
          1654,
          1654,
          1654,
          1654,
          1654,
          1654,
          1654,
          1654,
          1654,
          1654,
          1654,
          1654,
          1654,
          1654,
          1654,
          1654,
          1654,
          1654,
          1654,
          1654,
          1654,
          1654,
          1654,
          1654,
          1830,
          1830,
          1830,
          1830,
          1830,
          1830,
          1830,
          1830,
          1830,
          1830,
          1830,
          1830,
          1830,
          1830,
          1830,
          1830,
          1830,
          1830,
          1830,
          1830,
          1830,
          1830,
          1830,
          1830,
          2081,
          2081,
          2079,
          2079,
          2079,
          2079,
          2079,
          2079,
          2079,
          2079,
          2079,
          2079,
          2079,
          2079,
          2079,
          2079,
          2079,
          2079,
          2079,
          2079,
          2079,
          2079,
          2079,
          2201,
          2201,
          2201,
          2201,
          2201,
          2201,
          2201,
          2201,
          2201,
          2201,
          2201,
          2201,
          2201,
          2201,
          2201,
          2201,
          2201,
          2201,
          2201,
          2201,
          2201,
          2201,
          2201,
          2201,
          2201,
          2201,
          2187,
          2187,
          2187,
          2187,
          2187,
          2187,
          2187,
          2187,
          2187,
          2187,
          2187,
          2187,
          2187,
          2187,
          2187,
          2187,
          2187,
          2187,
          2187,
          2187,
          2187,
          2352,
          2352,
          2352,
          2352,
          2352,
          2352,
          2352,
          2352,
          2352,
          2352,
          2352,
          2352,
          2352,
          2352,
          2352,
          2352,
          2352,
          2352,
          2352,
          2352,
          2352,
          2352,
          2352,
          2352,
          2352,
          2352,
          2515,
          2515,
          2515,
          2515,
          2515,
          2515,
          2515,
          2515,
          2515,
          2515,
          2515,
          2515,
          2515,
          2515,
          2515,
          2515,
          2515,
          2515,
          2515,
          2515,
          2515,
          2515,
          2515,
          2405,
          2405,
          2405,
          2405,
          2405,
          2405,
          2405,
          2405,
          2405,
          2405,
          2405,
          2405,
          2405,
          2405,
          2405,
          2405,
          2405,
          2405,
          2405,
          2405,
          2405,
          2405,
          2405,
          2405,
          2405,
          2668,
          2668,
          2668,
          2668,
          2668,
          2668,
          2668,
          2668,
          2668,
          2668,
          2668,
          2668,
          2668,
          2668,
          2668,
          2668,
          2668,
          2668,
          2668,
          2668,
          2668,
          2668,
          2668,
          2668,
          2802,
          2802,
          2802,
          2802,
          2802,
          2802,
          2802,
          2802,
          2802,
          2802,
          2802,
          2802,
          2802,
          2802,
          2802,
          2802,
          2802,
          2802,
          2802,
          2802,
          2802,
          2802,
          2802,
          2802,
          2986,
          2986,
          2986,
          2986,
          2986,
          2986,
          2986,
          2986,
          2986,
          2986,
          2986,
          2986,
          2986,
          2986,
          2986,
          2986,
          2986,
          2986,
          2986,
          2986,
          2986,
          2986,
          2986,
          2986,
          2986,
          3230,
          3230,
          3230,
          3230,
          3230,
          3230,
          3230,
          3230,
          3230,
          3230,
          3230,
          3230,
          3230,
          3230,
          3230,
          3230,
          3230,
          3230,
          3230,
          3230,
          3230,
          3230,
          3230,
          3230,
          2830,
          2830,
          2830,
          2830,
          2830,
          2830,
          2830,
          2830,
          2830,
          2830,
          2830,
          2830,
          2830,
          2830,
          2830,
          2830,
          2830,
          2830,
          2830,
          2830,
          2830,
          2830,
          2830,
          3174,
          3174,
          3174,
          3174,
          3174,
          3174,
          3174,
          3174,
          3174,
          3174,
          3174,
          3174,
          3174,
          3174,
          3174,
          3174,
          3174,
          3174,
          3174,
          3174,
          3174,
          3174,
          3174,
          3471,
          3471,
          3471,
          3471,
          3471,
          3471,
          3471,
          3471,
          3471,
          3471,
          3471,
          3471,
          3471,
          3471,
          3471,
          3471,
          3471,
          3471,
          3471,
          3471,
          3471,
          3471,
          3471,
          3471,
          3471,
          3471,
          3453,
          3453,
          3453,
          3453,
          3453,
          3453,
          3453,
          3453,
          3453,
          3453,
          3453,
          3453,
          3453,
          3453,
          3453,
          3453,
          3453,
          3453,
          3453,
          3453,
          3453,
          3453,
          3664,
          3664,
          3664,
          3664,
          3664,
          3664,
          3664,
          3664,
          3664,
          3664,
          3664,
          3664,
          3664,
          3664,
          3664,
          3664,
          3664,
          3664,
          3664,
          3664,
          3664,
          3664,
          3664,
          3664,
          4103,
          4103,
          4103,
          4103,
          4103,
          4103,
          4103,
          4103,
          4103,
          4103,
          4103,
          4103,
          4103,
          4103,
          4103,
          4103,
          4103,
          4103,
          4103,
          4103,
          4103,
          4103,
          4103,
          4103,
          4336,
          4336,
          4336,
          4336,
          4336,
          4336,
          4336,
          4336,
          4336,
          4336,
          4336,
          4336,
          4336,
          4336,
          4336,
          4336,
          4336,
          4336,
          4336,
          4336,
          4336,
          4336,
          4336,
          4336,
          4336,
          4678,
          4678,
          4678,
          4678,
          4678,
          4678,
          4678,
          4678,
          4678,
          4678,
          4678,
          4678,
          4678,
          4678,
          4678,
          4678,
          4678,
          4678,
          4678,
          4678,
          4678
         ]
        }
       ],
       "layout": {
        "template": {
         "data": {
          "bar": [
           {
            "error_x": {
             "color": "#2a3f5f"
            },
            "error_y": {
             "color": "#2a3f5f"
            },
            "marker": {
             "line": {
              "color": "#E5ECF6",
              "width": 0.5
             }
            },
            "type": "bar"
           }
          ],
          "barpolar": [
           {
            "marker": {
             "line": {
              "color": "#E5ECF6",
              "width": 0.5
             }
            },
            "type": "barpolar"
           }
          ],
          "carpet": [
           {
            "aaxis": {
             "endlinecolor": "#2a3f5f",
             "gridcolor": "white",
             "linecolor": "white",
             "minorgridcolor": "white",
             "startlinecolor": "#2a3f5f"
            },
            "baxis": {
             "endlinecolor": "#2a3f5f",
             "gridcolor": "white",
             "linecolor": "white",
             "minorgridcolor": "white",
             "startlinecolor": "#2a3f5f"
            },
            "type": "carpet"
           }
          ],
          "choropleth": [
           {
            "colorbar": {
             "outlinewidth": 0,
             "ticks": ""
            },
            "type": "choropleth"
           }
          ],
          "contour": [
           {
            "colorbar": {
             "outlinewidth": 0,
             "ticks": ""
            },
            "colorscale": [
             [
              0,
              "#0d0887"
             ],
             [
              0.1111111111111111,
              "#46039f"
             ],
             [
              0.2222222222222222,
              "#7201a8"
             ],
             [
              0.3333333333333333,
              "#9c179e"
             ],
             [
              0.4444444444444444,
              "#bd3786"
             ],
             [
              0.5555555555555556,
              "#d8576b"
             ],
             [
              0.6666666666666666,
              "#ed7953"
             ],
             [
              0.7777777777777778,
              "#fb9f3a"
             ],
             [
              0.8888888888888888,
              "#fdca26"
             ],
             [
              1,
              "#f0f921"
             ]
            ],
            "type": "contour"
           }
          ],
          "contourcarpet": [
           {
            "colorbar": {
             "outlinewidth": 0,
             "ticks": ""
            },
            "type": "contourcarpet"
           }
          ],
          "heatmap": [
           {
            "colorbar": {
             "outlinewidth": 0,
             "ticks": ""
            },
            "colorscale": [
             [
              0,
              "#0d0887"
             ],
             [
              0.1111111111111111,
              "#46039f"
             ],
             [
              0.2222222222222222,
              "#7201a8"
             ],
             [
              0.3333333333333333,
              "#9c179e"
             ],
             [
              0.4444444444444444,
              "#bd3786"
             ],
             [
              0.5555555555555556,
              "#d8576b"
             ],
             [
              0.6666666666666666,
              "#ed7953"
             ],
             [
              0.7777777777777778,
              "#fb9f3a"
             ],
             [
              0.8888888888888888,
              "#fdca26"
             ],
             [
              1,
              "#f0f921"
             ]
            ],
            "type": "heatmap"
           }
          ],
          "heatmapgl": [
           {
            "colorbar": {
             "outlinewidth": 0,
             "ticks": ""
            },
            "colorscale": [
             [
              0,
              "#0d0887"
             ],
             [
              0.1111111111111111,
              "#46039f"
             ],
             [
              0.2222222222222222,
              "#7201a8"
             ],
             [
              0.3333333333333333,
              "#9c179e"
             ],
             [
              0.4444444444444444,
              "#bd3786"
             ],
             [
              0.5555555555555556,
              "#d8576b"
             ],
             [
              0.6666666666666666,
              "#ed7953"
             ],
             [
              0.7777777777777778,
              "#fb9f3a"
             ],
             [
              0.8888888888888888,
              "#fdca26"
             ],
             [
              1,
              "#f0f921"
             ]
            ],
            "type": "heatmapgl"
           }
          ],
          "histogram": [
           {
            "marker": {
             "colorbar": {
              "outlinewidth": 0,
              "ticks": ""
             }
            },
            "type": "histogram"
           }
          ],
          "histogram2d": [
           {
            "colorbar": {
             "outlinewidth": 0,
             "ticks": ""
            },
            "colorscale": [
             [
              0,
              "#0d0887"
             ],
             [
              0.1111111111111111,
              "#46039f"
             ],
             [
              0.2222222222222222,
              "#7201a8"
             ],
             [
              0.3333333333333333,
              "#9c179e"
             ],
             [
              0.4444444444444444,
              "#bd3786"
             ],
             [
              0.5555555555555556,
              "#d8576b"
             ],
             [
              0.6666666666666666,
              "#ed7953"
             ],
             [
              0.7777777777777778,
              "#fb9f3a"
             ],
             [
              0.8888888888888888,
              "#fdca26"
             ],
             [
              1,
              "#f0f921"
             ]
            ],
            "type": "histogram2d"
           }
          ],
          "histogram2dcontour": [
           {
            "colorbar": {
             "outlinewidth": 0,
             "ticks": ""
            },
            "colorscale": [
             [
              0,
              "#0d0887"
             ],
             [
              0.1111111111111111,
              "#46039f"
             ],
             [
              0.2222222222222222,
              "#7201a8"
             ],
             [
              0.3333333333333333,
              "#9c179e"
             ],
             [
              0.4444444444444444,
              "#bd3786"
             ],
             [
              0.5555555555555556,
              "#d8576b"
             ],
             [
              0.6666666666666666,
              "#ed7953"
             ],
             [
              0.7777777777777778,
              "#fb9f3a"
             ],
             [
              0.8888888888888888,
              "#fdca26"
             ],
             [
              1,
              "#f0f921"
             ]
            ],
            "type": "histogram2dcontour"
           }
          ],
          "mesh3d": [
           {
            "colorbar": {
             "outlinewidth": 0,
             "ticks": ""
            },
            "type": "mesh3d"
           }
          ],
          "parcoords": [
           {
            "line": {
             "colorbar": {
              "outlinewidth": 0,
              "ticks": ""
             }
            },
            "type": "parcoords"
           }
          ],
          "pie": [
           {
            "automargin": true,
            "type": "pie"
           }
          ],
          "scatter": [
           {
            "marker": {
             "colorbar": {
              "outlinewidth": 0,
              "ticks": ""
             }
            },
            "type": "scatter"
           }
          ],
          "scatter3d": [
           {
            "line": {
             "colorbar": {
              "outlinewidth": 0,
              "ticks": ""
             }
            },
            "marker": {
             "colorbar": {
              "outlinewidth": 0,
              "ticks": ""
             }
            },
            "type": "scatter3d"
           }
          ],
          "scattercarpet": [
           {
            "marker": {
             "colorbar": {
              "outlinewidth": 0,
              "ticks": ""
             }
            },
            "type": "scattercarpet"
           }
          ],
          "scattergeo": [
           {
            "marker": {
             "colorbar": {
              "outlinewidth": 0,
              "ticks": ""
             }
            },
            "type": "scattergeo"
           }
          ],
          "scattergl": [
           {
            "marker": {
             "colorbar": {
              "outlinewidth": 0,
              "ticks": ""
             }
            },
            "type": "scattergl"
           }
          ],
          "scattermapbox": [
           {
            "marker": {
             "colorbar": {
              "outlinewidth": 0,
              "ticks": ""
             }
            },
            "type": "scattermapbox"
           }
          ],
          "scatterpolar": [
           {
            "marker": {
             "colorbar": {
              "outlinewidth": 0,
              "ticks": ""
             }
            },
            "type": "scatterpolar"
           }
          ],
          "scatterpolargl": [
           {
            "marker": {
             "colorbar": {
              "outlinewidth": 0,
              "ticks": ""
             }
            },
            "type": "scatterpolargl"
           }
          ],
          "scatterternary": [
           {
            "marker": {
             "colorbar": {
              "outlinewidth": 0,
              "ticks": ""
             }
            },
            "type": "scatterternary"
           }
          ],
          "surface": [
           {
            "colorbar": {
             "outlinewidth": 0,
             "ticks": ""
            },
            "colorscale": [
             [
              0,
              "#0d0887"
             ],
             [
              0.1111111111111111,
              "#46039f"
             ],
             [
              0.2222222222222222,
              "#7201a8"
             ],
             [
              0.3333333333333333,
              "#9c179e"
             ],
             [
              0.4444444444444444,
              "#bd3786"
             ],
             [
              0.5555555555555556,
              "#d8576b"
             ],
             [
              0.6666666666666666,
              "#ed7953"
             ],
             [
              0.7777777777777778,
              "#fb9f3a"
             ],
             [
              0.8888888888888888,
              "#fdca26"
             ],
             [
              1,
              "#f0f921"
             ]
            ],
            "type": "surface"
           }
          ],
          "table": [
           {
            "cells": {
             "fill": {
              "color": "#EBF0F8"
             },
             "line": {
              "color": "white"
             }
            },
            "header": {
             "fill": {
              "color": "#C8D4E3"
             },
             "line": {
              "color": "white"
             }
            },
            "type": "table"
           }
          ]
         },
         "layout": {
          "annotationdefaults": {
           "arrowcolor": "#2a3f5f",
           "arrowhead": 0,
           "arrowwidth": 1
          },
          "coloraxis": {
           "colorbar": {
            "outlinewidth": 0,
            "ticks": ""
           }
          },
          "colorscale": {
           "diverging": [
            [
             0,
             "#8e0152"
            ],
            [
             0.1,
             "#c51b7d"
            ],
            [
             0.2,
             "#de77ae"
            ],
            [
             0.3,
             "#f1b6da"
            ],
            [
             0.4,
             "#fde0ef"
            ],
            [
             0.5,
             "#f7f7f7"
            ],
            [
             0.6,
             "#e6f5d0"
            ],
            [
             0.7,
             "#b8e186"
            ],
            [
             0.8,
             "#7fbc41"
            ],
            [
             0.9,
             "#4d9221"
            ],
            [
             1,
             "#276419"
            ]
           ],
           "sequential": [
            [
             0,
             "#0d0887"
            ],
            [
             0.1111111111111111,
             "#46039f"
            ],
            [
             0.2222222222222222,
             "#7201a8"
            ],
            [
             0.3333333333333333,
             "#9c179e"
            ],
            [
             0.4444444444444444,
             "#bd3786"
            ],
            [
             0.5555555555555556,
             "#d8576b"
            ],
            [
             0.6666666666666666,
             "#ed7953"
            ],
            [
             0.7777777777777778,
             "#fb9f3a"
            ],
            [
             0.8888888888888888,
             "#fdca26"
            ],
            [
             1,
             "#f0f921"
            ]
           ],
           "sequentialminus": [
            [
             0,
             "#0d0887"
            ],
            [
             0.1111111111111111,
             "#46039f"
            ],
            [
             0.2222222222222222,
             "#7201a8"
            ],
            [
             0.3333333333333333,
             "#9c179e"
            ],
            [
             0.4444444444444444,
             "#bd3786"
            ],
            [
             0.5555555555555556,
             "#d8576b"
            ],
            [
             0.6666666666666666,
             "#ed7953"
            ],
            [
             0.7777777777777778,
             "#fb9f3a"
            ],
            [
             0.8888888888888888,
             "#fdca26"
            ],
            [
             1,
             "#f0f921"
            ]
           ]
          },
          "colorway": [
           "#636efa",
           "#EF553B",
           "#00cc96",
           "#ab63fa",
           "#FFA15A",
           "#19d3f3",
           "#FF6692",
           "#B6E880",
           "#FF97FF",
           "#FECB52"
          ],
          "font": {
           "color": "#2a3f5f"
          },
          "geo": {
           "bgcolor": "white",
           "lakecolor": "white",
           "landcolor": "#E5ECF6",
           "showlakes": true,
           "showland": true,
           "subunitcolor": "white"
          },
          "hoverlabel": {
           "align": "left"
          },
          "hovermode": "closest",
          "mapbox": {
           "style": "light"
          },
          "paper_bgcolor": "white",
          "plot_bgcolor": "#E5ECF6",
          "polar": {
           "angularaxis": {
            "gridcolor": "white",
            "linecolor": "white",
            "ticks": ""
           },
           "bgcolor": "#E5ECF6",
           "radialaxis": {
            "gridcolor": "white",
            "linecolor": "white",
            "ticks": ""
           }
          },
          "scene": {
           "xaxis": {
            "backgroundcolor": "#E5ECF6",
            "gridcolor": "white",
            "gridwidth": 2,
            "linecolor": "white",
            "showbackground": true,
            "ticks": "",
            "zerolinecolor": "white"
           },
           "yaxis": {
            "backgroundcolor": "#E5ECF6",
            "gridcolor": "white",
            "gridwidth": 2,
            "linecolor": "white",
            "showbackground": true,
            "ticks": "",
            "zerolinecolor": "white"
           },
           "zaxis": {
            "backgroundcolor": "#E5ECF6",
            "gridcolor": "white",
            "gridwidth": 2,
            "linecolor": "white",
            "showbackground": true,
            "ticks": "",
            "zerolinecolor": "white"
           }
          },
          "shapedefaults": {
           "line": {
            "color": "#2a3f5f"
           }
          },
          "ternary": {
           "aaxis": {
            "gridcolor": "white",
            "linecolor": "white",
            "ticks": ""
           },
           "baxis": {
            "gridcolor": "white",
            "linecolor": "white",
            "ticks": ""
           },
           "bgcolor": "#E5ECF6",
           "caxis": {
            "gridcolor": "white",
            "linecolor": "white",
            "ticks": ""
           }
          },
          "title": {
           "x": 0.05
          },
          "xaxis": {
           "automargin": true,
           "gridcolor": "white",
           "linecolor": "white",
           "ticks": "",
           "title": {
            "standoff": 15
           },
           "zerolinecolor": "white",
           "zerolinewidth": 2
          },
          "yaxis": {
           "automargin": true,
           "gridcolor": "white",
           "linecolor": "white",
           "ticks": "",
           "title": {
            "standoff": 15
           },
           "zerolinecolor": "white",
           "zerolinewidth": 2
          }
         }
        },
        "title": {
         "text": "Commulative confirmed cases in SA as 17/03/2020"
        }
       }
      },
      "text/html": [
       "<div>\n",
       "        \n",
       "        \n",
       "            <div id=\"cab90c9e-d46f-4996-8d72-cd5822d075b0\" class=\"plotly-graph-div\" style=\"height:525px; width:100%;\"></div>\n",
       "            <script type=\"text/javascript\">\n",
       "                require([\"plotly\"], function(Plotly) {\n",
       "                    window.PLOTLYENV=window.PLOTLYENV || {};\n",
       "                    \n",
       "                if (document.getElementById(\"cab90c9e-d46f-4996-8d72-cd5822d075b0\")) {\n",
       "                    Plotly.newPlot(\n",
       "                        'cab90c9e-d46f-4996-8d72-cd5822d075b0',\n",
       "                        [{\"name\": \"Active Cases in SA\", \"type\": \"scatter\", \"x\": [\"2020-03-17T21:00:00.200Z\", \"2020-03-17T22:00:00.182Z\", \"2020-03-17T23:00:00.171Z\", \"2020-03-18T00:00:00.193Z\", \"2020-03-18T01:00:00.205Z\", \"2020-03-18T02:00:00.195Z\", \"2020-03-18T03:00:00.182Z\", \"2020-03-18T04:00:00.190Z\", \"2020-03-18T05:00:00.147Z\", \"2020-03-18T06:00:00.205Z\", \"2020-03-18T07:00:00.215Z\", \"2020-03-18T08:00:00.192Z\", \"2020-03-18T09:00:00.167Z\", \"2020-03-18T10:00:00.221Z\", \"2020-03-18T11:00:00.223Z\", \"2020-03-18T12:00:00.202Z\", \"2020-03-18T13:00:00.296Z\", \"2020-03-18T14:00:00.178Z\", \"2020-03-18T15:00:00.169Z\", \"2020-03-18T16:00:00.171Z\", \"2020-03-18T18:00:00.155Z\", \"2020-03-18T19:00:00.206Z\", \"2020-03-18T20:00:00.199Z\", \"2020-03-18T21:00:00.171Z\", \"2020-03-18T22:00:00.161Z\", \"2020-03-18T23:00:00.188Z\", \"2020-03-19T00:00:00.179Z\", \"2020-03-19T02:00:00.181Z\", \"2020-03-19T03:00:00.192Z\", \"2020-03-19T04:00:00.162Z\", \"2020-03-19T05:00:00.163Z\", \"2020-03-19T06:00:00.187Z\", \"2020-03-19T07:00:00.203Z\", \"2020-03-19T08:00:00.151Z\", \"2020-03-19T09:00:00.176Z\", \"2020-03-19T10:00:00.153Z\", \"2020-03-19T11:00:00.150Z\", \"2020-03-19T12:00:00.164Z\", \"2020-03-19T13:00:00.237Z\", \"2020-03-19T14:00:00.221Z\", \"2020-03-19T15:00:00.230Z\", \"2020-03-19T16:00:00.167Z\", \"2020-03-19T17:00:00.204Z\", \"2020-03-19T18:00:00.211Z\", \"2020-03-19T19:00:00.159Z\", \"2020-03-19T20:00:00.204Z\", \"2020-03-19T21:00:00.186Z\", \"2020-03-19T22:00:00.164Z\", \"2020-03-19T23:00:00.156Z\", \"2020-03-20T00:00:00.158Z\", \"2020-03-20T01:00:00.190Z\", \"2020-03-20T02:00:00.192Z\", \"2020-03-20T03:00:00.182Z\", \"2020-03-20T04:00:00.171Z\", \"2020-03-20T05:00:00.194Z\", \"2020-03-20T06:00:00.205Z\", \"2020-03-20T07:00:00.169Z\", \"2020-03-20T08:00:00.196Z\", \"2020-03-20T09:00:00.198Z\", \"2020-03-20T10:00:00.190Z\", \"2020-03-20T11:00:00.232Z\", \"2020-03-20T12:00:00.201Z\", \"2020-03-20T13:00:00.163Z\", \"2020-03-20T14:00:00.198Z\", \"2020-03-20T15:00:00.179Z\", \"2020-03-20T16:00:00.199Z\", \"2020-03-20T17:00:00.206Z\", \"2020-03-20T18:00:00.200Z\", \"2020-03-20T19:00:00.161Z\", \"2020-03-20T20:00:00.238Z\", \"2020-03-20T21:00:00.224Z\", \"2020-03-20T22:00:00.195Z\", \"2020-03-20T23:00:00.214Z\", \"2020-03-21T00:00:00.178Z\", \"2020-03-21T01:00:00.219Z\", \"2020-03-21T02:00:00.174Z\", \"2020-03-21T03:00:00.168Z\", \"2020-03-21T04:00:00.250Z\", \"2020-03-21T05:00:00.211Z\", \"2020-03-21T06:00:00.188Z\", \"2020-03-21T07:00:00.162Z\", \"2020-03-21T08:00:00.162Z\", \"2020-03-21T09:00:00.202Z\", \"2020-03-21T10:00:00.183Z\", \"2020-03-21T11:00:00.229Z\", \"2020-03-21T12:00:00.227Z\", \"2020-03-21T13:00:00.182Z\", \"2020-03-21T14:00:00.179Z\", \"2020-03-21T15:00:00.205Z\", \"2020-03-21T16:00:00.171Z\", \"2020-03-21T17:00:00.230Z\", \"2020-03-21T18:00:00.232Z\", \"2020-03-21T19:00:00.189Z\", \"2020-03-21T20:00:00.207Z\", \"2020-03-21T21:00:00.185Z\", \"2020-03-21T22:00:00.201Z\", \"2020-03-21T23:00:00.163Z\", \"2020-03-22T00:00:00.178Z\", \"2020-03-22T01:00:00.171Z\", \"2020-03-22T02:00:00.155Z\", \"2020-03-22T03:00:00.209Z\", \"2020-03-22T04:00:00.179Z\", \"2020-03-22T05:00:00.186Z\", \"2020-03-22T06:00:00.205Z\", \"2020-03-22T07:00:00.207Z\", \"2020-03-22T08:00:00.189Z\", \"2020-03-22T09:00:00.190Z\", \"2020-03-22T10:00:00.231Z\", \"2020-03-22T11:00:00.202Z\", \"2020-03-22T12:00:00.191Z\", \"2020-03-22T13:00:00.168Z\", \"2020-03-22T14:00:00.211Z\", \"2020-03-22T15:00:00.223Z\", \"2020-03-22T16:00:00.200Z\", \"2020-03-22T17:00:00.225Z\", \"2020-03-22T18:00:00.197Z\", \"2020-03-22T19:00:00.200Z\", \"2020-03-22T20:00:00.155Z\", \"2020-03-22T21:00:00.157Z\", \"2020-03-22T22:00:00.183Z\", \"2020-03-22T23:00:00.192Z\", \"2020-03-23T00:00:00.227Z\", \"2020-03-23T01:00:00.150Z\", \"2020-03-23T02:00:00.278Z\", \"2020-03-23T03:00:00.195Z\", \"2020-03-23T20:00:00.171Z\", \"2020-03-23T21:00:00.241Z\", \"2020-03-23T22:00:00.191Z\", \"2020-03-23T23:00:00.193Z\", \"2020-03-24T00:00:00.225Z\", \"2020-03-24T01:00:00.213Z\", \"2020-03-24T02:00:00.233Z\", \"2020-03-24T03:00:00.172Z\", \"2020-03-24T04:00:00.243Z\", \"2020-03-24T05:00:00.217Z\", \"2020-03-24T06:00:00.208Z\", \"2020-03-24T07:00:00.168Z\", \"2020-03-24T08:00:00.226Z\", \"2020-03-24T09:00:00.223Z\", \"2020-03-24T10:00:00.276Z\", \"2020-03-24T11:00:00.202Z\", \"2020-03-24T12:00:00.194Z\", \"2020-03-24T13:00:00.235Z\", \"2020-03-24T14:00:00.228Z\", \"2020-03-24T15:00:00.223Z\", \"2020-03-24T16:00:00.180Z\", \"2020-03-24T17:00:00.204Z\", \"2020-03-24T18:00:00.207Z\", \"2020-03-24T19:00:00.195Z\", \"2020-03-24T20:00:00.195Z\", \"2020-03-24T21:00:00.225Z\", \"2020-03-24T22:00:00.228Z\", \"2020-03-24T23:00:00.194Z\", \"2020-03-25T00:00:00.196Z\", \"2020-03-25T01:00:00.156Z\", \"2020-03-25T02:00:00.242Z\", \"2020-03-25T03:00:00.160Z\", \"2020-03-25T04:00:00.238Z\", \"2020-03-25T05:00:00.189Z\", \"2020-03-25T06:00:00.200Z\", \"2020-03-25T07:00:00.170Z\", \"2020-03-25T08:00:00.212Z\", \"2020-03-25T09:00:00.232Z\", \"2020-03-25T10:00:00.218Z\", \"2020-03-25T11:00:00.273Z\", \"2020-03-25T12:00:00.220Z\", \"2020-03-25T13:00:00.164Z\", \"2020-03-25T14:00:00.245Z\", \"2020-03-25T15:00:00.222Z\", \"2020-03-25T16:00:00.201Z\", \"2020-03-25T17:00:00.205Z\", \"2020-03-25T18:00:00.228Z\", \"2020-03-25T19:00:00.188Z\", \"2020-03-25T20:00:00.192Z\", \"2020-03-25T21:00:00.194Z\", \"2020-03-25T22:00:00.242Z\", \"2020-03-25T23:00:00.162Z\", \"2020-03-26T00:00:00.190Z\", \"2020-03-26T01:00:00.220Z\", \"2020-03-26T02:00:00.198Z\", \"2020-03-26T03:00:00.216Z\", \"2020-03-26T04:00:00.161Z\", \"2020-03-26T05:00:00.183Z\", \"2020-03-26T06:00:00.223Z\", \"2020-03-26T07:00:00.220Z\", \"2020-03-26T08:00:00.230Z\", \"2020-03-26T09:00:00.210Z\", \"2020-03-26T10:00:00.222Z\", \"2020-03-26T11:00:00.437Z\", \"2020-03-26T12:00:00.221Z\", \"2020-03-26T13:00:00.374Z\", \"2020-03-26T14:00:00.333Z\", \"2020-03-26T15:00:00.188Z\", \"2020-03-26T16:00:00.314Z\", \"2020-03-26T17:00:00.260Z\", \"2020-03-26T18:00:00.506Z\", \"2020-03-26T19:00:01.083Z\", \"2020-03-26T20:00:01.124Z\", \"2020-03-26T21:00:00.185Z\", \"2020-03-26T22:00:00.170Z\", \"2020-03-26T23:00:00.995Z\", \"2020-03-27T00:00:00.195Z\", \"2020-03-27T01:00:00.216Z\", \"2020-03-27T02:00:00.218Z\", \"2020-03-27T03:00:00.192Z\", \"2020-03-27T04:00:00.209Z\", \"2020-03-27T05:00:00.182Z\", \"2020-03-27T06:00:00.188Z\", \"2020-03-27T07:00:00.218Z\", \"2020-03-27T08:00:00.204Z\", \"2020-03-27T09:00:00.220Z\", \"2020-03-27T10:00:00.200Z\", \"2020-03-27T11:00:00.163Z\", \"2020-03-27T12:00:00.246Z\", \"2020-03-27T13:00:00.205Z\", \"2020-03-27T14:00:00.256Z\", \"2020-03-27T15:00:00.173Z\", \"2020-03-27T16:00:00.168Z\", \"2020-03-27T17:00:00.223Z\", \"2020-03-27T18:00:00.236Z\", \"2020-03-27T19:00:00.194Z\", \"2020-03-27T21:00:00.202Z\", \"2020-03-27T22:00:00.191Z\", \"2020-03-27T23:00:00.159Z\", \"2020-03-28T01:00:00.213Z\", \"2020-03-28T02:00:00.191Z\", \"2020-03-28T03:00:00.225Z\", \"2020-03-28T04:00:00.185Z\", \"2020-03-28T05:00:00.200Z\", \"2020-03-28T06:00:00.211Z\", \"2020-03-28T07:00:00.169Z\", \"2020-03-28T08:00:00.299Z\", \"2020-03-28T09:00:00.204Z\", \"2020-03-28T10:00:00.214Z\", \"2020-03-28T11:00:00.224Z\", \"2020-03-28T12:00:00.174Z\", \"2020-03-28T13:00:00.241Z\", \"2020-03-28T14:00:00.191Z\", \"2020-03-28T15:00:00.156Z\", \"2020-03-28T16:00:00.197Z\", \"2020-03-28T17:00:00.219Z\", \"2020-03-28T18:00:00.163Z\", \"2020-03-28T19:00:00.196Z\", \"2020-03-28T20:00:00.230Z\", \"2020-03-28T21:00:00.235Z\", \"2020-03-28T22:00:00.193Z\", \"2020-03-28T23:00:00.268Z\", \"2020-03-29T00:00:00.161Z\", \"2020-03-29T01:00:00.168Z\", \"2020-03-29T02:00:00.246Z\", \"2020-03-29T03:00:00.185Z\", \"2020-03-29T04:00:00.185Z\", \"2020-03-29T05:00:00.152Z\", \"2020-03-29T06:00:00.228Z\", \"2020-03-29T07:00:00.225Z\", \"2020-03-29T08:00:00.239Z\", \"2020-03-29T09:00:00.221Z\", \"2020-03-29T10:00:00.238Z\", \"2020-03-29T11:00:00.207Z\", \"2020-03-29T12:00:00.163Z\", \"2020-03-29T13:00:00.186Z\", \"2020-03-29T14:00:00.169Z\", \"2020-03-29T15:00:00.184Z\", \"2020-03-29T16:00:00.175Z\", \"2020-03-29T17:00:00.218Z\", \"2020-03-29T18:00:00.177Z\", \"2020-03-29T19:00:00.225Z\", \"2020-03-29T20:00:00.161Z\", \"2020-03-29T21:00:00.186Z\", \"2020-03-29T22:00:00.218Z\", \"2020-03-29T23:00:00.168Z\", \"2020-03-30T00:00:00.188Z\", \"2020-03-30T01:00:00.159Z\", \"2020-03-30T02:00:00.190Z\", \"2020-03-30T03:00:00.179Z\", \"2020-03-30T04:00:00.226Z\", \"2020-03-30T05:00:00.232Z\", \"2020-03-30T06:00:00.188Z\", \"2020-03-30T07:00:00.253Z\", \"2020-03-30T08:00:00.231Z\", \"2020-03-30T09:00:00.194Z\", \"2020-03-30T10:00:00.222Z\", \"2020-03-30T11:00:00.183Z\", \"2020-03-30T12:00:00.225Z\", \"2020-03-30T13:00:00.236Z\", \"2020-03-30T14:00:00.235Z\", \"2020-03-30T15:00:00.231Z\", \"2020-03-30T16:00:00.186Z\", \"2020-03-30T17:00:00.191Z\", \"2020-03-30T18:00:00.193Z\", \"2020-03-30T19:00:00.196Z\", \"2020-03-30T20:00:00.199Z\", \"2020-03-30T21:00:00.226Z\", \"2020-03-30T22:00:00.200Z\", \"2020-03-30T23:00:00.222Z\", \"2020-03-31T00:00:00.174Z\", \"2020-03-31T01:00:00.247Z\", \"2020-03-31T02:00:00.214Z\", \"2020-03-31T03:00:00.161Z\", \"2020-03-31T04:00:00.164Z\", \"2020-03-31T05:00:00.141Z\", \"2020-03-31T06:00:00.194Z\", \"2020-03-31T07:00:00.200Z\", \"2020-03-31T08:00:00.158Z\", \"2020-03-31T09:00:00.195Z\", \"2020-03-31T10:00:00.225Z\", \"2020-03-31T11:00:00.192Z\", \"2020-03-31T12:00:00.232Z\", \"2020-03-31T13:00:00.222Z\", \"2020-03-31T14:00:00.160Z\", \"2020-03-31T15:00:00.218Z\", \"2020-03-31T16:00:00.201Z\", \"2020-03-31T17:00:00.198Z\", \"2020-03-31T18:00:00.191Z\", \"2020-03-31T19:00:00.184Z\", \"2020-03-31T20:00:00.192Z\", \"2020-03-31T21:00:00.194Z\", \"2020-03-31T22:00:00.214Z\", \"2020-03-31T23:00:00.182Z\", \"2020-04-01T00:00:00.195Z\", \"2020-04-01T01:00:00.169Z\", \"2020-04-01T02:00:00.229Z\", \"2020-04-01T03:00:00.293Z\", \"2020-04-01T04:00:00.207Z\", \"2020-04-01T05:00:00.193Z\", \"2020-04-01T06:00:00.238Z\", \"2020-04-01T07:00:00.168Z\", \"2020-04-01T08:00:00.229Z\", \"2020-04-01T09:00:00.180Z\", \"2020-04-01T10:00:00.218Z\", \"2020-04-01T11:00:00.205Z\", \"2020-04-01T12:00:00.241Z\", \"2020-04-01T13:00:00.160Z\", \"2020-04-01T14:00:00.203Z\", \"2020-04-01T15:00:00.213Z\", \"2020-04-01T16:00:00.193Z\", \"2020-04-01T17:00:00.260Z\", \"2020-04-01T18:00:00.201Z\", \"2020-04-01T19:00:00.271Z\", \"2020-04-01T20:00:00.209Z\", \"2020-04-01T21:00:00.225Z\", \"2020-04-01T22:00:00.168Z\", \"2020-04-01T23:00:00.206Z\", \"2020-04-02T00:00:00.182Z\", \"2020-04-02T01:00:00.198Z\", \"2020-04-02T02:00:00.212Z\", \"2020-04-02T03:00:00.220Z\", \"2020-04-02T05:00:00.195Z\", \"2020-04-02T06:00:00.241Z\", \"2020-04-02T07:00:00.229Z\", \"2020-04-02T08:00:00.193Z\", \"2020-04-02T09:00:00.199Z\", \"2020-04-02T10:00:00.230Z\", \"2020-04-02T11:00:00.212Z\", \"2020-04-02T12:00:00.187Z\", \"2020-04-02T13:00:00.259Z\", \"2020-04-02T14:00:00.289Z\", \"2020-04-02T15:00:00.212Z\", \"2020-04-02T16:00:00.157Z\", \"2020-04-02T17:00:00.191Z\", \"2020-04-02T18:00:00.201Z\", \"2020-04-02T19:00:00.210Z\", \"2020-04-02T20:00:00.193Z\", \"2020-04-02T21:00:00.223Z\", \"2020-04-02T22:00:00.197Z\", \"2020-04-02T23:00:00.227Z\", \"2020-04-03T00:00:00.201Z\", \"2020-04-03T01:00:00.159Z\", \"2020-04-03T02:00:00.180Z\", \"2020-04-03T03:00:00.233Z\", \"2020-04-03T04:00:00.210Z\", \"2020-04-03T05:00:00.168Z\", \"2020-04-03T06:00:00.193Z\", \"2020-04-03T07:00:00.261Z\", \"2020-04-03T08:00:00.194Z\", \"2020-04-03T09:00:00.278Z\", \"2020-04-03T10:00:00.232Z\", \"2020-04-03T11:00:00.181Z\", \"2020-04-03T12:00:00.200Z\", \"2020-04-03T13:00:00.170Z\", \"2020-04-03T14:00:00.184Z\", \"2020-04-03T15:00:00.219Z\", \"2020-04-03T16:00:00.164Z\", \"2020-04-03T17:00:00.180Z\", \"2020-04-03T18:00:00.184Z\", \"2020-04-03T19:00:00.196Z\", \"2020-04-03T20:00:00.184Z\", \"2020-04-03T21:00:00.211Z\", \"2020-04-03T22:00:00.194Z\", \"2020-04-03T23:00:00.148Z\", \"2020-04-04T00:00:00.159Z\", \"2020-04-04T01:00:00.181Z\", \"2020-04-04T02:00:00.157Z\", \"2020-04-04T03:00:00.217Z\", \"2020-04-04T04:00:00.192Z\", \"2020-04-04T05:00:00.173Z\", \"2020-04-04T06:00:00.230Z\", \"2020-04-04T07:00:00.159Z\", \"2020-04-04T08:00:00.237Z\", \"2020-04-04T09:00:00.162Z\", \"2020-04-04T10:00:00.188Z\", \"2020-04-04T11:00:00.185Z\", \"2020-04-04T12:00:00.192Z\", \"2020-04-04T13:00:00.162Z\", \"2020-04-04T14:00:00.171Z\", \"2020-04-04T15:00:00.216Z\", \"2020-04-04T17:00:00.185Z\", \"2020-04-04T18:00:00.199Z\", \"2020-04-04T19:00:00.217Z\", \"2020-04-04T20:00:00.225Z\", \"2020-04-04T21:00:00.255Z\", \"2020-04-04T22:00:00.199Z\", \"2020-04-04T23:00:00.282Z\", \"2020-04-05T00:00:00.238Z\", \"2020-04-05T01:00:00.225Z\", \"2020-04-05T02:00:00.235Z\", \"2020-04-05T03:00:00.253Z\", \"2020-04-05T04:00:00.216Z\", \"2020-04-05T05:00:00.205Z\", \"2020-04-05T06:00:00.228Z\", \"2020-04-05T07:00:00.192Z\", \"2020-04-05T08:00:00.185Z\", \"2020-04-05T09:00:00.265Z\", \"2020-04-05T10:00:00.194Z\", \"2020-04-05T11:00:00.217Z\", \"2020-04-05T12:00:00.222Z\", \"2020-04-05T13:00:00.237Z\", \"2020-04-05T14:00:00.188Z\", \"2020-04-05T15:00:00.267Z\", \"2020-04-05T16:00:00.225Z\", \"2020-04-05T17:00:00.184Z\", \"2020-04-05T18:00:00.263Z\", \"2020-04-05T19:00:00.209Z\", \"2020-04-05T20:00:00.205Z\", \"2020-04-05T21:00:00.182Z\", \"2020-04-05T22:00:00.224Z\", \"2020-04-05T23:00:00.242Z\", \"2020-04-06T00:00:00.264Z\", \"2020-04-06T01:00:00.248Z\", \"2020-04-06T02:00:00.174Z\", \"2020-04-06T03:00:00.224Z\", \"2020-04-06T04:00:00.232Z\", \"2020-04-06T05:00:00.211Z\", \"2020-04-06T06:00:00.185Z\", \"2020-04-06T07:00:00.195Z\", \"2020-04-06T08:00:00.215Z\", \"2020-04-06T09:00:00.185Z\", \"2020-04-06T10:00:00.208Z\", \"2020-04-06T11:00:00.200Z\", \"2020-04-06T12:00:00.177Z\", \"2020-04-06T13:00:00.254Z\", \"2020-04-06T14:00:00.186Z\", \"2020-04-06T15:00:00.244Z\", \"2020-04-06T16:00:00.242Z\", \"2020-04-06T17:00:00.214Z\", \"2020-04-06T18:00:00.238Z\", \"2020-04-06T19:00:00.234Z\", \"2020-04-06T20:00:00.193Z\", \"2020-04-06T21:00:00.255Z\", \"2020-04-06T22:00:00.261Z\", \"2020-04-06T23:00:00.179Z\", \"2020-04-07T00:00:00.256Z\", \"2020-04-07T01:00:00.223Z\", \"2020-04-07T02:00:00.207Z\", \"2020-04-07T03:00:00.186Z\", \"2020-04-07T04:00:00.182Z\", \"2020-04-07T05:00:00.186Z\", \"2020-04-07T06:00:00.160Z\", \"2020-04-07T07:00:00.183Z\", \"2020-04-07T08:00:00.216Z\", \"2020-04-07T09:00:00.206Z\", \"2020-04-07T10:00:00.254Z\", \"2020-04-07T11:00:00.190Z\", \"2020-04-07T12:00:00.271Z\", \"2020-04-07T13:00:00.170Z\", \"2020-04-07T14:00:00.457Z\", \"2020-04-07T15:00:00.225Z\", \"2020-04-07T16:00:00.212Z\", \"2020-04-07T17:00:00.212Z\", \"2020-04-07T18:00:00.170Z\", \"2020-04-07T19:00:00.272Z\", \"2020-04-07T20:00:00.213Z\", \"2020-04-07T21:00:00.229Z\", \"2020-04-07T22:00:00.235Z\", \"2020-04-07T23:00:00.261Z\", \"2020-04-08T00:00:00.336Z\", \"2020-04-08T01:00:00.252Z\", \"2020-04-08T02:00:00.184Z\", \"2020-04-08T03:00:00.207Z\", \"2020-04-08T04:00:00.266Z\", \"2020-04-08T05:00:00.218Z\", \"2020-04-08T06:00:00.257Z\", \"2020-04-08T07:00:00.197Z\", \"2020-04-08T08:00:00.244Z\", \"2020-04-08T09:00:00.191Z\", \"2020-04-08T10:00:00.225Z\", \"2020-04-08T11:00:00.237Z\", \"2020-04-08T12:00:00.194Z\", \"2020-04-08T13:00:00.304Z\", \"2020-04-08T14:00:00.209Z\", \"2020-04-08T15:00:00.284Z\", \"2020-04-08T16:00:00.210Z\", \"2020-04-08T17:00:00.202Z\", \"2020-04-08T18:00:00.356Z\", \"2020-04-08T19:00:00.260Z\", \"2020-04-08T20:00:00.212Z\", \"2020-04-08T21:00:00.181Z\", \"2020-04-08T22:00:00.244Z\", \"2020-04-08T23:00:00.261Z\", \"2020-04-09T00:00:00.188Z\", \"2020-04-09T01:00:00.206Z\", \"2020-04-09T02:00:00.208Z\", \"2020-04-09T03:00:00.217Z\", \"2020-04-09T04:00:00.196Z\", \"2020-04-09T05:00:00.235Z\", \"2020-04-09T06:00:00.213Z\", \"2020-04-09T07:00:00.236Z\", \"2020-04-09T08:00:00.226Z\", \"2020-04-09T09:00:00.169Z\", \"2020-04-09T10:00:00.223Z\", \"2020-04-09T11:00:00.251Z\", \"2020-04-09T12:00:00.217Z\", \"2020-04-09T13:00:00.235Z\", \"2020-04-09T14:00:00.258Z\", \"2020-04-09T15:00:00.233Z\", \"2020-04-09T16:00:00.189Z\", \"2020-04-09T17:00:00.220Z\", \"2020-04-09T18:00:00.233Z\", \"2020-04-09T19:00:00.222Z\", \"2020-04-09T20:00:00.280Z\", \"2020-04-09T21:00:00.285Z\", \"2020-04-09T22:00:00.225Z\", \"2020-04-09T23:00:00.181Z\", \"2020-04-10T00:00:00.213Z\", \"2020-04-10T01:00:00.222Z\", \"2020-04-10T02:00:00.253Z\", \"2020-04-10T03:00:00.163Z\", \"2020-04-10T04:00:00.193Z\", \"2020-04-10T05:00:00.208Z\", \"2020-04-10T06:00:00.206Z\", \"2020-04-10T07:00:00.200Z\", \"2020-04-10T08:00:00.251Z\", \"2020-04-10T09:00:00.227Z\", \"2020-04-10T10:00:00.231Z\", \"2020-04-10T11:00:00.181Z\", \"2020-04-10T12:00:00.271Z\", \"2020-04-10T13:00:00.218Z\", \"2020-04-10T14:00:00.185Z\", \"2020-04-10T15:00:00.223Z\", \"2020-04-10T16:00:00.189Z\", \"2020-04-10T17:00:00.211Z\", \"2020-04-10T18:00:00.236Z\", \"2020-04-10T19:00:00.213Z\", \"2020-04-10T20:00:00.190Z\", \"2020-04-10T21:00:00.182Z\", \"2020-04-10T22:00:00.212Z\", \"2020-04-10T23:00:00.185Z\", \"2020-04-11T00:00:00.202Z\", \"2020-04-11T01:00:00.229Z\", \"2020-04-11T02:00:00.265Z\", \"2020-04-11T03:00:00.193Z\", \"2020-04-11T04:00:00.199Z\", \"2020-04-11T05:00:00.176Z\", \"2020-04-11T06:00:00.230Z\", \"2020-04-11T07:00:00.226Z\", \"2020-04-11T08:00:00.196Z\", \"2020-04-11T09:00:00.281Z\", \"2020-04-11T10:00:00.226Z\", \"2020-04-11T11:00:00.259Z\", \"2020-04-11T12:00:00.277Z\", \"2020-04-11T13:00:00.253Z\", \"2020-04-11T14:00:00.189Z\", \"2020-04-11T15:00:00.222Z\", \"2020-04-11T16:00:00.193Z\", \"2020-04-11T17:00:00.213Z\", \"2020-04-11T18:00:00.264Z\", \"2020-04-11T19:00:00.178Z\", \"2020-04-11T20:00:00.235Z\", \"2020-04-11T21:00:00.257Z\", \"2020-04-11T22:00:00.247Z\", \"2020-04-11T23:00:00.217Z\", \"2020-04-12T00:00:00.224Z\", \"2020-04-12T01:00:00.262Z\", \"2020-04-12T02:00:00.185Z\", \"2020-04-12T03:00:00.219Z\", \"2020-04-12T04:00:00.192Z\", \"2020-04-12T05:00:00.173Z\", \"2020-04-12T06:00:00.256Z\", \"2020-04-12T07:00:00.237Z\", \"2020-04-12T08:00:00.177Z\", \"2020-04-12T09:00:00.225Z\", \"2020-04-12T10:00:00.258Z\", \"2020-04-12T11:00:00.252Z\", \"2020-04-12T12:00:00.187Z\", \"2020-04-12T13:00:00.211Z\", \"2020-04-12T14:00:00.230Z\", \"2020-04-12T15:00:00.182Z\", \"2020-04-12T16:00:00.273Z\", \"2020-04-12T17:00:00.246Z\", \"2020-04-12T18:00:00.193Z\", \"2020-04-12T19:00:00.187Z\", \"2020-04-12T20:00:00.207Z\", \"2020-04-12T21:00:00.213Z\", \"2020-04-12T22:00:00.205Z\", \"2020-04-12T23:00:00.251Z\", \"2020-04-13T00:00:00.241Z\", \"2020-04-13T01:00:00.214Z\", \"2020-04-13T02:00:00.244Z\", \"2020-04-13T03:00:00.244Z\", \"2020-04-13T04:00:00.245Z\", \"2020-04-13T05:00:00.228Z\", \"2020-04-13T06:00:00.261Z\", \"2020-04-13T07:00:00.231Z\", \"2020-04-13T08:00:00.250Z\", \"2020-04-13T09:00:00.223Z\", \"2020-04-13T10:00:00.226Z\", \"2020-04-13T11:00:00.202Z\", \"2020-04-13T12:00:00.180Z\", \"2020-04-13T13:00:00.170Z\", \"2020-04-13T14:00:00.209Z\", \"2020-04-13T15:00:00.230Z\", \"2020-04-13T16:00:00.212Z\", \"2020-04-13T17:00:00.233Z\", \"2020-04-13T18:00:00.261Z\", \"2020-04-13T19:00:00.275Z\", \"2020-04-13T20:00:00.177Z\", \"2020-04-13T21:00:00.223Z\", \"2020-04-13T22:00:00.224Z\", \"2020-04-13T23:00:00.242Z\", \"2020-04-14T00:00:00.214Z\", \"2020-04-14T01:00:00.220Z\", \"2020-04-14T02:00:00.242Z\", \"2020-04-14T03:00:00.257Z\", \"2020-04-14T04:00:00.207Z\", \"2020-04-14T05:00:00.209Z\", \"2020-04-14T06:00:00.215Z\", \"2020-04-14T07:00:00.227Z\", \"2020-04-14T08:00:00.215Z\", \"2020-04-14T09:00:00.254Z\", \"2020-04-14T10:00:00.226Z\", \"2020-04-14T11:00:00.177Z\", \"2020-04-14T12:00:00.381Z\", \"2020-04-14T13:00:00.180Z\", \"2020-04-14T14:00:00.244Z\", \"2020-04-14T15:00:00.227Z\", \"2020-04-14T16:00:00.295Z\", \"2020-04-14T17:00:00.224Z\", \"2020-04-14T18:00:00.223Z\", \"2020-04-14T19:00:00.220Z\", \"2020-04-14T20:00:00.218Z\", \"2020-04-14T21:00:00.233Z\", \"2020-04-14T22:00:00.219Z\", \"2020-04-14T23:00:00.245Z\", \"2020-04-15T00:00:00.254Z\", \"2020-04-15T01:00:00.189Z\", \"2020-04-15T02:00:00.206Z\", \"2020-04-15T03:00:00.179Z\", \"2020-04-15T04:00:00.227Z\", \"2020-04-15T05:00:00.261Z\", \"2020-04-15T06:00:00.188Z\", \"2020-04-15T07:00:00.229Z\", \"2020-04-15T08:00:00.204Z\", \"2020-04-15T09:00:00.190Z\", \"2020-04-15T10:00:00.212Z\", \"2020-04-15T11:00:00.238Z\", \"2020-04-15T12:00:00.249Z\", \"2020-04-15T13:00:00.239Z\", \"2020-04-15T14:00:00.212Z\", \"2020-04-15T15:00:00.258Z\", \"2020-04-15T16:00:00.219Z\", \"2020-04-15T17:00:00.184Z\", \"2020-04-15T18:00:00.197Z\", \"2020-04-15T19:00:00.303Z\", \"2020-04-15T20:00:00.243Z\", \"2020-04-15T21:00:00.221Z\", \"2020-04-15T22:00:00.246Z\", \"2020-04-15T23:00:00.246Z\", \"2020-04-16T00:00:00.185Z\", \"2020-04-16T01:00:00.265Z\", \"2020-04-16T02:00:00.175Z\", \"2020-04-16T03:00:00.201Z\", \"2020-04-16T04:00:00.216Z\", \"2020-04-16T05:00:00.225Z\", \"2020-04-16T06:00:00.237Z\", \"2020-04-16T07:00:00.263Z\", \"2020-04-16T08:00:00.240Z\", \"2020-04-16T09:00:00.214Z\", \"2020-04-16T10:00:00.193Z\", \"2020-04-16T11:00:00.213Z\", \"2020-04-16T12:00:00.229Z\", \"2020-04-16T13:00:00.229Z\", \"2020-04-16T14:00:00.265Z\", \"2020-04-16T15:00:00.264Z\", \"2020-04-16T16:00:00.237Z\", \"2020-04-16T17:00:00.201Z\", \"2020-04-16T18:00:00.226Z\", \"2020-04-16T19:00:00.217Z\", \"2020-04-16T20:00:00.257Z\", \"2020-04-16T21:00:00.180Z\", \"2020-04-16T22:00:00.178Z\", \"2020-04-16T23:00:00.222Z\", \"2020-04-17T00:00:00.247Z\", \"2020-04-17T01:00:00.210Z\", \"2020-04-17T02:00:00.211Z\", \"2020-04-17T03:00:00.261Z\", \"2020-04-17T04:00:00.265Z\", \"2020-04-17T05:00:00.222Z\", \"2020-04-17T06:00:00.224Z\", \"2020-04-17T07:00:00.285Z\", \"2020-04-17T08:00:00.235Z\", \"2020-04-17T09:00:00.230Z\", \"2020-04-17T10:00:00.257Z\", \"2020-04-17T11:00:00.261Z\", \"2020-04-17T12:00:00.309Z\", \"2020-04-17T13:00:00.191Z\", \"2020-04-17T14:00:00.225Z\", \"2020-04-17T15:00:00.263Z\", \"2020-04-17T16:00:00.221Z\", \"2020-04-17T17:00:00.283Z\", \"2020-04-17T18:00:00.224Z\", \"2020-04-17T19:00:00.256Z\", \"2020-04-17T20:00:00.265Z\", \"2020-04-17T21:00:00.253Z\", \"2020-04-17T22:00:00.218Z\", \"2020-04-17T23:00:00.251Z\", \"2020-04-18T00:00:00.230Z\", \"2020-04-18T01:00:00.219Z\", \"2020-04-18T02:00:00.173Z\", \"2020-04-18T03:00:00.190Z\", \"2020-04-18T04:00:00.172Z\", \"2020-04-18T05:00:00.214Z\", \"2020-04-18T06:00:00.190Z\", \"2020-04-18T07:00:00.255Z\", \"2020-04-18T08:00:00.201Z\", \"2020-04-18T09:00:00.229Z\", \"2020-04-18T10:00:00.223Z\", \"2020-04-18T11:00:00.195Z\", \"2020-04-18T12:00:00.227Z\", \"2020-04-18T13:00:00.218Z\", \"2020-04-18T14:00:00.228Z\", \"2020-04-18T15:00:00.281Z\", \"2020-04-18T16:00:00.225Z\", \"2020-04-18T17:00:00.226Z\", \"2020-04-18T18:00:00.224Z\", \"2020-04-18T19:00:00.161Z\", \"2020-04-18T20:00:00.187Z\", \"2020-04-18T21:00:00.226Z\", \"2020-04-18T22:00:00.239Z\", \"2020-04-18T23:00:00.225Z\", \"2020-04-19T00:00:00.158Z\", \"2020-04-19T01:00:00.215Z\", \"2020-04-19T02:00:00.237Z\", \"2020-04-19T03:00:00.182Z\", \"2020-04-19T04:00:00.206Z\", \"2020-04-19T05:00:00.226Z\", \"2020-04-19T06:00:00.177Z\", \"2020-04-19T07:00:00.263Z\", \"2020-04-19T08:00:00.213Z\", \"2020-04-19T09:00:00.186Z\", \"2020-04-19T10:00:00.193Z\", \"2020-04-19T11:00:00.217Z\", \"2020-04-19T12:00:00.176Z\", \"2020-04-19T13:00:00.240Z\", \"2020-04-19T14:00:00.267Z\", \"2020-04-19T15:00:00.187Z\", \"2020-04-19T16:00:00.177Z\", \"2020-04-19T17:00:00.248Z\", \"2020-04-19T18:00:00.269Z\", \"2020-04-19T19:00:00.216Z\", \"2020-04-19T20:00:00.189Z\", \"2020-04-19T21:00:00.272Z\", \"2020-04-19T22:00:00.274Z\", \"2020-04-19T23:00:00.222Z\", \"2020-04-20T00:00:00.251Z\", \"2020-04-20T01:00:00.244Z\", \"2020-04-20T02:00:00.181Z\", \"2020-04-20T03:00:00.238Z\", \"2020-04-20T04:00:00.213Z\", \"2020-04-20T05:00:00.205Z\", \"2020-04-20T06:00:00.223Z\", \"2020-04-20T07:00:00.182Z\", \"2020-04-20T08:00:00.211Z\", \"2020-04-20T09:00:00.231Z\", \"2020-04-20T10:00:00.234Z\", \"2020-04-20T11:00:00.214Z\", \"2020-04-20T12:00:00.354Z\", \"2020-04-20T13:00:00.238Z\", \"2020-04-20T14:00:00.187Z\", \"2020-04-20T15:00:00.222Z\", \"2020-04-20T16:00:00.263Z\", \"2020-04-20T17:00:00.191Z\", \"2020-04-20T18:00:00.225Z\", \"2020-04-20T19:00:00.257Z\", \"2020-04-20T20:00:00.269Z\", \"2020-04-20T21:00:00.179Z\", \"2020-04-20T22:00:00.167Z\", \"2020-04-20T23:00:00.186Z\", \"2020-04-21T00:00:00.227Z\", \"2020-04-21T01:00:00.239Z\", \"2020-04-21T02:00:00.224Z\", \"2020-04-21T03:00:00.237Z\", \"2020-04-21T04:00:00.276Z\", \"2020-04-21T05:00:00.212Z\", \"2020-04-21T06:00:00.215Z\", \"2020-04-21T07:00:00.237Z\", \"2020-04-21T08:00:00.299Z\", \"2020-04-21T09:00:00.262Z\", \"2020-04-21T10:00:00.234Z\", \"2020-04-21T11:00:00.219Z\", \"2020-04-21T12:00:00.199Z\", \"2020-04-21T13:00:00.260Z\", \"2020-04-21T14:00:00.265Z\", \"2020-04-21T15:00:00.208Z\", \"2020-04-21T16:00:00.278Z\", \"2020-04-21T17:00:00.208Z\", \"2020-04-21T18:00:00.190Z\", \"2020-04-21T19:00:00.264Z\", \"2020-04-21T20:00:00.222Z\", \"2020-04-21T21:00:00.215Z\", \"2020-04-21T22:00:00.219Z\", \"2020-04-21T23:00:00.206Z\", \"2020-04-22T00:00:00.207Z\", \"2020-04-22T01:00:00.220Z\", \"2020-04-22T02:00:00.203Z\", \"2020-04-22T03:00:00.213Z\", \"2020-04-22T04:00:00.201Z\", \"2020-04-22T05:00:00.248Z\", \"2020-04-22T06:00:00.189Z\", \"2020-04-22T07:00:00.223Z\", \"2020-04-22T08:00:00.223Z\", \"2020-04-22T09:00:00.223Z\", \"2020-04-22T10:00:00.245Z\", \"2020-04-22T11:00:00.284Z\", \"2020-04-22T12:00:00.259Z\", \"2020-04-22T13:00:00.263Z\", \"2020-04-22T14:00:00.214Z\", \"2020-04-22T15:00:00.256Z\", \"2020-04-22T16:00:00.214Z\", \"2020-04-22T17:00:00.178Z\", \"2020-04-22T18:00:00.225Z\", \"2020-04-22T19:00:00.246Z\", \"2020-04-22T20:00:00.195Z\", \"2020-04-22T21:00:00.215Z\", \"2020-04-22T22:00:00.243Z\", \"2020-04-22T23:00:00.257Z\", \"2020-04-23T00:00:00.163Z\", \"2020-04-23T01:00:00.201Z\", \"2020-04-23T02:00:00.254Z\", \"2020-04-23T03:00:00.238Z\", \"2020-04-23T04:00:00.218Z\", \"2020-04-23T05:00:00.261Z\", \"2020-04-23T06:00:00.254Z\", \"2020-04-23T07:00:00.227Z\", \"2020-04-23T08:00:00.193Z\", \"2020-04-23T09:00:00.181Z\", \"2020-04-23T10:00:00.190Z\", \"2020-04-23T11:00:00.222Z\", \"2020-04-23T12:00:00.266Z\", \"2020-04-23T13:00:00.307Z\", \"2020-04-23T14:00:00.268Z\", \"2020-04-23T15:00:00.251Z\", \"2020-04-23T16:00:00.268Z\", \"2020-04-23T17:00:00.272Z\", \"2020-04-23T18:00:00.264Z\", \"2020-04-23T19:00:00.259Z\", \"2020-04-23T20:00:00.251Z\", \"2020-04-23T21:00:00.248Z\", \"2020-04-23T22:00:00.248Z\", \"2020-04-23T23:00:00.281Z\", \"2020-04-24T00:00:00.256Z\", \"2020-04-24T01:00:00.254Z\", \"2020-04-24T02:00:00.246Z\", \"2020-04-24T03:00:00.248Z\", \"2020-04-24T04:00:00.257Z\", \"2020-04-24T05:00:00.168Z\", \"2020-04-24T06:00:00.215Z\", \"2020-04-24T07:00:00.248Z\", \"2020-04-24T08:00:00.204Z\", \"2020-04-24T09:00:00.243Z\", \"2020-04-24T10:00:00.269Z\", \"2020-04-24T11:00:00.237Z\", \"2020-04-24T12:00:00.225Z\", \"2020-04-24T13:00:00.218Z\", \"2020-04-24T14:00:00.218Z\", \"2020-04-24T15:00:00.394Z\", \"2020-04-24T16:00:00.186Z\", \"2020-04-24T17:00:00.219Z\", \"2020-04-24T18:00:00.173Z\", \"2020-04-24T19:00:00.233Z\", \"2020-04-24T20:00:00.198Z\", \"2020-04-24T21:00:00.174Z\", \"2020-04-24T22:00:00.184Z\", \"2020-04-24T23:00:00.224Z\", \"2020-04-25T00:00:00.270Z\", \"2020-04-25T01:00:00.212Z\", \"2020-04-25T02:00:00.224Z\", \"2020-04-25T03:00:00.177Z\", \"2020-04-25T04:00:00.223Z\", \"2020-04-25T05:00:00.215Z\", \"2020-04-25T06:00:00.259Z\", \"2020-04-25T07:00:00.189Z\", \"2020-04-25T08:00:00.179Z\", \"2020-04-25T09:00:00.227Z\", \"2020-04-25T10:00:00.195Z\", \"2020-04-25T11:00:00.185Z\", \"2020-04-25T12:00:00.251Z\", \"2020-04-25T13:00:00.257Z\", \"2020-04-25T14:00:01.516Z\", \"2020-04-25T15:00:00.185Z\", \"2020-04-25T16:00:00.190Z\", \"2020-04-25T17:00:00.243Z\", \"2020-04-25T18:00:00.254Z\", \"2020-04-25T19:00:00.229Z\", \"2020-04-25T20:00:00.224Z\", \"2020-04-25T21:00:00.359Z\", \"2020-04-25T22:00:00.175Z\", \"2020-04-25T23:00:00.230Z\", \"2020-04-26T00:00:00.255Z\", \"2020-04-26T01:00:00.252Z\", \"2020-04-26T02:00:00.184Z\", \"2020-04-26T03:00:00.206Z\", \"2020-04-26T04:00:00.168Z\", \"2020-04-26T05:00:00.210Z\", \"2020-04-26T06:00:00.204Z\", \"2020-04-26T07:00:00.259Z\", \"2020-04-26T08:00:00.247Z\", \"2020-04-26T09:00:00.205Z\", \"2020-04-26T10:00:00.220Z\", \"2020-04-26T11:00:00.176Z\", \"2020-04-26T12:00:00.267Z\", \"2020-04-26T13:00:00.268Z\", \"2020-04-26T14:00:00.207Z\", \"2020-04-26T15:00:00.220Z\", \"2020-04-26T16:00:00.268Z\", \"2020-04-26T17:00:00.224Z\", \"2020-04-26T18:00:00.247Z\", \"2020-04-26T19:00:00.207Z\", \"2020-04-26T20:00:00.235Z\", \"2020-04-26T21:00:00.207Z\", \"2020-04-26T22:00:00.263Z\", \"2020-04-26T23:00:00.243Z\", \"2020-04-27T00:00:00.208Z\", \"2020-04-27T01:00:00.171Z\", \"2020-04-27T02:00:00.213Z\", \"2020-04-27T03:00:00.222Z\", \"2020-04-27T04:00:00.202Z\", \"2020-04-27T05:00:00.197Z\", \"2020-04-27T06:00:00.216Z\", \"2020-04-27T07:00:00.273Z\", \"2020-04-27T08:00:01.783Z\", \"2020-04-27T09:00:00.217Z\", \"2020-04-27T10:00:00.222Z\", \"2020-04-27T11:00:00.228Z\", \"2020-04-27T12:00:00.234Z\", \"2020-04-27T13:00:00.184Z\", \"2020-04-27T14:00:00.184Z\", \"2020-04-27T15:00:00.205Z\", \"2020-04-27T16:00:00.270Z\", \"2020-04-27T17:00:00.232Z\", \"2020-04-27T18:00:00.195Z\", \"2020-04-27T19:00:00.267Z\", \"2020-04-27T20:00:00.237Z\", \"2020-04-27T21:00:00.215Z\", \"2020-04-27T22:00:00.214Z\", \"2020-04-27T23:00:00.211Z\", \"2020-04-28T00:00:00.209Z\", \"2020-04-28T01:00:00.213Z\", \"2020-04-28T02:00:00.210Z\", \"2020-04-28T03:00:00.184Z\", \"2020-04-28T04:00:00.216Z\", \"2020-04-28T05:00:00.263Z\", \"2020-04-28T06:00:00.240Z\", \"2020-04-28T07:00:00.236Z\", \"2020-04-28T08:00:00.188Z\", \"2020-04-28T09:00:00.176Z\", \"2020-04-28T10:00:00.234Z\", \"2020-04-28T11:00:00.192Z\", \"2020-04-28T12:00:00.187Z\", \"2020-04-28T13:00:00.226Z\", \"2020-04-28T14:00:00.254Z\", \"2020-04-28T15:00:00.236Z\", \"2020-04-28T16:00:00.194Z\", \"2020-04-28T17:00:00.249Z\", \"2020-04-28T18:00:00.230Z\", \"2020-04-28T19:00:00.252Z\", \"2020-04-28T20:00:00.176Z\", \"2020-04-28T21:00:00.214Z\", \"2020-04-28T22:00:00.202Z\", \"2020-04-28T23:00:00.206Z\", \"2020-04-29T00:00:00.209Z\", \"2020-04-29T01:00:00.214Z\", \"2020-04-29T02:00:00.206Z\", \"2020-04-29T03:00:00.212Z\", \"2020-04-29T04:00:00.213Z\", \"2020-04-29T05:00:00.256Z\", \"2020-04-29T06:00:00.268Z\", \"2020-04-29T07:00:00.209Z\", \"2020-04-29T08:00:00.217Z\", \"2020-04-29T09:00:00.247Z\", \"2020-04-29T10:00:00.253Z\", \"2020-04-29T11:00:00.279Z\", \"2020-04-29T12:00:00.246Z\", \"2020-04-29T13:00:00.214Z\", \"2020-04-29T14:00:00.192Z\", \"2020-04-29T15:00:00.199Z\", \"2020-04-29T17:00:00.182Z\", \"2020-04-29T18:00:00.173Z\", \"2020-04-29T19:00:00.223Z\", \"2020-04-29T20:00:00.237Z\", \"2020-04-29T21:00:00.244Z\", \"2020-04-29T22:00:00.215Z\", \"2020-04-29T23:00:00.245Z\", \"2020-04-30T00:00:00.215Z\", \"2020-04-30T01:00:05.257Z\", \"2020-04-30T02:00:00.214Z\", \"2020-04-30T03:00:00.217Z\", \"2020-04-30T04:00:00.206Z\", \"2020-04-30T05:00:00.260Z\", \"2020-04-30T06:00:00.210Z\", \"2020-04-30T07:00:00.277Z\", \"2020-04-30T08:00:00.262Z\", \"2020-04-30T09:00:00.225Z\", \"2020-04-30T10:00:00.234Z\", \"2020-04-30T11:00:00.192Z\", \"2020-04-30T12:00:00.193Z\", \"2020-04-30T13:00:00.227Z\", \"2020-04-30T14:00:00.229Z\", \"2020-04-30T15:00:00.256Z\", \"2020-04-30T16:00:00.219Z\", \"2020-04-30T17:00:00.221Z\", \"2020-04-30T18:00:00.230Z\", \"2020-04-30T19:00:00.214Z\", \"2020-04-30T20:00:00.220Z\", \"2020-04-30T21:00:00.184Z\", \"2020-04-30T22:00:00.218Z\", \"2020-04-30T23:00:00.202Z\", \"2020-05-01T00:00:00.207Z\", \"2020-05-01T01:00:00.176Z\", \"2020-05-01T02:00:00.213Z\", \"2020-05-01T03:00:00.216Z\", \"2020-05-01T04:00:00.244Z\", \"2020-05-01T05:00:00.207Z\", \"2020-05-01T06:00:00.245Z\", \"2020-05-01T07:00:00.254Z\", \"2020-05-01T08:00:00.221Z\", \"2020-05-01T09:00:00.186Z\", \"2020-05-01T10:00:00.206Z\", \"2020-05-01T11:00:00.197Z\", \"2020-05-01T12:00:00.194Z\", \"2020-05-01T13:00:00.256Z\", \"2020-05-01T14:00:00.250Z\", \"2020-05-01T15:00:00.227Z\", \"2020-05-01T16:00:00.260Z\", \"2020-05-01T17:00:00.194Z\", \"2020-05-01T18:00:00.250Z\", \"2020-05-01T19:00:00.250Z\", \"2020-05-01T20:00:00.220Z\", \"2020-05-01T21:00:00.185Z\", \"2020-05-01T22:00:00.220Z\", \"2020-05-01T23:00:00.175Z\", \"2020-05-02T00:00:00.205Z\", \"2020-05-02T01:00:00.219Z\", \"2020-05-02T02:00:00.247Z\", \"2020-05-02T03:00:00.178Z\", \"2020-05-02T04:00:00.191Z\", \"2020-05-02T05:00:00.249Z\", \"2020-05-02T06:00:00.224Z\", \"2020-05-02T07:00:00.244Z\", \"2020-05-02T08:00:00.222Z\", \"2020-05-02T09:00:00.225Z\", \"2020-05-02T10:00:00.223Z\", \"2020-05-02T11:00:00.213Z\", \"2020-05-02T12:00:00.200Z\", \"2020-05-02T13:00:00.224Z\", \"2020-05-02T14:00:00.195Z\", \"2020-05-02T15:00:00.225Z\", \"2020-05-02T16:00:00.231Z\", \"2020-05-02T17:00:00.190Z\", \"2020-05-02T18:00:00.176Z\", \"2020-05-02T19:00:00.252Z\", \"2020-05-02T20:00:00.184Z\", \"2020-05-02T21:00:00.215Z\", \"2020-05-02T22:00:00.211Z\", \"2020-05-02T23:00:00.165Z\", \"2020-05-03T00:00:00.208Z\", \"2020-05-03T01:00:00.260Z\", \"2020-05-03T02:00:00.197Z\", \"2020-05-03T03:00:00.225Z\", \"2020-05-03T04:00:01.076Z\", \"2020-05-03T05:00:00.215Z\", \"2020-05-03T06:00:00.191Z\", \"2020-05-03T07:00:00.222Z\", \"2020-05-03T08:00:00.188Z\", \"2020-05-03T09:00:00.246Z\", \"2020-05-03T10:00:00.178Z\", \"2020-05-03T11:00:00.218Z\", \"2020-05-03T12:00:00.252Z\", \"2020-05-03T13:00:00.211Z\", \"2020-05-03T14:00:00.213Z\", \"2020-05-03T15:00:00.207Z\", \"2020-05-03T16:00:00.253Z\", \"2020-05-03T17:00:00.217Z\", \"2020-05-03T18:00:00.180Z\", \"2020-05-03T19:00:00.253Z\", \"2020-05-03T20:00:00.173Z\", \"2020-05-03T21:00:00.225Z\", \"2020-05-03T22:00:00.194Z\", \"2020-05-03T23:00:00.232Z\", \"2020-05-04T00:00:00.236Z\", \"2020-05-04T01:00:00.173Z\", \"2020-05-04T02:00:00.200Z\", \"2020-05-04T03:00:01.669Z\", \"2020-05-04T04:00:00.176Z\", \"2020-05-04T05:00:00.191Z\", \"2020-05-04T06:00:00.183Z\", \"2020-05-04T07:00:00.202Z\", \"2020-05-04T08:00:00.231Z\", \"2020-05-04T09:00:00.221Z\", \"2020-05-04T10:00:00.245Z\", \"2020-05-04T11:00:00.191Z\", \"2020-05-04T12:00:00.267Z\", \"2020-05-04T13:00:00.218Z\", \"2020-05-04T14:00:00.172Z\", \"2020-05-04T15:00:00.210Z\", \"2020-05-04T16:00:00.205Z\", \"2020-05-04T17:00:00.258Z\", \"2020-05-04T18:00:00.246Z\", \"2020-05-04T19:00:00.187Z\", \"2020-05-04T20:00:00.211Z\", \"2020-05-04T21:00:00.226Z\", \"2020-05-04T22:00:00.173Z\", \"2020-05-04T23:00:00.198Z\", \"2020-05-05T00:00:00.178Z\", \"2020-05-05T01:00:00.233Z\", \"2020-05-05T02:00:00.179Z\", \"2020-05-05T03:00:00.183Z\", \"2020-05-05T04:00:00.203Z\", \"2020-05-05T05:00:00.208Z\", \"2020-05-05T06:00:00.218Z\", \"2020-05-05T07:00:00.178Z\", \"2020-05-05T08:00:00.244Z\", \"2020-05-05T09:00:00.197Z\", \"2020-05-05T10:00:00.215Z\", \"2020-05-05T11:00:00.205Z\", \"2020-05-05T12:00:00.258Z\", \"2020-05-05T13:00:00.218Z\", \"2020-05-05T14:00:00.234Z\", \"2020-05-05T15:00:00.177Z\", \"2020-05-05T16:00:00.177Z\", \"2020-05-05T17:00:00.227Z\", \"2020-05-05T18:00:00.222Z\", \"2020-05-05T19:00:00.209Z\", \"2020-05-05T20:00:00.359Z\", \"2020-05-05T21:00:00.185Z\", \"2020-05-05T22:00:00.234Z\", \"2020-05-05T23:00:00.218Z\", \"2020-05-06T00:00:00.208Z\", \"2020-05-06T01:00:00.179Z\", \"2020-05-06T02:00:00.211Z\", \"2020-05-06T03:00:00.251Z\", \"2020-05-06T04:00:00.266Z\", \"2020-05-06T05:00:00.213Z\", \"2020-05-06T06:00:00.189Z\", \"2020-05-06T07:00:00.224Z\", \"2020-05-06T08:00:00.216Z\", \"2020-05-06T09:00:00.233Z\", \"2020-05-06T09:00:00.666Z\", \"2020-05-06T10:00:00.235Z\", \"2020-05-06T10:00:09.342Z\", \"2020-05-06T11:00:00.190Z\", \"2020-05-06T11:00:01.632Z\", \"2020-05-06T12:00:00.255Z\", \"2020-05-06T12:00:00.772Z\"], \"y\": [62, 62, 85, 85, 85, 85, 85, 85, 85, 85, 85, 116, 116, 116, 116, 116, 116, 116, 116, 116, 116, 116, 116, 116, 116, 116, 116, 116, 116, 116, 116, 116, 116, 116, 116, 116, 116, 116, 150, 150, 150, 150, 150, 150, 150, 150, 150, 150, 150, 150, 150, 150, 150, 150, 150, 150, 150, 150, 150, 202, 202, 202, 202, 202, 202, 202, 202, 202, 202, 202, 202, 202, 202, 202, 202, 202, 202, 202, 202, 202, 202, 202, 202, 239, 239, 239, 238, 238, 238, 238, 238, 238, 238, 238, 238, 238, 238, 238, 238, 238, 238, 238, 238, 238, 238, 238, 238, 238, 238, 238, 238, 238, 238, 238, 238, 238, 272, 272, 272, 272, 272, 272, 272, 272, 272, 398, 398, 398, 398, 398, 398, 398, 398, 398, 398, 398, 398, 398, 550, 550, 550, 550, 550, 550, 550, 550, 550, 550, 550, 550, 550, 550, 550, 550, 550, 550, 550, 550, 550, 550, 705, 705, 705, 705, 705, 697, 697, 697, 697, 697, 697, 697, 697, 697, 697, 697, 697, 697, 697, 697, 697, 697, 697, 697, 697, 697, 697, 697, 697, 697, 697, 697, 697, 915, 915, 915, 915, 915, 915, 915, 915, 915, 915, 915, 915, 915, 915, 915, 915, 913, 913, 913, 913, 913, 913, 913, 913, 913, 1156, 1156, 1156, 1157, 1138, 1138, 1138, 1138, 1138, 1138, 1138, 1138, 1138, 1138, 1138, 1138, 1138, 1138, 1138, 1138, 1138, 1138, 1138, 1137, 1154, 1154, 1154, 1155, 1155, 1155, 1155, 1155, 1155, 1155, 1155, 1155, 1155, 1155, 1155, 1155, 1155, 1155, 1155, 1155, 1155, 1155, 1155, 1155, 1155, 1247, 1247, 1247, 1247, 1247, 1247, 1247, 1247, 1247, 1247, 1247, 1247, 1247, 1247, 1247, 1247, 1247, 1247, 1247, 1247, 1247, 1247, 1292, 1292, 1292, 1292, 1292, 1292, 1292, 1292, 1292, 1292, 1292, 1292, 1292, 1292, 1292, 1292, 1292, 1292, 1292, 1292, 1292, 1292, 1319, 1319, 1319, 1319, 1319, 1317, 1317, 1317, 1317, 1317, 1317, 1317, 1317, 1317, 1317, 1317, 1298, 1298, 1298, 1298, 1298, 1298, 1298, 1298, 1298, 1325, 1325, 1325, 1325, 1325, 1325, 1325, 1325, 1325, 1325, 1325, 1325, 1325, 1325, 1325, 1325, 1325, 1325, 1325, 1325, 1325, 1325, 1325, 1325, 1407, 1407, 1407, 1407, 1407, 1407, 1407, 1407, 1407, 1407, 1407, 1407, 1362, 1362, 1362, 1362, 1362, 1362, 1362, 1362, 1362, 1362, 1403, 1403, 1401, 1401, 1401, 1401, 1401, 1401, 1401, 1401, 1401, 1401, 1401, 1401, 1401, 1401, 1401, 1401, 1401, 1401, 1401, 1401, 1401, 1401, 1401, 1401, 1401, 1481, 1481, 1481, 1481, 1481, 1481, 1481, 1481, 1481, 1481, 1481, 1481, 1481, 1481, 1481, 1481, 1481, 1481, 1481, 1481, 1481, 1481, 1481, 1481, 1549, 1549, 1549, 1549, 1549, 1549, 1549, 1549, 1549, 1549, 1549, 1549, 1549, 1549, 1549, 1549, 1549, 1549, 1549, 1549, 1549, 1549, 1549, 1549, 1579, 1579, 1579, 1579, 1579, 1579, 1579, 1579, 1579, 1579, 1579, 1579, 1579, 1579, 1579, 1579, 1579, 1579, 1641, 1641, 1641, 1641, 1641, 1641, 1641, 1641, 1641, 1641, 1641, 1641, 1641, 1641, 1641, 1641, 1641, 1641, 1641, 1641, 1641, 1641, 1641, 1641, 1641, 1641, 1641, 1641, 1641, 1732, 1732, 1732, 1732, 1732, 1732, 1732, 1732, 1732, 1732, 1732, 1732, 1732, 1732, 1732, 1732, 1732, 1732, 1732, 1732, 1732, 1732, 1732, 1732, 1821, 1821, 1821, 1821, 1821, 1821, 1821, 1821, 1821, 1821, 1821, 1821, 1821, 1821, 1821, 1821, 1821, 1821, 1569, 1569, 1569, 1569, 1569, 1569, 1569, 1569, 1569, 1569, 1569, 1569, 1569, 1569, 1569, 1569, 1569, 1569, 1569, 1569, 1569, 1569, 1569, 1569, 1569, 1569, 1569, 1569, 1569, 1593, 1593, 1593, 1593, 1593, 1593, 1593, 1593, 1593, 1593, 1593, 1593, 1593, 1593, 1593, 1593, 1593, 1593, 1593, 1593, 1593, 1593, 1593, 1593, 1738, 1738, 1738, 1738, 1738, 1738, 1738, 1738, 1738, 1738, 1738, 1738, 1738, 1738, 1738, 1738, 1738, 1738, 1738, 1738, 1738, 1738, 1738, 1738, 1835, 1835, 1835, 1835, 1835, 1835, 1835, 1835, 1835, 1835, 1835, 1835, 1835, 1835, 1835, 1835, 1835, 1835, 1835, 1835, 1978, 1978, 1978, 1978, 1978, 1978, 1978, 1978, 1978, 1978, 1978, 1978, 1978, 1978, 1978, 1978, 1978, 1978, 1978, 1978, 1978, 1978, 1978, 1978, 1978, 1978, 1978, 2062, 2062, 2062, 2062, 2062, 2062, 2062, 2062, 2062, 2062, 2062, 2062, 2062, 2062, 2062, 2062, 2062, 2062, 2062, 2062, 2062, 2062, 2062, 2062, 2062, 2062, 1654, 1654, 1654, 1654, 1654, 1654, 1654, 1654, 1654, 1654, 1654, 1654, 1654, 1654, 1654, 1654, 1654, 1654, 1654, 1654, 1654, 1654, 1654, 1654, 1830, 1830, 1830, 1830, 1830, 1830, 1830, 1830, 1830, 1830, 1830, 1830, 1830, 1830, 1830, 1830, 1830, 1830, 1830, 1830, 1830, 1830, 1830, 1830, 2081, 2081, 2079, 2079, 2079, 2079, 2079, 2079, 2079, 2079, 2079, 2079, 2079, 2079, 2079, 2079, 2079, 2079, 2079, 2079, 2079, 2079, 2079, 2201, 2201, 2201, 2201, 2201, 2201, 2201, 2201, 2201, 2201, 2201, 2201, 2201, 2201, 2201, 2201, 2201, 2201, 2201, 2201, 2201, 2201, 2201, 2201, 2201, 2201, 2187, 2187, 2187, 2187, 2187, 2187, 2187, 2187, 2187, 2187, 2187, 2187, 2187, 2187, 2187, 2187, 2187, 2187, 2187, 2187, 2187, 2352, 2352, 2352, 2352, 2352, 2352, 2352, 2352, 2352, 2352, 2352, 2352, 2352, 2352, 2352, 2352, 2352, 2352, 2352, 2352, 2352, 2352, 2352, 2352, 2352, 2352, 2515, 2515, 2515, 2515, 2515, 2515, 2515, 2515, 2515, 2515, 2515, 2515, 2515, 2515, 2515, 2515, 2515, 2515, 2515, 2515, 2515, 2515, 2515, 2405, 2405, 2405, 2405, 2405, 2405, 2405, 2405, 2405, 2405, 2405, 2405, 2405, 2405, 2405, 2405, 2405, 2405, 2405, 2405, 2405, 2405, 2405, 2405, 2405, 2668, 2668, 2668, 2668, 2668, 2668, 2668, 2668, 2668, 2668, 2668, 2668, 2668, 2668, 2668, 2668, 2668, 2668, 2668, 2668, 2668, 2668, 2668, 2668, 2802, 2802, 2802, 2802, 2802, 2802, 2802, 2802, 2802, 2802, 2802, 2802, 2802, 2802, 2802, 2802, 2802, 2802, 2802, 2802, 2802, 2802, 2802, 2802, 2986, 2986, 2986, 2986, 2986, 2986, 2986, 2986, 2986, 2986, 2986, 2986, 2986, 2986, 2986, 2986, 2986, 2986, 2986, 2986, 2986, 2986, 2986, 2986, 2986, 3230, 3230, 3230, 3230, 3230, 3230, 3230, 3230, 3230, 3230, 3230, 3230, 3230, 3230, 3230, 3230, 3230, 3230, 3230, 3230, 3230, 3230, 3230, 3230, 2830, 2830, 2830, 2830, 2830, 2830, 2830, 2830, 2830, 2830, 2830, 2830, 2830, 2830, 2830, 2830, 2830, 2830, 2830, 2830, 2830, 2830, 2830, 3174, 3174, 3174, 3174, 3174, 3174, 3174, 3174, 3174, 3174, 3174, 3174, 3174, 3174, 3174, 3174, 3174, 3174, 3174, 3174, 3174, 3174, 3174, 3471, 3471, 3471, 3471, 3471, 3471, 3471, 3471, 3471, 3471, 3471, 3471, 3471, 3471, 3471, 3471, 3471, 3471, 3471, 3471, 3471, 3471, 3471, 3471, 3471, 3471, 3453, 3453, 3453, 3453, 3453, 3453, 3453, 3453, 3453, 3453, 3453, 3453, 3453, 3453, 3453, 3453, 3453, 3453, 3453, 3453, 3453, 3453, 3664, 3664, 3664, 3664, 3664, 3664, 3664, 3664, 3664, 3664, 3664, 3664, 3664, 3664, 3664, 3664, 3664, 3664, 3664, 3664, 3664, 3664, 3664, 3664, 4103, 4103, 4103, 4103, 4103, 4103, 4103, 4103, 4103, 4103, 4103, 4103, 4103, 4103, 4103, 4103, 4103, 4103, 4103, 4103, 4103, 4103, 4103, 4103, 4336, 4336, 4336, 4336, 4336, 4336, 4336, 4336, 4336, 4336, 4336, 4336, 4336, 4336, 4336, 4336, 4336, 4336, 4336, 4336, 4336, 4336, 4336, 4336, 4336, 4678, 4678, 4678, 4678, 4678, 4678, 4678, 4678, 4678, 4678, 4678, 4678, 4678, 4678, 4678, 4678, 4678, 4678, 4678, 4678, 4678]}],\n",
       "                        {\"template\": {\"data\": {\"bar\": [{\"error_x\": {\"color\": \"#2a3f5f\"}, \"error_y\": {\"color\": \"#2a3f5f\"}, \"marker\": {\"line\": {\"color\": \"#E5ECF6\", \"width\": 0.5}}, \"type\": \"bar\"}], \"barpolar\": [{\"marker\": {\"line\": {\"color\": \"#E5ECF6\", \"width\": 0.5}}, \"type\": \"barpolar\"}], \"carpet\": [{\"aaxis\": {\"endlinecolor\": \"#2a3f5f\", \"gridcolor\": \"white\", \"linecolor\": \"white\", \"minorgridcolor\": \"white\", \"startlinecolor\": \"#2a3f5f\"}, \"baxis\": {\"endlinecolor\": \"#2a3f5f\", \"gridcolor\": \"white\", \"linecolor\": \"white\", \"minorgridcolor\": \"white\", \"startlinecolor\": \"#2a3f5f\"}, \"type\": \"carpet\"}], \"choropleth\": [{\"colorbar\": {\"outlinewidth\": 0, \"ticks\": \"\"}, \"type\": \"choropleth\"}], \"contour\": [{\"colorbar\": {\"outlinewidth\": 0, \"ticks\": \"\"}, \"colorscale\": [[0.0, \"#0d0887\"], [0.1111111111111111, \"#46039f\"], [0.2222222222222222, \"#7201a8\"], [0.3333333333333333, \"#9c179e\"], [0.4444444444444444, \"#bd3786\"], [0.5555555555555556, \"#d8576b\"], [0.6666666666666666, \"#ed7953\"], [0.7777777777777778, \"#fb9f3a\"], [0.8888888888888888, \"#fdca26\"], [1.0, \"#f0f921\"]], \"type\": \"contour\"}], \"contourcarpet\": [{\"colorbar\": {\"outlinewidth\": 0, \"ticks\": \"\"}, \"type\": \"contourcarpet\"}], \"heatmap\": [{\"colorbar\": {\"outlinewidth\": 0, \"ticks\": \"\"}, \"colorscale\": [[0.0, \"#0d0887\"], [0.1111111111111111, \"#46039f\"], [0.2222222222222222, \"#7201a8\"], [0.3333333333333333, \"#9c179e\"], [0.4444444444444444, \"#bd3786\"], [0.5555555555555556, \"#d8576b\"], [0.6666666666666666, \"#ed7953\"], [0.7777777777777778, \"#fb9f3a\"], [0.8888888888888888, \"#fdca26\"], [1.0, \"#f0f921\"]], \"type\": \"heatmap\"}], \"heatmapgl\": [{\"colorbar\": {\"outlinewidth\": 0, \"ticks\": \"\"}, \"colorscale\": [[0.0, \"#0d0887\"], [0.1111111111111111, \"#46039f\"], [0.2222222222222222, \"#7201a8\"], [0.3333333333333333, \"#9c179e\"], [0.4444444444444444, \"#bd3786\"], [0.5555555555555556, \"#d8576b\"], [0.6666666666666666, \"#ed7953\"], [0.7777777777777778, \"#fb9f3a\"], [0.8888888888888888, \"#fdca26\"], [1.0, \"#f0f921\"]], \"type\": \"heatmapgl\"}], \"histogram\": [{\"marker\": {\"colorbar\": {\"outlinewidth\": 0, \"ticks\": \"\"}}, \"type\": \"histogram\"}], \"histogram2d\": [{\"colorbar\": {\"outlinewidth\": 0, \"ticks\": \"\"}, \"colorscale\": [[0.0, \"#0d0887\"], [0.1111111111111111, \"#46039f\"], [0.2222222222222222, \"#7201a8\"], [0.3333333333333333, \"#9c179e\"], [0.4444444444444444, \"#bd3786\"], [0.5555555555555556, \"#d8576b\"], [0.6666666666666666, \"#ed7953\"], [0.7777777777777778, \"#fb9f3a\"], [0.8888888888888888, \"#fdca26\"], [1.0, \"#f0f921\"]], \"type\": \"histogram2d\"}], \"histogram2dcontour\": [{\"colorbar\": {\"outlinewidth\": 0, \"ticks\": \"\"}, \"colorscale\": [[0.0, \"#0d0887\"], [0.1111111111111111, \"#46039f\"], [0.2222222222222222, \"#7201a8\"], [0.3333333333333333, \"#9c179e\"], [0.4444444444444444, \"#bd3786\"], [0.5555555555555556, \"#d8576b\"], [0.6666666666666666, \"#ed7953\"], [0.7777777777777778, \"#fb9f3a\"], [0.8888888888888888, \"#fdca26\"], [1.0, \"#f0f921\"]], \"type\": \"histogram2dcontour\"}], \"mesh3d\": [{\"colorbar\": {\"outlinewidth\": 0, \"ticks\": \"\"}, \"type\": \"mesh3d\"}], \"parcoords\": [{\"line\": {\"colorbar\": {\"outlinewidth\": 0, \"ticks\": \"\"}}, \"type\": \"parcoords\"}], \"pie\": [{\"automargin\": true, \"type\": \"pie\"}], \"scatter\": [{\"marker\": {\"colorbar\": {\"outlinewidth\": 0, \"ticks\": \"\"}}, \"type\": \"scatter\"}], \"scatter3d\": [{\"line\": {\"colorbar\": {\"outlinewidth\": 0, \"ticks\": \"\"}}, \"marker\": {\"colorbar\": {\"outlinewidth\": 0, \"ticks\": \"\"}}, \"type\": \"scatter3d\"}], \"scattercarpet\": [{\"marker\": {\"colorbar\": {\"outlinewidth\": 0, \"ticks\": \"\"}}, \"type\": \"scattercarpet\"}], \"scattergeo\": [{\"marker\": {\"colorbar\": {\"outlinewidth\": 0, \"ticks\": \"\"}}, \"type\": \"scattergeo\"}], \"scattergl\": [{\"marker\": {\"colorbar\": {\"outlinewidth\": 0, \"ticks\": \"\"}}, \"type\": \"scattergl\"}], \"scattermapbox\": [{\"marker\": {\"colorbar\": {\"outlinewidth\": 0, \"ticks\": \"\"}}, \"type\": \"scattermapbox\"}], \"scatterpolar\": [{\"marker\": {\"colorbar\": {\"outlinewidth\": 0, \"ticks\": \"\"}}, \"type\": \"scatterpolar\"}], \"scatterpolargl\": [{\"marker\": {\"colorbar\": {\"outlinewidth\": 0, \"ticks\": \"\"}}, \"type\": \"scatterpolargl\"}], \"scatterternary\": [{\"marker\": {\"colorbar\": {\"outlinewidth\": 0, \"ticks\": \"\"}}, \"type\": \"scatterternary\"}], \"surface\": [{\"colorbar\": {\"outlinewidth\": 0, \"ticks\": \"\"}, \"colorscale\": [[0.0, \"#0d0887\"], [0.1111111111111111, \"#46039f\"], [0.2222222222222222, \"#7201a8\"], [0.3333333333333333, \"#9c179e\"], [0.4444444444444444, \"#bd3786\"], [0.5555555555555556, \"#d8576b\"], [0.6666666666666666, \"#ed7953\"], [0.7777777777777778, \"#fb9f3a\"], [0.8888888888888888, \"#fdca26\"], [1.0, \"#f0f921\"]], \"type\": \"surface\"}], \"table\": [{\"cells\": {\"fill\": {\"color\": \"#EBF0F8\"}, \"line\": {\"color\": \"white\"}}, \"header\": {\"fill\": {\"color\": \"#C8D4E3\"}, \"line\": {\"color\": \"white\"}}, \"type\": \"table\"}]}, \"layout\": {\"annotationdefaults\": {\"arrowcolor\": \"#2a3f5f\", \"arrowhead\": 0, \"arrowwidth\": 1}, \"coloraxis\": {\"colorbar\": {\"outlinewidth\": 0, \"ticks\": \"\"}}, \"colorscale\": {\"diverging\": [[0, \"#8e0152\"], [0.1, \"#c51b7d\"], [0.2, \"#de77ae\"], [0.3, \"#f1b6da\"], [0.4, \"#fde0ef\"], [0.5, \"#f7f7f7\"], [0.6, \"#e6f5d0\"], [0.7, \"#b8e186\"], [0.8, \"#7fbc41\"], [0.9, \"#4d9221\"], [1, \"#276419\"]], \"sequential\": [[0.0, \"#0d0887\"], [0.1111111111111111, \"#46039f\"], [0.2222222222222222, \"#7201a8\"], [0.3333333333333333, \"#9c179e\"], [0.4444444444444444, \"#bd3786\"], [0.5555555555555556, \"#d8576b\"], [0.6666666666666666, \"#ed7953\"], [0.7777777777777778, \"#fb9f3a\"], [0.8888888888888888, \"#fdca26\"], [1.0, \"#f0f921\"]], \"sequentialminus\": [[0.0, \"#0d0887\"], [0.1111111111111111, \"#46039f\"], [0.2222222222222222, \"#7201a8\"], [0.3333333333333333, \"#9c179e\"], [0.4444444444444444, \"#bd3786\"], [0.5555555555555556, \"#d8576b\"], [0.6666666666666666, \"#ed7953\"], [0.7777777777777778, \"#fb9f3a\"], [0.8888888888888888, \"#fdca26\"], [1.0, \"#f0f921\"]]}, \"colorway\": [\"#636efa\", \"#EF553B\", \"#00cc96\", \"#ab63fa\", \"#FFA15A\", \"#19d3f3\", \"#FF6692\", \"#B6E880\", \"#FF97FF\", \"#FECB52\"], \"font\": {\"color\": \"#2a3f5f\"}, \"geo\": {\"bgcolor\": \"white\", \"lakecolor\": \"white\", \"landcolor\": \"#E5ECF6\", \"showlakes\": true, \"showland\": true, \"subunitcolor\": \"white\"}, \"hoverlabel\": {\"align\": \"left\"}, \"hovermode\": \"closest\", \"mapbox\": {\"style\": \"light\"}, \"paper_bgcolor\": \"white\", \"plot_bgcolor\": \"#E5ECF6\", \"polar\": {\"angularaxis\": {\"gridcolor\": \"white\", \"linecolor\": \"white\", \"ticks\": \"\"}, \"bgcolor\": \"#E5ECF6\", \"radialaxis\": {\"gridcolor\": \"white\", \"linecolor\": \"white\", \"ticks\": \"\"}}, \"scene\": {\"xaxis\": {\"backgroundcolor\": \"#E5ECF6\", \"gridcolor\": \"white\", \"gridwidth\": 2, \"linecolor\": \"white\", \"showbackground\": true, \"ticks\": \"\", \"zerolinecolor\": \"white\"}, \"yaxis\": {\"backgroundcolor\": \"#E5ECF6\", \"gridcolor\": \"white\", \"gridwidth\": 2, \"linecolor\": \"white\", \"showbackground\": true, \"ticks\": \"\", \"zerolinecolor\": \"white\"}, \"zaxis\": {\"backgroundcolor\": \"#E5ECF6\", \"gridcolor\": \"white\", \"gridwidth\": 2, \"linecolor\": \"white\", \"showbackground\": true, \"ticks\": \"\", \"zerolinecolor\": \"white\"}}, \"shapedefaults\": {\"line\": {\"color\": \"#2a3f5f\"}}, \"ternary\": {\"aaxis\": {\"gridcolor\": \"white\", \"linecolor\": \"white\", \"ticks\": \"\"}, \"baxis\": {\"gridcolor\": \"white\", \"linecolor\": \"white\", \"ticks\": \"\"}, \"bgcolor\": \"#E5ECF6\", \"caxis\": {\"gridcolor\": \"white\", \"linecolor\": \"white\", \"ticks\": \"\"}}, \"title\": {\"x\": 0.05}, \"xaxis\": {\"automargin\": true, \"gridcolor\": \"white\", \"linecolor\": \"white\", \"ticks\": \"\", \"title\": {\"standoff\": 15}, \"zerolinecolor\": \"white\", \"zerolinewidth\": 2}, \"yaxis\": {\"automargin\": true, \"gridcolor\": \"white\", \"linecolor\": \"white\", \"ticks\": \"\", \"title\": {\"standoff\": 15}, \"zerolinecolor\": \"white\", \"zerolinewidth\": 2}}}, \"title\": {\"text\": \"Commulative confirmed cases in SA as 17/03/2020\"}},\n",
       "                        {\"responsive\": true}\n",
       "                    ).then(function(){\n",
       "                            \n",
       "var gd = document.getElementById('cab90c9e-d46f-4996-8d72-cd5822d075b0');\n",
       "var x = new MutationObserver(function (mutations, observer) {{\n",
       "        var display = window.getComputedStyle(gd).display;\n",
       "        if (!display || display === 'none') {{\n",
       "            console.log([gd, 'removed!']);\n",
       "            Plotly.purge(gd);\n",
       "            observer.disconnect();\n",
       "        }}\n",
       "}});\n",
       "\n",
       "// Listen for the removal of the full notebook cells\n",
       "var notebookContainer = gd.closest('#notebook-container');\n",
       "if (notebookContainer) {{\n",
       "    x.observe(notebookContainer, {childList: true});\n",
       "}}\n",
       "\n",
       "// Listen for the clearing of the current output cell\n",
       "var outputEl = gd.closest('.output');\n",
       "if (outputEl) {{\n",
       "    x.observe(outputEl, {childList: true});\n",
       "}}\n",
       "\n",
       "                        })\n",
       "                };\n",
       "                });\n",
       "            </script>\n",
       "        </div>"
      ]
     },
     "metadata": {},
     "output_type": "display_data"
    }
   ],
   "source": [
    "#SA commulative data\n",
    "df_rsa = df6[df6.countriesAndTerritories == 'South_Africa'].reset_index()\n",
    "fig_line = go.Figure()\n",
    "fig_line.add_trace(go.Scatter(x = df4.timestamp,y= df4.active, name = 'Active Cases in SA'))\n",
    "fig_line.update_layout(title = 'Commulative confirmed cases in SA as 17/03/2020')\n",
    "fig_line.show()"
   ]
  },
  {
   "cell_type": "code",
   "execution_count": 14,
   "metadata": {},
   "outputs": [
    {
     "data": {
      "application/vnd.plotly.v1+json": {
       "config": {
        "plotlyServerURL": "https://plot.ly"
       },
       "data": [
        {
         "name": "Possible low Rt",
         "type": "scatter",
         "x": [
          "2020-03-07",
          "2020-03-08",
          "2020-03-09",
          "2020-03-10",
          "2020-03-11",
          "2020-03-12",
          "2020-03-13",
          "2020-03-14",
          "2020-03-15",
          "2020-03-16",
          "2020-03-17",
          "2020-03-18",
          "2020-03-19",
          "2020-03-20",
          "2020-03-21",
          "2020-03-22",
          "2020-03-23",
          "2020-03-24",
          "2020-03-25",
          "2020-03-26",
          "2020-03-27",
          "2020-03-28",
          "2020-03-29",
          "2020-03-30",
          "2020-03-31",
          "2020-04-01",
          "2020-04-02",
          "2020-04-03",
          "2020-04-04",
          "2020-04-05",
          "2020-04-06",
          "2020-04-07",
          "2020-04-08",
          "2020-04-09",
          "2020-04-10",
          "2020-04-11",
          "2020-04-12",
          "2020-04-13",
          "2020-04-14",
          "2020-04-15",
          "2020-04-16",
          "2020-04-17",
          "2020-04-18",
          "2020-04-19",
          "2020-04-20"
         ],
         "y": [
          0.34,
          0.38,
          0.51,
          0.61,
          0.8300000000000001,
          0.96,
          0.94,
          0.6900000000000001,
          1.01,
          1.09,
          1.24,
          1.29,
          1.28,
          1.37,
          1.5,
          1.58,
          1.68,
          1.73,
          1.59,
          1.45,
          1.22,
          1,
          0.77,
          0.53,
          0.26,
          0.11,
          0.02,
          0.01,
          0.13,
          0.39,
          0.65,
          0.8300000000000001,
          0.8200000000000001,
          0.84,
          0.84,
          0.88,
          0.91,
          0.96,
          0.98,
          1.06,
          1.08,
          1.1,
          1.1,
          1.09,
          0.99
         ]
        },
        {
         "name": "Most likely Rt",
         "type": "scatter",
         "x": [
          "2020-03-07",
          "2020-03-08",
          "2020-03-09",
          "2020-03-10",
          "2020-03-11",
          "2020-03-12",
          "2020-03-13",
          "2020-03-14",
          "2020-03-15",
          "2020-03-16",
          "2020-03-17",
          "2020-03-18",
          "2020-03-19",
          "2020-03-20",
          "2020-03-21",
          "2020-03-22",
          "2020-03-23",
          "2020-03-24",
          "2020-03-25",
          "2020-03-26",
          "2020-03-27",
          "2020-03-28",
          "2020-03-29",
          "2020-03-30",
          "2020-03-31",
          "2020-04-01",
          "2020-04-02",
          "2020-04-03",
          "2020-04-04",
          "2020-04-05",
          "2020-04-06",
          "2020-04-07",
          "2020-04-08",
          "2020-04-09",
          "2020-04-10",
          "2020-04-11",
          "2020-04-12",
          "2020-04-13",
          "2020-04-14",
          "2020-04-15",
          "2020-04-16",
          "2020-04-17",
          "2020-04-18",
          "2020-04-19",
          "2020-04-20"
         ],
         "y": [
          2,
          1.88,
          2.17,
          2.28,
          2.5,
          2.45,
          2.2,
          2.04,
          2.18,
          2.11,
          2.12,
          2.06,
          1.96,
          1.96,
          2.03,
          2.03,
          2.08,
          2.07,
          1.9,
          1.73,
          1.5,
          1.25,
          1.03,
          0.79,
          0.54,
          0.41,
          0.29,
          0.32,
          0.5,
          0.78,
          1.03,
          1.22,
          1.19,
          1.2,
          1.2,
          1.23,
          1.24,
          1.28,
          1.29,
          1.37,
          1.36,
          1.38,
          1.35,
          1.33,
          1.25
         ]
        },
        {
         "name": "Possible High Rt",
         "type": "scatter",
         "x": [
          "2020-03-07",
          "2020-03-08",
          "2020-03-09",
          "2020-03-10",
          "2020-03-11",
          "2020-03-12",
          "2020-03-13",
          "2020-03-14",
          "2020-03-15",
          "2020-03-16",
          "2020-03-17",
          "2020-03-18",
          "2020-03-19",
          "2020-03-20",
          "2020-03-21",
          "2020-03-22",
          "2020-03-23",
          "2020-03-24",
          "2020-03-25",
          "2020-03-26",
          "2020-03-27",
          "2020-03-28",
          "2020-03-29",
          "2020-03-30",
          "2020-03-31",
          "2020-04-01",
          "2020-04-02",
          "2020-04-03",
          "2020-04-04",
          "2020-04-05",
          "2020-04-06",
          "2020-04-07",
          "2020-04-08",
          "2020-04-09",
          "2020-04-10",
          "2020-04-11",
          "2020-04-12",
          "2020-04-13",
          "2020-04-14",
          "2020-04-15",
          "2020-04-16",
          "2020-04-17",
          "2020-04-18",
          "2020-04-19",
          "2020-04-20"
         ],
         "y": [
          6.43,
          5.01,
          4.99,
          4.59,
          4.43,
          4.04,
          3.56,
          3.33,
          3.31,
          3.09,
          2.98,
          2.81,
          2.63,
          2.57,
          2.5500000000000003,
          2.51,
          2.49,
          2.44,
          2.22,
          2.03,
          1.76,
          1.53,
          1.3,
          1.07,
          0.8300000000000001,
          0.71,
          0.6,
          0.64,
          0.89,
          1.19,
          1.45,
          1.6,
          1.58,
          1.58,
          1.56,
          1.58,
          1.59,
          1.62,
          1.61,
          1.66,
          1.66,
          1.65,
          1.63,
          1.6,
          1.48
         ]
        }
       ],
       "layout": {
        "hovermode": "x",
        "template": {
         "data": {
          "bar": [
           {
            "error_x": {
             "color": "#2a3f5f"
            },
            "error_y": {
             "color": "#2a3f5f"
            },
            "marker": {
             "line": {
              "color": "#E5ECF6",
              "width": 0.5
             }
            },
            "type": "bar"
           }
          ],
          "barpolar": [
           {
            "marker": {
             "line": {
              "color": "#E5ECF6",
              "width": 0.5
             }
            },
            "type": "barpolar"
           }
          ],
          "carpet": [
           {
            "aaxis": {
             "endlinecolor": "#2a3f5f",
             "gridcolor": "white",
             "linecolor": "white",
             "minorgridcolor": "white",
             "startlinecolor": "#2a3f5f"
            },
            "baxis": {
             "endlinecolor": "#2a3f5f",
             "gridcolor": "white",
             "linecolor": "white",
             "minorgridcolor": "white",
             "startlinecolor": "#2a3f5f"
            },
            "type": "carpet"
           }
          ],
          "choropleth": [
           {
            "colorbar": {
             "outlinewidth": 0,
             "ticks": ""
            },
            "type": "choropleth"
           }
          ],
          "contour": [
           {
            "colorbar": {
             "outlinewidth": 0,
             "ticks": ""
            },
            "colorscale": [
             [
              0,
              "#0d0887"
             ],
             [
              0.1111111111111111,
              "#46039f"
             ],
             [
              0.2222222222222222,
              "#7201a8"
             ],
             [
              0.3333333333333333,
              "#9c179e"
             ],
             [
              0.4444444444444444,
              "#bd3786"
             ],
             [
              0.5555555555555556,
              "#d8576b"
             ],
             [
              0.6666666666666666,
              "#ed7953"
             ],
             [
              0.7777777777777778,
              "#fb9f3a"
             ],
             [
              0.8888888888888888,
              "#fdca26"
             ],
             [
              1,
              "#f0f921"
             ]
            ],
            "type": "contour"
           }
          ],
          "contourcarpet": [
           {
            "colorbar": {
             "outlinewidth": 0,
             "ticks": ""
            },
            "type": "contourcarpet"
           }
          ],
          "heatmap": [
           {
            "colorbar": {
             "outlinewidth": 0,
             "ticks": ""
            },
            "colorscale": [
             [
              0,
              "#0d0887"
             ],
             [
              0.1111111111111111,
              "#46039f"
             ],
             [
              0.2222222222222222,
              "#7201a8"
             ],
             [
              0.3333333333333333,
              "#9c179e"
             ],
             [
              0.4444444444444444,
              "#bd3786"
             ],
             [
              0.5555555555555556,
              "#d8576b"
             ],
             [
              0.6666666666666666,
              "#ed7953"
             ],
             [
              0.7777777777777778,
              "#fb9f3a"
             ],
             [
              0.8888888888888888,
              "#fdca26"
             ],
             [
              1,
              "#f0f921"
             ]
            ],
            "type": "heatmap"
           }
          ],
          "heatmapgl": [
           {
            "colorbar": {
             "outlinewidth": 0,
             "ticks": ""
            },
            "colorscale": [
             [
              0,
              "#0d0887"
             ],
             [
              0.1111111111111111,
              "#46039f"
             ],
             [
              0.2222222222222222,
              "#7201a8"
             ],
             [
              0.3333333333333333,
              "#9c179e"
             ],
             [
              0.4444444444444444,
              "#bd3786"
             ],
             [
              0.5555555555555556,
              "#d8576b"
             ],
             [
              0.6666666666666666,
              "#ed7953"
             ],
             [
              0.7777777777777778,
              "#fb9f3a"
             ],
             [
              0.8888888888888888,
              "#fdca26"
             ],
             [
              1,
              "#f0f921"
             ]
            ],
            "type": "heatmapgl"
           }
          ],
          "histogram": [
           {
            "marker": {
             "colorbar": {
              "outlinewidth": 0,
              "ticks": ""
             }
            },
            "type": "histogram"
           }
          ],
          "histogram2d": [
           {
            "colorbar": {
             "outlinewidth": 0,
             "ticks": ""
            },
            "colorscale": [
             [
              0,
              "#0d0887"
             ],
             [
              0.1111111111111111,
              "#46039f"
             ],
             [
              0.2222222222222222,
              "#7201a8"
             ],
             [
              0.3333333333333333,
              "#9c179e"
             ],
             [
              0.4444444444444444,
              "#bd3786"
             ],
             [
              0.5555555555555556,
              "#d8576b"
             ],
             [
              0.6666666666666666,
              "#ed7953"
             ],
             [
              0.7777777777777778,
              "#fb9f3a"
             ],
             [
              0.8888888888888888,
              "#fdca26"
             ],
             [
              1,
              "#f0f921"
             ]
            ],
            "type": "histogram2d"
           }
          ],
          "histogram2dcontour": [
           {
            "colorbar": {
             "outlinewidth": 0,
             "ticks": ""
            },
            "colorscale": [
             [
              0,
              "#0d0887"
             ],
             [
              0.1111111111111111,
              "#46039f"
             ],
             [
              0.2222222222222222,
              "#7201a8"
             ],
             [
              0.3333333333333333,
              "#9c179e"
             ],
             [
              0.4444444444444444,
              "#bd3786"
             ],
             [
              0.5555555555555556,
              "#d8576b"
             ],
             [
              0.6666666666666666,
              "#ed7953"
             ],
             [
              0.7777777777777778,
              "#fb9f3a"
             ],
             [
              0.8888888888888888,
              "#fdca26"
             ],
             [
              1,
              "#f0f921"
             ]
            ],
            "type": "histogram2dcontour"
           }
          ],
          "mesh3d": [
           {
            "colorbar": {
             "outlinewidth": 0,
             "ticks": ""
            },
            "type": "mesh3d"
           }
          ],
          "parcoords": [
           {
            "line": {
             "colorbar": {
              "outlinewidth": 0,
              "ticks": ""
             }
            },
            "type": "parcoords"
           }
          ],
          "pie": [
           {
            "automargin": true,
            "type": "pie"
           }
          ],
          "scatter": [
           {
            "marker": {
             "colorbar": {
              "outlinewidth": 0,
              "ticks": ""
             }
            },
            "type": "scatter"
           }
          ],
          "scatter3d": [
           {
            "line": {
             "colorbar": {
              "outlinewidth": 0,
              "ticks": ""
             }
            },
            "marker": {
             "colorbar": {
              "outlinewidth": 0,
              "ticks": ""
             }
            },
            "type": "scatter3d"
           }
          ],
          "scattercarpet": [
           {
            "marker": {
             "colorbar": {
              "outlinewidth": 0,
              "ticks": ""
             }
            },
            "type": "scattercarpet"
           }
          ],
          "scattergeo": [
           {
            "marker": {
             "colorbar": {
              "outlinewidth": 0,
              "ticks": ""
             }
            },
            "type": "scattergeo"
           }
          ],
          "scattergl": [
           {
            "marker": {
             "colorbar": {
              "outlinewidth": 0,
              "ticks": ""
             }
            },
            "type": "scattergl"
           }
          ],
          "scattermapbox": [
           {
            "marker": {
             "colorbar": {
              "outlinewidth": 0,
              "ticks": ""
             }
            },
            "type": "scattermapbox"
           }
          ],
          "scatterpolar": [
           {
            "marker": {
             "colorbar": {
              "outlinewidth": 0,
              "ticks": ""
             }
            },
            "type": "scatterpolar"
           }
          ],
          "scatterpolargl": [
           {
            "marker": {
             "colorbar": {
              "outlinewidth": 0,
              "ticks": ""
             }
            },
            "type": "scatterpolargl"
           }
          ],
          "scatterternary": [
           {
            "marker": {
             "colorbar": {
              "outlinewidth": 0,
              "ticks": ""
             }
            },
            "type": "scatterternary"
           }
          ],
          "surface": [
           {
            "colorbar": {
             "outlinewidth": 0,
             "ticks": ""
            },
            "colorscale": [
             [
              0,
              "#0d0887"
             ],
             [
              0.1111111111111111,
              "#46039f"
             ],
             [
              0.2222222222222222,
              "#7201a8"
             ],
             [
              0.3333333333333333,
              "#9c179e"
             ],
             [
              0.4444444444444444,
              "#bd3786"
             ],
             [
              0.5555555555555556,
              "#d8576b"
             ],
             [
              0.6666666666666666,
              "#ed7953"
             ],
             [
              0.7777777777777778,
              "#fb9f3a"
             ],
             [
              0.8888888888888888,
              "#fdca26"
             ],
             [
              1,
              "#f0f921"
             ]
            ],
            "type": "surface"
           }
          ],
          "table": [
           {
            "cells": {
             "fill": {
              "color": "#EBF0F8"
             },
             "line": {
              "color": "white"
             }
            },
            "header": {
             "fill": {
              "color": "#C8D4E3"
             },
             "line": {
              "color": "white"
             }
            },
            "type": "table"
           }
          ]
         },
         "layout": {
          "annotationdefaults": {
           "arrowcolor": "#2a3f5f",
           "arrowhead": 0,
           "arrowwidth": 1
          },
          "coloraxis": {
           "colorbar": {
            "outlinewidth": 0,
            "ticks": ""
           }
          },
          "colorscale": {
           "diverging": [
            [
             0,
             "#8e0152"
            ],
            [
             0.1,
             "#c51b7d"
            ],
            [
             0.2,
             "#de77ae"
            ],
            [
             0.3,
             "#f1b6da"
            ],
            [
             0.4,
             "#fde0ef"
            ],
            [
             0.5,
             "#f7f7f7"
            ],
            [
             0.6,
             "#e6f5d0"
            ],
            [
             0.7,
             "#b8e186"
            ],
            [
             0.8,
             "#7fbc41"
            ],
            [
             0.9,
             "#4d9221"
            ],
            [
             1,
             "#276419"
            ]
           ],
           "sequential": [
            [
             0,
             "#0d0887"
            ],
            [
             0.1111111111111111,
             "#46039f"
            ],
            [
             0.2222222222222222,
             "#7201a8"
            ],
            [
             0.3333333333333333,
             "#9c179e"
            ],
            [
             0.4444444444444444,
             "#bd3786"
            ],
            [
             0.5555555555555556,
             "#d8576b"
            ],
            [
             0.6666666666666666,
             "#ed7953"
            ],
            [
             0.7777777777777778,
             "#fb9f3a"
            ],
            [
             0.8888888888888888,
             "#fdca26"
            ],
            [
             1,
             "#f0f921"
            ]
           ],
           "sequentialminus": [
            [
             0,
             "#0d0887"
            ],
            [
             0.1111111111111111,
             "#46039f"
            ],
            [
             0.2222222222222222,
             "#7201a8"
            ],
            [
             0.3333333333333333,
             "#9c179e"
            ],
            [
             0.4444444444444444,
             "#bd3786"
            ],
            [
             0.5555555555555556,
             "#d8576b"
            ],
            [
             0.6666666666666666,
             "#ed7953"
            ],
            [
             0.7777777777777778,
             "#fb9f3a"
            ],
            [
             0.8888888888888888,
             "#fdca26"
            ],
            [
             1,
             "#f0f921"
            ]
           ]
          },
          "colorway": [
           "#636efa",
           "#EF553B",
           "#00cc96",
           "#ab63fa",
           "#FFA15A",
           "#19d3f3",
           "#FF6692",
           "#B6E880",
           "#FF97FF",
           "#FECB52"
          ],
          "font": {
           "color": "#2a3f5f"
          },
          "geo": {
           "bgcolor": "white",
           "lakecolor": "white",
           "landcolor": "#E5ECF6",
           "showlakes": true,
           "showland": true,
           "subunitcolor": "white"
          },
          "hoverlabel": {
           "align": "left"
          },
          "hovermode": "closest",
          "mapbox": {
           "style": "light"
          },
          "paper_bgcolor": "white",
          "plot_bgcolor": "#E5ECF6",
          "polar": {
           "angularaxis": {
            "gridcolor": "white",
            "linecolor": "white",
            "ticks": ""
           },
           "bgcolor": "#E5ECF6",
           "radialaxis": {
            "gridcolor": "white",
            "linecolor": "white",
            "ticks": ""
           }
          },
          "scene": {
           "xaxis": {
            "backgroundcolor": "#E5ECF6",
            "gridcolor": "white",
            "gridwidth": 2,
            "linecolor": "white",
            "showbackground": true,
            "ticks": "",
            "zerolinecolor": "white"
           },
           "yaxis": {
            "backgroundcolor": "#E5ECF6",
            "gridcolor": "white",
            "gridwidth": 2,
            "linecolor": "white",
            "showbackground": true,
            "ticks": "",
            "zerolinecolor": "white"
           },
           "zaxis": {
            "backgroundcolor": "#E5ECF6",
            "gridcolor": "white",
            "gridwidth": 2,
            "linecolor": "white",
            "showbackground": true,
            "ticks": "",
            "zerolinecolor": "white"
           }
          },
          "shapedefaults": {
           "line": {
            "color": "#2a3f5f"
           }
          },
          "ternary": {
           "aaxis": {
            "gridcolor": "white",
            "linecolor": "white",
            "ticks": ""
           },
           "baxis": {
            "gridcolor": "white",
            "linecolor": "white",
            "ticks": ""
           },
           "bgcolor": "#E5ECF6",
           "caxis": {
            "gridcolor": "white",
            "linecolor": "white",
            "ticks": ""
           }
          },
          "title": {
           "x": 0.05
          },
          "xaxis": {
           "automargin": true,
           "gridcolor": "white",
           "linecolor": "white",
           "ticks": "",
           "title": {
            "standoff": 15
           },
           "zerolinecolor": "white",
           "zerolinewidth": 2
          },
          "yaxis": {
           "automargin": true,
           "gridcolor": "white",
           "linecolor": "white",
           "ticks": "",
           "title": {
            "standoff": 15
           },
           "zerolinecolor": "white",
           "zerolinewidth": 2
          }
         }
        },
        "xaxis": {
         "rangeslider": {
          "visible": true
         },
         "type": "date"
        }
       }
      },
      "text/html": [
       "<div>\n",
       "        \n",
       "        \n",
       "            <div id=\"d8fb9d24-407f-4b2e-b26c-5333dfc5bec5\" class=\"plotly-graph-div\" style=\"height:525px; width:100%;\"></div>\n",
       "            <script type=\"text/javascript\">\n",
       "                require([\"plotly\"], function(Plotly) {\n",
       "                    window.PLOTLYENV=window.PLOTLYENV || {};\n",
       "                    \n",
       "                if (document.getElementById(\"d8fb9d24-407f-4b2e-b26c-5333dfc5bec5\")) {\n",
       "                    Plotly.newPlot(\n",
       "                        'd8fb9d24-407f-4b2e-b26c-5333dfc5bec5',\n",
       "                        [{\"name\": \"Possible low Rt\", \"type\": \"scatter\", \"x\": [\"2020-03-07\", \"2020-03-08\", \"2020-03-09\", \"2020-03-10\", \"2020-03-11\", \"2020-03-12\", \"2020-03-13\", \"2020-03-14\", \"2020-03-15\", \"2020-03-16\", \"2020-03-17\", \"2020-03-18\", \"2020-03-19\", \"2020-03-20\", \"2020-03-21\", \"2020-03-22\", \"2020-03-23\", \"2020-03-24\", \"2020-03-25\", \"2020-03-26\", \"2020-03-27\", \"2020-03-28\", \"2020-03-29\", \"2020-03-30\", \"2020-03-31\", \"2020-04-01\", \"2020-04-02\", \"2020-04-03\", \"2020-04-04\", \"2020-04-05\", \"2020-04-06\", \"2020-04-07\", \"2020-04-08\", \"2020-04-09\", \"2020-04-10\", \"2020-04-11\", \"2020-04-12\", \"2020-04-13\", \"2020-04-14\", \"2020-04-15\", \"2020-04-16\", \"2020-04-17\", \"2020-04-18\", \"2020-04-19\", \"2020-04-20\"], \"y\": [0.34, 0.38, 0.51, 0.61, 0.8300000000000001, 0.96, 0.94, 0.6900000000000001, 1.01, 1.09, 1.24, 1.29, 1.28, 1.37, 1.5, 1.58, 1.68, 1.73, 1.59, 1.45, 1.22, 1.0, 0.77, 0.53, 0.26, 0.11, 0.02, 0.01, 0.13, 0.39, 0.65, 0.8300000000000001, 0.8200000000000001, 0.84, 0.84, 0.88, 0.91, 0.96, 0.98, 1.06, 1.08, 1.1, 1.1, 1.09, 0.99]}, {\"name\": \"Most likely Rt\", \"type\": \"scatter\", \"x\": [\"2020-03-07\", \"2020-03-08\", \"2020-03-09\", \"2020-03-10\", \"2020-03-11\", \"2020-03-12\", \"2020-03-13\", \"2020-03-14\", \"2020-03-15\", \"2020-03-16\", \"2020-03-17\", \"2020-03-18\", \"2020-03-19\", \"2020-03-20\", \"2020-03-21\", \"2020-03-22\", \"2020-03-23\", \"2020-03-24\", \"2020-03-25\", \"2020-03-26\", \"2020-03-27\", \"2020-03-28\", \"2020-03-29\", \"2020-03-30\", \"2020-03-31\", \"2020-04-01\", \"2020-04-02\", \"2020-04-03\", \"2020-04-04\", \"2020-04-05\", \"2020-04-06\", \"2020-04-07\", \"2020-04-08\", \"2020-04-09\", \"2020-04-10\", \"2020-04-11\", \"2020-04-12\", \"2020-04-13\", \"2020-04-14\", \"2020-04-15\", \"2020-04-16\", \"2020-04-17\", \"2020-04-18\", \"2020-04-19\", \"2020-04-20\"], \"y\": [2.0, 1.88, 2.17, 2.28, 2.5, 2.45, 2.2, 2.04, 2.18, 2.11, 2.12, 2.06, 1.96, 1.96, 2.03, 2.03, 2.08, 2.07, 1.9, 1.73, 1.5, 1.25, 1.03, 0.79, 0.54, 0.41, 0.29, 0.32, 0.5, 0.78, 1.03, 1.22, 1.19, 1.2, 1.2, 1.23, 1.24, 1.28, 1.29, 1.37, 1.36, 1.38, 1.35, 1.33, 1.25]}, {\"name\": \"Possible High Rt\", \"type\": \"scatter\", \"x\": [\"2020-03-07\", \"2020-03-08\", \"2020-03-09\", \"2020-03-10\", \"2020-03-11\", \"2020-03-12\", \"2020-03-13\", \"2020-03-14\", \"2020-03-15\", \"2020-03-16\", \"2020-03-17\", \"2020-03-18\", \"2020-03-19\", \"2020-03-20\", \"2020-03-21\", \"2020-03-22\", \"2020-03-23\", \"2020-03-24\", \"2020-03-25\", \"2020-03-26\", \"2020-03-27\", \"2020-03-28\", \"2020-03-29\", \"2020-03-30\", \"2020-03-31\", \"2020-04-01\", \"2020-04-02\", \"2020-04-03\", \"2020-04-04\", \"2020-04-05\", \"2020-04-06\", \"2020-04-07\", \"2020-04-08\", \"2020-04-09\", \"2020-04-10\", \"2020-04-11\", \"2020-04-12\", \"2020-04-13\", \"2020-04-14\", \"2020-04-15\", \"2020-04-16\", \"2020-04-17\", \"2020-04-18\", \"2020-04-19\", \"2020-04-20\"], \"y\": [6.43, 5.01, 4.99, 4.59, 4.43, 4.04, 3.56, 3.33, 3.31, 3.09, 2.98, 2.81, 2.63, 2.57, 2.5500000000000003, 2.51, 2.49, 2.44, 2.22, 2.03, 1.76, 1.53, 1.3, 1.07, 0.8300000000000001, 0.71, 0.6, 0.64, 0.89, 1.19, 1.45, 1.6, 1.58, 1.58, 1.56, 1.58, 1.59, 1.62, 1.61, 1.66, 1.66, 1.65, 1.63, 1.6, 1.48]}],\n",
       "                        {\"hovermode\": \"x\", \"template\": {\"data\": {\"bar\": [{\"error_x\": {\"color\": \"#2a3f5f\"}, \"error_y\": {\"color\": \"#2a3f5f\"}, \"marker\": {\"line\": {\"color\": \"#E5ECF6\", \"width\": 0.5}}, \"type\": \"bar\"}], \"barpolar\": [{\"marker\": {\"line\": {\"color\": \"#E5ECF6\", \"width\": 0.5}}, \"type\": \"barpolar\"}], \"carpet\": [{\"aaxis\": {\"endlinecolor\": \"#2a3f5f\", \"gridcolor\": \"white\", \"linecolor\": \"white\", \"minorgridcolor\": \"white\", \"startlinecolor\": \"#2a3f5f\"}, \"baxis\": {\"endlinecolor\": \"#2a3f5f\", \"gridcolor\": \"white\", \"linecolor\": \"white\", \"minorgridcolor\": \"white\", \"startlinecolor\": \"#2a3f5f\"}, \"type\": \"carpet\"}], \"choropleth\": [{\"colorbar\": {\"outlinewidth\": 0, \"ticks\": \"\"}, \"type\": \"choropleth\"}], \"contour\": [{\"colorbar\": {\"outlinewidth\": 0, \"ticks\": \"\"}, \"colorscale\": [[0.0, \"#0d0887\"], [0.1111111111111111, \"#46039f\"], [0.2222222222222222, \"#7201a8\"], [0.3333333333333333, \"#9c179e\"], [0.4444444444444444, \"#bd3786\"], [0.5555555555555556, \"#d8576b\"], [0.6666666666666666, \"#ed7953\"], [0.7777777777777778, \"#fb9f3a\"], [0.8888888888888888, \"#fdca26\"], [1.0, \"#f0f921\"]], \"type\": \"contour\"}], \"contourcarpet\": [{\"colorbar\": {\"outlinewidth\": 0, \"ticks\": \"\"}, \"type\": \"contourcarpet\"}], \"heatmap\": [{\"colorbar\": {\"outlinewidth\": 0, \"ticks\": \"\"}, \"colorscale\": [[0.0, \"#0d0887\"], [0.1111111111111111, \"#46039f\"], [0.2222222222222222, \"#7201a8\"], [0.3333333333333333, \"#9c179e\"], [0.4444444444444444, \"#bd3786\"], [0.5555555555555556, \"#d8576b\"], [0.6666666666666666, \"#ed7953\"], [0.7777777777777778, \"#fb9f3a\"], [0.8888888888888888, \"#fdca26\"], [1.0, \"#f0f921\"]], \"type\": \"heatmap\"}], \"heatmapgl\": [{\"colorbar\": {\"outlinewidth\": 0, \"ticks\": \"\"}, \"colorscale\": [[0.0, \"#0d0887\"], [0.1111111111111111, \"#46039f\"], [0.2222222222222222, \"#7201a8\"], [0.3333333333333333, \"#9c179e\"], [0.4444444444444444, \"#bd3786\"], [0.5555555555555556, \"#d8576b\"], [0.6666666666666666, \"#ed7953\"], [0.7777777777777778, \"#fb9f3a\"], [0.8888888888888888, \"#fdca26\"], [1.0, \"#f0f921\"]], \"type\": \"heatmapgl\"}], \"histogram\": [{\"marker\": {\"colorbar\": {\"outlinewidth\": 0, \"ticks\": \"\"}}, \"type\": \"histogram\"}], \"histogram2d\": [{\"colorbar\": {\"outlinewidth\": 0, \"ticks\": \"\"}, \"colorscale\": [[0.0, \"#0d0887\"], [0.1111111111111111, \"#46039f\"], [0.2222222222222222, \"#7201a8\"], [0.3333333333333333, \"#9c179e\"], [0.4444444444444444, \"#bd3786\"], [0.5555555555555556, \"#d8576b\"], [0.6666666666666666, \"#ed7953\"], [0.7777777777777778, \"#fb9f3a\"], [0.8888888888888888, \"#fdca26\"], [1.0, \"#f0f921\"]], \"type\": \"histogram2d\"}], \"histogram2dcontour\": [{\"colorbar\": {\"outlinewidth\": 0, \"ticks\": \"\"}, \"colorscale\": [[0.0, \"#0d0887\"], [0.1111111111111111, \"#46039f\"], [0.2222222222222222, \"#7201a8\"], [0.3333333333333333, \"#9c179e\"], [0.4444444444444444, \"#bd3786\"], [0.5555555555555556, \"#d8576b\"], [0.6666666666666666, \"#ed7953\"], [0.7777777777777778, \"#fb9f3a\"], [0.8888888888888888, \"#fdca26\"], [1.0, \"#f0f921\"]], \"type\": \"histogram2dcontour\"}], \"mesh3d\": [{\"colorbar\": {\"outlinewidth\": 0, \"ticks\": \"\"}, \"type\": \"mesh3d\"}], \"parcoords\": [{\"line\": {\"colorbar\": {\"outlinewidth\": 0, \"ticks\": \"\"}}, \"type\": \"parcoords\"}], \"pie\": [{\"automargin\": true, \"type\": \"pie\"}], \"scatter\": [{\"marker\": {\"colorbar\": {\"outlinewidth\": 0, \"ticks\": \"\"}}, \"type\": \"scatter\"}], \"scatter3d\": [{\"line\": {\"colorbar\": {\"outlinewidth\": 0, \"ticks\": \"\"}}, \"marker\": {\"colorbar\": {\"outlinewidth\": 0, \"ticks\": \"\"}}, \"type\": \"scatter3d\"}], \"scattercarpet\": [{\"marker\": {\"colorbar\": {\"outlinewidth\": 0, \"ticks\": \"\"}}, \"type\": \"scattercarpet\"}], \"scattergeo\": [{\"marker\": {\"colorbar\": {\"outlinewidth\": 0, \"ticks\": \"\"}}, \"type\": \"scattergeo\"}], \"scattergl\": [{\"marker\": {\"colorbar\": {\"outlinewidth\": 0, \"ticks\": \"\"}}, \"type\": \"scattergl\"}], \"scattermapbox\": [{\"marker\": {\"colorbar\": {\"outlinewidth\": 0, \"ticks\": \"\"}}, \"type\": \"scattermapbox\"}], \"scatterpolar\": [{\"marker\": {\"colorbar\": {\"outlinewidth\": 0, \"ticks\": \"\"}}, \"type\": \"scatterpolar\"}], \"scatterpolargl\": [{\"marker\": {\"colorbar\": {\"outlinewidth\": 0, \"ticks\": \"\"}}, \"type\": \"scatterpolargl\"}], \"scatterternary\": [{\"marker\": {\"colorbar\": {\"outlinewidth\": 0, \"ticks\": \"\"}}, \"type\": \"scatterternary\"}], \"surface\": [{\"colorbar\": {\"outlinewidth\": 0, \"ticks\": \"\"}, \"colorscale\": [[0.0, \"#0d0887\"], [0.1111111111111111, \"#46039f\"], [0.2222222222222222, \"#7201a8\"], [0.3333333333333333, \"#9c179e\"], [0.4444444444444444, \"#bd3786\"], [0.5555555555555556, \"#d8576b\"], [0.6666666666666666, \"#ed7953\"], [0.7777777777777778, \"#fb9f3a\"], [0.8888888888888888, \"#fdca26\"], [1.0, \"#f0f921\"]], \"type\": \"surface\"}], \"table\": [{\"cells\": {\"fill\": {\"color\": \"#EBF0F8\"}, \"line\": {\"color\": \"white\"}}, \"header\": {\"fill\": {\"color\": \"#C8D4E3\"}, \"line\": {\"color\": \"white\"}}, \"type\": \"table\"}]}, \"layout\": {\"annotationdefaults\": {\"arrowcolor\": \"#2a3f5f\", \"arrowhead\": 0, \"arrowwidth\": 1}, \"coloraxis\": {\"colorbar\": {\"outlinewidth\": 0, \"ticks\": \"\"}}, \"colorscale\": {\"diverging\": [[0, \"#8e0152\"], [0.1, \"#c51b7d\"], [0.2, \"#de77ae\"], [0.3, \"#f1b6da\"], [0.4, \"#fde0ef\"], [0.5, \"#f7f7f7\"], [0.6, \"#e6f5d0\"], [0.7, \"#b8e186\"], [0.8, \"#7fbc41\"], [0.9, \"#4d9221\"], [1, \"#276419\"]], \"sequential\": [[0.0, \"#0d0887\"], [0.1111111111111111, \"#46039f\"], [0.2222222222222222, \"#7201a8\"], [0.3333333333333333, \"#9c179e\"], [0.4444444444444444, \"#bd3786\"], [0.5555555555555556, \"#d8576b\"], [0.6666666666666666, \"#ed7953\"], [0.7777777777777778, \"#fb9f3a\"], [0.8888888888888888, \"#fdca26\"], [1.0, \"#f0f921\"]], \"sequentialminus\": [[0.0, \"#0d0887\"], [0.1111111111111111, \"#46039f\"], [0.2222222222222222, \"#7201a8\"], [0.3333333333333333, \"#9c179e\"], [0.4444444444444444, \"#bd3786\"], [0.5555555555555556, \"#d8576b\"], [0.6666666666666666, \"#ed7953\"], [0.7777777777777778, \"#fb9f3a\"], [0.8888888888888888, \"#fdca26\"], [1.0, \"#f0f921\"]]}, \"colorway\": [\"#636efa\", \"#EF553B\", \"#00cc96\", \"#ab63fa\", \"#FFA15A\", \"#19d3f3\", \"#FF6692\", \"#B6E880\", \"#FF97FF\", \"#FECB52\"], \"font\": {\"color\": \"#2a3f5f\"}, \"geo\": {\"bgcolor\": \"white\", \"lakecolor\": \"white\", \"landcolor\": \"#E5ECF6\", \"showlakes\": true, \"showland\": true, \"subunitcolor\": \"white\"}, \"hoverlabel\": {\"align\": \"left\"}, \"hovermode\": \"closest\", \"mapbox\": {\"style\": \"light\"}, \"paper_bgcolor\": \"white\", \"plot_bgcolor\": \"#E5ECF6\", \"polar\": {\"angularaxis\": {\"gridcolor\": \"white\", \"linecolor\": \"white\", \"ticks\": \"\"}, \"bgcolor\": \"#E5ECF6\", \"radialaxis\": {\"gridcolor\": \"white\", \"linecolor\": \"white\", \"ticks\": \"\"}}, \"scene\": {\"xaxis\": {\"backgroundcolor\": \"#E5ECF6\", \"gridcolor\": \"white\", \"gridwidth\": 2, \"linecolor\": \"white\", \"showbackground\": true, \"ticks\": \"\", \"zerolinecolor\": \"white\"}, \"yaxis\": {\"backgroundcolor\": \"#E5ECF6\", \"gridcolor\": \"white\", \"gridwidth\": 2, \"linecolor\": \"white\", \"showbackground\": true, \"ticks\": \"\", \"zerolinecolor\": \"white\"}, \"zaxis\": {\"backgroundcolor\": \"#E5ECF6\", \"gridcolor\": \"white\", \"gridwidth\": 2, \"linecolor\": \"white\", \"showbackground\": true, \"ticks\": \"\", \"zerolinecolor\": \"white\"}}, \"shapedefaults\": {\"line\": {\"color\": \"#2a3f5f\"}}, \"ternary\": {\"aaxis\": {\"gridcolor\": \"white\", \"linecolor\": \"white\", \"ticks\": \"\"}, \"baxis\": {\"gridcolor\": \"white\", \"linecolor\": \"white\", \"ticks\": \"\"}, \"bgcolor\": \"#E5ECF6\", \"caxis\": {\"gridcolor\": \"white\", \"linecolor\": \"white\", \"ticks\": \"\"}}, \"title\": {\"x\": 0.05}, \"xaxis\": {\"automargin\": true, \"gridcolor\": \"white\", \"linecolor\": \"white\", \"ticks\": \"\", \"title\": {\"standoff\": 15}, \"zerolinecolor\": \"white\", \"zerolinewidth\": 2}, \"yaxis\": {\"automargin\": true, \"gridcolor\": \"white\", \"linecolor\": \"white\", \"ticks\": \"\", \"title\": {\"standoff\": 15}, \"zerolinecolor\": \"white\", \"zerolinewidth\": 2}}}, \"xaxis\": {\"rangeslider\": {\"visible\": true}, \"type\": \"date\"}},\n",
       "                        {\"responsive\": true}\n",
       "                    ).then(function(){\n",
       "                            \n",
       "var gd = document.getElementById('d8fb9d24-407f-4b2e-b26c-5333dfc5bec5');\n",
       "var x = new MutationObserver(function (mutations, observer) {{\n",
       "        var display = window.getComputedStyle(gd).display;\n",
       "        if (!display || display === 'none') {{\n",
       "            console.log([gd, 'removed!']);\n",
       "            Plotly.purge(gd);\n",
       "            observer.disconnect();\n",
       "        }}\n",
       "}});\n",
       "\n",
       "// Listen for the removal of the full notebook cells\n",
       "var notebookContainer = gd.closest('#notebook-container');\n",
       "if (notebookContainer) {{\n",
       "    x.observe(notebookContainer, {childList: true});\n",
       "}}\n",
       "\n",
       "// Listen for the clearing of the current output cell\n",
       "var outputEl = gd.closest('.output');\n",
       "if (outputEl) {{\n",
       "    x.observe(outputEl, {childList: true});\n",
       "}}\n",
       "\n",
       "                        })\n",
       "                };\n",
       "                });\n",
       "            </script>\n",
       "        </div>"
      ]
     },
     "metadata": {},
     "output_type": "display_data"
    }
   ],
   "source": [
    "df_rt = pd.read_csv('data-CiK32.csv')\n",
    "\n",
    "fig_rt = go.Figure()\n",
    "fig_rt.add_trace(\n",
    "    go.Scatter(\n",
    "        y=df_rt['Possible low Rt'],\n",
    "        x=df_rt.date,\n",
    "        name= 'Possible low Rt'\n",
    "    ))\n",
    "fig_rt.add_trace(\n",
    "    go.Scatter(\n",
    "        y=df_rt['Most likely Rt'],\n",
    "        x=df_rt.date,\n",
    "       name= 'Most likely Rt'\n",
    "    ))\n",
    "fig_rt.add_trace(\n",
    "    go.Scatter(\n",
    "        y=df_rt['Possible High Rt'],\n",
    "        x=df_rt.date,\n",
    "        name= 'Possible High Rt'\n",
    "    ))\n",
    "\n",
    "fig_rt.update_layout(hovermode='x',\n",
    "                     xaxis=dict(\n",
    "                         rangeslider=dict(\n",
    "                             visible = True),\n",
    "        type='date'\n",
    "    ))\n",
    "\n"
   ]
  },
  {
   "cell_type": "code",
   "execution_count": 15,
   "metadata": {},
   "outputs": [
    {
     "data": {
      "application/vnd.plotly.v1+json": {
       "config": {
        "plotlyServerURL": "https://plot.ly"
       },
       "data": [
        {
         "autocolorscale": true,
         "colorbar": {
          "title": {
           "text": "Case Fatality Rate (%)"
          }
         },
         "locationmode": "country names",
         "locations": [
          "United States of America",
          "Spain",
          "Italy",
          "United Kingdom",
          "France",
          "Germany",
          "Russian Federation",
          "Turkey",
          "Brazil",
          "Iran, Islamic Republic of",
          "China",
          "Canada",
          "Peru",
          "Belgium",
          "India",
          "Netherlands",
          "Ecuador",
          "Saudi Arabia",
          "Switzerland",
          "Mexico",
          "Portugal",
          "Sweden",
          "Pakistan",
          "Chile",
          "Ireland",
          "Singapore",
          "Belarus",
          "Qatar",
          "Israel",
          "Austria",
          "Japan",
          "United Arab Emirates",
          "Poland",
          "Romania",
          "Ukraine",
          "Indonesia",
          "Bangladesh",
          "Korea (South)",
          "Denmark",
          "Philippines",
          "Serbia",
          "Colombia",
          "Dominican Republic",
          "Norway",
          "Czech Republic",
          "South Africa",
          "Panama",
          "Egypt",
          "Australia",
          "Malaysia",
          "Kuwait",
          "Finland",
          "Morocco",
          "Argentina",
          "Algeria",
          "Moldova",
          "Kazakhstan",
          "Luxembourg",
          "Bahrain",
          "Afghanistan",
          "Hungary",
          "Thailand",
          "Nigeria",
          "Oman",
          "Ghana",
          "Greece",
          "Armenia",
          "Iraq",
          "Uzbekistan",
          "Croatia",
          "Cameroon",
          "Azerbaijan",
          "Bosnia and Herzegovina",
          "Guinea",
          "Bolivia",
          "Iceland",
          "Estonia",
          "Bulgaria",
          "Cuba",
          "Macedonia, Republic of",
          "New Zealand",
          "Côte d'Ivoire",
          "Slovenia",
          "Lithuania",
          "Slovakia",
          "Senegal",
          "Honduras",
          "Djibouti",
          "Tunisia",
          "Latvia",
          "Cyprus",
          "Republic of Kosovo",
          "Kyrgyzstan",
          "Somalia",
          "Albania",
          "Sudan",
          "Sri Lanka",
          "Guatemala",
          "Niger",
          "Costa Rica",
          "Andorra",
          "Lebanon",
          "Congo (Kinshasa)",
          "Burkina Faso",
          "Uruguay",
          "Mali",
          "Georgia",
          "San Marino",
          "El Salvador",
          "Maldives",
          "Kenya",
          "Malta",
          "Tanzania, United Republic of",
          "Jamaica",
          "Jordan",
          "Taiwan, Republic of China",
          "Paraguay",
          "Guinea-Bissau",
          "Gabon",
          "Palestinian Territory",
          "Venezuela (Bolivarian Republic)",
          "Mauritius",
          "Montenegro",
          "Equatorial Guinea",
          "Tajikistan",
          "Viet Nam",
          "Rwanda",
          "Congo (Brazzaville)",
          "Sierra Leone",
          "Cape Verde",
          "Sao Tome and Principe",
          "Liberia",
          "Chad",
          "Myanmar",
          "Madagascar",
          "Ethiopia",
          "Zambia",
          "Brunei Darussalam",
          "Togo",
          "Cambodia",
          "Swaziland",
          "Trinidad and Tobago",
          "Haiti",
          "Uganda",
          "Benin",
          "Monaco",
          "Guyana",
          "Bahamas",
          "Central African Republic",
          "Barbados",
          "Liechtenstein",
          "Nepal",
          "Mozambique",
          "Libya",
          "South Sudan",
          "Syrian Arab Republic (Syria)",
          "Mongolia",
          "Malawi",
          "Eritrea",
          "Angola",
          "Zimbabwe",
          "Antigua and Barbuda",
          "Timor-Leste",
          "Botswana",
          "Yemen",
          "Grenada",
          "Lao PDR",
          "Fiji",
          "Belize",
          "Saint Lucia",
          "Saint Vincent and Grenadines",
          "Gambia",
          "Dominica",
          "Namibia",
          "Nicaragua",
          "Burundi",
          "Saint Kitts and Nevis",
          "Seychelles",
          "Holy See (Vatican City State)",
          "Suriname",
          "Mauritania",
          "Papua New Guinea",
          "Bhutan",
          "Western Sahara",
          "Comoros",
          "Montserrat",
          "Macao, SAR China",
          "British Virgin Islands",
          "British Indian Ocean Territory",
          "Korea (North)",
          "Bouvet Island",
          "Wallis and Futuna Islands",
          "Bermuda",
          "Virgin Islands, US",
          "American Samoa",
          "Marshall Islands",
          "Martinique",
          "Tokelau",
          "Micronesia, Federated States of",
          "Lesotho",
          "Vanuatu",
          "Turkmenistan",
          "Anguilla",
          "Antarctica",
          "Turks and Caicos Islands",
          "Svalbard and Jan Mayen Islands",
          "Aruba",
          "Tuvalu",
          "US Minor Outlying Islands",
          "Mayotte",
          "Niue",
          "Jersey",
          "Kiribati",
          "Greenland",
          "French Guiana",
          "French Polynesia",
          "French Southern Territories",
          "Puerto Rico",
          "Gibraltar",
          "Pitcairn",
          "Guadeloupe",
          "Nauru",
          "Guam",
          "Guernsey",
          "Palau",
          "Hong Kong, SAR China",
          "Heard and Mcdonald Islands",
          "Northern Mariana Islands",
          "Faroe Islands",
          "Réunion",
          "Saint Helena",
          "Saint Pierre and Miquelon",
          "Saint-Martin (French part)",
          "Samoa",
          "Falkland Islands (Malvinas)",
          "Isle of Man",
          "New Caledonia",
          "Cook Islands",
          "Cocos (Keeling) Islands",
          "Christmas Island",
          "Netherlands Antilles",
          "Solomon Islands",
          "Norfolk Island",
          "Cayman Islands",
          "South Georgia and the South Sandwich Islands",
          "Saint-Barthélemy"
         ],
         "marker": {
          "line": {
           "color": "rgb(555,555,555)",
           "width": 10
          }
         },
         "type": "choropleth",
         "z": [
          5.9006053882962695,
          11.677890292665356,
          13.762070859525005,
          15.091543156059284,
          15.0933791103087,
          4.187249636242792,
          0.933899723241295,
          2.718335637225753,
          6.875406002338573,
          6.341902570771231,
          5.522473382083224,
          6.626696617837821,
          2.8209185567211708,
          15.870438931675542,
          3.427125506072874,
          12.578187747949473,
          4.921426555001411,
          0.6611351690853194,
          5.981538871671832,
          9.633045148895294,
          4.178663139055326,
          12.293246037215713,
          2.3311714816998506,
          1.2490915697674418,
          6.091070372560615,
          0.09273570324574962,
          0.5831062670299728,
          0.07000350017500875,
          1.461108723678556,
          3.8722044728434506,
          3.645184553858257,
          0.9610321221695629,
          4.961541126741044,
          6.07790706077907,
          2.4887768764275027,
          7.223925109767211,
          1.674444139445512,
          2.359800111049417,
          5.121678036859791,
          6.57786038826931,
          2.066756226103131,
          4.38871473354232,
          4.1745283018867925,
          2.7027027027027026,
          3.254812563323202,
          1.954569466455362,
          2.7914395852718332,
          6.276905985279822,
          1.410909090909091,
          1.660661131129563,
          0.6891798759476223,
          4.545454545454546,
          3.468097336654531,
          5.2589641434262955,
          9.714758164530798,
          3.1171212468484986,
          0.6896551724137931,
          2.5,
          0.21505376344086022,
          2.946650124069479,
          11.843393148450245,
          1.8072289156626504,
          3.3220338983050843,
          0.47531992687385743,
          0.6620080912100037,
          5.526116578349735,
          1.5273004963726613,
          4.195804195804196,
          0.4531037607612143,
          3.929924242424242,
          3.041825095057034,
          1.262135922330097,
          4.059609455292908,
          0.5521811154058531,
          4.772475027746948,
          0.5558643690939411,
          3.2144944476914086,
          4.694835680751173,
          4.094955489614243,
          5.6356487549148095,
          1.411290322580645,
          1.2295081967213115,
          6.782006920415225,
          3.232607167955025,
          1.7593244194229414,
          0.8276899924755455,
          7.322834645669292,
          0.17857142857142858,
          4.207436399217221,
          1.8973214285714284,
          1.7084282460136675,
          3.0373831775700935,
          1.3048635824436536,
          4.550898203592815,
          3.7804878048780486,
          5.784061696658098,
          1.1673151750972763,
          2.490170380078637,
          4.980340760157274,
          0.7947019867549668,
          6.125166444740346,
          3.3738191632928474,
          4.822695035460993,
          6.976744186046512,
          2.5373134328358207,
          5.228758169934641,
          1.490066225165563,
          6.960950764006792,
          2.385008517887564,
          0.34904013961605584,
          4.485981308411215,
          1.0373443983402488,
          3.3333333333333335,
          1.9027484143763214,
          1.910828025477707,
          1.36986301369863,
          2.320185614849188,
          0.24213075060532688,
          1.5113350125944585,
          0.5390835579514826,
          2.7700831024930745,
          3.0120481927710845,
          2.4691358024691357,
          0.9523809523809524,
          1.7064846416382253,
          0,
          0,
          4.23728813559322,
          5.527638190954774,
          1.0752688172043012,
          1.7241379310344827,
          11.76470588235294,
          10,
          3.7267080745341614,
          0,
          2.7586206896551726,
          2.1739130434782608,
          0.7246376811594203,
          7.03125,
          0,
          0.8403361344537815,
          6.896551724137931,
          11.881188118811881,
          0,
          2.083333333333333,
          4.2105263157894735,
          10.75268817204301,
          12.359550561797752,
          0,
          8.536585365853659,
          1.2195121951219512,
          0,
          0,
          4.761904761904762,
          0,
          6.8181818181818175,
          0,
          7.317073170731707,
          0,
          5.555555555555555,
          11.76470588235294,
          12,
          0,
          4.3478260869565215,
          18.181818181818183,
          0,
          0,
          0,
          11.11111111111111,
          0,
          0,
          5.88235294117647,
          0,
          0,
          31.25,
          6.666666666666667,
          0,
          0,
          0,
          10,
          12.5,
          0,
          0,
          0,
          0,
          null,
          null,
          null,
          null,
          null,
          null,
          null,
          null,
          null,
          null,
          null,
          null,
          null,
          null,
          null,
          null,
          null,
          null,
          null,
          null,
          null,
          null,
          null,
          null,
          null,
          null,
          null,
          null,
          null,
          null,
          null,
          null,
          null,
          null,
          null,
          null,
          null,
          null,
          null,
          null,
          null,
          null,
          null,
          null,
          null,
          null,
          null,
          null,
          null,
          null,
          null,
          null,
          null,
          null,
          null,
          null,
          null,
          null,
          null,
          null,
          null
         ]
        }
       ],
       "layout": {
        "autosize": true,
        "margin": {
         "b": 0,
         "l": 0,
         "r": 0,
         "t": 0
        },
        "template": {
         "data": {
          "bar": [
           {
            "error_x": {
             "color": "#2a3f5f"
            },
            "error_y": {
             "color": "#2a3f5f"
            },
            "marker": {
             "line": {
              "color": "#E5ECF6",
              "width": 0.5
             }
            },
            "type": "bar"
           }
          ],
          "barpolar": [
           {
            "marker": {
             "line": {
              "color": "#E5ECF6",
              "width": 0.5
             }
            },
            "type": "barpolar"
           }
          ],
          "carpet": [
           {
            "aaxis": {
             "endlinecolor": "#2a3f5f",
             "gridcolor": "white",
             "linecolor": "white",
             "minorgridcolor": "white",
             "startlinecolor": "#2a3f5f"
            },
            "baxis": {
             "endlinecolor": "#2a3f5f",
             "gridcolor": "white",
             "linecolor": "white",
             "minorgridcolor": "white",
             "startlinecolor": "#2a3f5f"
            },
            "type": "carpet"
           }
          ],
          "choropleth": [
           {
            "colorbar": {
             "outlinewidth": 0,
             "ticks": ""
            },
            "type": "choropleth"
           }
          ],
          "contour": [
           {
            "colorbar": {
             "outlinewidth": 0,
             "ticks": ""
            },
            "colorscale": [
             [
              0,
              "#0d0887"
             ],
             [
              0.1111111111111111,
              "#46039f"
             ],
             [
              0.2222222222222222,
              "#7201a8"
             ],
             [
              0.3333333333333333,
              "#9c179e"
             ],
             [
              0.4444444444444444,
              "#bd3786"
             ],
             [
              0.5555555555555556,
              "#d8576b"
             ],
             [
              0.6666666666666666,
              "#ed7953"
             ],
             [
              0.7777777777777778,
              "#fb9f3a"
             ],
             [
              0.8888888888888888,
              "#fdca26"
             ],
             [
              1,
              "#f0f921"
             ]
            ],
            "type": "contour"
           }
          ],
          "contourcarpet": [
           {
            "colorbar": {
             "outlinewidth": 0,
             "ticks": ""
            },
            "type": "contourcarpet"
           }
          ],
          "heatmap": [
           {
            "colorbar": {
             "outlinewidth": 0,
             "ticks": ""
            },
            "colorscale": [
             [
              0,
              "#0d0887"
             ],
             [
              0.1111111111111111,
              "#46039f"
             ],
             [
              0.2222222222222222,
              "#7201a8"
             ],
             [
              0.3333333333333333,
              "#9c179e"
             ],
             [
              0.4444444444444444,
              "#bd3786"
             ],
             [
              0.5555555555555556,
              "#d8576b"
             ],
             [
              0.6666666666666666,
              "#ed7953"
             ],
             [
              0.7777777777777778,
              "#fb9f3a"
             ],
             [
              0.8888888888888888,
              "#fdca26"
             ],
             [
              1,
              "#f0f921"
             ]
            ],
            "type": "heatmap"
           }
          ],
          "heatmapgl": [
           {
            "colorbar": {
             "outlinewidth": 0,
             "ticks": ""
            },
            "colorscale": [
             [
              0,
              "#0d0887"
             ],
             [
              0.1111111111111111,
              "#46039f"
             ],
             [
              0.2222222222222222,
              "#7201a8"
             ],
             [
              0.3333333333333333,
              "#9c179e"
             ],
             [
              0.4444444444444444,
              "#bd3786"
             ],
             [
              0.5555555555555556,
              "#d8576b"
             ],
             [
              0.6666666666666666,
              "#ed7953"
             ],
             [
              0.7777777777777778,
              "#fb9f3a"
             ],
             [
              0.8888888888888888,
              "#fdca26"
             ],
             [
              1,
              "#f0f921"
             ]
            ],
            "type": "heatmapgl"
           }
          ],
          "histogram": [
           {
            "marker": {
             "colorbar": {
              "outlinewidth": 0,
              "ticks": ""
             }
            },
            "type": "histogram"
           }
          ],
          "histogram2d": [
           {
            "colorbar": {
             "outlinewidth": 0,
             "ticks": ""
            },
            "colorscale": [
             [
              0,
              "#0d0887"
             ],
             [
              0.1111111111111111,
              "#46039f"
             ],
             [
              0.2222222222222222,
              "#7201a8"
             ],
             [
              0.3333333333333333,
              "#9c179e"
             ],
             [
              0.4444444444444444,
              "#bd3786"
             ],
             [
              0.5555555555555556,
              "#d8576b"
             ],
             [
              0.6666666666666666,
              "#ed7953"
             ],
             [
              0.7777777777777778,
              "#fb9f3a"
             ],
             [
              0.8888888888888888,
              "#fdca26"
             ],
             [
              1,
              "#f0f921"
             ]
            ],
            "type": "histogram2d"
           }
          ],
          "histogram2dcontour": [
           {
            "colorbar": {
             "outlinewidth": 0,
             "ticks": ""
            },
            "colorscale": [
             [
              0,
              "#0d0887"
             ],
             [
              0.1111111111111111,
              "#46039f"
             ],
             [
              0.2222222222222222,
              "#7201a8"
             ],
             [
              0.3333333333333333,
              "#9c179e"
             ],
             [
              0.4444444444444444,
              "#bd3786"
             ],
             [
              0.5555555555555556,
              "#d8576b"
             ],
             [
              0.6666666666666666,
              "#ed7953"
             ],
             [
              0.7777777777777778,
              "#fb9f3a"
             ],
             [
              0.8888888888888888,
              "#fdca26"
             ],
             [
              1,
              "#f0f921"
             ]
            ],
            "type": "histogram2dcontour"
           }
          ],
          "mesh3d": [
           {
            "colorbar": {
             "outlinewidth": 0,
             "ticks": ""
            },
            "type": "mesh3d"
           }
          ],
          "parcoords": [
           {
            "line": {
             "colorbar": {
              "outlinewidth": 0,
              "ticks": ""
             }
            },
            "type": "parcoords"
           }
          ],
          "pie": [
           {
            "automargin": true,
            "type": "pie"
           }
          ],
          "scatter": [
           {
            "marker": {
             "colorbar": {
              "outlinewidth": 0,
              "ticks": ""
             }
            },
            "type": "scatter"
           }
          ],
          "scatter3d": [
           {
            "line": {
             "colorbar": {
              "outlinewidth": 0,
              "ticks": ""
             }
            },
            "marker": {
             "colorbar": {
              "outlinewidth": 0,
              "ticks": ""
             }
            },
            "type": "scatter3d"
           }
          ],
          "scattercarpet": [
           {
            "marker": {
             "colorbar": {
              "outlinewidth": 0,
              "ticks": ""
             }
            },
            "type": "scattercarpet"
           }
          ],
          "scattergeo": [
           {
            "marker": {
             "colorbar": {
              "outlinewidth": 0,
              "ticks": ""
             }
            },
            "type": "scattergeo"
           }
          ],
          "scattergl": [
           {
            "marker": {
             "colorbar": {
              "outlinewidth": 0,
              "ticks": ""
             }
            },
            "type": "scattergl"
           }
          ],
          "scattermapbox": [
           {
            "marker": {
             "colorbar": {
              "outlinewidth": 0,
              "ticks": ""
             }
            },
            "type": "scattermapbox"
           }
          ],
          "scatterpolar": [
           {
            "marker": {
             "colorbar": {
              "outlinewidth": 0,
              "ticks": ""
             }
            },
            "type": "scatterpolar"
           }
          ],
          "scatterpolargl": [
           {
            "marker": {
             "colorbar": {
              "outlinewidth": 0,
              "ticks": ""
             }
            },
            "type": "scatterpolargl"
           }
          ],
          "scatterternary": [
           {
            "marker": {
             "colorbar": {
              "outlinewidth": 0,
              "ticks": ""
             }
            },
            "type": "scatterternary"
           }
          ],
          "surface": [
           {
            "colorbar": {
             "outlinewidth": 0,
             "ticks": ""
            },
            "colorscale": [
             [
              0,
              "#0d0887"
             ],
             [
              0.1111111111111111,
              "#46039f"
             ],
             [
              0.2222222222222222,
              "#7201a8"
             ],
             [
              0.3333333333333333,
              "#9c179e"
             ],
             [
              0.4444444444444444,
              "#bd3786"
             ],
             [
              0.5555555555555556,
              "#d8576b"
             ],
             [
              0.6666666666666666,
              "#ed7953"
             ],
             [
              0.7777777777777778,
              "#fb9f3a"
             ],
             [
              0.8888888888888888,
              "#fdca26"
             ],
             [
              1,
              "#f0f921"
             ]
            ],
            "type": "surface"
           }
          ],
          "table": [
           {
            "cells": {
             "fill": {
              "color": "#EBF0F8"
             },
             "line": {
              "color": "white"
             }
            },
            "header": {
             "fill": {
              "color": "#C8D4E3"
             },
             "line": {
              "color": "white"
             }
            },
            "type": "table"
           }
          ]
         },
         "layout": {
          "annotationdefaults": {
           "arrowcolor": "#2a3f5f",
           "arrowhead": 0,
           "arrowwidth": 1
          },
          "coloraxis": {
           "colorbar": {
            "outlinewidth": 0,
            "ticks": ""
           }
          },
          "colorscale": {
           "diverging": [
            [
             0,
             "#8e0152"
            ],
            [
             0.1,
             "#c51b7d"
            ],
            [
             0.2,
             "#de77ae"
            ],
            [
             0.3,
             "#f1b6da"
            ],
            [
             0.4,
             "#fde0ef"
            ],
            [
             0.5,
             "#f7f7f7"
            ],
            [
             0.6,
             "#e6f5d0"
            ],
            [
             0.7,
             "#b8e186"
            ],
            [
             0.8,
             "#7fbc41"
            ],
            [
             0.9,
             "#4d9221"
            ],
            [
             1,
             "#276419"
            ]
           ],
           "sequential": [
            [
             0,
             "#0d0887"
            ],
            [
             0.1111111111111111,
             "#46039f"
            ],
            [
             0.2222222222222222,
             "#7201a8"
            ],
            [
             0.3333333333333333,
             "#9c179e"
            ],
            [
             0.4444444444444444,
             "#bd3786"
            ],
            [
             0.5555555555555556,
             "#d8576b"
            ],
            [
             0.6666666666666666,
             "#ed7953"
            ],
            [
             0.7777777777777778,
             "#fb9f3a"
            ],
            [
             0.8888888888888888,
             "#fdca26"
            ],
            [
             1,
             "#f0f921"
            ]
           ],
           "sequentialminus": [
            [
             0,
             "#0d0887"
            ],
            [
             0.1111111111111111,
             "#46039f"
            ],
            [
             0.2222222222222222,
             "#7201a8"
            ],
            [
             0.3333333333333333,
             "#9c179e"
            ],
            [
             0.4444444444444444,
             "#bd3786"
            ],
            [
             0.5555555555555556,
             "#d8576b"
            ],
            [
             0.6666666666666666,
             "#ed7953"
            ],
            [
             0.7777777777777778,
             "#fb9f3a"
            ],
            [
             0.8888888888888888,
             "#fdca26"
            ],
            [
             1,
             "#f0f921"
            ]
           ]
          },
          "colorway": [
           "#636efa",
           "#EF553B",
           "#00cc96",
           "#ab63fa",
           "#FFA15A",
           "#19d3f3",
           "#FF6692",
           "#B6E880",
           "#FF97FF",
           "#FECB52"
          ],
          "font": {
           "color": "#2a3f5f"
          },
          "geo": {
           "bgcolor": "white",
           "lakecolor": "white",
           "landcolor": "#E5ECF6",
           "showlakes": true,
           "showland": true,
           "subunitcolor": "white"
          },
          "hoverlabel": {
           "align": "left"
          },
          "hovermode": "closest",
          "mapbox": {
           "style": "light"
          },
          "paper_bgcolor": "white",
          "plot_bgcolor": "#E5ECF6",
          "polar": {
           "angularaxis": {
            "gridcolor": "white",
            "linecolor": "white",
            "ticks": ""
           },
           "bgcolor": "#E5ECF6",
           "radialaxis": {
            "gridcolor": "white",
            "linecolor": "white",
            "ticks": ""
           }
          },
          "scene": {
           "xaxis": {
            "backgroundcolor": "#E5ECF6",
            "gridcolor": "white",
            "gridwidth": 2,
            "linecolor": "white",
            "showbackground": true,
            "ticks": "",
            "zerolinecolor": "white"
           },
           "yaxis": {
            "backgroundcolor": "#E5ECF6",
            "gridcolor": "white",
            "gridwidth": 2,
            "linecolor": "white",
            "showbackground": true,
            "ticks": "",
            "zerolinecolor": "white"
           },
           "zaxis": {
            "backgroundcolor": "#E5ECF6",
            "gridcolor": "white",
            "gridwidth": 2,
            "linecolor": "white",
            "showbackground": true,
            "ticks": "",
            "zerolinecolor": "white"
           }
          },
          "shapedefaults": {
           "line": {
            "color": "#2a3f5f"
           }
          },
          "ternary": {
           "aaxis": {
            "gridcolor": "white",
            "linecolor": "white",
            "ticks": ""
           },
           "baxis": {
            "gridcolor": "white",
            "linecolor": "white",
            "ticks": ""
           },
           "bgcolor": "#E5ECF6",
           "caxis": {
            "gridcolor": "white",
            "linecolor": "white",
            "ticks": ""
           }
          },
          "title": {
           "x": 0.05
          },
          "xaxis": {
           "automargin": true,
           "gridcolor": "white",
           "linecolor": "white",
           "ticks": "",
           "title": {
            "standoff": 15
           },
           "zerolinecolor": "white",
           "zerolinewidth": 2
          },
          "yaxis": {
           "automargin": true,
           "gridcolor": "white",
           "linecolor": "white",
           "ticks": "",
           "title": {
            "standoff": 15
           },
           "zerolinecolor": "white",
           "zerolinewidth": 2
          }
         }
        }
       }
      },
      "text/html": [
       "<div>\n",
       "        \n",
       "        \n",
       "            <div id=\"b4f10194-1cdf-4e1e-b034-734540456fc8\" class=\"plotly-graph-div\" style=\"height:525px; width:100%;\"></div>\n",
       "            <script type=\"text/javascript\">\n",
       "                require([\"plotly\"], function(Plotly) {\n",
       "                    window.PLOTLYENV=window.PLOTLYENV || {};\n",
       "                    \n",
       "                if (document.getElementById(\"b4f10194-1cdf-4e1e-b034-734540456fc8\")) {\n",
       "                    Plotly.newPlot(\n",
       "                        'b4f10194-1cdf-4e1e-b034-734540456fc8',\n",
       "                        [{\"autocolorscale\": true, \"colorbar\": {\"title\": {\"text\": \"Case Fatality Rate (%)\"}}, \"locationmode\": \"country names\", \"locations\": [\"United States of America\", \"Spain\", \"Italy\", \"United Kingdom\", \"France\", \"Germany\", \"Russian Federation\", \"Turkey\", \"Brazil\", \"Iran, Islamic Republic of\", \"China\", \"Canada\", \"Peru\", \"Belgium\", \"India\", \"Netherlands\", \"Ecuador\", \"Saudi Arabia\", \"Switzerland\", \"Mexico\", \"Portugal\", \"Sweden\", \"Pakistan\", \"Chile\", \"Ireland\", \"Singapore\", \"Belarus\", \"Qatar\", \"Israel\", \"Austria\", \"Japan\", \"United Arab Emirates\", \"Poland\", \"Romania\", \"Ukraine\", \"Indonesia\", \"Bangladesh\", \"Korea (South)\", \"Denmark\", \"Philippines\", \"Serbia\", \"Colombia\", \"Dominican Republic\", \"Norway\", \"Czech Republic\", \"South Africa\", \"Panama\", \"Egypt\", \"Australia\", \"Malaysia\", \"Kuwait\", \"Finland\", \"Morocco\", \"Argentina\", \"Algeria\", \"Moldova\", \"Kazakhstan\", \"Luxembourg\", \"Bahrain\", \"Afghanistan\", \"Hungary\", \"Thailand\", \"Nigeria\", \"Oman\", \"Ghana\", \"Greece\", \"Armenia\", \"Iraq\", \"Uzbekistan\", \"Croatia\", \"Cameroon\", \"Azerbaijan\", \"Bosnia and Herzegovina\", \"Guinea\", \"Bolivia\", \"Iceland\", \"Estonia\", \"Bulgaria\", \"Cuba\", \"Macedonia, Republic of\", \"New Zealand\", \"C\\u00f4te d'Ivoire\", \"Slovenia\", \"Lithuania\", \"Slovakia\", \"Senegal\", \"Honduras\", \"Djibouti\", \"Tunisia\", \"Latvia\", \"Cyprus\", \"Republic of Kosovo\", \"Kyrgyzstan\", \"Somalia\", \"Albania\", \"Sudan\", \"Sri Lanka\", \"Guatemala\", \"Niger\", \"Costa Rica\", \"Andorra\", \"Lebanon\", \"Congo (Kinshasa)\", \"Burkina Faso\", \"Uruguay\", \"Mali\", \"Georgia\", \"San Marino\", \"El Salvador\", \"Maldives\", \"Kenya\", \"Malta\", \"Tanzania, United Republic of\", \"Jamaica\", \"Jordan\", \"Taiwan, Republic of China\", \"Paraguay\", \"Guinea-Bissau\", \"Gabon\", \"Palestinian Territory\", \"Venezuela (Bolivarian Republic)\", \"Mauritius\", \"Montenegro\", \"Equatorial Guinea\", \"Tajikistan\", \"Viet Nam\", \"Rwanda\", \"Congo (Brazzaville)\", \"Sierra Leone\", \"Cape Verde\", \"Sao Tome and Principe\", \"Liberia\", \"Chad\", \"Myanmar\", \"Madagascar\", \"Ethiopia\", \"Zambia\", \"Brunei Darussalam\", \"Togo\", \"Cambodia\", \"Swaziland\", \"Trinidad and Tobago\", \"Haiti\", \"Uganda\", \"Benin\", \"Monaco\", \"Guyana\", \"Bahamas\", \"Central African Republic\", \"Barbados\", \"Liechtenstein\", \"Nepal\", \"Mozambique\", \"Libya\", \"South Sudan\", \"Syrian Arab Republic (Syria)\", \"Mongolia\", \"Malawi\", \"Eritrea\", \"Angola\", \"Zimbabwe\", \"Antigua and Barbuda\", \"Timor-Leste\", \"Botswana\", \"Yemen\", \"Grenada\", \"Lao PDR\", \"Fiji\", \"Belize\", \"Saint Lucia\", \"Saint Vincent and Grenadines\", \"Gambia\", \"Dominica\", \"Namibia\", \"Nicaragua\", \"Burundi\", \"Saint Kitts and Nevis\", \"Seychelles\", \"Holy See (Vatican City State)\", \"Suriname\", \"Mauritania\", \"Papua New Guinea\", \"Bhutan\", \"Western Sahara\", \"Comoros\", \"Montserrat\", \"Macao, SAR China\", \"British Virgin Islands\", \"British Indian Ocean Territory\", \"Korea (North)\", \"Bouvet Island\", \"Wallis and Futuna Islands\", \"Bermuda\", \"Virgin Islands, US\", \"American Samoa\", \"Marshall Islands\", \"Martinique\", \"Tokelau\", \"Micronesia, Federated States of\", \"Lesotho\", \"Vanuatu\", \"Turkmenistan\", \"Anguilla\", \"Antarctica\", \"Turks and Caicos Islands\", \"Svalbard and Jan Mayen Islands\", \"Aruba\", \"Tuvalu\", \"US Minor Outlying Islands\", \"Mayotte\", \"Niue\", \"Jersey\", \"Kiribati\", \"Greenland\", \"French Guiana\", \"French Polynesia\", \"French Southern Territories\", \"Puerto Rico\", \"Gibraltar\", \"Pitcairn\", \"Guadeloupe\", \"Nauru\", \"Guam\", \"Guernsey\", \"Palau\", \"Hong Kong, SAR China\", \"Heard and Mcdonald Islands\", \"Northern Mariana Islands\", \"Faroe Islands\", \"R\\u00e9union\", \"Saint Helena\", \"Saint Pierre and Miquelon\", \"Saint-Martin (French part)\", \"Samoa\", \"Falkland Islands (Malvinas)\", \"Isle of Man\", \"New Caledonia\", \"Cook Islands\", \"Cocos (Keeling) Islands\", \"Christmas Island\", \"Netherlands Antilles\", \"Solomon Islands\", \"Norfolk Island\", \"Cayman Islands\", \"South Georgia and the South Sandwich Islands\", \"Saint-Barth\\u00e9lemy\"], \"marker\": {\"line\": {\"color\": \"rgb(555,555,555)\", \"width\": 10}}, \"type\": \"choropleth\", \"z\": [5.9006053882962695, 11.677890292665356, 13.762070859525005, 15.091543156059284, 15.0933791103087, 4.187249636242792, 0.933899723241295, 2.718335637225753, 6.875406002338573, 6.341902570771231, 5.522473382083224, 6.626696617837821, 2.8209185567211708, 15.870438931675542, 3.427125506072874, 12.578187747949473, 4.921426555001411, 0.6611351690853194, 5.981538871671832, 9.633045148895294, 4.178663139055326, 12.293246037215713, 2.3311714816998506, 1.2490915697674418, 6.091070372560615, 0.09273570324574962, 0.5831062670299728, 0.07000350017500875, 1.461108723678556, 3.8722044728434506, 3.645184553858257, 0.9610321221695629, 4.961541126741044, 6.07790706077907, 2.4887768764275027, 7.223925109767211, 1.674444139445512, 2.359800111049417, 5.121678036859791, 6.57786038826931, 2.066756226103131, 4.38871473354232, 4.1745283018867925, 2.7027027027027026, 3.254812563323202, 1.954569466455362, 2.7914395852718332, 6.276905985279822, 1.410909090909091, 1.660661131129563, 0.6891798759476223, 4.545454545454546, 3.468097336654531, 5.2589641434262955, 9.714758164530798, 3.1171212468484986, 0.6896551724137931, 2.5, 0.21505376344086022, 2.946650124069479, 11.843393148450245, 1.8072289156626504, 3.3220338983050843, 0.47531992687385743, 0.6620080912100037, 5.526116578349735, 1.5273004963726613, 4.195804195804196, 0.4531037607612143, 3.929924242424242, 3.041825095057034, 1.262135922330097, 4.059609455292908, 0.5521811154058531, 4.772475027746948, 0.5558643690939411, 3.2144944476914086, 4.694835680751173, 4.094955489614243, 5.6356487549148095, 1.411290322580645, 1.2295081967213115, 6.782006920415225, 3.232607167955025, 1.7593244194229414, 0.8276899924755455, 7.322834645669292, 0.17857142857142858, 4.207436399217221, 1.8973214285714284, 1.7084282460136675, 3.0373831775700935, 1.3048635824436536, 4.550898203592815, 3.7804878048780486, 5.784061696658098, 1.1673151750972763, 2.490170380078637, 4.980340760157274, 0.7947019867549668, 6.125166444740346, 3.3738191632928474, 4.822695035460993, 6.976744186046512, 2.5373134328358207, 5.228758169934641, 1.490066225165563, 6.960950764006792, 2.385008517887564, 0.34904013961605584, 4.485981308411215, 1.0373443983402488, 3.3333333333333335, 1.9027484143763214, 1.910828025477707, 1.36986301369863, 2.320185614849188, 0.24213075060532688, 1.5113350125944585, 0.5390835579514826, 2.7700831024930745, 3.0120481927710845, 2.4691358024691357, 0.9523809523809524, 1.7064846416382253, 0.0, 0.0, 4.23728813559322, 5.527638190954774, 1.0752688172043012, 1.7241379310344827, 11.76470588235294, 10.0, 3.7267080745341614, 0.0, 2.7586206896551726, 2.1739130434782608, 0.7246376811594203, 7.03125, 0.0, 0.8403361344537815, 6.896551724137931, 11.881188118811881, 0.0, 2.083333333333333, 4.2105263157894735, 10.75268817204301, 12.359550561797752, 0.0, 8.536585365853659, 1.2195121951219512, 0.0, 0.0, 4.761904761904762, 0.0, 6.8181818181818175, 0.0, 7.317073170731707, 0.0, 5.555555555555555, 11.76470588235294, 12.0, 0.0, 4.3478260869565215, 18.181818181818183, 0.0, 0.0, 0.0, 11.11111111111111, 0.0, 0.0, 5.88235294117647, 0.0, 0.0, 31.25, 6.666666666666667, 0.0, 0.0, 0.0, 10.0, 12.5, 0.0, 0.0, 0.0, 0.0, null, null, null, null, null, null, null, null, null, null, null, null, null, null, null, null, null, null, null, null, null, null, null, null, null, null, null, null, null, null, null, null, null, null, null, null, null, null, null, null, null, null, null, null, null, null, null, null, null, null, null, null, null, null, null, null, null, null, null, null, null]}],\n",
       "                        {\"autosize\": true, \"margin\": {\"b\": 0, \"l\": 0, \"r\": 0, \"t\": 0}, \"template\": {\"data\": {\"bar\": [{\"error_x\": {\"color\": \"#2a3f5f\"}, \"error_y\": {\"color\": \"#2a3f5f\"}, \"marker\": {\"line\": {\"color\": \"#E5ECF6\", \"width\": 0.5}}, \"type\": \"bar\"}], \"barpolar\": [{\"marker\": {\"line\": {\"color\": \"#E5ECF6\", \"width\": 0.5}}, \"type\": \"barpolar\"}], \"carpet\": [{\"aaxis\": {\"endlinecolor\": \"#2a3f5f\", \"gridcolor\": \"white\", \"linecolor\": \"white\", \"minorgridcolor\": \"white\", \"startlinecolor\": \"#2a3f5f\"}, \"baxis\": {\"endlinecolor\": \"#2a3f5f\", \"gridcolor\": \"white\", \"linecolor\": \"white\", \"minorgridcolor\": \"white\", \"startlinecolor\": \"#2a3f5f\"}, \"type\": \"carpet\"}], \"choropleth\": [{\"colorbar\": {\"outlinewidth\": 0, \"ticks\": \"\"}, \"type\": \"choropleth\"}], \"contour\": [{\"colorbar\": {\"outlinewidth\": 0, \"ticks\": \"\"}, \"colorscale\": [[0.0, \"#0d0887\"], [0.1111111111111111, \"#46039f\"], [0.2222222222222222, \"#7201a8\"], [0.3333333333333333, \"#9c179e\"], [0.4444444444444444, \"#bd3786\"], [0.5555555555555556, \"#d8576b\"], [0.6666666666666666, \"#ed7953\"], [0.7777777777777778, \"#fb9f3a\"], [0.8888888888888888, \"#fdca26\"], [1.0, \"#f0f921\"]], \"type\": \"contour\"}], \"contourcarpet\": [{\"colorbar\": {\"outlinewidth\": 0, \"ticks\": \"\"}, \"type\": \"contourcarpet\"}], \"heatmap\": [{\"colorbar\": {\"outlinewidth\": 0, \"ticks\": \"\"}, \"colorscale\": [[0.0, \"#0d0887\"], [0.1111111111111111, \"#46039f\"], [0.2222222222222222, \"#7201a8\"], [0.3333333333333333, \"#9c179e\"], [0.4444444444444444, \"#bd3786\"], [0.5555555555555556, \"#d8576b\"], [0.6666666666666666, \"#ed7953\"], [0.7777777777777778, \"#fb9f3a\"], [0.8888888888888888, \"#fdca26\"], [1.0, \"#f0f921\"]], \"type\": \"heatmap\"}], \"heatmapgl\": [{\"colorbar\": {\"outlinewidth\": 0, \"ticks\": \"\"}, \"colorscale\": [[0.0, \"#0d0887\"], [0.1111111111111111, \"#46039f\"], [0.2222222222222222, \"#7201a8\"], [0.3333333333333333, \"#9c179e\"], [0.4444444444444444, \"#bd3786\"], [0.5555555555555556, \"#d8576b\"], [0.6666666666666666, \"#ed7953\"], [0.7777777777777778, \"#fb9f3a\"], [0.8888888888888888, \"#fdca26\"], [1.0, \"#f0f921\"]], \"type\": \"heatmapgl\"}], \"histogram\": [{\"marker\": {\"colorbar\": {\"outlinewidth\": 0, \"ticks\": \"\"}}, \"type\": \"histogram\"}], \"histogram2d\": [{\"colorbar\": {\"outlinewidth\": 0, \"ticks\": \"\"}, \"colorscale\": [[0.0, \"#0d0887\"], [0.1111111111111111, \"#46039f\"], [0.2222222222222222, \"#7201a8\"], [0.3333333333333333, \"#9c179e\"], [0.4444444444444444, \"#bd3786\"], [0.5555555555555556, \"#d8576b\"], [0.6666666666666666, \"#ed7953\"], [0.7777777777777778, \"#fb9f3a\"], [0.8888888888888888, \"#fdca26\"], [1.0, \"#f0f921\"]], \"type\": \"histogram2d\"}], \"histogram2dcontour\": [{\"colorbar\": {\"outlinewidth\": 0, \"ticks\": \"\"}, \"colorscale\": [[0.0, \"#0d0887\"], [0.1111111111111111, \"#46039f\"], [0.2222222222222222, \"#7201a8\"], [0.3333333333333333, \"#9c179e\"], [0.4444444444444444, \"#bd3786\"], [0.5555555555555556, \"#d8576b\"], [0.6666666666666666, \"#ed7953\"], [0.7777777777777778, \"#fb9f3a\"], [0.8888888888888888, \"#fdca26\"], [1.0, \"#f0f921\"]], \"type\": \"histogram2dcontour\"}], \"mesh3d\": [{\"colorbar\": {\"outlinewidth\": 0, \"ticks\": \"\"}, \"type\": \"mesh3d\"}], \"parcoords\": [{\"line\": {\"colorbar\": {\"outlinewidth\": 0, \"ticks\": \"\"}}, \"type\": \"parcoords\"}], \"pie\": [{\"automargin\": true, \"type\": \"pie\"}], \"scatter\": [{\"marker\": {\"colorbar\": {\"outlinewidth\": 0, \"ticks\": \"\"}}, \"type\": \"scatter\"}], \"scatter3d\": [{\"line\": {\"colorbar\": {\"outlinewidth\": 0, \"ticks\": \"\"}}, \"marker\": {\"colorbar\": {\"outlinewidth\": 0, \"ticks\": \"\"}}, \"type\": \"scatter3d\"}], \"scattercarpet\": [{\"marker\": {\"colorbar\": {\"outlinewidth\": 0, \"ticks\": \"\"}}, \"type\": \"scattercarpet\"}], \"scattergeo\": [{\"marker\": {\"colorbar\": {\"outlinewidth\": 0, \"ticks\": \"\"}}, \"type\": \"scattergeo\"}], \"scattergl\": [{\"marker\": {\"colorbar\": {\"outlinewidth\": 0, \"ticks\": \"\"}}, \"type\": \"scattergl\"}], \"scattermapbox\": [{\"marker\": {\"colorbar\": {\"outlinewidth\": 0, \"ticks\": \"\"}}, \"type\": \"scattermapbox\"}], \"scatterpolar\": [{\"marker\": {\"colorbar\": {\"outlinewidth\": 0, \"ticks\": \"\"}}, \"type\": \"scatterpolar\"}], \"scatterpolargl\": [{\"marker\": {\"colorbar\": {\"outlinewidth\": 0, \"ticks\": \"\"}}, \"type\": \"scatterpolargl\"}], \"scatterternary\": [{\"marker\": {\"colorbar\": {\"outlinewidth\": 0, \"ticks\": \"\"}}, \"type\": \"scatterternary\"}], \"surface\": [{\"colorbar\": {\"outlinewidth\": 0, \"ticks\": \"\"}, \"colorscale\": [[0.0, \"#0d0887\"], [0.1111111111111111, \"#46039f\"], [0.2222222222222222, \"#7201a8\"], [0.3333333333333333, \"#9c179e\"], [0.4444444444444444, \"#bd3786\"], [0.5555555555555556, \"#d8576b\"], [0.6666666666666666, \"#ed7953\"], [0.7777777777777778, \"#fb9f3a\"], [0.8888888888888888, \"#fdca26\"], [1.0, \"#f0f921\"]], \"type\": \"surface\"}], \"table\": [{\"cells\": {\"fill\": {\"color\": \"#EBF0F8\"}, \"line\": {\"color\": \"white\"}}, \"header\": {\"fill\": {\"color\": \"#C8D4E3\"}, \"line\": {\"color\": \"white\"}}, \"type\": \"table\"}]}, \"layout\": {\"annotationdefaults\": {\"arrowcolor\": \"#2a3f5f\", \"arrowhead\": 0, \"arrowwidth\": 1}, \"coloraxis\": {\"colorbar\": {\"outlinewidth\": 0, \"ticks\": \"\"}}, \"colorscale\": {\"diverging\": [[0, \"#8e0152\"], [0.1, \"#c51b7d\"], [0.2, \"#de77ae\"], [0.3, \"#f1b6da\"], [0.4, \"#fde0ef\"], [0.5, \"#f7f7f7\"], [0.6, \"#e6f5d0\"], [0.7, \"#b8e186\"], [0.8, \"#7fbc41\"], [0.9, \"#4d9221\"], [1, \"#276419\"]], \"sequential\": [[0.0, \"#0d0887\"], [0.1111111111111111, \"#46039f\"], [0.2222222222222222, \"#7201a8\"], [0.3333333333333333, \"#9c179e\"], [0.4444444444444444, \"#bd3786\"], [0.5555555555555556, \"#d8576b\"], [0.6666666666666666, \"#ed7953\"], [0.7777777777777778, \"#fb9f3a\"], [0.8888888888888888, \"#fdca26\"], [1.0, \"#f0f921\"]], \"sequentialminus\": [[0.0, \"#0d0887\"], [0.1111111111111111, \"#46039f\"], [0.2222222222222222, \"#7201a8\"], [0.3333333333333333, \"#9c179e\"], [0.4444444444444444, \"#bd3786\"], [0.5555555555555556, \"#d8576b\"], [0.6666666666666666, \"#ed7953\"], [0.7777777777777778, \"#fb9f3a\"], [0.8888888888888888, \"#fdca26\"], [1.0, \"#f0f921\"]]}, \"colorway\": [\"#636efa\", \"#EF553B\", \"#00cc96\", \"#ab63fa\", \"#FFA15A\", \"#19d3f3\", \"#FF6692\", \"#B6E880\", \"#FF97FF\", \"#FECB52\"], \"font\": {\"color\": \"#2a3f5f\"}, \"geo\": {\"bgcolor\": \"white\", \"lakecolor\": \"white\", \"landcolor\": \"#E5ECF6\", \"showlakes\": true, \"showland\": true, \"subunitcolor\": \"white\"}, \"hoverlabel\": {\"align\": \"left\"}, \"hovermode\": \"closest\", \"mapbox\": {\"style\": \"light\"}, \"paper_bgcolor\": \"white\", \"plot_bgcolor\": \"#E5ECF6\", \"polar\": {\"angularaxis\": {\"gridcolor\": \"white\", \"linecolor\": \"white\", \"ticks\": \"\"}, \"bgcolor\": \"#E5ECF6\", \"radialaxis\": {\"gridcolor\": \"white\", \"linecolor\": \"white\", \"ticks\": \"\"}}, \"scene\": {\"xaxis\": {\"backgroundcolor\": \"#E5ECF6\", \"gridcolor\": \"white\", \"gridwidth\": 2, \"linecolor\": \"white\", \"showbackground\": true, \"ticks\": \"\", \"zerolinecolor\": \"white\"}, \"yaxis\": {\"backgroundcolor\": \"#E5ECF6\", \"gridcolor\": \"white\", \"gridwidth\": 2, \"linecolor\": \"white\", \"showbackground\": true, \"ticks\": \"\", \"zerolinecolor\": \"white\"}, \"zaxis\": {\"backgroundcolor\": \"#E5ECF6\", \"gridcolor\": \"white\", \"gridwidth\": 2, \"linecolor\": \"white\", \"showbackground\": true, \"ticks\": \"\", \"zerolinecolor\": \"white\"}}, \"shapedefaults\": {\"line\": {\"color\": \"#2a3f5f\"}}, \"ternary\": {\"aaxis\": {\"gridcolor\": \"white\", \"linecolor\": \"white\", \"ticks\": \"\"}, \"baxis\": {\"gridcolor\": \"white\", \"linecolor\": \"white\", \"ticks\": \"\"}, \"bgcolor\": \"#E5ECF6\", \"caxis\": {\"gridcolor\": \"white\", \"linecolor\": \"white\", \"ticks\": \"\"}}, \"title\": {\"x\": 0.05}, \"xaxis\": {\"automargin\": true, \"gridcolor\": \"white\", \"linecolor\": \"white\", \"ticks\": \"\", \"title\": {\"standoff\": 15}, \"zerolinecolor\": \"white\", \"zerolinewidth\": 2}, \"yaxis\": {\"automargin\": true, \"gridcolor\": \"white\", \"linecolor\": \"white\", \"ticks\": \"\", \"title\": {\"standoff\": 15}, \"zerolinecolor\": \"white\", \"zerolinewidth\": 2}}}},\n",
       "                        {\"responsive\": true}\n",
       "                    ).then(function(){\n",
       "                            \n",
       "var gd = document.getElementById('b4f10194-1cdf-4e1e-b034-734540456fc8');\n",
       "var x = new MutationObserver(function (mutations, observer) {{\n",
       "        var display = window.getComputedStyle(gd).display;\n",
       "        if (!display || display === 'none') {{\n",
       "            console.log([gd, 'removed!']);\n",
       "            Plotly.purge(gd);\n",
       "            observer.disconnect();\n",
       "        }}\n",
       "}});\n",
       "\n",
       "// Listen for the removal of the full notebook cells\n",
       "var notebookContainer = gd.closest('#notebook-container');\n",
       "if (notebookContainer) {{\n",
       "    x.observe(notebookContainer, {childList: true});\n",
       "}}\n",
       "\n",
       "// Listen for the clearing of the current output cell\n",
       "var outputEl = gd.closest('.output');\n",
       "if (outputEl) {{\n",
       "    x.observe(outputEl, {childList: true});\n",
       "}}\n",
       "\n",
       "                        })\n",
       "                };\n",
       "                });\n",
       "            </script>\n",
       "        </div>"
      ]
     },
     "metadata": {},
     "output_type": "display_data"
    }
   ],
   "source": [
    "#Total confirmed world map\n",
    "data = [ dict(\n",
    " type='choropleth',\n",
    " locations = df['Country'],\n",
    " autocolorscale = True,\n",
    " z = df['TotalConfirmed'],\n",
    " locationmode = 'country names',\n",
    " marker = dict(\n",
    " line = dict (\n",
    " color = 'rgb(155,155,155)',\n",
    " width = 4,\n",
    " )  ),\n",
    " colorbar = dict(\n",
    " title = 'Number of cases'\n",
    " )\n",
    " ) ]\n",
    "layout = dict(\n",
    " autosize=True,\n",
    "margin={\"r\":0,\"t\":0,\"l\":0,\"b\":0}\n",
    "    \n",
    ")\n",
    "fig = go.Figure(data = data, layout = layout)\n",
    "\n",
    "# Active cases world map\n",
    "\n",
    "data1 = [ dict(\n",
    " type='choropleth',\n",
    " locations = df['Country'],\n",
    " autocolorscale = True,\n",
    " z = df['Active Cases'],\n",
    " locationmode = 'country names',\n",
    " marker = dict(\n",
    " line = dict (\n",
    " color = 'rgb(255,255,255)',\n",
    " width = 10,\n",
    " )  ),\n",
    " colorbar = dict(\n",
    " title = 'Active cases'\n",
    " )\n",
    " ) ]\n",
    "layout = dict(\n",
    " autosize=True,\n",
    " margin={\"r\":0,\"t\":0,\"l\":0,\"b\":0}   \n",
    ")\n",
    "\n",
    "\n",
    "\n",
    "\n",
    "fig1_ = go.Figure(data = data1, layout = layout)\n",
    "\n",
    "#Closed cases world map\n",
    "data2 = [ dict(\n",
    " type='choropleth',\n",
    " locations = df['Country'],\n",
    " autocolorscale = True,\n",
    " z =df['Closed Cases'],\n",
    " locationmode = 'country names',\n",
    " marker = dict(\n",
    " line = dict (\n",
    " color = 'rgb(245, 197, 66)',\n",
    " width = 10,\n",
    " )  ),\n",
    " colorbar = dict(\n",
    " title = 'Closed Cases'\n",
    " )\n",
    " ) ]\n",
    "layout = dict(\n",
    " autosize=True,\n",
    " margin={\"r\":0,\"t\":0,\"l\":0,\"b\":0}   \n",
    ")\n",
    "fig2_ = go.Figure(data = data2, layout = layout)\n",
    "\n",
    "#Recovery Rate World Map\n",
    "\n",
    "data3 = [ dict(\n",
    " type='choropleth',\n",
    " locations = df['Country'],\n",
    " autocolorscale = True,\n",
    " z =df['Recovery Rate'],\n",
    " locationmode = 'country names',\n",
    " marker = dict(\n",
    " line = dict (\n",
    " color = 'rgb(455,455,455)',\n",
    " width = 10,\n",
    " )  ),\n",
    " colorbar = dict(\n",
    " title = 'Recovery Rate (%)'\n",
    " )\n",
    " ) ]\n",
    "layout = dict(\n",
    " autosize=True,\n",
    " margin={\"r\":0,\"t\":0,\"l\":0,\"b\":0}   \n",
    ")\n",
    "fig3_ = go.Figure(data = data3, layout = layout)\n",
    "\n",
    "\n",
    "#Case fatality rate world map\n",
    "\n",
    "data4 = [ dict(\n",
    " type='choropleth',\n",
    " locations = df['Country'],\n",
    " autocolorscale = True,\n",
    " z =df['Case Fatality Rate'],\n",
    " locationmode = 'country names',\n",
    " marker = dict(\n",
    " line = dict (\n",
    " color = 'rgb(555,555,555)',\n",
    " width = 10,\n",
    " )  ),\n",
    " colorbar = dict(\n",
    " title = 'Case Fatality Rate (%)'\n",
    " )\n",
    " ) ]\n",
    "layout = dict(\n",
    "    autosize=True,\n",
    "    margin={\"r\":0,\"t\":0,\"l\":0,\"b\":0}\n",
    ")\n",
    "fig4_ = go.Figure(data = data4, layout = layout)\n",
    "fig4_.show()\n"
   ]
  },
  {
   "cell_type": "code",
   "execution_count": 16,
   "metadata": {},
   "outputs": [],
   "source": [
    "#Style sheet\n",
    "external_stylesheets = ['https://codepen.io/chriddyp/pen/bWLwgP.css']\n",
    "\n",
    "# App\n",
    "app = dash.Dash(__name__, external_stylesheets=external_stylesheets)\n",
    "app.config['suppress_callback_exceptions'] = True\n",
    "app.layout = html.Div(children=[\n",
    "        #header\n",
    "    \n",
    "    html.Div([\n",
    "        html.Div([\n",
    "           \n",
    "        ], className=\"four columns\"),\n",
    "        \n",
    "\n",
    "        html.Div([\n",
    "            html.H3('Latest Covid 19 Update', style={\n",
    "                                'fontFamily': 'Open Sans',\n",
    "                                'textAlign': 'center',\n",
    "                            }),\n",
    "             \n",
    "        ], className=\"four columns\"),\n",
    "        \n",
    "        html.Div([\n",
    "            html.H3('#StayAtHome', style={\n",
    "                                'fontFamily': 'Open Sans',\n",
    "                                'textAlign': 'right',\n",
    "                            }),\n",
    "            \n",
    "            \n",
    "        ], className=\"four columns\")\n",
    "    ], className=\"row\"),\n",
    "    \n",
    "    dcc.Tabs(id='tabs-example', value='tab', children=[\n",
    "        dcc.Tab(label='Global Map', value='tab-1'),\n",
    "        dcc.Tab(label='South African cases', value='tab-2'),\n",
    "        dcc.Tab(label='Analysis', value='tab-3'),\n",
    "    ]),\n",
    "    html.Div(id='tabs-example-content')\n",
    "])"
   ]
  },
  {
   "cell_type": "code",
   "execution_count": 17,
   "metadata": {},
   "outputs": [],
   "source": [
    "\n",
    "#----------- Main tab call back ----\n",
    "@app.callback(Output('tabs-example-content', 'children'),\n",
    "              [Input('tabs-example', 'value')])\n",
    "def render_content(tab):\n",
    "\n",
    "    if tab == 'tab-1':\n",
    "        return html.Div([\n",
    "            html.Div([\n",
    "\n",
    "                # VISUALISATIONS\n",
    "\n",
    "                html.Div([\n",
    "                      dcc.Graph(\n",
    "                          id='figure',\n",
    "                            figure=go.Figure(fig1)\n",
    "                          \n",
    "                        ),\n",
    "                html.Div([\n",
    "                    dash_table.DataTable(\n",
    "                            id='table',\n",
    "                            data=df_tot_cases.to_dict(\"rows\"),\n",
    "                            columns=[{\"name\": i, \"id\": i}\n",
    "                                     for i in df_tot_cases.columns],\n",
    "                            style_table=style_table,\n",
    "                            style_cell=style_cell,\n",
    "                            style_data_conditional=style_data_conditional,\n",
    "                            style_header=style_header,\n",
    "                            style_cell_conditional=style_cell_conditional,\n",
    "                            filter_action=\"native\"\n",
    "                        )\n",
    "                ])\n",
    "                    \n",
    "            ], className=\"row\"),\n",
    "\n",
    "                ], className=\"three columns\"),\n",
    "            \n",
    "            html.Div([\n",
    "                    dcc.Graph(\n",
    "                          id='figure',\n",
    "                            figure=go.Figure(fig2)\n",
    "                        ),\n",
    "                    html.Div([\n",
    "                        dcc.Tabs(id='tabs-examples', value='tabs', children=[\n",
    "                            dcc.Tab(label='Total Cases', value='tab-1.'),\n",
    "                            dcc.Tab(label='Active Cases', value='tab-2.'),\n",
    "                            dcc.Tab(label='Solved Cases', value='tab-3.'),\n",
    "                            dcc.Tab(label='Recovery Rate', value='tab-4.'),\n",
    "                            dcc.Tab(label='Case Fatality Rate', value='tab-5.')\n",
    "                        ], colors={\n",
    "                                \"border\": \"white\",\n",
    "                                \"primary\": \"gold\",\n",
    "                                \"background\": \"cornsilk\"\n",
    "                            }),\n",
    "                     html.Div(id='tabs-example-contents'),\n",
    "            ], className=\"row\"),\n",
    "                ], className=\"six columns\"),\n",
    "\n",
    "                html.Div([\n",
    "                     dcc.Graph(\n",
    "                          id='figure',\n",
    "                            figure=go.Figure(fig3)\n",
    "                        ),\n",
    "\n",
    "\n",
    "                    html.Div([\n",
    "                        dcc.Graph(\n",
    "                          id='figure',\n",
    "                            figure=go.Figure(fig_line)\n",
    "                        ),\n",
    "                        \n",
    "                        \n",
    "                       \n",
    "            ], className=\"row\")\n",
    "\n",
    "                ], className=\"three columns\"),\n",
    "            ], className=\"row\")\n",
    "\n",
    "            # fOOTER\n",
    "        html.Div([\n",
    "                html.Div([\n",
    "                    html.H3('Footer'),\n",
    "\n",
    "                ], className=\"six columns\"),\n",
    "\n",
    "                html.Div([\n",
    "                    html.H3('Footer'),\n",
    "\n",
    "                ], className=\"six columns\"),\n",
    "            ], className=\"row\")\n",
    "  \n",
    "\n",
    "    elif tab == 'tab-2':\n",
    "        return html.Div([\n",
    "            dcc.Graph(\n",
    "                id='figure',\n",
    "                figure=go.Figure(fig2)\n",
    "            ),\n",
    "                    html.Div([\n",
    "                        dcc.Graph(\n",
    "                         id='figure',\n",
    "                figure=go.Figure(fig_rt  )\n",
    "                        ), \n",
    "                \n",
    "            ], className=\"row\"),\n",
    "                ], className=\"six columns\"),\n",
    "    else:\n",
    "        return html.H1('Critical trends and South African cases analyses!!!')\n",
    "    \n",
    "#---- Small tab call back -----\n",
    "\n",
    "@app.callback(Output('tabs-example-contents', 'children'),\n",
    "              [Input('tabs-examples', 'value')])\n",
    "def render_content(tabs):\n",
    "    \n",
    "    if tabs == 'tab-1.':\n",
    "        return dcc.Graph(\n",
    "\n",
    "            id='figure',\n",
    "            figure=\n",
    "              go.Figure(fig)\n",
    "            )\n",
    "    elif tabs == 'tab-2.':   \n",
    "        return dcc.Graph(\n",
    "\n",
    "            id='figure',\n",
    "            figure=\n",
    "              go.Figure(fig1_)\n",
    "            )\n",
    "           \n",
    "    elif tabs == 'tab-3.':   \n",
    "        return dcc.Graph(\n",
    "\n",
    "            id='figure',\n",
    "            figure=\n",
    "              go.Figure(fig2_)\n",
    "            )\n",
    "    elif tabs == 'tab-4.':\n",
    "         return dcc.Graph(\n",
    "\n",
    "                 id='figure',\n",
    "            figure=\n",
    "              go.Figure(fig3_)\n",
    "            )\n",
    "    else:\n",
    "        return dcc.Graph(\n",
    "\n",
    "            id='figure',\n",
    "            figure=\n",
    "              go.Figure(fig4_)\n",
    "            )\n",
    "\n",
    "\n",
    "\n",
    "\n"
   ]
  },
  {
   "cell_type": "code",
   "execution_count": null,
   "metadata": {},
   "outputs": [
    {
     "name": "stdout",
     "output_type": "stream",
     "text": [
      " * Serving Flask app \"__main__\" (lazy loading)\n",
      " * Environment: production\n",
      "\u001b[31m   WARNING: This is a development server. Do not use it in a production deployment.\u001b[0m\n",
      "\u001b[2m   Use a production WSGI server instead.\u001b[0m\n",
      " * Debug mode: off\n"
     ]
    },
    {
     "name": "stderr",
     "output_type": "stream",
     "text": [
      " * Running on http://127.0.0.1:8050/ (Press CTRL+C to quit)\n",
      "127.0.0.1 - - [06/May/2020 14:32:15] \"\u001b[37mGET / HTTP/1.1\u001b[0m\" 200 -\n",
      "127.0.0.1 - - [06/May/2020 14:32:15] \"\u001b[37mGET /_dash-layout HTTP/1.1\u001b[0m\" 200 -\n",
      "127.0.0.1 - - [06/May/2020 14:32:15] \"\u001b[37mGET /_dash-dependencies HTTP/1.1\u001b[0m\" 200 -\n",
      "127.0.0.1 - - [06/May/2020 14:32:15] \"\u001b[37mPOST /_dash-update-component HTTP/1.1\u001b[0m\" 200 -\n",
      "127.0.0.1 - - [06/May/2020 14:32:19] \"\u001b[37mPOST /_dash-update-component HTTP/1.1\u001b[0m\" 200 -\n",
      "127.0.0.1 - - [06/May/2020 14:32:19] \"\u001b[37mPOST /_dash-update-component HTTP/1.1\u001b[0m\" 200 -\n",
      "127.0.0.1 - - [06/May/2020 14:32:22] \"\u001b[37mPOST /_dash-update-component HTTP/1.1\u001b[0m\" 200 -\n",
      "127.0.0.1 - - [06/May/2020 14:43:43] \"\u001b[37mGET / HTTP/1.1\u001b[0m\" 200 -\n",
      "127.0.0.1 - - [06/May/2020 14:43:43] \"\u001b[37mGET /_dash-layout HTTP/1.1\u001b[0m\" 200 -\n",
      "127.0.0.1 - - [06/May/2020 14:43:43] \"\u001b[37mGET /_dash-dependencies HTTP/1.1\u001b[0m\" 200 -\n",
      "127.0.0.1 - - [06/May/2020 14:43:43] \"\u001b[37mPOST /_dash-update-component HTTP/1.1\u001b[0m\" 200 -\n",
      "127.0.0.1 - - [06/May/2020 14:43:46] \"\u001b[37mPOST /_dash-update-component HTTP/1.1\u001b[0m\" 200 -\n"
     ]
    }
   ],
   "source": [
    "if __name__ == '__main__':\n",
    "    app.run_server()"
   ]
  },
  {
   "cell_type": "code",
   "execution_count": 18,
   "metadata": {},
   "outputs": [
    {
     "data": {
      "text/html": [
       "<div>\n",
       "<style scoped>\n",
       "    .dataframe tbody tr th:only-of-type {\n",
       "        vertical-align: middle;\n",
       "    }\n",
       "\n",
       "    .dataframe tbody tr th {\n",
       "        vertical-align: top;\n",
       "    }\n",
       "\n",
       "    .dataframe thead th {\n",
       "        text-align: right;\n",
       "    }\n",
       "</style>\n",
       "<table border=\"1\" class=\"dataframe\">\n",
       "  <thead>\n",
       "    <tr style=\"text-align: right;\">\n",
       "      <th></th>\n",
       "      <th>dateRep</th>\n",
       "      <th>day</th>\n",
       "      <th>month</th>\n",
       "      <th>year</th>\n",
       "      <th>cases</th>\n",
       "      <th>deaths</th>\n",
       "      <th>countriesAndTerritories</th>\n",
       "      <th>geoId</th>\n",
       "      <th>countryterritoryCode</th>\n",
       "      <th>popData2018</th>\n",
       "    </tr>\n",
       "  </thead>\n",
       "  <tbody>\n",
       "    <tr>\n",
       "      <th>0</th>\n",
       "      <td>16/04/2020</td>\n",
       "      <td>16</td>\n",
       "      <td>4</td>\n",
       "      <td>2020</td>\n",
       "      <td>70</td>\n",
       "      <td>2</td>\n",
       "      <td>Afghanistan</td>\n",
       "      <td>AF</td>\n",
       "      <td>AFG</td>\n",
       "      <td>37172386.0</td>\n",
       "    </tr>\n",
       "    <tr>\n",
       "      <th>1</th>\n",
       "      <td>15/04/2020</td>\n",
       "      <td>15</td>\n",
       "      <td>4</td>\n",
       "      <td>2020</td>\n",
       "      <td>49</td>\n",
       "      <td>2</td>\n",
       "      <td>Afghanistan</td>\n",
       "      <td>AF</td>\n",
       "      <td>AFG</td>\n",
       "      <td>37172386.0</td>\n",
       "    </tr>\n",
       "    <tr>\n",
       "      <th>2</th>\n",
       "      <td>14/04/2020</td>\n",
       "      <td>14</td>\n",
       "      <td>4</td>\n",
       "      <td>2020</td>\n",
       "      <td>58</td>\n",
       "      <td>3</td>\n",
       "      <td>Afghanistan</td>\n",
       "      <td>AF</td>\n",
       "      <td>AFG</td>\n",
       "      <td>37172386.0</td>\n",
       "    </tr>\n",
       "    <tr>\n",
       "      <th>3</th>\n",
       "      <td>13/04/2020</td>\n",
       "      <td>13</td>\n",
       "      <td>4</td>\n",
       "      <td>2020</td>\n",
       "      <td>52</td>\n",
       "      <td>0</td>\n",
       "      <td>Afghanistan</td>\n",
       "      <td>AF</td>\n",
       "      <td>AFG</td>\n",
       "      <td>37172386.0</td>\n",
       "    </tr>\n",
       "    <tr>\n",
       "      <th>4</th>\n",
       "      <td>12/04/2020</td>\n",
       "      <td>12</td>\n",
       "      <td>4</td>\n",
       "      <td>2020</td>\n",
       "      <td>34</td>\n",
       "      <td>3</td>\n",
       "      <td>Afghanistan</td>\n",
       "      <td>AF</td>\n",
       "      <td>AFG</td>\n",
       "      <td>37172386.0</td>\n",
       "    </tr>\n",
       "    <tr>\n",
       "      <th>...</th>\n",
       "      <td>...</td>\n",
       "      <td>...</td>\n",
       "      <td>...</td>\n",
       "      <td>...</td>\n",
       "      <td>...</td>\n",
       "      <td>...</td>\n",
       "      <td>...</td>\n",
       "      <td>...</td>\n",
       "      <td>...</td>\n",
       "      <td>...</td>\n",
       "    </tr>\n",
       "    <tr>\n",
       "      <th>11147</th>\n",
       "      <td>25/03/2020</td>\n",
       "      <td>25</td>\n",
       "      <td>3</td>\n",
       "      <td>2020</td>\n",
       "      <td>0</td>\n",
       "      <td>0</td>\n",
       "      <td>Zimbabwe</td>\n",
       "      <td>ZW</td>\n",
       "      <td>ZWE</td>\n",
       "      <td>14439018.0</td>\n",
       "    </tr>\n",
       "    <tr>\n",
       "      <th>11148</th>\n",
       "      <td>24/03/2020</td>\n",
       "      <td>24</td>\n",
       "      <td>3</td>\n",
       "      <td>2020</td>\n",
       "      <td>0</td>\n",
       "      <td>1</td>\n",
       "      <td>Zimbabwe</td>\n",
       "      <td>ZW</td>\n",
       "      <td>ZWE</td>\n",
       "      <td>14439018.0</td>\n",
       "    </tr>\n",
       "    <tr>\n",
       "      <th>11149</th>\n",
       "      <td>23/03/2020</td>\n",
       "      <td>23</td>\n",
       "      <td>3</td>\n",
       "      <td>2020</td>\n",
       "      <td>0</td>\n",
       "      <td>0</td>\n",
       "      <td>Zimbabwe</td>\n",
       "      <td>ZW</td>\n",
       "      <td>ZWE</td>\n",
       "      <td>14439018.0</td>\n",
       "    </tr>\n",
       "    <tr>\n",
       "      <th>11150</th>\n",
       "      <td>22/03/2020</td>\n",
       "      <td>22</td>\n",
       "      <td>3</td>\n",
       "      <td>2020</td>\n",
       "      <td>1</td>\n",
       "      <td>0</td>\n",
       "      <td>Zimbabwe</td>\n",
       "      <td>ZW</td>\n",
       "      <td>ZWE</td>\n",
       "      <td>14439018.0</td>\n",
       "    </tr>\n",
       "    <tr>\n",
       "      <th>11151</th>\n",
       "      <td>21/03/2020</td>\n",
       "      <td>21</td>\n",
       "      <td>3</td>\n",
       "      <td>2020</td>\n",
       "      <td>1</td>\n",
       "      <td>0</td>\n",
       "      <td>Zimbabwe</td>\n",
       "      <td>ZW</td>\n",
       "      <td>ZWE</td>\n",
       "      <td>14439018.0</td>\n",
       "    </tr>\n",
       "  </tbody>\n",
       "</table>\n",
       "<p>11152 rows × 10 columns</p>\n",
       "</div>"
      ],
      "text/plain": [
       "          dateRep  day  month  year  cases  deaths countriesAndTerritories  \\\n",
       "0      16/04/2020   16      4  2020     70       2             Afghanistan   \n",
       "1      15/04/2020   15      4  2020     49       2             Afghanistan   \n",
       "2      14/04/2020   14      4  2020     58       3             Afghanistan   \n",
       "3      13/04/2020   13      4  2020     52       0             Afghanistan   \n",
       "4      12/04/2020   12      4  2020     34       3             Afghanistan   \n",
       "...           ...  ...    ...   ...    ...     ...                     ...   \n",
       "11147  25/03/2020   25      3  2020      0       0                Zimbabwe   \n",
       "11148  24/03/2020   24      3  2020      0       1                Zimbabwe   \n",
       "11149  23/03/2020   23      3  2020      0       0                Zimbabwe   \n",
       "11150  22/03/2020   22      3  2020      1       0                Zimbabwe   \n",
       "11151  21/03/2020   21      3  2020      1       0                Zimbabwe   \n",
       "\n",
       "      geoId countryterritoryCode  popData2018  \n",
       "0        AF                  AFG   37172386.0  \n",
       "1        AF                  AFG   37172386.0  \n",
       "2        AF                  AFG   37172386.0  \n",
       "3        AF                  AFG   37172386.0  \n",
       "4        AF                  AFG   37172386.0  \n",
       "...     ...                  ...          ...  \n",
       "11147    ZW                  ZWE   14439018.0  \n",
       "11148    ZW                  ZWE   14439018.0  \n",
       "11149    ZW                  ZWE   14439018.0  \n",
       "11150    ZW                  ZWE   14439018.0  \n",
       "11151    ZW                  ZWE   14439018.0  \n",
       "\n",
       "[11152 rows x 10 columns]"
      ]
     },
     "execution_count": 18,
     "metadata": {},
     "output_type": "execute_result"
    }
   ],
   "source": [
    "df6"
   ]
  },
  {
   "cell_type": "code",
   "execution_count": null,
   "metadata": {},
   "outputs": [],
   "source": []
  }
 ],
 "metadata": {
  "kernelspec": {
   "display_name": "Python 3",
   "language": "python",
   "name": "python3"
  },
  "language_info": {
   "codemirror_mode": {
    "name": "ipython",
    "version": 3
   },
   "file_extension": ".py",
   "mimetype": "text/x-python",
   "name": "python",
   "nbconvert_exporter": "python",
   "pygments_lexer": "ipython3",
   "version": "3.6.9"
  }
 },
 "nbformat": 4,
 "nbformat_minor": 4
}
