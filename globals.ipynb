{
 "cells": [
  {
   "cell_type": "code",
   "execution_count": 1,
   "metadata": {},
   "outputs": [
    {
     "data": {
      "text/html": [
       "        <script type=\"text/javascript\">\n",
       "        window.PlotlyConfig = {MathJaxConfig: 'local'};\n",
       "        if (window.MathJax) {MathJax.Hub.Config({SVG: {font: \"STIX-Web\"}});}\n",
       "        if (typeof require !== 'undefined') {\n",
       "        require.undef(\"plotly\");\n",
       "        requirejs.config({\n",
       "            paths: {\n",
       "                'plotly': ['https://cdn.plot.ly/plotly-latest.min']\n",
       "            }\n",
       "        });\n",
       "        require(['plotly'], function(Plotly) {\n",
       "            window._Plotly = Plotly;\n",
       "        });\n",
       "        }\n",
       "        </script>\n",
       "        "
      ]
     },
     "metadata": {},
     "output_type": "display_data"
    }
   ],
   "source": [
    "import requests\n",
    "from pandas.io.json import json_normalize\n",
    "import dash\n",
    "import dash_table\n",
    "import dash_core_components as dcc\n",
    "import dash_html_components as html\n",
    "import pandas as pd\n",
    "import numpy as np\n",
    "import seaborn as sns\n",
    "import matplotlib.pyplot as plt\n",
    "import plotly.graph_objects as go\n",
    "from dash.dependencies import Input, Output\n",
    "from plotly.subplots import make_subplots\n",
    "\n",
    "\n",
    "#Geo map of Cases per country globally\n",
    "from plotly.offline import download_plotlyjs, init_notebook_mode, plot, iplot\n",
    "import plotly as py\n",
    "import plotly.graph_objs as go\n",
    "init_notebook_mode(connected=True)\n"
   ]
  },
  {
   "cell_type": "code",
   "execution_count": 2,
   "metadata": {},
   "outputs": [
    {
     "name": "stderr",
     "output_type": "stream",
     "text": [
      "/home/tshepo/.local/lib/python3.6/site-packages/ipykernel_launcher.py:5: FutureWarning:\n",
      "\n",
      "pandas.io.json.json_normalize is deprecated, use pandas.json_normalize instead\n",
      "\n"
     ]
    },
    {
     "data": {
      "text/html": [
       "<div>\n",
       "<style scoped>\n",
       "    .dataframe tbody tr th:only-of-type {\n",
       "        vertical-align: middle;\n",
       "    }\n",
       "\n",
       "    .dataframe tbody tr th {\n",
       "        vertical-align: top;\n",
       "    }\n",
       "\n",
       "    .dataframe thead th {\n",
       "        text-align: right;\n",
       "    }\n",
       "</style>\n",
       "<table border=\"1\" class=\"dataframe\">\n",
       "  <thead>\n",
       "    <tr style=\"text-align: right;\">\n",
       "      <th></th>\n",
       "      <th>Country</th>\n",
       "      <th>CountryCode</th>\n",
       "      <th>NewConfirmed</th>\n",
       "      <th>TotalConfirmed</th>\n",
       "      <th>NewDeaths</th>\n",
       "      <th>TotalDeaths</th>\n",
       "      <th>NewRecovered</th>\n",
       "      <th>TotalRecovered</th>\n",
       "      <th>Date</th>\n",
       "    </tr>\n",
       "  </thead>\n",
       "  <tbody>\n",
       "    <tr>\n",
       "      <th>234</th>\n",
       "      <td>United States of America</td>\n",
       "      <td>US</td>\n",
       "      <td>24513</td>\n",
       "      <td>604736</td>\n",
       "      <td>2227</td>\n",
       "      <td>25747</td>\n",
       "      <td>4281</td>\n",
       "      <td>47763</td>\n",
       "      <td>2020-04-15T21:27:04Z</td>\n",
       "    </tr>\n",
       "    <tr>\n",
       "      <th>206</th>\n",
       "      <td>Spain</td>\n",
       "      <td>ES</td>\n",
       "      <td>2442</td>\n",
       "      <td>172541</td>\n",
       "      <td>300</td>\n",
       "      <td>18056</td>\n",
       "      <td>2777</td>\n",
       "      <td>67504</td>\n",
       "      <td>2020-04-15T21:27:04Z</td>\n",
       "    </tr>\n",
       "    <tr>\n",
       "      <th>107</th>\n",
       "      <td>Italy</td>\n",
       "      <td>IT</td>\n",
       "      <td>2972</td>\n",
       "      <td>162488</td>\n",
       "      <td>602</td>\n",
       "      <td>21067</td>\n",
       "      <td>1695</td>\n",
       "      <td>37130</td>\n",
       "      <td>2020-04-15T21:27:04Z</td>\n",
       "    </tr>\n",
       "    <tr>\n",
       "      <th>80</th>\n",
       "      <td>Germany</td>\n",
       "      <td>DE</td>\n",
       "      <td>1287</td>\n",
       "      <td>131359</td>\n",
       "      <td>100</td>\n",
       "      <td>3294</td>\n",
       "      <td>3900</td>\n",
       "      <td>68200</td>\n",
       "      <td>2020-04-15T21:27:04Z</td>\n",
       "    </tr>\n",
       "    <tr>\n",
       "      <th>233</th>\n",
       "      <td>United Kingdom</td>\n",
       "      <td>GB</td>\n",
       "      <td>5275</td>\n",
       "      <td>94845</td>\n",
       "      <td>782</td>\n",
       "      <td>12129</td>\n",
       "      <td>19</td>\n",
       "      <td>323</td>\n",
       "      <td>2020-04-15T21:27:04Z</td>\n",
       "    </tr>\n",
       "  </tbody>\n",
       "</table>\n",
       "</div>"
      ],
      "text/plain": [
       "                      Country CountryCode  NewConfirmed  TotalConfirmed  \\\n",
       "234  United States of America          US         24513          604736   \n",
       "206                     Spain          ES          2442          172541   \n",
       "107                     Italy          IT          2972          162488   \n",
       "80                    Germany          DE          1287          131359   \n",
       "233            United Kingdom          GB          5275           94845   \n",
       "\n",
       "     NewDeaths  TotalDeaths  NewRecovered  TotalRecovered  \\\n",
       "234       2227        25747          4281           47763   \n",
       "206        300        18056          2777           67504   \n",
       "107        602        21067          1695           37130   \n",
       "80         100         3294          3900           68200   \n",
       "233        782        12129            19             323   \n",
       "\n",
       "                     Date  \n",
       "234  2020-04-15T21:27:04Z  \n",
       "206  2020-04-15T21:27:04Z  \n",
       "107  2020-04-15T21:27:04Z  \n",
       "80   2020-04-15T21:27:04Z  \n",
       "233  2020-04-15T21:27:04Z  "
      ]
     },
     "execution_count": 2,
     "metadata": {},
     "output_type": "execute_result"
    }
   ],
   "source": [
    "url = 'https://api.covid19api.com/summary'\n",
    "r = requests.get(url)\n",
    "dictr = r.json()\n",
    "header = dictr['Countries']\n",
    "df = json_normalize(header)\n",
    "df = df.drop(df.index[[0,224]])\n",
    "df = df.drop(columns = 'Slug')\n",
    "df = df.sort_values(by=['TotalConfirmed'], ascending=False)\n",
    "df.head()"
   ]
  },
  {
   "cell_type": "code",
   "execution_count": null,
   "metadata": {},
   "outputs": [],
   "source": []
  },
  {
   "cell_type": "code",
   "execution_count": 3,
   "metadata": {},
   "outputs": [],
   "source": [
    "style_table = {\n",
    "    'maxHeight': '50ex',\n",
    "    'overflowY': 'scroll',\n",
    "    'width': '30%',\n",
    "    'minWidth': '30%',\n",
    "}\n",
    "style_cell = {\n",
    "    'fontFamily': 'Open Sans',\n",
    "    'textAlign': 'center',\n",
    "    'height': '30px',\n",
    "    'padding': '10px 22px',\n",
    "    'whiteSpace': 'inherit',\n",
    "    'overflow': 'hidden',\n",
    "                'textOverflow': 'ellipsis',\n",
    "}\n",
    "style_cell_conditional = [\n",
    "    {\n",
    "        'if': {'column_id': 'State'},\n",
    "        'textAlign': 'left'\n",
    "    },\n",
    "]\n",
    "style_header = {\n",
    "    'fontWeight': 'bold',\n",
    "    'backgroundColor': \"#3D9970\",\n",
    "    'fontSize': '16px'\n",
    "}\n",
    "style_data_conditional = [\n",
    "    {\n",
    "        'if': {'row_index': 'odd'},\n",
    "        'backgroundColor': 'rgb(248, 248, 248)'\n",
    "    }]\n",
    "style_table = {\n",
    "    'maxHeight': '50ex',\n",
    "    'overflowY': 'scroll',\n",
    "    'width': '100%',\n",
    "    'minWidth': '100%',\n",
    "}"
   ]
  },
  {
   "cell_type": "code",
   "execution_count": 4,
   "metadata": {},
   "outputs": [],
   "source": [
    "a = df.TotalConfirmed.sum()-df.NewConfirmed.sum()"
   ]
  },
  {
   "cell_type": "code",
   "execution_count": null,
   "metadata": {},
   "outputs": [],
   "source": []
  },
  {
   "cell_type": "code",
   "execution_count": 5,
   "metadata": {},
   "outputs": [],
   "source": [
    "# # Style sheet\n",
    "# external_stylesheets = ['https://codepen.io/chriddyp/pen/bWLwgP.css']\n",
    "\n",
    "# # App\n",
    "# app = dash.Dash(__name__, external_stylesheets=external_stylesheets)\n",
    "\n",
    "# app.layout = html.Div(children=[\n",
    "#         #header\n",
    "    \n",
    "#     html.Div([\n",
    "#         html.Div([\n",
    "#             html.Img(src=\"https://dcassetcdn.com/design_img/3666062/781819/781819_21156990_3666062_e336b60a_image.png\",className='four columns')\n",
    "            \n",
    "#         ], className=\"four columns\"),\n",
    "        \n",
    "\n",
    "#         html.Div([\n",
    "#             html.H3('Latest Covid 19 Update', style={\n",
    "#                                 'fontFamily': 'Open Sans',\n",
    "#                                 'textAlign': 'center',\n",
    "#                             }),\n",
    "             \n",
    "#         ], className=\"four columns\"),\n",
    "        \n",
    "#         html.Div([\n",
    "#             html.H3('#StayAtHome', style={\n",
    "#                                 'fontFamily': 'Open Sans',\n",
    "#                                 'textAlign': 'right',\n",
    "#                             }),\n",
    "            \n",
    "#         ], className=\"four columns\")\n",
    "#     ], className=\"row\"),\n",
    "    \n",
    "#     dcc.Tabs(id='tabs-example', value='tab', children=[\n",
    "#         dcc.Tab(label='Global Map', value='tab-1'),\n",
    "#         dcc.Tab(label='South African cases', value='tab-2'),\n",
    "#         dcc.Tab(label='Analysis', value='tab-3'),\n",
    "#     ]),\n",
    "#     html.Div(id='tabs-example-content')\n",
    "# ])\n",
    "\n",
    "\n",
    "\n",
    "\n",
    "# def render_content(tab):\n",
    "#     '''Display the table and the graph sideby\n",
    "#     side when the respective tab is selected'''\n",
    "\n",
    "#     if tab == 'tab-1':\n",
    "#         return html.Div([\n",
    "#             html.Div([\n",
    "       \n",
    "#                 html.H3('band', style={\n",
    "#                                     'fontFamily': 'Open Sans',\n",
    "#                                     'textAlign': 'center',\n",
    "#                                 })\n",
    "\n",
    "#         ], className=\"row\"),\n",
    "\n",
    "#         #VISUALISATIONS\n",
    "#          html.Div([\n",
    "#             html.Div([\n",
    "#                 html.H3('visualisation'),\n",
    "#                 html.Div([\n",
    "#                     html.Div(\n",
    "#                         [\n",
    "#                             html.P(\"Total confirmed cases\"),\n",
    "#                             html.H6(\n",
    "#                                 id=\"well_text\",\n",
    "#                                 className=\"info_text\"\n",
    "#                             )\n",
    "#                         ],\n",
    "#                         id=\"wells\",\n",
    "#                         className=\"pretty_container\"\n",
    "#                     )\n",
    "#                 ], className=\"row\"),\n",
    "#                 html.Div([\n",
    "\n",
    "#                 html.H3('Cases by country'),\n",
    "#                     dash_table.DataTable(\n",
    "#                             id='table',\n",
    "#                             data=df_df_tot_cases.to_dict(\"rows\"),\n",
    "#                             columns=[{\"name\": i, \"id\": i}\n",
    "#                                      for i in df_tot_cases.columns],\n",
    "#                             style_table=style_table,\n",
    "#                             style_cell=style_cell,\n",
    "#                             style_data_conditional=style_data_conditional,\n",
    "#                             style_header=style_header,\n",
    "#                             style_cell_conditional=style_cell_conditional,\n",
    "#                         )\n",
    "\n",
    "#         ], className=\"row\"),\n",
    "\n",
    "#             ], className=\"two columns\"),\n",
    "#              html.Div([\n",
    "#                 html.H3('visualisation'),\n",
    "#                 html.Div([\n",
    "\n",
    "#                 html.H3('World Map')\n",
    "\n",
    "#         ], className=\"row\"),\n",
    "\n",
    "#             ], className=\"six columns\"),\n",
    "\n",
    "#             html.Div([\n",
    "#                 html.H3('visualisation'),\n",
    "\n",
    "\n",
    "#                 html.Div([\n",
    "#                     html.Div([\n",
    "#                         html.H3('Total Recoveries'),\n",
    "\n",
    "#                         ], className=\"six columns\"),\n",
    "\n",
    "#                     html.Div([\n",
    "#                         html.H3('Total Deaths'),\n",
    "\n",
    "#                         ], className=\"six columns\"),\n",
    "#         ], className=\"row\")\n",
    "\n",
    "#             ], className=\"four columns\"),\n",
    "#         ], className=\"row\"),\n",
    "\n",
    "#         #fOOTER\n",
    "#          html.Div([\n",
    "#             html.Div([\n",
    "#                 html.H3('Footer'),\n",
    "\n",
    "#             ], className=\"six columns\"),\n",
    "\n",
    "#             html.Div([\n",
    "#                 html.H3('Footer'),\n",
    "\n",
    "#             ], className=\"six columns\"),\n",
    "#         ], className=\"row\")\n",
    "#         ])\n",
    "        \n",
    " \n",
    "\n",
    "    \n",
    "    \n",
    "        \n",
    "    \n",
    "    \n",
    "    \n",
    "    \n",
    "    \n",
    "    \n",
    "    \n",
    "    \n",
    "    \n",
    "    \n",
    "    \n",
    "    \n",
    "    \n",
    "    \n",
    "    \n",
    "    \n",
    "    \n",
    "    \n",
    "#     html.Div([\n",
    "#             html.Div([\n",
    "#                 html.Div([\n",
    "#                     html.H1(\n",
    "#                         children='Table',\n",
    "#                         style={\n",
    "#                             'textAlign': 'center',\n",
    "#                             'color': 'green'\n",
    "#                         }), dash_table.DataTable(\n",
    "#                         id='table',\n",
    "#                         data=df_sum_state.to_dict(\"rows\"),\n",
    "#                         columns=[{\"name\": i, \"id\": i}\n",
    "#                                  for i in df_sum_state.columns],\n",
    "#                         style_table=style_table,\n",
    "#                         style_cell=style_cell,\n",
    "#                         style_data_conditional=style_data_conditional,\n",
    "#                         style_header=style_header,\n",
    "#                         style_cell_conditional=style_cell_conditional,\n",
    "#                     )\n",
    "#                 ], className=\"four columns\"),\n",
    "#                 html.Div([\n",
    "#                     html.H3('Fires per state in Brazil',\n",
    "#                             style={\n",
    "#                                 'textAlign': 'center',\n",
    "#                                 'color': 'green'}),\n",
    "#                     dcc.Graph(\n",
    "#                         id='Graph1',\n",
    "#                         figure={\n",
    "#                             'data': [\n",
    "#                                 {'x': df.state, 'y': df.number, 'type': 'bar', 'name': 'state', 'marker': {'color': [\n",
    "#                                     '#b50000', '#e63535', '#fa8989'], 'size': 9, 'line': {'width': 1, 'color': 'orange'}}},\n",
    "#                             ]\n",
    "#                         }\n",
    "#                     )\n",
    "#                 ], className=\"eight columns\"),\n",
    "#             ], className=\"row\")\n",
    "#         ])\n",
    "\n",
    "\n",
    "\n",
    "# if __name__ == '__main__':\n",
    "#     app.run_server()\n"
   ]
  },
  {
   "cell_type": "code",
   "execution_count": 6,
   "metadata": {},
   "outputs": [],
   "source": [
    "# # layout\n",
    "# app.layout = html.Div([\n",
    "#       #Band\n",
    "#      html.Div([\n",
    "       \n",
    "#             html.H3('band', style={\n",
    "#                                 'fontFamily': 'Open Sans',\n",
    "#                                 'textAlign': 'center',\n",
    "#                             })\n",
    "         \n",
    "#     ], className=\"row\"),\n",
    "    \n",
    "#     #VISUALISATIONS\n",
    "#      html.Div([\n",
    "#         html.Div([\n",
    "#             html.H3('visualisation'),\n",
    "#             html.Div([\n",
    "       \n",
    "#                 html.H3('Total confirmed cases')\n",
    "         \n",
    "#             ], className=\"row\"),\n",
    "#             html.Div([\n",
    "       \n",
    "#             html.H3('Cases by country')\n",
    "         \n",
    "#     ], className=\"row\"),\n",
    "            \n",
    "#         ], className=\"two columns\"),\n",
    "#          html.Div([\n",
    "#             html.H3('visualisation'),\n",
    "#             html.Div([\n",
    "       \n",
    "#             html.H3('World Map')\n",
    "         \n",
    "#     ], className=\"row\"),\n",
    "            \n",
    "#         ], className=\"six columns\"),\n",
    "\n",
    "#         html.Div([\n",
    "#             html.H3('visualisation'),\n",
    "            \n",
    "            \n",
    "#             html.Div([\n",
    "#                 html.Div([\n",
    "#                     html.H3('Total Recoveries'),\n",
    "                    \n",
    "#                     ], className=\"six columns\"),\n",
    "\n",
    "#                 html.Div([\n",
    "#                     html.H3('Total Deaths'),\n",
    "\n",
    "#                     ], className=\"six columns\"),\n",
    "#     ], className=\"row\")\n",
    "            \n",
    "#         ], className=\"four columns\"),\n",
    "#     ], className=\"row\"),\n",
    "    \n",
    "#     #fOOTER\n",
    "#      html.Div([\n",
    "#         html.Div([\n",
    "#             html.H3('Footer'),\n",
    "            \n",
    "#         ], className=\"six columns\"),\n",
    "\n",
    "#         html.Div([\n",
    "#             html.H3('Footer'),\n",
    "            \n",
    "#         ], className=\"six columns\"),\n",
    "#     ], className=\"row\"),\n",
    "    \n",
    "# ])\n",
    "\n",
    "\n",
    "\n",
    "\n"
   ]
  },
  {
   "cell_type": "code",
   "execution_count": 7,
   "metadata": {},
   "outputs": [],
   "source": [
    "# #header\n",
    "    \n",
    "#     html.Div([\n",
    "#         html.Div([\n",
    "#             html.H3('Header'),\n",
    "            \n",
    "#         ], className=\"four columns\"),\n",
    "        \n",
    "\n",
    "#         html.Div([\n",
    "#             html.H3('header'),\n",
    "             \n",
    "#         ], className=\"four columns\"),\n",
    "        \n",
    "#         html.Div([\n",
    "#             html.H3('header'),\n",
    "            \n",
    "#         ], className=\"four columns\")\n",
    "#     ], className=\"row\"),\n",
    "    \n",
    "        \n",
    "#     #NavBar\n",
    "       \n",
    "#      html.Div([\n",
    "#         html.Div([\n",
    "#             html.H3('nav-bar'),\n",
    "           \n",
    "#         ], className=\"four columns\"),\n",
    "#         html.Div([\n",
    "#             html.H3('nav-bar'),\n",
    "           \n",
    "#         ], className=\"four columns\"),\n",
    "\n",
    "#         html.Div([\n",
    "#             html.H3('nav-bar'),\n",
    "            \n",
    "#         ], className=\"four columns\"),\n",
    "#     ], className=\"row\"),\n",
    "    \n",
    "#       #Band\n",
    "#      html.Div([\n",
    "       \n",
    "#             html.H3('band')\n",
    "         \n",
    "#     ], className=\"row\"),\n",
    "    \n",
    "#     #VISUALISATIONS\n",
    "#      html.Div([\n",
    "#         html.Div([\n",
    "#             html.H3('visualisation'),\n",
    "#             html.Div([\n",
    "       \n",
    "#                 html.H3('Total confirmed cases')\n",
    "         \n",
    "#             ], className=\"row\"),\n",
    "#             html.Div([\n",
    "       \n",
    "#             html.H3('Cases by country')\n",
    "         \n",
    "#     ], className=\"row\"),\n",
    "            \n",
    "#         ], className=\"two columns\"),\n",
    "#          html.Div([\n",
    "#             html.H3('visualisation'),\n",
    "#             html.Div([\n",
    "       \n",
    "#             html.H3('World Map')\n",
    "         \n",
    "#     ], className=\"row\"),\n",
    "            \n",
    "#         ], className=\"six columns\"),\n",
    "\n",
    "#         html.Div([\n",
    "#             html.H3('visualisation'),\n",
    "            \n",
    "            \n",
    "#             html.Div([\n",
    "#                 html.Div([\n",
    "#                     html.H3('Total Recoveries'),\n",
    "                    \n",
    "#                     ], className=\"six columns\"),\n",
    "\n",
    "#                 html.Div([\n",
    "#                     html.H3('Total Deaths'),\n",
    "\n",
    "#                     ], className=\"six columns\"),\n",
    "#     ], className=\"row\")\n",
    "            \n",
    "#         ], className=\"four columns\"),\n",
    "#     ], className=\"row\"),\n",
    "    \n",
    "#     #fOOTER\n",
    "#      html.Div([\n",
    "#         html.Div([\n",
    "#             html.H3('Footer'),\n",
    "            \n",
    "#         ], className=\"six columns\"),\n",
    "\n",
    "#         html.Div([\n",
    "#             html.H3('Footer'),\n",
    "            \n",
    "#         ], className=\"six columns\"),\n",
    "#     ], className=\"row\"),\n"
   ]
  },
  {
   "cell_type": "markdown",
   "metadata": {},
   "source": [
    "### Dashboard pages template"
   ]
  },
  {
   "cell_type": "code",
   "execution_count": 8,
   "metadata": {},
   "outputs": [],
   "source": [
    "# # Style sheet\n",
    "# external_stylesheets = ['https://codepen.io/chriddyp/pen/bWLwgP.css']\n",
    "\n",
    "# # App\n",
    "# app = dash.Dash(__name__, external_stylesheets=external_stylesheets)\n",
    "\n",
    "# # layout\n",
    "# app.layout = html.Div([\n",
    "    \n",
    "#     #header\n",
    "    \n",
    "#     html.Div([\n",
    "#         html.Div([\n",
    "#             html.H3('Header'),\n",
    "            \n",
    "#         ], className=\"four columns\"),\n",
    "        \n",
    "\n",
    "#         html.Div([\n",
    "#             html.H3('header'),\n",
    "             \n",
    "#         ], className=\"four columns\"),\n",
    "        \n",
    "#         html.Div([\n",
    "#             html.H3('header'),\n",
    "            \n",
    "#         ], className=\"four columns\")\n",
    "#     ], className=\"row\"),\n",
    "    \n",
    "        \n",
    "#     #NavBar\n",
    "       \n",
    "#      html.Div([\n",
    "#         html.Div([\n",
    "#             html.H3('nav-bar'),\n",
    "           \n",
    "#         ], className=\"four columns\"),\n",
    "#         html.Div([\n",
    "#             html.H3('nav-bar'),\n",
    "           \n",
    "#         ], className=\"four columns\"),\n",
    "\n",
    "#         html.Div([\n",
    "#             html.H3('nav-bar'),\n",
    "            \n",
    "#         ], className=\"four columns\"),\n",
    "#     ], className=\"row\"),\n",
    "    \n",
    "#       #Band\n",
    "#      html.Div([\n",
    "       \n",
    "#             html.H3('band')\n",
    "         \n",
    "#     ], className=\"row\"),\n",
    "    \n",
    "#     #VISUALISATIONS\n",
    "#      html.Div([\n",
    "#         html.Div([\n",
    "#             html.H3('visualisation'),\n",
    "#             html.Div([\n",
    "       \n",
    "#                 html.H3('Total confirmed cases')\n",
    "         \n",
    "#             ], className=\"row\"),\n",
    "#             html.Div([\n",
    "       \n",
    "#             html.H3('Cases by country')\n",
    "         \n",
    "#     ], className=\"row\"),\n",
    "            \n",
    "#         ], className=\"two columns\"),\n",
    "#          html.Div([\n",
    "#             html.H3('visualisation'),\n",
    "#             html.Div([\n",
    "       \n",
    "#             html.H3('World Map')\n",
    "         \n",
    "#     ], className=\"row\"),\n",
    "            \n",
    "#         ], className=\"six columns\"),\n",
    "\n",
    "#         html.Div([\n",
    "#             html.H3('visualisation'),\n",
    "            \n",
    "            \n",
    "#             html.Div([\n",
    "#                 html.Div([\n",
    "#                     html.H3('Total Recoveries'),\n",
    "                    \n",
    "#                     ], className=\"six columns\"),\n",
    "\n",
    "#                 html.Div([\n",
    "#                     html.H3('Total Deaths'),\n",
    "\n",
    "#                     ], className=\"six columns\"),\n",
    "#     ], className=\"row\")\n",
    "            \n",
    "#         ], className=\"four columns\"),\n",
    "#     ], className=\"row\"),\n",
    "    \n",
    "#     #fOOTER\n",
    "#      html.Div([\n",
    "#         html.Div([\n",
    "#             html.H3('Footer'),\n",
    "            \n",
    "#         ], className=\"six columns\"),\n",
    "\n",
    "#         html.Div([\n",
    "#             html.H3('Footer'),\n",
    "            \n",
    "#         ], className=\"six columns\"),\n",
    "#     ], className=\"row\"),\n",
    "    \n",
    "# ])\n",
    "\n",
    "# if __name__ == '__main__':\n",
    "#     app.run_server()\n"
   ]
  },
  {
   "cell_type": "code",
   "execution_count": null,
   "metadata": {},
   "outputs": [],
   "source": []
  },
  {
   "cell_type": "code",
   "execution_count": 9,
   "metadata": {},
   "outputs": [
    {
     "data": {
      "application/vnd.plotly.v1+json": {
       "config": {
        "plotlyServerURL": "https://plot.ly"
       },
       "data": [
        {
         "delta": {
          "reference": 160
         },
         "domain": {
          "column": 0,
          "row": 0
         },
         "gauge": {
          "axis": {
           "visible": false
          }
         },
         "type": "indicator",
         "value": 200
        }
       ],
       "layout": {
        "grid": {
         "columns": 5,
         "pattern": "independent",
         "rows": 5
        },
        "template": {
         "data": {
          "bar": [
           {
            "error_x": {
             "color": "#2a3f5f"
            },
            "error_y": {
             "color": "#2a3f5f"
            },
            "marker": {
             "line": {
              "color": "#E5ECF6",
              "width": 0.5
             }
            },
            "type": "bar"
           }
          ],
          "barpolar": [
           {
            "marker": {
             "line": {
              "color": "#E5ECF6",
              "width": 0.5
             }
            },
            "type": "barpolar"
           }
          ],
          "carpet": [
           {
            "aaxis": {
             "endlinecolor": "#2a3f5f",
             "gridcolor": "white",
             "linecolor": "white",
             "minorgridcolor": "white",
             "startlinecolor": "#2a3f5f"
            },
            "baxis": {
             "endlinecolor": "#2a3f5f",
             "gridcolor": "white",
             "linecolor": "white",
             "minorgridcolor": "white",
             "startlinecolor": "#2a3f5f"
            },
            "type": "carpet"
           }
          ],
          "choropleth": [
           {
            "colorbar": {
             "outlinewidth": 0,
             "ticks": ""
            },
            "type": "choropleth"
           }
          ],
          "contour": [
           {
            "colorbar": {
             "outlinewidth": 0,
             "ticks": ""
            },
            "colorscale": [
             [
              0,
              "#0d0887"
             ],
             [
              0.1111111111111111,
              "#46039f"
             ],
             [
              0.2222222222222222,
              "#7201a8"
             ],
             [
              0.3333333333333333,
              "#9c179e"
             ],
             [
              0.4444444444444444,
              "#bd3786"
             ],
             [
              0.5555555555555556,
              "#d8576b"
             ],
             [
              0.6666666666666666,
              "#ed7953"
             ],
             [
              0.7777777777777778,
              "#fb9f3a"
             ],
             [
              0.8888888888888888,
              "#fdca26"
             ],
             [
              1,
              "#f0f921"
             ]
            ],
            "type": "contour"
           }
          ],
          "contourcarpet": [
           {
            "colorbar": {
             "outlinewidth": 0,
             "ticks": ""
            },
            "type": "contourcarpet"
           }
          ],
          "heatmap": [
           {
            "colorbar": {
             "outlinewidth": 0,
             "ticks": ""
            },
            "colorscale": [
             [
              0,
              "#0d0887"
             ],
             [
              0.1111111111111111,
              "#46039f"
             ],
             [
              0.2222222222222222,
              "#7201a8"
             ],
             [
              0.3333333333333333,
              "#9c179e"
             ],
             [
              0.4444444444444444,
              "#bd3786"
             ],
             [
              0.5555555555555556,
              "#d8576b"
             ],
             [
              0.6666666666666666,
              "#ed7953"
             ],
             [
              0.7777777777777778,
              "#fb9f3a"
             ],
             [
              0.8888888888888888,
              "#fdca26"
             ],
             [
              1,
              "#f0f921"
             ]
            ],
            "type": "heatmap"
           }
          ],
          "heatmapgl": [
           {
            "colorbar": {
             "outlinewidth": 0,
             "ticks": ""
            },
            "colorscale": [
             [
              0,
              "#0d0887"
             ],
             [
              0.1111111111111111,
              "#46039f"
             ],
             [
              0.2222222222222222,
              "#7201a8"
             ],
             [
              0.3333333333333333,
              "#9c179e"
             ],
             [
              0.4444444444444444,
              "#bd3786"
             ],
             [
              0.5555555555555556,
              "#d8576b"
             ],
             [
              0.6666666666666666,
              "#ed7953"
             ],
             [
              0.7777777777777778,
              "#fb9f3a"
             ],
             [
              0.8888888888888888,
              "#fdca26"
             ],
             [
              1,
              "#f0f921"
             ]
            ],
            "type": "heatmapgl"
           }
          ],
          "histogram": [
           {
            "marker": {
             "colorbar": {
              "outlinewidth": 0,
              "ticks": ""
             }
            },
            "type": "histogram"
           }
          ],
          "histogram2d": [
           {
            "colorbar": {
             "outlinewidth": 0,
             "ticks": ""
            },
            "colorscale": [
             [
              0,
              "#0d0887"
             ],
             [
              0.1111111111111111,
              "#46039f"
             ],
             [
              0.2222222222222222,
              "#7201a8"
             ],
             [
              0.3333333333333333,
              "#9c179e"
             ],
             [
              0.4444444444444444,
              "#bd3786"
             ],
             [
              0.5555555555555556,
              "#d8576b"
             ],
             [
              0.6666666666666666,
              "#ed7953"
             ],
             [
              0.7777777777777778,
              "#fb9f3a"
             ],
             [
              0.8888888888888888,
              "#fdca26"
             ],
             [
              1,
              "#f0f921"
             ]
            ],
            "type": "histogram2d"
           }
          ],
          "histogram2dcontour": [
           {
            "colorbar": {
             "outlinewidth": 0,
             "ticks": ""
            },
            "colorscale": [
             [
              0,
              "#0d0887"
             ],
             [
              0.1111111111111111,
              "#46039f"
             ],
             [
              0.2222222222222222,
              "#7201a8"
             ],
             [
              0.3333333333333333,
              "#9c179e"
             ],
             [
              0.4444444444444444,
              "#bd3786"
             ],
             [
              0.5555555555555556,
              "#d8576b"
             ],
             [
              0.6666666666666666,
              "#ed7953"
             ],
             [
              0.7777777777777778,
              "#fb9f3a"
             ],
             [
              0.8888888888888888,
              "#fdca26"
             ],
             [
              1,
              "#f0f921"
             ]
            ],
            "type": "histogram2dcontour"
           }
          ],
          "indicator": [
           {
            "delta": {
             "reference": 90
            },
            "mode": "number+delta+gauge",
            "title": {
             "text": "Total Cases"
            },
            "type": "indicator"
           }
          ],
          "mesh3d": [
           {
            "colorbar": {
             "outlinewidth": 0,
             "ticks": ""
            },
            "type": "mesh3d"
           }
          ],
          "parcoords": [
           {
            "line": {
             "colorbar": {
              "outlinewidth": 0,
              "ticks": ""
             }
            },
            "type": "parcoords"
           }
          ],
          "pie": [
           {
            "automargin": true,
            "type": "pie"
           }
          ],
          "scatter": [
           {
            "marker": {
             "colorbar": {
              "outlinewidth": 0,
              "ticks": ""
             }
            },
            "type": "scatter"
           }
          ],
          "scatter3d": [
           {
            "line": {
             "colorbar": {
              "outlinewidth": 0,
              "ticks": ""
             }
            },
            "marker": {
             "colorbar": {
              "outlinewidth": 0,
              "ticks": ""
             }
            },
            "type": "scatter3d"
           }
          ],
          "scattercarpet": [
           {
            "marker": {
             "colorbar": {
              "outlinewidth": 0,
              "ticks": ""
             }
            },
            "type": "scattercarpet"
           }
          ],
          "scattergeo": [
           {
            "marker": {
             "colorbar": {
              "outlinewidth": 0,
              "ticks": ""
             }
            },
            "type": "scattergeo"
           }
          ],
          "scattergl": [
           {
            "marker": {
             "colorbar": {
              "outlinewidth": 0,
              "ticks": ""
             }
            },
            "type": "scattergl"
           }
          ],
          "scattermapbox": [
           {
            "marker": {
             "colorbar": {
              "outlinewidth": 0,
              "ticks": ""
             }
            },
            "type": "scattermapbox"
           }
          ],
          "scatterpolar": [
           {
            "marker": {
             "colorbar": {
              "outlinewidth": 0,
              "ticks": ""
             }
            },
            "type": "scatterpolar"
           }
          ],
          "scatterpolargl": [
           {
            "marker": {
             "colorbar": {
              "outlinewidth": 0,
              "ticks": ""
             }
            },
            "type": "scatterpolargl"
           }
          ],
          "scatterternary": [
           {
            "marker": {
             "colorbar": {
              "outlinewidth": 0,
              "ticks": ""
             }
            },
            "type": "scatterternary"
           }
          ],
          "surface": [
           {
            "colorbar": {
             "outlinewidth": 0,
             "ticks": ""
            },
            "colorscale": [
             [
              0,
              "#0d0887"
             ],
             [
              0.1111111111111111,
              "#46039f"
             ],
             [
              0.2222222222222222,
              "#7201a8"
             ],
             [
              0.3333333333333333,
              "#9c179e"
             ],
             [
              0.4444444444444444,
              "#bd3786"
             ],
             [
              0.5555555555555556,
              "#d8576b"
             ],
             [
              0.6666666666666666,
              "#ed7953"
             ],
             [
              0.7777777777777778,
              "#fb9f3a"
             ],
             [
              0.8888888888888888,
              "#fdca26"
             ],
             [
              1,
              "#f0f921"
             ]
            ],
            "type": "surface"
           }
          ],
          "table": [
           {
            "cells": {
             "fill": {
              "color": "#EBF0F8"
             },
             "line": {
              "color": "white"
             }
            },
            "header": {
             "fill": {
              "color": "#C8D4E3"
             },
             "line": {
              "color": "white"
             }
            },
            "type": "table"
           }
          ]
         },
         "layout": {
          "annotationdefaults": {
           "arrowcolor": "#2a3f5f",
           "arrowhead": 0,
           "arrowwidth": 1
          },
          "coloraxis": {
           "colorbar": {
            "outlinewidth": 0,
            "ticks": ""
           }
          },
          "colorscale": {
           "diverging": [
            [
             0,
             "#8e0152"
            ],
            [
             0.1,
             "#c51b7d"
            ],
            [
             0.2,
             "#de77ae"
            ],
            [
             0.3,
             "#f1b6da"
            ],
            [
             0.4,
             "#fde0ef"
            ],
            [
             0.5,
             "#f7f7f7"
            ],
            [
             0.6,
             "#e6f5d0"
            ],
            [
             0.7,
             "#b8e186"
            ],
            [
             0.8,
             "#7fbc41"
            ],
            [
             0.9,
             "#4d9221"
            ],
            [
             1,
             "#276419"
            ]
           ],
           "sequential": [
            [
             0,
             "#0d0887"
            ],
            [
             0.1111111111111111,
             "#46039f"
            ],
            [
             0.2222222222222222,
             "#7201a8"
            ],
            [
             0.3333333333333333,
             "#9c179e"
            ],
            [
             0.4444444444444444,
             "#bd3786"
            ],
            [
             0.5555555555555556,
             "#d8576b"
            ],
            [
             0.6666666666666666,
             "#ed7953"
            ],
            [
             0.7777777777777778,
             "#fb9f3a"
            ],
            [
             0.8888888888888888,
             "#fdca26"
            ],
            [
             1,
             "#f0f921"
            ]
           ],
           "sequentialminus": [
            [
             0,
             "#0d0887"
            ],
            [
             0.1111111111111111,
             "#46039f"
            ],
            [
             0.2222222222222222,
             "#7201a8"
            ],
            [
             0.3333333333333333,
             "#9c179e"
            ],
            [
             0.4444444444444444,
             "#bd3786"
            ],
            [
             0.5555555555555556,
             "#d8576b"
            ],
            [
             0.6666666666666666,
             "#ed7953"
            ],
            [
             0.7777777777777778,
             "#fb9f3a"
            ],
            [
             0.8888888888888888,
             "#fdca26"
            ],
            [
             1,
             "#f0f921"
            ]
           ]
          },
          "colorway": [
           "#636efa",
           "#EF553B",
           "#00cc96",
           "#ab63fa",
           "#FFA15A",
           "#19d3f3",
           "#FF6692",
           "#B6E880",
           "#FF97FF",
           "#FECB52"
          ],
          "font": {
           "color": "#2a3f5f"
          },
          "geo": {
           "bgcolor": "white",
           "lakecolor": "white",
           "landcolor": "#E5ECF6",
           "showlakes": true,
           "showland": true,
           "subunitcolor": "white"
          },
          "hoverlabel": {
           "align": "left"
          },
          "hovermode": "closest",
          "mapbox": {
           "style": "light"
          },
          "paper_bgcolor": "white",
          "plot_bgcolor": "#E5ECF6",
          "polar": {
           "angularaxis": {
            "gridcolor": "white",
            "linecolor": "white",
            "ticks": ""
           },
           "bgcolor": "#E5ECF6",
           "radialaxis": {
            "gridcolor": "white",
            "linecolor": "white",
            "ticks": ""
           }
          },
          "scene": {
           "xaxis": {
            "backgroundcolor": "#E5ECF6",
            "gridcolor": "white",
            "gridwidth": 2,
            "linecolor": "white",
            "showbackground": true,
            "ticks": "",
            "zerolinecolor": "white"
           },
           "yaxis": {
            "backgroundcolor": "#E5ECF6",
            "gridcolor": "white",
            "gridwidth": 2,
            "linecolor": "white",
            "showbackground": true,
            "ticks": "",
            "zerolinecolor": "white"
           },
           "zaxis": {
            "backgroundcolor": "#E5ECF6",
            "gridcolor": "white",
            "gridwidth": 2,
            "linecolor": "white",
            "showbackground": true,
            "ticks": "",
            "zerolinecolor": "white"
           }
          },
          "shapedefaults": {
           "line": {
            "color": "#2a3f5f"
           }
          },
          "ternary": {
           "aaxis": {
            "gridcolor": "white",
            "linecolor": "white",
            "ticks": ""
           },
           "baxis": {
            "gridcolor": "white",
            "linecolor": "white",
            "ticks": ""
           },
           "bgcolor": "#E5ECF6",
           "caxis": {
            "gridcolor": "white",
            "linecolor": "white",
            "ticks": ""
           }
          },
          "title": {
           "x": 0.05
          },
          "xaxis": {
           "automargin": true,
           "gridcolor": "white",
           "linecolor": "white",
           "ticks": "",
           "title": {
            "standoff": 15
           },
           "zerolinecolor": "white",
           "zerolinewidth": 2
          },
          "yaxis": {
           "automargin": true,
           "gridcolor": "white",
           "linecolor": "white",
           "ticks": "",
           "title": {
            "standoff": 15
           },
           "zerolinecolor": "white",
           "zerolinewidth": 2
          }
         }
        }
       }
      },
      "text/html": [
       "<div>\n",
       "        \n",
       "        \n",
       "            <div id=\"d98e1c6f-00e8-42c6-a2d4-3e07c0470dd3\" class=\"plotly-graph-div\" style=\"height:525px; width:100%;\"></div>\n",
       "            <script type=\"text/javascript\">\n",
       "                require([\"plotly\"], function(Plotly) {\n",
       "                    window.PLOTLYENV=window.PLOTLYENV || {};\n",
       "                    \n",
       "                if (document.getElementById(\"d98e1c6f-00e8-42c6-a2d4-3e07c0470dd3\")) {\n",
       "                    Plotly.newPlot(\n",
       "                        'd98e1c6f-00e8-42c6-a2d4-3e07c0470dd3',\n",
       "                        [{\"delta\": {\"reference\": 160}, \"domain\": {\"column\": 0, \"row\": 0}, \"gauge\": {\"axis\": {\"visible\": false}}, \"type\": \"indicator\", \"value\": 200}],\n",
       "                        {\"grid\": {\"columns\": 5, \"pattern\": \"independent\", \"rows\": 5}, \"template\": {\"data\": {\"bar\": [{\"error_x\": {\"color\": \"#2a3f5f\"}, \"error_y\": {\"color\": \"#2a3f5f\"}, \"marker\": {\"line\": {\"color\": \"#E5ECF6\", \"width\": 0.5}}, \"type\": \"bar\"}], \"barpolar\": [{\"marker\": {\"line\": {\"color\": \"#E5ECF6\", \"width\": 0.5}}, \"type\": \"barpolar\"}], \"carpet\": [{\"aaxis\": {\"endlinecolor\": \"#2a3f5f\", \"gridcolor\": \"white\", \"linecolor\": \"white\", \"minorgridcolor\": \"white\", \"startlinecolor\": \"#2a3f5f\"}, \"baxis\": {\"endlinecolor\": \"#2a3f5f\", \"gridcolor\": \"white\", \"linecolor\": \"white\", \"minorgridcolor\": \"white\", \"startlinecolor\": \"#2a3f5f\"}, \"type\": \"carpet\"}], \"choropleth\": [{\"colorbar\": {\"outlinewidth\": 0, \"ticks\": \"\"}, \"type\": \"choropleth\"}], \"contour\": [{\"colorbar\": {\"outlinewidth\": 0, \"ticks\": \"\"}, \"colorscale\": [[0.0, \"#0d0887\"], [0.1111111111111111, \"#46039f\"], [0.2222222222222222, \"#7201a8\"], [0.3333333333333333, \"#9c179e\"], [0.4444444444444444, \"#bd3786\"], [0.5555555555555556, \"#d8576b\"], [0.6666666666666666, \"#ed7953\"], [0.7777777777777778, \"#fb9f3a\"], [0.8888888888888888, \"#fdca26\"], [1.0, \"#f0f921\"]], \"type\": \"contour\"}], \"contourcarpet\": [{\"colorbar\": {\"outlinewidth\": 0, \"ticks\": \"\"}, \"type\": \"contourcarpet\"}], \"heatmap\": [{\"colorbar\": {\"outlinewidth\": 0, \"ticks\": \"\"}, \"colorscale\": [[0.0, \"#0d0887\"], [0.1111111111111111, \"#46039f\"], [0.2222222222222222, \"#7201a8\"], [0.3333333333333333, \"#9c179e\"], [0.4444444444444444, \"#bd3786\"], [0.5555555555555556, \"#d8576b\"], [0.6666666666666666, \"#ed7953\"], [0.7777777777777778, \"#fb9f3a\"], [0.8888888888888888, \"#fdca26\"], [1.0, \"#f0f921\"]], \"type\": \"heatmap\"}], \"heatmapgl\": [{\"colorbar\": {\"outlinewidth\": 0, \"ticks\": \"\"}, \"colorscale\": [[0.0, \"#0d0887\"], [0.1111111111111111, \"#46039f\"], [0.2222222222222222, \"#7201a8\"], [0.3333333333333333, \"#9c179e\"], [0.4444444444444444, \"#bd3786\"], [0.5555555555555556, \"#d8576b\"], [0.6666666666666666, \"#ed7953\"], [0.7777777777777778, \"#fb9f3a\"], [0.8888888888888888, \"#fdca26\"], [1.0, \"#f0f921\"]], \"type\": \"heatmapgl\"}], \"histogram\": [{\"marker\": {\"colorbar\": {\"outlinewidth\": 0, \"ticks\": \"\"}}, \"type\": \"histogram\"}], \"histogram2d\": [{\"colorbar\": {\"outlinewidth\": 0, \"ticks\": \"\"}, \"colorscale\": [[0.0, \"#0d0887\"], [0.1111111111111111, \"#46039f\"], [0.2222222222222222, \"#7201a8\"], [0.3333333333333333, \"#9c179e\"], [0.4444444444444444, \"#bd3786\"], [0.5555555555555556, \"#d8576b\"], [0.6666666666666666, \"#ed7953\"], [0.7777777777777778, \"#fb9f3a\"], [0.8888888888888888, \"#fdca26\"], [1.0, \"#f0f921\"]], \"type\": \"histogram2d\"}], \"histogram2dcontour\": [{\"colorbar\": {\"outlinewidth\": 0, \"ticks\": \"\"}, \"colorscale\": [[0.0, \"#0d0887\"], [0.1111111111111111, \"#46039f\"], [0.2222222222222222, \"#7201a8\"], [0.3333333333333333, \"#9c179e\"], [0.4444444444444444, \"#bd3786\"], [0.5555555555555556, \"#d8576b\"], [0.6666666666666666, \"#ed7953\"], [0.7777777777777778, \"#fb9f3a\"], [0.8888888888888888, \"#fdca26\"], [1.0, \"#f0f921\"]], \"type\": \"histogram2dcontour\"}], \"indicator\": [{\"delta\": {\"reference\": 90}, \"mode\": \"number+delta+gauge\", \"title\": {\"text\": \"Total Cases\"}, \"type\": \"indicator\"}], \"mesh3d\": [{\"colorbar\": {\"outlinewidth\": 0, \"ticks\": \"\"}, \"type\": \"mesh3d\"}], \"parcoords\": [{\"line\": {\"colorbar\": {\"outlinewidth\": 0, \"ticks\": \"\"}}, \"type\": \"parcoords\"}], \"pie\": [{\"automargin\": true, \"type\": \"pie\"}], \"scatter\": [{\"marker\": {\"colorbar\": {\"outlinewidth\": 0, \"ticks\": \"\"}}, \"type\": \"scatter\"}], \"scatter3d\": [{\"line\": {\"colorbar\": {\"outlinewidth\": 0, \"ticks\": \"\"}}, \"marker\": {\"colorbar\": {\"outlinewidth\": 0, \"ticks\": \"\"}}, \"type\": \"scatter3d\"}], \"scattercarpet\": [{\"marker\": {\"colorbar\": {\"outlinewidth\": 0, \"ticks\": \"\"}}, \"type\": \"scattercarpet\"}], \"scattergeo\": [{\"marker\": {\"colorbar\": {\"outlinewidth\": 0, \"ticks\": \"\"}}, \"type\": \"scattergeo\"}], \"scattergl\": [{\"marker\": {\"colorbar\": {\"outlinewidth\": 0, \"ticks\": \"\"}}, \"type\": \"scattergl\"}], \"scattermapbox\": [{\"marker\": {\"colorbar\": {\"outlinewidth\": 0, \"ticks\": \"\"}}, \"type\": \"scattermapbox\"}], \"scatterpolar\": [{\"marker\": {\"colorbar\": {\"outlinewidth\": 0, \"ticks\": \"\"}}, \"type\": \"scatterpolar\"}], \"scatterpolargl\": [{\"marker\": {\"colorbar\": {\"outlinewidth\": 0, \"ticks\": \"\"}}, \"type\": \"scatterpolargl\"}], \"scatterternary\": [{\"marker\": {\"colorbar\": {\"outlinewidth\": 0, \"ticks\": \"\"}}, \"type\": \"scatterternary\"}], \"surface\": [{\"colorbar\": {\"outlinewidth\": 0, \"ticks\": \"\"}, \"colorscale\": [[0.0, \"#0d0887\"], [0.1111111111111111, \"#46039f\"], [0.2222222222222222, \"#7201a8\"], [0.3333333333333333, \"#9c179e\"], [0.4444444444444444, \"#bd3786\"], [0.5555555555555556, \"#d8576b\"], [0.6666666666666666, \"#ed7953\"], [0.7777777777777778, \"#fb9f3a\"], [0.8888888888888888, \"#fdca26\"], [1.0, \"#f0f921\"]], \"type\": \"surface\"}], \"table\": [{\"cells\": {\"fill\": {\"color\": \"#EBF0F8\"}, \"line\": {\"color\": \"white\"}}, \"header\": {\"fill\": {\"color\": \"#C8D4E3\"}, \"line\": {\"color\": \"white\"}}, \"type\": \"table\"}]}, \"layout\": {\"annotationdefaults\": {\"arrowcolor\": \"#2a3f5f\", \"arrowhead\": 0, \"arrowwidth\": 1}, \"coloraxis\": {\"colorbar\": {\"outlinewidth\": 0, \"ticks\": \"\"}}, \"colorscale\": {\"diverging\": [[0, \"#8e0152\"], [0.1, \"#c51b7d\"], [0.2, \"#de77ae\"], [0.3, \"#f1b6da\"], [0.4, \"#fde0ef\"], [0.5, \"#f7f7f7\"], [0.6, \"#e6f5d0\"], [0.7, \"#b8e186\"], [0.8, \"#7fbc41\"], [0.9, \"#4d9221\"], [1, \"#276419\"]], \"sequential\": [[0.0, \"#0d0887\"], [0.1111111111111111, \"#46039f\"], [0.2222222222222222, \"#7201a8\"], [0.3333333333333333, \"#9c179e\"], [0.4444444444444444, \"#bd3786\"], [0.5555555555555556, \"#d8576b\"], [0.6666666666666666, \"#ed7953\"], [0.7777777777777778, \"#fb9f3a\"], [0.8888888888888888, \"#fdca26\"], [1.0, \"#f0f921\"]], \"sequentialminus\": [[0.0, \"#0d0887\"], [0.1111111111111111, \"#46039f\"], [0.2222222222222222, \"#7201a8\"], [0.3333333333333333, \"#9c179e\"], [0.4444444444444444, \"#bd3786\"], [0.5555555555555556, \"#d8576b\"], [0.6666666666666666, \"#ed7953\"], [0.7777777777777778, \"#fb9f3a\"], [0.8888888888888888, \"#fdca26\"], [1.0, \"#f0f921\"]]}, \"colorway\": [\"#636efa\", \"#EF553B\", \"#00cc96\", \"#ab63fa\", \"#FFA15A\", \"#19d3f3\", \"#FF6692\", \"#B6E880\", \"#FF97FF\", \"#FECB52\"], \"font\": {\"color\": \"#2a3f5f\"}, \"geo\": {\"bgcolor\": \"white\", \"lakecolor\": \"white\", \"landcolor\": \"#E5ECF6\", \"showlakes\": true, \"showland\": true, \"subunitcolor\": \"white\"}, \"hoverlabel\": {\"align\": \"left\"}, \"hovermode\": \"closest\", \"mapbox\": {\"style\": \"light\"}, \"paper_bgcolor\": \"white\", \"plot_bgcolor\": \"#E5ECF6\", \"polar\": {\"angularaxis\": {\"gridcolor\": \"white\", \"linecolor\": \"white\", \"ticks\": \"\"}, \"bgcolor\": \"#E5ECF6\", \"radialaxis\": {\"gridcolor\": \"white\", \"linecolor\": \"white\", \"ticks\": \"\"}}, \"scene\": {\"xaxis\": {\"backgroundcolor\": \"#E5ECF6\", \"gridcolor\": \"white\", \"gridwidth\": 2, \"linecolor\": \"white\", \"showbackground\": true, \"ticks\": \"\", \"zerolinecolor\": \"white\"}, \"yaxis\": {\"backgroundcolor\": \"#E5ECF6\", \"gridcolor\": \"white\", \"gridwidth\": 2, \"linecolor\": \"white\", \"showbackground\": true, \"ticks\": \"\", \"zerolinecolor\": \"white\"}, \"zaxis\": {\"backgroundcolor\": \"#E5ECF6\", \"gridcolor\": \"white\", \"gridwidth\": 2, \"linecolor\": \"white\", \"showbackground\": true, \"ticks\": \"\", \"zerolinecolor\": \"white\"}}, \"shapedefaults\": {\"line\": {\"color\": \"#2a3f5f\"}}, \"ternary\": {\"aaxis\": {\"gridcolor\": \"white\", \"linecolor\": \"white\", \"ticks\": \"\"}, \"baxis\": {\"gridcolor\": \"white\", \"linecolor\": \"white\", \"ticks\": \"\"}, \"bgcolor\": \"#E5ECF6\", \"caxis\": {\"gridcolor\": \"white\", \"linecolor\": \"white\", \"ticks\": \"\"}}, \"title\": {\"x\": 0.05}, \"xaxis\": {\"automargin\": true, \"gridcolor\": \"white\", \"linecolor\": \"white\", \"ticks\": \"\", \"title\": {\"standoff\": 15}, \"zerolinecolor\": \"white\", \"zerolinewidth\": 2}, \"yaxis\": {\"automargin\": true, \"gridcolor\": \"white\", \"linecolor\": \"white\", \"ticks\": \"\", \"title\": {\"standoff\": 15}, \"zerolinecolor\": \"white\", \"zerolinewidth\": 2}}}},\n",
       "                        {\"responsive\": true}\n",
       "                    ).then(function(){\n",
       "                            \n",
       "var gd = document.getElementById('d98e1c6f-00e8-42c6-a2d4-3e07c0470dd3');\n",
       "var x = new MutationObserver(function (mutations, observer) {{\n",
       "        var display = window.getComputedStyle(gd).display;\n",
       "        if (!display || display === 'none') {{\n",
       "            console.log([gd, 'removed!']);\n",
       "            Plotly.purge(gd);\n",
       "            observer.disconnect();\n",
       "        }}\n",
       "}});\n",
       "\n",
       "// Listen for the removal of the full notebook cells\n",
       "var notebookContainer = gd.closest('#notebook-container');\n",
       "if (notebookContainer) {{\n",
       "    x.observe(notebookContainer, {childList: true});\n",
       "}}\n",
       "\n",
       "// Listen for the clearing of the current output cell\n",
       "var outputEl = gd.closest('.output');\n",
       "if (outputEl) {{\n",
       "    x.observe(outputEl, {childList: true});\n",
       "}}\n",
       "\n",
       "                        })\n",
       "                };\n",
       "                });\n",
       "            </script>\n",
       "        </div>"
      ]
     },
     "metadata": {},
     "output_type": "display_data"
    }
   ],
   "source": [
    "import plotly.graph_objects as go\n",
    "\n",
    "fig1 = go.Figure(go.Indicator(\n",
    "    \n",
    "    value = 200,\n",
    "    delta = {'reference': 160},\n",
    "    gauge = {\n",
    "        'axis': {'visible': False}},\n",
    "    domain = {'row': 0, 'column': 0}))\n",
    "\n",
    "fig1 = fig1.update_layout(\n",
    "    grid = {'rows': 5, 'columns': 5, 'pattern': \"independent\"},\n",
    "    template = {'data' : {'indicator': [{\n",
    "        'title': {'text': \"Total Cases\"},\n",
    "        'mode' : \"number+delta+gauge\",\n",
    "        'delta' : {'reference': 90}}]\n",
    "                         }})\n",
    "fig1.show()"
   ]
  },
  {
   "cell_type": "code",
   "execution_count": 10,
   "metadata": {},
   "outputs": [],
   "source": [
    "#Style sheet\n",
    "external_stylesheets = ['https://codepen.io/chriddyp/pen/bWLwgP.css']\n",
    "\n",
    "# App\n",
    "app = dash.Dash(__name__, external_stylesheets=external_stylesheets)\n",
    "\n",
    "app.layout = html.Div(children=[\n",
    "        #header\n",
    "    \n",
    "    html.Div([\n",
    "        html.Div([\n",
    "            html.Img(src=\"https://dcassetcdn.com/design_img/3666062/781819/781819_21156990_3666062_e336b60a_image.png\",className='four columns')\n",
    "            \n",
    "        ], className=\"four columns\"),\n",
    "        \n",
    "\n",
    "        html.Div([\n",
    "            html.H3('Latest Covid 19 Update', style={\n",
    "                                'fontFamily': 'Open Sans',\n",
    "                                'textAlign': 'center',\n",
    "                            }),\n",
    "             \n",
    "        ], className=\"four columns\"),\n",
    "        \n",
    "        html.Div([\n",
    "            html.H3('#StayAtHome', style={\n",
    "                                'fontFamily': 'Open Sans',\n",
    "                                'textAlign': 'right',\n",
    "                            }),\n",
    "            \n",
    "        ], className=\"four columns\")\n",
    "    ], className=\"row\"),\n",
    "    \n",
    "    dcc.Tabs(id='tabs-example', value='tab', children=[\n",
    "        dcc.Tab(label='Global Map', value='tab-1'),\n",
    "        dcc.Tab(label='South African cases', value='tab-2'),\n",
    "        dcc.Tab(label='Analysis', value='tab-3'),\n",
    "    ]),\n",
    "    html.Div(id='tabs-example-content')\n",
    "])"
   ]
  },
  {
   "cell_type": "code",
   "execution_count": 11,
   "metadata": {},
   "outputs": [],
   "source": [
    "@app.callback(Output('tabs-example-content', 'children'),\n",
    "              [Input('tabs-example', 'value')])\n",
    "def render_content(tab):\n",
    "    \n",
    "    if tab == 'tab-1':\n",
    "        return html.Div([\n",
    "            html.Div([\n",
    "                dcc.Graph(\n",
    "                                    \n",
    "                                        id='figure',\n",
    "                                        figure=\n",
    "                                          go.Figure(fig1)\n",
    "                                    ),\n",
    "                \n",
    "                #VISUALISATIONS\n",
    "     \n",
    "                html.Div([\n",
    "                    dcc.Graph(\n",
    "                                    \n",
    "                                        id='figure',\n",
    "                                        figure=\n",
    "                                          go.Figure(fig1)\n",
    "                                    ),\n",
    "                    html.H3('visualisation', style={\n",
    "                                'fontFamily': 'Open Sans',\n",
    "                                'textAlign': 'center',\n",
    "                            }),\n",
    "                    html.Div([\n",
    "                        \n",
    "                        html.Div(\n",
    "                            [\n",
    "                                  dcc.Graph(\n",
    "                                    \n",
    "                                        id='figure',\n",
    "                                        figure=\n",
    "                                          go.Figure(fig1)\n",
    "                                    ),\n",
    "                                \n",
    "                            ])\n",
    "                    ], className=\"row\"),\n",
    "                    html.Div([\n",
    "\n",
    "                    html.H3('Cases by country')\n",
    "\n",
    "            ], className=\"row\"),\n",
    "\n",
    "                ], className=\"two columns\"),\n",
    "                 html.Div([\n",
    "                    html.H3('visualisation',style={\n",
    "                                'fontFamily': 'Open Sans',\n",
    "                                'textAlign': 'center',\n",
    "                            }),\n",
    "                    html.Div([\n",
    "\n",
    "                    html.H3('World Map',style={\n",
    "                                'fontFamily': 'Open Sans',\n",
    "                                'textAlign': 'center',\n",
    "                            })\n",
    "\n",
    "            ], className=\"row\"),\n",
    "\n",
    "                ], className=\"six columns\"),\n",
    "\n",
    "                html.Div([\n",
    "                    html.H3('visualisation',style={\n",
    "                                'fontFamily': 'Open Sans',\n",
    "                                'textAlign': 'center',\n",
    "                            }),\n",
    "\n",
    "\n",
    "                    html.Div([\n",
    "                        html.Div([\n",
    "                            html.H3('Total Recoveries'),\n",
    "\n",
    "                            ], className=\"six columns\"),\n",
    "\n",
    "                        html.Div([\n",
    "                            html.H3('Total Deaths'),\n",
    "\n",
    "                            ], className=\"six columns\"),\n",
    "            ], className=\"row\")\n",
    "\n",
    "                ], className=\"four columns\"),\n",
    "            ], className=\"row\"),\n",
    "\n",
    "            #fOOTER\n",
    "             html.Div([\n",
    "                html.Div([\n",
    "                    html.H3('Footer'),\n",
    "\n",
    "                ], className=\"six columns\"),\n",
    "\n",
    "                html.Div([\n",
    "                    html.H3('Footer'),\n",
    "\n",
    "                ], className=\"six columns\"),\n",
    "            ], className=\"row\"),\n",
    "        ])\n",
    "\n",
    "    elif tab == 'tab-2':   \n",
    "        return html.P(\"You got it T\")\n",
    "    else:\n",
    "        return html.H1('O ntja saan!!!')\n",
    "    \n",
    "\n",
    "\n",
    "# if __name__ == '__main__':\n",
    "#     app.run_server()"
   ]
  },
  {
   "cell_type": "code",
   "execution_count": 12,
   "metadata": {},
   "outputs": [
    {
     "ename": "SyntaxError",
     "evalue": "can't assign to literal (<ipython-input-12-ea9379c0e959>, line 1)",
     "output_type": "error",
     "traceback": [
      "\u001b[0;36m  File \u001b[0;32m\"<ipython-input-12-ea9379c0e959>\"\u001b[0;36m, line \u001b[0;32m1\u001b[0m\n\u001b[0;31m    width=800, height=400\u001b[0m\n\u001b[0m         ^\u001b[0m\n\u001b[0;31mSyntaxError\u001b[0m\u001b[0;31m:\u001b[0m can't assign to literal\n"
     ]
    }
   ],
   "source": [
    "width=800, height=400"
   ]
  },
  {
   "cell_type": "code",
   "execution_count": null,
   "metadata": {},
   "outputs": [],
   "source": []
  }
 ],
 "metadata": {
  "kernelspec": {
   "display_name": "Python 3",
   "language": "python",
   "name": "python3"
  },
  "language_info": {
   "codemirror_mode": {
    "name": "ipython",
    "version": 3
   },
   "file_extension": ".py",
   "mimetype": "text/x-python",
   "name": "python",
   "nbconvert_exporter": "python",
   "pygments_lexer": "ipython3",
   "version": "3.6.9"
  }
 },
 "nbformat": 4,
 "nbformat_minor": 4
}
