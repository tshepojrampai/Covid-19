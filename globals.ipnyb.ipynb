{
 "cells": [
  {
   "cell_type": "code",
   "execution_count": null,
   "metadata": {},
   "outputs": [],
   "source": [
    "# Style sheet\n",
    "external_stylesheets = ['https://codepen.io/chriddyp/pen/bWLwgP.css']\n",
    "\n",
    "# App\n",
    "app = dash.Dash(__name__, external_stylesheets=external_stylesheets)\n",
    "\n",
    "# layout\n",
    "app.layout = html.Div(children=[\n",
    "    html.H1(\n",
    "        children='Brazil Forest Fires',\n",
    "        style={\n",
    "            'textAlign': 'center',\n",
    "            'color': 'green'\n",
    "        }\n",
    "    ),\n",
    "    dcc.Tabs(id='tabs-example', value='tab', children=[\n",
    "        dcc.Tab(label='Fire per state', value='tab-1'),\n",
    "        dcc.Tab(label='Fires per year', value='tab-2'),\n",
    "        dcc.Tab(label='Fires per year and month', value='tab-3'),\n",
    "    ]),\n",
    "    html.Div(id='tabs-example-content')\n",
    "])"
   ]
  },
  {
   "cell_type": "code",
   "execution_count": null,
   "metadata": {},
   "outputs": [],
   "source": []
  }
 ],
 "metadata": {
  "kernelspec": {
   "display_name": "Python 3.7.3 64-bit ('base': conda)",
   "language": "python",
   "name": "python37364bitbaseconda82eaecb2309445e7829fb0255fef3f99"
  }
 },
 "nbformat": 4,
 "nbformat_minor": 4
}
