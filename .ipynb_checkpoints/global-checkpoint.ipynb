{
 "cells": [
  {
   "cell_type": "code",
   "execution_count": null,
   "metadata": {},
   "outputs": [],
   "source": [
    ",jnm"
   ]
  }
 ],
 "metadata": {
  "kernelspec": {
   "display_name": "Python 3.7.3 64-bit ('base': conda)",
   "language": "python",
   "name": "python37364bitbaseconda82eaecb2309445e7829fb0255fef3f99"
  }
 },
 "nbformat": 4,
 "nbformat_minor": 4
}
