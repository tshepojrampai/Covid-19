{
 "cells": [
  {
   "cell_type": "code",
   "execution_count": 1,
   "metadata": {},
   "outputs": [
    {
     "name": "stderr",
     "output_type": "stream",
     "text": [
      "/home/tshepo/anaconda3/lib/python3.7/site-packages/ipykernel_launcher.py:19: FutureWarning: pandas.io.json.json_normalize is deprecated, use pandas.json_normalize instead\n"
     ]
    },
    {
     "data": {
      "text/html": [
       "<div>\n",
       "<style scoped>\n",
       "    .dataframe tbody tr th:only-of-type {\n",
       "        vertical-align: middle;\n",
       "    }\n",
       "\n",
       "    .dataframe tbody tr th {\n",
       "        vertical-align: top;\n",
       "    }\n",
       "\n",
       "    .dataframe thead th {\n",
       "        text-align: right;\n",
       "    }\n",
       "</style>\n",
       "<table border=\"1\" class=\"dataframe\">\n",
       "  <thead>\n",
       "    <tr style=\"text-align: right;\">\n",
       "      <th></th>\n",
       "      <th>Differences</th>\n",
       "      <th>Country</th>\n",
       "      <th>CountryCode</th>\n",
       "      <th>NewConfirmed</th>\n",
       "      <th>TotalConfirmed</th>\n",
       "      <th>NewDeaths</th>\n",
       "      <th>TotalDeaths</th>\n",
       "      <th>NewRecovered</th>\n",
       "      <th>TotalRecovered</th>\n",
       "      <th>Date</th>\n",
       "    </tr>\n",
       "  </thead>\n",
       "  <tbody>\n",
       "    <tr>\n",
       "      <th>1</th>\n",
       "      <td>7bdefbe3-8574-4835-9bb2-29c1fcdb92a5</td>\n",
       "      <td>Tajikistan</td>\n",
       "      <td>TJ</td>\n",
       "      <td>0</td>\n",
       "      <td>0</td>\n",
       "      <td>0</td>\n",
       "      <td>0</td>\n",
       "      <td>0</td>\n",
       "      <td>0</td>\n",
       "      <td>2020-04-04T23:02:35Z</td>\n",
       "    </tr>\n",
       "    <tr>\n",
       "      <th>2</th>\n",
       "      <td>7bdefbe3-8574-4835-9bb2-29c1fcdb92a5</td>\n",
       "      <td>Guernsey</td>\n",
       "      <td>GG</td>\n",
       "      <td>0</td>\n",
       "      <td>0</td>\n",
       "      <td>0</td>\n",
       "      <td>0</td>\n",
       "      <td>0</td>\n",
       "      <td>0</td>\n",
       "      <td>2020-04-04T23:02:35Z</td>\n",
       "    </tr>\n",
       "    <tr>\n",
       "      <th>3</th>\n",
       "      <td>7bdefbe3-8574-4835-9bb2-29c1fcdb92a5</td>\n",
       "      <td>Egypt</td>\n",
       "      <td>EG</td>\n",
       "      <td>120</td>\n",
       "      <td>985</td>\n",
       "      <td>8</td>\n",
       "      <td>66</td>\n",
       "      <td>15</td>\n",
       "      <td>216</td>\n",
       "      <td>2020-04-04T23:02:35Z</td>\n",
       "    </tr>\n",
       "    <tr>\n",
       "      <th>4</th>\n",
       "      <td>7bdefbe3-8574-4835-9bb2-29c1fcdb92a5</td>\n",
       "      <td>Eritrea</td>\n",
       "      <td>ER</td>\n",
       "      <td>0</td>\n",
       "      <td>22</td>\n",
       "      <td>0</td>\n",
       "      <td>0</td>\n",
       "      <td>0</td>\n",
       "      <td>0</td>\n",
       "      <td>2020-04-04T23:02:35Z</td>\n",
       "    </tr>\n",
       "    <tr>\n",
       "      <th>5</th>\n",
       "      <td>7bdefbe3-8574-4835-9bb2-29c1fcdb92a5</td>\n",
       "      <td>Turkey</td>\n",
       "      <td>TR</td>\n",
       "      <td>2786</td>\n",
       "      <td>20921</td>\n",
       "      <td>69</td>\n",
       "      <td>425</td>\n",
       "      <td>69</td>\n",
       "      <td>484</td>\n",
       "      <td>2020-04-04T23:02:35Z</td>\n",
       "    </tr>\n",
       "  </tbody>\n",
       "</table>\n",
       "</div>"
      ],
      "text/plain": [
       "                            Differences     Country CountryCode  NewConfirmed  \\\n",
       "1  7bdefbe3-8574-4835-9bb2-29c1fcdb92a5  Tajikistan          TJ             0   \n",
       "2  7bdefbe3-8574-4835-9bb2-29c1fcdb92a5    Guernsey          GG             0   \n",
       "3  7bdefbe3-8574-4835-9bb2-29c1fcdb92a5       Egypt          EG           120   \n",
       "4  7bdefbe3-8574-4835-9bb2-29c1fcdb92a5     Eritrea          ER             0   \n",
       "5  7bdefbe3-8574-4835-9bb2-29c1fcdb92a5      Turkey          TR          2786   \n",
       "\n",
       "   TotalConfirmed  NewDeaths  TotalDeaths  NewRecovered  TotalRecovered  \\\n",
       "1               0          0            0             0               0   \n",
       "2               0          0            0             0               0   \n",
       "3             985          8           66            15             216   \n",
       "4              22          0            0             0               0   \n",
       "5           20921         69          425            69             484   \n",
       "\n",
       "                   Date  \n",
       "1  2020-04-04T23:02:35Z  \n",
       "2  2020-04-04T23:02:35Z  \n",
       "3  2020-04-04T23:02:35Z  \n",
       "4  2020-04-04T23:02:35Z  \n",
       "5  2020-04-04T23:02:35Z  "
      ]
     },
     "execution_count": 1,
     "metadata": {},
     "output_type": "execute_result"
    }
   ],
   "source": [
    "import requests\n",
    "from pandas.io.json import json_normalize\n",
    "\n",
    "class color:\n",
    "    PURPLE = '\\033[95m'\n",
    "    CYAN = '\\033[96m'\n",
    "    DARKCYAN = '\\033[36m'\n",
    "    BLUE = '\\033[94m'\n",
    "    GREEN = '\\033[92m'\n",
    "    YELLOW = '\\033[93m'\n",
    "    RED = '\\033[91m'\n",
    "    BOLD = '\\033[1m'\n",
    "    UNDERLINE = '\\033[4m'\n",
    "    END = '\\033[0m'\n",
    "url = 'https://api.covid19api.com/summary'\n",
    "r = requests.get(url)\n",
    "dictr = r.json()\n",
    "header = dictr['Countries']\n",
    "df = json_normalize(header)\n",
    "df = df.drop(df.index[[0,224]])\n",
    "df = df.drop(columns = 'Slug')\n",
    "df.head()"
   ]
  },
  {
   "cell_type": "code",
   "execution_count": 2,
   "metadata": {},
   "outputs": [
    {
     "name": "stdout",
     "output_type": "stream",
     "text": [
      "\u001b[1mGlabal Covid 19 Virus statistics as at: \u001b[0m 2020-04-04T23:02:35Z\n",
      "\u001b[1m\u001b[4mTotal Confirmed Cases: \u001b[0m \n",
      " Number of cases 1094249\n",
      "\u001b[1m\u001b[4mRecoveries World wide: \u001b[0m \n",
      " Number of cases 215459\n",
      "\u001b[1m\u001b[4mTotal Deaths: \u001b[0m \n",
      " Number of cases 58771\n"
     ]
    },
    {
     "data": {
      "text/html": [
       "<table style=\"display:inline\" border=\"1\" class=\"dataframe\">\n",
       "  <thead>\n",
       "    <tr style=\"text-align: right;\">\n",
       "      <th></th>\n",
       "      <th>Country</th>\n",
       "      <th>TotalConfirmed</th>\n",
       "      <th>NewConfirmed</th>\n",
       "    </tr>\n",
       "  </thead>\n",
       "  <tbody>\n",
       "    <tr>\n",
       "      <th>44</th>\n",
       "      <td>United States of America</td>\n",
       "      <td>275582</td>\n",
       "      <td>32129</td>\n",
       "    </tr>\n",
       "    <tr>\n",
       "      <th>188</th>\n",
       "      <td>Italy</td>\n",
       "      <td>119827</td>\n",
       "      <td>4585</td>\n",
       "    </tr>\n",
       "    <tr>\n",
       "      <th>218</th>\n",
       "      <td>Spain</td>\n",
       "      <td>119199</td>\n",
       "      <td>7134</td>\n",
       "    </tr>\n",
       "    <tr>\n",
       "      <th>229</th>\n",
       "      <td>Germany</td>\n",
       "      <td>91159</td>\n",
       "      <td>6365</td>\n",
       "    </tr>\n",
       "  </tbody>\n",
       "</table style=\"display:inline\"><table style=\"display:inline\" border=\"1\" class=\"dataframe\">\n",
       "  <thead>\n",
       "    <tr style=\"text-align: right;\">\n",
       "      <th></th>\n",
       "      <th>Country</th>\n",
       "      <th>TotalDeaths</th>\n",
       "      <th>NewDeaths</th>\n",
       "    </tr>\n",
       "  </thead>\n",
       "  <tbody>\n",
       "    <tr>\n",
       "      <th>188</th>\n",
       "      <td>Italy</td>\n",
       "      <td>14681</td>\n",
       "      <td>766</td>\n",
       "    </tr>\n",
       "    <tr>\n",
       "      <th>218</th>\n",
       "      <td>Spain</td>\n",
       "      <td>11198</td>\n",
       "      <td>850</td>\n",
       "    </tr>\n",
       "    <tr>\n",
       "      <th>44</th>\n",
       "      <td>United States of America</td>\n",
       "      <td>7087</td>\n",
       "      <td>1161</td>\n",
       "    </tr>\n",
       "    <tr>\n",
       "      <th>31</th>\n",
       "      <td>France</td>\n",
       "      <td>6520</td>\n",
       "      <td>1122</td>\n",
       "    </tr>\n",
       "  </tbody>\n",
       "</table style=\"display:inline\"><table style=\"display:inline\" border=\"1\" class=\"dataframe\">\n",
       "  <thead>\n",
       "    <tr style=\"text-align: right;\">\n",
       "      <th></th>\n",
       "      <th>Country</th>\n",
       "      <th>TotalRecovered</th>\n",
       "      <th>NewRecovered</th>\n",
       "    </tr>\n",
       "  </thead>\n",
       "  <tbody>\n",
       "    <tr>\n",
       "      <th>78</th>\n",
       "      <td>China</td>\n",
       "      <td>76760</td>\n",
       "      <td>195</td>\n",
       "    </tr>\n",
       "    <tr>\n",
       "      <th>218</th>\n",
       "      <td>Spain</td>\n",
       "      <td>30513</td>\n",
       "      <td>3770</td>\n",
       "    </tr>\n",
       "    <tr>\n",
       "      <th>229</th>\n",
       "      <td>Germany</td>\n",
       "      <td>24575</td>\n",
       "      <td>2135</td>\n",
       "    </tr>\n",
       "    <tr>\n",
       "      <th>188</th>\n",
       "      <td>Italy</td>\n",
       "      <td>19758</td>\n",
       "      <td>1480</td>\n",
       "    </tr>\n",
       "  </tbody>\n",
       "</table style=\"display:inline\">"
      ]
     },
     "metadata": {},
     "output_type": "display_data"
    }
   ],
   "source": [
    "#Summing per column\n",
    "tot_cases = df.TotalConfirmed.sum()\n",
    "nw_cases = df.NewConfirmed.sum()\n",
    "tot_deaths = df.TotalDeaths.sum()\n",
    "new_deaths = df.NewDeaths.sum()\n",
    "tot_recover = df.TotalRecovered.sum()\n",
    "new_recover = df.NewRecovered.sum()\n",
    "\n",
    "#Separating columns\n",
    "import pandas as pd\n",
    "\n",
    "#Corona  cases: Total and New\n",
    "df_tot_cases = df.loc[:,['Country','TotalConfirmed']]\n",
    "df_new_cases = df.loc[:,['Country','NewConfirmed']]\n",
    "\n",
    "#Death Cases: Total and New \n",
    "df_tot_death = df.loc[:,['Country','TotalDeaths']]\n",
    "df_new_death = df.loc[:,['Country','NewDeaths']]\n",
    "\n",
    "#Recovery cases: Total and new\n",
    "df_tot_recover = df.loc[:,['Country','TotalRecovered']]\n",
    "df_new_recover = df.loc[:,['Country','NewRecovered']]\n",
    "                      \n",
    "#Sorting cases by total                     \n",
    "df_cases = df_tot_cases.merge(df_new_cases, on='Country').sort_values(by=['TotalConfirmed'], ascending=False).head(4)\n",
    "df_death = df_tot_death.merge(df_new_death, on='Country').sort_values(by=['TotalDeaths'], ascending=False).head(4)\n",
    "df_recover = df_tot_recover.merge(df_new_recover, on='Country').sort_values(by=['TotalRecovered'], ascending=False).head(4)\n",
    "# Print statement to be turned to buttons\n",
    "print(color.BOLD + 'Glabal Covid 19 Virus statistics as at: '\n",
    "      + color.END,df.Date[1])\n",
    "print(color.BOLD + color.UNDERLINE +'Total Confirmed Cases: ' \n",
    "      + color.END ,'\\n','Number of cases', tot_cases)\n",
    "print(color.BOLD + color.UNDERLINE +'Recoveries World wide: ' \n",
    "      + color.END ,'\\n','Number of cases', tot_recover)\n",
    "print(color.BOLD + color.UNDERLINE +'Total Deaths: ' \n",
    "      + color.END ,'\\n','Number of cases', tot_deaths)\n",
    "\n",
    "#Displaying dataframes side by side\n",
    "from IPython.display import display_html\n",
    "def display_side_by_side(*args):\n",
    "    html_str=''\n",
    "    for df in args:\n",
    "        html_str+=df.to_html()\n",
    "    display_html(html_str.replace('table','table style=\"display:inline\"'),\n",
    "                 raw=True)\n",
    "\n",
    "display_side_by_side(df_cases ,df_death,df_recover)\n",
    "\n"
   ]
  },
  {
   "cell_type": "code",
   "execution_count": 3,
   "metadata": {},
   "outputs": [
    {
     "data": {
      "text/html": [
       "        <script type=\"text/javascript\">\n",
       "        window.PlotlyConfig = {MathJaxConfig: 'local'};\n",
       "        if (window.MathJax) {MathJax.Hub.Config({SVG: {font: \"STIX-Web\"}});}\n",
       "        if (typeof require !== 'undefined') {\n",
       "        require.undef(\"plotly\");\n",
       "        requirejs.config({\n",
       "            paths: {\n",
       "                'plotly': ['https://cdn.plot.ly/plotly-latest.min']\n",
       "            }\n",
       "        });\n",
       "        require(['plotly'], function(Plotly) {\n",
       "            window._Plotly = Plotly;\n",
       "        });\n",
       "        }\n",
       "        </script>\n",
       "        "
      ]
     },
     "metadata": {},
     "output_type": "display_data"
    },
    {
     "data": {
      "application/vnd.plotly.v1+json": {
       "config": {
        "linkText": "Export to plot.ly",
        "plotlyServerURL": "https://plot.ly",
        "showLink": false
       },
       "data": [
        {
         "autocolorscale": true,
         "colorbar": {
          "title": {
           "text": "Total Covid 19 cases"
          }
         },
         "locationmode": "country names",
         "locations": [
          "Tajikistan",
          "Guernsey",
          "Egypt",
          "Eritrea",
          "Turkey",
          "Tanzania, United Republic of",
          "Paraguay",
          "Republic of Kosovo",
          "Saint Pierre and Miquelon",
          "Morocco",
          "Turks and Caicos Islands",
          "United Arab Emirates",
          "Angola",
          "Haiti",
          "Aruba",
          "Luxembourg",
          "Ireland",
          "Tonga",
          "Togo",
          "Moldova",
          "Korea (North)",
          "Venezuela (Bolivarian Republic)",
          "Korea (South)",
          "Comoros",
          "Cape Verde",
          "US Minor Outlying Islands",
          "Norfolk Island",
          "French Southern Territories",
          "Ukraine",
          "Mozambique",
          "Chad",
          "France",
          "Syrian Arab Republic (Syria)",
          "Burundi",
          "Wallis and Futuna Islands",
          "South Africa",
          "Guadeloupe",
          "Saint Vincent and Grenadines",
          "Niger",
          "Zimbabwe",
          "Cocos (Keeling) Islands",
          "Sao Tome and Principe",
          "Senegal",
          "Nigeria",
          "United States of America",
          "Sudan",
          "Mauritania",
          "Iceland",
          "Antigua and Barbuda",
          "New Caledonia",
          "Bahrain",
          "Cuba",
          "Bahamas",
          "Guam",
          "Lao PDR",
          "Kiribati",
          "Papua New Guinea",
          "Cameroon",
          "New Zealand",
          "Azerbaijan",
          "Australia",
          "Colombia",
          "Romania",
          "Myanmar",
          "Kuwait",
          "Iran, Islamic Republic of",
          "India",
          "Lesotho",
          "Chile",
          "Gibraltar",
          "Guinea",
          "Uzbekistan",
          "Guatemala",
          "Hong Kong, SAR China",
          "Uganda",
          "Saint Kitts and Nevis",
          "Netherlands Antilles",
          "French Polynesia",
          "China",
          "Virgin Islands, US",
          "Guyana",
          "Christmas Island",
          "Côte d'Ivoire",
          "Guinea-Bissau",
          "Dominica",
          "Georgia",
          "Faroe Islands",
          "Portugal",
          "Bangladesh",
          "Palestinian Territory",
          "Belgium",
          "Greece",
          "Yemen",
          "Monaco",
          "Holy See (Vatican City State)",
          "Solomon Islands",
          "Kyrgyzstan",
          "Saudi Arabia",
          "Estonia",
          "Andorra",
          "Malta",
          "Fiji",
          "Grenada",
          "Ecuador",
          "Heard and Mcdonald Islands",
          "Libya",
          "Mongolia",
          "Pitcairn",
          "Kenya",
          "Argentina",
          "Tuvalu",
          "Cayman Islands",
          "South Sudan",
          "Uruguay",
          "Falkland Islands (Malvinas)",
          "Malaysia",
          "El Salvador",
          "Cyprus",
          "Ghana",
          "French Guiana",
          "Saint-Martin (French part)",
          "Somalia",
          "Cambodia",
          "Mexico",
          "Afghanistan",
          "Nepal",
          "Bouvet Island",
          "Pakistan",
          "Armenia",
          "British Indian Ocean Territory",
          "Congo (Brazzaville)",
          "Lebanon",
          "Samoa",
          "San Marino",
          "United Kingdom",
          "Antarctica",
          "Sweden",
          "Turkmenistan",
          "Micronesia, Federated States of",
          "Bhutan",
          "Brunei Darussalam",
          "Oman",
          "Bolivia",
          "Tunisia",
          "Isle of Man",
          "Central African Republic",
          "Djibouti",
          "Mayotte",
          "Bulgaria",
          "Taiwan, Republic of China",
          "Switzerland",
          "Mali",
          "Croatia",
          "Western Sahara",
          "Panama",
          "ALA Aland Islands",
          "Namibia",
          "Marshall Islands",
          "British Virgin Islands",
          "Jamaica",
          "Belize",
          "Japan",
          "Philippines",
          "Albania",
          "Costa Rica",
          "Russian Federation",
          "Thailand",
          "Macao, SAR China",
          "Anguilla",
          "Rwanda",
          "Timor-Leste",
          "Gambia",
          "Belarus",
          "Tokelau",
          "Liechtenstein",
          "Jordan",
          "Serbia",
          "Israel",
          "Indonesia",
          "Jersey",
          "Puerto Rico",
          "Maldives",
          "Palau",
          "Norway",
          "Netherlands",
          "Peru",
          "Trinidad and Tobago",
          "Botswana",
          "Italy",
          "Algeria",
          "Sierra Leone",
          "Brazil",
          "Slovenia",
          "Canada",
          "Réunion",
          "Burkina Faso",
          "Dominican Republic",
          "Singapore",
          "Viet Nam",
          "Czech Republic",
          "Bermuda",
          "South Georgia and the South Sandwich Islands",
          "Barbados",
          "Niue",
          "Montenegro",
          "Gabon",
          "Ethiopia",
          "Saint Lucia",
          "Qatar",
          "Svalbard and Jan Mayen Islands",
          "Sri Lanka",
          "Denmark",
          "Bosnia and Herzegovina",
          "Congo (Kinshasa)",
          "Saint-Barthélemy",
          "Vanuatu",
          "Martinique",
          "Honduras",
          "Spain",
          "Cook Islands",
          "Nicaragua",
          "Mauritius",
          "Poland",
          "Madagascar",
          "Iraq",
          "Hungary",
          "Finland",
          "Zambia",
          "Swaziland",
          "Germany",
          "Seychelles",
          "American Samoa",
          "Liberia",
          "Equatorial Guinea",
          "Montserrat",
          "Nauru",
          "Malawi",
          "Suriname",
          "Saint Helena",
          "Greenland",
          "Kazakhstan",
          "Austria",
          "Macedonia, Republic of",
          "Benin",
          "Lithuania"
         ],
         "marker": {
          "line": {
           "color": "rgb(255,255,255)",
           "width": 2
          }
         },
         "type": "choropleth",
         "z": [
          0,
          0,
          985,
          22,
          20921,
          20,
          92,
          126,
          0,
          791,
          0,
          1264,
          8,
          18,
          0,
          2612,
          4273,
          0,
          40,
          591,
          0,
          153,
          10062,
          0,
          6,
          0,
          0,
          0,
          1072,
          10,
          8,
          65202,
          16,
          3,
          0,
          1505,
          0,
          3,
          120,
          9,
          0,
          0,
          207,
          210,
          275582,
          10,
          6,
          1364,
          15,
          0,
          672,
          269,
          24,
          0,
          10,
          0,
          1,
          509,
          868,
          443,
          5330,
          1267,
          3183,
          20,
          417,
          53183,
          2567,
          0,
          3737,
          0,
          73,
          227,
          50,
          0,
          48,
          9,
          0,
          0,
          82511,
          0,
          23,
          0,
          218,
          15,
          12,
          155,
          0,
          9886,
          61,
          194,
          16770,
          1613,
          0,
          64,
          7,
          0,
          130,
          2039,
          961,
          439,
          202,
          7,
          12,
          3368,
          0,
          11,
          14,
          0,
          122,
          1265,
          0,
          0,
          0,
          369,
          0,
          3333,
          46,
          396,
          205,
          0,
          0,
          7,
          114,
          1510,
          281,
          6,
          0,
          2686,
          736,
          0,
          22,
          508,
          0,
          245,
          38689,
          0,
          6131,
          0,
          0,
          5,
          134,
          252,
          132,
          495,
          0,
          8,
          49,
          0,
          485,
          348,
          19606,
          39,
          1079,
          0,
          1475,
          0,
          14,
          0,
          0,
          47,
          4,
          2617,
          3018,
          304,
          416,
          4149,
          1978,
          0,
          0,
          89,
          1,
          4,
          351,
          0,
          75,
          310,
          1476,
          7428,
          1986,
          0,
          0,
          19,
          0,
          5370,
          15821,
          1595,
          98,
          4,
          119827,
          1171,
          2,
          9056,
          934,
          12437,
          0,
          302,
          1488,
          1114,
          237,
          4091,
          0,
          0,
          51,
          0,
          174,
          21,
          35,
          13,
          1075,
          0,
          159,
          3946,
          579,
          134,
          0,
          0,
          0,
          222,
          119199,
          0,
          5,
          186,
          3383,
          70,
          820,
          623,
          1615,
          39,
          9,
          91159,
          10,
          0,
          7,
          16,
          0,
          0,
          3,
          10,
          0,
          0,
          464,
          11524,
          430,
          16,
          696
         ]
        }
       ],
       "layout": {
        "autosize": true,
        "template": {
         "data": {
          "bar": [
           {
            "error_x": {
             "color": "#2a3f5f"
            },
            "error_y": {
             "color": "#2a3f5f"
            },
            "marker": {
             "line": {
              "color": "#E5ECF6",
              "width": 0.5
             }
            },
            "type": "bar"
           }
          ],
          "barpolar": [
           {
            "marker": {
             "line": {
              "color": "#E5ECF6",
              "width": 0.5
             }
            },
            "type": "barpolar"
           }
          ],
          "carpet": [
           {
            "aaxis": {
             "endlinecolor": "#2a3f5f",
             "gridcolor": "white",
             "linecolor": "white",
             "minorgridcolor": "white",
             "startlinecolor": "#2a3f5f"
            },
            "baxis": {
             "endlinecolor": "#2a3f5f",
             "gridcolor": "white",
             "linecolor": "white",
             "minorgridcolor": "white",
             "startlinecolor": "#2a3f5f"
            },
            "type": "carpet"
           }
          ],
          "choropleth": [
           {
            "colorbar": {
             "outlinewidth": 0,
             "ticks": ""
            },
            "type": "choropleth"
           }
          ],
          "contour": [
           {
            "colorbar": {
             "outlinewidth": 0,
             "ticks": ""
            },
            "colorscale": [
             [
              0,
              "#0d0887"
             ],
             [
              0.1111111111111111,
              "#46039f"
             ],
             [
              0.2222222222222222,
              "#7201a8"
             ],
             [
              0.3333333333333333,
              "#9c179e"
             ],
             [
              0.4444444444444444,
              "#bd3786"
             ],
             [
              0.5555555555555556,
              "#d8576b"
             ],
             [
              0.6666666666666666,
              "#ed7953"
             ],
             [
              0.7777777777777778,
              "#fb9f3a"
             ],
             [
              0.8888888888888888,
              "#fdca26"
             ],
             [
              1,
              "#f0f921"
             ]
            ],
            "type": "contour"
           }
          ],
          "contourcarpet": [
           {
            "colorbar": {
             "outlinewidth": 0,
             "ticks": ""
            },
            "type": "contourcarpet"
           }
          ],
          "heatmap": [
           {
            "colorbar": {
             "outlinewidth": 0,
             "ticks": ""
            },
            "colorscale": [
             [
              0,
              "#0d0887"
             ],
             [
              0.1111111111111111,
              "#46039f"
             ],
             [
              0.2222222222222222,
              "#7201a8"
             ],
             [
              0.3333333333333333,
              "#9c179e"
             ],
             [
              0.4444444444444444,
              "#bd3786"
             ],
             [
              0.5555555555555556,
              "#d8576b"
             ],
             [
              0.6666666666666666,
              "#ed7953"
             ],
             [
              0.7777777777777778,
              "#fb9f3a"
             ],
             [
              0.8888888888888888,
              "#fdca26"
             ],
             [
              1,
              "#f0f921"
             ]
            ],
            "type": "heatmap"
           }
          ],
          "heatmapgl": [
           {
            "colorbar": {
             "outlinewidth": 0,
             "ticks": ""
            },
            "colorscale": [
             [
              0,
              "#0d0887"
             ],
             [
              0.1111111111111111,
              "#46039f"
             ],
             [
              0.2222222222222222,
              "#7201a8"
             ],
             [
              0.3333333333333333,
              "#9c179e"
             ],
             [
              0.4444444444444444,
              "#bd3786"
             ],
             [
              0.5555555555555556,
              "#d8576b"
             ],
             [
              0.6666666666666666,
              "#ed7953"
             ],
             [
              0.7777777777777778,
              "#fb9f3a"
             ],
             [
              0.8888888888888888,
              "#fdca26"
             ],
             [
              1,
              "#f0f921"
             ]
            ],
            "type": "heatmapgl"
           }
          ],
          "histogram": [
           {
            "marker": {
             "colorbar": {
              "outlinewidth": 0,
              "ticks": ""
             }
            },
            "type": "histogram"
           }
          ],
          "histogram2d": [
           {
            "colorbar": {
             "outlinewidth": 0,
             "ticks": ""
            },
            "colorscale": [
             [
              0,
              "#0d0887"
             ],
             [
              0.1111111111111111,
              "#46039f"
             ],
             [
              0.2222222222222222,
              "#7201a8"
             ],
             [
              0.3333333333333333,
              "#9c179e"
             ],
             [
              0.4444444444444444,
              "#bd3786"
             ],
             [
              0.5555555555555556,
              "#d8576b"
             ],
             [
              0.6666666666666666,
              "#ed7953"
             ],
             [
              0.7777777777777778,
              "#fb9f3a"
             ],
             [
              0.8888888888888888,
              "#fdca26"
             ],
             [
              1,
              "#f0f921"
             ]
            ],
            "type": "histogram2d"
           }
          ],
          "histogram2dcontour": [
           {
            "colorbar": {
             "outlinewidth": 0,
             "ticks": ""
            },
            "colorscale": [
             [
              0,
              "#0d0887"
             ],
             [
              0.1111111111111111,
              "#46039f"
             ],
             [
              0.2222222222222222,
              "#7201a8"
             ],
             [
              0.3333333333333333,
              "#9c179e"
             ],
             [
              0.4444444444444444,
              "#bd3786"
             ],
             [
              0.5555555555555556,
              "#d8576b"
             ],
             [
              0.6666666666666666,
              "#ed7953"
             ],
             [
              0.7777777777777778,
              "#fb9f3a"
             ],
             [
              0.8888888888888888,
              "#fdca26"
             ],
             [
              1,
              "#f0f921"
             ]
            ],
            "type": "histogram2dcontour"
           }
          ],
          "mesh3d": [
           {
            "colorbar": {
             "outlinewidth": 0,
             "ticks": ""
            },
            "type": "mesh3d"
           }
          ],
          "parcoords": [
           {
            "line": {
             "colorbar": {
              "outlinewidth": 0,
              "ticks": ""
             }
            },
            "type": "parcoords"
           }
          ],
          "pie": [
           {
            "automargin": true,
            "type": "pie"
           }
          ],
          "scatter": [
           {
            "marker": {
             "colorbar": {
              "outlinewidth": 0,
              "ticks": ""
             }
            },
            "type": "scatter"
           }
          ],
          "scatter3d": [
           {
            "line": {
             "colorbar": {
              "outlinewidth": 0,
              "ticks": ""
             }
            },
            "marker": {
             "colorbar": {
              "outlinewidth": 0,
              "ticks": ""
             }
            },
            "type": "scatter3d"
           }
          ],
          "scattercarpet": [
           {
            "marker": {
             "colorbar": {
              "outlinewidth": 0,
              "ticks": ""
             }
            },
            "type": "scattercarpet"
           }
          ],
          "scattergeo": [
           {
            "marker": {
             "colorbar": {
              "outlinewidth": 0,
              "ticks": ""
             }
            },
            "type": "scattergeo"
           }
          ],
          "scattergl": [
           {
            "marker": {
             "colorbar": {
              "outlinewidth": 0,
              "ticks": ""
             }
            },
            "type": "scattergl"
           }
          ],
          "scattermapbox": [
           {
            "marker": {
             "colorbar": {
              "outlinewidth": 0,
              "ticks": ""
             }
            },
            "type": "scattermapbox"
           }
          ],
          "scatterpolar": [
           {
            "marker": {
             "colorbar": {
              "outlinewidth": 0,
              "ticks": ""
             }
            },
            "type": "scatterpolar"
           }
          ],
          "scatterpolargl": [
           {
            "marker": {
             "colorbar": {
              "outlinewidth": 0,
              "ticks": ""
             }
            },
            "type": "scatterpolargl"
           }
          ],
          "scatterternary": [
           {
            "marker": {
             "colorbar": {
              "outlinewidth": 0,
              "ticks": ""
             }
            },
            "type": "scatterternary"
           }
          ],
          "surface": [
           {
            "colorbar": {
             "outlinewidth": 0,
             "ticks": ""
            },
            "colorscale": [
             [
              0,
              "#0d0887"
             ],
             [
              0.1111111111111111,
              "#46039f"
             ],
             [
              0.2222222222222222,
              "#7201a8"
             ],
             [
              0.3333333333333333,
              "#9c179e"
             ],
             [
              0.4444444444444444,
              "#bd3786"
             ],
             [
              0.5555555555555556,
              "#d8576b"
             ],
             [
              0.6666666666666666,
              "#ed7953"
             ],
             [
              0.7777777777777778,
              "#fb9f3a"
             ],
             [
              0.8888888888888888,
              "#fdca26"
             ],
             [
              1,
              "#f0f921"
             ]
            ],
            "type": "surface"
           }
          ],
          "table": [
           {
            "cells": {
             "fill": {
              "color": "#EBF0F8"
             },
             "line": {
              "color": "white"
             }
            },
            "header": {
             "fill": {
              "color": "#C8D4E3"
             },
             "line": {
              "color": "white"
             }
            },
            "type": "table"
           }
          ]
         },
         "layout": {
          "annotationdefaults": {
           "arrowcolor": "#2a3f5f",
           "arrowhead": 0,
           "arrowwidth": 1
          },
          "coloraxis": {
           "colorbar": {
            "outlinewidth": 0,
            "ticks": ""
           }
          },
          "colorscale": {
           "diverging": [
            [
             0,
             "#8e0152"
            ],
            [
             0.1,
             "#c51b7d"
            ],
            [
             0.2,
             "#de77ae"
            ],
            [
             0.3,
             "#f1b6da"
            ],
            [
             0.4,
             "#fde0ef"
            ],
            [
             0.5,
             "#f7f7f7"
            ],
            [
             0.6,
             "#e6f5d0"
            ],
            [
             0.7,
             "#b8e186"
            ],
            [
             0.8,
             "#7fbc41"
            ],
            [
             0.9,
             "#4d9221"
            ],
            [
             1,
             "#276419"
            ]
           ],
           "sequential": [
            [
             0,
             "#0d0887"
            ],
            [
             0.1111111111111111,
             "#46039f"
            ],
            [
             0.2222222222222222,
             "#7201a8"
            ],
            [
             0.3333333333333333,
             "#9c179e"
            ],
            [
             0.4444444444444444,
             "#bd3786"
            ],
            [
             0.5555555555555556,
             "#d8576b"
            ],
            [
             0.6666666666666666,
             "#ed7953"
            ],
            [
             0.7777777777777778,
             "#fb9f3a"
            ],
            [
             0.8888888888888888,
             "#fdca26"
            ],
            [
             1,
             "#f0f921"
            ]
           ],
           "sequentialminus": [
            [
             0,
             "#0d0887"
            ],
            [
             0.1111111111111111,
             "#46039f"
            ],
            [
             0.2222222222222222,
             "#7201a8"
            ],
            [
             0.3333333333333333,
             "#9c179e"
            ],
            [
             0.4444444444444444,
             "#bd3786"
            ],
            [
             0.5555555555555556,
             "#d8576b"
            ],
            [
             0.6666666666666666,
             "#ed7953"
            ],
            [
             0.7777777777777778,
             "#fb9f3a"
            ],
            [
             0.8888888888888888,
             "#fdca26"
            ],
            [
             1,
             "#f0f921"
            ]
           ]
          },
          "colorway": [
           "#636efa",
           "#EF553B",
           "#00cc96",
           "#ab63fa",
           "#FFA15A",
           "#19d3f3",
           "#FF6692",
           "#B6E880",
           "#FF97FF",
           "#FECB52"
          ],
          "font": {
           "color": "#2a3f5f"
          },
          "geo": {
           "bgcolor": "white",
           "lakecolor": "white",
           "landcolor": "#E5ECF6",
           "showlakes": true,
           "showland": true,
           "subunitcolor": "white"
          },
          "hoverlabel": {
           "align": "left"
          },
          "hovermode": "closest",
          "mapbox": {
           "style": "light"
          },
          "paper_bgcolor": "white",
          "plot_bgcolor": "#E5ECF6",
          "polar": {
           "angularaxis": {
            "gridcolor": "white",
            "linecolor": "white",
            "ticks": ""
           },
           "bgcolor": "#E5ECF6",
           "radialaxis": {
            "gridcolor": "white",
            "linecolor": "white",
            "ticks": ""
           }
          },
          "scene": {
           "xaxis": {
            "backgroundcolor": "#E5ECF6",
            "gridcolor": "white",
            "gridwidth": 2,
            "linecolor": "white",
            "showbackground": true,
            "ticks": "",
            "zerolinecolor": "white"
           },
           "yaxis": {
            "backgroundcolor": "#E5ECF6",
            "gridcolor": "white",
            "gridwidth": 2,
            "linecolor": "white",
            "showbackground": true,
            "ticks": "",
            "zerolinecolor": "white"
           },
           "zaxis": {
            "backgroundcolor": "#E5ECF6",
            "gridcolor": "white",
            "gridwidth": 2,
            "linecolor": "white",
            "showbackground": true,
            "ticks": "",
            "zerolinecolor": "white"
           }
          },
          "shapedefaults": {
           "line": {
            "color": "#2a3f5f"
           }
          },
          "ternary": {
           "aaxis": {
            "gridcolor": "white",
            "linecolor": "white",
            "ticks": ""
           },
           "baxis": {
            "gridcolor": "white",
            "linecolor": "white",
            "ticks": ""
           },
           "bgcolor": "#E5ECF6",
           "caxis": {
            "gridcolor": "white",
            "linecolor": "white",
            "ticks": ""
           }
          },
          "title": {
           "x": 0.05
          },
          "xaxis": {
           "automargin": true,
           "gridcolor": "white",
           "linecolor": "white",
           "ticks": "",
           "title": {
            "standoff": 15
           },
           "zerolinecolor": "white",
           "zerolinewidth": 2
          },
          "yaxis": {
           "automargin": true,
           "gridcolor": "white",
           "linecolor": "white",
           "ticks": "",
           "title": {
            "standoff": 15
           },
           "zerolinecolor": "white",
           "zerolinewidth": 2
          }
         }
        },
        "title": {
         "text": "Confirmed Cases Around the World"
        }
       }
      },
      "text/html": [
       "<div>\n",
       "        \n",
       "        \n",
       "            <div id=\"6743b297-26ee-4d9c-9e53-4ab4ee0c4c8f\" class=\"plotly-graph-div\" style=\"height:525px; width:100%;\"></div>\n",
       "            <script type=\"text/javascript\">\n",
       "                require([\"plotly\"], function(Plotly) {\n",
       "                    window.PLOTLYENV=window.PLOTLYENV || {};\n",
       "                    \n",
       "                if (document.getElementById(\"6743b297-26ee-4d9c-9e53-4ab4ee0c4c8f\")) {\n",
       "                    Plotly.newPlot(\n",
       "                        '6743b297-26ee-4d9c-9e53-4ab4ee0c4c8f',\n",
       "                        [{\"autocolorscale\": true, \"colorbar\": {\"title\": {\"text\": \"Total Covid 19 cases\"}}, \"locationmode\": \"country names\", \"locations\": [\"Tajikistan\", \"Guernsey\", \"Egypt\", \"Eritrea\", \"Turkey\", \"Tanzania, United Republic of\", \"Paraguay\", \"Republic of Kosovo\", \"Saint Pierre and Miquelon\", \"Morocco\", \"Turks and Caicos Islands\", \"United Arab Emirates\", \"Angola\", \"Haiti\", \"Aruba\", \"Luxembourg\", \"Ireland\", \"Tonga\", \"Togo\", \"Moldova\", \"Korea (North)\", \"Venezuela (Bolivarian Republic)\", \"Korea (South)\", \"Comoros\", \"Cape Verde\", \"US Minor Outlying Islands\", \"Norfolk Island\", \"French Southern Territories\", \"Ukraine\", \"Mozambique\", \"Chad\", \"France\", \"Syrian Arab Republic (Syria)\", \"Burundi\", \"Wallis and Futuna Islands\", \"South Africa\", \"Guadeloupe\", \"Saint Vincent and Grenadines\", \"Niger\", \"Zimbabwe\", \"Cocos (Keeling) Islands\", \"Sao Tome and Principe\", \"Senegal\", \"Nigeria\", \"United States of America\", \"Sudan\", \"Mauritania\", \"Iceland\", \"Antigua and Barbuda\", \"New Caledonia\", \"Bahrain\", \"Cuba\", \"Bahamas\", \"Guam\", \"Lao PDR\", \"Kiribati\", \"Papua New Guinea\", \"Cameroon\", \"New Zealand\", \"Azerbaijan\", \"Australia\", \"Colombia\", \"Romania\", \"Myanmar\", \"Kuwait\", \"Iran, Islamic Republic of\", \"India\", \"Lesotho\", \"Chile\", \"Gibraltar\", \"Guinea\", \"Uzbekistan\", \"Guatemala\", \"Hong Kong, SAR China\", \"Uganda\", \"Saint Kitts and Nevis\", \"Netherlands Antilles\", \"French Polynesia\", \"China\", \"Virgin Islands, US\", \"Guyana\", \"Christmas Island\", \"C\\u00f4te d'Ivoire\", \"Guinea-Bissau\", \"Dominica\", \"Georgia\", \"Faroe Islands\", \"Portugal\", \"Bangladesh\", \"Palestinian Territory\", \"Belgium\", \"Greece\", \"Yemen\", \"Monaco\", \"Holy See (Vatican City State)\", \"Solomon Islands\", \"Kyrgyzstan\", \"Saudi Arabia\", \"Estonia\", \"Andorra\", \"Malta\", \"Fiji\", \"Grenada\", \"Ecuador\", \"Heard and Mcdonald Islands\", \"Libya\", \"Mongolia\", \"Pitcairn\", \"Kenya\", \"Argentina\", \"Tuvalu\", \"Cayman Islands\", \"South Sudan\", \"Uruguay\", \"Falkland Islands (Malvinas)\", \"Malaysia\", \"El Salvador\", \"Cyprus\", \"Ghana\", \"French Guiana\", \"Saint-Martin (French part)\", \"Somalia\", \"Cambodia\", \"Mexico\", \"Afghanistan\", \"Nepal\", \"Bouvet Island\", \"Pakistan\", \"Armenia\", \"British Indian Ocean Territory\", \"Congo (Brazzaville)\", \"Lebanon\", \"Samoa\", \"San Marino\", \"United Kingdom\", \"Antarctica\", \"Sweden\", \"Turkmenistan\", \"Micronesia, Federated States of\", \"Bhutan\", \"Brunei Darussalam\", \"Oman\", \"Bolivia\", \"Tunisia\", \"Isle of Man\", \"Central African Republic\", \"Djibouti\", \"Mayotte\", \"Bulgaria\", \"Taiwan, Republic of China\", \"Switzerland\", \"Mali\", \"Croatia\", \"Western Sahara\", \"Panama\", \"ALA Aland Islands\", \"Namibia\", \"Marshall Islands\", \"British Virgin Islands\", \"Jamaica\", \"Belize\", \"Japan\", \"Philippines\", \"Albania\", \"Costa Rica\", \"Russian Federation\", \"Thailand\", \"Macao, SAR China\", \"Anguilla\", \"Rwanda\", \"Timor-Leste\", \"Gambia\", \"Belarus\", \"Tokelau\", \"Liechtenstein\", \"Jordan\", \"Serbia\", \"Israel\", \"Indonesia\", \"Jersey\", \"Puerto Rico\", \"Maldives\", \"Palau\", \"Norway\", \"Netherlands\", \"Peru\", \"Trinidad and Tobago\", \"Botswana\", \"Italy\", \"Algeria\", \"Sierra Leone\", \"Brazil\", \"Slovenia\", \"Canada\", \"R\\u00e9union\", \"Burkina Faso\", \"Dominican Republic\", \"Singapore\", \"Viet Nam\", \"Czech Republic\", \"Bermuda\", \"South Georgia and the South Sandwich Islands\", \"Barbados\", \"Niue\", \"Montenegro\", \"Gabon\", \"Ethiopia\", \"Saint Lucia\", \"Qatar\", \"Svalbard and Jan Mayen Islands\", \"Sri Lanka\", \"Denmark\", \"Bosnia and Herzegovina\", \"Congo (Kinshasa)\", \"Saint-Barth\\u00e9lemy\", \"Vanuatu\", \"Martinique\", \"Honduras\", \"Spain\", \"Cook Islands\", \"Nicaragua\", \"Mauritius\", \"Poland\", \"Madagascar\", \"Iraq\", \"Hungary\", \"Finland\", \"Zambia\", \"Swaziland\", \"Germany\", \"Seychelles\", \"American Samoa\", \"Liberia\", \"Equatorial Guinea\", \"Montserrat\", \"Nauru\", \"Malawi\", \"Suriname\", \"Saint Helena\", \"Greenland\", \"Kazakhstan\", \"Austria\", \"Macedonia, Republic of\", \"Benin\", \"Lithuania\"], \"marker\": {\"line\": {\"color\": \"rgb(255,255,255)\", \"width\": 2}}, \"type\": \"choropleth\", \"z\": [0, 0, 985, 22, 20921, 20, 92, 126, 0, 791, 0, 1264, 8, 18, 0, 2612, 4273, 0, 40, 591, 0, 153, 10062, 0, 6, 0, 0, 0, 1072, 10, 8, 65202, 16, 3, 0, 1505, 0, 3, 120, 9, 0, 0, 207, 210, 275582, 10, 6, 1364, 15, 0, 672, 269, 24, 0, 10, 0, 1, 509, 868, 443, 5330, 1267, 3183, 20, 417, 53183, 2567, 0, 3737, 0, 73, 227, 50, 0, 48, 9, 0, 0, 82511, 0, 23, 0, 218, 15, 12, 155, 0, 9886, 61, 194, 16770, 1613, 0, 64, 7, 0, 130, 2039, 961, 439, 202, 7, 12, 3368, 0, 11, 14, 0, 122, 1265, 0, 0, 0, 369, 0, 3333, 46, 396, 205, 0, 0, 7, 114, 1510, 281, 6, 0, 2686, 736, 0, 22, 508, 0, 245, 38689, 0, 6131, 0, 0, 5, 134, 252, 132, 495, 0, 8, 49, 0, 485, 348, 19606, 39, 1079, 0, 1475, 0, 14, 0, 0, 47, 4, 2617, 3018, 304, 416, 4149, 1978, 0, 0, 89, 1, 4, 351, 0, 75, 310, 1476, 7428, 1986, 0, 0, 19, 0, 5370, 15821, 1595, 98, 4, 119827, 1171, 2, 9056, 934, 12437, 0, 302, 1488, 1114, 237, 4091, 0, 0, 51, 0, 174, 21, 35, 13, 1075, 0, 159, 3946, 579, 134, 0, 0, 0, 222, 119199, 0, 5, 186, 3383, 70, 820, 623, 1615, 39, 9, 91159, 10, 0, 7, 16, 0, 0, 3, 10, 0, 0, 464, 11524, 430, 16, 696]}],\n",
       "                        {\"autosize\": true, \"template\": {\"data\": {\"bar\": [{\"error_x\": {\"color\": \"#2a3f5f\"}, \"error_y\": {\"color\": \"#2a3f5f\"}, \"marker\": {\"line\": {\"color\": \"#E5ECF6\", \"width\": 0.5}}, \"type\": \"bar\"}], \"barpolar\": [{\"marker\": {\"line\": {\"color\": \"#E5ECF6\", \"width\": 0.5}}, \"type\": \"barpolar\"}], \"carpet\": [{\"aaxis\": {\"endlinecolor\": \"#2a3f5f\", \"gridcolor\": \"white\", \"linecolor\": \"white\", \"minorgridcolor\": \"white\", \"startlinecolor\": \"#2a3f5f\"}, \"baxis\": {\"endlinecolor\": \"#2a3f5f\", \"gridcolor\": \"white\", \"linecolor\": \"white\", \"minorgridcolor\": \"white\", \"startlinecolor\": \"#2a3f5f\"}, \"type\": \"carpet\"}], \"choropleth\": [{\"colorbar\": {\"outlinewidth\": 0, \"ticks\": \"\"}, \"type\": \"choropleth\"}], \"contour\": [{\"colorbar\": {\"outlinewidth\": 0, \"ticks\": \"\"}, \"colorscale\": [[0.0, \"#0d0887\"], [0.1111111111111111, \"#46039f\"], [0.2222222222222222, \"#7201a8\"], [0.3333333333333333, \"#9c179e\"], [0.4444444444444444, \"#bd3786\"], [0.5555555555555556, \"#d8576b\"], [0.6666666666666666, \"#ed7953\"], [0.7777777777777778, \"#fb9f3a\"], [0.8888888888888888, \"#fdca26\"], [1.0, \"#f0f921\"]], \"type\": \"contour\"}], \"contourcarpet\": [{\"colorbar\": {\"outlinewidth\": 0, \"ticks\": \"\"}, \"type\": \"contourcarpet\"}], \"heatmap\": [{\"colorbar\": {\"outlinewidth\": 0, \"ticks\": \"\"}, \"colorscale\": [[0.0, \"#0d0887\"], [0.1111111111111111, \"#46039f\"], [0.2222222222222222, \"#7201a8\"], [0.3333333333333333, \"#9c179e\"], [0.4444444444444444, \"#bd3786\"], [0.5555555555555556, \"#d8576b\"], [0.6666666666666666, \"#ed7953\"], [0.7777777777777778, \"#fb9f3a\"], [0.8888888888888888, \"#fdca26\"], [1.0, \"#f0f921\"]], \"type\": \"heatmap\"}], \"heatmapgl\": [{\"colorbar\": {\"outlinewidth\": 0, \"ticks\": \"\"}, \"colorscale\": [[0.0, \"#0d0887\"], [0.1111111111111111, \"#46039f\"], [0.2222222222222222, \"#7201a8\"], [0.3333333333333333, \"#9c179e\"], [0.4444444444444444, \"#bd3786\"], [0.5555555555555556, \"#d8576b\"], [0.6666666666666666, \"#ed7953\"], [0.7777777777777778, \"#fb9f3a\"], [0.8888888888888888, \"#fdca26\"], [1.0, \"#f0f921\"]], \"type\": \"heatmapgl\"}], \"histogram\": [{\"marker\": {\"colorbar\": {\"outlinewidth\": 0, \"ticks\": \"\"}}, \"type\": \"histogram\"}], \"histogram2d\": [{\"colorbar\": {\"outlinewidth\": 0, \"ticks\": \"\"}, \"colorscale\": [[0.0, \"#0d0887\"], [0.1111111111111111, \"#46039f\"], [0.2222222222222222, \"#7201a8\"], [0.3333333333333333, \"#9c179e\"], [0.4444444444444444, \"#bd3786\"], [0.5555555555555556, \"#d8576b\"], [0.6666666666666666, \"#ed7953\"], [0.7777777777777778, \"#fb9f3a\"], [0.8888888888888888, \"#fdca26\"], [1.0, \"#f0f921\"]], \"type\": \"histogram2d\"}], \"histogram2dcontour\": [{\"colorbar\": {\"outlinewidth\": 0, \"ticks\": \"\"}, \"colorscale\": [[0.0, \"#0d0887\"], [0.1111111111111111, \"#46039f\"], [0.2222222222222222, \"#7201a8\"], [0.3333333333333333, \"#9c179e\"], [0.4444444444444444, \"#bd3786\"], [0.5555555555555556, \"#d8576b\"], [0.6666666666666666, \"#ed7953\"], [0.7777777777777778, \"#fb9f3a\"], [0.8888888888888888, \"#fdca26\"], [1.0, \"#f0f921\"]], \"type\": \"histogram2dcontour\"}], \"mesh3d\": [{\"colorbar\": {\"outlinewidth\": 0, \"ticks\": \"\"}, \"type\": \"mesh3d\"}], \"parcoords\": [{\"line\": {\"colorbar\": {\"outlinewidth\": 0, \"ticks\": \"\"}}, \"type\": \"parcoords\"}], \"pie\": [{\"automargin\": true, \"type\": \"pie\"}], \"scatter\": [{\"marker\": {\"colorbar\": {\"outlinewidth\": 0, \"ticks\": \"\"}}, \"type\": \"scatter\"}], \"scatter3d\": [{\"line\": {\"colorbar\": {\"outlinewidth\": 0, \"ticks\": \"\"}}, \"marker\": {\"colorbar\": {\"outlinewidth\": 0, \"ticks\": \"\"}}, \"type\": \"scatter3d\"}], \"scattercarpet\": [{\"marker\": {\"colorbar\": {\"outlinewidth\": 0, \"ticks\": \"\"}}, \"type\": \"scattercarpet\"}], \"scattergeo\": [{\"marker\": {\"colorbar\": {\"outlinewidth\": 0, \"ticks\": \"\"}}, \"type\": \"scattergeo\"}], \"scattergl\": [{\"marker\": {\"colorbar\": {\"outlinewidth\": 0, \"ticks\": \"\"}}, \"type\": \"scattergl\"}], \"scattermapbox\": [{\"marker\": {\"colorbar\": {\"outlinewidth\": 0, \"ticks\": \"\"}}, \"type\": \"scattermapbox\"}], \"scatterpolar\": [{\"marker\": {\"colorbar\": {\"outlinewidth\": 0, \"ticks\": \"\"}}, \"type\": \"scatterpolar\"}], \"scatterpolargl\": [{\"marker\": {\"colorbar\": {\"outlinewidth\": 0, \"ticks\": \"\"}}, \"type\": \"scatterpolargl\"}], \"scatterternary\": [{\"marker\": {\"colorbar\": {\"outlinewidth\": 0, \"ticks\": \"\"}}, \"type\": \"scatterternary\"}], \"surface\": [{\"colorbar\": {\"outlinewidth\": 0, \"ticks\": \"\"}, \"colorscale\": [[0.0, \"#0d0887\"], [0.1111111111111111, \"#46039f\"], [0.2222222222222222, \"#7201a8\"], [0.3333333333333333, \"#9c179e\"], [0.4444444444444444, \"#bd3786\"], [0.5555555555555556, \"#d8576b\"], [0.6666666666666666, \"#ed7953\"], [0.7777777777777778, \"#fb9f3a\"], [0.8888888888888888, \"#fdca26\"], [1.0, \"#f0f921\"]], \"type\": \"surface\"}], \"table\": [{\"cells\": {\"fill\": {\"color\": \"#EBF0F8\"}, \"line\": {\"color\": \"white\"}}, \"header\": {\"fill\": {\"color\": \"#C8D4E3\"}, \"line\": {\"color\": \"white\"}}, \"type\": \"table\"}]}, \"layout\": {\"annotationdefaults\": {\"arrowcolor\": \"#2a3f5f\", \"arrowhead\": 0, \"arrowwidth\": 1}, \"coloraxis\": {\"colorbar\": {\"outlinewidth\": 0, \"ticks\": \"\"}}, \"colorscale\": {\"diverging\": [[0, \"#8e0152\"], [0.1, \"#c51b7d\"], [0.2, \"#de77ae\"], [0.3, \"#f1b6da\"], [0.4, \"#fde0ef\"], [0.5, \"#f7f7f7\"], [0.6, \"#e6f5d0\"], [0.7, \"#b8e186\"], [0.8, \"#7fbc41\"], [0.9, \"#4d9221\"], [1, \"#276419\"]], \"sequential\": [[0.0, \"#0d0887\"], [0.1111111111111111, \"#46039f\"], [0.2222222222222222, \"#7201a8\"], [0.3333333333333333, \"#9c179e\"], [0.4444444444444444, \"#bd3786\"], [0.5555555555555556, \"#d8576b\"], [0.6666666666666666, \"#ed7953\"], [0.7777777777777778, \"#fb9f3a\"], [0.8888888888888888, \"#fdca26\"], [1.0, \"#f0f921\"]], \"sequentialminus\": [[0.0, \"#0d0887\"], [0.1111111111111111, \"#46039f\"], [0.2222222222222222, \"#7201a8\"], [0.3333333333333333, \"#9c179e\"], [0.4444444444444444, \"#bd3786\"], [0.5555555555555556, \"#d8576b\"], [0.6666666666666666, \"#ed7953\"], [0.7777777777777778, \"#fb9f3a\"], [0.8888888888888888, \"#fdca26\"], [1.0, \"#f0f921\"]]}, \"colorway\": [\"#636efa\", \"#EF553B\", \"#00cc96\", \"#ab63fa\", \"#FFA15A\", \"#19d3f3\", \"#FF6692\", \"#B6E880\", \"#FF97FF\", \"#FECB52\"], \"font\": {\"color\": \"#2a3f5f\"}, \"geo\": {\"bgcolor\": \"white\", \"lakecolor\": \"white\", \"landcolor\": \"#E5ECF6\", \"showlakes\": true, \"showland\": true, \"subunitcolor\": \"white\"}, \"hoverlabel\": {\"align\": \"left\"}, \"hovermode\": \"closest\", \"mapbox\": {\"style\": \"light\"}, \"paper_bgcolor\": \"white\", \"plot_bgcolor\": \"#E5ECF6\", \"polar\": {\"angularaxis\": {\"gridcolor\": \"white\", \"linecolor\": \"white\", \"ticks\": \"\"}, \"bgcolor\": \"#E5ECF6\", \"radialaxis\": {\"gridcolor\": \"white\", \"linecolor\": \"white\", \"ticks\": \"\"}}, \"scene\": {\"xaxis\": {\"backgroundcolor\": \"#E5ECF6\", \"gridcolor\": \"white\", \"gridwidth\": 2, \"linecolor\": \"white\", \"showbackground\": true, \"ticks\": \"\", \"zerolinecolor\": \"white\"}, \"yaxis\": {\"backgroundcolor\": \"#E5ECF6\", \"gridcolor\": \"white\", \"gridwidth\": 2, \"linecolor\": \"white\", \"showbackground\": true, \"ticks\": \"\", \"zerolinecolor\": \"white\"}, \"zaxis\": {\"backgroundcolor\": \"#E5ECF6\", \"gridcolor\": \"white\", \"gridwidth\": 2, \"linecolor\": \"white\", \"showbackground\": true, \"ticks\": \"\", \"zerolinecolor\": \"white\"}}, \"shapedefaults\": {\"line\": {\"color\": \"#2a3f5f\"}}, \"ternary\": {\"aaxis\": {\"gridcolor\": \"white\", \"linecolor\": \"white\", \"ticks\": \"\"}, \"baxis\": {\"gridcolor\": \"white\", \"linecolor\": \"white\", \"ticks\": \"\"}, \"bgcolor\": \"#E5ECF6\", \"caxis\": {\"gridcolor\": \"white\", \"linecolor\": \"white\", \"ticks\": \"\"}}, \"title\": {\"x\": 0.05}, \"xaxis\": {\"automargin\": true, \"gridcolor\": \"white\", \"linecolor\": \"white\", \"ticks\": \"\", \"title\": {\"standoff\": 15}, \"zerolinecolor\": \"white\", \"zerolinewidth\": 2}, \"yaxis\": {\"automargin\": true, \"gridcolor\": \"white\", \"linecolor\": \"white\", \"ticks\": \"\", \"title\": {\"standoff\": 15}, \"zerolinecolor\": \"white\", \"zerolinewidth\": 2}}}, \"title\": {\"text\": \"Confirmed Cases Around the World\"}},\n",
       "                        {\"responsive\": true}\n",
       "                    ).then(function(){\n",
       "                            \n",
       "var gd = document.getElementById('6743b297-26ee-4d9c-9e53-4ab4ee0c4c8f');\n",
       "var x = new MutationObserver(function (mutations, observer) {{\n",
       "        var display = window.getComputedStyle(gd).display;\n",
       "        if (!display || display === 'none') {{\n",
       "            console.log([gd, 'removed!']);\n",
       "            Plotly.purge(gd);\n",
       "            observer.disconnect();\n",
       "        }}\n",
       "}});\n",
       "\n",
       "// Listen for the removal of the full notebook cells\n",
       "var notebookContainer = gd.closest('#notebook-container');\n",
       "if (notebookContainer) {{\n",
       "    x.observe(notebookContainer, {childList: true});\n",
       "}}\n",
       "\n",
       "// Listen for the clearing of the current output cell\n",
       "var outputEl = gd.closest('.output');\n",
       "if (outputEl) {{\n",
       "    x.observe(outputEl, {childList: true});\n",
       "}}\n",
       "\n",
       "                        })\n",
       "                };\n",
       "                });\n",
       "            </script>\n",
       "        </div>"
      ]
     },
     "metadata": {},
     "output_type": "display_data"
    }
   ],
   "source": [
    "\n",
    "#Geo map of Cases per country globally\n",
    "from plotly.offline import download_plotlyjs, init_notebook_mode, plot, iplot\n",
    "import plotly as py\n",
    "import plotly.graph_objs as go\n",
    "init_notebook_mode(connected=True)\n",
    "\n",
    "\n",
    "\n",
    "data = [ dict(\n",
    " type='choropleth',\n",
    " locations = df['Country'],\n",
    " autocolorscale = True,\n",
    " z = df['TotalConfirmed'],\n",
    " locationmode = 'country names',\n",
    "    \n",
    " marker = dict(\n",
    " line = dict (\n",
    " color = 'rgb(255,255,255)',\n",
    " width = 2,\n",
    " )  ),\n",
    " colorbar = dict(\n",
    " title = 'Total Covid 19 cases'\n",
    " )\n",
    " ) ]\n",
    "layout = dict(\n",
    " title = 'Confirmed Cases Around the World',\n",
    " autosize=True,\n",
    "    \n",
    ")\n",
    "fig = go.Figure(data = data, layout = layout)\n",
    "py.offline.iplot(fig)"
   ]
  }
 ],
 "metadata": {
  "kernelspec": {
   "display_name": "Python 3.7.3 64-bit ('base': conda)",
   "language": "python",
   "name": "python37364bitbaseconda82eaecb2309445e7829fb0255fef3f99"
  },
  "language_info": {
   "codemirror_mode": {
    "name": "ipython",
    "version": 3
   },
   "file_extension": ".py",
   "mimetype": "text/x-python",
   "name": "python",
   "nbconvert_exporter": "python",
   "pygments_lexer": "ipython3",
   "version": "3.7.3"
  }
 },
 "nbformat": 4,
 "nbformat_minor": 2
}
