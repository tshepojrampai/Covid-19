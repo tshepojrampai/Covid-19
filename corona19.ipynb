{
 "cells": [
  {
   "cell_type": "code",
   "execution_count": 1,
   "metadata": {},
   "outputs": [
    {
     "name": "stderr",
     "output_type": "stream",
     "text": [
      "/home/tshepo/anaconda3/lib/python3.7/site-packages/ipykernel_launcher.py:19: FutureWarning: pandas.io.json.json_normalize is deprecated, use pandas.json_normalize instead\n"
     ]
    },
    {
     "data": {
      "text/html": [
       "<div>\n",
       "<style scoped>\n",
       "    .dataframe tbody tr th:only-of-type {\n",
       "        vertical-align: middle;\n",
       "    }\n",
       "\n",
       "    .dataframe tbody tr th {\n",
       "        vertical-align: top;\n",
       "    }\n",
       "\n",
       "    .dataframe thead th {\n",
       "        text-align: right;\n",
       "    }\n",
       "</style>\n",
       "<table border=\"1\" class=\"dataframe\">\n",
       "  <thead>\n",
       "    <tr style=\"text-align: right;\">\n",
       "      <th></th>\n",
       "      <th>Differences</th>\n",
       "      <th>Country</th>\n",
       "      <th>CountryCode</th>\n",
       "      <th>NewConfirmed</th>\n",
       "      <th>TotalConfirmed</th>\n",
       "      <th>NewDeaths</th>\n",
       "      <th>TotalDeaths</th>\n",
       "      <th>NewRecovered</th>\n",
       "      <th>TotalRecovered</th>\n",
       "      <th>Date</th>\n",
       "    </tr>\n",
       "  </thead>\n",
       "  <tbody>\n",
       "    <tr>\n",
       "      <th>1</th>\n",
       "      <td>7bb7d56f-22f3-451b-a35d-673a5420ee32</td>\n",
       "      <td>Slovenia</td>\n",
       "      <td>SI</td>\n",
       "      <td>37</td>\n",
       "      <td>934</td>\n",
       "      <td>3</td>\n",
       "      <td>20</td>\n",
       "      <td>0</td>\n",
       "      <td>70</td>\n",
       "      <td>2020-04-04T22:42:29Z</td>\n",
       "    </tr>\n",
       "    <tr>\n",
       "      <th>2</th>\n",
       "      <td>7bb7d56f-22f3-451b-a35d-673a5420ee32</td>\n",
       "      <td>Benin</td>\n",
       "      <td>BJ</td>\n",
       "      <td>3</td>\n",
       "      <td>16</td>\n",
       "      <td>0</td>\n",
       "      <td>0</td>\n",
       "      <td>1</td>\n",
       "      <td>2</td>\n",
       "      <td>2020-04-04T22:42:29Z</td>\n",
       "    </tr>\n",
       "    <tr>\n",
       "      <th>3</th>\n",
       "      <td>7bb7d56f-22f3-451b-a35d-673a5420ee32</td>\n",
       "      <td>Luxembourg</td>\n",
       "      <td>LU</td>\n",
       "      <td>125</td>\n",
       "      <td>2612</td>\n",
       "      <td>1</td>\n",
       "      <td>31</td>\n",
       "      <td>420</td>\n",
       "      <td>500</td>\n",
       "      <td>2020-04-04T22:42:29Z</td>\n",
       "    </tr>\n",
       "    <tr>\n",
       "      <th>4</th>\n",
       "      <td>7bb7d56f-22f3-451b-a35d-673a5420ee32</td>\n",
       "      <td>Myanmar</td>\n",
       "      <td>MM</td>\n",
       "      <td>0</td>\n",
       "      <td>20</td>\n",
       "      <td>0</td>\n",
       "      <td>1</td>\n",
       "      <td>0</td>\n",
       "      <td>0</td>\n",
       "      <td>2020-04-04T22:42:29Z</td>\n",
       "    </tr>\n",
       "    <tr>\n",
       "      <th>5</th>\n",
       "      <td>7bb7d56f-22f3-451b-a35d-673a5420ee32</td>\n",
       "      <td>Djibouti</td>\n",
       "      <td>DJ</td>\n",
       "      <td>9</td>\n",
       "      <td>49</td>\n",
       "      <td>0</td>\n",
       "      <td>0</td>\n",
       "      <td>8</td>\n",
       "      <td>8</td>\n",
       "      <td>2020-04-04T22:42:29Z</td>\n",
       "    </tr>\n",
       "  </tbody>\n",
       "</table>\n",
       "</div>"
      ],
      "text/plain": [
       "                            Differences     Country CountryCode  NewConfirmed  \\\n",
       "1  7bb7d56f-22f3-451b-a35d-673a5420ee32    Slovenia          SI            37   \n",
       "2  7bb7d56f-22f3-451b-a35d-673a5420ee32       Benin          BJ             3   \n",
       "3  7bb7d56f-22f3-451b-a35d-673a5420ee32  Luxembourg          LU           125   \n",
       "4  7bb7d56f-22f3-451b-a35d-673a5420ee32     Myanmar          MM             0   \n",
       "5  7bb7d56f-22f3-451b-a35d-673a5420ee32    Djibouti          DJ             9   \n",
       "\n",
       "   TotalConfirmed  NewDeaths  TotalDeaths  NewRecovered  TotalRecovered  \\\n",
       "1             934          3           20             0              70   \n",
       "2              16          0            0             1               2   \n",
       "3            2612          1           31           420             500   \n",
       "4              20          0            1             0               0   \n",
       "5              49          0            0             8               8   \n",
       "\n",
       "                   Date  \n",
       "1  2020-04-04T22:42:29Z  \n",
       "2  2020-04-04T22:42:29Z  \n",
       "3  2020-04-04T22:42:29Z  \n",
       "4  2020-04-04T22:42:29Z  \n",
       "5  2020-04-04T22:42:29Z  "
      ]
     },
     "execution_count": 1,
     "metadata": {},
     "output_type": "execute_result"
    }
   ],
   "source": [
    "import requests\n",
    "from pandas.io.json import json_normalize\n",
    "\n",
    "class color:\n",
    "    PURPLE = '\\033[95m'\n",
    "    CYAN = '\\033[96m'\n",
    "    DARKCYAN = '\\033[36m'\n",
    "    BLUE = '\\033[94m'\n",
    "    GREEN = '\\033[92m'\n",
    "    YELLOW = '\\033[93m'\n",
    "    RED = '\\033[91m'\n",
    "    BOLD = '\\033[1m'\n",
    "    UNDERLINE = '\\033[4m'\n",
    "    END = '\\033[0m'\n",
    "url = 'https://api.covid19api.com/summary'\n",
    "r = requests.get(url)\n",
    "dictr = r.json()\n",
    "header = dictr['Countries']\n",
    "df = json_normalize(header)\n",
    "df = df.drop(df.index[[0,224]])\n",
    "df = df.drop(columns = 'Slug')\n",
    "df.head()"
   ]
  },
  {
   "cell_type": "code",
   "execution_count": 2,
   "metadata": {},
   "outputs": [
    {
     "name": "stdout",
     "output_type": "stream",
     "text": [
      "\u001b[1mGlabal Covid 19 Virus statistics as at: \u001b[0m 2020-04-04T22:42:29Z\n",
      "\u001b[1m\u001b[4mTotal Confirmed Cases: \u001b[0m \n",
      " Number of cases 1094699\n",
      "\u001b[1m\u001b[4mRecoveries World wide: \u001b[0m \n",
      " Number of cases 215469\n",
      "\u001b[1m\u001b[4mTotal Deaths: \u001b[0m \n",
      " Number of cases 58772\n"
     ]
    },
    {
     "data": {
      "text/html": [
       "<table style=\"display:inline\" border=\"1\" class=\"dataframe\">\n",
       "  <thead>\n",
       "    <tr style=\"text-align: right;\">\n",
       "      <th></th>\n",
       "      <th>Country</th>\n",
       "      <th>TotalConfirmed</th>\n",
       "      <th>NewConfirmed</th>\n",
       "    </tr>\n",
       "  </thead>\n",
       "  <tbody>\n",
       "    <tr>\n",
       "      <th>234</th>\n",
       "      <td>United States of America</td>\n",
       "      <td>275582</td>\n",
       "      <td>32129</td>\n",
       "    </tr>\n",
       "    <tr>\n",
       "      <th>229</th>\n",
       "      <td>Italy</td>\n",
       "      <td>119827</td>\n",
       "      <td>4585</td>\n",
       "    </tr>\n",
       "    <tr>\n",
       "      <th>224</th>\n",
       "      <td>Spain</td>\n",
       "      <td>119199</td>\n",
       "      <td>7134</td>\n",
       "    </tr>\n",
       "    <tr>\n",
       "      <th>165</th>\n",
       "      <td>Germany</td>\n",
       "      <td>91159</td>\n",
       "      <td>6365</td>\n",
       "    </tr>\n",
       "  </tbody>\n",
       "</table style=\"display:inline\"><table style=\"display:inline\" border=\"1\" class=\"dataframe\">\n",
       "  <thead>\n",
       "    <tr style=\"text-align: right;\">\n",
       "      <th></th>\n",
       "      <th>Country</th>\n",
       "      <th>TotalDeaths</th>\n",
       "      <th>NewDeaths</th>\n",
       "    </tr>\n",
       "  </thead>\n",
       "  <tbody>\n",
       "    <tr>\n",
       "      <th>229</th>\n",
       "      <td>Italy</td>\n",
       "      <td>14681</td>\n",
       "      <td>766</td>\n",
       "    </tr>\n",
       "    <tr>\n",
       "      <th>224</th>\n",
       "      <td>Spain</td>\n",
       "      <td>11198</td>\n",
       "      <td>850</td>\n",
       "    </tr>\n",
       "    <tr>\n",
       "      <th>234</th>\n",
       "      <td>United States of America</td>\n",
       "      <td>7087</td>\n",
       "      <td>1161</td>\n",
       "    </tr>\n",
       "    <tr>\n",
       "      <th>99</th>\n",
       "      <td>France</td>\n",
       "      <td>6520</td>\n",
       "      <td>1122</td>\n",
       "    </tr>\n",
       "  </tbody>\n",
       "</table style=\"display:inline\"><table style=\"display:inline\" border=\"1\" class=\"dataframe\">\n",
       "  <thead>\n",
       "    <tr style=\"text-align: right;\">\n",
       "      <th></th>\n",
       "      <th>Country</th>\n",
       "      <th>TotalRecovered</th>\n",
       "      <th>NewRecovered</th>\n",
       "    </tr>\n",
       "  </thead>\n",
       "  <tbody>\n",
       "    <tr>\n",
       "      <th>107</th>\n",
       "      <td>China</td>\n",
       "      <td>76760</td>\n",
       "      <td>195</td>\n",
       "    </tr>\n",
       "    <tr>\n",
       "      <th>224</th>\n",
       "      <td>Spain</td>\n",
       "      <td>30513</td>\n",
       "      <td>3770</td>\n",
       "    </tr>\n",
       "    <tr>\n",
       "      <th>165</th>\n",
       "      <td>Germany</td>\n",
       "      <td>24575</td>\n",
       "      <td>2135</td>\n",
       "    </tr>\n",
       "    <tr>\n",
       "      <th>229</th>\n",
       "      <td>Italy</td>\n",
       "      <td>19758</td>\n",
       "      <td>1480</td>\n",
       "    </tr>\n",
       "  </tbody>\n",
       "</table style=\"display:inline\">"
      ]
     },
     "metadata": {},
     "output_type": "display_data"
    }
   ],
   "source": [
    "#Summing per column\n",
    "tot_cases = df.TotalConfirmed.sum()\n",
    "nw_cases = df.NewConfirmed.sum()\n",
    "tot_deaths = df.TotalDeaths.sum()\n",
    "new_deaths = df.NewDeaths.sum()\n",
    "tot_recover = df.TotalRecovered.sum()\n",
    "new_recover = df.NewRecovered.sum()\n",
    "\n",
    "#Separating columns\n",
    "import pandas as pd\n",
    "\n",
    "#Corona  cases: Total and New\n",
    "df_tot_cases = df.loc[:,['Country','TotalConfirmed']]\n",
    "df_new_cases = df.loc[:,['Country','NewConfirmed']]\n",
    "\n",
    "#Death Cases: Total and New \n",
    "df_tot_death = df.loc[:,['Country','TotalDeaths']]\n",
    "df_new_death = df.loc[:,['Country','NewDeaths']]\n",
    "\n",
    "#Recovery cases: Total and new\n",
    "df_tot_recover = df.loc[:,['Country','TotalRecovered']]\n",
    "df_new_recover = df.loc[:,['Country','NewRecovered']]\n",
    "                      \n",
    "#Sorting cases by total                     \n",
    "df_cases = df_tot_cases.merge(df_new_cases, on='Country').sort_values(by=['TotalConfirmed'], ascending=False).head(4)\n",
    "df_death = df_tot_death.merge(df_new_death, on='Country').sort_values(by=['TotalDeaths'], ascending=False).head(4)\n",
    "df_recover = df_tot_recover.merge(df_new_recover, on='Country').sort_values(by=['TotalRecovered'], ascending=False).head(4)\n",
    "# Print statement to be turned to buttons\n",
    "print(color.BOLD + 'Glabal Covid 19 Virus statistics as at: '\n",
    "      + color.END,df.Date[1])\n",
    "print(color.BOLD + color.UNDERLINE +'Total Confirmed Cases: ' \n",
    "      + color.END ,'\\n','Number of cases', tot_cases)\n",
    "print(color.BOLD + color.UNDERLINE +'Recoveries World wide: ' \n",
    "      + color.END ,'\\n','Number of cases', tot_recover)\n",
    "print(color.BOLD + color.UNDERLINE +'Total Deaths: ' \n",
    "      + color.END ,'\\n','Number of cases', tot_deaths)\n",
    "\n",
    "#Displaying dataframes side by side\n",
    "from IPython.display import display_html\n",
    "def display_side_by_side(*args):\n",
    "    html_str=''\n",
    "    for df in args:\n",
    "        html_str+=df.to_html()\n",
    "    display_html(html_str.replace('table','table style=\"display:inline\"'),\n",
    "                 raw=True)\n",
    "\n",
    "display_side_by_side(df_cases ,df_death,df_recover)\n",
    "\n"
   ]
  },
  {
   "cell_type": "code",
   "execution_count": 3,
   "metadata": {},
   "outputs": [
    {
     "data": {
      "text/html": [
       "        <script type=\"text/javascript\">\n",
       "        window.PlotlyConfig = {MathJaxConfig: 'local'};\n",
       "        if (window.MathJax) {MathJax.Hub.Config({SVG: {font: \"STIX-Web\"}});}\n",
       "        if (typeof require !== 'undefined') {\n",
       "        require.undef(\"plotly\");\n",
       "        requirejs.config({\n",
       "            paths: {\n",
       "                'plotly': ['https://cdn.plot.ly/plotly-latest.min']\n",
       "            }\n",
       "        });\n",
       "        require(['plotly'], function(Plotly) {\n",
       "            window._Plotly = Plotly;\n",
       "        });\n",
       "        }\n",
       "        </script>\n",
       "        "
      ]
     },
     "metadata": {},
     "output_type": "display_data"
    },
    {
     "data": {
      "application/vnd.plotly.v1+json": {
       "config": {
        "linkText": "Export to plot.ly",
        "plotlyServerURL": "https://plot.ly",
        "showLink": false
       },
       "data": [
        {
         "autocolorscale": true,
         "colorbar": {
          "title": {
           "text": "Total Covid 19 cases"
          }
         },
         "locationmode": "country names",
         "locations": [
          "Slovenia",
          "Benin",
          "Luxembourg",
          "Myanmar",
          "Djibouti",
          "Macedonia, Republic of",
          "Brazil",
          "Honduras",
          "Malta",
          "Greenland",
          "Chile",
          "Jamaica",
          "Portugal",
          "Mauritius",
          "Christmas Island",
          "Liberia",
          "Tajikistan",
          "Turks and Caicos Islands",
          "Anguilla",
          "Japan",
          "Nauru",
          "Paraguay",
          "Malaysia",
          "Finland",
          "Serbia",
          "Tanzania, United Republic of",
          "Yemen",
          "Holy See (Vatican City State)",
          "Gabon",
          "Ethiopia",
          "French Polynesia",
          "Sweden",
          "Réunion",
          "Guinea",
          "Belize",
          "Azerbaijan",
          "Philippines",
          "Mayotte",
          "Nigeria",
          "Côte d'Ivoire",
          "Netherlands Antilles",
          "Cuba",
          "Cocos (Keeling) Islands",
          "Korea (South)",
          "Ghana",
          "Saint-Barthélemy",
          "Congo (Kinshasa)",
          "Faroe Islands",
          "Algeria",
          "Croatia",
          "Lao PDR",
          "South Sudan",
          "Virgin Islands, US",
          "Bhutan",
          "United Arab Emirates",
          "Albania",
          "Macao, SAR China",
          "Oman",
          "Nepal",
          "Netherlands",
          "Afghanistan",
          "Marshall Islands",
          "Korea (North)",
          "Mauritania",
          "Guyana",
          "Somalia",
          "Cambodia",
          "Taiwan, Republic of China",
          "Antigua and Barbuda",
          "Saint Kitts and Nevis",
          "Swaziland",
          "Pakistan",
          "Viet Nam",
          "Tokelau",
          "Thailand",
          "Papua New Guinea",
          "French Guiana",
          "Svalbard and Jan Mayen Islands",
          "Panama",
          "Lithuania",
          "Burkina Faso",
          "New Caledonia",
          "Fiji",
          "Jersey",
          "Mongolia",
          "Northern Mariana Islands",
          "Saint Vincent and Grenadines",
          "Togo",
          "Bermuda",
          "Kazakhstan",
          "Grenada",
          "Kenya",
          "Syrian Arab Republic (Syria)",
          "Liechtenstein",
          "Mozambique",
          "Namibia",
          "Moldova",
          "San Marino",
          "Colombia",
          "France",
          "Uganda",
          "Uzbekistan",
          "Austria",
          "El Salvador",
          "Bahamas",
          "Tonga",
          "Saint Lucia",
          "China",
          "Indonesia",
          "South Africa",
          "Republic of Kosovo",
          "Mali",
          "Central African Republic",
          "Hong Kong, SAR China",
          "Armenia",
          "Sierra Leone",
          "Canada",
          "Congo (Brazzaville)",
          "Dominican Republic",
          "Lebanon",
          "Chad",
          "Western Sahara",
          "Turkmenistan",
          "Barbados",
          "Saint Pierre and Miquelon",
          "Lesotho",
          "Libya",
          "Suriname",
          "Cayman Islands",
          "Estonia",
          "Sri Lanka",
          "Singapore",
          "Isle of Man",
          "Guadeloupe",
          "Gibraltar",
          "Morocco",
          "Iraq",
          "Maldives",
          "Gambia",
          "Switzerland",
          "Uruguay",
          "Antarctica",
          "Bangladesh",
          "Martinique",
          "Sudan",
          "Australia",
          "Saudi Arabia",
          "Niue",
          "Cyprus",
          "Ukraine",
          "Denmark",
          "United Kingdom",
          "Venezuela (Bolivarian Republic)",
          "Palau",
          "Zimbabwe",
          "Zambia",
          "Timor-Leste",
          "Micronesia, Federated States of",
          "Guam",
          "Egypt",
          "Argentina",
          "Bulgaria",
          "Georgia",
          "Iceland",
          "Pitcairn",
          "Germany",
          "Comoros",
          "Israel",
          "Slovakia",
          "Peru",
          "Wallis and Futuna Islands",
          "Dominica",
          "Seychelles",
          "Heard and Mcdonald Islands",
          "Norway",
          "Cameroon",
          "Cape Verde",
          "American Samoa",
          "Madagascar",
          "Czech Republic",
          "Norfolk Island",
          "Kyrgyzstan",
          "Senegal",
          "US Minor Outlying Islands",
          "Montserrat",
          "Iran, Islamic Republic of",
          "Bolivia",
          "Bouvet Island",
          "Montenegro",
          "Turkey",
          "Kuwait",
          "Solomon Islands",
          "Puerto Rico",
          "Angola",
          "Eritrea",
          "New Zealand",
          "Belarus",
          "Brunei Darussalam",
          "Mexico",
          "Burundi",
          "French Southern Territories",
          "Nicaragua",
          "Tunisia",
          "Greece",
          "Saint-Martin (French part)",
          "Cook Islands",
          "Trinidad and Tobago",
          "Malawi",
          "Costa Rica",
          "Niger",
          "Falkland Islands (Malvinas)",
          "Guatemala",
          "Ecuador",
          "Russian Federation",
          "Belgium",
          "Jordan",
          "Samoa",
          "Qatar",
          "Bahrain",
          "Sao Tome and Principe",
          "Palestinian Territory",
          "Monaco",
          "South Georgia and the South Sandwich Islands",
          "Guernsey",
          "Spain",
          "Botswana",
          "Aruba",
          "Haiti",
          "Equatorial Guinea",
          "Italy",
          "India",
          "Saint Helena",
          "British Virgin Islands",
          "British Indian Ocean Territory",
          "United States of America",
          "Guinea-Bissau",
          "Hungary",
          "Andorra",
          "Bosnia and Herzegovina",
          "Ireland",
          "Rwanda",
          "Poland",
          "Kiribati",
          "Vanuatu",
          "Romania"
         ],
         "marker": {
          "line": {
           "color": "rgb(255,255,255)",
           "width": 2
          }
         },
         "type": "choropleth",
         "z": [
          934,
          16,
          2612,
          20,
          49,
          430,
          9056,
          222,
          202,
          0,
          3737,
          47,
          9886,
          186,
          0,
          7,
          0,
          0,
          0,
          2617,
          0,
          92,
          3333,
          1615,
          1476,
          20,
          0,
          7,
          21,
          35,
          0,
          6131,
          0,
          73,
          4,
          443,
          3018,
          0,
          210,
          218,
          0,
          269,
          0,
          10062,
          205,
          0,
          134,
          0,
          1171,
          1079,
          10,
          0,
          0,
          5,
          1264,
          304,
          0,
          252,
          6,
          15821,
          281,
          0,
          0,
          6,
          23,
          7,
          114,
          348,
          15,
          9,
          9,
          2686,
          237,
          0,
          1978,
          1,
          0,
          0,
          1475,
          696,
          302,
          0,
          7,
          0,
          14,
          0,
          3,
          40,
          0,
          464,
          12,
          122,
          16,
          75,
          10,
          14,
          591,
          245,
          1267,
          65202,
          48,
          227,
          11524,
          46,
          24,
          0,
          13,
          82511,
          1986,
          1505,
          126,
          39,
          8,
          0,
          736,
          2,
          12437,
          22,
          1488,
          508,
          8,
          0,
          0,
          51,
          0,
          0,
          11,
          10,
          0,
          961,
          159,
          1114,
          0,
          0,
          0,
          791,
          820,
          19,
          4,
          19606,
          369,
          0,
          61,
          0,
          10,
          5330,
          2039,
          0,
          396,
          1072,
          3946,
          38689,
          153,
          0,
          9,
          39,
          1,
          0,
          0,
          985,
          1265,
          485,
          155,
          1364,
          0,
          91159,
          0,
          7428,
          450,
          1595,
          0,
          12,
          10,
          0,
          5370,
          509,
          6,
          0,
          70,
          4091,
          0,
          130,
          207,
          0,
          0,
          53183,
          132,
          0,
          174,
          20921,
          417,
          0,
          0,
          8,
          22,
          868,
          351,
          134,
          1510,
          3,
          0,
          5,
          495,
          1613,
          0,
          0,
          98,
          3,
          416,
          120,
          0,
          50,
          3368,
          4149,
          16770,
          310,
          0,
          1075,
          672,
          0,
          194,
          64,
          0,
          0,
          119199,
          4,
          0,
          18,
          16,
          119827,
          2567,
          0,
          0,
          0,
          275582,
          15,
          623,
          439,
          579,
          4273,
          89,
          3383,
          0,
          0,
          3183
         ]
        }
       ],
       "layout": {
        "autosize": true,
        "template": {
         "data": {
          "bar": [
           {
            "error_x": {
             "color": "#2a3f5f"
            },
            "error_y": {
             "color": "#2a3f5f"
            },
            "marker": {
             "line": {
              "color": "#E5ECF6",
              "width": 0.5
             }
            },
            "type": "bar"
           }
          ],
          "barpolar": [
           {
            "marker": {
             "line": {
              "color": "#E5ECF6",
              "width": 0.5
             }
            },
            "type": "barpolar"
           }
          ],
          "carpet": [
           {
            "aaxis": {
             "endlinecolor": "#2a3f5f",
             "gridcolor": "white",
             "linecolor": "white",
             "minorgridcolor": "white",
             "startlinecolor": "#2a3f5f"
            },
            "baxis": {
             "endlinecolor": "#2a3f5f",
             "gridcolor": "white",
             "linecolor": "white",
             "minorgridcolor": "white",
             "startlinecolor": "#2a3f5f"
            },
            "type": "carpet"
           }
          ],
          "choropleth": [
           {
            "colorbar": {
             "outlinewidth": 0,
             "ticks": ""
            },
            "type": "choropleth"
           }
          ],
          "contour": [
           {
            "colorbar": {
             "outlinewidth": 0,
             "ticks": ""
            },
            "colorscale": [
             [
              0,
              "#0d0887"
             ],
             [
              0.1111111111111111,
              "#46039f"
             ],
             [
              0.2222222222222222,
              "#7201a8"
             ],
             [
              0.3333333333333333,
              "#9c179e"
             ],
             [
              0.4444444444444444,
              "#bd3786"
             ],
             [
              0.5555555555555556,
              "#d8576b"
             ],
             [
              0.6666666666666666,
              "#ed7953"
             ],
             [
              0.7777777777777778,
              "#fb9f3a"
             ],
             [
              0.8888888888888888,
              "#fdca26"
             ],
             [
              1,
              "#f0f921"
             ]
            ],
            "type": "contour"
           }
          ],
          "contourcarpet": [
           {
            "colorbar": {
             "outlinewidth": 0,
             "ticks": ""
            },
            "type": "contourcarpet"
           }
          ],
          "heatmap": [
           {
            "colorbar": {
             "outlinewidth": 0,
             "ticks": ""
            },
            "colorscale": [
             [
              0,
              "#0d0887"
             ],
             [
              0.1111111111111111,
              "#46039f"
             ],
             [
              0.2222222222222222,
              "#7201a8"
             ],
             [
              0.3333333333333333,
              "#9c179e"
             ],
             [
              0.4444444444444444,
              "#bd3786"
             ],
             [
              0.5555555555555556,
              "#d8576b"
             ],
             [
              0.6666666666666666,
              "#ed7953"
             ],
             [
              0.7777777777777778,
              "#fb9f3a"
             ],
             [
              0.8888888888888888,
              "#fdca26"
             ],
             [
              1,
              "#f0f921"
             ]
            ],
            "type": "heatmap"
           }
          ],
          "heatmapgl": [
           {
            "colorbar": {
             "outlinewidth": 0,
             "ticks": ""
            },
            "colorscale": [
             [
              0,
              "#0d0887"
             ],
             [
              0.1111111111111111,
              "#46039f"
             ],
             [
              0.2222222222222222,
              "#7201a8"
             ],
             [
              0.3333333333333333,
              "#9c179e"
             ],
             [
              0.4444444444444444,
              "#bd3786"
             ],
             [
              0.5555555555555556,
              "#d8576b"
             ],
             [
              0.6666666666666666,
              "#ed7953"
             ],
             [
              0.7777777777777778,
              "#fb9f3a"
             ],
             [
              0.8888888888888888,
              "#fdca26"
             ],
             [
              1,
              "#f0f921"
             ]
            ],
            "type": "heatmapgl"
           }
          ],
          "histogram": [
           {
            "marker": {
             "colorbar": {
              "outlinewidth": 0,
              "ticks": ""
             }
            },
            "type": "histogram"
           }
          ],
          "histogram2d": [
           {
            "colorbar": {
             "outlinewidth": 0,
             "ticks": ""
            },
            "colorscale": [
             [
              0,
              "#0d0887"
             ],
             [
              0.1111111111111111,
              "#46039f"
             ],
             [
              0.2222222222222222,
              "#7201a8"
             ],
             [
              0.3333333333333333,
              "#9c179e"
             ],
             [
              0.4444444444444444,
              "#bd3786"
             ],
             [
              0.5555555555555556,
              "#d8576b"
             ],
             [
              0.6666666666666666,
              "#ed7953"
             ],
             [
              0.7777777777777778,
              "#fb9f3a"
             ],
             [
              0.8888888888888888,
              "#fdca26"
             ],
             [
              1,
              "#f0f921"
             ]
            ],
            "type": "histogram2d"
           }
          ],
          "histogram2dcontour": [
           {
            "colorbar": {
             "outlinewidth": 0,
             "ticks": ""
            },
            "colorscale": [
             [
              0,
              "#0d0887"
             ],
             [
              0.1111111111111111,
              "#46039f"
             ],
             [
              0.2222222222222222,
              "#7201a8"
             ],
             [
              0.3333333333333333,
              "#9c179e"
             ],
             [
              0.4444444444444444,
              "#bd3786"
             ],
             [
              0.5555555555555556,
              "#d8576b"
             ],
             [
              0.6666666666666666,
              "#ed7953"
             ],
             [
              0.7777777777777778,
              "#fb9f3a"
             ],
             [
              0.8888888888888888,
              "#fdca26"
             ],
             [
              1,
              "#f0f921"
             ]
            ],
            "type": "histogram2dcontour"
           }
          ],
          "mesh3d": [
           {
            "colorbar": {
             "outlinewidth": 0,
             "ticks": ""
            },
            "type": "mesh3d"
           }
          ],
          "parcoords": [
           {
            "line": {
             "colorbar": {
              "outlinewidth": 0,
              "ticks": ""
             }
            },
            "type": "parcoords"
           }
          ],
          "pie": [
           {
            "automargin": true,
            "type": "pie"
           }
          ],
          "scatter": [
           {
            "marker": {
             "colorbar": {
              "outlinewidth": 0,
              "ticks": ""
             }
            },
            "type": "scatter"
           }
          ],
          "scatter3d": [
           {
            "line": {
             "colorbar": {
              "outlinewidth": 0,
              "ticks": ""
             }
            },
            "marker": {
             "colorbar": {
              "outlinewidth": 0,
              "ticks": ""
             }
            },
            "type": "scatter3d"
           }
          ],
          "scattercarpet": [
           {
            "marker": {
             "colorbar": {
              "outlinewidth": 0,
              "ticks": ""
             }
            },
            "type": "scattercarpet"
           }
          ],
          "scattergeo": [
           {
            "marker": {
             "colorbar": {
              "outlinewidth": 0,
              "ticks": ""
             }
            },
            "type": "scattergeo"
           }
          ],
          "scattergl": [
           {
            "marker": {
             "colorbar": {
              "outlinewidth": 0,
              "ticks": ""
             }
            },
            "type": "scattergl"
           }
          ],
          "scattermapbox": [
           {
            "marker": {
             "colorbar": {
              "outlinewidth": 0,
              "ticks": ""
             }
            },
            "type": "scattermapbox"
           }
          ],
          "scatterpolar": [
           {
            "marker": {
             "colorbar": {
              "outlinewidth": 0,
              "ticks": ""
             }
            },
            "type": "scatterpolar"
           }
          ],
          "scatterpolargl": [
           {
            "marker": {
             "colorbar": {
              "outlinewidth": 0,
              "ticks": ""
             }
            },
            "type": "scatterpolargl"
           }
          ],
          "scatterternary": [
           {
            "marker": {
             "colorbar": {
              "outlinewidth": 0,
              "ticks": ""
             }
            },
            "type": "scatterternary"
           }
          ],
          "surface": [
           {
            "colorbar": {
             "outlinewidth": 0,
             "ticks": ""
            },
            "colorscale": [
             [
              0,
              "#0d0887"
             ],
             [
              0.1111111111111111,
              "#46039f"
             ],
             [
              0.2222222222222222,
              "#7201a8"
             ],
             [
              0.3333333333333333,
              "#9c179e"
             ],
             [
              0.4444444444444444,
              "#bd3786"
             ],
             [
              0.5555555555555556,
              "#d8576b"
             ],
             [
              0.6666666666666666,
              "#ed7953"
             ],
             [
              0.7777777777777778,
              "#fb9f3a"
             ],
             [
              0.8888888888888888,
              "#fdca26"
             ],
             [
              1,
              "#f0f921"
             ]
            ],
            "type": "surface"
           }
          ],
          "table": [
           {
            "cells": {
             "fill": {
              "color": "#EBF0F8"
             },
             "line": {
              "color": "white"
             }
            },
            "header": {
             "fill": {
              "color": "#C8D4E3"
             },
             "line": {
              "color": "white"
             }
            },
            "type": "table"
           }
          ]
         },
         "layout": {
          "annotationdefaults": {
           "arrowcolor": "#2a3f5f",
           "arrowhead": 0,
           "arrowwidth": 1
          },
          "coloraxis": {
           "colorbar": {
            "outlinewidth": 0,
            "ticks": ""
           }
          },
          "colorscale": {
           "diverging": [
            [
             0,
             "#8e0152"
            ],
            [
             0.1,
             "#c51b7d"
            ],
            [
             0.2,
             "#de77ae"
            ],
            [
             0.3,
             "#f1b6da"
            ],
            [
             0.4,
             "#fde0ef"
            ],
            [
             0.5,
             "#f7f7f7"
            ],
            [
             0.6,
             "#e6f5d0"
            ],
            [
             0.7,
             "#b8e186"
            ],
            [
             0.8,
             "#7fbc41"
            ],
            [
             0.9,
             "#4d9221"
            ],
            [
             1,
             "#276419"
            ]
           ],
           "sequential": [
            [
             0,
             "#0d0887"
            ],
            [
             0.1111111111111111,
             "#46039f"
            ],
            [
             0.2222222222222222,
             "#7201a8"
            ],
            [
             0.3333333333333333,
             "#9c179e"
            ],
            [
             0.4444444444444444,
             "#bd3786"
            ],
            [
             0.5555555555555556,
             "#d8576b"
            ],
            [
             0.6666666666666666,
             "#ed7953"
            ],
            [
             0.7777777777777778,
             "#fb9f3a"
            ],
            [
             0.8888888888888888,
             "#fdca26"
            ],
            [
             1,
             "#f0f921"
            ]
           ],
           "sequentialminus": [
            [
             0,
             "#0d0887"
            ],
            [
             0.1111111111111111,
             "#46039f"
            ],
            [
             0.2222222222222222,
             "#7201a8"
            ],
            [
             0.3333333333333333,
             "#9c179e"
            ],
            [
             0.4444444444444444,
             "#bd3786"
            ],
            [
             0.5555555555555556,
             "#d8576b"
            ],
            [
             0.6666666666666666,
             "#ed7953"
            ],
            [
             0.7777777777777778,
             "#fb9f3a"
            ],
            [
             0.8888888888888888,
             "#fdca26"
            ],
            [
             1,
             "#f0f921"
            ]
           ]
          },
          "colorway": [
           "#636efa",
           "#EF553B",
           "#00cc96",
           "#ab63fa",
           "#FFA15A",
           "#19d3f3",
           "#FF6692",
           "#B6E880",
           "#FF97FF",
           "#FECB52"
          ],
          "font": {
           "color": "#2a3f5f"
          },
          "geo": {
           "bgcolor": "white",
           "lakecolor": "white",
           "landcolor": "#E5ECF6",
           "showlakes": true,
           "showland": true,
           "subunitcolor": "white"
          },
          "hoverlabel": {
           "align": "left"
          },
          "hovermode": "closest",
          "mapbox": {
           "style": "light"
          },
          "paper_bgcolor": "white",
          "plot_bgcolor": "#E5ECF6",
          "polar": {
           "angularaxis": {
            "gridcolor": "white",
            "linecolor": "white",
            "ticks": ""
           },
           "bgcolor": "#E5ECF6",
           "radialaxis": {
            "gridcolor": "white",
            "linecolor": "white",
            "ticks": ""
           }
          },
          "scene": {
           "xaxis": {
            "backgroundcolor": "#E5ECF6",
            "gridcolor": "white",
            "gridwidth": 2,
            "linecolor": "white",
            "showbackground": true,
            "ticks": "",
            "zerolinecolor": "white"
           },
           "yaxis": {
            "backgroundcolor": "#E5ECF6",
            "gridcolor": "white",
            "gridwidth": 2,
            "linecolor": "white",
            "showbackground": true,
            "ticks": "",
            "zerolinecolor": "white"
           },
           "zaxis": {
            "backgroundcolor": "#E5ECF6",
            "gridcolor": "white",
            "gridwidth": 2,
            "linecolor": "white",
            "showbackground": true,
            "ticks": "",
            "zerolinecolor": "white"
           }
          },
          "shapedefaults": {
           "line": {
            "color": "#2a3f5f"
           }
          },
          "ternary": {
           "aaxis": {
            "gridcolor": "white",
            "linecolor": "white",
            "ticks": ""
           },
           "baxis": {
            "gridcolor": "white",
            "linecolor": "white",
            "ticks": ""
           },
           "bgcolor": "#E5ECF6",
           "caxis": {
            "gridcolor": "white",
            "linecolor": "white",
            "ticks": ""
           }
          },
          "title": {
           "x": 0.05
          },
          "xaxis": {
           "automargin": true,
           "gridcolor": "white",
           "linecolor": "white",
           "ticks": "",
           "title": {
            "standoff": 15
           },
           "zerolinecolor": "white",
           "zerolinewidth": 2
          },
          "yaxis": {
           "automargin": true,
           "gridcolor": "white",
           "linecolor": "white",
           "ticks": "",
           "title": {
            "standoff": 15
           },
           "zerolinecolor": "white",
           "zerolinewidth": 2
          }
         }
        },
        "title": {
         "text": "Confirmed Cases Around the World"
        }
       }
      },
      "text/html": [
       "<div>\n",
       "        \n",
       "        \n",
       "            <div id=\"249fa660-ffca-4347-9abf-65659905854a\" class=\"plotly-graph-div\" style=\"height:525px; width:100%;\"></div>\n",
       "            <script type=\"text/javascript\">\n",
       "                require([\"plotly\"], function(Plotly) {\n",
       "                    window.PLOTLYENV=window.PLOTLYENV || {};\n",
       "                    \n",
       "                if (document.getElementById(\"249fa660-ffca-4347-9abf-65659905854a\")) {\n",
       "                    Plotly.newPlot(\n",
       "                        '249fa660-ffca-4347-9abf-65659905854a',\n",
       "                        [{\"autocolorscale\": true, \"colorbar\": {\"title\": {\"text\": \"Total Covid 19 cases\"}}, \"locationmode\": \"country names\", \"locations\": [\"Slovenia\", \"Benin\", \"Luxembourg\", \"Myanmar\", \"Djibouti\", \"Macedonia, Republic of\", \"Brazil\", \"Honduras\", \"Malta\", \"Greenland\", \"Chile\", \"Jamaica\", \"Portugal\", \"Mauritius\", \"Christmas Island\", \"Liberia\", \"Tajikistan\", \"Turks and Caicos Islands\", \"Anguilla\", \"Japan\", \"Nauru\", \"Paraguay\", \"Malaysia\", \"Finland\", \"Serbia\", \"Tanzania, United Republic of\", \"Yemen\", \"Holy See (Vatican City State)\", \"Gabon\", \"Ethiopia\", \"French Polynesia\", \"Sweden\", \"R\\u00e9union\", \"Guinea\", \"Belize\", \"Azerbaijan\", \"Philippines\", \"Mayotte\", \"Nigeria\", \"C\\u00f4te d'Ivoire\", \"Netherlands Antilles\", \"Cuba\", \"Cocos (Keeling) Islands\", \"Korea (South)\", \"Ghana\", \"Saint-Barth\\u00e9lemy\", \"Congo (Kinshasa)\", \"Faroe Islands\", \"Algeria\", \"Croatia\", \"Lao PDR\", \"South Sudan\", \"Virgin Islands, US\", \"Bhutan\", \"United Arab Emirates\", \"Albania\", \"Macao, SAR China\", \"Oman\", \"Nepal\", \"Netherlands\", \"Afghanistan\", \"Marshall Islands\", \"Korea (North)\", \"Mauritania\", \"Guyana\", \"Somalia\", \"Cambodia\", \"Taiwan, Republic of China\", \"Antigua and Barbuda\", \"Saint Kitts and Nevis\", \"Swaziland\", \"Pakistan\", \"Viet Nam\", \"Tokelau\", \"Thailand\", \"Papua New Guinea\", \"French Guiana\", \"Svalbard and Jan Mayen Islands\", \"Panama\", \"Lithuania\", \"Burkina Faso\", \"New Caledonia\", \"Fiji\", \"Jersey\", \"Mongolia\", \"Northern Mariana Islands\", \"Saint Vincent and Grenadines\", \"Togo\", \"Bermuda\", \"Kazakhstan\", \"Grenada\", \"Kenya\", \"Syrian Arab Republic (Syria)\", \"Liechtenstein\", \"Mozambique\", \"Namibia\", \"Moldova\", \"San Marino\", \"Colombia\", \"France\", \"Uganda\", \"Uzbekistan\", \"Austria\", \"El Salvador\", \"Bahamas\", \"Tonga\", \"Saint Lucia\", \"China\", \"Indonesia\", \"South Africa\", \"Republic of Kosovo\", \"Mali\", \"Central African Republic\", \"Hong Kong, SAR China\", \"Armenia\", \"Sierra Leone\", \"Canada\", \"Congo (Brazzaville)\", \"Dominican Republic\", \"Lebanon\", \"Chad\", \"Western Sahara\", \"Turkmenistan\", \"Barbados\", \"Saint Pierre and Miquelon\", \"Lesotho\", \"Libya\", \"Suriname\", \"Cayman Islands\", \"Estonia\", \"Sri Lanka\", \"Singapore\", \"Isle of Man\", \"Guadeloupe\", \"Gibraltar\", \"Morocco\", \"Iraq\", \"Maldives\", \"Gambia\", \"Switzerland\", \"Uruguay\", \"Antarctica\", \"Bangladesh\", \"Martinique\", \"Sudan\", \"Australia\", \"Saudi Arabia\", \"Niue\", \"Cyprus\", \"Ukraine\", \"Denmark\", \"United Kingdom\", \"Venezuela (Bolivarian Republic)\", \"Palau\", \"Zimbabwe\", \"Zambia\", \"Timor-Leste\", \"Micronesia, Federated States of\", \"Guam\", \"Egypt\", \"Argentina\", \"Bulgaria\", \"Georgia\", \"Iceland\", \"Pitcairn\", \"Germany\", \"Comoros\", \"Israel\", \"Slovakia\", \"Peru\", \"Wallis and Futuna Islands\", \"Dominica\", \"Seychelles\", \"Heard and Mcdonald Islands\", \"Norway\", \"Cameroon\", \"Cape Verde\", \"American Samoa\", \"Madagascar\", \"Czech Republic\", \"Norfolk Island\", \"Kyrgyzstan\", \"Senegal\", \"US Minor Outlying Islands\", \"Montserrat\", \"Iran, Islamic Republic of\", \"Bolivia\", \"Bouvet Island\", \"Montenegro\", \"Turkey\", \"Kuwait\", \"Solomon Islands\", \"Puerto Rico\", \"Angola\", \"Eritrea\", \"New Zealand\", \"Belarus\", \"Brunei Darussalam\", \"Mexico\", \"Burundi\", \"French Southern Territories\", \"Nicaragua\", \"Tunisia\", \"Greece\", \"Saint-Martin (French part)\", \"Cook Islands\", \"Trinidad and Tobago\", \"Malawi\", \"Costa Rica\", \"Niger\", \"Falkland Islands (Malvinas)\", \"Guatemala\", \"Ecuador\", \"Russian Federation\", \"Belgium\", \"Jordan\", \"Samoa\", \"Qatar\", \"Bahrain\", \"Sao Tome and Principe\", \"Palestinian Territory\", \"Monaco\", \"South Georgia and the South Sandwich Islands\", \"Guernsey\", \"Spain\", \"Botswana\", \"Aruba\", \"Haiti\", \"Equatorial Guinea\", \"Italy\", \"India\", \"Saint Helena\", \"British Virgin Islands\", \"British Indian Ocean Territory\", \"United States of America\", \"Guinea-Bissau\", \"Hungary\", \"Andorra\", \"Bosnia and Herzegovina\", \"Ireland\", \"Rwanda\", \"Poland\", \"Kiribati\", \"Vanuatu\", \"Romania\"], \"marker\": {\"line\": {\"color\": \"rgb(255,255,255)\", \"width\": 2}}, \"type\": \"choropleth\", \"z\": [934, 16, 2612, 20, 49, 430, 9056, 222, 202, 0, 3737, 47, 9886, 186, 0, 7, 0, 0, 0, 2617, 0, 92, 3333, 1615, 1476, 20, 0, 7, 21, 35, 0, 6131, 0, 73, 4, 443, 3018, 0, 210, 218, 0, 269, 0, 10062, 205, 0, 134, 0, 1171, 1079, 10, 0, 0, 5, 1264, 304, 0, 252, 6, 15821, 281, 0, 0, 6, 23, 7, 114, 348, 15, 9, 9, 2686, 237, 0, 1978, 1, 0, 0, 1475, 696, 302, 0, 7, 0, 14, 0, 3, 40, 0, 464, 12, 122, 16, 75, 10, 14, 591, 245, 1267, 65202, 48, 227, 11524, 46, 24, 0, 13, 82511, 1986, 1505, 126, 39, 8, 0, 736, 2, 12437, 22, 1488, 508, 8, 0, 0, 51, 0, 0, 11, 10, 0, 961, 159, 1114, 0, 0, 0, 791, 820, 19, 4, 19606, 369, 0, 61, 0, 10, 5330, 2039, 0, 396, 1072, 3946, 38689, 153, 0, 9, 39, 1, 0, 0, 985, 1265, 485, 155, 1364, 0, 91159, 0, 7428, 450, 1595, 0, 12, 10, 0, 5370, 509, 6, 0, 70, 4091, 0, 130, 207, 0, 0, 53183, 132, 0, 174, 20921, 417, 0, 0, 8, 22, 868, 351, 134, 1510, 3, 0, 5, 495, 1613, 0, 0, 98, 3, 416, 120, 0, 50, 3368, 4149, 16770, 310, 0, 1075, 672, 0, 194, 64, 0, 0, 119199, 4, 0, 18, 16, 119827, 2567, 0, 0, 0, 275582, 15, 623, 439, 579, 4273, 89, 3383, 0, 0, 3183]}],\n",
       "                        {\"autosize\": true, \"template\": {\"data\": {\"bar\": [{\"error_x\": {\"color\": \"#2a3f5f\"}, \"error_y\": {\"color\": \"#2a3f5f\"}, \"marker\": {\"line\": {\"color\": \"#E5ECF6\", \"width\": 0.5}}, \"type\": \"bar\"}], \"barpolar\": [{\"marker\": {\"line\": {\"color\": \"#E5ECF6\", \"width\": 0.5}}, \"type\": \"barpolar\"}], \"carpet\": [{\"aaxis\": {\"endlinecolor\": \"#2a3f5f\", \"gridcolor\": \"white\", \"linecolor\": \"white\", \"minorgridcolor\": \"white\", \"startlinecolor\": \"#2a3f5f\"}, \"baxis\": {\"endlinecolor\": \"#2a3f5f\", \"gridcolor\": \"white\", \"linecolor\": \"white\", \"minorgridcolor\": \"white\", \"startlinecolor\": \"#2a3f5f\"}, \"type\": \"carpet\"}], \"choropleth\": [{\"colorbar\": {\"outlinewidth\": 0, \"ticks\": \"\"}, \"type\": \"choropleth\"}], \"contour\": [{\"colorbar\": {\"outlinewidth\": 0, \"ticks\": \"\"}, \"colorscale\": [[0.0, \"#0d0887\"], [0.1111111111111111, \"#46039f\"], [0.2222222222222222, \"#7201a8\"], [0.3333333333333333, \"#9c179e\"], [0.4444444444444444, \"#bd3786\"], [0.5555555555555556, \"#d8576b\"], [0.6666666666666666, \"#ed7953\"], [0.7777777777777778, \"#fb9f3a\"], [0.8888888888888888, \"#fdca26\"], [1.0, \"#f0f921\"]], \"type\": \"contour\"}], \"contourcarpet\": [{\"colorbar\": {\"outlinewidth\": 0, \"ticks\": \"\"}, \"type\": \"contourcarpet\"}], \"heatmap\": [{\"colorbar\": {\"outlinewidth\": 0, \"ticks\": \"\"}, \"colorscale\": [[0.0, \"#0d0887\"], [0.1111111111111111, \"#46039f\"], [0.2222222222222222, \"#7201a8\"], [0.3333333333333333, \"#9c179e\"], [0.4444444444444444, \"#bd3786\"], [0.5555555555555556, \"#d8576b\"], [0.6666666666666666, \"#ed7953\"], [0.7777777777777778, \"#fb9f3a\"], [0.8888888888888888, \"#fdca26\"], [1.0, \"#f0f921\"]], \"type\": \"heatmap\"}], \"heatmapgl\": [{\"colorbar\": {\"outlinewidth\": 0, \"ticks\": \"\"}, \"colorscale\": [[0.0, \"#0d0887\"], [0.1111111111111111, \"#46039f\"], [0.2222222222222222, \"#7201a8\"], [0.3333333333333333, \"#9c179e\"], [0.4444444444444444, \"#bd3786\"], [0.5555555555555556, \"#d8576b\"], [0.6666666666666666, \"#ed7953\"], [0.7777777777777778, \"#fb9f3a\"], [0.8888888888888888, \"#fdca26\"], [1.0, \"#f0f921\"]], \"type\": \"heatmapgl\"}], \"histogram\": [{\"marker\": {\"colorbar\": {\"outlinewidth\": 0, \"ticks\": \"\"}}, \"type\": \"histogram\"}], \"histogram2d\": [{\"colorbar\": {\"outlinewidth\": 0, \"ticks\": \"\"}, \"colorscale\": [[0.0, \"#0d0887\"], [0.1111111111111111, \"#46039f\"], [0.2222222222222222, \"#7201a8\"], [0.3333333333333333, \"#9c179e\"], [0.4444444444444444, \"#bd3786\"], [0.5555555555555556, \"#d8576b\"], [0.6666666666666666, \"#ed7953\"], [0.7777777777777778, \"#fb9f3a\"], [0.8888888888888888, \"#fdca26\"], [1.0, \"#f0f921\"]], \"type\": \"histogram2d\"}], \"histogram2dcontour\": [{\"colorbar\": {\"outlinewidth\": 0, \"ticks\": \"\"}, \"colorscale\": [[0.0, \"#0d0887\"], [0.1111111111111111, \"#46039f\"], [0.2222222222222222, \"#7201a8\"], [0.3333333333333333, \"#9c179e\"], [0.4444444444444444, \"#bd3786\"], [0.5555555555555556, \"#d8576b\"], [0.6666666666666666, \"#ed7953\"], [0.7777777777777778, \"#fb9f3a\"], [0.8888888888888888, \"#fdca26\"], [1.0, \"#f0f921\"]], \"type\": \"histogram2dcontour\"}], \"mesh3d\": [{\"colorbar\": {\"outlinewidth\": 0, \"ticks\": \"\"}, \"type\": \"mesh3d\"}], \"parcoords\": [{\"line\": {\"colorbar\": {\"outlinewidth\": 0, \"ticks\": \"\"}}, \"type\": \"parcoords\"}], \"pie\": [{\"automargin\": true, \"type\": \"pie\"}], \"scatter\": [{\"marker\": {\"colorbar\": {\"outlinewidth\": 0, \"ticks\": \"\"}}, \"type\": \"scatter\"}], \"scatter3d\": [{\"line\": {\"colorbar\": {\"outlinewidth\": 0, \"ticks\": \"\"}}, \"marker\": {\"colorbar\": {\"outlinewidth\": 0, \"ticks\": \"\"}}, \"type\": \"scatter3d\"}], \"scattercarpet\": [{\"marker\": {\"colorbar\": {\"outlinewidth\": 0, \"ticks\": \"\"}}, \"type\": \"scattercarpet\"}], \"scattergeo\": [{\"marker\": {\"colorbar\": {\"outlinewidth\": 0, \"ticks\": \"\"}}, \"type\": \"scattergeo\"}], \"scattergl\": [{\"marker\": {\"colorbar\": {\"outlinewidth\": 0, \"ticks\": \"\"}}, \"type\": \"scattergl\"}], \"scattermapbox\": [{\"marker\": {\"colorbar\": {\"outlinewidth\": 0, \"ticks\": \"\"}}, \"type\": \"scattermapbox\"}], \"scatterpolar\": [{\"marker\": {\"colorbar\": {\"outlinewidth\": 0, \"ticks\": \"\"}}, \"type\": \"scatterpolar\"}], \"scatterpolargl\": [{\"marker\": {\"colorbar\": {\"outlinewidth\": 0, \"ticks\": \"\"}}, \"type\": \"scatterpolargl\"}], \"scatterternary\": [{\"marker\": {\"colorbar\": {\"outlinewidth\": 0, \"ticks\": \"\"}}, \"type\": \"scatterternary\"}], \"surface\": [{\"colorbar\": {\"outlinewidth\": 0, \"ticks\": \"\"}, \"colorscale\": [[0.0, \"#0d0887\"], [0.1111111111111111, \"#46039f\"], [0.2222222222222222, \"#7201a8\"], [0.3333333333333333, \"#9c179e\"], [0.4444444444444444, \"#bd3786\"], [0.5555555555555556, \"#d8576b\"], [0.6666666666666666, \"#ed7953\"], [0.7777777777777778, \"#fb9f3a\"], [0.8888888888888888, \"#fdca26\"], [1.0, \"#f0f921\"]], \"type\": \"surface\"}], \"table\": [{\"cells\": {\"fill\": {\"color\": \"#EBF0F8\"}, \"line\": {\"color\": \"white\"}}, \"header\": {\"fill\": {\"color\": \"#C8D4E3\"}, \"line\": {\"color\": \"white\"}}, \"type\": \"table\"}]}, \"layout\": {\"annotationdefaults\": {\"arrowcolor\": \"#2a3f5f\", \"arrowhead\": 0, \"arrowwidth\": 1}, \"coloraxis\": {\"colorbar\": {\"outlinewidth\": 0, \"ticks\": \"\"}}, \"colorscale\": {\"diverging\": [[0, \"#8e0152\"], [0.1, \"#c51b7d\"], [0.2, \"#de77ae\"], [0.3, \"#f1b6da\"], [0.4, \"#fde0ef\"], [0.5, \"#f7f7f7\"], [0.6, \"#e6f5d0\"], [0.7, \"#b8e186\"], [0.8, \"#7fbc41\"], [0.9, \"#4d9221\"], [1, \"#276419\"]], \"sequential\": [[0.0, \"#0d0887\"], [0.1111111111111111, \"#46039f\"], [0.2222222222222222, \"#7201a8\"], [0.3333333333333333, \"#9c179e\"], [0.4444444444444444, \"#bd3786\"], [0.5555555555555556, \"#d8576b\"], [0.6666666666666666, \"#ed7953\"], [0.7777777777777778, \"#fb9f3a\"], [0.8888888888888888, \"#fdca26\"], [1.0, \"#f0f921\"]], \"sequentialminus\": [[0.0, \"#0d0887\"], [0.1111111111111111, \"#46039f\"], [0.2222222222222222, \"#7201a8\"], [0.3333333333333333, \"#9c179e\"], [0.4444444444444444, \"#bd3786\"], [0.5555555555555556, \"#d8576b\"], [0.6666666666666666, \"#ed7953\"], [0.7777777777777778, \"#fb9f3a\"], [0.8888888888888888, \"#fdca26\"], [1.0, \"#f0f921\"]]}, \"colorway\": [\"#636efa\", \"#EF553B\", \"#00cc96\", \"#ab63fa\", \"#FFA15A\", \"#19d3f3\", \"#FF6692\", \"#B6E880\", \"#FF97FF\", \"#FECB52\"], \"font\": {\"color\": \"#2a3f5f\"}, \"geo\": {\"bgcolor\": \"white\", \"lakecolor\": \"white\", \"landcolor\": \"#E5ECF6\", \"showlakes\": true, \"showland\": true, \"subunitcolor\": \"white\"}, \"hoverlabel\": {\"align\": \"left\"}, \"hovermode\": \"closest\", \"mapbox\": {\"style\": \"light\"}, \"paper_bgcolor\": \"white\", \"plot_bgcolor\": \"#E5ECF6\", \"polar\": {\"angularaxis\": {\"gridcolor\": \"white\", \"linecolor\": \"white\", \"ticks\": \"\"}, \"bgcolor\": \"#E5ECF6\", \"radialaxis\": {\"gridcolor\": \"white\", \"linecolor\": \"white\", \"ticks\": \"\"}}, \"scene\": {\"xaxis\": {\"backgroundcolor\": \"#E5ECF6\", \"gridcolor\": \"white\", \"gridwidth\": 2, \"linecolor\": \"white\", \"showbackground\": true, \"ticks\": \"\", \"zerolinecolor\": \"white\"}, \"yaxis\": {\"backgroundcolor\": \"#E5ECF6\", \"gridcolor\": \"white\", \"gridwidth\": 2, \"linecolor\": \"white\", \"showbackground\": true, \"ticks\": \"\", \"zerolinecolor\": \"white\"}, \"zaxis\": {\"backgroundcolor\": \"#E5ECF6\", \"gridcolor\": \"white\", \"gridwidth\": 2, \"linecolor\": \"white\", \"showbackground\": true, \"ticks\": \"\", \"zerolinecolor\": \"white\"}}, \"shapedefaults\": {\"line\": {\"color\": \"#2a3f5f\"}}, \"ternary\": {\"aaxis\": {\"gridcolor\": \"white\", \"linecolor\": \"white\", \"ticks\": \"\"}, \"baxis\": {\"gridcolor\": \"white\", \"linecolor\": \"white\", \"ticks\": \"\"}, \"bgcolor\": \"#E5ECF6\", \"caxis\": {\"gridcolor\": \"white\", \"linecolor\": \"white\", \"ticks\": \"\"}}, \"title\": {\"x\": 0.05}, \"xaxis\": {\"automargin\": true, \"gridcolor\": \"white\", \"linecolor\": \"white\", \"ticks\": \"\", \"title\": {\"standoff\": 15}, \"zerolinecolor\": \"white\", \"zerolinewidth\": 2}, \"yaxis\": {\"automargin\": true, \"gridcolor\": \"white\", \"linecolor\": \"white\", \"ticks\": \"\", \"title\": {\"standoff\": 15}, \"zerolinecolor\": \"white\", \"zerolinewidth\": 2}}}, \"title\": {\"text\": \"Confirmed Cases Around the World\"}},\n",
       "                        {\"responsive\": true}\n",
       "                    ).then(function(){\n",
       "                            \n",
       "var gd = document.getElementById('249fa660-ffca-4347-9abf-65659905854a');\n",
       "var x = new MutationObserver(function (mutations, observer) {{\n",
       "        var display = window.getComputedStyle(gd).display;\n",
       "        if (!display || display === 'none') {{\n",
       "            console.log([gd, 'removed!']);\n",
       "            Plotly.purge(gd);\n",
       "            observer.disconnect();\n",
       "        }}\n",
       "}});\n",
       "\n",
       "// Listen for the removal of the full notebook cells\n",
       "var notebookContainer = gd.closest('#notebook-container');\n",
       "if (notebookContainer) {{\n",
       "    x.observe(notebookContainer, {childList: true});\n",
       "}}\n",
       "\n",
       "// Listen for the clearing of the current output cell\n",
       "var outputEl = gd.closest('.output');\n",
       "if (outputEl) {{\n",
       "    x.observe(outputEl, {childList: true});\n",
       "}}\n",
       "\n",
       "                        })\n",
       "                };\n",
       "                });\n",
       "            </script>\n",
       "        </div>"
      ]
     },
     "metadata": {},
     "output_type": "display_data"
    }
   ],
   "source": [
    "\n",
    "#Geo map of Cases per country globally\n",
    "from plotly.offline import download_plotlyjs, init_notebook_mode, plot, iplot\n",
    "import plotly as py\n",
    "import plotly.graph_objs as go\n",
    "init_notebook_mode(connected=True)\n",
    "\n",
    "\n",
    "\n",
    "data = [ dict(\n",
    " type='choropleth',\n",
    " locations = df['Country'],\n",
    " autocolorscale = True,\n",
    " z = df['TotalConfirmed'],\n",
    " locationmode = 'country names',\n",
    "    \n",
    " marker = dict(\n",
    " line = dict (\n",
    " color = 'rgb(255,255,255)',\n",
    " width = 2,\n",
    " )  ),\n",
    " colorbar = dict(\n",
    " title = 'Total Covid 19 cases'\n",
    " )\n",
    " ) ]\n",
    "layout = dict(\n",
    " title = 'Confirmed Cases Around the World',\n",
    " autosize=True,\n",
    "    \n",
    ")\n",
    "fig = go.Figure(data = data, layout = layout)\n",
    "py.offline.iplot(fig)"
   ]
  }
 ],
 "metadata": {
  "kernelspec": {
   "display_name": "Python 3.7.3 64-bit ('base': conda)",
   "language": "python",
   "name": "python37364bitbaseconda82eaecb2309445e7829fb0255fef3f99"
  },
  "language_info": {
   "codemirror_mode": {
    "name": "ipython",
    "version": 3
   },
   "file_extension": ".py",
   "mimetype": "text/x-python",
   "name": "python",
   "nbconvert_exporter": "python",
   "pygments_lexer": "ipython3",
   "version": "3.7.3"
  }
 },
 "nbformat": 4,
 "nbformat_minor": 2
}
